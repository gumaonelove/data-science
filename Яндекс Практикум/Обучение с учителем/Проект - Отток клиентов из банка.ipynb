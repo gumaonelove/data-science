{
 "cells": [
  {
   "cell_type": "markdown",
   "metadata": {
    "toc": true
   },
   "source": [
    "<h1>Содержание<span class=\"tocSkip\"></span></h1>\n",
    "<div class=\"toc\"><ul class=\"toc-item\"><li><span><a href=\"#Подготовка-данных\" data-toc-modified-id=\"Подготовка-данных-1\"><span class=\"toc-item-num\">1&nbsp;&nbsp;</span>Подготовка данных</a></span><ul class=\"toc-item\"><li><span><a href=\"#Описание-столбцов\" data-toc-modified-id=\"Описание-столбцов-1.1\"><span class=\"toc-item-num\">1.1&nbsp;&nbsp;</span>Описание столбцов</a></span></li><li><span><a href=\"#Кореляция-признаков\" data-toc-modified-id=\"Кореляция-признаков-1.2\"><span class=\"toc-item-num\">1.2&nbsp;&nbsp;</span>Кореляция признаков</a></span></li><li><span><a href=\"#Распределение-признаков\" data-toc-modified-id=\"Распределение-признаков-1.3\"><span class=\"toc-item-num\">1.3&nbsp;&nbsp;</span>Распределение признаков</a></span></li></ul></li><li><span><a href=\"#Исследование-задачи\" data-toc-modified-id=\"Исследование-задачи-2\"><span class=\"toc-item-num\">2&nbsp;&nbsp;</span>Исследование задачи</a></span><ul class=\"toc-item\"><li><span><a href=\"#1.-Логистическая-регрессия\" data-toc-modified-id=\"1.-Логистическая-регрессия-2.1\"><span class=\"toc-item-num\">2.1&nbsp;&nbsp;</span>1. Логистическая регрессия</a></span></li><li><span><a href=\"#KNN\" data-toc-modified-id=\"KNN-2.2\"><span class=\"toc-item-num\">2.2&nbsp;&nbsp;</span>KNN</a></span></li><li><span><a href=\"#RandomForest\" data-toc-modified-id=\"RandomForest-2.3\"><span class=\"toc-item-num\">2.3&nbsp;&nbsp;</span>RandomForest</a></span></li><li><span><a href=\"#Catboos\" data-toc-modified-id=\"Catboos-2.4\"><span class=\"toc-item-num\">2.4&nbsp;&nbsp;</span>Catboos</a></span></li><li><span><a href=\"#Бэггинг\" data-toc-modified-id=\"Бэггинг-2.5\"><span class=\"toc-item-num\">2.5&nbsp;&nbsp;</span>Бэггинг</a></span><ul class=\"toc-item\"><li><span><a href=\"#Леса\" data-toc-modified-id=\"Леса-2.5.1\"><span class=\"toc-item-num\">2.5.1&nbsp;&nbsp;</span>Леса</a></span></li><li><span><a href=\"#Catboost\" data-toc-modified-id=\"Catboost-2.5.2\"><span class=\"toc-item-num\">2.5.2&nbsp;&nbsp;</span>Catboost</a></span></li></ul></li><li><span><a href=\"#Исследование-баланса-классов\" data-toc-modified-id=\"Исследование-баланса-классов-2.6\"><span class=\"toc-item-num\">2.6&nbsp;&nbsp;</span>Исследование баланса классов</a></span></li><li><span><a href=\"#Вывод\" data-toc-modified-id=\"Вывод-2.7\"><span class=\"toc-item-num\">2.7&nbsp;&nbsp;</span>Вывод</a></span></li></ul></li><li><span><a href=\"#Борьба-с-дисбалансом\" data-toc-modified-id=\"Борьба-с-дисбалансом-3\"><span class=\"toc-item-num\">3&nbsp;&nbsp;</span>Борьба с дисбалансом</a></span><ul class=\"toc-item\"><li><span><a href=\"#Взвешивание-классов\" data-toc-modified-id=\"Взвешивание-классов-3.1\"><span class=\"toc-item-num\">3.1&nbsp;&nbsp;</span>Взвешивание классов</a></span></li><li><span><a href=\"#Увеличение-выборки\" data-toc-modified-id=\"Увеличение-выборки-3.2\"><span class=\"toc-item-num\">3.2&nbsp;&nbsp;</span>Увеличение выборки</a></span></li><li><span><a href=\"#Уменьшение-выборки\" data-toc-modified-id=\"Уменьшение-выборки-3.3\"><span class=\"toc-item-num\">3.3&nbsp;&nbsp;</span>Уменьшение выборки</a></span></li><li><span><a href=\"#Пытаемся-повысить-качество\" data-toc-modified-id=\"Пытаемся-повысить-качество-3.4\"><span class=\"toc-item-num\">3.4&nbsp;&nbsp;</span>Пытаемся повысить качество</a></span></li></ul></li><li><span><a href=\"#Тестирование-модели\" data-toc-modified-id=\"Тестирование-модели-4\"><span class=\"toc-item-num\">4&nbsp;&nbsp;</span>Тестирование модели</a></span></li><li><span><a href=\"#Вывод\" data-toc-modified-id=\"Вывод-5\"><span class=\"toc-item-num\">5&nbsp;&nbsp;</span>Вывод</a></span></li><li><span><a href=\"#Чек-лист-готовности-проекта\" data-toc-modified-id=\"Чек-лист-готовности-проекта-6\"><span class=\"toc-item-num\">6&nbsp;&nbsp;</span>Чек-лист готовности проекта</a></span></li><li><span><a href=\"#ИТОГ\" data-toc-modified-id=\"ИТОГ-7\"><span class=\"toc-item-num\">7&nbsp;&nbsp;</span>ИТОГ</a></span></li></ul></div>"
   ]
  },
  {
   "cell_type": "markdown",
   "metadata": {},
   "source": [
    "# Отток клиентов"
   ]
  },
  {
   "cell_type": "markdown",
   "metadata": {},
   "source": [
    "Из «Бета-Банка» стали уходить клиенты. Каждый месяц. Немного, но заметно. Банковские маркетологи посчитали: сохранять текущих клиентов дешевле, чем привлекать новых.\n",
    "\n",
    "Нужно спрогнозировать, уйдёт клиент из банка в ближайшее время или нет. Вам предоставлены исторические данные о поведении клиентов и расторжении договоров с банком. \n",
    "\n",
    "Постройте модель с предельно большим значением *F1*-меры. Чтобы сдать проект успешно, нужно довести метрику до 0.59. Проверьте *F1*-меру на тестовой выборке самостоятельно.\n",
    "\n",
    "Дополнительно измеряйте *AUC-ROC*, сравнивайте её значение с *F1*-мерой.\n",
    "\n",
    "Источник данных: [https://www.kaggle.com/barelydedicated/bank-customer-churn-modeling](https://www.kaggle.com/barelydedicated/bank-customer-churn-modeling)"
   ]
  },
  {
   "cell_type": "markdown",
   "metadata": {},
   "source": [
    "Imports"
   ]
  },
  {
   "cell_type": "code",
   "execution_count": 1,
   "metadata": {
    "scrolled": true
   },
   "outputs": [],
   "source": [
    "!pip install --upgrade scikit-learn -q\n",
    "!pip install optuna -q\n",
    "!pip install catboost -q"
   ]
  },
  {
   "cell_type": "code",
   "execution_count": 2,
   "metadata": {},
   "outputs": [],
   "source": [
    "import warnings\n",
    "import optuna\n",
    "\n",
    "import pandas as pd\n",
    "import seaborn as sns\n",
    "import matplotlib.pyplot as plt\n",
    "\n",
    "from sklearn import preprocessing\n",
    "from sklearn.model_selection import train_test_split\n",
    "from sklearn.metrics import classification_report, RocCurveDisplay, roc_auc_score, f1_score\n",
    "from sklearn.linear_model import LogisticRegression\n",
    "from sklearn.preprocessing import Normalizer\n",
    "from sklearn.cluster import KMeans\n",
    "from sklearn.ensemble import RandomForestClassifier, BaggingClassifier\n",
    "from sklearn.dummy import DummyClassifier\n",
    "from sklearn.utils import shuffle\n",
    "\n",
    "from catboost import CatBoostClassifier\n",
    "from optuna.samplers import TPESampler"
   ]
  },
  {
   "cell_type": "code",
   "execution_count": 3,
   "metadata": {},
   "outputs": [],
   "source": [
    "warnings.filterwarnings('ignore')\n",
    "optuna.logging.set_verbosity(optuna.logging.WARNING)"
   ]
  },
  {
   "cell_type": "markdown",
   "metadata": {},
   "source": [
    "<div class=\"alert alert-info\">\n",
    "Сделал по красоте импорты и отключил варнинги\n",
    "</div>"
   ]
  },
  {
   "cell_type": "markdown",
   "metadata": {},
   "source": [
    "## Подготовка данных"
   ]
  },
  {
   "cell_type": "code",
   "execution_count": 4,
   "metadata": {},
   "outputs": [],
   "source": [
    "data = pd.read_csv('/datasets/Churn.csv', index_col='CustomerId')"
   ]
  },
  {
   "cell_type": "code",
   "execution_count": 5,
   "metadata": {},
   "outputs": [
    {
     "name": "stdout",
     "output_type": "stream",
     "text": [
      "<class 'pandas.core.frame.DataFrame'>\n",
      "Int64Index: 10000 entries, 15634602 to 15628319\n",
      "Data columns (total 13 columns):\n",
      " #   Column           Non-Null Count  Dtype  \n",
      "---  ------           --------------  -----  \n",
      " 0   RowNumber        10000 non-null  int64  \n",
      " 1   Surname          10000 non-null  object \n",
      " 2   CreditScore      10000 non-null  int64  \n",
      " 3   Geography        10000 non-null  object \n",
      " 4   Gender           10000 non-null  object \n",
      " 5   Age              10000 non-null  int64  \n",
      " 6   Tenure           9091 non-null   float64\n",
      " 7   Balance          10000 non-null  float64\n",
      " 8   NumOfProducts    10000 non-null  int64  \n",
      " 9   HasCrCard        10000 non-null  int64  \n",
      " 10  IsActiveMember   10000 non-null  int64  \n",
      " 11  EstimatedSalary  10000 non-null  float64\n",
      " 12  Exited           10000 non-null  int64  \n",
      "dtypes: float64(3), int64(7), object(3)\n",
      "memory usage: 1.1+ MB\n"
     ]
    }
   ],
   "source": [
    "data.info()"
   ]
  },
  {
   "cell_type": "markdown",
   "metadata": {},
   "source": [
    "Имеются пропуски в столбце Tenure, заполним медианой"
   ]
  },
  {
   "cell_type": "code",
   "execution_count": 6,
   "metadata": {},
   "outputs": [],
   "source": [
    "data['Tenure'] = data['Tenure'].fillna(data['Tenure'].median())"
   ]
  },
  {
   "cell_type": "markdown",
   "metadata": {},
   "source": [
    "### Описание столбцов\n",
    "**Признаки**\n",
    "* *RowNumber* — индекс строки в данных\n",
    "* *CustomerId* — уникальный идентификатор клиента\n",
    "* *Surname* — фамилия\n",
    "* *CreditScore* — кредитный рейтинг\n",
    "* *Geography* — страна проживания\n",
    "* *Gender* — пол\n",
    "* *Age* — возраст\n",
    "* *Tenure* — сколько лет человек является клиентом банка\n",
    "* *Balance* — баланс на счёте\n",
    "* *NumOfProducts* — количество продуктов банка, используемых клиентом\n",
    "* *HasCrCard* — наличие кредитной карты\n",
    "* *IsActiveMember* — активность клиента\n",
    "* *EstimatedSalary* — предполагаемая зарплата\n",
    "\n",
    "**Целевой признак**\n",
    "* *Exited* — факт ухода клиента"
   ]
  },
  {
   "cell_type": "code",
   "execution_count": 7,
   "metadata": {},
   "outputs": [
    {
     "data": {
      "text/html": [
       "<div>\n",
       "<style scoped>\n",
       "    .dataframe tbody tr th:only-of-type {\n",
       "        vertical-align: middle;\n",
       "    }\n",
       "\n",
       "    .dataframe tbody tr th {\n",
       "        vertical-align: top;\n",
       "    }\n",
       "\n",
       "    .dataframe thead th {\n",
       "        text-align: right;\n",
       "    }\n",
       "</style>\n",
       "<table border=\"1\" class=\"dataframe\">\n",
       "  <thead>\n",
       "    <tr style=\"text-align: right;\">\n",
       "      <th></th>\n",
       "      <th>RowNumber</th>\n",
       "      <th>Surname</th>\n",
       "      <th>CreditScore</th>\n",
       "      <th>Geography</th>\n",
       "      <th>Gender</th>\n",
       "      <th>Age</th>\n",
       "      <th>Tenure</th>\n",
       "      <th>Balance</th>\n",
       "      <th>NumOfProducts</th>\n",
       "      <th>HasCrCard</th>\n",
       "      <th>IsActiveMember</th>\n",
       "      <th>EstimatedSalary</th>\n",
       "      <th>Exited</th>\n",
       "    </tr>\n",
       "    <tr>\n",
       "      <th>CustomerId</th>\n",
       "      <th></th>\n",
       "      <th></th>\n",
       "      <th></th>\n",
       "      <th></th>\n",
       "      <th></th>\n",
       "      <th></th>\n",
       "      <th></th>\n",
       "      <th></th>\n",
       "      <th></th>\n",
       "      <th></th>\n",
       "      <th></th>\n",
       "      <th></th>\n",
       "      <th></th>\n",
       "    </tr>\n",
       "  </thead>\n",
       "  <tbody>\n",
       "    <tr>\n",
       "      <th>15634602</th>\n",
       "      <td>1</td>\n",
       "      <td>Hargrave</td>\n",
       "      <td>619</td>\n",
       "      <td>France</td>\n",
       "      <td>Female</td>\n",
       "      <td>42</td>\n",
       "      <td>2.0</td>\n",
       "      <td>0.00</td>\n",
       "      <td>1</td>\n",
       "      <td>1</td>\n",
       "      <td>1</td>\n",
       "      <td>101348.88</td>\n",
       "      <td>1</td>\n",
       "    </tr>\n",
       "    <tr>\n",
       "      <th>15647311</th>\n",
       "      <td>2</td>\n",
       "      <td>Hill</td>\n",
       "      <td>608</td>\n",
       "      <td>Spain</td>\n",
       "      <td>Female</td>\n",
       "      <td>41</td>\n",
       "      <td>1.0</td>\n",
       "      <td>83807.86</td>\n",
       "      <td>1</td>\n",
       "      <td>0</td>\n",
       "      <td>1</td>\n",
       "      <td>112542.58</td>\n",
       "      <td>0</td>\n",
       "    </tr>\n",
       "    <tr>\n",
       "      <th>15619304</th>\n",
       "      <td>3</td>\n",
       "      <td>Onio</td>\n",
       "      <td>502</td>\n",
       "      <td>France</td>\n",
       "      <td>Female</td>\n",
       "      <td>42</td>\n",
       "      <td>8.0</td>\n",
       "      <td>159660.80</td>\n",
       "      <td>3</td>\n",
       "      <td>1</td>\n",
       "      <td>0</td>\n",
       "      <td>113931.57</td>\n",
       "      <td>1</td>\n",
       "    </tr>\n",
       "    <tr>\n",
       "      <th>15701354</th>\n",
       "      <td>4</td>\n",
       "      <td>Boni</td>\n",
       "      <td>699</td>\n",
       "      <td>France</td>\n",
       "      <td>Female</td>\n",
       "      <td>39</td>\n",
       "      <td>1.0</td>\n",
       "      <td>0.00</td>\n",
       "      <td>2</td>\n",
       "      <td>0</td>\n",
       "      <td>0</td>\n",
       "      <td>93826.63</td>\n",
       "      <td>0</td>\n",
       "    </tr>\n",
       "    <tr>\n",
       "      <th>15737888</th>\n",
       "      <td>5</td>\n",
       "      <td>Mitchell</td>\n",
       "      <td>850</td>\n",
       "      <td>Spain</td>\n",
       "      <td>Female</td>\n",
       "      <td>43</td>\n",
       "      <td>2.0</td>\n",
       "      <td>125510.82</td>\n",
       "      <td>1</td>\n",
       "      <td>1</td>\n",
       "      <td>1</td>\n",
       "      <td>79084.10</td>\n",
       "      <td>0</td>\n",
       "    </tr>\n",
       "  </tbody>\n",
       "</table>\n",
       "</div>"
      ],
      "text/plain": [
       "            RowNumber   Surname  CreditScore Geography  Gender  Age  Tenure  \\\n",
       "CustomerId                                                                    \n",
       "15634602            1  Hargrave          619    France  Female   42     2.0   \n",
       "15647311            2      Hill          608     Spain  Female   41     1.0   \n",
       "15619304            3      Onio          502    France  Female   42     8.0   \n",
       "15701354            4      Boni          699    France  Female   39     1.0   \n",
       "15737888            5  Mitchell          850     Spain  Female   43     2.0   \n",
       "\n",
       "              Balance  NumOfProducts  HasCrCard  IsActiveMember  \\\n",
       "CustomerId                                                        \n",
       "15634602         0.00              1          1               1   \n",
       "15647311     83807.86              1          0               1   \n",
       "15619304    159660.80              3          1               0   \n",
       "15701354         0.00              2          0               0   \n",
       "15737888    125510.82              1          1               1   \n",
       "\n",
       "            EstimatedSalary  Exited  \n",
       "CustomerId                           \n",
       "15634602          101348.88       1  \n",
       "15647311          112542.58       0  \n",
       "15619304          113931.57       1  \n",
       "15701354           93826.63       0  \n",
       "15737888           79084.10       0  "
      ]
     },
     "execution_count": 7,
     "metadata": {},
     "output_type": "execute_result"
    }
   ],
   "source": [
    "data.head()"
   ]
  },
  {
   "cell_type": "markdown",
   "metadata": {},
   "source": [
    "Столбцы имеющие строковой тип данных"
   ]
  },
  {
   "cell_type": "code",
   "execution_count": 8,
   "metadata": {},
   "outputs": [
    {
     "data": {
      "text/html": [
       "<div>\n",
       "<style scoped>\n",
       "    .dataframe tbody tr th:only-of-type {\n",
       "        vertical-align: middle;\n",
       "    }\n",
       "\n",
       "    .dataframe tbody tr th {\n",
       "        vertical-align: top;\n",
       "    }\n",
       "\n",
       "    .dataframe thead th {\n",
       "        text-align: right;\n",
       "    }\n",
       "</style>\n",
       "<table border=\"1\" class=\"dataframe\">\n",
       "  <thead>\n",
       "    <tr style=\"text-align: right;\">\n",
       "      <th></th>\n",
       "      <th>Surname</th>\n",
       "      <th>Geography</th>\n",
       "      <th>Gender</th>\n",
       "    </tr>\n",
       "  </thead>\n",
       "  <tbody>\n",
       "    <tr>\n",
       "      <th>count</th>\n",
       "      <td>10000</td>\n",
       "      <td>10000</td>\n",
       "      <td>10000</td>\n",
       "    </tr>\n",
       "    <tr>\n",
       "      <th>unique</th>\n",
       "      <td>2932</td>\n",
       "      <td>3</td>\n",
       "      <td>2</td>\n",
       "    </tr>\n",
       "    <tr>\n",
       "      <th>top</th>\n",
       "      <td>Smith</td>\n",
       "      <td>France</td>\n",
       "      <td>Male</td>\n",
       "    </tr>\n",
       "    <tr>\n",
       "      <th>freq</th>\n",
       "      <td>32</td>\n",
       "      <td>5014</td>\n",
       "      <td>5457</td>\n",
       "    </tr>\n",
       "  </tbody>\n",
       "</table>\n",
       "</div>"
      ],
      "text/plain": [
       "       Surname Geography Gender\n",
       "count    10000     10000  10000\n",
       "unique    2932         3      2\n",
       "top      Smith    France   Male\n",
       "freq        32      5014   5457"
      ]
     },
     "execution_count": 8,
     "metadata": {},
     "output_type": "execute_result"
    }
   ],
   "source": [
    "data.select_dtypes(include='object').describe()"
   ]
  },
  {
   "cell_type": "markdown",
   "metadata": {},
   "source": [
    "Удалим столбец с фамилией клиента и номером строки, тк они не имеют информационной значимости."
   ]
  },
  {
   "cell_type": "code",
   "execution_count": 9,
   "metadata": {},
   "outputs": [],
   "source": [
    "data = data.drop(columns=['Surname', 'RowNumber'])"
   ]
  },
  {
   "cell_type": "markdown",
   "metadata": {},
   "source": [
    "Выделим категориальные фичи, и закодируем их label encoder"
   ]
  },
  {
   "cell_type": "code",
   "execution_count": 10,
   "metadata": {},
   "outputs": [],
   "source": [
    "le = preprocessing.LabelEncoder()\n",
    "data['Geography'] = le.fit_transform(data['Geography'])\n",
    "data['Gender'] = le.fit_transform(data['Gender'])"
   ]
  },
  {
   "cell_type": "code",
   "execution_count": 11,
   "metadata": {},
   "outputs": [],
   "source": [
    "data['Geography'] += 1\n",
    "data['Gender'] += 1"
   ]
  },
  {
   "cell_type": "code",
   "execution_count": 12,
   "metadata": {},
   "outputs": [
    {
     "data": {
      "text/html": [
       "<div>\n",
       "<style scoped>\n",
       "    .dataframe tbody tr th:only-of-type {\n",
       "        vertical-align: middle;\n",
       "    }\n",
       "\n",
       "    .dataframe tbody tr th {\n",
       "        vertical-align: top;\n",
       "    }\n",
       "\n",
       "    .dataframe thead th {\n",
       "        text-align: right;\n",
       "    }\n",
       "</style>\n",
       "<table border=\"1\" class=\"dataframe\">\n",
       "  <thead>\n",
       "    <tr style=\"text-align: right;\">\n",
       "      <th></th>\n",
       "      <th>CreditScore</th>\n",
       "      <th>Geography</th>\n",
       "      <th>Gender</th>\n",
       "      <th>Age</th>\n",
       "      <th>Tenure</th>\n",
       "      <th>Balance</th>\n",
       "      <th>NumOfProducts</th>\n",
       "      <th>HasCrCard</th>\n",
       "      <th>IsActiveMember</th>\n",
       "      <th>EstimatedSalary</th>\n",
       "      <th>Exited</th>\n",
       "    </tr>\n",
       "    <tr>\n",
       "      <th>CustomerId</th>\n",
       "      <th></th>\n",
       "      <th></th>\n",
       "      <th></th>\n",
       "      <th></th>\n",
       "      <th></th>\n",
       "      <th></th>\n",
       "      <th></th>\n",
       "      <th></th>\n",
       "      <th></th>\n",
       "      <th></th>\n",
       "      <th></th>\n",
       "    </tr>\n",
       "  </thead>\n",
       "  <tbody>\n",
       "    <tr>\n",
       "      <th>15634602</th>\n",
       "      <td>619</td>\n",
       "      <td>1</td>\n",
       "      <td>1</td>\n",
       "      <td>42</td>\n",
       "      <td>2.0</td>\n",
       "      <td>0.00</td>\n",
       "      <td>1</td>\n",
       "      <td>1</td>\n",
       "      <td>1</td>\n",
       "      <td>101348.88</td>\n",
       "      <td>1</td>\n",
       "    </tr>\n",
       "    <tr>\n",
       "      <th>15647311</th>\n",
       "      <td>608</td>\n",
       "      <td>3</td>\n",
       "      <td>1</td>\n",
       "      <td>41</td>\n",
       "      <td>1.0</td>\n",
       "      <td>83807.86</td>\n",
       "      <td>1</td>\n",
       "      <td>0</td>\n",
       "      <td>1</td>\n",
       "      <td>112542.58</td>\n",
       "      <td>0</td>\n",
       "    </tr>\n",
       "    <tr>\n",
       "      <th>15619304</th>\n",
       "      <td>502</td>\n",
       "      <td>1</td>\n",
       "      <td>1</td>\n",
       "      <td>42</td>\n",
       "      <td>8.0</td>\n",
       "      <td>159660.80</td>\n",
       "      <td>3</td>\n",
       "      <td>1</td>\n",
       "      <td>0</td>\n",
       "      <td>113931.57</td>\n",
       "      <td>1</td>\n",
       "    </tr>\n",
       "    <tr>\n",
       "      <th>15701354</th>\n",
       "      <td>699</td>\n",
       "      <td>1</td>\n",
       "      <td>1</td>\n",
       "      <td>39</td>\n",
       "      <td>1.0</td>\n",
       "      <td>0.00</td>\n",
       "      <td>2</td>\n",
       "      <td>0</td>\n",
       "      <td>0</td>\n",
       "      <td>93826.63</td>\n",
       "      <td>0</td>\n",
       "    </tr>\n",
       "    <tr>\n",
       "      <th>15737888</th>\n",
       "      <td>850</td>\n",
       "      <td>3</td>\n",
       "      <td>1</td>\n",
       "      <td>43</td>\n",
       "      <td>2.0</td>\n",
       "      <td>125510.82</td>\n",
       "      <td>1</td>\n",
       "      <td>1</td>\n",
       "      <td>1</td>\n",
       "      <td>79084.10</td>\n",
       "      <td>0</td>\n",
       "    </tr>\n",
       "  </tbody>\n",
       "</table>\n",
       "</div>"
      ],
      "text/plain": [
       "            CreditScore  Geography  Gender  Age  Tenure    Balance  \\\n",
       "CustomerId                                                           \n",
       "15634602            619          1       1   42     2.0       0.00   \n",
       "15647311            608          3       1   41     1.0   83807.86   \n",
       "15619304            502          1       1   42     8.0  159660.80   \n",
       "15701354            699          1       1   39     1.0       0.00   \n",
       "15737888            850          3       1   43     2.0  125510.82   \n",
       "\n",
       "            NumOfProducts  HasCrCard  IsActiveMember  EstimatedSalary  Exited  \n",
       "CustomerId                                                                     \n",
       "15634602                1          1               1        101348.88       1  \n",
       "15647311                1          0               1        112542.58       0  \n",
       "15619304                3          1               0        113931.57       1  \n",
       "15701354                2          0               0         93826.63       0  \n",
       "15737888                1          1               1         79084.10       0  "
      ]
     },
     "execution_count": 12,
     "metadata": {},
     "output_type": "execute_result"
    }
   ],
   "source": [
    "data.head()"
   ]
  },
  {
   "cell_type": "markdown",
   "metadata": {},
   "source": [
    "### Кореляция признаков"
   ]
  },
  {
   "cell_type": "code",
   "execution_count": 13,
   "metadata": {},
   "outputs": [
    {
     "data": {
      "image/png": "[encoded data removed]",
      "text/plain": [
       "<Figure size 432x288 with 2 Axes>"
      ]
     },
     "metadata": {
      "needs_background": "light"
     },
     "output_type": "display_data"
    }
   ],
   "source": [
    "sns.heatmap(data.corr())\n",
    "None"
   ]
  },
  {
   "cell_type": "markdown",
   "metadata": {},
   "source": [
    "Имеется незначительная кореляция возраста клиента с вероятностью его ухода из банка"
   ]
  },
  {
   "cell_type": "markdown",
   "metadata": {},
   "source": [
    "### Распределение признаков"
   ]
  },
  {
   "cell_type": "markdown",
   "metadata": {},
   "source": [
    "Посмотрим распределение в данных, на гистограммах"
   ]
  },
  {
   "cell_type": "code",
   "execution_count": 14,
   "metadata": {},
   "outputs": [
    {
     "data": {
      "image/png": "[encoded data removed]",
      "text/plain": [
       "<Figure size 1080x1080 with 12 Axes>"
      ]
     },
     "metadata": {
      "needs_background": "light"
     },
     "output_type": "display_data"
    }
   ],
   "source": [
    "data.hist(figsize=(15, 15))\n",
    "None"
   ]
  },
  {
   "cell_type": "markdown",
   "metadata": {},
   "source": [
    "На графике видно, что CreditScore, Age имеют нормальное распределение данных"
   ]
  },
  {
   "cell_type": "markdown",
   "metadata": {},
   "source": [
    "Так же видим что, Balance имеет нормальное распределение в данных (если не считать клиентов с нулевым балансом)"
   ]
  },
  {
   "cell_type": "markdown",
   "metadata": {},
   "source": [
    "Отдельно изучим NumOfProducts и EstimatedSalary"
   ]
  },
  {
   "cell_type": "code",
   "execution_count": 15,
   "metadata": {},
   "outputs": [
    {
     "data": {
      "image/png": "[encoded data removed]",
      "text/plain": [
       "<Figure size 720x720 with 1 Axes>"
      ]
     },
     "metadata": {
      "needs_background": "light"
     },
     "output_type": "display_data"
    }
   ],
   "source": [
    "data['NumOfProducts'].hist(figsize=(10, 10), bins=4)\n",
    "None"
   ]
  },
  {
   "cell_type": "markdown",
   "metadata": {},
   "source": [
    "Большинство клиентов банка имеют 1-2 банковских продукта"
   ]
  },
  {
   "cell_type": "code",
   "execution_count": 16,
   "metadata": {},
   "outputs": [
    {
     "data": {
      "image/png": "[encoded data removed]",
      "text/plain": [
       "<Figure size 720x720 with 1 Axes>"
      ]
     },
     "metadata": {
      "needs_background": "light"
     },
     "output_type": "display_data"
    }
   ],
   "source": [
    "data['EstimatedSalary'].hist(figsize=(10, 10), bins=100)\n",
    "None"
   ]
  },
  {
   "cell_type": "markdown",
   "metadata": {},
   "source": [
    "Разделим данные на тренировочную_валидационную и тестовую"
   ]
  },
  {
   "cell_type": "code",
   "execution_count": 17,
   "metadata": {},
   "outputs": [],
   "source": [
    "X_train_valid, X_test, y_train_valid, y_test = train_test_split(\n",
    "    data.drop(columns=['Exited']), data['Exited'], test_size=0.2, random_state=42)"
   ]
  },
  {
   "cell_type": "markdown",
   "metadata": {},
   "source": [
    "Разделим на тренирововчную и валидационную"
   ]
  },
  {
   "cell_type": "code",
   "execution_count": 18,
   "metadata": {},
   "outputs": [],
   "source": [
    "X_train, X_valid, y_train, y_valid = train_test_split(\n",
    "    X_train_valid, y_train_valid, test_size=0.2, random_state=42)"
   ]
  },
  {
   "cell_type": "markdown",
   "metadata": {},
   "source": [
    "## Исследование задачи"
   ]
  },
  {
   "cell_type": "markdown",
   "metadata": {},
   "source": [
    "Протестируем алгоритмы ml:\n",
    "1. Логистическая регрессия\n",
    "2. Knn\n",
    "3. RandomForest\n",
    "4. CatBoost\n",
    "\n",
    "Далее из подберем гипер параметры для наилучих моделей и сделаем ансамблирование"
   ]
  },
  {
   "cell_type": "code",
   "execution_count": 19,
   "metadata": {},
   "outputs": [],
   "source": [
    "def _get_roc_auc_report(_y_score, _y_test):\n",
    "    _y_onehot_test = _y_test\n",
    "    RocCurveDisplay.from_predictions(\n",
    "        _y_onehot_test.ravel(),\n",
    "        _y_score.ravel(),\n",
    "        name=\"micro-average OvR\", color=\"darkorange\",\n",
    "    )\n",
    "    plt.plot([0, 1], [0, 1], \"k--\", label=\"chance level (AUC = 0.5)\")\n",
    "    plt.axis(\"square\")\n",
    "    plt.xlabel(\"False Positive Rate\")\n",
    "    plt.ylabel(\"True Positive Rate\")\n",
    "    plt.title(\"Micro-averaged One-vs-Rest\\n\")\n",
    "    plt.legend()\n",
    "    plt.show()"
   ]
  },
  {
   "cell_type": "code",
   "execution_count": 20,
   "metadata": {},
   "outputs": [],
   "source": [
    "def get_report_of_model(_title, _model, _X_train, _y_train, _X_test, _y_test) -> None:\n",
    "    '''\n",
    "    1) Обучаем полученную модель\n",
    "    2) Делаем предсказание\n",
    "    3) Считаем метрики\n",
    "    '''\n",
    "    _model.fit(_X_train, _y_train)\n",
    "    _y_pred = _model.predict(_X_test)\n",
    "    try:\n",
    "        _y_score = _model.predict_proba(_X_test)[:, 1]\n",
    "    except AttributeError:\n",
    "        _y_score = _y_pred\n",
    "    roc_auc = round(roc_auc_score(_y_test, _y_score), 2)\n",
    "    report = classification_report(_y_test, _y_pred)\n",
    "    print(_title)\n",
    "    print(report)\n",
    "    print(f'f1_score = {round(f1_score(_y_test, _y_pred), 2)}')\n",
    "    print(f'roc_auc = {roc_auc}')\n",
    "    _get_roc_auc_report(_y_score, _y_test)"
   ]
  },
  {
   "cell_type": "markdown",
   "metadata": {},
   "source": [
    "### 1. Логистическая регрессия"
   ]
  },
  {
   "cell_type": "markdown",
   "metadata": {},
   "source": [
    "Нормализуем данные"
   ]
  },
  {
   "cell_type": "code",
   "execution_count": 21,
   "metadata": {},
   "outputs": [],
   "source": [
    "transformer = Normalizer().fit(X_train)\n",
    "X_train_normalize = transformer.transform(X_train)\n",
    "X_valid_normalize = transformer.transform(X_valid)"
   ]
  },
  {
   "cell_type": "code",
   "execution_count": 22,
   "metadata": {},
   "outputs": [
    {
     "name": "stdout",
     "output_type": "stream",
     "text": [
      "Логистическая регрессия, нормализованные данные\n",
      "              precision    recall  f1-score   support\n",
      "\n",
      "           0       0.80      1.00      0.89      1273\n",
      "           1       0.00      0.00      0.00       327\n",
      "\n",
      "    accuracy                           0.80      1600\n",
      "   macro avg       0.40      0.50      0.44      1600\n",
      "weighted avg       0.63      0.80      0.71      1600\n",
      "\n",
      "f1_score = 0.0\n",
      "roc_auc = 0.57\n"
     ]
    },
    {
     "data": {
      "image/png": "[encoded data removed]",
      "text/plain": [
       "<Figure size 432x288 with 1 Axes>"
      ]
     },
     "metadata": {
      "needs_background": "light"
     },
     "output_type": "display_data"
    }
   ],
   "source": [
    "log_reg = LogisticRegression(random_state=42)\n",
    "get_report_of_model(\n",
    "    'Логистическая регрессия, нормализованные данные', log_reg, \n",
    "    X_train_normalize, y_train, X_valid_normalize, y_valid)"
   ]
  },
  {
   "cell_type": "markdown",
   "metadata": {},
   "source": [
    "### KNN"
   ]
  },
  {
   "cell_type": "code",
   "execution_count": 23,
   "metadata": {},
   "outputs": [
    {
     "name": "stdout",
     "output_type": "stream",
     "text": [
      "Метод ближайших соседей\n",
      "              precision    recall  f1-score   support\n",
      "\n",
      "           0       0.76      0.59      0.67      1273\n",
      "           1       0.15      0.29      0.20       327\n",
      "\n",
      "    accuracy                           0.53      1600\n",
      "   macro avg       0.46      0.44      0.43      1600\n",
      "weighted avg       0.64      0.53      0.57      1600\n",
      "\n",
      "f1_score = 0.2\n",
      "roc_auc = 0.44\n"
     ]
    },
    {
     "data": {
      "image/png": "[encoded data removed]",
      "text/plain": [
       "<Figure size 432x288 with 1 Axes>"
      ]
     },
     "metadata": {
      "needs_background": "light"
     },
     "output_type": "display_data"
    }
   ],
   "source": [
    "km = KMeans(n_clusters=2, random_state=42)\n",
    "get_report_of_model('Метод ближайших соседей', km, X_train, y_train, X_valid, y_valid)"
   ]
  },
  {
   "cell_type": "markdown",
   "metadata": {},
   "source": [
    "### RandomForest"
   ]
  },
  {
   "cell_type": "code",
   "execution_count": 24,
   "metadata": {},
   "outputs": [
    {
     "name": "stdout",
     "output_type": "stream",
     "text": [
      "optuna Решающие деревья\n",
      "              precision    recall  f1-score   support\n",
      "\n",
      "           0       0.86      0.98      0.92      1273\n",
      "           1       0.81      0.40      0.54       327\n",
      "\n",
      "    accuracy                           0.86      1600\n",
      "   macro avg       0.84      0.69      0.73      1600\n",
      "weighted avg       0.85      0.86      0.84      1600\n",
      "\n",
      "f1_score = 0.54\n",
      "roc_auc = 0.86\n"
     ]
    },
    {
     "data": {
      "image/png": "[encoded data removed]",
      "text/plain": [
       "<Figure size 432x288 with 1 Axes>"
      ]
     },
     "metadata": {
      "needs_background": "light"
     },
     "output_type": "display_data"
    }
   ],
   "source": [
    "param_distributions = {\n",
    "    \"max_depth\": optuna.distributions.IntDistribution(1, 30, step=1, log=False),\n",
    "    'min_samples_split': optuna.distributions.IntDistribution(2, 100, step=1, log=False),\n",
    "    'min_samples_leaf': optuna.distributions.IntDistribution(1, 100, step=1, log=False),\n",
    "    'n_estimators': optuna.distributions.IntDistribution(1, 20, step=1, log=False)\n",
    "}\n",
    "optuna_search = optuna.integration.OptunaSearchCV(\n",
    "    RandomForestClassifier(random_state=42), param_distributions, n_jobs=-1)\n",
    "get_report_of_model('optuna Решающие деревья', optuna_search, X_train, y_train, X_valid, y_valid)"
   ]
  },
  {
   "cell_type": "markdown",
   "metadata": {},
   "source": [
    "Лучшие гипер параметры модели"
   ]
  },
  {
   "cell_type": "code",
   "execution_count": 25,
   "metadata": {},
   "outputs": [
    {
     "data": {
      "text/plain": [
       "{'max_depth': 22,\n",
       " 'min_samples_split': 17,\n",
       " 'min_samples_leaf': 22,\n",
       " 'n_estimators': 14}"
      ]
     },
     "execution_count": 25,
     "metadata": {},
     "output_type": "execute_result"
    }
   ],
   "source": [
    "optuna_search.best_params_"
   ]
  },
  {
   "cell_type": "markdown",
   "metadata": {},
   "source": [
    "**f1_score = 0.54 roc_auc = 0.85** результат, зафиксируем его"
   ]
  },
  {
   "cell_type": "markdown",
   "metadata": {},
   "source": [
    "### Catboos"
   ]
  },
  {
   "cell_type": "code",
   "execution_count": 26,
   "metadata": {},
   "outputs": [],
   "source": [
    "def objective(trial):\n",
    "    model = CatBoostClassifier(\n",
    "        iterations=trial.suggest_int(\"iterations\", 100, 1000),\n",
    "        learning_rate=trial.suggest_float(\"learning_rate\", 1e-3, 1e-1, log=True),\n",
    "        depth=trial.suggest_int(\"depth\", 4, 10),\n",
    "        l2_leaf_reg=trial.suggest_float(\"l2_leaf_reg\", 1e-8, 100.0, log=True),\n",
    "        bootstrap_type=trial.suggest_categorical(\"bootstrap_type\", [\"Bayesian\"]),\n",
    "        random_strength=trial.suggest_float(\"random_strength\", 1e-8, 10.0, log=True),\n",
    "        bagging_temperature=trial.suggest_float(\"bagging_temperature\", 0.0, 10.0),\n",
    "        od_type=trial.suggest_categorical(\"od_type\", [\"IncToDec\", \"Iter\"]),\n",
    "        od_wait=trial.suggest_int(\"od_wait\", 10, 50),\n",
    "        verbose=False\n",
    "    )\n",
    "    model.fit(X_train, y_train)\n",
    "    y_pred = model.predict(X_valid)\n",
    "    return f1_score(y_valid, y_pred)"
   ]
  },
  {
   "cell_type": "code",
   "execution_count": 27,
   "metadata": {},
   "outputs": [],
   "source": [
    "sampler = TPESampler(seed=1)\n",
    "study = optuna.create_study(study_name=\"Optuna catboost\", direction=\"maximize\", sampler=sampler)\n",
    "study.optimize(objective, n_trials=100)"
   ]
  },
  {
   "cell_type": "code",
   "execution_count": 28,
   "metadata": {},
   "outputs": [
    {
     "name": "stdout",
     "output_type": "stream",
     "text": [
      "Number of finished trials:  100\n",
      "Best trial:\n",
      "  Value:  0.6177024482109228\n",
      "  Params: \n",
      "    iterations: 463\n",
      "    learning_rate: 0.04899569606111829\n",
      "    depth: 5\n",
      "    l2_leaf_reg: 5.4993438328791175e-06\n",
      "    bootstrap_type: Bayesian\n",
      "    random_strength: 9.640373992104767e-05\n",
      "    bagging_temperature: 1.839199407746559\n",
      "    od_type: Iter\n",
      "    od_wait: 16\n"
     ]
    }
   ],
   "source": [
    "print(\"Number of finished trials: \", len(study.trials))\n",
    "print(\"Best trial:\")\n",
    "trial = study.best_trial\n",
    "print(\"  Value: \", trial.value)\n",
    "print(\"  Params: \")\n",
    "for key, value in trial.params.items():\n",
    "    print(\"    {}: {}\".format(key, value))"
   ]
  },
  {
   "cell_type": "markdown",
   "metadata": {},
   "source": [
    "Посмотрим результаты модели с подобранными гипер параметрами"
   ]
  },
  {
   "cell_type": "code",
   "execution_count": 29,
   "metadata": {},
   "outputs": [
    {
     "name": "stdout",
     "output_type": "stream",
     "text": [
      "Optuna Catboost\n",
      "              precision    recall  f1-score   support\n",
      "\n",
      "           0       0.88      0.97      0.92      1273\n",
      "           1       0.80      0.50      0.62       327\n",
      "\n",
      "    accuracy                           0.87      1600\n",
      "   macro avg       0.84      0.74      0.77      1600\n",
      "weighted avg       0.87      0.87      0.86      1600\n",
      "\n",
      "f1_score = 0.62\n",
      "roc_auc = 0.87\n"
     ]
    },
    {
     "data": {
      "image/png": "[encoded data removed]",
      "text/plain": [
       "<Figure size 432x288 with 1 Axes>"
      ]
     },
     "metadata": {
      "needs_background": "light"
     },
     "output_type": "display_data"
    }
   ],
   "source": [
    "model = CatBoostClassifier(**trial.params, verbose=False)\n",
    "get_report_of_model('Optuna Catboost', model, X_train, y_train, X_valid, y_valid)"
   ]
  },
  {
   "cell_type": "markdown",
   "metadata": {},
   "source": [
    "<div class=\"alert alert-info\">\n",
    "Исправил\n",
    "</div>"
   ]
  },
  {
   "cell_type": "markdown",
   "metadata": {},
   "source": [
    "**f1_score = 0.62 roc_auc = 0.87** Наилучший результат, зафиксируем его"
   ]
  },
  {
   "cell_type": "markdown",
   "metadata": {},
   "source": [
    "### Бэггинг"
   ]
  },
  {
   "cell_type": "markdown",
   "metadata": {},
   "source": [
    "#### Леса"
   ]
  },
  {
   "cell_type": "code",
   "execution_count": 30,
   "metadata": {},
   "outputs": [
    {
     "name": "stdout",
     "output_type": "stream",
     "text": [
      "BaggingClassifier, model = RandomForestClassifier\n",
      "              precision    recall  f1-score   support\n",
      "\n",
      "           0       0.86      0.97      0.92      1273\n",
      "           1       0.80      0.40      0.54       327\n",
      "\n",
      "    accuracy                           0.86      1600\n",
      "   macro avg       0.83      0.69      0.73      1600\n",
      "weighted avg       0.85      0.86      0.84      1600\n",
      "\n",
      "f1_score = 0.54\n",
      "roc_auc = 0.86\n"
     ]
    },
    {
     "data": {
      "image/png": "[encoded data removed]",
      "text/plain": [
       "<Figure size 432x288 with 1 Axes>"
      ]
     },
     "metadata": {
      "needs_background": "light"
     },
     "output_type": "display_data"
    }
   ],
   "source": [
    "model = RandomForestClassifier(**optuna_search.best_params_, n_jobs=-1)\n",
    "modelClf = BaggingClassifier(base_estimator=model, n_estimators=50, random_state=42, n_jobs=-1)\n",
    "get_report_of_model(f'BaggingClassifier, model = RandomForestClassifier', modelClf, X_train, y_train, X_valid, y_valid)"
   ]
  },
  {
   "cell_type": "markdown",
   "metadata": {},
   "source": [
    "Сильного увеличения качества мы не получили **f1_score = 0.54 roc_auc = 0.86**"
   ]
  },
  {
   "cell_type": "markdown",
   "metadata": {},
   "source": [
    "#### Catboost"
   ]
  },
  {
   "cell_type": "code",
   "execution_count": 32,
   "metadata": {},
   "outputs": [
    {
     "name": "stdout",
     "output_type": "stream",
     "text": [
      "BaggingClassifier, model = CatBoostClassifier\n",
      "              precision    recall  f1-score   support\n",
      "\n",
      "           0       0.88      0.96      0.92      1273\n",
      "           1       0.77      0.47      0.59       327\n",
      "\n",
      "    accuracy                           0.86      1600\n",
      "   macro avg       0.83      0.72      0.75      1600\n",
      "weighted avg       0.86      0.86      0.85      1600\n",
      "\n",
      "f1_score = 0.59\n",
      "roc_auc = 0.86\n"
     ]
    },
    {
     "data": {
      "image/png": "[encoded data removed]",
      "text/plain": [
       "<Figure size 432x288 with 1 Axes>"
      ]
     },
     "metadata": {
      "needs_background": "light"
     },
     "output_type": "display_data"
    }
   ],
   "source": [
    "model = CatBoostClassifier(**trial.params, metric_period=1000, silent=True)\n",
    "modelClf = BaggingClassifier(base_estimator=model, n_estimators=50, random_state=42, n_jobs=-1)\n",
    "get_report_of_model(f'BaggingClassifier, model = CatBoostClassifier', modelClf, X_train, y_train, X_valid, y_valid)"
   ]
  },
  {
   "cell_type": "markdown",
   "metadata": {},
   "source": [
    "Сильного увеличения качества мы не получили f1_score = 0.59 roc_auc = 0.86"
   ]
  },
  {
   "cell_type": "markdown",
   "metadata": {},
   "source": [
    "### Исследование баланса классов"
   ]
  },
  {
   "cell_type": "markdown",
   "metadata": {},
   "source": [
    "Посмотрим на баланс классов"
   ]
  },
  {
   "cell_type": "code",
   "execution_count": 33,
   "metadata": {},
   "outputs": [
    {
     "data": {
      "text/plain": [
       "0    0.7963\n",
       "1    0.2037\n",
       "Name: Exited, dtype: float64"
      ]
     },
     "execution_count": 33,
     "metadata": {},
     "output_type": "execute_result"
    }
   ],
   "source": [
    "data['Exited'].value_counts(normalize=True)"
   ]
  },
  {
   "cell_type": "markdown",
   "metadata": {},
   "source": [
    "Обьектов класса \"0\" в 4 раза больше чем \"1\""
   ]
  },
  {
   "cell_type": "markdown",
   "metadata": {},
   "source": [
    "### Вывод"
   ]
  },
  {
   "cell_type": "markdown",
   "metadata": {},
   "source": [
    "На основании вышенаписанного исследования моделей на несбалансированной выборке, можем сделать вывод.\n",
    "Ансамбли деревьев показали хороший результат. ROC-AUC = 0.86 и f1=0.59."
   ]
  },
  {
   "cell_type": "markdown",
   "metadata": {},
   "source": [
    "## Борьба с дисбалансом"
   ]
  },
  {
   "cell_type": "markdown",
   "metadata": {},
   "source": [
    "### Взвешивание классов"
   ]
  },
  {
   "cell_type": "code",
   "execution_count": 34,
   "metadata": {},
   "outputs": [
    {
     "name": "stdout",
     "output_type": "stream",
     "text": [
      "optuna Решающие деревья\n",
      "              precision    recall  f1-score   support\n",
      "\n",
      "           0       0.91      0.88      0.89      1273\n",
      "           1       0.57      0.65      0.61       327\n",
      "\n",
      "    accuracy                           0.83      1600\n",
      "   macro avg       0.74      0.76      0.75      1600\n",
      "weighted avg       0.84      0.83      0.83      1600\n",
      "\n",
      "f1_score = 0.61\n",
      "roc_auc = 0.87\n"
     ]
    },
    {
     "data": {
      "image/png": "[encoded data removed]",
      "text/plain": [
       "<Figure size 432x288 with 1 Axes>"
      ]
     },
     "metadata": {
      "needs_background": "light"
     },
     "output_type": "display_data"
    }
   ],
   "source": [
    "param_distributions = {\n",
    "    \"max_depth\": optuna.distributions.IntDistribution(1, 30, step=1, log=False),\n",
    "    'min_samples_split': optuna.distributions.IntDistribution(2, 100, step=1, log=False),\n",
    "    'min_samples_leaf': optuna.distributions.IntDistribution(1, 100, step=1, log=False),\n",
    "    'n_estimators': optuna.distributions.IntDistribution(1, 20, step=1, log=False)\n",
    "}\n",
    "optuna_search = optuna.integration.OptunaSearchCV(\n",
    "    RandomForestClassifier(random_state=42, class_weight='balanced'), param_distributions, n_jobs=-1)\n",
    "get_report_of_model('optuna Решающие деревья', optuna_search, X_train, y_train, X_valid, y_valid)"
   ]
  },
  {
   "cell_type": "markdown",
   "metadata": {},
   "source": [
    "Видим увеличение f1 метрики"
   ]
  },
  {
   "cell_type": "markdown",
   "metadata": {},
   "source": [
    "### Увеличение выборки"
   ]
  },
  {
   "cell_type": "code",
   "execution_count": 35,
   "metadata": {},
   "outputs": [],
   "source": [
    "features, target = data.drop(columns=['Exited']), data['Exited']"
   ]
  },
  {
   "cell_type": "code",
   "execution_count": 36,
   "metadata": {},
   "outputs": [],
   "source": [
    "def upsample(features, target, repeat):\n",
    "    features_zeros = features[target == 0]\n",
    "    features_ones = features[target == 1]\n",
    "    target_zeros = target[target == 0]\n",
    "    target_ones = target[target == 1]\n",
    "\n",
    "    features_upsampled = pd.concat([features_zeros] + [features_ones] * repeat)\n",
    "    target_upsampled = pd.concat([target_zeros] + [target_ones] * repeat)\n",
    "\n",
    "    features_upsampled, target_upsampled = shuffle( features_upsampled, target_upsampled, random_state=12345)\n",
    "\n",
    "    return features_upsampled, target_upsampled"
   ]
  },
  {
   "cell_type": "code",
   "execution_count": 37,
   "metadata": {},
   "outputs": [],
   "source": [
    "X_train_upsampled, y_train_upsampled = upsample(X_train, y_train, 4)"
   ]
  },
  {
   "cell_type": "code",
   "execution_count": 38,
   "metadata": {},
   "outputs": [
    {
     "name": "stdout",
     "output_type": "stream",
     "text": [
      "optuna Решающие деревья\n",
      "              precision    recall  f1-score   support\n",
      "\n",
      "           0       0.91      0.87      0.89      1273\n",
      "           1       0.58      0.68      0.62       327\n",
      "\n",
      "    accuracy                           0.83      1600\n",
      "   macro avg       0.75      0.78      0.76      1600\n",
      "weighted avg       0.85      0.83      0.84      1600\n",
      "\n",
      "f1_score = 0.62\n",
      "roc_auc = 0.85\n"
     ]
    },
    {
     "data": {
      "image/png": "[encoded data removed]",
      "text/plain": [
       "<Figure size 432x288 with 1 Axes>"
      ]
     },
     "metadata": {
      "needs_background": "light"
     },
     "output_type": "display_data"
    }
   ],
   "source": [
    "param_distributions = {\n",
    "    \"max_depth\": optuna.distributions.IntDistribution(1, 30, step=1, log=False),\n",
    "    'min_samples_split': optuna.distributions.IntDistribution(2, 100, step=1, log=False),\n",
    "    'min_samples_leaf': optuna.distributions.IntDistribution(1, 100, step=1, log=False),\n",
    "    'n_estimators': optuna.distributions.IntDistribution(1, 20, step=1, log=False)\n",
    "}\n",
    "optuna_search = optuna.integration.OptunaSearchCV(\n",
    "    RandomForestClassifier(random_state=42, class_weight='balanced'), param_distributions, n_jobs=-1)\n",
    "get_report_of_model('optuna Решающие деревья', optuna_search, X_train_upsampled, y_train_upsampled, X_valid, y_valid)"
   ]
  },
  {
   "cell_type": "markdown",
   "metadata": {},
   "source": [
    "**f1_score = 0.62 roc_auc = 0.85**"
   ]
  },
  {
   "cell_type": "code",
   "execution_count": 39,
   "metadata": {},
   "outputs": [
    {
     "name": "stdout",
     "output_type": "stream",
     "text": [
      "Catboost\n",
      "              precision    recall  f1-score   support\n",
      "\n",
      "           0       0.92      0.85      0.88      1273\n",
      "           1       0.55      0.70      0.62       327\n",
      "\n",
      "    accuracy                           0.82      1600\n",
      "   macro avg       0.73      0.78      0.75      1600\n",
      "weighted avg       0.84      0.82      0.83      1600\n",
      "\n",
      "f1_score = 0.62\n",
      "roc_auc = 0.86\n"
     ]
    },
    {
     "data": {
      "image/png": "[encoded data removed]",
      "text/plain": [
       "<Figure size 432x288 with 1 Axes>"
      ]
     },
     "metadata": {
      "needs_background": "light"
     },
     "output_type": "display_data"
    }
   ],
   "source": [
    "catboosting = CatBoostClassifier(metric_period=1000, silent=True)\n",
    "get_report_of_model('Catboost', catboosting, X_train_upsampled, y_train_upsampled, X_valid, y_valid)"
   ]
  },
  {
   "cell_type": "markdown",
   "metadata": {},
   "source": [
    "Отличные результаты **f1_score = 0.62 roc_auc = 0.86**"
   ]
  },
  {
   "cell_type": "markdown",
   "metadata": {},
   "source": [
    "### Уменьшение выборки"
   ]
  },
  {
   "cell_type": "code",
   "execution_count": 40,
   "metadata": {},
   "outputs": [],
   "source": [
    "def downsample(features, target, fraction):\n",
    "    features_zeros = features[target == 0]\n",
    "    features_ones = features[target == 1]\n",
    "    target_zeros = target[target == 0]\n",
    "    target_ones = target[target == 1]\n",
    "\n",
    "    features_downsampled = pd.concat(\n",
    "        [features_zeros.sample(frac=fraction, random_state=12345)] + [features_ones])\n",
    "\n",
    "    target_downsampled = pd.concat(\n",
    "        [target_zeros.sample(frac=fraction, random_state=12345)] + [target_ones])\n",
    "\n",
    "    features_downsampled, target_downsampled = shuffle(features_downsampled, target_downsampled, random_state=12345)\n",
    "\n",
    "    return features_downsampled, target_downsampled"
   ]
  },
  {
   "cell_type": "code",
   "execution_count": 41,
   "metadata": {},
   "outputs": [],
   "source": [
    "X_train_downsampled, y_train_downsampled = downsample(X_train, y_train, 0.25)"
   ]
  },
  {
   "cell_type": "code",
   "execution_count": 42,
   "metadata": {},
   "outputs": [
    {
     "name": "stdout",
     "output_type": "stream",
     "text": [
      "Catboost\n",
      "              precision    recall  f1-score   support\n",
      "\n",
      "           0       0.93      0.79      0.85      1273\n",
      "           1       0.49      0.78      0.60       327\n",
      "\n",
      "    accuracy                           0.79      1600\n",
      "   macro avg       0.71      0.78      0.73      1600\n",
      "weighted avg       0.84      0.79      0.80      1600\n",
      "\n",
      "f1_score = 0.6\n",
      "roc_auc = 0.87\n"
     ]
    },
    {
     "data": {
      "image/png": "[encoded data removed]",
      "text/plain": [
       "<Figure size 432x288 with 1 Axes>"
      ]
     },
     "metadata": {
      "needs_background": "light"
     },
     "output_type": "display_data"
    }
   ],
   "source": [
    "catboosting = CatBoostClassifier(metric_period=1000, silent=True)\n",
    "get_report_of_model('Catboost', catboosting, X_train_downsampled, y_train_downsampled, X_valid, y_valid)"
   ]
  },
  {
   "cell_type": "markdown",
   "metadata": {},
   "source": [
    "### Пытаемся повысить качество"
   ]
  },
  {
   "cell_type": "markdown",
   "metadata": {},
   "source": [
    "Сделаем подбор гипер параметров и бэггинг для Catboost"
   ]
  },
  {
   "cell_type": "code",
   "execution_count": 43,
   "metadata": {},
   "outputs": [],
   "source": [
    "def objective(trial):\n",
    "    model = CatBoostClassifier(\n",
    "        iterations=trial.suggest_int(\"iterations\", 100, 1000),\n",
    "        learning_rate=trial.suggest_float(\"learning_rate\", 1e-3, 1e-1, log=True),\n",
    "        depth=trial.suggest_int(\"depth\", 4, 10),\n",
    "        l2_leaf_reg=trial.suggest_float(\"l2_leaf_reg\", 1e-8, 100.0, log=True),\n",
    "        bootstrap_type=trial.suggest_categorical(\"bootstrap_type\", [\"Bayesian\"]),\n",
    "        random_strength=trial.suggest_float(\"random_strength\", 1e-8, 10.0, log=True),\n",
    "        bagging_temperature=trial.suggest_float(\"bagging_temperature\", 0.0, 10.0),\n",
    "        od_type=trial.suggest_categorical(\"od_type\", [\"IncToDec\", \"Iter\"]),\n",
    "        od_wait=trial.suggest_int(\"od_wait\", 10, 50),\n",
    "        verbose=False\n",
    "    )\n",
    "    model.fit(X_train_upsampled, y_train_upsampled)\n",
    "    y_pred = model.predict(X_valid)\n",
    "    return f1_score(y_valid, y_pred)"
   ]
  },
  {
   "cell_type": "code",
   "execution_count": 44,
   "metadata": {},
   "outputs": [],
   "source": [
    "sampler = TPESampler(seed=1)\n",
    "study = optuna.create_study(study_name=\"Optuna catboost\", direction=\"maximize\", sampler=sampler)\n",
    "study.optimize(objective, n_trials=100)"
   ]
  },
  {
   "cell_type": "markdown",
   "metadata": {},
   "source": [
    "В функции get_report_of_model есть как принт f1_score так и roc_auc_score"
   ]
  },
  {
   "cell_type": "markdown",
   "metadata": {},
   "source": [
    "## Тестирование модели"
   ]
  },
  {
   "cell_type": "code",
   "execution_count": 45,
   "metadata": {},
   "outputs": [
    {
     "name": "stdout",
     "output_type": "stream",
     "text": [
      "Optuna Catboost\n",
      "              precision    recall  f1-score   support\n",
      "\n",
      "           0       0.93      0.82      0.87      1607\n",
      "           1       0.51      0.74      0.60       393\n",
      "\n",
      "    accuracy                           0.81      2000\n",
      "   macro avg       0.72      0.78      0.74      2000\n",
      "weighted avg       0.85      0.81      0.82      2000\n",
      "\n",
      "f1_score = 0.6\n",
      "roc_auc = 0.86\n"
     ]
    },
    {
     "data": {
      "image/png": "[encoded data removed]",
      "text/plain": [
       "<Figure size 432x288 with 1 Axes>"
      ]
     },
     "metadata": {
      "needs_background": "light"
     },
     "output_type": "display_data"
    }
   ],
   "source": [
    "model = CatBoostClassifier(**trial.params, verbose=False)\n",
    "get_report_of_model('Optuna Catboost', model, X_train_upsampled, y_train_upsampled, X_test, y_test)"
   ]
  },
  {
   "cell_type": "markdown",
   "metadata": {},
   "source": [
    "Применим бэггинг, попробуем повысить качество"
   ]
  },
  {
   "cell_type": "code",
   "execution_count": 47,
   "metadata": {},
   "outputs": [
    {
     "name": "stdout",
     "output_type": "stream",
     "text": [
      "BaggingClassifier, model = CatBoostClassifier\n",
      "              precision    recall  f1-score   support\n",
      "\n",
      "           0       0.93      0.83      0.88      1607\n",
      "           1       0.52      0.76      0.61       393\n",
      "\n",
      "    accuracy                           0.81      2000\n",
      "   macro avg       0.72      0.79      0.75      2000\n",
      "weighted avg       0.85      0.81      0.82      2000\n",
      "\n",
      "f1_score = 0.61\n",
      "roc_auc = 0.86\n"
     ]
    },
    {
     "data": {
      "image/png": "[encoded data removed]",
      "text/plain": [
       "<Figure size 432x288 with 1 Axes>"
      ]
     },
     "metadata": {
      "needs_background": "light"
     },
     "output_type": "display_data"
    }
   ],
   "source": [
    "model = CatBoostClassifier(**trial.params, metric_period=1000, silent=True)\n",
    "modelClf = BaggingClassifier(base_estimator=model, n_estimators=50, random_state=42, n_jobs=-1)\n",
    "get_report_of_model(f'BaggingClassifier, model = CatBoostClassifier', \n",
    "                    modelClf, X_train_upsampled, y_train_upsampled, X_test, y_test)"
   ]
  },
  {
   "cell_type": "markdown",
   "metadata": {},
   "source": [
    "Гипер параметры"
   ]
  },
  {
   "cell_type": "code",
   "execution_count": 48,
   "metadata": {},
   "outputs": [
    {
     "data": {
      "text/plain": [
       "{'iterations': 463,\n",
       " 'learning_rate': 0.04899569606111829,\n",
       " 'depth': 5,\n",
       " 'l2_leaf_reg': 5.4993438328791175e-06,\n",
       " 'bootstrap_type': 'Bayesian',\n",
       " 'random_strength': 9.640373992104767e-05,\n",
       " 'bagging_temperature': 1.839199407746559,\n",
       " 'od_type': 'Iter',\n",
       " 'od_wait': 16}"
      ]
     },
     "execution_count": 48,
     "metadata": {},
     "output_type": "execute_result"
    }
   ],
   "source": [
    "trial.params"
   ]
  },
  {
   "cell_type": "markdown",
   "metadata": {},
   "source": [
    "Наилучшие результаты получились **f1_score = 0.61 roc_auc = 0.86** с помощью модели Catboost с подбором гипер параметров с помощью Optuna и применением Бэггинга."
   ]
  },
  {
   "cell_type": "markdown",
   "metadata": {},
   "source": [
    "## Вывод"
   ]
  },
  {
   "cell_type": "markdown",
   "metadata": {},
   "source": [
    "На основании вышенаписанного исследования моделей на сбалансированной выборке, можем сделать вывод.\n",
    "Наилучший результат был получен на увеличенной выборке с помощью BaggingClassifier, model = CatBoostClassifier\n",
    "без подбора гипер параметров, получили результаты **f1_score = 0.61 roc_auc = 0.86.\n",
    "recall (1) = 0.70**. Поулается что в 70% процентах случаях мы верно предсказали уход клиента из банка, это значит что сохранили деньги."
   ]
  },
  {
   "cell_type": "markdown",
   "metadata": {},
   "source": [
    "Сравним модель с констнтной"
   ]
  },
  {
   "cell_type": "code",
   "execution_count": null,
   "metadata": {},
   "outputs": [],
   "source": [
    "dummy_model = DummyClassifier(strategy='constant', constant=1)"
   ]
  },
  {
   "cell_type": "code",
   "execution_count": null,
   "metadata": {},
   "outputs": [],
   "source": [
    "dummy_model.fit(X_train, y_train)"
   ]
  },
  {
   "cell_type": "markdown",
   "metadata": {},
   "source": [
    "f1_score = 0.33, можем сказать что результаты нашей модели оказались в 2 раза лучше чем константные предсказания (1)"
   ]
  },
  {
   "cell_type": "markdown",
   "metadata": {},
   "source": [
    "## ИТОГ"
   ]
  },
  {
   "cell_type": "markdown",
   "metadata": {},
   "source": [
    "Наилучшие рузультаты f1_score = 0.62 roc_auc = 0.86"
   ]
  }
 ],
 "metadata": {
  "ExecuteTimeLog": [
   {
    "duration": 48,
    "start_time": "2023-04-04T14:41:38.010Z"
   },
   {
    "duration": 388,
    "start_time": "2023-04-04T14:41:49.985Z"
   },
   {
    "duration": 37,
    "start_time": "2023-04-04T14:41:50.375Z"
   },
   {
    "duration": 0,
    "start_time": "2023-04-04T14:41:50.415Z"
   },
   {
    "duration": 0,
    "start_time": "2023-04-04T14:41:50.416Z"
   },
   {
    "duration": 0,
    "start_time": "2023-04-04T14:41:50.417Z"
   },
   {
    "duration": 0,
    "start_time": "2023-04-04T14:41:50.418Z"
   },
   {
    "duration": 0,
    "start_time": "2023-04-04T14:41:50.419Z"
   },
   {
    "duration": 0,
    "start_time": "2023-04-04T14:41:50.441Z"
   },
   {
    "duration": 0,
    "start_time": "2023-04-04T14:41:50.442Z"
   },
   {
    "duration": 0,
    "start_time": "2023-04-04T14:41:50.443Z"
   },
   {
    "duration": 0,
    "start_time": "2023-04-04T14:41:50.444Z"
   },
   {
    "duration": 0,
    "start_time": "2023-04-04T14:41:50.445Z"
   },
   {
    "duration": 0,
    "start_time": "2023-04-04T14:41:50.446Z"
   },
   {
    "duration": 0,
    "start_time": "2023-04-04T14:41:50.447Z"
   },
   {
    "duration": 0,
    "start_time": "2023-04-04T14:41:50.448Z"
   },
   {
    "duration": 0,
    "start_time": "2023-04-04T14:41:50.449Z"
   },
   {
    "duration": 0,
    "start_time": "2023-04-04T14:41:50.450Z"
   },
   {
    "duration": 0,
    "start_time": "2023-04-04T14:41:50.452Z"
   },
   {
    "duration": 0,
    "start_time": "2023-04-04T14:41:50.453Z"
   },
   {
    "duration": 0,
    "start_time": "2023-04-04T14:41:50.454Z"
   },
   {
    "duration": 0,
    "start_time": "2023-04-04T14:41:50.455Z"
   },
   {
    "duration": 0,
    "start_time": "2023-04-04T14:41:50.455Z"
   },
   {
    "duration": 0,
    "start_time": "2023-04-04T14:41:50.457Z"
   },
   {
    "duration": 0,
    "start_time": "2023-04-04T14:41:50.458Z"
   },
   {
    "duration": 0,
    "start_time": "2023-04-04T14:41:50.459Z"
   },
   {
    "duration": 0,
    "start_time": "2023-04-04T14:41:50.460Z"
   },
   {
    "duration": 0,
    "start_time": "2023-04-04T14:41:50.461Z"
   },
   {
    "duration": 0,
    "start_time": "2023-04-04T14:41:50.462Z"
   },
   {
    "duration": 0,
    "start_time": "2023-04-04T14:41:50.463Z"
   },
   {
    "duration": 0,
    "start_time": "2023-04-04T14:41:50.465Z"
   },
   {
    "duration": 0,
    "start_time": "2023-04-04T14:41:50.465Z"
   },
   {
    "duration": 0,
    "start_time": "2023-04-04T14:41:50.467Z"
   },
   {
    "duration": 0,
    "start_time": "2023-04-04T14:41:50.468Z"
   },
   {
    "duration": 0,
    "start_time": "2023-04-04T14:41:50.469Z"
   },
   {
    "duration": 0,
    "start_time": "2023-04-04T14:41:50.470Z"
   },
   {
    "duration": 0,
    "start_time": "2023-04-04T14:41:50.471Z"
   },
   {
    "duration": 0,
    "start_time": "2023-04-04T14:41:50.472Z"
   },
   {
    "duration": 0,
    "start_time": "2023-04-04T14:41:50.473Z"
   },
   {
    "duration": 0,
    "start_time": "2023-04-04T14:41:50.475Z"
   },
   {
    "duration": 0,
    "start_time": "2023-04-04T14:41:50.476Z"
   },
   {
    "duration": 0,
    "start_time": "2023-04-04T14:41:50.476Z"
   },
   {
    "duration": 0,
    "start_time": "2023-04-04T14:41:50.478Z"
   },
   {
    "duration": 0,
    "start_time": "2023-04-04T14:41:50.479Z"
   },
   {
    "duration": 0,
    "start_time": "2023-04-04T14:41:50.541Z"
   },
   {
    "duration": 0,
    "start_time": "2023-04-04T14:41:50.542Z"
   },
   {
    "duration": 51,
    "start_time": "2023-04-04T14:42:22.884Z"
   },
   {
    "duration": 46,
    "start_time": "2023-04-04T14:42:37.636Z"
   },
   {
    "duration": 12,
    "start_time": "2023-04-04T14:42:42.474Z"
   },
   {
    "duration": 44,
    "start_time": "2023-04-04T14:44:10.125Z"
   },
   {
    "duration": 13,
    "start_time": "2023-04-04T14:44:16.036Z"
   },
   {
    "duration": 86,
    "start_time": "2023-04-04T14:44:43.612Z"
   },
   {
    "duration": 13,
    "start_time": "2023-04-04T14:44:45.561Z"
   },
   {
    "duration": 5,
    "start_time": "2023-04-04T14:44:45.884Z"
   },
   {
    "duration": 24,
    "start_time": "2023-04-04T14:44:46.417Z"
   },
   {
    "duration": 22,
    "start_time": "2023-04-04T14:44:46.781Z"
   },
   {
    "duration": 5,
    "start_time": "2023-04-04T14:44:47.135Z"
   },
   {
    "duration": 707,
    "start_time": "2023-04-04T14:44:47.736Z"
   },
   {
    "duration": 8,
    "start_time": "2023-04-04T14:44:48.445Z"
   },
   {
    "duration": 6,
    "start_time": "2023-04-04T14:44:48.455Z"
   },
   {
    "duration": 13,
    "start_time": "2023-04-04T14:44:48.733Z"
   },
   {
    "duration": 530,
    "start_time": "2023-04-04T14:44:49.085Z"
   },
   {
    "duration": 455,
    "start_time": "2023-04-04T14:44:49.617Z"
   },
   {
    "duration": 905,
    "start_time": "2023-04-04T14:44:50.282Z"
   },
   {
    "duration": 159,
    "start_time": "2023-04-04T14:44:51.452Z"
   },
   {
    "duration": 301,
    "start_time": "2023-04-04T14:44:51.836Z"
   },
   {
    "duration": 17,
    "start_time": "2023-04-04T14:44:52.260Z"
   },
   {
    "duration": 8,
    "start_time": "2023-04-04T14:44:52.454Z"
   },
   {
    "duration": 3,
    "start_time": "2023-04-04T14:44:53.322Z"
   },
   {
    "duration": 5,
    "start_time": "2023-04-04T14:44:53.742Z"
   },
   {
    "duration": 5,
    "start_time": "2023-04-04T14:44:53.951Z"
   },
   {
    "duration": 22,
    "start_time": "2023-04-04T14:44:54.368Z"
   },
   {
    "duration": 3,
    "start_time": "2023-04-04T14:44:54.787Z"
   },
   {
    "duration": 10,
    "start_time": "2023-04-04T14:44:55.018Z"
   },
   {
    "duration": 887,
    "start_time": "2023-04-04T14:44:55.416Z"
   },
   {
    "duration": 0,
    "start_time": "2023-04-04T14:44:56.305Z"
   },
   {
    "duration": 0,
    "start_time": "2023-04-04T14:44:56.306Z"
   },
   {
    "duration": 4746,
    "start_time": "2023-04-04T14:44:56.467Z"
   },
   {
    "duration": 40,
    "start_time": "2023-04-04T14:45:01.215Z"
   },
   {
    "duration": 2142,
    "start_time": "2023-04-04T14:45:01.257Z"
   },
   {
    "duration": 0,
    "start_time": "2023-04-04T14:45:03.401Z"
   },
   {
    "duration": 0,
    "start_time": "2023-04-04T14:45:03.402Z"
   },
   {
    "duration": 0,
    "start_time": "2023-04-04T14:45:03.403Z"
   },
   {
    "duration": 3,
    "start_time": "2023-04-04T14:45:03.513Z"
   },
   {
    "duration": 14,
    "start_time": "2023-04-04T14:45:03.944Z"
   },
   {
    "duration": 15,
    "start_time": "2023-04-04T14:45:04.184Z"
   },
   {
    "duration": 11,
    "start_time": "2023-04-04T14:45:05.297Z"
   },
   {
    "duration": 3,
    "start_time": "2023-04-04T14:45:07.282Z"
   },
   {
    "duration": 1409,
    "start_time": "2023-04-04T14:45:07.653Z"
   },
   {
    "duration": 0,
    "start_time": "2023-04-04T14:45:09.064Z"
   },
   {
    "duration": 6,
    "start_time": "2023-04-04T14:45:10.392Z"
   },
   {
    "duration": 3297,
    "start_time": "2023-04-04T14:45:12.744Z"
   },
   {
    "duration": 0,
    "start_time": "2023-04-04T14:45:16.043Z"
   },
   {
    "duration": 0,
    "start_time": "2023-04-04T14:45:16.044Z"
   },
   {
    "duration": 2,
    "start_time": "2023-04-04T14:45:46.156Z"
   },
   {
    "duration": 5,
    "start_time": "2023-04-04T14:45:46.651Z"
   },
   {
    "duration": 5,
    "start_time": "2023-04-04T14:45:47.201Z"
   },
   {
    "duration": 14,
    "start_time": "2023-04-04T14:45:50.375Z"
   },
   {
    "duration": 3843,
    "start_time": "2023-04-04T14:46:14.767Z"
   },
   {
    "duration": 6243,
    "start_time": "2023-04-04T14:48:02.356Z"
   },
   {
    "duration": 3,
    "start_time": "2023-04-04T14:48:20.345Z"
   },
   {
    "duration": 41,
    "start_time": "2023-04-04T14:48:21.228Z"
   },
   {
    "duration": 15,
    "start_time": "2023-04-04T14:48:22.033Z"
   },
   {
    "duration": 5,
    "start_time": "2023-04-04T14:48:23.106Z"
   },
   {
    "duration": 14,
    "start_time": "2023-04-04T14:48:24.384Z"
   },
   {
    "duration": 23,
    "start_time": "2023-04-04T14:48:25.584Z"
   },
   {
    "duration": 5,
    "start_time": "2023-04-04T14:48:27.151Z"
   },
   {
    "duration": 2,
    "start_time": "2023-04-04T14:48:29.294Z"
   },
   {
    "duration": 9,
    "start_time": "2023-04-04T14:48:29.957Z"
   },
   {
    "duration": 5,
    "start_time": "2023-04-04T14:48:30.301Z"
   },
   {
    "duration": 16,
    "start_time": "2023-04-04T14:48:43.166Z"
   },
   {
    "duration": 3,
    "start_time": "2023-04-04T14:48:47.784Z"
   },
   {
    "duration": 460,
    "start_time": "2023-04-04T14:48:48.318Z"
   },
   {
    "duration": 963,
    "start_time": "2023-04-04T14:48:58.962Z"
   },
   {
    "duration": 152,
    "start_time": "2023-04-04T14:49:04.665Z"
   },
   {
    "duration": 437,
    "start_time": "2023-04-04T14:49:05.648Z"
   },
   {
    "duration": 4,
    "start_time": "2023-04-04T14:49:08.317Z"
   },
   {
    "duration": 10,
    "start_time": "2023-04-04T14:49:08.838Z"
   },
   {
    "duration": 4,
    "start_time": "2023-04-04T14:49:11.037Z"
   },
   {
    "duration": 4,
    "start_time": "2023-04-04T14:49:12.236Z"
   },
   {
    "duration": 5,
    "start_time": "2023-04-04T14:49:12.420Z"
   },
   {
    "duration": 3,
    "start_time": "2023-04-04T14:49:16.001Z"
   },
   {
    "duration": 3,
    "start_time": "2023-04-04T14:49:36.367Z"
   },
   {
    "duration": 12,
    "start_time": "2023-04-04T14:49:36.766Z"
   },
   {
    "duration": 720,
    "start_time": "2023-04-04T14:49:38.236Z"
   },
   {
    "duration": 16,
    "start_time": "2023-04-04T14:49:51.384Z"
   },
   {
    "duration": 12,
    "start_time": "2023-04-04T14:49:51.905Z"
   },
   {
    "duration": 15,
    "start_time": "2023-04-04T14:50:00.392Z"
   },
   {
    "duration": 7615,
    "start_time": "2023-04-05T16:13:30.471Z"
   },
   {
    "duration": 440,
    "start_time": "2023-04-05T16:13:38.089Z"
   },
   {
    "duration": 136,
    "start_time": "2023-04-05T16:13:38.531Z"
   },
   {
    "duration": 0,
    "start_time": "2023-04-05T16:13:38.672Z"
   },
   {
    "duration": 0,
    "start_time": "2023-04-05T16:13:38.673Z"
   },
   {
    "duration": 0,
    "start_time": "2023-04-05T16:13:38.675Z"
   },
   {
    "duration": 0,
    "start_time": "2023-04-05T16:13:38.676Z"
   },
   {
    "duration": 0,
    "start_time": "2023-04-05T16:13:38.677Z"
   },
   {
    "duration": 0,
    "start_time": "2023-04-05T16:13:38.679Z"
   },
   {
    "duration": 0,
    "start_time": "2023-04-05T16:13:38.680Z"
   },
   {
    "duration": 0,
    "start_time": "2023-04-05T16:13:38.681Z"
   },
   {
    "duration": 0,
    "start_time": "2023-04-05T16:13:38.683Z"
   },
   {
    "duration": 0,
    "start_time": "2023-04-05T16:13:38.685Z"
   },
   {
    "duration": 0,
    "start_time": "2023-04-05T16:13:38.686Z"
   },
   {
    "duration": 0,
    "start_time": "2023-04-05T16:13:38.687Z"
   },
   {
    "duration": 0,
    "start_time": "2023-04-05T16:13:38.689Z"
   },
   {
    "duration": 0,
    "start_time": "2023-04-05T16:13:38.691Z"
   },
   {
    "duration": 1,
    "start_time": "2023-04-05T16:13:38.691Z"
   },
   {
    "duration": 0,
    "start_time": "2023-04-05T16:13:38.693Z"
   },
   {
    "duration": 0,
    "start_time": "2023-04-05T16:13:38.694Z"
   },
   {
    "duration": 0,
    "start_time": "2023-04-05T16:13:38.696Z"
   },
   {
    "duration": 0,
    "start_time": "2023-04-05T16:13:38.696Z"
   },
   {
    "duration": 0,
    "start_time": "2023-04-05T16:13:38.697Z"
   },
   {
    "duration": 0,
    "start_time": "2023-04-05T16:13:38.698Z"
   },
   {
    "duration": 0,
    "start_time": "2023-04-05T16:13:38.699Z"
   },
   {
    "duration": 0,
    "start_time": "2023-04-05T16:13:38.699Z"
   },
   {
    "duration": 0,
    "start_time": "2023-04-05T16:13:38.735Z"
   },
   {
    "duration": 0,
    "start_time": "2023-04-05T16:13:38.736Z"
   },
   {
    "duration": 0,
    "start_time": "2023-04-05T16:13:38.738Z"
   },
   {
    "duration": 0,
    "start_time": "2023-04-05T16:13:38.739Z"
   },
   {
    "duration": 0,
    "start_time": "2023-04-05T16:13:38.740Z"
   },
   {
    "duration": 0,
    "start_time": "2023-04-05T16:13:38.741Z"
   },
   {
    "duration": 0,
    "start_time": "2023-04-05T16:13:38.743Z"
   },
   {
    "duration": 0,
    "start_time": "2023-04-05T16:13:38.746Z"
   },
   {
    "duration": 0,
    "start_time": "2023-04-05T16:13:38.750Z"
   },
   {
    "duration": 0,
    "start_time": "2023-04-05T16:13:38.751Z"
   },
   {
    "duration": 0,
    "start_time": "2023-04-05T16:13:38.753Z"
   },
   {
    "duration": 0,
    "start_time": "2023-04-05T16:13:38.754Z"
   },
   {
    "duration": 0,
    "start_time": "2023-04-05T16:13:38.756Z"
   },
   {
    "duration": 0,
    "start_time": "2023-04-05T16:13:38.758Z"
   },
   {
    "duration": 0,
    "start_time": "2023-04-05T16:13:38.759Z"
   },
   {
    "duration": 0,
    "start_time": "2023-04-05T16:13:38.760Z"
   },
   {
    "duration": 0,
    "start_time": "2023-04-05T16:13:38.762Z"
   },
   {
    "duration": 0,
    "start_time": "2023-04-05T16:13:38.764Z"
   },
   {
    "duration": 0,
    "start_time": "2023-04-05T16:13:38.765Z"
   },
   {
    "duration": 0,
    "start_time": "2023-04-05T16:13:38.766Z"
   },
   {
    "duration": 0,
    "start_time": "2023-04-05T16:13:38.768Z"
   },
   {
    "duration": 0,
    "start_time": "2023-04-05T16:13:38.769Z"
   },
   {
    "duration": 0,
    "start_time": "2023-04-05T16:13:38.771Z"
   },
   {
    "duration": 0,
    "start_time": "2023-04-05T16:13:38.772Z"
   },
   {
    "duration": 0,
    "start_time": "2023-04-05T16:13:38.834Z"
   },
   {
    "duration": 0,
    "start_time": "2023-04-05T16:13:38.836Z"
   },
   {
    "duration": 0,
    "start_time": "2023-04-05T16:13:38.838Z"
   },
   {
    "duration": 0,
    "start_time": "2023-04-05T16:13:38.840Z"
   },
   {
    "duration": 0,
    "start_time": "2023-04-05T16:13:38.841Z"
   },
   {
    "duration": 0,
    "start_time": "2023-04-05T16:13:38.843Z"
   },
   {
    "duration": 0,
    "start_time": "2023-04-05T16:13:38.845Z"
   },
   {
    "duration": 0,
    "start_time": "2023-04-05T16:13:38.848Z"
   },
   {
    "duration": 0,
    "start_time": "2023-04-05T16:13:38.849Z"
   },
   {
    "duration": 45,
    "start_time": "2023-04-05T16:20:31.052Z"
   },
   {
    "duration": 14,
    "start_time": "2023-04-05T16:20:31.100Z"
   },
   {
    "duration": 9,
    "start_time": "2023-04-05T16:20:31.116Z"
   },
   {
    "duration": 56,
    "start_time": "2023-04-05T16:20:31.128Z"
   },
   {
    "duration": 44,
    "start_time": "2023-04-05T16:20:31.186Z"
   },
   {
    "duration": 20,
    "start_time": "2023-04-05T16:20:31.232Z"
   },
   {
    "duration": 562,
    "start_time": "2023-04-05T16:20:31.254Z"
   },
   {
    "duration": 16,
    "start_time": "2023-04-05T16:20:31.818Z"
   },
   {
    "duration": 31,
    "start_time": "2023-04-05T16:20:31.836Z"
   },
   {
    "duration": 39,
    "start_time": "2023-04-05T16:20:31.870Z"
   },
   {
    "duration": 362,
    "start_time": "2023-04-05T16:20:31.911Z"
   },
   {
    "duration": 444,
    "start_time": "2023-04-05T16:20:32.275Z"
   },
   {
    "duration": 912,
    "start_time": "2023-04-05T16:20:32.721Z"
   },
   {
    "duration": 254,
    "start_time": "2023-04-05T16:20:33.635Z"
   },
   {
    "duration": 341,
    "start_time": "2023-04-05T16:20:33.892Z"
   },
   {
    "duration": 24,
    "start_time": "2023-04-05T16:20:34.235Z"
   },
   {
    "duration": 8,
    "start_time": "2023-04-05T16:20:34.261Z"
   },
   {
    "duration": 9,
    "start_time": "2023-04-05T16:20:34.271Z"
   },
   {
    "duration": 6,
    "start_time": "2023-04-05T16:20:34.282Z"
   },
   {
    "duration": 7,
    "start_time": "2023-04-05T16:20:34.290Z"
   },
   {
    "duration": 60,
    "start_time": "2023-04-05T16:20:34.299Z"
   },
   {
    "duration": 3,
    "start_time": "2023-04-05T16:20:34.361Z"
   },
   {
    "duration": 38,
    "start_time": "2023-04-05T16:20:34.365Z"
   },
   {
    "duration": 993,
    "start_time": "2023-04-05T16:20:34.405Z"
   },
   {
    "duration": 48,
    "start_time": "2023-04-05T16:20:35.399Z"
   },
   {
    "duration": 1060,
    "start_time": "2023-04-05T16:20:35.449Z"
   },
   {
    "duration": 4193,
    "start_time": "2023-04-05T16:20:36.511Z"
   },
   {
    "duration": 24,
    "start_time": "2023-04-05T16:20:40.709Z"
   },
   {
    "duration": 4347,
    "start_time": "2023-04-05T16:20:40.735Z"
   },
   {
    "duration": 5,
    "start_time": "2023-04-05T16:20:45.083Z"
   },
   {
    "duration": 3098,
    "start_time": "2023-04-05T16:20:45.090Z"
   },
   {
    "duration": 6,
    "start_time": "2023-04-05T16:20:48.191Z"
   },
   {
    "duration": 9,
    "start_time": "2023-04-05T16:20:48.199Z"
   },
   {
    "duration": 447949,
    "start_time": "2023-04-05T16:20:48.209Z"
   },
   {
    "duration": 19,
    "start_time": "2023-04-05T16:28:16.160Z"
   },
   {
    "duration": 5871,
    "start_time": "2023-04-05T16:28:16.181Z"
   },
   {
    "duration": 4,
    "start_time": "2023-04-05T16:28:22.054Z"
   },
   {
    "duration": 3217,
    "start_time": "2023-04-05T16:28:22.060Z"
   },
   {
    "duration": 279035,
    "start_time": "2023-04-05T16:28:25.279Z"
   },
   {
    "duration": 20,
    "start_time": "2023-04-05T16:33:04.315Z"
   },
   {
    "duration": 3806,
    "start_time": "2023-04-05T16:33:04.337Z"
   },
   {
    "duration": 4,
    "start_time": "2023-04-05T16:33:08.144Z"
   },
   {
    "duration": 22,
    "start_time": "2023-04-05T16:33:08.150Z"
   },
   {
    "duration": 19,
    "start_time": "2023-04-05T16:33:08.174Z"
   },
   {
    "duration": 18,
    "start_time": "2023-04-05T16:33:08.195Z"
   },
   {
    "duration": 5162,
    "start_time": "2023-04-05T16:33:08.215Z"
   },
   {
    "duration": 5612,
    "start_time": "2023-04-05T16:33:13.379Z"
   },
   {
    "duration": 5,
    "start_time": "2023-04-05T16:33:18.993Z"
   },
   {
    "duration": 18,
    "start_time": "2023-04-05T16:33:19.000Z"
   },
   {
    "duration": 2910,
    "start_time": "2023-04-05T16:33:19.019Z"
   },
   {
    "duration": 5,
    "start_time": "2023-04-05T16:33:21.934Z"
   },
   {
    "duration": 766466,
    "start_time": "2023-04-05T16:33:21.941Z"
   },
   {
    "duration": 0,
    "start_time": "2023-04-05T16:46:08.409Z"
   },
   {
    "duration": 0,
    "start_time": "2023-04-05T16:46:08.410Z"
   },
   {
    "duration": 0,
    "start_time": "2023-04-05T16:46:08.412Z"
   },
   {
    "duration": 0,
    "start_time": "2023-04-05T16:46:08.413Z"
   },
   {
    "duration": 0,
    "start_time": "2023-04-05T16:46:08.414Z"
   },
   {
    "duration": 17170,
    "start_time": "2023-04-05T16:46:15.096Z"
   },
   {
    "duration": 6301,
    "start_time": "2023-04-06T10:17:59.892Z"
   },
   {
    "duration": 411,
    "start_time": "2023-04-06T10:18:11.416Z"
   },
   {
    "duration": 76,
    "start_time": "2023-04-06T10:18:14.028Z"
   },
   {
    "duration": 12,
    "start_time": "2023-04-06T10:18:19.612Z"
   },
   {
    "duration": 4,
    "start_time": "2023-04-06T10:18:21.057Z"
   },
   {
    "duration": 18,
    "start_time": "2023-04-06T10:18:22.325Z"
   },
   {
    "duration": 19,
    "start_time": "2023-04-06T10:18:22.763Z"
   },
   {
    "duration": 3,
    "start_time": "2023-04-06T10:18:23.694Z"
   },
   {
    "duration": 505,
    "start_time": "2023-04-06T10:18:24.893Z"
   },
   {
    "duration": 7,
    "start_time": "2023-04-06T10:18:27.517Z"
   },
   {
    "duration": 4,
    "start_time": "2023-04-06T10:18:27.893Z"
   },
   {
    "duration": 10,
    "start_time": "2023-04-06T10:18:28.664Z"
   },
   {
    "duration": 494,
    "start_time": "2023-04-06T10:18:30.195Z"
   },
   {
    "duration": 434,
    "start_time": "2023-04-06T10:18:30.691Z"
   },
   {
    "duration": 693,
    "start_time": "2023-04-06T10:18:32.789Z"
   },
   {
    "duration": 176,
    "start_time": "2023-04-06T10:18:34.898Z"
   },
   {
    "duration": 224,
    "start_time": "2023-04-06T10:18:35.792Z"
   },
   {
    "duration": 24,
    "start_time": "2023-04-06T10:18:36.805Z"
   },
   {
    "duration": 6,
    "start_time": "2023-04-06T10:18:37.147Z"
   },
   {
    "duration": 3,
    "start_time": "2023-04-06T10:18:39.290Z"
   },
   {
    "duration": 4,
    "start_time": "2023-04-06T10:18:40.259Z"
   },
   {
    "duration": 5,
    "start_time": "2023-04-06T10:18:40.690Z"
   },
   {
    "duration": 25,
    "start_time": "2023-04-06T10:18:41.594Z"
   },
   {
    "duration": 3,
    "start_time": "2023-04-06T10:18:42.335Z"
   },
   {
    "duration": 9,
    "start_time": "2023-04-06T10:18:42.759Z"
   },
   {
    "duration": 523,
    "start_time": "2023-04-06T10:18:43.729Z"
   },
   {
    "duration": 33,
    "start_time": "2023-04-06T10:18:48.092Z"
   },
   {
    "duration": 689,
    "start_time": "2023-04-06T10:18:48.493Z"
   },
   {
    "duration": 3880,
    "start_time": "2023-04-06T10:18:50.142Z"
   },
   {
    "duration": 19,
    "start_time": "2023-04-06T10:18:54.024Z"
   },
   {
    "duration": 3233,
    "start_time": "2023-04-06T10:18:54.044Z"
   },
   {
    "duration": 3,
    "start_time": "2023-04-06T10:18:57.279Z"
   },
   {
    "duration": 2099,
    "start_time": "2023-04-06T10:18:57.700Z"
   },
   {
    "duration": 6,
    "start_time": "2023-04-06T10:18:59.801Z"
   },
   {
    "duration": 8,
    "start_time": "2023-04-06T10:18:59.808Z"
   },
   {
    "duration": 325803,
    "start_time": "2023-04-06T10:18:59.819Z"
   },
   {
    "duration": 18,
    "start_time": "2023-04-06T10:24:25.623Z"
   },
   {
    "duration": 4495,
    "start_time": "2023-04-06T10:24:25.642Z"
   },
   {
    "duration": 6572,
    "start_time": "2023-04-06T10:28:26.482Z"
   },
   {
    "duration": 3,
    "start_time": "2023-04-06T10:29:14.432Z"
   },
   {
    "duration": 6768,
    "start_time": "2023-04-06T10:29:15.161Z"
   },
   {
    "duration": 7265,
    "start_time": "2023-04-06T10:33:14.813Z"
   },
   {
    "duration": 1417,
    "start_time": "2023-04-06T10:33:32.090Z"
   },
   {
    "duration": 2,
    "start_time": "2023-04-06T10:33:35.196Z"
   },
   {
    "duration": 39,
    "start_time": "2023-04-06T10:33:37.855Z"
   },
   {
    "duration": 11,
    "start_time": "2023-04-06T10:34:54.357Z"
   },
   {
    "duration": 4,
    "start_time": "2023-04-06T10:34:56.916Z"
   },
   {
    "duration": 14,
    "start_time": "2023-04-06T10:34:59.421Z"
   },
   {
    "duration": 20,
    "start_time": "2023-04-06T10:35:02.079Z"
   },
   {
    "duration": 3,
    "start_time": "2023-04-06T10:35:16.728Z"
   },
   {
    "duration": 7,
    "start_time": "2023-04-06T10:35:22.596Z"
   },
   {
    "duration": 4,
    "start_time": "2023-04-06T10:35:23.005Z"
   },
   {
    "duration": 137,
    "start_time": "2023-04-06T10:36:09.830Z"
   },
   {
    "duration": 1257,
    "start_time": "2023-04-06T10:36:14.682Z"
   },
   {
    "duration": 1152,
    "start_time": "2023-04-06T10:36:21.979Z"
   },
   {
    "duration": 42,
    "start_time": "2023-04-06T10:36:38.614Z"
   },
   {
    "duration": 16,
    "start_time": "2023-04-06T10:36:43.777Z"
   },
   {
    "duration": 9,
    "start_time": "2023-04-06T10:36:47.089Z"
   },
   {
    "duration": 9,
    "start_time": "2023-04-06T10:36:52.658Z"
   },
   {
    "duration": 10,
    "start_time": "2023-04-06T10:37:01.220Z"
   },
   {
    "duration": 4,
    "start_time": "2023-04-06T10:37:05.259Z"
   },
   {
    "duration": 11,
    "start_time": "2023-04-06T10:37:30.477Z"
   },
   {
    "duration": 36,
    "start_time": "2023-04-06T10:37:33.576Z"
   },
   {
    "duration": 10,
    "start_time": "2023-04-06T10:37:37.217Z"
   },
   {
    "duration": 3,
    "start_time": "2023-04-06T10:37:47.756Z"
   },
   {
    "duration": 10,
    "start_time": "2023-04-06T10:37:51.397Z"
   },
   {
    "duration": 16,
    "start_time": "2023-04-06T10:38:20.293Z"
   },
   {
    "duration": 5,
    "start_time": "2023-04-06T10:38:26.326Z"
   },
   {
    "duration": 7,
    "start_time": "2023-04-06T10:38:29.061Z"
   },
   {
    "duration": 4,
    "start_time": "2023-04-06T10:38:29.756Z"
   },
   {
    "duration": 10,
    "start_time": "2023-04-06T10:38:30.774Z"
   },
   {
    "duration": 367,
    "start_time": "2023-04-06T10:38:40.529Z"
   },
   {
    "duration": 999,
    "start_time": "2023-04-06T10:39:02.253Z"
   },
   {
    "duration": 1232,
    "start_time": "2023-04-06T10:39:09.352Z"
   },
   {
    "duration": 134,
    "start_time": "2023-04-06T10:40:30.489Z"
   },
   {
    "duration": 232,
    "start_time": "2023-04-06T10:40:32.800Z"
   },
   {
    "duration": 6,
    "start_time": "2023-04-06T10:41:39.825Z"
   },
   {
    "duration": 5,
    "start_time": "2023-04-06T10:41:42.079Z"
   },
   {
    "duration": 3,
    "start_time": "2023-04-06T10:41:55.255Z"
   },
   {
    "duration": 5,
    "start_time": "2023-04-06T10:41:55.877Z"
   },
   {
    "duration": 8,
    "start_time": "2023-04-06T10:41:58.635Z"
   },
   {
    "duration": 622,
    "start_time": "2023-04-06T10:42:02.355Z"
   },
   {
    "duration": 706,
    "start_time": "2023-04-06T10:42:11.266Z"
   },
   {
    "duration": 2911,
    "start_time": "2023-04-06T10:42:34.202Z"
   },
   {
    "duration": 3,
    "start_time": "2023-04-06T10:45:47.118Z"
   },
   {
    "duration": 3756,
    "start_time": "2023-04-06T10:45:52.653Z"
   },
   {
    "duration": 4,
    "start_time": "2023-04-06T10:46:05.169Z"
   },
   {
    "duration": 5,
    "start_time": "2023-04-06T10:46:14.055Z"
   },
   {
    "duration": 6603,
    "start_time": "2023-04-06T10:55:23.210Z"
   },
   {
    "duration": 1515,
    "start_time": "2023-04-06T10:55:31.505Z"
   },
   {
    "duration": 3,
    "start_time": "2023-04-06T10:55:33.914Z"
   },
   {
    "duration": 37,
    "start_time": "2023-04-06T10:55:41.137Z"
   },
   {
    "duration": 11,
    "start_time": "2023-04-06T10:55:47.020Z"
   },
   {
    "duration": 5,
    "start_time": "2023-04-06T10:55:51.836Z"
   },
   {
    "duration": 14,
    "start_time": "2023-04-06T10:55:54.095Z"
   },
   {
    "duration": 18,
    "start_time": "2023-04-06T10:55:55.222Z"
   },
   {
    "duration": 4,
    "start_time": "2023-04-06T10:55:56.032Z"
   },
   {
    "duration": 7,
    "start_time": "2023-04-06T10:55:57.686Z"
   },
   {
    "duration": 3,
    "start_time": "2023-04-06T10:55:58.249Z"
   },
   {
    "duration": 10,
    "start_time": "2023-04-06T10:55:59.145Z"
   },
   {
    "duration": 381,
    "start_time": "2023-04-06T10:56:00.223Z"
   },
   {
    "duration": 1124,
    "start_time": "2023-04-06T10:56:03.673Z"
   },
   {
    "duration": 129,
    "start_time": "2023-04-06T10:56:07.935Z"
   },
   {
    "duration": 299,
    "start_time": "2023-04-06T10:56:09.368Z"
   },
   {
    "duration": 7,
    "start_time": "2023-04-06T10:56:11.548Z"
   },
   {
    "duration": 5,
    "start_time": "2023-04-06T10:56:12.469Z"
   },
   {
    "duration": 3,
    "start_time": "2023-04-06T10:56:15.671Z"
   },
   {
    "duration": 4,
    "start_time": "2023-04-06T10:56:16.867Z"
   },
   {
    "duration": 9,
    "start_time": "2023-04-06T10:56:19.728Z"
   },
   {
    "duration": 537,
    "start_time": "2023-04-06T10:56:21.785Z"
   },
   {
    "duration": 722,
    "start_time": "2023-04-06T10:56:44.649Z"
   },
   {
    "duration": 3824,
    "start_time": "2023-04-06T10:56:48.436Z"
   },
   {
    "duration": 5,
    "start_time": "2023-04-06T10:57:24.865Z"
   },
   {
    "duration": 4,
    "start_time": "2023-04-06T10:57:29.925Z"
   },
   {
    "duration": 169826,
    "start_time": "2023-04-06T10:57:31.749Z"
   },
   {
    "duration": 23,
    "start_time": "2023-04-06T11:00:32.602Z"
   },
   {
    "duration": 1663,
    "start_time": "2023-04-06T11:00:35.496Z"
   },
   {
    "duration": 3571,
    "start_time": "2023-04-06T11:01:34.123Z"
   },
   {
    "duration": 66147,
    "start_time": "2023-04-06T11:01:52.097Z"
   },
   {
    "duration": 69233,
    "start_time": "2023-04-06T11:04:08.873Z"
   },
   {
    "duration": 5,
    "start_time": "2023-04-06T11:05:47.668Z"
   },
   {
    "duration": 5564,
    "start_time": "2023-04-06T11:06:57.678Z"
   },
   {
    "duration": 4,
    "start_time": "2023-04-06T11:07:15.105Z"
   },
   {
    "duration": 4,
    "start_time": "2023-04-06T11:07:15.822Z"
   },
   {
    "duration": 16,
    "start_time": "2023-04-06T11:07:24.232Z"
   },
   {
    "duration": 6328,
    "start_time": "2023-04-06T11:07:36.334Z"
   },
   {
    "duration": 4437,
    "start_time": "2023-04-06T11:08:34.691Z"
   },
   {
    "duration": 5,
    "start_time": "2023-04-06T11:08:58.539Z"
   },
   {
    "duration": 12,
    "start_time": "2023-04-06T11:08:59.325Z"
   },
   {
    "duration": 2280,
    "start_time": "2023-04-06T11:09:05.481Z"
   },
   {
    "duration": 5,
    "start_time": "2023-04-06T11:09:18.324Z"
   },
   {
    "duration": 275856,
    "start_time": "2023-04-06T11:09:23.167Z"
   },
   {
    "duration": 1957,
    "start_time": "2023-04-06T11:28:53.487Z"
   },
   {
    "duration": 90982,
    "start_time": "2023-04-06T11:29:01.191Z"
   },
   {
    "duration": 107101,
    "start_time": "2023-04-06T12:06:15.176Z"
   },
   {
    "duration": 4,
    "start_time": "2023-04-06T12:08:45.130Z"
   }
  ],
  "kernelspec": {
   "display_name": "Python 3 (ipykernel)",
   "language": "python",
   "name": "python3"
  },
  "language_info": {
   "codemirror_mode": {
    "name": "ipython",
    "version": 3
   },
   "file_extension": ".py",
   "mimetype": "text/x-python",
   "name": "python",
   "nbconvert_exporter": "python",
   "pygments_lexer": "ipython3",
   "version": "3.9.5"
  },
  "toc": {
   "base_numbering": 1,
   "nav_menu": {},
   "number_sections": true,
   "sideBar": true,
   "skip_h1_title": true,
   "title_cell": "Содержание",
   "title_sidebar": "Contents",
   "toc_cell": true,
   "toc_position": {},
   "toc_section_display": true,
   "toc_window_display": false
  }
 },
 "nbformat": 4,
 "nbformat_minor": 2
}
