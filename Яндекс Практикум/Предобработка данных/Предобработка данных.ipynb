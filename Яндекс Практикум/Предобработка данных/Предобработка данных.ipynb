{
 "cells": [
  {
   "cell_type": "markdown",
   "id": "a72ead04",
   "metadata": {
    "deletable": false,
    "editable": false,
    "id": "c81daeeb"
   },
   "source": [
    "# Исследование надежности заемщиков\n"
   ]
  },
  {
   "cell_type": "markdown",
   "id": "7d2b6854",
   "metadata": {
    "deletable": false,
    "editable": false,
    "id": "744d7639"
   },
   "source": [
    "## Откройте таблицу и изучите общую информацию о данных"
   ]
  },
  {
   "cell_type": "markdown",
   "id": "dfe3aec1",
   "metadata": {
    "deletable": false,
    "editable": false,
    "id": "e7a14c31"
   },
   "source": [
    "**Задание 1. Импортируйте библиотеку pandas. Считайте данные из csv-файла в датафрейм и сохраните в переменную `data`. Путь к файлу:**\n",
    "\n",
    "`/datasets/data.csv`"
   ]
  },
  {
   "cell_type": "code",
   "execution_count": 1,
   "id": "cdb8b8f3",
   "metadata": {
    "deletable": false,
    "id": "7bcf75c9"
   },
   "outputs": [],
   "source": [
    "import pandas as pd\n",
    "\n",
    "try:\n",
    "    data = pd.read_csv('../datasets/data.csv')\n",
    "except:\n",
    "    data = pd.read_csv('https://code.s3.yandex.net/datasets/data.csv')"
   ]
  },
  {
   "cell_type": "markdown",
   "id": "f97db8f0",
   "metadata": {
    "deletable": false,
    "editable": false,
    "id": "b8038fe3"
   },
   "source": [
    "**Задание 2. Выведите первые 20 строчек датафрейма `data` на экран.**"
   ]
  },
  {
   "cell_type": "code",
   "execution_count": 2,
   "id": "edec8a6d",
   "metadata": {
    "deletable": false,
    "id": "2a7cab99",
    "outputId": "1a8f3ef2-d323-4ec2-ddf7-89670b5944c4"
   },
   "outputs": [
    {
     "data": {
      "text/html": [
       "<div>\n",
       "<style scoped>\n",
       "    .dataframe tbody tr th:only-of-type {\n",
       "        vertical-align: middle;\n",
       "    }\n",
       "\n",
       "    .dataframe tbody tr th {\n",
       "        vertical-align: top;\n",
       "    }\n",
       "\n",
       "    .dataframe thead th {\n",
       "        text-align: right;\n",
       "    }\n",
       "</style>\n",
       "<table border=\"1\" class=\"dataframe\">\n",
       "  <thead>\n",
       "    <tr style=\"text-align: right;\">\n",
       "      <th></th>\n",
       "      <th>children</th>\n",
       "      <th>days_employed</th>\n",
       "      <th>dob_years</th>\n",
       "      <th>education</th>\n",
       "      <th>education_id</th>\n",
       "      <th>family_status</th>\n",
       "      <th>family_status_id</th>\n",
       "      <th>gender</th>\n",
       "      <th>income_type</th>\n",
       "      <th>debt</th>\n",
       "      <th>total_income</th>\n",
       "      <th>purpose</th>\n",
       "    </tr>\n",
       "  </thead>\n",
       "  <tbody>\n",
       "    <tr>\n",
       "      <th>0</th>\n",
       "      <td>1</td>\n",
       "      <td>-8437.673028</td>\n",
       "      <td>42</td>\n",
       "      <td>высшее</td>\n",
       "      <td>0</td>\n",
       "      <td>женат / замужем</td>\n",
       "      <td>0</td>\n",
       "      <td>F</td>\n",
       "      <td>сотрудник</td>\n",
       "      <td>0</td>\n",
       "      <td>253875.639453</td>\n",
       "      <td>покупка жилья</td>\n",
       "    </tr>\n",
       "    <tr>\n",
       "      <th>1</th>\n",
       "      <td>1</td>\n",
       "      <td>-4024.803754</td>\n",
       "      <td>36</td>\n",
       "      <td>среднее</td>\n",
       "      <td>1</td>\n",
       "      <td>женат / замужем</td>\n",
       "      <td>0</td>\n",
       "      <td>F</td>\n",
       "      <td>сотрудник</td>\n",
       "      <td>0</td>\n",
       "      <td>112080.014102</td>\n",
       "      <td>приобретение автомобиля</td>\n",
       "    </tr>\n",
       "    <tr>\n",
       "      <th>2</th>\n",
       "      <td>0</td>\n",
       "      <td>-5623.422610</td>\n",
       "      <td>33</td>\n",
       "      <td>Среднее</td>\n",
       "      <td>1</td>\n",
       "      <td>женат / замужем</td>\n",
       "      <td>0</td>\n",
       "      <td>M</td>\n",
       "      <td>сотрудник</td>\n",
       "      <td>0</td>\n",
       "      <td>145885.952297</td>\n",
       "      <td>покупка жилья</td>\n",
       "    </tr>\n",
       "    <tr>\n",
       "      <th>3</th>\n",
       "      <td>3</td>\n",
       "      <td>-4124.747207</td>\n",
       "      <td>32</td>\n",
       "      <td>среднее</td>\n",
       "      <td>1</td>\n",
       "      <td>женат / замужем</td>\n",
       "      <td>0</td>\n",
       "      <td>M</td>\n",
       "      <td>сотрудник</td>\n",
       "      <td>0</td>\n",
       "      <td>267628.550329</td>\n",
       "      <td>дополнительное образование</td>\n",
       "    </tr>\n",
       "    <tr>\n",
       "      <th>4</th>\n",
       "      <td>0</td>\n",
       "      <td>340266.072047</td>\n",
       "      <td>53</td>\n",
       "      <td>среднее</td>\n",
       "      <td>1</td>\n",
       "      <td>гражданский брак</td>\n",
       "      <td>1</td>\n",
       "      <td>F</td>\n",
       "      <td>пенсионер</td>\n",
       "      <td>0</td>\n",
       "      <td>158616.077870</td>\n",
       "      <td>сыграть свадьбу</td>\n",
       "    </tr>\n",
       "    <tr>\n",
       "      <th>5</th>\n",
       "      <td>0</td>\n",
       "      <td>-926.185831</td>\n",
       "      <td>27</td>\n",
       "      <td>высшее</td>\n",
       "      <td>0</td>\n",
       "      <td>гражданский брак</td>\n",
       "      <td>1</td>\n",
       "      <td>M</td>\n",
       "      <td>компаньон</td>\n",
       "      <td>0</td>\n",
       "      <td>255763.565419</td>\n",
       "      <td>покупка жилья</td>\n",
       "    </tr>\n",
       "    <tr>\n",
       "      <th>6</th>\n",
       "      <td>0</td>\n",
       "      <td>-2879.202052</td>\n",
       "      <td>43</td>\n",
       "      <td>высшее</td>\n",
       "      <td>0</td>\n",
       "      <td>женат / замужем</td>\n",
       "      <td>0</td>\n",
       "      <td>F</td>\n",
       "      <td>компаньон</td>\n",
       "      <td>0</td>\n",
       "      <td>240525.971920</td>\n",
       "      <td>операции с жильем</td>\n",
       "    </tr>\n",
       "    <tr>\n",
       "      <th>7</th>\n",
       "      <td>0</td>\n",
       "      <td>-152.779569</td>\n",
       "      <td>50</td>\n",
       "      <td>СРЕДНЕЕ</td>\n",
       "      <td>1</td>\n",
       "      <td>женат / замужем</td>\n",
       "      <td>0</td>\n",
       "      <td>M</td>\n",
       "      <td>сотрудник</td>\n",
       "      <td>0</td>\n",
       "      <td>135823.934197</td>\n",
       "      <td>образование</td>\n",
       "    </tr>\n",
       "    <tr>\n",
       "      <th>8</th>\n",
       "      <td>2</td>\n",
       "      <td>-6929.865299</td>\n",
       "      <td>35</td>\n",
       "      <td>ВЫСШЕЕ</td>\n",
       "      <td>0</td>\n",
       "      <td>гражданский брак</td>\n",
       "      <td>1</td>\n",
       "      <td>F</td>\n",
       "      <td>сотрудник</td>\n",
       "      <td>0</td>\n",
       "      <td>95856.832424</td>\n",
       "      <td>на проведение свадьбы</td>\n",
       "    </tr>\n",
       "    <tr>\n",
       "      <th>9</th>\n",
       "      <td>0</td>\n",
       "      <td>-2188.756445</td>\n",
       "      <td>41</td>\n",
       "      <td>среднее</td>\n",
       "      <td>1</td>\n",
       "      <td>женат / замужем</td>\n",
       "      <td>0</td>\n",
       "      <td>M</td>\n",
       "      <td>сотрудник</td>\n",
       "      <td>0</td>\n",
       "      <td>144425.938277</td>\n",
       "      <td>покупка жилья для семьи</td>\n",
       "    </tr>\n",
       "    <tr>\n",
       "      <th>10</th>\n",
       "      <td>2</td>\n",
       "      <td>-4171.483647</td>\n",
       "      <td>36</td>\n",
       "      <td>высшее</td>\n",
       "      <td>0</td>\n",
       "      <td>женат / замужем</td>\n",
       "      <td>0</td>\n",
       "      <td>M</td>\n",
       "      <td>компаньон</td>\n",
       "      <td>0</td>\n",
       "      <td>113943.491460</td>\n",
       "      <td>покупка недвижимости</td>\n",
       "    </tr>\n",
       "    <tr>\n",
       "      <th>11</th>\n",
       "      <td>0</td>\n",
       "      <td>-792.701887</td>\n",
       "      <td>40</td>\n",
       "      <td>среднее</td>\n",
       "      <td>1</td>\n",
       "      <td>женат / замужем</td>\n",
       "      <td>0</td>\n",
       "      <td>F</td>\n",
       "      <td>сотрудник</td>\n",
       "      <td>0</td>\n",
       "      <td>77069.234271</td>\n",
       "      <td>покупка коммерческой недвижимости</td>\n",
       "    </tr>\n",
       "    <tr>\n",
       "      <th>12</th>\n",
       "      <td>0</td>\n",
       "      <td>NaN</td>\n",
       "      <td>65</td>\n",
       "      <td>среднее</td>\n",
       "      <td>1</td>\n",
       "      <td>гражданский брак</td>\n",
       "      <td>1</td>\n",
       "      <td>M</td>\n",
       "      <td>пенсионер</td>\n",
       "      <td>0</td>\n",
       "      <td>NaN</td>\n",
       "      <td>сыграть свадьбу</td>\n",
       "    </tr>\n",
       "    <tr>\n",
       "      <th>13</th>\n",
       "      <td>0</td>\n",
       "      <td>-1846.641941</td>\n",
       "      <td>54</td>\n",
       "      <td>неоконченное высшее</td>\n",
       "      <td>2</td>\n",
       "      <td>женат / замужем</td>\n",
       "      <td>0</td>\n",
       "      <td>F</td>\n",
       "      <td>сотрудник</td>\n",
       "      <td>0</td>\n",
       "      <td>130458.228857</td>\n",
       "      <td>приобретение автомобиля</td>\n",
       "    </tr>\n",
       "    <tr>\n",
       "      <th>14</th>\n",
       "      <td>0</td>\n",
       "      <td>-1844.956182</td>\n",
       "      <td>56</td>\n",
       "      <td>высшее</td>\n",
       "      <td>0</td>\n",
       "      <td>гражданский брак</td>\n",
       "      <td>1</td>\n",
       "      <td>F</td>\n",
       "      <td>компаньон</td>\n",
       "      <td>1</td>\n",
       "      <td>165127.911772</td>\n",
       "      <td>покупка жилой недвижимости</td>\n",
       "    </tr>\n",
       "    <tr>\n",
       "      <th>15</th>\n",
       "      <td>1</td>\n",
       "      <td>-972.364419</td>\n",
       "      <td>26</td>\n",
       "      <td>среднее</td>\n",
       "      <td>1</td>\n",
       "      <td>женат / замужем</td>\n",
       "      <td>0</td>\n",
       "      <td>F</td>\n",
       "      <td>сотрудник</td>\n",
       "      <td>0</td>\n",
       "      <td>116820.904450</td>\n",
       "      <td>строительство собственной недвижимости</td>\n",
       "    </tr>\n",
       "    <tr>\n",
       "      <th>16</th>\n",
       "      <td>0</td>\n",
       "      <td>-1719.934226</td>\n",
       "      <td>35</td>\n",
       "      <td>среднее</td>\n",
       "      <td>1</td>\n",
       "      <td>женат / замужем</td>\n",
       "      <td>0</td>\n",
       "      <td>F</td>\n",
       "      <td>сотрудник</td>\n",
       "      <td>0</td>\n",
       "      <td>289202.704229</td>\n",
       "      <td>недвижимость</td>\n",
       "    </tr>\n",
       "    <tr>\n",
       "      <th>17</th>\n",
       "      <td>0</td>\n",
       "      <td>-2369.999720</td>\n",
       "      <td>33</td>\n",
       "      <td>высшее</td>\n",
       "      <td>0</td>\n",
       "      <td>гражданский брак</td>\n",
       "      <td>1</td>\n",
       "      <td>M</td>\n",
       "      <td>сотрудник</td>\n",
       "      <td>0</td>\n",
       "      <td>90410.586745</td>\n",
       "      <td>строительство недвижимости</td>\n",
       "    </tr>\n",
       "    <tr>\n",
       "      <th>18</th>\n",
       "      <td>0</td>\n",
       "      <td>400281.136913</td>\n",
       "      <td>53</td>\n",
       "      <td>среднее</td>\n",
       "      <td>1</td>\n",
       "      <td>вдовец / вдова</td>\n",
       "      <td>2</td>\n",
       "      <td>F</td>\n",
       "      <td>пенсионер</td>\n",
       "      <td>0</td>\n",
       "      <td>56823.777243</td>\n",
       "      <td>на покупку подержанного автомобиля</td>\n",
       "    </tr>\n",
       "    <tr>\n",
       "      <th>19</th>\n",
       "      <td>0</td>\n",
       "      <td>-10038.818549</td>\n",
       "      <td>48</td>\n",
       "      <td>СРЕДНЕЕ</td>\n",
       "      <td>1</td>\n",
       "      <td>в разводе</td>\n",
       "      <td>3</td>\n",
       "      <td>F</td>\n",
       "      <td>сотрудник</td>\n",
       "      <td>0</td>\n",
       "      <td>242831.107982</td>\n",
       "      <td>на покупку своего автомобиля</td>\n",
       "    </tr>\n",
       "  </tbody>\n",
       "</table>\n",
       "</div>"
      ],
      "text/plain": [
       "    children  days_employed  dob_years            education  education_id  \\\n",
       "0          1   -8437.673028         42               высшее             0   \n",
       "1          1   -4024.803754         36              среднее             1   \n",
       "2          0   -5623.422610         33              Среднее             1   \n",
       "3          3   -4124.747207         32              среднее             1   \n",
       "4          0  340266.072047         53              среднее             1   \n",
       "5          0    -926.185831         27               высшее             0   \n",
       "6          0   -2879.202052         43               высшее             0   \n",
       "7          0    -152.779569         50              СРЕДНЕЕ             1   \n",
       "8          2   -6929.865299         35               ВЫСШЕЕ             0   \n",
       "9          0   -2188.756445         41              среднее             1   \n",
       "10         2   -4171.483647         36               высшее             0   \n",
       "11         0    -792.701887         40              среднее             1   \n",
       "12         0            NaN         65              среднее             1   \n",
       "13         0   -1846.641941         54  неоконченное высшее             2   \n",
       "14         0   -1844.956182         56               высшее             0   \n",
       "15         1    -972.364419         26              среднее             1   \n",
       "16         0   -1719.934226         35              среднее             1   \n",
       "17         0   -2369.999720         33               высшее             0   \n",
       "18         0  400281.136913         53              среднее             1   \n",
       "19         0  -10038.818549         48              СРЕДНЕЕ             1   \n",
       "\n",
       "       family_status  family_status_id gender income_type  debt  \\\n",
       "0    женат / замужем                 0      F   сотрудник     0   \n",
       "1    женат / замужем                 0      F   сотрудник     0   \n",
       "2    женат / замужем                 0      M   сотрудник     0   \n",
       "3    женат / замужем                 0      M   сотрудник     0   \n",
       "4   гражданский брак                 1      F   пенсионер     0   \n",
       "5   гражданский брак                 1      M   компаньон     0   \n",
       "6    женат / замужем                 0      F   компаньон     0   \n",
       "7    женат / замужем                 0      M   сотрудник     0   \n",
       "8   гражданский брак                 1      F   сотрудник     0   \n",
       "9    женат / замужем                 0      M   сотрудник     0   \n",
       "10   женат / замужем                 0      M   компаньон     0   \n",
       "11   женат / замужем                 0      F   сотрудник     0   \n",
       "12  гражданский брак                 1      M   пенсионер     0   \n",
       "13   женат / замужем                 0      F   сотрудник     0   \n",
       "14  гражданский брак                 1      F   компаньон     1   \n",
       "15   женат / замужем                 0      F   сотрудник     0   \n",
       "16   женат / замужем                 0      F   сотрудник     0   \n",
       "17  гражданский брак                 1      M   сотрудник     0   \n",
       "18    вдовец / вдова                 2      F   пенсионер     0   \n",
       "19         в разводе                 3      F   сотрудник     0   \n",
       "\n",
       "     total_income                                 purpose  \n",
       "0   253875.639453                           покупка жилья  \n",
       "1   112080.014102                 приобретение автомобиля  \n",
       "2   145885.952297                           покупка жилья  \n",
       "3   267628.550329              дополнительное образование  \n",
       "4   158616.077870                         сыграть свадьбу  \n",
       "5   255763.565419                           покупка жилья  \n",
       "6   240525.971920                       операции с жильем  \n",
       "7   135823.934197                             образование  \n",
       "8    95856.832424                   на проведение свадьбы  \n",
       "9   144425.938277                 покупка жилья для семьи  \n",
       "10  113943.491460                    покупка недвижимости  \n",
       "11   77069.234271       покупка коммерческой недвижимости  \n",
       "12            NaN                         сыграть свадьбу  \n",
       "13  130458.228857                 приобретение автомобиля  \n",
       "14  165127.911772              покупка жилой недвижимости  \n",
       "15  116820.904450  строительство собственной недвижимости  \n",
       "16  289202.704229                            недвижимость  \n",
       "17   90410.586745              строительство недвижимости  \n",
       "18   56823.777243      на покупку подержанного автомобиля  \n",
       "19  242831.107982            на покупку своего автомобиля  "
      ]
     },
     "execution_count": 2,
     "metadata": {},
     "output_type": "execute_result"
    }
   ],
   "source": [
    "data.head(20)"
   ]
  },
  {
   "cell_type": "markdown",
   "id": "f5da7378",
   "metadata": {
    "deletable": false,
    "editable": false,
    "id": "1c12e233"
   },
   "source": [
    "**Задание 3. Выведите основную информацию о датафрейме с помощью метода `info()`.**"
   ]
  },
  {
   "cell_type": "code",
   "execution_count": 3,
   "id": "f31813a0",
   "metadata": {
    "deletable": false,
    "id": "2b757bca",
    "outputId": "15376089-8dad-46c9-b520-c05248d43158"
   },
   "outputs": [
    {
     "name": "stdout",
     "output_type": "stream",
     "text": [
      "<class 'pandas.core.frame.DataFrame'>\n",
      "RangeIndex: 21525 entries, 0 to 21524\n",
      "Data columns (total 12 columns):\n",
      " #   Column            Non-Null Count  Dtype  \n",
      "---  ------            --------------  -----  \n",
      " 0   children          21525 non-null  int64  \n",
      " 1   days_employed     19351 non-null  float64\n",
      " 2   dob_years         21525 non-null  int64  \n",
      " 3   education         21525 non-null  object \n",
      " 4   education_id      21525 non-null  int64  \n",
      " 5   family_status     21525 non-null  object \n",
      " 6   family_status_id  21525 non-null  int64  \n",
      " 7   gender            21525 non-null  object \n",
      " 8   income_type       21525 non-null  object \n",
      " 9   debt              21525 non-null  int64  \n",
      " 10  total_income      19351 non-null  float64\n",
      " 11  purpose           21525 non-null  object \n",
      "dtypes: float64(2), int64(5), object(5)\n",
      "memory usage: 2.0+ MB\n"
     ]
    }
   ],
   "source": [
    "data.info()"
   ]
  },
  {
   "cell_type": "markdown",
   "id": "62f32222",
   "metadata": {
    "deletable": false,
    "editable": false,
    "id": "333ec665"
   },
   "source": [
    "## Предобработка данных"
   ]
  },
  {
   "cell_type": "markdown",
   "id": "29caebe6",
   "metadata": {
    "deletable": false,
    "editable": false,
    "id": "02d92d53"
   },
   "source": [
    "### Удаление пропусков"
   ]
  },
  {
   "cell_type": "markdown",
   "id": "b937fb96",
   "metadata": {
    "deletable": false,
    "editable": false,
    "id": "cd84967c"
   },
   "source": [
    "**Задание 4. Выведите количество пропущенных значений для каждого столбца. Используйте комбинацию двух методов.**"
   ]
  },
  {
   "cell_type": "code",
   "execution_count": 4,
   "id": "68cb0101",
   "metadata": {
    "deletable": false,
    "id": "7f9b2309",
    "outputId": "81f4d817-781c-465c-ed15-91ce4446810d"
   },
   "outputs": [
    {
     "data": {
      "text/plain": [
       "children               0\n",
       "days_employed       2174\n",
       "dob_years              0\n",
       "education              0\n",
       "education_id           0\n",
       "family_status          0\n",
       "family_status_id       0\n",
       "gender                 0\n",
       "income_type            0\n",
       "debt                   0\n",
       "total_income        2174\n",
       "purpose                0\n",
       "dtype: int64"
      ]
     },
     "execution_count": 4,
     "metadata": {},
     "output_type": "execute_result"
    }
   ],
   "source": [
    "data.isna().sum()"
   ]
  },
  {
   "cell_type": "markdown",
   "id": "32dd2822",
   "metadata": {
    "deletable": false,
    "editable": false,
    "id": "db86e27b"
   },
   "source": [
    "**Задание 5. В двух столбцах есть пропущенные значения. Один из них — `days_employed`. Пропуски в этом столбце вы обработаете на следующем этапе. Другой столбец с пропущенными значениями — `total_income` — хранит данные о доходах. На сумму дохода сильнее всего влияет тип занятости, поэтому заполнить пропуски в этом столбце нужно медианным значением по каждому типу из столбца `income_type`. Например, у человека с типом занятости `сотрудник` пропуск в столбце `total_income` должен быть заполнен медианным доходом среди всех записей с тем же типом.**"
   ]
  },
  {
   "cell_type": "code",
   "execution_count": 5,
   "id": "1e77ef74",
   "metadata": {
    "deletable": false,
    "id": "42006a93"
   },
   "outputs": [],
   "source": [
    "for t in data['income_type'].unique():\n",
    "    data.loc[(data['income_type'] == t) & (data['total_income'].isna()), 'total_income'] = \\\n",
    "    data.loc[(data['income_type'] == t), 'total_income'].median()"
   ]
  },
  {
   "cell_type": "markdown",
   "id": "0fcc2022",
   "metadata": {
    "deletable": false,
    "editable": false,
    "id": "89da5ece"
   },
   "source": [
    "### Обработка аномальных значений"
   ]
  },
  {
   "cell_type": "markdown",
   "id": "fb6609a6",
   "metadata": {
    "deletable": false,
    "editable": false,
    "id": "57964554"
   },
   "source": [
    "**Задание 6. В данных могут встречаться артефакты (аномалии) — значения, которые не отражают действительность и появились по какой-то ошибке. таким артефактом будет отрицательное количество дней трудового стажа в столбце `days_employed`. Для реальных данных это нормально. Обработайте значения в этом столбце: замените все отрицательные значения положительными с помощью метода `abs()`.**"
   ]
  },
  {
   "cell_type": "code",
   "execution_count": 6,
   "id": "96e63961",
   "metadata": {
    "deletable": false,
    "id": "f6f055bf"
   },
   "outputs": [],
   "source": [
    "data['days_employed'] = data['days_employed'].abs()"
   ]
  },
  {
   "cell_type": "markdown",
   "id": "b02c517e",
   "metadata": {
    "deletable": false,
    "editable": false,
    "id": "6107dd2f"
   },
   "source": [
    "**Задание 7. Для каждого типа занятости выведите медианное значение трудового стажа `days_employed` в днях.**"
   ]
  },
  {
   "cell_type": "code",
   "execution_count": 7,
   "id": "06676ceb",
   "metadata": {
    "deletable": false,
    "id": "85a5faf6",
    "outputId": "801ef80e-522b-4668-f34e-565af7432bcf"
   },
   "outputs": [
    {
     "data": {
      "text/plain": [
       "income_type\n",
       "безработный        366413.652744\n",
       "в декрете            3296.759962\n",
       "госслужащий          2689.368353\n",
       "компаньон            1547.382223\n",
       "пенсионер          365213.306266\n",
       "предприниматель       520.848083\n",
       "сотрудник            1574.202821\n",
       "студент               578.751554\n",
       "Name: days_employed, dtype: float64"
      ]
     },
     "execution_count": 7,
     "metadata": {},
     "output_type": "execute_result"
    }
   ],
   "source": [
    "data.groupby('income_type')['days_employed'].agg('median')"
   ]
  },
  {
   "cell_type": "markdown",
   "id": "16691c0a",
   "metadata": {
    "deletable": false,
    "editable": false,
    "id": "38d1a030"
   },
   "source": [
    "У двух типов (безработные и пенсионеры) получатся аномально большие значения. Исправить такие значения сложно, поэтому оставьте их как есть. Тем более этот столбец не понадобится вам для исследования."
   ]
  },
  {
   "cell_type": "markdown",
   "id": "38a8ff03",
   "metadata": {
    "deletable": false,
    "editable": false,
    "id": "d8a9f147"
   },
   "source": [
    "**Задание 8. Выведите перечень уникальных значений столбца `children`.**"
   ]
  },
  {
   "cell_type": "code",
   "execution_count": 8,
   "id": "5dcd56bf",
   "metadata": {
    "deletable": false,
    "id": "ef5056eb",
    "outputId": "6975b15c-7f95-4697-d16d-a0c79b657b03"
   },
   "outputs": [
    {
     "data": {
      "text/plain": [
       "array([ 1,  0,  3,  2, -1,  4, 20,  5])"
      ]
     },
     "execution_count": 8,
     "metadata": {},
     "output_type": "execute_result"
    }
   ],
   "source": [
    "data['children'].unique()"
   ]
  },
  {
   "cell_type": "markdown",
   "id": "f9fcf05a",
   "metadata": {
    "deletable": false,
    "editable": false,
    "id": "40b9ebf2"
   },
   "source": [
    "**Задание 9. В столбце `children` есть два аномальных значения. Удалите строки, в которых встречаются такие аномальные значения из датафрейма `data`.**"
   ]
  },
  {
   "cell_type": "code",
   "execution_count": 9,
   "id": "7c1bdbe2",
   "metadata": {
    "deletable": false,
    "id": "3ff9801d"
   },
   "outputs": [],
   "source": [
    "data = data[(data['children'] != -1) & (data['children'] != 20)]"
   ]
  },
  {
   "cell_type": "markdown",
   "id": "00815275",
   "metadata": {
    "deletable": false,
    "editable": false,
    "id": "bbc4d0ce"
   },
   "source": [
    "**Задание 10. Ещё раз выведите перечень уникальных значений столбца `children`, чтобы убедиться, что артефакты удалены.**"
   ]
  },
  {
   "cell_type": "code",
   "execution_count": 10,
   "id": "c10ce165",
   "metadata": {
    "deletable": false,
    "id": "ad4fa8b7",
    "outputId": "b2097101-d49d-44d9-901b-32a65c9463d1"
   },
   "outputs": [
    {
     "data": {
      "text/plain": [
       "array([1, 0, 3, 2, 4, 5])"
      ]
     },
     "execution_count": 10,
     "metadata": {},
     "output_type": "execute_result"
    }
   ],
   "source": [
    "data['children'].unique()"
   ]
  },
  {
   "cell_type": "markdown",
   "id": "8bea6746",
   "metadata": {
    "deletable": false,
    "editable": false,
    "id": "75440b63"
   },
   "source": [
    "### Удаление пропусков (продолжение)"
   ]
  },
  {
   "cell_type": "markdown",
   "id": "12b96197",
   "metadata": {
    "deletable": false,
    "editable": false,
    "id": "f4ea573f"
   },
   "source": [
    "**Задание 11. Заполните пропуски в столбце `days_employed` медианными значениями по каждого типа занятости `income_type`.**"
   ]
  },
  {
   "cell_type": "code",
   "execution_count": 11,
   "id": "1ff2188b",
   "metadata": {
    "deletable": false,
    "id": "af6b1a7e"
   },
   "outputs": [],
   "source": [
    "for t in data['income_type'].unique():\n",
    "    data.loc[(data['income_type'] == t) & (data['days_employed'].isna()), 'days_employed'] = \\\n",
    "    data.loc[(data['income_type'] == t), 'days_employed'].median()"
   ]
  },
  {
   "cell_type": "markdown",
   "id": "6eb2c25f",
   "metadata": {
    "deletable": false,
    "editable": false,
    "id": "2753f40d"
   },
   "source": [
    "**Задание 12. Убедитесь, что все пропуски заполнены. Проверьте себя и ещё раз выведите количество пропущенных значений для каждого столбца с помощью двух методов.**"
   ]
  },
  {
   "cell_type": "code",
   "execution_count": 12,
   "id": "88988c0a",
   "metadata": {
    "deletable": false,
    "id": "55f78bc2",
    "outputId": "8da1e4e1-358e-4e87-98c9-f261bce0a7b2"
   },
   "outputs": [
    {
     "data": {
      "text/plain": [
       "children            0\n",
       "days_employed       0\n",
       "dob_years           0\n",
       "education           0\n",
       "education_id        0\n",
       "family_status       0\n",
       "family_status_id    0\n",
       "gender              0\n",
       "income_type         0\n",
       "debt                0\n",
       "total_income        0\n",
       "purpose             0\n",
       "dtype: int64"
      ]
     },
     "execution_count": 12,
     "metadata": {},
     "output_type": "execute_result"
    }
   ],
   "source": [
    "data.isna().sum()"
   ]
  },
  {
   "cell_type": "markdown",
   "id": "2b87ea76",
   "metadata": {
    "deletable": false,
    "editable": false,
    "id": "ddc81e43"
   },
   "source": [
    "### Изменение типов данных"
   ]
  },
  {
   "cell_type": "markdown",
   "id": "370caa8c",
   "metadata": {
    "deletable": false,
    "editable": false,
    "id": "42d19d24"
   },
   "source": [
    "**Задание 13. Замените вещественный тип данных в столбце `total_income` на целочисленный с помощью метода `astype()`.**"
   ]
  },
  {
   "cell_type": "code",
   "execution_count": 13,
   "id": "a26746f4",
   "metadata": {
    "deletable": false,
    "id": "920b65ad"
   },
   "outputs": [],
   "source": [
    "data['total_income'] = data['total_income'].astype(int)"
   ]
  },
  {
   "cell_type": "markdown",
   "id": "b9cac5e9",
   "metadata": {
    "deletable": false,
    "editable": false,
    "id": "80c420ba"
   },
   "source": [
    "### Обработка дубликатов"
   ]
  },
  {
   "cell_type": "markdown",
   "id": "d9fb1750",
   "metadata": {
    "deletable": false,
    "editable": false
   },
   "source": [
    "**Задание 14. Обработайте неявные дубликаты в столбце `education`. В этом столбце есть одни и те же значения, но записанные по-разному: с использованием заглавных и строчных букв. Приведите их к нижнему регистру. Проверьте остальные столбцы.**"
   ]
  },
  {
   "cell_type": "code",
   "execution_count": 14,
   "id": "bf0d6912",
   "metadata": {
    "deletable": false
   },
   "outputs": [],
   "source": [
    "data['education'] = data['education'].str.lower()"
   ]
  },
  {
   "cell_type": "markdown",
   "id": "507e7148",
   "metadata": {
    "deletable": false,
    "editable": false,
    "id": "dc587695"
   },
   "source": [
    "**Задание 15. Выведите на экран количество строк-дубликатов в данных. Если такие строки присутствуют, удалите их.**"
   ]
  },
  {
   "cell_type": "code",
   "execution_count": 15,
   "id": "6b610294",
   "metadata": {
    "deletable": false,
    "id": "3ee445e4",
    "outputId": "9684deba-1934-42d1-99e1-cda61740f822"
   },
   "outputs": [
    {
     "data": {
      "text/plain": [
       "71"
      ]
     },
     "execution_count": 15,
     "metadata": {},
     "output_type": "execute_result"
    }
   ],
   "source": [
    "data.duplicated().sum()"
   ]
  },
  {
   "cell_type": "code",
   "execution_count": 16,
   "id": "9ffe7e67",
   "metadata": {
    "deletable": false,
    "id": "8575fe05"
   },
   "outputs": [],
   "source": [
    "data = data.drop_duplicates()"
   ]
  },
  {
   "cell_type": "markdown",
   "id": "6f895d14",
   "metadata": {
    "deletable": false,
    "editable": false,
    "id": "9904cf55"
   },
   "source": [
    "### Категоризация данных"
   ]
  },
  {
   "cell_type": "markdown",
   "metadata": {
    "collapsed": false
   },
   "source": [
    "**Задание 16. На основании диапазонов, указанных ниже, создайте в датафрейме `data` столбец `total_income_category` с категориями:**\n",
    "\n",
    "- 0–30000 — `'E'`;\n",
    "- 30001–50000 — `'D'`;\n",
    "- 50001–200000 — `'C'`;\n",
    "- 200001–1000000 — `'B'`;\n",
    "- 1000001 и выше — `'A'`.\n",
    "\n",
    "\n",
    "**Например, кредитополучателю с доходом 25000 нужно назначить категорию `'E'`, а клиенту, получающему 235000, — `'B'`. Используйте собственную функцию с именем `categorize_income()` и метод `apply()`.**"
   ],
   "id": "2d0fe9175fe15491"
  },
  {
   "cell_type": "code",
   "execution_count": 17,
   "metadata": {
    "collapsed": false
   },
   "outputs": [],
   "source": [
    "def categorize_income(income):\n",
    "    try:\n",
    "        if 0 <= income <= 30000:\n",
    "            return 'E'\n",
    "        elif 30001 <= income <= 50000:\n",
    "            return 'D'\n",
    "        elif 50001 <= income <= 200000:\n",
    "            return 'C'\n",
    "        elif 200001 <= income <= 1000000:\n",
    "            return 'B'\n",
    "        elif income >= 1000001:\n",
    "            return 'A'\n",
    "    except:\n",
    "        pass"
   ],
   "id": "47a48bb2d3591d17"
  },
  {
   "cell_type": "code",
   "execution_count": 18,
   "metadata": {
    "collapsed": false
   },
   "outputs": [],
   "source": [
    "data['total_income_category'] = data['total_income'].apply(categorize_income)"
   ],
   "id": "731462f0edf2d81a"
  },
  {
   "cell_type": "markdown",
   "metadata": {
    "collapsed": false
   },
   "source": [
    "**Задание 17. Выведите на экран перечень уникальных целей взятия кредита из столбца `purpose`.**"
   ],
   "id": "6d6c9284072ff71b"
  },
  {
   "cell_type": "code",
   "execution_count": 19,
   "metadata": {
    "collapsed": false
   },
   "outputs": [
    {
     "data": {
      "text/plain": [
       "array(['покупка жилья', 'приобретение автомобиля',\n",
       "       'дополнительное образование', 'сыграть свадьбу',\n",
       "       'операции с жильем', 'образование', 'на проведение свадьбы',\n",
       "       'покупка жилья для семьи', 'покупка недвижимости',\n",
       "       'покупка коммерческой недвижимости', 'покупка жилой недвижимости',\n",
       "       'строительство собственной недвижимости', 'недвижимость',\n",
       "       'строительство недвижимости', 'на покупку подержанного автомобиля',\n",
       "       'на покупку своего автомобиля',\n",
       "       'операции с коммерческой недвижимостью',\n",
       "       'строительство жилой недвижимости', 'жилье',\n",
       "       'операции со своей недвижимостью', 'автомобили',\n",
       "       'заняться образованием', 'сделка с подержанным автомобилем',\n",
       "       'получение образования', 'автомобиль', 'свадьба',\n",
       "       'получение дополнительного образования', 'покупка своего жилья',\n",
       "       'операции с недвижимостью', 'получение высшего образования',\n",
       "       'свой автомобиль', 'сделка с автомобилем',\n",
       "       'профильное образование', 'высшее образование',\n",
       "       'покупка жилья для сдачи', 'на покупку автомобиля', 'ремонт жилью',\n",
       "       'заняться высшим образованием'], dtype=object)"
      ]
     },
     "execution_count": 19,
     "metadata": {},
     "output_type": "execute_result"
    }
   ],
   "source": [
    "data['purpose'].unique()"
   ],
   "id": "e0190c220174ac5f"
  },
  {
   "cell_type": "markdown",
   "metadata": {
    "collapsed": false
   },
   "source": [
    "**Задание 18. Создайте функцию, которая на основании данных из столбца `purpose` сформирует новый столбец `purpose_category`, в который войдут следующие категории:**\n",
    "\n",
    "- `'операции с автомобилем'`,\n",
    "- `'операции с недвижимостью'`,\n",
    "- `'проведение свадьбы'`,\n",
    "- `'получение образования'`.\n",
    "\n",
    "**Например, если в столбце `purpose` находится подстрока `'на покупку автомобиля'`, то в столбце `purpose_category` должна появиться строка `'операции с автомобилем'`.**\n",
    "\n",
    "**Используйте собственную функцию с именем `categorize_purpose()` и метод `apply()`. Изучите данные в столбце `purpose` и определите, какие подстроки помогут вам правильно определить категорию.**"
   ],
   "id": "ee6cef250cfb507d"
  },
  {
   "cell_type": "code",
   "execution_count": 20,
   "metadata": {
    "collapsed": false
   },
   "outputs": [],
   "source": [
    "def categorize_purpose(row):\n",
    "    try:\n",
    "        if 'автом' in row:\n",
    "            return 'операции с автомобилем'\n",
    "        elif 'жил' in row or 'недвиж' in row:\n",
    "            return 'операции с недвижимостью'\n",
    "        elif 'свад' in row:\n",
    "            return 'проведение свадьбы'\n",
    "        elif 'образов' in row:\n",
    "            return 'получение образования'\n",
    "    except:\n",
    "        return 'нет категории'"
   ],
   "id": "b557291143c79286"
  },
  {
   "cell_type": "code",
   "execution_count": 21,
   "metadata": {
    "collapsed": false
   },
   "outputs": [],
   "source": [
    "data['purpose_category'] = data['purpose'].apply(categorize_purpose)"
   ],
   "id": "a450bcfda77c603b"
  },
  {
   "cell_type": "markdown",
   "metadata": {
    "collapsed": false
   },
   "source": [
    "### Шаг 3. Исследуйте данные и ответьте на вопросы"
   ],
   "id": "2327d6d2d749c34d"
  },
  {
   "cell_type": "markdown",
   "metadata": {
    "collapsed": false
   },
   "source": [
    "#### 3.1 Есть ли зависимость между количеством детей и возвратом кредита в срок?"
   ],
   "id": "9c48c54323f25410"
  },
  {
   "cell_type": "markdown",
   "metadata": {
    "collapsed": false
   },
   "source": [
    "Построим сводную таблицу показывающую зависимость вероятности (в процентах) возврата кредита от количества детей в семье\n",
    "+ столбец `children` - количество детей в семье\n",
    "+ столбец `debt` - вероятность возвращения кредита в срок"
   ],
   "id": "9755478a09bf8a42"
  },
  {
   "cell_type": "code",
   "execution_count": 22,
   "metadata": {
    "collapsed": false
   },
   "outputs": [
    {
     "data": {
      "text/plain": [
       "children\n",
       "0     92.456178\n",
       "1     90.765391\n",
       "2     90.545809\n",
       "3     91.818182\n",
       "4     90.243902\n",
       "5    100.000000\n",
       "Name: debt, dtype: float64"
      ]
     },
     "execution_count": 22,
     "metadata": {},
     "output_type": "execute_result"
    }
   ],
   "source": [
    "import numpy as np\n",
    "\n",
    "df_children_debt = pd.pivot_table(data, index=['children'], values=['debt'], aggfunc=np.mean)\n",
    "df_children_debt = (1 - df_children_debt['debt']) * 100\n",
    "\n",
    "df_children_debt"
   ],
   "id": "657950cb023b8056"
  },
  {
   "cell_type": "code",
   "execution_count": 23,
   "metadata": {
    "collapsed": false
   },
   "outputs": [
    {
     "data": {
      "image/png": "[encoded data removed]",
      "text/plain": [
       "<Figure size 432x288 with 1 Axes>"
      ]
     },
     "metadata": {},
     "output_type": "display_data"
    }
   ],
   "source": [
    "import matplotlib.pyplot as plt\n",
    "\n",
    "x = df_children_debt.index\n",
    "y = df_children_debt\n",
    "plt.plot(x,y)\n",
    "plt.xlabel('Количество детей')\n",
    "plt.ylabel('Вероятности возврата кредита в срок')\n",
    "plt.title(\"График зависимости вероятности возврата кредита в срок от количества детей\")\n",
    "plt.show()"
   ],
   "id": "f7f7b6989f64071e"
  },
  {
   "cell_type": "markdown",
   "metadata": {
    "collapsed": false
   },
   "source": [
    "**Вывод:** Как мы видим по графику, зависимости \"вероятности возврата кредита\" от \"количества детей в семье\" нету"
   ],
   "id": "4c9363a5152a5f4"
  },
  {
   "cell_type": "markdown",
   "metadata": {
    "collapsed": false
   },
   "source": [
    "Убедимся в однородности данных, что столбец data['debt'] содержит только нули и еденицы"
   ],
   "id": "ca7f4eea8c493400"
  },
  {
   "cell_type": "code",
   "execution_count": 24,
   "metadata": {
    "collapsed": false
   },
   "outputs": [
    {
     "data": {
      "text/plain": [
       "0    19599\n",
       "1     1732\n",
       "Name: debt, dtype: int64"
      ]
     },
     "execution_count": 24,
     "metadata": {},
     "output_type": "execute_result"
    }
   ],
   "source": [
    "data['debt'].value_counts()"
   ],
   "id": "3596d6bdb09aee89"
  },
  {
   "cell_type": "markdown",
   "metadata": {
    "collapsed": false
   },
   "source": [
    "Проверим сбалансированность выборки"
   ],
   "id": "2b9cbc9369cc7195"
  },
  {
   "cell_type": "code",
   "execution_count": 25,
   "metadata": {
    "collapsed": false
   },
   "outputs": [
    {
     "data": {
      "text/html": [
       "<div>\n",
       "<style scoped>\n",
       "    .dataframe tbody tr th:only-of-type {\n",
       "        vertical-align: middle;\n",
       "    }\n",
       "\n",
       "    .dataframe tbody tr th {\n",
       "        vertical-align: top;\n",
       "    }\n",
       "\n",
       "    .dataframe thead tr th {\n",
       "        text-align: left;\n",
       "    }\n",
       "\n",
       "    .dataframe thead tr:last-of-type th {\n",
       "        text-align: right;\n",
       "    }\n",
       "</style>\n",
       "<table border=\"1\" class=\"dataframe\">\n",
       "  <thead>\n",
       "    <tr>\n",
       "      <th></th>\n",
       "      <th>mean</th>\n",
       "      <th>len</th>\n",
       "    </tr>\n",
       "    <tr>\n",
       "      <th></th>\n",
       "      <th>debt</th>\n",
       "      <th>debt</th>\n",
       "    </tr>\n",
       "    <tr>\n",
       "      <th>children</th>\n",
       "      <th></th>\n",
       "      <th></th>\n",
       "    </tr>\n",
       "  </thead>\n",
       "  <tbody>\n",
       "    <tr>\n",
       "      <th>0</th>\n",
       "      <td>92.456178</td>\n",
       "      <td>14091</td>\n",
       "    </tr>\n",
       "    <tr>\n",
       "      <th>1</th>\n",
       "      <td>90.765391</td>\n",
       "      <td>4808</td>\n",
       "    </tr>\n",
       "    <tr>\n",
       "      <th>2</th>\n",
       "      <td>90.545809</td>\n",
       "      <td>2052</td>\n",
       "    </tr>\n",
       "    <tr>\n",
       "      <th>3</th>\n",
       "      <td>91.818182</td>\n",
       "      <td>330</td>\n",
       "    </tr>\n",
       "    <tr>\n",
       "      <th>4</th>\n",
       "      <td>90.243902</td>\n",
       "      <td>41</td>\n",
       "    </tr>\n",
       "    <tr>\n",
       "      <th>5</th>\n",
       "      <td>100.000000</td>\n",
       "      <td>9</td>\n",
       "    </tr>\n",
       "    <tr>\n",
       "      <th>All</th>\n",
       "      <td>91.880362</td>\n",
       "      <td>21331</td>\n",
       "    </tr>\n",
       "  </tbody>\n",
       "</table>\n",
       "</div>"
      ],
      "text/plain": [
       "                mean    len\n",
       "                debt   debt\n",
       "children                   \n",
       "0          92.456178  14091\n",
       "1          90.765391   4808\n",
       "2          90.545809   2052\n",
       "3          91.818182    330\n",
       "4          90.243902     41\n",
       "5         100.000000      9\n",
       "All        91.880362  21331"
      ]
     },
     "execution_count": 25,
     "metadata": {},
     "output_type": "execute_result"
    }
   ],
   "source": [
    "df_children_debt = pd.pivot_table(data, index=['children'], values=['debt'], aggfunc=[np.mean, len], margins=True)\n",
    "df_children_debt.iloc[:, 0] = (1 - df_children_debt.iloc[:, 0]) * 100\n",
    "df_children_debt"
   ],
   "id": "ecee6bbe0d52d58"
  },
  {
   "cell_type": "markdown",
   "metadata": {
    "collapsed": false
   },
   "source": [
    "##### Отразим данные на столбчатой диаграмме"
   ],
   "id": "5a3675c97308e416"
  },
  {
   "cell_type": "markdown",
   "metadata": {
    "collapsed": false
   },
   "source": [
    "Средняя вероятность возврата каждой группы и среднее"
   ],
   "id": "2824aed5a546c164"
  },
  {
   "cell_type": "code",
   "execution_count": 26,
   "metadata": {
    "collapsed": false
   },
   "outputs": [
    {
     "name": "stderr",
     "output_type": "stream",
     "text": [
      "/opt/anaconda3/lib/python3.9/site-packages/seaborn/_decorators.py:36: FutureWarning: Pass the following variables as keyword args: x, y. From version 0.12, the only valid positional argument will be `data`, and passing other arguments without an explicit keyword will result in an error or misinterpretation.\n",
      "  warnings.warn(\n"
     ]
    },
    {
     "data": {
      "text/plain": [
       "<AxesSubplot:xlabel='children', ylabel=\"('mean', 'debt')\">"
      ]
     },
     "execution_count": 26,
     "metadata": {},
     "output_type": "execute_result"
    },
    {
     "data": {
      "image/png": "[encoded data removed]",
      "text/plain": [
       "<Figure size 432x288 with 1 Axes>"
      ]
     },
     "metadata": {},
     "output_type": "display_data"
    }
   ],
   "source": [
    "import seaborn as sns\n",
    "\n",
    "sns.barplot(df_children_debt.index, df_children_debt.iloc[:, 0], palette=\"rocket\")\n",
    "None"
   ],
   "id": "1c8401c8a11ab7d8"
  },
  {
   "cell_type": "markdown",
   "metadata": {
    "collapsed": false
   },
   "source": [
    "Колличество пользователей в каждой группе"
   ],
   "id": "dae8ff53ffea081f"
  },
  {
   "cell_type": "code",
   "execution_count": 27,
   "metadata": {
    "collapsed": false
   },
   "outputs": [
    {
     "name": "stderr",
     "output_type": "stream",
     "text": [
      "/opt/anaconda3/lib/python3.9/site-packages/seaborn/_decorators.py:36: FutureWarning: Pass the following variables as keyword args: x, y. From version 0.12, the only valid positional argument will be `data`, and passing other arguments without an explicit keyword will result in an error or misinterpretation.\n",
      "  warnings.warn(\n"
     ]
    },
    {
     "data": {
      "text/plain": [
       "<AxesSubplot:xlabel='children', ylabel=\"('len', 'debt')\">"
      ]
     },
     "execution_count": 27,
     "metadata": {},
     "output_type": "execute_result"
    },
    {
     "data": {
      "image/png": "[encoded data removed]",
      "text/plain": [
       "<Figure size 432x288 with 1 Axes>"
      ]
     },
     "metadata": {},
     "output_type": "display_data"
    }
   ],
   "source": [
    "sns.barplot(df_children_debt.index, df_children_debt.iloc[:, 1], palette=\"rocket\")\n",
    "None"
   ],
   "id": "3aebe6d397608299"
  },
  {
   "cell_type": "markdown",
   "metadata": {
    "collapsed": false
   },
   "source": [
    "#### 3.2 Есть ли зависимость между семейным положением и возвратом кредита в срок?"
   ],
   "id": "1bf151677e444d9"
  },
  {
   "cell_type": "markdown",
   "metadata": {
    "collapsed": false
   },
   "source": [
    "Построим сводную таблицу показывающую зависимость вероятности (в процентах) возврата кредита от семейного положения\n",
    "+ столбец `family_status` - семейный статус\n",
    "+ столбец `debt` - вероятность возвращения кредита в срок"
   ],
   "id": "2cdfc4820740df4a"
  },
  {
   "cell_type": "code",
   "execution_count": 28,
   "metadata": {
    "collapsed": false
   },
   "outputs": [
    {
     "data": {
      "text/plain": [
       "family_status\n",
       "Не женат / не замужем    90.236052\n",
       "в разводе                92.935240\n",
       "вдовец / вдова           93.375394\n",
       "гражданский брак         90.686986\n",
       "женат / замужем          92.439442\n",
       "Name: debt, dtype: float64"
      ]
     },
     "execution_count": 28,
     "metadata": {},
     "output_type": "execute_result"
    }
   ],
   "source": [
    "df_fsi_debt = pd.pivot_table(data, index=['family_status'], values=['debt'], aggfunc=np.mean)\n",
    "df_fsi_debt = (1 - df_fsi_debt['debt']) * 100\n",
    "\n",
    "df_fsi_debt"
   ],
   "id": "11a62b11bb6f43c0"
  },
  {
   "cell_type": "markdown",
   "metadata": {
    "collapsed": false
   },
   "source": [
    "Для более корректного понимания, разобьем текущие группы на 2, имеют постоянного партнера или не имеют"
   ],
   "id": "a2b1d822852c7b1a"
  },
  {
   "cell_type": "code",
   "execution_count": 29,
   "metadata": {
    "collapsed": false
   },
   "outputs": [
    {
     "data": {
      "text/plain": [
       "partner\n",
       "Имеет постоянного партнера       91.997560\n",
       "Не имеет постоянного партнера    91.491086\n",
       "Name: debt, dtype: float64"
      ]
     },
     "execution_count": 29,
     "metadata": {},
     "output_type": "execute_result"
    }
   ],
   "source": [
    "new_data_with_family_grouped = data.copy()\n",
    "\n",
    "new_data_with_family_grouped['partner'] = new_data_with_family_grouped['family_status_id']\n",
    "new_data_with_family_grouped['partner'] = new_data_with_family_grouped['partner'].replace(\n",
    "    [0, 1], 'Имеет постоянного партнера')\n",
    "new_data_with_family_grouped['partner'] = new_data_with_family_grouped['partner'].replace(\n",
    "    [2, 3, 4], \"Не имеет постоянного партнера\")\n",
    "\n",
    "df_fsi_debt = pd.pivot_table(new_data_with_family_grouped, index=['partner'], values=['debt'], aggfunc=np.mean)\n",
    "df_fsi_debt = (1 - df_fsi_debt['debt']) * 100\n",
    "\n",
    "df_fsi_debt"
   ],
   "id": "9d86afbea121974b"
  },
  {
   "cell_type": "markdown",
   "metadata": {
    "collapsed": false
   },
   "source": [
    "Разница между группами ~ 0.5%, этого не достаточно, что бы утверждать что зависимость вероятности возврата кредита от семейного положения присутствует"
   ],
   "id": "caa6aa32a1f374e6"
  },
  {
   "cell_type": "markdown",
   "metadata": {
    "collapsed": false
   },
   "source": [
    "Так же хочу проверить гипотезу, переделить на группы:\n",
    "1) Имели постоянного партнера\n",
    "2) Не имели постоянного партнера"
   ],
   "id": "b0da9f637c6fa454"
  },
  {
   "cell_type": "code",
   "execution_count": 30,
   "metadata": {
    "collapsed": false
   },
   "outputs": [
    {
     "data": {
      "text/plain": [
       "partner\n",
       "Имели постоянного партнера       93.130841\n",
       "Не имели постоянного партнера    91.740920\n",
       "Name: debt, dtype: float64"
      ]
     },
     "execution_count": 30,
     "metadata": {},
     "output_type": "execute_result"
    }
   ],
   "source": [
    "new_data_with_family_grouped = data.copy()\n",
    "\n",
    "new_data_with_family_grouped['partner'] = new_data_with_family_grouped['family_status_id']\n",
    "new_data_with_family_grouped['partner'] = new_data_with_family_grouped['partner'].replace(\n",
    "    [2, 3], 'Имели постоянного партнера')\n",
    "new_data_with_family_grouped['partner'] = new_data_with_family_grouped['partner'].replace(\n",
    "    [0, 1, 4], \"Не имели постоянного партнера\")\n",
    "\n",
    "df_fsi_debt = pd.pivot_table(new_data_with_family_grouped, index=['partner'], values=['debt'], aggfunc=np.mean)\n",
    "df_fsi_debt = (1 - df_fsi_debt['debt']) * 100\n",
    "\n",
    "df_fsi_debt"
   ],
   "id": "2f6d46b29b35b3d7"
  },
  {
   "cell_type": "markdown",
   "metadata": {
    "collapsed": false
   },
   "source": [
    "Разница между вероятностями в данных группах ~1.5% , этого так же не достаточно что бы утверждать, что вероятность возврата кредита в срок зависит от семейного положения"
   ],
   "id": "79da3d218c283873"
  },
  {
   "cell_type": "markdown",
   "metadata": {
    "collapsed": false
   },
   "source": [
    "**Вывод:** Зависимости вероятности возврата кредита в срок от семейного положения не обнаружено"
   ],
   "id": "19cd886dcc1ccb19"
  },
  {
   "cell_type": "markdown",
   "metadata": {
    "collapsed": false
   },
   "source": [
    "#### 3.3 Есть ли зависимость между уровнем дохода и возвратом кредита в срок?"
   ],
   "id": "1ada522f2898108b"
  },
  {
   "cell_type": "markdown",
   "metadata": {
    "collapsed": false
   },
   "source": [
    "Построим сводную таблицу показывающую зависимость вероятности (в процентах) возврата кредита от семейного положения\n",
    "+ столбец `total_income_category` - уровень дохода\n",
    "+ столбец `debt` - вероятность возвращения кредита в срок"
   ],
   "id": "a3b5f81a8c27449e"
  },
  {
   "cell_type": "code",
   "execution_count": 31,
   "metadata": {
    "collapsed": false
   },
   "outputs": [
    {
     "data": {
      "text/plain": [
       "total_income_category\n",
       "A    92.000000\n",
       "B    92.939769\n",
       "C    91.501790\n",
       "D    93.982808\n",
       "E    90.909091\n",
       "Name: debt, dtype: float64"
      ]
     },
     "execution_count": 31,
     "metadata": {},
     "output_type": "execute_result"
    }
   ],
   "source": [
    "df_tic_debt = pd.pivot_table(data, index=['total_income_category'], values=['debt'], aggfunc=np.mean)\n",
    "df_tic_debt = (1 - df_tic_debt['debt']) * 100\n",
    "\n",
    "df_tic_debt"
   ],
   "id": "48ac68d5fa1fb16f"
  },
  {
   "cell_type": "code",
   "execution_count": 32,
   "metadata": {
    "collapsed": false
   },
   "outputs": [
    {
     "data": {
      "image/png": "[encoded data removed]",
      "text/plain": [
       "<Figure size 432x288 with 1 Axes>"
      ]
     },
     "metadata": {},
     "output_type": "display_data"
    }
   ],
   "source": [
    "x = df_tic_debt.index\n",
    "y = df_tic_debt\n",
    "plt.plot(x,y)\n",
    "plt.xlabel('Уровень дохода')\n",
    "plt.ylabel('Вероятности возврата кредита в срок')\n",
    "plt.title(\"График зависимости вероятности возврата кредита в срок от уровня дохода\")\n",
    "plt.show()\n",
    "\n",
    "data['total_income_category'].unique().sort()"
   ],
   "id": "2a09dd82e045171a"
  },
  {
   "cell_type": "markdown",
   "metadata": {
    "collapsed": false
   },
   "source": [
    "Из графика следует, что зависимости вероятности возврата кредита в срок от уровня дохода нет, но стоит заметить что аудитории с группой дохода \"D\" имеет наибольшую вероятность возврата кредита"
   ],
   "id": "a21be52601b498ff"
  },
  {
   "cell_type": "markdown",
   "metadata": {
    "collapsed": false
   },
   "source": [
    "**Вывод:** Зависимости вероятности возврата кредита в срок от уровня дохода не обнаружено"
   ],
   "id": "105acd6c7c5f6841"
  },
  {
   "cell_type": "markdown",
   "metadata": {
    "collapsed": false
   },
   "source": [
    "#### 3.4 Как разные цели кредита влияют на его возврат в срок?"
   ],
   "id": "77a9d59b19ee4c70"
  },
  {
   "cell_type": "markdown",
   "metadata": {
    "collapsed": false
   },
   "source": [
    "#### 3.4.1 Гипотеза - вероятность возврата кредита в срок зависит от категориальных целей кредита\n",
    "Категориальные цели кредита - разделение на категории: автомобили, недвижимость, образование, свадьбы"
   ],
   "id": "c87b23b8fb473af2"
  },
  {
   "cell_type": "code",
   "execution_count": 33,
   "metadata": {
    "collapsed": false
   },
   "outputs": [
    {
     "data": {
      "text/plain": [
       "purpose_category\n",
       "операции с автомобилем      90.652022\n",
       "операции с недвижимостью    92.744861\n",
       "получение образования       90.747242\n",
       "проведение свадьбы          92.088197\n",
       "Name: debt, dtype: float64"
      ]
     },
     "execution_count": 33,
     "metadata": {},
     "output_type": "execute_result"
    }
   ],
   "source": [
    "df_pur_cat_debt = pd.pivot_table(data, index=['purpose_category'], values=['debt'], aggfunc=np.mean)\n",
    "df_pur_cat_debt = (1 - df_pur_cat_debt['debt']) * 100\n",
    "\n",
    "df_pur_cat_debt"
   ],
   "id": "62d357bb928b297c"
  },
  {
   "cell_type": "markdown",
   "metadata": {
    "collapsed": false
   },
   "source": [
    "Представим таблицу в виде столбчатой диаграммы"
   ],
   "id": "9dcb91eb5c3fc5b7"
  },
  {
   "cell_type": "code",
   "execution_count": 34,
   "metadata": {
    "collapsed": false
   },
   "outputs": [
    {
     "data": {
      "text/plain": [
       "[Text(0, 0, 'операции с автомобилем'),\n",
       " Text(1, 0, 'операции с недвижимостью'),\n",
       " Text(2, 0, 'получение образования'),\n",
       " Text(3, 0, 'проведение свадьбы')]"
      ]
     },
     "execution_count": 34,
     "metadata": {},
     "output_type": "execute_result"
    },
    {
     "data": {
      "image/png": "[encoded data removed]",
      "text/plain": [
       "<Figure size 432x288 with 1 Axes>"
      ]
     },
     "metadata": {},
     "output_type": "display_data"
    }
   ],
   "source": [
    "plot = sns.barplot(x=df_pur_cat_debt.index, y=df_pur_cat_debt.unique())\n",
    "plot.set_xticklabels(plot.get_xticklabels(), rotation = 30)"
   ],
   "id": "770a4857787132f2"
  },
  {
   "cell_type": "markdown",
   "metadata": {
    "collapsed": false
   },
   "source": [
    "Представим в виде графика в декартовой системе координат"
   ],
   "id": "50cf07f54d0472ba"
  },
  {
   "cell_type": "code",
   "execution_count": 35,
   "metadata": {
    "collapsed": false
   },
   "outputs": [
    {
     "data": {
      "image/png": "[encoded data removed]",
      "text/plain": [
       "<Figure size 432x288 with 1 Axes>"
      ]
     },
     "metadata": {},
     "output_type": "display_data"
    }
   ],
   "source": [
    "x = df_pur_cat_debt.index\n",
    "y = df_pur_cat_debt\n",
    "plt.plot(x,y)\n",
    "plt.xlabel('Категориальные цели кредита')\n",
    "plt.ylabel('Вероятности возврата кредита в срок')\n",
    "plt.title(\"График зависимости вероятности возврата кредита в срок от уровня дохода\")\n",
    "plt.xticks(rotation = 30)\n",
    "plt.show()"
   ],
   "id": "b090fb1c1d8f9dfe"
  },
  {
   "cell_type": "markdown",
   "metadata": {
    "collapsed": false
   },
   "source": [
    "Категории операций с недвижимостью и свадьбами имеют вероятность возврата на ~2% больше чем категории операций с автомобилями и образованием"
   ],
   "id": "25f2cb2a4361b3f9"
  },
  {
   "cell_type": "markdown",
   "metadata": {
    "collapsed": false
   },
   "source": [
    "Проверим гипотезу, влияет ли цель получения кредита (на активы, те на бизнес или на пассивы, те не коммерческие цели) на вероятность погашения его в срок"
   ],
   "id": "1020fd9ad6d0578b"
  },
  {
   "cell_type": "code",
   "execution_count": 36,
   "metadata": {
    "collapsed": false
   },
   "outputs": [
    {
     "data": {
      "text/plain": [
       "свадьба                                   790\n",
       "на проведение свадьбы                     763\n",
       "сыграть свадьбу                           760\n",
       "операции с недвижимостью                  672\n",
       "покупка коммерческой недвижимости         658\n",
       "покупка жилья для сдачи                   649\n",
       "операции с жильем                         647\n",
       "операции с коммерческой недвижимостью     645\n",
       "жилье                                     641\n",
       "покупка жилья                             640\n",
       "покупка жилья для семьи                   637\n",
       "недвижимость                              631\n",
       "строительство собственной недвижимости    628\n",
       "операции со своей недвижимостью           623\n",
       "строительство жилой недвижимости          620\n",
       "строительство недвижимости                619\n",
       "покупка своего жилья                      619\n",
       "покупка недвижимости                      616\n",
       "ремонт жилью                              604\n",
       "покупка жилой недвижимости                602\n",
       "на покупку своего автомобиля              504\n",
       "заняться высшим образованием              496\n",
       "автомобиль                                491\n",
       "сделка с подержанным автомобилем          481\n",
       "автомобили                                476\n",
       "свой автомобиль                           473\n",
       "на покупку подержанного автомобиля        471\n",
       "на покупку автомобиля                     469\n",
       "приобретение автомобиля                   459\n",
       "сделка с автомобилем                      455\n",
       "дополнительное образование                455\n",
       "высшее образование                        446\n",
       "получение дополнительного образования     444\n",
       "образование                               442\n",
       "получение образования                     440\n",
       "профильное образование                    432\n",
       "получение высшего образования             425\n",
       "заняться образованием                     408\n",
       "Name: purpose, dtype: int64"
      ]
     },
     "execution_count": 36,
     "metadata": {},
     "output_type": "execute_result"
    }
   ],
   "source": [
    "data['purpose'].value_counts()"
   ],
   "id": "400db903801171bd"
  },
  {
   "cell_type": "code",
   "execution_count": 37,
   "metadata": {
    "collapsed": false
   },
   "outputs": [],
   "source": [
    "business_list = ['коммерческой', 'сдачи']\n",
    "education = 'образов'\n",
    "\n",
    "def change_purpose(row) -> str:\n",
    "    for business in business_list:\n",
    "        if business in row:\n",
    "            return 'На бизнес'\n",
    "    if education in row:\n",
    "        return 'На образование'\n",
    "\n",
    "    return 'На пассивы'\n",
    "\n",
    "data['new_purpose_category'] = data['purpose'].apply(change_purpose)"
   ],
   "id": "7296019c14af3b6b"
  },
  {
   "cell_type": "code",
   "execution_count": 38,
   "metadata": {
    "collapsed": false
   },
   "outputs": [
    {
     "data": {
      "text/plain": [
       "new_purpose_category\n",
       "На бизнес         92.315574\n",
       "На образование    90.747242\n",
       "На пассивы        92.118771\n",
       "Name: debt, dtype: float64"
      ]
     },
     "execution_count": 38,
     "metadata": {},
     "output_type": "execute_result"
    }
   ],
   "source": [
    "df_pur_cat_debt = pd.pivot_table(data, index=['new_purpose_category'], values=['debt'], aggfunc=np.mean)\n",
    "df_pur_cat_debt = (1 - df_pur_cat_debt['debt']) * 100\n",
    "\n",
    "df_pur_cat_debt"
   ],
   "id": "b938af97ade17a89"
  },
  {
   "cell_type": "markdown",
   "metadata": {
    "collapsed": false
   },
   "source": [
    "Разделение на пассивы и активы не дало ожидаемых результатов, наоборот мы видим, что кредиты на образование уступают пассивам"
   ],
   "id": "b79e54587ed89b56"
  },
  {
   "cell_type": "markdown",
   "id": "bdec6151",
   "metadata": {
    "deletable": false,
    "id": "b4bb2ce6"
   },
   "source": [
    "**Вывод:** Разница вероятностей возврата кредита в срок между целями кредитования составила ~2%, наилучшие категории (недвижимость и свадьбы) хуже (автомобили и образование)"
   ]
  },
  {
   "cell_type": "markdown",
   "id": "4ab1e362",
   "metadata": {
    "deletable": false,
    "editable": false,
    "id": "09c3ac4c"
   },
   "source": [
    "#### 3.5 Приведите возможные причины появления пропусков в исходных данных."
   ]
  },
  {
   "cell_type": "markdown",
   "id": "58c10b81",
   "metadata": {
    "deletable": false,
    "id": "9da2ceda"
   },
   "source": [
    "*Ответ:* Есть 2 варианта:\n",
    "1) Опрашиваемые люд не указывали свой рабочий стаж и уровень заработной платы\n",
    "2) Техническая ошибка при передачи данных"
   ]
  },
  {
   "cell_type": "markdown",
   "id": "eb045cd9",
   "metadata": {
    "deletable": false,
    "editable": false,
    "id": "7b0487d6"
   },
   "source": [
    "#### 3.6 Объясните, почему заполнить пропуски медианным значением — лучшее решение для количественных переменных."
   ]
  },
  {
   "cell_type": "markdown",
   "id": "a7c84737",
   "metadata": {
    "deletable": false,
    "id": "7ecf2b8e"
   },
   "source": [
    "*Ответ:* В случае если в данных есть аномалии (слишком \"высокие\" и \"низкие\" значения) заполнение средним арифмитическим может исказить данные, в таком случае идеально подойдет заполнение пропуском медианным значением, тк такой способ нивелирует выбросы (аномалии)"
   ]
  },
  {
   "cell_type": "markdown",
   "id": "abef4c7d",
   "metadata": {
    "deletable": false,
    "editable": false,
    "id": "6db5255a"
   },
   "source": [
    "### Шаг 4: общий вывод."
   ]
  },
  {
   "cell_type": "markdown",
   "id": "36af723d",
   "metadata": {},
   "source": [
    "*Предобработка данных* - важный этап для аналитика, удаление дубликатов, заполнение пропусков (медианным значением), обработка аномальных значений (модулем), все эти операции с данными влияют на конечный результат. В этом проекте передо мной стояла задача исследовать данные и найти зависимости.\n",
    "\n",
    "##### Резюмирую:\n",
    "1) Зависимости “вероятности возврата кредита в срок” от “количества детей в семье” нет. Вероятность не возрастает в след за увеличением количества детей\n",
    "2) Зависимости \"вероятности возврата кредита в срок\" от семейного положения не обнаружено\n",
    "3) Зависимости \"вероятности возврата кредита\" в срок\" от уровня дохода не обнаружено. Вероятность не возрастает в след за увеличением дохода\n",
    "4) Разница вероятностей возврата кредита в срок между целями кредитования составила ~2%, наилучшие категории (недвижимость и свадьбы) хуже (автомобили и образование)"
   ]
  },
  {
   "cell_type": "markdown",
   "id": "925c668f",
   "metadata": {},
   "source": [
    "# Общий вывод\n",
    "Я провел исследование зависимости вероятности возврата кредита в срок от различных факторов, для модели кредитного скролинга - софта для аналитики банковских заёмщиков.\n",
    "\n",
    "## Гипотезы\n",
    "Влиение факторов на на вероятность погашения кредита в срок:\n",
    "1. Количество детей.\n",
    "2. Семейное положение.\n",
    "3. Уровень дохода.\n",
    "4. Семейное положение.\n",
    "В процессе исследования удалось заметить следующие зависимости:\n",
    "\n",
    "### Гипотеза 1 - *Количество детей*: \n",
    "Стоит заметить, что по некоторым группам заемщиков у нас недостаточно данных. Поэтому по категорям заемщиков с 3,4,5 детьми невозможно найти закономерность. Мы проверили гипотезу на группах с 0,1,2 детьми в семье:\n",
    "Ниже будут прописаны вероятности возврата кредита в срок:\n",
    "+ 92.46% - для бездетных семей\n",
    "+ 90.77% - для семьи с одним ребенком\n",
    "+ 90.55% - для семьи с двумя детьми"
   ]
  },
  {
   "cell_type": "code",
   "execution_count": null,
   "id": "9e5bc887",
   "metadata": {},
   "outputs": [],
   "source": [
    "plt.plot(['0', '1', '2'], [92.46, 90.77, 90.55])\n",
    "plt.xlabel('Количество детей')\n",
    "plt.ylabel('Вероятности возврата кредита в срок')\n",
    "plt.title(\"График зависимости вероятности возврата кредита в срок от колличества детей\")\n",
    "plt.show()"
   ]
  },
  {
   "cell_type": "markdown",
   "id": "97be653f",
   "metadata": {},
   "source": [
    "Мы видим незначительный нисходящий тренд ~2%, падение вероятности с увеличением количества детей. Можем сделать вывод, что есть незначительная зависимость. \n",
    "\n",
    "*... если считать, что любая разница между группами есть повод для «разделения» классов ...*\n",
    "\n",
    "### Гипотеза 2 - *Семейное положение*: \n",
    "Обобщим исследование этой гипотезы, в ходе размышлений я пришел к выводу: наибольшая разница между вероятностями возврата кредита в срок, наблюдается при следующей группировке:\n",
    "+ Имели постоянного партнера       93.13%\n",
    "+ Не имели постоянного партнера    91.74%"
   ]
  },
  {
   "cell_type": "code",
   "execution_count": null,
   "id": "8c80d08b",
   "metadata": {},
   "outputs": [],
   "source": [
    "plt.plot(['Имели постоянного партнера', 'Не имели постоянного партнера'], [93.13, 91.74])\n",
    "plt.xlabel('Опыт в отношениях')\n",
    "plt.ylabel('Вероятности возврата кредита в срок')\n",
    "plt.title(\"График зависимости вероятности возврата кредита в срок от семейного положения\")\n",
    "plt.show()"
   ]
  },
  {
   "cell_type": "markdown",
   "id": "37ba689e",
   "metadata": {},
   "source": [
    "Мы видим незначительный нисходящий тренд ~2.5%, падение вероятности у пар, неимеющих опыта с партнером. Можем сделать вывод, что есть незначительная зависимость. \n",
    "\n",
    "*... если считать, что любая разница между группами есть повод для «разделения» классов ...*\n",
    "\n",
    "### Гипотеза 3 - *Уровень дохода*: \n",
    "В результате исследования доказано, что зависимости вероятности возврата кредита в срок от уровня дохода нет, пояснение: из роста дохода не следует рост вероятности возврата кредита в срок, однако разницы в вероятностях возврата достаточно для \"разделения классов\"\n",
    "\n",
    "\n",
    "### Гипотеза 4 - *Влияние целей кредита*:\n",
    "Разница вероятностей возврата кредита в срок между целями кредитования составила ~2%, наилучшие категории (недвижимость и свадьбы) хуже (автомобили и образование)"
   ]
  },
  {
   "cell_type": "code",
   "execution_count": null,
   "outputs": [],
   "source": [],
   "metadata": {
    "collapsed": false
   },
   "id": "bd0ced9d42824231"
  }
 ],
 "metadata": {
  "ExecuteTimeLog": [
   {
    "duration": 20,
    "start_time": "2022-08-18T13:34:33.374Z"
   },
   {
    "duration": 20,
    "start_time": "2022-08-18T13:36:49.293Z"
   },
   {
    "duration": 5,
    "start_time": "2022-08-18T13:37:03.346Z"
   },
   {
    "duration": 15,
    "start_time": "2022-08-18T13:43:43.991Z"
   },
   {
    "duration": 19,
    "start_time": "2022-08-18T13:43:48.610Z"
   },
   {
    "duration": 13,
    "start_time": "2022-08-18T13:45:02.102Z"
   },
   {
    "duration": 75,
    "start_time": "2022-08-18T13:46:38.581Z"
   },
   {
    "duration": 13,
    "start_time": "2022-08-18T13:47:05.144Z"
   },
   {
    "duration": 7,
    "start_time": "2022-08-18T13:47:37.217Z"
   },
   {
    "duration": 11,
    "start_time": "2022-08-18T13:47:55.611Z"
   },
   {
    "duration": 13,
    "start_time": "2022-08-18T13:48:36.468Z"
   },
   {
    "duration": 18,
    "start_time": "2022-08-18T13:49:06.127Z"
   },
   {
    "duration": 626,
    "start_time": "2022-08-28T19:08:20.160Z"
   },
   {
    "duration": 28,
    "start_time": "2022-08-28T19:08:20.789Z"
   },
   {
    "duration": 18,
    "start_time": "2022-08-28T19:08:20.819Z"
   },
   {
    "duration": 11,
    "start_time": "2022-08-28T19:08:20.840Z"
   },
   {
    "duration": 68,
    "start_time": "2022-08-28T19:08:20.852Z"
   },
   {
    "duration": 4,
    "start_time": "2022-08-28T19:08:20.922Z"
   },
   {
    "duration": 15,
    "start_time": "2022-08-28T19:08:20.927Z"
   },
   {
    "duration": 9,
    "start_time": "2022-08-28T19:08:20.944Z"
   },
   {
    "duration": 11,
    "start_time": "2022-08-28T19:08:20.955Z"
   },
   {
    "duration": 31,
    "start_time": "2022-08-28T19:08:20.969Z"
   },
   {
    "duration": 75,
    "start_time": "2022-08-28T19:08:21.002Z"
   },
   {
    "duration": 31,
    "start_time": "2022-08-28T19:08:21.079Z"
   },
   {
    "duration": 5,
    "start_time": "2022-08-28T19:08:21.112Z"
   },
   {
    "duration": 14,
    "start_time": "2022-08-28T19:08:21.119Z"
   },
   {
    "duration": 22,
    "start_time": "2022-08-28T19:08:21.135Z"
   },
   {
    "duration": 17,
    "start_time": "2022-08-28T19:08:21.159Z"
   },
   {
    "duration": 21,
    "start_time": "2022-08-28T19:08:21.178Z"
   },
   {
    "duration": 18,
    "start_time": "2022-08-28T19:08:21.207Z"
   },
   {
    "duration": 10,
    "start_time": "2022-08-28T19:08:21.227Z"
   },
   {
    "duration": 3,
    "start_time": "2022-08-28T19:08:21.239Z"
   },
   {
    "duration": 11,
    "start_time": "2022-08-28T19:08:21.244Z"
   },
   {
    "duration": 54,
    "start_time": "2022-08-28T19:08:21.256Z"
   },
   {
    "duration": 427,
    "start_time": "2022-08-28T19:08:21.312Z"
   },
   {
    "duration": 17,
    "start_time": "2022-08-28T19:08:21.741Z"
   },
   {
    "duration": 71,
    "start_time": "2022-08-28T19:08:21.759Z"
   },
   {
    "duration": 37,
    "start_time": "2022-08-28T19:08:21.831Z"
   },
   {
    "duration": 21,
    "start_time": "2022-08-28T19:08:21.870Z"
   },
   {
    "duration": 182,
    "start_time": "2022-08-28T19:08:21.904Z"
   },
   {
    "duration": 31,
    "start_time": "2022-08-28T19:08:22.090Z"
   },
   {
    "duration": 705,
    "start_time": "2022-08-28T19:08:22.123Z"
   },
   {
    "duration": 177,
    "start_time": "2022-08-28T19:08:22.831Z"
   },
   {
    "duration": 9,
    "start_time": "2022-08-28T19:08:23.010Z"
   },
   {
    "duration": 43,
    "start_time": "2022-08-28T19:08:23.020Z"
   },
   {
    "duration": 35,
    "start_time": "2022-08-28T19:08:23.065Z"
   },
   {
    "duration": 282,
    "start_time": "2022-08-30T08:03:18.777Z"
   },
   {
    "duration": 615,
    "start_time": "2022-08-30T08:03:26.615Z"
   },
   {
    "duration": 20,
    "start_time": "2022-08-30T08:03:27.232Z"
   },
   {
    "duration": 12,
    "start_time": "2022-08-30T08:03:27.254Z"
   },
   {
    "duration": 8,
    "start_time": "2022-08-30T08:03:27.268Z"
   },
   {
    "duration": 47,
    "start_time": "2022-08-30T08:03:27.278Z"
   },
   {
    "duration": 3,
    "start_time": "2022-08-30T08:03:27.327Z"
   },
   {
    "duration": 14,
    "start_time": "2022-08-30T08:03:27.331Z"
   },
   {
    "duration": 7,
    "start_time": "2022-08-30T08:03:27.346Z"
   },
   {
    "duration": 11,
    "start_time": "2022-08-30T08:03:27.355Z"
   },
   {
    "duration": 4,
    "start_time": "2022-08-30T08:03:27.367Z"
   },
   {
    "duration": 46,
    "start_time": "2022-08-30T08:03:27.372Z"
   },
   {
    "duration": 8,
    "start_time": "2022-08-30T08:03:27.420Z"
   },
   {
    "duration": 6,
    "start_time": "2022-08-30T08:03:27.430Z"
   },
   {
    "duration": 14,
    "start_time": "2022-08-30T08:03:27.438Z"
   },
   {
    "duration": 20,
    "start_time": "2022-08-30T08:03:27.454Z"
   },
   {
    "duration": 36,
    "start_time": "2022-08-30T08:03:27.475Z"
   },
   {
    "duration": 3,
    "start_time": "2022-08-30T08:03:27.512Z"
   },
   {
    "duration": 12,
    "start_time": "2022-08-30T08:03:27.517Z"
   },
   {
    "duration": 9,
    "start_time": "2022-08-30T08:03:27.530Z"
   },
   {
    "duration": 4,
    "start_time": "2022-08-30T08:03:27.540Z"
   },
   {
    "duration": 15,
    "start_time": "2022-08-30T08:03:27.545Z"
   },
   {
    "duration": 20,
    "start_time": "2022-08-30T08:03:27.561Z"
   },
   {
    "duration": 517,
    "start_time": "2022-08-30T08:03:27.583Z"
   },
   {
    "duration": 67,
    "start_time": "2022-08-30T08:03:28.102Z"
   },
   {
    "duration": 0,
    "start_time": "2022-08-30T08:03:28.171Z"
   },
   {
    "duration": 0,
    "start_time": "2022-08-30T08:03:28.172Z"
   },
   {
    "duration": 1,
    "start_time": "2022-08-30T08:03:28.173Z"
   },
   {
    "duration": 0,
    "start_time": "2022-08-30T08:03:28.175Z"
   },
   {
    "duration": 0,
    "start_time": "2022-08-30T08:03:28.176Z"
   },
   {
    "duration": 0,
    "start_time": "2022-08-30T08:03:28.177Z"
   },
   {
    "duration": 0,
    "start_time": "2022-08-30T08:03:28.200Z"
   },
   {
    "duration": 0,
    "start_time": "2022-08-30T08:03:28.201Z"
   },
   {
    "duration": 0,
    "start_time": "2022-08-30T08:03:28.203Z"
   },
   {
    "duration": 0,
    "start_time": "2022-08-30T08:03:28.204Z"
   },
   {
    "duration": 0,
    "start_time": "2022-08-30T08:03:28.206Z"
   },
   {
    "duration": 15,
    "start_time": "2022-08-30T08:05:17.310Z"
   },
   {
    "duration": 6,
    "start_time": "2022-08-30T08:08:12.383Z"
   },
   {
    "duration": 8,
    "start_time": "2022-08-30T08:08:46.903Z"
   },
   {
    "duration": 14,
    "start_time": "2022-08-30T08:08:58.362Z"
   },
   {
    "duration": 12,
    "start_time": "2022-08-30T08:09:21.309Z"
   },
   {
    "duration": 948,
    "start_time": "2022-08-30T08:11:23.205Z"
   },
   {
    "duration": 31,
    "start_time": "2022-08-30T08:12:30.823Z"
   },
   {
    "duration": 5,
    "start_time": "2022-08-30T08:13:54.641Z"
   },
   {
    "duration": 528,
    "start_time": "2022-08-30T08:25:55.481Z"
   },
   {
    "duration": 578,
    "start_time": "2022-08-30T08:26:08.513Z"
   },
   {
    "duration": 22,
    "start_time": "2022-08-30T08:26:09.093Z"
   },
   {
    "duration": 15,
    "start_time": "2022-08-30T08:26:09.117Z"
   },
   {
    "duration": 10,
    "start_time": "2022-08-30T08:26:09.134Z"
   },
   {
    "duration": 55,
    "start_time": "2022-08-30T08:26:09.145Z"
   },
   {
    "duration": 3,
    "start_time": "2022-08-30T08:26:09.202Z"
   },
   {
    "duration": 12,
    "start_time": "2022-08-30T08:26:09.207Z"
   },
   {
    "duration": 6,
    "start_time": "2022-08-30T08:26:09.221Z"
   },
   {
    "duration": 10,
    "start_time": "2022-08-30T08:26:09.229Z"
   },
   {
    "duration": 5,
    "start_time": "2022-08-30T08:26:09.242Z"
   },
   {
    "duration": 54,
    "start_time": "2022-08-30T08:26:09.249Z"
   },
   {
    "duration": 9,
    "start_time": "2022-08-30T08:26:09.305Z"
   },
   {
    "duration": 18,
    "start_time": "2022-08-30T08:26:09.315Z"
   },
   {
    "duration": 12,
    "start_time": "2022-08-30T08:26:09.335Z"
   },
   {
    "duration": 21,
    "start_time": "2022-08-30T08:26:09.349Z"
   },
   {
    "duration": 29,
    "start_time": "2022-08-30T08:26:09.371Z"
   },
   {
    "duration": 4,
    "start_time": "2022-08-30T08:26:09.402Z"
   },
   {
    "duration": 18,
    "start_time": "2022-08-30T08:26:09.407Z"
   },
   {
    "duration": 13,
    "start_time": "2022-08-30T08:26:09.426Z"
   },
   {
    "duration": 6,
    "start_time": "2022-08-30T08:26:09.440Z"
   },
   {
    "duration": 15,
    "start_time": "2022-08-30T08:26:09.447Z"
   },
   {
    "duration": 21,
    "start_time": "2022-08-30T08:26:09.463Z"
   },
   {
    "duration": 376,
    "start_time": "2022-08-30T08:26:09.486Z"
   },
   {
    "duration": 7,
    "start_time": "2022-08-30T08:26:09.864Z"
   },
   {
    "duration": 49,
    "start_time": "2022-08-30T08:26:09.872Z"
   },
   {
    "duration": 584,
    "start_time": "2022-08-30T08:26:09.923Z"
   },
   {
    "duration": 0,
    "start_time": "2022-08-30T08:26:10.509Z"
   },
   {
    "duration": 0,
    "start_time": "2022-08-30T08:26:10.510Z"
   },
   {
    "duration": 0,
    "start_time": "2022-08-30T08:26:10.511Z"
   },
   {
    "duration": 0,
    "start_time": "2022-08-30T08:26:10.513Z"
   },
   {
    "duration": 0,
    "start_time": "2022-08-30T08:26:10.514Z"
   },
   {
    "duration": 0,
    "start_time": "2022-08-30T08:26:10.515Z"
   },
   {
    "duration": 0,
    "start_time": "2022-08-30T08:26:10.516Z"
   },
   {
    "duration": 0,
    "start_time": "2022-08-30T08:26:10.517Z"
   },
   {
    "duration": 0,
    "start_time": "2022-08-30T08:26:10.519Z"
   },
   {
    "duration": 0,
    "start_time": "2022-08-30T08:26:10.520Z"
   },
   {
    "duration": 0,
    "start_time": "2022-08-30T08:26:10.521Z"
   },
   {
    "duration": 18,
    "start_time": "2022-08-30T08:26:24.520Z"
   },
   {
    "duration": 27,
    "start_time": "2022-08-30T08:26:35.024Z"
   },
   {
    "duration": 26,
    "start_time": "2022-08-30T08:26:38.408Z"
   },
   {
    "duration": 19,
    "start_time": "2022-08-30T08:26:41.553Z"
   },
   {
    "duration": 129,
    "start_time": "2022-08-30T08:26:44.460Z"
   },
   {
    "duration": 15,
    "start_time": "2022-08-30T08:26:48.695Z"
   },
   {
    "duration": 99,
    "start_time": "2022-08-30T08:26:50.493Z"
   },
   {
    "duration": 128,
    "start_time": "2022-08-30T08:27:04.000Z"
   },
   {
    "duration": 8,
    "start_time": "2022-08-30T08:27:08.012Z"
   },
   {
    "duration": 10,
    "start_time": "2022-08-30T08:27:08.447Z"
   },
   {
    "duration": 21,
    "start_time": "2022-08-30T08:27:09.103Z"
   },
   {
    "duration": 9,
    "start_time": "2022-08-30T08:28:15.365Z"
   },
   {
    "duration": 21,
    "start_time": "2022-08-30T08:28:20.382Z"
   },
   {
    "duration": 10,
    "start_time": "2022-08-30T08:28:43.422Z"
   },
   {
    "duration": 10,
    "start_time": "2022-08-30T08:29:11.947Z"
   },
   {
    "duration": 4,
    "start_time": "2022-08-30T08:29:36.969Z"
   },
   {
    "duration": 79,
    "start_time": "2022-08-30T08:29:52.981Z"
   },
   {
    "duration": 1093,
    "start_time": "2022-08-30T08:30:05.974Z"
   },
   {
    "duration": 56,
    "start_time": "2022-08-30T08:30:23.459Z"
   },
   {
    "duration": 1029,
    "start_time": "2022-08-30T08:30:30.501Z"
   },
   {
    "duration": 992,
    "start_time": "2022-08-30T08:30:51.877Z"
   },
   {
    "duration": 1466,
    "start_time": "2022-08-30T08:30:58.741Z"
   },
   {
    "duration": 875,
    "start_time": "2022-08-30T08:31:47.146Z"
   },
   {
    "duration": 13,
    "start_time": "2022-08-30T08:32:50.644Z"
   },
   {
    "duration": 134,
    "start_time": "2022-08-30T08:33:02.546Z"
   },
   {
    "duration": 156,
    "start_time": "2022-08-30T08:34:59.289Z"
   },
   {
    "duration": 122,
    "start_time": "2022-08-30T08:35:06.832Z"
   },
   {
    "duration": 149,
    "start_time": "2022-08-30T08:35:31.428Z"
   },
   {
    "duration": 37,
    "start_time": "2022-08-30T08:37:34.032Z"
   },
   {
    "duration": 11,
    "start_time": "2022-08-30T08:37:39.375Z"
   },
   {
    "duration": 13,
    "start_time": "2022-08-30T08:38:12.701Z"
   },
   {
    "duration": 18,
    "start_time": "2022-08-30T08:50:49.953Z"
   },
   {
    "duration": 44,
    "start_time": "2022-08-30T08:51:40.263Z"
   },
   {
    "duration": 41,
    "start_time": "2022-08-30T08:51:51.724Z"
   },
   {
    "duration": 11,
    "start_time": "2022-08-30T08:53:32.288Z"
   },
   {
    "duration": 4,
    "start_time": "2022-08-30T08:53:33.533Z"
   },
   {
    "duration": 201,
    "start_time": "2022-08-30T08:53:41.426Z"
   },
   {
    "duration": 247,
    "start_time": "2022-08-30T08:53:49.127Z"
   },
   {
    "duration": 27,
    "start_time": "2022-08-30T08:54:24.424Z"
   },
   {
    "duration": 24,
    "start_time": "2022-08-30T08:54:29.557Z"
   },
   {
    "duration": 18,
    "start_time": "2022-08-30T08:54:33.182Z"
   },
   {
    "duration": 19,
    "start_time": "2022-08-30T08:54:58.388Z"
   },
   {
    "duration": 146,
    "start_time": "2022-08-30T08:55:15.359Z"
   },
   {
    "duration": 178,
    "start_time": "2022-08-30T09:11:25.800Z"
   },
   {
    "duration": 613,
    "start_time": "2022-08-30T09:11:31.564Z"
   },
   {
    "duration": 22,
    "start_time": "2022-08-30T09:11:32.179Z"
   },
   {
    "duration": 14,
    "start_time": "2022-08-30T09:11:32.203Z"
   },
   {
    "duration": 10,
    "start_time": "2022-08-30T09:11:32.220Z"
   },
   {
    "duration": 34,
    "start_time": "2022-08-30T09:11:32.232Z"
   },
   {
    "duration": 3,
    "start_time": "2022-08-30T09:11:32.268Z"
   },
   {
    "duration": 34,
    "start_time": "2022-08-30T09:11:32.273Z"
   },
   {
    "duration": 6,
    "start_time": "2022-08-30T09:11:32.308Z"
   },
   {
    "duration": 12,
    "start_time": "2022-08-30T09:11:32.316Z"
   },
   {
    "duration": 5,
    "start_time": "2022-08-30T09:11:32.330Z"
   },
   {
    "duration": 34,
    "start_time": "2022-08-30T09:11:32.336Z"
   },
   {
    "duration": 35,
    "start_time": "2022-08-30T09:11:32.372Z"
   },
   {
    "duration": 5,
    "start_time": "2022-08-30T09:11:32.409Z"
   },
   {
    "duration": 14,
    "start_time": "2022-08-30T09:11:32.415Z"
   },
   {
    "duration": 21,
    "start_time": "2022-08-30T09:11:32.431Z"
   },
   {
    "duration": 17,
    "start_time": "2022-08-30T09:11:32.453Z"
   },
   {
    "duration": 3,
    "start_time": "2022-08-30T09:11:32.472Z"
   },
   {
    "duration": 11,
    "start_time": "2022-08-30T09:11:32.499Z"
   },
   {
    "duration": 11,
    "start_time": "2022-08-30T09:11:32.512Z"
   },
   {
    "duration": 4,
    "start_time": "2022-08-30T09:11:32.524Z"
   },
   {
    "duration": 12,
    "start_time": "2022-08-30T09:11:32.530Z"
   },
   {
    "duration": 24,
    "start_time": "2022-08-30T09:11:32.544Z"
   },
   {
    "duration": 374,
    "start_time": "2022-08-30T09:11:32.570Z"
   },
   {
    "duration": 6,
    "start_time": "2022-08-30T09:11:32.947Z"
   },
   {
    "duration": 72,
    "start_time": "2022-08-30T09:11:32.955Z"
   },
   {
    "duration": 611,
    "start_time": "2022-08-30T09:11:33.029Z"
   },
   {
    "duration": 147,
    "start_time": "2022-08-30T09:11:33.642Z"
   },
   {
    "duration": 15,
    "start_time": "2022-08-30T09:11:33.801Z"
   },
   {
    "duration": 56,
    "start_time": "2022-08-30T09:11:33.818Z"
   },
   {
    "duration": 27,
    "start_time": "2022-08-30T09:11:33.876Z"
   },
   {
    "duration": 17,
    "start_time": "2022-08-30T09:11:33.905Z"
   },
   {
    "duration": 147,
    "start_time": "2022-08-30T09:11:33.924Z"
   },
   {
    "duration": 16,
    "start_time": "2022-08-30T09:11:34.072Z"
   },
   {
    "duration": 124,
    "start_time": "2022-08-30T09:11:34.101Z"
   },
   {
    "duration": 125,
    "start_time": "2022-08-30T09:11:34.227Z"
   },
   {
    "duration": 8,
    "start_time": "2022-08-30T09:11:34.354Z"
   },
   {
    "duration": 16,
    "start_time": "2022-08-30T09:11:34.364Z"
   },
   {
    "duration": 38,
    "start_time": "2022-08-30T09:11:34.382Z"
   }
  ],
  "celltoolbar": "Raw Cell Format",
  "colab": {
   "name": "dpp_template_part2.ipynb",
   "provenance": []
  },
  "kernelspec": {
   "display_name": "Python 3.9.5 64-bit",
   "language": "python",
   "name": "python3"
  },
  "language_info": {
   "codemirror_mode": {
    "name": "ipython",
    "version": 3
   },
   "file_extension": ".py",
   "mimetype": "text/x-python",
   "name": "python",
   "nbconvert_exporter": "python",
   "pygments_lexer": "ipython3",
   "version": "3.11.1"
  },
  "toc": {
   "base_numbering": 1,
   "nav_menu": {},
   "number_sections": true,
   "sideBar": true,
   "skip_h1_title": true,
   "title_cell": "Table of Contents",
   "title_sidebar": "Contents",
   "toc_cell": false,
   "toc_position": {},
   "toc_section_display": true,
   "toc_window_display": true
  },
  "vscode": {
   "interpreter": {
    "hash": "aee8b7b246df8f9039afb4144a1f6fd8d2ca17a180786b69acc140d282b71a49"
   }
  }
 },
 "nbformat": 4,
 "nbformat_minor": 5
}
