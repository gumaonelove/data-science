{
 "cells": [
  {
   "cell_type": "markdown",
   "source": [
    "# Руководство по использованию pandas для анализа больших наборов данных"
   ],
   "metadata": {
    "collapsed": false,
    "pycharm": {
     "name": "#%% md\n"
    }
   }
  },
  {
   "cell_type": "markdown",
   "source": [
    "Ссылка на материал: [Статья](https://habr.com/ru/company/ruvds/blog/442516/ \"перейти на хабр\")"
   ],
   "metadata": {
    "collapsed": false,
    "pycharm": {
     "name": "#%% md\n"
    }
   }
  },
  {
   "cell_type": "code",
   "execution_count": 36,
   "outputs": [
    {
     "data": {
      "text/plain": "       date  number_of_game day_of_week v_name v_league  v_game_number h_name  \\\n0  18710504               0         Thu    CL1       na              1    FW1   \n1  18710505               0         Fri    BS1       na              1    WS3   \n2  18710506               0         Sat    CL1       na              2    RC1   \n3  18710508               0         Mon    CL1       na              3    CH1   \n4  18710509               0         Tue    BS1       na              2    TRO   \n\n  h_league  h_game_number  v_score  ...  h_player_7_name  h_player_7_def_pos  \\\n0       na              1        0  ...       Ed Mincher                 7.0   \n1       na              1       20  ...     Asa Brainard                 1.0   \n2       na              1       12  ...       Pony Sager                 6.0   \n3       na              1       12  ...         Ed Duffy                 6.0   \n4       na              1        9  ...     Steve Bellan                 5.0   \n\n  h_player_8_id  h_player_8_name h_player_8_def_pos h_player_9_id  \\\n0      mcdej101  James McDermott                8.0      kellb105   \n1      burrh101  Henry Burroughs                9.0      berth101   \n2      birdg101      George Bird                7.0      stirg101   \n3      pinke101       Ed Pinkham                5.0      zettg101   \n4      pikel101         Lip Pike                3.0      cravb101   \n\n   h_player_9_name  h_player_9_def_pos  additional_info acquisition_info  \n0       Bill Kelly                 9.0              NaN                Y  \n1  Henry Berthrong                 8.0             HTBF                Y  \n2       Gat Stires                 9.0              NaN                Y  \n3  George Zettlein                 1.0              NaN                Y  \n4      Bill Craver                 6.0             HTBF                Y  \n\n[5 rows x 161 columns]",
      "text/html": "<div>\n<style scoped>\n    .dataframe tbody tr th:only-of-type {\n        vertical-align: middle;\n    }\n\n    .dataframe tbody tr th {\n        vertical-align: top;\n    }\n\n    .dataframe thead th {\n        text-align: right;\n    }\n</style>\n<table border=\"1\" class=\"dataframe\">\n  <thead>\n    <tr style=\"text-align: right;\">\n      <th></th>\n      <th>date</th>\n      <th>number_of_game</th>\n      <th>day_of_week</th>\n      <th>v_name</th>\n      <th>v_league</th>\n      <th>v_game_number</th>\n      <th>h_name</th>\n      <th>h_league</th>\n      <th>h_game_number</th>\n      <th>v_score</th>\n      <th>...</th>\n      <th>h_player_7_name</th>\n      <th>h_player_7_def_pos</th>\n      <th>h_player_8_id</th>\n      <th>h_player_8_name</th>\n      <th>h_player_8_def_pos</th>\n      <th>h_player_9_id</th>\n      <th>h_player_9_name</th>\n      <th>h_player_9_def_pos</th>\n      <th>additional_info</th>\n      <th>acquisition_info</th>\n    </tr>\n  </thead>\n  <tbody>\n    <tr>\n      <th>0</th>\n      <td>18710504</td>\n      <td>0</td>\n      <td>Thu</td>\n      <td>CL1</td>\n      <td>na</td>\n      <td>1</td>\n      <td>FW1</td>\n      <td>na</td>\n      <td>1</td>\n      <td>0</td>\n      <td>...</td>\n      <td>Ed Mincher</td>\n      <td>7.0</td>\n      <td>mcdej101</td>\n      <td>James McDermott</td>\n      <td>8.0</td>\n      <td>kellb105</td>\n      <td>Bill Kelly</td>\n      <td>9.0</td>\n      <td>NaN</td>\n      <td>Y</td>\n    </tr>\n    <tr>\n      <th>1</th>\n      <td>18710505</td>\n      <td>0</td>\n      <td>Fri</td>\n      <td>BS1</td>\n      <td>na</td>\n      <td>1</td>\n      <td>WS3</td>\n      <td>na</td>\n      <td>1</td>\n      <td>20</td>\n      <td>...</td>\n      <td>Asa Brainard</td>\n      <td>1.0</td>\n      <td>burrh101</td>\n      <td>Henry Burroughs</td>\n      <td>9.0</td>\n      <td>berth101</td>\n      <td>Henry Berthrong</td>\n      <td>8.0</td>\n      <td>HTBF</td>\n      <td>Y</td>\n    </tr>\n    <tr>\n      <th>2</th>\n      <td>18710506</td>\n      <td>0</td>\n      <td>Sat</td>\n      <td>CL1</td>\n      <td>na</td>\n      <td>2</td>\n      <td>RC1</td>\n      <td>na</td>\n      <td>1</td>\n      <td>12</td>\n      <td>...</td>\n      <td>Pony Sager</td>\n      <td>6.0</td>\n      <td>birdg101</td>\n      <td>George Bird</td>\n      <td>7.0</td>\n      <td>stirg101</td>\n      <td>Gat Stires</td>\n      <td>9.0</td>\n      <td>NaN</td>\n      <td>Y</td>\n    </tr>\n    <tr>\n      <th>3</th>\n      <td>18710508</td>\n      <td>0</td>\n      <td>Mon</td>\n      <td>CL1</td>\n      <td>na</td>\n      <td>3</td>\n      <td>CH1</td>\n      <td>na</td>\n      <td>1</td>\n      <td>12</td>\n      <td>...</td>\n      <td>Ed Duffy</td>\n      <td>6.0</td>\n      <td>pinke101</td>\n      <td>Ed Pinkham</td>\n      <td>5.0</td>\n      <td>zettg101</td>\n      <td>George Zettlein</td>\n      <td>1.0</td>\n      <td>NaN</td>\n      <td>Y</td>\n    </tr>\n    <tr>\n      <th>4</th>\n      <td>18710509</td>\n      <td>0</td>\n      <td>Tue</td>\n      <td>BS1</td>\n      <td>na</td>\n      <td>2</td>\n      <td>TRO</td>\n      <td>na</td>\n      <td>1</td>\n      <td>9</td>\n      <td>...</td>\n      <td>Steve Bellan</td>\n      <td>5.0</td>\n      <td>pikel101</td>\n      <td>Lip Pike</td>\n      <td>3.0</td>\n      <td>cravb101</td>\n      <td>Bill Craver</td>\n      <td>6.0</td>\n      <td>HTBF</td>\n      <td>Y</td>\n    </tr>\n  </tbody>\n</table>\n<p>5 rows × 161 columns</p>\n</div>"
     },
     "execution_count": 36,
     "metadata": {},
     "output_type": "execute_result"
    }
   ],
   "source": [
    "import pandas as pd\n",
    "try :\n",
    "    df = pd.read_csv('../datasets/game_logs.csv', low_memory=False)\n",
    "except:\n",
    "    df = pd.read_csv('https://query.data.world/s/ocx5ikmouua2a3hbcuhtlql25xemb2', low_memory=False)\n",
    "\n",
    "df.head()"
   ],
   "metadata": {
    "collapsed": false,
    "pycharm": {
     "name": "#%%\n"
    }
   }
  },
  {
   "cell_type": "markdown",
   "source": [
    "* date — Дата проведения игры.\n",
    "* v_name — Название команды гостей.\n",
    "* v_league — Лига команды гостей.\n",
    "* h_name — Название команды хозяев.\n",
    "* h_league — Лига команды хозяев.\n",
    "* v_score — Очки команды гостей.\n",
    "* h_score — Очки команды хозяев.\n",
    "* v_line_score — Сводка по очкам команды гостей, например — 010000(10)00.\n",
    "* h_line_score — Сводка по очкам команды хозяев, например — 010000(10)0X.\n",
    "* park_id — Идентификатор поля, на котором проводилась игра.\n",
    "* attendance — Количество зрителей."
   ],
   "metadata": {
    "collapsed": false,
    "pycharm": {
     "name": "#%% md\n"
    }
   }
  },
  {
   "cell_type": "markdown",
   "source": [
    "По умолчанию pandas, ради экономии времени, указывает приблизительные сведения об использовании памяти объектом DataFrame. Нас интересуют точные сведения, поэтому мы установим параметр memory_usage в значение 'deep'."
   ],
   "metadata": {
    "collapsed": false,
    "pycharm": {
     "name": "#%% md\n"
    }
   }
  },
  {
   "cell_type": "code",
   "execution_count": 37,
   "outputs": [
    {
     "name": "stdout",
     "output_type": "stream",
     "text": [
      "<class 'pandas.core.frame.DataFrame'>\n",
      "RangeIndex: 171907 entries, 0 to 171906\n",
      "Columns: 161 entries, date to acquisition_info\n",
      "dtypes: float64(77), int64(6), object(78)\n",
      "memory usage: 859.5 MB\n"
     ]
    }
   ],
   "source": [
    "df.info(memory_usage='deep')"
   ],
   "metadata": {
    "collapsed": false,
    "pycharm": {
     "name": "#%%\n"
    }
   }
  },
  {
   "cell_type": "markdown",
   "source": [
    "Так как данные разных типов хранятся раздельно, мы исследуем использование памяти разными типами данных. Начнём со среднего показателя использования памяти по разным типам данных."
   ],
   "metadata": {
    "collapsed": false,
    "pycharm": {
     "name": "#%% md\n"
    }
   }
  },
  {
   "cell_type": "code",
   "execution_count": 38,
   "outputs": [
    {
     "name": "stdout",
     "output_type": "stream",
     "text": [
      "Average memory usage for float columns: 1.29 MB\n",
      "Average memory usage for int columns: 1.12 MB\n",
      "Average memory usage for object columns: 9.50 MB\n"
     ]
    }
   ],
   "source": [
    "for dtype in ['float','int','object']:\n",
    "    selected_dtype = df.select_dtypes(include=[dtype])\n",
    "    mean_usage_b = selected_dtype.memory_usage(deep=True).mean()\n",
    "    mean_usage_mb = mean_usage_b / 1024 ** 2\n",
    "    print(\"Average memory usage for {} columns: {:03.2f} MB\".format(dtype,mean_usage_mb))"
   ],
   "metadata": {
    "collapsed": false,
    "pycharm": {
     "name": "#%%\n"
    }
   }
  },
  {
   "cell_type": "markdown",
   "source": [
    "Для проверки минимального и максимального значения, подходящего для хранения с использованием каждого целочисленного подтипа, можно воспользоваться методом numpy.iinfo(). Рассмотрим пример:"
   ],
   "metadata": {
    "collapsed": false,
    "pycharm": {
     "name": "#%% md\n"
    }
   }
  },
  {
   "cell_type": "code",
   "execution_count": 39,
   "outputs": [
    {
     "name": "stdout",
     "output_type": "stream",
     "text": [
      "Machine parameters for uint8\n",
      "---------------------------------------------------------------\n",
      "min = 0\n",
      "max = 255\n",
      "---------------------------------------------------------------\n",
      "\n",
      "Machine parameters for int8\n",
      "---------------------------------------------------------------\n",
      "min = -128\n",
      "max = 127\n",
      "---------------------------------------------------------------\n",
      "\n",
      "Machine parameters for int16\n",
      "---------------------------------------------------------------\n",
      "min = -32768\n",
      "max = 32767\n",
      "---------------------------------------------------------------\n",
      "\n"
     ]
    }
   ],
   "source": [
    "import numpy as np\n",
    "int_types = [\"uint8\", \"int8\", \"int16\"]\n",
    "for it in int_types:\n",
    "    print(np.iinfo(it))"
   ],
   "metadata": {
    "collapsed": false,
    "pycharm": {
     "name": "#%%\n"
    }
   }
  },
  {
   "cell_type": "markdown",
   "source": [
    "## Оптимизация хранения числовых данных с использованием подтипов"
   ],
   "metadata": {
    "collapsed": false,
    "pycharm": {
     "name": "#%% md\n"
    }
   }
  },
  {
   "cell_type": "markdown",
   "source": [
    "Функцию pd.to_numeric() можно использовать для нисходящего преобразования числовых типов. Для выбора целочисленных столбцов воспользуемся методом DataFrame.select_dtypes(), затем оптимизируем их и сравним использование памяти до и после оптимизации."
   ],
   "metadata": {
    "collapsed": false,
    "pycharm": {
     "name": "#%% md\n"
    }
   }
  },
  {
   "cell_type": "code",
   "execution_count": 40,
   "outputs": [
    {
     "name": "stdout",
     "output_type": "stream",
     "text": [
      "7.87 MB\n",
      "1.48 MB\n"
     ]
    },
    {
     "data": {
      "text/plain": "        before  after\nuint8      NaN    5.0\nuint32     NaN    1.0\nint64      6.0    NaN",
      "text/html": "<div>\n<style scoped>\n    .dataframe tbody tr th:only-of-type {\n        vertical-align: middle;\n    }\n\n    .dataframe tbody tr th {\n        vertical-align: top;\n    }\n\n    .dataframe thead th {\n        text-align: right;\n    }\n</style>\n<table border=\"1\" class=\"dataframe\">\n  <thead>\n    <tr style=\"text-align: right;\">\n      <th></th>\n      <th>before</th>\n      <th>after</th>\n    </tr>\n  </thead>\n  <tbody>\n    <tr>\n      <th>uint8</th>\n      <td>NaN</td>\n      <td>5.0</td>\n    </tr>\n    <tr>\n      <th>uint32</th>\n      <td>NaN</td>\n      <td>1.0</td>\n    </tr>\n    <tr>\n      <th>int64</th>\n      <td>6.0</td>\n      <td>NaN</td>\n    </tr>\n  </tbody>\n</table>\n</div>"
     },
     "execution_count": 40,
     "metadata": {},
     "output_type": "execute_result"
    }
   ],
   "source": [
    "# Мы будем часто выяснять то, сколько памяти используется,\n",
    "# поэтому создадим функцию, которая поможет нам сэкономить немного времени.\n",
    "\n",
    "\n",
    "def mem_usage(pandas_obj):\n",
    "    if isinstance(pandas_obj,pd.DataFrame):\n",
    "        usage_b = pandas_obj.memory_usage(deep=True).sum()\n",
    "    else: # исходим из предположения о том, что если это не DataFrame, то это Series\n",
    "        usage_b = pandas_obj.memory_usage(deep=True)\n",
    "    usage_mb = usage_b / 1024 ** 2 # преобразуем байты в мегабайты\n",
    "    return \"{:03.2f} MB\".format(usage_mb)\n",
    "\n",
    "df_int = df.select_dtypes(include=['int'])\n",
    "converted_int = df_int.apply(pd.to_numeric,downcast='unsigned')\n",
    "\n",
    "print(mem_usage(df_int))\n",
    "print(mem_usage(converted_int))\n",
    "\n",
    "compare_ints = pd.concat([df_int.dtypes,converted_int.dtypes],axis=1)\n",
    "compare_ints.columns = ['before','after']\n",
    "compare_ints.apply(pd.Series.value_counts)"
   ],
   "metadata": {
    "collapsed": false,
    "pycharm": {
     "name": "#%%\n"
    }
   }
  },
  {
   "cell_type": "markdown",
   "source": [
    "Сделаем то же самое со столбцами, содержащими числа с плавающей точкой."
   ],
   "metadata": {
    "collapsed": false,
    "pycharm": {
     "name": "#%% md\n"
    }
   }
  },
  {
   "cell_type": "code",
   "execution_count": 41,
   "outputs": [
    {
     "name": "stdout",
     "output_type": "stream",
     "text": [
      "100.99 MB\n",
      "50.49 MB\n"
     ]
    },
    {
     "data": {
      "text/plain": "         before  after\nfloat32     NaN   77.0\nfloat64    77.0    NaN",
      "text/html": "<div>\n<style scoped>\n    .dataframe tbody tr th:only-of-type {\n        vertical-align: middle;\n    }\n\n    .dataframe tbody tr th {\n        vertical-align: top;\n    }\n\n    .dataframe thead th {\n        text-align: right;\n    }\n</style>\n<table border=\"1\" class=\"dataframe\">\n  <thead>\n    <tr style=\"text-align: right;\">\n      <th></th>\n      <th>before</th>\n      <th>after</th>\n    </tr>\n  </thead>\n  <tbody>\n    <tr>\n      <th>float32</th>\n      <td>NaN</td>\n      <td>77.0</td>\n    </tr>\n    <tr>\n      <th>float64</th>\n      <td>77.0</td>\n      <td>NaN</td>\n    </tr>\n  </tbody>\n</table>\n</div>"
     },
     "execution_count": 41,
     "metadata": {},
     "output_type": "execute_result"
    }
   ],
   "source": [
    "df_float = df.select_dtypes(include=['float'])\n",
    "converted_float = df_float.apply(pd.to_numeric,downcast='float')\n",
    "\n",
    "print(mem_usage(df_float))\n",
    "print(mem_usage(converted_float))\n",
    "\n",
    "compare_floats = pd.concat([df_float.dtypes,converted_float.dtypes],axis=1)\n",
    "compare_floats.columns = ['before','after']\n",
    "compare_floats.apply(pd.Series.value_counts)"
   ],
   "metadata": {
    "collapsed": false,
    "pycharm": {
     "name": "#%%\n"
    }
   }
  },
  {
   "cell_type": "markdown",
   "source": [
    "Создадим копию исходного объекта DataFrame, используем эти оптимизированные числовые столбцы вместо тех, что присутствовали в нём изначально, и посмотрим на общий показатель использования памяти после оптимизации."
   ],
   "metadata": {
    "collapsed": false,
    "pycharm": {
     "name": "#%% md\n"
    }
   }
  },
  {
   "cell_type": "code",
   "execution_count": 42,
   "outputs": [
    {
     "name": "stdout",
     "output_type": "stream",
     "text": [
      "859.45 MB\n",
      "802.57 MB\n"
     ]
    }
   ],
   "source": [
    "optimized_df = df.copy()\n",
    "\n",
    "optimized_df[converted_int.columns] = converted_int\n",
    "optimized_df[converted_float.columns] = converted_float\n",
    "\n",
    "print(mem_usage(df))\n",
    "print(mem_usage(optimized_df))"
   ],
   "metadata": {
    "collapsed": false,
    "pycharm": {
     "name": "#%%\n"
    }
   }
  },
  {
   "cell_type": "markdown",
   "source": [
    "Хотя мы значительно уменьшили потребление памяти столбцами, хранящими числовые данные, в целом, по всему объекту DataFrame, потребление памяти снизилось лишь на 7%. Источником куда более серьёзного улучшения ситуации может стать оптимизация хранения объектных типов."
   ],
   "metadata": {
    "collapsed": false,
    "pycharm": {
     "name": "#%% md\n"
    }
   }
  },
  {
   "cell_type": "markdown",
   "source": [
    "## Сравнение механизмов хранения чисел и строк"
   ],
   "metadata": {
    "collapsed": false,
    "pycharm": {
     "name": "#%% md\n"
    }
   }
  },
  {
   "cell_type": "markdown",
   "source": [
    "Тип object представляет значения с использованием строковых объектов Python. Отчасти это так от того, что NumPy не поддерживает представление отсутствующих строковых значений. Так как Python — это высокоуровневый интерпретируемый язык, он не даёт программисту инструментов для тонкого управления тем, как данные хранятся в памяти."
   ],
   "metadata": {
    "collapsed": false,
    "pycharm": {
     "name": "#%% md\n"
    }
   }
  },
  {
   "cell_type": "markdown",
   "source": [
    "Итак, сначала исследуем обычные строки:"
   ],
   "metadata": {
    "collapsed": false,
    "pycharm": {
     "name": "#%% md\n"
    }
   }
  },
  {
   "cell_type": "code",
   "execution_count": 43,
   "outputs": [
    {
     "name": "stdout",
     "output_type": "stream",
     "text": [
      "60\n",
      "65\n",
      "74\n",
      "74\n"
     ]
    }
   ],
   "source": [
    "from sys import getsizeof\n",
    "\n",
    "s1 = 'working out'\n",
    "s2 = 'memory usage for'\n",
    "s3 = 'strings in python is fun!'\n",
    "s4 = 'strings in python is fun!'\n",
    "\n",
    "for s in [s1, s2, s3, s4]:\n",
    "    print(getsizeof(s))"
   ],
   "metadata": {
    "collapsed": false,
    "pycharm": {
     "name": "#%%\n"
    }
   }
  },
  {
   "cell_type": "markdown",
   "source": [
    "Теперь посмотрим на то, как выглядит использование строк в объекте Series:"
   ],
   "metadata": {
    "collapsed": false,
    "pycharm": {
     "name": "#%% md\n"
    }
   }
  },
  {
   "cell_type": "code",
   "execution_count": 44,
   "outputs": [
    {
     "data": {
      "text/plain": "0    60\n1    65\n2    74\n3    74\ndtype: int64"
     },
     "execution_count": 44,
     "metadata": {},
     "output_type": "execute_result"
    }
   ],
   "source": [
    "obj_series = pd.Series(['working out',\n",
    "                          'memory usage for',\n",
    "                          'strings in python is fun!',\n",
    "                          'strings in python is fun!'])\n",
    "obj_series.apply(getsizeof)"
   ],
   "metadata": {
    "collapsed": false,
    "pycharm": {
     "name": "#%%\n"
    }
   }
  },
  {
   "cell_type": "markdown",
   "source": [
    "Тут можно видеть, что размеры строк, хранящихся в объектах Series pandas, аналогичны их размерам при работе с ними в Python и при представлении их в виде самостоятельных сущностей."
   ],
   "metadata": {
    "collapsed": false,
    "pycharm": {
     "name": "#%% md\n"
    }
   }
  },
  {
   "cell_type": "markdown",
   "source": [
    "## Оптимизация хранения данных объектных типов с использованием категориальных переменных"
   ],
   "metadata": {
    "collapsed": false,
    "pycharm": {
     "name": "#%% md\n"
    }
   }
  },
  {
   "cell_type": "markdown",
   "source": [
    "Для того чтобы понять, где именно мы сможем воспользоваться категориальными данными для снижения потребления памяти, выясним количество уникальных значений в столбцах, хранящих значения объектных типов:"
   ],
   "metadata": {
    "collapsed": false,
    "pycharm": {
     "name": "#%% md\n"
    }
   }
  },
  {
   "cell_type": "code",
   "execution_count": 45,
   "outputs": [
    {
     "data": {
      "text/plain": "       day_of_week  v_name v_league  h_name h_league day_night  \\\ncount       171907  171907   171907  171907   171907    140150   \nunique           7     148        7     148        7         2   \ntop            Sat     CHN       NL     CHN       NL         D   \nfreq         28891    8870    88866    9024    88867     82724   \n\n              completion forefeit protest park_id  ... h_player_6_id  \\\ncount                116      145     180  171907  ...        140838   \nunique               116        3       5     245  ...          4774   \ntop     19200904,,0,6,36        H       V   STL07  ...      grimc101   \nfreq                   1       69      90    7022  ...           427   \n\n       h_player_6_name h_player_7_id h_player_7_name h_player_8_id  \\\ncount           140838        140838          140838        140838   \nunique            4720          5253            5197          4760   \ntop      Charlie Grimm      grimc101   Charlie Grimm      lopea102   \nfreq               427           491             491           676   \n\n       h_player_8_name h_player_9_id h_player_9_name additional_info  \\\ncount           140838        140838          140838            1456   \nunique            4710          5193            5142             332   \ntop           Al Lopez      spahw101    Warren Spahn            HTBF   \nfreq               676           339             339            1112   \n\n       acquisition_info  \ncount            140841  \nunique                1  \ntop                   Y  \nfreq             140841  \n\n[4 rows x 78 columns]",
      "text/html": "<div>\n<style scoped>\n    .dataframe tbody tr th:only-of-type {\n        vertical-align: middle;\n    }\n\n    .dataframe tbody tr th {\n        vertical-align: top;\n    }\n\n    .dataframe thead th {\n        text-align: right;\n    }\n</style>\n<table border=\"1\" class=\"dataframe\">\n  <thead>\n    <tr style=\"text-align: right;\">\n      <th></th>\n      <th>day_of_week</th>\n      <th>v_name</th>\n      <th>v_league</th>\n      <th>h_name</th>\n      <th>h_league</th>\n      <th>day_night</th>\n      <th>completion</th>\n      <th>forefeit</th>\n      <th>protest</th>\n      <th>park_id</th>\n      <th>...</th>\n      <th>h_player_6_id</th>\n      <th>h_player_6_name</th>\n      <th>h_player_7_id</th>\n      <th>h_player_7_name</th>\n      <th>h_player_8_id</th>\n      <th>h_player_8_name</th>\n      <th>h_player_9_id</th>\n      <th>h_player_9_name</th>\n      <th>additional_info</th>\n      <th>acquisition_info</th>\n    </tr>\n  </thead>\n  <tbody>\n    <tr>\n      <th>count</th>\n      <td>171907</td>\n      <td>171907</td>\n      <td>171907</td>\n      <td>171907</td>\n      <td>171907</td>\n      <td>140150</td>\n      <td>116</td>\n      <td>145</td>\n      <td>180</td>\n      <td>171907</td>\n      <td>...</td>\n      <td>140838</td>\n      <td>140838</td>\n      <td>140838</td>\n      <td>140838</td>\n      <td>140838</td>\n      <td>140838</td>\n      <td>140838</td>\n      <td>140838</td>\n      <td>1456</td>\n      <td>140841</td>\n    </tr>\n    <tr>\n      <th>unique</th>\n      <td>7</td>\n      <td>148</td>\n      <td>7</td>\n      <td>148</td>\n      <td>7</td>\n      <td>2</td>\n      <td>116</td>\n      <td>3</td>\n      <td>5</td>\n      <td>245</td>\n      <td>...</td>\n      <td>4774</td>\n      <td>4720</td>\n      <td>5253</td>\n      <td>5197</td>\n      <td>4760</td>\n      <td>4710</td>\n      <td>5193</td>\n      <td>5142</td>\n      <td>332</td>\n      <td>1</td>\n    </tr>\n    <tr>\n      <th>top</th>\n      <td>Sat</td>\n      <td>CHN</td>\n      <td>NL</td>\n      <td>CHN</td>\n      <td>NL</td>\n      <td>D</td>\n      <td>19200904,,0,6,36</td>\n      <td>H</td>\n      <td>V</td>\n      <td>STL07</td>\n      <td>...</td>\n      <td>grimc101</td>\n      <td>Charlie Grimm</td>\n      <td>grimc101</td>\n      <td>Charlie Grimm</td>\n      <td>lopea102</td>\n      <td>Al Lopez</td>\n      <td>spahw101</td>\n      <td>Warren Spahn</td>\n      <td>HTBF</td>\n      <td>Y</td>\n    </tr>\n    <tr>\n      <th>freq</th>\n      <td>28891</td>\n      <td>8870</td>\n      <td>88866</td>\n      <td>9024</td>\n      <td>88867</td>\n      <td>82724</td>\n      <td>1</td>\n      <td>69</td>\n      <td>90</td>\n      <td>7022</td>\n      <td>...</td>\n      <td>427</td>\n      <td>427</td>\n      <td>491</td>\n      <td>491</td>\n      <td>676</td>\n      <td>676</td>\n      <td>339</td>\n      <td>339</td>\n      <td>1112</td>\n      <td>140841</td>\n    </tr>\n  </tbody>\n</table>\n<p>4 rows × 78 columns</p>\n</div>"
     },
     "execution_count": 45,
     "metadata": {},
     "output_type": "execute_result"
    }
   ],
   "source": [
    "df_obj = df.select_dtypes(include=['object']).copy()\n",
    "df_obj.describe()"
   ],
   "metadata": {
    "collapsed": false,
    "pycharm": {
     "name": "#%%\n"
    }
   }
  },
  {
   "cell_type": "code",
   "execution_count": 46,
   "outputs": [
    {
     "name": "stdout",
     "output_type": "stream",
     "text": [
      "0    Thu\n",
      "1    Fri\n",
      "2    Sat\n",
      "3    Mon\n",
      "4    Tue\n",
      "Name: day_of_week, dtype: object\n",
      "0    Thu\n",
      "1    Fri\n",
      "2    Sat\n",
      "3    Mon\n",
      "4    Tue\n",
      "Name: day_of_week, dtype: category\n",
      "Categories (7, object): ['Fri', 'Mon', 'Sat', 'Sun', 'Thu', 'Tue', 'Wed']\n"
     ]
    }
   ],
   "source": [
    "dow = df_obj.day_of_week\n",
    "print(dow.head())\n",
    "\n",
    "dow_cat = dow.astype('category')\n",
    "print(dow_cat.head())"
   ],
   "metadata": {
    "collapsed": false,
    "pycharm": {
     "name": "#%%\n"
    }
   }
  },
  {
   "cell_type": "markdown",
   "source": [
    "Как видите, хотя тип столбца изменился, данные, хранящиеся в нём, выглядят так же, как и раньше. Посмотрим теперь на то, что происходит внутри программы."
   ],
   "metadata": {
    "collapsed": false,
    "pycharm": {
     "name": "#%% md\n"
    }
   }
  },
  {
   "cell_type": "markdown",
   "source": [
    "В следующем коде мы используем атрибут Series.cat.codes для того, чтобы выяснить то, какие целочисленные значения тип category использует для представления каждого из дней недели:"
   ],
   "metadata": {
    "collapsed": false,
    "pycharm": {
     "name": "#%% md\n"
    }
   }
  },
  {
   "cell_type": "code",
   "execution_count": 47,
   "outputs": [
    {
     "data": {
      "text/plain": "0    4\n1    0\n2    2\n3    1\n4    5\ndtype: int8"
     },
     "execution_count": 47,
     "metadata": {},
     "output_type": "execute_result"
    }
   ],
   "source": [
    "dow_cat.head().cat.codes"
   ],
   "metadata": {
    "collapsed": false,
    "pycharm": {
     "name": "#%%\n"
    }
   }
  },
  {
   "cell_type": "markdown",
   "source": [
    "Теперь давайте сравним потребление памяти до и после преобразования столбца day_of_week к типу category."
   ],
   "metadata": {
    "collapsed": false,
    "pycharm": {
     "name": "#%% md\n"
    }
   }
  },
  {
   "cell_type": "code",
   "execution_count": 48,
   "outputs": [
    {
     "name": "stdout",
     "output_type": "stream",
     "text": [
      "9.84 MB\n",
      "0.16 MB\n"
     ]
    }
   ],
   "source": [
    "print(mem_usage(dow))\n",
    "print(mem_usage(dow_cat))"
   ],
   "metadata": {
    "collapsed": false,
    "pycharm": {
     "name": "#%%\n"
    }
   }
  },
  {
   "cell_type": "markdown",
   "source": [
    "Создадим цикл, который перебирает все столбцы, хранящие данные типа object, выясняет, не превышает ли число уникальных значений в столбцах 50%, и если это так, преобразует их в тип category."
   ],
   "metadata": {
    "collapsed": false,
    "pycharm": {
     "name": "#%% md\n"
    }
   }
  },
  {
   "cell_type": "code",
   "execution_count": 49,
   "outputs": [],
   "source": [
    "converted_obj = pd.DataFrame()\n",
    "\n",
    "for col in df_obj.columns:\n",
    "    num_unique_values = len(df_obj[col].unique())\n",
    "    num_total_values = len(df_obj[col])\n",
    "    if num_unique_values / num_total_values < 0.5:\n",
    "        converted_obj.loc[:,col] = df_obj[col].astype('category')\n",
    "    else:\n",
    "        converted_obj.loc[:,col] = df_obj[col]"
   ],
   "metadata": {
    "collapsed": false,
    "pycharm": {
     "name": "#%%\n"
    }
   }
  },
  {
   "cell_type": "markdown",
   "source": [
    "Теперь сравним то, что получилось после оптимизации, с тем, что было раньше:"
   ],
   "metadata": {
    "collapsed": false,
    "pycharm": {
     "name": "#%% md\n"
    }
   }
  },
  {
   "cell_type": "code",
   "execution_count": 50,
   "outputs": [
    {
     "name": "stdout",
     "output_type": "stream",
     "text": [
      "750.60 MB\n",
      "49.88 MB\n"
     ]
    },
    {
     "data": {
      "text/plain": "          before  after\nobject      78.0    NaN\ncategory     NaN    2.0\ncategory     NaN    1.0\ncategory     NaN    1.0\ncategory     NaN    1.0\n...          ...    ...\ncategory     NaN    1.0\ncategory     NaN    1.0\ncategory     NaN    1.0\ncategory     NaN    1.0\ncategory     NaN    1.0\n\n[78 rows x 2 columns]",
      "text/html": "<div>\n<style scoped>\n    .dataframe tbody tr th:only-of-type {\n        vertical-align: middle;\n    }\n\n    .dataframe tbody tr th {\n        vertical-align: top;\n    }\n\n    .dataframe thead th {\n        text-align: right;\n    }\n</style>\n<table border=\"1\" class=\"dataframe\">\n  <thead>\n    <tr style=\"text-align: right;\">\n      <th></th>\n      <th>before</th>\n      <th>after</th>\n    </tr>\n  </thead>\n  <tbody>\n    <tr>\n      <th>object</th>\n      <td>78.0</td>\n      <td>NaN</td>\n    </tr>\n    <tr>\n      <th>category</th>\n      <td>NaN</td>\n      <td>2.0</td>\n    </tr>\n    <tr>\n      <th>category</th>\n      <td>NaN</td>\n      <td>1.0</td>\n    </tr>\n    <tr>\n      <th>category</th>\n      <td>NaN</td>\n      <td>1.0</td>\n    </tr>\n    <tr>\n      <th>category</th>\n      <td>NaN</td>\n      <td>1.0</td>\n    </tr>\n    <tr>\n      <th>...</th>\n      <td>...</td>\n      <td>...</td>\n    </tr>\n    <tr>\n      <th>category</th>\n      <td>NaN</td>\n      <td>1.0</td>\n    </tr>\n    <tr>\n      <th>category</th>\n      <td>NaN</td>\n      <td>1.0</td>\n    </tr>\n    <tr>\n      <th>category</th>\n      <td>NaN</td>\n      <td>1.0</td>\n    </tr>\n    <tr>\n      <th>category</th>\n      <td>NaN</td>\n      <td>1.0</td>\n    </tr>\n    <tr>\n      <th>category</th>\n      <td>NaN</td>\n      <td>1.0</td>\n    </tr>\n  </tbody>\n</table>\n<p>78 rows × 2 columns</p>\n</div>"
     },
     "execution_count": 50,
     "metadata": {},
     "output_type": "execute_result"
    }
   ],
   "source": [
    "print(mem_usage(df_obj))\n",
    "print(mem_usage(converted_obj))\n",
    "\n",
    "compare_obj = pd.concat([df_obj.dtypes,converted_obj.dtypes],axis=1)\n",
    "compare_obj.columns = ['before','after']\n",
    "compare_obj.apply(pd.Series.value_counts)"
   ],
   "metadata": {
    "collapsed": false,
    "pycharm": {
     "name": "#%%\n"
    }
   }
  },
  {
   "cell_type": "markdown",
   "source": [
    "Как видно, объём памяти, необходимый для работы со столбцами, хранящими данные типа object, снизился с 752 мегабайт до 52 мегабайт, то есть на 93%. Теперь давайте посмотрим на то, как нам удалось оптимизировать потребление памяти по всему набору данных. Проанализируем то, на какой уровень использования памяти мы вышли, если сравнить то, что получилось, с исходным показателем в 891 мегабайт."
   ],
   "metadata": {
    "collapsed": false,
    "pycharm": {
     "name": "#%% md\n"
    }
   }
  },
  {
   "cell_type": "code",
   "execution_count": 51,
   "outputs": [
    {
     "data": {
      "text/plain": "'101.85 MB'"
     },
     "execution_count": 51,
     "metadata": {},
     "output_type": "execute_result"
    }
   ],
   "source": [
    "optimized_df[converted_obj.columns] = converted_obj\n",
    "\n",
    "mem_usage(optimized_df)"
   ],
   "metadata": {
    "collapsed": false,
    "pycharm": {
     "name": "#%%\n"
    }
   }
  },
  {
   "cell_type": "markdown",
   "source": [
    "Результат впечатляет. Но мы ещё можем кое-что улучшить. Как было показано выше, в нашей таблице имеются данные типа datetime, столбец, хранящий которые, можно использовать в качестве первого столбца набора данных."
   ],
   "metadata": {
    "collapsed": false,
    "pycharm": {
     "name": "#%% md\n"
    }
   }
  },
  {
   "cell_type": "code",
   "execution_count": 52,
   "outputs": [
    {
     "name": "stdout",
     "output_type": "stream",
     "text": [
      "0.66 MB\n"
     ]
    },
    {
     "data": {
      "text/plain": "0    18710504\n1    18710505\n2    18710506\n3    18710508\n4    18710509\nName: date, dtype: uint32"
     },
     "execution_count": 52,
     "metadata": {},
     "output_type": "execute_result"
    }
   ],
   "source": [
    "date = optimized_df.date\n",
    "print(mem_usage(date))\n",
    "date.head()"
   ],
   "metadata": {
    "collapsed": false,
    "pycharm": {
     "name": "#%%\n"
    }
   }
  },
  {
   "cell_type": "markdown",
   "source": [
    "Можно вспомнить, что исходные данные были представлены в целочисленном виде и уже оптимизированы с использованием типа uint32. Из-за этого преобразование этих данных в тип datetime приведёт к удвоению потребления памяти, так как этот тип использует для хранения данных 64 бита. Однако в преобразовании данных к типу datetime, всё равно, есть смысл, так как это позволит нам легче выполнять анализ временных рядов.\n",
    "\n",
    "Преобразование выполняется с использованием функции to_datetime(), параметр format которой указывает на то, что данные хранятся в формате YYYY-MM-DD."
   ],
   "metadata": {
    "collapsed": false,
    "pycharm": {
     "name": "#%% md\n"
    }
   }
  },
  {
   "cell_type": "code",
   "execution_count": 53,
   "outputs": [
    {
     "name": "stdout",
     "output_type": "stream",
     "text": [
      "102.51 MB\n"
     ]
    },
    {
     "data": {
      "text/plain": "0   1871-05-04\n1   1871-05-05\n2   1871-05-06\n3   1871-05-08\n4   1871-05-09\nName: date, dtype: datetime64[ns]"
     },
     "execution_count": 53,
     "metadata": {},
     "output_type": "execute_result"
    }
   ],
   "source": [
    "optimized_df['date'] = pd.to_datetime(date,format='%Y%m%d')\n",
    "\n",
    "print(mem_usage(optimized_df))\n",
    "optimized_df.date.head()"
   ],
   "metadata": {
    "collapsed": false,
    "pycharm": {
     "name": "#%%\n"
    }
   }
  },
  {
   "cell_type": "markdown",
   "source": [
    "## Выбор типов при загрузке данных"
   ],
   "metadata": {
    "collapsed": false,
    "pycharm": {
     "name": "#%% md\n"
    }
   }
  },
  {
   "cell_type": "markdown",
   "source": [
    "До сих пор мы исследовали способы уменьшения потребления памяти существующим объектом DataFrame. Мы сначала считывали данные в их исходном виде, затем, пошагово, занимались их оптимизацией, сравнивая то, что получилось, с тем, что было. Это позволило как следует разобраться с тем, чего можно ожидать от тех или иных оптимизаций. Как уже было сказано, часто для представления всех значений, входящих в некий набор данных, может попросту не хватить памяти. В связи с этим возникает вопрос о том, как применить методики экономии памяти в том случае, если нельзя даже создать объект DataFrame, который предполагается оптимизировать.\n",
    "\n",
    "К счастью, оптимальные типы данных для отдельных столбцов можно указать ещё до фактической загрузки данных. Функция pandas.read_csv() имеет несколько параметров, позволяющих это сделать. Так, параметр dtype принимает словарь, в котором присутствуют, в виде ключей, строковые имена столбцов, и в виде значений — типы NumPy.\n",
    "\n",
    "Для того чтобы воспользоваться этой методикой, мы сохраним итоговые типы всех столбцов в словаре с ключами, представленными именами столбцов. Но для начала уберём столбец с датой проведения игры, так как его нужно обрабатывать отдельно."
   ],
   "metadata": {
    "collapsed": false,
    "pycharm": {
     "name": "#%% md\n"
    }
   }
  },
  {
   "cell_type": "code",
   "execution_count": 54,
   "outputs": [],
   "source": [
    "dtypes = optimized_df.drop('date',axis=1).dtypes\n",
    "\n",
    "dtypes_col = dtypes.index\n",
    "dtypes_type = [i.name for i in dtypes.values]\n",
    "\n",
    "column_types = dict(zip(dtypes_col, dtypes_type))\n",
    "\n",
    "# вместо вывода всех 161 элементов, мы\n",
    "# возьмём 10 пар ключ/значение из словаря\n",
    "# и аккуратно их выведем\n",
    "\n",
    "preview = first2pairs = {key:value for key,value in list(column_types.items())[:10]}"
   ],
   "metadata": {
    "collapsed": false,
    "pycharm": {
     "name": "#%%\n"
    }
   }
  },
  {
   "cell_type": "code",
   "execution_count": 55,
   "outputs": [
    {
     "name": "stdout",
     "output_type": "stream",
     "text": [
      "{   'day_of_week': 'category',\n",
      "    'h_game_number': 'uint8',\n",
      "    'h_league': 'category',\n",
      "    'h_name': 'category',\n",
      "    'h_score': 'uint8',\n",
      "    'number_of_game': 'uint8',\n",
      "    'v_game_number': 'uint8',\n",
      "    'v_league': 'category',\n",
      "    'v_name': 'category',\n",
      "    'v_score': 'uint8'}\n"
     ]
    },
    {
     "data": {
      "text/plain": "{'acquisition_info': 'category',\n 'h_caught_stealing': 'float32',\n 'h_player_1_name': 'category',\n 'h_player_9_name': 'category',\n 'v_assists': 'float32',\n 'v_first_catcher_interference': 'float32',\n 'v_grounded_into_double': 'float32',\n 'v_player_1_id': 'category',\n 'v_player_3_id': 'category',\n 'v_player_5_id': 'category'}"
     },
     "execution_count": 55,
     "metadata": {},
     "output_type": "execute_result"
    }
   ],
   "source": [
    "import pprint\n",
    "pp = pprint.PrettyPrinter(indent=4)\n",
    "pp.pprint(preview)\n",
    "#Вот что у нас получится:\n",
    "{   'acquisition_info': 'category',\n",
    "    'h_caught_stealing': 'float32',\n",
    "    'h_player_1_name': 'category',\n",
    "    'h_player_9_name': 'category',\n",
    "    'v_assists': 'float32',\n",
    "    'v_first_catcher_interference': 'float32',\n",
    "    'v_grounded_into_double': 'float32',\n",
    "    'v_player_1_id': 'category',\n",
    "    'v_player_3_id': 'category',\n",
    "    'v_player_5_id': 'category'}"
   ],
   "metadata": {
    "collapsed": false,
    "pycharm": {
     "name": "#%%\n"
    }
   }
  },
  {
   "cell_type": "markdown",
   "source": [
    "Теперь мы сможем воспользоваться этим словарём вместе с несколькими параметрами, касающимися данных о датах проведения игр, в ходе загрузки данных.\n",
    "\n",
    "Соответствующий код получается довольно-таки компактным:"
   ],
   "metadata": {
    "collapsed": false,
    "pycharm": {
     "name": "#%% md\n"
    }
   }
  },
  {
   "cell_type": "code",
   "execution_count": 57,
   "outputs": [
    {
     "name": "stdout",
     "output_type": "stream",
     "text": [
      "102.51 MB\n"
     ]
    },
    {
     "data": {
      "text/plain": "        date  number_of_game day_of_week v_name v_league  v_game_number  \\\n0 1871-05-04               0         Thu    CL1       na              1   \n1 1871-05-05               0         Fri    BS1       na              1   \n2 1871-05-06               0         Sat    CL1       na              2   \n3 1871-05-08               0         Mon    CL1       na              3   \n4 1871-05-09               0         Tue    BS1       na              2   \n\n  h_name h_league  h_game_number  v_score  ...  h_player_7_name  \\\n0    FW1       na              1        0  ...       Ed Mincher   \n1    WS3       na              1       20  ...     Asa Brainard   \n2    RC1       na              1       12  ...       Pony Sager   \n3    CH1       na              1       12  ...         Ed Duffy   \n4    TRO       na              1        9  ...     Steve Bellan   \n\n   h_player_7_def_pos h_player_8_id  h_player_8_name h_player_8_def_pos  \\\n0                 7.0      mcdej101  James McDermott                8.0   \n1                 1.0      burrh101  Henry Burroughs                9.0   \n2                 6.0      birdg101      George Bird                7.0   \n3                 6.0      pinke101       Ed Pinkham                5.0   \n4                 5.0      pikel101         Lip Pike                3.0   \n\n  h_player_9_id  h_player_9_name  h_player_9_def_pos  additional_info  \\\n0      kellb105       Bill Kelly                 9.0              NaN   \n1      berth101  Henry Berthrong                 8.0             HTBF   \n2      stirg101       Gat Stires                 9.0              NaN   \n3      zettg101  George Zettlein                 1.0              NaN   \n4      cravb101      Bill Craver                 6.0             HTBF   \n\n  acquisition_info  \n0                Y  \n1                Y  \n2                Y  \n3                Y  \n4                Y  \n\n[5 rows x 161 columns]",
      "text/html": "<div>\n<style scoped>\n    .dataframe tbody tr th:only-of-type {\n        vertical-align: middle;\n    }\n\n    .dataframe tbody tr th {\n        vertical-align: top;\n    }\n\n    .dataframe thead th {\n        text-align: right;\n    }\n</style>\n<table border=\"1\" class=\"dataframe\">\n  <thead>\n    <tr style=\"text-align: right;\">\n      <th></th>\n      <th>date</th>\n      <th>number_of_game</th>\n      <th>day_of_week</th>\n      <th>v_name</th>\n      <th>v_league</th>\n      <th>v_game_number</th>\n      <th>h_name</th>\n      <th>h_league</th>\n      <th>h_game_number</th>\n      <th>v_score</th>\n      <th>...</th>\n      <th>h_player_7_name</th>\n      <th>h_player_7_def_pos</th>\n      <th>h_player_8_id</th>\n      <th>h_player_8_name</th>\n      <th>h_player_8_def_pos</th>\n      <th>h_player_9_id</th>\n      <th>h_player_9_name</th>\n      <th>h_player_9_def_pos</th>\n      <th>additional_info</th>\n      <th>acquisition_info</th>\n    </tr>\n  </thead>\n  <tbody>\n    <tr>\n      <th>0</th>\n      <td>1871-05-04</td>\n      <td>0</td>\n      <td>Thu</td>\n      <td>CL1</td>\n      <td>na</td>\n      <td>1</td>\n      <td>FW1</td>\n      <td>na</td>\n      <td>1</td>\n      <td>0</td>\n      <td>...</td>\n      <td>Ed Mincher</td>\n      <td>7.0</td>\n      <td>mcdej101</td>\n      <td>James McDermott</td>\n      <td>8.0</td>\n      <td>kellb105</td>\n      <td>Bill Kelly</td>\n      <td>9.0</td>\n      <td>NaN</td>\n      <td>Y</td>\n    </tr>\n    <tr>\n      <th>1</th>\n      <td>1871-05-05</td>\n      <td>0</td>\n      <td>Fri</td>\n      <td>BS1</td>\n      <td>na</td>\n      <td>1</td>\n      <td>WS3</td>\n      <td>na</td>\n      <td>1</td>\n      <td>20</td>\n      <td>...</td>\n      <td>Asa Brainard</td>\n      <td>1.0</td>\n      <td>burrh101</td>\n      <td>Henry Burroughs</td>\n      <td>9.0</td>\n      <td>berth101</td>\n      <td>Henry Berthrong</td>\n      <td>8.0</td>\n      <td>HTBF</td>\n      <td>Y</td>\n    </tr>\n    <tr>\n      <th>2</th>\n      <td>1871-05-06</td>\n      <td>0</td>\n      <td>Sat</td>\n      <td>CL1</td>\n      <td>na</td>\n      <td>2</td>\n      <td>RC1</td>\n      <td>na</td>\n      <td>1</td>\n      <td>12</td>\n      <td>...</td>\n      <td>Pony Sager</td>\n      <td>6.0</td>\n      <td>birdg101</td>\n      <td>George Bird</td>\n      <td>7.0</td>\n      <td>stirg101</td>\n      <td>Gat Stires</td>\n      <td>9.0</td>\n      <td>NaN</td>\n      <td>Y</td>\n    </tr>\n    <tr>\n      <th>3</th>\n      <td>1871-05-08</td>\n      <td>0</td>\n      <td>Mon</td>\n      <td>CL1</td>\n      <td>na</td>\n      <td>3</td>\n      <td>CH1</td>\n      <td>na</td>\n      <td>1</td>\n      <td>12</td>\n      <td>...</td>\n      <td>Ed Duffy</td>\n      <td>6.0</td>\n      <td>pinke101</td>\n      <td>Ed Pinkham</td>\n      <td>5.0</td>\n      <td>zettg101</td>\n      <td>George Zettlein</td>\n      <td>1.0</td>\n      <td>NaN</td>\n      <td>Y</td>\n    </tr>\n    <tr>\n      <th>4</th>\n      <td>1871-05-09</td>\n      <td>0</td>\n      <td>Tue</td>\n      <td>BS1</td>\n      <td>na</td>\n      <td>2</td>\n      <td>TRO</td>\n      <td>na</td>\n      <td>1</td>\n      <td>9</td>\n      <td>...</td>\n      <td>Steve Bellan</td>\n      <td>5.0</td>\n      <td>pikel101</td>\n      <td>Lip Pike</td>\n      <td>3.0</td>\n      <td>cravb101</td>\n      <td>Bill Craver</td>\n      <td>6.0</td>\n      <td>HTBF</td>\n      <td>Y</td>\n    </tr>\n  </tbody>\n</table>\n<p>5 rows × 161 columns</p>\n</div>"
     },
     "execution_count": 57,
     "metadata": {},
     "output_type": "execute_result"
    }
   ],
   "source": [
    "try :\n",
    "    read_and_optimized = pd.read_csv('../datasets/game_logs.csv', dtype=column_types,parse_dates=['date'], infer_datetime_format=True)\n",
    "except:\n",
    "    read_and_optimized = pd.read_csv('https://query.data.world/s/ocx5ikmouua2a3hbcuhtlql25xemb2', dtype=column_types,parse_dates=['date'], infer_datetime_format=True)\n",
    "\n",
    "print(mem_usage(read_and_optimized))\n",
    "read_and_optimized.head()"
   ],
   "metadata": {
    "collapsed": false,
    "pycharm": {
     "name": "#%%\n"
    }
   }
  },
  {
   "cell_type": "markdown",
   "source": [
    "Данные теперь выглядят так, как показано на листе Фрагмент оптимизированного набора данных в этой таблице.\n",
    "\n",
    "Внешне таблицы, приведённые на листах Фрагмент оптимизированного набора данных и Фрагмент исходного набора данных, за исключением столбца с датами, выглядят одинаково, но это касается лишь их внешнего вида. Благодаря оптимизации использования памяти в pandas нам удалось снизить потребление памяти с 861.6 Мбайт до 104.28 Мбайт, получив впечатляющий результат экономии 88% памяти."
   ],
   "metadata": {
    "collapsed": false,
    "pycharm": {
     "name": "#%% md\n"
    }
   }
  },
  {
   "cell_type": "markdown",
   "source": [
    "# Анализ бейсбольных матчей"
   ],
   "metadata": {
    "collapsed": false,
    "pycharm": {
     "name": "#%% md\n"
    }
   }
  },
  {
   "cell_type": "markdown",
   "source": [
    "Теперь, после того, как мы оптимизировали данные, мы можем заняться их анализом. Взглянем на распределение игровых дней."
   ],
   "metadata": {
    "collapsed": false,
    "pycharm": {
     "name": "#%% md\n"
    }
   }
  },
  {
   "cell_type": "code",
   "execution_count": 58,
   "outputs": [
    {
     "data": {
      "text/plain": "<Figure size 432x288 with 1 Axes>",
      "image/png": "[encoded data removed]"
     },
     "metadata": {
      "needs_background": "light"
     },
     "output_type": "display_data"
    }
   ],
   "source": [
    "import matplotlib.pyplot as plt\n",
    "\n",
    "optimized_df['year'] = optimized_df.date.dt.year\n",
    "games_per_day = optimized_df.pivot_table(index='year',columns='day_of_week',values='date',aggfunc=len)\n",
    "games_per_day = games_per_day.divide(games_per_day.sum(axis=1),axis=0)\n",
    "\n",
    "ax = games_per_day.plot(kind='area',stacked='true')\n",
    "ax.legend(loc='upper right')\n",
    "ax.set_ylim(0,1)\n",
    "plt.show()"
   ],
   "metadata": {
    "collapsed": false,
    "pycharm": {
     "name": "#%%\n"
    }
   }
  },
  {
   "cell_type": "markdown",
   "source": [
    "Как видно, до 1920-х годов игры редко проводились по воскресеньям, после чего, примерно в течение 50 лет, игры в этот день постепенно проводились всё чаще.\n",
    "\n",
    "Кроме того, можно заметить, что распределение дней недели, в которые проводились игры последние 50 лет, является практически неизменным."
   ],
   "metadata": {
    "collapsed": false,
    "pycharm": {
     "name": "#%% md\n"
    }
   }
  },
  {
   "cell_type": "markdown",
   "source": [
    "Теперь взглянем на то, как со временем менялась длительность игр."
   ],
   "metadata": {
    "collapsed": false,
    "pycharm": {
     "name": "#%% md\n"
    }
   }
  },
  {
   "cell_type": "code",
   "execution_count": 59,
   "outputs": [
    {
     "data": {
      "text/plain": "<Figure size 432x288 with 1 Axes>",
      "image/png": "[encoded data removed]"
     },
     "metadata": {
      "needs_background": "light"
     },
     "output_type": "display_data"
    }
   ],
   "source": [
    "game_lengths = optimized_df.pivot_table(index='year', values='length_minutes')\n",
    "game_lengths.reset_index().plot.scatter('year','length_minutes')\n",
    "plt.show()"
   ],
   "metadata": {
    "collapsed": false,
    "pycharm": {
     "name": "#%%\n"
    }
   }
  },
  {
   "cell_type": "markdown",
   "source": [
    "Возникает такое ощущение, что с 1940-х годов по настоящее время матчи становятся всё более длительными."
   ],
   "metadata": {
    "collapsed": false,
    "pycharm": {
     "name": "#%% md\n"
    }
   }
  },
  {
   "cell_type": "markdown",
   "source": [
    "# Итоги"
   ],
   "metadata": {
    "collapsed": false,
    "pycharm": {
     "name": "#%% md\n"
    }
   }
  },
  {
   "cell_type": "markdown",
   "source": [
    "### В этом материале мы обсудили особенности хранения данных разных типов в pandas, после чего воспользовались полученными знаниями для уменьшения объёма памяти, необходимого для хранения объекта DataFrame, почти на 90%. Для этого мы применили две простые методики:\n",
    "\n",
    "* Мы произвели нисходящее преобразование типов числовых данных, хранящихся в столбцах, выбрав более эффективные, в плане использования памяти, типы.\n",
    "* Мы преобразовали строковые данные к категориальному типу данных.\n",
    "\n",
    "Нельзя сказать, что оптимизация любого набора данных способна привести к столь же впечатляющим результатам, но, особенно учитывая возможность выполнения оптимизации на этапе загрузки данных, можно говорить о том, что любому, кто занимается анализом данных с помощью pandas, полезно владеть методиками работы, которые мы здесь обсудили."
   ],
   "metadata": {
    "collapsed": false,
    "pycharm": {
     "name": "#%% md\n"
    }
   }
  }
 ],
 "metadata": {
  "kernelspec": {
   "display_name": "Python 3",
   "language": "python",
   "name": "python3"
  },
  "language_info": {
   "codemirror_mode": {
    "name": "ipython",
    "version": 2
   },
   "file_extension": ".py",
   "mimetype": "text/x-python",
   "name": "python",
   "nbconvert_exporter": "python",
   "pygments_lexer": "ipython2",
   "version": "2.7.6"
  }
 },
 "nbformat": 4,
 "nbformat_minor": 0
}