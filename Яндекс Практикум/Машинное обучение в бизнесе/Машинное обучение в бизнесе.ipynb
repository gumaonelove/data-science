{
 "cells": [
  {
   "cell_type": "markdown",
   "metadata": {
    "toc": true
   },
   "source": [
    "<h1>Содержание<span class=\"tocSkip\"></span></h1>\n",
    "<div class=\"toc\"><ul class=\"toc-item\"><li><span><a href=\"#Загрузка-и-подготовка-данных\" data-toc-modified-id=\"Загрузка-и-подготовка-данных-1\"><span class=\"toc-item-num\">1&nbsp;&nbsp;</span>Загрузка и подготовка данных</a></span><ul class=\"toc-item\"><li><span><a href=\"#Импорты\" data-toc-modified-id=\"Импорты-1.1\"><span class=\"toc-item-num\">1.1&nbsp;&nbsp;</span>Импорты</a></span></li><li><span><a href=\"#Чтение-файлов\" data-toc-modified-id=\"Чтение-файлов-1.2\"><span class=\"toc-item-num\">1.2&nbsp;&nbsp;</span>Чтение файлов</a></span></li><li><span><a href=\"#Первые-5-строк-таблицы\" data-toc-modified-id=\"Первые-5-строк-таблицы-1.3\"><span class=\"toc-item-num\">1.3&nbsp;&nbsp;</span>Первые 5 строк таблицы</a></span></li><li><span><a href=\"#Информация-о-столбцах\" data-toc-modified-id=\"Информация-о-столбцах-1.4\"><span class=\"toc-item-num\">1.4&nbsp;&nbsp;</span>Информация о столбцах</a></span></li><li><span><a href=\"#Гистограммы\" data-toc-modified-id=\"Гистограммы-1.5\"><span class=\"toc-item-num\">1.5&nbsp;&nbsp;</span>Гистограммы</a></span><ul class=\"toc-item\"><li><span><a href=\"#Регион-0\" data-toc-modified-id=\"Регион-0-1.5.1\"><span class=\"toc-item-num\">1.5.1&nbsp;&nbsp;</span>Регион 0</a></span></li><li><span><a href=\"#Регион-1\" data-toc-modified-id=\"Регион-1-1.5.2\"><span class=\"toc-item-num\">1.5.2&nbsp;&nbsp;</span>Регион 1</a></span></li><li><span><a href=\"#Регион-2\" data-toc-modified-id=\"Регион-2-1.5.3\"><span class=\"toc-item-num\">1.5.3&nbsp;&nbsp;</span>Регион 2</a></span></li></ul></li><li><span><a href=\"#Корреляция\" data-toc-modified-id=\"Корреляция-1.6\"><span class=\"toc-item-num\">1.6&nbsp;&nbsp;</span>Корреляция</a></span><ul class=\"toc-item\"><li><span><a href=\"#Регион-0\" data-toc-modified-id=\"Регион-0-1.6.1\"><span class=\"toc-item-num\">1.6.1&nbsp;&nbsp;</span>Регион 0</a></span></li><li><span><a href=\"#Регион-1\" data-toc-modified-id=\"Регион-1-1.6.2\"><span class=\"toc-item-num\">1.6.2&nbsp;&nbsp;</span>Регион 1</a></span></li><li><span><a href=\"#Регион-2\" data-toc-modified-id=\"Регион-2-1.6.3\"><span class=\"toc-item-num\">1.6.3&nbsp;&nbsp;</span>Регион 2</a></span></li></ul></li><li><span><a href=\"#Работа-с-признаками\" data-toc-modified-id=\"Работа-с-признаками-1.7\"><span class=\"toc-item-num\">1.7&nbsp;&nbsp;</span>Работа с признаками</a></span></li><li><span><a href=\"#Вывод\" data-toc-modified-id=\"Вывод-1.8\"><span class=\"toc-item-num\">1.8&nbsp;&nbsp;</span>Вывод</a></span></li></ul></li><li><span><a href=\"#Обучение-и-проверка-модели\" data-toc-modified-id=\"Обучение-и-проверка-модели-2\"><span class=\"toc-item-num\">2&nbsp;&nbsp;</span>Обучение и проверка модели</a></span><ul class=\"toc-item\"><li><span><a href=\"#Пайплайн\" data-toc-modified-id=\"Пайплайн-2.1\"><span class=\"toc-item-num\">2.1&nbsp;&nbsp;</span>Пайплайн</a></span></li><li><span><a href=\"#Регион-0\" data-toc-modified-id=\"Регион-0-2.2\"><span class=\"toc-item-num\">2.2&nbsp;&nbsp;</span>Регион 0</a></span></li><li><span><a href=\"#Регион-1\" data-toc-modified-id=\"Регион-1-2.3\"><span class=\"toc-item-num\">2.3&nbsp;&nbsp;</span>Регион 1</a></span></li><li><span><a href=\"#Регион-2\" data-toc-modified-id=\"Регион-2-2.4\"><span class=\"toc-item-num\">2.4&nbsp;&nbsp;</span>Регион 2</a></span><ul class=\"toc-item\"><li><span><a href=\"#Разделение-данных-на-тренировачно-валидационную-и-тестовую-(80/20)\" data-toc-modified-id=\"Разделение-данных-на-тренировачно-валидационную-и-тестовую-(80/20)-2.4.1\"><span class=\"toc-item-num\">2.4.1&nbsp;&nbsp;</span>Разделение данных на тренировачно-валидационную и тестовую (80/20)</a></span></li></ul></li><li><span><a href=\"#Анализ-результатов\" data-toc-modified-id=\"Анализ-результатов-2.5\"><span class=\"toc-item-num\">2.5&nbsp;&nbsp;</span>Анализ результатов</a></span></li></ul></li><li><span><a href=\"#Подготовка-к-расчёту-прибыли\" data-toc-modified-id=\"Подготовка-к-расчёту-прибыли-3\"><span class=\"toc-item-num\">3&nbsp;&nbsp;</span>Подготовка к расчёту прибыли</a></span><ul class=\"toc-item\"><li><span><a href=\"#Ключевые-значения\" data-toc-modified-id=\"Ключевые-значения-3.1\"><span class=\"toc-item-num\">3.1&nbsp;&nbsp;</span>Ключевые значения</a></span></li><li><span><a href=\"#Достаточный-объём-сырья-для-безубыточной-разработки-новой-скважины\" data-toc-modified-id=\"Достаточный-объём-сырья-для-безубыточной-разработки-новой-скважины-3.2\"><span class=\"toc-item-num\">3.2&nbsp;&nbsp;</span>Достаточный объём сырья для безубыточной разработки новой скважины</a></span></li><li><span><a href=\"#Функция-расчета-прибыли\" data-toc-modified-id=\"Функция-расчета-прибыли-3.3\"><span class=\"toc-item-num\">3.3&nbsp;&nbsp;</span>Функция расчета прибыли</a></span></li><li><span><a href=\"#Вывод\" data-toc-modified-id=\"Вывод-3.4\"><span class=\"toc-item-num\">3.4&nbsp;&nbsp;</span>Вывод</a></span></li></ul></li><li><span><a href=\"#Расчёт-прибыли-и-рисков\" data-toc-modified-id=\"Расчёт-прибыли-и-рисков-4\"><span class=\"toc-item-num\">4&nbsp;&nbsp;</span>Расчёт прибыли и рисков</a></span><ul class=\"toc-item\"><li><span><a href=\"#Регион-0\" data-toc-modified-id=\"Регион-0-4.1\"><span class=\"toc-item-num\">4.1&nbsp;&nbsp;</span>Регион 0</a></span><ul class=\"toc-item\"><li><span><a href=\"#Скважины-с-максимальными-значениями-предсказаний\" data-toc-modified-id=\"Скважины-с-максимальными-значениями-предсказаний-4.1.1\"><span class=\"toc-item-num\">4.1.1&nbsp;&nbsp;</span>Скважины с максимальными значениями предсказаний</a></span></li><li><span><a href=\"#Примените-технику-Bootstrap-с-1000-выборок\" data-toc-modified-id=\"Примените-технику-Bootstrap-с-1000-выборок-4.1.2\"><span class=\"toc-item-num\">4.1.2&nbsp;&nbsp;</span>Примените технику Bootstrap с 1000 выборок</a></span></li><li><span><a href=\"#Найдите-среднюю-прибыль,-95%-й-доверительный-интервал-и-риск-убытков\" data-toc-modified-id=\"Найдите-среднюю-прибыль,-95%-й-доверительный-интервал-и-риск-убытков-4.1.3\"><span class=\"toc-item-num\">4.1.3&nbsp;&nbsp;</span>Найдите среднюю прибыль, 95%-й доверительный интервал и риск убытков</a></span></li></ul></li><li><span><a href=\"#Регион-1\" data-toc-modified-id=\"Регион-1-4.2\"><span class=\"toc-item-num\">4.2&nbsp;&nbsp;</span>Регион 1</a></span><ul class=\"toc-item\"><li><span><a href=\"#Скважины-с-максимальными-значениями-предсказаний\" data-toc-modified-id=\"Скважины-с-максимальными-значениями-предсказаний-4.2.1\"><span class=\"toc-item-num\">4.2.1&nbsp;&nbsp;</span>Скважины с максимальными значениями предсказаний</a></span></li><li><span><a href=\"#Примените-технику-Bootstrap-с-1000-выборок\" data-toc-modified-id=\"Примените-технику-Bootstrap-с-1000-выборок-4.2.2\"><span class=\"toc-item-num\">4.2.2&nbsp;&nbsp;</span>Примените технику Bootstrap с 1000 выборок</a></span></li><li><span><a href=\"#Найдите-среднюю-прибыль,-95%-й-доверительный-интервал-и-риск-убытков\" data-toc-modified-id=\"Найдите-среднюю-прибыль,-95%-й-доверительный-интервал-и-риск-убытков-4.2.3\"><span class=\"toc-item-num\">4.2.3&nbsp;&nbsp;</span>Найдите среднюю прибыль, 95%-й доверительный интервал и риск убытков</a></span></li></ul></li><li><span><a href=\"#Регион-2\" data-toc-modified-id=\"Регион-2-4.3\"><span class=\"toc-item-num\">4.3&nbsp;&nbsp;</span>Регион 2</a></span><ul class=\"toc-item\"><li><span><a href=\"#Скважины-с-максимальными-значениями-предсказаний\" data-toc-modified-id=\"Скважины-с-максимальными-значениями-предсказаний-4.3.1\"><span class=\"toc-item-num\">4.3.1&nbsp;&nbsp;</span>Скважины с максимальными значениями предсказаний</a></span></li><li><span><a href=\"#Примените-технику-Bootstrap-с-1000-выборок\" data-toc-modified-id=\"Примените-технику-Bootstrap-с-1000-выборок-4.3.2\"><span class=\"toc-item-num\">4.3.2&nbsp;&nbsp;</span>Примените технику Bootstrap с 1000 выборок</a></span></li><li><span><a href=\"#Найдите-среднюю-прибыль,-95%-й-доверительный-интервал-и-риск-убытков\" data-toc-modified-id=\"Найдите-среднюю-прибыль,-95%-й-доверительный-интервал-и-риск-убытков-4.3.3\"><span class=\"toc-item-num\">4.3.3&nbsp;&nbsp;</span>Найдите среднюю прибыль, 95%-й доверительный интервал и риск убытков</a></span></li></ul></li><li><span><a href=\"#Вывод\" data-toc-modified-id=\"Вывод-4.4\"><span class=\"toc-item-num\">4.4&nbsp;&nbsp;</span>Вывод</a></span></li></ul></li><li><span><a href=\"#Чек-лист-готовности-проекта\" data-toc-modified-id=\"Чек-лист-готовности-проекта-5\"><span class=\"toc-item-num\">5&nbsp;&nbsp;</span>Чек-лист готовности проекта</a></span></li></ul></div>"
   ]
  },
  {
   "cell_type": "markdown",
   "metadata": {},
   "source": [
    "# Выбор локации для скважины"
   ]
  },
  {
   "cell_type": "markdown",
   "metadata": {},
   "source": [
    "Допустим, вы работаете в добывающей компании «ГлавРосГосНефть». Нужно решить, где бурить новую скважину.\n",
    "\n",
    "Вам предоставлены пробы нефти в трёх регионах: в каждом 10 000 месторождений, где измерили качество нефти и объём её запасов. Постройте модель машинного обучения, которая поможет определить регион, где добыча принесёт наибольшую прибыль. Проанализируйте возможную прибыль и риски техникой *Bootstrap.*\n",
    "\n",
    "Шаги для выбора локации:\n",
    "\n",
    "- В избранном регионе ищут месторождения, для каждого определяют значения признаков;\n",
    "- Строят модель и оценивают объём запасов;\n",
    "- Выбирают месторождения с самым высокими оценками значений. Количество месторождений зависит от бюджета компании и стоимости разработки одной скважины;\n",
    "- Прибыль равна суммарной прибыли отобранных месторождений."
   ]
  },
  {
   "cell_type": "markdown",
   "metadata": {},
   "source": [
    "## Загрузка и подготовка данных"
   ]
  },
  {
   "cell_type": "markdown",
   "metadata": {},
   "source": [
    "### Импорты"
   ]
  },
  {
   "cell_type": "code",
   "execution_count": 1,
   "metadata": {},
   "outputs": [],
   "source": [
    "import warnings\n",
    "\n",
    "import pandas as pd\n",
    "import seaborn as sns\n",
    "import numpy as np\n",
    "\n",
    "\n",
    "from sklearn.model_selection import train_test_split\n",
    "from sklearn.preprocessing import StandardScaler\n",
    "from sklearn.linear_model import LinearRegression\n",
    "from sklearn.metrics import mean_squared_error\n",
    "\n",
    "from scipy import stats as st"
   ]
  },
  {
   "cell_type": "code",
   "execution_count": 2,
   "metadata": {},
   "outputs": [],
   "source": [
    "warnings.filterwarnings('ignore')"
   ]
  },
  {
   "cell_type": "markdown",
   "metadata": {},
   "source": [
    "### Чтение файлов"
   ]
  },
  {
   "cell_type": "code",
   "execution_count": 3,
   "metadata": {},
   "outputs": [],
   "source": [
    "df_0 = pd.read_csv('/datasets/geo_data_0.csv', index_col='id')\n",
    "df_1 = pd.read_csv('/datasets/geo_data_1.csv', index_col='id')\n",
    "df_2 = pd.read_csv('/datasets/geo_data_2.csv', index_col='id')"
   ]
  },
  {
   "cell_type": "markdown",
   "metadata": {},
   "source": [
    "### Первые 5 строк таблицы"
   ]
  },
  {
   "cell_type": "code",
   "execution_count": 4,
   "metadata": {},
   "outputs": [
    {
     "data": {
      "text/html": [
       "<div>\n",
       "<style scoped>\n",
       "    .dataframe tbody tr th:only-of-type {\n",
       "        vertical-align: middle;\n",
       "    }\n",
       "\n",
       "    .dataframe tbody tr th {\n",
       "        vertical-align: top;\n",
       "    }\n",
       "\n",
       "    .dataframe thead th {\n",
       "        text-align: right;\n",
       "    }\n",
       "</style>\n",
       "<table border=\"1\" class=\"dataframe\">\n",
       "  <thead>\n",
       "    <tr style=\"text-align: right;\">\n",
       "      <th></th>\n",
       "      <th>f0</th>\n",
       "      <th>f1</th>\n",
       "      <th>f2</th>\n",
       "      <th>product</th>\n",
       "    </tr>\n",
       "    <tr>\n",
       "      <th>id</th>\n",
       "      <th></th>\n",
       "      <th></th>\n",
       "      <th></th>\n",
       "      <th></th>\n",
       "    </tr>\n",
       "  </thead>\n",
       "  <tbody>\n",
       "    <tr>\n",
       "      <th>txEyH</th>\n",
       "      <td>0.705745</td>\n",
       "      <td>-0.497823</td>\n",
       "      <td>1.221170</td>\n",
       "      <td>105.280062</td>\n",
       "    </tr>\n",
       "    <tr>\n",
       "      <th>2acmU</th>\n",
       "      <td>1.334711</td>\n",
       "      <td>-0.340164</td>\n",
       "      <td>4.365080</td>\n",
       "      <td>73.037750</td>\n",
       "    </tr>\n",
       "    <tr>\n",
       "      <th>409Wp</th>\n",
       "      <td>1.022732</td>\n",
       "      <td>0.151990</td>\n",
       "      <td>1.419926</td>\n",
       "      <td>85.265647</td>\n",
       "    </tr>\n",
       "    <tr>\n",
       "      <th>iJLyR</th>\n",
       "      <td>-0.032172</td>\n",
       "      <td>0.139033</td>\n",
       "      <td>2.978566</td>\n",
       "      <td>168.620776</td>\n",
       "    </tr>\n",
       "    <tr>\n",
       "      <th>Xdl7t</th>\n",
       "      <td>1.988431</td>\n",
       "      <td>0.155413</td>\n",
       "      <td>4.751769</td>\n",
       "      <td>154.036647</td>\n",
       "    </tr>\n",
       "  </tbody>\n",
       "</table>\n",
       "</div>"
      ],
      "text/plain": [
       "             f0        f1        f2     product\n",
       "id                                             \n",
       "txEyH  0.705745 -0.497823  1.221170  105.280062\n",
       "2acmU  1.334711 -0.340164  4.365080   73.037750\n",
       "409Wp  1.022732  0.151990  1.419926   85.265647\n",
       "iJLyR -0.032172  0.139033  2.978566  168.620776\n",
       "Xdl7t  1.988431  0.155413  4.751769  154.036647"
      ]
     },
     "execution_count": 4,
     "metadata": {},
     "output_type": "execute_result"
    }
   ],
   "source": [
    "df_0.head()"
   ]
  },
  {
   "cell_type": "markdown",
   "metadata": {},
   "source": [
    "### Информация о столбцах"
   ]
  },
  {
   "cell_type": "code",
   "execution_count": 5,
   "metadata": {},
   "outputs": [
    {
     "name": "stdout",
     "output_type": "stream",
     "text": [
      "<class 'pandas.core.frame.DataFrame'>\n",
      "Index: 100000 entries, txEyH to 1CWhH\n",
      "Data columns (total 4 columns):\n",
      " #   Column   Non-Null Count   Dtype  \n",
      "---  ------   --------------   -----  \n",
      " 0   f0       100000 non-null  float64\n",
      " 1   f1       100000 non-null  float64\n",
      " 2   f2       100000 non-null  float64\n",
      " 3   product  100000 non-null  float64\n",
      "dtypes: float64(4)\n",
      "memory usage: 3.8+ MB\n"
     ]
    }
   ],
   "source": [
    "df_0.info()"
   ]
  },
  {
   "cell_type": "code",
   "execution_count": 6,
   "metadata": {},
   "outputs": [
    {
     "name": "stdout",
     "output_type": "stream",
     "text": [
      "Пропусков в данных региона 0 = 0 шт\n",
      "Пропусков в данных региона 1 = 0 шт\n",
      "Пропусков в данных региона 2 = 0 шт\n"
     ]
    }
   ],
   "source": [
    "print(f'Пропусков в данных региона 0 = {df_0.isna().sum().sum()} шт')\n",
    "print(f'Пропусков в данных региона 1 = {df_1.isna().sum().sum()} шт')\n",
    "print(f'Пропусков в данных региона 2 = {df_2.isna().sum().sum()} шт')"
   ]
  },
  {
   "cell_type": "markdown",
   "metadata": {},
   "source": [
    "Пропусков в данных необноружено"
   ]
  },
  {
   "cell_type": "markdown",
   "metadata": {},
   "source": [
    "### Гистограммы"
   ]
  },
  {
   "cell_type": "markdown",
   "metadata": {},
   "source": [
    "#### Регион 0"
   ]
  },
  {
   "cell_type": "code",
   "execution_count": 7,
   "metadata": {},
   "outputs": [
    {
     "data": {
      "image/png": "[encoded data removed]",
      "text/plain": [
       "<Figure size 1080x1080 with 4 Axes>"
      ]
     },
     "metadata": {
      "needs_background": "light"
     },
     "output_type": "display_data"
    }
   ],
   "source": [
    "df_0.hist(figsize=(15, 15))\n",
    "None"
   ]
  },
  {
   "cell_type": "markdown",
   "metadata": {},
   "source": [
    "данные из столбцов f2, product - имеют нормальное распределение данных"
   ]
  },
  {
   "cell_type": "markdown",
   "metadata": {},
   "source": [
    "#### Регион 1"
   ]
  },
  {
   "cell_type": "code",
   "execution_count": 8,
   "metadata": {},
   "outputs": [
    {
     "data": {
      "image/png": "[encoded data removed]",
      "text/plain": [
       "<Figure size 1080x1080 with 4 Axes>"
      ]
     },
     "metadata": {
      "needs_background": "light"
     },
     "output_type": "display_data"
    }
   ],
   "source": [
    "df_1.hist(figsize=(15, 15))\n",
    "None"
   ]
  },
  {
   "cell_type": "markdown",
   "metadata": {},
   "source": [
    "данные из столбца f1 - имеют нормальное распределение данных"
   ]
  },
  {
   "cell_type": "markdown",
   "metadata": {},
   "source": [
    "#### Регион 2"
   ]
  },
  {
   "cell_type": "code",
   "execution_count": 9,
   "metadata": {},
   "outputs": [
    {
     "data": {
      "image/png": "[encoded data removed]",
      "text/plain": [
       "<Figure size 1080x1080 with 4 Axes>"
      ]
     },
     "metadata": {
      "needs_background": "light"
     },
     "output_type": "display_data"
    }
   ],
   "source": [
    "df_2.hist(figsize=(15, 15))\n",
    "None"
   ]
  },
  {
   "cell_type": "markdown",
   "metadata": {},
   "source": [
    "данные из столбца f0, f1, f2, product - имеют нормальное распределение данных"
   ]
  },
  {
   "cell_type": "markdown",
   "metadata": {},
   "source": [
    "### Корреляция"
   ]
  },
  {
   "cell_type": "markdown",
   "metadata": {},
   "source": [
    "#### Регион 0"
   ]
  },
  {
   "cell_type": "code",
   "execution_count": 10,
   "metadata": {},
   "outputs": [
    {
     "data": {
      "image/png": "[encoded data removed]",
      "text/plain": [
       "<Figure size 432x288 with 2 Axes>"
      ]
     },
     "metadata": {
      "needs_background": "light"
     },
     "output_type": "display_data"
    }
   ],
   "source": [
    "sns.heatmap(df_0.corr(), annot=True)\n",
    "None"
   ]
  },
  {
   "cell_type": "markdown",
   "metadata": {},
   "source": [
    "Мы видим корреляцию между f2 и product"
   ]
  },
  {
   "cell_type": "markdown",
   "metadata": {},
   "source": [
    "#### Регион 1"
   ]
  },
  {
   "cell_type": "code",
   "execution_count": 11,
   "metadata": {},
   "outputs": [
    {
     "data": {
      "image/png": "[encoded data removed]",
      "text/plain": [
       "<Figure size 432x288 with 2 Axes>"
      ]
     },
     "metadata": {
      "needs_background": "light"
     },
     "output_type": "display_data"
    }
   ],
   "source": [
    "sns.heatmap(df_1.corr(), annot=True)\n",
    "None"
   ]
  },
  {
   "cell_type": "markdown",
   "metadata": {},
   "source": [
    "Мы видим сильную корреляцию между столбцами f2 и product"
   ]
  },
  {
   "cell_type": "markdown",
   "metadata": {},
   "source": [
    "#### Регион 2"
   ]
  },
  {
   "cell_type": "code",
   "execution_count": 12,
   "metadata": {},
   "outputs": [
    {
     "data": {
      "image/png": "[encoded data removed]",
      "text/plain": [
       "<Figure size 432x288 with 2 Axes>"
      ]
     },
     "metadata": {
      "needs_background": "light"
     },
     "output_type": "display_data"
    }
   ],
   "source": [
    "sns.heatmap(df_2.corr(), annot=True)\n",
    "None"
   ]
  },
  {
   "cell_type": "markdown",
   "metadata": {},
   "source": [
    "Мы видим корреляцию между f2 и product"
   ]
  },
  {
   "cell_type": "markdown",
   "metadata": {},
   "source": [
    "### Работа с признаками"
   ]
  },
  {
   "cell_type": "markdown",
   "metadata": {},
   "source": [
    "Переведем тип данных у численных признаков"
   ]
  },
  {
   "cell_type": "code",
   "execution_count": 13,
   "metadata": {},
   "outputs": [
    {
     "data": {
      "text/plain": [
       "(f0           2.362331\n",
       " f1           1.343769\n",
       " f2          16.003790\n",
       " product    185.364347\n",
       " dtype: float64,\n",
       " f0         -8.760004\n",
       " f1         -7.084020\n",
       " f2        -11.970335\n",
       " product     0.000000\n",
       " dtype: float64)"
      ]
     },
     "execution_count": 13,
     "metadata": {},
     "output_type": "execute_result"
    }
   ],
   "source": [
    "df_0.max(), df_2.min()"
   ]
  },
  {
   "cell_type": "code",
   "execution_count": 14,
   "metadata": {},
   "outputs": [],
   "source": [
    "data = [df_0, df_1, df_2]\n",
    "for dt in data:\n",
    "    dt['f0'] = dt['f0'].astype('float16')\n",
    "    dt['f1'] = dt['f1'].astype('float16')\n",
    "    dt['f2'] = dt['f2'].astype('float16')\n",
    "    dt['product'] = dt['product'].astype('float32')"
   ]
  },
  {
   "cell_type": "markdown",
   "metadata": {},
   "source": [
    "### Вывод"
   ]
  },
  {
   "cell_type": "markdown",
   "metadata": {},
   "source": [
    "Пропусков в данных необноружено.\n",
    "\n",
    "Изучили распределение данных по регионам, вяснили что:\n",
    "* В **Регион 0** нормальное распределение имеют признаки из столбцов f2, product\n",
    "* В **Регион 1** нормальное распределение имеют признаки из столбцов f1\n",
    "* В **Регион 2** нормальное распределение имеют признаки из всех столбцов\n",
    "\n",
    "Анализ корреляции показал, что:\n",
    "* В **Регион 0** присутствует корреляция между f2 и product\n",
    "* В **Регион 1** присутствует сильная корреляция между столбцами f2 и product\n",
    "* В **Регион 2** присутствует корреляция между f2 и product"
   ]
  },
  {
   "cell_type": "markdown",
   "metadata": {},
   "source": [
    "## Обучение и проверка модели"
   ]
  },
  {
   "cell_type": "markdown",
   "metadata": {},
   "source": [
    "### Пайплайн"
   ]
  },
  {
   "cell_type": "markdown",
   "metadata": {},
   "source": [
    "1. разделение на тренировочную и валидационную\n",
    "2. Нормирование (стандартизация)\n",
    "3. обучение линейной регрессии\n",
    "4. подсчет rmse \n",
    "5. вычисление rmse / mean"
   ]
  },
  {
   "cell_type": "code",
   "execution_count": 15,
   "metadata": {},
   "outputs": [],
   "source": [
    "def pipeline(X, y, report=False, return_data=False) -> dict:\n",
    "    '''\n",
    "    X_t_v - train and valid features\n",
    "    y_t_v - train and valid target\n",
    "    '''\n",
    "    \n",
    "    #  Разделение данных на тренировочную и валидационную (75/25)\n",
    "    X_train, X_valid, y_train, y_valid = train_test_split(\n",
    "        X, \n",
    "        y,\n",
    "        test_size=0.25, \n",
    "        random_state=42\n",
    "    )\n",
    "    \n",
    "    # Нормировка признаков\n",
    "    scaler = StandardScaler()\n",
    "    scaler.fit(X_train)\n",
    "    X_train_normalize = scaler.transform(X_train)\n",
    "    X_valid_normalize = scaler.transform(X_valid)\n",
    "    \n",
    "    # Обучение модели\n",
    "    reg = LinearRegression()\n",
    "    reg.fit(X_train_normalize, y_train)\n",
    "    y_pred = reg.predict(X_valid_normalize)\n",
    "    rmse = mean_squared_error(y_valid, y_pred, squared=False)\n",
    "    y_pred_mean = y_pred.mean()\n",
    "    \n",
    "    if report:\n",
    "        print(f'Средний запас предсказанного сырья = {round(y_pred_mean, 0)} тыс. баррелей')\n",
    "        print(f'RMSE = {round(rmse, 0)}')\n",
    "        print(f'RMSE - квадратный корень от среднеквадратичной ошибки, он составляет {round(rmse/y_pred_mean * 100, 0)}% от среднего запаса предсказанного сырья.')\n",
    "    \n",
    "    if return_data:\n",
    "        return {'predictions': y_pred, 'rmse': rmse, 'y_pred': y_pred, 'X_test': X_valid, 'y_test': y_valid}\n",
    "    "
   ]
  },
  {
   "cell_type": "markdown",
   "metadata": {},
   "source": [
    "### Регион 0"
   ]
  },
  {
   "cell_type": "code",
   "execution_count": 16,
   "metadata": {},
   "outputs": [
    {
     "name": "stdout",
     "output_type": "stream",
     "text": [
      "Средний запас предсказанного сырья = 92.0 тыс. баррелей\n",
      "RMSE = 38.0\n",
      "RMSE - квадратный корень от среднеквадратичной ошибки, он составляет 41.0% от среднего запаса предсказанного сырья.\n"
     ]
    }
   ],
   "source": [
    "results_0 = pipeline(df_0[['f0', 'f1', 'f2']], df_0['product'], True, True)\n",
    "y_pred_0 = results_0['y_pred']\n",
    "X_test_0 = results_0['X_test']\n",
    "y_test_0 = results_0['y_test']"
   ]
  },
  {
   "cell_type": "markdown",
   "metadata": {},
   "source": [
    "### Регион 1"
   ]
  },
  {
   "cell_type": "code",
   "execution_count": 17,
   "metadata": {},
   "outputs": [
    {
     "name": "stdout",
     "output_type": "stream",
     "text": [
      "Средний запас предсказанного сырья = 69.0 тыс. баррелей\n",
      "RMSE = 1.0\n",
      "RMSE - квадратный корень от среднеквадратичной ошибки, он составляет 1.0% от среднего запаса предсказанного сырья.\n"
     ]
    }
   ],
   "source": [
    "results_1 = pipeline(df_1[['f0', 'f1', 'f2']], df_1['product'], True, True)\n",
    "y_pred_1 = results_1['y_pred']\n",
    "X_test_1 = results_1['X_test']\n",
    "y_test_1 = results_1['y_test']"
   ]
  },
  {
   "cell_type": "markdown",
   "metadata": {},
   "source": [
    "### Регион 2"
   ]
  },
  {
   "cell_type": "markdown",
   "metadata": {},
   "source": [
    "#### Разделение данных на тренировачно-валидационную и тестовую (80/20)"
   ]
  },
  {
   "cell_type": "code",
   "execution_count": 18,
   "metadata": {},
   "outputs": [
    {
     "name": "stdout",
     "output_type": "stream",
     "text": [
      "Средний запас предсказанного сырья = 95.0 тыс. баррелей\n",
      "RMSE = 40.0\n",
      "RMSE - квадратный корень от среднеквадратичной ошибки, он составляет 42.0% от среднего запаса предсказанного сырья.\n"
     ]
    }
   ],
   "source": [
    "results_2 = pipeline(df_2[['f0', 'f1', 'f2']], df_2['product'], True, True)\n",
    "y_pred_2 = results_2['y_pred']\n",
    "X_test_2 = results_2['X_test']\n",
    "y_test_2 = results_2['y_test']"
   ]
  },
  {
   "cell_type": "markdown",
   "metadata": {},
   "source": [
    "### Анализ результатов"
   ]
  },
  {
   "cell_type": "markdown",
   "metadata": {},
   "source": [
    "* rmse у 0 и 2 региона большие, в районе 40% в отличии от rmse 1 региона, он составляет 1% от средне предсказанного запаса сырья в регионе. \n",
    "\n",
    "* В 0 и 2 регионе среднее предсказанного запаса сырья выше чем в 1 регионе.\n",
    "\n",
    "Счиатю что, запас сырья в регионах 0 и 2 потенциально больше чем в регионе 1, так же даже с учетом rmse в худшую сторону запасы регионов 0 и 2 54 и 55 тыс. баррелей соответсвенно, что сравнимо с средне предсказанным запасом региона 1."
   ]
  },
  {
   "cell_type": "markdown",
   "metadata": {},
   "source": [
    "## Подготовка к расчёту прибыли"
   ]
  },
  {
   "cell_type": "markdown",
   "metadata": {},
   "source": [
    "### Ключевые значения"
   ]
  },
  {
   "cell_type": "markdown",
   "metadata": {},
   "source": [
    "1. При разведке региона **исследуют 500 точек**, из которых с помощью машинного обучения выбирают **200 лучших** для разработки.\n",
    "2. Бюджет на разработку скважин в регионе — **10 млрд** рублей.\n",
    "3. При нынешних ценах один баррель сырья приносит 450 рублей дохода. Доход с каждой единицы продукта составляет **450 тыс. рублей**, поскольку объём указан в тысячах баррелей."
   ]
  },
  {
   "cell_type": "code",
   "execution_count": 19,
   "metadata": {},
   "outputs": [],
   "source": [
    "NUMBER_OF_WELLS_EXPLORATION = 500\n",
    "NUMBER_OF_WELLS = 200\n",
    "BUDGET = 10 * 10 ** 9\n",
    "INCOME = 450 * 10 ** 3"
   ]
  },
  {
   "cell_type": "markdown",
   "metadata": {},
   "source": [
    "### Достаточный объём сырья для безубыточной разработки новой скважины"
   ]
  },
  {
   "cell_type": "code",
   "execution_count": 20,
   "metadata": {},
   "outputs": [
    {
     "name": "stdout",
     "output_type": "stream",
     "text": [
      "Достаточный объём сырья для безубыточной разработки новой скважины = 111.11 тыс. баррелей\n"
     ]
    }
   ],
   "source": [
    "min_product = BUDGET / INCOME / NUMBER_OF_WELLS\n",
    "print(f'Достаточный объём сырья для безубыточной разработки новой скважины = {round(min_product, 2)} тыс. баррелей')"
   ]
  },
  {
   "cell_type": "markdown",
   "metadata": {},
   "source": [
    "### Функция расчета прибыли"
   ]
  },
  {
   "cell_type": "code",
   "execution_count": 21,
   "metadata": {},
   "outputs": [],
   "source": [
    "def margin(product: pd.Series) -> str:\n",
    "    product_sum = product.sum()\n",
    "    _margin = product_sum * INCOME - BUDGET\n",
    "    \n",
    "    return beautifull_number(_margin)"
   ]
  },
  {
   "cell_type": "markdown",
   "metadata": {},
   "source": [
    "### Вывод"
   ]
  },
  {
   "cell_type": "markdown",
   "metadata": {},
   "source": [
    "Для безубыточной разработки новой скважины нужно что бы в среднем закасы каждой скважины составляли 111 тыс. баррелей.\n",
    "Учитывая информацию из раздела 2, мы знаем что среднее предсказанного запаса сырья имеет шанс быть больше безубыточного порога только в 0 и 2 регионе, но возможны риски, которые мы оценим далее в разделе 4."
   ]
  },
  {
   "cell_type": "markdown",
   "metadata": {},
   "source": [
    "## Расчёт прибыли и рисков "
   ]
  },
  {
   "cell_type": "code",
   "execution_count": 22,
   "metadata": {},
   "outputs": [],
   "source": [
    "state = np.random.RandomState(12345)"
   ]
  },
  {
   "cell_type": "code",
   "execution_count": 23,
   "metadata": {},
   "outputs": [],
   "source": [
    "def most_profitable_wells(X_test: pd.DataFrame, y_pred: np.array, y_test: pd.Series) -> pd.DataFrame:\n",
    "    df_test = pd.concat([X_test.reset_index(), pd.Series(y_pred), y_test.reset_index()], axis=1)\n",
    "    df_test = df_test.rename(columns={0:'product_pred', 'product': 'product_true'})\n",
    "    df_test = df_test.set_index('id')\n",
    "    return df_test.loc[df_test['product_pred'] >= min_product].sort_values(\n",
    "        by='product_pred', ascending=False).iloc[:NUMBER_OF_WELLS, :]"
   ]
  },
  {
   "cell_type": "code",
   "execution_count": 24,
   "metadata": {},
   "outputs": [],
   "source": [
    "def revenue(target, probabilities, count):\n",
    "    probs_sorted = probabilities.sort_values(ascending=False)\n",
    "    selected = target[probs_sorted.index][:count]\n",
    "    return selected.sum() * INCOME - BUDGET"
   ]
  },
  {
   "cell_type": "code",
   "execution_count": 25,
   "metadata": {},
   "outputs": [],
   "source": [
    "def bootstrap(target, probabilities) -> pd.Series:\n",
    "    target = pd.Series(target)\n",
    "    target = target.reset_index()\n",
    "    target = target.drop(columns=['id']).iloc[:, 0]\n",
    "    probabilities = pd.Series(probabilities)\n",
    "    values = []\n",
    "    for i in range(1000):\n",
    "        target_subsample = target.sample(n=NUMBER_OF_WELLS_EXPLORATION, random_state=state, replace=True)\n",
    "        probs_subsample = probabilities[target_subsample.index]\n",
    "\n",
    "        values.append(revenue(target_subsample, probs_subsample, NUMBER_OF_WELLS))\n",
    "    return pd.Series(values)"
   ]
  },
  {
   "cell_type": "code",
   "execution_count": 26,
   "metadata": {},
   "outputs": [],
   "source": [
    "def beautifull_number(num: float, dec=0)-> str:\n",
    "    '''Добавляет отступы между разрядами числа'''\n",
    "    return '{0:,}'.format(round(num, dec)).replace(',', ' ')"
   ]
  },
  {
   "cell_type": "code",
   "execution_count": 27,
   "metadata": {},
   "outputs": [],
   "source": [
    "def confidence_interval(values: pd.DataFrame) -> tuple:\n",
    "    _min = beautifull_number(values.quantile(q=0.025))\n",
    "    _max = beautifull_number(values.quantile(q=0.975))\n",
    "    loses = values.loc[values < 0]\n",
    "\n",
    "    print(\"Средняя прибыль:\", beautifull_number(values.mean()))\n",
    "    print(f\"95%-ый доверительный интервал: ({_min}, {_max})\")\n",
    "    print(f'Риск убытков = {loses.shape[0] / values.shape[0] * 100} %')"
   ]
  },
  {
   "cell_type": "markdown",
   "metadata": {},
   "source": [
    "### Регион 0"
   ]
  },
  {
   "cell_type": "markdown",
   "metadata": {},
   "source": [
    "#### Скважины с максимальными значениями предсказаний"
   ]
  },
  {
   "cell_type": "code",
   "execution_count": 28,
   "metadata": {},
   "outputs": [
    {
     "data": {
      "text/html": [
       "<div>\n",
       "<style scoped>\n",
       "    .dataframe tbody tr th:only-of-type {\n",
       "        vertical-align: middle;\n",
       "    }\n",
       "\n",
       "    .dataframe tbody tr th {\n",
       "        vertical-align: top;\n",
       "    }\n",
       "\n",
       "    .dataframe thead th {\n",
       "        text-align: right;\n",
       "    }\n",
       "</style>\n",
       "<table border=\"1\" class=\"dataframe\">\n",
       "  <thead>\n",
       "    <tr style=\"text-align: right;\">\n",
       "      <th></th>\n",
       "      <th>f0</th>\n",
       "      <th>f1</th>\n",
       "      <th>f2</th>\n",
       "      <th>product_pred</th>\n",
       "      <th>product_true</th>\n",
       "    </tr>\n",
       "    <tr>\n",
       "      <th>id</th>\n",
       "      <th></th>\n",
       "      <th></th>\n",
       "      <th></th>\n",
       "      <th></th>\n",
       "      <th></th>\n",
       "    </tr>\n",
       "  </thead>\n",
       "  <tbody>\n",
       "    <tr>\n",
       "      <th>(lfgbR, lfgbR)</th>\n",
       "      <td>1.853516</td>\n",
       "      <td>-0.153442</td>\n",
       "      <td>13.585938</td>\n",
       "      <td>176.574020</td>\n",
       "      <td>153.639832</td>\n",
       "    </tr>\n",
       "    <tr>\n",
       "      <th>(WcCwe, WcCwe)</th>\n",
       "      <td>1.723633</td>\n",
       "      <td>-0.376465</td>\n",
       "      <td>13.140625</td>\n",
       "      <td>176.291153</td>\n",
       "      <td>140.631653</td>\n",
       "    </tr>\n",
       "    <tr>\n",
       "      <th>(he3xS, he3xS)</th>\n",
       "      <td>0.370605</td>\n",
       "      <td>-0.282959</td>\n",
       "      <td>13.671875</td>\n",
       "      <td>173.279648</td>\n",
       "      <td>178.879517</td>\n",
       "    </tr>\n",
       "    <tr>\n",
       "      <th>(kU92A, kU92A)</th>\n",
       "      <td>0.896973</td>\n",
       "      <td>-0.499023</td>\n",
       "      <td>12.828125</td>\n",
       "      <td>172.817474</td>\n",
       "      <td>176.807831</td>\n",
       "    </tr>\n",
       "    <tr>\n",
       "      <th>(2I3WV, 2I3WV)</th>\n",
       "      <td>1.114258</td>\n",
       "      <td>-0.217041</td>\n",
       "      <td>13.304688</td>\n",
       "      <td>172.765808</td>\n",
       "      <td>130.985687</td>\n",
       "    </tr>\n",
       "  </tbody>\n",
       "</table>\n",
       "</div>"
      ],
      "text/plain": [
       "                      f0        f1         f2  product_pred  product_true\n",
       "id                                                                       \n",
       "(lfgbR, lfgbR)  1.853516 -0.153442  13.585938    176.574020    153.639832\n",
       "(WcCwe, WcCwe)  1.723633 -0.376465  13.140625    176.291153    140.631653\n",
       "(he3xS, he3xS)  0.370605 -0.282959  13.671875    173.279648    178.879517\n",
       "(kU92A, kU92A)  0.896973 -0.499023  12.828125    172.817474    176.807831\n",
       "(2I3WV, 2I3WV)  1.114258 -0.217041  13.304688    172.765808    130.985687"
      ]
     },
     "execution_count": 28,
     "metadata": {},
     "output_type": "execute_result"
    }
   ],
   "source": [
    "df_0_test = most_profitable_wells(X_test_0, y_pred_0, y_test_0)\n",
    "df_0_test.head()"
   ]
  },
  {
   "cell_type": "code",
   "execution_count": 29,
   "metadata": {},
   "outputs": [
    {
     "data": {
      "text/plain": [
       "(200, 5)"
      ]
     },
     "execution_count": 29,
     "metadata": {},
     "output_type": "execute_result"
    }
   ],
   "source": [
    "df_0_test.shape"
   ]
  },
  {
   "cell_type": "markdown",
   "metadata": {},
   "source": [
    "#### Примените технику Bootstrap с 1000 выборок"
   ]
  },
  {
   "cell_type": "code",
   "execution_count": 30,
   "metadata": {},
   "outputs": [],
   "source": [
    "values = bootstrap(y_test_0, y_pred_0)"
   ]
  },
  {
   "cell_type": "markdown",
   "metadata": {},
   "source": [
    "#### Найдите среднюю прибыль, 95%-й доверительный интервал и риск убытков"
   ]
  },
  {
   "cell_type": "code",
   "execution_count": 31,
   "metadata": {},
   "outputs": [
    {
     "name": "stdout",
     "output_type": "stream",
     "text": [
      "Средняя прибыль: 435 950 539.0\n",
      "95%-ый доверительный интервал: (-116 231 904.0, 966 503 801.0)\n",
      "Риск убытков = 6.1 %\n"
     ]
    }
   ],
   "source": [
    "confidence_interval(values)"
   ]
  },
  {
   "cell_type": "markdown",
   "metadata": {},
   "source": [
    "Данный регион не подходит для ральнейшей разработки месторождений в нем, так как риск убытков составляет 6.1%. Учитывая что допустимый риск 2.5%"
   ]
  },
  {
   "cell_type": "markdown",
   "metadata": {},
   "source": [
    "### Регион 1"
   ]
  },
  {
   "cell_type": "markdown",
   "metadata": {},
   "source": [
    "#### Скважины с максимальными значениями предсказаний"
   ]
  },
  {
   "cell_type": "code",
   "execution_count": 32,
   "metadata": {},
   "outputs": [
    {
     "data": {
      "text/html": [
       "<div>\n",
       "<style scoped>\n",
       "    .dataframe tbody tr th:only-of-type {\n",
       "        vertical-align: middle;\n",
       "    }\n",
       "\n",
       "    .dataframe tbody tr th {\n",
       "        vertical-align: top;\n",
       "    }\n",
       "\n",
       "    .dataframe thead th {\n",
       "        text-align: right;\n",
       "    }\n",
       "</style>\n",
       "<table border=\"1\" class=\"dataframe\">\n",
       "  <thead>\n",
       "    <tr style=\"text-align: right;\">\n",
       "      <th></th>\n",
       "      <th>f0</th>\n",
       "      <th>f1</th>\n",
       "      <th>f2</th>\n",
       "      <th>product_pred</th>\n",
       "      <th>product_true</th>\n",
       "    </tr>\n",
       "    <tr>\n",
       "      <th>id</th>\n",
       "      <th></th>\n",
       "      <th></th>\n",
       "      <th></th>\n",
       "      <th></th>\n",
       "      <th></th>\n",
       "    </tr>\n",
       "  </thead>\n",
       "  <tbody>\n",
       "    <tr>\n",
       "      <th>(kpPCd, kpPCd)</th>\n",
       "      <td>-23.890625</td>\n",
       "      <td>-3.773438</td>\n",
       "      <td>5.000000</td>\n",
       "      <td>139.990417</td>\n",
       "      <td>137.945404</td>\n",
       "    </tr>\n",
       "    <tr>\n",
       "      <th>(vd9ik, vd9ik)</th>\n",
       "      <td>-20.406250</td>\n",
       "      <td>-11.203125</td>\n",
       "      <td>5.003906</td>\n",
       "      <td>139.778946</td>\n",
       "      <td>137.945404</td>\n",
       "    </tr>\n",
       "    <tr>\n",
       "      <th>(a8qSM, a8qSM)</th>\n",
       "      <td>-17.390625</td>\n",
       "      <td>-12.343750</td>\n",
       "      <td>5.015625</td>\n",
       "      <td>139.678711</td>\n",
       "      <td>137.945404</td>\n",
       "    </tr>\n",
       "    <tr>\n",
       "      <th>(1m8tG, 1m8tG)</th>\n",
       "      <td>-19.359375</td>\n",
       "      <td>-7.968750</td>\n",
       "      <td>5.003906</td>\n",
       "      <td>139.555328</td>\n",
       "      <td>137.945404</td>\n",
       "    </tr>\n",
       "    <tr>\n",
       "      <th>(55xmk, 55xmk)</th>\n",
       "      <td>-19.968750</td>\n",
       "      <td>-3.718750</td>\n",
       "      <td>5.003906</td>\n",
       "      <td>139.552109</td>\n",
       "      <td>137.945404</td>\n",
       "    </tr>\n",
       "  </tbody>\n",
       "</table>\n",
       "</div>"
      ],
      "text/plain": [
       "                       f0         f1        f2  product_pred  product_true\n",
       "id                                                                        \n",
       "(kpPCd, kpPCd) -23.890625  -3.773438  5.000000    139.990417    137.945404\n",
       "(vd9ik, vd9ik) -20.406250 -11.203125  5.003906    139.778946    137.945404\n",
       "(a8qSM, a8qSM) -17.390625 -12.343750  5.015625    139.678711    137.945404\n",
       "(1m8tG, 1m8tG) -19.359375  -7.968750  5.003906    139.555328    137.945404\n",
       "(55xmk, 55xmk) -19.968750  -3.718750  5.003906    139.552109    137.945404"
      ]
     },
     "execution_count": 32,
     "metadata": {},
     "output_type": "execute_result"
    }
   ],
   "source": [
    "df_1_test = most_profitable_wells(X_test_1, y_pred_1, y_test_1)\n",
    "df_1_test.head()"
   ]
  },
  {
   "cell_type": "markdown",
   "metadata": {},
   "source": [
    "#### Примените технику Bootstrap с 1000 выборок"
   ]
  },
  {
   "cell_type": "code",
   "execution_count": 33,
   "metadata": {},
   "outputs": [],
   "source": [
    "values = bootstrap(y_test_1, y_pred_1)"
   ]
  },
  {
   "cell_type": "markdown",
   "metadata": {},
   "source": [
    "#### Найдите среднюю прибыль, 95%-й доверительный интервал и риск убытков"
   ]
  },
  {
   "cell_type": "code",
   "execution_count": 34,
   "metadata": {},
   "outputs": [
    {
     "name": "stdout",
     "output_type": "stream",
     "text": [
      "Средняя прибыль: 498 568 808.0\n",
      "95%-ый доверительный интервал: (75 317 166.0, 911 503 958.0)\n",
      "Риск убытков = 1.0 %\n"
     ]
    }
   ],
   "source": [
    "confidence_interval(values)"
   ]
  },
  {
   "cell_type": "markdown",
   "metadata": {},
   "source": [
    "~~loses = values.loc[values < min_product]~~\n",
    "\n",
    "\n",
    "~~print(f'Риск убытков = {loses.shape[0] / df_1_test.shape[0]} %')~~"
   ]
  },
  {
   "cell_type": "markdown",
   "metadata": {},
   "source": [
    "### Регион 2"
   ]
  },
  {
   "cell_type": "markdown",
   "metadata": {},
   "source": [
    "#### Скважины с максимальными значениями предсказаний"
   ]
  },
  {
   "cell_type": "code",
   "execution_count": 35,
   "metadata": {},
   "outputs": [
    {
     "data": {
      "text/html": [
       "<div>\n",
       "<style scoped>\n",
       "    .dataframe tbody tr th:only-of-type {\n",
       "        vertical-align: middle;\n",
       "    }\n",
       "\n",
       "    .dataframe tbody tr th {\n",
       "        vertical-align: top;\n",
       "    }\n",
       "\n",
       "    .dataframe thead th {\n",
       "        text-align: right;\n",
       "    }\n",
       "</style>\n",
       "<table border=\"1\" class=\"dataframe\">\n",
       "  <thead>\n",
       "    <tr style=\"text-align: right;\">\n",
       "      <th></th>\n",
       "      <th>f0</th>\n",
       "      <th>f1</th>\n",
       "      <th>f2</th>\n",
       "      <th>product_pred</th>\n",
       "      <th>product_true</th>\n",
       "    </tr>\n",
       "    <tr>\n",
       "      <th>id</th>\n",
       "      <th></th>\n",
       "      <th></th>\n",
       "      <th></th>\n",
       "      <th></th>\n",
       "      <th></th>\n",
       "    </tr>\n",
       "  </thead>\n",
       "  <tbody>\n",
       "    <tr>\n",
       "      <th>(rtPef, rtPef)</th>\n",
       "      <td>-0.214966</td>\n",
       "      <td>1.849609</td>\n",
       "      <td>15.648438</td>\n",
       "      <td>170.545593</td>\n",
       "      <td>101.225037</td>\n",
       "    </tr>\n",
       "    <tr>\n",
       "      <th>(KJ6bS, KJ6bS)</th>\n",
       "      <td>0.517090</td>\n",
       "      <td>-2.687500</td>\n",
       "      <td>15.500000</td>\n",
       "      <td>169.693665</td>\n",
       "      <td>151.655777</td>\n",
       "    </tr>\n",
       "    <tr>\n",
       "      <th>(Jz7Ou, Jz7Ou)</th>\n",
       "      <td>1.276367</td>\n",
       "      <td>-2.876953</td>\n",
       "      <td>14.750000</td>\n",
       "      <td>165.299423</td>\n",
       "      <td>92.947334</td>\n",
       "    </tr>\n",
       "    <tr>\n",
       "      <th>(yJO5k, yJO5k)</th>\n",
       "      <td>-0.005192</td>\n",
       "      <td>-1.141602</td>\n",
       "      <td>14.617188</td>\n",
       "      <td>164.639160</td>\n",
       "      <td>97.775978</td>\n",
       "    </tr>\n",
       "    <tr>\n",
       "      <th>(bxRO7, bxRO7)</th>\n",
       "      <td>-0.800781</td>\n",
       "      <td>-0.417236</td>\n",
       "      <td>14.492188</td>\n",
       "      <td>163.953308</td>\n",
       "      <td>122.460899</td>\n",
       "    </tr>\n",
       "  </tbody>\n",
       "</table>\n",
       "</div>"
      ],
      "text/plain": [
       "                      f0        f1         f2  product_pred  product_true\n",
       "id                                                                       \n",
       "(rtPef, rtPef) -0.214966  1.849609  15.648438    170.545593    101.225037\n",
       "(KJ6bS, KJ6bS)  0.517090 -2.687500  15.500000    169.693665    151.655777\n",
       "(Jz7Ou, Jz7Ou)  1.276367 -2.876953  14.750000    165.299423     92.947334\n",
       "(yJO5k, yJO5k) -0.005192 -1.141602  14.617188    164.639160     97.775978\n",
       "(bxRO7, bxRO7) -0.800781 -0.417236  14.492188    163.953308    122.460899"
      ]
     },
     "execution_count": 35,
     "metadata": {},
     "output_type": "execute_result"
    }
   ],
   "source": [
    "df_2_test = most_profitable_wells(X_test_2, y_pred_2, y_test_2)\n",
    "df_2_test.head()"
   ]
  },
  {
   "cell_type": "markdown",
   "metadata": {},
   "source": [
    "#### Примените технику Bootstrap с 1000 выборок"
   ]
  },
  {
   "cell_type": "code",
   "execution_count": 36,
   "metadata": {},
   "outputs": [],
   "source": [
    "values = bootstrap(y_test_2, y_pred_2)"
   ]
  },
  {
   "cell_type": "markdown",
   "metadata": {},
   "source": [
    "#### Найдите среднюю прибыль, 95%-й доверительный интервал и риск убытков"
   ]
  },
  {
   "cell_type": "code",
   "execution_count": 37,
   "metadata": {},
   "outputs": [
    {
     "name": "stdout",
     "output_type": "stream",
     "text": [
      "Средняя прибыль: 412 779 358.0\n",
      "95%-ый доверительный интервал: (-158 939 695.0, 978 191 497.0)\n",
      "Риск убытков = 7.000000000000001 %\n"
     ]
    }
   ],
   "source": [
    "confidence_interval(values)"
   ]
  },
  {
   "cell_type": "markdown",
   "metadata": {},
   "source": [
    "Данный регион не подходит для ральнейшей разработки месторождений в нем, так как риск убытков составляет 7%. Учитывая что допустимый риск 2.5%"
   ]
  },
  {
   "cell_type": "markdown",
   "metadata": {},
   "source": [
    "### Вывод"
   ]
  },
  {
   "cell_type": "markdown",
   "metadata": {},
   "source": [
    "* rmse у 0 и 2 региона большие, в районе 40% в отличии от rmse 1 региона, он составляет 1% от средне предсказанного запаса сырья в регионе. \n",
    "\n",
    "* В 0 и 2 регионе среднее предсказанного запаса сырья выше чем в 1 регионе.\n",
    "\n",
    "Счиатю что, запас сырья в регионах 0 и 2 потенциально больше чем в регионе 1, так же даже с учетом rmse в худшую сторону запасы регионов 0 и 2 54 и 55 тыс. баррелей соответсвенно, что сравнимо с средне предсказанным запасом региона 1.\n",
    "\n",
    "Для безубыточной разработки новой скважины нужно что бы в среднем закасы каждой скважины составляли 111 тыс. баррелей. Учитывая информацию из раздела 2, мы знаем что среднее предсказанного запаса сырья имеет шанс быть больше безубыточного порога только в 0 и 2 регионе, но возможны риски, которые мы оценим далее в разделе 4.\n",
    "\n",
    "Риск убытков в каждом из регионов составляет 0%, таким образом будет выбран регион с наибольшей средней прибылью 498 568 808.0 рублей, и риском убытков 1% **регион 1** для бурения скважин выбран"
   ]
  }
 ],
 "metadata": {
  "ExecuteTimeLog": [
   {
    "duration": 405,
    "start_time": "2023-04-18T09:18:48.430Z"
   },
   {
    "duration": 2236,
    "start_time": "2023-04-18T09:19:53.573Z"
   },
   {
    "duration": 18,
    "start_time": "2023-04-18T09:22:04.225Z"
   },
   {
    "duration": 16,
    "start_time": "2023-04-18T09:22:12.629Z"
   },
   {
    "duration": 25,
    "start_time": "2023-04-18T09:22:35.748Z"
   },
   {
    "duration": 810,
    "start_time": "2023-04-18T09:23:37.739Z"
   },
   {
    "duration": 572,
    "start_time": "2023-04-18T09:24:35.026Z"
   },
   {
    "duration": 847,
    "start_time": "2023-04-18T09:33:54.736Z"
   },
   {
    "duration": 437,
    "start_time": "2023-04-18T09:35:44.114Z"
   },
   {
    "duration": 18,
    "start_time": "2023-04-18T09:35:44.729Z"
   },
   {
    "duration": 9,
    "start_time": "2023-04-18T09:35:45.810Z"
   },
   {
    "duration": 140,
    "start_time": "2023-04-18T09:37:11.816Z"
   },
   {
    "duration": 181,
    "start_time": "2023-04-18T09:37:57.277Z"
   },
   {
    "duration": 3,
    "start_time": "2023-04-18T12:33:51.024Z"
   },
   {
    "duration": 561,
    "start_time": "2023-04-18T12:33:51.714Z"
   },
   {
    "duration": 35,
    "start_time": "2023-04-18T12:33:53.563Z"
   },
   {
    "duration": 13,
    "start_time": "2023-04-18T12:33:54.219Z"
   },
   {
    "duration": 11,
    "start_time": "2023-04-18T12:34:07.219Z"
   },
   {
    "duration": 662,
    "start_time": "2023-04-18T12:34:08.843Z"
   },
   {
    "duration": 208,
    "start_time": "2023-04-18T12:34:41.563Z"
   },
   {
    "duration": 204,
    "start_time": "2023-04-18T12:34:42.663Z"
   },
   {
    "duration": 678,
    "start_time": "2023-04-18T12:43:50.951Z"
   },
   {
    "duration": 101,
    "start_time": "2023-04-18T12:45:32.086Z"
   },
   {
    "duration": 9,
    "start_time": "2023-04-18T12:45:44.438Z"
   },
   {
    "duration": 149,
    "start_time": "2023-04-18T12:51:49.624Z"
   },
   {
    "duration": 19,
    "start_time": "2023-04-18T12:52:03.852Z"
   },
   {
    "duration": 48,
    "start_time": "2023-04-18T12:52:07.158Z"
   },
   {
    "duration": 10,
    "start_time": "2023-04-18T12:52:22.727Z"
   },
   {
    "duration": 38,
    "start_time": "2023-04-18T12:52:24.389Z"
   },
   {
    "duration": 550,
    "start_time": "2023-04-18T12:52:30.889Z"
   },
   {
    "duration": 17,
    "start_time": "2023-04-18T12:52:32.339Z"
   },
   {
    "duration": 10,
    "start_time": "2023-04-18T12:52:35.722Z"
   },
   {
    "duration": 20,
    "start_time": "2023-04-18T12:52:40.222Z"
   },
   {
    "duration": 33,
    "start_time": "2023-04-18T12:52:41.777Z"
   },
   {
    "duration": 21,
    "start_time": "2023-04-18T12:52:44.382Z"
   },
   {
    "duration": 56,
    "start_time": "2023-04-18T12:53:03.718Z"
   },
   {
    "duration": 559,
    "start_time": "2023-04-18T12:53:09.125Z"
   },
   {
    "duration": 20,
    "start_time": "2023-04-18T12:53:14.823Z"
   },
   {
    "duration": 13,
    "start_time": "2023-04-18T12:53:15.655Z"
   },
   {
    "duration": 17,
    "start_time": "2023-04-18T12:53:17.085Z"
   },
   {
    "duration": 12,
    "start_time": "2023-04-18T12:53:20.123Z"
   },
   {
    "duration": 25,
    "start_time": "2023-04-18T12:53:26.659Z"
   },
   {
    "duration": 56,
    "start_time": "2023-04-18T12:53:29.535Z"
   },
   {
    "duration": 21,
    "start_time": "2023-04-18T12:53:33.840Z"
   },
   {
    "duration": 188,
    "start_time": "2023-04-18T12:55:09.747Z"
   },
   {
    "duration": 232,
    "start_time": "2023-04-18T12:55:13.556Z"
   },
   {
    "duration": 3,
    "start_time": "2023-04-18T12:58:22.647Z"
   },
   {
    "duration": 234,
    "start_time": "2023-04-18T13:01:04.131Z"
   },
   {
    "duration": 708,
    "start_time": "2023-04-18T13:01:08.620Z"
   },
   {
    "duration": 17,
    "start_time": "2023-04-18T13:01:20.123Z"
   },
   {
    "duration": 213,
    "start_time": "2023-04-18T13:02:20.542Z"
   },
   {
    "duration": 568,
    "start_time": "2023-04-18T13:02:35.741Z"
   },
   {
    "duration": 24,
    "start_time": "2023-04-18T13:02:36.659Z"
   },
   {
    "duration": 9,
    "start_time": "2023-04-18T13:02:37.047Z"
   },
   {
    "duration": 16,
    "start_time": "2023-04-18T13:02:37.477Z"
   },
   {
    "duration": 13,
    "start_time": "2023-04-18T13:02:38.032Z"
   },
   {
    "duration": 14,
    "start_time": "2023-04-18T13:02:38.229Z"
   },
   {
    "duration": 800,
    "start_time": "2023-04-18T13:02:38.758Z"
   },
   {
    "duration": 218,
    "start_time": "2023-04-18T13:02:42.833Z"
   },
   {
    "duration": 1243,
    "start_time": "2023-04-19T16:31:51.216Z"
   },
   {
    "duration": 1015,
    "start_time": "2023-04-19T16:31:52.461Z"
   },
   {
    "duration": 20,
    "start_time": "2023-04-19T16:31:53.478Z"
   },
   {
    "duration": 24,
    "start_time": "2023-04-19T16:31:53.500Z"
   },
   {
    "duration": 19,
    "start_time": "2023-04-19T16:31:53.526Z"
   },
   {
    "duration": 16,
    "start_time": "2023-04-19T16:31:53.841Z"
   },
   {
    "duration": 20,
    "start_time": "2023-04-19T16:31:54.037Z"
   },
   {
    "duration": 1237,
    "start_time": "2023-04-19T16:31:54.448Z"
   },
   {
    "duration": 189,
    "start_time": "2023-04-19T16:31:55.688Z"
   },
   {
    "duration": 236,
    "start_time": "2023-04-19T16:31:55.879Z"
   },
   {
    "duration": 46,
    "start_time": "2023-04-19T16:31:56.354Z"
   },
   {
    "duration": 52,
    "start_time": "2023-04-19T16:31:56.782Z"
   },
   {
    "duration": 128,
    "start_time": "2023-04-19T16:32:03.985Z"
   },
   {
    "duration": 16,
    "start_time": "2023-04-19T16:39:15.214Z"
   },
   {
    "duration": 26,
    "start_time": "2023-04-19T16:39:18.784Z"
   },
   {
    "duration": 368,
    "start_time": "2023-04-19T16:39:21.881Z"
   },
   {
    "duration": 3,
    "start_time": "2023-04-20T08:17:27.046Z"
   },
   {
    "duration": 2,
    "start_time": "2023-04-20T08:20:17.799Z"
   },
   {
    "duration": 1161,
    "start_time": "2023-04-20T08:24:05.167Z"
   },
   {
    "duration": 802,
    "start_time": "2023-04-20T08:24:07.605Z"
   },
   {
    "duration": 16,
    "start_time": "2023-04-20T08:24:09.450Z"
   },
   {
    "duration": 10,
    "start_time": "2023-04-20T08:24:09.954Z"
   },
   {
    "duration": 10,
    "start_time": "2023-04-20T08:24:10.789Z"
   },
   {
    "duration": 18,
    "start_time": "2023-04-20T08:24:10.969Z"
   },
   {
    "duration": 1078,
    "start_time": "2023-04-20T08:24:11.391Z"
   },
   {
    "duration": 108,
    "start_time": "2023-04-20T08:24:14.260Z"
   },
   {
    "duration": 31,
    "start_time": "2023-04-20T08:24:25.584Z"
   },
   {
    "duration": 29,
    "start_time": "2023-04-20T08:24:29.218Z"
   },
   {
    "duration": 20,
    "start_time": "2023-04-20T08:24:35.394Z"
   },
   {
    "duration": 204,
    "start_time": "2023-04-20T08:24:43.589Z"
   },
   {
    "duration": 3,
    "start_time": "2023-04-20T08:25:12.450Z"
   },
   {
    "duration": 3,
    "start_time": "2023-04-20T08:25:46.249Z"
   },
   {
    "duration": 4,
    "start_time": "2023-04-20T08:25:57.850Z"
   },
   {
    "duration": 3,
    "start_time": "2023-04-20T08:26:05.673Z"
   },
   {
    "duration": 3,
    "start_time": "2023-04-20T08:26:09.392Z"
   },
   {
    "duration": 3,
    "start_time": "2023-04-20T08:26:11.833Z"
   },
   {
    "duration": 3,
    "start_time": "2023-04-20T08:26:18.865Z"
   },
   {
    "duration": 3,
    "start_time": "2023-04-20T08:26:22.964Z"
   },
   {
    "duration": 4,
    "start_time": "2023-04-20T08:27:08.614Z"
   },
   {
    "duration": 89,
    "start_time": "2023-04-20T08:28:00.046Z"
   },
   {
    "duration": 85,
    "start_time": "2023-04-20T08:28:03.810Z"
   },
   {
    "duration": 4,
    "start_time": "2023-04-20T08:28:39.538Z"
   },
   {
    "duration": 3,
    "start_time": "2023-04-20T08:28:43.442Z"
   },
   {
    "duration": 4,
    "start_time": "2023-04-20T08:28:51.445Z"
   },
   {
    "duration": 3,
    "start_time": "2023-04-20T08:28:54.578Z"
   },
   {
    "duration": 4,
    "start_time": "2023-04-20T08:29:36.671Z"
   },
   {
    "duration": 3,
    "start_time": "2023-04-20T08:29:40.173Z"
   },
   {
    "duration": 19,
    "start_time": "2023-04-20T08:29:46.355Z"
   },
   {
    "duration": 3,
    "start_time": "2023-04-20T08:29:47.712Z"
   },
   {
    "duration": 13,
    "start_time": "2023-04-20T08:30:02.750Z"
   },
   {
    "duration": 4,
    "start_time": "2023-04-20T08:30:03.146Z"
   },
   {
    "duration": 16,
    "start_time": "2023-04-20T08:33:17.945Z"
   },
   {
    "duration": 4,
    "start_time": "2023-04-20T08:33:18.809Z"
   },
   {
    "duration": 13,
    "start_time": "2023-04-20T08:34:32.565Z"
   },
   {
    "duration": 4,
    "start_time": "2023-04-20T08:34:33.012Z"
   },
   {
    "duration": 3,
    "start_time": "2023-04-20T08:39:19.061Z"
   },
   {
    "duration": 46,
    "start_time": "2023-04-20T08:40:40.099Z"
   },
   {
    "duration": 6,
    "start_time": "2023-04-20T09:52:48.583Z"
   },
   {
    "duration": 130,
    "start_time": "2023-04-20T09:53:27.056Z"
   },
   {
    "duration": 6,
    "start_time": "2023-04-20T09:54:36.608Z"
   },
   {
    "duration": 26,
    "start_time": "2023-04-20T09:54:39.650Z"
   },
   {
    "duration": 27,
    "start_time": "2023-04-20T09:54:41.450Z"
   },
   {
    "duration": 197,
    "start_time": "2023-04-20T09:54:41.888Z"
   },
   {
    "duration": 3,
    "start_time": "2023-04-20T09:55:07.551Z"
   },
   {
    "duration": 447,
    "start_time": "2023-04-20T09:55:08.360Z"
   },
   {
    "duration": 8,
    "start_time": "2023-04-20T09:55:09.314Z"
   },
   {
    "duration": 11,
    "start_time": "2023-04-20T09:55:10.987Z"
   },
   {
    "duration": 6,
    "start_time": "2023-04-20T09:55:31.499Z"
   },
   {
    "duration": 6,
    "start_time": "2023-04-20T09:55:38.348Z"
   },
   {
    "duration": 9,
    "start_time": "2023-04-20T09:55:45.537Z"
   },
   {
    "duration": 11,
    "start_time": "2023-04-20T09:56:35.131Z"
   },
   {
    "duration": 10,
    "start_time": "2023-04-20T09:56:41.154Z"
   },
   {
    "duration": 10,
    "start_time": "2023-04-20T09:56:56.811Z"
   },
   {
    "duration": 8,
    "start_time": "2023-04-20T09:57:07.645Z"
   },
   {
    "duration": 21,
    "start_time": "2023-04-20T09:57:10.244Z"
   },
   {
    "duration": 591,
    "start_time": "2023-04-20T09:57:34.361Z"
   },
   {
    "duration": 427,
    "start_time": "2023-04-20T09:58:34.338Z"
   },
   {
    "duration": 611,
    "start_time": "2023-04-20T09:58:37.669Z"
   },
   {
    "duration": 2,
    "start_time": "2023-04-20T09:59:24.471Z"
   },
   {
    "duration": 548,
    "start_time": "2023-04-20T09:59:53.847Z"
   },
   {
    "duration": 519,
    "start_time": "2023-04-20T10:00:49.505Z"
   },
   {
    "duration": 58,
    "start_time": "2023-04-20T10:02:18.582Z"
   },
   {
    "duration": 14,
    "start_time": "2023-04-20T10:02:48.143Z"
   },
   {
    "duration": 122,
    "start_time": "2023-04-20T10:03:17.311Z"
   },
   {
    "duration": 375,
    "start_time": "2023-04-20T10:03:30.984Z"
   },
   {
    "duration": 283,
    "start_time": "2023-04-20T10:04:59.449Z"
   },
   {
    "duration": 65,
    "start_time": "2023-04-20T10:05:34.069Z"
   },
   {
    "duration": 311,
    "start_time": "2023-04-20T10:05:46.240Z"
   },
   {
    "duration": 80,
    "start_time": "2023-04-20T10:07:08.748Z"
   },
   {
    "duration": 291,
    "start_time": "2023-04-20T13:29:39.445Z"
   },
   {
    "duration": 222,
    "start_time": "2023-04-20T13:29:43.320Z"
   },
   {
    "duration": 9,
    "start_time": "2023-04-20T13:29:51.763Z"
   },
   {
    "duration": 20,
    "start_time": "2023-04-20T13:29:55.343Z"
   },
   {
    "duration": 5,
    "start_time": "2023-04-20T13:30:13.171Z"
   },
   {
    "duration": 38,
    "start_time": "2023-04-20T13:30:15.591Z"
   },
   {
    "duration": 139,
    "start_time": "2023-04-20T13:30:30.144Z"
   },
   {
    "duration": 37,
    "start_time": "2023-04-20T13:37:30.120Z"
   },
   {
    "duration": 102,
    "start_time": "2023-04-20T13:37:32.085Z"
   },
   {
    "duration": 67,
    "start_time": "2023-04-20T13:37:42.426Z"
   },
   {
    "duration": 28,
    "start_time": "2023-04-20T13:37:44.630Z"
   },
   {
    "duration": 71,
    "start_time": "2023-04-20T13:37:45.317Z"
   },
   {
    "duration": 36,
    "start_time": "2023-04-20T13:37:54.186Z"
   },
   {
    "duration": 109,
    "start_time": "2023-04-20T13:37:54.582Z"
   },
   {
    "duration": 2,
    "start_time": "2023-04-20T13:39:30.828Z"
   },
   {
    "duration": 19,
    "start_time": "2023-04-20T13:40:42.338Z"
   },
   {
    "duration": 49,
    "start_time": "2023-04-20T13:59:39.697Z"
   },
   {
    "duration": 241,
    "start_time": "2023-04-20T13:59:40.246Z"
   },
   {
    "duration": 27,
    "start_time": "2023-04-20T13:59:41.180Z"
   },
   {
    "duration": 118,
    "start_time": "2023-04-20T13:59:41.473Z"
   },
   {
    "duration": 9,
    "start_time": "2023-04-20T14:05:37.291Z"
   },
   {
    "duration": 27,
    "start_time": "2023-04-20T14:05:40.952Z"
   },
   {
    "duration": 91,
    "start_time": "2023-04-20T14:05:41.204Z"
   },
   {
    "duration": 87,
    "start_time": "2023-04-20T14:05:46.198Z"
   },
   {
    "duration": 82,
    "start_time": "2023-04-20T14:05:53.402Z"
   },
   {
    "duration": 32,
    "start_time": "2023-04-20T14:06:00.348Z"
   },
   {
    "duration": 131,
    "start_time": "2023-04-20T14:06:00.568Z"
   },
   {
    "duration": 32,
    "start_time": "2023-04-20T14:06:05.608Z"
   },
   {
    "duration": 75,
    "start_time": "2023-04-20T14:06:05.911Z"
   },
   {
    "duration": 9,
    "start_time": "2023-04-20T14:45:42.571Z"
   },
   {
    "duration": 3,
    "start_time": "2023-04-20T14:45:45.124Z"
   },
   {
    "duration": 4,
    "start_time": "2023-04-20T14:45:45.796Z"
   },
   {
    "duration": 4,
    "start_time": "2023-04-20T14:45:55.935Z"
   },
   {
    "duration": 9,
    "start_time": "2023-04-20T14:46:51.696Z"
   },
   {
    "duration": 3,
    "start_time": "2023-04-20T14:46:53.750Z"
   },
   {
    "duration": 4,
    "start_time": "2023-04-20T14:46:54.748Z"
   },
   {
    "duration": 3,
    "start_time": "2023-04-20T14:47:17.917Z"
   },
   {
    "duration": 2,
    "start_time": "2023-04-20T14:48:11.498Z"
   },
   {
    "duration": 4,
    "start_time": "2023-04-20T14:48:12.442Z"
   },
   {
    "duration": 6,
    "start_time": "2023-04-20T15:08:41.122Z"
   },
   {
    "duration": 8,
    "start_time": "2023-04-20T15:08:44.081Z"
   },
   {
    "duration": 162,
    "start_time": "2023-04-20T15:08:45.429Z"
   },
   {
    "duration": 124,
    "start_time": "2023-04-20T15:09:02.770Z"
   },
   {
    "duration": 69,
    "start_time": "2023-04-20T15:09:47.820Z"
   },
   {
    "duration": 96,
    "start_time": "2023-04-20T15:09:50.799Z"
   },
   {
    "duration": 65,
    "start_time": "2023-04-20T15:10:07.022Z"
   },
   {
    "duration": 3,
    "start_time": "2023-04-20T15:10:19.200Z"
   },
   {
    "duration": 4,
    "start_time": "2023-04-20T15:10:19.797Z"
   },
   {
    "duration": 3,
    "start_time": "2023-04-20T15:18:15.486Z"
   },
   {
    "duration": 227,
    "start_time": "2023-04-20T15:28:23.457Z"
   },
   {
    "duration": 6,
    "start_time": "2023-04-20T15:28:26.346Z"
   },
   {
    "duration": 178,
    "start_time": "2023-04-20T15:28:30.512Z"
   },
   {
    "duration": 6,
    "start_time": "2023-04-20T15:28:34.551Z"
   },
   {
    "duration": 230,
    "start_time": "2023-04-20T15:28:35.455Z"
   },
   {
    "duration": 6,
    "start_time": "2023-04-20T15:28:45.870Z"
   },
   {
    "duration": 195,
    "start_time": "2023-04-20T15:28:46.595Z"
   },
   {
    "duration": 5,
    "start_time": "2023-04-20T15:29:09.403Z"
   },
   {
    "duration": 261,
    "start_time": "2023-04-20T15:29:13.723Z"
   },
   {
    "duration": 5,
    "start_time": "2023-04-20T15:29:36.269Z"
   },
   {
    "duration": 187,
    "start_time": "2023-04-20T15:29:50.297Z"
   },
   {
    "duration": 86,
    "start_time": "2023-04-20T15:30:05.103Z"
   },
   {
    "duration": 104,
    "start_time": "2023-04-20T15:30:22.585Z"
   },
   {
    "duration": 105,
    "start_time": "2023-04-20T15:31:34.180Z"
   },
   {
    "duration": 18,
    "start_time": "2023-04-20T15:37:02.235Z"
   },
   {
    "duration": 8,
    "start_time": "2023-04-20T15:37:21.736Z"
   },
   {
    "duration": 12,
    "start_time": "2023-04-20T15:37:45.773Z"
   },
   {
    "duration": 12,
    "start_time": "2023-04-20T15:38:02.295Z"
   },
   {
    "duration": 13,
    "start_time": "2023-04-20T15:38:08.462Z"
   },
   {
    "duration": 13,
    "start_time": "2023-04-20T15:38:21.275Z"
   },
   {
    "duration": 11,
    "start_time": "2023-04-20T15:38:37.703Z"
   },
   {
    "duration": 13,
    "start_time": "2023-04-20T15:45:01.380Z"
   },
   {
    "duration": 12,
    "start_time": "2023-04-20T15:45:09.086Z"
   },
   {
    "duration": 13,
    "start_time": "2023-04-20T15:45:26.006Z"
   },
   {
    "duration": 12,
    "start_time": "2023-04-20T15:46:20.794Z"
   },
   {
    "duration": 12,
    "start_time": "2023-04-20T15:46:24.980Z"
   },
   {
    "duration": 194,
    "start_time": "2023-04-20T15:46:39.992Z"
   },
   {
    "duration": 116,
    "start_time": "2023-04-20T15:46:44.776Z"
   },
   {
    "duration": 11,
    "start_time": "2023-04-20T15:46:52.903Z"
   },
   {
    "duration": 10,
    "start_time": "2023-04-20T15:47:41.783Z"
   },
   {
    "duration": 82,
    "start_time": "2023-04-20T15:48:58.210Z"
   },
   {
    "duration": 72,
    "start_time": "2023-04-20T15:49:18.917Z"
   },
   {
    "duration": 95,
    "start_time": "2023-04-20T15:49:39.634Z"
   },
   {
    "duration": 63,
    "start_time": "2023-04-20T15:49:44.350Z"
   },
   {
    "duration": 67,
    "start_time": "2023-04-20T15:49:56.789Z"
   },
   {
    "duration": 66,
    "start_time": "2023-04-20T15:50:31.695Z"
   },
   {
    "duration": 86,
    "start_time": "2023-04-20T15:51:01.425Z"
   },
   {
    "duration": 30,
    "start_time": "2023-04-20T15:51:34.322Z"
   },
   {
    "duration": 13,
    "start_time": "2023-04-20T15:51:42.030Z"
   },
   {
    "duration": 79,
    "start_time": "2023-04-20T15:51:48.270Z"
   },
   {
    "duration": 4,
    "start_time": "2023-04-20T15:52:02.243Z"
   },
   {
    "duration": 12,
    "start_time": "2023-04-20T15:52:21.117Z"
   },
   {
    "duration": 4,
    "start_time": "2023-04-20T15:52:24.409Z"
   },
   {
    "duration": 12,
    "start_time": "2023-04-20T15:54:18.241Z"
   },
   {
    "duration": 12,
    "start_time": "2023-04-20T15:54:20.682Z"
   },
   {
    "duration": 20,
    "start_time": "2023-04-20T15:54:48.130Z"
   },
   {
    "duration": 19,
    "start_time": "2023-04-20T15:54:52.687Z"
   },
   {
    "duration": 23,
    "start_time": "2023-04-20T15:54:55.382Z"
   },
   {
    "duration": 15,
    "start_time": "2023-04-20T15:55:00.998Z"
   },
   {
    "duration": 14,
    "start_time": "2023-04-20T15:55:08.485Z"
   },
   {
    "duration": 14,
    "start_time": "2023-04-20T15:55:20.978Z"
   },
   {
    "duration": 13,
    "start_time": "2023-04-20T15:55:43.474Z"
   },
   {
    "duration": 21,
    "start_time": "2023-04-20T15:57:45.591Z"
   },
   {
    "duration": 15,
    "start_time": "2023-04-20T15:57:53.785Z"
   },
   {
    "duration": 15,
    "start_time": "2023-04-20T15:58:02.532Z"
   },
   {
    "duration": 19,
    "start_time": "2023-04-20T15:59:01.349Z"
   },
   {
    "duration": 19,
    "start_time": "2023-04-20T15:59:12.690Z"
   },
   {
    "duration": 25,
    "start_time": "2023-04-20T15:59:24.835Z"
   },
   {
    "duration": 18,
    "start_time": "2023-04-20T15:59:33.187Z"
   },
   {
    "duration": 20,
    "start_time": "2023-04-20T15:59:43.019Z"
   },
   {
    "duration": 21,
    "start_time": "2023-04-20T16:01:12.357Z"
   },
   {
    "duration": 20,
    "start_time": "2023-04-20T16:01:26.532Z"
   },
   {
    "duration": 22,
    "start_time": "2023-04-20T16:01:45.309Z"
   },
   {
    "duration": 22,
    "start_time": "2023-04-20T16:02:06.878Z"
   },
   {
    "duration": 13,
    "start_time": "2023-04-20T16:07:23.791Z"
   },
   {
    "duration": 3,
    "start_time": "2023-04-20T16:07:36.897Z"
   },
   {
    "duration": 5,
    "start_time": "2023-04-20T16:07:44.457Z"
   },
   {
    "duration": 18,
    "start_time": "2023-04-20T16:07:47.032Z"
   },
   {
    "duration": 3,
    "start_time": "2023-04-20T16:08:01.446Z"
   },
   {
    "duration": 19,
    "start_time": "2023-04-20T16:08:02.285Z"
   },
   {
    "duration": 25,
    "start_time": "2023-04-20T16:08:28.701Z"
   },
   {
    "duration": 4,
    "start_time": "2023-04-20T16:08:43.150Z"
   },
   {
    "duration": 17,
    "start_time": "2023-04-20T16:08:44.138Z"
   },
   {
    "duration": 18,
    "start_time": "2023-04-20T16:08:45.411Z"
   },
   {
    "duration": 21,
    "start_time": "2023-04-20T16:09:04.787Z"
   },
   {
    "duration": 4,
    "start_time": "2023-04-20T16:11:05.723Z"
   },
   {
    "duration": 4,
    "start_time": "2023-04-20T16:11:09.284Z"
   },
   {
    "duration": 4,
    "start_time": "2023-04-20T16:11:17.839Z"
   },
   {
    "duration": 4,
    "start_time": "2023-04-20T16:11:33.107Z"
   },
   {
    "duration": 6,
    "start_time": "2023-04-20T16:11:46.629Z"
   },
   {
    "duration": 10,
    "start_time": "2023-04-20T16:13:00.298Z"
   },
   {
    "duration": 5,
    "start_time": "2023-04-20T16:13:04.020Z"
   },
   {
    "duration": 4,
    "start_time": "2023-04-20T16:13:04.498Z"
   },
   {
    "duration": 3,
    "start_time": "2023-04-20T16:22:11.024Z"
   },
   {
    "duration": 4,
    "start_time": "2023-04-20T16:22:34.101Z"
   },
   {
    "duration": 3,
    "start_time": "2023-04-20T16:22:35.398Z"
   },
   {
    "duration": 3,
    "start_time": "2023-04-20T16:22:54.856Z"
   },
   {
    "duration": 5,
    "start_time": "2023-04-20T16:22:59.794Z"
   },
   {
    "duration": 4,
    "start_time": "2023-04-20T16:24:39.701Z"
   },
   {
    "duration": 3,
    "start_time": "2023-04-20T16:24:52.735Z"
   },
   {
    "duration": 2,
    "start_time": "2023-04-20T16:28:06.401Z"
   },
   {
    "duration": 3,
    "start_time": "2023-04-20T16:28:15.529Z"
   },
   {
    "duration": 5,
    "start_time": "2023-04-20T16:29:43.208Z"
   },
   {
    "duration": 5,
    "start_time": "2023-04-20T16:30:02.486Z"
   },
   {
    "duration": 5,
    "start_time": "2023-04-20T16:30:53.653Z"
   },
   {
    "duration": 6,
    "start_time": "2023-04-20T16:31:33.398Z"
   },
   {
    "duration": 4,
    "start_time": "2023-04-20T16:31:36.505Z"
   },
   {
    "duration": 5,
    "start_time": "2023-04-20T16:32:17.336Z"
   },
   {
    "duration": 62,
    "start_time": "2023-04-20T16:32:31.778Z"
   },
   {
    "duration": 55,
    "start_time": "2023-04-20T16:32:36.010Z"
   },
   {
    "duration": 5,
    "start_time": "2023-04-20T16:32:39.143Z"
   },
   {
    "duration": 5,
    "start_time": "2023-04-20T16:32:45.242Z"
   },
   {
    "duration": 5,
    "start_time": "2023-04-20T16:32:51.601Z"
   },
   {
    "duration": 6,
    "start_time": "2023-04-20T16:33:00.840Z"
   },
   {
    "duration": 3,
    "start_time": "2023-04-20T16:35:15.026Z"
   },
   {
    "duration": 3,
    "start_time": "2023-04-20T20:51:14.696Z"
   },
   {
    "duration": 3,
    "start_time": "2023-04-20T20:52:11.721Z"
   },
   {
    "duration": 4,
    "start_time": "2023-04-20T20:52:48.883Z"
   },
   {
    "duration": 6,
    "start_time": "2023-04-20T20:59:00.590Z"
   },
   {
    "duration": 46,
    "start_time": "2023-04-20T20:59:01.217Z"
   },
   {
    "duration": 45,
    "start_time": "2023-04-20T20:59:05.892Z"
   },
   {
    "duration": 210,
    "start_time": "2023-04-20T20:59:09.984Z"
   },
   {
    "duration": 7,
    "start_time": "2023-04-20T20:59:13.324Z"
   },
   {
    "duration": 208,
    "start_time": "2023-04-20T20:59:14.291Z"
   },
   {
    "duration": 5,
    "start_time": "2023-04-20T20:59:31.899Z"
   },
   {
    "duration": 265,
    "start_time": "2023-04-20T20:59:32.821Z"
   },
   {
    "duration": 5,
    "start_time": "2023-04-20T20:59:45.552Z"
   },
   {
    "duration": 72,
    "start_time": "2023-04-20T20:59:46.316Z"
   },
   {
    "duration": 92,
    "start_time": "2023-04-20T20:59:57.093Z"
   },
   {
    "duration": 83,
    "start_time": "2023-04-20T21:00:05.204Z"
   },
   {
    "duration": 198,
    "start_time": "2023-04-20T21:00:10.985Z"
   },
   {
    "duration": 224,
    "start_time": "2023-04-20T21:00:17.763Z"
   },
   {
    "duration": 186,
    "start_time": "2023-04-20T21:00:18.698Z"
   },
   {
    "duration": 178,
    "start_time": "2023-04-20T21:00:19.806Z"
   },
   {
    "duration": 12,
    "start_time": "2023-04-20T21:02:55.009Z"
   },
   {
    "duration": 4,
    "start_time": "2023-04-20T21:03:35.583Z"
   },
   {
    "duration": 25,
    "start_time": "2023-04-20T21:03:41.528Z"
   },
   {
    "duration": 4,
    "start_time": "2023-04-20T21:04:02.095Z"
   },
   {
    "duration": 21,
    "start_time": "2023-04-20T21:04:03.420Z"
   },
   {
    "duration": 4,
    "start_time": "2023-04-20T21:04:03.994Z"
   },
   {
    "duration": 4,
    "start_time": "2023-04-20T21:04:04.682Z"
   },
   {
    "duration": 22,
    "start_time": "2023-04-20T21:04:05.987Z"
   },
   {
    "duration": 4,
    "start_time": "2023-04-20T21:05:16.544Z"
   },
   {
    "duration": 18,
    "start_time": "2023-04-20T21:05:17.150Z"
   },
   {
    "duration": 6,
    "start_time": "2023-04-20T21:05:17.668Z"
   },
   {
    "duration": 5,
    "start_time": "2023-04-20T21:05:18.086Z"
   },
   {
    "duration": 22,
    "start_time": "2023-04-20T21:05:18.843Z"
   },
   {
    "duration": 4,
    "start_time": "2023-04-20T21:05:45.220Z"
   },
   {
    "duration": 17,
    "start_time": "2023-04-20T21:05:45.781Z"
   },
   {
    "duration": 5,
    "start_time": "2023-04-20T21:05:46.169Z"
   },
   {
    "duration": 5,
    "start_time": "2023-04-20T21:05:47.069Z"
   },
   {
    "duration": 27,
    "start_time": "2023-04-20T21:05:48.028Z"
   },
   {
    "duration": 6,
    "start_time": "2023-04-20T21:06:00.247Z"
   },
   {
    "duration": 17,
    "start_time": "2023-04-20T21:06:00.895Z"
   },
   {
    "duration": 4,
    "start_time": "2023-04-20T21:06:01.596Z"
   },
   {
    "duration": 4,
    "start_time": "2023-04-20T21:06:02.006Z"
   },
   {
    "duration": 23,
    "start_time": "2023-04-20T21:06:02.366Z"
   },
   {
    "duration": 3,
    "start_time": "2023-04-20T21:06:45.197Z"
   },
   {
    "duration": 17,
    "start_time": "2023-04-20T21:06:45.838Z"
   },
   {
    "duration": 5,
    "start_time": "2023-04-20T21:06:46.189Z"
   },
   {
    "duration": 4,
    "start_time": "2023-04-20T21:06:46.706Z"
   },
   {
    "duration": 36,
    "start_time": "2023-04-20T21:06:47.223Z"
   },
   {
    "duration": 4,
    "start_time": "2023-04-20T21:06:56.494Z"
   },
   {
    "duration": 16,
    "start_time": "2023-04-20T21:06:56.967Z"
   },
   {
    "duration": 5,
    "start_time": "2023-04-20T21:06:57.279Z"
   },
   {
    "duration": 5,
    "start_time": "2023-04-20T21:06:57.616Z"
   },
   {
    "duration": 19,
    "start_time": "2023-04-20T21:06:58.065Z"
   },
   {
    "duration": 4,
    "start_time": "2023-04-20T21:07:28.398Z"
   },
   {
    "duration": 17,
    "start_time": "2023-04-20T21:07:28.883Z"
   },
   {
    "duration": 6,
    "start_time": "2023-04-20T21:07:29.230Z"
   },
   {
    "duration": 5,
    "start_time": "2023-04-20T21:07:30.278Z"
   },
   {
    "duration": 20,
    "start_time": "2023-04-20T21:07:31.740Z"
   },
   {
    "duration": 3,
    "start_time": "2023-04-20T21:08:12.231Z"
   },
   {
    "duration": 4,
    "start_time": "2023-04-20T21:08:12.613Z"
   },
   {
    "duration": 18,
    "start_time": "2023-04-20T21:08:13.770Z"
   },
   {
    "duration": 5,
    "start_time": "2023-04-20T21:08:14.231Z"
   },
   {
    "duration": 6,
    "start_time": "2023-04-20T21:08:14.932Z"
   },
   {
    "duration": 27,
    "start_time": "2023-04-20T21:08:16.086Z"
   },
   {
    "duration": 52,
    "start_time": "2023-04-20T21:09:18.482Z"
   },
   {
    "duration": 16,
    "start_time": "2023-04-20T21:09:18.966Z"
   },
   {
    "duration": 4,
    "start_time": "2023-04-20T21:09:24.458Z"
   },
   {
    "duration": 23,
    "start_time": "2023-04-20T21:09:25.139Z"
   },
   {
    "duration": 5,
    "start_time": "2023-04-20T21:09:25.490Z"
   },
   {
    "duration": 4,
    "start_time": "2023-04-20T21:09:25.861Z"
   },
   {
    "duration": 25,
    "start_time": "2023-04-20T21:09:26.217Z"
   },
   {
    "duration": 4,
    "start_time": "2023-04-20T21:09:44.786Z"
   },
   {
    "duration": 24,
    "start_time": "2023-04-20T21:09:45.251Z"
   },
   {
    "duration": 6,
    "start_time": "2023-04-20T21:09:45.793Z"
   },
   {
    "duration": 4,
    "start_time": "2023-04-20T21:09:46.230Z"
   },
   {
    "duration": 26,
    "start_time": "2023-04-20T21:09:46.987Z"
   },
   {
    "duration": 6,
    "start_time": "2023-04-20T21:10:41.347Z"
   },
   {
    "duration": 24,
    "start_time": "2023-04-20T21:10:42.103Z"
   },
   {
    "duration": 5,
    "start_time": "2023-04-20T21:10:42.807Z"
   },
   {
    "duration": 5,
    "start_time": "2023-04-20T21:10:43.364Z"
   },
   {
    "duration": 23,
    "start_time": "2023-04-20T21:10:44.333Z"
   },
   {
    "duration": 4,
    "start_time": "2023-04-20T21:10:57.678Z"
   },
   {
    "duration": 17,
    "start_time": "2023-04-20T21:10:58.461Z"
   },
   {
    "duration": 5,
    "start_time": "2023-04-20T21:10:58.908Z"
   },
   {
    "duration": 5,
    "start_time": "2023-04-20T21:10:59.273Z"
   },
   {
    "duration": 44,
    "start_time": "2023-04-20T21:10:59.740Z"
   },
   {
    "duration": 5,
    "start_time": "2023-04-20T21:11:46.209Z"
   },
   {
    "duration": 18,
    "start_time": "2023-04-20T21:11:46.778Z"
   },
   {
    "duration": 6,
    "start_time": "2023-04-20T21:11:47.122Z"
   },
   {
    "duration": 5,
    "start_time": "2023-04-20T21:11:47.484Z"
   },
   {
    "duration": 17,
    "start_time": "2023-04-20T21:11:47.940Z"
   },
   {
    "duration": 5,
    "start_time": "2023-04-20T21:11:55.091Z"
   },
   {
    "duration": 17,
    "start_time": "2023-04-20T21:11:55.533Z"
   },
   {
    "duration": 6,
    "start_time": "2023-04-20T21:11:55.866Z"
   },
   {
    "duration": 4,
    "start_time": "2023-04-20T21:11:56.260Z"
   },
   {
    "duration": 940,
    "start_time": "2023-04-20T21:11:56.614Z"
   },
   {
    "duration": 983,
    "start_time": "2023-04-20T21:12:11.290Z"
   },
   {
    "duration": 4,
    "start_time": "2023-04-20T21:12:14.588Z"
   },
   {
    "duration": 18,
    "start_time": "2023-04-20T21:12:15.183Z"
   },
   {
    "duration": 5,
    "start_time": "2023-04-20T21:12:15.531Z"
   },
   {
    "duration": 4,
    "start_time": "2023-04-20T21:12:15.873Z"
   },
   {
    "duration": 898,
    "start_time": "2023-04-20T21:12:16.253Z"
   },
   {
    "duration": 6,
    "start_time": "2023-04-20T21:12:52.333Z"
   },
   {
    "duration": 7,
    "start_time": "2023-04-20T21:13:16.993Z"
   },
   {
    "duration": 841,
    "start_time": "2023-04-20T21:13:33.178Z"
   },
   {
    "duration": 6,
    "start_time": "2023-04-20T21:13:44.358Z"
   },
   {
    "duration": 805,
    "start_time": "2023-04-20T21:13:55.873Z"
   },
   {
    "duration": 7,
    "start_time": "2023-04-20T21:14:04.457Z"
   },
   {
    "duration": 5,
    "start_time": "2023-04-20T21:16:07.380Z"
   },
   {
    "duration": 6,
    "start_time": "2023-04-20T21:16:16.212Z"
   },
   {
    "duration": 5,
    "start_time": "2023-04-20T21:16:21.715Z"
   },
   {
    "duration": 6,
    "start_time": "2023-04-20T21:16:28.053Z"
   },
   {
    "duration": 4,
    "start_time": "2023-04-20T21:23:11.145Z"
   },
   {
    "duration": 13,
    "start_time": "2023-04-20T21:30:14.575Z"
   },
   {
    "duration": 3,
    "start_time": "2023-04-20T21:30:54.935Z"
   },
   {
    "duration": 5,
    "start_time": "2023-04-20T21:31:24.956Z"
   },
   {
    "duration": 5,
    "start_time": "2023-04-20T21:32:11.607Z"
   },
   {
    "duration": 5,
    "start_time": "2023-04-20T21:32:22.443Z"
   },
   {
    "duration": 17,
    "start_time": "2023-04-20T21:32:36.018Z"
   },
   {
    "duration": 7,
    "start_time": "2023-04-20T21:32:41.773Z"
   },
   {
    "duration": 7,
    "start_time": "2023-04-20T21:32:49.293Z"
   },
   {
    "duration": 4,
    "start_time": "2023-04-20T21:33:30.063Z"
   },
   {
    "duration": 6,
    "start_time": "2023-04-20T21:34:11.079Z"
   },
   {
    "duration": 8,
    "start_time": "2023-04-20T21:46:25.582Z"
   },
   {
    "duration": 60,
    "start_time": "2023-04-20T21:47:36.674Z"
   },
   {
    "duration": 3359,
    "start_time": "2023-04-20T21:47:40.594Z"
   },
   {
    "duration": 0,
    "start_time": "2023-04-20T21:47:43.954Z"
   },
   {
    "duration": 12,
    "start_time": "2023-04-20T21:47:46.677Z"
   },
   {
    "duration": 42,
    "start_time": "2023-04-20T21:47:51.224Z"
   },
   {
    "duration": 3,
    "start_time": "2023-04-20T21:48:06.092Z"
   },
   {
    "duration": 17,
    "start_time": "2023-04-20T21:48:07.319Z"
   },
   {
    "duration": 3,
    "start_time": "2023-04-20T21:48:07.878Z"
   },
   {
    "duration": 4,
    "start_time": "2023-04-20T21:48:23.095Z"
   },
   {
    "duration": 4,
    "start_time": "2023-04-20T21:48:26.515Z"
   },
   {
    "duration": 4,
    "start_time": "2023-04-20T21:48:35.484Z"
   },
   {
    "duration": 6,
    "start_time": "2023-04-20T21:48:57.814Z"
   },
   {
    "duration": 3,
    "start_time": "2023-04-20T21:49:07.951Z"
   },
   {
    "duration": 17,
    "start_time": "2023-04-20T21:49:08.917Z"
   },
   {
    "duration": 6,
    "start_time": "2023-04-20T21:49:09.895Z"
   },
   {
    "duration": 5,
    "start_time": "2023-04-20T21:49:11.691Z"
   },
   {
    "duration": 3,
    "start_time": "2023-04-20T21:49:16.394Z"
   },
   {
    "duration": 18,
    "start_time": "2023-04-20T21:49:16.927Z"
   },
   {
    "duration": 5,
    "start_time": "2023-04-20T21:49:17.645Z"
   },
   {
    "duration": 4,
    "start_time": "2023-04-20T21:49:18.378Z"
   },
   {
    "duration": 994,
    "start_time": "2023-04-20T21:49:19.048Z"
   },
   {
    "duration": 5,
    "start_time": "2023-04-20T21:49:20.044Z"
   },
   {
    "duration": 5,
    "start_time": "2023-04-20T21:49:23.323Z"
   },
   {
    "duration": 5,
    "start_time": "2023-04-20T21:49:32.223Z"
   },
   {
    "duration": 4,
    "start_time": "2023-04-20T21:49:40.336Z"
   },
   {
    "duration": 6,
    "start_time": "2023-04-20T21:49:53.580Z"
   },
   {
    "duration": 5,
    "start_time": "2023-04-20T21:49:58.818Z"
   },
   {
    "duration": 4,
    "start_time": "2023-04-20T21:50:08.485Z"
   },
   {
    "duration": 9,
    "start_time": "2023-04-20T21:50:17.486Z"
   },
   {
    "duration": 5,
    "start_time": "2023-04-20T21:50:25.786Z"
   },
   {
    "duration": 5,
    "start_time": "2023-04-20T21:50:44.469Z"
   },
   {
    "duration": 17,
    "start_time": "2023-04-20T21:50:52.070Z"
   },
   {
    "duration": 4,
    "start_time": "2023-04-20T21:50:52.475Z"
   },
   {
    "duration": 4,
    "start_time": "2023-04-20T21:50:53.160Z"
   },
   {
    "duration": 919,
    "start_time": "2023-04-20T21:50:54.129Z"
   },
   {
    "duration": 7,
    "start_time": "2023-04-20T21:50:55.184Z"
   },
   {
    "duration": 5,
    "start_time": "2023-04-20T21:50:56.004Z"
   },
   {
    "duration": 17,
    "start_time": "2023-04-20T21:50:58.853Z"
   },
   {
    "duration": 5,
    "start_time": "2023-04-20T21:50:59.325Z"
   },
   {
    "duration": 6,
    "start_time": "2023-04-20T21:51:00.198Z"
   },
   {
    "duration": 905,
    "start_time": "2023-04-20T21:51:00.720Z"
   },
   {
    "duration": 6,
    "start_time": "2023-04-20T21:51:01.627Z"
   },
   {
    "duration": 6,
    "start_time": "2023-04-20T21:51:02.689Z"
   },
   {
    "duration": 17,
    "start_time": "2023-04-20T21:51:03.344Z"
   },
   {
    "duration": 4,
    "start_time": "2023-04-20T21:51:03.738Z"
   },
   {
    "duration": 4,
    "start_time": "2023-04-20T21:51:04.126Z"
   },
   {
    "duration": 888,
    "start_time": "2023-04-20T21:51:04.511Z"
   },
   {
    "duration": 6,
    "start_time": "2023-04-20T21:51:05.401Z"
   },
   {
    "duration": 4,
    "start_time": "2023-04-20T21:51:05.638Z"
   },
   {
    "duration": 1755,
    "start_time": "2023-04-21T10:39:10.693Z"
   },
   {
    "duration": 913,
    "start_time": "2023-04-21T10:39:12.450Z"
   },
   {
    "duration": 13,
    "start_time": "2023-04-21T10:39:13.365Z"
   },
   {
    "duration": 14,
    "start_time": "2023-04-21T10:39:13.380Z"
   },
   {
    "duration": 15,
    "start_time": "2023-04-21T10:39:13.396Z"
   },
   {
    "duration": 524,
    "start_time": "2023-04-21T10:39:13.412Z"
   },
   {
    "duration": 481,
    "start_time": "2023-04-21T10:39:13.938Z"
   },
   {
    "duration": 1090,
    "start_time": "2023-04-21T10:39:14.421Z"
   },
   {
    "duration": 377,
    "start_time": "2023-04-21T10:39:15.513Z"
   },
   {
    "duration": 355,
    "start_time": "2023-04-21T10:39:15.894Z"
   },
   {
    "duration": 692,
    "start_time": "2023-04-21T10:39:16.251Z"
   },
   {
    "duration": 8,
    "start_time": "2023-04-21T10:39:16.944Z"
   },
   {
    "duration": 37,
    "start_time": "2023-04-21T10:39:16.954Z"
   },
   {
    "duration": 6,
    "start_time": "2023-04-21T10:39:16.994Z"
   },
   {
    "duration": 297,
    "start_time": "2023-04-21T10:39:17.002Z"
   },
   {
    "duration": 283,
    "start_time": "2023-04-21T10:39:17.303Z"
   },
   {
    "duration": 290,
    "start_time": "2023-04-21T10:39:17.591Z"
   },
   {
    "duration": 3,
    "start_time": "2023-04-21T10:39:17.884Z"
   },
   {
    "duration": 106,
    "start_time": "2023-04-21T10:39:17.888Z"
   },
   {
    "duration": 34,
    "start_time": "2023-04-21T10:39:17.998Z"
   },
   {
    "duration": 30,
    "start_time": "2023-04-21T10:39:18.034Z"
   },
   {
    "duration": 39,
    "start_time": "2023-04-21T10:39:18.066Z"
   },
   {
    "duration": 21,
    "start_time": "2023-04-21T10:39:18.107Z"
   },
   {
    "duration": 19,
    "start_time": "2023-04-21T10:39:18.130Z"
   },
   {
    "duration": 40,
    "start_time": "2023-04-21T10:39:18.150Z"
   },
   {
    "duration": 34,
    "start_time": "2023-04-21T10:39:18.192Z"
   },
   {
    "duration": 6,
    "start_time": "2023-04-21T10:39:18.229Z"
   },
   {
    "duration": 24,
    "start_time": "2023-04-21T10:39:18.239Z"
   },
   {
    "duration": 995,
    "start_time": "2023-04-21T10:39:18.264Z"
   },
   {
    "duration": 7,
    "start_time": "2023-04-21T10:39:19.263Z"
   },
   {
    "duration": 39,
    "start_time": "2023-04-21T10:39:19.272Z"
   },
   {
    "duration": 49,
    "start_time": "2023-04-21T10:39:19.313Z"
   },
   {
    "duration": 16,
    "start_time": "2023-04-21T10:39:19.364Z"
   },
   {
    "duration": 20,
    "start_time": "2023-04-21T10:39:19.383Z"
   },
   {
    "duration": 1153,
    "start_time": "2023-04-21T10:39:19.405Z"
   },
   {
    "duration": 14,
    "start_time": "2023-04-21T10:39:20.561Z"
   },
   {
    "duration": 27,
    "start_time": "2023-04-21T10:39:20.577Z"
   },
   {
    "duration": 27,
    "start_time": "2023-04-21T10:39:20.605Z"
   },
   {
    "duration": 7,
    "start_time": "2023-04-21T10:39:20.634Z"
   },
   {
    "duration": 9,
    "start_time": "2023-04-21T10:39:20.643Z"
   },
   {
    "duration": 953,
    "start_time": "2023-04-21T10:39:20.654Z"
   },
   {
    "duration": 5,
    "start_time": "2023-04-21T10:39:21.608Z"
   },
   {
    "duration": 34,
    "start_time": "2023-04-21T10:39:21.615Z"
   },
   {
    "duration": 14,
    "start_time": "2023-04-21T10:43:51.292Z"
   },
   {
    "duration": 10,
    "start_time": "2023-04-21T10:44:03.487Z"
   },
   {
    "duration": 3,
    "start_time": "2023-04-21T10:54:57.229Z"
   },
   {
    "duration": 3,
    "start_time": "2023-04-21T10:55:15.862Z"
   },
   {
    "duration": 6,
    "start_time": "2023-04-21T11:09:06.844Z"
   },
   {
    "duration": 15,
    "start_time": "2023-04-21T11:09:18.100Z"
   },
   {
    "duration": 5,
    "start_time": "2023-04-21T11:09:25.179Z"
   },
   {
    "duration": 1798,
    "start_time": "2023-04-21T11:40:29.120Z"
   },
   {
    "duration": 834,
    "start_time": "2023-04-21T11:40:32.266Z"
   },
   {
    "duration": 17,
    "start_time": "2023-04-21T11:41:01.822Z"
   },
   {
    "duration": 13,
    "start_time": "2023-04-21T11:41:03.172Z"
   },
   {
    "duration": 9,
    "start_time": "2023-04-21T11:41:03.709Z"
   },
   {
    "duration": 604,
    "start_time": "2023-04-21T11:41:06.152Z"
   },
   {
    "duration": 540,
    "start_time": "2023-04-21T11:41:08.311Z"
   },
   {
    "duration": 647,
    "start_time": "2023-04-21T11:41:09.297Z"
   },
   {
    "duration": 389,
    "start_time": "2023-04-21T11:41:11.284Z"
   },
   {
    "duration": 283,
    "start_time": "2023-04-21T11:41:17.376Z"
   },
   {
    "duration": 319,
    "start_time": "2023-04-21T11:41:33.488Z"
   },
   {
    "duration": 335,
    "start_time": "2023-04-21T11:41:39.700Z"
   },
   {
    "duration": 10,
    "start_time": "2023-04-21T11:41:44.133Z"
   },
   {
    "duration": 21,
    "start_time": "2023-04-21T11:41:46.795Z"
   },
   {
    "duration": 6,
    "start_time": "2023-04-21T11:41:58.340Z"
   },
   {
    "duration": 254,
    "start_time": "2023-04-21T11:41:59.776Z"
   },
   {
    "duration": 116,
    "start_time": "2023-04-21T11:42:52.610Z"
   },
   {
    "duration": 143,
    "start_time": "2023-04-21T11:42:54.678Z"
   },
   {
    "duration": 3,
    "start_time": "2023-04-21T11:43:54.455Z"
   },
   {
    "duration": 179,
    "start_time": "2023-04-21T11:44:35.477Z"
   },
   {
    "duration": 5,
    "start_time": "2023-04-21T11:44:48.060Z"
   },
   {
    "duration": 4,
    "start_time": "2023-04-21T11:56:16.855Z"
   },
   {
    "duration": 4,
    "start_time": "2023-04-21T11:56:17.255Z"
   },
   {
    "duration": 4,
    "start_time": "2023-04-21T11:56:19.997Z"
   },
   {
    "duration": 7,
    "start_time": "2023-04-21T11:56:21.438Z"
   },
   {
    "duration": 4,
    "start_time": "2023-04-21T11:56:24.957Z"
   },
   {
    "duration": 27,
    "start_time": "2023-04-21T11:56:26.681Z"
   },
   {
    "duration": 5,
    "start_time": "2023-04-21T11:56:30.157Z"
   },
   {
    "duration": 13,
    "start_time": "2023-04-21T11:56:35.832Z"
   },
   {
    "duration": 4,
    "start_time": "2023-04-21T11:57:05.807Z"
   },
   {
    "duration": 7,
    "start_time": "2023-04-21T11:57:07.275Z"
   },
   {
    "duration": 3,
    "start_time": "2023-04-21T11:57:07.815Z"
   },
   {
    "duration": 9,
    "start_time": "2023-04-21T11:57:11.956Z"
   },
   {
    "duration": 4,
    "start_time": "2023-04-21T11:57:12.168Z"
   },
   {
    "duration": 4,
    "start_time": "2023-04-21T11:57:12.732Z"
   },
   {
    "duration": 7,
    "start_time": "2023-04-21T11:57:13.474Z"
   },
   {
    "duration": 4,
    "start_time": "2023-04-21T11:57:15.612Z"
   },
   {
    "duration": 26,
    "start_time": "2023-04-21T11:57:16.620Z"
   },
   {
    "duration": 7,
    "start_time": "2023-04-21T11:57:17.300Z"
   },
   {
    "duration": 16,
    "start_time": "2023-04-21T11:57:18.311Z"
   },
   {
    "duration": 3,
    "start_time": "2023-04-21T11:57:35.121Z"
   },
   {
    "duration": 3,
    "start_time": "2023-04-21T11:57:36.778Z"
   },
   {
    "duration": 5,
    "start_time": "2023-04-21T11:57:37.198Z"
   },
   {
    "duration": 4,
    "start_time": "2023-04-21T11:57:37.591Z"
   },
   {
    "duration": 7,
    "start_time": "2023-04-21T11:57:38.180Z"
   },
   {
    "duration": 5,
    "start_time": "2023-04-21T11:57:39.750Z"
   },
   {
    "duration": 19,
    "start_time": "2023-04-21T11:57:40.864Z"
   },
   {
    "duration": 5,
    "start_time": "2023-04-21T11:57:41.285Z"
   },
   {
    "duration": 4,
    "start_time": "2023-04-21T11:57:42.432Z"
   },
   {
    "duration": 3,
    "start_time": "2023-04-21T12:00:48.440Z"
   },
   {
    "duration": 4,
    "start_time": "2023-04-21T12:01:45.662Z"
   },
   {
    "duration": 1542,
    "start_time": "2023-04-21T12:02:43.442Z"
   },
   {
    "duration": 3,
    "start_time": "2023-04-21T12:05:54.040Z"
   },
   {
    "duration": 7,
    "start_time": "2023-04-21T12:08:39.049Z"
   },
   {
    "duration": 4,
    "start_time": "2023-04-21T12:09:32.428Z"
   },
   {
    "duration": 10,
    "start_time": "2023-04-21T12:09:32.809Z"
   },
   {
    "duration": 3,
    "start_time": "2023-04-21T12:09:37.729Z"
   },
   {
    "duration": 6,
    "start_time": "2023-04-21T12:09:45.143Z"
   },
   {
    "duration": 55,
    "start_time": "2023-04-21T12:11:58.052Z"
   },
   {
    "duration": 74,
    "start_time": "2023-04-21T12:12:01.302Z"
   },
   {
    "duration": 4,
    "start_time": "2023-04-21T12:12:05.443Z"
   },
   {
    "duration": 7,
    "start_time": "2023-04-21T12:12:31.880Z"
   },
   {
    "duration": 5,
    "start_time": "2023-04-21T12:14:15.934Z"
   },
   {
    "duration": 6,
    "start_time": "2023-04-21T12:14:21.702Z"
   },
   {
    "duration": 4,
    "start_time": "2023-04-21T12:14:28.705Z"
   },
   {
    "duration": 6,
    "start_time": "2023-04-21T12:14:32.270Z"
   },
   {
    "duration": 4,
    "start_time": "2023-04-21T12:14:46.379Z"
   },
   {
    "duration": 6,
    "start_time": "2023-04-21T12:14:49.220Z"
   },
   {
    "duration": 5,
    "start_time": "2023-04-21T12:14:56.844Z"
   },
   {
    "duration": 13,
    "start_time": "2023-04-21T12:15:38.837Z"
   },
   {
    "duration": 4,
    "start_time": "2023-04-21T12:16:05.118Z"
   },
   {
    "duration": 9,
    "start_time": "2023-04-21T12:17:02.361Z"
   },
   {
    "duration": 17,
    "start_time": "2023-04-21T12:17:05.148Z"
   },
   {
    "duration": 4,
    "start_time": "2023-04-21T12:17:06.200Z"
   },
   {
    "duration": 6,
    "start_time": "2023-04-21T12:17:20.040Z"
   },
   {
    "duration": 1462,
    "start_time": "2023-04-21T12:17:24.225Z"
   },
   {
    "duration": 6,
    "start_time": "2023-04-21T12:17:25.689Z"
   },
   {
    "duration": 4,
    "start_time": "2023-04-21T12:17:44.210Z"
   },
   {
    "duration": 17,
    "start_time": "2023-04-21T12:17:59.836Z"
   },
   {
    "duration": 6,
    "start_time": "2023-04-21T12:18:00.859Z"
   },
   {
    "duration": 5,
    "start_time": "2023-04-21T12:18:05.658Z"
   },
   {
    "duration": 1365,
    "start_time": "2023-04-21T12:18:06.624Z"
   },
   {
    "duration": 6,
    "start_time": "2023-04-21T12:18:17.894Z"
   },
   {
    "duration": 6,
    "start_time": "2023-04-21T12:18:32.471Z"
   },
   {
    "duration": 1913,
    "start_time": "2023-04-22T08:41:13.175Z"
   },
   {
    "duration": 3,
    "start_time": "2023-04-22T08:41:15.090Z"
   },
   {
    "duration": 1893,
    "start_time": "2023-04-22T08:41:15.095Z"
   },
   {
    "duration": 15,
    "start_time": "2023-04-22T08:41:16.990Z"
   },
   {
    "duration": 17,
    "start_time": "2023-04-22T08:41:17.007Z"
   },
   {
    "duration": 10,
    "start_time": "2023-04-22T08:41:17.027Z"
   },
   {
    "duration": 633,
    "start_time": "2023-04-22T08:41:17.039Z"
   },
   {
    "duration": 569,
    "start_time": "2023-04-22T08:41:17.674Z"
   },
   {
    "duration": 679,
    "start_time": "2023-04-22T08:41:18.245Z"
   },
   {
    "duration": 441,
    "start_time": "2023-04-22T08:41:18.926Z"
   },
   {
    "duration": 407,
    "start_time": "2023-04-22T08:41:19.369Z"
   },
   {
    "duration": 344,
    "start_time": "2023-04-22T08:41:19.777Z"
   },
   {
    "duration": 20,
    "start_time": "2023-04-22T08:41:20.122Z"
   },
   {
    "duration": 22,
    "start_time": "2023-04-22T08:41:20.145Z"
   },
   {
    "duration": 6,
    "start_time": "2023-04-22T08:41:20.169Z"
   },
   {
    "duration": 348,
    "start_time": "2023-04-22T08:41:20.177Z"
   },
   {
    "duration": 302,
    "start_time": "2023-04-22T08:41:20.528Z"
   },
   {
    "duration": 89,
    "start_time": "2023-04-22T08:41:20.834Z"
   },
   {
    "duration": 7,
    "start_time": "2023-04-22T08:41:20.930Z"
   },
   {
    "duration": 87,
    "start_time": "2023-04-22T08:41:21.029Z"
   },
   {
    "duration": 7,
    "start_time": "2023-04-22T08:41:21.118Z"
   },
   {
    "duration": 7,
    "start_time": "2023-04-22T08:41:21.128Z"
   },
   {
    "duration": 6,
    "start_time": "2023-04-22T08:41:21.137Z"
   },
   {
    "duration": 5,
    "start_time": "2023-04-22T08:41:21.144Z"
   },
   {
    "duration": 5,
    "start_time": "2023-04-22T08:41:21.150Z"
   },
   {
    "duration": 4,
    "start_time": "2023-04-22T08:41:21.156Z"
   },
   {
    "duration": 4,
    "start_time": "2023-04-22T08:41:21.162Z"
   },
   {
    "duration": 61,
    "start_time": "2023-04-22T08:41:21.168Z"
   },
   {
    "duration": 6,
    "start_time": "2023-04-22T08:41:21.230Z"
   },
   {
    "duration": 1507,
    "start_time": "2023-04-22T08:41:21.238Z"
   },
   {
    "duration": 6,
    "start_time": "2023-04-22T08:41:22.748Z"
   },
   {
    "duration": 17,
    "start_time": "2023-04-22T08:41:22.756Z"
   },
   {
    "duration": 30,
    "start_time": "2023-04-22T08:41:22.776Z"
   },
   {
    "duration": 25,
    "start_time": "2023-04-22T08:41:22.808Z"
   },
   {
    "duration": 1453,
    "start_time": "2023-04-22T08:41:22.835Z"
   },
   {
    "duration": 6,
    "start_time": "2023-04-22T08:41:24.290Z"
   },
   {
    "duration": 22,
    "start_time": "2023-04-22T08:41:24.298Z"
   },
   {
    "duration": 30,
    "start_time": "2023-04-22T08:41:24.322Z"
   },
   {
    "duration": 6,
    "start_time": "2023-04-22T08:41:24.353Z"
   },
   {
    "duration": 1477,
    "start_time": "2023-04-22T08:41:24.361Z"
   },
   {
    "duration": 6,
    "start_time": "2023-04-22T08:41:25.841Z"
   },
   {
    "duration": 46,
    "start_time": "2023-04-22T08:41:25.848Z"
   },
   {
    "duration": 7,
    "start_time": "2023-04-22T09:05:51.720Z"
   },
   {
    "duration": 20,
    "start_time": "2023-04-22T09:16:58.842Z"
   },
   {
    "duration": 15,
    "start_time": "2023-04-22T09:17:04.506Z"
   },
   {
    "duration": 5,
    "start_time": "2023-04-22T09:17:18.834Z"
   },
   {
    "duration": 7,
    "start_time": "2023-04-22T09:17:25.918Z"
   },
   {
    "duration": 4,
    "start_time": "2023-04-22T09:21:09.909Z"
   },
   {
    "duration": 1900,
    "start_time": "2023-04-22T17:00:33.984Z"
   },
   {
    "duration": 4,
    "start_time": "2023-04-22T17:00:36.364Z"
   },
   {
    "duration": 1231,
    "start_time": "2023-04-22T17:00:37.577Z"
   },
   {
    "duration": 23,
    "start_time": "2023-04-22T17:00:39.966Z"
   },
   {
    "duration": 22,
    "start_time": "2023-04-22T17:00:40.778Z"
   },
   {
    "duration": 15,
    "start_time": "2023-04-22T17:00:41.222Z"
   },
   {
    "duration": 663,
    "start_time": "2023-04-22T17:00:43.361Z"
   },
   {
    "duration": 751,
    "start_time": "2023-04-22T17:00:44.486Z"
   },
   {
    "duration": 742,
    "start_time": "2023-04-22T17:00:45.706Z"
   },
   {
    "duration": 384,
    "start_time": "2023-04-22T17:00:47.140Z"
   },
   {
    "duration": 342,
    "start_time": "2023-04-22T17:00:49.076Z"
   },
   {
    "duration": 325,
    "start_time": "2023-04-22T17:00:50.205Z"
   },
   {
    "duration": 12,
    "start_time": "2023-04-22T17:00:52.249Z"
   },
   {
    "duration": 27,
    "start_time": "2023-04-22T17:00:52.554Z"
   },
   {
    "duration": 6,
    "start_time": "2023-04-22T17:00:55.912Z"
   },
   {
    "duration": 328,
    "start_time": "2023-04-22T17:00:56.697Z"
   },
   {
    "duration": 166,
    "start_time": "2023-04-22T17:00:57.257Z"
   },
   {
    "duration": 252,
    "start_time": "2023-04-22T17:00:58.063Z"
   },
   {
    "duration": 7,
    "start_time": "2023-04-22T17:01:01.013Z"
   },
   {
    "duration": 4,
    "start_time": "2023-04-22T17:01:13.454Z"
   },
   {
    "duration": 5,
    "start_time": "2023-04-22T17:01:15.508Z"
   },
   {
    "duration": 3,
    "start_time": "2023-04-22T17:12:43.633Z"
   },
   {
    "duration": 4,
    "start_time": "2023-04-22T17:12:44.107Z"
   },
   {
    "duration": 561,
    "start_time": "2023-04-22T17:12:46.535Z"
   },
   {
    "duration": 11,
    "start_time": "2023-04-22T17:12:47.928Z"
   },
   {
    "duration": 17,
    "start_time": "2023-04-22T17:12:49.931Z"
   },
   {
    "duration": 11,
    "start_time": "2023-04-22T17:12:52.072Z"
   },
   {
    "duration": 681,
    "start_time": "2023-04-22T17:12:54.431Z"
   },
   {
    "duration": 682,
    "start_time": "2023-04-22T17:12:56.152Z"
   },
   {
    "duration": 807,
    "start_time": "2023-04-22T17:12:57.714Z"
   },
   {
    "duration": 421,
    "start_time": "2023-04-22T17:13:01.574Z"
   },
   {
    "duration": 419,
    "start_time": "2023-04-22T17:13:05.606Z"
   },
   {
    "duration": 431,
    "start_time": "2023-04-22T17:13:06.912Z"
   },
   {
    "duration": 16,
    "start_time": "2023-04-22T17:13:08.833Z"
   },
   {
    "duration": 37,
    "start_time": "2023-04-22T17:13:09.283Z"
   },
   {
    "duration": 9,
    "start_time": "2023-04-22T17:13:16.022Z"
   },
   {
    "duration": 264,
    "start_time": "2023-04-22T17:13:18.234Z"
   },
   {
    "duration": 185,
    "start_time": "2023-04-22T17:13:22.212Z"
   },
   {
    "duration": 275,
    "start_time": "2023-04-22T17:13:23.557Z"
   },
   {
    "duration": 8,
    "start_time": "2023-04-22T17:13:33.425Z"
   },
   {
    "duration": 5,
    "start_time": "2023-04-22T17:13:37.981Z"
   },
   {
    "duration": 5,
    "start_time": "2023-04-22T17:13:40.366Z"
   },
   {
    "duration": 4,
    "start_time": "2023-04-22T17:14:09.412Z"
   },
   {
    "duration": 5,
    "start_time": "2023-04-22T17:14:25.432Z"
   },
   {
    "duration": 4,
    "start_time": "2023-04-22T17:18:42.798Z"
   },
   {
    "duration": 4,
    "start_time": "2023-04-22T17:18:59.768Z"
   },
   {
    "duration": 3,
    "start_time": "2023-04-22T17:19:05.316Z"
   },
   {
    "duration": 5,
    "start_time": "2023-04-22T17:19:07.713Z"
   },
   {
    "duration": 5,
    "start_time": "2023-04-22T17:24:20.544Z"
   },
   {
    "duration": 27,
    "start_time": "2023-04-22T17:24:24.436Z"
   },
   {
    "duration": 6,
    "start_time": "2023-04-22T17:26:34.559Z"
   },
   {
    "duration": 5,
    "start_time": "2023-04-22T17:26:37.639Z"
   },
   {
    "duration": 7,
    "start_time": "2023-04-22T17:26:40.328Z"
   },
   {
    "duration": 3,
    "start_time": "2023-04-22T17:26:42.610Z"
   },
   {
    "duration": 8,
    "start_time": "2023-04-22T17:26:42.999Z"
   },
   {
    "duration": 173,
    "start_time": "2023-04-22T17:26:54.673Z"
   },
   {
    "duration": 6,
    "start_time": "2023-04-22T17:27:16.576Z"
   },
   {
    "duration": 124,
    "start_time": "2023-04-22T17:27:20.022Z"
   },
   {
    "duration": 4,
    "start_time": "2023-04-22T17:27:44.029Z"
   },
   {
    "duration": 65,
    "start_time": "2023-04-22T17:27:48.458Z"
   },
   {
    "duration": 6,
    "start_time": "2023-04-22T17:28:41.405Z"
   },
   {
    "duration": 4,
    "start_time": "2023-04-22T17:28:42.908Z"
   },
   {
    "duration": 6,
    "start_time": "2023-04-22T17:28:43.910Z"
   },
   {
    "duration": 3,
    "start_time": "2023-04-22T17:28:45.677Z"
   },
   {
    "duration": 4,
    "start_time": "2023-04-22T17:28:45.872Z"
   },
   {
    "duration": 938,
    "start_time": "2023-04-22T17:28:47.210Z"
   },
   {
    "duration": 4,
    "start_time": "2023-04-22T17:30:05.255Z"
   },
   {
    "duration": 62,
    "start_time": "2023-04-22T17:30:10.912Z"
   },
   {
    "duration": 5,
    "start_time": "2023-04-22T17:31:49.911Z"
   },
   {
    "duration": 91,
    "start_time": "2023-04-22T17:31:54.849Z"
   },
   {
    "duration": 5,
    "start_time": "2023-04-22T17:36:22.010Z"
   },
   {
    "duration": 909,
    "start_time": "2023-04-22T17:37:43.362Z"
   },
   {
    "duration": 6,
    "start_time": "2023-04-22T17:37:49.717Z"
   },
   {
    "duration": 6,
    "start_time": "2023-04-22T17:38:18.433Z"
   },
   {
    "duration": 1710,
    "start_time": "2023-04-22T17:44:30.024Z"
   },
   {
    "duration": 7,
    "start_time": "2023-04-22T17:44:34.019Z"
   },
   {
    "duration": 4,
    "start_time": "2023-04-22T17:45:08.342Z"
   },
   {
    "duration": 8,
    "start_time": "2023-04-22T17:45:12.365Z"
   },
   {
    "duration": 5,
    "start_time": "2023-04-22T17:45:54.270Z"
   },
   {
    "duration": 5,
    "start_time": "2023-04-22T17:46:04.942Z"
   },
   {
    "duration": 4,
    "start_time": "2023-04-22T17:46:36.217Z"
   },
   {
    "duration": 9,
    "start_time": "2023-04-22T17:47:22.216Z"
   },
   {
    "duration": 13,
    "start_time": "2023-04-22T17:48:10.776Z"
   },
   {
    "duration": 98,
    "start_time": "2023-04-22T17:48:19.679Z"
   },
   {
    "duration": 1574,
    "start_time": "2023-04-22T17:48:24.520Z"
   },
   {
    "duration": 12,
    "start_time": "2023-04-22T17:48:26.681Z"
   },
   {
    "duration": 10,
    "start_time": "2023-04-22T17:48:48.850Z"
   },
   {
    "duration": 96,
    "start_time": "2023-04-22T17:48:56.112Z"
   },
   {
    "duration": 1595,
    "start_time": "2023-04-22T17:49:15.767Z"
   },
   {
    "duration": 12,
    "start_time": "2023-04-22T17:49:19.435Z"
   },
   {
    "duration": 8,
    "start_time": "2023-04-22T17:52:21.317Z"
   },
   {
    "duration": 74,
    "start_time": "2023-04-22T17:52:23.052Z"
   },
   {
    "duration": 4,
    "start_time": "2023-04-22T17:52:23.725Z"
   },
   {
    "duration": 1788,
    "start_time": "2023-04-22T17:52:27.282Z"
   },
   {
    "duration": 23,
    "start_time": "2023-04-22T17:52:29.072Z"
   },
   {
    "duration": 89,
    "start_time": "2023-04-22T17:52:36.383Z"
   },
   {
    "duration": 1546,
    "start_time": "2023-04-22T17:52:36.956Z"
   },
   {
    "duration": 8,
    "start_time": "2023-04-22T17:52:38.508Z"
   },
   {
    "duration": 63,
    "start_time": "2023-04-22T17:52:46.918Z"
   },
   {
    "duration": 1557,
    "start_time": "2023-04-22T17:52:47.981Z"
   },
   {
    "duration": 8,
    "start_time": "2023-04-22T17:52:49.540Z"
   },
   {
    "duration": 7,
    "start_time": "2023-04-22T17:52:52.662Z"
   },
   {
    "duration": 7,
    "start_time": "2023-04-22T17:52:54.878Z"
   },
   {
    "duration": 3,
    "start_time": "2023-04-22T17:53:11.578Z"
   },
   {
    "duration": 83,
    "start_time": "2023-04-22T17:53:14.151Z"
   },
   {
    "duration": 5,
    "start_time": "2023-04-22T17:53:14.814Z"
   },
   {
    "duration": 1607,
    "start_time": "2023-04-22T17:53:17.487Z"
   },
   {
    "duration": 12,
    "start_time": "2023-04-22T17:53:19.099Z"
   },
   {
    "duration": 103,
    "start_time": "2023-04-22T17:54:46.507Z"
   },
   {
    "duration": 1549,
    "start_time": "2023-04-22T17:54:47.233Z"
   },
   {
    "duration": 22,
    "start_time": "2023-04-22T17:54:48.784Z"
   },
   {
    "duration": 75,
    "start_time": "2023-04-22T17:54:55.972Z"
   },
   {
    "duration": 1561,
    "start_time": "2023-04-22T17:54:57.706Z"
   },
   {
    "duration": 8,
    "start_time": "2023-04-22T17:54:59.269Z"
   },
   {
    "duration": 1750,
    "start_time": "2023-04-23T12:16:15.681Z"
   },
   {
    "duration": 3,
    "start_time": "2023-04-23T12:16:17.434Z"
   },
   {
    "duration": 1694,
    "start_time": "2023-04-23T12:16:17.438Z"
   },
   {
    "duration": 13,
    "start_time": "2023-04-23T12:16:19.134Z"
   },
   {
    "duration": 20,
    "start_time": "2023-04-23T12:16:19.149Z"
   },
   {
    "duration": 11,
    "start_time": "2023-04-23T12:16:19.171Z"
   },
   {
    "duration": 576,
    "start_time": "2023-04-23T12:16:19.184Z"
   },
   {
    "duration": 535,
    "start_time": "2023-04-23T12:16:19.762Z"
   },
   {
    "duration": 650,
    "start_time": "2023-04-23T12:16:20.299Z"
   },
   {
    "duration": 380,
    "start_time": "2023-04-23T12:16:20.951Z"
   },
   {
    "duration": 314,
    "start_time": "2023-04-23T12:16:21.333Z"
   },
   {
    "duration": 325,
    "start_time": "2023-04-23T12:16:21.648Z"
   },
   {
    "duration": 23,
    "start_time": "2023-04-23T12:16:21.975Z"
   },
   {
    "duration": 17,
    "start_time": "2023-04-23T12:16:22.000Z"
   },
   {
    "duration": 5,
    "start_time": "2023-04-23T12:16:22.019Z"
   },
   {
    "duration": 179,
    "start_time": "2023-04-23T12:16:22.026Z"
   },
   {
    "duration": 283,
    "start_time": "2023-04-23T12:16:22.206Z"
   },
   {
    "duration": 205,
    "start_time": "2023-04-23T12:16:22.491Z"
   },
   {
    "duration": 6,
    "start_time": "2023-04-23T12:16:22.698Z"
   },
   {
    "duration": 89,
    "start_time": "2023-04-23T12:16:22.709Z"
   },
   {
    "duration": 7,
    "start_time": "2023-04-23T12:16:22.800Z"
   },
   {
    "duration": 5,
    "start_time": "2023-04-23T12:16:22.808Z"
   },
   {
    "duration": 4,
    "start_time": "2023-04-23T12:16:22.814Z"
   },
   {
    "duration": 4,
    "start_time": "2023-04-23T12:16:22.819Z"
   },
   {
    "duration": 4,
    "start_time": "2023-04-23T12:16:22.824Z"
   },
   {
    "duration": 5,
    "start_time": "2023-04-23T12:16:22.829Z"
   },
   {
    "duration": 4,
    "start_time": "2023-04-23T12:16:22.835Z"
   },
   {
    "duration": 76,
    "start_time": "2023-04-23T12:16:22.841Z"
   },
   {
    "duration": 5,
    "start_time": "2023-04-23T12:16:22.918Z"
   },
   {
    "duration": 1420,
    "start_time": "2023-04-23T12:16:22.925Z"
   },
   {
    "duration": 5,
    "start_time": "2023-04-23T12:16:24.347Z"
   },
   {
    "duration": 63,
    "start_time": "2023-04-23T12:16:24.354Z"
   },
   {
    "duration": 1323,
    "start_time": "2023-04-23T12:16:24.418Z"
   },
   {
    "duration": 7,
    "start_time": "2023-04-23T12:16:25.743Z"
   },
   {
    "duration": 71,
    "start_time": "2023-04-23T12:16:25.751Z"
   },
   {
    "duration": 1348,
    "start_time": "2023-04-23T12:16:25.824Z"
   },
   {
    "duration": 11,
    "start_time": "2023-04-23T12:16:27.174Z"
   },
   {
    "duration": 1535,
    "start_time": "2023-04-23T12:50:07.441Z"
   },
   {
    "duration": 3,
    "start_time": "2023-04-23T12:50:09.921Z"
   },
   {
    "duration": 826,
    "start_time": "2023-04-23T12:50:10.437Z"
   },
   {
    "duration": 15,
    "start_time": "2023-04-23T12:50:11.265Z"
   },
   {
    "duration": 12,
    "start_time": "2023-04-23T12:50:11.548Z"
   },
   {
    "duration": 10,
    "start_time": "2023-04-23T12:50:11.750Z"
   },
   {
    "duration": 599,
    "start_time": "2023-04-23T12:50:12.526Z"
   },
   {
    "duration": 533,
    "start_time": "2023-04-23T12:50:13.126Z"
   },
   {
    "duration": 615,
    "start_time": "2023-04-23T12:50:13.717Z"
   },
   {
    "duration": 352,
    "start_time": "2023-04-23T12:50:14.620Z"
   },
   {
    "duration": 302,
    "start_time": "2023-04-23T12:50:15.820Z"
   },
   {
    "duration": 328,
    "start_time": "2023-04-23T12:50:16.421Z"
   },
   {
    "duration": 10,
    "start_time": "2023-04-23T12:50:17.425Z"
   },
   {
    "duration": 16,
    "start_time": "2023-04-23T12:50:17.645Z"
   },
   {
    "duration": 6,
    "start_time": "2023-04-23T12:50:20.413Z"
   },
   {
    "duration": 285,
    "start_time": "2023-04-23T12:50:21.042Z"
   },
   {
    "duration": 101,
    "start_time": "2023-04-23T12:50:21.424Z"
   },
   {
    "duration": 98,
    "start_time": "2023-04-23T12:50:22.126Z"
   },
   {
    "duration": 3,
    "start_time": "2023-04-23T12:50:26.655Z"
   },
   {
    "duration": 4,
    "start_time": "2023-04-23T12:50:38.580Z"
   },
   {
    "duration": 3,
    "start_time": "2023-04-23T12:50:39.017Z"
   },
   {
    "duration": 4,
    "start_time": "2023-04-23T12:50:41.441Z"
   },
   {
    "duration": 4,
    "start_time": "2023-04-23T12:50:42.072Z"
   },
   {
    "duration": 2,
    "start_time": "2023-04-23T12:50:45.227Z"
   },
   {
    "duration": 4,
    "start_time": "2023-04-23T12:50:48.344Z"
   },
   {
    "duration": 3,
    "start_time": "2023-04-23T12:50:50.965Z"
   },
   {
    "duration": 4,
    "start_time": "2023-04-23T12:50:51.571Z"
   },
   {
    "duration": 59,
    "start_time": "2023-04-23T12:50:56.245Z"
   },
   {
    "duration": 1376,
    "start_time": "2023-04-23T12:51:39.537Z"
   },
   {
    "duration": 7,
    "start_time": "2023-04-23T12:51:43.734Z"
   },
   {
    "duration": 55,
    "start_time": "2023-04-23T12:52:31.027Z"
   },
   {
    "duration": 1412,
    "start_time": "2023-04-23T12:52:32.520Z"
   },
   {
    "duration": 6,
    "start_time": "2023-04-23T12:52:33.933Z"
   },
   {
    "duration": 57,
    "start_time": "2023-04-23T12:52:39.116Z"
   },
   {
    "duration": 7,
    "start_time": "2023-04-23T12:54:25.743Z"
   },
   {
    "duration": 63,
    "start_time": "2023-04-23T12:54:32.752Z"
   },
   {
    "duration": 1387,
    "start_time": "2023-04-23T12:54:34.149Z"
   },
   {
    "duration": 6,
    "start_time": "2023-04-23T12:54:37.301Z"
   },
   {
    "duration": 1618,
    "start_time": "2023-04-24T09:30:24.012Z"
   },
   {
    "duration": 3,
    "start_time": "2023-04-24T09:30:25.632Z"
   },
   {
    "duration": 777,
    "start_time": "2023-04-24T09:30:25.636Z"
   },
   {
    "duration": 12,
    "start_time": "2023-04-24T09:30:26.415Z"
   },
   {
    "duration": 9,
    "start_time": "2023-04-24T09:30:26.429Z"
   },
   {
    "duration": 20,
    "start_time": "2023-04-24T09:30:26.439Z"
   },
   {
    "duration": 516,
    "start_time": "2023-04-24T09:30:26.460Z"
   },
   {
    "duration": 510,
    "start_time": "2023-04-24T09:30:26.977Z"
   },
   {
    "duration": 555,
    "start_time": "2023-04-24T09:30:27.489Z"
   },
   {
    "duration": 328,
    "start_time": "2023-04-24T09:30:28.049Z"
   },
   {
    "duration": 262,
    "start_time": "2023-04-24T09:30:28.378Z"
   },
   {
    "duration": 283,
    "start_time": "2023-04-24T09:30:28.642Z"
   },
   {
    "duration": 8,
    "start_time": "2023-04-24T09:30:28.927Z"
   },
   {
    "duration": 14,
    "start_time": "2023-04-24T09:30:28.949Z"
   },
   {
    "duration": 6,
    "start_time": "2023-04-24T09:30:28.964Z"
   },
   {
    "duration": 295,
    "start_time": "2023-04-24T09:30:28.972Z"
   },
   {
    "duration": 288,
    "start_time": "2023-04-24T09:30:29.269Z"
   },
   {
    "duration": 195,
    "start_time": "2023-04-24T09:30:29.559Z"
   },
   {
    "duration": 3,
    "start_time": "2023-04-24T09:30:29.756Z"
   },
   {
    "duration": 115,
    "start_time": "2023-04-24T09:30:29.761Z"
   },
   {
    "duration": 20,
    "start_time": "2023-04-24T09:30:29.878Z"
   },
   {
    "duration": 15,
    "start_time": "2023-04-24T09:30:29.901Z"
   },
   {
    "duration": 7,
    "start_time": "2023-04-24T09:30:29.918Z"
   },
   {
    "duration": 16,
    "start_time": "2023-04-24T09:30:29.927Z"
   },
   {
    "duration": 15,
    "start_time": "2023-04-24T09:30:29.945Z"
   },
   {
    "duration": 21,
    "start_time": "2023-04-24T09:30:29.961Z"
   },
   {
    "duration": 48,
    "start_time": "2023-04-24T09:30:29.983Z"
   },
   {
    "duration": 88,
    "start_time": "2023-04-24T09:30:30.034Z"
   },
   {
    "duration": 4,
    "start_time": "2023-04-24T09:30:30.123Z"
   },
   {
    "duration": 1212,
    "start_time": "2023-04-24T09:30:30.128Z"
   },
   {
    "duration": 11,
    "start_time": "2023-04-24T09:30:31.342Z"
   },
   {
    "duration": 102,
    "start_time": "2023-04-24T09:30:31.354Z"
   },
   {
    "duration": 1083,
    "start_time": "2023-04-24T09:30:31.457Z"
   },
   {
    "duration": 12,
    "start_time": "2023-04-24T09:30:32.541Z"
   },
   {
    "duration": 75,
    "start_time": "2023-04-24T09:30:32.554Z"
   },
   {
    "duration": 1131,
    "start_time": "2023-04-24T09:30:32.630Z"
   },
   {
    "duration": 5,
    "start_time": "2023-04-24T09:30:33.763Z"
   }
  ],
  "kernelspec": {
   "display_name": "Python 3 (ipykernel)",
   "language": "python",
   "name": "python3"
  },
  "language_info": {
   "codemirror_mode": {
    "name": "ipython",
    "version": 3
   },
   "file_extension": ".py",
   "mimetype": "text/x-python",
   "name": "python",
   "nbconvert_exporter": "python",
   "pygments_lexer": "ipython3",
   "version": "3.9.5"
  },
  "toc": {
   "base_numbering": 1,
   "nav_menu": {
    "height": "440px",
    "width": "353px"
   },
   "number_sections": true,
   "sideBar": true,
   "skip_h1_title": true,
   "title_cell": "Содержание",
   "title_sidebar": "Contents",
   "toc_cell": true,
   "toc_position": {
    "height": "calc(100% - 180px)",
    "left": "10px",
    "top": "150px",
    "width": "165px"
   },
   "toc_section_display": true,
   "toc_window_display": true
  }
 },
 "nbformat": 4,
 "nbformat_minor": 2
}
