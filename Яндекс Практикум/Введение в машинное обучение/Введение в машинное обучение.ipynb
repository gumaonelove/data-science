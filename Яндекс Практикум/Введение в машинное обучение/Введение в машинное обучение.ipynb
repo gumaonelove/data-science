{
 "cells": [
  {
   "cell_type": "markdown",
   "metadata": {},
   "source": [
    "# Рекомендация тарифов"
   ]
  },
  {
   "cell_type": "markdown",
   "metadata": {},
   "source": [
    "В вашем распоряжении данные о поведении клиентов, которые уже перешли на эти тарифы (из проекта курса «Статистический анализ данных»). Нужно построить модель для задачи классификации, которая выберет подходящий тариф. Предобработка данных не понадобится — вы её уже сделали.\n",
    "\n",
    "Постройте модель с максимально большим значением *accuracy*. Чтобы сдать проект успешно, нужно довести долю правильных ответов по крайней мере до 0.75. Проверьте *accuracy* на тестовой выборке самостоятельно."
   ]
  },
  {
   "cell_type": "markdown",
   "metadata": {},
   "source": [
    "## Откройте и изучите файл"
   ]
  },
  {
   "cell_type": "code",
   "execution_count": 1,
   "metadata": {
    "trusted": true
   },
   "outputs": [],
   "source": [
    "import numpy as np\n",
    "import pandas as pd"
   ]
  },
  {
   "cell_type": "code",
   "execution_count": 2,
   "metadata": {
    "trusted": true
   },
   "outputs": [
    {
     "name": "stdout",
     "output_type": "stream",
     "text": "<class 'pandas.core.frame.DataFrame'>\nRangeIndex: 3214 entries, 0 to 3213\nData columns (total 5 columns):\n #   Column    Non-Null Count  Dtype  \n---  ------    --------------  -----  \n 0   calls     3214 non-null   float64\n 1   minutes   3214 non-null   float64\n 2   messages  3214 non-null   float64\n 3   mb_used   3214 non-null   float64\n 4   is_ultra  3214 non-null   int64  \ndtypes: float64(4), int64(1)\nmemory usage: 125.7 KB\n"
    }
   ],
   "source": [
    "df = pd.read_csv('/datasets/users_behavior.csv')\n",
    "df.info()"
   ]
  },
  {
   "cell_type": "markdown",
   "metadata": {},
   "source": [
    "Пропусков в данных не обноружено"
   ]
  },
  {
   "cell_type": "code",
   "execution_count": 3,
   "metadata": {
    "trusted": true
   },
   "outputs": [
    {
     "data": {
      "text/html": "<div>\n<style scoped>\n    .dataframe tbody tr th:only-of-type {\n        vertical-align: middle;\n    }\n\n    .dataframe tbody tr th {\n        vertical-align: top;\n    }\n\n    .dataframe thead th {\n        text-align: right;\n    }\n</style>\n<table border=\"1\" class=\"dataframe\">\n  <thead>\n    <tr style=\"text-align: right;\">\n      <th></th>\n      <th>calls</th>\n      <th>minutes</th>\n      <th>messages</th>\n      <th>mb_used</th>\n      <th>is_ultra</th>\n    </tr>\n  </thead>\n  <tbody>\n    <tr>\n      <th>0</th>\n      <td>40.0</td>\n      <td>311.90</td>\n      <td>83.0</td>\n      <td>19915.42</td>\n      <td>0</td>\n    </tr>\n    <tr>\n      <th>1</th>\n      <td>85.0</td>\n      <td>516.75</td>\n      <td>56.0</td>\n      <td>22696.96</td>\n      <td>0</td>\n    </tr>\n    <tr>\n      <th>2</th>\n      <td>77.0</td>\n      <td>467.66</td>\n      <td>86.0</td>\n      <td>21060.45</td>\n      <td>0</td>\n    </tr>\n    <tr>\n      <th>3</th>\n      <td>106.0</td>\n      <td>745.53</td>\n      <td>81.0</td>\n      <td>8437.39</td>\n      <td>1</td>\n    </tr>\n    <tr>\n      <th>4</th>\n      <td>66.0</td>\n      <td>418.74</td>\n      <td>1.0</td>\n      <td>14502.75</td>\n      <td>0</td>\n    </tr>\n  </tbody>\n</table>\n</div>",
      "text/plain": "   calls  minutes  messages   mb_used  is_ultra\n0   40.0   311.90      83.0  19915.42         0\n1   85.0   516.75      56.0  22696.96         0\n2   77.0   467.66      86.0  21060.45         0\n3  106.0   745.53      81.0   8437.39         1\n4   66.0   418.74       1.0  14502.75         0"
     },
     "execution_count": 3,
     "metadata": {},
     "output_type": "execute_result"
    }
   ],
   "source": [
    "df.head()"
   ]
  },
  {
   "cell_type": "markdown",
   "metadata": {},
   "source": [
    "Разделим на features (X) and target (y)"
   ]
  },
  {
   "cell_type": "code",
   "execution_count": 4,
   "metadata": {
    "trusted": true
   },
   "outputs": [],
   "source": [
    "X = df.drop(columns=['is_ultra'])\n",
    "y = df['is_ultra']"
   ]
  },
  {
   "cell_type": "markdown",
   "metadata": {},
   "source": [
    "Соотношение классов"
   ]
  },
  {
   "cell_type": "code",
   "execution_count": 5,
   "metadata": {
    "trusted": true
   },
   "outputs": [
    {
     "data": {
      "text/plain": "0    2229\n1     985\nName: is_ultra, dtype: int64"
     },
     "execution_count": 5,
     "metadata": {},
     "output_type": "execute_result"
    }
   ],
   "source": [
    "y.value_counts()"
   ]
  },
  {
   "cell_type": "code",
   "execution_count": 6,
   "metadata": {
    "trusted": true
   },
   "outputs": [
    {
     "data": {
      "text/plain": "0    69.352831\n1    30.647169\nName: is_ultra, dtype: float64"
     },
     "execution_count": 6,
     "metadata": {},
     "output_type": "execute_result"
    }
   ],
   "source": [
    "y.value_counts() / y.shape[0] * 100"
   ]
  },
  {
   "cell_type": "markdown",
   "metadata": {},
   "source": [
    "Посмотрим на гистограмы распеределения данных"
   ]
  },
  {
   "cell_type": "code",
   "execution_count": 7,
   "metadata": {
    "trusted": true
   },
   "outputs": [
    {
     "data": {
      "image/png": "[encoded data removed]",
      "text/plain": "<Figure size 432x288 with 4 Axes>"
     },
     "metadata": {
      "needs_background": "light"
     },
     "output_type": "display_data"
    }
   ],
   "source": [
    "X.hist()\n",
    "None"
   ]
  },
  {
   "cell_type": "markdown",
   "metadata": {},
   "source": [
    "1) **calls** Имеет нормальное распределение данных со смещением в лево\n",
    "\n",
    "2) **minutes** Имеет нормальное распределение данных со смещением в лево\n",
    "\n",
    "3) **messages** Имеет пауссоновское распределение данных\n",
    "\n",
    "4) **mb_used** Имеет нормальное распределение данных"
   ]
  },
  {
   "cell_type": "markdown",
   "metadata": {},
   "source": [
    "Задача - бинарная классификация, обучение с учителем, так же хочу заметить что классы не сбалансированы"
   ]
  },
  {
   "cell_type": "markdown",
   "metadata": {},
   "source": [
    "**Кореляция признаков**"
   ]
  },
  {
   "cell_type": "code",
   "execution_count": 8,
   "metadata": {
    "trusted": true
   },
   "outputs": [],
   "source": [
    "import seaborn as sns"
   ]
  },
  {
   "cell_type": "code",
   "execution_count": 9,
   "metadata": {
    "trusted": true
   },
   "outputs": [
    {
     "data": {
      "image/png": "[encoded data removed]",
      "text/plain": "<Figure size 432x288 with 2 Axes>"
     },
     "metadata": {
      "needs_background": "light"
     },
     "output_type": "display_data"
    }
   ],
   "source": [
    "sns.heatmap(X.corr())\n",
    "None"
   ]
  },
  {
   "cell_type": "markdown",
   "metadata": {},
   "source": [
    "Заметим, что количество звонков коррелирует с количеством минут, оставим только признак \"количество минут\" и удалим признак \"количество звонков\""
   ]
  },
  {
   "cell_type": "code",
   "execution_count": 10,
   "metadata": {
    "trusted": true
   },
   "outputs": [],
   "source": [
    "X = X.drop(columns=['calls'])"
   ]
  },
  {
   "cell_type": "markdown",
   "metadata": {},
   "source": [
    "## Разбейте данные на выборки"
   ]
  },
  {
   "cell_type": "markdown",
   "metadata": {},
   "source": [
    "Будем следовать соотношению\n",
    "* train 60%\n",
    "* valid 20%\n",
    "* test 20%"
   ]
  },
  {
   "cell_type": "code",
   "execution_count": 11,
   "metadata": {
    "trusted": true
   },
   "outputs": [],
   "source": [
    "from sklearn.model_selection import train_test_split"
   ]
  },
  {
   "cell_type": "code",
   "execution_count": 12,
   "metadata": {
    "trusted": true
   },
   "outputs": [],
   "source": [
    "X_train_valid, X_test, y_train_valid, y_test = train_test_split(X, y, test_size=0.2, random_state=42)\n",
    "X_train, X_valid, y_train, y_valid = train_test_split(X_train_valid, y_train_valid, test_size=0.2, random_state=42)"
   ]
  },
  {
   "cell_type": "markdown",
   "metadata": {},
   "source": [
    "## Исследуйте модели"
   ]
  },
  {
   "cell_type": "markdown",
   "metadata": {},
   "source": [
    "Решение задачи бинарной классификации будет выполняться следующими алгоритмами:\n",
    "1) Логистической регрессии\n",
    "\n",
    "2) Метод ближайших соседей\n",
    "\n",
    "3) Решающий лес\n",
    "\n",
    "4) Опорные вектора\n",
    "\n",
    "5) Градиентный бустинг (Catboost)\n",
    "\n",
    "6) Ансамблирование\n",
    "\n",
    "7) Наивный байесовский классификатор\n",
    "\n",
    "8) Линейный дискриминантный анализ\n",
    "\n",
    "9) Multi-layer Perceptron (MLP)\n",
    "\n",
    "Качество модели будем определять по accuracy (как требуют в задании).\n",
    "Учитывая что классы в задании не сбалансированы\n",
    "* 0 (70%)\n",
    "* 1 (30%)\n",
    "Если везде ставить 0 то accuracy будет 0.7\n",
    "\n",
    "Поэтому я буду так же оценивать полноту, точность и f1 меру"
   ]
  },
  {
   "cell_type": "code",
   "execution_count": 13,
   "metadata": {
    "trusted": true
   },
   "outputs": [],
   "source": [
    "from sklearn.metrics import classification_report"
   ]
  },
  {
   "cell_type": "code",
   "execution_count": 14,
   "metadata": {
    "trusted": true
   },
   "outputs": [],
   "source": [
    "def get_report_of_model(_title, _model, _X_train, _y_train, _X_test, _y_test) -> None:\n",
    "    '''\n",
    "    1) Обучаем полученную модель\n",
    "    2) Делаем предсказание\n",
    "    3) Считаем метрики\n",
    "    '''\n",
    "    _model.fit(_X_train, _y_train)\n",
    "    _y_pred = _model.predict(_X_test)\n",
    "    report = classification_report(_y_test, _y_pred)\n",
    "    print(_title)\n",
    "    print(report)"
   ]
  },
  {
   "cell_type": "markdown",
   "metadata": {},
   "source": [
    "Список результатов моделей"
   ]
  },
  {
   "cell_type": "code",
   "execution_count": 15,
   "metadata": {
    "trusted": true
   },
   "outputs": [],
   "source": [
    "results = []"
   ]
  },
  {
   "cell_type": "markdown",
   "metadata": {},
   "source": [
    "### 1 Логистическая регрессия"
   ]
  },
  {
   "cell_type": "code",
   "execution_count": 16,
   "metadata": {
    "trusted": true
   },
   "outputs": [],
   "source": [
    "from sklearn.linear_model import LogisticRegression"
   ]
  },
  {
   "cell_type": "code",
   "execution_count": 1,
   "metadata": {
    "trusted": true
   },
   "outputs": [
    {
     "ename": "NameError",
     "evalue": "name 'LogisticRegression' is not defined",
     "output_type": "error",
     "traceback": [
      "\u001B[0;31m---------------------------------------------------------------------------\u001B[0m",
      "\u001B[0;31mNameError\u001B[0m                                 Traceback (most recent call last)",
      "\u001B[0;32m/var/folders/jl/6gw5l36x7tv9jxp646h_lhn40000gn/T/ipykernel_3369/1810031401.py\u001B[0m in \u001B[0;36m<module>\u001B[0;34m\u001B[0m\n\u001B[0;32m----> 1\u001B[0;31m \u001B[0mlog_reg\u001B[0m \u001B[0;34m=\u001B[0m \u001B[0mLogisticRegression\u001B[0m\u001B[0;34m(\u001B[0m\u001B[0mrandom_state\u001B[0m\u001B[0;34m=\u001B[0m\u001B[0;36m42\u001B[0m\u001B[0;34m)\u001B[0m\u001B[0;34m\u001B[0m\u001B[0;34m\u001B[0m\u001B[0m\n\u001B[0m\u001B[1;32m      2\u001B[0m \u001B[0mget_report_of_model\u001B[0m\u001B[0;34m(\u001B[0m\u001B[0;34m'Логистическая регрессия, ненормализованные данные'\u001B[0m\u001B[0;34m,\u001B[0m \u001B[0mlog_reg\u001B[0m\u001B[0;34m,\u001B[0m \u001B[0mX_train\u001B[0m\u001B[0;34m,\u001B[0m \u001B[0my_train\u001B[0m\u001B[0;34m,\u001B[0m \u001B[0mX_valid\u001B[0m\u001B[0;34m,\u001B[0m \u001B[0my_valid\u001B[0m\u001B[0;34m)\u001B[0m\u001B[0;34m\u001B[0m\u001B[0;34m\u001B[0m\u001B[0m\n",
      "\u001B[0;31mNameError\u001B[0m: name 'LogisticRegression' is not defined"
     ]
    }
   ],
   "source": [
    "log_reg = LogisticRegression(random_state=42)\n",
    "get_report_of_model('Логистическая регрессия, ненормализованные данные', log_reg, X_train, y_train, X_valid, y_valid)"
   ]
  },
  {
   "cell_type": "markdown",
   "metadata": {},
   "source": [
    "Нормализуем данные"
   ]
  },
  {
   "cell_type": "markdown",
   "metadata": {},
   "source": [
    "from sklearn.preprocessing import Normalizer"
   ]
  },
  {
   "cell_type": "markdown",
   "metadata": {},
   "source": [
    "transformer = Normalizer().fit(X_train)\n",
    "X_train_normalize = transformer.transform(X_train)\n",
    "\n",
    "transformer = Normalizer().fit(X_valid)\n",
    "X_valid_normalize = transformer.transform(X_valid)"
   ]
  },
  {
   "cell_type": "markdown",
   "metadata": {},
   "source": [
    "log_reg = LogisticRegression(random_state=42)\n",
    "get_report_of_model('Логистическая регрессия, нормализованные данные',\n",
    "                    log_reg, X_train_normalize, y_train, X_valid_normalize, y_valid)"
   ]
  },
  {
   "cell_type": "markdown",
   "metadata": {},
   "source": [
    "Нормализованные данные не показали улучшений метрик"
   ]
  },
  {
   "cell_type": "code",
   "execution_count": 18,
   "metadata": {
    "trusted": true
   },
   "outputs": [],
   "source": [
    "results.append({\n",
    "    'Название модели': 'Логистическая регрессия',\n",
    "    'precision': (0.74 + 0.80) / 2,\n",
    "    'recal': (0.97 + 0.22) / 2,\n",
    "    'f1-score': (0.84 + 0.35) / 2,\n",
    "    'accuracy': 0.75\n",
    "})"
   ]
  },
  {
   "cell_type": "markdown",
   "metadata": {},
   "source": [
    "### 2 Метод ближайших соседей"
   ]
  },
  {
   "cell_type": "code",
   "execution_count": 19,
   "metadata": {
    "trusted": true
   },
   "outputs": [],
   "source": [
    "from sklearn.cluster import KMeans"
   ]
  },
  {
   "cell_type": "code",
   "execution_count": 20,
   "metadata": {
    "trusted": true
   },
   "outputs": [
    {
     "name": "stdout",
     "output_type": "stream",
     "text": "Метод ближайших соседей, ненормализованные данные\n              precision    recall  f1-score   support\n\n           0       0.76      0.60      0.67       358\n           1       0.39      0.57      0.46       157\n\n    accuracy                           0.59       515\n   macro avg       0.58      0.59      0.57       515\nweighted avg       0.65      0.59      0.61       515\n\n"
    }
   ],
   "source": [
    "km = KMeans(n_clusters=2, random_state=42)\n",
    "get_report_of_model('Метод ближайших соседей, ненормализованные данные', km, X_train, y_train, X_valid, y_valid)"
   ]
  },
  {
   "cell_type": "markdown",
   "metadata": {},
   "source": [
    "Результат хуже, чем у логистической регрессии"
   ]
  },
  {
   "cell_type": "code",
   "execution_count": 21,
   "metadata": {
    "trusted": true
   },
   "outputs": [],
   "source": [
    "results.append({\n",
    "    'Название модели': 'Метод ближайших соседей',\n",
    "    'precision': (0.76 + 0.39) / 2,\n",
    "    'recal': (0.60 + 0.57) / 2,\n",
    "    'f1-score': (0.67 + 0.46) / 2,\n",
    "    'accuracy': 0.59\n",
    "})"
   ]
  },
  {
   "cell_type": "markdown",
   "metadata": {},
   "source": [
    "### 3 Деревья"
   ]
  },
  {
   "cell_type": "markdown",
   "metadata": {},
   "source": [
    "Подбор гипер параметров, таких как\n",
    "1) Максимальная глубина\n",
    "\n",
    "2) Минимальное количество образцов необходимое для разделения\n",
    "\n",
    "3) Минимальное количество образцов, необходимое для нахождения в листовом узле\n",
    "\n",
    "4) Количество деревьев"
   ]
  },
  {
   "cell_type": "code",
   "execution_count": 22,
   "metadata": {
    "trusted": true
   },
   "outputs": [],
   "source": [
    "from tqdm.notebook import tqdm\n",
    "from sklearn.metrics import f1_score\n",
    "import seaborn as sns"
   ]
  },
  {
   "cell_type": "code",
   "execution_count": 23,
   "metadata": {
    "trusted": true
   },
   "outputs": [],
   "source": [
    "def plot_fitting_curve(_model, _parameter: str, _values: list, _X_train, _X_valid, _y_train, _y_valid):\n",
    "    train_curve, valid_curve = [], []\n",
    "    for value in tqdm(_values):\n",
    "        model = _model(**{_parameter: value})\n",
    "        model.fit(_X_train, _y_train)\n",
    "        y_pred_train, y_pred_test = model.predict(_X_train), model.predict(_X_valid)\n",
    "        train_curve.append(f1_score(_y_train, y_pred_train, average='weighted'))\n",
    "        valid_curve.append(f1_score(_y_valid, y_pred_test, average='weighted'))\n",
    "    sns.lineplot(x=_values, y=train_curve, label=\"Train\").set_title(_parameter)\n",
    "    sns.lineplot(x=_values, y=valid_curve, label=\"Valid\")"
   ]
  },
  {
   "cell_type": "markdown",
   "metadata": {},
   "source": [
    "#### 3.1 Решающее дерево"
   ]
  },
  {
   "cell_type": "code",
   "execution_count": 24,
   "metadata": {
    "trusted": true
   },
   "outputs": [],
   "source": [
    "from sklearn.tree import DecisionTreeClassifier"
   ]
  },
  {
   "cell_type": "markdown",
   "metadata": {},
   "source": [
    "##### 3.1.1 Максимальная глубина"
   ]
  },
  {
   "cell_type": "code",
   "execution_count": 25,
   "metadata": {
    "trusted": true
   },
   "outputs": [
    {
     "data": {
      "application/vnd.jupyter.widget-view+json": {
       "model_id": "b0c0441609624e2e8489cee38885c71f",
       "version_major": 2,
       "version_minor": 0
      },
      "text/plain": "  0%|          | 0/9 [00:00<?, ?it/s]"
     },
     "metadata": {},
     "output_type": "display_data"
    },
    {
     "data": {
      "image/png": "[encoded data removed]",
      "text/plain": "<Figure size 432x288 with 1 Axes>"
     },
     "metadata": {
      "needs_background": "light"
     },
     "output_type": "display_data"
    }
   ],
   "source": [
    "plot_fitting_curve(\n",
    "    _model=DecisionTreeClassifier,\n",
    "    _parameter='max_depth',\n",
    "    _values=list(range(1, 10)),\n",
    "    _X_train=X_train,\n",
    "    _X_valid=X_valid,\n",
    "    _y_train=y_train,\n",
    "    _y_valid=y_valid\n",
    ")"
   ]
  },
  {
   "cell_type": "markdown",
   "metadata": {},
   "source": [
    "Максимальная глубина дерева 3"
   ]
  },
  {
   "cell_type": "markdown",
   "metadata": {},
   "source": [
    "##### 3.1.2 Минимальное количество образцов необходимое для разделения"
   ]
  },
  {
   "cell_type": "code",
   "execution_count": 26,
   "metadata": {
    "trusted": true
   },
   "outputs": [
    {
     "data": {
      "application/vnd.jupyter.widget-view+json": {
       "model_id": "a98031263ec1438694b6cf0c2ed519ef",
       "version_major": 2,
       "version_minor": 0
      },
      "text/plain": "  0%|          | 0/398 [00:00<?, ?it/s]"
     },
     "metadata": {},
     "output_type": "display_data"
    },
    {
     "data": {
      "image/png": "[encoded data removed]",
      "text/plain": "<Figure size 432x288 with 1 Axes>"
     },
     "metadata": {
      "needs_background": "light"
     },
     "output_type": "display_data"
    }
   ],
   "source": [
    "plot_fitting_curve(\n",
    "    _model=DecisionTreeClassifier,\n",
    "    _parameter='min_samples_split',\n",
    "    _values=list(range(2, 400)),\n",
    "    _X_train=X_train,\n",
    "    _X_valid=X_valid,\n",
    "    _y_train=y_train,\n",
    "    _y_valid=y_valid\n",
    ")"
   ]
  },
  {
   "cell_type": "markdown",
   "metadata": {},
   "source": [
    "Минимальное количество образцов необходимое для разделения = 110"
   ]
  },
  {
   "cell_type": "markdown",
   "metadata": {},
   "source": [
    "##### 3.1.3 Минимальное количество образцов, необходимое для нахождения в листовом узле"
   ]
  },
  {
   "cell_type": "code",
   "execution_count": 27,
   "metadata": {
    "trusted": true
   },
   "outputs": [
    {
     "data": {
      "application/vnd.jupyter.widget-view+json": {
       "model_id": "9b1d40b581974e8880f6f1971aa6a3ca",
       "version_major": 2,
       "version_minor": 0
      },
      "text/plain": "  0%|          | 0/69 [00:00<?, ?it/s]"
     },
     "metadata": {},
     "output_type": "display_data"
    },
    {
     "data": {
      "image/png": "[encoded data removed]",
      "text/plain": "<Figure size 432x288 with 1 Axes>"
     },
     "metadata": {
      "needs_background": "light"
     },
     "output_type": "display_data"
    }
   ],
   "source": [
    "plot_fitting_curve(\n",
    "    _model=DecisionTreeClassifier,\n",
    "    _parameter='min_samples_leaf',\n",
    "    _values=list(range(1, 70)),\n",
    "    _X_train=X_train,\n",
    "    _X_valid=X_valid,\n",
    "    _y_train=y_train,\n",
    "    _y_valid=y_valid\n",
    ")"
   ]
  },
  {
   "cell_type": "markdown",
   "metadata": {},
   "source": [
    "Минимальное количество образцов, необходимое для нахождения в листовом узле = 20"
   ]
  },
  {
   "cell_type": "code",
   "execution_count": 28,
   "metadata": {
    "trusted": true
   },
   "outputs": [
    {
     "name": "stdout",
     "output_type": "stream",
     "text": "Решающее дерево\n              precision    recall  f1-score   support\n\n           0       0.81      0.92      0.86       358\n           1       0.75      0.51      0.61       157\n\n    accuracy                           0.80       515\n   macro avg       0.78      0.72      0.74       515\nweighted avg       0.79      0.80      0.79       515\n\n"
    }
   ],
   "source": [
    "dtc = DecisionTreeClassifier(max_depth=3, min_samples_split=110, min_samples_leaf=20, random_state=42)\n",
    "get_report_of_model('Решающее дерево', dtc, X_train, y_train, X_valid, y_valid)"
   ]
  },
  {
   "cell_type": "markdown",
   "metadata": {},
   "source": [
    "На данный момент самый лучший результат"
   ]
  },
  {
   "cell_type": "code",
   "execution_count": 29,
   "metadata": {
    "trusted": true
   },
   "outputs": [],
   "source": [
    "results.append({\n",
    "    'Название модели': 'Решающее дерево',\n",
    "    'precision': (0.81 + 0.75) / 2,\n",
    "    'recal': (0.92 + 0.51) / 2,\n",
    "    'f1-score': (0.86 + 0.61) / 2,\n",
    "    'accuracy': 0.80\n",
    "})"
   ]
  },
  {
   "cell_type": "markdown",
   "metadata": {},
   "source": [
    "#### 3.2 Решающий лес"
   ]
  },
  {
   "cell_type": "code",
   "execution_count": 30,
   "metadata": {
    "trusted": true
   },
   "outputs": [],
   "source": [
    "from sklearn.ensemble import RandomForestClassifier"
   ]
  },
  {
   "cell_type": "markdown",
   "metadata": {},
   "source": [
    "##### 3.2.1 Максимальная глубина"
   ]
  },
  {
   "cell_type": "code",
   "execution_count": 31,
   "metadata": {
    "trusted": true
   },
   "outputs": [
    {
     "data": {
      "application/vnd.jupyter.widget-view+json": {
       "model_id": "1916ddb6bf4a4e28b831708d26374e09",
       "version_major": 2,
       "version_minor": 0
      },
      "text/plain": "  0%|          | 0/19 [00:00<?, ?it/s]"
     },
     "metadata": {},
     "output_type": "display_data"
    },
    {
     "data": {
      "image/png": "[encoded data removed]",
      "text/plain": "<Figure size 432x288 with 1 Axes>"
     },
     "metadata": {
      "needs_background": "light"
     },
     "output_type": "display_data"
    }
   ],
   "source": [
    "plot_fitting_curve(\n",
    "    _model=RandomForestClassifier,\n",
    "    _parameter='max_depth',\n",
    "    _values=list(range(1, 20)),\n",
    "    _X_train=X_train,\n",
    "    _X_valid=X_valid,\n",
    "    _y_train=y_train,\n",
    "    _y_valid=y_valid\n",
    ")"
   ]
  },
  {
   "cell_type": "markdown",
   "metadata": {},
   "source": [
    "Максимальная глубина = 5"
   ]
  },
  {
   "cell_type": "markdown",
   "metadata": {},
   "source": [
    "##### 3.2.2 Минимальное количество образцов необходимое для разделения"
   ]
  },
  {
   "cell_type": "code",
   "execution_count": 32,
   "metadata": {
    "trusted": true
   },
   "outputs": [
    {
     "data": {
      "application/vnd.jupyter.widget-view+json": {
       "model_id": "19cb8c0065a547579c2b18ac39639f91",
       "version_major": 2,
       "version_minor": 0
      },
      "text/plain": "  0%|          | 0/98 [00:00<?, ?it/s]"
     },
     "metadata": {},
     "output_type": "display_data"
    },
    {
     "data": {
      "image/png": "[encoded data removed]",
      "text/plain": "<Figure size 432x288 with 1 Axes>"
     },
     "metadata": {
      "needs_background": "light"
     },
     "output_type": "display_data"
    }
   ],
   "source": [
    "plot_fitting_curve(\n",
    "    _model=RandomForestClassifier,\n",
    "    _parameter='min_samples_split',\n",
    "    _values=list(range(2, 100)),\n",
    "    _X_train=X_train,\n",
    "    _X_valid=X_valid,\n",
    "    _y_train=y_train,\n",
    "    _y_valid=y_valid\n",
    ")"
   ]
  },
  {
   "cell_type": "markdown",
   "metadata": {},
   "source": [
    "Минимальное количество образцов необходимое для разделения = 90"
   ]
  },
  {
   "cell_type": "markdown",
   "metadata": {},
   "source": [
    "##### 3.2.3 Минимальное количество образцов, необходимое для нахождения в листовом узле"
   ]
  },
  {
   "cell_type": "code",
   "execution_count": 33,
   "metadata": {
    "trusted": true
   },
   "outputs": [
    {
     "data": {
      "application/vnd.jupyter.widget-view+json": {
       "model_id": "23c9e69f49c44e50af5286d0597fa76c",
       "version_major": 2,
       "version_minor": 0
      },
      "text/plain": "  0%|          | 0/19 [00:00<?, ?it/s]"
     },
     "metadata": {},
     "output_type": "display_data"
    },
    {
     "data": {
      "image/png": "[encoded data removed]",
      "text/plain": "<Figure size 432x288 with 1 Axes>"
     },
     "metadata": {
      "needs_background": "light"
     },
     "output_type": "display_data"
    }
   ],
   "source": [
    "plot_fitting_curve(\n",
    "    _model=RandomForestClassifier,\n",
    "    _parameter='min_samples_leaf',\n",
    "    _values=list(range(1, 20)),\n",
    "    _X_train=X_train,\n",
    "    _X_valid=X_valid,\n",
    "    _y_train=y_train,\n",
    "    _y_valid=y_valid\n",
    ")"
   ]
  },
  {
   "cell_type": "markdown",
   "metadata": {},
   "source": [
    "Минимальное количество образцов, необходимое для нахождения в листовом узле = 13"
   ]
  },
  {
   "cell_type": "markdown",
   "metadata": {},
   "source": [
    "##### 3.2.4 Количество деревьев"
   ]
  },
  {
   "cell_type": "code",
   "execution_count": 34,
   "metadata": {
    "trusted": true
   },
   "outputs": [
    {
     "data": {
      "application/vnd.jupyter.widget-view+json": {
       "model_id": "cfb692fd895e4af89ae43ecb35ea9e2c",
       "version_major": 2,
       "version_minor": 0
      },
      "text/plain": "  0%|          | 0/19 [00:00<?, ?it/s]"
     },
     "metadata": {},
     "output_type": "display_data"
    },
    {
     "data": {
      "image/png": "[encoded data removed]",
      "text/plain": "<Figure size 432x288 with 1 Axes>"
     },
     "metadata": {
      "needs_background": "light"
     },
     "output_type": "display_data"
    }
   ],
   "source": [
    "plot_fitting_curve(\n",
    "    _model=RandomForestClassifier,\n",
    "    _parameter='n_estimators',\n",
    "    _values=list(range(1, 20)),\n",
    "    _X_train=X_train,\n",
    "    _X_valid=X_valid,\n",
    "    _y_train=y_train,\n",
    "    _y_valid=y_valid\n",
    ")"
   ]
  },
  {
   "cell_type": "markdown",
   "metadata": {},
   "source": [
    "Количество деревьев = 8"
   ]
  },
  {
   "cell_type": "code",
   "execution_count": 35,
   "metadata": {
    "trusted": true
   },
   "outputs": [
    {
     "name": "stdout",
     "output_type": "stream",
     "text": "Решающие деревья\n              precision    recall  f1-score   support\n\n           0       0.79      0.96      0.87       358\n           1       0.81      0.42      0.55       157\n\n    accuracy                           0.79       515\n   macro avg       0.80      0.69      0.71       515\nweighted avg       0.80      0.79      0.77       515\n\n"
    }
   ],
   "source": [
    "dfc = RandomForestClassifier(max_depth=5, min_samples_split=90, min_samples_leaf=13, random_state=42, n_estimators=8)\n",
    "get_report_of_model('Решающие деревья', dfc, X_train, y_train, X_valid, y_valid)"
   ]
  },
  {
   "cell_type": "markdown",
   "metadata": {},
   "source": [
    "Наилучшие результаты на данный момент (немного лучше чем у решающего дерева)"
   ]
  },
  {
   "cell_type": "code",
   "execution_count": 36,
   "metadata": {
    "trusted": true
   },
   "outputs": [],
   "source": [
    "results.append({\n",
    "    'Название модели': 'Решающие деревья',\n",
    "    'precision': (0.79 + 0.81) / 2,\n",
    "    'recal': (0.96 + 0.42) / 2,\n",
    "    'f1-score': (0.87 + 0.55) / 2,\n",
    "    'accuracy': 0.79\n",
    "})"
   ]
  },
  {
   "cell_type": "markdown",
   "metadata": {},
   "source": [
    "### 3.3 Автоматический подбор гипер параметров c помощью optuna"
   ]
  },
  {
   "cell_type": "code",
   "execution_count": 37,
   "metadata": {
    "scrolled": false,
    "trusted": true
   },
   "outputs": [
    {
     "name": "stdout",
     "output_type": "stream",
     "text": "Collecting optuna\n  Downloading optuna-3.1.0-py3-none-any.whl (365 kB)\n\u001B[K     |████████████████████████████████| 365 kB 1.2 MB/s eta 0:00:01\n\u001B[?25hCollecting colorlog\n  Downloading colorlog-6.7.0-py2.py3-none-any.whl (11 kB)\nCollecting cmaes>=0.9.1\n  Downloading cmaes-0.9.1-py3-none-any.whl (21 kB)\nRequirement already satisfied: packaging>=20.0 in /opt/conda/lib/python3.9/site-packages (from optuna) (21.3)\nRequirement already satisfied: sqlalchemy>=1.3.0 in /opt/conda/lib/python3.9/site-packages (from optuna) (1.4.20)\nRequirement already satisfied: PyYAML in /opt/conda/lib/python3.9/site-packages (from optuna) (6.0)\nRequirement already satisfied: numpy in /opt/conda/lib/python3.9/site-packages (from optuna) (1.21.1)\nRequirement already satisfied: tqdm in /opt/conda/lib/python3.9/site-packages (from optuna) (4.61.2)\nRequirement already satisfied: alembic>=1.5.0 in /opt/conda/lib/python3.9/site-packages (from optuna) (1.6.5)\nRequirement already satisfied: Mako in /opt/conda/lib/python3.9/site-packages (from alembic>=1.5.0->optuna) (1.1.4)\nRequirement already satisfied: python-editor>=0.3 in /opt/conda/lib/python3.9/site-packages (from alembic>=1.5.0->optuna) (1.0.4)\nRequirement already satisfied: python-dateutil in /opt/conda/lib/python3.9/site-packages (from alembic>=1.5.0->optuna) (2.8.1)\nRequirement already satisfied: pyparsing!=3.0.5,>=2.0.2 in /opt/conda/lib/python3.9/site-packages (from packaging>=20.0->optuna) (2.4.7)\nRequirement already satisfied: greenlet!=0.4.17 in /opt/conda/lib/python3.9/site-packages (from sqlalchemy>=1.3.0->optuna) (1.1.0)\nRequirement already satisfied: MarkupSafe>=0.9.2 in /opt/conda/lib/python3.9/site-packages (from Mako->alembic>=1.5.0->optuna) (2.1.1)\nRequirement already satisfied: six>=1.5 in /opt/conda/lib/python3.9/site-packages (from python-dateutil->alembic>=1.5.0->optuna) (1.16.0)\nInstalling collected packages: colorlog, cmaes, optuna\nSuccessfully installed cmaes-0.9.1 colorlog-6.7.0 optuna-3.1.0\n"
    }
   ],
   "source": [
    "!pip install optuna\n",
    "import optuna"
   ]
  },
  {
   "cell_type": "markdown",
   "metadata": {},
   "source": [
    "<div class=\"alert alert-success\">\n",
    "<b>КОММЕНТАРИЙ V2</b>\n",
    "\n",
    "Булат, с этой библиотекой я не знаком .... Судя по коду она помогает подбирать гиперпараметры. Но автоматизированный перебор по сетке на мой взгляд не хуже. Хотя повторюсь - с optuna я не сталкивался, возможно у неё ещё какие-то есть мощные бонусы для использования.\n",
    "</div>"
   ]
  },
  {
   "cell_type": "code",
   "execution_count": 38,
   "metadata": {
    "trusted": true
   },
   "outputs": [
    {
     "name": "stderr",
     "output_type": "stream",
     "text": "/tmp/ipykernel_115/2429947983.py:7: ExperimentalWarning: OptunaSearchCV is experimental (supported from v0.17.0). The interface can change in the future.\n  optuna_search = optuna.integration.OptunaSearchCV(RandomForestClassifier(), param_distributions)\n\u001B[32m[I 2023-03-09 12:50:30,377]\u001B[0m A new study created in memory with name: no-name-494af93b-4c0e-486e-ac92-5d877ad29501\u001B[0m\n\u001B[32m[I 2023-03-09 12:50:30,469]\u001B[0m Trial 0 finished with value: 0.783579004559091 and parameters: {'max_depth': 4, 'min_samples_split': 58, 'min_samples_leaf': 14, 'n_estimators': 4}. Best is trial 0 with value: 0.783579004559091.\u001B[0m\n\u001B[32m[I 2023-03-09 12:50:30,620]\u001B[0m Trial 1 finished with value: 0.7680131339616848 and parameters: {'max_depth': 29, 'min_samples_split': 95, 'min_samples_leaf': 86, 'n_estimators': 9}. Best is trial 0 with value: 0.783579004559091.\u001B[0m\n\u001B[32m[I 2023-03-09 12:50:30,795]\u001B[0m Trial 2 finished with value: 0.7757990220395437 and parameters: {'max_depth': 4, 'min_samples_split': 87, 'min_samples_leaf': 96, 'n_estimators': 15}. Best is trial 0 with value: 0.783579004559091.\u001B[0m\n\u001B[32m[I 2023-03-09 12:50:30,995]\u001B[0m Trial 3 finished with value: 0.7938003448846054 and parameters: {'max_depth': 6, 'min_samples_split': 22, 'min_samples_leaf': 9, 'n_estimators': 15}. Best is trial 3 with value: 0.7938003448846054.\u001B[0m\n\u001B[32m[I 2023-03-09 12:50:31,135]\u001B[0m Trial 4 finished with value: 0.7840703470106064 and parameters: {'max_depth': 26, 'min_samples_split': 41, 'min_samples_leaf': 59, 'n_estimators': 10}. Best is trial 3 with value: 0.7938003448846054.\u001B[0m\n\u001B[32m[I 2023-03-09 12:50:31,377]\u001B[0m Trial 5 finished with value: 0.8083953416956039 and parameters: {'max_depth': 18, 'min_samples_split': 46, 'min_samples_leaf': 5, 'n_estimators': 17}. Best is trial 5 with value: 0.8083953416956039.\u001B[0m\n\u001B[32m[I 2023-03-09 12:50:31,572]\u001B[0m Trial 6 finished with value: 0.7913672548602745 and parameters: {'max_depth': 27, 'min_samples_split': 38, 'min_samples_leaf': 29, 'n_estimators': 12}. Best is trial 5 with value: 0.8083953416956039.\u001B[0m\n\u001B[32m[I 2023-03-09 12:50:31,711]\u001B[0m Trial 7 finished with value: 0.7772600571658044 and parameters: {'max_depth': 25, 'min_samples_split': 27, 'min_samples_leaf': 63, 'n_estimators': 10}. Best is trial 5 with value: 0.8083953416956039.\u001B[0m\n\u001B[32m[I 2023-03-09 12:50:31,951]\u001B[0m Trial 8 finished with value: 0.7996350364963504 and parameters: {'max_depth': 21, 'min_samples_split': 12, 'min_samples_leaf': 7, 'n_estimators': 17}. Best is trial 5 with value: 0.8083953416956039.\u001B[0m\n\u001B[32m[I 2023-03-09 12:50:32,173]\u001B[0m Trial 9 finished with value: 0.7860144568067465 and parameters: {'max_depth': 15, 'min_samples_split': 42, 'min_samples_leaf': 62, 'n_estimators': 19}. Best is trial 5 with value: 0.8083953416956039.\u001B[0m\n"
    },
    {
     "name": "stdout",
     "output_type": "stream",
     "text": "optuna Решающие деревья\n              precision    recall  f1-score   support\n\n           0       0.83      0.92      0.87       358\n           1       0.76      0.56      0.64       157\n\n    accuracy                           0.81       515\n   macro avg       0.79      0.74      0.76       515\nweighted avg       0.81      0.81      0.80       515\n\n"
    }
   ],
   "source": [
    "param_distributions = {\n",
    "    \"max_depth\": optuna.distributions.IntDistribution(1, 30, step=1, log=False),\n",
    "    'min_samples_split': optuna.distributions.IntDistribution(2, 100, step=1, log=False),\n",
    "    'min_samples_leaf': optuna.distributions.IntDistribution(1, 100, step=1, log=False),\n",
    "    'n_estimators': optuna.distributions.IntDistribution(1, 20, step=1, log=False)\n",
    "}\n",
    "optuna_search = optuna.integration.OptunaSearchCV(RandomForestClassifier(), param_distributions)\n",
    "get_report_of_model('optuna Решающие деревья', optuna_search, X_train, y_train, X_valid, y_valid)"
   ]
  },
  {
   "cell_type": "markdown",
   "metadata": {},
   "source": [
    "Результаты после применения optuna оказались примерно одинаковыми, что и после ручного поиска гиперпараметров"
   ]
  },
  {
   "cell_type": "code",
   "execution_count": 39,
   "metadata": {
    "trusted": true
   },
   "outputs": [],
   "source": [
    "results.append({\n",
    "    'Название модели': 'optuna Решающие деревья',\n",
    "    'precision': (0.83 + 0.76) / 2,\n",
    "    'recal': (0.92 + 0.55) / 2,\n",
    "    'f1-score': (0.87 + 0.64) / 2,\n",
    "    'accuracy': 0.81\n",
    "})"
   ]
  },
  {
   "cell_type": "markdown",
   "metadata": {},
   "source": [
    "### 4 Опорные вектора"
   ]
  },
  {
   "cell_type": "code",
   "execution_count": 40,
   "metadata": {
    "trusted": true
   },
   "outputs": [],
   "source": [
    "from sklearn import svm"
   ]
  },
  {
   "cell_type": "code",
   "execution_count": 41,
   "metadata": {
    "trusted": true
   },
   "outputs": [
    {
     "name": "stdout",
     "output_type": "stream",
     "text": "Метод опорных векторов\n              precision    recall  f1-score   support\n\n           0       0.74      0.98      0.84       358\n           1       0.81      0.22      0.35       157\n\n    accuracy                           0.75       515\n   macro avg       0.78      0.60      0.60       515\nweighted avg       0.76      0.75      0.69       515\n\n"
    }
   ],
   "source": [
    "svc = svm.SVC()\n",
    "get_report_of_model('Метод опорных векторов', svc, X_train, y_train, X_valid, y_valid)"
   ]
  },
  {
   "cell_type": "code",
   "execution_count": 42,
   "metadata": {
    "trusted": true
   },
   "outputs": [],
   "source": [
    "results.append({\n",
    "    'Название модели': 'Метод опорных векторов',\n",
    "    'precision': (0.74 + 0.81) / 2,\n",
    "    'recal': (0.98 + 0.22) / 2,\n",
    "    'f1-score': (0.84 + 0.35) / 2,\n",
    "    'accuracy': 0.75\n",
    "})"
   ]
  },
  {
   "cell_type": "markdown",
   "metadata": {},
   "source": [
    "### 5 Градиентный бустинг (Catboost)"
   ]
  },
  {
   "cell_type": "code",
   "execution_count": 43,
   "metadata": {
    "trusted": true
   },
   "outputs": [],
   "source": [
    "# !pip install catboost\n",
    "from catboost import CatBoostClassifier"
   ]
  },
  {
   "cell_type": "code",
   "execution_count": 44,
   "metadata": {
    "trusted": true
   },
   "outputs": [
    {
     "name": "stdout",
     "output_type": "stream",
     "text": "Learning rate set to 0.014015\n0:\tlearn: 0.6866991\ttotal: 48.2ms\tremaining: 48.1s\n300:\tlearn: 0.4136882\ttotal: 419ms\tremaining: 972ms\n600:\tlearn: 0.3765618\ttotal: 761ms\tremaining: 505ms\n900:\tlearn: 0.3378480\ttotal: 1.1s\tremaining: 121ms\n999:\tlearn: 0.3262513\ttotal: 1.23s\tremaining: 0us\nCatboost\n              precision    recall  f1-score   support\n\n           0       0.83      0.92      0.88       358\n           1       0.77      0.58      0.66       157\n\n    accuracy                           0.82       515\n   macro avg       0.80      0.75      0.77       515\nweighted avg       0.81      0.82      0.81       515\n\n"
    }
   ],
   "source": [
    "catboosting = CatBoostClassifier(metric_period=300)\n",
    "get_report_of_model('Catboost', catboosting, X_train, y_train, X_valid, y_valid)"
   ]
  },
  {
   "cell_type": "markdown",
   "metadata": {},
   "source": [
    "Результаты оказались на таком же уровне, как optuna и ансамбль деревьев"
   ]
  },
  {
   "cell_type": "code",
   "execution_count": 45,
   "metadata": {
    "trusted": true
   },
   "outputs": [],
   "source": [
    "results.append({\n",
    "    'Название модели': 'Catboost',\n",
    "    'precision': (0.83 + 0.77) / 2,\n",
    "    'recal': (0.92 + 0.58) / 2,\n",
    "    'f1-score': (0.88 + 0.66) / 2,\n",
    "    'accuracy': 0.82\n",
    "})"
   ]
  },
  {
   "cell_type": "markdown",
   "metadata": {},
   "source": [
    "### 6 Ансамблирование"
   ]
  },
  {
   "cell_type": "markdown",
   "metadata": {},
   "source": [
    "#### 6.1 Стекинг"
   ]
  },
  {
   "cell_type": "markdown",
   "metadata": {},
   "source": [
    "Стекинг Лучших моделей (оформлял уже зная результаты ниже написанных алгоритмов)"
   ]
  },
  {
   "cell_type": "code",
   "execution_count": 46,
   "metadata": {
    "trusted": true
   },
   "outputs": [],
   "source": [
    "from sklearn.ensemble import StackingClassifier\n",
    "from sklearn.naive_bayes import GaussianNB"
   ]
  },
  {
   "cell_type": "code",
   "execution_count": 47,
   "metadata": {
    "trusted": true
   },
   "outputs": [
    {
     "name": "stdout",
     "output_type": "stream",
     "text": "Learning rate set to 0.014015\n0:\tlearn: 0.6866991\ttotal: 1.5ms\tremaining: 1.5s\n300:\tlearn: 0.4136882\ttotal: 353ms\tremaining: 820ms\n600:\tlearn: 0.3765618\ttotal: 720ms\tremaining: 478ms\n900:\tlearn: 0.3378480\ttotal: 1.09s\tremaining: 120ms\n999:\tlearn: 0.3262513\ttotal: 1.22s\tremaining: 0us\n"
    },
    {
     "name": "stderr",
     "output_type": "stream",
     "text": "/opt/conda/lib/python3.9/site-packages/sklearn/base.py:77: ExperimentalWarning: OptunaSearchCV is experimental (supported from v0.17.0). The interface can change in the future.\n  new_object = klass(**new_object_params)\n\u001B[32m[I 2023-03-09 12:50:36,580]\u001B[0m A new study created in memory with name: no-name-66771107-cfd4-4741-a949-53f358dde8a4\u001B[0m\n\u001B[32m[I 2023-03-09 12:50:36,616]\u001B[0m Trial 0 finished with value: 0.7582854983110103 and parameters: {'max_depth': 19, 'min_samples_split': 95, 'min_samples_leaf': 54, 'n_estimators': 1}. Best is trial 0 with value: 0.7582854983110103.\u001B[0m\n\u001B[32m[I 2023-03-09 12:50:36,652]\u001B[0m Trial 1 finished with value: 0.759251647650769 and parameters: {'max_depth': 15, 'min_samples_split': 76, 'min_samples_leaf': 61, 'n_estimators': 1}. Best is trial 1 with value: 0.759251647650769.\u001B[0m\n\u001B[32m[I 2023-03-09 12:50:36,709]\u001B[0m Trial 2 finished with value: 0.7869888739281412 and parameters: {'max_depth': 22, 'min_samples_split': 60, 'min_samples_leaf': 32, 'n_estimators': 3}. Best is trial 2 with value: 0.7869888739281412.\u001B[0m\n\u001B[32m[I 2023-03-09 12:50:36,830]\u001B[0m Trial 3 finished with value: 0.7719037157772897 and parameters: {'max_depth': 2, 'min_samples_split': 87, 'min_samples_leaf': 57, 'n_estimators': 11}. Best is trial 2 with value: 0.7869888739281412.\u001B[0m\n\u001B[32m[I 2023-03-09 12:50:36,977]\u001B[0m Trial 4 finished with value: 0.7767675336026268 and parameters: {'max_depth': 7, 'min_samples_split': 12, 'min_samples_leaf': 89, 'n_estimators': 13}. Best is trial 2 with value: 0.7869888739281412.\u001B[0m\n\u001B[32m[I 2023-03-09 12:50:37,090]\u001B[0m Trial 5 finished with value: 0.7874754919330074 and parameters: {'max_depth': 10, 'min_samples_split': 61, 'min_samples_leaf': 38, 'n_estimators': 8}. Best is trial 5 with value: 0.7874754919330074.\u001B[0m\n\u001B[32m[I 2023-03-09 12:50:37,288]\u001B[0m Trial 6 finished with value: 0.7874766730446696 and parameters: {'max_depth': 27, 'min_samples_split': 81, 'min_samples_leaf': 35, 'n_estimators': 16}. Best is trial 6 with value: 0.7874766730446696.\u001B[0m\n\u001B[32m[I 2023-03-09 12:50:37,370]\u001B[0m Trial 7 finished with value: 0.7879585666028867 and parameters: {'max_depth': 16, 'min_samples_split': 41, 'min_samples_leaf': 29, 'n_estimators': 4}. Best is trial 7 with value: 0.7879585666028867.\u001B[0m\n\u001B[32m[I 2023-03-09 12:50:37,562]\u001B[0m Trial 8 finished with value: 0.7879585666028867 and parameters: {'max_depth': 5, 'min_samples_split': 39, 'min_samples_leaf': 12, 'n_estimators': 18}. Best is trial 7 with value: 0.7879585666028867.\u001B[0m\n\u001B[32m[I 2023-03-09 12:50:37,707]\u001B[0m Trial 9 finished with value: 0.7626603359081569 and parameters: {'max_depth': 2, 'min_samples_split': 87, 'min_samples_leaf': 89, 'n_estimators': 15}. Best is trial 7 with value: 0.7879585666028867.\u001B[0m\n"
    },
    {
     "name": "stdout",
     "output_type": "stream",
     "text": "Learning rate set to 0.012739\n0:\tlearn: 0.6866742\ttotal: 1.27ms\tremaining: 1.27s\n300:\tlearn: 0.3986131\ttotal: 347ms\tremaining: 806ms\n600:\tlearn: 0.3612020\ttotal: 676ms\tremaining: 449ms\n900:\tlearn: 0.3234510\ttotal: 1.04s\tremaining: 115ms\n999:\tlearn: 0.3114247\ttotal: 1.17s\tremaining: 0us\nLearning rate set to 0.012742\n0:\tlearn: 0.6873573\ttotal: 1.6ms\tremaining: 1.6s\n300:\tlearn: 0.4206334\ttotal: 339ms\tremaining: 787ms\n600:\tlearn: 0.3793381\ttotal: 685ms\tremaining: 455ms\n900:\tlearn: 0.3383217\ttotal: 1.02s\tremaining: 112ms\n999:\tlearn: 0.3253517\ttotal: 1.13s\tremaining: 0us\nLearning rate set to 0.012742\n0:\tlearn: 0.6872943\ttotal: 1.29ms\tremaining: 1.28s\n300:\tlearn: 0.4173289\ttotal: 320ms\tremaining: 743ms\n600:\tlearn: 0.3769834\ttotal: 657ms\tremaining: 436ms\n900:\tlearn: 0.3361653\ttotal: 983ms\tremaining: 108ms\n999:\tlearn: 0.3239000\ttotal: 1.1s\tremaining: 0us\nLearning rate set to 0.012742\n0:\tlearn: 0.6874199\ttotal: 1.18ms\tremaining: 1.18s\n300:\tlearn: 0.4135051\ttotal: 307ms\tremaining: 713ms\n600:\tlearn: 0.3742225\ttotal: 630ms\tremaining: 418ms\n900:\tlearn: 0.3371979\ttotal: 951ms\tremaining: 104ms\n999:\tlearn: 0.3245771\ttotal: 1.07s\tremaining: 0us\nLearning rate set to 0.012742\n0:\tlearn: 0.6871776\ttotal: 1.22ms\tremaining: 1.22s\n300:\tlearn: 0.4144520\ttotal: 330ms\tremaining: 767ms\n600:\tlearn: 0.3750072\ttotal: 685ms\tremaining: 455ms\n900:\tlearn: 0.3342223\ttotal: 1.01s\tremaining: 111ms\n999:\tlearn: 0.3212042\ttotal: 1.12s\tremaining: 0us\n"
    },
    {
     "name": "stderr",
     "output_type": "stream",
     "text": "/opt/conda/lib/python3.9/site-packages/sklearn/base.py:77: ExperimentalWarning: OptunaSearchCV is experimental (supported from v0.17.0). The interface can change in the future.\n  new_object = klass(**new_object_params)\n/opt/conda/lib/python3.9/site-packages/sklearn/base.py:77: ExperimentalWarning: OptunaSearchCV is experimental (supported from v0.17.0). The interface can change in the future.\n  new_object = klass(**new_object_params)\n\u001B[32m[I 2023-03-09 12:50:47,073]\u001B[0m A new study created in memory with name: no-name-a6147572-e949-41ea-9b37-131fc799180e\u001B[0m\n\u001B[32m[I 2023-03-09 12:50:47,306]\u001B[0m Trial 0 finished with value: 0.8114241233597745 and parameters: {'max_depth': 29, 'min_samples_split': 61, 'min_samples_leaf': 6, 'n_estimators': 20}. Best is trial 0 with value: 0.8114241233597745.\u001B[0m\n\u001B[32m[I 2023-03-09 12:50:47,407]\u001B[0m Trial 1 finished with value: 0.7852620653866114 and parameters: {'max_depth': 25, 'min_samples_split': 44, 'min_samples_leaf': 78, 'n_estimators': 7}. Best is trial 0 with value: 0.8114241233597745.\u001B[0m\n\u001B[32m[I 2023-03-09 12:50:47,565]\u001B[0m Trial 2 finished with value: 0.7913392393802358 and parameters: {'max_depth': 7, 'min_samples_split': 74, 'min_samples_leaf': 53, 'n_estimators': 15}. Best is trial 0 with value: 0.8114241233597745.\u001B[0m\n\u001B[32m[I 2023-03-09 12:50:47,630]\u001B[0m Trial 3 finished with value: 0.769441767366002 and parameters: {'max_depth': 10, 'min_samples_split': 81, 'min_samples_leaf': 71, 'n_estimators': 4}. Best is trial 0 with value: 0.8114241233597745.\u001B[0m\n\u001B[32m[I 2023-03-09 12:50:47,677]\u001B[0m Trial 4 finished with value: 0.774317962784491 and parameters: {'max_depth': 16, 'min_samples_split': 9, 'min_samples_leaf': 97, 'n_estimators': 2}. Best is trial 0 with value: 0.8114241233597745.\u001B[0m\n\u001B[32m[I 2023-03-09 12:50:47,802]\u001B[0m Trial 5 finished with value: 0.7840481132774852 and parameters: {'max_depth': 9, 'min_samples_split': 79, 'min_samples_leaf': 88, 'n_estimators': 11}. Best is trial 0 with value: 0.8114241233597745.\u001B[0m\n\u001B[32m[I 2023-03-09 12:50:47,910]\u001B[0m Trial 6 finished with value: 0.7992549484765364 and parameters: {'max_depth': 5, 'min_samples_split': 83, 'min_samples_leaf': 16, 'n_estimators': 9}. Best is trial 0 with value: 0.8114241233597745.\u001B[0m\n\u001B[32m[I 2023-03-09 12:50:48,007]\u001B[0m Trial 7 finished with value: 0.7998684112980948 and parameters: {'max_depth': 26, 'min_samples_split': 51, 'min_samples_leaf': 37, 'n_estimators': 7}. Best is trial 0 with value: 0.8114241233597745.\u001B[0m\n\u001B[32m[I 2023-03-09 12:50:48,165]\u001B[0m Trial 8 finished with value: 0.7980409963674104 and parameters: {'max_depth': 5, 'min_samples_split': 62, 'min_samples_leaf': 20, 'n_estimators': 14}. Best is trial 0 with value: 0.8114241233597745.\u001B[0m\n\u001B[32m[I 2023-03-09 12:50:48,346]\u001B[0m Trial 9 finished with value: 0.7986414856549782 and parameters: {'max_depth': 21, 'min_samples_split': 13, 'min_samples_leaf': 52, 'n_estimators': 17}. Best is trial 0 with value: 0.8114241233597745.\u001B[0m\n/opt/conda/lib/python3.9/site-packages/sklearn/base.py:77: ExperimentalWarning: OptunaSearchCV is experimental (supported from v0.17.0). The interface can change in the future.\n  new_object = klass(**new_object_params)\n\u001B[32m[I 2023-03-09 12:50:48,397]\u001B[0m A new study created in memory with name: no-name-2a219f72-2bd0-4f30-99af-4e4feb045232\u001B[0m\n\u001B[32m[I 2023-03-09 12:50:48,457]\u001B[0m Trial 0 finished with value: 0.78419452887538 and parameters: {'max_depth': 15, 'min_samples_split': 56, 'min_samples_leaf': 12, 'n_estimators': 3}. Best is trial 0 with value: 0.78419452887538.\u001B[0m\n\u001B[32m[I 2023-03-09 12:50:48,601]\u001B[0m Trial 1 finished with value: 0.7811550151975684 and parameters: {'max_depth': 19, 'min_samples_split': 16, 'min_samples_leaf': 35, 'n_estimators': 13}. Best is trial 0 with value: 0.78419452887538.\u001B[0m\n\u001B[32m[I 2023-03-09 12:50:48,782]\u001B[0m Trial 2 finished with value: 0.780547112462006 and parameters: {'max_depth': 21, 'min_samples_split': 91, 'min_samples_leaf': 69, 'n_estimators': 18}. Best is trial 0 with value: 0.78419452887538.\u001B[0m\n\u001B[32m[I 2023-03-09 12:50:48,899]\u001B[0m Trial 3 finished with value: 0.7866261398176292 and parameters: {'max_depth': 24, 'min_samples_split': 6, 'min_samples_leaf': 13, 'n_estimators': 9}. Best is trial 3 with value: 0.7866261398176292.\u001B[0m\n\u001B[32m[I 2023-03-09 12:50:49,017]\u001B[0m Trial 4 finished with value: 0.7720364741641338 and parameters: {'max_depth': 25, 'min_samples_split': 94, 'min_samples_leaf': 63, 'n_estimators': 9}. Best is trial 3 with value: 0.7866261398176292.\u001B[0m\n\u001B[32m[I 2023-03-09 12:50:49,209]\u001B[0m Trial 5 finished with value: 0.782370820668693 and parameters: {'max_depth': 10, 'min_samples_split': 97, 'min_samples_leaf': 30, 'n_estimators': 14}. Best is trial 3 with value: 0.7866261398176292.\u001B[0m\n\u001B[32m[I 2023-03-09 12:50:49,402]\u001B[0m Trial 6 finished with value: 0.7756838905775075 and parameters: {'max_depth': 11, 'min_samples_split': 54, 'min_samples_leaf': 87, 'n_estimators': 18}. Best is trial 3 with value: 0.7866261398176292.\u001B[0m\n\u001B[32m[I 2023-03-09 12:50:49,466]\u001B[0m Trial 7 finished with value: 0.7835866261398177 and parameters: {'max_depth': 25, 'min_samples_split': 49, 'min_samples_leaf': 21, 'n_estimators': 4}. Best is trial 3 with value: 0.7866261398176292.\u001B[0m\n\u001B[32m[I 2023-03-09 12:50:49,644]\u001B[0m Trial 8 finished with value: 0.7702127659574469 and parameters: {'max_depth': 25, 'min_samples_split': 98, 'min_samples_leaf': 69, 'n_estimators': 18}. Best is trial 3 with value: 0.7866261398176292.\u001B[0m\n\u001B[32m[I 2023-03-09 12:50:49,706]\u001B[0m Trial 9 finished with value: 0.7617021276595745 and parameters: {'max_depth': 14, 'min_samples_split': 27, 'min_samples_leaf': 80, 'n_estimators': 5}. Best is trial 3 with value: 0.7866261398176292.\u001B[0m\n/opt/conda/lib/python3.9/site-packages/sklearn/base.py:77: ExperimentalWarning: OptunaSearchCV is experimental (supported from v0.17.0). The interface can change in the future.\n  new_object = klass(**new_object_params)\n\u001B[32m[I 2023-03-09 12:50:49,739]\u001B[0m A new study created in memory with name: no-name-825db011-d8c2-46ec-adb2-14f44a140ae8\u001B[0m\n\u001B[32m[I 2023-03-09 12:50:49,878]\u001B[0m Trial 0 finished with value: 0.772644376899696 and parameters: {'max_depth': 25, 'min_samples_split': 32, 'min_samples_leaf': 54, 'n_estimators': 13}. Best is trial 0 with value: 0.772644376899696.\u001B[0m\n\u001B[32m[I 2023-03-09 12:50:49,967]\u001B[0m Trial 1 finished with value: 0.7677811550151976 and parameters: {'max_depth': 10, 'min_samples_split': 72, 'min_samples_leaf': 63, 'n_estimators': 7}. Best is trial 0 with value: 0.772644376899696.\u001B[0m\n\u001B[32m[I 2023-03-09 12:50:50,098]\u001B[0m Trial 2 finished with value: 0.7744680851063831 and parameters: {'max_depth': 30, 'min_samples_split': 96, 'min_samples_leaf': 59, 'n_estimators': 12}. Best is trial 2 with value: 0.7744680851063831.\u001B[0m\n\u001B[32m[I 2023-03-09 12:50:50,174]\u001B[0m Trial 3 finished with value: 0.7756838905775075 and parameters: {'max_depth': 12, 'min_samples_split': 31, 'min_samples_leaf': 14, 'n_estimators': 5}. Best is trial 3 with value: 0.7756838905775075.\u001B[0m\n\u001B[32m[I 2023-03-09 12:50:50,271]\u001B[0m Trial 4 finished with value: 0.766565349544073 and parameters: {'max_depth': 27, 'min_samples_split': 93, 'min_samples_leaf': 91, 'n_estimators': 8}. Best is trial 3 with value: 0.7756838905775075.\u001B[0m\n\u001B[32m[I 2023-03-09 12:50:50,360]\u001B[0m Trial 5 finished with value: 0.7550151975683892 and parameters: {'max_depth': 26, 'min_samples_split': 28, 'min_samples_leaf': 95, 'n_estimators': 7}. Best is trial 3 with value: 0.7756838905775075.\u001B[0m\n\u001B[32m[I 2023-03-09 12:50:50,523]\u001B[0m Trial 6 finished with value: 0.7884498480243162 and parameters: {'max_depth': 11, 'min_samples_split': 7, 'min_samples_leaf': 21, 'n_estimators': 13}. Best is trial 6 with value: 0.7884498480243162.\u001B[0m\n\u001B[32m[I 2023-03-09 12:50:50,761]\u001B[0m Trial 7 finished with value: 0.7890577507598785 and parameters: {'max_depth': 18, 'min_samples_split': 13, 'min_samples_leaf': 13, 'n_estimators': 19}. Best is trial 7 with value: 0.7890577507598785.\u001B[0m\n\u001B[32m[I 2023-03-09 12:50:50,978]\u001B[0m Trial 8 finished with value: 0.7702127659574468 and parameters: {'max_depth': 20, 'min_samples_split': 67, 'min_samples_leaf': 52, 'n_estimators': 19}. Best is trial 7 with value: 0.7890577507598785.\u001B[0m\n"
    },
    {
     "name": "stderr",
     "output_type": "stream",
     "text": "\u001B[32m[I 2023-03-09 12:50:51,136]\u001B[0m Trial 9 finished with value: 0.7519756838905775 and parameters: {'max_depth': 13, 'min_samples_split': 10, 'min_samples_leaf': 100, 'n_estimators': 14}. Best is trial 7 with value: 0.7890577507598785.\u001B[0m\n/opt/conda/lib/python3.9/site-packages/sklearn/base.py:77: ExperimentalWarning: OptunaSearchCV is experimental (supported from v0.17.0). The interface can change in the future.\n  new_object = klass(**new_object_params)\n\u001B[32m[I 2023-03-09 12:50:51,193]\u001B[0m A new study created in memory with name: no-name-4274a91f-9246-4a4e-80a0-2f2ea3f0a172\u001B[0m\n\u001B[32m[I 2023-03-09 12:50:51,304]\u001B[0m Trial 0 finished with value: 0.7556231003039515 and parameters: {'max_depth': 2, 'min_samples_split': 4, 'min_samples_leaf': 86, 'n_estimators': 9}. Best is trial 0 with value: 0.7556231003039515.\u001B[0m\n\u001B[32m[I 2023-03-09 12:50:51,409]\u001B[0m Trial 1 finished with value: 0.78419452887538 and parameters: {'max_depth': 26, 'min_samples_split': 7, 'min_samples_leaf': 41, 'n_estimators': 8}. Best is trial 1 with value: 0.78419452887538.\u001B[0m\n\u001B[32m[I 2023-03-09 12:50:51,538]\u001B[0m Trial 2 finished with value: 0.7860182370820669 and parameters: {'max_depth': 19, 'min_samples_split': 50, 'min_samples_leaf': 18, 'n_estimators': 8}. Best is trial 2 with value: 0.7860182370820669.\u001B[0m\n\u001B[32m[I 2023-03-09 12:50:51,732]\u001B[0m Trial 3 finished with value: 0.7933130699088146 and parameters: {'max_depth': 7, 'min_samples_split': 52, 'min_samples_leaf': 4, 'n_estimators': 16}. Best is trial 3 with value: 0.7933130699088146.\u001B[0m\n\u001B[32m[I 2023-03-09 12:50:51,784]\u001B[0m Trial 4 finished with value: 0.7592705167173253 and parameters: {'max_depth': 7, 'min_samples_split': 71, 'min_samples_leaf': 43, 'n_estimators': 2}. Best is trial 3 with value: 0.7933130699088146.\u001B[0m\n\u001B[32m[I 2023-03-09 12:50:51,817]\u001B[0m Trial 5 finished with value: 0.7167173252279635 and parameters: {'max_depth': 7, 'min_samples_split': 79, 'min_samples_leaf': 97, 'n_estimators': 1}. Best is trial 3 with value: 0.7933130699088146.\u001B[0m\n\u001B[32m[I 2023-03-09 12:50:51,914]\u001B[0m Trial 6 finished with value: 0.7762917933130699 and parameters: {'max_depth': 4, 'min_samples_split': 53, 'min_samples_leaf': 11, 'n_estimators': 7}. Best is trial 3 with value: 0.7933130699088146.\u001B[0m\n\u001B[32m[I 2023-03-09 12:50:52,002]\u001B[0m Trial 7 finished with value: 0.774468085106383 and parameters: {'max_depth': 27, 'min_samples_split': 11, 'min_samples_leaf': 66, 'n_estimators': 6}. Best is trial 3 with value: 0.7933130699088146.\u001B[0m\n\u001B[32m[I 2023-03-09 12:50:52,090]\u001B[0m Trial 8 finished with value: 0.7908814589665654 and parameters: {'max_depth': 30, 'min_samples_split': 84, 'min_samples_leaf': 8, 'n_estimators': 5}. Best is trial 3 with value: 0.7933130699088146.\u001B[0m\n\u001B[32m[I 2023-03-09 12:50:52,282]\u001B[0m Trial 9 finished with value: 0.7659574468085107 and parameters: {'max_depth': 24, 'min_samples_split': 33, 'min_samples_leaf': 83, 'n_estimators': 16}. Best is trial 3 with value: 0.7933130699088146.\u001B[0m\n/opt/conda/lib/python3.9/site-packages/sklearn/base.py:77: ExperimentalWarning: OptunaSearchCV is experimental (supported from v0.17.0). The interface can change in the future.\n  new_object = klass(**new_object_params)\n\u001B[32m[I 2023-03-09 12:50:52,330]\u001B[0m A new study created in memory with name: no-name-25aa71c0-e8bb-4600-988c-288328d45421\u001B[0m\n\u001B[32m[I 2023-03-09 12:50:52,408]\u001B[0m Trial 0 finished with value: 0.782370820668693 and parameters: {'max_depth': 22, 'min_samples_split': 69, 'min_samples_leaf': 46, 'n_estimators': 5}. Best is trial 0 with value: 0.782370820668693.\u001B[0m\n\u001B[32m[I 2023-03-09 12:50:52,542]\u001B[0m Trial 1 finished with value: 0.7841945288753799 and parameters: {'max_depth': 27, 'min_samples_split': 28, 'min_samples_leaf': 29, 'n_estimators': 9}. Best is trial 1 with value: 0.7841945288753799.\u001B[0m\n\u001B[32m[I 2023-03-09 12:50:52,684]\u001B[0m Trial 2 finished with value: 0.7343465045592705 and parameters: {'max_depth': 1, 'min_samples_split': 67, 'min_samples_leaf': 77, 'n_estimators': 16}. Best is trial 1 with value: 0.7841945288753799.\u001B[0m\n\u001B[32m[I 2023-03-09 12:50:52,728]\u001B[0m Trial 3 finished with value: 0.7446808510638298 and parameters: {'max_depth': 14, 'min_samples_split': 30, 'min_samples_leaf': 83, 'n_estimators': 1}. Best is trial 1 with value: 0.7841945288753799.\u001B[0m\n\u001B[32m[I 2023-03-09 12:50:52,814]\u001B[0m Trial 4 finished with value: 0.7720364741641339 and parameters: {'max_depth': 10, 'min_samples_split': 27, 'min_samples_leaf': 92, 'n_estimators': 7}. Best is trial 1 with value: 0.7841945288753799.\u001B[0m\n\u001B[32m[I 2023-03-09 12:50:52,893]\u001B[0m Trial 5 finished with value: 0.7525835866261399 and parameters: {'max_depth': 17, 'min_samples_split': 34, 'min_samples_leaf': 85, 'n_estimators': 6}. Best is trial 1 with value: 0.7841945288753799.\u001B[0m\n\u001B[32m[I 2023-03-09 12:50:53,046]\u001B[0m Trial 6 finished with value: 0.7793313069908816 and parameters: {'max_depth': 27, 'min_samples_split': 2, 'min_samples_leaf': 49, 'n_estimators': 13}. Best is trial 1 with value: 0.7841945288753799.\u001B[0m\n\u001B[32m[I 2023-03-09 12:50:53,206]\u001B[0m Trial 7 finished with value: 0.7689969604863223 and parameters: {'max_depth': 18, 'min_samples_split': 3, 'min_samples_leaf': 89, 'n_estimators': 15}. Best is trial 1 with value: 0.7841945288753799.\u001B[0m\n\u001B[32m[I 2023-03-09 12:50:53,242]\u001B[0m Trial 8 finished with value: 0.7629179331306991 and parameters: {'max_depth': 21, 'min_samples_split': 45, 'min_samples_leaf': 51, 'n_estimators': 1}. Best is trial 1 with value: 0.7841945288753799.\u001B[0m\n\u001B[32m[I 2023-03-09 12:50:53,333]\u001B[0m Trial 9 finished with value: 0.7951367781155015 and parameters: {'max_depth': 12, 'min_samples_split': 9, 'min_samples_leaf': 7, 'n_estimators': 6}. Best is trial 9 with value: 0.7951367781155015.\u001B[0m\n"
    },
    {
     "name": "stdout",
     "output_type": "stream",
     "text": "StackingClassifier\n              precision    recall  f1-score   support\n\n           0       0.82      0.93      0.87       358\n           1       0.77      0.55      0.64       157\n\n    accuracy                           0.81       515\n   macro avg       0.80      0.74      0.76       515\nweighted avg       0.81      0.81      0.80       515\n\n"
    }
   ],
   "source": [
    "estimators = [\n",
    "    ('catboosting', catboosting),\n",
    "    ('optuna_search', optuna_search),\n",
    "    ('dfc', dfc),\n",
    "    ('GaussianNB', GaussianNB())\n",
    "]\n",
    "modelClf = StackingClassifier(estimators=estimators, final_estimator=LogisticRegression(), n_jobs=-1)\n",
    "get_report_of_model('StackingClassifier', modelClf, X_train, y_train, X_valid, y_valid)"
   ]
  },
  {
   "cell_type": "markdown",
   "metadata": {},
   "source": [
    "Высокие результаты"
   ]
  },
  {
   "cell_type": "code",
   "execution_count": 48,
   "metadata": {
    "trusted": true
   },
   "outputs": [],
   "source": [
    "results.append({\n",
    "    'Название модели': 'StackingClassifier',\n",
    "    'precision': (0.83 + 0.79) / 2,\n",
    "    'recal': (0.94 + 0.54) / 2,\n",
    "    'f1-score': (0.88 + 0.64) / 2,\n",
    "    'accuracy': 0.82\n",
    "})"
   ]
  },
  {
   "cell_type": "markdown",
   "metadata": {},
   "source": [
    "#### 6.2 Бэггинг"
   ]
  },
  {
   "cell_type": "code",
   "execution_count": 49,
   "metadata": {
    "trusted": true
   },
   "outputs": [],
   "source": [
    "from sklearn.ensemble import BaggingClassifier"
   ]
  },
  {
   "cell_type": "code",
   "execution_count": 50,
   "metadata": {
    "trusted": true
   },
   "outputs": [
    {
     "name": "stdout",
     "output_type": "stream",
     "text": "Learning rate set to 0.014015\n0:\tlearn: 0.6872612\ttotal: 1.34ms\tremaining: 1.34s\n300:\tlearn: 0.4006398\ttotal: 336ms\tremaining: 781ms\n600:\tlearn: 0.3437674\ttotal: 672ms\tremaining: 446ms\n900:\tlearn: 0.2886054\ttotal: 1.01s\tremaining: 111ms\n999:\tlearn: 0.2734510\ttotal: 1.12s\tremaining: 0us\nLearning rate set to 0.014015\n0:\tlearn: 0.6864787\ttotal: 1.36ms\tremaining: 1.36s\n300:\tlearn: 0.3852268\ttotal: 325ms\tremaining: 755ms\n600:\tlearn: 0.3289221\ttotal: 695ms\tremaining: 462ms\n900:\tlearn: 0.2723499\ttotal: 1.05s\tremaining: 116ms\n999:\tlearn: 0.2564922\ttotal: 1.16s\tremaining: 0us\nLearning rate set to 0.014015\n0:\tlearn: 0.6869180\ttotal: 1.41ms\tremaining: 1.41s\n300:\tlearn: 0.3896593\ttotal: 330ms\tremaining: 767ms\n600:\tlearn: 0.3340397\ttotal: 666ms\tremaining: 442ms\n900:\tlearn: 0.2792896\ttotal: 1.01s\tremaining: 111ms\n999:\tlearn: 0.2642299\ttotal: 1.12s\tremaining: 0us\nLearning rate set to 0.014015\n0:\tlearn: 0.6867589\ttotal: 2.38ms\tremaining: 2.38s\n300:\tlearn: 0.3990070\ttotal: 340ms\tremaining: 790ms\n600:\tlearn: 0.3422302\ttotal: 688ms\tremaining: 457ms\n900:\tlearn: 0.2900625\ttotal: 1.03s\tremaining: 114ms\n999:\tlearn: 0.2749207\ttotal: 1.15s\tremaining: 0us\nLearning rate set to 0.014015\n0:\tlearn: 0.6864287\ttotal: 1.27ms\tremaining: 1.27s\n300:\tlearn: 0.3835093\ttotal: 326ms\tremaining: 756ms\n600:\tlearn: 0.3312419\ttotal: 680ms\tremaining: 451ms\n900:\tlearn: 0.2808378\ttotal: 1.01s\tremaining: 112ms\n999:\tlearn: 0.2680414\ttotal: 1.14s\tremaining: 0us\nLearning rate set to 0.014015\n0:\tlearn: 0.6862004\ttotal: 1.55ms\tremaining: 1.55s\n300:\tlearn: 0.3836677\ttotal: 373ms\tremaining: 867ms\n600:\tlearn: 0.3282644\ttotal: 738ms\tremaining: 490ms\n900:\tlearn: 0.2761732\ttotal: 1.07s\tremaining: 118ms\n999:\tlearn: 0.2626228\ttotal: 1.2s\tremaining: 0us\nLearning rate set to 0.014015\n0:\tlearn: 0.6870008\ttotal: 1.38ms\tremaining: 1.38s\n300:\tlearn: 0.3940530\ttotal: 352ms\tremaining: 816ms\n600:\tlearn: 0.3374823\ttotal: 710ms\tremaining: 472ms\n900:\tlearn: 0.2779913\ttotal: 1.07s\tremaining: 118ms\n999:\tlearn: 0.2613303\ttotal: 1.2s\tremaining: 0us\nLearning rate set to 0.014015\n0:\tlearn: 0.6862414\ttotal: 1.51ms\tremaining: 1.51s\n300:\tlearn: 0.3953771\ttotal: 354ms\tremaining: 821ms\n600:\tlearn: 0.3377571\ttotal: 702ms\tremaining: 466ms\n900:\tlearn: 0.2859453\ttotal: 1.07s\tremaining: 118ms\n999:\tlearn: 0.2711424\ttotal: 1.21s\tremaining: 0us\nLearning rate set to 0.014015\n0:\tlearn: 0.6864325\ttotal: 1.44ms\tremaining: 1.44s\n300:\tlearn: 0.3978372\ttotal: 349ms\tremaining: 809ms\n600:\tlearn: 0.3443109\ttotal: 700ms\tremaining: 465ms\n900:\tlearn: 0.2938964\ttotal: 1.06s\tremaining: 117ms\n999:\tlearn: 0.2792271\ttotal: 1.18s\tremaining: 0us\nLearning rate set to 0.014015\n0:\tlearn: 0.6871176\ttotal: 1.48ms\tremaining: 1.48s\n300:\tlearn: 0.3890207\ttotal: 344ms\tremaining: 798ms\n600:\tlearn: 0.3308836\ttotal: 684ms\tremaining: 454ms\n900:\tlearn: 0.2777153\ttotal: 1.02s\tremaining: 113ms\n999:\tlearn: 0.2630295\ttotal: 1.14s\tremaining: 0us\nLearning rate set to 0.014015\n0:\tlearn: 0.6869393\ttotal: 1.34ms\tremaining: 1.34s\n300:\tlearn: 0.3981499\ttotal: 342ms\tremaining: 793ms\n600:\tlearn: 0.3435098\ttotal: 700ms\tremaining: 465ms\n900:\tlearn: 0.2916071\ttotal: 1.04s\tremaining: 114ms\n999:\tlearn: 0.2751924\ttotal: 1.15s\tremaining: 0us\nLearning rate set to 0.014015\n0:\tlearn: 0.6864696\ttotal: 1.4ms\tremaining: 1.4s\n300:\tlearn: 0.3878814\ttotal: 339ms\tremaining: 788ms\n600:\tlearn: 0.3333583\ttotal: 685ms\tremaining: 455ms\n900:\tlearn: 0.2823255\ttotal: 1.03s\tremaining: 113ms\n999:\tlearn: 0.2673526\ttotal: 1.14s\tremaining: 0us\nLearning rate set to 0.014015\n0:\tlearn: 0.6874079\ttotal: 1.39ms\tremaining: 1.39s\n300:\tlearn: 0.4053402\ttotal: 351ms\tremaining: 815ms\n600:\tlearn: 0.3460577\ttotal: 693ms\tremaining: 460ms\n900:\tlearn: 0.2904296\ttotal: 1.03s\tremaining: 113ms\n999:\tlearn: 0.2760833\ttotal: 1.14s\tremaining: 0us\nLearning rate set to 0.014015\n0:\tlearn: 0.6865368\ttotal: 1.61ms\tremaining: 1.61s\n300:\tlearn: 0.3846550\ttotal: 342ms\tremaining: 795ms\n600:\tlearn: 0.3268841\ttotal: 680ms\tremaining: 451ms\n900:\tlearn: 0.2726382\ttotal: 1.03s\tremaining: 114ms\n999:\tlearn: 0.2585628\ttotal: 1.15s\tremaining: 0us\nLearning rate set to 0.014015\n0:\tlearn: 0.6859672\ttotal: 1.79ms\tremaining: 1.78s\n300:\tlearn: 0.3717606\ttotal: 343ms\tremaining: 797ms\n600:\tlearn: 0.3111334\ttotal: 664ms\tremaining: 441ms\n900:\tlearn: 0.2575118\ttotal: 1.01s\tremaining: 111ms\n999:\tlearn: 0.2443402\ttotal: 1.11s\tremaining: 0us\nLearning rate set to 0.014015\n0:\tlearn: 0.6874574\ttotal: 1.43ms\tremaining: 1.43s\n300:\tlearn: 0.3968221\ttotal: 345ms\tremaining: 801ms\n600:\tlearn: 0.3402016\ttotal: 676ms\tremaining: 449ms\n900:\tlearn: 0.2870112\ttotal: 1.03s\tremaining: 113ms\n999:\tlearn: 0.2727248\ttotal: 1.14s\tremaining: 0us\nLearning rate set to 0.014015\n0:\tlearn: 0.6862589\ttotal: 1.32ms\tremaining: 1.32s\n300:\tlearn: 0.3753802\ttotal: 332ms\tremaining: 771ms\n600:\tlearn: 0.3194506\ttotal: 671ms\tremaining: 445ms\n900:\tlearn: 0.2650914\ttotal: 1.02s\tremaining: 112ms\n999:\tlearn: 0.2503436\ttotal: 1.14s\tremaining: 0us\nLearning rate set to 0.014015\n0:\tlearn: 0.6864739\ttotal: 1.52ms\tremaining: 1.52s\n300:\tlearn: 0.3903471\ttotal: 351ms\tremaining: 815ms\n600:\tlearn: 0.3329149\ttotal: 715ms\tremaining: 475ms\n900:\tlearn: 0.2798539\ttotal: 1.06s\tremaining: 116ms\n999:\tlearn: 0.2648936\ttotal: 1.18s\tremaining: 0us\nLearning rate set to 0.014015\n0:\tlearn: 0.6868093\ttotal: 1.71ms\tremaining: 1.71s\n300:\tlearn: 0.3968343\ttotal: 397ms\tremaining: 921ms\n600:\tlearn: 0.3405481\ttotal: 758ms\tremaining: 503ms\n900:\tlearn: 0.2875812\ttotal: 1.1s\tremaining: 121ms\n999:\tlearn: 0.2727378\ttotal: 1.22s\tremaining: 0us\nLearning rate set to 0.014015\n0:\tlearn: 0.6870515\ttotal: 1.47ms\tremaining: 1.47s\n300:\tlearn: 0.3904100\ttotal: 350ms\tremaining: 813ms\n600:\tlearn: 0.3305091\ttotal: 707ms\tremaining: 469ms\n900:\tlearn: 0.2762317\ttotal: 1.06s\tremaining: 116ms\n999:\tlearn: 0.2602299\ttotal: 1.17s\tremaining: 0us\nLearning rate set to 0.014015\n0:\tlearn: 0.6873901\ttotal: 1.65ms\tremaining: 1.65s\n300:\tlearn: 0.3868551\ttotal: 354ms\tremaining: 821ms\n600:\tlearn: 0.3292907\ttotal: 702ms\tremaining: 466ms\n900:\tlearn: 0.2768058\ttotal: 1.08s\tremaining: 118ms\n999:\tlearn: 0.2611887\ttotal: 1.19s\tremaining: 0us\nLearning rate set to 0.014015\n0:\tlearn: 0.6865794\ttotal: 1.39ms\tremaining: 1.39s\n300:\tlearn: 0.3922975\ttotal: 353ms\tremaining: 819ms\n600:\tlearn: 0.3360764\ttotal: 700ms\tremaining: 465ms\n900:\tlearn: 0.2806592\ttotal: 1.05s\tremaining: 116ms\n999:\tlearn: 0.2650978\ttotal: 1.18s\tremaining: 0us\nLearning rate set to 0.014015\n0:\tlearn: 0.6869342\ttotal: 1.33ms\tremaining: 1.33s\n300:\tlearn: 0.3846303\ttotal: 345ms\tremaining: 801ms\n600:\tlearn: 0.3280159\ttotal: 686ms\tremaining: 455ms\n900:\tlearn: 0.2731611\ttotal: 1.04s\tremaining: 115ms\n999:\tlearn: 0.2594088\ttotal: 1.17s\tremaining: 0us\nLearning rate set to 0.014015\n0:\tlearn: 0.6872911\ttotal: 1.3ms\tremaining: 1.3s\n300:\tlearn: 0.3961241\ttotal: 387ms\tremaining: 899ms\n600:\tlearn: 0.3431643\ttotal: 731ms\tremaining: 485ms\n900:\tlearn: 0.2920543\ttotal: 1.06s\tremaining: 117ms\n999:\tlearn: 0.2777332\ttotal: 1.17s\tremaining: 0us\nLearning rate set to 0.014015\n0:\tlearn: 0.6861898\ttotal: 1.4ms\tremaining: 1.4s\n300:\tlearn: 0.3658475\ttotal: 352ms\tremaining: 819ms\n600:\tlearn: 0.3093803\ttotal: 711ms\tremaining: 472ms\n900:\tlearn: 0.2592190\ttotal: 1.05s\tremaining: 116ms\n999:\tlearn: 0.2445482\ttotal: 1.16s\tremaining: 0us\nLearning rate set to 0.014015\n0:\tlearn: 0.6865562\ttotal: 1.37ms\tremaining: 1.37s\n300:\tlearn: 0.3878051\ttotal: 330ms\tremaining: 767ms\n600:\tlearn: 0.3344832\ttotal: 656ms\tremaining: 435ms\n900:\tlearn: 0.2794553\ttotal: 976ms\tremaining: 107ms\n999:\tlearn: 0.2653541\ttotal: 1.09s\tremaining: 0us\nLearning rate set to 0.014015\n0:\tlearn: 0.6863369\ttotal: 1.46ms\tremaining: 1.46s\n300:\tlearn: 0.3780971\ttotal: 356ms\tremaining: 827ms\n600:\tlearn: 0.3201744\ttotal: 691ms\tremaining: 458ms\n900:\tlearn: 0.2677540\ttotal: 1.02s\tremaining: 112ms\n999:\tlearn: 0.2530035\ttotal: 1.13s\tremaining: 0us\nLearning rate set to 0.014015\n0:\tlearn: 0.6866733\ttotal: 1.43ms\tremaining: 1.43s\n300:\tlearn: 0.4069011\ttotal: 339ms\tremaining: 787ms\n600:\tlearn: 0.3489697\ttotal: 679ms\tremaining: 451ms\n900:\tlearn: 0.2898555\ttotal: 1.03s\tremaining: 114ms\n999:\tlearn: 0.2741688\ttotal: 1.15s\tremaining: 0us\nLearning rate set to 0.014015\n0:\tlearn: 0.6859523\ttotal: 2.02ms\tremaining: 2.02s\n300:\tlearn: 0.3871382\ttotal: 365ms\tremaining: 847ms\n600:\tlearn: 0.3333234\ttotal: 764ms\tremaining: 507ms\n"
    },
    {
     "name": "stdout",
     "output_type": "stream",
     "text": "900:\tlearn: 0.2845111\ttotal: 1.11s\tremaining: 122ms\n999:\tlearn: 0.2684235\ttotal: 1.22s\tremaining: 0us\nLearning rate set to 0.014015\n0:\tlearn: 0.6867716\ttotal: 1.37ms\tremaining: 1.37s\n300:\tlearn: 0.4010630\ttotal: 347ms\tremaining: 806ms\n600:\tlearn: 0.3429478\ttotal: 685ms\tremaining: 455ms\n900:\tlearn: 0.2861393\ttotal: 1.02s\tremaining: 113ms\n999:\tlearn: 0.2718094\ttotal: 1.14s\tremaining: 0us\nLearning rate set to 0.014015\n0:\tlearn: 0.6856441\ttotal: 1.52ms\tremaining: 1.52s\n300:\tlearn: 0.3841718\ttotal: 347ms\tremaining: 807ms\n600:\tlearn: 0.3275741\ttotal: 684ms\tremaining: 454ms\n900:\tlearn: 0.2731622\ttotal: 1.02s\tremaining: 112ms\n999:\tlearn: 0.2589187\ttotal: 1.13s\tremaining: 0us\nLearning rate set to 0.014015\n0:\tlearn: 0.6871831\ttotal: 1.25ms\tremaining: 1.25s\n300:\tlearn: 0.4010812\ttotal: 329ms\tremaining: 764ms\n600:\tlearn: 0.3437762\ttotal: 662ms\tremaining: 439ms\n900:\tlearn: 0.2875385\ttotal: 1.01s\tremaining: 111ms\n999:\tlearn: 0.2707905\ttotal: 1.13s\tremaining: 0us\nLearning rate set to 0.014015\n0:\tlearn: 0.6870776\ttotal: 1.27ms\tremaining: 1.27s\n300:\tlearn: 0.3981376\ttotal: 362ms\tremaining: 841ms\n600:\tlearn: 0.3437397\ttotal: 716ms\tremaining: 475ms\n900:\tlearn: 0.2920139\ttotal: 1.07s\tremaining: 118ms\n999:\tlearn: 0.2769849\ttotal: 1.24s\tremaining: 0us\nLearning rate set to 0.014015\n0:\tlearn: 0.6871141\ttotal: 1.85ms\tremaining: 1.85s\n300:\tlearn: 0.3810030\ttotal: 404ms\tremaining: 939ms\n600:\tlearn: 0.3242310\ttotal: 871ms\tremaining: 578ms\n900:\tlearn: 0.2755360\ttotal: 1.3s\tremaining: 143ms\n999:\tlearn: 0.2617970\ttotal: 1.42s\tremaining: 0us\nLearning rate set to 0.014015\n0:\tlearn: 0.6866302\ttotal: 1.43ms\tremaining: 1.42s\n300:\tlearn: 0.3901620\ttotal: 377ms\tremaining: 875ms\n600:\tlearn: 0.3309801\ttotal: 786ms\tremaining: 522ms\n900:\tlearn: 0.2770195\ttotal: 1.14s\tremaining: 125ms\n999:\tlearn: 0.2623675\ttotal: 1.25s\tremaining: 0us\nLearning rate set to 0.014015\n0:\tlearn: 0.6853821\ttotal: 1.34ms\tremaining: 1.34s\n300:\tlearn: 0.3694084\ttotal: 367ms\tremaining: 852ms\n600:\tlearn: 0.3142328\ttotal: 737ms\tremaining: 489ms\n900:\tlearn: 0.2633093\ttotal: 1.09s\tremaining: 120ms\n999:\tlearn: 0.2497266\ttotal: 1.2s\tremaining: 0us\nLearning rate set to 0.014015\n0:\tlearn: 0.6864563\ttotal: 1.43ms\tremaining: 1.43s\n300:\tlearn: 0.3823146\ttotal: 357ms\tremaining: 828ms\n600:\tlearn: 0.3251292\ttotal: 719ms\tremaining: 477ms\n900:\tlearn: 0.2736480\ttotal: 1.07s\tremaining: 118ms\n999:\tlearn: 0.2586483\ttotal: 1.19s\tremaining: 0us\nLearning rate set to 0.014015\n0:\tlearn: 0.6864699\ttotal: 2.08ms\tremaining: 2.08s\n300:\tlearn: 0.3721709\ttotal: 375ms\tremaining: 871ms\n600:\tlearn: 0.3143367\ttotal: 738ms\tremaining: 490ms\n900:\tlearn: 0.2619621\ttotal: 1.13s\tremaining: 124ms\n999:\tlearn: 0.2471640\ttotal: 1.27s\tremaining: 0us\nLearning rate set to 0.014015\n0:\tlearn: 0.6871167\ttotal: 1.24ms\tremaining: 1.24s\n300:\tlearn: 0.4043892\ttotal: 360ms\tremaining: 837ms\n600:\tlearn: 0.3432289\ttotal: 710ms\tremaining: 471ms\n900:\tlearn: 0.2859642\ttotal: 1.05s\tremaining: 116ms\n999:\tlearn: 0.2707230\ttotal: 1.18s\tremaining: 0us\nLearning rate set to 0.014015\n0:\tlearn: 0.6875221\ttotal: 1.69ms\tremaining: 1.69s\n300:\tlearn: 0.3914212\ttotal: 347ms\tremaining: 806ms\n600:\tlearn: 0.3326181\ttotal: 681ms\tremaining: 452ms\n900:\tlearn: 0.2762047\ttotal: 1.02s\tremaining: 112ms\n999:\tlearn: 0.2613173\ttotal: 1.13s\tremaining: 0us\nLearning rate set to 0.014015\n0:\tlearn: 0.6856376\ttotal: 1.31ms\tremaining: 1.31s\n300:\tlearn: 0.3782336\ttotal: 349ms\tremaining: 811ms\n600:\tlearn: 0.3244790\ttotal: 706ms\tremaining: 468ms\n900:\tlearn: 0.2751170\ttotal: 1.05s\tremaining: 116ms\n999:\tlearn: 0.2612521\ttotal: 1.17s\tremaining: 0us\nLearning rate set to 0.014015\n0:\tlearn: 0.6861203\ttotal: 1.43ms\tremaining: 1.43s\n300:\tlearn: 0.3763263\ttotal: 346ms\tremaining: 804ms\n600:\tlearn: 0.3207902\ttotal: 705ms\tremaining: 468ms\n900:\tlearn: 0.2653869\ttotal: 1.04s\tremaining: 115ms\n999:\tlearn: 0.2510815\ttotal: 1.16s\tremaining: 0us\nLearning rate set to 0.014015\n0:\tlearn: 0.6862820\ttotal: 2.04ms\tremaining: 2.04s\n300:\tlearn: 0.3892232\ttotal: 344ms\tremaining: 798ms\n600:\tlearn: 0.3324892\ttotal: 694ms\tremaining: 461ms\n900:\tlearn: 0.2813532\ttotal: 1.04s\tremaining: 114ms\n999:\tlearn: 0.2646385\ttotal: 1.16s\tremaining: 0us\nLearning rate set to 0.014015\n0:\tlearn: 0.6866801\ttotal: 1.29ms\tremaining: 1.29s\n300:\tlearn: 0.3928905\ttotal: 365ms\tremaining: 847ms\n600:\tlearn: 0.3375541\ttotal: 730ms\tremaining: 485ms\n900:\tlearn: 0.2813778\ttotal: 1.09s\tremaining: 119ms\n999:\tlearn: 0.2661543\ttotal: 1.2s\tremaining: 0us\nLearning rate set to 0.014015\n0:\tlearn: 0.6854410\ttotal: 1.85ms\tremaining: 1.85s\n300:\tlearn: 0.3544049\ttotal: 352ms\tremaining: 817ms\n600:\tlearn: 0.2985978\ttotal: 696ms\tremaining: 462ms\n900:\tlearn: 0.2457732\ttotal: 1.04s\tremaining: 114ms\n999:\tlearn: 0.2321720\ttotal: 1.15s\tremaining: 0us\nLearning rate set to 0.014015\n0:\tlearn: 0.6866823\ttotal: 1.3ms\tremaining: 1.3s\n300:\tlearn: 0.3833779\ttotal: 339ms\tremaining: 787ms\n600:\tlearn: 0.3254561\ttotal: 677ms\tremaining: 450ms\n900:\tlearn: 0.2729432\ttotal: 1.01s\tremaining: 111ms\n999:\tlearn: 0.2589969\ttotal: 1.12s\tremaining: 0us\nLearning rate set to 0.014015\n0:\tlearn: 0.6866725\ttotal: 1.23ms\tremaining: 1.23s\n300:\tlearn: 0.3885180\ttotal: 344ms\tremaining: 799ms\n600:\tlearn: 0.3316135\ttotal: 692ms\tremaining: 459ms\n900:\tlearn: 0.2775937\ttotal: 1.04s\tremaining: 114ms\n999:\tlearn: 0.2617514\ttotal: 1.15s\tremaining: 0us\nLearning rate set to 0.014015\n0:\tlearn: 0.6863624\ttotal: 1.4ms\tremaining: 1.4s\n300:\tlearn: 0.3919555\ttotal: 336ms\tremaining: 780ms\n600:\tlearn: 0.3362340\ttotal: 689ms\tremaining: 457ms\n900:\tlearn: 0.2847932\ttotal: 1.02s\tremaining: 113ms\n999:\tlearn: 0.2677073\ttotal: 1.14s\tremaining: 0us\nLearning rate set to 0.014015\n0:\tlearn: 0.6859079\ttotal: 1.56ms\tremaining: 1.56s\n300:\tlearn: 0.3792189\ttotal: 359ms\tremaining: 834ms\n600:\tlearn: 0.3248783\ttotal: 744ms\tremaining: 494ms\n900:\tlearn: 0.2683087\ttotal: 1.1s\tremaining: 121ms\n999:\tlearn: 0.2548473\ttotal: 1.22s\tremaining: 0us\nLearning rate set to 0.014015\n0:\tlearn: 0.6866068\ttotal: 1.43ms\tremaining: 1.42s\n300:\tlearn: 0.3922781\ttotal: 336ms\tremaining: 780ms\n600:\tlearn: 0.3329200\ttotal: 684ms\tremaining: 454ms\n900:\tlearn: 0.2805607\ttotal: 1.02s\tremaining: 112ms\n999:\tlearn: 0.2674010\ttotal: 1.13s\tremaining: 0us\n"
    },
    {
     "name": "stderr",
     "output_type": "stream",
     "text": "/opt/conda/lib/python3.9/site-packages/sklearn/base.py:77: ExperimentalWarning: OptunaSearchCV is experimental (supported from v0.17.0). The interface can change in the future.\n  new_object = klass(**new_object_params)\n\u001B[32m[I 2023-03-09 12:52:33,544]\u001B[0m A new study created in memory with name: no-name-9037b81a-f7cc-40b1-93f5-e274e040b7c6\u001B[0m\n\u001B[32m[I 2023-03-09 12:52:33,596]\u001B[0m Trial 0 finished with value: 0.7879585666028867 and parameters: {'max_depth': 12, 'min_samples_split': 51, 'min_samples_leaf': 20, 'n_estimators': 3}. Best is trial 0 with value: 0.7879585666028867.\u001B[0m\n\u001B[32m[I 2023-03-09 12:52:33,671]\u001B[0m Trial 1 finished with value: 0.780165591855054 and parameters: {'max_depth': 29, 'min_samples_split': 36, 'min_samples_leaf': 44, 'n_estimators': 6}. Best is trial 0 with value: 0.7879585666028867.\u001B[0m\n"
    },
    {
     "name": "stdout",
     "output_type": "stream",
     "text": "BaggingClassifier, model = catboosting\n              precision    recall  f1-score   support\n\n           0       0.83      0.93      0.88       358\n           1       0.78      0.57      0.66       157\n\n    accuracy                           0.82       515\n   macro avg       0.81      0.75      0.77       515\nweighted avg       0.82      0.82      0.81       515\n\n"
    },
    {
     "name": "stderr",
     "output_type": "stream",
     "text": "\u001B[32m[I 2023-03-09 12:52:33,858]\u001B[0m Trial 2 finished with value: 0.7767628091559777 and parameters: {'max_depth': 17, 'min_samples_split': 13, 'min_samples_leaf': 60, 'n_estimators': 18}. Best is trial 0 with value: 0.7879585666028867.\u001B[0m\n\u001B[32m[I 2023-03-09 12:52:33,882]\u001B[0m Trial 3 finished with value: 0.7767628091559775 and parameters: {'max_depth': 17, 'min_samples_split': 46, 'min_samples_leaf': 10, 'n_estimators': 1}. Best is trial 0 with value: 0.7879585666028867.\u001B[0m\n\u001B[32m[I 2023-03-09 12:52:33,947]\u001B[0m Trial 4 finished with value: 0.7782214820589138 and parameters: {'max_depth': 7, 'min_samples_split': 93, 'min_samples_leaf': 40, 'n_estimators': 5}. Best is trial 0 with value: 0.7879585666028867.\u001B[0m\n\u001B[32m[I 2023-03-09 12:52:34,108]\u001B[0m Trial 5 finished with value: 0.7787092811754424 and parameters: {'max_depth': 5, 'min_samples_split': 54, 'min_samples_leaf': 83, 'n_estimators': 17}. Best is trial 0 with value: 0.7879585666028867.\u001B[0m\n\u001B[32m[I 2023-03-09 12:52:34,269]\u001B[0m Trial 6 finished with value: 0.781627808092977 and parameters: {'max_depth': 21, 'min_samples_split': 75, 'min_samples_leaf': 53, 'n_estimators': 14}. Best is trial 0 with value: 0.7879585666028867.\u001B[0m\n\u001B[32m[I 2023-03-09 12:52:34,332]\u001B[0m Trial 7 finished with value: 0.8049748423215931 and parameters: {'max_depth': 9, 'min_samples_split': 45, 'min_samples_leaf': 7, 'n_estimators': 4}. Best is trial 7 with value: 0.8049748423215931.\u001B[0m\n\u001B[32m[I 2023-03-09 12:52:34,371]\u001B[0m Trial 8 finished with value: 0.7694647201946473 and parameters: {'max_depth': 12, 'min_samples_split': 85, 'min_samples_leaf': 56, 'n_estimators': 2}. Best is trial 7 with value: 0.8049748423215931.\u001B[0m\n\u001B[32m[I 2023-03-09 12:52:34,525]\u001B[0m Trial 9 finished with value: 0.7762761911511113 and parameters: {'max_depth': 14, 'min_samples_split': 49, 'min_samples_leaf': 75, 'n_estimators': 14}. Best is trial 7 with value: 0.8049748423215931.\u001B[0m\n/opt/conda/lib/python3.9/site-packages/sklearn/base.py:77: ExperimentalWarning: OptunaSearchCV is experimental (supported from v0.17.0). The interface can change in the future.\n  new_object = klass(**new_object_params)\n\u001B[32m[I 2023-03-09 12:52:34,549]\u001B[0m A new study created in memory with name: no-name-6a590370-f992-4ade-8244-88cca88f742f\u001B[0m\n\u001B[32m[I 2023-03-09 12:52:34,707]\u001B[0m Trial 0 finished with value: 0.7714182788840857 and parameters: {'max_depth': 2, 'min_samples_split': 93, 'min_samples_leaf': 56, 'n_estimators': 18}. Best is trial 0 with value: 0.7714182788840857.\u001B[0m\n\u001B[32m[I 2023-03-09 12:52:34,889]\u001B[0m Trial 1 finished with value: 0.7748305104764605 and parameters: {'max_depth': 30, 'min_samples_split': 21, 'min_samples_leaf': 95, 'n_estimators': 18}. Best is trial 1 with value: 0.7748305104764605.\u001B[0m\n\u001B[32m[I 2023-03-09 12:52:35,017]\u001B[0m Trial 2 finished with value: 0.7840608981173081 and parameters: {'max_depth': 24, 'min_samples_split': 32, 'min_samples_leaf': 34, 'n_estimators': 11}. Best is trial 2 with value: 0.7840608981173081.\u001B[0m\n\u001B[32m[I 2023-03-09 12:52:35,164]\u001B[0m Trial 3 finished with value: 0.775314766258002 and parameters: {'max_depth': 10, 'min_samples_split': 94, 'min_samples_leaf': 81, 'n_estimators': 14}. Best is trial 2 with value: 0.7840608981173081.\u001B[0m\n\u001B[32m[I 2023-03-09 12:52:35,314]\u001B[0m Trial 4 finished with value: 0.7777454940590083 and parameters: {'max_depth': 21, 'min_samples_split': 86, 'min_samples_leaf': 43, 'n_estimators': 13}. Best is trial 2 with value: 0.7840608981173081.\u001B[0m\n\u001B[32m[I 2023-03-09 12:52:35,411]\u001B[0m Trial 5 finished with value: 0.7743403491366074 and parameters: {'max_depth': 22, 'min_samples_split': 31, 'min_samples_leaf': 97, 'n_estimators': 9}. Best is trial 2 with value: 0.7840608981173081.\u001B[0m\n\u001B[32m[I 2023-03-09 12:52:35,442]\u001B[0m Trial 6 finished with value: 0.7276321073394278 and parameters: {'max_depth': 29, 'min_samples_split': 100, 'min_samples_leaf': 88, 'n_estimators': 1}. Best is trial 2 with value: 0.7840608981173081.\u001B[0m\n\u001B[32m[I 2023-03-09 12:52:35,489]\u001B[0m Trial 7 finished with value: 0.7757954787045567 and parameters: {'max_depth': 20, 'min_samples_split': 82, 'min_samples_leaf': 91, 'n_estimators': 4}. Best is trial 2 with value: 0.7840608981173081.\u001B[0m\n\u001B[32m[I 2023-03-09 12:52:35,686]\u001B[0m Trial 8 finished with value: 0.8030212836321546 and parameters: {'max_depth': 26, 'min_samples_split': 27, 'min_samples_leaf': 20, 'n_estimators': 16}. Best is trial 8 with value: 0.8030212836321546.\u001B[0m\n\u001B[32m[I 2023-03-09 12:52:35,787]\u001B[0m Trial 9 finished with value: 0.7743415302482697 and parameters: {'max_depth': 8, 'min_samples_split': 79, 'min_samples_leaf': 94, 'n_estimators': 9}. Best is trial 8 with value: 0.8030212836321546.\u001B[0m\n/opt/conda/lib/python3.9/site-packages/sklearn/base.py:77: ExperimentalWarning: OptunaSearchCV is experimental (supported from v0.17.0). The interface can change in the future.\n  new_object = klass(**new_object_params)\n\u001B[32m[I 2023-03-09 12:52:35,829]\u001B[0m A new study created in memory with name: no-name-3169179d-ea3d-4a2b-8764-1ea789d96a7b\u001B[0m\n\u001B[32m[I 2023-03-09 12:52:36,050]\u001B[0m Trial 0 finished with value: 0.7928023055299648 and parameters: {'max_depth': 8, 'min_samples_split': 60, 'min_samples_leaf': 34, 'n_estimators': 20}. Best is trial 0 with value: 0.7928023055299648.\u001B[0m\n\u001B[32m[I 2023-03-09 12:52:36,104]\u001B[0m Trial 1 finished with value: 0.7874589563697352 and parameters: {'max_depth': 14, 'min_samples_split': 80, 'min_samples_leaf': 33, 'n_estimators': 4}. Best is trial 0 with value: 0.7928023055299648.\u001B[0m\n\u001B[32m[I 2023-03-09 12:52:36,201]\u001B[0m Trial 2 finished with value: 0.7889117237143599 and parameters: {'max_depth': 6, 'min_samples_split': 97, 'min_samples_leaf': 12, 'n_estimators': 9}. Best is trial 0 with value: 0.7928023055299648.\u001B[0m\n\u001B[32m[I 2023-03-09 12:52:36,270]\u001B[0m Trial 3 finished with value: 0.7757860298112584 and parameters: {'max_depth': 24, 'min_samples_split': 56, 'min_samples_leaf': 51, 'n_estimators': 5}. Best is trial 0 with value: 0.7928023055299648.\u001B[0m\n\u001B[32m[I 2023-03-09 12:52:36,296]\u001B[0m Trial 4 finished with value: 0.7422188363687903 and parameters: {'max_depth': 14, 'min_samples_split': 5, 'min_samples_leaf': 87, 'n_estimators': 1}. Best is trial 0 with value: 0.7928023055299648.\u001B[0m\n\u001B[32m[I 2023-03-09 12:52:36,507]\u001B[0m Trial 5 finished with value: 0.7928093921999386 and parameters: {'max_depth': 9, 'min_samples_split': 85, 'min_samples_leaf': 51, 'n_estimators': 19}. Best is trial 5 with value: 0.7928093921999386.\u001B[0m\n\u001B[32m[I 2023-03-09 12:52:36,685]\u001B[0m Trial 6 finished with value: 0.797180686462098 and parameters: {'max_depth': 15, 'min_samples_split': 42, 'min_samples_leaf': 31, 'n_estimators': 15}. Best is trial 6 with value: 0.797180686462098.\u001B[0m\n\u001B[32m[I 2023-03-09 12:52:36,896]\u001B[0m Trial 7 finished with value: 0.7942633406562256 and parameters: {'max_depth': 26, 'min_samples_split': 94, 'min_samples_leaf': 20, 'n_estimators': 18}. Best is trial 6 with value: 0.797180686462098.\u001B[0m\n\u001B[32m[I 2023-03-09 12:52:36,982]\u001B[0m Trial 8 finished with value: 0.7646044457042969 and parameters: {'max_depth': 12, 'min_samples_split': 57, 'min_samples_leaf': 73, 'n_estimators': 8}. Best is trial 6 with value: 0.797180686462098.\u001B[0m\n\u001B[32m[I 2023-03-09 12:52:37,060]\u001B[0m Trial 9 finished with value: 0.7825939574327356 and parameters: {'max_depth': 24, 'min_samples_split': 49, 'min_samples_leaf': 55, 'n_estimators': 6}. Best is trial 6 with value: 0.797180686462098.\u001B[0m\n/opt/conda/lib/python3.9/site-packages/sklearn/base.py:77: ExperimentalWarning: OptunaSearchCV is experimental (supported from v0.17.0). The interface can change in the future.\n  new_object = klass(**new_object_params)\n\u001B[32m[I 2023-03-09 12:52:37,099]\u001B[0m A new study created in memory with name: no-name-3a347d4b-dad3-4b09-ac8a-44c5749afba1\u001B[0m\n\u001B[32m[I 2023-03-09 12:52:37,144]\u001B[0m Trial 0 finished with value: 0.7543665698155103 and parameters: {'max_depth': 3, 'min_samples_split': 19, 'min_samples_leaf': 47, 'n_estimators': 2}. Best is trial 0 with value: 0.7543665698155103.\u001B[0m\n\u001B[32m[I 2023-03-09 12:52:37,175]\u001B[0m Trial 1 finished with value: 0.7504736257765809 and parameters: {'max_depth': 2, 'min_samples_split': 66, 'min_samples_leaf': 49, 'n_estimators': 2}. Best is trial 0 with value: 0.7543665698155103.\u001B[0m\n"
    },
    {
     "name": "stderr",
     "output_type": "stream",
     "text": "\u001B[32m[I 2023-03-09 12:52:37,301]\u001B[0m Trial 2 finished with value: 0.7300533862471358 and parameters: {'max_depth': 1, 'min_samples_split': 72, 'min_samples_leaf': 68, 'n_estimators': 14}. Best is trial 0 with value: 0.7543665698155103.\u001B[0m\n\u001B[32m[I 2023-03-09 12:52:37,379]\u001B[0m Trial 3 finished with value: 0.7621441901117332 and parameters: {'max_depth': 30, 'min_samples_split': 40, 'min_samples_leaf': 76, 'n_estimators': 6}. Best is trial 3 with value: 0.7621441901117332.\u001B[0m\n\u001B[32m[I 2023-03-09 12:52:37,402]\u001B[0m Trial 4 finished with value: 0.7723690737722345 and parameters: {'max_depth': 8, 'min_samples_split': 67, 'min_samples_leaf': 4, 'n_estimators': 1}. Best is trial 4 with value: 0.7723690737722345.\u001B[0m\n\u001B[32m[I 2023-03-09 12:52:37,509]\u001B[0m Trial 5 finished with value: 0.7718789124323813 and parameters: {'max_depth': 2, 'min_samples_split': 83, 'min_samples_leaf': 27, 'n_estimators': 11}. Best is trial 4 with value: 0.7723690737722345.\u001B[0m\n\u001B[32m[I 2023-03-09 12:52:37,698]\u001B[0m Trial 6 finished with value: 0.7966881628989204 and parameters: {'max_depth': 15, 'min_samples_split': 2, 'min_samples_leaf': 19, 'n_estimators': 17}. Best is trial 6 with value: 0.7966881628989204.\u001B[0m\n\u001B[32m[I 2023-03-09 12:52:37,847]\u001B[0m Trial 7 finished with value: 0.7738230222285215 and parameters: {'max_depth': 23, 'min_samples_split': 84, 'min_samples_leaf': 74, 'n_estimators': 13}. Best is trial 6 with value: 0.7966881628989204.\u001B[0m\n\u001B[32m[I 2023-03-09 12:52:37,873]\u001B[0m Trial 8 finished with value: 0.7431767179269129 and parameters: {'max_depth': 29, 'min_samples_split': 52, 'min_samples_leaf': 71, 'n_estimators': 1}. Best is trial 6 with value: 0.7966881628989204.\u001B[0m\n\u001B[32m[I 2023-03-09 12:52:38,017]\u001B[0m Trial 9 finished with value: 0.7932806557531948 and parameters: {'max_depth': 28, 'min_samples_split': 32, 'min_samples_leaf': 23, 'n_estimators': 12}. Best is trial 6 with value: 0.7966881628989204.\u001B[0m\n/opt/conda/lib/python3.9/site-packages/sklearn/base.py:77: ExperimentalWarning: OptunaSearchCV is experimental (supported from v0.17.0). The interface can change in the future.\n  new_object = klass(**new_object_params)\n\u001B[32m[I 2023-03-09 12:52:38,068]\u001B[0m A new study created in memory with name: no-name-7e737a9f-042b-435b-9678-1f453e491f0b\u001B[0m\n\u001B[32m[I 2023-03-09 12:52:38,190]\u001B[0m Trial 0 finished with value: 0.7738360144568068 and parameters: {'max_depth': 12, 'min_samples_split': 45, 'min_samples_leaf': 61, 'n_estimators': 11}. Best is trial 0 with value: 0.7738360144568068.\u001B[0m\n\u001B[32m[I 2023-03-09 12:52:38,314]\u001B[0m Trial 1 finished with value: 0.7748068882432146 and parameters: {'max_depth': 20, 'min_samples_split': 2, 'min_samples_leaf': 82, 'n_estimators': 11}. Best is trial 1 with value: 0.7748068882432146.\u001B[0m\n\u001B[32m[I 2023-03-09 12:52:38,363]\u001B[0m Trial 2 finished with value: 0.7714100111024496 and parameters: {'max_depth': 16, 'min_samples_split': 56, 'min_samples_leaf': 58, 'n_estimators': 3}. Best is trial 1 with value: 0.7748068882432146.\u001B[0m\n\u001B[32m[I 2023-03-09 12:52:38,481]\u001B[0m Trial 3 finished with value: 0.771881274655706 and parameters: {'max_depth': 3, 'min_samples_split': 24, 'min_samples_leaf': 87, 'n_estimators': 13}. Best is trial 1 with value: 0.7748068882432146.\u001B[0m\n\u001B[32m[I 2023-03-09 12:52:38,526]\u001B[0m Trial 4 finished with value: 0.8171154890983393 and parameters: {'max_depth': 13, 'min_samples_split': 27, 'min_samples_leaf': 4, 'n_estimators': 3}. Best is trial 4 with value: 0.8171154890983393.\u001B[0m\n\u001B[32m[I 2023-03-09 12:52:38,711]\u001B[0m Trial 5 finished with value: 0.7971854109087472 and parameters: {'max_depth': 17, 'min_samples_split': 73, 'min_samples_leaf': 17, 'n_estimators': 16}. Best is trial 4 with value: 0.8171154890983393.\u001B[0m\n\u001B[32m[I 2023-03-09 12:52:38,878]\u001B[0m Trial 6 finished with value: 0.7923227741950724 and parameters: {'max_depth': 9, 'min_samples_split': 77, 'min_samples_leaf': 30, 'n_estimators': 15}. Best is trial 4 with value: 0.8171154890983393.\u001B[0m\n\u001B[32m[I 2023-03-09 12:52:39,031]\u001B[0m Trial 7 finished with value: 0.7962109937873527 and parameters: {'max_depth': 21, 'min_samples_split': 46, 'min_samples_leaf': 20, 'n_estimators': 10}. Best is trial 4 with value: 0.8171154890983393.\u001B[0m\n\u001B[32m[I 2023-03-09 12:52:39,133]\u001B[0m Trial 8 finished with value: 0.7743238135733352 and parameters: {'max_depth': 9, 'min_samples_split': 60, 'min_samples_leaf': 59, 'n_estimators': 8}. Best is trial 4 with value: 0.8171154890983393.\u001B[0m\n\u001B[32m[I 2023-03-09 12:52:39,305]\u001B[0m Trial 9 finished with value: 0.780643942078284 and parameters: {'max_depth': 30, 'min_samples_split': 59, 'min_samples_leaf': 44, 'n_estimators': 16}. Best is trial 4 with value: 0.8171154890983393.\u001B[0m\n/opt/conda/lib/python3.9/site-packages/sklearn/base.py:77: ExperimentalWarning: OptunaSearchCV is experimental (supported from v0.17.0). The interface can change in the future.\n  new_object = klass(**new_object_params)\n\u001B[32m[I 2023-03-09 12:52:39,317]\u001B[0m A new study created in memory with name: no-name-a59f5002-463a-45fc-a9e9-5b589e660dde\u001B[0m\n\u001B[32m[I 2023-03-09 12:52:39,376]\u001B[0m Trial 0 finished with value: 0.7772447027141947 and parameters: {'max_depth': 3, 'min_samples_split': 19, 'min_samples_leaf': 31, 'n_estimators': 5}. Best is trial 0 with value: 0.7772447027141947.\u001B[0m\n\u001B[32m[I 2023-03-09 12:52:39,537]\u001B[0m Trial 1 finished with value: 0.7879455743746014 and parameters: {'max_depth': 12, 'min_samples_split': 11, 'min_samples_leaf': 69, 'n_estimators': 15}. Best is trial 1 with value: 0.7879455743746014.\u001B[0m\n\u001B[32m[I 2023-03-09 12:52:39,585]\u001B[0m Trial 2 finished with value: 0.7801608674084048 and parameters: {'max_depth': 3, 'min_samples_split': 99, 'min_samples_leaf': 44, 'n_estimators': 4}. Best is trial 1 with value: 0.7879455743746014.\u001B[0m\n\u001B[32m[I 2023-03-09 12:52:39,759]\u001B[0m Trial 3 finished with value: 0.7830758509909528 and parameters: {'max_depth': 23, 'min_samples_split': 35, 'min_samples_leaf': 80, 'n_estimators': 18}. Best is trial 1 with value: 0.7879455743746014.\u001B[0m\n\u001B[32m[I 2023-03-09 12:52:39,825]\u001B[0m Trial 4 finished with value: 0.7738478255734297 and parameters: {'max_depth': 27, 'min_samples_split': 8, 'min_samples_leaf': 64, 'n_estimators': 4}. Best is trial 1 with value: 0.7879455743746014.\u001B[0m\n\u001B[32m[I 2023-03-09 12:52:39,863]\u001B[0m Trial 5 finished with value: 0.7918337939668817 and parameters: {'max_depth': 16, 'min_samples_split': 26, 'min_samples_leaf': 26, 'n_estimators': 2}. Best is trial 5 with value: 0.7918337939668817.\u001B[0m\n\u001B[32m[I 2023-03-09 12:52:39,896]\u001B[0m Trial 6 finished with value: 0.7952377577776203 and parameters: {'max_depth': 28, 'min_samples_split': 72, 'min_samples_leaf': 7, 'n_estimators': 2}. Best is trial 6 with value: 0.7952377577776203.\u001B[0m\n\u001B[32m[I 2023-03-09 12:52:40,094]\u001B[0m Trial 7 finished with value: 0.8010818982826636 and parameters: {'max_depth': 11, 'min_samples_split': 93, 'min_samples_leaf': 25, 'n_estimators': 18}. Best is trial 7 with value: 0.8010818982826636.\u001B[0m\n\u001B[32m[I 2023-03-09 12:52:40,290]\u001B[0m Trial 8 finished with value: 0.793297191316467 and parameters: {'max_depth': 19, 'min_samples_split': 19, 'min_samples_leaf': 60, 'n_estimators': 18}. Best is trial 7 with value: 0.8010818982826636.\u001B[0m\n\u001B[32m[I 2023-03-09 12:52:40,465]\u001B[0m Trial 9 finished with value: 0.7986452649233459 and parameters: {'max_depth': 13, 'min_samples_split': 41, 'min_samples_leaf': 32, 'n_estimators': 15}. Best is trial 7 with value: 0.8010818982826636.\u001B[0m\n/opt/conda/lib/python3.9/site-packages/sklearn/base.py:77: ExperimentalWarning: OptunaSearchCV is experimental (supported from v0.17.0). The interface can change in the future.\n  new_object = klass(**new_object_params)\n\u001B[32m[I 2023-03-09 12:52:40,518]\u001B[0m A new study created in memory with name: no-name-6d7c63d0-60c3-42be-8376-e771e56b8dbe\u001B[0m\n\u001B[32m[I 2023-03-09 12:52:40,728]\u001B[0m Trial 0 finished with value: 0.8059232749864172 and parameters: {'max_depth': 12, 'min_samples_split': 33, 'min_samples_leaf': 20, 'n_estimators': 17}. Best is trial 0 with value: 0.8059232749864172.\u001B[0m\n\u001B[32m[I 2023-03-09 12:52:40,784]\u001B[0m Trial 1 finished with value: 0.7752840573547822 and parameters: {'max_depth': 4, 'min_samples_split': 72, 'min_samples_leaf': 83, 'n_estimators': 5}. Best is trial 0 with value: 0.8059232749864172.\u001B[0m\n"
    },
    {
     "name": "stderr",
     "output_type": "stream",
     "text": "\u001B[32m[I 2023-03-09 12:52:40,853]\u001B[0m Trial 2 finished with value: 0.7874436019181255 and parameters: {'max_depth': 12, 'min_samples_split': 36, 'min_samples_leaf': 20, 'n_estimators': 4}. Best is trial 0 with value: 0.8059232749864172.\u001B[0m\n\u001B[32m[I 2023-03-09 12:52:40,878]\u001B[0m Trial 3 finished with value: 0.7762596555878392 and parameters: {'max_depth': 30, 'min_samples_split': 87, 'min_samples_leaf': 32, 'n_estimators': 1}. Best is trial 0 with value: 0.8059232749864172.\u001B[0m\n\u001B[32m[I 2023-03-09 12:52:41,077]\u001B[0m Trial 4 finished with value: 0.7786880211655209 and parameters: {'max_depth': 23, 'min_samples_split': 31, 'min_samples_leaf': 96, 'n_estimators': 20}. Best is trial 0 with value: 0.8059232749864172.\u001B[0m\n\u001B[32m[I 2023-03-09 12:52:41,194]\u001B[0m Trial 5 finished with value: 0.8049512200883472 and parameters: {'max_depth': 24, 'min_samples_split': 85, 'min_samples_leaf': 30, 'n_estimators': 10}. Best is trial 0 with value: 0.8059232749864172.\u001B[0m\n\u001B[32m[I 2023-03-09 12:52:41,337]\u001B[0m Trial 6 finished with value: 0.7641012921361586 and parameters: {'max_depth': 3, 'min_samples_split': 36, 'min_samples_leaf': 99, 'n_estimators': 16}. Best is trial 0 with value: 0.8059232749864172.\u001B[0m\n\u001B[32m[I 2023-03-09 12:52:41,500]\u001B[0m Trial 7 finished with value: 0.7908475657288639 and parameters: {'max_depth': 20, 'min_samples_split': 89, 'min_samples_leaf': 43, 'n_estimators': 15}. Best is trial 0 with value: 0.8059232749864172.\u001B[0m\n\u001B[32m[I 2023-03-09 12:52:41,697]\u001B[0m Trial 8 finished with value: 0.8127359270545437 and parameters: {'max_depth': 28, 'min_samples_split': 71, 'min_samples_leaf': 1, 'n_estimators': 16}. Best is trial 8 with value: 0.8127359270545437.\u001B[0m\n\u001B[32m[I 2023-03-09 12:52:41,889]\u001B[0m Trial 9 finished with value: 0.7903644910589847 and parameters: {'max_depth': 7, 'min_samples_split': 86, 'min_samples_leaf': 49, 'n_estimators': 19}. Best is trial 8 with value: 0.8127359270545437.\u001B[0m\n/opt/conda/lib/python3.9/site-packages/sklearn/base.py:77: ExperimentalWarning: OptunaSearchCV is experimental (supported from v0.17.0). The interface can change in the future.\n  new_object = klass(**new_object_params)\n\u001B[32m[I 2023-03-09 12:52:41,946]\u001B[0m A new study created in memory with name: no-name-39186270-9258-48c5-babc-9ecedf2b77ea\u001B[0m\n\u001B[32m[I 2023-03-09 12:52:42,119]\u001B[0m Trial 0 finished with value: 0.8044752320884416 and parameters: {'max_depth': 20, 'min_samples_split': 59, 'min_samples_leaf': 7, 'n_estimators': 15}. Best is trial 0 with value: 0.8044752320884416.\u001B[0m\n\u001B[32m[I 2023-03-09 12:52:42,173]\u001B[0m Trial 1 finished with value: 0.7675241537334939 and parameters: {'max_depth': 7, 'min_samples_split': 60, 'min_samples_leaf': 67, 'n_estimators': 4}. Best is trial 0 with value: 0.8044752320884416.\u001B[0m\n\u001B[32m[I 2023-03-09 12:52:42,361]\u001B[0m Trial 2 finished with value: 0.7859991023551367 and parameters: {'max_depth': 18, 'min_samples_split': 20, 'min_samples_leaf': 44, 'n_estimators': 17}. Best is trial 0 with value: 0.8044752320884416.\u001B[0m\n\u001B[32m[I 2023-03-09 12:52:42,501]\u001B[0m Trial 3 finished with value: 0.7908617390688116 and parameters: {'max_depth': 20, 'min_samples_split': 66, 'min_samples_leaf': 32, 'n_estimators': 13}. Best is trial 0 with value: 0.8044752320884416.\u001B[0m\n\u001B[32m[I 2023-03-09 12:52:42,539]\u001B[0m Trial 4 finished with value: 0.7675217915101694 and parameters: {'max_depth': 8, 'min_samples_split': 11, 'min_samples_leaf': 83, 'n_estimators': 2}. Best is trial 0 with value: 0.8044752320884416.\u001B[0m\n\u001B[32m[I 2023-03-09 12:52:42,615]\u001B[0m Trial 5 finished with value: 0.7786974700588194 and parameters: {'max_depth': 25, 'min_samples_split': 96, 'min_samples_leaf': 36, 'n_estimators': 7}. Best is trial 0 with value: 0.8044752320884416.\u001B[0m\n\u001B[32m[I 2023-03-09 12:52:42,764]\u001B[0m Trial 6 finished with value: 0.7718907235490043 and parameters: {'max_depth': 11, 'min_samples_split': 82, 'min_samples_leaf': 68, 'n_estimators': 14}. Best is trial 0 with value: 0.8044752320884416.\u001B[0m\n\u001B[32m[I 2023-03-09 12:52:42,849]\u001B[0m Trial 7 finished with value: 0.8083575461224104 and parameters: {'max_depth': 27, 'min_samples_split': 84, 'min_samples_leaf': 2, 'n_estimators': 6}. Best is trial 7 with value: 0.8083575461224104.\u001B[0m\n\u001B[32m[I 2023-03-09 12:52:42,881]\u001B[0m Trial 8 finished with value: 0.7864798148016913 and parameters: {'max_depth': 27, 'min_samples_split': 97, 'min_samples_leaf': 20, 'n_estimators': 2}. Best is trial 7 with value: 0.8083575461224104.\u001B[0m\n\u001B[32m[I 2023-03-09 12:52:43,080]\u001B[0m Trial 9 finished with value: 0.8141957810691423 and parameters: {'max_depth': 12, 'min_samples_split': 28, 'min_samples_leaf': 6, 'n_estimators': 17}. Best is trial 9 with value: 0.8141957810691423.\u001B[0m\n/opt/conda/lib/python3.9/site-packages/sklearn/base.py:77: ExperimentalWarning: OptunaSearchCV is experimental (supported from v0.17.0). The interface can change in the future.\n  new_object = klass(**new_object_params)\n\u001B[32m[I 2023-03-09 12:52:43,124]\u001B[0m A new study created in memory with name: no-name-63954009-4528-4da8-a6db-cc20d88204f7\u001B[0m\n\u001B[32m[I 2023-03-09 12:52:43,229]\u001B[0m Trial 0 finished with value: 0.77577658091796 and parameters: {'max_depth': 14, 'min_samples_split': 64, 'min_samples_leaf': 83, 'n_estimators': 9}. Best is trial 0 with value: 0.77577658091796.\u001B[0m\n\u001B[32m[I 2023-03-09 12:52:43,340]\u001B[0m Trial 1 finished with value: 0.7928011244183025 and parameters: {'max_depth': 18, 'min_samples_split': 48, 'min_samples_leaf': 28, 'n_estimators': 9}. Best is trial 1 with value: 0.7928011244183025.\u001B[0m\n\u001B[32m[I 2023-03-09 12:52:43,454]\u001B[0m Trial 2 finished with value: 0.7952318522193088 and parameters: {'max_depth': 20, 'min_samples_split': 85, 'min_samples_leaf': 20, 'n_estimators': 10}. Best is trial 2 with value: 0.7952318522193088.\u001B[0m\n\u001B[32m[I 2023-03-09 12:52:43,618]\u001B[0m Trial 3 finished with value: 0.7923156875250987 and parameters: {'max_depth': 21, 'min_samples_split': 60, 'min_samples_leaf': 48, 'n_estimators': 16}. Best is trial 2 with value: 0.7952318522193088.\u001B[0m\n\u001B[32m[I 2023-03-09 12:52:43,817]\u001B[0m Trial 4 finished with value: 0.7908534712871755 and parameters: {'max_depth': 30, 'min_samples_split': 35, 'min_samples_leaf': 52, 'n_estimators': 20}. Best is trial 2 with value: 0.7952318522193088.\u001B[0m\n\u001B[32m[I 2023-03-09 12:52:43,999]\u001B[0m Trial 5 finished with value: 0.780153780738431 and parameters: {'max_depth': 6, 'min_samples_split': 11, 'min_samples_leaf': 69, 'n_estimators': 18}. Best is trial 2 with value: 0.7952318522193088.\u001B[0m\n\u001B[32m[I 2023-03-09 12:52:44,175]\u001B[0m Trial 6 finished with value: 0.7976649422436398 and parameters: {'max_depth': 20, 'min_samples_split': 67, 'min_samples_leaf': 14, 'n_estimators': 15}. Best is trial 6 with value: 0.7976649422436398.\u001B[0m\n\u001B[32m[I 2023-03-09 12:52:44,329]\u001B[0m Trial 7 finished with value: 0.78988377861243 and parameters: {'max_depth': 27, 'min_samples_split': 38, 'min_samples_leaf': 45, 'n_estimators': 13}. Best is trial 6 with value: 0.7976649422436398.\u001B[0m\n\u001B[32m[I 2023-03-09 12:52:44,461]\u001B[0m Trial 8 finished with value: 0.7782084898306285 and parameters: {'max_depth': 12, 'min_samples_split': 64, 'min_samples_leaf': 78, 'n_estimators': 12}. Best is trial 6 with value: 0.7976649422436398.\u001B[0m\n\u001B[32m[I 2023-03-09 12:52:44,582]\u001B[0m Trial 9 finished with value: 0.7767498169276924 and parameters: {'max_depth': 28, 'min_samples_split': 71, 'min_samples_leaf': 90, 'n_estimators': 11}. Best is trial 6 with value: 0.7976649422436398.\u001B[0m\n/opt/conda/lib/python3.9/site-packages/sklearn/base.py:77: ExperimentalWarning: OptunaSearchCV is experimental (supported from v0.17.0). The interface can change in the future.\n  new_object = klass(**new_object_params)\n\u001B[32m[I 2023-03-09 12:52:44,619]\u001B[0m A new study created in memory with name: no-name-11582da2-9839-46c7-b9ce-6663fd0236f0\u001B[0m\n\u001B[32m[I 2023-03-09 12:52:44,739]\u001B[0m Trial 0 finished with value: 0.7806380365199727 and parameters: {'max_depth': 20, 'min_samples_split': 79, 'min_samples_leaf': 67, 'n_estimators': 11}. Best is trial 0 with value: 0.7806380365199727.\u001B[0m\n\u001B[32m[I 2023-03-09 12:52:44,857]\u001B[0m Trial 1 finished with value: 0.7845333427822266 and parameters: {'max_depth': 15, 'min_samples_split': 34, 'min_samples_leaf': 88, 'n_estimators': 11}. Best is trial 1 with value: 0.7845333427822266.\u001B[0m\n"
    },
    {
     "name": "stderr",
     "output_type": "stream",
     "text": "\u001B[32m[I 2023-03-09 12:52:44,933]\u001B[0m Trial 2 finished with value: 0.7850175985637683 and parameters: {'max_depth': 27, 'min_samples_split': 100, 'min_samples_leaf': 67, 'n_estimators': 6}. Best is trial 2 with value: 0.7850175985637683.\u001B[0m\n\u001B[32m[I 2023-03-09 12:52:45,091]\u001B[0m Trial 3 finished with value: 0.838521956865802 and parameters: {'max_depth': 24, 'min_samples_split': 11, 'min_samples_leaf': 6, 'n_estimators': 12}. Best is trial 3 with value: 0.838521956865802.\u001B[0m\n\u001B[32m[I 2023-03-09 12:52:45,243]\u001B[0m Trial 4 finished with value: 0.7918278884085703 and parameters: {'max_depth': 7, 'min_samples_split': 22, 'min_samples_leaf': 37, 'n_estimators': 14}. Best is trial 3 with value: 0.838521956865802.\u001B[0m\n\u001B[32m[I 2023-03-09 12:52:45,340]\u001B[0m Trial 5 finished with value: 0.8137174308459121 and parameters: {'max_depth': 8, 'min_samples_split': 32, 'min_samples_leaf': 8, 'n_estimators': 8}. Best is trial 3 with value: 0.838521956865802.\u001B[0m\n\u001B[32m[I 2023-03-09 12:52:45,550]\u001B[0m Trial 6 finished with value: 0.8647839746769659 and parameters: {'max_depth': 23, 'min_samples_split': 2, 'min_samples_leaf': 3, 'n_estimators': 17}. Best is trial 6 with value: 0.8647839746769659.\u001B[0m\n\u001B[32m[I 2023-03-09 12:52:45,714]\u001B[0m Trial 7 finished with value: 0.7937731793163726 and parameters: {'max_depth': 16, 'min_samples_split': 77, 'min_samples_leaf': 25, 'n_estimators': 15}. Best is trial 6 with value: 0.8647839746769659.\u001B[0m\n\u001B[32m[I 2023-03-09 12:52:45,810]\u001B[0m Trial 8 finished with value: 0.7898790541657809 and parameters: {'max_depth': 29, 'min_samples_split': 61, 'min_samples_leaf': 35, 'n_estimators': 8}. Best is trial 6 with value: 0.8647839746769659.\u001B[0m\n\u001B[32m[I 2023-03-09 12:52:45,962]\u001B[0m Trial 9 finished with value: 0.8224730115985166 and parameters: {'max_depth': 14, 'min_samples_split': 28, 'min_samples_leaf': 4, 'n_estimators': 11}. Best is trial 6 with value: 0.8647839746769659.\u001B[0m\n/opt/conda/lib/python3.9/site-packages/sklearn/base.py:77: ExperimentalWarning: OptunaSearchCV is experimental (supported from v0.17.0). The interface can change in the future.\n  new_object = klass(**new_object_params)\n\u001B[32m[I 2023-03-09 12:52:46,011]\u001B[0m A new study created in memory with name: no-name-89e5b164-6bef-49d6-a2b6-a3133b5bc4ff\u001B[0m\n\u001B[32m[I 2023-03-09 12:52:46,081]\u001B[0m Trial 0 finished with value: 0.7271289537712896 and parameters: {'max_depth': 1, 'min_samples_split': 75, 'min_samples_leaf': 39, 'n_estimators': 7}. Best is trial 0 with value: 0.7271289537712896.\u001B[0m\n\u001B[32m[I 2023-03-09 12:52:46,294]\u001B[0m Trial 1 finished with value: 0.7772269860392602 and parameters: {'max_depth': 3, 'min_samples_split': 92, 'min_samples_leaf': 41, 'n_estimators': 20}. Best is trial 1 with value: 0.7772269860392602.\u001B[0m\n\u001B[32m[I 2023-03-09 12:52:46,331]\u001B[0m Trial 2 finished with value: 0.762653249238183 and parameters: {'max_depth': 18, 'min_samples_split': 56, 'min_samples_leaf': 53, 'n_estimators': 1}. Best is trial 1 with value: 0.7772269860392602.\u001B[0m\n\u001B[32m[I 2023-03-09 12:52:46,391]\u001B[0m Trial 3 finished with value: 0.7548531878203766 and parameters: {'max_depth': 28, 'min_samples_split': 3, 'min_samples_leaf': 84, 'n_estimators': 5}. Best is trial 1 with value: 0.7772269860392602.\u001B[0m\n\u001B[32m[I 2023-03-09 12:52:46,487]\u001B[0m Trial 4 finished with value: 0.798148016913519 and parameters: {'max_depth': 13, 'min_samples_split': 21, 'min_samples_leaf': 23, 'n_estimators': 8}. Best is trial 4 with value: 0.798148016913519.\u001B[0m\n\u001B[32m[I 2023-03-09 12:52:46,701]\u001B[0m Trial 5 finished with value: 0.7923109630784494 and parameters: {'max_depth': 25, 'min_samples_split': 62, 'min_samples_leaf': 51, 'n_estimators': 20}. Best is trial 4 with value: 0.798148016913519.\u001B[0m\n\u001B[32m[I 2023-03-09 12:52:46,820]\u001B[0m Trial 6 finished with value: 0.7538775895873195 and parameters: {'max_depth': 16, 'min_samples_split': 72, 'min_samples_leaf': 95, 'n_estimators': 11}. Best is trial 4 with value: 0.798148016913519.\u001B[0m\n\u001B[32m[I 2023-03-09 12:52:46,876]\u001B[0m Trial 7 finished with value: 0.7884215623745069 and parameters: {'max_depth': 26, 'min_samples_split': 5, 'min_samples_leaf': 22, 'n_estimators': 4}. Best is trial 4 with value: 0.798148016913519.\u001B[0m\n\u001B[32m[I 2023-03-09 12:52:47,035]\u001B[0m Trial 8 finished with value: 0.7898766919424562 and parameters: {'max_depth': 15, 'min_samples_split': 80, 'min_samples_leaf': 56, 'n_estimators': 15}. Best is trial 4 with value: 0.798148016913519.\u001B[0m\n\u001B[32m[I 2023-03-09 12:52:47,194]\u001B[0m Trial 9 finished with value: 0.8336534145938156 and parameters: {'max_depth': 25, 'min_samples_split': 23, 'min_samples_leaf': 1, 'n_estimators': 12}. Best is trial 9 with value: 0.8336534145938156.\u001B[0m\n/opt/conda/lib/python3.9/site-packages/sklearn/base.py:77: ExperimentalWarning: OptunaSearchCV is experimental (supported from v0.17.0). The interface can change in the future.\n  new_object = klass(**new_object_params)\n\u001B[32m[I 2023-03-09 12:52:47,246]\u001B[0m A new study created in memory with name: no-name-f661e1b7-73a9-4293-93c3-db61391eeebf\u001B[0m\n\u001B[32m[I 2023-03-09 12:52:47,269]\u001B[0m Trial 0 finished with value: 0.7563213096166113 and parameters: {'max_depth': 29, 'min_samples_split': 16, 'min_samples_leaf': 87, 'n_estimators': 1}. Best is trial 0 with value: 0.7563213096166113.\u001B[0m\n\u001B[32m[I 2023-03-09 12:52:47,393]\u001B[0m Trial 1 finished with value: 0.7383188056598871 and parameters: {'max_depth': 1, 'min_samples_split': 14, 'min_samples_leaf': 89, 'n_estimators': 15}. Best is trial 0 with value: 0.7563213096166113.\u001B[0m\n\u001B[32m[I 2023-03-09 12:52:47,497]\u001B[0m Trial 2 finished with value: 0.7699359837479035 and parameters: {'max_depth': 4, 'min_samples_split': 42, 'min_samples_leaf': 96, 'n_estimators': 10}. Best is trial 2 with value: 0.7699359837479035.\u001B[0m\n\u001B[32m[I 2023-03-09 12:52:47,627]\u001B[0m Trial 3 finished with value: 0.758260694966102 and parameters: {'max_depth': 2, 'min_samples_split': 99, 'min_samples_leaf': 100, 'n_estimators': 15}. Best is trial 2 with value: 0.7699359837479035.\u001B[0m\n\u001B[32m[I 2023-03-09 12:52:47,810]\u001B[0m Trial 4 finished with value: 0.7986440838116835 and parameters: {'max_depth': 19, 'min_samples_split': 65, 'min_samples_leaf': 29, 'n_estimators': 15}. Best is trial 4 with value: 0.7986440838116835.\u001B[0m\n\u001B[32m[I 2023-03-09 12:52:47,967]\u001B[0m Trial 5 finished with value: 0.7519405664611531 and parameters: {'max_depth': 1, 'min_samples_split': 35, 'min_samples_leaf': 43, 'n_estimators': 20}. Best is trial 4 with value: 0.7986440838116835.\u001B[0m\n\u001B[32m[I 2023-03-09 12:52:48,055]\u001B[0m Trial 6 finished with value: 0.788915267049347 and parameters: {'max_depth': 14, 'min_samples_split': 65, 'min_samples_leaf': 71, 'n_estimators': 8}. Best is trial 4 with value: 0.7986440838116835.\u001B[0m\n\u001B[32m[I 2023-03-09 12:52:48,171]\u001B[0m Trial 7 finished with value: 0.7811281978598257 and parameters: {'max_depth': 4, 'min_samples_split': 76, 'min_samples_leaf': 87, 'n_estimators': 12}. Best is trial 4 with value: 0.7986440838116835.\u001B[0m\n\u001B[32m[I 2023-03-09 12:52:48,277]\u001B[0m Trial 8 finished with value: 0.7713934755391775 and parameters: {'max_depth': 13, 'min_samples_split': 63, 'min_samples_leaf': 99, 'n_estimators': 10}. Best is trial 4 with value: 0.7986440838116835.\u001B[0m\n\u001B[32m[I 2023-03-09 12:52:48,383]\u001B[0m Trial 9 finished with value: 0.7942645217678879 and parameters: {'max_depth': 30, 'min_samples_split': 74, 'min_samples_leaf': 33, 'n_estimators': 9}. Best is trial 4 with value: 0.7986440838116835.\u001B[0m\n/opt/conda/lib/python3.9/site-packages/sklearn/base.py:77: ExperimentalWarning: OptunaSearchCV is experimental (supported from v0.17.0). The interface can change in the future.\n  new_object = klass(**new_object_params)\n\u001B[32m[I 2023-03-09 12:52:48,417]\u001B[0m A new study created in memory with name: no-name-bb6b5278-9afe-4a96-9cbc-653850162ec5\u001B[0m\n\u001B[32m[I 2023-03-09 12:52:48,455]\u001B[0m Trial 0 finished with value: 0.8015661540642052 and parameters: {'max_depth': 18, 'min_samples_split': 22, 'min_samples_leaf': 15, 'n_estimators': 2}. Best is trial 0 with value: 0.8015661540642052.\u001B[0m\n\u001B[32m[I 2023-03-09 12:52:48,495]\u001B[0m Trial 1 finished with value: 0.7709186686509343 and parameters: {'max_depth': 25, 'min_samples_split': 23, 'min_samples_leaf': 68, 'n_estimators': 3}. Best is trial 0 with value: 0.8015661540642052.\u001B[0m\n"
    },
    {
     "name": "stderr",
     "output_type": "stream",
     "text": "\u001B[32m[I 2023-03-09 12:52:48,567]\u001B[0m Trial 2 finished with value: 0.7743261757966599 and parameters: {'max_depth': 17, 'min_samples_split': 14, 'min_samples_leaf': 59, 'n_estimators': 5}. Best is trial 0 with value: 0.8015661540642052.\u001B[0m\n\u001B[32m[I 2023-03-09 12:52:48,607]\u001B[0m Trial 3 finished with value: 0.766058394160584 and parameters: {'max_depth': 27, 'min_samples_split': 62, 'min_samples_leaf': 81, 'n_estimators': 2}. Best is trial 0 with value: 0.8015661540642052.\u001B[0m\n\u001B[32m[I 2023-03-09 12:52:48,817]\u001B[0m Trial 4 finished with value: 0.7825845085394374 and parameters: {'max_depth': 29, 'min_samples_split': 30, 'min_samples_leaf': 52, 'n_estimators': 20}. Best is trial 0 with value: 0.8015661540642052.\u001B[0m\n\u001B[32m[I 2023-03-09 12:52:49,036]\u001B[0m Trial 5 finished with value: 0.7806380365199725 and parameters: {'max_depth': 20, 'min_samples_split': 91, 'min_samples_leaf': 55, 'n_estimators': 19}. Best is trial 0 with value: 0.8015661540642052.\u001B[0m\n\u001B[32m[I 2023-03-09 12:52:49,105]\u001B[0m Trial 6 finished with value: 0.759259915432405 and parameters: {'max_depth': 27, 'min_samples_split': 51, 'min_samples_leaf': 87, 'n_estimators': 5}. Best is trial 0 with value: 0.8015661540642052.\u001B[0m\n\u001B[32m[I 2023-03-09 12:52:49,294]\u001B[0m Trial 7 finished with value: 0.7991177095882646 and parameters: {'max_depth': 18, 'min_samples_split': 5, 'min_samples_leaf': 21, 'n_estimators': 13}. Best is trial 0 with value: 0.8015661540642052.\u001B[0m\n\u001B[32m[I 2023-03-09 12:52:49,370]\u001B[0m Trial 8 finished with value: 0.7018555264214679 and parameters: {'max_depth': 1, 'min_samples_split': 8, 'min_samples_leaf': 79, 'n_estimators': 8}. Best is trial 0 with value: 0.8015661540642052.\u001B[0m\n\u001B[32m[I 2023-03-09 12:52:49,563]\u001B[0m Trial 9 finished with value: 0.7733482153402782 and parameters: {'max_depth': 29, 'min_samples_split': 84, 'min_samples_leaf': 76, 'n_estimators': 18}. Best is trial 0 with value: 0.8015661540642052.\u001B[0m\n/opt/conda/lib/python3.9/site-packages/sklearn/base.py:77: ExperimentalWarning: OptunaSearchCV is experimental (supported from v0.17.0). The interface can change in the future.\n  new_object = klass(**new_object_params)\n\u001B[32m[I 2023-03-09 12:52:49,574]\u001B[0m A new study created in memory with name: no-name-fb9b16ef-ed63-4c67-bb9d-07195b4d5387\u001B[0m\n\u001B[32m[I 2023-03-09 12:52:49,742]\u001B[0m Trial 0 finished with value: 0.7864786336900291 and parameters: {'max_depth': 6, 'min_samples_split': 59, 'min_samples_leaf': 86, 'n_estimators': 16}. Best is trial 0 with value: 0.7864786336900291.\u001B[0m\n\u001B[32m[I 2023-03-09 12:52:49,809]\u001B[0m Trial 1 finished with value: 0.8078780147875181 and parameters: {'max_depth': 12, 'min_samples_split': 82, 'min_samples_leaf': 17, 'n_estimators': 5}. Best is trial 1 with value: 0.8078780147875181.\u001B[0m\n\u001B[32m[I 2023-03-09 12:52:49,938]\u001B[0m Trial 2 finished with value: 0.8141934188458178 and parameters: {'max_depth': 7, 'min_samples_split': 32, 'min_samples_leaf': 11, 'n_estimators': 11}. Best is trial 2 with value: 0.8141934188458178.\u001B[0m\n\u001B[32m[I 2023-03-09 12:52:50,137]\u001B[0m Trial 3 finished with value: 0.7903680343939716 and parameters: {'max_depth': 30, 'min_samples_split': 96, 'min_samples_leaf': 51, 'n_estimators': 19}. Best is trial 2 with value: 0.8141934188458178.\u001B[0m\n\u001B[32m[I 2023-03-09 12:52:50,363]\u001B[0m Trial 4 finished with value: 0.7976637611319773 and parameters: {'max_depth': 12, 'min_samples_split': 66, 'min_samples_leaf': 25, 'n_estimators': 19}. Best is trial 2 with value: 0.8141934188458178.\u001B[0m\n\u001B[32m[I 2023-03-09 12:52:50,554]\u001B[0m Trial 5 finished with value: 0.7913424515153664 and parameters: {'max_depth': 18, 'min_samples_split': 82, 'min_samples_leaf': 60, 'n_estimators': 17}. Best is trial 2 with value: 0.8141934188458178.\u001B[0m\n\u001B[32m[I 2023-03-09 12:52:50,634]\u001B[0m Trial 6 finished with value: 0.7889081803793732 and parameters: {'max_depth': 11, 'min_samples_split': 62, 'min_samples_leaf': 33, 'n_estimators': 6}. Best is trial 2 with value: 0.8141934188458178.\u001B[0m\n\u001B[32m[I 2023-03-09 12:52:50,814]\u001B[0m Trial 7 finished with value: 0.7893983417192262 and parameters: {'max_depth': 28, 'min_samples_split': 77, 'min_samples_leaf': 61, 'n_estimators': 18}. Best is trial 2 with value: 0.8141934188458178.\u001B[0m\n\u001B[32m[I 2023-03-09 12:52:50,872]\u001B[0m Trial 8 finished with value: 0.8292892070016299 and parameters: {'max_depth': 27, 'min_samples_split': 14, 'min_samples_leaf': 2, 'n_estimators': 3}. Best is trial 8 with value: 0.8292892070016299.\u001B[0m\n\u001B[32m[I 2023-03-09 12:52:50,993]\u001B[0m Trial 9 finished with value: 0.8341376703753574 and parameters: {'max_depth': 19, 'min_samples_split': 18, 'min_samples_leaf': 3, 'n_estimators': 8}. Best is trial 9 with value: 0.8341376703753574.\u001B[0m\n/opt/conda/lib/python3.9/site-packages/sklearn/base.py:77: ExperimentalWarning: OptunaSearchCV is experimental (supported from v0.17.0). The interface can change in the future.\n  new_object = klass(**new_object_params)\n\u001B[32m[I 2023-03-09 12:52:51,025]\u001B[0m A new study created in memory with name: no-name-77f5c3e0-0460-4e45-bbc0-688443c0730f\u001B[0m\n\u001B[32m[I 2023-03-09 12:52:51,113]\u001B[0m Trial 0 finished with value: 0.8030094725155317 and parameters: {'max_depth': 15, 'min_samples_split': 72, 'min_samples_leaf': 31, 'n_estimators': 7}. Best is trial 0 with value: 0.8030094725155317.\u001B[0m\n\u001B[32m[I 2023-03-09 12:52:51,318]\u001B[0m Trial 1 finished with value: 0.8025240356223277 and parameters: {'max_depth': 11, 'min_samples_split': 100, 'min_samples_leaf': 24, 'n_estimators': 18}. Best is trial 0 with value: 0.8030094725155317.\u001B[0m\n\u001B[32m[I 2023-03-09 12:52:51,475]\u001B[0m Trial 2 finished with value: 0.8107953605933904 and parameters: {'max_depth': 26, 'min_samples_split': 56, 'min_samples_leaf': 23, 'n_estimators': 13}. Best is trial 2 with value: 0.8107953605933904.\u001B[0m\n\u001B[32m[I 2023-03-09 12:52:51,518]\u001B[0m Trial 3 finished with value: 0.8180840006614225 and parameters: {'max_depth': 7, 'min_samples_split': 3, 'min_samples_leaf': 9, 'n_estimators': 3}. Best is trial 3 with value: 0.8180840006614225.\u001B[0m\n\u001B[32m[I 2023-03-09 12:52:51,658]\u001B[0m Trial 4 finished with value: 0.7962062693407035 and parameters: {'max_depth': 4, 'min_samples_split': 18, 'min_samples_leaf': 12, 'n_estimators': 14}. Best is trial 3 with value: 0.8180840006614225.\u001B[0m\n\u001B[32m[I 2023-03-09 12:52:51,713]\u001B[0m Trial 5 finished with value: 0.7825868707627619 and parameters: {'max_depth': 10, 'min_samples_split': 26, 'min_samples_leaf': 57, 'n_estimators': 5}. Best is trial 3 with value: 0.8180840006614225.\u001B[0m\n\u001B[32m[I 2023-03-09 12:52:51,798]\u001B[0m Trial 6 finished with value: 0.7947405097677934 and parameters: {'max_depth': 11, 'min_samples_split': 87, 'min_samples_leaf': 37, 'n_estimators': 7}. Best is trial 3 with value: 0.8180840006614225.\u001B[0m\n\u001B[32m[I 2023-03-09 12:52:51,904]\u001B[0m Trial 7 finished with value: 0.7830734887676281 and parameters: {'max_depth': 24, 'min_samples_split': 16, 'min_samples_leaf': 67, 'n_estimators': 10}. Best is trial 3 with value: 0.8180840006614225.\u001B[0m\n\u001B[32m[I 2023-03-09 12:52:52,127]\u001B[0m Trial 8 finished with value: 0.8098209434719958 and parameters: {'max_depth': 29, 'min_samples_split': 7, 'min_samples_leaf': 25, 'n_estimators': 18}. Best is trial 3 with value: 0.8180840006614225.\u001B[0m\n\u001B[32m[I 2023-03-09 12:52:52,191]\u001B[0m Trial 9 finished with value: 0.7684855786266033 and parameters: {'max_depth': 4, 'min_samples_split': 17, 'min_samples_leaf': 93, 'n_estimators': 6}. Best is trial 3 with value: 0.8180840006614225.\u001B[0m\n/opt/conda/lib/python3.9/site-packages/sklearn/base.py:77: ExperimentalWarning: OptunaSearchCV is experimental (supported from v0.17.0). The interface can change in the future.\n  new_object = klass(**new_object_params)\n\u001B[32m[I 2023-03-09 12:52:52,202]\u001B[0m A new study created in memory with name: no-name-5fc8c3c7-168f-4eea-a90e-d019ecc4054d\u001B[0m\n\u001B[32m[I 2023-03-09 12:52:52,275]\u001B[0m Trial 0 finished with value: 0.7801596862967426 and parameters: {'max_depth': 8, 'min_samples_split': 9, 'min_samples_leaf': 52, 'n_estimators': 4}. Best is trial 0 with value: 0.7801596862967426.\u001B[0m\n\u001B[32m[I 2023-03-09 12:52:52,375]\u001B[0m Trial 1 finished with value: 0.790859376845487 and parameters: {'max_depth': 22, 'min_samples_split': 70, 'min_samples_leaf': 56, 'n_estimators': 8}. Best is trial 1 with value: 0.790859376845487.\u001B[0m\n"
    },
    {
     "name": "stderr",
     "output_type": "stream",
     "text": "\u001B[32m[I 2023-03-09 12:52:52,506]\u001B[0m Trial 2 finished with value: 0.7898861408357546 and parameters: {'max_depth': 12, 'min_samples_split': 90, 'min_samples_leaf': 40, 'n_estimators': 11}. Best is trial 1 with value: 0.790859376845487.\u001B[0m\n\u001B[32m[I 2023-03-09 12:52:52,556]\u001B[0m Trial 3 finished with value: 0.7660489452672855 and parameters: {'max_depth': 3, 'min_samples_split': 54, 'min_samples_leaf': 47, 'n_estimators': 4}. Best is trial 1 with value: 0.790859376845487.\u001B[0m\n\u001B[32m[I 2023-03-09 12:52:52,647]\u001B[0m Trial 4 finished with value: 0.7796718871802141 and parameters: {'max_depth': 13, 'min_samples_split': 14, 'min_samples_leaf': 86, 'n_estimators': 8}. Best is trial 1 with value: 0.790859376845487.\u001B[0m\n\u001B[32m[I 2023-03-09 12:52:52,669]\u001B[0m Trial 5 finished with value: 0.7645890912526869 and parameters: {'max_depth': 2, 'min_samples_split': 16, 'min_samples_leaf': 68, 'n_estimators': 1}. Best is trial 1 with value: 0.790859376845487.\u001B[0m\n\u001B[32m[I 2023-03-09 12:52:52,885]\u001B[0m Trial 6 finished with value: 0.8224730115985166 and parameters: {'max_depth': 8, 'min_samples_split': 16, 'min_samples_leaf': 1, 'n_estimators': 17}. Best is trial 6 with value: 0.8224730115985166.\u001B[0m\n\u001B[32m[I 2023-03-09 12:52:53,048]\u001B[0m Trial 7 finished with value: 0.7991283395932252 and parameters: {'max_depth': 10, 'min_samples_split': 80, 'min_samples_leaf': 14, 'n_estimators': 12}. Best is trial 6 with value: 0.8224730115985166.\u001B[0m\n\u001B[32m[I 2023-03-09 12:52:53,161]\u001B[0m Trial 8 finished with value: 0.7777265962724116 and parameters: {'max_depth': 4, 'min_samples_split': 81, 'min_samples_leaf': 97, 'n_estimators': 11}. Best is trial 6 with value: 0.8224730115985166.\u001B[0m\n\u001B[32m[I 2023-03-09 12:52:53,362]\u001B[0m Trial 9 finished with value: 0.7874530508114237 and parameters: {'max_depth': 15, 'min_samples_split': 67, 'min_samples_leaf': 36, 'n_estimators': 11}. Best is trial 6 with value: 0.8224730115985166.\u001B[0m\n/opt/conda/lib/python3.9/site-packages/sklearn/base.py:77: ExperimentalWarning: OptunaSearchCV is experimental (supported from v0.17.0). The interface can change in the future.\n  new_object = klass(**new_object_params)\n\u001B[32m[I 2023-03-09 12:52:53,453]\u001B[0m A new study created in memory with name: no-name-259ec74f-4862-4fd0-940a-3ecd9d814ad4\u001B[0m\n\u001B[32m[I 2023-03-09 12:52:53,635]\u001B[0m Trial 0 finished with value: 0.7738277466751706 and parameters: {'max_depth': 26, 'min_samples_split': 15, 'min_samples_leaf': 94, 'n_estimators': 6}. Best is trial 0 with value: 0.7738277466751706.\u001B[0m\n\u001B[32m[I 2023-03-09 12:52:53,866]\u001B[0m Trial 1 finished with value: 0.8088606996905489 and parameters: {'max_depth': 21, 'min_samples_split': 99, 'min_samples_leaf': 11, 'n_estimators': 10}. Best is trial 1 with value: 0.8088606996905489.\u001B[0m\n\u001B[32m[I 2023-03-09 12:52:54,246]\u001B[0m Trial 2 finished with value: 0.8137233364042237 and parameters: {'max_depth': 11, 'min_samples_split': 2, 'min_samples_leaf': 17, 'n_estimators': 14}. Best is trial 2 with value: 0.8137233364042237.\u001B[0m\n\u001B[32m[I 2023-03-09 12:52:54,344]\u001B[0m Trial 3 finished with value: 0.77577658091796 and parameters: {'max_depth': 15, 'min_samples_split': 43, 'min_samples_leaf': 73, 'n_estimators': 3}. Best is trial 2 with value: 0.8137233364042237.\u001B[0m\n\u001B[32m[I 2023-03-09 12:52:54,564]\u001B[0m Trial 4 finished with value: 0.808865424137198 and parameters: {'max_depth': 13, 'min_samples_split': 26, 'min_samples_leaf': 22, 'n_estimators': 10}. Best is trial 2 with value: 0.8137233364042237.\u001B[0m\n\u001B[32m[I 2023-03-09 12:52:54,928]\u001B[0m Trial 5 finished with value: 0.7796695249568895 and parameters: {'max_depth': 21, 'min_samples_split': 34, 'min_samples_leaf': 88, 'n_estimators': 14}. Best is trial 2 with value: 0.8137233364042237.\u001B[0m\n\u001B[32m[I 2023-03-09 12:52:54,965]\u001B[0m Trial 6 finished with value: 0.7757742186946353 and parameters: {'max_depth': 18, 'min_samples_split': 61, 'min_samples_leaf': 80, 'n_estimators': 2}. Best is trial 2 with value: 0.8137233364042237.\u001B[0m\n\u001B[32m[I 2023-03-09 12:52:55,236]\u001B[0m Trial 7 finished with value: 0.8044823187584154 and parameters: {'max_depth': 4, 'min_samples_split': 61, 'min_samples_leaf': 14, 'n_estimators': 15}. Best is trial 2 with value: 0.8137233364042237.\u001B[0m\n\u001B[32m[I 2023-03-09 12:52:55,260]\u001B[0m Trial 8 finished with value: 0.7611780407719745 and parameters: {'max_depth': 17, 'min_samples_split': 31, 'min_samples_leaf': 99, 'n_estimators': 1}. Best is trial 2 with value: 0.8137233364042237.\u001B[0m\n\u001B[32m[I 2023-03-09 12:52:55,394]\u001B[0m Trial 9 finished with value: 0.7796683438452272 and parameters: {'max_depth': 13, 'min_samples_split': 96, 'min_samples_leaf': 91, 'n_estimators': 13}. Best is trial 2 with value: 0.8137233364042237.\u001B[0m\n/opt/conda/lib/python3.9/site-packages/sklearn/base.py:77: ExperimentalWarning: OptunaSearchCV is experimental (supported from v0.17.0). The interface can change in the future.\n  new_object = klass(**new_object_params)\n\u001B[32m[I 2023-03-09 12:52:55,454]\u001B[0m A new study created in memory with name: no-name-755a856c-adc1-47a1-957b-0d2406c58290\u001B[0m\n\u001B[32m[I 2023-03-09 12:52:55,631]\u001B[0m Trial 0 finished with value: 0.7679918739517634 and parameters: {'max_depth': 28, 'min_samples_split': 51, 'min_samples_leaf': 95, 'n_estimators': 13}. Best is trial 0 with value: 0.7679918739517634.\u001B[0m\n\u001B[32m[I 2023-03-09 12:52:55,660]\u001B[0m Trial 1 finished with value: 0.7636075874613185 and parameters: {'max_depth': 16, 'min_samples_split': 59, 'min_samples_leaf': 28, 'n_estimators': 1}. Best is trial 0 with value: 0.7679918739517634.\u001B[0m\n\u001B[32m[I 2023-03-09 12:52:55,824]\u001B[0m Trial 2 finished with value: 0.7889093614910353 and parameters: {'max_depth': 10, 'min_samples_split': 32, 'min_samples_leaf': 53, 'n_estimators': 14}. Best is trial 2 with value: 0.7889093614910353.\u001B[0m\n\u001B[32m[I 2023-03-09 12:52:55,933]\u001B[0m Trial 3 finished with value: 0.7962050882290412 and parameters: {'max_depth': 4, 'min_samples_split': 69, 'min_samples_leaf': 23, 'n_estimators': 10}. Best is trial 3 with value: 0.7962050882290412.\u001B[0m\n\u001B[32m[I 2023-03-09 12:52:56,104]\u001B[0m Trial 4 finished with value: 0.7835565634375075 and parameters: {'max_depth': 19, 'min_samples_split': 61, 'min_samples_leaf': 73, 'n_estimators': 17}. Best is trial 3 with value: 0.7962050882290412.\u001B[0m\n\u001B[32m[I 2023-03-09 12:52:56,212]\u001B[0m Trial 5 finished with value: 0.7791805447286987 and parameters: {'max_depth': 29, 'min_samples_split': 96, 'min_samples_leaf': 73, 'n_estimators': 10}. Best is trial 3 with value: 0.7962050882290412.\u001B[0m\n\u001B[32m[I 2023-03-09 12:52:56,338]\u001B[0m Trial 6 finished with value: 0.7767439113693808 and parameters: {'max_depth': 10, 'min_samples_split': 70, 'min_samples_leaf': 78, 'n_estimators': 11}. Best is trial 3 with value: 0.7962050882290412.\u001B[0m\n\u001B[32m[I 2023-03-09 12:52:56,478]\u001B[0m Trial 7 finished with value: 0.7864762714667045 and parameters: {'max_depth': 9, 'min_samples_split': 17, 'min_samples_leaf': 46, 'n_estimators': 11}. Best is trial 3 with value: 0.7962050882290412.\u001B[0m\n\u001B[32m[I 2023-03-09 12:52:56,673]\u001B[0m Trial 8 finished with value: 0.7859896534618382 and parameters: {'max_depth': 20, 'min_samples_split': 5, 'min_samples_leaf': 64, 'n_estimators': 16}. Best is trial 3 with value: 0.7962050882290412.\u001B[0m\n\u001B[32m[I 2023-03-09 12:52:56,751]\u001B[0m Trial 9 finished with value: 0.7782037653839794 and parameters: {'max_depth': 17, 'min_samples_split': 53, 'min_samples_leaf': 67, 'n_estimators': 4}. Best is trial 3 with value: 0.7962050882290412.\u001B[0m\n/opt/conda/lib/python3.9/site-packages/sklearn/base.py:77: ExperimentalWarning: OptunaSearchCV is experimental (supported from v0.17.0). The interface can change in the future.\n  new_object = klass(**new_object_params)\n\u001B[32m[I 2023-03-09 12:52:56,774]\u001B[0m A new study created in memory with name: no-name-731c795c-10b7-474a-863d-fe9b88ae108a\u001B[0m\n\u001B[32m[I 2023-03-09 12:52:56,916]\u001B[0m Trial 0 finished with value: 0.7971712375687998 and parameters: {'max_depth': 10, 'min_samples_split': 60, 'min_samples_leaf': 39, 'n_estimators': 13}. Best is trial 0 with value: 0.7971712375687998.\u001B[0m\n\u001B[32m[I 2023-03-09 12:52:57,031]\u001B[0m Trial 1 finished with value: 0.8069071410011102 and parameters: {'max_depth': 25, 'min_samples_split': 83, 'min_samples_leaf': 4, 'n_estimators': 9}. Best is trial 1 with value: 0.8069071410011102.\u001B[0m\n"
    },
    {
     "name": "stderr",
     "output_type": "stream",
     "text": "\u001B[32m[I 2023-03-09 12:52:57,160]\u001B[0m Trial 2 finished with value: 0.7820919849762596 and parameters: {'max_depth': 5, 'min_samples_split': 71, 'min_samples_leaf': 74, 'n_estimators': 11}. Best is trial 1 with value: 0.8069071410011102.\u001B[0m\n\u001B[32m[I 2023-03-09 12:52:57,218]\u001B[0m Trial 3 finished with value: 0.7728509673304514 and parameters: {'max_depth': 13, 'min_samples_split': 53, 'min_samples_leaf': 86, 'n_estimators': 5}. Best is trial 1 with value: 0.8069071410011102.\u001B[0m\n\u001B[32m[I 2023-03-09 12:52:57,285]\u001B[0m Trial 4 finished with value: 0.8044693265301301 and parameters: {'max_depth': 6, 'min_samples_split': 22, 'min_samples_leaf': 1, 'n_estimators': 5}. Best is trial 1 with value: 0.8069071410011102.\u001B[0m\n\u001B[32m[I 2023-03-09 12:52:57,524]\u001B[0m Trial 5 finished with value: 0.8176068315498547 and parameters: {'max_depth': 21, 'min_samples_split': 2, 'min_samples_leaf': 12, 'n_estimators': 19}. Best is trial 5 with value: 0.8176068315498547.\u001B[0m\n\u001B[32m[I 2023-03-09 12:52:57,627]\u001B[0m Trial 6 finished with value: 0.7762608366995015 and parameters: {'max_depth': 15, 'min_samples_split': 43, 'min_samples_leaf': 96, 'n_estimators': 9}. Best is trial 5 with value: 0.8176068315498547.\u001B[0m\n\u001B[32m[I 2023-03-09 12:52:57,774]\u001B[0m Trial 7 finished with value: 0.7913353648453926 and parameters: {'max_depth': 17, 'min_samples_split': 39, 'min_samples_leaf': 70, 'n_estimators': 13}. Best is trial 5 with value: 0.8176068315498547.\u001B[0m\n\u001B[32m[I 2023-03-09 12:52:57,991]\u001B[0m Trial 8 finished with value: 0.811765053268136 and parameters: {'max_depth': 8, 'min_samples_split': 49, 'min_samples_leaf': 7, 'n_estimators': 19}. Best is trial 5 with value: 0.8176068315498547.\u001B[0m\n\u001B[32m[I 2023-03-09 12:52:58,093]\u001B[0m Trial 9 finished with value: 0.781121111189852 and parameters: {'max_depth': 11, 'min_samples_split': 69, 'min_samples_leaf': 82, 'n_estimators': 10}. Best is trial 5 with value: 0.8176068315498547.\u001B[0m\n/opt/conda/lib/python3.9/site-packages/sklearn/base.py:77: ExperimentalWarning: OptunaSearchCV is experimental (supported from v0.17.0). The interface can change in the future.\n  new_object = klass(**new_object_params)\n\u001B[32m[I 2023-03-09 12:52:58,150]\u001B[0m A new study created in memory with name: no-name-6c917296-f2e5-490d-ac65-f6787118dde0\u001B[0m\n\u001B[32m[I 2023-03-09 12:52:58,370]\u001B[0m Trial 0 finished with value: 0.8044716887534549 and parameters: {'max_depth': 17, 'min_samples_split': 64, 'min_samples_leaf': 17, 'n_estimators': 20}. Best is trial 0 with value: 0.8044716887534549.\u001B[0m\n\u001B[32m[I 2023-03-09 12:52:58,546]\u001B[0m Trial 1 finished with value: 0.7879337632579785 and parameters: {'max_depth': 14, 'min_samples_split': 3, 'min_samples_leaf': 49, 'n_estimators': 17}. Best is trial 0 with value: 0.8044716887534549.\u001B[0m\n\u001B[32m[I 2023-03-09 12:52:58,587]\u001B[0m Trial 2 finished with value: 0.7689662910731581 and parameters: {'max_depth': 20, 'min_samples_split': 35, 'min_samples_leaf': 92, 'n_estimators': 3}. Best is trial 0 with value: 0.8044716887534549.\u001B[0m\n\u001B[32m[I 2023-03-09 12:52:58,686]\u001B[0m Trial 3 finished with value: 0.7952294899959842 and parameters: {'max_depth': 4, 'min_samples_split': 19, 'min_samples_leaf': 29, 'n_estimators': 10}. Best is trial 0 with value: 0.8044716887534549.\u001B[0m\n\u001B[32m[I 2023-03-09 12:52:58,850]\u001B[0m Trial 4 finished with value: 0.8064157985495948 and parameters: {'max_depth': 7, 'min_samples_split': 18, 'min_samples_leaf': 16, 'n_estimators': 15}. Best is trial 4 with value: 0.8064157985495948.\u001B[0m\n\u001B[32m[I 2023-03-09 12:52:58,875]\u001B[0m Trial 5 finished with value: 0.7738289277868329 and parameters: {'max_depth': 24, 'min_samples_split': 50, 'min_samples_leaf': 7, 'n_estimators': 1}. Best is trial 4 with value: 0.8064157985495948.\u001B[0m\n\u001B[32m[I 2023-03-09 12:52:58,945]\u001B[0m Trial 6 finished with value: 0.8044787754234285 and parameters: {'max_depth': 14, 'min_samples_split': 90, 'min_samples_leaf': 12, 'n_estimators': 5}. Best is trial 4 with value: 0.8064157985495948.\u001B[0m\n\u001B[32m[I 2023-03-09 12:52:59,041]\u001B[0m Trial 7 finished with value: 0.7738277466751706 and parameters: {'max_depth': 16, 'min_samples_split': 48, 'min_samples_leaf': 90, 'n_estimators': 9}. Best is trial 4 with value: 0.8064157985495948.\u001B[0m\n\u001B[32m[I 2023-03-09 12:52:59,146]\u001B[0m Trial 8 finished with value: 0.7996125953747668 and parameters: {'max_depth': 5, 'min_samples_split': 25, 'min_samples_leaf': 22, 'n_estimators': 10}. Best is trial 4 with value: 0.8064157985495948.\u001B[0m\n\u001B[32m[I 2023-03-09 12:52:59,208]\u001B[0m Trial 9 finished with value: 0.7791852691753479 and parameters: {'max_depth': 23, 'min_samples_split': 60, 'min_samples_leaf': 66, 'n_estimators': 5}. Best is trial 4 with value: 0.8064157985495948.\u001B[0m\n/opt/conda/lib/python3.9/site-packages/sklearn/base.py:77: ExperimentalWarning: OptunaSearchCV is experimental (supported from v0.17.0). The interface can change in the future.\n  new_object = klass(**new_object_params)\n\u001B[32m[I 2023-03-09 12:52:59,252]\u001B[0m A new study created in memory with name: no-name-2a53a288-b08a-47fa-bd53-a4c28c08dafb\u001B[0m\n\u001B[32m[I 2023-03-09 12:52:59,436]\u001B[0m Trial 0 finished with value: 0.7816100914180426 and parameters: {'max_depth': 29, 'min_samples_split': 10, 'min_samples_leaf': 70, 'n_estimators': 16}. Best is trial 0 with value: 0.7816100914180426.\u001B[0m\n\u001B[32m[I 2023-03-09 12:52:59,627]\u001B[0m Trial 1 finished with value: 0.7762608366995016 and parameters: {'max_depth': 9, 'min_samples_split': 77, 'min_samples_leaf': 89, 'n_estimators': 15}. Best is trial 0 with value: 0.7816100914180426.\u001B[0m\n\u001B[32m[I 2023-03-09 12:52:59,676]\u001B[0m Trial 2 finished with value: 0.7733529397869275 and parameters: {'max_depth': 30, 'min_samples_split': 44, 'min_samples_leaf': 48, 'n_estimators': 2}. Best is trial 0 with value: 0.7816100914180426.\u001B[0m\n\u001B[32m[I 2023-03-09 12:52:59,792]\u001B[0m Trial 3 finished with value: 0.7772352538208962 and parameters: {'max_depth': 29, 'min_samples_split': 61, 'min_samples_leaf': 75, 'n_estimators': 11}. Best is trial 0 with value: 0.7816100914180426.\u001B[0m\n\u001B[32m[I 2023-03-09 12:52:59,977]\u001B[0m Trial 4 finished with value: 0.8005681147095647 and parameters: {'max_depth': 15, 'min_samples_split': 45, 'min_samples_leaf': 15, 'n_estimators': 16}. Best is trial 4 with value: 0.8005681147095647.\u001B[0m\n\u001B[32m[I 2023-03-09 12:53:00,070]\u001B[0m Trial 5 finished with value: 0.7786986511704816 and parameters: {'max_depth': 24, 'min_samples_split': 43, 'min_samples_leaf': 70, 'n_estimators': 8}. Best is trial 4 with value: 0.8005681147095647.\u001B[0m\n\u001B[32m[I 2023-03-09 12:53:00,261]\u001B[0m Trial 6 finished with value: 0.7835577445491697 and parameters: {'max_depth': 16, 'min_samples_split': 92, 'min_samples_leaf': 52, 'n_estimators': 18}. Best is trial 4 with value: 0.8005681147095647.\u001B[0m\n\u001B[32m[I 2023-03-09 12:53:00,369]\u001B[0m Trial 7 finished with value: 0.7354038220773391 and parameters: {'max_depth': 1, 'min_samples_split': 79, 'min_samples_leaf': 50, 'n_estimators': 13}. Best is trial 4 with value: 0.8005681147095647.\u001B[0m\n\u001B[32m[I 2023-03-09 12:53:00,607]\u001B[0m Trial 8 finished with value: 0.7908463846172017 and parameters: {'max_depth': 12, 'min_samples_split': 42, 'min_samples_leaf': 28, 'n_estimators': 19}. Best is trial 4 with value: 0.8005681147095647.\u001B[0m\n\u001B[32m[I 2023-03-09 12:53:00,702]\u001B[0m Trial 9 finished with value: 0.7942515295396027 and parameters: {'max_depth': 15, 'min_samples_split': 66, 'min_samples_leaf': 13, 'n_estimators': 7}. Best is trial 4 with value: 0.8005681147095647.\u001B[0m\n/opt/conda/lib/python3.9/site-packages/sklearn/base.py:77: ExperimentalWarning: OptunaSearchCV is experimental (supported from v0.17.0). The interface can change in the future.\n  new_object = klass(**new_object_params)\n\u001B[32m[I 2023-03-09 12:53:00,745]\u001B[0m A new study created in memory with name: no-name-9b860067-f516-4bbe-8656-380b4e89731a\u001B[0m\n\u001B[32m[I 2023-03-09 12:53:00,885]\u001B[0m Trial 0 finished with value: 0.7830734887676281 and parameters: {'max_depth': 28, 'min_samples_split': 58, 'min_samples_leaf': 66, 'n_estimators': 12}. Best is trial 0 with value: 0.7830734887676281.\u001B[0m\n\u001B[32m[I 2023-03-09 12:53:00,949]\u001B[0m Trial 1 finished with value: 0.7918172584036095 and parameters: {'max_depth': 6, 'min_samples_split': 57, 'min_samples_leaf': 30, 'n_estimators': 5}. Best is trial 1 with value: 0.7918172584036095.\u001B[0m\n"
    },
    {
     "name": "stderr",
     "output_type": "stream",
     "text": "\u001B[32m[I 2023-03-09 12:53:01,110]\u001B[0m Trial 2 finished with value: 0.7952188599910236 and parameters: {'max_depth': 27, 'min_samples_split': 35, 'min_samples_leaf': 29, 'n_estimators': 14}. Best is trial 2 with value: 0.7952188599910236.\u001B[0m\n\u001B[32m[I 2023-03-09 12:53:01,290]\u001B[0m Trial 3 finished with value: 0.7947334230978196 and parameters: {'max_depth': 18, 'min_samples_split': 71, 'min_samples_leaf': 35, 'n_estimators': 17}. Best is trial 2 with value: 0.7952188599910236.\u001B[0m\n\u001B[32m[I 2023-03-09 12:53:01,508]\u001B[0m Trial 4 finished with value: 0.792301514185151 and parameters: {'max_depth': 14, 'min_samples_split': 38, 'min_samples_leaf': 38, 'n_estimators': 17}. Best is trial 2 with value: 0.7952188599910236.\u001B[0m\n\u001B[32m[I 2023-03-09 12:53:01,571]\u001B[0m Trial 5 finished with value: 0.7903585855006733 and parameters: {'max_depth': 4, 'min_samples_split': 66, 'min_samples_leaf': 34, 'n_estimators': 4}. Best is trial 2 with value: 0.7952188599910236.\u001B[0m\n\u001B[32m[I 2023-03-09 12:53:01,795]\u001B[0m Trial 6 finished with value: 0.7884144757045333 and parameters: {'max_depth': 24, 'min_samples_split': 21, 'min_samples_leaf': 43, 'n_estimators': 20}. Best is trial 2 with value: 0.7952188599910236.\u001B[0m\n\u001B[32m[I 2023-03-09 12:53:01,928]\u001B[0m Trial 7 finished with value: 0.780153780738431 and parameters: {'max_depth': 24, 'min_samples_split': 81, 'min_samples_leaf': 68, 'n_estimators': 12}. Best is trial 2 with value: 0.7952188599910236.\u001B[0m\n\u001B[32m[I 2023-03-09 12:53:02,117]\u001B[0m Trial 8 finished with value: 0.7893877117142656 and parameters: {'max_depth': 21, 'min_samples_split': 20, 'min_samples_leaf': 58, 'n_estimators': 18}. Best is trial 2 with value: 0.7952188599910236.\u001B[0m\n\u001B[32m[I 2023-03-09 12:53:02,328]\u001B[0m Trial 9 finished with value: 0.779173458058725 and parameters: {'max_depth': 9, 'min_samples_split': 69, 'min_samples_leaf': 79, 'n_estimators': 20}. Best is trial 2 with value: 0.7952188599910236.\u001B[0m\n/opt/conda/lib/python3.9/site-packages/sklearn/base.py:77: ExperimentalWarning: OptunaSearchCV is experimental (supported from v0.17.0). The interface can change in the future.\n  new_object = klass(**new_object_params)\n\u001B[32m[I 2023-03-09 12:53:02,369]\u001B[0m A new study created in memory with name: no-name-c4d83ac1-011d-4276-924f-e056b712d80c\u001B[0m\n\u001B[32m[I 2023-03-09 12:53:02,501]\u001B[0m Trial 0 finished with value: 0.795698391325916 and parameters: {'max_depth': 15, 'min_samples_split': 72, 'min_samples_leaf': 34, 'n_estimators': 12}. Best is trial 0 with value: 0.795698391325916.\u001B[0m\n\u001B[32m[I 2023-03-09 12:53:02,662]\u001B[0m Trial 1 finished with value: 0.7830557720926936 and parameters: {'max_depth': 28, 'min_samples_split': 57, 'min_samples_leaf': 69, 'n_estimators': 15}. Best is trial 0 with value: 0.795698391325916.\u001B[0m\n\u001B[32m[I 2023-03-09 12:53:02,703]\u001B[0m Trial 2 finished with value: 0.7587425885243191 and parameters: {'max_depth': 26, 'min_samples_split': 45, 'min_samples_leaf': 76, 'n_estimators': 3}. Best is trial 0 with value: 0.795698391325916.\u001B[0m\n\u001B[32m[I 2023-03-09 12:53:02,823]\u001B[0m Trial 3 finished with value: 0.8020267876125009 and parameters: {'max_depth': 3, 'min_samples_split': 26, 'min_samples_leaf': 28, 'n_estimators': 13}. Best is trial 3 with value: 0.8020267876125009.\u001B[0m\n\u001B[32m[I 2023-03-09 12:53:02,986]\u001B[0m Trial 4 finished with value: 0.7995877920298585 and parameters: {'max_depth': 26, 'min_samples_split': 94, 'min_samples_leaf': 35, 'n_estimators': 14}. Best is trial 3 with value: 0.8020267876125009.\u001B[0m\n\u001B[32m[I 2023-03-09 12:53:03,090]\u001B[0m Trial 5 finished with value: 0.7830581343160182 and parameters: {'max_depth': 5, 'min_samples_split': 55, 'min_samples_leaf': 93, 'n_estimators': 10}. Best is trial 3 with value: 0.8020267876125009.\u001B[0m\n\u001B[32m[I 2023-03-09 12:53:03,296]\u001B[0m Trial 6 finished with value: 0.7845097205489806 and parameters: {'max_depth': 25, 'min_samples_split': 71, 'min_samples_leaf': 65, 'n_estimators': 19}. Best is trial 3 with value: 0.8020267876125009.\u001B[0m\n\u001B[32m[I 2023-03-09 12:53:03,377]\u001B[0m Trial 7 finished with value: 0.783547114544209 and parameters: {'max_depth': 14, 'min_samples_split': 23, 'min_samples_leaf': 77, 'n_estimators': 7}. Best is trial 3 with value: 0.8020267876125009.\u001B[0m\n\u001B[32m[I 2023-03-09 12:53:03,439]\u001B[0m Trial 8 finished with value: 0.7835412089858974 and parameters: {'max_depth': 16, 'min_samples_split': 4, 'min_samples_leaf': 89, 'n_estimators': 5}. Best is trial 3 with value: 0.8020267876125009.\u001B[0m\n\u001B[32m[I 2023-03-09 12:53:03,661]\u001B[0m Trial 9 finished with value: 0.80397562185529 and parameters: {'max_depth': 14, 'min_samples_split': 18, 'min_samples_leaf': 17, 'n_estimators': 18}. Best is trial 9 with value: 0.80397562185529.\u001B[0m\n/opt/conda/lib/python3.9/site-packages/sklearn/base.py:77: ExperimentalWarning: OptunaSearchCV is experimental (supported from v0.17.0). The interface can change in the future.\n  new_object = klass(**new_object_params)\n\u001B[32m[I 2023-03-09 12:53:03,708]\u001B[0m A new study created in memory with name: no-name-4fab4d98-15af-476a-86a4-7568867b608f\u001B[0m\n\u001B[32m[I 2023-03-09 12:53:03,819]\u001B[0m Trial 0 finished with value: 0.7422200174804526 and parameters: {'max_depth': 1, 'min_samples_split': 35, 'min_samples_leaf': 76, 'n_estimators': 12}. Best is trial 0 with value: 0.7422200174804526.\u001B[0m\n\u001B[32m[I 2023-03-09 12:53:03,987]\u001B[0m Trial 1 finished with value: 0.7748104315782014 and parameters: {'max_depth': 22, 'min_samples_split': 70, 'min_samples_leaf': 77, 'n_estimators': 14}. Best is trial 1 with value: 0.7748104315782014.\u001B[0m\n\u001B[32m[I 2023-03-09 12:53:04,155]\u001B[0m Trial 2 finished with value: 0.7709186686509343 and parameters: {'max_depth': 23, 'min_samples_split': 79, 'min_samples_leaf': 92, 'n_estimators': 15}. Best is trial 1 with value: 0.7748104315782014.\u001B[0m\n\u001B[32m[I 2023-03-09 12:53:04,380]\u001B[0m Trial 3 finished with value: 0.7859943779084875 and parameters: {'max_depth': 29, 'min_samples_split': 28, 'min_samples_leaf': 51, 'n_estimators': 19}. Best is trial 3 with value: 0.7859943779084875.\u001B[0m\n\u001B[32m[I 2023-03-09 12:53:04,518]\u001B[0m Trial 4 finished with value: 0.7796730682918763 and parameters: {'max_depth': 26, 'min_samples_split': 85, 'min_samples_leaf': 63, 'n_estimators': 10}. Best is trial 3 with value: 0.7859943779084875.\u001B[0m\n\u001B[32m[I 2023-03-09 12:53:04,746]\u001B[0m Trial 5 finished with value: 0.8078732903408689 and parameters: {'max_depth': 16, 'min_samples_split': 42, 'min_samples_leaf': 2, 'n_estimators': 15}. Best is trial 5 with value: 0.8078732903408689.\u001B[0m\n\u001B[32m[I 2023-03-09 12:53:04,833]\u001B[0m Trial 6 finished with value: 0.7869664328065575 and parameters: {'max_depth': 25, 'min_samples_split': 97, 'min_samples_leaf': 6, 'n_estimators': 6}. Best is trial 5 with value: 0.8078732903408689.\u001B[0m\n\u001B[32m[I 2023-03-09 12:53:05,109]\u001B[0m Trial 7 finished with value: 0.7991188906999268 and parameters: {'max_depth': 28, 'min_samples_split': 22, 'min_samples_leaf': 17, 'n_estimators': 20}. Best is trial 5 with value: 0.8078732903408689.\u001B[0m\n\u001B[32m[I 2023-03-09 12:53:05,293]\u001B[0m Trial 8 finished with value: 0.7840479058890228 and parameters: {'max_depth': 11, 'min_samples_split': 72, 'min_samples_leaf': 51, 'n_estimators': 14}. Best is trial 5 with value: 0.8078732903408689.\u001B[0m\n\u001B[32m[I 2023-03-09 12:53:05,425]\u001B[0m Trial 9 finished with value: 0.76214773344672 and parameters: {'max_depth': 2, 'min_samples_split': 73, 'min_samples_leaf': 98, 'n_estimators': 15}. Best is trial 5 with value: 0.8078732903408689.\u001B[0m\n/opt/conda/lib/python3.9/site-packages/sklearn/base.py:77: ExperimentalWarning: OptunaSearchCV is experimental (supported from v0.17.0). The interface can change in the future.\n  new_object = klass(**new_object_params)\n\u001B[32m[I 2023-03-09 12:53:05,470]\u001B[0m A new study created in memory with name: no-name-ede65d47-b980-43f4-9ca1-f9ccad4a4f6d\u001B[0m\n\u001B[32m[I 2023-03-09 12:53:05,501]\u001B[0m Trial 0 finished with value: 0.7738312900101576 and parameters: {'max_depth': 3, 'min_samples_split': 77, 'min_samples_leaf': 54, 'n_estimators': 2}. Best is trial 0 with value: 0.7738312900101576.\u001B[0m\n\u001B[32m[I 2023-03-09 12:53:05,741]\u001B[0m Trial 1 finished with value: 0.8112843408215813 and parameters: {'max_depth': 22, 'min_samples_split': 85, 'min_samples_leaf': 24, 'n_estimators': 20}. Best is trial 1 with value: 0.8112843408215813.\u001B[0m\n"
    },
    {
     "name": "stderr",
     "output_type": "stream",
     "text": "\u001B[32m[I 2023-03-09 12:53:05,832]\u001B[0m Trial 2 finished with value: 0.7840597170056458 and parameters: {'max_depth': 11, 'min_samples_split': 89, 'min_samples_leaf': 67, 'n_estimators': 8}. Best is trial 1 with value: 0.8112843408215813.\u001B[0m\n\u001B[32m[I 2023-03-09 12:53:05,907]\u001B[0m Trial 3 finished with value: 0.7879432121512768 and parameters: {'max_depth': 2, 'min_samples_split': 93, 'min_samples_leaf': 4, 'n_estimators': 8}. Best is trial 1 with value: 0.8112843408215813.\u001B[0m\n\u001B[32m[I 2023-03-09 12:53:06,146]\u001B[0m Trial 4 finished with value: 0.8030177402971678 and parameters: {'max_depth': 24, 'min_samples_split': 15, 'min_samples_leaf': 55, 'n_estimators': 17}. Best is trial 1 with value: 0.8112843408215813.\u001B[0m\n\u001B[32m[I 2023-03-09 12:53:06,256]\u001B[0m Trial 5 finished with value: 0.8010783549476768 and parameters: {'max_depth': 23, 'min_samples_split': 26, 'min_samples_leaf': 46, 'n_estimators': 8}. Best is trial 1 with value: 0.8112843408215813.\u001B[0m\n\u001B[32m[I 2023-03-09 12:53:06,411]\u001B[0m Trial 6 finished with value: 0.792807029976614 and parameters: {'max_depth': 25, 'min_samples_split': 44, 'min_samples_leaf': 62, 'n_estimators': 14}. Best is trial 1 with value: 0.8112843408215813.\u001B[0m\n\u001B[32m[I 2023-03-09 12:53:06,558]\u001B[0m Trial 7 finished with value: 0.7855195710202443 and parameters: {'max_depth': 12, 'min_samples_split': 10, 'min_samples_leaf': 82, 'n_estimators': 14}. Best is trial 1 with value: 0.8112843408215813.\u001B[0m\n\u001B[32m[I 2023-03-09 12:53:06,683]\u001B[0m Trial 8 finished with value: 0.8151737415255239 and parameters: {'max_depth': 11, 'min_samples_split': 94, 'min_samples_leaf': 8, 'n_estimators': 10}. Best is trial 8 with value: 0.8151737415255239.\u001B[0m\n\u001B[32m[I 2023-03-09 12:53:06,857]\u001B[0m Trial 9 finished with value: 0.8249025582878605 and parameters: {'max_depth': 12, 'min_samples_split': 21, 'min_samples_leaf': 15, 'n_estimators': 14}. Best is trial 9 with value: 0.8249025582878605.\u001B[0m\n/opt/conda/lib/python3.9/site-packages/sklearn/base.py:77: ExperimentalWarning: OptunaSearchCV is experimental (supported from v0.17.0). The interface can change in the future.\n  new_object = klass(**new_object_params)\n\u001B[32m[I 2023-03-09 12:53:06,892]\u001B[0m A new study created in memory with name: no-name-53f478ce-11ce-467a-91df-d0a0943d78d8\u001B[0m\n\u001B[32m[I 2023-03-09 12:53:06,950]\u001B[0m Trial 0 finished with value: 0.78744596414145 and parameters: {'max_depth': 7, 'min_samples_split': 23, 'min_samples_leaf': 29, 'n_estimators': 4}. Best is trial 0 with value: 0.78744596414145.\u001B[0m\n\u001B[32m[I 2023-03-09 12:53:07,135]\u001B[0m Trial 1 finished with value: 0.7811234734131765 and parameters: {'max_depth': 12, 'min_samples_split': 53, 'min_samples_leaf': 70, 'n_estimators': 16}. Best is trial 0 with value: 0.78744596414145.\u001B[0m\n\u001B[32m[I 2023-03-09 12:53:07,313]\u001B[0m Trial 2 finished with value: 0.7840420003307113 and parameters: {'max_depth': 13, 'min_samples_split': 77, 'min_samples_leaf': 79, 'n_estimators': 17}. Best is trial 0 with value: 0.78744596414145.\u001B[0m\n\u001B[32m[I 2023-03-09 12:53:07,386]\u001B[0m Trial 3 finished with value: 0.7767403680343941 and parameters: {'max_depth': 16, 'min_samples_split': 8, 'min_samples_leaf': 67, 'n_estimators': 5}. Best is trial 0 with value: 0.78744596414145.\u001B[0m\n\u001B[32m[I 2023-03-09 12:53:07,465]\u001B[0m Trial 4 finished with value: 0.7801525996267686 and parameters: {'max_depth': 25, 'min_samples_split': 75, 'min_samples_leaf': 65, 'n_estimators': 7}. Best is trial 0 with value: 0.78744596414145.\u001B[0m\n\u001B[32m[I 2023-03-09 12:53:07,552]\u001B[0m Trial 5 finished with value: 0.7816124536413673 and parameters: {'max_depth': 24, 'min_samples_split': 79, 'min_samples_leaf': 75, 'n_estimators': 7}. Best is trial 0 with value: 0.78744596414145.\u001B[0m\n\u001B[32m[I 2023-03-09 12:53:07,790]\u001B[0m Trial 6 finished with value: 0.7927963999716534 and parameters: {'max_depth': 9, 'min_samples_split': 61, 'min_samples_leaf': 18, 'n_estimators': 19}. Best is trial 6 with value: 0.7927963999716534.\u001B[0m\n\u001B[32m[I 2023-03-09 12:53:07,908]\u001B[0m Trial 7 finished with value: 0.7889022748210617 and parameters: {'max_depth': 5, 'min_samples_split': 94, 'min_samples_leaf': 26, 'n_estimators': 10}. Best is trial 6 with value: 0.7927963999716534.\u001B[0m\n\u001B[32m[I 2023-03-09 12:53:08,056]\u001B[0m Trial 8 finished with value: 0.78841801903952 and parameters: {'max_depth': 14, 'min_samples_split': 48, 'min_samples_leaf': 33, 'n_estimators': 11}. Best is trial 6 with value: 0.7927963999716534.\u001B[0m\n\u001B[32m[I 2023-03-09 12:53:08,156]\u001B[0m Trial 9 finished with value: 0.7889058181560484 and parameters: {'max_depth': 4, 'min_samples_split': 59, 'min_samples_leaf': 9, 'n_estimators': 8}. Best is trial 6 with value: 0.7927963999716534.\u001B[0m\n/opt/conda/lib/python3.9/site-packages/sklearn/base.py:77: ExperimentalWarning: OptunaSearchCV is experimental (supported from v0.17.0). The interface can change in the future.\n  new_object = klass(**new_object_params)\n\u001B[32m[I 2023-03-09 12:53:08,215]\u001B[0m A new study created in memory with name: no-name-36a99879-4771-496a-b4c3-b84ffb6c6b2c\u001B[0m\n\u001B[32m[I 2023-03-09 12:53:08,290]\u001B[0m Trial 0 finished with value: 0.7840408192190489 and parameters: {'max_depth': 15, 'min_samples_split': 42, 'min_samples_leaf': 94, 'n_estimators': 5}. Best is trial 0 with value: 0.7840408192190489.\u001B[0m\n\u001B[32m[I 2023-03-09 12:53:08,327]\u001B[0m Trial 1 finished with value: 0.7913259159520941 and parameters: {'max_depth': 9, 'min_samples_split': 3, 'min_samples_leaf': 55, 'n_estimators': 2}. Best is trial 1 with value: 0.7913259159520941.\u001B[0m\n\u001B[32m[I 2023-03-09 12:53:08,538]\u001B[0m Trial 2 finished with value: 0.8146812179623462 and parameters: {'max_depth': 16, 'min_samples_split': 45, 'min_samples_leaf': 12, 'n_estimators': 15}. Best is trial 2 with value: 0.8146812179623462.\u001B[0m\n\u001B[32m[I 2023-03-09 12:53:08,654]\u001B[0m Trial 3 finished with value: 0.7850093307821321 and parameters: {'max_depth': 6, 'min_samples_split': 99, 'min_samples_leaf': 82, 'n_estimators': 11}. Best is trial 2 with value: 0.8146812179623462.\u001B[0m\n\u001B[32m[I 2023-03-09 12:53:08,708]\u001B[0m Trial 4 finished with value: 0.8020279687241632 and parameters: {'max_depth': 20, 'min_samples_split': 4, 'min_samples_leaf': 30, 'n_estimators': 4}. Best is trial 2 with value: 0.8146812179623462.\u001B[0m\n\u001B[32m[I 2023-03-09 12:53:08,834]\u001B[0m Trial 5 finished with value: 0.7995960598114945 and parameters: {'max_depth': 30, 'min_samples_split': 85, 'min_samples_leaf': 50, 'n_estimators': 11}. Best is trial 2 with value: 0.8146812179623462.\u001B[0m\n\u001B[32m[I 2023-03-09 12:53:08,976]\u001B[0m Trial 6 finished with value: 0.8015437129426216 and parameters: {'max_depth': 15, 'min_samples_split': 100, 'min_samples_leaf': 34, 'n_estimators': 12}. Best is trial 2 with value: 0.8146812179623462.\u001B[0m\n\u001B[32m[I 2023-03-09 12:53:09,219]\u001B[0m Trial 7 finished with value: 0.8127359270545437 and parameters: {'max_depth': 14, 'min_samples_split': 37, 'min_samples_leaf': 18, 'n_estimators': 17}. Best is trial 2 with value: 0.8146812179623462.\u001B[0m\n\u001B[32m[I 2023-03-09 12:53:09,437]\u001B[0m Trial 8 finished with value: 0.7816112725297049 and parameters: {'max_depth': 2, 'min_samples_split': 86, 'min_samples_leaf': 67, 'n_estimators': 19}. Best is trial 2 with value: 0.8146812179623462.\u001B[0m\n\u001B[32m[I 2023-03-09 12:53:09,514]\u001B[0m Trial 9 finished with value: 0.7845262561122529 and parameters: {'max_depth': 15, 'min_samples_split': 71, 'min_samples_leaf': 77, 'n_estimators': 7}. Best is trial 2 with value: 0.8146812179623462.\u001B[0m\n/opt/conda/lib/python3.9/site-packages/sklearn/base.py:77: ExperimentalWarning: OptunaSearchCV is experimental (supported from v0.17.0). The interface can change in the future.\n  new_object = klass(**new_object_params)\n\u001B[32m[I 2023-03-09 12:53:09,563]\u001B[0m A new study created in memory with name: no-name-2b8740ed-6f9f-46fc-8e93-7613c1425dd8\u001B[0m\n\u001B[32m[I 2023-03-09 12:53:09,720]\u001B[0m Trial 0 finished with value: 0.7767509980393547 and parameters: {'max_depth': 2, 'min_samples_split': 30, 'min_samples_leaf': 44, 'n_estimators': 19}. Best is trial 0 with value: 0.7767509980393547.\u001B[0m\n\u001B[32m[I 2023-03-09 12:53:09,896]\u001B[0m Trial 1 finished with value: 0.7782155765006024 and parameters: {'max_depth': 24, 'min_samples_split': 100, 'min_samples_leaf': 49, 'n_estimators': 17}. Best is trial 1 with value: 0.7782155765006024.\u001B[0m\n"
    },
    {
     "name": "stderr",
     "output_type": "stream",
     "text": "\u001B[32m[I 2023-03-09 12:53:10,028]\u001B[0m Trial 2 finished with value: 0.769468263529634 and parameters: {'max_depth': 16, 'min_samples_split': 83, 'min_samples_leaf': 95, 'n_estimators': 13}. Best is trial 1 with value: 0.7782155765006024.\u001B[0m\n\u001B[32m[I 2023-03-09 12:53:10,142]\u001B[0m Trial 3 finished with value: 0.7641213710344175 and parameters: {'max_depth': 17, 'min_samples_split': 81, 'min_samples_leaf': 63, 'n_estimators': 10}. Best is trial 1 with value: 0.7782155765006024.\u001B[0m\n\u001B[32m[I 2023-03-09 12:53:10,283]\u001B[0m Trial 4 finished with value: 0.7670210001653557 and parameters: {'max_depth': 2, 'min_samples_split': 85, 'min_samples_leaf': 40, 'n_estimators': 15}. Best is trial 1 with value: 0.7782155765006024.\u001B[0m\n\u001B[32m[I 2023-03-09 12:53:10,449]\u001B[0m Trial 5 finished with value: 0.7889176292726715 and parameters: {'max_depth': 15, 'min_samples_split': 77, 'min_samples_leaf': 18, 'n_estimators': 14}. Best is trial 5 with value: 0.7889176292726715.\u001B[0m\n\u001B[32m[I 2023-03-09 12:53:10,526]\u001B[0m Trial 6 finished with value: 0.7611922141119221 and parameters: {'max_depth': 2, 'min_samples_split': 53, 'min_samples_leaf': 17, 'n_estimators': 7}. Best is trial 5 with value: 0.7889176292726715.\u001B[0m\n\u001B[32m[I 2023-03-09 12:53:10,679]\u001B[0m Trial 7 finished with value: 0.7743261757966597 and parameters: {'max_depth': 18, 'min_samples_split': 49, 'min_samples_leaf': 93, 'n_estimators': 15}. Best is trial 5 with value: 0.7889176292726715.\u001B[0m\n\u001B[32m[I 2023-03-09 12:53:10,821]\u001B[0m Trial 8 finished with value: 0.7660595752722462 and parameters: {'max_depth': 3, 'min_samples_split': 38, 'min_samples_leaf': 77, 'n_estimators': 16}. Best is trial 5 with value: 0.7889176292726715.\u001B[0m\n\u001B[32m[I 2023-03-09 12:53:10,929]\u001B[0m Trial 9 finished with value: 0.776756903597666 and parameters: {'max_depth': 23, 'min_samples_split': 98, 'min_samples_leaf': 44, 'n_estimators': 9}. Best is trial 5 with value: 0.7889176292726715.\u001B[0m\n/opt/conda/lib/python3.9/site-packages/sklearn/base.py:77: ExperimentalWarning: OptunaSearchCV is experimental (supported from v0.17.0). The interface can change in the future.\n  new_object = klass(**new_object_params)\n\u001B[32m[I 2023-03-09 12:53:10,971]\u001B[0m A new study created in memory with name: no-name-ccbcf662-9244-4fd5-b7b5-4b5292c3c6ae\u001B[0m\n\u001B[32m[I 2023-03-09 12:53:11,111]\u001B[0m Trial 0 finished with value: 0.796694068457232 and parameters: {'max_depth': 13, 'min_samples_split': 22, 'min_samples_leaf': 44, 'n_estimators': 13}. Best is trial 0 with value: 0.796694068457232.\u001B[0m\n\u001B[32m[I 2023-03-09 12:53:11,314]\u001B[0m Trial 1 finished with value: 0.806424066331231 and parameters: {'max_depth': 29, 'min_samples_split': 19, 'min_samples_leaf': 30, 'n_estimators': 18}. Best is trial 1 with value: 0.806424066331231.\u001B[0m\n\u001B[32m[I 2023-03-09 12:53:11,409]\u001B[0m Trial 2 finished with value: 0.7898825975007677 and parameters: {'max_depth': 12, 'min_samples_split': 43, 'min_samples_leaf': 52, 'n_estimators': 8}. Best is trial 1 with value: 0.806424066331231.\u001B[0m\n\u001B[32m[I 2023-03-09 12:53:11,614]\u001B[0m Trial 3 finished with value: 0.8030165591855054 and parameters: {'max_depth': 8, 'min_samples_split': 100, 'min_samples_leaf': 40, 'n_estimators': 19}. Best is trial 1 with value: 0.806424066331231.\u001B[0m\n\u001B[32m[I 2023-03-09 12:53:11,666]\u001B[0m Trial 4 finished with value: 0.7850187796754305 and parameters: {'max_depth': 11, 'min_samples_split': 90, 'min_samples_leaf': 54, 'n_estimators': 3}. Best is trial 1 with value: 0.806424066331231.\u001B[0m\n\u001B[32m[I 2023-03-09 12:53:11,815]\u001B[0m Trial 5 finished with value: 0.7835565634375075 and parameters: {'max_depth': 18, 'min_samples_split': 52, 'min_samples_leaf': 74, 'n_estimators': 13}. Best is trial 1 with value: 0.806424066331231.\u001B[0m\n\u001B[32m[I 2023-03-09 12:53:11,852]\u001B[0m Trial 6 finished with value: 0.7772340727092338 and parameters: {'max_depth': 21, 'min_samples_split': 31, 'min_samples_leaf': 99, 'n_estimators': 2}. Best is trial 1 with value: 0.806424066331231.\u001B[0m\n\u001B[32m[I 2023-03-09 12:53:12,005]\u001B[0m Trial 7 finished with value: 0.7855030354569721 and parameters: {'max_depth': 3, 'min_samples_split': 93, 'min_samples_leaf': 75, 'n_estimators': 14}. Best is trial 1 with value: 0.806424066331231.\u001B[0m\n\u001B[32m[I 2023-03-09 12:53:12,089]\u001B[0m Trial 8 finished with value: 0.785021141898755 and parameters: {'max_depth': 25, 'min_samples_split': 72, 'min_samples_leaf': 61, 'n_estimators': 7}. Best is trial 1 with value: 0.806424066331231.\u001B[0m\n\u001B[32m[I 2023-03-09 12:53:12,217]\u001B[0m Trial 9 finished with value: 0.7869628894715707 and parameters: {'max_depth': 25, 'min_samples_split': 3, 'min_samples_leaf': 76, 'n_estimators': 12}. Best is trial 1 with value: 0.806424066331231.\u001B[0m\n/opt/conda/lib/python3.9/site-packages/sklearn/base.py:77: ExperimentalWarning: OptunaSearchCV is experimental (supported from v0.17.0). The interface can change in the future.\n  new_object = klass(**new_object_params)\n\u001B[32m[I 2023-03-09 12:53:12,264]\u001B[0m A new study created in memory with name: no-name-946fa901-3e06-4365-a076-b7a604223f4e\u001B[0m\n\u001B[32m[I 2023-03-09 12:53:12,465]\u001B[0m Trial 0 finished with value: 0.8360900479531335 and parameters: {'max_depth': 17, 'min_samples_split': 9, 'min_samples_leaf': 3, 'n_estimators': 15}. Best is trial 0 with value: 0.8360900479531335.\u001B[0m\n\u001B[32m[I 2023-03-09 12:53:12,607]\u001B[0m Trial 1 finished with value: 0.7830805754376019 and parameters: {'max_depth': 8, 'min_samples_split': 54, 'min_samples_leaf': 56, 'n_estimators': 14}. Best is trial 0 with value: 0.8360900479531335.\u001B[0m\n\u001B[32m[I 2023-03-09 12:53:12,756]\u001B[0m Trial 2 finished with value: 0.7777336829423854 and parameters: {'max_depth': 17, 'min_samples_split': 54, 'min_samples_leaf': 65, 'n_estimators': 15}. Best is trial 0 with value: 0.8360900479531335.\u001B[0m\n\u001B[32m[I 2023-03-09 12:53:12,890]\u001B[0m Trial 3 finished with value: 0.7796801549618501 and parameters: {'max_depth': 3, 'min_samples_split': 46, 'min_samples_leaf': 85, 'n_estimators': 14}. Best is trial 0 with value: 0.8360900479531335.\u001B[0m\n\u001B[32m[I 2023-03-09 12:53:12,929]\u001B[0m Trial 4 finished with value: 0.7864762714667044 and parameters: {'max_depth': 22, 'min_samples_split': 57, 'min_samples_leaf': 11, 'n_estimators': 2}. Best is trial 0 with value: 0.8360900479531335.\u001B[0m\n\u001B[32m[I 2023-03-09 12:53:12,961]\u001B[0m Trial 5 finished with value: 0.7767592658209908 and parameters: {'max_depth': 17, 'min_samples_split': 2, 'min_samples_leaf': 64, 'n_estimators': 2}. Best is trial 0 with value: 0.8360900479531335.\u001B[0m\n\u001B[32m[I 2023-03-09 12:53:13,054]\u001B[0m Trial 6 finished with value: 0.7782203009472515 and parameters: {'max_depth': 28, 'min_samples_split': 32, 'min_samples_leaf': 85, 'n_estimators': 8}. Best is trial 0 with value: 0.8360900479531335.\u001B[0m\n\u001B[32m[I 2023-03-09 12:53:13,163]\u001B[0m Trial 7 finished with value: 0.7859991023551366 and parameters: {'max_depth': 27, 'min_samples_split': 92, 'min_samples_leaf': 37, 'n_estimators': 10}. Best is trial 0 with value: 0.8360900479531335.\u001B[0m\n\u001B[32m[I 2023-03-09 12:53:13,357]\u001B[0m Trial 8 finished with value: 0.7796801549618501 and parameters: {'max_depth': 20, 'min_samples_split': 54, 'min_samples_leaf': 86, 'n_estimators': 20}. Best is trial 0 with value: 0.8360900479531335.\u001B[0m\n\u001B[32m[I 2023-03-09 12:53:13,390]\u001B[0m Trial 9 finished with value: 0.7665414688304633 and parameters: {'max_depth': 23, 'min_samples_split': 99, 'min_samples_leaf': 70, 'n_estimators': 2}. Best is trial 0 with value: 0.8360900479531335.\u001B[0m\n/opt/conda/lib/python3.9/site-packages/sklearn/base.py:77: ExperimentalWarning: OptunaSearchCV is experimental (supported from v0.17.0). The interface can change in the future.\n  new_object = klass(**new_object_params)\n\u001B[32m[I 2023-03-09 12:53:13,447]\u001B[0m A new study created in memory with name: no-name-6df4d305-52b3-429e-b4b1-cf4e9c7bc0eb\u001B[0m\n\u001B[32m[I 2023-03-09 12:53:13,609]\u001B[0m Trial 0 finished with value: 0.8001003944912952 and parameters: {'max_depth': 24, 'min_samples_split': 37, 'min_samples_leaf': 73, 'n_estimators': 16}. Best is trial 0 with value: 0.8001003944912952.\u001B[0m\n\u001B[32m[I 2023-03-09 12:53:13,692]\u001B[0m Trial 1 finished with value: 0.8035079016370208 and parameters: {'max_depth': 26, 'min_samples_split': 56, 'min_samples_leaf': 19, 'n_estimators': 6}. Best is trial 1 with value: 0.8035079016370208.\u001B[0m\n"
    },
    {
     "name": "stderr",
     "output_type": "stream",
     "text": "\u001B[32m[I 2023-03-09 12:53:13,747]\u001B[0m Trial 2 finished with value: 0.7602331514421373 and parameters: {'max_depth': 1, 'min_samples_split': 92, 'min_samples_leaf': 23, 'n_estimators': 5}. Best is trial 1 with value: 0.8035079016370208.\u001B[0m\n\u001B[32m[I 2023-03-09 12:53:13,883]\u001B[0m Trial 3 finished with value: 0.8044811376467532 and parameters: {'max_depth': 13, 'min_samples_split': 15, 'min_samples_leaf': 34, 'n_estimators': 12}. Best is trial 3 with value: 0.8044811376467532.\u001B[0m\n\u001B[32m[I 2023-03-09 12:53:14,031]\u001B[0m Trial 4 finished with value: 0.7971818675737605 and parameters: {'max_depth': 7, 'min_samples_split': 83, 'min_samples_leaf': 80, 'n_estimators': 15}. Best is trial 3 with value: 0.8044811376467532.\u001B[0m\n\u001B[32m[I 2023-03-09 12:53:14,089]\u001B[0m Trial 5 finished with value: 0.807396121229301 and parameters: {'max_depth': 29, 'min_samples_split': 62, 'min_samples_leaf': 5, 'n_estimators': 4}. Best is trial 5 with value: 0.807396121229301.\u001B[0m\n\u001B[32m[I 2023-03-09 12:53:14,245]\u001B[0m Trial 6 finished with value: 0.8044799565350909 and parameters: {'max_depth': 26, 'min_samples_split': 8, 'min_samples_leaf': 41, 'n_estimators': 13}. Best is trial 5 with value: 0.807396121229301.\u001B[0m\n\u001B[32m[I 2023-03-09 12:53:14,374]\u001B[0m Trial 7 finished with value: 0.8020492287340846 and parameters: {'max_depth': 5, 'min_samples_split': 47, 'min_samples_leaf': 35, 'n_estimators': 12}. Best is trial 5 with value: 0.807396121229301.\u001B[0m\n\u001B[32m[I 2023-03-09 12:53:14,506]\u001B[0m Trial 8 finished with value: 0.797674391136938 and parameters: {'max_depth': 22, 'min_samples_split': 58, 'min_samples_leaf': 82, 'n_estimators': 13}. Best is trial 5 with value: 0.807396121229301.\u001B[0m\n\u001B[32m[I 2023-03-09 12:53:14,687]\u001B[0m Trial 9 finished with value: 0.8166371388751091 and parameters: {'max_depth': 17, 'min_samples_split': 24, 'min_samples_leaf': 11, 'n_estimators': 13}. Best is trial 9 with value: 0.8166371388751091.\u001B[0m\n/opt/conda/lib/python3.9/site-packages/sklearn/base.py:77: ExperimentalWarning: OptunaSearchCV is experimental (supported from v0.17.0). The interface can change in the future.\n  new_object = klass(**new_object_params)\n\u001B[32m[I 2023-03-09 12:53:14,735]\u001B[0m A new study created in memory with name: no-name-b478ea67-1408-4101-b998-78e729e38ae3\u001B[0m\n\u001B[32m[I 2023-03-09 12:53:14,843]\u001B[0m Trial 0 finished with value: 0.7864680036850684 and parameters: {'max_depth': 10, 'min_samples_split': 49, 'min_samples_leaf': 37, 'n_estimators': 9}. Best is trial 0 with value: 0.7864680036850684.\u001B[0m\n\u001B[32m[I 2023-03-09 12:53:14,954]\u001B[0m Trial 1 finished with value: 0.7830675832093166 and parameters: {'max_depth': 20, 'min_samples_split': 99, 'min_samples_leaf': 66, 'n_estimators': 11}. Best is trial 0 with value: 0.7864680036850684.\u001B[0m\n\u001B[32m[I 2023-03-09 12:53:15,145]\u001B[0m Trial 2 finished with value: 0.7801490562917819 and parameters: {'max_depth': 13, 'min_samples_split': 12, 'min_samples_leaf': 92, 'n_estimators': 20}. Best is trial 0 with value: 0.7864680036850684.\u001B[0m\n\u001B[32m[I 2023-03-09 12:53:15,182]\u001B[0m Trial 3 finished with value: 0.7738312900101576 and parameters: {'max_depth': 5, 'min_samples_split': 9, 'min_samples_leaf': 89, 'n_estimators': 3}. Best is trial 0 with value: 0.7864680036850684.\u001B[0m\n\u001B[32m[I 2023-03-09 12:53:15,334]\u001B[0m Trial 4 finished with value: 0.781611272529705 and parameters: {'max_depth': 25, 'min_samples_split': 57, 'min_samples_leaf': 64, 'n_estimators': 15}. Best is trial 0 with value: 0.7864680036850684.\u001B[0m\n\u001B[32m[I 2023-03-09 12:53:15,517]\u001B[0m Trial 5 finished with value: 0.780635674296648 and parameters: {'max_depth': 21, 'min_samples_split': 85, 'min_samples_leaf': 86, 'n_estimators': 20}. Best is trial 0 with value: 0.7864680036850684.\u001B[0m\n\u001B[32m[I 2023-03-09 12:53:15,557]\u001B[0m Trial 6 finished with value: 0.7869581650249214 and parameters: {'max_depth': 8, 'min_samples_split': 96, 'min_samples_leaf': 6, 'n_estimators': 2}. Best is trial 6 with value: 0.7869581650249214.\u001B[0m\n\u001B[32m[I 2023-03-09 12:53:15,659]\u001B[0m Trial 7 finished with value: 0.7903633099473224 and parameters: {'max_depth': 26, 'min_samples_split': 92, 'min_samples_leaf': 10, 'n_estimators': 8}. Best is trial 7 with value: 0.7903633099473224.\u001B[0m\n\u001B[32m[I 2023-03-09 12:53:15,751]\u001B[0m Trial 8 finished with value: 0.7709127630926229 and parameters: {'max_depth': 3, 'min_samples_split': 88, 'min_samples_leaf': 74, 'n_estimators': 10}. Best is trial 7 with value: 0.7903633099473224.\u001B[0m\n\u001B[32m[I 2023-03-09 12:53:15,782]\u001B[0m Trial 9 finished with value: 0.7728604162237497 and parameters: {'max_depth': 12, 'min_samples_split': 94, 'min_samples_leaf': 100, 'n_estimators': 2}. Best is trial 7 with value: 0.7903633099473224.\u001B[0m\n/opt/conda/lib/python3.9/site-packages/sklearn/base.py:77: ExperimentalWarning: OptunaSearchCV is experimental (supported from v0.17.0). The interface can change in the future.\n  new_object = klass(**new_object_params)\n\u001B[32m[I 2023-03-09 12:53:15,804]\u001B[0m A new study created in memory with name: no-name-bdd7cc9e-dfec-466f-a90c-6fccb8735c4b\u001B[0m\n\u001B[32m[I 2023-03-09 12:53:15,905]\u001B[0m Trial 0 finished with value: 0.7743120024567122 and parameters: {'max_depth': 24, 'min_samples_split': 84, 'min_samples_leaf': 90, 'n_estimators': 9}. Best is trial 0 with value: 0.7743120024567122.\u001B[0m\n\u001B[32m[I 2023-03-09 12:53:16,071]\u001B[0m Trial 1 finished with value: 0.7782096709422909 and parameters: {'max_depth': 4, 'min_samples_split': 5, 'min_samples_leaf': 35, 'n_estimators': 17}. Best is trial 1 with value: 0.7782096709422909.\u001B[0m\n\u001B[32m[I 2023-03-09 12:53:16,137]\u001B[0m Trial 2 finished with value: 0.7786903833888457 and parameters: {'max_depth': 13, 'min_samples_split': 76, 'min_samples_leaf': 62, 'n_estimators': 5}. Best is trial 2 with value: 0.7786903833888457.\u001B[0m\n\u001B[32m[I 2023-03-09 12:53:16,292]\u001B[0m Trial 3 finished with value: 0.777234072709234 and parameters: {'max_depth': 26, 'min_samples_split': 66, 'min_samples_leaf': 47, 'n_estimators': 14}. Best is trial 2 with value: 0.7786903833888457.\u001B[0m\n\u001B[32m[I 2023-03-09 12:53:16,386]\u001B[0m Trial 4 finished with value: 0.7820955283112465 and parameters: {'max_depth': 17, 'min_samples_split': 68, 'min_samples_leaf': 48, 'n_estimators': 8}. Best is trial 4 with value: 0.7820955283112465.\u001B[0m\n\u001B[32m[I 2023-03-09 12:53:16,498]\u001B[0m Trial 5 finished with value: 0.8000980322679707 and parameters: {'max_depth': 13, 'min_samples_split': 16, 'min_samples_leaf': 19, 'n_estimators': 9}. Best is trial 5 with value: 0.8000980322679707.\u001B[0m\n\u001B[32m[I 2023-03-09 12:53:16,567]\u001B[0m Trial 6 finished with value: 0.7762620178111639 and parameters: {'max_depth': 30, 'min_samples_split': 29, 'min_samples_leaf': 70, 'n_estimators': 5}. Best is trial 5 with value: 0.8000980322679707.\u001B[0m\n\u001B[32m[I 2023-03-09 12:53:16,709]\u001B[0m Trial 7 finished with value: 0.784530980558902 and parameters: {'max_depth': 13, 'min_samples_split': 82, 'min_samples_leaf': 32, 'n_estimators': 12}. Best is trial 5 with value: 0.8000980322679707.\u001B[0m\n\u001B[32m[I 2023-03-09 12:53:16,922]\u001B[0m Trial 8 finished with value: 0.7825868707627619 and parameters: {'max_depth': 15, 'min_samples_split': 40, 'min_samples_leaf': 40, 'n_estimators': 20}. Best is trial 5 with value: 0.8000980322679707.\u001B[0m\n\u001B[32m[I 2023-03-09 12:53:17,102]\u001B[0m Trial 9 finished with value: 0.7626438003448845 and parameters: {'max_depth': 17, 'min_samples_split': 67, 'min_samples_leaf': 95, 'n_estimators': 20}. Best is trial 5 with value: 0.8000980322679707.\u001B[0m\n/opt/conda/lib/python3.9/site-packages/sklearn/base.py:77: ExperimentalWarning: OptunaSearchCV is experimental (supported from v0.17.0). The interface can change in the future.\n  new_object = klass(**new_object_params)\n\u001B[32m[I 2023-03-09 12:53:17,131]\u001B[0m A new study created in memory with name: no-name-e7db71c3-0da7-4ff3-8af8-f67b102e18e7\u001B[0m\n\u001B[32m[I 2023-03-09 12:53:17,205]\u001B[0m Trial 0 finished with value: 0.7816065480830557 and parameters: {'max_depth': 4, 'min_samples_split': 37, 'min_samples_leaf': 84, 'n_estimators': 7}. Best is trial 0 with value: 0.7816065480830557.\u001B[0m\n\u001B[32m[I 2023-03-09 12:53:17,248]\u001B[0m Trial 1 finished with value: 0.7548649989369995 and parameters: {'max_depth': 10, 'min_samples_split': 12, 'min_samples_leaf': 89, 'n_estimators': 2}. Best is trial 0 with value: 0.7816065480830557.\u001B[0m\n"
    },
    {
     "name": "stderr",
     "output_type": "stream",
     "text": "\u001B[32m[I 2023-03-09 12:53:17,331]\u001B[0m Trial 2 finished with value: 0.7952259466609973 and parameters: {'max_depth': 13, 'min_samples_split': 54, 'min_samples_leaf': 29, 'n_estimators': 7}. Best is trial 2 with value: 0.7952259466609973.\u001B[0m\n\u001B[32m[I 2023-03-09 12:53:17,483]\u001B[0m Trial 3 finished with value: 0.7791758202820495 and parameters: {'max_depth': 25, 'min_samples_split': 57, 'min_samples_leaf': 73, 'n_estimators': 15}. Best is trial 2 with value: 0.7952259466609973.\u001B[0m\n\u001B[32m[I 2023-03-09 12:53:17,665]\u001B[0m Trial 4 finished with value: 0.7937672737580612 and parameters: {'max_depth': 20, 'min_samples_split': 20, 'min_samples_leaf': 43, 'n_estimators': 17}. Best is trial 2 with value: 0.7952259466609973.\u001B[0m\n\u001B[32m[I 2023-03-09 12:53:17,787]\u001B[0m Trial 5 finished with value: 0.7806380365199725 and parameters: {'max_depth': 26, 'min_samples_split': 60, 'min_samples_leaf': 67, 'n_estimators': 11}. Best is trial 2 with value: 0.7952259466609973.\u001B[0m\n\u001B[32m[I 2023-03-09 12:53:17,958]\u001B[0m Trial 6 finished with value: 0.781129378971488 and parameters: {'max_depth': 27, 'min_samples_split': 66, 'min_samples_leaf': 94, 'n_estimators': 18}. Best is trial 2 with value: 0.7952259466609973.\u001B[0m\n\u001B[32m[I 2023-03-09 12:53:17,996]\u001B[0m Trial 7 finished with value: 0.7762679233694754 and parameters: {'max_depth': 21, 'min_samples_split': 97, 'min_samples_leaf': 84, 'n_estimators': 3}. Best is trial 2 with value: 0.7952259466609973.\u001B[0m\n\u001B[32m[I 2023-03-09 12:53:18,081]\u001B[0m Trial 8 finished with value: 0.8000933078213214 and parameters: {'max_depth': 23, 'min_samples_split': 65, 'min_samples_leaf': 28, 'n_estimators': 7}. Best is trial 8 with value: 0.8000933078213214.\u001B[0m\n\u001B[32m[I 2023-03-09 12:53:18,193]\u001B[0m Trial 9 finished with value: 0.7840408192190489 and parameters: {'max_depth': 28, 'min_samples_split': 68, 'min_samples_leaf': 78, 'n_estimators': 11}. Best is trial 8 with value: 0.8000933078213214.\u001B[0m\n/opt/conda/lib/python3.9/site-packages/sklearn/base.py:77: ExperimentalWarning: OptunaSearchCV is experimental (supported from v0.17.0). The interface can change in the future.\n  new_object = klass(**new_object_params)\n\u001B[32m[I 2023-03-09 12:53:18,214]\u001B[0m A new study created in memory with name: no-name-c5d08d55-e1a7-463a-bf23-fdcb137f06e2\u001B[0m\n\u001B[32m[I 2023-03-09 12:53:18,318]\u001B[0m Trial 0 finished with value: 0.8000944889329837 and parameters: {'max_depth': 19, 'min_samples_split': 88, 'min_samples_leaf': 29, 'n_estimators': 9}. Best is trial 0 with value: 0.8000944889329837.\u001B[0m\n\u001B[32m[I 2023-03-09 12:53:18,429]\u001B[0m Trial 1 finished with value: 0.7840408192190489 and parameters: {'max_depth': 22, 'min_samples_split': 52, 'min_samples_leaf': 54, 'n_estimators': 11}. Best is trial 0 with value: 0.8000944889329837.\u001B[0m\n\u001B[32m[I 2023-03-09 12:53:18,504]\u001B[0m Trial 2 finished with value: 0.7767509980393547 and parameters: {'max_depth': 21, 'min_samples_split': 99, 'min_samples_leaf': 90, 'n_estimators': 7}. Best is trial 0 with value: 0.8000944889329837.\u001B[0m\n\u001B[32m[I 2023-03-09 12:53:18,604]\u001B[0m Trial 3 finished with value: 0.7884192001511823 and parameters: {'max_depth': 9, 'min_samples_split': 82, 'min_samples_leaf': 57, 'n_estimators': 9}. Best is trial 0 with value: 0.8000944889329837.\u001B[0m\n\u001B[32m[I 2023-03-09 12:53:18,678]\u001B[0m Trial 4 finished with value: 0.7757789431412846 and parameters: {'max_depth': 23, 'min_samples_split': 18, 'min_samples_leaf': 98, 'n_estimators': 7}. Best is trial 0 with value: 0.8000944889329837.\u001B[0m\n\u001B[32m[I 2023-03-09 12:53:18,720]\u001B[0m Trial 5 finished with value: 0.8015614296175559 and parameters: {'max_depth': 27, 'min_samples_split': 18, 'min_samples_leaf': 23, 'n_estimators': 3}. Best is trial 5 with value: 0.8015614296175559.\u001B[0m\n\u001B[32m[I 2023-03-09 12:53:18,749]\u001B[0m Trial 6 finished with value: 0.7913554437436515 and parameters: {'max_depth': 9, 'min_samples_split': 55, 'min_samples_leaf': 24, 'n_estimators': 1}. Best is trial 5 with value: 0.8015614296175559.\u001B[0m\n\u001B[32m[I 2023-03-09 12:53:18,801]\u001B[0m Trial 7 finished with value: 0.7884203812628446 and parameters: {'max_depth': 26, 'min_samples_split': 96, 'min_samples_leaf': 38, 'n_estimators': 4}. Best is trial 5 with value: 0.8015614296175559.\u001B[0m\n\u001B[32m[I 2023-03-09 12:53:18,969]\u001B[0m Trial 8 finished with value: 0.7835553823258451 and parameters: {'max_depth': 25, 'min_samples_split': 11, 'min_samples_leaf': 58, 'n_estimators': 15}. Best is trial 5 with value: 0.8015614296175559.\u001B[0m\n\u001B[32m[I 2023-03-09 12:53:18,999]\u001B[0m Trial 9 finished with value: 0.7592504665391067 and parameters: {'max_depth': 6, 'min_samples_split': 63, 'min_samples_leaf': 76, 'n_estimators': 2}. Best is trial 5 with value: 0.8015614296175559.\u001B[0m\n/opt/conda/lib/python3.9/site-packages/sklearn/base.py:77: ExperimentalWarning: OptunaSearchCV is experimental (supported from v0.17.0). The interface can change in the future.\n  new_object = klass(**new_object_params)\n\u001B[32m[I 2023-03-09 12:53:19,010]\u001B[0m A new study created in memory with name: no-name-a50ec955-14c9-46f7-b62f-ef4da3f709d3\u001B[0m\n\u001B[32m[I 2023-03-09 12:53:19,075]\u001B[0m Trial 0 finished with value: 0.8268525736423122 and parameters: {'max_depth': 19, 'min_samples_split': 21, 'min_samples_leaf': 10, 'n_estimators': 4}. Best is trial 0 with value: 0.8268525736423122.\u001B[0m\n\u001B[32m[I 2023-03-09 12:53:19,107]\u001B[0m Trial 1 finished with value: 0.8185824297829116 and parameters: {'max_depth': 6, 'min_samples_split': 30, 'min_samples_leaf': 4, 'n_estimators': 2}. Best is trial 0 with value: 0.8268525736423122.\u001B[0m\n\u001B[32m[I 2023-03-09 12:53:19,261]\u001B[0m Trial 2 finished with value: 0.8059327238797156 and parameters: {'max_depth': 20, 'min_samples_split': 90, 'min_samples_leaf': 67, 'n_estimators': 14}. Best is trial 0 with value: 0.8268525736423122.\u001B[0m\n\u001B[32m[I 2023-03-09 12:53:19,359]\u001B[0m Trial 3 finished with value: 0.8039886140835755 and parameters: {'max_depth': 22, 'min_samples_split': 27, 'min_samples_leaf': 57, 'n_estimators': 8}. Best is trial 0 with value: 0.8268525736423122.\u001B[0m\n\u001B[32m[I 2023-03-09 12:53:19,454]\u001B[0m Trial 4 finished with value: 0.7937826282096709 and parameters: {'max_depth': 22, 'min_samples_split': 78, 'min_samples_leaf': 76, 'n_estimators': 8}. Best is trial 0 with value: 0.8268525736423122.\u001B[0m\n\u001B[32m[I 2023-03-09 12:53:19,686]\u001B[0m Trial 5 finished with value: 0.8073937590059763 and parameters: {'max_depth': 8, 'min_samples_split': 68, 'min_samples_leaf': 49, 'n_estimators': 19}. Best is trial 0 with value: 0.8268525736423122.\u001B[0m\n\u001B[32m[I 2023-03-09 12:53:19,815]\u001B[0m Trial 6 finished with value: 0.8239293222781281 and parameters: {'max_depth': 26, 'min_samples_split': 58, 'min_samples_leaf': 13, 'n_estimators': 10}. Best is trial 0 with value: 0.8268525736423122.\u001B[0m\n\u001B[32m[I 2023-03-09 12:53:19,972]\u001B[0m Trial 7 finished with value: 0.8268513925306497 and parameters: {'max_depth': 10, 'min_samples_split': 34, 'min_samples_leaf': 10, 'n_estimators': 14}. Best is trial 0 with value: 0.8268525736423122.\u001B[0m\n\u001B[32m[I 2023-03-09 12:53:20,114]\u001B[0m Trial 8 finished with value: 0.7957149268891881 and parameters: {'max_depth': 5, 'min_samples_split': 30, 'min_samples_leaf': 88, 'n_estimators': 15}. Best is trial 0 with value: 0.8268525736423122.\u001B[0m\n\u001B[32m[I 2023-03-09 12:53:20,333]\u001B[0m Trial 9 finished with value: 0.8463090260553232 and parameters: {'max_depth': 21, 'min_samples_split': 7, 'min_samples_leaf': 6, 'n_estimators': 18}. Best is trial 9 with value: 0.8463090260553232.\u001B[0m\n/opt/conda/lib/python3.9/site-packages/sklearn/base.py:77: ExperimentalWarning: OptunaSearchCV is experimental (supported from v0.17.0). The interface can change in the future.\n  new_object = klass(**new_object_params)\n\u001B[32m[I 2023-03-09 12:53:20,379]\u001B[0m A new study created in memory with name: no-name-e0c66d12-a669-4cc9-8ced-f058a1f0facc\u001B[0m\n\u001B[32m[I 2023-03-09 12:53:20,553]\u001B[0m Trial 0 finished with value: 0.8390168426523044 and parameters: {'max_depth': 16, 'min_samples_split': 24, 'min_samples_leaf': 1, 'n_estimators': 13}. Best is trial 0 with value: 0.8390168426523044.\u001B[0m\n\u001B[32m[I 2023-03-09 12:53:20,725]\u001B[0m Trial 1 finished with value: 0.7791888125103348 and parameters: {'max_depth': 13, 'min_samples_split': 43, 'min_samples_leaf': 79, 'n_estimators': 18}. Best is trial 0 with value: 0.8390168426523044.\u001B[0m\n"
    },
    {
     "name": "stderr",
     "output_type": "stream",
     "text": "\u001B[32m[I 2023-03-09 12:53:20,814]\u001B[0m Trial 2 finished with value: 0.775286419578107 and parameters: {'max_depth': 3, 'min_samples_split': 96, 'min_samples_leaf': 34, 'n_estimators': 9}. Best is trial 0 with value: 0.8390168426523044.\u001B[0m\n\u001B[32m[I 2023-03-09 12:53:20,893]\u001B[0m Trial 3 finished with value: 0.7869711572532067 and parameters: {'max_depth': 28, 'min_samples_split': 95, 'min_samples_leaf': 40, 'n_estimators': 7}. Best is trial 0 with value: 0.8390168426523044.\u001B[0m\n\u001B[32m[I 2023-03-09 12:53:20,945]\u001B[0m Trial 4 finished with value: 0.7757801242529468 and parameters: {'max_depth': 25, 'min_samples_split': 50, 'min_samples_leaf': 58, 'n_estimators': 4}. Best is trial 0 with value: 0.8390168426523044.\u001B[0m\n\u001B[32m[I 2023-03-09 12:53:20,969]\u001B[0m Trial 5 finished with value: 0.767030449058654 and parameters: {'max_depth': 27, 'min_samples_split': 93, 'min_samples_leaf': 21, 'n_estimators': 1}. Best is trial 0 with value: 0.8390168426523044.\u001B[0m\n\u001B[32m[I 2023-03-09 12:53:21,132]\u001B[0m Trial 6 finished with value: 0.7821085205395317 and parameters: {'max_depth': 26, 'min_samples_split': 96, 'min_samples_leaf': 69, 'n_estimators': 16}. Best is trial 0 with value: 0.8390168426523044.\u001B[0m\n\u001B[32m[I 2023-03-09 12:53:21,304]\u001B[0m Trial 7 finished with value: 0.7957220135591618 and parameters: {'max_depth': 6, 'min_samples_split': 62, 'min_samples_leaf': 18, 'n_estimators': 18}. Best is trial 0 with value: 0.8390168426523044.\u001B[0m\n\u001B[32m[I 2023-03-09 12:53:21,428]\u001B[0m Trial 8 finished with value: 0.8098268490303073 and parameters: {'max_depth': 11, 'min_samples_split': 31, 'min_samples_leaf': 13, 'n_estimators': 11}. Best is trial 0 with value: 0.8390168426523044.\u001B[0m\n\u001B[32m[I 2023-03-09 12:53:21,466]\u001B[0m Trial 9 finished with value: 0.762653249238183 and parameters: {'max_depth': 15, 'min_samples_split': 85, 'min_samples_leaf': 90, 'n_estimators': 2}. Best is trial 0 with value: 0.8390168426523044.\u001B[0m\n/opt/conda/lib/python3.9/site-packages/sklearn/base.py:77: ExperimentalWarning: OptunaSearchCV is experimental (supported from v0.17.0). The interface can change in the future.\n  new_object = klass(**new_object_params)\n\u001B[32m[I 2023-03-09 12:53:21,505]\u001B[0m A new study created in memory with name: no-name-62c95421-c347-4858-aaa6-6252a1f1f8ef\u001B[0m\n\u001B[32m[I 2023-03-09 12:53:21,541]\u001B[0m Trial 0 finished with value: 0.7860014645784611 and parameters: {'max_depth': 5, 'min_samples_split': 77, 'min_samples_leaf': 51, 'n_estimators': 2}. Best is trial 0 with value: 0.7860014645784611.\u001B[0m\n\u001B[32m[I 2023-03-09 12:53:21,647]\u001B[0m Trial 1 finished with value: 0.7821120638745187 and parameters: {'max_depth': 13, 'min_samples_split': 82, 'min_samples_leaf': 98, 'n_estimators': 10}. Best is trial 0 with value: 0.7860014645784611.\u001B[0m\n\u001B[32m[I 2023-03-09 12:53:21,671]\u001B[0m Trial 2 finished with value: 0.7859920156851629 and parameters: {'max_depth': 22, 'min_samples_split': 47, 'min_samples_leaf': 3, 'n_estimators': 1}. Best is trial 0 with value: 0.7860014645784611.\u001B[0m\n\u001B[32m[I 2023-03-09 12:53:21,816]\u001B[0m Trial 3 finished with value: 0.7393050338979046 and parameters: {'max_depth': 1, 'min_samples_split': 14, 'min_samples_leaf': 7, 'n_estimators': 19}. Best is trial 0 with value: 0.7860014645784611.\u001B[0m\n\u001B[32m[I 2023-03-09 12:53:21,999]\u001B[0m Trial 4 finished with value: 0.7811364656414618 and parameters: {'max_depth': 9, 'min_samples_split': 2, 'min_samples_leaf': 92, 'n_estimators': 20}. Best is trial 0 with value: 0.7860014645784611.\u001B[0m\n\u001B[32m[I 2023-03-09 12:53:22,112]\u001B[0m Trial 5 finished with value: 0.7952401200009449 and parameters: {'max_depth': 8, 'min_samples_split': 54, 'min_samples_leaf': 33, 'n_estimators': 10}. Best is trial 5 with value: 0.7952401200009449.\u001B[0m\n\u001B[32m[I 2023-03-09 12:53:22,331]\u001B[0m Trial 6 finished with value: 0.7918302506318948 and parameters: {'max_depth': 17, 'min_samples_split': 94, 'min_samples_leaf': 58, 'n_estimators': 19}. Best is trial 5 with value: 0.7952401200009449.\u001B[0m\n\u001B[32m[I 2023-03-09 12:53:22,524]\u001B[0m Trial 7 finished with value: 0.7898837786124301 and parameters: {'max_depth': 28, 'min_samples_split': 74, 'min_samples_leaf': 76, 'n_estimators': 20}. Best is trial 5 with value: 0.7952401200009449.\u001B[0m\n\u001B[32m[I 2023-03-09 12:53:22,679]\u001B[0m Trial 8 finished with value: 0.7855089410152837 and parameters: {'max_depth': 15, 'min_samples_split': 70, 'min_samples_leaf': 75, 'n_estimators': 15}. Best is trial 5 with value: 0.7952401200009449.\u001B[0m\n\u001B[32m[I 2023-03-09 12:53:22,867]\u001B[0m Trial 9 finished with value: 0.7918290695202324 and parameters: {'max_depth': 12, 'min_samples_split': 83, 'min_samples_leaf': 73, 'n_estimators': 19}. Best is trial 5 with value: 0.7952401200009449.\u001B[0m\n/opt/conda/lib/python3.9/site-packages/sklearn/base.py:77: ExperimentalWarning: OptunaSearchCV is experimental (supported from v0.17.0). The interface can change in the future.\n  new_object = klass(**new_object_params)\n\u001B[32m[I 2023-03-09 12:53:22,891]\u001B[0m A new study created in memory with name: no-name-a19bcd7c-e7a4-4d67-aa83-97ba35d927e0\u001B[0m\n\u001B[32m[I 2023-03-09 12:53:22,946]\u001B[0m Trial 0 finished with value: 0.7675229726218318 and parameters: {'max_depth': 27, 'min_samples_split': 55, 'min_samples_leaf': 71, 'n_estimators': 4}. Best is trial 0 with value: 0.7675229726218318.\u001B[0m\n\u001B[32m[I 2023-03-09 12:53:23,142]\u001B[0m Trial 1 finished with value: 0.7699477948645266 and parameters: {'max_depth': 24, 'min_samples_split': 6, 'min_samples_leaf': 60, 'n_estimators': 20}. Best is trial 1 with value: 0.7699477948645266.\u001B[0m\n\u001B[32m[I 2023-03-09 12:53:23,292]\u001B[0m Trial 2 finished with value: 0.7947523208844164 and parameters: {'max_depth': 16, 'min_samples_split': 68, 'min_samples_leaf': 8, 'n_estimators': 13}. Best is trial 2 with value: 0.7947523208844164.\u001B[0m\n\u001B[32m[I 2023-03-09 12:53:23,315]\u001B[0m Trial 3 finished with value: 0.7689745588547943 and parameters: {'max_depth': 18, 'min_samples_split': 62, 'min_samples_leaf': 4, 'n_estimators': 1}. Best is trial 2 with value: 0.7947523208844164.\u001B[0m\n\u001B[32m[I 2023-03-09 12:53:23,375]\u001B[0m Trial 4 finished with value: 0.7845404294522005 and parameters: {'max_depth': 21, 'min_samples_split': 39, 'min_samples_leaf': 14, 'n_estimators': 4}. Best is trial 2 with value: 0.7947523208844164.\u001B[0m\n\u001B[32m[I 2023-03-09 12:53:23,464]\u001B[0m Trial 5 finished with value: 0.8117792266080835 and parameters: {'max_depth': 12, 'min_samples_split': 23, 'min_samples_leaf': 1, 'n_estimators': 6}. Best is trial 5 with value: 0.8117792266080835.\u001B[0m\n\u001B[32m[I 2023-03-09 12:53:23,548]\u001B[0m Trial 6 finished with value: 0.8010795360593391 and parameters: {'max_depth': 23, 'min_samples_split': 13, 'min_samples_leaf': 7, 'n_estimators': 6}. Best is trial 5 with value: 0.8117792266080835.\u001B[0m\n\u001B[32m[I 2023-03-09 12:53:23,604]\u001B[0m Trial 7 finished with value: 0.7646056268159592 and parameters: {'max_depth': 11, 'min_samples_split': 58, 'min_samples_leaf': 86, 'n_estimators': 5}. Best is trial 5 with value: 0.8117792266080835.\u001B[0m\n\u001B[32m[I 2023-03-09 12:53:23,770]\u001B[0m Trial 8 finished with value: 0.7752994118063923 and parameters: {'max_depth': 27, 'min_samples_split': 66, 'min_samples_leaf': 53, 'n_estimators': 16}. Best is trial 5 with value: 0.8117792266080835.\u001B[0m\n\u001B[32m[I 2023-03-09 12:53:23,883]\u001B[0m Trial 9 finished with value: 0.7655729572673801 and parameters: {'max_depth': 11, 'min_samples_split': 91, 'min_samples_leaf': 84, 'n_estimators': 11}. Best is trial 5 with value: 0.8117792266080835.\u001B[0m\n/opt/conda/lib/python3.9/site-packages/sklearn/base.py:77: ExperimentalWarning: OptunaSearchCV is experimental (supported from v0.17.0). The interface can change in the future.\n  new_object = klass(**new_object_params)\n\u001B[32m[I 2023-03-09 12:53:23,901]\u001B[0m A new study created in memory with name: no-name-95222600-6519-4f50-93a4-dd47e342a04c\u001B[0m\n\u001B[32m[I 2023-03-09 12:53:24,048]\u001B[0m Trial 0 finished with value: 0.7825880518744242 and parameters: {'max_depth': 3, 'min_samples_split': 88, 'min_samples_leaf': 34, 'n_estimators': 16}. Best is trial 0 with value: 0.7825880518744242.\u001B[0m\n\u001B[32m[I 2023-03-09 12:53:24,179]\u001B[0m Trial 1 finished with value: 0.7903739399522831 and parameters: {'max_depth': 11, 'min_samples_split': 16, 'min_samples_leaf': 32, 'n_estimators': 11}. Best is trial 1 with value: 0.7903739399522831.\u001B[0m\n"
    },
    {
     "name": "stderr",
     "output_type": "stream",
     "text": "\u001B[32m[I 2023-03-09 12:53:24,244]\u001B[0m Trial 2 finished with value: 0.7806451231899463 and parameters: {'max_depth': 21, 'min_samples_split': 6, 'min_samples_leaf': 57, 'n_estimators': 5}. Best is trial 1 with value: 0.7903739399522831.\u001B[0m\n\u001B[32m[I 2023-03-09 12:53:24,453]\u001B[0m Trial 3 finished with value: 0.7874554130347484 and parameters: {'max_depth': 9, 'min_samples_split': 67, 'min_samples_leaf': 42, 'n_estimators': 20}. Best is trial 1 with value: 0.7903739399522831.\u001B[0m\n\u001B[32m[I 2023-03-09 12:53:24,546]\u001B[0m Trial 4 finished with value: 0.7791840880636856 and parameters: {'max_depth': 4, 'min_samples_split': 10, 'min_samples_leaf': 35, 'n_estimators': 9}. Best is trial 1 with value: 0.7903739399522831.\u001B[0m\n\u001B[32m[I 2023-03-09 12:53:24,776]\u001B[0m Trial 5 finished with value: 0.8171190324333262 and parameters: {'max_depth': 22, 'min_samples_split': 45, 'min_samples_leaf': 8, 'n_estimators': 20}. Best is trial 5 with value: 0.8171190324333262.\u001B[0m\n\u001B[32m[I 2023-03-09 12:53:24,798]\u001B[0m Trial 6 finished with value: 0.7558405971700565 and parameters: {'max_depth': 7, 'min_samples_split': 8, 'min_samples_leaf': 60, 'n_estimators': 1}. Best is trial 5 with value: 0.8171190324333262.\u001B[0m\n\u001B[32m[I 2023-03-09 12:53:24,918]\u001B[0m Trial 7 finished with value: 0.7850235041220797 and parameters: {'max_depth': 27, 'min_samples_split': 19, 'min_samples_leaf': 57, 'n_estimators': 11}. Best is trial 5 with value: 0.8171190324333262.\u001B[0m\n\u001B[32m[I 2023-03-09 12:53:25,028]\u001B[0m Trial 8 finished with value: 0.7821037960928826 and parameters: {'max_depth': 5, 'min_samples_split': 23, 'min_samples_leaf': 88, 'n_estimators': 11}. Best is trial 5 with value: 0.8171190324333262.\u001B[0m\n\u001B[32m[I 2023-03-09 12:53:25,186]\u001B[0m Trial 9 finished with value: 0.797184229797085 and parameters: {'max_depth': 25, 'min_samples_split': 49, 'min_samples_leaf': 25, 'n_estimators': 14}. Best is trial 5 with value: 0.8171190324333262.\u001B[0m\n/opt/conda/lib/python3.9/site-packages/sklearn/base.py:77: ExperimentalWarning: OptunaSearchCV is experimental (supported from v0.17.0). The interface can change in the future.\n  new_object = klass(**new_object_params)\n\u001B[32m[I 2023-03-09 12:53:25,238]\u001B[0m A new study created in memory with name: no-name-841f1bf9-5329-4889-b5a9-43365006bf88\u001B[0m\n\u001B[32m[I 2023-03-09 12:53:25,397]\u001B[0m Trial 0 finished with value: 0.806424066331231 and parameters: {'max_depth': 7, 'min_samples_split': 95, 'min_samples_leaf': 24, 'n_estimators': 16}. Best is trial 0 with value: 0.806424066331231.\u001B[0m\n\u001B[32m[I 2023-03-09 12:53:25,454]\u001B[0m Trial 1 finished with value: 0.7611874896652729 and parameters: {'max_depth': 3, 'min_samples_split': 10, 'min_samples_leaf': 57, 'n_estimators': 5}. Best is trial 0 with value: 0.806424066331231.\u001B[0m\n\u001B[32m[I 2023-03-09 12:53:25,598]\u001B[0m Trial 2 finished with value: 0.8146942101906314 and parameters: {'max_depth': 23, 'min_samples_split': 49, 'min_samples_leaf': 27, 'n_estimators': 13}. Best is trial 2 with value: 0.8146942101906314.\u001B[0m\n\u001B[32m[I 2023-03-09 12:53:25,655]\u001B[0m Trial 3 finished with value: 0.7777289584957362 and parameters: {'max_depth': 12, 'min_samples_split': 33, 'min_samples_leaf': 44, 'n_estimators': 4}. Best is trial 2 with value: 0.8146942101906314.\u001B[0m\n\u001B[32m[I 2023-03-09 12:53:25,816]\u001B[0m Trial 4 finished with value: 0.7855053976802967 and parameters: {'max_depth': 17, 'min_samples_split': 73, 'min_samples_leaf': 72, 'n_estimators': 16}. Best is trial 2 with value: 0.8146942101906314.\u001B[0m\n\u001B[32m[I 2023-03-09 12:53:25,893]\u001B[0m Trial 5 finished with value: 0.7587555807526044 and parameters: {'max_depth': 5, 'min_samples_split': 70, 'min_samples_leaf': 76, 'n_estimators': 7}. Best is trial 2 with value: 0.8146942101906314.\u001B[0m\n\u001B[32m[I 2023-03-09 12:53:26,025]\u001B[0m Trial 6 finished with value: 0.8005846502728369 and parameters: {'max_depth': 26, 'min_samples_split': 83, 'min_samples_leaf': 36, 'n_estimators': 11}. Best is trial 2 with value: 0.8146942101906314.\u001B[0m\n\u001B[32m[I 2023-03-09 12:53:26,081]\u001B[0m Trial 7 finished with value: 0.7791840880636856 and parameters: {'max_depth': 6, 'min_samples_split': 9, 'min_samples_leaf': 47, 'n_estimators': 4}. Best is trial 2 with value: 0.8146942101906314.\u001B[0m\n\u001B[32m[I 2023-03-09 12:53:26,300]\u001B[0m Trial 8 finished with value: 0.8010712682777029 and parameters: {'max_depth': 27, 'min_samples_split': 39, 'min_samples_leaf': 49, 'n_estimators': 20}. Best is trial 2 with value: 0.8146942101906314.\u001B[0m\n\u001B[32m[I 2023-03-09 12:53:26,441]\u001B[0m Trial 9 finished with value: 0.7806368554083102 and parameters: {'max_depth': 21, 'min_samples_split': 15, 'min_samples_leaf': 89, 'n_estimators': 12}. Best is trial 2 with value: 0.8146942101906314.\u001B[0m\n/opt/conda/lib/python3.9/site-packages/sklearn/base.py:77: ExperimentalWarning: OptunaSearchCV is experimental (supported from v0.17.0). The interface can change in the future.\n  new_object = klass(**new_object_params)\n\u001B[32m[I 2023-03-09 12:53:26,474]\u001B[0m A new study created in memory with name: no-name-580ce39e-b31e-44c2-a4e0-0be91a76c727\u001B[0m\n\u001B[32m[I 2023-03-09 12:53:26,658]\u001B[0m Trial 0 finished with value: 0.80351262608367 and parameters: {'max_depth': 13, 'min_samples_split': 30, 'min_samples_leaf': 46, 'n_estimators': 17}. Best is trial 0 with value: 0.80351262608367.\u001B[0m\n\u001B[32m[I 2023-03-09 12:53:26,766]\u001B[0m Trial 1 finished with value: 0.8161587886518792 and parameters: {'max_depth': 16, 'min_samples_split': 24, 'min_samples_leaf': 16, 'n_estimators': 8}. Best is trial 1 with value: 0.8161587886518792.\u001B[0m\n\u001B[32m[I 2023-03-09 12:53:26,979]\u001B[0m Trial 2 finished with value: 0.7942727895495241 and parameters: {'max_depth': 9, 'min_samples_split': 47, 'min_samples_leaf': 84, 'n_estimators': 20}. Best is trial 1 with value: 0.8161587886518792.\u001B[0m\n\u001B[32m[I 2023-03-09 12:53:27,019]\u001B[0m Trial 3 finished with value: 0.7718942668839913 and parameters: {'max_depth': 23, 'min_samples_split': 63, 'min_samples_leaf': 93, 'n_estimators': 3}. Best is trial 1 with value: 0.8161587886518792.\u001B[0m\n\u001B[32m[I 2023-03-09 12:53:27,220]\u001B[0m Trial 4 finished with value: 0.8035102638603453 and parameters: {'max_depth': 24, 'min_samples_split': 95, 'min_samples_leaf': 39, 'n_estimators': 18}. Best is trial 1 with value: 0.8161587886518792.\u001B[0m\n\u001B[32m[I 2023-03-09 12:53:27,346]\u001B[0m Trial 5 finished with value: 0.7787021945054686 and parameters: {'max_depth': 23, 'min_samples_split': 46, 'min_samples_leaf': 84, 'n_estimators': 11}. Best is trial 1 with value: 0.8161587886518792.\u001B[0m\n\u001B[32m[I 2023-03-09 12:53:27,448]\u001B[0m Trial 6 finished with value: 0.7694576335246734 and parameters: {'max_depth': 22, 'min_samples_split': 23, 'min_samples_leaf': 96, 'n_estimators': 8}. Best is trial 1 with value: 0.8161587886518792.\u001B[0m\n\u001B[32m[I 2023-03-09 12:53:27,517]\u001B[0m Trial 7 finished with value: 0.7787010133938063 and parameters: {'max_depth': 17, 'min_samples_split': 42, 'min_samples_leaf': 74, 'n_estimators': 6}. Best is trial 1 with value: 0.8161587886518792.\u001B[0m\n\u001B[32m[I 2023-03-09 12:53:27,653]\u001B[0m Trial 8 finished with value: 0.797674391136938 and parameters: {'max_depth': 14, 'min_samples_split': 81, 'min_samples_leaf': 52, 'n_estimators': 12}. Best is trial 1 with value: 0.8161587886518792.\u001B[0m\n\u001B[32m[I 2023-03-09 12:53:27,851]\u001B[0m Trial 9 finished with value: 0.7937861715446578 and parameters: {'max_depth': 26, 'min_samples_split': 46, 'min_samples_leaf': 68, 'n_estimators': 19}. Best is trial 1 with value: 0.8161587886518792.\u001B[0m\n/opt/conda/lib/python3.9/site-packages/sklearn/base.py:77: ExperimentalWarning: OptunaSearchCV is experimental (supported from v0.17.0). The interface can change in the future.\n  new_object = klass(**new_object_params)\n\u001B[32m[I 2023-03-09 12:53:27,873]\u001B[0m A new study created in memory with name: no-name-209474d3-435f-4341-ab8d-175a5188a9bb\u001B[0m\n\u001B[32m[I 2023-03-09 12:53:27,952]\u001B[0m Trial 0 finished with value: 0.7830758509909528 and parameters: {'max_depth': 24, 'min_samples_split': 33, 'min_samples_leaf': 56, 'n_estimators': 6}. Best is trial 0 with value: 0.7830758509909528.\u001B[0m\n\u001B[32m[I 2023-03-09 12:53:28,106]\u001B[0m Trial 1 finished with value: 0.7733576642335767 and parameters: {'max_depth': 20, 'min_samples_split': 25, 'min_samples_leaf': 98, 'n_estimators': 15}. Best is trial 0 with value: 0.7830758509909528.\u001B[0m\n"
    },
    {
     "name": "stderr",
     "output_type": "stream",
     "text": "\u001B[32m[I 2023-03-09 12:53:28,258]\u001B[0m Trial 2 finished with value: 0.7811341034181372 and parameters: {'max_depth': 28, 'min_samples_split': 83, 'min_samples_leaf': 81, 'n_estimators': 14}. Best is trial 0 with value: 0.7830758509909528.\u001B[0m\n\u001B[32m[I 2023-03-09 12:53:28,350]\u001B[0m Trial 3 finished with value: 0.7869735194765313 and parameters: {'max_depth': 5, 'min_samples_split': 100, 'min_samples_leaf': 18, 'n_estimators': 9}. Best is trial 3 with value: 0.7869735194765313.\u001B[0m\n\u001B[32m[I 2023-03-09 12:53:28,413]\u001B[0m Trial 4 finished with value: 0.7675099803935463 and parameters: {'max_depth': 26, 'min_samples_split': 48, 'min_samples_leaf': 78, 'n_estimators': 6}. Best is trial 3 with value: 0.7869735194765313.\u001B[0m\n\u001B[32m[I 2023-03-09 12:53:28,512]\u001B[0m Trial 5 finished with value: 0.7913519004086645 and parameters: {'max_depth': 18, 'min_samples_split': 53, 'min_samples_leaf': 39, 'n_estimators': 7}. Best is trial 5 with value: 0.7913519004086645.\u001B[0m\n\u001B[32m[I 2023-03-09 12:53:28,602]\u001B[0m Trial 6 finished with value: 0.7670292679469917 and parameters: {'max_depth': 18, 'min_samples_split': 84, 'min_samples_leaf': 97, 'n_estimators': 8}. Best is trial 5 with value: 0.7913519004086645.\u001B[0m\n\u001B[32m[I 2023-03-09 12:53:28,649]\u001B[0m Trial 7 finished with value: 0.7451361821746628 and parameters: {'max_depth': 14, 'min_samples_split': 74, 'min_samples_leaf': 65, 'n_estimators': 3}. Best is trial 5 with value: 0.7913519004086645.\u001B[0m\n\u001B[32m[I 2023-03-09 12:53:28,771]\u001B[0m Trial 8 finished with value: 0.7918373373018686 and parameters: {'max_depth': 25, 'min_samples_split': 57, 'min_samples_leaf': 59, 'n_estimators': 12}. Best is trial 8 with value: 0.7918373373018686.\u001B[0m\n\u001B[32m[I 2023-03-09 12:53:28,832]\u001B[0m Trial 9 finished with value: 0.7519488342427894 and parameters: {'max_depth': 28, 'min_samples_split': 15, 'min_samples_leaf': 80, 'n_estimators': 5}. Best is trial 8 with value: 0.7918373373018686.\u001B[0m\n/opt/conda/lib/python3.9/site-packages/sklearn/base.py:77: ExperimentalWarning: OptunaSearchCV is experimental (supported from v0.17.0). The interface can change in the future.\n  new_object = klass(**new_object_params)\n\u001B[32m[I 2023-03-09 12:53:28,869]\u001B[0m A new study created in memory with name: no-name-fd2b01f2-a60d-4c35-994d-b6a79c45c750\u001B[0m\n\u001B[32m[I 2023-03-09 12:53:29,062]\u001B[0m Trial 0 finished with value: 0.7767509980393547 and parameters: {'max_depth': 2, 'min_samples_split': 22, 'min_samples_leaf': 11, 'n_estimators': 19}. Best is trial 0 with value: 0.7767509980393547.\u001B[0m\n\u001B[32m[I 2023-03-09 12:53:29,225]\u001B[0m Trial 1 finished with value: 0.7786986511704816 and parameters: {'max_depth': 5, 'min_samples_split': 29, 'min_samples_leaf': 62, 'n_estimators': 12}. Best is trial 1 with value: 0.7786986511704816.\u001B[0m\n\u001B[32m[I 2023-03-09 12:53:29,254]\u001B[0m Trial 2 finished with value: 0.7645997212576476 and parameters: {'max_depth': 26, 'min_samples_split': 11, 'min_samples_leaf': 92, 'n_estimators': 1}. Best is trial 1 with value: 0.7786986511704816.\u001B[0m\n\u001B[32m[I 2023-03-09 12:53:29,347]\u001B[0m Trial 3 finished with value: 0.7786986511704816 and parameters: {'max_depth': 19, 'min_samples_split': 4, 'min_samples_leaf': 53, 'n_estimators': 6}. Best is trial 1 with value: 0.7786986511704816.\u001B[0m\n\u001B[32m[I 2023-03-09 12:53:29,379]\u001B[0m Trial 4 finished with value: 0.7714029244324758 and parameters: {'max_depth': 9, 'min_samples_split': 30, 'min_samples_leaf': 90, 'n_estimators': 2}. Best is trial 1 with value: 0.7786986511704816.\u001B[0m\n\u001B[32m[I 2023-03-09 12:53:29,578]\u001B[0m Trial 5 finished with value: 0.7879432121512767 and parameters: {'max_depth': 5, 'min_samples_split': 55, 'min_samples_leaf': 30, 'n_estimators': 20}. Best is trial 5 with value: 0.7879432121512767.\u001B[0m\n\u001B[32m[I 2023-03-09 12:53:29,735]\u001B[0m Trial 6 finished with value: 0.7689745588547942 and parameters: {'max_depth': 18, 'min_samples_split': 65, 'min_samples_leaf': 89, 'n_estimators': 16}. Best is trial 5 with value: 0.7879432121512767.\u001B[0m\n\u001B[32m[I 2023-03-09 12:53:29,897]\u001B[0m Trial 7 finished with value: 0.7786986511704816 and parameters: {'max_depth': 4, 'min_samples_split': 25, 'min_samples_leaf': 58, 'n_estimators': 16}. Best is trial 5 with value: 0.7879432121512767.\u001B[0m\n\u001B[32m[I 2023-03-09 12:53:30,058]\u001B[0m Trial 8 finished with value: 0.7864821770250159 and parameters: {'max_depth': 7, 'min_samples_split': 64, 'min_samples_leaf': 35, 'n_estimators': 14}. Best is trial 5 with value: 0.7879432121512767.\u001B[0m\n\u001B[32m[I 2023-03-09 12:53:30,159]\u001B[0m Trial 9 finished with value: 0.777727777384074 and parameters: {'max_depth': 20, 'min_samples_split': 86, 'min_samples_leaf': 90, 'n_estimators': 9}. Best is trial 5 with value: 0.7879432121512767.\u001B[0m\n/opt/conda/lib/python3.9/site-packages/sklearn/base.py:77: ExperimentalWarning: OptunaSearchCV is experimental (supported from v0.17.0). The interface can change in the future.\n  new_object = klass(**new_object_params)\n\u001B[32m[I 2023-03-09 12:53:30,197]\u001B[0m A new study created in memory with name: no-name-e4b54e29-073f-48e8-acec-7595251ebd57\u001B[0m\n\u001B[32m[I 2023-03-09 12:53:30,226]\u001B[0m Trial 0 finished with value: 0.7840420003307113 and parameters: {'max_depth': 16, 'min_samples_split': 73, 'min_samples_leaf': 48, 'n_estimators': 1}. Best is trial 0 with value: 0.7840420003307113.\u001B[0m\n\u001B[32m[I 2023-03-09 12:53:30,369]\u001B[0m Trial 1 finished with value: 0.8132308128410459 and parameters: {'max_depth': 6, 'min_samples_split': 15, 'min_samples_leaf': 33, 'n_estimators': 13}. Best is trial 1 with value: 0.8132308128410459.\u001B[0m\n\u001B[32m[I 2023-03-09 12:53:30,497]\u001B[0m Trial 2 finished with value: 0.7796813360735124 and parameters: {'max_depth': 29, 'min_samples_split': 88, 'min_samples_leaf': 96, 'n_estimators': 12}. Best is trial 1 with value: 0.8132308128410459.\u001B[0m\n\u001B[32m[I 2023-03-09 12:53:30,703]\u001B[0m Trial 3 finished with value: 0.8010771738360145 and parameters: {'max_depth': 23, 'min_samples_split': 100, 'min_samples_leaf': 57, 'n_estimators': 17}. Best is trial 1 with value: 0.8132308128410459.\u001B[0m\n\u001B[32m[I 2023-03-09 12:53:30,866]\u001B[0m Trial 4 finished with value: 0.7981610091418043 and parameters: {'max_depth': 13, 'min_samples_split': 94, 'min_samples_leaf': 98, 'n_estimators': 15}. Best is trial 1 with value: 0.8132308128410459.\u001B[0m\n\u001B[32m[I 2023-03-09 12:53:30,915]\u001B[0m Trial 5 finished with value: 0.7976708478019512 and parameters: {'max_depth': 2, 'min_samples_split': 25, 'min_samples_leaf': 47, 'n_estimators': 4}. Best is trial 1 with value: 0.8132308128410459.\u001B[0m\n\u001B[32m[I 2023-03-09 12:53:30,990]\u001B[0m Trial 6 finished with value: 0.8331786077055725 and parameters: {'max_depth': 13, 'min_samples_split': 38, 'min_samples_leaf': 2, 'n_estimators': 4}. Best is trial 6 with value: 0.8331786077055725.\u001B[0m\n\u001B[32m[I 2023-03-09 12:53:31,118]\u001B[0m Trial 7 finished with value: 0.8239340467247773 and parameters: {'max_depth': 13, 'min_samples_split': 21, 'min_samples_leaf': 14, 'n_estimators': 10}. Best is trial 6 with value: 0.8331786077055725.\u001B[0m\n\u001B[32m[I 2023-03-09 12:53:31,166]\u001B[0m Trial 8 finished with value: 0.8000980322679705 and parameters: {'max_depth': 29, 'min_samples_split': 4, 'min_samples_leaf': 56, 'n_estimators': 3}. Best is trial 6 with value: 0.8331786077055725.\u001B[0m\n\u001B[32m[I 2023-03-09 12:53:31,215]\u001B[0m Trial 9 finished with value: 0.7879420310396145 and parameters: {'max_depth': 18, 'min_samples_split': 98, 'min_samples_leaf': 81, 'n_estimators': 4}. Best is trial 6 with value: 0.8331786077055725.\u001B[0m\n/opt/conda/lib/python3.9/site-packages/sklearn/base.py:77: ExperimentalWarning: OptunaSearchCV is experimental (supported from v0.17.0). The interface can change in the future.\n  new_object = klass(**new_object_params)\n\u001B[32m[I 2023-03-09 12:53:31,237]\u001B[0m A new study created in memory with name: no-name-17ae3dde-991e-4a39-a4e9-c31c412bd6fc\u001B[0m\n\u001B[32m[I 2023-03-09 12:53:31,383]\u001B[0m Trial 0 finished with value: 0.7961980015590674 and parameters: {'max_depth': 27, 'min_samples_split': 36, 'min_samples_leaf': 32, 'n_estimators': 13}. Best is trial 0 with value: 0.7961980015590674.\u001B[0m\n\u001B[32m[I 2023-03-09 12:53:31,559]\u001B[0m Trial 1 finished with value: 0.7407471712375688 and parameters: {'max_depth': 1, 'min_samples_split': 39, 'min_samples_leaf': 22, 'n_estimators': 20}. Best is trial 0 with value: 0.7961980015590674.\u001B[0m\n"
    },
    {
     "name": "stderr",
     "output_type": "stream",
     "text": "\u001B[32m[I 2023-03-09 12:53:31,731]\u001B[0m Trial 2 finished with value: 0.7874483263647745 and parameters: {'max_depth': 23, 'min_samples_split': 76, 'min_samples_leaf': 50, 'n_estimators': 16}. Best is trial 0 with value: 0.7961980015590674.\u001B[0m\n\u001B[32m[I 2023-03-09 12:53:31,773]\u001B[0m Trial 3 finished with value: 0.7626367136749108 and parameters: {'max_depth': 9, 'min_samples_split': 46, 'min_samples_leaf': 72, 'n_estimators': 3}. Best is trial 0 with value: 0.7961980015590674.\u001B[0m\n\u001B[32m[I 2023-03-09 12:53:31,971]\u001B[0m Trial 4 finished with value: 0.7966834384522713 and parameters: {'max_depth': 27, 'min_samples_split': 53, 'min_samples_leaf': 36, 'n_estimators': 18}. Best is trial 4 with value: 0.7966834384522713.\u001B[0m\n\u001B[32m[I 2023-03-09 12:53:32,065]\u001B[0m Trial 5 finished with value: 0.7733364042236553 and parameters: {'max_depth': 5, 'min_samples_split': 52, 'min_samples_leaf': 94, 'n_estimators': 9}. Best is trial 4 with value: 0.7966834384522713.\u001B[0m\n\u001B[32m[I 2023-03-09 12:53:32,269]\u001B[0m Trial 6 finished with value: 0.7850175985637682 and parameters: {'max_depth': 24, 'min_samples_split': 3, 'min_samples_leaf': 52, 'n_estimators': 19}. Best is trial 4 with value: 0.7966834384522713.\u001B[0m\n\u001B[32m[I 2023-03-09 12:53:32,438]\u001B[0m Trial 7 finished with value: 0.782583327427775 and parameters: {'max_depth': 17, 'min_samples_split': 19, 'min_samples_leaf': 63, 'n_estimators': 15}. Best is trial 4 with value: 0.7966834384522713.\u001B[0m\n\u001B[32m[I 2023-03-09 12:53:32,549]\u001B[0m Trial 8 finished with value: 0.7923086008551249 and parameters: {'max_depth': 27, 'min_samples_split': 88, 'min_samples_leaf': 40, 'n_estimators': 9}. Best is trial 4 with value: 0.7966834384522713.\u001B[0m\n\u001B[32m[I 2023-03-09 12:53:32,677]\u001B[0m Trial 9 finished with value: 0.7932771124182081 and parameters: {'max_depth': 4, 'min_samples_split': 75, 'min_samples_leaf': 42, 'n_estimators': 12}. Best is trial 4 with value: 0.7966834384522713.\u001B[0m\n/opt/conda/lib/python3.9/site-packages/sklearn/base.py:77: ExperimentalWarning: OptunaSearchCV is experimental (supported from v0.17.0). The interface can change in the future.\n  new_object = klass(**new_object_params)\n\u001B[32m[I 2023-03-09 12:53:32,720]\u001B[0m A new study created in memory with name: no-name-33a8ddca-63d3-4ccd-9a82-6abc28126d91\u001B[0m\n\u001B[32m[I 2023-03-09 12:53:32,785]\u001B[0m Trial 0 finished with value: 0.7310230789218813 and parameters: {'max_depth': 1, 'min_samples_split': 10, 'min_samples_leaf': 10, 'n_estimators': 7}. Best is trial 0 with value: 0.7310230789218813.\u001B[0m\n\u001B[32m[I 2023-03-09 12:53:32,808]\u001B[0m Trial 1 finished with value: 0.7139949920865518 and parameters: {'max_depth': 23, 'min_samples_split': 92, 'min_samples_leaf': 86, 'n_estimators': 1}. Best is trial 0 with value: 0.7310230789218813.\u001B[0m\n\u001B[32m[I 2023-03-09 12:53:32,854]\u001B[0m Trial 2 finished with value: 0.7718836368790305 and parameters: {'max_depth': 3, 'min_samples_split': 25, 'min_samples_leaf': 36, 'n_estimators': 3}. Best is trial 2 with value: 0.7718836368790305.\u001B[0m\n\u001B[32m[I 2023-03-09 12:53:32,894]\u001B[0m Trial 3 finished with value: 0.7806451231899463 and parameters: {'max_depth': 9, 'min_samples_split': 20, 'min_samples_leaf': 65, 'n_estimators': 3}. Best is trial 3 with value: 0.7806451231899463.\u001B[0m\n\u001B[32m[I 2023-03-09 12:53:32,946]\u001B[0m Trial 4 finished with value: 0.7777265962724116 and parameters: {'max_depth': 26, 'min_samples_split': 81, 'min_samples_leaf': 70, 'n_estimators': 3}. Best is trial 3 with value: 0.7806451231899463.\u001B[0m\n\u001B[32m[I 2023-03-09 12:53:32,970]\u001B[0m Trial 5 finished with value: 0.7383282545531855 and parameters: {'max_depth': 26, 'min_samples_split': 87, 'min_samples_leaf': 17, 'n_estimators': 1}. Best is trial 3 with value: 0.7806451231899463.\u001B[0m\n\u001B[32m[I 2023-03-09 12:53:33,072]\u001B[0m Trial 6 finished with value: 0.8010653627193914 and parameters: {'max_depth': 23, 'min_samples_split': 13, 'min_samples_leaf': 18, 'n_estimators': 7}. Best is trial 6 with value: 0.8010653627193914.\u001B[0m\n\u001B[32m[I 2023-03-09 12:53:33,262]\u001B[0m Trial 7 finished with value: 0.7665332010488272 and parameters: {'max_depth': 27, 'min_samples_split': 77, 'min_samples_leaf': 92, 'n_estimators': 20}. Best is trial 6 with value: 0.8010653627193914.\u001B[0m\n\u001B[32m[I 2023-03-09 12:53:33,447]\u001B[0m Trial 8 finished with value: 0.7923180497484232 and parameters: {'max_depth': 24, 'min_samples_split': 82, 'min_samples_leaf': 26, 'n_estimators': 17}. Best is trial 6 with value: 0.8010653627193914.\u001B[0m\n\u001B[32m[I 2023-03-09 12:53:33,673]\u001B[0m Trial 9 finished with value: 0.8001015756029576 and parameters: {'max_depth': 27, 'min_samples_split': 76, 'min_samples_leaf': 8, 'n_estimators': 20}. Best is trial 6 with value: 0.8010653627193914.\u001B[0m\n/opt/conda/lib/python3.9/site-packages/sklearn/base.py:77: ExperimentalWarning: OptunaSearchCV is experimental (supported from v0.17.0). The interface can change in the future.\n  new_object = klass(**new_object_params)\n\u001B[32m[I 2023-03-09 12:53:33,694]\u001B[0m A new study created in memory with name: no-name-314d6111-de05-4acf-8e48-d30b191821d1\u001B[0m\n\u001B[32m[I 2023-03-09 12:53:33,855]\u001B[0m Trial 0 finished with value: 0.7928070299766139 and parameters: {'max_depth': 24, 'min_samples_split': 62, 'min_samples_leaf': 78, 'n_estimators': 15}. Best is trial 0 with value: 0.7928070299766139.\u001B[0m\n\u001B[32m[I 2023-03-09 12:53:33,946]\u001B[0m Trial 1 finished with value: 0.7991307018165497 and parameters: {'max_depth': 26, 'min_samples_split': 62, 'min_samples_leaf': 23, 'n_estimators': 7}. Best is trial 1 with value: 0.7991307018165497.\u001B[0m\n\u001B[32m[I 2023-03-09 12:53:34,035]\u001B[0m Trial 2 finished with value: 0.8103122859235112 and parameters: {'max_depth': 20, 'min_samples_split': 92, 'min_samples_leaf': 18, 'n_estimators': 7}. Best is trial 2 with value: 0.8103122859235112.\u001B[0m\n\u001B[32m[I 2023-03-09 12:53:34,160]\u001B[0m Trial 3 finished with value: 0.7733517586752653 and parameters: {'max_depth': 15, 'min_samples_split': 33, 'min_samples_leaf': 92, 'n_estimators': 12}. Best is trial 2 with value: 0.8103122859235112.\u001B[0m\n\u001B[32m[I 2023-03-09 12:53:34,241]\u001B[0m Trial 4 finished with value: 0.7927987621949779 and parameters: {'max_depth': 22, 'min_samples_split': 61, 'min_samples_leaf': 59, 'n_estimators': 6}. Best is trial 2 with value: 0.8103122859235112.\u001B[0m\n\u001B[32m[I 2023-03-09 12:53:34,428]\u001B[0m Trial 5 finished with value: 0.780643942078284 and parameters: {'max_depth': 27, 'min_samples_split': 24, 'min_samples_leaf': 90, 'n_estimators': 17}. Best is trial 2 with value: 0.8103122859235112.\u001B[0m\n\u001B[32m[I 2023-03-09 12:53:34,493]\u001B[0m Trial 6 finished with value: 0.8064228852195686 and parameters: {'max_depth': 9, 'min_samples_split': 17, 'min_samples_leaf': 14, 'n_estimators': 4}. Best is trial 2 with value: 0.8103122859235112.\u001B[0m\n\u001B[32m[I 2023-03-09 12:53:34,713]\u001B[0m Trial 7 finished with value: 0.8069130465594216 and parameters: {'max_depth': 18, 'min_samples_split': 39, 'min_samples_leaf': 21, 'n_estimators': 20}. Best is trial 2 with value: 0.8103122859235112.\u001B[0m\n\u001B[32m[I 2023-03-09 12:53:34,789]\u001B[0m Trial 8 finished with value: 0.7757836675879338 and parameters: {'max_depth': 30, 'min_samples_split': 67, 'min_samples_leaf': 86, 'n_estimators': 6}. Best is trial 2 with value: 0.8103122859235112.\u001B[0m\n\u001B[32m[I 2023-03-09 12:53:34,855]\u001B[0m Trial 9 finished with value: 0.7966952495688943 and parameters: {'max_depth': 18, 'min_samples_split': 94, 'min_samples_leaf': 35, 'n_estimators': 5}. Best is trial 2 with value: 0.8103122859235112.\u001B[0m\n/opt/conda/lib/python3.9/site-packages/sklearn/base.py:77: ExperimentalWarning: OptunaSearchCV is experimental (supported from v0.17.0). The interface can change in the future.\n  new_object = klass(**new_object_params)\n\u001B[32m[I 2023-03-09 12:53:34,874]\u001B[0m A new study created in memory with name: no-name-d424abd8-0eae-4587-8aca-87cfb615a8e0\u001B[0m\n\u001B[32m[I 2023-03-09 12:53:34,976]\u001B[0m Trial 0 finished with value: 0.7942657028795502 and parameters: {'max_depth': 4, 'min_samples_split': 61, 'min_samples_leaf': 85, 'n_estimators': 11}. Best is trial 0 with value: 0.7942657028795502.\u001B[0m\n\u001B[32m[I 2023-03-09 12:53:35,071]\u001B[0m Trial 1 finished with value: 0.8015685162875297 and parameters: {'max_depth': 3, 'min_samples_split': 23, 'min_samples_leaf': 27, 'n_estimators': 9}. Best is trial 1 with value: 0.8015685162875297.\u001B[0m\n"
    },
    {
     "name": "stderr",
     "output_type": "stream",
     "text": "\u001B[32m[I 2023-03-09 12:53:35,168]\u001B[0m Trial 2 finished with value: 0.7967035173505304 and parameters: {'max_depth': 29, 'min_samples_split': 45, 'min_samples_leaf': 54, 'n_estimators': 8}. Best is trial 1 with value: 0.8015685162875297.\u001B[0m\n\u001B[32m[I 2023-03-09 12:53:35,257]\u001B[0m Trial 3 finished with value: 0.7942657028795501 and parameters: {'max_depth': 3, 'min_samples_split': 91, 'min_samples_leaf': 59, 'n_estimators': 8}. Best is trial 1 with value: 0.8015685162875297.\u001B[0m\n\u001B[32m[I 2023-03-09 12:53:35,405]\u001B[0m Trial 4 finished with value: 0.8059421727730139 and parameters: {'max_depth': 14, 'min_samples_split': 10, 'min_samples_leaf': 23, 'n_estimators': 12}. Best is trial 4 with value: 0.8059421727730139.\u001B[0m\n\u001B[32m[I 2023-03-09 12:53:35,529]\u001B[0m Trial 5 finished with value: 0.8001015756029576 and parameters: {'max_depth': 26, 'min_samples_split': 81, 'min_samples_leaf': 75, 'n_estimators': 12}. Best is trial 4 with value: 0.8059421727730139.\u001B[0m\n\u001B[32m[I 2023-03-09 12:53:35,661]\u001B[0m Trial 6 finished with value: 0.8015637918408807 and parameters: {'max_depth': 17, 'min_samples_split': 86, 'min_samples_leaf': 23, 'n_estimators': 11}. Best is trial 4 with value: 0.8059421727730139.\u001B[0m\n\u001B[32m[I 2023-03-09 12:53:35,818]\u001B[0m Trial 7 finished with value: 0.8132367183993574 and parameters: {'max_depth': 27, 'min_samples_split': 64, 'min_samples_leaf': 9, 'n_estimators': 13}. Best is trial 7 with value: 0.8132367183993574.\u001B[0m\n\u001B[32m[I 2023-03-09 12:53:35,930]\u001B[0m Trial 8 finished with value: 0.8122682068362742 and parameters: {'max_depth': 13, 'min_samples_split': 45, 'min_samples_leaf': 9, 'n_estimators': 8}. Best is trial 7 with value: 0.8132367183993574.\u001B[0m\n\u001B[32m[I 2023-03-09 12:53:36,011]\u001B[0m Trial 9 finished with value: 0.796702336238868 and parameters: {'max_depth': 23, 'min_samples_split': 96, 'min_samples_leaf': 61, 'n_estimators': 7}. Best is trial 7 with value: 0.8132367183993574.\u001B[0m\n/opt/conda/lib/python3.9/site-packages/sklearn/base.py:77: ExperimentalWarning: OptunaSearchCV is experimental (supported from v0.17.0). The interface can change in the future.\n  new_object = klass(**new_object_params)\n\u001B[32m[I 2023-03-09 12:53:36,053]\u001B[0m A new study created in memory with name: no-name-d1dc740a-8a64-42e9-8dc6-4b18585ecc92\u001B[0m\n\u001B[32m[I 2023-03-09 12:53:36,088]\u001B[0m Trial 0 finished with value: 0.794754683107741 and parameters: {'max_depth': 16, 'min_samples_split': 33, 'min_samples_leaf': 17, 'n_estimators': 2}. Best is trial 0 with value: 0.794754683107741.\u001B[0m\n\u001B[32m[I 2023-03-09 12:53:36,143]\u001B[0m Trial 1 finished with value: 0.7660442208206364 and parameters: {'max_depth': 3, 'min_samples_split': 36, 'min_samples_leaf': 43, 'n_estimators': 4}. Best is trial 0 with value: 0.794754683107741.\u001B[0m\n\u001B[32m[I 2023-03-09 12:53:36,326]\u001B[0m Trial 2 finished with value: 0.7874530508114238 and parameters: {'max_depth': 6, 'min_samples_split': 41, 'min_samples_leaf': 67, 'n_estimators': 18}. Best is trial 0 with value: 0.794754683107741.\u001B[0m\n\u001B[32m[I 2023-03-09 12:53:36,465]\u001B[0m Trial 3 finished with value: 0.7850199607870929 and parameters: {'max_depth': 20, 'min_samples_split': 65, 'min_samples_leaf': 60, 'n_estimators': 12}. Best is trial 0 with value: 0.794754683107741.\u001B[0m\n\u001B[32m[I 2023-03-09 12:53:36,653]\u001B[0m Trial 4 finished with value: 0.789401885054213 and parameters: {'max_depth': 12, 'min_samples_split': 22, 'min_samples_leaf': 54, 'n_estimators': 18}. Best is trial 0 with value: 0.794754683107741.\u001B[0m\n\u001B[32m[I 2023-03-09 12:53:36,860]\u001B[0m Trial 5 finished with value: 0.7918302506318947 and parameters: {'max_depth': 23, 'min_samples_split': 38, 'min_samples_leaf': 27, 'n_estimators': 18}. Best is trial 0 with value: 0.794754683107741.\u001B[0m\n\u001B[32m[I 2023-03-09 12:53:36,914]\u001B[0m Trial 6 finished with value: 0.7923156875250986 and parameters: {'max_depth': 10, 'min_samples_split': 77, 'min_samples_leaf': 18, 'n_estimators': 4}. Best is trial 0 with value: 0.794754683107741.\u001B[0m\n\u001B[32m[I 2023-03-09 12:53:37,118]\u001B[0m Trial 7 finished with value: 0.7884215623745069 and parameters: {'max_depth': 22, 'min_samples_split': 83, 'min_samples_leaf': 54, 'n_estimators': 19}. Best is trial 0 with value: 0.794754683107741.\u001B[0m\n\u001B[32m[I 2023-03-09 12:53:37,198]\u001B[0m Trial 8 finished with value: 0.7782002220489925 and parameters: {'max_depth': 7, 'min_samples_split': 41, 'min_samples_leaf': 100, 'n_estimators': 7}. Best is trial 0 with value: 0.794754683107741.\u001B[0m\n\u001B[32m[I 2023-03-09 12:53:37,331]\u001B[0m Trial 9 finished with value: 0.7913436326270287 and parameters: {'max_depth': 25, 'min_samples_split': 84, 'min_samples_leaf': 54, 'n_estimators': 12}. Best is trial 0 with value: 0.794754683107741.\u001B[0m\n"
    },
    {
     "name": "stdout",
     "output_type": "stream",
     "text": "BaggingClassifier, model = optuna_search\n              precision    recall  f1-score   support\n\n           0       0.82      0.94      0.88       358\n           1       0.80      0.54      0.65       157\n\n    accuracy                           0.82       515\n   macro avg       0.81      0.74      0.76       515\nweighted avg       0.82      0.82      0.81       515\n\nBaggingClassifier, model = dfc\n              precision    recall  f1-score   support\n\n           0       0.81      0.94      0.87       358\n           1       0.77      0.49      0.60       157\n\n    accuracy                           0.80       515\n   macro avg       0.79      0.71      0.73       515\nweighted avg       0.80      0.80      0.79       515\n\nBaggingClassifier, model = GaussianNB\n              precision    recall  f1-score   support\n\n           0       0.78      0.94      0.85       358\n           1       0.74      0.41      0.53       157\n\n    accuracy                           0.78       515\n   macro avg       0.76      0.67      0.69       515\nweighted avg       0.77      0.78      0.75       515\n\n"
    }
   ],
   "source": [
    "for estimator in estimators:\n",
    "    title, model = estimator\n",
    "    modelClf = BaggingClassifier(base_estimator=model, n_estimators=50, random_state=42, n_jobs=-1)\n",
    "    get_report_of_model(f'BaggingClassifier, model = {title}', modelClf, X_train, y_train, X_valid, y_valid)"
   ]
  },
  {
   "cell_type": "code",
   "execution_count": 51,
   "metadata": {
    "trusted": true
   },
   "outputs": [],
   "source": [
    "results.append({\n",
    "    'Название модели': 'BaggingClassifier, model = catboosting',\n",
    "    'precision': (0.83 + 0.78) / 2,\n",
    "    'recal': (0.93 + 0.57) / 2,\n",
    "    'f1-score': (0.88 + 0.66) / 2,\n",
    "    'accuracy': 0.82\n",
    "})"
   ]
  },
  {
   "cell_type": "code",
   "execution_count": 52,
   "metadata": {
    "trusted": true
   },
   "outputs": [],
   "source": [
    "results.append({\n",
    "    'Название модели': 'BaggingClassifier, model = optuna_search',\n",
    "    'precision': (0.82 + 0.80) / 2,\n",
    "    'recal': (0.94 + 0.54) / 2,\n",
    "    'f1-score': (0.88 + 0.65) / 2,\n",
    "    'accuracy': 0.82\n",
    "})"
   ]
  },
  {
   "cell_type": "code",
   "execution_count": 53,
   "metadata": {
    "trusted": true
   },
   "outputs": [],
   "source": [
    "results.append({\n",
    "    'Название модели': 'BaggingClassifier, model = dfc',\n",
    "    'precision': (0.81 + 0.77) / 2,\n",
    "    'recal': (0.94 + 0.49) / 2,\n",
    "    'f1-score': (0.87 + 0.60) / 2,\n",
    "    'accuracy': 0.80\n",
    "})"
   ]
  },
  {
   "cell_type": "code",
   "execution_count": 54,
   "metadata": {
    "trusted": true
   },
   "outputs": [],
   "source": [
    "results.append({\n",
    "    'Название модели': 'BaggingClassifier, model = GaussianNB',\n",
    "    'precision': (0.78 + 0.74) / 2,\n",
    "    'recal': (0.94 + 0.41) / 2,\n",
    "    'f1-score': (0.83 + 0.53) / 2,\n",
    "    'accuracy': 0.78\n",
    "})"
   ]
  },
  {
   "cell_type": "markdown",
   "metadata": {},
   "source": [
    "#### 6.3 Бустинг"
   ]
  },
  {
   "cell_type": "code",
   "execution_count": 55,
   "metadata": {
    "trusted": true
   },
   "outputs": [],
   "source": [
    "from sklearn.ensemble import AdaBoostClassifier"
   ]
  },
  {
   "cell_type": "code",
   "execution_count": 56,
   "metadata": {
    "trusted": true
   },
   "outputs": [
    {
     "name": "stdout",
     "output_type": "stream",
     "text": "Learning rate set to 0.014015\n0:\tlearn: 0.6859687\ttotal: 1.51ms\tremaining: 1.51s\n300:\tlearn: 0.3926672\ttotal: 489ms\tremaining: 1.14s\n600:\tlearn: 0.3488687\ttotal: 897ms\tremaining: 596ms\n900:\tlearn: 0.3161490\ttotal: 1.26s\tremaining: 138ms\n999:\tlearn: 0.3064041\ttotal: 1.38s\tremaining: 0us\nLearning rate set to 0.014015\n0:\tlearn: 0.6927230\ttotal: 1.49ms\tremaining: 1.49s\n300:\tlearn: 0.6029460\ttotal: 360ms\tremaining: 837ms\n600:\tlearn: 0.5383838\ttotal: 735ms\tremaining: 488ms\n900:\tlearn: 0.4812900\ttotal: 1.1s\tremaining: 121ms\n999:\tlearn: 0.4642043\ttotal: 1.23s\tremaining: 0us\nLearning rate set to 0.014015\n0:\tlearn: 0.6929076\ttotal: 1.26ms\tremaining: 1.26s\n300:\tlearn: 0.6258706\ttotal: 369ms\tremaining: 858ms\n600:\tlearn: 0.5656416\ttotal: 771ms\tremaining: 512ms\n900:\tlearn: 0.5109038\ttotal: 1.12s\tremaining: 123ms\n999:\tlearn: 0.4948684\ttotal: 1.24s\tremaining: 0us\nLearning rate set to 0.014015\n0:\tlearn: 0.6930520\ttotal: 1.32ms\tremaining: 1.32s\n300:\tlearn: 0.6312240\ttotal: 335ms\tremaining: 777ms\n600:\tlearn: 0.5763085\ttotal: 686ms\tremaining: 456ms\n900:\tlearn: 0.5229861\ttotal: 1.03s\tremaining: 114ms\n999:\tlearn: 0.5078201\ttotal: 1.15s\tremaining: 0us\nLearning rate set to 0.014015\n0:\tlearn: 0.6930164\ttotal: 1.3ms\tremaining: 1.3s\n300:\tlearn: 0.6331491\ttotal: 330ms\tremaining: 767ms\n600:\tlearn: 0.5789529\ttotal: 678ms\tremaining: 450ms\n900:\tlearn: 0.5280135\ttotal: 1.01s\tremaining: 111ms\n999:\tlearn: 0.5137957\ttotal: 1.12s\tremaining: 0us\nLearning rate set to 0.014015\n0:\tlearn: 0.6930152\ttotal: 1.33ms\tremaining: 1.33s\n300:\tlearn: 0.6327239\ttotal: 333ms\tremaining: 774ms\n600:\tlearn: 0.5792902\ttotal: 668ms\tremaining: 444ms\n900:\tlearn: 0.5303172\ttotal: 1.06s\tremaining: 117ms\n999:\tlearn: 0.5158991\ttotal: 1.17s\tremaining: 0us\nLearning rate set to 0.014015\n0:\tlearn: 0.6930126\ttotal: 1.33ms\tremaining: 1.33s\n300:\tlearn: 0.6335760\ttotal: 362ms\tremaining: 841ms\n600:\tlearn: 0.5818882\ttotal: 696ms\tremaining: 462ms\n900:\tlearn: 0.5323250\ttotal: 1.05s\tremaining: 115ms\n999:\tlearn: 0.5184271\ttotal: 1.16s\tremaining: 0us\nLearning rate set to 0.014015\n0:\tlearn: 0.6930259\ttotal: 1.57ms\tremaining: 1.56s\n300:\tlearn: 0.6346512\ttotal: 340ms\tremaining: 789ms\n600:\tlearn: 0.5808161\ttotal: 692ms\tremaining: 459ms\n900:\tlearn: 0.5328482\ttotal: 1.06s\tremaining: 117ms\n999:\tlearn: 0.5188130\ttotal: 1.18s\tremaining: 0us\nLearning rate set to 0.014015\n0:\tlearn: 0.6930296\ttotal: 1.24ms\tremaining: 1.24s\n300:\tlearn: 0.6349062\ttotal: 342ms\tremaining: 793ms\n600:\tlearn: 0.5827218\ttotal: 706ms\tremaining: 469ms\n900:\tlearn: 0.5337765\ttotal: 1.04s\tremaining: 115ms\n999:\tlearn: 0.5192078\ttotal: 1.15s\tremaining: 0us\nLearning rate set to 0.014015\n0:\tlearn: 0.6930959\ttotal: 1.3ms\tremaining: 1.29s\n300:\tlearn: 0.6334442\ttotal: 345ms\tremaining: 801ms\n600:\tlearn: 0.5814377\ttotal: 713ms\tremaining: 473ms\n900:\tlearn: 0.5343637\ttotal: 1.04s\tremaining: 115ms\n999:\tlearn: 0.5204016\ttotal: 1.15s\tremaining: 0us\nLearning rate set to 0.014015\n0:\tlearn: 0.6931119\ttotal: 1.24ms\tremaining: 1.23s\n300:\tlearn: 0.6360099\ttotal: 362ms\tremaining: 840ms\n600:\tlearn: 0.5847285\ttotal: 708ms\tremaining: 470ms\n900:\tlearn: 0.5360612\ttotal: 1.1s\tremaining: 121ms\n999:\tlearn: 0.5211554\ttotal: 1.21s\tremaining: 0us\nLearning rate set to 0.014015\n0:\tlearn: 0.6930719\ttotal: 1.59ms\tremaining: 1.58s\n300:\tlearn: 0.6357875\ttotal: 338ms\tremaining: 786ms\n600:\tlearn: 0.5877751\ttotal: 723ms\tremaining: 480ms\n900:\tlearn: 0.5396469\ttotal: 1.06s\tremaining: 117ms\n999:\tlearn: 0.5253807\ttotal: 1.19s\tremaining: 0us\nLearning rate set to 0.014015\n0:\tlearn: 0.6931133\ttotal: 2.07ms\tremaining: 2.07s\n300:\tlearn: 0.6356384\ttotal: 396ms\tremaining: 919ms\n600:\tlearn: 0.5851328\ttotal: 775ms\tremaining: 514ms\n900:\tlearn: 0.5372303\ttotal: 1.23s\tremaining: 135ms\n999:\tlearn: 0.5231867\ttotal: 1.36s\tremaining: 0us\nLearning rate set to 0.014015\n0:\tlearn: 0.6931129\ttotal: 2.13ms\tremaining: 2.13s\n300:\tlearn: 0.6364200\ttotal: 416ms\tremaining: 967ms\n600:\tlearn: 0.5850106\ttotal: 840ms\tremaining: 558ms\n900:\tlearn: 0.5390186\ttotal: 1.23s\tremaining: 135ms\n999:\tlearn: 0.5246099\ttotal: 1.37s\tremaining: 0us\nLearning rate set to 0.014015\n0:\tlearn: 0.6931120\ttotal: 2.17ms\tremaining: 2.17s\n300:\tlearn: 0.6370189\ttotal: 446ms\tremaining: 1.03s\n600:\tlearn: 0.5854841\ttotal: 854ms\tremaining: 567ms\n900:\tlearn: 0.5388412\ttotal: 1.28s\tremaining: 140ms\n999:\tlearn: 0.5253381\ttotal: 1.43s\tremaining: 0us\nLearning rate set to 0.014015\n0:\tlearn: 0.6931140\ttotal: 2.13ms\tremaining: 2.12s\n300:\tlearn: 0.6396747\ttotal: 376ms\tremaining: 874ms\n600:\tlearn: 0.5892172\ttotal: 785ms\tremaining: 521ms\n900:\tlearn: 0.5410950\ttotal: 1.12s\tremaining: 123ms\n999:\tlearn: 0.5272651\ttotal: 1.24s\tremaining: 0us\nLearning rate set to 0.014015\n0:\tlearn: 0.6931130\ttotal: 1.35ms\tremaining: 1.35s\n300:\tlearn: 0.6394723\ttotal: 382ms\tremaining: 886ms\n600:\tlearn: 0.5905929\ttotal: 721ms\tremaining: 479ms\n900:\tlearn: 0.5462780\ttotal: 1.06s\tremaining: 117ms\n999:\tlearn: 0.5320261\ttotal: 1.17s\tremaining: 0us\nLearning rate set to 0.014015\n0:\tlearn: 0.6930496\ttotal: 1.77ms\tremaining: 1.76s\n300:\tlearn: 0.6366455\ttotal: 326ms\tremaining: 758ms\n600:\tlearn: 0.5874349\ttotal: 670ms\tremaining: 445ms\n900:\tlearn: 0.5419220\ttotal: 1.02s\tremaining: 112ms\n999:\tlearn: 0.5286483\ttotal: 1.13s\tremaining: 0us\nLearning rate set to 0.014015\n0:\tlearn: 0.6930876\ttotal: 1.28ms\tremaining: 1.28s\n300:\tlearn: 0.6375516\ttotal: 334ms\tremaining: 776ms\n600:\tlearn: 0.5897979\ttotal: 679ms\tremaining: 451ms\n900:\tlearn: 0.5459265\ttotal: 1.04s\tremaining: 115ms\n999:\tlearn: 0.5322713\ttotal: 1.17s\tremaining: 0us\nLearning rate set to 0.014015\n0:\tlearn: 0.6930841\ttotal: 1.85ms\tremaining: 1.85s\n300:\tlearn: 0.6413537\ttotal: 348ms\tremaining: 807ms\n600:\tlearn: 0.5922621\ttotal: 695ms\tremaining: 461ms\n900:\tlearn: 0.5481150\ttotal: 1.05s\tremaining: 116ms\n999:\tlearn: 0.5354600\ttotal: 1.17s\tremaining: 0us\nLearning rate set to 0.014015\n0:\tlearn: 0.6930884\ttotal: 1.22ms\tremaining: 1.22s\n300:\tlearn: 0.6407769\ttotal: 331ms\tremaining: 769ms\n600:\tlearn: 0.5940636\ttotal: 728ms\tremaining: 483ms\n900:\tlearn: 0.5494883\ttotal: 1.08s\tremaining: 118ms\n999:\tlearn: 0.5362079\ttotal: 1.18s\tremaining: 0us\nLearning rate set to 0.014015\n0:\tlearn: 0.6931216\ttotal: 2.07ms\tremaining: 2.07s\n300:\tlearn: 0.6434460\ttotal: 434ms\tremaining: 1.01s\n600:\tlearn: 0.5970270\ttotal: 845ms\tremaining: 561ms\n900:\tlearn: 0.5543206\ttotal: 1.26s\tremaining: 138ms\n999:\tlearn: 0.5419833\ttotal: 1.37s\tremaining: 0us\nLearning rate set to 0.014015\n0:\tlearn: 0.6931299\ttotal: 1.33ms\tremaining: 1.32s\n300:\tlearn: 0.6442361\ttotal: 336ms\tremaining: 780ms\n600:\tlearn: 0.6000817\ttotal: 701ms\tremaining: 465ms\n900:\tlearn: 0.5576044\ttotal: 1.07s\tremaining: 118ms\n999:\tlearn: 0.5447153\ttotal: 1.19s\tremaining: 0us\nLearning rate set to 0.014015\n0:\tlearn: 0.6931168\ttotal: 2.05ms\tremaining: 2.05s\n300:\tlearn: 0.6439014\ttotal: 369ms\tremaining: 858ms\n600:\tlearn: 0.6009544\ttotal: 714ms\tremaining: 474ms\n900:\tlearn: 0.5602475\ttotal: 1.05s\tremaining: 116ms\n999:\tlearn: 0.5475712\ttotal: 1.17s\tremaining: 0us\nLearning rate set to 0.014015\n0:\tlearn: 0.6931153\ttotal: 1.96ms\tremaining: 1.95s\n300:\tlearn: 0.6461568\ttotal: 357ms\tremaining: 828ms\n600:\tlearn: 0.6031922\ttotal: 737ms\tremaining: 489ms\n900:\tlearn: 0.5634516\ttotal: 1.12s\tremaining: 123ms\n999:\tlearn: 0.5517950\ttotal: 1.25s\tremaining: 0us\nLearning rate set to 0.014015\n0:\tlearn: 0.6931187\ttotal: 2.13ms\tremaining: 2.13s\n300:\tlearn: 0.6489490\ttotal: 396ms\tremaining: 920ms\n600:\tlearn: 0.6085732\ttotal: 758ms\tremaining: 504ms\n900:\tlearn: 0.5709326\ttotal: 1.09s\tremaining: 120ms\n999:\tlearn: 0.5595414\ttotal: 1.2s\tremaining: 0us\nLearning rate set to 0.014015\n0:\tlearn: 0.6930763\ttotal: 3.81ms\tremaining: 3.8s\n300:\tlearn: 0.6516764\ttotal: 378ms\tremaining: 879ms\n600:\tlearn: 0.6133910\ttotal: 740ms\tremaining: 491ms\n900:\tlearn: 0.5756522\ttotal: 1.12s\tremaining: 123ms\n999:\tlearn: 0.5646365\ttotal: 1.24s\tremaining: 0us\nLearning rate set to 0.014015\n0:\tlearn: 0.6930811\ttotal: 1.46ms\tremaining: 1.46s\n300:\tlearn: 0.6533239\ttotal: 364ms\tremaining: 845ms\n600:\tlearn: 0.6161256\ttotal: 710ms\tremaining: 471ms\n900:\tlearn: 0.5827447\ttotal: 1.07s\tremaining: 118ms\n999:\tlearn: 0.5716455\ttotal: 1.2s\tremaining: 0us\nLearning rate set to 0.014015\n0:\tlearn: 0.6930749\ttotal: 2.15ms\tremaining: 2.15s\n300:\tlearn: 0.6556800\ttotal: 477ms\tremaining: 1.11s\n600:\tlearn: 0.6213882\ttotal: 870ms\tremaining: 578ms\n"
    },
    {
     "name": "stdout",
     "output_type": "stream",
     "text": "900:\tlearn: 0.5871234\ttotal: 1.28s\tremaining: 141ms\n999:\tlearn: 0.5764227\ttotal: 1.44s\tremaining: 0us\nLearning rate set to 0.014015\n0:\tlearn: 0.6930769\ttotal: 1.8ms\tremaining: 1.8s\n300:\tlearn: 0.6597691\ttotal: 420ms\tremaining: 976ms\n600:\tlearn: 0.6281914\ttotal: 853ms\tremaining: 566ms\n900:\tlearn: 0.5972552\ttotal: 1.28s\tremaining: 141ms\n999:\tlearn: 0.5877786\ttotal: 1.42s\tremaining: 0us\nLearning rate set to 0.014015\n0:\tlearn: 0.6931206\ttotal: 1.54ms\tremaining: 1.53s\n300:\tlearn: 0.6611757\ttotal: 500ms\tremaining: 1.16s\n600:\tlearn: 0.6317125\ttotal: 890ms\tremaining: 591ms\n900:\tlearn: 0.6024507\ttotal: 1.29s\tremaining: 142ms\n999:\tlearn: 0.5931242\ttotal: 1.41s\tremaining: 0us\nLearning rate set to 0.014015\n0:\tlearn: 0.6931158\ttotal: 1.39ms\tremaining: 1.38s\n300:\tlearn: 0.6638931\ttotal: 362ms\tremaining: 840ms\n600:\tlearn: 0.6361258\ttotal: 697ms\tremaining: 463ms\n900:\tlearn: 0.6076304\ttotal: 1.05s\tremaining: 115ms\n999:\tlearn: 0.5985315\ttotal: 1.16s\tremaining: 0us\nLearning rate set to 0.014015\n0:\tlearn: 0.6931211\ttotal: 1.23ms\tremaining: 1.23s\n300:\tlearn: 0.6658029\ttotal: 344ms\tremaining: 799ms\n600:\tlearn: 0.6402582\ttotal: 683ms\tremaining: 453ms\n900:\tlearn: 0.6133502\ttotal: 1.03s\tremaining: 113ms\n999:\tlearn: 0.6045089\ttotal: 1.14s\tremaining: 0us\nLearning rate set to 0.014015\n0:\tlearn: 0.6931249\ttotal: 1.4ms\tremaining: 1.39s\n300:\tlearn: 0.6681041\ttotal: 340ms\tremaining: 789ms\n600:\tlearn: 0.6458709\ttotal: 709ms\tremaining: 470ms\n900:\tlearn: 0.6222720\ttotal: 1.08s\tremaining: 119ms\n999:\tlearn: 0.6149913\ttotal: 1.21s\tremaining: 0us\nLearning rate set to 0.014015\n0:\tlearn: 0.6931346\ttotal: 1.25ms\tremaining: 1.25s\n300:\tlearn: 0.6718103\ttotal: 355ms\tremaining: 825ms\n600:\tlearn: 0.6506884\ttotal: 707ms\tremaining: 469ms\n900:\tlearn: 0.6271259\ttotal: 1.09s\tremaining: 120ms\n999:\tlearn: 0.6194909\ttotal: 1.2s\tremaining: 0us\nLearning rate set to 0.014015\n0:\tlearn: 0.6931382\ttotal: 1.28ms\tremaining: 1.28s\n300:\tlearn: 0.6744884\ttotal: 345ms\tremaining: 801ms\n600:\tlearn: 0.6552861\ttotal: 675ms\tremaining: 448ms\n900:\tlearn: 0.6333970\ttotal: 1.03s\tremaining: 113ms\n999:\tlearn: 0.6269255\ttotal: 1.14s\tremaining: 0us\nLearning rate set to 0.014015\n0:\tlearn: 0.6931365\ttotal: 1.22ms\tremaining: 1.22s\n300:\tlearn: 0.6755122\ttotal: 347ms\tremaining: 807ms\n600:\tlearn: 0.6580278\ttotal: 680ms\tremaining: 451ms\n900:\tlearn: 0.6389216\ttotal: 1.01s\tremaining: 111ms\n999:\tlearn: 0.6325008\ttotal: 1.13s\tremaining: 0us\nLearning rate set to 0.014015\n0:\tlearn: 0.6931404\ttotal: 1.3ms\tremaining: 1.29s\n300:\tlearn: 0.6778612\ttotal: 335ms\tremaining: 777ms\n600:\tlearn: 0.6620208\ttotal: 671ms\tremaining: 446ms\n900:\tlearn: 0.6439500\ttotal: 1.01s\tremaining: 111ms\n999:\tlearn: 0.6382995\ttotal: 1.12s\tremaining: 0us\nLearning rate set to 0.014015\n0:\tlearn: 0.6931416\ttotal: 1.26ms\tremaining: 1.26s\n300:\tlearn: 0.6801090\ttotal: 335ms\tremaining: 778ms\n600:\tlearn: 0.6662459\ttotal: 715ms\tremaining: 474ms\n900:\tlearn: 0.6498013\ttotal: 1.07s\tremaining: 118ms\n999:\tlearn: 0.6449305\ttotal: 1.19s\tremaining: 0us\nLearning rate set to 0.014015\n0:\tlearn: 0.6931379\ttotal: 1.91ms\tremaining: 1.91s\n300:\tlearn: 0.6822803\ttotal: 348ms\tremaining: 808ms\n600:\tlearn: 0.6697783\ttotal: 687ms\tremaining: 456ms\n900:\tlearn: 0.6545612\ttotal: 1.04s\tremaining: 115ms\n999:\tlearn: 0.6498546\ttotal: 1.17s\tremaining: 0us\nLearning rate set to 0.014015\n0:\tlearn: 0.6931400\ttotal: 1.71ms\tremaining: 1.71s\n300:\tlearn: 0.6829782\ttotal: 433ms\tremaining: 1s\n600:\tlearn: 0.6721052\ttotal: 818ms\tremaining: 543ms\n900:\tlearn: 0.6580529\ttotal: 1.19s\tremaining: 131ms\n999:\tlearn: 0.6534612\ttotal: 1.33s\tremaining: 0us\nLearning rate set to 0.014015\n0:\tlearn: 0.6931397\ttotal: 1.78ms\tremaining: 1.77s\n300:\tlearn: 0.6844563\ttotal: 383ms\tremaining: 890ms\n600:\tlearn: 0.6749667\ttotal: 751ms\tremaining: 499ms\n900:\tlearn: 0.6625742\ttotal: 1.12s\tremaining: 123ms\n999:\tlearn: 0.6587328\ttotal: 1.24s\tremaining: 0us\nLearning rate set to 0.014015\n0:\tlearn: 0.6931413\ttotal: 1.29ms\tremaining: 1.29s\n300:\tlearn: 0.6853771\ttotal: 340ms\tremaining: 791ms\n600:\tlearn: 0.6767721\ttotal: 670ms\tremaining: 445ms\n900:\tlearn: 0.6650307\ttotal: 1.06s\tremaining: 116ms\n999:\tlearn: 0.6613897\ttotal: 1.17s\tremaining: 0us\nLearning rate set to 0.014015\n0:\tlearn: 0.6931449\ttotal: 1.47ms\tremaining: 1.47s\n300:\tlearn: 0.6864836\ttotal: 442ms\tremaining: 1.03s\n600:\tlearn: 0.6790025\ttotal: 847ms\tremaining: 562ms\n900:\tlearn: 0.6681795\ttotal: 1.23s\tremaining: 136ms\n999:\tlearn: 0.6647443\ttotal: 1.35s\tremaining: 0us\nLearning rate set to 0.014015\n0:\tlearn: 0.6931458\ttotal: 6.65ms\tremaining: 6.64s\n300:\tlearn: 0.6870996\ttotal: 431ms\tremaining: 1000ms\n600:\tlearn: 0.6805419\ttotal: 869ms\tremaining: 577ms\n900:\tlearn: 0.6705267\ttotal: 1.26s\tremaining: 139ms\n999:\tlearn: 0.6674829\ttotal: 1.39s\tremaining: 0us\nLearning rate set to 0.014015\n0:\tlearn: 0.6931422\ttotal: 1.39ms\tremaining: 1.39s\n300:\tlearn: 0.6878678\ttotal: 389ms\tremaining: 904ms\n600:\tlearn: 0.6820017\ttotal: 776ms\tremaining: 515ms\n900:\tlearn: 0.6733544\ttotal: 1.17s\tremaining: 129ms\n999:\tlearn: 0.6705424\ttotal: 1.3s\tremaining: 0us\nLearning rate set to 0.014015\n0:\tlearn: 0.6931440\ttotal: 2.09ms\tremaining: 2.09s\n300:\tlearn: 0.6885937\ttotal: 418ms\tremaining: 970ms\n600:\tlearn: 0.6831271\ttotal: 805ms\tremaining: 535ms\n900:\tlearn: 0.6751530\ttotal: 1.2s\tremaining: 132ms\n999:\tlearn: 0.6723217\ttotal: 1.33s\tremaining: 0us\nLearning rate set to 0.014015\n0:\tlearn: 0.6931430\ttotal: 1.36ms\tremaining: 1.36s\n300:\tlearn: 0.6893308\ttotal: 334ms\tremaining: 775ms\n600:\tlearn: 0.6846210\ttotal: 671ms\tremaining: 446ms\n900:\tlearn: 0.6772431\ttotal: 1s\tremaining: 110ms\n999:\tlearn: 0.6748640\ttotal: 1.11s\tremaining: 0us\nLearning rate set to 0.014015\n0:\tlearn: 0.6931442\ttotal: 1.89ms\tremaining: 1.89s\n300:\tlearn: 0.6896975\ttotal: 364ms\tremaining: 846ms\n600:\tlearn: 0.6855531\ttotal: 717ms\tremaining: 476ms\n900:\tlearn: 0.6786634\ttotal: 1.09s\tremaining: 120ms\n999:\tlearn: 0.6764993\ttotal: 1.24s\tremaining: 0us\nLearning rate set to 0.014015\n0:\tlearn: 0.6931461\ttotal: 1.31ms\tremaining: 1.31s\n300:\tlearn: 0.6899312\ttotal: 347ms\tremaining: 805ms\n600:\tlearn: 0.6862197\ttotal: 671ms\tremaining: 445ms\n900:\tlearn: 0.6802171\ttotal: 1.01s\tremaining: 112ms\n999:\tlearn: 0.6781125\ttotal: 1.13s\tremaining: 0us\nLearning rate set to 0.014015\n0:\tlearn: 0.6931407\ttotal: 1.71ms\tremaining: 1.71s\n300:\tlearn: 0.6904665\ttotal: 338ms\tremaining: 784ms\n600:\tlearn: 0.6870898\ttotal: 671ms\tremaining: 445ms\n900:\tlearn: 0.6815385\ttotal: 1.03s\tremaining: 113ms\n999:\tlearn: 0.6796614\ttotal: 1.15s\tremaining: 0us\nLearning rate set to 0.014015\n0:\tlearn: 0.6931391\ttotal: 1.32ms\tremaining: 1.32s\n300:\tlearn: 0.6906884\ttotal: 345ms\tremaining: 800ms\n600:\tlearn: 0.6875335\ttotal: 705ms\tremaining: 468ms\n900:\tlearn: 0.6824155\ttotal: 1.05s\tremaining: 116ms\n999:\tlearn: 0.6806836\ttotal: 1.16s\tremaining: 0us\nLearning rate set to 0.014015\n0:\tlearn: 0.6931389\ttotal: 1.41ms\tremaining: 1.41s\n300:\tlearn: 0.6910564\ttotal: 329ms\tremaining: 764ms\n600:\tlearn: 0.6883839\ttotal: 681ms\tremaining: 452ms\n900:\tlearn: 0.6836841\ttotal: 1.01s\tremaining: 111ms\n999:\tlearn: 0.6821884\ttotal: 1.12s\tremaining: 0us\nLearning rate set to 0.014015\n0:\tlearn: 0.6931442\ttotal: 2.12ms\tremaining: 2.12s\n300:\tlearn: 0.6912053\ttotal: 411ms\tremaining: 953ms\n600:\tlearn: 0.6888030\ttotal: 749ms\tremaining: 497ms\n900:\tlearn: 0.6843962\ttotal: 1.1s\tremaining: 121ms\n999:\tlearn: 0.6828918\ttotal: 1.21s\tremaining: 0us\nLearning rate set to 0.014015\n0:\tlearn: 0.6931464\ttotal: 1.64ms\tremaining: 1.64s\n300:\tlearn: 0.6913678\ttotal: 352ms\tremaining: 818ms\n600:\tlearn: 0.6890526\ttotal: 697ms\tremaining: 463ms\n900:\tlearn: 0.6850977\ttotal: 1.03s\tremaining: 113ms\n999:\tlearn: 0.6837151\ttotal: 1.15s\tremaining: 0us\nLearning rate set to 0.014015\n0:\tlearn: 0.6931445\ttotal: 1.37ms\tremaining: 1.37s\n300:\tlearn: 0.6914922\ttotal: 334ms\tremaining: 776ms\n600:\tlearn: 0.6894477\ttotal: 687ms\tremaining: 456ms\n900:\tlearn: 0.6856914\ttotal: 1.08s\tremaining: 118ms\n999:\tlearn: 0.6843879\ttotal: 1.2s\tremaining: 0us\nLearning rate set to 0.014015\n0:\tlearn: 0.6931396\ttotal: 1.27ms\tremaining: 1.27s\n300:\tlearn: 0.6916691\ttotal: 363ms\tremaining: 843ms\n600:\tlearn: 0.6900048\ttotal: 730ms\tremaining: 484ms\n900:\tlearn: 0.6866169\ttotal: 1.07s\tremaining: 117ms\n999:\tlearn: 0.6853623\ttotal: 1.18s\tremaining: 0us\nLearning rate set to 0.014015\n0:\tlearn: 0.6931379\ttotal: 1.51ms\tremaining: 1.51s\n"
    },
    {
     "name": "stdout",
     "output_type": "stream",
     "text": "300:\tlearn: 0.6917526\ttotal: 353ms\tremaining: 820ms\n600:\tlearn: 0.6900700\ttotal: 756ms\tremaining: 502ms\n900:\tlearn: 0.6869476\ttotal: 1.13s\tremaining: 124ms\n999:\tlearn: 0.6858193\ttotal: 1.24s\tremaining: 0us\nLearning rate set to 0.014015\n0:\tlearn: 0.6931460\ttotal: 1.48ms\tremaining: 1.48s\n300:\tlearn: 0.6919137\ttotal: 384ms\tremaining: 891ms\n600:\tlearn: 0.6904076\ttotal: 785ms\tremaining: 521ms\n900:\tlearn: 0.6875315\ttotal: 1.16s\tremaining: 128ms\n999:\tlearn: 0.6865468\ttotal: 1.3s\tremaining: 0us\nLearning rate set to 0.014015\n0:\tlearn: 0.6931464\ttotal: 1.7ms\tremaining: 1.7s\n300:\tlearn: 0.6919943\ttotal: 332ms\tremaining: 771ms\n600:\tlearn: 0.6906104\ttotal: 664ms\tremaining: 441ms\n900:\tlearn: 0.6879223\ttotal: 996ms\tremaining: 109ms\n999:\tlearn: 0.6870427\ttotal: 1.1s\tremaining: 0us\nLearning rate set to 0.014015\n0:\tlearn: 0.6931469\ttotal: 1.42ms\tremaining: 1.42s\n300:\tlearn: 0.6921365\ttotal: 398ms\tremaining: 924ms\n600:\tlearn: 0.6909289\ttotal: 742ms\tremaining: 493ms\n900:\tlearn: 0.6884366\ttotal: 1.13s\tremaining: 125ms\n999:\tlearn: 0.6874977\ttotal: 1.25s\tremaining: 0us\nLearning rate set to 0.014015\n0:\tlearn: 0.6931442\ttotal: 1.57ms\tremaining: 1.57s\n300:\tlearn: 0.6921828\ttotal: 362ms\tremaining: 840ms\n600:\tlearn: 0.6910061\ttotal: 686ms\tremaining: 455ms\n900:\tlearn: 0.6887443\ttotal: 1.04s\tremaining: 114ms\n999:\tlearn: 0.6879180\ttotal: 1.15s\tremaining: 0us\nLearning rate set to 0.014015\n0:\tlearn: 0.6931445\ttotal: 1.84ms\tremaining: 1.83s\n300:\tlearn: 0.6922474\ttotal: 359ms\tremaining: 833ms\n600:\tlearn: 0.6911923\ttotal: 699ms\tremaining: 464ms\n900:\tlearn: 0.6890407\ttotal: 1.04s\tremaining: 114ms\n999:\tlearn: 0.6882617\ttotal: 1.15s\tremaining: 0us\nLearning rate set to 0.014015\n0:\tlearn: 0.6931456\ttotal: 1.23ms\tremaining: 1.23s\n300:\tlearn: 0.6923217\ttotal: 331ms\tremaining: 769ms\n600:\tlearn: 0.6913985\ttotal: 661ms\tremaining: 439ms\n900:\tlearn: 0.6893916\ttotal: 1000ms\tremaining: 110ms\n999:\tlearn: 0.6887048\ttotal: 1.11s\tremaining: 0us\nLearning rate set to 0.014015\n0:\tlearn: 0.6931439\ttotal: 1.29ms\tremaining: 1.29s\n300:\tlearn: 0.6923278\ttotal: 334ms\tremaining: 775ms\n600:\tlearn: 0.6913875\ttotal: 699ms\tremaining: 464ms\n900:\tlearn: 0.6895323\ttotal: 1.05s\tremaining: 116ms\n999:\tlearn: 0.6889128\ttotal: 1.16s\tremaining: 0us\nLearning rate set to 0.014015\n0:\tlearn: 0.6931444\ttotal: 1.61ms\tremaining: 1.61s\n300:\tlearn: 0.6924796\ttotal: 402ms\tremaining: 934ms\n600:\tlearn: 0.6916411\ttotal: 730ms\tremaining: 485ms\n900:\tlearn: 0.6899330\ttotal: 1.08s\tremaining: 118ms\n999:\tlearn: 0.6893286\ttotal: 1.2s\tremaining: 0us\nLearning rate set to 0.014015\n0:\tlearn: 0.6931442\ttotal: 1.37ms\tremaining: 1.36s\n300:\tlearn: 0.6925106\ttotal: 344ms\tremaining: 799ms\n600:\tlearn: 0.6917017\ttotal: 723ms\tremaining: 480ms\n900:\tlearn: 0.6901511\ttotal: 1.07s\tremaining: 118ms\n999:\tlearn: 0.6895548\ttotal: 1.19s\tremaining: 0us\nLearning rate set to 0.014015\n0:\tlearn: 0.6931449\ttotal: 1.36ms\tremaining: 1.36s\n300:\tlearn: 0.6925430\ttotal: 340ms\tremaining: 789ms\n600:\tlearn: 0.6917940\ttotal: 687ms\tremaining: 456ms\n900:\tlearn: 0.6903083\ttotal: 1.03s\tremaining: 113ms\n999:\tlearn: 0.6897750\ttotal: 1.14s\tremaining: 0us\nLearning rate set to 0.014015\n0:\tlearn: 0.6931453\ttotal: 1.38ms\tremaining: 1.37s\n300:\tlearn: 0.6926005\ttotal: 357ms\tremaining: 829ms\n600:\tlearn: 0.6919031\ttotal: 718ms\tremaining: 477ms\n900:\tlearn: 0.6906018\ttotal: 1.07s\tremaining: 118ms\n999:\tlearn: 0.6900924\ttotal: 1.2s\tremaining: 0us\nLearning rate set to 0.014015\n0:\tlearn: 0.6931462\ttotal: 1.54ms\tremaining: 1.53s\n300:\tlearn: 0.6926293\ttotal: 357ms\tremaining: 829ms\n600:\tlearn: 0.6920258\ttotal: 685ms\tremaining: 455ms\n900:\tlearn: 0.6907213\ttotal: 1.04s\tremaining: 114ms\n999:\tlearn: 0.6902372\ttotal: 1.18s\tremaining: 0us\nLearning rate set to 0.014015\n0:\tlearn: 0.6931466\ttotal: 1.28ms\tremaining: 1.28s\n300:\tlearn: 0.6926577\ttotal: 342ms\tremaining: 795ms\n600:\tlearn: 0.6920803\ttotal: 715ms\tremaining: 474ms\n900:\tlearn: 0.6908497\ttotal: 1.08s\tremaining: 119ms\n999:\tlearn: 0.6904064\ttotal: 1.19s\tremaining: 0us\nLearning rate set to 0.014015\n0:\tlearn: 0.6931461\ttotal: 1.39ms\tremaining: 1.39s\n300:\tlearn: 0.6926747\ttotal: 344ms\tremaining: 798ms\n600:\tlearn: 0.6921181\ttotal: 693ms\tremaining: 460ms\n900:\tlearn: 0.6909256\ttotal: 1.03s\tremaining: 113ms\n999:\tlearn: 0.6904954\ttotal: 1.13s\tremaining: 0us\nLearning rate set to 0.014015\n0:\tlearn: 0.6931466\ttotal: 1.52ms\tremaining: 1.52s\n300:\tlearn: 0.6927239\ttotal: 345ms\tremaining: 801ms\n600:\tlearn: 0.6922290\ttotal: 678ms\tremaining: 450ms\n900:\tlearn: 0.6911250\ttotal: 1.01s\tremaining: 111ms\n999:\tlearn: 0.6906944\ttotal: 1.12s\tremaining: 0us\nLearning rate set to 0.014015\n0:\tlearn: 0.6931463\ttotal: 1.44ms\tremaining: 1.44s\n300:\tlearn: 0.6927592\ttotal: 371ms\tremaining: 861ms\n600:\tlearn: 0.6922559\ttotal: 736ms\tremaining: 489ms\n900:\tlearn: 0.6912331\ttotal: 1.11s\tremaining: 122ms\n999:\tlearn: 0.6908307\ttotal: 1.24s\tremaining: 0us\nLearning rate set to 0.014015\n0:\tlearn: 0.6931459\ttotal: 1.5ms\tremaining: 1.5s\n300:\tlearn: 0.6927986\ttotal: 382ms\tremaining: 888ms\n600:\tlearn: 0.6923443\ttotal: 770ms\tremaining: 511ms\n900:\tlearn: 0.6913507\ttotal: 1.17s\tremaining: 129ms\n999:\tlearn: 0.6910045\ttotal: 1.31s\tremaining: 0us\nLearning rate set to 0.014015\n0:\tlearn: 0.6931458\ttotal: 1.97ms\tremaining: 1.97s\n300:\tlearn: 0.6927865\ttotal: 381ms\tremaining: 884ms\n600:\tlearn: 0.6923658\ttotal: 776ms\tremaining: 515ms\n900:\tlearn: 0.6914543\ttotal: 1.19s\tremaining: 131ms\n999:\tlearn: 0.6911908\ttotal: 1.31s\tremaining: 0us\nLearning rate set to 0.014015\n0:\tlearn: 0.6931457\ttotal: 1.43ms\tremaining: 1.43s\n300:\tlearn: 0.6928239\ttotal: 342ms\tremaining: 795ms\n600:\tlearn: 0.6924512\ttotal: 667ms\tremaining: 443ms\n900:\tlearn: 0.6917853\ttotal: 1.02s\tremaining: 113ms\n999:\tlearn: 0.6915621\ttotal: 1.13s\tremaining: 0us\nLearning rate set to 0.014015\n0:\tlearn: 0.6931456\ttotal: 1.28ms\tremaining: 1.27s\n300:\tlearn: 0.6928171\ttotal: 327ms\tremaining: 759ms\n600:\tlearn: 0.6924614\ttotal: 660ms\tremaining: 438ms\n900:\tlearn: 0.6916360\ttotal: 989ms\tremaining: 109ms\n999:\tlearn: 0.6913301\ttotal: 1.1s\tremaining: 0us\nLearning rate set to 0.014015\n0:\tlearn: 0.6931453\ttotal: 1.27ms\tremaining: 1.27s\n300:\tlearn: 0.6928565\ttotal: 386ms\tremaining: 897ms\n600:\tlearn: 0.6925103\ttotal: 797ms\tremaining: 529ms\n900:\tlearn: 0.6917265\ttotal: 1.21s\tremaining: 133ms\n999:\tlearn: 0.6914513\ttotal: 1.33s\tremaining: 0us\nLearning rate set to 0.014015\n0:\tlearn: 0.6931453\ttotal: 1.45ms\tremaining: 1.45s\n300:\tlearn: 0.6928582\ttotal: 356ms\tremaining: 826ms\n600:\tlearn: 0.6925424\ttotal: 714ms\tremaining: 474ms\n900:\tlearn: 0.6918200\ttotal: 1.06s\tremaining: 116ms\n999:\tlearn: 0.6916909\ttotal: 1.17s\tremaining: 0us\nLearning rate set to 0.014015\n0:\tlearn: 0.6931456\ttotal: 1.25ms\tremaining: 1.25s\n300:\tlearn: 0.6928908\ttotal: 377ms\tremaining: 874ms\n600:\tlearn: 0.6925621\ttotal: 802ms\tremaining: 532ms\n900:\tlearn: 0.6918327\ttotal: 1.15s\tremaining: 126ms\n999:\tlearn: 0.6915780\ttotal: 1.26s\tremaining: 0us\nLearning rate set to 0.014015\n0:\tlearn: 0.6931459\ttotal: 1.38ms\tremaining: 1.38s\n300:\tlearn: 0.6928996\ttotal: 418ms\tremaining: 972ms\n600:\tlearn: 0.6925849\ttotal: 763ms\tremaining: 506ms\n900:\tlearn: 0.6919329\ttotal: 1.12s\tremaining: 123ms\n999:\tlearn: 0.6916522\ttotal: 1.24s\tremaining: 0us\nLearning rate set to 0.014015\n0:\tlearn: 0.6931460\ttotal: 1.92ms\tremaining: 1.92s\n300:\tlearn: 0.6928994\ttotal: 380ms\tremaining: 883ms\n600:\tlearn: 0.6925867\ttotal: 724ms\tremaining: 481ms\n900:\tlearn: 0.6919801\ttotal: 1.09s\tremaining: 120ms\n999:\tlearn: 0.6917419\ttotal: 1.23s\tremaining: 0us\nLearning rate set to 0.014015\n0:\tlearn: 0.6931457\ttotal: 2.12ms\tremaining: 2.12s\n300:\tlearn: 0.6929290\ttotal: 385ms\tremaining: 895ms\n600:\tlearn: 0.6926658\ttotal: 728ms\tremaining: 484ms\n900:\tlearn: 0.6922600\ttotal: 1.06s\tremaining: 117ms\n999:\tlearn: 0.6922509\ttotal: 1.18s\tremaining: 0us\nLearning rate set to 0.014015\n0:\tlearn: 0.6931459\ttotal: 1.24ms\tremaining: 1.24s\n300:\tlearn: 0.6929219\ttotal: 358ms\tremaining: 832ms\n600:\tlearn: 0.6926519\ttotal: 715ms\tremaining: 475ms\n900:\tlearn: 0.6921921\ttotal: 1.07s\tremaining: 117ms\n999:\tlearn: 0.6921785\ttotal: 1.17s\tremaining: 0us\nLearning rate set to 0.014015\n0:\tlearn: 0.6931456\ttotal: 1.74ms\tremaining: 1.73s\n300:\tlearn: 0.6929366\ttotal: 374ms\tremaining: 868ms\n600:\tlearn: 0.6926904\ttotal: 837ms\tremaining: 555ms\n900:\tlearn: 0.6922165\ttotal: 1.23s\tremaining: 135ms\n999:\tlearn: 0.6922166\ttotal: 1.35s\tremaining: 0us\n"
    },
    {
     "name": "stdout",
     "output_type": "stream",
     "text": "Learning rate set to 0.014015\n0:\tlearn: 0.6931461\ttotal: 2.2ms\tremaining: 2.19s\n300:\tlearn: 0.6929260\ttotal: 438ms\tremaining: 1.02s\n600:\tlearn: 0.6926835\ttotal: 790ms\tremaining: 524ms\n900:\tlearn: 0.6921330\ttotal: 1.15s\tremaining: 126ms\n999:\tlearn: 0.6921110\ttotal: 1.25s\tremaining: 0us\nLearning rate set to 0.014015\n0:\tlearn: 0.6931460\ttotal: 1.34ms\tremaining: 1.34s\n300:\tlearn: 0.6929556\ttotal: 338ms\tremaining: 785ms\n600:\tlearn: 0.6927237\ttotal: 688ms\tremaining: 457ms\n900:\tlearn: 0.6921904\ttotal: 1.07s\tremaining: 117ms\n999:\tlearn: 0.6919810\ttotal: 1.18s\tremaining: 0us\nLearning rate set to 0.014015\n0:\tlearn: 0.6931458\ttotal: 1.89ms\tremaining: 1.89s\n300:\tlearn: 0.6929627\ttotal: 384ms\tremaining: 892ms\n600:\tlearn: 0.6927395\ttotal: 771ms\tremaining: 512ms\n900:\tlearn: 0.6922695\ttotal: 1.17s\tremaining: 128ms\n999:\tlearn: 0.6920802\ttotal: 1.33s\tremaining: 0us\nLearning rate set to 0.014015\n0:\tlearn: 0.6931456\ttotal: 1.46ms\tremaining: 1.46s\n300:\tlearn: 0.6929788\ttotal: 412ms\tremaining: 956ms\n600:\tlearn: 0.6927746\ttotal: 841ms\tremaining: 558ms\n900:\tlearn: 0.6923332\ttotal: 1.25s\tremaining: 138ms\n999:\tlearn: 0.6921845\ttotal: 1.39s\tremaining: 0us\nLearning rate set to 0.014015\n0:\tlearn: 0.6931460\ttotal: 2.37ms\tremaining: 2.36s\n300:\tlearn: 0.6929660\ttotal: 510ms\tremaining: 1.19s\n600:\tlearn: 0.6927602\ttotal: 1.06s\tremaining: 704ms\n900:\tlearn: 0.6922614\ttotal: 1.52s\tremaining: 167ms\n999:\tlearn: 0.6920824\ttotal: 1.68s\tremaining: 0us\nLearning rate set to 0.014015\n0:\tlearn: 0.6931462\ttotal: 1.33ms\tremaining: 1.33s\n300:\tlearn: 0.6929882\ttotal: 440ms\tremaining: 1.02s\n600:\tlearn: 0.6927993\ttotal: 774ms\tremaining: 514ms\n900:\tlearn: 0.6924302\ttotal: 1.19s\tremaining: 131ms\n999:\tlearn: 0.6924165\ttotal: 1.32s\tremaining: 0us\nLearning rate set to 0.014015\n0:\tlearn: 0.6931459\ttotal: 1.39ms\tremaining: 1.39s\n300:\tlearn: 0.6929853\ttotal: 458ms\tremaining: 1.06s\n600:\tlearn: 0.6928100\ttotal: 845ms\tremaining: 561ms\n900:\tlearn: 0.6924177\ttotal: 1.26s\tremaining: 139ms\n999:\tlearn: 0.6922682\ttotal: 1.4s\tremaining: 0us\nLearning rate set to 0.014015\n0:\tlearn: 0.6931463\ttotal: 1.64ms\tremaining: 1.64s\n300:\tlearn: 0.6929802\ttotal: 408ms\tremaining: 948ms\n600:\tlearn: 0.6928056\ttotal: 841ms\tremaining: 558ms\n900:\tlearn: 0.6924792\ttotal: 1.27s\tremaining: 140ms\n999:\tlearn: 0.6923708\ttotal: 1.38s\tremaining: 0us\nLearning rate set to 0.014015\n0:\tlearn: 0.6931459\ttotal: 1.44ms\tremaining: 1.43s\n300:\tlearn: 0.6929938\ttotal: 429ms\tremaining: 997ms\n600:\tlearn: 0.6928226\ttotal: 793ms\tremaining: 527ms\n900:\tlearn: 0.6924469\ttotal: 1.18s\tremaining: 130ms\n999:\tlearn: 0.6923170\ttotal: 1.31s\tremaining: 0us\nLearning rate set to 0.014015\n0:\tlearn: 0.6931464\ttotal: 1.88ms\tremaining: 1.88s\n300:\tlearn: 0.6930069\ttotal: 412ms\tremaining: 957ms\n600:\tlearn: 0.6928327\ttotal: 745ms\tremaining: 495ms\n900:\tlearn: 0.6924541\ttotal: 1.08s\tremaining: 119ms\n999:\tlearn: 0.6923961\ttotal: 1.2s\tremaining: 0us\nLearning rate set to 0.014015\n0:\tlearn: 0.6931460\ttotal: 2.32ms\tremaining: 2.31s\n300:\tlearn: 0.6930012\ttotal: 396ms\tremaining: 920ms\n600:\tlearn: 0.6928484\ttotal: 745ms\tremaining: 494ms\n900:\tlearn: 0.6924837\ttotal: 1.14s\tremaining: 125ms\n999:\tlearn: 0.6923494\ttotal: 1.25s\tremaining: 0us\nLearning rate set to 0.014015\n0:\tlearn: 0.6931462\ttotal: 1.3ms\tremaining: 1.3s\n300:\tlearn: 0.6930062\ttotal: 360ms\tremaining: 835ms\n600:\tlearn: 0.6928670\ttotal: 716ms\tremaining: 476ms\n900:\tlearn: 0.6925808\ttotal: 1.13s\tremaining: 124ms\n999:\tlearn: 0.6924553\ttotal: 1.25s\tremaining: 0us\nLearning rate set to 0.014015\n0:\tlearn: 0.6931457\ttotal: 2.08ms\tremaining: 2.08s\n300:\tlearn: 0.6930220\ttotal: 345ms\tremaining: 801ms\n600:\tlearn: 0.6928851\ttotal: 680ms\tremaining: 452ms\n900:\tlearn: 0.6925536\ttotal: 1.02s\tremaining: 112ms\n999:\tlearn: 0.6925159\ttotal: 1.12s\tremaining: 0us\nLearning rate set to 0.014015\n0:\tlearn: 0.6931461\ttotal: 1.36ms\tremaining: 1.36s\n300:\tlearn: 0.6930303\ttotal: 376ms\tremaining: 872ms\n600:\tlearn: 0.6928914\ttotal: 746ms\tremaining: 495ms\n900:\tlearn: 0.6926017\ttotal: 1.18s\tremaining: 129ms\n999:\tlearn: 0.6926014\ttotal: 1.3s\tremaining: 0us\nAdaBoostClassifier, model = catboosting\n              precision    recall  f1-score   support\n\n           0       0.81      0.87      0.84       358\n           1       0.64      0.54      0.58       157\n\n    accuracy                           0.77       515\n   macro avg       0.73      0.70      0.71       515\nweighted avg       0.76      0.77      0.76       515\n\nOptunaSearchCV doesn't support sample_weight.\nAdaBoostClassifier, model = dfc\n              precision    recall  f1-score   support\n\n           0       0.81      0.88      0.84       358\n           1       0.66      0.54      0.59       157\n\n    accuracy                           0.77       515\n   macro avg       0.73      0.71      0.72       515\nweighted avg       0.76      0.77      0.77       515\n\nAdaBoostClassifier, model = GaussianNB\n              precision    recall  f1-score   support\n\n           0       0.78      0.95      0.86       358\n           1       0.79      0.40      0.53       157\n\n    accuracy                           0.78       515\n   macro avg       0.79      0.68      0.70       515\nweighted avg       0.79      0.78      0.76       515\n\n"
    }
   ],
   "source": [
    "for estimator in estimators:\n",
    "    title, model = estimator\n",
    "    modelClf = AdaBoostClassifier(base_estimator=model, n_estimators=100, random_state=12)\n",
    "    try:\n",
    "        get_report_of_model(f'AdaBoostClassifier, model = {title}', modelClf, X_train, y_train, X_valid, y_valid)\n",
    "    except Exception as e:\n",
    "        print(e)"
   ]
  },
  {
   "cell_type": "code",
   "execution_count": 57,
   "metadata": {
    "trusted": true
   },
   "outputs": [],
   "source": [
    "results.append({\n",
    "    'Название модели': 'AdaBoostClassifier, model = catboosting',\n",
    "    'precision': (0.81 + 0.64) / 2,\n",
    "    'recal': (0.87 + 0.54) / 2,\n",
    "    'f1-score': (0.84 + 0.58) / 2,\n",
    "    'accuracy': 0.77\n",
    "})"
   ]
  },
  {
   "cell_type": "code",
   "execution_count": 58,
   "metadata": {
    "trusted": true
   },
   "outputs": [],
   "source": [
    "results.append({\n",
    "    'Название модели': 'AdaBoostClassifier, model = dfc',\n",
    "    'precision': (0.81 + 0.66) / 2,\n",
    "    'recal': (0.88 + 0.54) / 2,\n",
    "    'f1-score': (0.84 + 0.59) / 2,\n",
    "    'accuracy': 0.77\n",
    "})"
   ]
  },
  {
   "cell_type": "code",
   "execution_count": 59,
   "metadata": {
    "trusted": true
   },
   "outputs": [],
   "source": [
    "results.append({\n",
    "    'Название модели': 'AdaBoostClassifier, model = GaussianNB',\n",
    "    'precision': (0.78 + 0.79) / 2,\n",
    "    'recal': (0.95 + 0.40) / 2,\n",
    "    'f1-score': (0.86 + 0.53) / 2,\n",
    "    'accuracy': 0.78\n",
    "})"
   ]
  },
  {
   "cell_type": "markdown",
   "metadata": {},
   "source": [
    "### 7 Наивный байесовский классификатор"
   ]
  },
  {
   "cell_type": "code",
   "execution_count": 60,
   "metadata": {
    "trusted": true
   },
   "outputs": [],
   "source": [
    "from sklearn.naive_bayes import GaussianNB"
   ]
  },
  {
   "cell_type": "code",
   "execution_count": 61,
   "metadata": {
    "trusted": true
   },
   "outputs": [
    {
     "name": "stdout",
     "output_type": "stream",
     "text": "Наивный байесовский классификатор\n              precision    recall  f1-score   support\n\n           0       0.78      0.94      0.85       358\n           1       0.74      0.41      0.53       157\n\n    accuracy                           0.78       515\n   macro avg       0.76      0.67      0.69       515\nweighted avg       0.77      0.78      0.75       515\n\n"
    }
   ],
   "source": [
    "gnb = GaussianNB()\n",
    "get_report_of_model('Наивный байесовский классификатор', gnb, X_train, y_train, X_valid, y_valid)"
   ]
  },
  {
   "cell_type": "code",
   "execution_count": 62,
   "metadata": {
    "trusted": true
   },
   "outputs": [],
   "source": [
    "results.append({\n",
    "    'Название модели': 'Наивный байесовский классификатор',\n",
    "    'precision': (0.78 + 0.74) / 2,\n",
    "    'recal': (0.94 + 0.41) / 2,\n",
    "    'f1-score': (0.85 + 0.53) / 2,\n",
    "    'accuracy': 0.78\n",
    "})"
   ]
  },
  {
   "cell_type": "markdown",
   "metadata": {},
   "source": [
    "Результаты чуть хуже, чем у ансамблей"
   ]
  },
  {
   "cell_type": "markdown",
   "metadata": {},
   "source": [
    "### 8 Линейный дискриминантный анализ"
   ]
  },
  {
   "cell_type": "code",
   "execution_count": 63,
   "metadata": {
    "trusted": true
   },
   "outputs": [],
   "source": [
    "from sklearn.discriminant_analysis import LinearDiscriminantAnalysis"
   ]
  },
  {
   "cell_type": "code",
   "execution_count": 64,
   "metadata": {
    "trusted": true
   },
   "outputs": [
    {
     "name": "stdout",
     "output_type": "stream",
     "text": "Линейный дискриминантный анализ\n              precision    recall  f1-score   support\n\n           0       0.74      0.97      0.84       358\n           1       0.80      0.22      0.35       157\n\n    accuracy                           0.75       515\n   macro avg       0.77      0.60      0.60       515\nweighted avg       0.76      0.75      0.69       515\n\n"
    }
   ],
   "source": [
    "lda = LinearDiscriminantAnalysis()\n",
    "get_report_of_model('Линейный дискриминантный анализ', lda, X_train, y_train, X_valid, y_valid)"
   ]
  },
  {
   "cell_type": "code",
   "execution_count": 65,
   "metadata": {
    "trusted": true
   },
   "outputs": [],
   "source": [
    "results.append({\n",
    "    'Название модели': 'Линейный дискриминантный анализ',\n",
    "    'precision': (0.74 + 0.80) / 2,\n",
    "    'recal': (0.97 + 0.22) / 2,\n",
    "    'f1-score': (0.84 + 0.35) / 2,\n",
    "    'accuracy': 0.75\n",
    "})"
   ]
  },
  {
   "cell_type": "markdown",
   "metadata": {},
   "source": [
    "### 10 Multi-layer Perceptron (MLP)"
   ]
  },
  {
   "cell_type": "code",
   "execution_count": 66,
   "metadata": {
    "trusted": true
   },
   "outputs": [],
   "source": [
    "from sklearn.neural_network import MLPClassifier"
   ]
  },
  {
   "cell_type": "code",
   "execution_count": 67,
   "metadata": {
    "trusted": true
   },
   "outputs": [
    {
     "name": "stdout",
     "output_type": "stream",
     "text": "Multi-layer Perceptron (MLP)\n              precision    recall  f1-score   support\n\n           0       0.71      0.97      0.82       358\n           1       0.61      0.09      0.16       157\n\n    accuracy                           0.70       515\n   macro avg       0.66      0.53      0.49       515\nweighted avg       0.68      0.70      0.62       515\n\n"
    }
   ],
   "source": [
    "mlp = MLPClassifier()\n",
    "get_report_of_model('Multi-layer Perceptron (MLP)', mlp, X_train, y_train, X_valid, y_valid)"
   ]
  },
  {
   "cell_type": "code",
   "execution_count": 68,
   "metadata": {
    "trusted": true
   },
   "outputs": [],
   "source": [
    "results.append({\n",
    "    'Название модели': 'Multi-layer Perceptron (MLP)',\n",
    "    'precision': (0.70 + 1) / 2,\n",
    "    'recal': (1 + 0.04) / 2,\n",
    "    'f1-score': (0.83 + 0.07) / 2,\n",
    "    'accuracy': 0.71\n",
    "})"
   ]
  },
  {
   "cell_type": "markdown",
   "metadata": {},
   "source": [
    "## Проверьте модель на тестовой выборке"
   ]
  },
  {
   "cell_type": "markdown",
   "metadata": {},
   "source": [
    "Составим таблицы результатов"
   ]
  },
  {
   "cell_type": "code",
   "execution_count": 69,
   "metadata": {
    "trusted": true
   },
   "outputs": [
    {
     "data": {
      "text/html": "<div>\n<style scoped>\n    .dataframe tbody tr th:only-of-type {\n        vertical-align: middle;\n    }\n\n    .dataframe tbody tr th {\n        vertical-align: top;\n    }\n\n    .dataframe thead th {\n        text-align: right;\n    }\n</style>\n<table border=\"1\" class=\"dataframe\">\n  <thead>\n    <tr style=\"text-align: right;\">\n      <th></th>\n      <th>Название модели</th>\n      <th>precision</th>\n      <th>recal</th>\n      <th>f1-score</th>\n      <th>accuracy</th>\n    </tr>\n  </thead>\n  <tbody>\n    <tr>\n      <th>0</th>\n      <td>Логистическая регрессия</td>\n      <td>0.770</td>\n      <td>0.595</td>\n      <td>0.595</td>\n      <td>0.75</td>\n    </tr>\n    <tr>\n      <th>1</th>\n      <td>Метод ближайших соседей</td>\n      <td>0.575</td>\n      <td>0.585</td>\n      <td>0.565</td>\n      <td>0.59</td>\n    </tr>\n    <tr>\n      <th>2</th>\n      <td>Решающее дерево</td>\n      <td>0.780</td>\n      <td>0.715</td>\n      <td>0.735</td>\n      <td>0.80</td>\n    </tr>\n    <tr>\n      <th>3</th>\n      <td>Решающие деревья</td>\n      <td>0.800</td>\n      <td>0.690</td>\n      <td>0.710</td>\n      <td>0.79</td>\n    </tr>\n    <tr>\n      <th>4</th>\n      <td>optuna Решающие деревья</td>\n      <td>0.795</td>\n      <td>0.735</td>\n      <td>0.755</td>\n      <td>0.81</td>\n    </tr>\n    <tr>\n      <th>5</th>\n      <td>Метод опорных векторов</td>\n      <td>0.775</td>\n      <td>0.600</td>\n      <td>0.595</td>\n      <td>0.75</td>\n    </tr>\n    <tr>\n      <th>6</th>\n      <td>Catboost</td>\n      <td>0.800</td>\n      <td>0.750</td>\n      <td>0.770</td>\n      <td>0.82</td>\n    </tr>\n    <tr>\n      <th>7</th>\n      <td>StackingClassifier</td>\n      <td>0.810</td>\n      <td>0.740</td>\n      <td>0.760</td>\n      <td>0.82</td>\n    </tr>\n    <tr>\n      <th>8</th>\n      <td>BaggingClassifier, model = catboosting</td>\n      <td>0.805</td>\n      <td>0.750</td>\n      <td>0.770</td>\n      <td>0.82</td>\n    </tr>\n    <tr>\n      <th>9</th>\n      <td>BaggingClassifier, model = optuna_search</td>\n      <td>0.810</td>\n      <td>0.740</td>\n      <td>0.765</td>\n      <td>0.82</td>\n    </tr>\n    <tr>\n      <th>10</th>\n      <td>BaggingClassifier, model = dfc</td>\n      <td>0.790</td>\n      <td>0.715</td>\n      <td>0.735</td>\n      <td>0.80</td>\n    </tr>\n    <tr>\n      <th>11</th>\n      <td>BaggingClassifier, model = GaussianNB</td>\n      <td>0.760</td>\n      <td>0.675</td>\n      <td>0.680</td>\n      <td>0.78</td>\n    </tr>\n    <tr>\n      <th>12</th>\n      <td>AdaBoostClassifier, model = catboosting</td>\n      <td>0.725</td>\n      <td>0.705</td>\n      <td>0.710</td>\n      <td>0.77</td>\n    </tr>\n    <tr>\n      <th>13</th>\n      <td>AdaBoostClassifier, model = dfc</td>\n      <td>0.735</td>\n      <td>0.710</td>\n      <td>0.715</td>\n      <td>0.77</td>\n    </tr>\n    <tr>\n      <th>14</th>\n      <td>AdaBoostClassifier, model = GaussianNB</td>\n      <td>0.785</td>\n      <td>0.675</td>\n      <td>0.695</td>\n      <td>0.78</td>\n    </tr>\n    <tr>\n      <th>15</th>\n      <td>Наивный байесовский классификатор</td>\n      <td>0.760</td>\n      <td>0.675</td>\n      <td>0.690</td>\n      <td>0.78</td>\n    </tr>\n    <tr>\n      <th>16</th>\n      <td>Линейный дискриминантный анализ</td>\n      <td>0.770</td>\n      <td>0.595</td>\n      <td>0.595</td>\n      <td>0.75</td>\n    </tr>\n    <tr>\n      <th>17</th>\n      <td>Multi-layer Perceptron (MLP)</td>\n      <td>0.850</td>\n      <td>0.520</td>\n      <td>0.450</td>\n      <td>0.71</td>\n    </tr>\n  </tbody>\n</table>\n</div>",
      "text/plain": "                             Название модели  precision  recal  f1-score  \\\n0                    Логистическая регрессия      0.770  0.595     0.595   \n1                    Метод ближайших соседей      0.575  0.585     0.565   \n2                            Решающее дерево      0.780  0.715     0.735   \n3                           Решающие деревья      0.800  0.690     0.710   \n4                    optuna Решающие деревья      0.795  0.735     0.755   \n5                     Метод опорных векторов      0.775  0.600     0.595   \n6                                   Catboost      0.800  0.750     0.770   \n7                         StackingClassifier      0.810  0.740     0.760   \n8     BaggingClassifier, model = catboosting      0.805  0.750     0.770   \n9   BaggingClassifier, model = optuna_search      0.810  0.740     0.765   \n10            BaggingClassifier, model = dfc      0.790  0.715     0.735   \n11     BaggingClassifier, model = GaussianNB      0.760  0.675     0.680   \n12   AdaBoostClassifier, model = catboosting      0.725  0.705     0.710   \n13           AdaBoostClassifier, model = dfc      0.735  0.710     0.715   \n14    AdaBoostClassifier, model = GaussianNB      0.785  0.675     0.695   \n15         Наивный байесовский классификатор      0.760  0.675     0.690   \n16           Линейный дискриминантный анализ      0.770  0.595     0.595   \n17              Multi-layer Perceptron (MLP)      0.850  0.520     0.450   \n\n    accuracy  \n0       0.75  \n1       0.59  \n2       0.80  \n3       0.79  \n4       0.81  \n5       0.75  \n6       0.82  \n7       0.82  \n8       0.82  \n9       0.82  \n10      0.80  \n11      0.78  \n12      0.77  \n13      0.77  \n14      0.78  \n15      0.78  \n16      0.75  \n17      0.71  "
     },
     "execution_count": 69,
     "metadata": {},
     "output_type": "execute_result"
    }
   ],
   "source": [
    "results_df = pd.DataFrame(results)\n",
    "results_df"
   ]
  },
  {
   "cell_type": "markdown",
   "metadata": {},
   "source": [
    "\"Среднее\" по метрикам"
   ]
  },
  {
   "cell_type": "code",
   "execution_count": 70,
   "metadata": {
    "trusted": true
   },
   "outputs": [
    {
     "data": {
      "text/html": "<div>\n<style scoped>\n    .dataframe tbody tr th:only-of-type {\n        vertical-align: middle;\n    }\n\n    .dataframe tbody tr th {\n        vertical-align: top;\n    }\n\n    .dataframe thead th {\n        text-align: right;\n    }\n</style>\n<table border=\"1\" class=\"dataframe\">\n  <thead>\n    <tr style=\"text-align: right;\">\n      <th></th>\n      <th>Название модели</th>\n      <th>precision</th>\n      <th>recal</th>\n      <th>f1-score</th>\n      <th>accuracy</th>\n      <th>average quality</th>\n    </tr>\n  </thead>\n  <tbody>\n    <tr>\n      <th>0</th>\n      <td>Логистическая регрессия</td>\n      <td>0.770</td>\n      <td>0.595</td>\n      <td>0.595</td>\n      <td>0.75</td>\n      <td>0.67750</td>\n    </tr>\n    <tr>\n      <th>1</th>\n      <td>Метод ближайших соседей</td>\n      <td>0.575</td>\n      <td>0.585</td>\n      <td>0.565</td>\n      <td>0.59</td>\n      <td>0.57875</td>\n    </tr>\n    <tr>\n      <th>2</th>\n      <td>Решающее дерево</td>\n      <td>0.780</td>\n      <td>0.715</td>\n      <td>0.735</td>\n      <td>0.80</td>\n      <td>0.75750</td>\n    </tr>\n    <tr>\n      <th>3</th>\n      <td>Решающие деревья</td>\n      <td>0.800</td>\n      <td>0.690</td>\n      <td>0.710</td>\n      <td>0.79</td>\n      <td>0.74750</td>\n    </tr>\n    <tr>\n      <th>4</th>\n      <td>optuna Решающие деревья</td>\n      <td>0.795</td>\n      <td>0.735</td>\n      <td>0.755</td>\n      <td>0.81</td>\n      <td>0.77375</td>\n    </tr>\n    <tr>\n      <th>5</th>\n      <td>Метод опорных векторов</td>\n      <td>0.775</td>\n      <td>0.600</td>\n      <td>0.595</td>\n      <td>0.75</td>\n      <td>0.68000</td>\n    </tr>\n    <tr>\n      <th>6</th>\n      <td>Catboost</td>\n      <td>0.800</td>\n      <td>0.750</td>\n      <td>0.770</td>\n      <td>0.82</td>\n      <td>0.78500</td>\n    </tr>\n    <tr>\n      <th>7</th>\n      <td>StackingClassifier</td>\n      <td>0.810</td>\n      <td>0.740</td>\n      <td>0.760</td>\n      <td>0.82</td>\n      <td>0.78250</td>\n    </tr>\n    <tr>\n      <th>8</th>\n      <td>BaggingClassifier, model = catboosting</td>\n      <td>0.805</td>\n      <td>0.750</td>\n      <td>0.770</td>\n      <td>0.82</td>\n      <td>0.78625</td>\n    </tr>\n    <tr>\n      <th>9</th>\n      <td>BaggingClassifier, model = optuna_search</td>\n      <td>0.810</td>\n      <td>0.740</td>\n      <td>0.765</td>\n      <td>0.82</td>\n      <td>0.78375</td>\n    </tr>\n    <tr>\n      <th>10</th>\n      <td>BaggingClassifier, model = dfc</td>\n      <td>0.790</td>\n      <td>0.715</td>\n      <td>0.735</td>\n      <td>0.80</td>\n      <td>0.76000</td>\n    </tr>\n    <tr>\n      <th>11</th>\n      <td>BaggingClassifier, model = GaussianNB</td>\n      <td>0.760</td>\n      <td>0.675</td>\n      <td>0.680</td>\n      <td>0.78</td>\n      <td>0.72375</td>\n    </tr>\n    <tr>\n      <th>12</th>\n      <td>AdaBoostClassifier, model = catboosting</td>\n      <td>0.725</td>\n      <td>0.705</td>\n      <td>0.710</td>\n      <td>0.77</td>\n      <td>0.72750</td>\n    </tr>\n    <tr>\n      <th>13</th>\n      <td>AdaBoostClassifier, model = dfc</td>\n      <td>0.735</td>\n      <td>0.710</td>\n      <td>0.715</td>\n      <td>0.77</td>\n      <td>0.73250</td>\n    </tr>\n    <tr>\n      <th>14</th>\n      <td>AdaBoostClassifier, model = GaussianNB</td>\n      <td>0.785</td>\n      <td>0.675</td>\n      <td>0.695</td>\n      <td>0.78</td>\n      <td>0.73375</td>\n    </tr>\n    <tr>\n      <th>15</th>\n      <td>Наивный байесовский классификатор</td>\n      <td>0.760</td>\n      <td>0.675</td>\n      <td>0.690</td>\n      <td>0.78</td>\n      <td>0.72625</td>\n    </tr>\n    <tr>\n      <th>16</th>\n      <td>Линейный дискриминантный анализ</td>\n      <td>0.770</td>\n      <td>0.595</td>\n      <td>0.595</td>\n      <td>0.75</td>\n      <td>0.67750</td>\n    </tr>\n    <tr>\n      <th>17</th>\n      <td>Multi-layer Perceptron (MLP)</td>\n      <td>0.850</td>\n      <td>0.520</td>\n      <td>0.450</td>\n      <td>0.71</td>\n      <td>0.63250</td>\n    </tr>\n  </tbody>\n</table>\n</div>",
      "text/plain": "                             Название модели  precision  recal  f1-score  \\\n0                    Логистическая регрессия      0.770  0.595     0.595   \n1                    Метод ближайших соседей      0.575  0.585     0.565   \n2                            Решающее дерево      0.780  0.715     0.735   \n3                           Решающие деревья      0.800  0.690     0.710   \n4                    optuna Решающие деревья      0.795  0.735     0.755   \n5                     Метод опорных векторов      0.775  0.600     0.595   \n6                                   Catboost      0.800  0.750     0.770   \n7                         StackingClassifier      0.810  0.740     0.760   \n8     BaggingClassifier, model = catboosting      0.805  0.750     0.770   \n9   BaggingClassifier, model = optuna_search      0.810  0.740     0.765   \n10            BaggingClassifier, model = dfc      0.790  0.715     0.735   \n11     BaggingClassifier, model = GaussianNB      0.760  0.675     0.680   \n12   AdaBoostClassifier, model = catboosting      0.725  0.705     0.710   \n13           AdaBoostClassifier, model = dfc      0.735  0.710     0.715   \n14    AdaBoostClassifier, model = GaussianNB      0.785  0.675     0.695   \n15         Наивный байесовский классификатор      0.760  0.675     0.690   \n16           Линейный дискриминантный анализ      0.770  0.595     0.595   \n17              Multi-layer Perceptron (MLP)      0.850  0.520     0.450   \n\n    accuracy  average quality  \n0       0.75          0.67750  \n1       0.59          0.57875  \n2       0.80          0.75750  \n3       0.79          0.74750  \n4       0.81          0.77375  \n5       0.75          0.68000  \n6       0.82          0.78500  \n7       0.82          0.78250  \n8       0.82          0.78625  \n9       0.82          0.78375  \n10      0.80          0.76000  \n11      0.78          0.72375  \n12      0.77          0.72750  \n13      0.77          0.73250  \n14      0.78          0.73375  \n15      0.78          0.72625  \n16      0.75          0.67750  \n17      0.71          0.63250  "
     },
     "execution_count": 70,
     "metadata": {},
     "output_type": "execute_result"
    }
   ],
   "source": [
    "results_df['average quality'] = results_df[['precision', 'recal', 'f1-score', 'accuracy']].mean(axis=1)\n",
    "results_df"
   ]
  },
  {
   "cell_type": "markdown",
   "metadata": {},
   "source": [
    "Рассмотрим топ 5 моделей на тестовой выборке и сравним их реультаты"
   ]
  },
  {
   "cell_type": "code",
   "execution_count": 71,
   "metadata": {
    "trusted": true
   },
   "outputs": [
    {
     "name": "stdout",
     "output_type": "stream",
     "text": "Learning rate set to 0.014015\n0:\tlearn: 0.6872612\ttotal: 1.4ms\tremaining: 1.39s\n300:\tlearn: 0.4006398\ttotal: 377ms\tremaining: 876ms\n600:\tlearn: 0.3437674\ttotal: 794ms\tremaining: 527ms\n900:\tlearn: 0.2886054\ttotal: 1.16s\tremaining: 128ms\n999:\tlearn: 0.2734510\ttotal: 1.28s\tremaining: 0us\nLearning rate set to 0.014015\n0:\tlearn: 0.6864787\ttotal: 1.43ms\tremaining: 1.43s\n300:\tlearn: 0.3852268\ttotal: 394ms\tremaining: 914ms\n600:\tlearn: 0.3289221\ttotal: 754ms\tremaining: 500ms\n900:\tlearn: 0.2723499\ttotal: 1.14s\tremaining: 126ms\n999:\tlearn: 0.2564922\ttotal: 1.26s\tremaining: 0us\nLearning rate set to 0.014015\n0:\tlearn: 0.6869180\ttotal: 1.38ms\tremaining: 1.38s\n300:\tlearn: 0.3896593\ttotal: 458ms\tremaining: 1.06s\n600:\tlearn: 0.3340397\ttotal: 897ms\tremaining: 596ms\n900:\tlearn: 0.2792896\ttotal: 1.33s\tremaining: 147ms\n999:\tlearn: 0.2642299\ttotal: 1.45s\tremaining: 0us\nLearning rate set to 0.014015\n0:\tlearn: 0.6867589\ttotal: 2.02ms\tremaining: 2.02s\n300:\tlearn: 0.3990070\ttotal: 397ms\tremaining: 921ms\n600:\tlearn: 0.3422302\ttotal: 788ms\tremaining: 523ms\n900:\tlearn: 0.2900625\ttotal: 1.18s\tremaining: 129ms\n999:\tlearn: 0.2749207\ttotal: 1.3s\tremaining: 0us\nLearning rate set to 0.014015\n0:\tlearn: 0.6864287\ttotal: 1.94ms\tremaining: 1.94s\n300:\tlearn: 0.3835093\ttotal: 391ms\tremaining: 907ms\n600:\tlearn: 0.3312419\ttotal: 787ms\tremaining: 522ms\n900:\tlearn: 0.2808378\ttotal: 1.13s\tremaining: 125ms\n999:\tlearn: 0.2680414\ttotal: 1.25s\tremaining: 0us\nLearning rate set to 0.014015\n0:\tlearn: 0.6862004\ttotal: 1.38ms\tremaining: 1.38s\n300:\tlearn: 0.3836677\ttotal: 415ms\tremaining: 965ms\n600:\tlearn: 0.3282644\ttotal: 789ms\tremaining: 524ms\n900:\tlearn: 0.2761732\ttotal: 1.16s\tremaining: 127ms\n999:\tlearn: 0.2626228\ttotal: 1.27s\tremaining: 0us\nLearning rate set to 0.014015\n0:\tlearn: 0.6870008\ttotal: 1.31ms\tremaining: 1.31s\n300:\tlearn: 0.3940530\ttotal: 370ms\tremaining: 860ms\n600:\tlearn: 0.3374823\ttotal: 730ms\tremaining: 484ms\n900:\tlearn: 0.2779913\ttotal: 1.07s\tremaining: 118ms\n999:\tlearn: 0.2613303\ttotal: 1.19s\tremaining: 0us\nLearning rate set to 0.014015\n0:\tlearn: 0.6862414\ttotal: 1.86ms\tremaining: 1.86s\n300:\tlearn: 0.3953771\ttotal: 350ms\tremaining: 813ms\n600:\tlearn: 0.3377571\ttotal: 763ms\tremaining: 506ms\n900:\tlearn: 0.2859453\ttotal: 1.19s\tremaining: 131ms\n999:\tlearn: 0.2711424\ttotal: 1.32s\tremaining: 0us\nLearning rate set to 0.014015\n0:\tlearn: 0.6864325\ttotal: 1.74ms\tremaining: 1.74s\n300:\tlearn: 0.3978372\ttotal: 436ms\tremaining: 1.01s\n600:\tlearn: 0.3443109\ttotal: 802ms\tremaining: 532ms\n900:\tlearn: 0.2938964\ttotal: 1.19s\tremaining: 131ms\n999:\tlearn: 0.2792271\ttotal: 1.32s\tremaining: 0us\nLearning rate set to 0.014015\n0:\tlearn: 0.6871176\ttotal: 2.25ms\tremaining: 2.25s\n300:\tlearn: 0.3890207\ttotal: 413ms\tremaining: 959ms\n600:\tlearn: 0.3308836\ttotal: 803ms\tremaining: 533ms\n900:\tlearn: 0.2777153\ttotal: 1.24s\tremaining: 137ms\n999:\tlearn: 0.2630295\ttotal: 1.37s\tremaining: 0us\nLearning rate set to 0.014015\n0:\tlearn: 0.6869393\ttotal: 1.33ms\tremaining: 1.33s\n300:\tlearn: 0.3981499\ttotal: 385ms\tremaining: 894ms\n600:\tlearn: 0.3435098\ttotal: 746ms\tremaining: 495ms\n900:\tlearn: 0.2916071\ttotal: 1.11s\tremaining: 122ms\n999:\tlearn: 0.2751924\ttotal: 1.23s\tremaining: 0us\nLearning rate set to 0.014015\n0:\tlearn: 0.6864696\ttotal: 1.28ms\tremaining: 1.28s\n300:\tlearn: 0.3878814\ttotal: 364ms\tremaining: 846ms\n600:\tlearn: 0.3333583\ttotal: 773ms\tremaining: 513ms\n900:\tlearn: 0.2823255\ttotal: 1.19s\tremaining: 131ms\n999:\tlearn: 0.2673526\ttotal: 1.32s\tremaining: 0us\nLearning rate set to 0.014015\n0:\tlearn: 0.6874079\ttotal: 1.73ms\tremaining: 1.73s\n300:\tlearn: 0.4053402\ttotal: 383ms\tremaining: 889ms\n600:\tlearn: 0.3460577\ttotal: 743ms\tremaining: 494ms\n900:\tlearn: 0.2904296\ttotal: 1.1s\tremaining: 121ms\n999:\tlearn: 0.2760833\ttotal: 1.23s\tremaining: 0us\nLearning rate set to 0.014015\n0:\tlearn: 0.6865368\ttotal: 1.23ms\tremaining: 1.23s\n300:\tlearn: 0.3846550\ttotal: 394ms\tremaining: 915ms\n600:\tlearn: 0.3268841\ttotal: 787ms\tremaining: 522ms\n900:\tlearn: 0.2726382\ttotal: 1.15s\tremaining: 126ms\n999:\tlearn: 0.2585628\ttotal: 1.28s\tremaining: 0us\nLearning rate set to 0.014015\n0:\tlearn: 0.6859672\ttotal: 1.42ms\tremaining: 1.42s\n300:\tlearn: 0.3717606\ttotal: 338ms\tremaining: 785ms\n600:\tlearn: 0.3111334\ttotal: 699ms\tremaining: 464ms\n900:\tlearn: 0.2575118\ttotal: 1.07s\tremaining: 117ms\n999:\tlearn: 0.2443402\ttotal: 1.19s\tremaining: 0us\nLearning rate set to 0.014015\n0:\tlearn: 0.6874574\ttotal: 1.32ms\tremaining: 1.32s\n300:\tlearn: 0.3968221\ttotal: 380ms\tremaining: 883ms\n600:\tlearn: 0.3402016\ttotal: 760ms\tremaining: 505ms\n900:\tlearn: 0.2870112\ttotal: 1.12s\tremaining: 123ms\n999:\tlearn: 0.2727248\ttotal: 1.23s\tremaining: 0us\nLearning rate set to 0.014015\n0:\tlearn: 0.6862589\ttotal: 1.25ms\tremaining: 1.25s\n300:\tlearn: 0.3753802\ttotal: 405ms\tremaining: 940ms\n600:\tlearn: 0.3194506\ttotal: 851ms\tremaining: 565ms\n900:\tlearn: 0.2650914\ttotal: 1.21s\tremaining: 133ms\n999:\tlearn: 0.2503436\ttotal: 1.34s\tremaining: 0us\nLearning rate set to 0.014015\n0:\tlearn: 0.6864739\ttotal: 1.41ms\tremaining: 1.41s\n300:\tlearn: 0.3903471\ttotal: 365ms\tremaining: 847ms\n600:\tlearn: 0.3329149\ttotal: 740ms\tremaining: 491ms\n900:\tlearn: 0.2798539\ttotal: 1.09s\tremaining: 120ms\n999:\tlearn: 0.2648936\ttotal: 1.21s\tremaining: 0us\nLearning rate set to 0.014015\n0:\tlearn: 0.6868093\ttotal: 1.58ms\tremaining: 1.58s\n300:\tlearn: 0.3968343\ttotal: 382ms\tremaining: 888ms\n600:\tlearn: 0.3405481\ttotal: 757ms\tremaining: 503ms\n900:\tlearn: 0.2875812\ttotal: 1.13s\tremaining: 125ms\n999:\tlearn: 0.2727378\ttotal: 1.26s\tremaining: 0us\nLearning rate set to 0.014015\n0:\tlearn: 0.6870515\ttotal: 1.72ms\tremaining: 1.72s\n300:\tlearn: 0.3904100\ttotal: 349ms\tremaining: 811ms\n600:\tlearn: 0.3305091\ttotal: 772ms\tremaining: 512ms\n900:\tlearn: 0.2762317\ttotal: 1.15s\tremaining: 126ms\n999:\tlearn: 0.2602299\ttotal: 1.27s\tremaining: 0us\nLearning rate set to 0.014015\n0:\tlearn: 0.6873901\ttotal: 1.78ms\tremaining: 1.78s\n300:\tlearn: 0.3868551\ttotal: 451ms\tremaining: 1.05s\n600:\tlearn: 0.3292907\ttotal: 816ms\tremaining: 541ms\n900:\tlearn: 0.2768058\ttotal: 1.2s\tremaining: 131ms\n999:\tlearn: 0.2611887\ttotal: 1.33s\tremaining: 0us\nLearning rate set to 0.014015\n0:\tlearn: 0.6865794\ttotal: 1.56ms\tremaining: 1.56s\n300:\tlearn: 0.3922975\ttotal: 385ms\tremaining: 895ms\n600:\tlearn: 0.3360764\ttotal: 778ms\tremaining: 516ms\n900:\tlearn: 0.2806592\ttotal: 1.17s\tremaining: 129ms\n999:\tlearn: 0.2650978\ttotal: 1.31s\tremaining: 0us\nLearning rate set to 0.014015\n0:\tlearn: 0.6869342\ttotal: 1.27ms\tremaining: 1.27s\n300:\tlearn: 0.3846303\ttotal: 348ms\tremaining: 808ms\n600:\tlearn: 0.3280159\ttotal: 721ms\tremaining: 479ms\n900:\tlearn: 0.2731611\ttotal: 1.07s\tremaining: 118ms\n999:\tlearn: 0.2594088\ttotal: 1.22s\tremaining: 0us\nLearning rate set to 0.014015\n0:\tlearn: 0.6872911\ttotal: 1.49ms\tremaining: 1.49s\n300:\tlearn: 0.3961241\ttotal: 453ms\tremaining: 1.05s\n600:\tlearn: 0.3431643\ttotal: 915ms\tremaining: 607ms\n900:\tlearn: 0.2920543\ttotal: 1.32s\tremaining: 146ms\n999:\tlearn: 0.2777332\ttotal: 1.45s\tremaining: 0us\nLearning rate set to 0.014015\n0:\tlearn: 0.6861898\ttotal: 2.28ms\tremaining: 2.28s\n300:\tlearn: 0.3658475\ttotal: 383ms\tremaining: 889ms\n600:\tlearn: 0.3093803\ttotal: 762ms\tremaining: 506ms\n900:\tlearn: 0.2592190\ttotal: 1.18s\tremaining: 130ms\n999:\tlearn: 0.2445482\ttotal: 1.31s\tremaining: 0us\nLearning rate set to 0.014015\n0:\tlearn: 0.6865562\ttotal: 1.52ms\tremaining: 1.51s\n300:\tlearn: 0.3878051\ttotal: 415ms\tremaining: 963ms\n600:\tlearn: 0.3344832\ttotal: 848ms\tremaining: 563ms\n900:\tlearn: 0.2794553\ttotal: 1.3s\tremaining: 143ms\n999:\tlearn: 0.2653541\ttotal: 1.43s\tremaining: 0us\nLearning rate set to 0.014015\n0:\tlearn: 0.6863369\ttotal: 1.48ms\tremaining: 1.48s\n300:\tlearn: 0.3780971\ttotal: 387ms\tremaining: 899ms\n600:\tlearn: 0.3201744\ttotal: 754ms\tremaining: 501ms\n900:\tlearn: 0.2677540\ttotal: 1.12s\tremaining: 124ms\n999:\tlearn: 0.2530035\ttotal: 1.25s\tremaining: 0us\nLearning rate set to 0.014015\n0:\tlearn: 0.6866733\ttotal: 1.23ms\tremaining: 1.23s\n300:\tlearn: 0.4069011\ttotal: 372ms\tremaining: 864ms\n600:\tlearn: 0.3489697\ttotal: 767ms\tremaining: 509ms\n900:\tlearn: 0.2898555\ttotal: 1.11s\tremaining: 122ms\n999:\tlearn: 0.2741688\ttotal: 1.23s\tremaining: 0us\nLearning rate set to 0.014015\n0:\tlearn: 0.6859523\ttotal: 2.03ms\tremaining: 2.03s\n300:\tlearn: 0.3871382\ttotal: 362ms\tremaining: 841ms\n600:\tlearn: 0.3333234\ttotal: 726ms\tremaining: 482ms\n"
    },
    {
     "name": "stdout",
     "output_type": "stream",
     "text": "900:\tlearn: 0.2845111\ttotal: 1.09s\tremaining: 120ms\n999:\tlearn: 0.2684235\ttotal: 1.21s\tremaining: 0us\nLearning rate set to 0.014015\n0:\tlearn: 0.6867716\ttotal: 1.35ms\tremaining: 1.35s\n300:\tlearn: 0.4010630\ttotal: 366ms\tremaining: 850ms\n600:\tlearn: 0.3429478\ttotal: 712ms\tremaining: 473ms\n900:\tlearn: 0.2861393\ttotal: 1.08s\tremaining: 118ms\n999:\tlearn: 0.2718094\ttotal: 1.19s\tremaining: 0us\nLearning rate set to 0.014015\n0:\tlearn: 0.6856441\ttotal: 1.63ms\tremaining: 1.63s\n300:\tlearn: 0.3841718\ttotal: 423ms\tremaining: 983ms\n600:\tlearn: 0.3275741\ttotal: 798ms\tremaining: 530ms\n900:\tlearn: 0.2731622\ttotal: 1.17s\tremaining: 128ms\n999:\tlearn: 0.2589187\ttotal: 1.3s\tremaining: 0us\nLearning rate set to 0.014015\n0:\tlearn: 0.6871831\ttotal: 1.49ms\tremaining: 1.49s\n300:\tlearn: 0.4010812\ttotal: 387ms\tremaining: 900ms\n600:\tlearn: 0.3437762\ttotal: 767ms\tremaining: 509ms\n900:\tlearn: 0.2875385\ttotal: 1.14s\tremaining: 125ms\n999:\tlearn: 0.2707905\ttotal: 1.25s\tremaining: 0us\nLearning rate set to 0.014015\n0:\tlearn: 0.6870776\ttotal: 1.61ms\tremaining: 1.61s\n300:\tlearn: 0.3981376\ttotal: 367ms\tremaining: 852ms\n600:\tlearn: 0.3437397\ttotal: 728ms\tremaining: 483ms\n900:\tlearn: 0.2920139\ttotal: 1.08s\tremaining: 119ms\n999:\tlearn: 0.2769849\ttotal: 1.2s\tremaining: 0us\nLearning rate set to 0.014015\n0:\tlearn: 0.6871141\ttotal: 1.39ms\tremaining: 1.39s\n300:\tlearn: 0.3810030\ttotal: 366ms\tremaining: 850ms\n600:\tlearn: 0.3242310\ttotal: 726ms\tremaining: 482ms\n900:\tlearn: 0.2755360\ttotal: 1.07s\tremaining: 118ms\n999:\tlearn: 0.2617970\ttotal: 1.19s\tremaining: 0us\nLearning rate set to 0.014015\n0:\tlearn: 0.6866302\ttotal: 1.35ms\tremaining: 1.35s\n300:\tlearn: 0.3901620\ttotal: 359ms\tremaining: 833ms\n600:\tlearn: 0.3309801\ttotal: 725ms\tremaining: 482ms\n900:\tlearn: 0.2770195\ttotal: 1.16s\tremaining: 127ms\n999:\tlearn: 0.2623675\ttotal: 1.29s\tremaining: 0us\nLearning rate set to 0.014015\n0:\tlearn: 0.6853821\ttotal: 1.48ms\tremaining: 1.47s\n300:\tlearn: 0.3694084\ttotal: 412ms\tremaining: 956ms\n600:\tlearn: 0.3142328\ttotal: 784ms\tremaining: 521ms\n900:\tlearn: 0.2633093\ttotal: 1.18s\tremaining: 130ms\n999:\tlearn: 0.2497266\ttotal: 1.29s\tremaining: 0us\nLearning rate set to 0.014015\n0:\tlearn: 0.6864563\ttotal: 1.34ms\tremaining: 1.34s\n300:\tlearn: 0.3823146\ttotal: 363ms\tremaining: 843ms\n600:\tlearn: 0.3251292\ttotal: 760ms\tremaining: 504ms\n900:\tlearn: 0.2736480\ttotal: 1.14s\tremaining: 126ms\n999:\tlearn: 0.2586483\ttotal: 1.28s\tremaining: 0us\nLearning rate set to 0.014015\n0:\tlearn: 0.6864699\ttotal: 1.81ms\tremaining: 1.8s\n300:\tlearn: 0.3721709\ttotal: 380ms\tremaining: 882ms\n600:\tlearn: 0.3143367\ttotal: 763ms\tremaining: 507ms\n900:\tlearn: 0.2619621\ttotal: 1.17s\tremaining: 129ms\n999:\tlearn: 0.2471640\ttotal: 1.32s\tremaining: 0us\nLearning rate set to 0.014015\n0:\tlearn: 0.6871167\ttotal: 1.42ms\tremaining: 1.42s\n300:\tlearn: 0.4043892\ttotal: 395ms\tremaining: 918ms\n600:\tlearn: 0.3432289\ttotal: 746ms\tremaining: 495ms\n900:\tlearn: 0.2859642\ttotal: 1.11s\tremaining: 122ms\n999:\tlearn: 0.2707230\ttotal: 1.25s\tremaining: 0us\nLearning rate set to 0.014015\n0:\tlearn: 0.6875221\ttotal: 1.79ms\tremaining: 1.79s\n300:\tlearn: 0.3914212\ttotal: 384ms\tremaining: 892ms\n600:\tlearn: 0.3326181\ttotal: 745ms\tremaining: 495ms\n900:\tlearn: 0.2762047\ttotal: 1.14s\tremaining: 125ms\n999:\tlearn: 0.2613173\ttotal: 1.26s\tremaining: 0us\nLearning rate set to 0.014015\n0:\tlearn: 0.6856376\ttotal: 1.39ms\tremaining: 1.38s\n300:\tlearn: 0.3782336\ttotal: 358ms\tremaining: 831ms\n600:\tlearn: 0.3244790\ttotal: 699ms\tremaining: 464ms\n900:\tlearn: 0.2751170\ttotal: 1.06s\tremaining: 117ms\n999:\tlearn: 0.2612521\ttotal: 1.19s\tremaining: 0us\nLearning rate set to 0.014015\n0:\tlearn: 0.6861203\ttotal: 1.45ms\tremaining: 1.45s\n300:\tlearn: 0.3763263\ttotal: 348ms\tremaining: 809ms\n600:\tlearn: 0.3207902\ttotal: 709ms\tremaining: 471ms\n900:\tlearn: 0.2653869\ttotal: 1.09s\tremaining: 120ms\n999:\tlearn: 0.2510815\ttotal: 1.23s\tremaining: 0us\nLearning rate set to 0.014015\n0:\tlearn: 0.6862820\ttotal: 1.36ms\tremaining: 1.36s\n300:\tlearn: 0.3892232\ttotal: 357ms\tremaining: 828ms\n600:\tlearn: 0.3324892\ttotal: 714ms\tremaining: 474ms\n900:\tlearn: 0.2813532\ttotal: 1.07s\tremaining: 118ms\n999:\tlearn: 0.2646385\ttotal: 1.2s\tremaining: 0us\nLearning rate set to 0.014015\n0:\tlearn: 0.6866801\ttotal: 1.43ms\tremaining: 1.43s\n300:\tlearn: 0.3928905\ttotal: 356ms\tremaining: 827ms\n600:\tlearn: 0.3375541\ttotal: 713ms\tremaining: 473ms\n900:\tlearn: 0.2813778\ttotal: 1.06s\tremaining: 116ms\n999:\tlearn: 0.2661543\ttotal: 1.19s\tremaining: 0us\nLearning rate set to 0.014015\n0:\tlearn: 0.6854410\ttotal: 1.29ms\tremaining: 1.29s\n300:\tlearn: 0.3544049\ttotal: 373ms\tremaining: 867ms\n600:\tlearn: 0.2985978\ttotal: 756ms\tremaining: 502ms\n900:\tlearn: 0.2457732\ttotal: 1.13s\tremaining: 124ms\n999:\tlearn: 0.2321720\ttotal: 1.25s\tremaining: 0us\nLearning rate set to 0.014015\n0:\tlearn: 0.6866823\ttotal: 1.34ms\tremaining: 1.33s\n300:\tlearn: 0.3833779\ttotal: 346ms\tremaining: 803ms\n600:\tlearn: 0.3254561\ttotal: 705ms\tremaining: 468ms\n900:\tlearn: 0.2729432\ttotal: 1.06s\tremaining: 116ms\n999:\tlearn: 0.2589969\ttotal: 1.18s\tremaining: 0us\nLearning rate set to 0.014015\n0:\tlearn: 0.6866725\ttotal: 1.34ms\tremaining: 1.34s\n300:\tlearn: 0.3885180\ttotal: 364ms\tremaining: 846ms\n600:\tlearn: 0.3316135\ttotal: 721ms\tremaining: 478ms\n900:\tlearn: 0.2775937\ttotal: 1.08s\tremaining: 118ms\n999:\tlearn: 0.2617514\ttotal: 1.19s\tremaining: 0us\nLearning rate set to 0.014015\n0:\tlearn: 0.6863624\ttotal: 1.35ms\tremaining: 1.35s\n300:\tlearn: 0.3919555\ttotal: 373ms\tremaining: 867ms\n600:\tlearn: 0.3362340\ttotal: 762ms\tremaining: 506ms\n900:\tlearn: 0.2847932\ttotal: 1.14s\tremaining: 125ms\n999:\tlearn: 0.2677073\ttotal: 1.27s\tremaining: 0us\nLearning rate set to 0.014015\n0:\tlearn: 0.6859079\ttotal: 1.24ms\tremaining: 1.24s\n300:\tlearn: 0.3792189\ttotal: 355ms\tremaining: 823ms\n600:\tlearn: 0.3248783\ttotal: 730ms\tremaining: 485ms\n900:\tlearn: 0.2683087\ttotal: 1.08s\tremaining: 119ms\n999:\tlearn: 0.2548473\ttotal: 1.22s\tremaining: 0us\nLearning rate set to 0.014015\n0:\tlearn: 0.6866068\ttotal: 1.35ms\tremaining: 1.35s\n300:\tlearn: 0.3922781\ttotal: 354ms\tremaining: 821ms\n600:\tlearn: 0.3329200\ttotal: 752ms\tremaining: 499ms\n900:\tlearn: 0.2805607\ttotal: 1.12s\tremaining: 123ms\n999:\tlearn: 0.2674010\ttotal: 1.25s\tremaining: 0us\nBaggingClassifier, model = catboosting\n              precision    recall  f1-score   support\n\n           0       0.83      0.92      0.87       455\n           1       0.75      0.55      0.63       188\n\n    accuracy                           0.81       643\n   macro avg       0.79      0.74      0.75       643\nweighted avg       0.81      0.81      0.80       643\n\nLearning rate set to 0.014015\n0:\tlearn: 0.6866991\ttotal: 1.38ms\tremaining: 1.37s\n300:\tlearn: 0.4136882\ttotal: 377ms\tremaining: 875ms\n600:\tlearn: 0.3765618\ttotal: 738ms\tremaining: 490ms\n900:\tlearn: 0.3378480\ttotal: 1.08s\tremaining: 119ms\n999:\tlearn: 0.3262513\ttotal: 1.21s\tremaining: 0us\n"
    },
    {
     "name": "stderr",
     "output_type": "stream",
     "text": "/opt/conda/lib/python3.9/site-packages/sklearn/base.py:77: ExperimentalWarning: OptunaSearchCV is experimental (supported from v0.17.0). The interface can change in the future.\n  new_object = klass(**new_object_params)\n\u001B[32m[I 2023-03-09 12:59:03,805]\u001B[0m A new study created in memory with name: no-name-b47d5489-46be-49fb-bcbf-5dd64cd323a0\u001B[0m\n\u001B[32m[I 2023-03-09 12:59:03,858]\u001B[0m Trial 0 finished with value: 0.7879585666028867 and parameters: {'max_depth': 12, 'min_samples_split': 51, 'min_samples_leaf': 20, 'n_estimators': 3}. Best is trial 0 with value: 0.7879585666028867.\u001B[0m\n\u001B[32m[I 2023-03-09 12:59:03,934]\u001B[0m Trial 1 finished with value: 0.780165591855054 and parameters: {'max_depth': 29, 'min_samples_split': 36, 'min_samples_leaf': 44, 'n_estimators': 6}. Best is trial 0 with value: 0.7879585666028867.\u001B[0m\n"
    },
    {
     "name": "stdout",
     "output_type": "stream",
     "text": "Catboost\n              precision    recall  f1-score   support\n\n           0       0.83      0.93      0.88       455\n           1       0.76      0.55      0.64       188\n\n    accuracy                           0.82       643\n   macro avg       0.80      0.74      0.76       643\nweighted avg       0.81      0.82      0.81       643\n\n"
    },
    {
     "name": "stderr",
     "output_type": "stream",
     "text": "\u001B[32m[I 2023-03-09 12:59:04,151]\u001B[0m Trial 2 finished with value: 0.7767628091559777 and parameters: {'max_depth': 17, 'min_samples_split': 13, 'min_samples_leaf': 60, 'n_estimators': 18}. Best is trial 0 with value: 0.7879585666028867.\u001B[0m\n\u001B[32m[I 2023-03-09 12:59:04,181]\u001B[0m Trial 3 finished with value: 0.7767628091559775 and parameters: {'max_depth': 17, 'min_samples_split': 46, 'min_samples_leaf': 10, 'n_estimators': 1}. Best is trial 0 with value: 0.7879585666028867.\u001B[0m\n\u001B[32m[I 2023-03-09 12:59:04,248]\u001B[0m Trial 4 finished with value: 0.7782214820589138 and parameters: {'max_depth': 7, 'min_samples_split': 93, 'min_samples_leaf': 40, 'n_estimators': 5}. Best is trial 0 with value: 0.7879585666028867.\u001B[0m\n\u001B[32m[I 2023-03-09 12:59:04,448]\u001B[0m Trial 5 finished with value: 0.7787092811754424 and parameters: {'max_depth': 5, 'min_samples_split': 54, 'min_samples_leaf': 83, 'n_estimators': 17}. Best is trial 0 with value: 0.7879585666028867.\u001B[0m\n\u001B[32m[I 2023-03-09 12:59:04,627]\u001B[0m Trial 6 finished with value: 0.781627808092977 and parameters: {'max_depth': 21, 'min_samples_split': 75, 'min_samples_leaf': 53, 'n_estimators': 14}. Best is trial 0 with value: 0.7879585666028867.\u001B[0m\n\u001B[32m[I 2023-03-09 12:59:04,709]\u001B[0m Trial 7 finished with value: 0.8049748423215931 and parameters: {'max_depth': 9, 'min_samples_split': 45, 'min_samples_leaf': 7, 'n_estimators': 4}. Best is trial 7 with value: 0.8049748423215931.\u001B[0m\n\u001B[32m[I 2023-03-09 12:59:04,753]\u001B[0m Trial 8 finished with value: 0.7694647201946473 and parameters: {'max_depth': 12, 'min_samples_split': 85, 'min_samples_leaf': 56, 'n_estimators': 2}. Best is trial 7 with value: 0.8049748423215931.\u001B[0m\n\u001B[32m[I 2023-03-09 12:59:04,921]\u001B[0m Trial 9 finished with value: 0.7762761911511113 and parameters: {'max_depth': 14, 'min_samples_split': 49, 'min_samples_leaf': 75, 'n_estimators': 14}. Best is trial 7 with value: 0.8049748423215931.\u001B[0m\n/opt/conda/lib/python3.9/site-packages/sklearn/base.py:77: ExperimentalWarning: OptunaSearchCV is experimental (supported from v0.17.0). The interface can change in the future.\n  new_object = klass(**new_object_params)\n\u001B[32m[I 2023-03-09 12:59:04,941]\u001B[0m A new study created in memory with name: no-name-b3c1eaae-a450-48dc-b756-6d8850005f42\u001B[0m\n\u001B[32m[I 2023-03-09 12:59:05,121]\u001B[0m Trial 0 finished with value: 0.7714182788840857 and parameters: {'max_depth': 2, 'min_samples_split': 93, 'min_samples_leaf': 56, 'n_estimators': 18}. Best is trial 0 with value: 0.7714182788840857.\u001B[0m\n\u001B[32m[I 2023-03-09 12:59:05,322]\u001B[0m Trial 1 finished with value: 0.7748305104764605 and parameters: {'max_depth': 30, 'min_samples_split': 21, 'min_samples_leaf': 95, 'n_estimators': 18}. Best is trial 1 with value: 0.7748305104764605.\u001B[0m\n\u001B[32m[I 2023-03-09 12:59:05,475]\u001B[0m Trial 2 finished with value: 0.7840608981173081 and parameters: {'max_depth': 24, 'min_samples_split': 32, 'min_samples_leaf': 34, 'n_estimators': 11}. Best is trial 2 with value: 0.7840608981173081.\u001B[0m\n\u001B[32m[I 2023-03-09 12:59:05,667]\u001B[0m Trial 3 finished with value: 0.775314766258002 and parameters: {'max_depth': 10, 'min_samples_split': 94, 'min_samples_leaf': 81, 'n_estimators': 14}. Best is trial 2 with value: 0.7840608981173081.\u001B[0m\n\u001B[32m[I 2023-03-09 12:59:05,841]\u001B[0m Trial 4 finished with value: 0.7777454940590083 and parameters: {'max_depth': 21, 'min_samples_split': 86, 'min_samples_leaf': 43, 'n_estimators': 13}. Best is trial 2 with value: 0.7840608981173081.\u001B[0m\n\u001B[32m[I 2023-03-09 12:59:05,963]\u001B[0m Trial 5 finished with value: 0.7743403491366074 and parameters: {'max_depth': 22, 'min_samples_split': 31, 'min_samples_leaf': 97, 'n_estimators': 9}. Best is trial 2 with value: 0.7840608981173081.\u001B[0m\n\u001B[32m[I 2023-03-09 12:59:05,987]\u001B[0m Trial 6 finished with value: 0.7276321073394278 and parameters: {'max_depth': 29, 'min_samples_split': 100, 'min_samples_leaf': 88, 'n_estimators': 1}. Best is trial 2 with value: 0.7840608981173081.\u001B[0m\n\u001B[32m[I 2023-03-09 12:59:06,049]\u001B[0m Trial 7 finished with value: 0.7757954787045567 and parameters: {'max_depth': 20, 'min_samples_split': 82, 'min_samples_leaf': 91, 'n_estimators': 4}. Best is trial 2 with value: 0.7840608981173081.\u001B[0m\n\u001B[32m[I 2023-03-09 12:59:06,260]\u001B[0m Trial 8 finished with value: 0.8030212836321546 and parameters: {'max_depth': 26, 'min_samples_split': 27, 'min_samples_leaf': 20, 'n_estimators': 16}. Best is trial 8 with value: 0.8030212836321546.\u001B[0m\n\u001B[32m[I 2023-03-09 12:59:06,367]\u001B[0m Trial 9 finished with value: 0.7743415302482697 and parameters: {'max_depth': 8, 'min_samples_split': 79, 'min_samples_leaf': 94, 'n_estimators': 9}. Best is trial 8 with value: 0.8030212836321546.\u001B[0m\n/opt/conda/lib/python3.9/site-packages/sklearn/base.py:77: ExperimentalWarning: OptunaSearchCV is experimental (supported from v0.17.0). The interface can change in the future.\n  new_object = klass(**new_object_params)\n\u001B[32m[I 2023-03-09 12:59:06,406]\u001B[0m A new study created in memory with name: no-name-499fbc82-16a0-4c4f-8510-0db59a6cdb65\u001B[0m\n\u001B[32m[I 2023-03-09 12:59:06,648]\u001B[0m Trial 0 finished with value: 0.7928023055299648 and parameters: {'max_depth': 8, 'min_samples_split': 60, 'min_samples_leaf': 34, 'n_estimators': 20}. Best is trial 0 with value: 0.7928023055299648.\u001B[0m\n\u001B[32m[I 2023-03-09 12:59:06,712]\u001B[0m Trial 1 finished with value: 0.7874589563697352 and parameters: {'max_depth': 14, 'min_samples_split': 80, 'min_samples_leaf': 33, 'n_estimators': 4}. Best is trial 0 with value: 0.7928023055299648.\u001B[0m\n\u001B[32m[I 2023-03-09 12:59:06,828]\u001B[0m Trial 2 finished with value: 0.7889117237143599 and parameters: {'max_depth': 6, 'min_samples_split': 97, 'min_samples_leaf': 12, 'n_estimators': 9}. Best is trial 0 with value: 0.7928023055299648.\u001B[0m\n\u001B[32m[I 2023-03-09 12:59:06,905]\u001B[0m Trial 3 finished with value: 0.7757860298112584 and parameters: {'max_depth': 24, 'min_samples_split': 56, 'min_samples_leaf': 51, 'n_estimators': 5}. Best is trial 0 with value: 0.7928023055299648.\u001B[0m\n\u001B[32m[I 2023-03-09 12:59:06,930]\u001B[0m Trial 4 finished with value: 0.7422188363687903 and parameters: {'max_depth': 14, 'min_samples_split': 5, 'min_samples_leaf': 87, 'n_estimators': 1}. Best is trial 0 with value: 0.7928023055299648.\u001B[0m\n\u001B[32m[I 2023-03-09 12:59:07,161]\u001B[0m Trial 5 finished with value: 0.7928093921999386 and parameters: {'max_depth': 9, 'min_samples_split': 85, 'min_samples_leaf': 51, 'n_estimators': 19}. Best is trial 5 with value: 0.7928093921999386.\u001B[0m\n\u001B[32m[I 2023-03-09 12:59:07,345]\u001B[0m Trial 6 finished with value: 0.797180686462098 and parameters: {'max_depth': 15, 'min_samples_split': 42, 'min_samples_leaf': 31, 'n_estimators': 15}. Best is trial 6 with value: 0.797180686462098.\u001B[0m\n\u001B[32m[I 2023-03-09 12:59:07,591]\u001B[0m Trial 7 finished with value: 0.7942633406562256 and parameters: {'max_depth': 26, 'min_samples_split': 94, 'min_samples_leaf': 20, 'n_estimators': 18}. Best is trial 6 with value: 0.797180686462098.\u001B[0m\n\u001B[32m[I 2023-03-09 12:59:07,695]\u001B[0m Trial 8 finished with value: 0.7646044457042969 and parameters: {'max_depth': 12, 'min_samples_split': 57, 'min_samples_leaf': 73, 'n_estimators': 8}. Best is trial 6 with value: 0.797180686462098.\u001B[0m\n\u001B[32m[I 2023-03-09 12:59:07,782]\u001B[0m Trial 9 finished with value: 0.7825939574327356 and parameters: {'max_depth': 24, 'min_samples_split': 49, 'min_samples_leaf': 55, 'n_estimators': 6}. Best is trial 6 with value: 0.797180686462098.\u001B[0m\n/opt/conda/lib/python3.9/site-packages/sklearn/base.py:77: ExperimentalWarning: OptunaSearchCV is experimental (supported from v0.17.0). The interface can change in the future.\n  new_object = klass(**new_object_params)\n\u001B[32m[I 2023-03-09 12:59:07,826]\u001B[0m A new study created in memory with name: no-name-fd2e95cb-27e6-48b5-9601-8f5e4a18be87\u001B[0m\n\u001B[32m[I 2023-03-09 12:59:07,866]\u001B[0m Trial 0 finished with value: 0.7543665698155103 and parameters: {'max_depth': 3, 'min_samples_split': 19, 'min_samples_leaf': 47, 'n_estimators': 2}. Best is trial 0 with value: 0.7543665698155103.\u001B[0m\n\u001B[32m[I 2023-03-09 12:59:07,897]\u001B[0m Trial 1 finished with value: 0.7504736257765809 and parameters: {'max_depth': 2, 'min_samples_split': 66, 'min_samples_leaf': 49, 'n_estimators': 2}. Best is trial 0 with value: 0.7543665698155103.\u001B[0m\n"
    },
    {
     "name": "stderr",
     "output_type": "stream",
     "text": "\u001B[32m[I 2023-03-09 12:59:08,045]\u001B[0m Trial 2 finished with value: 0.7300533862471358 and parameters: {'max_depth': 1, 'min_samples_split': 72, 'min_samples_leaf': 68, 'n_estimators': 14}. Best is trial 0 with value: 0.7543665698155103.\u001B[0m\n\u001B[32m[I 2023-03-09 12:59:08,128]\u001B[0m Trial 3 finished with value: 0.7621441901117332 and parameters: {'max_depth': 30, 'min_samples_split': 40, 'min_samples_leaf': 76, 'n_estimators': 6}. Best is trial 3 with value: 0.7621441901117332.\u001B[0m\n\u001B[32m[I 2023-03-09 12:59:08,162]\u001B[0m Trial 4 finished with value: 0.7723690737722345 and parameters: {'max_depth': 8, 'min_samples_split': 67, 'min_samples_leaf': 4, 'n_estimators': 1}. Best is trial 4 with value: 0.7723690737722345.\u001B[0m\n\u001B[32m[I 2023-03-09 12:59:08,277]\u001B[0m Trial 5 finished with value: 0.7718789124323813 and parameters: {'max_depth': 2, 'min_samples_split': 83, 'min_samples_leaf': 27, 'n_estimators': 11}. Best is trial 4 with value: 0.7723690737722345.\u001B[0m\n\u001B[32m[I 2023-03-09 12:59:08,511]\u001B[0m Trial 6 finished with value: 0.7966881628989204 and parameters: {'max_depth': 15, 'min_samples_split': 2, 'min_samples_leaf': 19, 'n_estimators': 17}. Best is trial 6 with value: 0.7966881628989204.\u001B[0m\n\u001B[32m[I 2023-03-09 12:59:08,679]\u001B[0m Trial 7 finished with value: 0.7738230222285215 and parameters: {'max_depth': 23, 'min_samples_split': 84, 'min_samples_leaf': 74, 'n_estimators': 13}. Best is trial 6 with value: 0.7966881628989204.\u001B[0m\n\u001B[32m[I 2023-03-09 12:59:08,702]\u001B[0m Trial 8 finished with value: 0.7431767179269129 and parameters: {'max_depth': 29, 'min_samples_split': 52, 'min_samples_leaf': 71, 'n_estimators': 1}. Best is trial 6 with value: 0.7966881628989204.\u001B[0m\n\u001B[32m[I 2023-03-09 12:59:08,873]\u001B[0m Trial 9 finished with value: 0.7932806557531948 and parameters: {'max_depth': 28, 'min_samples_split': 32, 'min_samples_leaf': 23, 'n_estimators': 12}. Best is trial 6 with value: 0.7966881628989204.\u001B[0m\n/opt/conda/lib/python3.9/site-packages/sklearn/base.py:77: ExperimentalWarning: OptunaSearchCV is experimental (supported from v0.17.0). The interface can change in the future.\n  new_object = klass(**new_object_params)\n\u001B[32m[I 2023-03-09 12:59:08,934]\u001B[0m A new study created in memory with name: no-name-8e19e4f2-c08a-4a66-963e-daa12d4d0b60\u001B[0m\n\u001B[32m[I 2023-03-09 12:59:09,098]\u001B[0m Trial 0 finished with value: 0.7738360144568068 and parameters: {'max_depth': 12, 'min_samples_split': 45, 'min_samples_leaf': 61, 'n_estimators': 11}. Best is trial 0 with value: 0.7738360144568068.\u001B[0m\n\u001B[32m[I 2023-03-09 12:59:09,255]\u001B[0m Trial 1 finished with value: 0.7748068882432146 and parameters: {'max_depth': 20, 'min_samples_split': 2, 'min_samples_leaf': 82, 'n_estimators': 11}. Best is trial 1 with value: 0.7748068882432146.\u001B[0m\n\u001B[32m[I 2023-03-09 12:59:09,318]\u001B[0m Trial 2 finished with value: 0.7714100111024496 and parameters: {'max_depth': 16, 'min_samples_split': 56, 'min_samples_leaf': 58, 'n_estimators': 3}. Best is trial 1 with value: 0.7748068882432146.\u001B[0m\n\u001B[32m[I 2023-03-09 12:59:09,468]\u001B[0m Trial 3 finished with value: 0.771881274655706 and parameters: {'max_depth': 3, 'min_samples_split': 24, 'min_samples_leaf': 87, 'n_estimators': 13}. Best is trial 1 with value: 0.7748068882432146.\u001B[0m\n\u001B[32m[I 2023-03-09 12:59:09,518]\u001B[0m Trial 4 finished with value: 0.8171154890983393 and parameters: {'max_depth': 13, 'min_samples_split': 27, 'min_samples_leaf': 4, 'n_estimators': 3}. Best is trial 4 with value: 0.8171154890983393.\u001B[0m\n\u001B[32m[I 2023-03-09 12:59:09,746]\u001B[0m Trial 5 finished with value: 0.7971854109087472 and parameters: {'max_depth': 17, 'min_samples_split': 73, 'min_samples_leaf': 17, 'n_estimators': 16}. Best is trial 4 with value: 0.8171154890983393.\u001B[0m\n\u001B[32m[I 2023-03-09 12:59:09,932]\u001B[0m Trial 6 finished with value: 0.7923227741950724 and parameters: {'max_depth': 9, 'min_samples_split': 77, 'min_samples_leaf': 30, 'n_estimators': 15}. Best is trial 4 with value: 0.8171154890983393.\u001B[0m\n\u001B[32m[I 2023-03-09 12:59:10,081]\u001B[0m Trial 7 finished with value: 0.7962109937873527 and parameters: {'max_depth': 21, 'min_samples_split': 46, 'min_samples_leaf': 20, 'n_estimators': 10}. Best is trial 4 with value: 0.8171154890983393.\u001B[0m\n\u001B[32m[I 2023-03-09 12:59:10,187]\u001B[0m Trial 8 finished with value: 0.7743238135733352 and parameters: {'max_depth': 9, 'min_samples_split': 60, 'min_samples_leaf': 59, 'n_estimators': 8}. Best is trial 4 with value: 0.8171154890983393.\u001B[0m\n\u001B[32m[I 2023-03-09 12:59:10,395]\u001B[0m Trial 9 finished with value: 0.780643942078284 and parameters: {'max_depth': 30, 'min_samples_split': 59, 'min_samples_leaf': 44, 'n_estimators': 16}. Best is trial 4 with value: 0.8171154890983393.\u001B[0m\n/opt/conda/lib/python3.9/site-packages/sklearn/base.py:77: ExperimentalWarning: OptunaSearchCV is experimental (supported from v0.17.0). The interface can change in the future.\n  new_object = klass(**new_object_params)\n\u001B[32m[I 2023-03-09 12:59:10,411]\u001B[0m A new study created in memory with name: no-name-c8731c26-f544-4402-afef-811d7853d5b0\u001B[0m\n\u001B[32m[I 2023-03-09 12:59:10,483]\u001B[0m Trial 0 finished with value: 0.7772447027141947 and parameters: {'max_depth': 3, 'min_samples_split': 19, 'min_samples_leaf': 31, 'n_estimators': 5}. Best is trial 0 with value: 0.7772447027141947.\u001B[0m\n\u001B[32m[I 2023-03-09 12:59:10,680]\u001B[0m Trial 1 finished with value: 0.7879455743746014 and parameters: {'max_depth': 12, 'min_samples_split': 11, 'min_samples_leaf': 69, 'n_estimators': 15}. Best is trial 1 with value: 0.7879455743746014.\u001B[0m\n\u001B[32m[I 2023-03-09 12:59:10,736]\u001B[0m Trial 2 finished with value: 0.7801608674084048 and parameters: {'max_depth': 3, 'min_samples_split': 99, 'min_samples_leaf': 44, 'n_estimators': 4}. Best is trial 1 with value: 0.7879455743746014.\u001B[0m\n\u001B[32m[I 2023-03-09 12:59:10,958]\u001B[0m Trial 3 finished with value: 0.7830758509909528 and parameters: {'max_depth': 23, 'min_samples_split': 35, 'min_samples_leaf': 80, 'n_estimators': 18}. Best is trial 1 with value: 0.7879455743746014.\u001B[0m\n\u001B[32m[I 2023-03-09 12:59:11,010]\u001B[0m Trial 4 finished with value: 0.7738478255734297 and parameters: {'max_depth': 27, 'min_samples_split': 8, 'min_samples_leaf': 64, 'n_estimators': 4}. Best is trial 1 with value: 0.7879455743746014.\u001B[0m\n\u001B[32m[I 2023-03-09 12:59:11,063]\u001B[0m Trial 5 finished with value: 0.7918337939668817 and parameters: {'max_depth': 16, 'min_samples_split': 26, 'min_samples_leaf': 26, 'n_estimators': 2}. Best is trial 5 with value: 0.7918337939668817.\u001B[0m\n\u001B[32m[I 2023-03-09 12:59:11,099]\u001B[0m Trial 6 finished with value: 0.7952377577776203 and parameters: {'max_depth': 28, 'min_samples_split': 72, 'min_samples_leaf': 7, 'n_estimators': 2}. Best is trial 6 with value: 0.7952377577776203.\u001B[0m\n\u001B[32m[I 2023-03-09 12:59:11,323]\u001B[0m Trial 7 finished with value: 0.8010818982826636 and parameters: {'max_depth': 11, 'min_samples_split': 93, 'min_samples_leaf': 25, 'n_estimators': 18}. Best is trial 7 with value: 0.8010818982826636.\u001B[0m\n\u001B[32m[I 2023-03-09 12:59:11,542]\u001B[0m Trial 8 finished with value: 0.793297191316467 and parameters: {'max_depth': 19, 'min_samples_split': 19, 'min_samples_leaf': 60, 'n_estimators': 18}. Best is trial 7 with value: 0.8010818982826636.\u001B[0m\n\u001B[32m[I 2023-03-09 12:59:11,727]\u001B[0m Trial 9 finished with value: 0.7986452649233459 and parameters: {'max_depth': 13, 'min_samples_split': 41, 'min_samples_leaf': 32, 'n_estimators': 15}. Best is trial 7 with value: 0.8010818982826636.\u001B[0m\n/opt/conda/lib/python3.9/site-packages/sklearn/base.py:77: ExperimentalWarning: OptunaSearchCV is experimental (supported from v0.17.0). The interface can change in the future.\n  new_object = klass(**new_object_params)\n\u001B[32m[I 2023-03-09 12:59:11,782]\u001B[0m A new study created in memory with name: no-name-822a3267-e3f0-4005-be7b-b2ba74a238fa\u001B[0m\n\u001B[32m[I 2023-03-09 12:59:11,975]\u001B[0m Trial 0 finished with value: 0.8059232749864172 and parameters: {'max_depth': 12, 'min_samples_split': 33, 'min_samples_leaf': 20, 'n_estimators': 17}. Best is trial 0 with value: 0.8059232749864172.\u001B[0m\n\u001B[32m[I 2023-03-09 12:59:12,027]\u001B[0m Trial 1 finished with value: 0.7752840573547822 and parameters: {'max_depth': 4, 'min_samples_split': 72, 'min_samples_leaf': 83, 'n_estimators': 5}. Best is trial 0 with value: 0.8059232749864172.\u001B[0m\n"
    },
    {
     "name": "stderr",
     "output_type": "stream",
     "text": "\u001B[32m[I 2023-03-09 12:59:12,086]\u001B[0m Trial 2 finished with value: 0.7874436019181255 and parameters: {'max_depth': 12, 'min_samples_split': 36, 'min_samples_leaf': 20, 'n_estimators': 4}. Best is trial 0 with value: 0.8059232749864172.\u001B[0m\n\u001B[32m[I 2023-03-09 12:59:12,109]\u001B[0m Trial 3 finished with value: 0.7762596555878392 and parameters: {'max_depth': 30, 'min_samples_split': 87, 'min_samples_leaf': 32, 'n_estimators': 1}. Best is trial 0 with value: 0.8059232749864172.\u001B[0m\n\u001B[32m[I 2023-03-09 12:59:12,313]\u001B[0m Trial 4 finished with value: 0.7786880211655209 and parameters: {'max_depth': 23, 'min_samples_split': 31, 'min_samples_leaf': 96, 'n_estimators': 20}. Best is trial 0 with value: 0.8059232749864172.\u001B[0m\n\u001B[32m[I 2023-03-09 12:59:12,434]\u001B[0m Trial 5 finished with value: 0.8049512200883472 and parameters: {'max_depth': 24, 'min_samples_split': 85, 'min_samples_leaf': 30, 'n_estimators': 10}. Best is trial 0 with value: 0.8059232749864172.\u001B[0m\n\u001B[32m[I 2023-03-09 12:59:12,584]\u001B[0m Trial 6 finished with value: 0.7641012921361586 and parameters: {'max_depth': 3, 'min_samples_split': 36, 'min_samples_leaf': 99, 'n_estimators': 16}. Best is trial 0 with value: 0.8059232749864172.\u001B[0m\n\u001B[32m[I 2023-03-09 12:59:12,751]\u001B[0m Trial 7 finished with value: 0.7908475657288639 and parameters: {'max_depth': 20, 'min_samples_split': 89, 'min_samples_leaf': 43, 'n_estimators': 15}. Best is trial 0 with value: 0.8059232749864172.\u001B[0m\n\u001B[32m[I 2023-03-09 12:59:12,935]\u001B[0m Trial 8 finished with value: 0.8127359270545437 and parameters: {'max_depth': 28, 'min_samples_split': 71, 'min_samples_leaf': 1, 'n_estimators': 16}. Best is trial 8 with value: 0.8127359270545437.\u001B[0m\n\u001B[32m[I 2023-03-09 12:59:13,131]\u001B[0m Trial 9 finished with value: 0.7903644910589847 and parameters: {'max_depth': 7, 'min_samples_split': 86, 'min_samples_leaf': 49, 'n_estimators': 19}. Best is trial 8 with value: 0.8127359270545437.\u001B[0m\n/opt/conda/lib/python3.9/site-packages/sklearn/base.py:77: ExperimentalWarning: OptunaSearchCV is experimental (supported from v0.17.0). The interface can change in the future.\n  new_object = klass(**new_object_params)\n\u001B[32m[I 2023-03-09 12:59:13,181]\u001B[0m A new study created in memory with name: no-name-e3787877-6a28-4141-b0a2-9857aba7e470\u001B[0m\n\u001B[32m[I 2023-03-09 12:59:13,360]\u001B[0m Trial 0 finished with value: 0.8044752320884416 and parameters: {'max_depth': 20, 'min_samples_split': 59, 'min_samples_leaf': 7, 'n_estimators': 15}. Best is trial 0 with value: 0.8044752320884416.\u001B[0m\n\u001B[32m[I 2023-03-09 12:59:13,406]\u001B[0m Trial 1 finished with value: 0.7675241537334939 and parameters: {'max_depth': 7, 'min_samples_split': 60, 'min_samples_leaf': 67, 'n_estimators': 4}. Best is trial 0 with value: 0.8044752320884416.\u001B[0m\n\u001B[32m[I 2023-03-09 12:59:13,593]\u001B[0m Trial 2 finished with value: 0.7859991023551367 and parameters: {'max_depth': 18, 'min_samples_split': 20, 'min_samples_leaf': 44, 'n_estimators': 17}. Best is trial 0 with value: 0.8044752320884416.\u001B[0m\n\u001B[32m[I 2023-03-09 12:59:13,753]\u001B[0m Trial 3 finished with value: 0.7908617390688116 and parameters: {'max_depth': 20, 'min_samples_split': 66, 'min_samples_leaf': 32, 'n_estimators': 13}. Best is trial 0 with value: 0.8044752320884416.\u001B[0m\n\u001B[32m[I 2023-03-09 12:59:13,787]\u001B[0m Trial 4 finished with value: 0.7675217915101694 and parameters: {'max_depth': 8, 'min_samples_split': 11, 'min_samples_leaf': 83, 'n_estimators': 2}. Best is trial 0 with value: 0.8044752320884416.\u001B[0m\n\u001B[32m[I 2023-03-09 12:59:13,875]\u001B[0m Trial 5 finished with value: 0.7786974700588194 and parameters: {'max_depth': 25, 'min_samples_split': 96, 'min_samples_leaf': 36, 'n_estimators': 7}. Best is trial 0 with value: 0.8044752320884416.\u001B[0m\n\u001B[32m[I 2023-03-09 12:59:14,018]\u001B[0m Trial 6 finished with value: 0.7718907235490043 and parameters: {'max_depth': 11, 'min_samples_split': 82, 'min_samples_leaf': 68, 'n_estimators': 14}. Best is trial 0 with value: 0.8044752320884416.\u001B[0m\n\u001B[32m[I 2023-03-09 12:59:14,102]\u001B[0m Trial 7 finished with value: 0.8083575461224104 and parameters: {'max_depth': 27, 'min_samples_split': 84, 'min_samples_leaf': 2, 'n_estimators': 6}. Best is trial 7 with value: 0.8083575461224104.\u001B[0m\n\u001B[32m[I 2023-03-09 12:59:14,144]\u001B[0m Trial 8 finished with value: 0.7864798148016913 and parameters: {'max_depth': 27, 'min_samples_split': 97, 'min_samples_leaf': 20, 'n_estimators': 2}. Best is trial 7 with value: 0.8083575461224104.\u001B[0m\n\u001B[32m[I 2023-03-09 12:59:14,356]\u001B[0m Trial 9 finished with value: 0.8141957810691423 and parameters: {'max_depth': 12, 'min_samples_split': 28, 'min_samples_leaf': 6, 'n_estimators': 17}. Best is trial 9 with value: 0.8141957810691423.\u001B[0m\n/opt/conda/lib/python3.9/site-packages/sklearn/base.py:77: ExperimentalWarning: OptunaSearchCV is experimental (supported from v0.17.0). The interface can change in the future.\n  new_object = klass(**new_object_params)\n\u001B[32m[I 2023-03-09 12:59:14,397]\u001B[0m A new study created in memory with name: no-name-eb146c29-1af1-40fa-916a-83d2369c5158\u001B[0m\n\u001B[32m[I 2023-03-09 12:59:14,497]\u001B[0m Trial 0 finished with value: 0.77577658091796 and parameters: {'max_depth': 14, 'min_samples_split': 64, 'min_samples_leaf': 83, 'n_estimators': 9}. Best is trial 0 with value: 0.77577658091796.\u001B[0m\n\u001B[32m[I 2023-03-09 12:59:14,610]\u001B[0m Trial 1 finished with value: 0.7928011244183025 and parameters: {'max_depth': 18, 'min_samples_split': 48, 'min_samples_leaf': 28, 'n_estimators': 9}. Best is trial 1 with value: 0.7928011244183025.\u001B[0m\n\u001B[32m[I 2023-03-09 12:59:14,727]\u001B[0m Trial 2 finished with value: 0.7952318522193088 and parameters: {'max_depth': 20, 'min_samples_split': 85, 'min_samples_leaf': 20, 'n_estimators': 10}. Best is trial 2 with value: 0.7952318522193088.\u001B[0m\n\u001B[32m[I 2023-03-09 12:59:14,918]\u001B[0m Trial 3 finished with value: 0.7923156875250987 and parameters: {'max_depth': 21, 'min_samples_split': 60, 'min_samples_leaf': 48, 'n_estimators': 16}. Best is trial 2 with value: 0.7952318522193088.\u001B[0m\n\u001B[32m[I 2023-03-09 12:59:15,125]\u001B[0m Trial 4 finished with value: 0.7908534712871755 and parameters: {'max_depth': 30, 'min_samples_split': 35, 'min_samples_leaf': 52, 'n_estimators': 20}. Best is trial 2 with value: 0.7952318522193088.\u001B[0m\n\u001B[32m[I 2023-03-09 12:59:15,305]\u001B[0m Trial 5 finished with value: 0.780153780738431 and parameters: {'max_depth': 6, 'min_samples_split': 11, 'min_samples_leaf': 69, 'n_estimators': 18}. Best is trial 2 with value: 0.7952318522193088.\u001B[0m\n\u001B[32m[I 2023-03-09 12:59:15,487]\u001B[0m Trial 6 finished with value: 0.7976649422436398 and parameters: {'max_depth': 20, 'min_samples_split': 67, 'min_samples_leaf': 14, 'n_estimators': 15}. Best is trial 6 with value: 0.7976649422436398.\u001B[0m\n\u001B[32m[I 2023-03-09 12:59:15,627]\u001B[0m Trial 7 finished with value: 0.78988377861243 and parameters: {'max_depth': 27, 'min_samples_split': 38, 'min_samples_leaf': 45, 'n_estimators': 13}. Best is trial 6 with value: 0.7976649422436398.\u001B[0m\n\u001B[32m[I 2023-03-09 12:59:15,763]\u001B[0m Trial 8 finished with value: 0.7782084898306285 and parameters: {'max_depth': 12, 'min_samples_split': 64, 'min_samples_leaf': 78, 'n_estimators': 12}. Best is trial 6 with value: 0.7976649422436398.\u001B[0m\n\u001B[32m[I 2023-03-09 12:59:15,889]\u001B[0m Trial 9 finished with value: 0.7767498169276924 and parameters: {'max_depth': 28, 'min_samples_split': 71, 'min_samples_leaf': 90, 'n_estimators': 11}. Best is trial 6 with value: 0.7976649422436398.\u001B[0m\n/opt/conda/lib/python3.9/site-packages/sklearn/base.py:77: ExperimentalWarning: OptunaSearchCV is experimental (supported from v0.17.0). The interface can change in the future.\n  new_object = klass(**new_object_params)\n\u001B[32m[I 2023-03-09 12:59:15,929]\u001B[0m A new study created in memory with name: no-name-6361d3fd-9eac-407b-b58b-5b64e3c16a45\u001B[0m\n\u001B[32m[I 2023-03-09 12:59:16,071]\u001B[0m Trial 0 finished with value: 0.7806380365199727 and parameters: {'max_depth': 20, 'min_samples_split': 79, 'min_samples_leaf': 67, 'n_estimators': 11}. Best is trial 0 with value: 0.7806380365199727.\u001B[0m\n\u001B[32m[I 2023-03-09 12:59:16,211]\u001B[0m Trial 1 finished with value: 0.7845333427822266 and parameters: {'max_depth': 15, 'min_samples_split': 34, 'min_samples_leaf': 88, 'n_estimators': 11}. Best is trial 1 with value: 0.7845333427822266.\u001B[0m\n"
    },
    {
     "name": "stderr",
     "output_type": "stream",
     "text": "\u001B[32m[I 2023-03-09 12:59:16,296]\u001B[0m Trial 2 finished with value: 0.7850175985637683 and parameters: {'max_depth': 27, 'min_samples_split': 100, 'min_samples_leaf': 67, 'n_estimators': 6}. Best is trial 2 with value: 0.7850175985637683.\u001B[0m\n\u001B[32m[I 2023-03-09 12:59:16,470]\u001B[0m Trial 3 finished with value: 0.838521956865802 and parameters: {'max_depth': 24, 'min_samples_split': 11, 'min_samples_leaf': 6, 'n_estimators': 12}. Best is trial 3 with value: 0.838521956865802.\u001B[0m\n\u001B[32m[I 2023-03-09 12:59:16,636]\u001B[0m Trial 4 finished with value: 0.7918278884085703 and parameters: {'max_depth': 7, 'min_samples_split': 22, 'min_samples_leaf': 37, 'n_estimators': 14}. Best is trial 3 with value: 0.838521956865802.\u001B[0m\n\u001B[32m[I 2023-03-09 12:59:16,752]\u001B[0m Trial 5 finished with value: 0.8137174308459121 and parameters: {'max_depth': 8, 'min_samples_split': 32, 'min_samples_leaf': 8, 'n_estimators': 8}. Best is trial 3 with value: 0.838521956865802.\u001B[0m\n\u001B[32m[I 2023-03-09 12:59:16,980]\u001B[0m Trial 6 finished with value: 0.8647839746769659 and parameters: {'max_depth': 23, 'min_samples_split': 2, 'min_samples_leaf': 3, 'n_estimators': 17}. Best is trial 6 with value: 0.8647839746769659.\u001B[0m\n\u001B[32m[I 2023-03-09 12:59:17,164]\u001B[0m Trial 7 finished with value: 0.7937731793163726 and parameters: {'max_depth': 16, 'min_samples_split': 77, 'min_samples_leaf': 25, 'n_estimators': 15}. Best is trial 6 with value: 0.8647839746769659.\u001B[0m\n\u001B[32m[I 2023-03-09 12:59:17,263]\u001B[0m Trial 8 finished with value: 0.7898790541657809 and parameters: {'max_depth': 29, 'min_samples_split': 61, 'min_samples_leaf': 35, 'n_estimators': 8}. Best is trial 6 with value: 0.8647839746769659.\u001B[0m\n\u001B[32m[I 2023-03-09 12:59:17,406]\u001B[0m Trial 9 finished with value: 0.8224730115985166 and parameters: {'max_depth': 14, 'min_samples_split': 28, 'min_samples_leaf': 4, 'n_estimators': 11}. Best is trial 6 with value: 0.8647839746769659.\u001B[0m\n/opt/conda/lib/python3.9/site-packages/sklearn/base.py:77: ExperimentalWarning: OptunaSearchCV is experimental (supported from v0.17.0). The interface can change in the future.\n  new_object = klass(**new_object_params)\n\u001B[32m[I 2023-03-09 12:59:17,464]\u001B[0m A new study created in memory with name: no-name-8e400f00-8875-47f4-99d5-40c9ed25d144\u001B[0m\n\u001B[32m[I 2023-03-09 12:59:17,530]\u001B[0m Trial 0 finished with value: 0.7271289537712896 and parameters: {'max_depth': 1, 'min_samples_split': 75, 'min_samples_leaf': 39, 'n_estimators': 7}. Best is trial 0 with value: 0.7271289537712896.\u001B[0m\n\u001B[32m[I 2023-03-09 12:59:17,728]\u001B[0m Trial 1 finished with value: 0.7772269860392602 and parameters: {'max_depth': 3, 'min_samples_split': 92, 'min_samples_leaf': 41, 'n_estimators': 20}. Best is trial 1 with value: 0.7772269860392602.\u001B[0m\n\u001B[32m[I 2023-03-09 12:59:17,756]\u001B[0m Trial 2 finished with value: 0.762653249238183 and parameters: {'max_depth': 18, 'min_samples_split': 56, 'min_samples_leaf': 53, 'n_estimators': 1}. Best is trial 1 with value: 0.7772269860392602.\u001B[0m\n\u001B[32m[I 2023-03-09 12:59:17,814]\u001B[0m Trial 3 finished with value: 0.7548531878203766 and parameters: {'max_depth': 28, 'min_samples_split': 3, 'min_samples_leaf': 84, 'n_estimators': 5}. Best is trial 1 with value: 0.7772269860392602.\u001B[0m\n\u001B[32m[I 2023-03-09 12:59:17,920]\u001B[0m Trial 4 finished with value: 0.798148016913519 and parameters: {'max_depth': 13, 'min_samples_split': 21, 'min_samples_leaf': 23, 'n_estimators': 8}. Best is trial 4 with value: 0.798148016913519.\u001B[0m\n\u001B[32m[I 2023-03-09 12:59:18,126]\u001B[0m Trial 5 finished with value: 0.7923109630784494 and parameters: {'max_depth': 25, 'min_samples_split': 62, 'min_samples_leaf': 51, 'n_estimators': 20}. Best is trial 4 with value: 0.798148016913519.\u001B[0m\n\u001B[32m[I 2023-03-09 12:59:18,246]\u001B[0m Trial 6 finished with value: 0.7538775895873195 and parameters: {'max_depth': 16, 'min_samples_split': 72, 'min_samples_leaf': 95, 'n_estimators': 11}. Best is trial 4 with value: 0.798148016913519.\u001B[0m\n\u001B[32m[I 2023-03-09 12:59:18,305]\u001B[0m Trial 7 finished with value: 0.7884215623745069 and parameters: {'max_depth': 26, 'min_samples_split': 5, 'min_samples_leaf': 22, 'n_estimators': 4}. Best is trial 4 with value: 0.798148016913519.\u001B[0m\n\u001B[32m[I 2023-03-09 12:59:18,466]\u001B[0m Trial 8 finished with value: 0.7898766919424562 and parameters: {'max_depth': 15, 'min_samples_split': 80, 'min_samples_leaf': 56, 'n_estimators': 15}. Best is trial 4 with value: 0.798148016913519.\u001B[0m\n\u001B[32m[I 2023-03-09 12:59:18,619]\u001B[0m Trial 9 finished with value: 0.8336534145938156 and parameters: {'max_depth': 25, 'min_samples_split': 23, 'min_samples_leaf': 1, 'n_estimators': 12}. Best is trial 9 with value: 0.8336534145938156.\u001B[0m\n/opt/conda/lib/python3.9/site-packages/sklearn/base.py:77: ExperimentalWarning: OptunaSearchCV is experimental (supported from v0.17.0). The interface can change in the future.\n  new_object = klass(**new_object_params)\n\u001B[32m[I 2023-03-09 12:59:18,663]\u001B[0m A new study created in memory with name: no-name-daf4822e-e4f3-4b9a-b30f-45cfbcab8538\u001B[0m\n\u001B[32m[I 2023-03-09 12:59:18,686]\u001B[0m Trial 0 finished with value: 0.7563213096166113 and parameters: {'max_depth': 29, 'min_samples_split': 16, 'min_samples_leaf': 87, 'n_estimators': 1}. Best is trial 0 with value: 0.7563213096166113.\u001B[0m\n\u001B[32m[I 2023-03-09 12:59:18,819]\u001B[0m Trial 1 finished with value: 0.7383188056598871 and parameters: {'max_depth': 1, 'min_samples_split': 14, 'min_samples_leaf': 89, 'n_estimators': 15}. Best is trial 0 with value: 0.7563213096166113.\u001B[0m\n\u001B[32m[I 2023-03-09 12:59:18,925]\u001B[0m Trial 2 finished with value: 0.7699359837479035 and parameters: {'max_depth': 4, 'min_samples_split': 42, 'min_samples_leaf': 96, 'n_estimators': 10}. Best is trial 2 with value: 0.7699359837479035.\u001B[0m\n\u001B[32m[I 2023-03-09 12:59:19,066]\u001B[0m Trial 3 finished with value: 0.758260694966102 and parameters: {'max_depth': 2, 'min_samples_split': 99, 'min_samples_leaf': 100, 'n_estimators': 15}. Best is trial 2 with value: 0.7699359837479035.\u001B[0m\n\u001B[32m[I 2023-03-09 12:59:19,239]\u001B[0m Trial 4 finished with value: 0.7986440838116835 and parameters: {'max_depth': 19, 'min_samples_split': 65, 'min_samples_leaf': 29, 'n_estimators': 15}. Best is trial 4 with value: 0.7986440838116835.\u001B[0m\n\u001B[32m[I 2023-03-09 12:59:19,408]\u001B[0m Trial 5 finished with value: 0.7519405664611531 and parameters: {'max_depth': 1, 'min_samples_split': 35, 'min_samples_leaf': 43, 'n_estimators': 20}. Best is trial 4 with value: 0.7986440838116835.\u001B[0m\n\u001B[32m[I 2023-03-09 12:59:19,510]\u001B[0m Trial 6 finished with value: 0.788915267049347 and parameters: {'max_depth': 14, 'min_samples_split': 65, 'min_samples_leaf': 71, 'n_estimators': 8}. Best is trial 4 with value: 0.7986440838116835.\u001B[0m\n\u001B[32m[I 2023-03-09 12:59:19,629]\u001B[0m Trial 7 finished with value: 0.7811281978598257 and parameters: {'max_depth': 4, 'min_samples_split': 76, 'min_samples_leaf': 87, 'n_estimators': 12}. Best is trial 4 with value: 0.7986440838116835.\u001B[0m\n\u001B[32m[I 2023-03-09 12:59:19,737]\u001B[0m Trial 8 finished with value: 0.7713934755391775 and parameters: {'max_depth': 13, 'min_samples_split': 63, 'min_samples_leaf': 99, 'n_estimators': 10}. Best is trial 4 with value: 0.7986440838116835.\u001B[0m\n\u001B[32m[I 2023-03-09 12:59:19,870]\u001B[0m Trial 9 finished with value: 0.7942645217678879 and parameters: {'max_depth': 30, 'min_samples_split': 74, 'min_samples_leaf': 33, 'n_estimators': 9}. Best is trial 4 with value: 0.7986440838116835.\u001B[0m\n/opt/conda/lib/python3.9/site-packages/sklearn/base.py:77: ExperimentalWarning: OptunaSearchCV is experimental (supported from v0.17.0). The interface can change in the future.\n  new_object = klass(**new_object_params)\n\u001B[32m[I 2023-03-09 12:59:19,916]\u001B[0m A new study created in memory with name: no-name-d98ae359-7d18-4f7e-88de-34578af6bd74\u001B[0m\n\u001B[32m[I 2023-03-09 12:59:19,961]\u001B[0m Trial 0 finished with value: 0.8015661540642052 and parameters: {'max_depth': 18, 'min_samples_split': 22, 'min_samples_leaf': 15, 'n_estimators': 2}. Best is trial 0 with value: 0.8015661540642052.\u001B[0m\n\u001B[32m[I 2023-03-09 12:59:20,015]\u001B[0m Trial 1 finished with value: 0.7709186686509343 and parameters: {'max_depth': 25, 'min_samples_split': 23, 'min_samples_leaf': 68, 'n_estimators': 3}. Best is trial 0 with value: 0.8015661540642052.\u001B[0m\n"
    },
    {
     "name": "stderr",
     "output_type": "stream",
     "text": "\u001B[32m[I 2023-03-09 12:59:20,108]\u001B[0m Trial 2 finished with value: 0.7743261757966599 and parameters: {'max_depth': 17, 'min_samples_split': 14, 'min_samples_leaf': 59, 'n_estimators': 5}. Best is trial 0 with value: 0.8015661540642052.\u001B[0m\n\u001B[32m[I 2023-03-09 12:59:20,151]\u001B[0m Trial 3 finished with value: 0.766058394160584 and parameters: {'max_depth': 27, 'min_samples_split': 62, 'min_samples_leaf': 81, 'n_estimators': 2}. Best is trial 0 with value: 0.8015661540642052.\u001B[0m\n\u001B[32m[I 2023-03-09 12:59:20,381]\u001B[0m Trial 4 finished with value: 0.7825845085394374 and parameters: {'max_depth': 29, 'min_samples_split': 30, 'min_samples_leaf': 52, 'n_estimators': 20}. Best is trial 0 with value: 0.8015661540642052.\u001B[0m\n\u001B[32m[I 2023-03-09 12:59:20,590]\u001B[0m Trial 5 finished with value: 0.7806380365199725 and parameters: {'max_depth': 20, 'min_samples_split': 91, 'min_samples_leaf': 55, 'n_estimators': 19}. Best is trial 0 with value: 0.8015661540642052.\u001B[0m\n\u001B[32m[I 2023-03-09 12:59:20,657]\u001B[0m Trial 6 finished with value: 0.759259915432405 and parameters: {'max_depth': 27, 'min_samples_split': 51, 'min_samples_leaf': 87, 'n_estimators': 5}. Best is trial 0 with value: 0.8015661540642052.\u001B[0m\n\u001B[32m[I 2023-03-09 12:59:20,812]\u001B[0m Trial 7 finished with value: 0.7991177095882646 and parameters: {'max_depth': 18, 'min_samples_split': 5, 'min_samples_leaf': 21, 'n_estimators': 13}. Best is trial 0 with value: 0.8015661540642052.\u001B[0m\n\u001B[32m[I 2023-03-09 12:59:20,894]\u001B[0m Trial 8 finished with value: 0.7018555264214679 and parameters: {'max_depth': 1, 'min_samples_split': 8, 'min_samples_leaf': 79, 'n_estimators': 8}. Best is trial 0 with value: 0.8015661540642052.\u001B[0m\n\u001B[32m[I 2023-03-09 12:59:21,090]\u001B[0m Trial 9 finished with value: 0.7733482153402782 and parameters: {'max_depth': 29, 'min_samples_split': 84, 'min_samples_leaf': 76, 'n_estimators': 18}. Best is trial 0 with value: 0.8015661540642052.\u001B[0m\n/opt/conda/lib/python3.9/site-packages/sklearn/base.py:77: ExperimentalWarning: OptunaSearchCV is experimental (supported from v0.17.0). The interface can change in the future.\n  new_object = klass(**new_object_params)\n\u001B[32m[I 2023-03-09 12:59:21,104]\u001B[0m A new study created in memory with name: no-name-6f7db468-5c50-4f43-8fce-94ddf4bab44d\u001B[0m\n\u001B[32m[I 2023-03-09 12:59:21,267]\u001B[0m Trial 0 finished with value: 0.7864786336900291 and parameters: {'max_depth': 6, 'min_samples_split': 59, 'min_samples_leaf': 86, 'n_estimators': 16}. Best is trial 0 with value: 0.7864786336900291.\u001B[0m\n\u001B[32m[I 2023-03-09 12:59:21,335]\u001B[0m Trial 1 finished with value: 0.8078780147875181 and parameters: {'max_depth': 12, 'min_samples_split': 82, 'min_samples_leaf': 17, 'n_estimators': 5}. Best is trial 1 with value: 0.8078780147875181.\u001B[0m\n\u001B[32m[I 2023-03-09 12:59:21,463]\u001B[0m Trial 2 finished with value: 0.8141934188458178 and parameters: {'max_depth': 7, 'min_samples_split': 32, 'min_samples_leaf': 11, 'n_estimators': 11}. Best is trial 2 with value: 0.8141934188458178.\u001B[0m\n\u001B[32m[I 2023-03-09 12:59:21,673]\u001B[0m Trial 3 finished with value: 0.7903680343939716 and parameters: {'max_depth': 30, 'min_samples_split': 96, 'min_samples_leaf': 51, 'n_estimators': 19}. Best is trial 2 with value: 0.8141934188458178.\u001B[0m\n\u001B[32m[I 2023-03-09 12:59:21,887]\u001B[0m Trial 4 finished with value: 0.7976637611319773 and parameters: {'max_depth': 12, 'min_samples_split': 66, 'min_samples_leaf': 25, 'n_estimators': 19}. Best is trial 2 with value: 0.8141934188458178.\u001B[0m\n\u001B[32m[I 2023-03-09 12:59:22,063]\u001B[0m Trial 5 finished with value: 0.7913424515153664 and parameters: {'max_depth': 18, 'min_samples_split': 82, 'min_samples_leaf': 60, 'n_estimators': 17}. Best is trial 2 with value: 0.8141934188458178.\u001B[0m\n\u001B[32m[I 2023-03-09 12:59:22,149]\u001B[0m Trial 6 finished with value: 0.7889081803793732 and parameters: {'max_depth': 11, 'min_samples_split': 62, 'min_samples_leaf': 33, 'n_estimators': 6}. Best is trial 2 with value: 0.8141934188458178.\u001B[0m\n\u001B[32m[I 2023-03-09 12:59:22,349]\u001B[0m Trial 7 finished with value: 0.7893983417192262 and parameters: {'max_depth': 28, 'min_samples_split': 77, 'min_samples_leaf': 61, 'n_estimators': 18}. Best is trial 2 with value: 0.8141934188458178.\u001B[0m\n\u001B[32m[I 2023-03-09 12:59:22,400]\u001B[0m Trial 8 finished with value: 0.8292892070016299 and parameters: {'max_depth': 27, 'min_samples_split': 14, 'min_samples_leaf': 2, 'n_estimators': 3}. Best is trial 8 with value: 0.8292892070016299.\u001B[0m\n\u001B[32m[I 2023-03-09 12:59:22,506]\u001B[0m Trial 9 finished with value: 0.8341376703753574 and parameters: {'max_depth': 19, 'min_samples_split': 18, 'min_samples_leaf': 3, 'n_estimators': 8}. Best is trial 9 with value: 0.8341376703753574.\u001B[0m\n/opt/conda/lib/python3.9/site-packages/sklearn/base.py:77: ExperimentalWarning: OptunaSearchCV is experimental (supported from v0.17.0). The interface can change in the future.\n  new_object = klass(**new_object_params)\n\u001B[32m[I 2023-03-09 12:59:22,532]\u001B[0m A new study created in memory with name: no-name-9d085a08-85f6-47f4-ae79-86efb4d98f68\u001B[0m\n\u001B[32m[I 2023-03-09 12:59:22,617]\u001B[0m Trial 0 finished with value: 0.8030094725155317 and parameters: {'max_depth': 15, 'min_samples_split': 72, 'min_samples_leaf': 31, 'n_estimators': 7}. Best is trial 0 with value: 0.8030094725155317.\u001B[0m\n\u001B[32m[I 2023-03-09 12:59:22,813]\u001B[0m Trial 1 finished with value: 0.8025240356223277 and parameters: {'max_depth': 11, 'min_samples_split': 100, 'min_samples_leaf': 24, 'n_estimators': 18}. Best is trial 0 with value: 0.8030094725155317.\u001B[0m\n\u001B[32m[I 2023-03-09 12:59:22,967]\u001B[0m Trial 2 finished with value: 0.8107953605933904 and parameters: {'max_depth': 26, 'min_samples_split': 56, 'min_samples_leaf': 23, 'n_estimators': 13}. Best is trial 2 with value: 0.8107953605933904.\u001B[0m\n\u001B[32m[I 2023-03-09 12:59:23,006]\u001B[0m Trial 3 finished with value: 0.8180840006614225 and parameters: {'max_depth': 7, 'min_samples_split': 3, 'min_samples_leaf': 9, 'n_estimators': 3}. Best is trial 3 with value: 0.8180840006614225.\u001B[0m\n\u001B[32m[I 2023-03-09 12:59:23,150]\u001B[0m Trial 4 finished with value: 0.7962062693407035 and parameters: {'max_depth': 4, 'min_samples_split': 18, 'min_samples_leaf': 12, 'n_estimators': 14}. Best is trial 3 with value: 0.8180840006614225.\u001B[0m\n\u001B[32m[I 2023-03-09 12:59:23,214]\u001B[0m Trial 5 finished with value: 0.7825868707627619 and parameters: {'max_depth': 10, 'min_samples_split': 26, 'min_samples_leaf': 57, 'n_estimators': 5}. Best is trial 3 with value: 0.8180840006614225.\u001B[0m\n\u001B[32m[I 2023-03-09 12:59:23,305]\u001B[0m Trial 6 finished with value: 0.7947405097677934 and parameters: {'max_depth': 11, 'min_samples_split': 87, 'min_samples_leaf': 37, 'n_estimators': 7}. Best is trial 3 with value: 0.8180840006614225.\u001B[0m\n\u001B[32m[I 2023-03-09 12:59:23,413]\u001B[0m Trial 7 finished with value: 0.7830734887676281 and parameters: {'max_depth': 24, 'min_samples_split': 16, 'min_samples_leaf': 67, 'n_estimators': 10}. Best is trial 3 with value: 0.8180840006614225.\u001B[0m\n\u001B[32m[I 2023-03-09 12:59:23,619]\u001B[0m Trial 8 finished with value: 0.8098209434719958 and parameters: {'max_depth': 29, 'min_samples_split': 7, 'min_samples_leaf': 25, 'n_estimators': 18}. Best is trial 3 with value: 0.8180840006614225.\u001B[0m\n\u001B[32m[I 2023-03-09 12:59:23,694]\u001B[0m Trial 9 finished with value: 0.7684855786266033 and parameters: {'max_depth': 4, 'min_samples_split': 17, 'min_samples_leaf': 93, 'n_estimators': 6}. Best is trial 3 with value: 0.8180840006614225.\u001B[0m\n/opt/conda/lib/python3.9/site-packages/sklearn/base.py:77: ExperimentalWarning: OptunaSearchCV is experimental (supported from v0.17.0). The interface can change in the future.\n  new_object = klass(**new_object_params)\n\u001B[32m[I 2023-03-09 12:59:23,706]\u001B[0m A new study created in memory with name: no-name-acfb780b-83da-427b-bb50-59ae8260a89d\u001B[0m\n\u001B[32m[I 2023-03-09 12:59:23,766]\u001B[0m Trial 0 finished with value: 0.7801596862967426 and parameters: {'max_depth': 8, 'min_samples_split': 9, 'min_samples_leaf': 52, 'n_estimators': 4}. Best is trial 0 with value: 0.7801596862967426.\u001B[0m\n\u001B[32m[I 2023-03-09 12:59:23,865]\u001B[0m Trial 1 finished with value: 0.790859376845487 and parameters: {'max_depth': 22, 'min_samples_split': 70, 'min_samples_leaf': 56, 'n_estimators': 8}. Best is trial 1 with value: 0.790859376845487.\u001B[0m\n"
    },
    {
     "name": "stderr",
     "output_type": "stream",
     "text": "\u001B[32m[I 2023-03-09 12:59:23,989]\u001B[0m Trial 2 finished with value: 0.7898861408357546 and parameters: {'max_depth': 12, 'min_samples_split': 90, 'min_samples_leaf': 40, 'n_estimators': 11}. Best is trial 1 with value: 0.790859376845487.\u001B[0m\n\u001B[32m[I 2023-03-09 12:59:24,044]\u001B[0m Trial 3 finished with value: 0.7660489452672855 and parameters: {'max_depth': 3, 'min_samples_split': 54, 'min_samples_leaf': 47, 'n_estimators': 4}. Best is trial 1 with value: 0.790859376845487.\u001B[0m\n\u001B[32m[I 2023-03-09 12:59:24,131]\u001B[0m Trial 4 finished with value: 0.7796718871802141 and parameters: {'max_depth': 13, 'min_samples_split': 14, 'min_samples_leaf': 86, 'n_estimators': 8}. Best is trial 1 with value: 0.790859376845487.\u001B[0m\n\u001B[32m[I 2023-03-09 12:59:24,158]\u001B[0m Trial 5 finished with value: 0.7645890912526869 and parameters: {'max_depth': 2, 'min_samples_split': 16, 'min_samples_leaf': 68, 'n_estimators': 1}. Best is trial 1 with value: 0.790859376845487.\u001B[0m\n\u001B[32m[I 2023-03-09 12:59:24,345]\u001B[0m Trial 6 finished with value: 0.8224730115985166 and parameters: {'max_depth': 8, 'min_samples_split': 16, 'min_samples_leaf': 1, 'n_estimators': 17}. Best is trial 6 with value: 0.8224730115985166.\u001B[0m\n\u001B[32m[I 2023-03-09 12:59:24,479]\u001B[0m Trial 7 finished with value: 0.7991283395932252 and parameters: {'max_depth': 10, 'min_samples_split': 80, 'min_samples_leaf': 14, 'n_estimators': 12}. Best is trial 6 with value: 0.8224730115985166.\u001B[0m\n\u001B[32m[I 2023-03-09 12:59:24,593]\u001B[0m Trial 8 finished with value: 0.7777265962724116 and parameters: {'max_depth': 4, 'min_samples_split': 81, 'min_samples_leaf': 97, 'n_estimators': 11}. Best is trial 6 with value: 0.8224730115985166.\u001B[0m\n\u001B[32m[I 2023-03-09 12:59:24,713]\u001B[0m Trial 9 finished with value: 0.7874530508114237 and parameters: {'max_depth': 15, 'min_samples_split': 67, 'min_samples_leaf': 36, 'n_estimators': 11}. Best is trial 6 with value: 0.8224730115985166.\u001B[0m\n/opt/conda/lib/python3.9/site-packages/sklearn/base.py:77: ExperimentalWarning: OptunaSearchCV is experimental (supported from v0.17.0). The interface can change in the future.\n  new_object = klass(**new_object_params)\n\u001B[32m[I 2023-03-09 12:59:24,758]\u001B[0m A new study created in memory with name: no-name-1a6f462f-cb84-418d-9fd4-90096d9217e9\u001B[0m\n\u001B[32m[I 2023-03-09 12:59:24,837]\u001B[0m Trial 0 finished with value: 0.7738277466751706 and parameters: {'max_depth': 26, 'min_samples_split': 15, 'min_samples_leaf': 94, 'n_estimators': 6}. Best is trial 0 with value: 0.7738277466751706.\u001B[0m\n\u001B[32m[I 2023-03-09 12:59:24,983]\u001B[0m Trial 1 finished with value: 0.8088606996905489 and parameters: {'max_depth': 21, 'min_samples_split': 99, 'min_samples_leaf': 11, 'n_estimators': 10}. Best is trial 1 with value: 0.8088606996905489.\u001B[0m\n\u001B[32m[I 2023-03-09 12:59:25,164]\u001B[0m Trial 2 finished with value: 0.8137233364042237 and parameters: {'max_depth': 11, 'min_samples_split': 2, 'min_samples_leaf': 17, 'n_estimators': 14}. Best is trial 2 with value: 0.8137233364042237.\u001B[0m\n\u001B[32m[I 2023-03-09 12:59:25,204]\u001B[0m Trial 3 finished with value: 0.77577658091796 and parameters: {'max_depth': 15, 'min_samples_split': 43, 'min_samples_leaf': 73, 'n_estimators': 3}. Best is trial 2 with value: 0.8137233364042237.\u001B[0m\n\u001B[32m[I 2023-03-09 12:59:25,332]\u001B[0m Trial 4 finished with value: 0.808865424137198 and parameters: {'max_depth': 13, 'min_samples_split': 26, 'min_samples_leaf': 22, 'n_estimators': 10}. Best is trial 2 with value: 0.8137233364042237.\u001B[0m\n\u001B[32m[I 2023-03-09 12:59:25,480]\u001B[0m Trial 5 finished with value: 0.7796695249568895 and parameters: {'max_depth': 21, 'min_samples_split': 34, 'min_samples_leaf': 88, 'n_estimators': 14}. Best is trial 2 with value: 0.8137233364042237.\u001B[0m\n\u001B[32m[I 2023-03-09 12:59:25,510]\u001B[0m Trial 6 finished with value: 0.7757742186946353 and parameters: {'max_depth': 18, 'min_samples_split': 61, 'min_samples_leaf': 80, 'n_estimators': 2}. Best is trial 2 with value: 0.8137233364042237.\u001B[0m\n\u001B[32m[I 2023-03-09 12:59:25,672]\u001B[0m Trial 7 finished with value: 0.8044823187584154 and parameters: {'max_depth': 4, 'min_samples_split': 61, 'min_samples_leaf': 14, 'n_estimators': 15}. Best is trial 2 with value: 0.8137233364042237.\u001B[0m\n\u001B[32m[I 2023-03-09 12:59:25,693]\u001B[0m Trial 8 finished with value: 0.7611780407719745 and parameters: {'max_depth': 17, 'min_samples_split': 31, 'min_samples_leaf': 99, 'n_estimators': 1}. Best is trial 2 with value: 0.8137233364042237.\u001B[0m\n\u001B[32m[I 2023-03-09 12:59:25,821]\u001B[0m Trial 9 finished with value: 0.7796683438452272 and parameters: {'max_depth': 13, 'min_samples_split': 96, 'min_samples_leaf': 91, 'n_estimators': 13}. Best is trial 2 with value: 0.8137233364042237.\u001B[0m\n/opt/conda/lib/python3.9/site-packages/sklearn/base.py:77: ExperimentalWarning: OptunaSearchCV is experimental (supported from v0.17.0). The interface can change in the future.\n  new_object = klass(**new_object_params)\n\u001B[32m[I 2023-03-09 12:59:25,867]\u001B[0m A new study created in memory with name: no-name-246135d2-5556-4991-8aaf-3d9a7dd3cebb\u001B[0m\n\u001B[32m[I 2023-03-09 12:59:26,006]\u001B[0m Trial 0 finished with value: 0.7679918739517634 and parameters: {'max_depth': 28, 'min_samples_split': 51, 'min_samples_leaf': 95, 'n_estimators': 13}. Best is trial 0 with value: 0.7679918739517634.\u001B[0m\n\u001B[32m[I 2023-03-09 12:59:26,031]\u001B[0m Trial 1 finished with value: 0.7636075874613185 and parameters: {'max_depth': 16, 'min_samples_split': 59, 'min_samples_leaf': 28, 'n_estimators': 1}. Best is trial 0 with value: 0.7679918739517634.\u001B[0m\n\u001B[32m[I 2023-03-09 12:59:26,194]\u001B[0m Trial 2 finished with value: 0.7889093614910353 and parameters: {'max_depth': 10, 'min_samples_split': 32, 'min_samples_leaf': 53, 'n_estimators': 14}. Best is trial 2 with value: 0.7889093614910353.\u001B[0m\n\u001B[32m[I 2023-03-09 12:59:26,306]\u001B[0m Trial 3 finished with value: 0.7962050882290412 and parameters: {'max_depth': 4, 'min_samples_split': 69, 'min_samples_leaf': 23, 'n_estimators': 10}. Best is trial 3 with value: 0.7962050882290412.\u001B[0m\n\u001B[32m[I 2023-03-09 12:59:26,483]\u001B[0m Trial 4 finished with value: 0.7835565634375075 and parameters: {'max_depth': 19, 'min_samples_split': 61, 'min_samples_leaf': 73, 'n_estimators': 17}. Best is trial 3 with value: 0.7962050882290412.\u001B[0m\n\u001B[32m[I 2023-03-09 12:59:26,600]\u001B[0m Trial 5 finished with value: 0.7791805447286987 and parameters: {'max_depth': 29, 'min_samples_split': 96, 'min_samples_leaf': 73, 'n_estimators': 10}. Best is trial 3 with value: 0.7962050882290412.\u001B[0m\n\u001B[32m[I 2023-03-09 12:59:26,724]\u001B[0m Trial 6 finished with value: 0.7767439113693808 and parameters: {'max_depth': 10, 'min_samples_split': 70, 'min_samples_leaf': 78, 'n_estimators': 11}. Best is trial 3 with value: 0.7962050882290412.\u001B[0m\n\u001B[32m[I 2023-03-09 12:59:26,865]\u001B[0m Trial 7 finished with value: 0.7864762714667045 and parameters: {'max_depth': 9, 'min_samples_split': 17, 'min_samples_leaf': 46, 'n_estimators': 11}. Best is trial 3 with value: 0.7962050882290412.\u001B[0m\n\u001B[32m[I 2023-03-09 12:59:27,025]\u001B[0m Trial 8 finished with value: 0.7859896534618382 and parameters: {'max_depth': 20, 'min_samples_split': 5, 'min_samples_leaf': 64, 'n_estimators': 16}. Best is trial 3 with value: 0.7962050882290412.\u001B[0m\n\u001B[32m[I 2023-03-09 12:59:27,094]\u001B[0m Trial 9 finished with value: 0.7782037653839794 and parameters: {'max_depth': 17, 'min_samples_split': 53, 'min_samples_leaf': 67, 'n_estimators': 4}. Best is trial 3 with value: 0.7962050882290412.\u001B[0m\n/opt/conda/lib/python3.9/site-packages/sklearn/base.py:77: ExperimentalWarning: OptunaSearchCV is experimental (supported from v0.17.0). The interface can change in the future.\n  new_object = klass(**new_object_params)\n\u001B[32m[I 2023-03-09 12:59:27,117]\u001B[0m A new study created in memory with name: no-name-ca8dae55-cceb-4b77-a3d6-4f61eb6c9f71\u001B[0m\n\u001B[32m[I 2023-03-09 12:59:27,276]\u001B[0m Trial 0 finished with value: 0.7971712375687998 and parameters: {'max_depth': 10, 'min_samples_split': 60, 'min_samples_leaf': 39, 'n_estimators': 13}. Best is trial 0 with value: 0.7971712375687998.\u001B[0m\n\u001B[32m[I 2023-03-09 12:59:27,394]\u001B[0m Trial 1 finished with value: 0.8069071410011102 and parameters: {'max_depth': 25, 'min_samples_split': 83, 'min_samples_leaf': 4, 'n_estimators': 9}. Best is trial 1 with value: 0.8069071410011102.\u001B[0m\n"
    },
    {
     "name": "stderr",
     "output_type": "stream",
     "text": "\u001B[32m[I 2023-03-09 12:59:27,510]\u001B[0m Trial 2 finished with value: 0.7820919849762596 and parameters: {'max_depth': 5, 'min_samples_split': 71, 'min_samples_leaf': 74, 'n_estimators': 11}. Best is trial 1 with value: 0.8069071410011102.\u001B[0m\n\u001B[32m[I 2023-03-09 12:59:27,576]\u001B[0m Trial 3 finished with value: 0.7728509673304514 and parameters: {'max_depth': 13, 'min_samples_split': 53, 'min_samples_leaf': 86, 'n_estimators': 5}. Best is trial 1 with value: 0.8069071410011102.\u001B[0m\n\u001B[32m[I 2023-03-09 12:59:27,643]\u001B[0m Trial 4 finished with value: 0.8044693265301301 and parameters: {'max_depth': 6, 'min_samples_split': 22, 'min_samples_leaf': 1, 'n_estimators': 5}. Best is trial 1 with value: 0.8069071410011102.\u001B[0m\n\u001B[32m[I 2023-03-09 12:59:27,880]\u001B[0m Trial 5 finished with value: 0.8176068315498547 and parameters: {'max_depth': 21, 'min_samples_split': 2, 'min_samples_leaf': 12, 'n_estimators': 19}. Best is trial 5 with value: 0.8176068315498547.\u001B[0m\n\u001B[32m[I 2023-03-09 12:59:27,978]\u001B[0m Trial 6 finished with value: 0.7762608366995015 and parameters: {'max_depth': 15, 'min_samples_split': 43, 'min_samples_leaf': 96, 'n_estimators': 9}. Best is trial 5 with value: 0.8176068315498547.\u001B[0m\n\u001B[32m[I 2023-03-09 12:59:28,114]\u001B[0m Trial 7 finished with value: 0.7913353648453926 and parameters: {'max_depth': 17, 'min_samples_split': 39, 'min_samples_leaf': 70, 'n_estimators': 13}. Best is trial 5 with value: 0.8176068315498547.\u001B[0m\n\u001B[32m[I 2023-03-09 12:59:28,331]\u001B[0m Trial 8 finished with value: 0.811765053268136 and parameters: {'max_depth': 8, 'min_samples_split': 49, 'min_samples_leaf': 7, 'n_estimators': 19}. Best is trial 5 with value: 0.8176068315498547.\u001B[0m\n\u001B[32m[I 2023-03-09 12:59:28,452]\u001B[0m Trial 9 finished with value: 0.781121111189852 and parameters: {'max_depth': 11, 'min_samples_split': 69, 'min_samples_leaf': 82, 'n_estimators': 10}. Best is trial 5 with value: 0.8176068315498547.\u001B[0m\n/opt/conda/lib/python3.9/site-packages/sklearn/base.py:77: ExperimentalWarning: OptunaSearchCV is experimental (supported from v0.17.0). The interface can change in the future.\n  new_object = klass(**new_object_params)\n\u001B[32m[I 2023-03-09 12:59:28,506]\u001B[0m A new study created in memory with name: no-name-5f24ef15-e0ec-4cf0-9b56-4915b3d1fd5a\u001B[0m\n\u001B[32m[I 2023-03-09 12:59:28,735]\u001B[0m Trial 0 finished with value: 0.8044716887534549 and parameters: {'max_depth': 17, 'min_samples_split': 64, 'min_samples_leaf': 17, 'n_estimators': 20}. Best is trial 0 with value: 0.8044716887534549.\u001B[0m\n\u001B[32m[I 2023-03-09 12:59:28,916]\u001B[0m Trial 1 finished with value: 0.7879337632579785 and parameters: {'max_depth': 14, 'min_samples_split': 3, 'min_samples_leaf': 49, 'n_estimators': 17}. Best is trial 0 with value: 0.8044716887534549.\u001B[0m\n\u001B[32m[I 2023-03-09 12:59:28,967]\u001B[0m Trial 2 finished with value: 0.7689662910731581 and parameters: {'max_depth': 20, 'min_samples_split': 35, 'min_samples_leaf': 92, 'n_estimators': 3}. Best is trial 0 with value: 0.8044716887534549.\u001B[0m\n\u001B[32m[I 2023-03-09 12:59:29,089]\u001B[0m Trial 3 finished with value: 0.7952294899959842 and parameters: {'max_depth': 4, 'min_samples_split': 19, 'min_samples_leaf': 29, 'n_estimators': 10}. Best is trial 0 with value: 0.8044716887534549.\u001B[0m\n\u001B[32m[I 2023-03-09 12:59:29,319]\u001B[0m Trial 4 finished with value: 0.8064157985495948 and parameters: {'max_depth': 7, 'min_samples_split': 18, 'min_samples_leaf': 16, 'n_estimators': 15}. Best is trial 4 with value: 0.8064157985495948.\u001B[0m\n\u001B[32m[I 2023-03-09 12:59:29,357]\u001B[0m Trial 5 finished with value: 0.7738289277868329 and parameters: {'max_depth': 24, 'min_samples_split': 50, 'min_samples_leaf': 7, 'n_estimators': 1}. Best is trial 4 with value: 0.8064157985495948.\u001B[0m\n\u001B[32m[I 2023-03-09 12:59:29,427]\u001B[0m Trial 6 finished with value: 0.8044787754234285 and parameters: {'max_depth': 14, 'min_samples_split': 90, 'min_samples_leaf': 12, 'n_estimators': 5}. Best is trial 4 with value: 0.8064157985495948.\u001B[0m\n\u001B[32m[I 2023-03-09 12:59:29,526]\u001B[0m Trial 7 finished with value: 0.7738277466751706 and parameters: {'max_depth': 16, 'min_samples_split': 48, 'min_samples_leaf': 90, 'n_estimators': 9}. Best is trial 4 with value: 0.8064157985495948.\u001B[0m\n\u001B[32m[I 2023-03-09 12:59:29,646]\u001B[0m Trial 8 finished with value: 0.7996125953747668 and parameters: {'max_depth': 5, 'min_samples_split': 25, 'min_samples_leaf': 22, 'n_estimators': 10}. Best is trial 4 with value: 0.8064157985495948.\u001B[0m\n\u001B[32m[I 2023-03-09 12:59:29,704]\u001B[0m Trial 9 finished with value: 0.7791852691753479 and parameters: {'max_depth': 23, 'min_samples_split': 60, 'min_samples_leaf': 66, 'n_estimators': 5}. Best is trial 4 with value: 0.8064157985495948.\u001B[0m\n/opt/conda/lib/python3.9/site-packages/sklearn/base.py:77: ExperimentalWarning: OptunaSearchCV is experimental (supported from v0.17.0). The interface can change in the future.\n  new_object = klass(**new_object_params)\n\u001B[32m[I 2023-03-09 12:59:29,740]\u001B[0m A new study created in memory with name: no-name-e1b18405-7b62-4925-81f8-ead637431337\u001B[0m\n\u001B[32m[I 2023-03-09 12:59:29,913]\u001B[0m Trial 0 finished with value: 0.7816100914180426 and parameters: {'max_depth': 29, 'min_samples_split': 10, 'min_samples_leaf': 70, 'n_estimators': 16}. Best is trial 0 with value: 0.7816100914180426.\u001B[0m\n\u001B[32m[I 2023-03-09 12:59:30,097]\u001B[0m Trial 1 finished with value: 0.7762608366995016 and parameters: {'max_depth': 9, 'min_samples_split': 77, 'min_samples_leaf': 89, 'n_estimators': 15}. Best is trial 0 with value: 0.7816100914180426.\u001B[0m\n\u001B[32m[I 2023-03-09 12:59:30,136]\u001B[0m Trial 2 finished with value: 0.7733529397869275 and parameters: {'max_depth': 30, 'min_samples_split': 44, 'min_samples_leaf': 48, 'n_estimators': 2}. Best is trial 0 with value: 0.7816100914180426.\u001B[0m\n\u001B[32m[I 2023-03-09 12:59:30,264]\u001B[0m Trial 3 finished with value: 0.7772352538208962 and parameters: {'max_depth': 29, 'min_samples_split': 61, 'min_samples_leaf': 75, 'n_estimators': 11}. Best is trial 0 with value: 0.7816100914180426.\u001B[0m\n\u001B[32m[I 2023-03-09 12:59:30,473]\u001B[0m Trial 4 finished with value: 0.8005681147095647 and parameters: {'max_depth': 15, 'min_samples_split': 45, 'min_samples_leaf': 15, 'n_estimators': 16}. Best is trial 4 with value: 0.8005681147095647.\u001B[0m\n\u001B[32m[I 2023-03-09 12:59:30,589]\u001B[0m Trial 5 finished with value: 0.7786986511704816 and parameters: {'max_depth': 24, 'min_samples_split': 43, 'min_samples_leaf': 70, 'n_estimators': 8}. Best is trial 4 with value: 0.8005681147095647.\u001B[0m\n\u001B[32m[I 2023-03-09 12:59:30,803]\u001B[0m Trial 6 finished with value: 0.7835577445491697 and parameters: {'max_depth': 16, 'min_samples_split': 92, 'min_samples_leaf': 52, 'n_estimators': 18}. Best is trial 4 with value: 0.8005681147095647.\u001B[0m\n\u001B[32m[I 2023-03-09 12:59:30,936]\u001B[0m Trial 7 finished with value: 0.7354038220773391 and parameters: {'max_depth': 1, 'min_samples_split': 79, 'min_samples_leaf': 50, 'n_estimators': 13}. Best is trial 4 with value: 0.8005681147095647.\u001B[0m\n\u001B[32m[I 2023-03-09 12:59:31,190]\u001B[0m Trial 8 finished with value: 0.7908463846172017 and parameters: {'max_depth': 12, 'min_samples_split': 42, 'min_samples_leaf': 28, 'n_estimators': 19}. Best is trial 4 with value: 0.8005681147095647.\u001B[0m\n\u001B[32m[I 2023-03-09 12:59:31,298]\u001B[0m Trial 9 finished with value: 0.7942515295396027 and parameters: {'max_depth': 15, 'min_samples_split': 66, 'min_samples_leaf': 13, 'n_estimators': 7}. Best is trial 4 with value: 0.8005681147095647.\u001B[0m\n/opt/conda/lib/python3.9/site-packages/sklearn/base.py:77: ExperimentalWarning: OptunaSearchCV is experimental (supported from v0.17.0). The interface can change in the future.\n  new_object = klass(**new_object_params)\n\u001B[32m[I 2023-03-09 12:59:31,355]\u001B[0m A new study created in memory with name: no-name-691faf1a-9684-419c-b3c3-4ca09ddd26f2\u001B[0m\n\u001B[32m[I 2023-03-09 12:59:31,499]\u001B[0m Trial 0 finished with value: 0.7830734887676281 and parameters: {'max_depth': 28, 'min_samples_split': 58, 'min_samples_leaf': 66, 'n_estimators': 12}. Best is trial 0 with value: 0.7830734887676281.\u001B[0m\n\u001B[32m[I 2023-03-09 12:59:31,578]\u001B[0m Trial 1 finished with value: 0.7918172584036095 and parameters: {'max_depth': 6, 'min_samples_split': 57, 'min_samples_leaf': 30, 'n_estimators': 5}. Best is trial 1 with value: 0.7918172584036095.\u001B[0m\n"
    },
    {
     "name": "stderr",
     "output_type": "stream",
     "text": "\u001B[32m[I 2023-03-09 12:59:31,745]\u001B[0m Trial 2 finished with value: 0.7952188599910236 and parameters: {'max_depth': 27, 'min_samples_split': 35, 'min_samples_leaf': 29, 'n_estimators': 14}. Best is trial 2 with value: 0.7952188599910236.\u001B[0m\n\u001B[32m[I 2023-03-09 12:59:31,937]\u001B[0m Trial 3 finished with value: 0.7947334230978196 and parameters: {'max_depth': 18, 'min_samples_split': 71, 'min_samples_leaf': 35, 'n_estimators': 17}. Best is trial 2 with value: 0.7952188599910236.\u001B[0m\n\u001B[32m[I 2023-03-09 12:59:32,129]\u001B[0m Trial 4 finished with value: 0.792301514185151 and parameters: {'max_depth': 14, 'min_samples_split': 38, 'min_samples_leaf': 38, 'n_estimators': 17}. Best is trial 2 with value: 0.7952188599910236.\u001B[0m\n\u001B[32m[I 2023-03-09 12:59:32,188]\u001B[0m Trial 5 finished with value: 0.7903585855006733 and parameters: {'max_depth': 4, 'min_samples_split': 66, 'min_samples_leaf': 34, 'n_estimators': 4}. Best is trial 2 with value: 0.7952188599910236.\u001B[0m\n\u001B[32m[I 2023-03-09 12:59:32,431]\u001B[0m Trial 6 finished with value: 0.7884144757045333 and parameters: {'max_depth': 24, 'min_samples_split': 21, 'min_samples_leaf': 43, 'n_estimators': 20}. Best is trial 2 with value: 0.7952188599910236.\u001B[0m\n\u001B[32m[I 2023-03-09 12:59:32,589]\u001B[0m Trial 7 finished with value: 0.780153780738431 and parameters: {'max_depth': 24, 'min_samples_split': 81, 'min_samples_leaf': 68, 'n_estimators': 12}. Best is trial 2 with value: 0.7952188599910236.\u001B[0m\n\u001B[32m[I 2023-03-09 12:59:32,786]\u001B[0m Trial 8 finished with value: 0.7893877117142656 and parameters: {'max_depth': 21, 'min_samples_split': 20, 'min_samples_leaf': 58, 'n_estimators': 18}. Best is trial 2 with value: 0.7952188599910236.\u001B[0m\n\u001B[32m[I 2023-03-09 12:59:32,995]\u001B[0m Trial 9 finished with value: 0.779173458058725 and parameters: {'max_depth': 9, 'min_samples_split': 69, 'min_samples_leaf': 79, 'n_estimators': 20}. Best is trial 2 with value: 0.7952188599910236.\u001B[0m\n/opt/conda/lib/python3.9/site-packages/sklearn/base.py:77: ExperimentalWarning: OptunaSearchCV is experimental (supported from v0.17.0). The interface can change in the future.\n  new_object = klass(**new_object_params)\n\u001B[32m[I 2023-03-09 12:59:33,036]\u001B[0m A new study created in memory with name: no-name-a95c06cc-9383-40e0-948d-eaf2018b6b85\u001B[0m\n\u001B[32m[I 2023-03-09 12:59:33,193]\u001B[0m Trial 0 finished with value: 0.795698391325916 and parameters: {'max_depth': 15, 'min_samples_split': 72, 'min_samples_leaf': 34, 'n_estimators': 12}. Best is trial 0 with value: 0.795698391325916.\u001B[0m\n\u001B[32m[I 2023-03-09 12:59:33,359]\u001B[0m Trial 1 finished with value: 0.7830557720926936 and parameters: {'max_depth': 28, 'min_samples_split': 57, 'min_samples_leaf': 69, 'n_estimators': 15}. Best is trial 0 with value: 0.795698391325916.\u001B[0m\n\u001B[32m[I 2023-03-09 12:59:33,399]\u001B[0m Trial 2 finished with value: 0.7587425885243191 and parameters: {'max_depth': 26, 'min_samples_split': 45, 'min_samples_leaf': 76, 'n_estimators': 3}. Best is trial 0 with value: 0.795698391325916.\u001B[0m\n\u001B[32m[I 2023-03-09 12:59:33,530]\u001B[0m Trial 3 finished with value: 0.8020267876125009 and parameters: {'max_depth': 3, 'min_samples_split': 26, 'min_samples_leaf': 28, 'n_estimators': 13}. Best is trial 3 with value: 0.8020267876125009.\u001B[0m\n\u001B[32m[I 2023-03-09 12:59:33,714]\u001B[0m Trial 4 finished with value: 0.7995877920298585 and parameters: {'max_depth': 26, 'min_samples_split': 94, 'min_samples_leaf': 35, 'n_estimators': 14}. Best is trial 3 with value: 0.8020267876125009.\u001B[0m\n\u001B[32m[I 2023-03-09 12:59:33,830]\u001B[0m Trial 5 finished with value: 0.7830581343160182 and parameters: {'max_depth': 5, 'min_samples_split': 55, 'min_samples_leaf': 93, 'n_estimators': 10}. Best is trial 3 with value: 0.8020267876125009.\u001B[0m\n\u001B[32m[I 2023-03-09 12:59:34,059]\u001B[0m Trial 6 finished with value: 0.7845097205489806 and parameters: {'max_depth': 25, 'min_samples_split': 71, 'min_samples_leaf': 65, 'n_estimators': 19}. Best is trial 3 with value: 0.8020267876125009.\u001B[0m\n\u001B[32m[I 2023-03-09 12:59:34,153]\u001B[0m Trial 7 finished with value: 0.783547114544209 and parameters: {'max_depth': 14, 'min_samples_split': 23, 'min_samples_leaf': 77, 'n_estimators': 7}. Best is trial 3 with value: 0.8020267876125009.\u001B[0m\n\u001B[32m[I 2023-03-09 12:59:34,220]\u001B[0m Trial 8 finished with value: 0.7835412089858974 and parameters: {'max_depth': 16, 'min_samples_split': 4, 'min_samples_leaf': 89, 'n_estimators': 5}. Best is trial 3 with value: 0.8020267876125009.\u001B[0m\n\u001B[32m[I 2023-03-09 12:59:34,485]\u001B[0m Trial 9 finished with value: 0.80397562185529 and parameters: {'max_depth': 14, 'min_samples_split': 18, 'min_samples_leaf': 17, 'n_estimators': 18}. Best is trial 9 with value: 0.80397562185529.\u001B[0m\n/opt/conda/lib/python3.9/site-packages/sklearn/base.py:77: ExperimentalWarning: OptunaSearchCV is experimental (supported from v0.17.0). The interface can change in the future.\n  new_object = klass(**new_object_params)\n\u001B[32m[I 2023-03-09 12:59:34,532]\u001B[0m A new study created in memory with name: no-name-71a29aa2-1f60-450f-8293-9a9be3e5148b\u001B[0m\n\u001B[32m[I 2023-03-09 12:59:34,646]\u001B[0m Trial 0 finished with value: 0.7422200174804526 and parameters: {'max_depth': 1, 'min_samples_split': 35, 'min_samples_leaf': 76, 'n_estimators': 12}. Best is trial 0 with value: 0.7422200174804526.\u001B[0m\n\u001B[32m[I 2023-03-09 12:59:34,805]\u001B[0m Trial 1 finished with value: 0.7748104315782014 and parameters: {'max_depth': 22, 'min_samples_split': 70, 'min_samples_leaf': 77, 'n_estimators': 14}. Best is trial 1 with value: 0.7748104315782014.\u001B[0m\n\u001B[32m[I 2023-03-09 12:59:34,976]\u001B[0m Trial 2 finished with value: 0.7709186686509343 and parameters: {'max_depth': 23, 'min_samples_split': 79, 'min_samples_leaf': 92, 'n_estimators': 15}. Best is trial 1 with value: 0.7748104315782014.\u001B[0m\n\u001B[32m[I 2023-03-09 12:59:35,191]\u001B[0m Trial 3 finished with value: 0.7859943779084875 and parameters: {'max_depth': 29, 'min_samples_split': 28, 'min_samples_leaf': 51, 'n_estimators': 19}. Best is trial 3 with value: 0.7859943779084875.\u001B[0m\n\u001B[32m[I 2023-03-09 12:59:35,316]\u001B[0m Trial 4 finished with value: 0.7796730682918763 and parameters: {'max_depth': 26, 'min_samples_split': 85, 'min_samples_leaf': 63, 'n_estimators': 10}. Best is trial 3 with value: 0.7859943779084875.\u001B[0m\n\u001B[32m[I 2023-03-09 12:59:35,520]\u001B[0m Trial 5 finished with value: 0.8078732903408689 and parameters: {'max_depth': 16, 'min_samples_split': 42, 'min_samples_leaf': 2, 'n_estimators': 15}. Best is trial 5 with value: 0.8078732903408689.\u001B[0m\n\u001B[32m[I 2023-03-09 12:59:35,609]\u001B[0m Trial 6 finished with value: 0.7869664328065575 and parameters: {'max_depth': 25, 'min_samples_split': 97, 'min_samples_leaf': 6, 'n_estimators': 6}. Best is trial 5 with value: 0.8078732903408689.\u001B[0m\n\u001B[32m[I 2023-03-09 12:59:35,880]\u001B[0m Trial 7 finished with value: 0.7991188906999268 and parameters: {'max_depth': 28, 'min_samples_split': 22, 'min_samples_leaf': 17, 'n_estimators': 20}. Best is trial 5 with value: 0.8078732903408689.\u001B[0m\n\u001B[32m[I 2023-03-09 12:59:36,053]\u001B[0m Trial 8 finished with value: 0.7840479058890228 and parameters: {'max_depth': 11, 'min_samples_split': 72, 'min_samples_leaf': 51, 'n_estimators': 14}. Best is trial 5 with value: 0.8078732903408689.\u001B[0m\n\u001B[32m[I 2023-03-09 12:59:36,202]\u001B[0m Trial 9 finished with value: 0.76214773344672 and parameters: {'max_depth': 2, 'min_samples_split': 73, 'min_samples_leaf': 98, 'n_estimators': 15}. Best is trial 5 with value: 0.8078732903408689.\u001B[0m\n/opt/conda/lib/python3.9/site-packages/sklearn/base.py:77: ExperimentalWarning: OptunaSearchCV is experimental (supported from v0.17.0). The interface can change in the future.\n  new_object = klass(**new_object_params)\n\u001B[32m[I 2023-03-09 12:59:36,251]\u001B[0m A new study created in memory with name: no-name-83c468e2-bddf-4231-ba34-b813c8ad447e\u001B[0m\n\u001B[32m[I 2023-03-09 12:59:36,286]\u001B[0m Trial 0 finished with value: 0.7738312900101576 and parameters: {'max_depth': 3, 'min_samples_split': 77, 'min_samples_leaf': 54, 'n_estimators': 2}. Best is trial 0 with value: 0.7738312900101576.\u001B[0m\n\u001B[32m[I 2023-03-09 12:59:36,539]\u001B[0m Trial 1 finished with value: 0.8112843408215813 and parameters: {'max_depth': 22, 'min_samples_split': 85, 'min_samples_leaf': 24, 'n_estimators': 20}. Best is trial 1 with value: 0.8112843408215813.\u001B[0m\n"
    },
    {
     "name": "stderr",
     "output_type": "stream",
     "text": "\u001B[32m[I 2023-03-09 12:59:36,641]\u001B[0m Trial 2 finished with value: 0.7840597170056458 and parameters: {'max_depth': 11, 'min_samples_split': 89, 'min_samples_leaf': 67, 'n_estimators': 8}. Best is trial 1 with value: 0.8112843408215813.\u001B[0m\n\u001B[32m[I 2023-03-09 12:59:36,732]\u001B[0m Trial 3 finished with value: 0.7879432121512768 and parameters: {'max_depth': 2, 'min_samples_split': 93, 'min_samples_leaf': 4, 'n_estimators': 8}. Best is trial 1 with value: 0.8112843408215813.\u001B[0m\n\u001B[32m[I 2023-03-09 12:59:36,930]\u001B[0m Trial 4 finished with value: 0.8030177402971678 and parameters: {'max_depth': 24, 'min_samples_split': 15, 'min_samples_leaf': 55, 'n_estimators': 17}. Best is trial 1 with value: 0.8112843408215813.\u001B[0m\n\u001B[32m[I 2023-03-09 12:59:37,051]\u001B[0m Trial 5 finished with value: 0.8010783549476768 and parameters: {'max_depth': 23, 'min_samples_split': 26, 'min_samples_leaf': 46, 'n_estimators': 8}. Best is trial 1 with value: 0.8112843408215813.\u001B[0m\n\u001B[32m[I 2023-03-09 12:59:37,238]\u001B[0m Trial 6 finished with value: 0.792807029976614 and parameters: {'max_depth': 25, 'min_samples_split': 44, 'min_samples_leaf': 62, 'n_estimators': 14}. Best is trial 1 with value: 0.8112843408215813.\u001B[0m\n\u001B[32m[I 2023-03-09 12:59:37,408]\u001B[0m Trial 7 finished with value: 0.7855195710202443 and parameters: {'max_depth': 12, 'min_samples_split': 10, 'min_samples_leaf': 82, 'n_estimators': 14}. Best is trial 1 with value: 0.8112843408215813.\u001B[0m\n\u001B[32m[I 2023-03-09 12:59:37,552]\u001B[0m Trial 8 finished with value: 0.8151737415255239 and parameters: {'max_depth': 11, 'min_samples_split': 94, 'min_samples_leaf': 8, 'n_estimators': 10}. Best is trial 8 with value: 0.8151737415255239.\u001B[0m\n\u001B[32m[I 2023-03-09 12:59:37,737]\u001B[0m Trial 9 finished with value: 0.8249025582878605 and parameters: {'max_depth': 12, 'min_samples_split': 21, 'min_samples_leaf': 15, 'n_estimators': 14}. Best is trial 9 with value: 0.8249025582878605.\u001B[0m\n/opt/conda/lib/python3.9/site-packages/sklearn/base.py:77: ExperimentalWarning: OptunaSearchCV is experimental (supported from v0.17.0). The interface can change in the future.\n  new_object = klass(**new_object_params)\n\u001B[32m[I 2023-03-09 12:59:37,783]\u001B[0m A new study created in memory with name: no-name-6d68d766-a7de-4e29-b1f6-3320bc821c93\u001B[0m\n\u001B[32m[I 2023-03-09 12:59:37,850]\u001B[0m Trial 0 finished with value: 0.78744596414145 and parameters: {'max_depth': 7, 'min_samples_split': 23, 'min_samples_leaf': 29, 'n_estimators': 4}. Best is trial 0 with value: 0.78744596414145.\u001B[0m\n\u001B[32m[I 2023-03-09 12:59:38,022]\u001B[0m Trial 1 finished with value: 0.7811234734131765 and parameters: {'max_depth': 12, 'min_samples_split': 53, 'min_samples_leaf': 70, 'n_estimators': 16}. Best is trial 0 with value: 0.78744596414145.\u001B[0m\n\u001B[32m[I 2023-03-09 12:59:38,214]\u001B[0m Trial 2 finished with value: 0.7840420003307113 and parameters: {'max_depth': 13, 'min_samples_split': 77, 'min_samples_leaf': 79, 'n_estimators': 17}. Best is trial 0 with value: 0.78744596414145.\u001B[0m\n\u001B[32m[I 2023-03-09 12:59:38,292]\u001B[0m Trial 3 finished with value: 0.7767403680343941 and parameters: {'max_depth': 16, 'min_samples_split': 8, 'min_samples_leaf': 67, 'n_estimators': 5}. Best is trial 0 with value: 0.78744596414145.\u001B[0m\n\u001B[32m[I 2023-03-09 12:59:38,388]\u001B[0m Trial 4 finished with value: 0.7801525996267686 and parameters: {'max_depth': 25, 'min_samples_split': 75, 'min_samples_leaf': 65, 'n_estimators': 7}. Best is trial 0 with value: 0.78744596414145.\u001B[0m\n\u001B[32m[I 2023-03-09 12:59:38,482]\u001B[0m Trial 5 finished with value: 0.7816124536413673 and parameters: {'max_depth': 24, 'min_samples_split': 79, 'min_samples_leaf': 75, 'n_estimators': 7}. Best is trial 0 with value: 0.78744596414145.\u001B[0m\n\u001B[32m[I 2023-03-09 12:59:38,721]\u001B[0m Trial 6 finished with value: 0.7927963999716534 and parameters: {'max_depth': 9, 'min_samples_split': 61, 'min_samples_leaf': 18, 'n_estimators': 19}. Best is trial 6 with value: 0.7927963999716534.\u001B[0m\n\u001B[32m[I 2023-03-09 12:59:38,841]\u001B[0m Trial 7 finished with value: 0.7889022748210617 and parameters: {'max_depth': 5, 'min_samples_split': 94, 'min_samples_leaf': 26, 'n_estimators': 10}. Best is trial 6 with value: 0.7927963999716534.\u001B[0m\n\u001B[32m[I 2023-03-09 12:59:38,998]\u001B[0m Trial 8 finished with value: 0.78841801903952 and parameters: {'max_depth': 14, 'min_samples_split': 48, 'min_samples_leaf': 33, 'n_estimators': 11}. Best is trial 6 with value: 0.7927963999716534.\u001B[0m\n\u001B[32m[I 2023-03-09 12:59:39,111]\u001B[0m Trial 9 finished with value: 0.7889058181560484 and parameters: {'max_depth': 4, 'min_samples_split': 59, 'min_samples_leaf': 9, 'n_estimators': 8}. Best is trial 6 with value: 0.7927963999716534.\u001B[0m\n/opt/conda/lib/python3.9/site-packages/sklearn/base.py:77: ExperimentalWarning: OptunaSearchCV is experimental (supported from v0.17.0). The interface can change in the future.\n  new_object = klass(**new_object_params)\n\u001B[32m[I 2023-03-09 12:59:39,175]\u001B[0m A new study created in memory with name: no-name-36eef694-b4f0-45ee-99e3-7fb137f6b883\u001B[0m\n\u001B[32m[I 2023-03-09 12:59:39,259]\u001B[0m Trial 0 finished with value: 0.7840408192190489 and parameters: {'max_depth': 15, 'min_samples_split': 42, 'min_samples_leaf': 94, 'n_estimators': 5}. Best is trial 0 with value: 0.7840408192190489.\u001B[0m\n\u001B[32m[I 2023-03-09 12:59:39,313]\u001B[0m Trial 1 finished with value: 0.7913259159520941 and parameters: {'max_depth': 9, 'min_samples_split': 3, 'min_samples_leaf': 55, 'n_estimators': 2}. Best is trial 1 with value: 0.7913259159520941.\u001B[0m\n\u001B[32m[I 2023-03-09 12:59:39,538]\u001B[0m Trial 2 finished with value: 0.8146812179623462 and parameters: {'max_depth': 16, 'min_samples_split': 45, 'min_samples_leaf': 12, 'n_estimators': 15}. Best is trial 2 with value: 0.8146812179623462.\u001B[0m\n\u001B[32m[I 2023-03-09 12:59:39,668]\u001B[0m Trial 3 finished with value: 0.7850093307821321 and parameters: {'max_depth': 6, 'min_samples_split': 99, 'min_samples_leaf': 82, 'n_estimators': 11}. Best is trial 2 with value: 0.8146812179623462.\u001B[0m\n\u001B[32m[I 2023-03-09 12:59:39,730]\u001B[0m Trial 4 finished with value: 0.8020279687241632 and parameters: {'max_depth': 20, 'min_samples_split': 4, 'min_samples_leaf': 30, 'n_estimators': 4}. Best is trial 2 with value: 0.8146812179623462.\u001B[0m\n\u001B[32m[I 2023-03-09 12:59:39,875]\u001B[0m Trial 5 finished with value: 0.7995960598114945 and parameters: {'max_depth': 30, 'min_samples_split': 85, 'min_samples_leaf': 50, 'n_estimators': 11}. Best is trial 2 with value: 0.8146812179623462.\u001B[0m\n\u001B[32m[I 2023-03-09 12:59:40,025]\u001B[0m Trial 6 finished with value: 0.8015437129426216 and parameters: {'max_depth': 15, 'min_samples_split': 100, 'min_samples_leaf': 34, 'n_estimators': 12}. Best is trial 2 with value: 0.8146812179623462.\u001B[0m\n\u001B[32m[I 2023-03-09 12:59:40,248]\u001B[0m Trial 7 finished with value: 0.8127359270545437 and parameters: {'max_depth': 14, 'min_samples_split': 37, 'min_samples_leaf': 18, 'n_estimators': 17}. Best is trial 2 with value: 0.8146812179623462.\u001B[0m\n\u001B[32m[I 2023-03-09 12:59:40,461]\u001B[0m Trial 8 finished with value: 0.7816112725297049 and parameters: {'max_depth': 2, 'min_samples_split': 86, 'min_samples_leaf': 67, 'n_estimators': 19}. Best is trial 2 with value: 0.8146812179623462.\u001B[0m\n\u001B[32m[I 2023-03-09 12:59:40,561]\u001B[0m Trial 9 finished with value: 0.7845262561122529 and parameters: {'max_depth': 15, 'min_samples_split': 71, 'min_samples_leaf': 77, 'n_estimators': 7}. Best is trial 2 with value: 0.8146812179623462.\u001B[0m\n/opt/conda/lib/python3.9/site-packages/sklearn/base.py:77: ExperimentalWarning: OptunaSearchCV is experimental (supported from v0.17.0). The interface can change in the future.\n  new_object = klass(**new_object_params)\n\u001B[32m[I 2023-03-09 12:59:40,602]\u001B[0m A new study created in memory with name: no-name-d82962ce-0211-4d1d-88dc-adb6cf389fbe\u001B[0m\n\u001B[32m[I 2023-03-09 12:59:40,792]\u001B[0m Trial 0 finished with value: 0.7767509980393547 and parameters: {'max_depth': 2, 'min_samples_split': 30, 'min_samples_leaf': 44, 'n_estimators': 19}. Best is trial 0 with value: 0.7767509980393547.\u001B[0m\n\u001B[32m[I 2023-03-09 12:59:41,014]\u001B[0m Trial 1 finished with value: 0.7782155765006024 and parameters: {'max_depth': 24, 'min_samples_split': 100, 'min_samples_leaf': 49, 'n_estimators': 17}. Best is trial 1 with value: 0.7782155765006024.\u001B[0m\n"
    },
    {
     "name": "stderr",
     "output_type": "stream",
     "text": "\u001B[32m[I 2023-03-09 12:59:41,171]\u001B[0m Trial 2 finished with value: 0.769468263529634 and parameters: {'max_depth': 16, 'min_samples_split': 83, 'min_samples_leaf': 95, 'n_estimators': 13}. Best is trial 1 with value: 0.7782155765006024.\u001B[0m\n\u001B[32m[I 2023-03-09 12:59:41,287]\u001B[0m Trial 3 finished with value: 0.7641213710344175 and parameters: {'max_depth': 17, 'min_samples_split': 81, 'min_samples_leaf': 63, 'n_estimators': 10}. Best is trial 1 with value: 0.7782155765006024.\u001B[0m\n\u001B[32m[I 2023-03-09 12:59:41,438]\u001B[0m Trial 4 finished with value: 0.7670210001653557 and parameters: {'max_depth': 2, 'min_samples_split': 85, 'min_samples_leaf': 40, 'n_estimators': 15}. Best is trial 1 with value: 0.7782155765006024.\u001B[0m\n\u001B[32m[I 2023-03-09 12:59:41,630]\u001B[0m Trial 5 finished with value: 0.7889176292726715 and parameters: {'max_depth': 15, 'min_samples_split': 77, 'min_samples_leaf': 18, 'n_estimators': 14}. Best is trial 5 with value: 0.7889176292726715.\u001B[0m\n\u001B[32m[I 2023-03-09 12:59:41,709]\u001B[0m Trial 6 finished with value: 0.7611922141119221 and parameters: {'max_depth': 2, 'min_samples_split': 53, 'min_samples_leaf': 17, 'n_estimators': 7}. Best is trial 5 with value: 0.7889176292726715.\u001B[0m\n\u001B[32m[I 2023-03-09 12:59:41,877]\u001B[0m Trial 7 finished with value: 0.7743261757966597 and parameters: {'max_depth': 18, 'min_samples_split': 49, 'min_samples_leaf': 93, 'n_estimators': 15}. Best is trial 5 with value: 0.7889176292726715.\u001B[0m\n\u001B[32m[I 2023-03-09 12:59:42,030]\u001B[0m Trial 8 finished with value: 0.7660595752722462 and parameters: {'max_depth': 3, 'min_samples_split': 38, 'min_samples_leaf': 77, 'n_estimators': 16}. Best is trial 5 with value: 0.7889176292726715.\u001B[0m\n\u001B[32m[I 2023-03-09 12:59:42,136]\u001B[0m Trial 9 finished with value: 0.776756903597666 and parameters: {'max_depth': 23, 'min_samples_split': 98, 'min_samples_leaf': 44, 'n_estimators': 9}. Best is trial 5 with value: 0.7889176292726715.\u001B[0m\n/opt/conda/lib/python3.9/site-packages/sklearn/base.py:77: ExperimentalWarning: OptunaSearchCV is experimental (supported from v0.17.0). The interface can change in the future.\n  new_object = klass(**new_object_params)\n\u001B[32m[I 2023-03-09 12:59:42,179]\u001B[0m A new study created in memory with name: no-name-cbbc4bb3-9539-498a-a169-e88f965382c2\u001B[0m\n\u001B[32m[I 2023-03-09 12:59:42,326]\u001B[0m Trial 0 finished with value: 0.796694068457232 and parameters: {'max_depth': 13, 'min_samples_split': 22, 'min_samples_leaf': 44, 'n_estimators': 13}. Best is trial 0 with value: 0.796694068457232.\u001B[0m\n\u001B[32m[I 2023-03-09 12:59:42,524]\u001B[0m Trial 1 finished with value: 0.806424066331231 and parameters: {'max_depth': 29, 'min_samples_split': 19, 'min_samples_leaf': 30, 'n_estimators': 18}. Best is trial 1 with value: 0.806424066331231.\u001B[0m\n\u001B[32m[I 2023-03-09 12:59:42,623]\u001B[0m Trial 2 finished with value: 0.7898825975007677 and parameters: {'max_depth': 12, 'min_samples_split': 43, 'min_samples_leaf': 52, 'n_estimators': 8}. Best is trial 1 with value: 0.806424066331231.\u001B[0m\n\u001B[32m[I 2023-03-09 12:59:42,822]\u001B[0m Trial 3 finished with value: 0.8030165591855054 and parameters: {'max_depth': 8, 'min_samples_split': 100, 'min_samples_leaf': 40, 'n_estimators': 19}. Best is trial 1 with value: 0.806424066331231.\u001B[0m\n\u001B[32m[I 2023-03-09 12:59:42,870]\u001B[0m Trial 4 finished with value: 0.7850187796754305 and parameters: {'max_depth': 11, 'min_samples_split': 90, 'min_samples_leaf': 54, 'n_estimators': 3}. Best is trial 1 with value: 0.806424066331231.\u001B[0m\n\u001B[32m[I 2023-03-09 12:59:43,008]\u001B[0m Trial 5 finished with value: 0.7835565634375075 and parameters: {'max_depth': 18, 'min_samples_split': 52, 'min_samples_leaf': 74, 'n_estimators': 13}. Best is trial 1 with value: 0.806424066331231.\u001B[0m\n\u001B[32m[I 2023-03-09 12:59:43,052]\u001B[0m Trial 6 finished with value: 0.7772340727092338 and parameters: {'max_depth': 21, 'min_samples_split': 31, 'min_samples_leaf': 99, 'n_estimators': 2}. Best is trial 1 with value: 0.806424066331231.\u001B[0m\n\u001B[32m[I 2023-03-09 12:59:43,178]\u001B[0m Trial 7 finished with value: 0.7855030354569721 and parameters: {'max_depth': 3, 'min_samples_split': 93, 'min_samples_leaf': 75, 'n_estimators': 14}. Best is trial 1 with value: 0.806424066331231.\u001B[0m\n\u001B[32m[I 2023-03-09 12:59:43,267]\u001B[0m Trial 8 finished with value: 0.785021141898755 and parameters: {'max_depth': 25, 'min_samples_split': 72, 'min_samples_leaf': 61, 'n_estimators': 7}. Best is trial 1 with value: 0.806424066331231.\u001B[0m\n\u001B[32m[I 2023-03-09 12:59:43,392]\u001B[0m Trial 9 finished with value: 0.7869628894715707 and parameters: {'max_depth': 25, 'min_samples_split': 3, 'min_samples_leaf': 76, 'n_estimators': 12}. Best is trial 1 with value: 0.806424066331231.\u001B[0m\n/opt/conda/lib/python3.9/site-packages/sklearn/base.py:77: ExperimentalWarning: OptunaSearchCV is experimental (supported from v0.17.0). The interface can change in the future.\n  new_object = klass(**new_object_params)\n\u001B[32m[I 2023-03-09 12:59:43,443]\u001B[0m A new study created in memory with name: no-name-d447f896-6add-429f-92b8-88729bea582d\u001B[0m\n\u001B[32m[I 2023-03-09 12:59:43,639]\u001B[0m Trial 0 finished with value: 0.8360900479531335 and parameters: {'max_depth': 17, 'min_samples_split': 9, 'min_samples_leaf': 3, 'n_estimators': 15}. Best is trial 0 with value: 0.8360900479531335.\u001B[0m\n\u001B[32m[I 2023-03-09 12:59:43,789]\u001B[0m Trial 1 finished with value: 0.7830805754376019 and parameters: {'max_depth': 8, 'min_samples_split': 54, 'min_samples_leaf': 56, 'n_estimators': 14}. Best is trial 0 with value: 0.8360900479531335.\u001B[0m\n\u001B[32m[I 2023-03-09 12:59:43,954]\u001B[0m Trial 2 finished with value: 0.7777336829423854 and parameters: {'max_depth': 17, 'min_samples_split': 54, 'min_samples_leaf': 65, 'n_estimators': 15}. Best is trial 0 with value: 0.8360900479531335.\u001B[0m\n\u001B[32m[I 2023-03-09 12:59:44,099]\u001B[0m Trial 3 finished with value: 0.7796801549618501 and parameters: {'max_depth': 3, 'min_samples_split': 46, 'min_samples_leaf': 85, 'n_estimators': 14}. Best is trial 0 with value: 0.8360900479531335.\u001B[0m\n\u001B[32m[I 2023-03-09 12:59:44,137]\u001B[0m Trial 4 finished with value: 0.7864762714667044 and parameters: {'max_depth': 22, 'min_samples_split': 57, 'min_samples_leaf': 11, 'n_estimators': 2}. Best is trial 0 with value: 0.8360900479531335.\u001B[0m\n\u001B[32m[I 2023-03-09 12:59:44,176]\u001B[0m Trial 5 finished with value: 0.7767592658209908 and parameters: {'max_depth': 17, 'min_samples_split': 2, 'min_samples_leaf': 64, 'n_estimators': 2}. Best is trial 0 with value: 0.8360900479531335.\u001B[0m\n\u001B[32m[I 2023-03-09 12:59:44,264]\u001B[0m Trial 6 finished with value: 0.7782203009472515 and parameters: {'max_depth': 28, 'min_samples_split': 32, 'min_samples_leaf': 85, 'n_estimators': 8}. Best is trial 0 with value: 0.8360900479531335.\u001B[0m\n\u001B[32m[I 2023-03-09 12:59:44,397]\u001B[0m Trial 7 finished with value: 0.7859991023551366 and parameters: {'max_depth': 27, 'min_samples_split': 92, 'min_samples_leaf': 37, 'n_estimators': 10}. Best is trial 0 with value: 0.8360900479531335.\u001B[0m\n\u001B[32m[I 2023-03-09 12:59:44,598]\u001B[0m Trial 8 finished with value: 0.7796801549618501 and parameters: {'max_depth': 20, 'min_samples_split': 54, 'min_samples_leaf': 86, 'n_estimators': 20}. Best is trial 0 with value: 0.8360900479531335.\u001B[0m\n\u001B[32m[I 2023-03-09 12:59:44,638]\u001B[0m Trial 9 finished with value: 0.7665414688304633 and parameters: {'max_depth': 23, 'min_samples_split': 99, 'min_samples_leaf': 70, 'n_estimators': 2}. Best is trial 0 with value: 0.8360900479531335.\u001B[0m\n/opt/conda/lib/python3.9/site-packages/sklearn/base.py:77: ExperimentalWarning: OptunaSearchCV is experimental (supported from v0.17.0). The interface can change in the future.\n  new_object = klass(**new_object_params)\n\u001B[32m[I 2023-03-09 12:59:44,685]\u001B[0m A new study created in memory with name: no-name-12af439c-e7c9-471a-b3c7-d9691345c681\u001B[0m\n\u001B[32m[I 2023-03-09 12:59:44,852]\u001B[0m Trial 0 finished with value: 0.8001003944912952 and parameters: {'max_depth': 24, 'min_samples_split': 37, 'min_samples_leaf': 73, 'n_estimators': 16}. Best is trial 0 with value: 0.8001003944912952.\u001B[0m\n\u001B[32m[I 2023-03-09 12:59:44,926]\u001B[0m Trial 1 finished with value: 0.8035079016370208 and parameters: {'max_depth': 26, 'min_samples_split': 56, 'min_samples_leaf': 19, 'n_estimators': 6}. Best is trial 1 with value: 0.8035079016370208.\u001B[0m\n"
    },
    {
     "name": "stderr",
     "output_type": "stream",
     "text": "\u001B[32m[I 2023-03-09 12:59:44,984]\u001B[0m Trial 2 finished with value: 0.7602331514421373 and parameters: {'max_depth': 1, 'min_samples_split': 92, 'min_samples_leaf': 23, 'n_estimators': 5}. Best is trial 1 with value: 0.8035079016370208.\u001B[0m\n\u001B[32m[I 2023-03-09 12:59:45,119]\u001B[0m Trial 3 finished with value: 0.8044811376467532 and parameters: {'max_depth': 13, 'min_samples_split': 15, 'min_samples_leaf': 34, 'n_estimators': 12}. Best is trial 3 with value: 0.8044811376467532.\u001B[0m\n\u001B[32m[I 2023-03-09 12:59:45,297]\u001B[0m Trial 4 finished with value: 0.7971818675737605 and parameters: {'max_depth': 7, 'min_samples_split': 83, 'min_samples_leaf': 80, 'n_estimators': 15}. Best is trial 3 with value: 0.8044811376467532.\u001B[0m\n\u001B[32m[I 2023-03-09 12:59:45,365]\u001B[0m Trial 5 finished with value: 0.807396121229301 and parameters: {'max_depth': 29, 'min_samples_split': 62, 'min_samples_leaf': 5, 'n_estimators': 4}. Best is trial 5 with value: 0.807396121229301.\u001B[0m\n\u001B[32m[I 2023-03-09 12:59:45,504]\u001B[0m Trial 6 finished with value: 0.8044799565350909 and parameters: {'max_depth': 26, 'min_samples_split': 8, 'min_samples_leaf': 41, 'n_estimators': 13}. Best is trial 5 with value: 0.807396121229301.\u001B[0m\n\u001B[32m[I 2023-03-09 12:59:45,627]\u001B[0m Trial 7 finished with value: 0.8020492287340846 and parameters: {'max_depth': 5, 'min_samples_split': 47, 'min_samples_leaf': 35, 'n_estimators': 12}. Best is trial 5 with value: 0.807396121229301.\u001B[0m\n\u001B[32m[I 2023-03-09 12:59:45,769]\u001B[0m Trial 8 finished with value: 0.797674391136938 and parameters: {'max_depth': 22, 'min_samples_split': 58, 'min_samples_leaf': 82, 'n_estimators': 13}. Best is trial 5 with value: 0.807396121229301.\u001B[0m\n\u001B[32m[I 2023-03-09 12:59:45,935]\u001B[0m Trial 9 finished with value: 0.8166371388751091 and parameters: {'max_depth': 17, 'min_samples_split': 24, 'min_samples_leaf': 11, 'n_estimators': 13}. Best is trial 9 with value: 0.8166371388751091.\u001B[0m\n/opt/conda/lib/python3.9/site-packages/sklearn/base.py:77: ExperimentalWarning: OptunaSearchCV is experimental (supported from v0.17.0). The interface can change in the future.\n  new_object = klass(**new_object_params)\n\u001B[32m[I 2023-03-09 12:59:45,978]\u001B[0m A new study created in memory with name: no-name-6ad2f329-1de3-4d64-ae5b-ba887a78b9ba\u001B[0m\n\u001B[32m[I 2023-03-09 12:59:46,083]\u001B[0m Trial 0 finished with value: 0.7864680036850684 and parameters: {'max_depth': 10, 'min_samples_split': 49, 'min_samples_leaf': 37, 'n_estimators': 9}. Best is trial 0 with value: 0.7864680036850684.\u001B[0m\n\u001B[32m[I 2023-03-09 12:59:46,205]\u001B[0m Trial 1 finished with value: 0.7830675832093166 and parameters: {'max_depth': 20, 'min_samples_split': 99, 'min_samples_leaf': 66, 'n_estimators': 11}. Best is trial 0 with value: 0.7864680036850684.\u001B[0m\n\u001B[32m[I 2023-03-09 12:59:46,409]\u001B[0m Trial 2 finished with value: 0.7801490562917819 and parameters: {'max_depth': 13, 'min_samples_split': 12, 'min_samples_leaf': 92, 'n_estimators': 20}. Best is trial 0 with value: 0.7864680036850684.\u001B[0m\n\u001B[32m[I 2023-03-09 12:59:46,454]\u001B[0m Trial 3 finished with value: 0.7738312900101576 and parameters: {'max_depth': 5, 'min_samples_split': 9, 'min_samples_leaf': 89, 'n_estimators': 3}. Best is trial 0 with value: 0.7864680036850684.\u001B[0m\n\u001B[32m[I 2023-03-09 12:59:46,612]\u001B[0m Trial 4 finished with value: 0.781611272529705 and parameters: {'max_depth': 25, 'min_samples_split': 57, 'min_samples_leaf': 64, 'n_estimators': 15}. Best is trial 0 with value: 0.7864680036850684.\u001B[0m\n\u001B[32m[I 2023-03-09 12:59:46,817]\u001B[0m Trial 5 finished with value: 0.780635674296648 and parameters: {'max_depth': 21, 'min_samples_split': 85, 'min_samples_leaf': 86, 'n_estimators': 20}. Best is trial 0 with value: 0.7864680036850684.\u001B[0m\n\u001B[32m[I 2023-03-09 12:59:46,857]\u001B[0m Trial 6 finished with value: 0.7869581650249214 and parameters: {'max_depth': 8, 'min_samples_split': 96, 'min_samples_leaf': 6, 'n_estimators': 2}. Best is trial 6 with value: 0.7869581650249214.\u001B[0m\n\u001B[32m[I 2023-03-09 12:59:46,959]\u001B[0m Trial 7 finished with value: 0.7903633099473224 and parameters: {'max_depth': 26, 'min_samples_split': 92, 'min_samples_leaf': 10, 'n_estimators': 8}. Best is trial 7 with value: 0.7903633099473224.\u001B[0m\n\u001B[32m[I 2023-03-09 12:59:47,055]\u001B[0m Trial 8 finished with value: 0.7709127630926229 and parameters: {'max_depth': 3, 'min_samples_split': 88, 'min_samples_leaf': 74, 'n_estimators': 10}. Best is trial 7 with value: 0.7903633099473224.\u001B[0m\n\u001B[32m[I 2023-03-09 12:59:47,089]\u001B[0m Trial 9 finished with value: 0.7728604162237497 and parameters: {'max_depth': 12, 'min_samples_split': 94, 'min_samples_leaf': 100, 'n_estimators': 2}. Best is trial 7 with value: 0.7903633099473224.\u001B[0m\n/opt/conda/lib/python3.9/site-packages/sklearn/base.py:77: ExperimentalWarning: OptunaSearchCV is experimental (supported from v0.17.0). The interface can change in the future.\n  new_object = klass(**new_object_params)\n\u001B[32m[I 2023-03-09 12:59:47,112]\u001B[0m A new study created in memory with name: no-name-aa254d10-a7a8-4416-8300-d9b4964b36bc\u001B[0m\n\u001B[32m[I 2023-03-09 12:59:47,216]\u001B[0m Trial 0 finished with value: 0.7743120024567122 and parameters: {'max_depth': 24, 'min_samples_split': 84, 'min_samples_leaf': 90, 'n_estimators': 9}. Best is trial 0 with value: 0.7743120024567122.\u001B[0m\n\u001B[32m[I 2023-03-09 12:59:47,388]\u001B[0m Trial 1 finished with value: 0.7782096709422909 and parameters: {'max_depth': 4, 'min_samples_split': 5, 'min_samples_leaf': 35, 'n_estimators': 17}. Best is trial 1 with value: 0.7782096709422909.\u001B[0m\n\u001B[32m[I 2023-03-09 12:59:47,459]\u001B[0m Trial 2 finished with value: 0.7786903833888457 and parameters: {'max_depth': 13, 'min_samples_split': 76, 'min_samples_leaf': 62, 'n_estimators': 5}. Best is trial 2 with value: 0.7786903833888457.\u001B[0m\n\u001B[32m[I 2023-03-09 12:59:47,614]\u001B[0m Trial 3 finished with value: 0.777234072709234 and parameters: {'max_depth': 26, 'min_samples_split': 66, 'min_samples_leaf': 47, 'n_estimators': 14}. Best is trial 2 with value: 0.7786903833888457.\u001B[0m\n\u001B[32m[I 2023-03-09 12:59:47,727]\u001B[0m Trial 4 finished with value: 0.7820955283112465 and parameters: {'max_depth': 17, 'min_samples_split': 68, 'min_samples_leaf': 48, 'n_estimators': 8}. Best is trial 4 with value: 0.7820955283112465.\u001B[0m\n\u001B[32m[I 2023-03-09 12:59:47,863]\u001B[0m Trial 5 finished with value: 0.8000980322679707 and parameters: {'max_depth': 13, 'min_samples_split': 16, 'min_samples_leaf': 19, 'n_estimators': 9}. Best is trial 5 with value: 0.8000980322679707.\u001B[0m\n\u001B[32m[I 2023-03-09 12:59:47,919]\u001B[0m Trial 6 finished with value: 0.7762620178111639 and parameters: {'max_depth': 30, 'min_samples_split': 29, 'min_samples_leaf': 70, 'n_estimators': 5}. Best is trial 5 with value: 0.8000980322679707.\u001B[0m\n\u001B[32m[I 2023-03-09 12:59:48,065]\u001B[0m Trial 7 finished with value: 0.784530980558902 and parameters: {'max_depth': 13, 'min_samples_split': 82, 'min_samples_leaf': 32, 'n_estimators': 12}. Best is trial 5 with value: 0.8000980322679707.\u001B[0m\n\u001B[32m[I 2023-03-09 12:59:48,308]\u001B[0m Trial 8 finished with value: 0.7825868707627619 and parameters: {'max_depth': 15, 'min_samples_split': 40, 'min_samples_leaf': 40, 'n_estimators': 20}. Best is trial 5 with value: 0.8000980322679707.\u001B[0m\n\u001B[32m[I 2023-03-09 12:59:48,505]\u001B[0m Trial 9 finished with value: 0.7626438003448845 and parameters: {'max_depth': 17, 'min_samples_split': 67, 'min_samples_leaf': 95, 'n_estimators': 20}. Best is trial 5 with value: 0.8000980322679707.\u001B[0m\n/opt/conda/lib/python3.9/site-packages/sklearn/base.py:77: ExperimentalWarning: OptunaSearchCV is experimental (supported from v0.17.0). The interface can change in the future.\n  new_object = klass(**new_object_params)\n\u001B[32m[I 2023-03-09 12:59:48,534]\u001B[0m A new study created in memory with name: no-name-6c84ea82-e6cf-4476-8b36-e072445f93d0\u001B[0m\n\u001B[32m[I 2023-03-09 12:59:48,611]\u001B[0m Trial 0 finished with value: 0.7816065480830557 and parameters: {'max_depth': 4, 'min_samples_split': 37, 'min_samples_leaf': 84, 'n_estimators': 7}. Best is trial 0 with value: 0.7816065480830557.\u001B[0m\n\u001B[32m[I 2023-03-09 12:59:48,646]\u001B[0m Trial 1 finished with value: 0.7548649989369995 and parameters: {'max_depth': 10, 'min_samples_split': 12, 'min_samples_leaf': 89, 'n_estimators': 2}. Best is trial 0 with value: 0.7816065480830557.\u001B[0m\n"
    },
    {
     "name": "stderr",
     "output_type": "stream",
     "text": "\u001B[32m[I 2023-03-09 12:59:48,728]\u001B[0m Trial 2 finished with value: 0.7952259466609973 and parameters: {'max_depth': 13, 'min_samples_split': 54, 'min_samples_leaf': 29, 'n_estimators': 7}. Best is trial 2 with value: 0.7952259466609973.\u001B[0m\n\u001B[32m[I 2023-03-09 12:59:48,888]\u001B[0m Trial 3 finished with value: 0.7791758202820495 and parameters: {'max_depth': 25, 'min_samples_split': 57, 'min_samples_leaf': 73, 'n_estimators': 15}. Best is trial 2 with value: 0.7952259466609973.\u001B[0m\n\u001B[32m[I 2023-03-09 12:59:49,092]\u001B[0m Trial 4 finished with value: 0.7937672737580612 and parameters: {'max_depth': 20, 'min_samples_split': 20, 'min_samples_leaf': 43, 'n_estimators': 17}. Best is trial 2 with value: 0.7952259466609973.\u001B[0m\n\u001B[32m[I 2023-03-09 12:59:49,214]\u001B[0m Trial 5 finished with value: 0.7806380365199725 and parameters: {'max_depth': 26, 'min_samples_split': 60, 'min_samples_leaf': 67, 'n_estimators': 11}. Best is trial 2 with value: 0.7952259466609973.\u001B[0m\n\u001B[32m[I 2023-03-09 12:59:49,419]\u001B[0m Trial 6 finished with value: 0.781129378971488 and parameters: {'max_depth': 27, 'min_samples_split': 66, 'min_samples_leaf': 94, 'n_estimators': 18}. Best is trial 2 with value: 0.7952259466609973.\u001B[0m\n\u001B[32m[I 2023-03-09 12:59:49,468]\u001B[0m Trial 7 finished with value: 0.7762679233694754 and parameters: {'max_depth': 21, 'min_samples_split': 97, 'min_samples_leaf': 84, 'n_estimators': 3}. Best is trial 2 with value: 0.7952259466609973.\u001B[0m\n\u001B[32m[I 2023-03-09 12:59:49,590]\u001B[0m Trial 8 finished with value: 0.8000933078213214 and parameters: {'max_depth': 23, 'min_samples_split': 65, 'min_samples_leaf': 28, 'n_estimators': 7}. Best is trial 8 with value: 0.8000933078213214.\u001B[0m\n\u001B[32m[I 2023-03-09 12:59:49,730]\u001B[0m Trial 9 finished with value: 0.7840408192190489 and parameters: {'max_depth': 28, 'min_samples_split': 68, 'min_samples_leaf': 78, 'n_estimators': 11}. Best is trial 8 with value: 0.8000933078213214.\u001B[0m\n/opt/conda/lib/python3.9/site-packages/sklearn/base.py:77: ExperimentalWarning: OptunaSearchCV is experimental (supported from v0.17.0). The interface can change in the future.\n  new_object = klass(**new_object_params)\n\u001B[32m[I 2023-03-09 12:59:49,759]\u001B[0m A new study created in memory with name: no-name-666132a2-6d59-4467-84c3-1209f1f994d5\u001B[0m\n\u001B[32m[I 2023-03-09 12:59:49,867]\u001B[0m Trial 0 finished with value: 0.8000944889329837 and parameters: {'max_depth': 19, 'min_samples_split': 88, 'min_samples_leaf': 29, 'n_estimators': 9}. Best is trial 0 with value: 0.8000944889329837.\u001B[0m\n\u001B[32m[I 2023-03-09 12:59:49,987]\u001B[0m Trial 1 finished with value: 0.7840408192190489 and parameters: {'max_depth': 22, 'min_samples_split': 52, 'min_samples_leaf': 54, 'n_estimators': 11}. Best is trial 0 with value: 0.8000944889329837.\u001B[0m\n\u001B[32m[I 2023-03-09 12:59:50,075]\u001B[0m Trial 2 finished with value: 0.7767509980393547 and parameters: {'max_depth': 21, 'min_samples_split': 99, 'min_samples_leaf': 90, 'n_estimators': 7}. Best is trial 0 with value: 0.8000944889329837.\u001B[0m\n\u001B[32m[I 2023-03-09 12:59:50,176]\u001B[0m Trial 3 finished with value: 0.7884192001511823 and parameters: {'max_depth': 9, 'min_samples_split': 82, 'min_samples_leaf': 57, 'n_estimators': 9}. Best is trial 0 with value: 0.8000944889329837.\u001B[0m\n\u001B[32m[I 2023-03-09 12:59:50,258]\u001B[0m Trial 4 finished with value: 0.7757789431412846 and parameters: {'max_depth': 23, 'min_samples_split': 18, 'min_samples_leaf': 98, 'n_estimators': 7}. Best is trial 0 with value: 0.8000944889329837.\u001B[0m\n\u001B[32m[I 2023-03-09 12:59:50,308]\u001B[0m Trial 5 finished with value: 0.8015614296175559 and parameters: {'max_depth': 27, 'min_samples_split': 18, 'min_samples_leaf': 23, 'n_estimators': 3}. Best is trial 5 with value: 0.8015614296175559.\u001B[0m\n\u001B[32m[I 2023-03-09 12:59:50,344]\u001B[0m Trial 6 finished with value: 0.7913554437436515 and parameters: {'max_depth': 9, 'min_samples_split': 55, 'min_samples_leaf': 24, 'n_estimators': 1}. Best is trial 5 with value: 0.8015614296175559.\u001B[0m\n\u001B[32m[I 2023-03-09 12:59:50,406]\u001B[0m Trial 7 finished with value: 0.7884203812628446 and parameters: {'max_depth': 26, 'min_samples_split': 96, 'min_samples_leaf': 38, 'n_estimators': 4}. Best is trial 5 with value: 0.8015614296175559.\u001B[0m\n\u001B[32m[I 2023-03-09 12:59:50,583]\u001B[0m Trial 8 finished with value: 0.7835553823258451 and parameters: {'max_depth': 25, 'min_samples_split': 11, 'min_samples_leaf': 58, 'n_estimators': 15}. Best is trial 5 with value: 0.8015614296175559.\u001B[0m\n\u001B[32m[I 2023-03-09 12:59:50,615]\u001B[0m Trial 9 finished with value: 0.7592504665391067 and parameters: {'max_depth': 6, 'min_samples_split': 63, 'min_samples_leaf': 76, 'n_estimators': 2}. Best is trial 5 with value: 0.8015614296175559.\u001B[0m\n/opt/conda/lib/python3.9/site-packages/sklearn/base.py:77: ExperimentalWarning: OptunaSearchCV is experimental (supported from v0.17.0). The interface can change in the future.\n  new_object = klass(**new_object_params)\n\u001B[32m[I 2023-03-09 12:59:50,636]\u001B[0m A new study created in memory with name: no-name-15d4446b-7e95-4776-8732-142b629db436\u001B[0m\n\u001B[32m[I 2023-03-09 12:59:50,698]\u001B[0m Trial 0 finished with value: 0.8268525736423122 and parameters: {'max_depth': 19, 'min_samples_split': 21, 'min_samples_leaf': 10, 'n_estimators': 4}. Best is trial 0 with value: 0.8268525736423122.\u001B[0m\n\u001B[32m[I 2023-03-09 12:59:50,743]\u001B[0m Trial 1 finished with value: 0.8185824297829116 and parameters: {'max_depth': 6, 'min_samples_split': 30, 'min_samples_leaf': 4, 'n_estimators': 2}. Best is trial 0 with value: 0.8268525736423122.\u001B[0m\n\u001B[32m[I 2023-03-09 12:59:50,896]\u001B[0m Trial 2 finished with value: 0.8059327238797156 and parameters: {'max_depth': 20, 'min_samples_split': 90, 'min_samples_leaf': 67, 'n_estimators': 14}. Best is trial 0 with value: 0.8268525736423122.\u001B[0m\n\u001B[32m[I 2023-03-09 12:59:50,992]\u001B[0m Trial 3 finished with value: 0.8039886140835755 and parameters: {'max_depth': 22, 'min_samples_split': 27, 'min_samples_leaf': 57, 'n_estimators': 8}. Best is trial 0 with value: 0.8268525736423122.\u001B[0m\n\u001B[32m[I 2023-03-09 12:59:51,087]\u001B[0m Trial 4 finished with value: 0.7937826282096709 and parameters: {'max_depth': 22, 'min_samples_split': 78, 'min_samples_leaf': 76, 'n_estimators': 8}. Best is trial 0 with value: 0.8268525736423122.\u001B[0m\n\u001B[32m[I 2023-03-09 12:59:51,283]\u001B[0m Trial 5 finished with value: 0.8073937590059763 and parameters: {'max_depth': 8, 'min_samples_split': 68, 'min_samples_leaf': 49, 'n_estimators': 19}. Best is trial 0 with value: 0.8268525736423122.\u001B[0m\n\u001B[32m[I 2023-03-09 12:59:51,413]\u001B[0m Trial 6 finished with value: 0.8239293222781281 and parameters: {'max_depth': 26, 'min_samples_split': 58, 'min_samples_leaf': 13, 'n_estimators': 10}. Best is trial 0 with value: 0.8268525736423122.\u001B[0m\n\u001B[32m[I 2023-03-09 12:59:51,586]\u001B[0m Trial 7 finished with value: 0.8268513925306497 and parameters: {'max_depth': 10, 'min_samples_split': 34, 'min_samples_leaf': 10, 'n_estimators': 14}. Best is trial 0 with value: 0.8268525736423122.\u001B[0m\n\u001B[32m[I 2023-03-09 12:59:51,736]\u001B[0m Trial 8 finished with value: 0.7957149268891881 and parameters: {'max_depth': 5, 'min_samples_split': 30, 'min_samples_leaf': 88, 'n_estimators': 15}. Best is trial 0 with value: 0.8268525736423122.\u001B[0m\n\u001B[32m[I 2023-03-09 12:59:51,967]\u001B[0m Trial 9 finished with value: 0.8463090260553232 and parameters: {'max_depth': 21, 'min_samples_split': 7, 'min_samples_leaf': 6, 'n_estimators': 18}. Best is trial 9 with value: 0.8463090260553232.\u001B[0m\n/opt/conda/lib/python3.9/site-packages/sklearn/base.py:77: ExperimentalWarning: OptunaSearchCV is experimental (supported from v0.17.0). The interface can change in the future.\n  new_object = klass(**new_object_params)\n\u001B[32m[I 2023-03-09 12:59:52,012]\u001B[0m A new study created in memory with name: no-name-45267ab4-b167-4fa7-b19c-ab7184a0add3\u001B[0m\n\u001B[32m[I 2023-03-09 12:59:52,182]\u001B[0m Trial 0 finished with value: 0.8390168426523044 and parameters: {'max_depth': 16, 'min_samples_split': 24, 'min_samples_leaf': 1, 'n_estimators': 13}. Best is trial 0 with value: 0.8390168426523044.\u001B[0m\n\u001B[32m[I 2023-03-09 12:59:52,375]\u001B[0m Trial 1 finished with value: 0.7791888125103348 and parameters: {'max_depth': 13, 'min_samples_split': 43, 'min_samples_leaf': 79, 'n_estimators': 18}. Best is trial 0 with value: 0.8390168426523044.\u001B[0m\n"
    },
    {
     "name": "stderr",
     "output_type": "stream",
     "text": "\u001B[32m[I 2023-03-09 12:59:52,471]\u001B[0m Trial 2 finished with value: 0.775286419578107 and parameters: {'max_depth': 3, 'min_samples_split': 96, 'min_samples_leaf': 34, 'n_estimators': 9}. Best is trial 0 with value: 0.8390168426523044.\u001B[0m\n\u001B[32m[I 2023-03-09 12:59:52,554]\u001B[0m Trial 3 finished with value: 0.7869711572532067 and parameters: {'max_depth': 28, 'min_samples_split': 95, 'min_samples_leaf': 40, 'n_estimators': 7}. Best is trial 0 with value: 0.8390168426523044.\u001B[0m\n\u001B[32m[I 2023-03-09 12:59:52,605]\u001B[0m Trial 4 finished with value: 0.7757801242529468 and parameters: {'max_depth': 25, 'min_samples_split': 50, 'min_samples_leaf': 58, 'n_estimators': 4}. Best is trial 0 with value: 0.8390168426523044.\u001B[0m\n\u001B[32m[I 2023-03-09 12:59:52,640]\u001B[0m Trial 5 finished with value: 0.767030449058654 and parameters: {'max_depth': 27, 'min_samples_split': 93, 'min_samples_leaf': 21, 'n_estimators': 1}. Best is trial 0 with value: 0.8390168426523044.\u001B[0m\n\u001B[32m[I 2023-03-09 12:59:52,802]\u001B[0m Trial 6 finished with value: 0.7821085205395317 and parameters: {'max_depth': 26, 'min_samples_split': 96, 'min_samples_leaf': 69, 'n_estimators': 16}. Best is trial 0 with value: 0.8390168426523044.\u001B[0m\n\u001B[32m[I 2023-03-09 12:59:52,983]\u001B[0m Trial 7 finished with value: 0.7957220135591618 and parameters: {'max_depth': 6, 'min_samples_split': 62, 'min_samples_leaf': 18, 'n_estimators': 18}. Best is trial 0 with value: 0.8390168426523044.\u001B[0m\n\u001B[32m[I 2023-03-09 12:59:53,115]\u001B[0m Trial 8 finished with value: 0.8098268490303073 and parameters: {'max_depth': 11, 'min_samples_split': 31, 'min_samples_leaf': 13, 'n_estimators': 11}. Best is trial 0 with value: 0.8390168426523044.\u001B[0m\n\u001B[32m[I 2023-03-09 12:59:53,152]\u001B[0m Trial 9 finished with value: 0.762653249238183 and parameters: {'max_depth': 15, 'min_samples_split': 85, 'min_samples_leaf': 90, 'n_estimators': 2}. Best is trial 0 with value: 0.8390168426523044.\u001B[0m\n/opt/conda/lib/python3.9/site-packages/sklearn/base.py:77: ExperimentalWarning: OptunaSearchCV is experimental (supported from v0.17.0). The interface can change in the future.\n  new_object = klass(**new_object_params)\n\u001B[32m[I 2023-03-09 12:59:53,189]\u001B[0m A new study created in memory with name: no-name-db0ea21a-9d16-445a-b8aa-edf1b70e3b3a\u001B[0m\n\u001B[32m[I 2023-03-09 12:59:53,224]\u001B[0m Trial 0 finished with value: 0.7860014645784611 and parameters: {'max_depth': 5, 'min_samples_split': 77, 'min_samples_leaf': 51, 'n_estimators': 2}. Best is trial 0 with value: 0.7860014645784611.\u001B[0m\n\u001B[32m[I 2023-03-09 12:59:53,331]\u001B[0m Trial 1 finished with value: 0.7821120638745187 and parameters: {'max_depth': 13, 'min_samples_split': 82, 'min_samples_leaf': 98, 'n_estimators': 10}. Best is trial 0 with value: 0.7860014645784611.\u001B[0m\n\u001B[32m[I 2023-03-09 12:59:53,364]\u001B[0m Trial 2 finished with value: 0.7859920156851629 and parameters: {'max_depth': 22, 'min_samples_split': 47, 'min_samples_leaf': 3, 'n_estimators': 1}. Best is trial 0 with value: 0.7860014645784611.\u001B[0m\n\u001B[32m[I 2023-03-09 12:59:53,524]\u001B[0m Trial 3 finished with value: 0.7393050338979046 and parameters: {'max_depth': 1, 'min_samples_split': 14, 'min_samples_leaf': 7, 'n_estimators': 19}. Best is trial 0 with value: 0.7860014645784611.\u001B[0m\n\u001B[32m[I 2023-03-09 12:59:53,731]\u001B[0m Trial 4 finished with value: 0.7811364656414618 and parameters: {'max_depth': 9, 'min_samples_split': 2, 'min_samples_leaf': 92, 'n_estimators': 20}. Best is trial 0 with value: 0.7860014645784611.\u001B[0m\n\u001B[32m[I 2023-03-09 12:59:53,845]\u001B[0m Trial 5 finished with value: 0.7952401200009449 and parameters: {'max_depth': 8, 'min_samples_split': 54, 'min_samples_leaf': 33, 'n_estimators': 10}. Best is trial 5 with value: 0.7952401200009449.\u001B[0m\n\u001B[32m[I 2023-03-09 12:59:54,043]\u001B[0m Trial 6 finished with value: 0.7918302506318948 and parameters: {'max_depth': 17, 'min_samples_split': 94, 'min_samples_leaf': 58, 'n_estimators': 19}. Best is trial 5 with value: 0.7952401200009449.\u001B[0m\n\u001B[32m[I 2023-03-09 12:59:54,241]\u001B[0m Trial 7 finished with value: 0.7898837786124301 and parameters: {'max_depth': 28, 'min_samples_split': 74, 'min_samples_leaf': 76, 'n_estimators': 20}. Best is trial 5 with value: 0.7952401200009449.\u001B[0m\n\u001B[32m[I 2023-03-09 12:59:54,397]\u001B[0m Trial 8 finished with value: 0.7855089410152837 and parameters: {'max_depth': 15, 'min_samples_split': 70, 'min_samples_leaf': 75, 'n_estimators': 15}. Best is trial 5 with value: 0.7952401200009449.\u001B[0m\n\u001B[32m[I 2023-03-09 12:59:54,593]\u001B[0m Trial 9 finished with value: 0.7918290695202324 and parameters: {'max_depth': 12, 'min_samples_split': 83, 'min_samples_leaf': 73, 'n_estimators': 19}. Best is trial 5 with value: 0.7952401200009449.\u001B[0m\n/opt/conda/lib/python3.9/site-packages/sklearn/base.py:77: ExperimentalWarning: OptunaSearchCV is experimental (supported from v0.17.0). The interface can change in the future.\n  new_object = klass(**new_object_params)\n\u001B[32m[I 2023-03-09 12:59:54,616]\u001B[0m A new study created in memory with name: no-name-20aa8d92-cc83-4040-8576-555ed6701314\u001B[0m\n\u001B[32m[I 2023-03-09 12:59:54,673]\u001B[0m Trial 0 finished with value: 0.7675229726218318 and parameters: {'max_depth': 27, 'min_samples_split': 55, 'min_samples_leaf': 71, 'n_estimators': 4}. Best is trial 0 with value: 0.7675229726218318.\u001B[0m\n\u001B[32m[I 2023-03-09 12:59:54,878]\u001B[0m Trial 1 finished with value: 0.7699477948645266 and parameters: {'max_depth': 24, 'min_samples_split': 6, 'min_samples_leaf': 60, 'n_estimators': 20}. Best is trial 1 with value: 0.7699477948645266.\u001B[0m\n\u001B[32m[I 2023-03-09 12:59:55,034]\u001B[0m Trial 2 finished with value: 0.7947523208844164 and parameters: {'max_depth': 16, 'min_samples_split': 68, 'min_samples_leaf': 8, 'n_estimators': 13}. Best is trial 2 with value: 0.7947523208844164.\u001B[0m\n\u001B[32m[I 2023-03-09 12:59:55,064]\u001B[0m Trial 3 finished with value: 0.7689745588547943 and parameters: {'max_depth': 18, 'min_samples_split': 62, 'min_samples_leaf': 4, 'n_estimators': 1}. Best is trial 2 with value: 0.7947523208844164.\u001B[0m\n\u001B[32m[I 2023-03-09 12:59:55,117]\u001B[0m Trial 4 finished with value: 0.7845404294522005 and parameters: {'max_depth': 21, 'min_samples_split': 39, 'min_samples_leaf': 14, 'n_estimators': 4}. Best is trial 2 with value: 0.7947523208844164.\u001B[0m\n\u001B[32m[I 2023-03-09 12:59:55,201]\u001B[0m Trial 5 finished with value: 0.8117792266080835 and parameters: {'max_depth': 12, 'min_samples_split': 23, 'min_samples_leaf': 1, 'n_estimators': 6}. Best is trial 5 with value: 0.8117792266080835.\u001B[0m\n\u001B[32m[I 2023-03-09 12:59:55,292]\u001B[0m Trial 6 finished with value: 0.8010795360593391 and parameters: {'max_depth': 23, 'min_samples_split': 13, 'min_samples_leaf': 7, 'n_estimators': 6}. Best is trial 5 with value: 0.8117792266080835.\u001B[0m\n\u001B[32m[I 2023-03-09 12:59:55,354]\u001B[0m Trial 7 finished with value: 0.7646056268159592 and parameters: {'max_depth': 11, 'min_samples_split': 58, 'min_samples_leaf': 86, 'n_estimators': 5}. Best is trial 5 with value: 0.8117792266080835.\u001B[0m\n\u001B[32m[I 2023-03-09 12:59:55,515]\u001B[0m Trial 8 finished with value: 0.7752994118063923 and parameters: {'max_depth': 27, 'min_samples_split': 66, 'min_samples_leaf': 53, 'n_estimators': 16}. Best is trial 5 with value: 0.8117792266080835.\u001B[0m\n\u001B[32m[I 2023-03-09 12:59:55,642]\u001B[0m Trial 9 finished with value: 0.7655729572673801 and parameters: {'max_depth': 11, 'min_samples_split': 91, 'min_samples_leaf': 84, 'n_estimators': 11}. Best is trial 5 with value: 0.8117792266080835.\u001B[0m\n/opt/conda/lib/python3.9/site-packages/sklearn/base.py:77: ExperimentalWarning: OptunaSearchCV is experimental (supported from v0.17.0). The interface can change in the future.\n  new_object = klass(**new_object_params)\n\u001B[32m[I 2023-03-09 12:59:55,665]\u001B[0m A new study created in memory with name: no-name-0a00dd8f-80df-4092-9c76-e80406272439\u001B[0m\n\u001B[32m[I 2023-03-09 12:59:55,813]\u001B[0m Trial 0 finished with value: 0.7825880518744242 and parameters: {'max_depth': 3, 'min_samples_split': 88, 'min_samples_leaf': 34, 'n_estimators': 16}. Best is trial 0 with value: 0.7825880518744242.\u001B[0m\n\u001B[32m[I 2023-03-09 12:59:55,950]\u001B[0m Trial 1 finished with value: 0.7903739399522831 and parameters: {'max_depth': 11, 'min_samples_split': 16, 'min_samples_leaf': 32, 'n_estimators': 11}. Best is trial 1 with value: 0.7903739399522831.\u001B[0m\n"
    },
    {
     "name": "stderr",
     "output_type": "stream",
     "text": "\u001B[32m[I 2023-03-09 12:59:56,014]\u001B[0m Trial 2 finished with value: 0.7806451231899463 and parameters: {'max_depth': 21, 'min_samples_split': 6, 'min_samples_leaf': 57, 'n_estimators': 5}. Best is trial 1 with value: 0.7903739399522831.\u001B[0m\n\u001B[32m[I 2023-03-09 12:59:56,256]\u001B[0m Trial 3 finished with value: 0.7874554130347484 and parameters: {'max_depth': 9, 'min_samples_split': 67, 'min_samples_leaf': 42, 'n_estimators': 20}. Best is trial 1 with value: 0.7903739399522831.\u001B[0m\n\u001B[32m[I 2023-03-09 12:59:56,354]\u001B[0m Trial 4 finished with value: 0.7791840880636856 and parameters: {'max_depth': 4, 'min_samples_split': 10, 'min_samples_leaf': 35, 'n_estimators': 9}. Best is trial 1 with value: 0.7903739399522831.\u001B[0m\n\u001B[32m[I 2023-03-09 12:59:56,599]\u001B[0m Trial 5 finished with value: 0.8171190324333262 and parameters: {'max_depth': 22, 'min_samples_split': 45, 'min_samples_leaf': 8, 'n_estimators': 20}. Best is trial 5 with value: 0.8171190324333262.\u001B[0m\n\u001B[32m[I 2023-03-09 12:59:56,626]\u001B[0m Trial 6 finished with value: 0.7558405971700565 and parameters: {'max_depth': 7, 'min_samples_split': 8, 'min_samples_leaf': 60, 'n_estimators': 1}. Best is trial 5 with value: 0.8171190324333262.\u001B[0m\n\u001B[32m[I 2023-03-09 12:59:56,760]\u001B[0m Trial 7 finished with value: 0.7850235041220797 and parameters: {'max_depth': 27, 'min_samples_split': 19, 'min_samples_leaf': 57, 'n_estimators': 11}. Best is trial 5 with value: 0.8171190324333262.\u001B[0m\n\u001B[32m[I 2023-03-09 12:59:56,882]\u001B[0m Trial 8 finished with value: 0.7821037960928826 and parameters: {'max_depth': 5, 'min_samples_split': 23, 'min_samples_leaf': 88, 'n_estimators': 11}. Best is trial 5 with value: 0.8171190324333262.\u001B[0m\n\u001B[32m[I 2023-03-09 12:59:57,050]\u001B[0m Trial 9 finished with value: 0.797184229797085 and parameters: {'max_depth': 25, 'min_samples_split': 49, 'min_samples_leaf': 25, 'n_estimators': 14}. Best is trial 5 with value: 0.8171190324333262.\u001B[0m\n/opt/conda/lib/python3.9/site-packages/sklearn/base.py:77: ExperimentalWarning: OptunaSearchCV is experimental (supported from v0.17.0). The interface can change in the future.\n  new_object = klass(**new_object_params)\n\u001B[32m[I 2023-03-09 12:59:57,102]\u001B[0m A new study created in memory with name: no-name-daea594e-50bf-44dc-a733-580341edcb3e\u001B[0m\n\u001B[32m[I 2023-03-09 12:59:57,294]\u001B[0m Trial 0 finished with value: 0.806424066331231 and parameters: {'max_depth': 7, 'min_samples_split': 95, 'min_samples_leaf': 24, 'n_estimators': 16}. Best is trial 0 with value: 0.806424066331231.\u001B[0m\n\u001B[32m[I 2023-03-09 12:59:57,368]\u001B[0m Trial 1 finished with value: 0.7611874896652729 and parameters: {'max_depth': 3, 'min_samples_split': 10, 'min_samples_leaf': 57, 'n_estimators': 5}. Best is trial 0 with value: 0.806424066331231.\u001B[0m\n\u001B[32m[I 2023-03-09 12:59:57,515]\u001B[0m Trial 2 finished with value: 0.8146942101906314 and parameters: {'max_depth': 23, 'min_samples_split': 49, 'min_samples_leaf': 27, 'n_estimators': 13}. Best is trial 2 with value: 0.8146942101906314.\u001B[0m\n\u001B[32m[I 2023-03-09 12:59:57,573]\u001B[0m Trial 3 finished with value: 0.7777289584957362 and parameters: {'max_depth': 12, 'min_samples_split': 33, 'min_samples_leaf': 44, 'n_estimators': 4}. Best is trial 2 with value: 0.8146942101906314.\u001B[0m\n\u001B[32m[I 2023-03-09 12:59:57,750]\u001B[0m Trial 4 finished with value: 0.7855053976802967 and parameters: {'max_depth': 17, 'min_samples_split': 73, 'min_samples_leaf': 72, 'n_estimators': 16}. Best is trial 2 with value: 0.8146942101906314.\u001B[0m\n\u001B[32m[I 2023-03-09 12:59:57,843]\u001B[0m Trial 5 finished with value: 0.7587555807526044 and parameters: {'max_depth': 5, 'min_samples_split': 70, 'min_samples_leaf': 76, 'n_estimators': 7}. Best is trial 2 with value: 0.8146942101906314.\u001B[0m\n\u001B[32m[I 2023-03-09 12:59:58,078]\u001B[0m Trial 6 finished with value: 0.8005846502728369 and parameters: {'max_depth': 26, 'min_samples_split': 83, 'min_samples_leaf': 36, 'n_estimators': 11}. Best is trial 2 with value: 0.8146942101906314.\u001B[0m\n\u001B[32m[I 2023-03-09 12:59:58,139]\u001B[0m Trial 7 finished with value: 0.7791840880636856 and parameters: {'max_depth': 6, 'min_samples_split': 9, 'min_samples_leaf': 47, 'n_estimators': 4}. Best is trial 2 with value: 0.8146942101906314.\u001B[0m\n\u001B[32m[I 2023-03-09 12:59:58,434]\u001B[0m Trial 8 finished with value: 0.8010712682777029 and parameters: {'max_depth': 27, 'min_samples_split': 39, 'min_samples_leaf': 49, 'n_estimators': 20}. Best is trial 2 with value: 0.8146942101906314.\u001B[0m\n\u001B[32m[I 2023-03-09 12:59:58,569]\u001B[0m Trial 9 finished with value: 0.7806368554083102 and parameters: {'max_depth': 21, 'min_samples_split': 15, 'min_samples_leaf': 89, 'n_estimators': 12}. Best is trial 2 with value: 0.8146942101906314.\u001B[0m\n/opt/conda/lib/python3.9/site-packages/sklearn/base.py:77: ExperimentalWarning: OptunaSearchCV is experimental (supported from v0.17.0). The interface can change in the future.\n  new_object = klass(**new_object_params)\n\u001B[32m[I 2023-03-09 12:59:58,601]\u001B[0m A new study created in memory with name: no-name-4bdbf613-27b5-4a12-a210-487666b4064b\u001B[0m\n\u001B[32m[I 2023-03-09 12:59:58,790]\u001B[0m Trial 0 finished with value: 0.80351262608367 and parameters: {'max_depth': 13, 'min_samples_split': 30, 'min_samples_leaf': 46, 'n_estimators': 17}. Best is trial 0 with value: 0.80351262608367.\u001B[0m\n\u001B[32m[I 2023-03-09 12:59:58,895]\u001B[0m Trial 1 finished with value: 0.8161587886518792 and parameters: {'max_depth': 16, 'min_samples_split': 24, 'min_samples_leaf': 16, 'n_estimators': 8}. Best is trial 1 with value: 0.8161587886518792.\u001B[0m\n\u001B[32m[I 2023-03-09 12:59:59,131]\u001B[0m Trial 2 finished with value: 0.7942727895495241 and parameters: {'max_depth': 9, 'min_samples_split': 47, 'min_samples_leaf': 84, 'n_estimators': 20}. Best is trial 1 with value: 0.8161587886518792.\u001B[0m\n\u001B[32m[I 2023-03-09 12:59:59,182]\u001B[0m Trial 3 finished with value: 0.7718942668839913 and parameters: {'max_depth': 23, 'min_samples_split': 63, 'min_samples_leaf': 93, 'n_estimators': 3}. Best is trial 1 with value: 0.8161587886518792.\u001B[0m\n\u001B[32m[I 2023-03-09 12:59:59,409]\u001B[0m Trial 4 finished with value: 0.8035102638603453 and parameters: {'max_depth': 24, 'min_samples_split': 95, 'min_samples_leaf': 39, 'n_estimators': 18}. Best is trial 1 with value: 0.8161587886518792.\u001B[0m\n\u001B[32m[I 2023-03-09 12:59:59,524]\u001B[0m Trial 5 finished with value: 0.7787021945054686 and parameters: {'max_depth': 23, 'min_samples_split': 46, 'min_samples_leaf': 84, 'n_estimators': 11}. Best is trial 1 with value: 0.8161587886518792.\u001B[0m\n\u001B[32m[I 2023-03-09 12:59:59,616]\u001B[0m Trial 6 finished with value: 0.7694576335246734 and parameters: {'max_depth': 22, 'min_samples_split': 23, 'min_samples_leaf': 96, 'n_estimators': 8}. Best is trial 1 with value: 0.8161587886518792.\u001B[0m\n\u001B[32m[I 2023-03-09 12:59:59,696]\u001B[0m Trial 7 finished with value: 0.7787010133938063 and parameters: {'max_depth': 17, 'min_samples_split': 42, 'min_samples_leaf': 74, 'n_estimators': 6}. Best is trial 1 with value: 0.8161587886518792.\u001B[0m\n\u001B[32m[I 2023-03-09 12:59:59,830]\u001B[0m Trial 8 finished with value: 0.797674391136938 and parameters: {'max_depth': 14, 'min_samples_split': 81, 'min_samples_leaf': 52, 'n_estimators': 12}. Best is trial 1 with value: 0.8161587886518792.\u001B[0m\n\u001B[32m[I 2023-03-09 13:00:00,022]\u001B[0m Trial 9 finished with value: 0.7937861715446578 and parameters: {'max_depth': 26, 'min_samples_split': 46, 'min_samples_leaf': 68, 'n_estimators': 19}. Best is trial 1 with value: 0.8161587886518792.\u001B[0m\n/opt/conda/lib/python3.9/site-packages/sklearn/base.py:77: ExperimentalWarning: OptunaSearchCV is experimental (supported from v0.17.0). The interface can change in the future.\n  new_object = klass(**new_object_params)\n\u001B[32m[I 2023-03-09 13:00:00,054]\u001B[0m A new study created in memory with name: no-name-93b92b0f-d8b8-4a6f-8875-f6899d6d953b\u001B[0m\n\u001B[32m[I 2023-03-09 13:00:00,125]\u001B[0m Trial 0 finished with value: 0.7830758509909528 and parameters: {'max_depth': 24, 'min_samples_split': 33, 'min_samples_leaf': 56, 'n_estimators': 6}. Best is trial 0 with value: 0.7830758509909528.\u001B[0m\n\u001B[32m[I 2023-03-09 13:00:00,280]\u001B[0m Trial 1 finished with value: 0.7733576642335767 and parameters: {'max_depth': 20, 'min_samples_split': 25, 'min_samples_leaf': 98, 'n_estimators': 15}. Best is trial 0 with value: 0.7830758509909528.\u001B[0m\n"
    },
    {
     "name": "stderr",
     "output_type": "stream",
     "text": "\u001B[32m[I 2023-03-09 13:00:00,437]\u001B[0m Trial 2 finished with value: 0.7811341034181372 and parameters: {'max_depth': 28, 'min_samples_split': 83, 'min_samples_leaf': 81, 'n_estimators': 14}. Best is trial 0 with value: 0.7830758509909528.\u001B[0m\n\u001B[32m[I 2023-03-09 13:00:00,551]\u001B[0m Trial 3 finished with value: 0.7869735194765313 and parameters: {'max_depth': 5, 'min_samples_split': 100, 'min_samples_leaf': 18, 'n_estimators': 9}. Best is trial 3 with value: 0.7869735194765313.\u001B[0m\n\u001B[32m[I 2023-03-09 13:00:00,624]\u001B[0m Trial 4 finished with value: 0.7675099803935463 and parameters: {'max_depth': 26, 'min_samples_split': 48, 'min_samples_leaf': 78, 'n_estimators': 6}. Best is trial 3 with value: 0.7869735194765313.\u001B[0m\n\u001B[32m[I 2023-03-09 13:00:00,719]\u001B[0m Trial 5 finished with value: 0.7913519004086645 and parameters: {'max_depth': 18, 'min_samples_split': 53, 'min_samples_leaf': 39, 'n_estimators': 7}. Best is trial 5 with value: 0.7913519004086645.\u001B[0m\n\u001B[32m[I 2023-03-09 13:00:00,807]\u001B[0m Trial 6 finished with value: 0.7670292679469917 and parameters: {'max_depth': 18, 'min_samples_split': 84, 'min_samples_leaf': 97, 'n_estimators': 8}. Best is trial 5 with value: 0.7913519004086645.\u001B[0m\n\u001B[32m[I 2023-03-09 13:00:00,863]\u001B[0m Trial 7 finished with value: 0.7451361821746628 and parameters: {'max_depth': 14, 'min_samples_split': 74, 'min_samples_leaf': 65, 'n_estimators': 3}. Best is trial 5 with value: 0.7913519004086645.\u001B[0m\n\u001B[32m[I 2023-03-09 13:00:01,006]\u001B[0m Trial 8 finished with value: 0.7918373373018686 and parameters: {'max_depth': 25, 'min_samples_split': 57, 'min_samples_leaf': 59, 'n_estimators': 12}. Best is trial 8 with value: 0.7918373373018686.\u001B[0m\n\u001B[32m[I 2023-03-09 13:00:01,074]\u001B[0m Trial 9 finished with value: 0.7519488342427894 and parameters: {'max_depth': 28, 'min_samples_split': 15, 'min_samples_leaf': 80, 'n_estimators': 5}. Best is trial 8 with value: 0.7918373373018686.\u001B[0m\n/opt/conda/lib/python3.9/site-packages/sklearn/base.py:77: ExperimentalWarning: OptunaSearchCV is experimental (supported from v0.17.0). The interface can change in the future.\n  new_object = klass(**new_object_params)\n\u001B[32m[I 2023-03-09 13:00:01,101]\u001B[0m A new study created in memory with name: no-name-4cd04b97-a846-45f7-b68c-61b70f2284db\u001B[0m\n\u001B[32m[I 2023-03-09 13:00:01,277]\u001B[0m Trial 0 finished with value: 0.7767509980393547 and parameters: {'max_depth': 2, 'min_samples_split': 22, 'min_samples_leaf': 11, 'n_estimators': 19}. Best is trial 0 with value: 0.7767509980393547.\u001B[0m\n\u001B[32m[I 2023-03-09 13:00:01,404]\u001B[0m Trial 1 finished with value: 0.7786986511704816 and parameters: {'max_depth': 5, 'min_samples_split': 29, 'min_samples_leaf': 62, 'n_estimators': 12}. Best is trial 1 with value: 0.7786986511704816.\u001B[0m\n\u001B[32m[I 2023-03-09 13:00:01,430]\u001B[0m Trial 2 finished with value: 0.7645997212576476 and parameters: {'max_depth': 26, 'min_samples_split': 11, 'min_samples_leaf': 92, 'n_estimators': 1}. Best is trial 1 with value: 0.7786986511704816.\u001B[0m\n\u001B[32m[I 2023-03-09 13:00:01,510]\u001B[0m Trial 3 finished with value: 0.7786986511704816 and parameters: {'max_depth': 19, 'min_samples_split': 4, 'min_samples_leaf': 53, 'n_estimators': 6}. Best is trial 1 with value: 0.7786986511704816.\u001B[0m\n\u001B[32m[I 2023-03-09 13:00:01,562]\u001B[0m Trial 4 finished with value: 0.7714029244324758 and parameters: {'max_depth': 9, 'min_samples_split': 30, 'min_samples_leaf': 90, 'n_estimators': 2}. Best is trial 1 with value: 0.7786986511704816.\u001B[0m\n\u001B[32m[I 2023-03-09 13:00:01,777]\u001B[0m Trial 5 finished with value: 0.7879432121512767 and parameters: {'max_depth': 5, 'min_samples_split': 55, 'min_samples_leaf': 30, 'n_estimators': 20}. Best is trial 5 with value: 0.7879432121512767.\u001B[0m\n\u001B[32m[I 2023-03-09 13:00:01,976]\u001B[0m Trial 6 finished with value: 0.7689745588547942 and parameters: {'max_depth': 18, 'min_samples_split': 65, 'min_samples_leaf': 89, 'n_estimators': 16}. Best is trial 5 with value: 0.7879432121512767.\u001B[0m\n\u001B[32m[I 2023-03-09 13:00:02,122]\u001B[0m Trial 7 finished with value: 0.7786986511704816 and parameters: {'max_depth': 4, 'min_samples_split': 25, 'min_samples_leaf': 58, 'n_estimators': 16}. Best is trial 5 with value: 0.7879432121512767.\u001B[0m\n\u001B[32m[I 2023-03-09 13:00:02,278]\u001B[0m Trial 8 finished with value: 0.7864821770250159 and parameters: {'max_depth': 7, 'min_samples_split': 64, 'min_samples_leaf': 35, 'n_estimators': 14}. Best is trial 5 with value: 0.7879432121512767.\u001B[0m\n\u001B[32m[I 2023-03-09 13:00:02,385]\u001B[0m Trial 9 finished with value: 0.777727777384074 and parameters: {'max_depth': 20, 'min_samples_split': 86, 'min_samples_leaf': 90, 'n_estimators': 9}. Best is trial 5 with value: 0.7879432121512767.\u001B[0m\n/opt/conda/lib/python3.9/site-packages/sklearn/base.py:77: ExperimentalWarning: OptunaSearchCV is experimental (supported from v0.17.0). The interface can change in the future.\n  new_object = klass(**new_object_params)\n\u001B[32m[I 2023-03-09 13:00:02,425]\u001B[0m A new study created in memory with name: no-name-5d2515ef-c855-4470-ae1d-1c60dd427280\u001B[0m\n\u001B[32m[I 2023-03-09 13:00:02,457]\u001B[0m Trial 0 finished with value: 0.7840420003307113 and parameters: {'max_depth': 16, 'min_samples_split': 73, 'min_samples_leaf': 48, 'n_estimators': 1}. Best is trial 0 with value: 0.7840420003307113.\u001B[0m\n\u001B[32m[I 2023-03-09 13:00:02,594]\u001B[0m Trial 1 finished with value: 0.8132308128410459 and parameters: {'max_depth': 6, 'min_samples_split': 15, 'min_samples_leaf': 33, 'n_estimators': 13}. Best is trial 1 with value: 0.8132308128410459.\u001B[0m\n\u001B[32m[I 2023-03-09 13:00:02,723]\u001B[0m Trial 2 finished with value: 0.7796813360735124 and parameters: {'max_depth': 29, 'min_samples_split': 88, 'min_samples_leaf': 96, 'n_estimators': 12}. Best is trial 1 with value: 0.8132308128410459.\u001B[0m\n\u001B[32m[I 2023-03-09 13:00:02,907]\u001B[0m Trial 3 finished with value: 0.8010771738360145 and parameters: {'max_depth': 23, 'min_samples_split': 100, 'min_samples_leaf': 57, 'n_estimators': 17}. Best is trial 1 with value: 0.8132308128410459.\u001B[0m\n\u001B[32m[I 2023-03-09 13:00:03,064]\u001B[0m Trial 4 finished with value: 0.7981610091418043 and parameters: {'max_depth': 13, 'min_samples_split': 94, 'min_samples_leaf': 98, 'n_estimators': 15}. Best is trial 1 with value: 0.8132308128410459.\u001B[0m\n\u001B[32m[I 2023-03-09 13:00:03,108]\u001B[0m Trial 5 finished with value: 0.7976708478019512 and parameters: {'max_depth': 2, 'min_samples_split': 25, 'min_samples_leaf': 47, 'n_estimators': 4}. Best is trial 1 with value: 0.8132308128410459.\u001B[0m\n\u001B[32m[I 2023-03-09 13:00:03,176]\u001B[0m Trial 6 finished with value: 0.8331786077055725 and parameters: {'max_depth': 13, 'min_samples_split': 38, 'min_samples_leaf': 2, 'n_estimators': 4}. Best is trial 6 with value: 0.8331786077055725.\u001B[0m\n\u001B[32m[I 2023-03-09 13:00:03,303]\u001B[0m Trial 7 finished with value: 0.8239340467247773 and parameters: {'max_depth': 13, 'min_samples_split': 21, 'min_samples_leaf': 14, 'n_estimators': 10}. Best is trial 6 with value: 0.8331786077055725.\u001B[0m\n\u001B[32m[I 2023-03-09 13:00:03,351]\u001B[0m Trial 8 finished with value: 0.8000980322679705 and parameters: {'max_depth': 29, 'min_samples_split': 4, 'min_samples_leaf': 56, 'n_estimators': 3}. Best is trial 6 with value: 0.8331786077055725.\u001B[0m\n\u001B[32m[I 2023-03-09 13:00:03,402]\u001B[0m Trial 9 finished with value: 0.7879420310396145 and parameters: {'max_depth': 18, 'min_samples_split': 98, 'min_samples_leaf': 81, 'n_estimators': 4}. Best is trial 6 with value: 0.8331786077055725.\u001B[0m\n/opt/conda/lib/python3.9/site-packages/sklearn/base.py:77: ExperimentalWarning: OptunaSearchCV is experimental (supported from v0.17.0). The interface can change in the future.\n  new_object = klass(**new_object_params)\n\u001B[32m[I 2023-03-09 13:00:03,418]\u001B[0m A new study created in memory with name: no-name-5d16d971-7d61-4df4-ab7c-46d27ad4ec09\u001B[0m\n\u001B[32m[I 2023-03-09 13:00:03,581]\u001B[0m Trial 0 finished with value: 0.7961980015590674 and parameters: {'max_depth': 27, 'min_samples_split': 36, 'min_samples_leaf': 32, 'n_estimators': 13}. Best is trial 0 with value: 0.7961980015590674.\u001B[0m\n\u001B[32m[I 2023-03-09 13:00:03,757]\u001B[0m Trial 1 finished with value: 0.7407471712375688 and parameters: {'max_depth': 1, 'min_samples_split': 39, 'min_samples_leaf': 22, 'n_estimators': 20}. Best is trial 0 with value: 0.7961980015590674.\u001B[0m\n"
    },
    {
     "name": "stderr",
     "output_type": "stream",
     "text": "\u001B[32m[I 2023-03-09 13:00:03,949]\u001B[0m Trial 2 finished with value: 0.7874483263647745 and parameters: {'max_depth': 23, 'min_samples_split': 76, 'min_samples_leaf': 50, 'n_estimators': 16}. Best is trial 0 with value: 0.7961980015590674.\u001B[0m\n\u001B[32m[I 2023-03-09 13:00:03,998]\u001B[0m Trial 3 finished with value: 0.7626367136749108 and parameters: {'max_depth': 9, 'min_samples_split': 46, 'min_samples_leaf': 72, 'n_estimators': 3}. Best is trial 0 with value: 0.7961980015590674.\u001B[0m\n\u001B[32m[I 2023-03-09 13:00:04,251]\u001B[0m Trial 4 finished with value: 0.7966834384522713 and parameters: {'max_depth': 27, 'min_samples_split': 53, 'min_samples_leaf': 36, 'n_estimators': 18}. Best is trial 4 with value: 0.7966834384522713.\u001B[0m\n\u001B[32m[I 2023-03-09 13:00:04,366]\u001B[0m Trial 5 finished with value: 0.7733364042236553 and parameters: {'max_depth': 5, 'min_samples_split': 52, 'min_samples_leaf': 94, 'n_estimators': 9}. Best is trial 4 with value: 0.7966834384522713.\u001B[0m\n\u001B[32m[I 2023-03-09 13:00:04,609]\u001B[0m Trial 6 finished with value: 0.7850175985637682 and parameters: {'max_depth': 24, 'min_samples_split': 3, 'min_samples_leaf': 52, 'n_estimators': 19}. Best is trial 4 with value: 0.7966834384522713.\u001B[0m\n\u001B[32m[I 2023-03-09 13:00:04,784]\u001B[0m Trial 7 finished with value: 0.782583327427775 and parameters: {'max_depth': 17, 'min_samples_split': 19, 'min_samples_leaf': 63, 'n_estimators': 15}. Best is trial 4 with value: 0.7966834384522713.\u001B[0m\n\u001B[32m[I 2023-03-09 13:00:04,908]\u001B[0m Trial 8 finished with value: 0.7923086008551249 and parameters: {'max_depth': 27, 'min_samples_split': 88, 'min_samples_leaf': 40, 'n_estimators': 9}. Best is trial 4 with value: 0.7966834384522713.\u001B[0m\n\u001B[32m[I 2023-03-09 13:00:05,047]\u001B[0m Trial 9 finished with value: 0.7932771124182081 and parameters: {'max_depth': 4, 'min_samples_split': 75, 'min_samples_leaf': 42, 'n_estimators': 12}. Best is trial 4 with value: 0.7966834384522713.\u001B[0m\n/opt/conda/lib/python3.9/site-packages/sklearn/base.py:77: ExperimentalWarning: OptunaSearchCV is experimental (supported from v0.17.0). The interface can change in the future.\n  new_object = klass(**new_object_params)\n\u001B[32m[I 2023-03-09 13:00:05,097]\u001B[0m A new study created in memory with name: no-name-6c424024-5595-428e-ade3-f8e6e0f1f5ce\u001B[0m\n\u001B[32m[I 2023-03-09 13:00:05,180]\u001B[0m Trial 0 finished with value: 0.7310230789218813 and parameters: {'max_depth': 1, 'min_samples_split': 10, 'min_samples_leaf': 10, 'n_estimators': 7}. Best is trial 0 with value: 0.7310230789218813.\u001B[0m\n\u001B[32m[I 2023-03-09 13:00:05,205]\u001B[0m Trial 1 finished with value: 0.7139949920865518 and parameters: {'max_depth': 23, 'min_samples_split': 92, 'min_samples_leaf': 86, 'n_estimators': 1}. Best is trial 0 with value: 0.7310230789218813.\u001B[0m\n\u001B[32m[I 2023-03-09 13:00:05,258]\u001B[0m Trial 2 finished with value: 0.7718836368790305 and parameters: {'max_depth': 3, 'min_samples_split': 25, 'min_samples_leaf': 36, 'n_estimators': 3}. Best is trial 2 with value: 0.7718836368790305.\u001B[0m\n\u001B[32m[I 2023-03-09 13:00:05,302]\u001B[0m Trial 3 finished with value: 0.7806451231899463 and parameters: {'max_depth': 9, 'min_samples_split': 20, 'min_samples_leaf': 65, 'n_estimators': 3}. Best is trial 3 with value: 0.7806451231899463.\u001B[0m\n\u001B[32m[I 2023-03-09 13:00:05,355]\u001B[0m Trial 4 finished with value: 0.7777265962724116 and parameters: {'max_depth': 26, 'min_samples_split': 81, 'min_samples_leaf': 70, 'n_estimators': 3}. Best is trial 3 with value: 0.7806451231899463.\u001B[0m\n\u001B[32m[I 2023-03-09 13:00:05,378]\u001B[0m Trial 5 finished with value: 0.7383282545531855 and parameters: {'max_depth': 26, 'min_samples_split': 87, 'min_samples_leaf': 17, 'n_estimators': 1}. Best is trial 3 with value: 0.7806451231899463.\u001B[0m\n\u001B[32m[I 2023-03-09 13:00:05,474]\u001B[0m Trial 6 finished with value: 0.8010653627193914 and parameters: {'max_depth': 23, 'min_samples_split': 13, 'min_samples_leaf': 18, 'n_estimators': 7}. Best is trial 6 with value: 0.8010653627193914.\u001B[0m\n\u001B[32m[I 2023-03-09 13:00:05,682]\u001B[0m Trial 7 finished with value: 0.7665332010488272 and parameters: {'max_depth': 27, 'min_samples_split': 77, 'min_samples_leaf': 92, 'n_estimators': 20}. Best is trial 6 with value: 0.8010653627193914.\u001B[0m\n\u001B[32m[I 2023-03-09 13:00:05,882]\u001B[0m Trial 8 finished with value: 0.7923180497484232 and parameters: {'max_depth': 24, 'min_samples_split': 82, 'min_samples_leaf': 26, 'n_estimators': 17}. Best is trial 6 with value: 0.8010653627193914.\u001B[0m\n\u001B[32m[I 2023-03-09 13:00:06,143]\u001B[0m Trial 9 finished with value: 0.8001015756029576 and parameters: {'max_depth': 27, 'min_samples_split': 76, 'min_samples_leaf': 8, 'n_estimators': 20}. Best is trial 6 with value: 0.8010653627193914.\u001B[0m\n/opt/conda/lib/python3.9/site-packages/sklearn/base.py:77: ExperimentalWarning: OptunaSearchCV is experimental (supported from v0.17.0). The interface can change in the future.\n  new_object = klass(**new_object_params)\n\u001B[32m[I 2023-03-09 13:00:06,170]\u001B[0m A new study created in memory with name: no-name-f216092b-998d-411d-a57b-efa2a35a6b98\u001B[0m\n\u001B[32m[I 2023-03-09 13:00:06,348]\u001B[0m Trial 0 finished with value: 0.7928070299766139 and parameters: {'max_depth': 24, 'min_samples_split': 62, 'min_samples_leaf': 78, 'n_estimators': 15}. Best is trial 0 with value: 0.7928070299766139.\u001B[0m\n\u001B[32m[I 2023-03-09 13:00:06,463]\u001B[0m Trial 1 finished with value: 0.7991307018165497 and parameters: {'max_depth': 26, 'min_samples_split': 62, 'min_samples_leaf': 23, 'n_estimators': 7}. Best is trial 1 with value: 0.7991307018165497.\u001B[0m\n\u001B[32m[I 2023-03-09 13:00:06,564]\u001B[0m Trial 2 finished with value: 0.8103122859235112 and parameters: {'max_depth': 20, 'min_samples_split': 92, 'min_samples_leaf': 18, 'n_estimators': 7}. Best is trial 2 with value: 0.8103122859235112.\u001B[0m\n\u001B[32m[I 2023-03-09 13:00:06,706]\u001B[0m Trial 3 finished with value: 0.7733517586752653 and parameters: {'max_depth': 15, 'min_samples_split': 33, 'min_samples_leaf': 92, 'n_estimators': 12}. Best is trial 2 with value: 0.8103122859235112.\u001B[0m\n\u001B[32m[I 2023-03-09 13:00:06,810]\u001B[0m Trial 4 finished with value: 0.7927987621949779 and parameters: {'max_depth': 22, 'min_samples_split': 61, 'min_samples_leaf': 59, 'n_estimators': 6}. Best is trial 2 with value: 0.8103122859235112.\u001B[0m\n\u001B[32m[I 2023-03-09 13:00:07,006]\u001B[0m Trial 5 finished with value: 0.780643942078284 and parameters: {'max_depth': 27, 'min_samples_split': 24, 'min_samples_leaf': 90, 'n_estimators': 17}. Best is trial 2 with value: 0.8103122859235112.\u001B[0m\n\u001B[32m[I 2023-03-09 13:00:07,075]\u001B[0m Trial 6 finished with value: 0.8064228852195686 and parameters: {'max_depth': 9, 'min_samples_split': 17, 'min_samples_leaf': 14, 'n_estimators': 4}. Best is trial 2 with value: 0.8103122859235112.\u001B[0m\n\u001B[32m[I 2023-03-09 13:00:07,335]\u001B[0m Trial 7 finished with value: 0.8069130465594216 and parameters: {'max_depth': 18, 'min_samples_split': 39, 'min_samples_leaf': 21, 'n_estimators': 20}. Best is trial 2 with value: 0.8103122859235112.\u001B[0m\n\u001B[32m[I 2023-03-09 13:00:07,416]\u001B[0m Trial 8 finished with value: 0.7757836675879338 and parameters: {'max_depth': 30, 'min_samples_split': 67, 'min_samples_leaf': 86, 'n_estimators': 6}. Best is trial 2 with value: 0.8103122859235112.\u001B[0m\n\u001B[32m[I 2023-03-09 13:00:07,493]\u001B[0m Trial 9 finished with value: 0.7966952495688943 and parameters: {'max_depth': 18, 'min_samples_split': 94, 'min_samples_leaf': 35, 'n_estimators': 5}. Best is trial 2 with value: 0.8103122859235112.\u001B[0m\n/opt/conda/lib/python3.9/site-packages/sklearn/base.py:77: ExperimentalWarning: OptunaSearchCV is experimental (supported from v0.17.0). The interface can change in the future.\n  new_object = klass(**new_object_params)\n\u001B[32m[I 2023-03-09 13:00:07,515]\u001B[0m A new study created in memory with name: no-name-9b1739c6-287e-45fe-a619-c2851fa36be2\u001B[0m\n\u001B[32m[I 2023-03-09 13:00:07,645]\u001B[0m Trial 0 finished with value: 0.7942657028795502 and parameters: {'max_depth': 4, 'min_samples_split': 61, 'min_samples_leaf': 85, 'n_estimators': 11}. Best is trial 0 with value: 0.7942657028795502.\u001B[0m\n\u001B[32m[I 2023-03-09 13:00:07,750]\u001B[0m Trial 1 finished with value: 0.8015685162875297 and parameters: {'max_depth': 3, 'min_samples_split': 23, 'min_samples_leaf': 27, 'n_estimators': 9}. Best is trial 1 with value: 0.8015685162875297.\u001B[0m\n"
    },
    {
     "name": "stderr",
     "output_type": "stream",
     "text": "\u001B[32m[I 2023-03-09 13:00:07,858]\u001B[0m Trial 2 finished with value: 0.7967035173505304 and parameters: {'max_depth': 29, 'min_samples_split': 45, 'min_samples_leaf': 54, 'n_estimators': 8}. Best is trial 1 with value: 0.8015685162875297.\u001B[0m\n\u001B[32m[I 2023-03-09 13:00:07,955]\u001B[0m Trial 3 finished with value: 0.7942657028795501 and parameters: {'max_depth': 3, 'min_samples_split': 91, 'min_samples_leaf': 59, 'n_estimators': 8}. Best is trial 1 with value: 0.8015685162875297.\u001B[0m\n\u001B[32m[I 2023-03-09 13:00:08,109]\u001B[0m Trial 4 finished with value: 0.8059421727730139 and parameters: {'max_depth': 14, 'min_samples_split': 10, 'min_samples_leaf': 23, 'n_estimators': 12}. Best is trial 4 with value: 0.8059421727730139.\u001B[0m\n\u001B[32m[I 2023-03-09 13:00:08,261]\u001B[0m Trial 5 finished with value: 0.8001015756029576 and parameters: {'max_depth': 26, 'min_samples_split': 81, 'min_samples_leaf': 75, 'n_estimators': 12}. Best is trial 4 with value: 0.8059421727730139.\u001B[0m\n\u001B[32m[I 2023-03-09 13:00:08,415]\u001B[0m Trial 6 finished with value: 0.8015637918408807 and parameters: {'max_depth': 17, 'min_samples_split': 86, 'min_samples_leaf': 23, 'n_estimators': 11}. Best is trial 4 with value: 0.8059421727730139.\u001B[0m\n\u001B[32m[I 2023-03-09 13:00:08,600]\u001B[0m Trial 7 finished with value: 0.8132367183993574 and parameters: {'max_depth': 27, 'min_samples_split': 64, 'min_samples_leaf': 9, 'n_estimators': 13}. Best is trial 7 with value: 0.8132367183993574.\u001B[0m\n\u001B[32m[I 2023-03-09 13:00:08,714]\u001B[0m Trial 8 finished with value: 0.8122682068362742 and parameters: {'max_depth': 13, 'min_samples_split': 45, 'min_samples_leaf': 9, 'n_estimators': 8}. Best is trial 7 with value: 0.8132367183993574.\u001B[0m\n\u001B[32m[I 2023-03-09 13:00:08,802]\u001B[0m Trial 9 finished with value: 0.796702336238868 and parameters: {'max_depth': 23, 'min_samples_split': 96, 'min_samples_leaf': 61, 'n_estimators': 7}. Best is trial 7 with value: 0.8132367183993574.\u001B[0m\n/opt/conda/lib/python3.9/site-packages/sklearn/base.py:77: ExperimentalWarning: OptunaSearchCV is experimental (supported from v0.17.0). The interface can change in the future.\n  new_object = klass(**new_object_params)\n\u001B[32m[I 2023-03-09 13:00:08,847]\u001B[0m A new study created in memory with name: no-name-15743e7c-d78f-4559-8572-94a024fda312\u001B[0m\n\u001B[32m[I 2023-03-09 13:00:08,889]\u001B[0m Trial 0 finished with value: 0.794754683107741 and parameters: {'max_depth': 16, 'min_samples_split': 33, 'min_samples_leaf': 17, 'n_estimators': 2}. Best is trial 0 with value: 0.794754683107741.\u001B[0m\n\u001B[32m[I 2023-03-09 13:00:08,943]\u001B[0m Trial 1 finished with value: 0.7660442208206364 and parameters: {'max_depth': 3, 'min_samples_split': 36, 'min_samples_leaf': 43, 'n_estimators': 4}. Best is trial 0 with value: 0.794754683107741.\u001B[0m\n\u001B[32m[I 2023-03-09 13:00:09,204]\u001B[0m Trial 2 finished with value: 0.7874530508114238 and parameters: {'max_depth': 6, 'min_samples_split': 41, 'min_samples_leaf': 67, 'n_estimators': 18}. Best is trial 0 with value: 0.794754683107741.\u001B[0m\n\u001B[32m[I 2023-03-09 13:00:09,358]\u001B[0m Trial 3 finished with value: 0.7850199607870929 and parameters: {'max_depth': 20, 'min_samples_split': 65, 'min_samples_leaf': 60, 'n_estimators': 12}. Best is trial 0 with value: 0.794754683107741.\u001B[0m\n\u001B[32m[I 2023-03-09 13:00:09,575]\u001B[0m Trial 4 finished with value: 0.789401885054213 and parameters: {'max_depth': 12, 'min_samples_split': 22, 'min_samples_leaf': 54, 'n_estimators': 18}. Best is trial 0 with value: 0.794754683107741.\u001B[0m\n\u001B[32m[I 2023-03-09 13:00:09,778]\u001B[0m Trial 5 finished with value: 0.7918302506318947 and parameters: {'max_depth': 23, 'min_samples_split': 38, 'min_samples_leaf': 27, 'n_estimators': 18}. Best is trial 0 with value: 0.794754683107741.\u001B[0m\n\u001B[32m[I 2023-03-09 13:00:09,844]\u001B[0m Trial 6 finished with value: 0.7923156875250986 and parameters: {'max_depth': 10, 'min_samples_split': 77, 'min_samples_leaf': 18, 'n_estimators': 4}. Best is trial 0 with value: 0.794754683107741.\u001B[0m\n\u001B[32m[I 2023-03-09 13:00:10,034]\u001B[0m Trial 7 finished with value: 0.7884215623745069 and parameters: {'max_depth': 22, 'min_samples_split': 83, 'min_samples_leaf': 54, 'n_estimators': 19}. Best is trial 0 with value: 0.794754683107741.\u001B[0m\n\u001B[32m[I 2023-03-09 13:00:10,115]\u001B[0m Trial 8 finished with value: 0.7782002220489925 and parameters: {'max_depth': 7, 'min_samples_split': 41, 'min_samples_leaf': 100, 'n_estimators': 7}. Best is trial 0 with value: 0.794754683107741.\u001B[0m\n\u001B[32m[I 2023-03-09 13:00:10,253]\u001B[0m Trial 9 finished with value: 0.7913436326270287 and parameters: {'max_depth': 25, 'min_samples_split': 84, 'min_samples_leaf': 54, 'n_estimators': 12}. Best is trial 0 with value: 0.794754683107741.\u001B[0m\n\u001B[32m[I 2023-03-09 13:00:10,424]\u001B[0m A new study created in memory with name: no-name-7ddf638c-f59c-4eb3-8384-38f629ab01e1\u001B[0m\n"
    },
    {
     "name": "stdout",
     "output_type": "stream",
     "text": "BaggingClassifier, model = optuna_search\n              precision    recall  f1-score   support\n\n           0       0.82      0.92      0.87       455\n           1       0.74      0.52      0.61       188\n\n    accuracy                           0.81       643\n   macro avg       0.78      0.72      0.74       643\nweighted avg       0.80      0.81      0.79       643\n\nРешающие деревья\n              precision    recall  f1-score   support\n\n           0       0.81      0.95      0.87       455\n           1       0.77      0.46      0.58       188\n\n    accuracy                           0.80       643\n   macro avg       0.79      0.70      0.72       643\nweighted avg       0.80      0.80      0.78       643\n\n"
    },
    {
     "name": "stderr",
     "output_type": "stream",
     "text": "\u001B[32m[I 2023-03-09 13:00:10,622]\u001B[0m Trial 0 finished with value: 0.7714206411074103 and parameters: {'max_depth': 23, 'min_samples_split': 27, 'min_samples_leaf': 95, 'n_estimators': 15}. Best is trial 0 with value: 0.7714206411074103.\u001B[0m\n\u001B[32m[I 2023-03-09 13:00:10,677]\u001B[0m Trial 1 finished with value: 0.7918479673068293 and parameters: {'max_depth': 8, 'min_samples_split': 3, 'min_samples_leaf': 29, 'n_estimators': 2}. Best is trial 1 with value: 0.7918479673068293.\u001B[0m\n\u001B[32m[I 2023-03-09 13:00:10,800]\u001B[0m Trial 2 finished with value: 0.7879621099378735 and parameters: {'max_depth': 17, 'min_samples_split': 54, 'min_samples_leaf': 38, 'n_estimators': 8}. Best is trial 1 with value: 0.7918479673068293.\u001B[0m\n\u001B[32m[I 2023-03-09 13:00:10,883]\u001B[0m Trial 3 finished with value: 0.7757978409278814 and parameters: {'max_depth': 28, 'min_samples_split': 5, 'min_samples_leaf': 73, 'n_estimators': 5}. Best is trial 1 with value: 0.7918479673068293.\u001B[0m\n\u001B[32m[I 2023-03-09 13:00:11,002]\u001B[0m Trial 4 finished with value: 0.7762832778210852 and parameters: {'max_depth': 3, 'min_samples_split': 80, 'min_samples_leaf': 80, 'n_estimators': 10}. Best is trial 1 with value: 0.7918479673068293.\u001B[0m\n\u001B[32m[I 2023-03-09 13:00:11,142]\u001B[0m Trial 5 finished with value: 0.7845557839038103 and parameters: {'max_depth': 6, 'min_samples_split': 72, 'min_samples_leaf': 33, 'n_estimators': 9}. Best is trial 1 with value: 0.7918479673068293.\u001B[0m\n\u001B[32m[I 2023-03-09 13:00:11,282]\u001B[0m Trial 6 finished with value: 0.7928282899865354 and parameters: {'max_depth': 27, 'min_samples_split': 19, 'min_samples_leaf': 28, 'n_estimators': 10}. Best is trial 6 with value: 0.7928282899865354.\u001B[0m\n\u001B[32m[I 2023-03-09 13:00:11,486]\u001B[0m Trial 7 finished with value: 0.7894207828408099 and parameters: {'max_depth': 20, 'min_samples_split': 44, 'min_samples_leaf': 39, 'n_estimators': 17}. Best is trial 6 with value: 0.7928282899865354.\u001B[0m\n\u001B[32m[I 2023-03-09 13:00:11,664]\u001B[0m Trial 8 finished with value: 0.7801774029716769 and parameters: {'max_depth': 30, 'min_samples_split': 25, 'min_samples_leaf': 56, 'n_estimators': 14}. Best is trial 6 with value: 0.7928282899865354.\u001B[0m\n\u001B[32m[I 2023-03-09 13:00:11,783]\u001B[0m Trial 9 finished with value: 0.7865010748116127 and parameters: {'max_depth': 10, 'min_samples_split': 86, 'min_samples_leaf': 17, 'n_estimators': 9}. Best is trial 6 with value: 0.7928282899865354.\u001B[0m\n"
    },
    {
     "name": "stdout",
     "output_type": "stream",
     "text": "optuna Решающие деревья\n              precision    recall  f1-score   support\n\n           0       0.81      0.93      0.87       455\n           1       0.74      0.47      0.57       188\n\n    accuracy                           0.80       643\n   macro avg       0.77      0.70      0.72       643\nweighted avg       0.79      0.80      0.78       643\n\n"
    }
   ],
   "source": [
    "models = [\n",
    "    ('BaggingClassifier, model = catboosting', BaggingClassifier(base_estimator=catboosting, n_estimators=50, random_state=42, n_jobs=-1)),\n",
    "    ('Catboost', catboosting),\n",
    "    ('BaggingClassifier, model = optuna_search', BaggingClassifier(base_estimator=optuna_search, n_estimators=50, random_state=42, n_jobs=-1)),\n",
    "    ('Решающие деревья', dfc),\n",
    "    ('optuna Решающие деревья', optuna_search)\n",
    "]\n",
    "for model in models:\n",
    "    title, _model = model\n",
    "    get_report_of_model(title, _model, X_train, y_train, X_test, y_test)"
   ]
  },
  {
   "cell_type": "code",
   "execution_count": 72,
   "metadata": {
    "trusted": true
   },
   "outputs": [],
   "source": [
    "tests = []"
   ]
  },
  {
   "cell_type": "code",
   "execution_count": 73,
   "metadata": {
    "trusted": true
   },
   "outputs": [],
   "source": [
    "tests.append({\n",
    "    'Название модели': 'BaggingClassifier, model = catboosting',\n",
    "    'precision': (0.83 + 0.75) / 2,\n",
    "    'recal': (0.92 + 0.55) / 2,\n",
    "    'f1-score': (0.87 + 0.63) / 2,\n",
    "    'accuracy': 0.81\n",
    "})"
   ]
  },
  {
   "cell_type": "code",
   "execution_count": 74,
   "metadata": {
    "trusted": true
   },
   "outputs": [],
   "source": [
    "tests.append({\n",
    "    'Название модели': 'Catboost',\n",
    "    'precision': (0.83 + 0.76) / 2,\n",
    "    'recal': (0.93 + 0.55) / 2,\n",
    "    'f1-score': (0.88 + 0.64) / 2,\n",
    "    'accuracy': 0.82\n",
    "})"
   ]
  },
  {
   "cell_type": "code",
   "execution_count": 75,
   "metadata": {
    "trusted": true
   },
   "outputs": [],
   "source": [
    "tests.append({\n",
    "    'Название модели': 'BaggingClassifier, model = optuna_search',\n",
    "    'precision': (0.82 + 0.74) / 2,\n",
    "    'recal': (0.92 + 0.52) / 2,\n",
    "    'f1-score': (0.87 + 0.61) / 2,\n",
    "    'accuracy': 0.81\n",
    "})"
   ]
  },
  {
   "cell_type": "code",
   "execution_count": 76,
   "metadata": {
    "trusted": true
   },
   "outputs": [],
   "source": [
    "tests.append({\n",
    "    'Название модели': 'Решающие деревья',\n",
    "    'precision': (0.81 + 0.77) / 2,\n",
    "    'recal': (0.95 + 0.46) / 2,\n",
    "    'f1-score': (0.87 + 0.58) / 2,\n",
    "    'accuracy': 0.80\n",
    "})"
   ]
  },
  {
   "cell_type": "code",
   "execution_count": 77,
   "metadata": {
    "trusted": true
   },
   "outputs": [],
   "source": [
    "tests.append({\n",
    "    'Название модели': 'optuna Решающие деревья',\n",
    "    'precision': (0.81 + 0.75) / 2,\n",
    "    'recal': (0.93 + 0.48) / 2,\n",
    "    'f1-score': (0.87 + 0.59) / 2,\n",
    "    'accuracy': 0.80\n",
    "})"
   ]
  },
  {
   "cell_type": "markdown",
   "metadata": {},
   "source": [
    "Таблица по результатам на тестовой выборке"
   ]
  },
  {
   "cell_type": "code",
   "execution_count": 78,
   "metadata": {
    "trusted": true
   },
   "outputs": [
    {
     "data": {
      "text/html": "<div>\n<style scoped>\n    .dataframe tbody tr th:only-of-type {\n        vertical-align: middle;\n    }\n\n    .dataframe tbody tr th {\n        vertical-align: top;\n    }\n\n    .dataframe thead th {\n        text-align: right;\n    }\n</style>\n<table border=\"1\" class=\"dataframe\">\n  <thead>\n    <tr style=\"text-align: right;\">\n      <th></th>\n      <th>Название модели</th>\n      <th>precision</th>\n      <th>recal</th>\n      <th>f1-score</th>\n      <th>accuracy</th>\n    </tr>\n  </thead>\n  <tbody>\n    <tr>\n      <th>0</th>\n      <td>BaggingClassifier, model = catboosting</td>\n      <td>0.790</td>\n      <td>0.735</td>\n      <td>0.750</td>\n      <td>0.81</td>\n    </tr>\n    <tr>\n      <th>1</th>\n      <td>Catboost</td>\n      <td>0.795</td>\n      <td>0.740</td>\n      <td>0.760</td>\n      <td>0.82</td>\n    </tr>\n    <tr>\n      <th>2</th>\n      <td>BaggingClassifier, model = optuna_search</td>\n      <td>0.780</td>\n      <td>0.720</td>\n      <td>0.740</td>\n      <td>0.81</td>\n    </tr>\n    <tr>\n      <th>3</th>\n      <td>Решающие деревья</td>\n      <td>0.790</td>\n      <td>0.705</td>\n      <td>0.725</td>\n      <td>0.80</td>\n    </tr>\n    <tr>\n      <th>4</th>\n      <td>optuna Решающие деревья</td>\n      <td>0.780</td>\n      <td>0.705</td>\n      <td>0.730</td>\n      <td>0.80</td>\n    </tr>\n  </tbody>\n</table>\n</div>",
      "text/plain": "                            Название модели  precision  recal  f1-score  \\\n0    BaggingClassifier, model = catboosting      0.790  0.735     0.750   \n1                                  Catboost      0.795  0.740     0.760   \n2  BaggingClassifier, model = optuna_search      0.780  0.720     0.740   \n3                          Решающие деревья      0.790  0.705     0.725   \n4                   optuna Решающие деревья      0.780  0.705     0.730   \n\n   accuracy  \n0      0.81  \n1      0.82  \n2      0.81  \n3      0.80  \n4      0.80  "
     },
     "execution_count": 78,
     "metadata": {},
     "output_type": "execute_result"
    }
   ],
   "source": [
    "tests_df = pd.DataFrame(tests)\n",
    "tests_df"
   ]
  },
  {
   "cell_type": "markdown",
   "metadata": {},
   "source": [
    "Среднее по метрикам"
   ]
  },
  {
   "cell_type": "code",
   "execution_count": 79,
   "metadata": {
    "trusted": true
   },
   "outputs": [
    {
     "data": {
      "text/html": "<div>\n<style scoped>\n    .dataframe tbody tr th:only-of-type {\n        vertical-align: middle;\n    }\n\n    .dataframe tbody tr th {\n        vertical-align: top;\n    }\n\n    .dataframe thead th {\n        text-align: right;\n    }\n</style>\n<table border=\"1\" class=\"dataframe\">\n  <thead>\n    <tr style=\"text-align: right;\">\n      <th></th>\n      <th>Название модели</th>\n      <th>precision</th>\n      <th>recal</th>\n      <th>f1-score</th>\n      <th>accuracy</th>\n      <th>average quality</th>\n    </tr>\n  </thead>\n  <tbody>\n    <tr>\n      <th>0</th>\n      <td>BaggingClassifier, model = catboosting</td>\n      <td>0.790</td>\n      <td>0.735</td>\n      <td>0.750</td>\n      <td>0.81</td>\n      <td>0.77125</td>\n    </tr>\n    <tr>\n      <th>1</th>\n      <td>Catboost</td>\n      <td>0.795</td>\n      <td>0.740</td>\n      <td>0.760</td>\n      <td>0.82</td>\n      <td>0.77875</td>\n    </tr>\n    <tr>\n      <th>2</th>\n      <td>BaggingClassifier, model = optuna_search</td>\n      <td>0.780</td>\n      <td>0.720</td>\n      <td>0.740</td>\n      <td>0.81</td>\n      <td>0.76250</td>\n    </tr>\n    <tr>\n      <th>3</th>\n      <td>Решающие деревья</td>\n      <td>0.790</td>\n      <td>0.705</td>\n      <td>0.725</td>\n      <td>0.80</td>\n      <td>0.75500</td>\n    </tr>\n    <tr>\n      <th>4</th>\n      <td>optuna Решающие деревья</td>\n      <td>0.780</td>\n      <td>0.705</td>\n      <td>0.730</td>\n      <td>0.80</td>\n      <td>0.75375</td>\n    </tr>\n  </tbody>\n</table>\n</div>",
      "text/plain": "                            Название модели  precision  recal  f1-score  \\\n0    BaggingClassifier, model = catboosting      0.790  0.735     0.750   \n1                                  Catboost      0.795  0.740     0.760   \n2  BaggingClassifier, model = optuna_search      0.780  0.720     0.740   \n3                          Решающие деревья      0.790  0.705     0.725   \n4                   optuna Решающие деревья      0.780  0.705     0.730   \n\n   accuracy  average quality  \n0      0.81          0.77125  \n1      0.82          0.77875  \n2      0.81          0.76250  \n3      0.80          0.75500  \n4      0.80          0.75375  "
     },
     "execution_count": 79,
     "metadata": {},
     "output_type": "execute_result"
    }
   ],
   "source": [
    "tests_df['average quality'] = tests_df[['precision', 'recal', 'f1-score', 'accuracy']].mean(axis=1)\n",
    "tests_df"
   ]
  },
  {
   "cell_type": "markdown",
   "metadata": {},
   "source": [
    "Проверим топ 4 модели, обучим их на тренировочной и валидационной выборке и проверим качество на тестовой"
   ]
  },
  {
   "cell_type": "code",
   "execution_count": 80,
   "metadata": {
    "trusted": true
   },
   "outputs": [
    {
     "name": "stdout",
     "output_type": "stream",
     "text": "Learning rate set to 0.015419\n0:\tlearn: 0.6860361\ttotal: 1.42ms\tremaining: 1.41s\n300:\tlearn: 0.4151609\ttotal: 386ms\tremaining: 896ms\n600:\tlearn: 0.3811347\ttotal: 781ms\tremaining: 519ms\n900:\tlearn: 0.3472181\ttotal: 1.17s\tremaining: 128ms\n999:\tlearn: 0.3367096\ttotal: 1.3s\tremaining: 0us\nCatboost\n              precision    recall  f1-score   support\n\n           0       0.83      0.93      0.87       455\n           1       0.75      0.53      0.62       188\n\n    accuracy                           0.81       643\n   macro avg       0.79      0.73      0.75       643\nweighted avg       0.81      0.81      0.80       643\n\nLearning rate set to 0.015419\n0:\tlearn: 0.6855611\ttotal: 1.37ms\tremaining: 1.37s\n300:\tlearn: 0.3832307\ttotal: 403ms\tremaining: 936ms\n600:\tlearn: 0.3322089\ttotal: 795ms\tremaining: 528ms\n900:\tlearn: 0.2837736\ttotal: 1.19s\tremaining: 131ms\n999:\tlearn: 0.2704151\ttotal: 1.31s\tremaining: 0us\nLearning rate set to 0.015419\n0:\tlearn: 0.6866177\ttotal: 1.41ms\tremaining: 1.41s\n300:\tlearn: 0.4064099\ttotal: 385ms\tremaining: 895ms\n600:\tlearn: 0.3536369\ttotal: 762ms\tremaining: 506ms\n900:\tlearn: 0.3006807\ttotal: 1.14s\tremaining: 125ms\n999:\tlearn: 0.2862209\ttotal: 1.26s\tremaining: 0us\nLearning rate set to 0.015419\n0:\tlearn: 0.6865624\ttotal: 1.41ms\tremaining: 1.41s\n300:\tlearn: 0.3921413\ttotal: 428ms\tremaining: 993ms\n600:\tlearn: 0.3366015\ttotal: 817ms\tremaining: 542ms\n900:\tlearn: 0.2849917\ttotal: 1.2s\tremaining: 132ms\n999:\tlearn: 0.2712509\ttotal: 1.33s\tremaining: 0us\nLearning rate set to 0.015419\n0:\tlearn: 0.6856721\ttotal: 1.49ms\tremaining: 1.49s\n300:\tlearn: 0.3889044\ttotal: 376ms\tremaining: 873ms\n600:\tlearn: 0.3352254\ttotal: 759ms\tremaining: 504ms\n900:\tlearn: 0.2887558\ttotal: 1.14s\tremaining: 125ms\n999:\tlearn: 0.2737062\ttotal: 1.26s\tremaining: 0us\nLearning rate set to 0.015419\n0:\tlearn: 0.6866783\ttotal: 1.46ms\tremaining: 1.46s\n300:\tlearn: 0.4041684\ttotal: 375ms\tremaining: 872ms\n600:\tlearn: 0.3499529\ttotal: 756ms\tremaining: 502ms\n900:\tlearn: 0.2966620\ttotal: 1.14s\tremaining: 125ms\n999:\tlearn: 0.2829552\ttotal: 1.26s\tremaining: 0us\nLearning rate set to 0.015419\n0:\tlearn: 0.6858001\ttotal: 4.57ms\tremaining: 4.57s\n300:\tlearn: 0.3970453\ttotal: 374ms\tremaining: 869ms\n600:\tlearn: 0.3444184\ttotal: 742ms\tremaining: 493ms\n900:\tlearn: 0.2946450\ttotal: 1.12s\tremaining: 123ms\n999:\tlearn: 0.2789896\ttotal: 1.24s\tremaining: 0us\nLearning rate set to 0.015419\n0:\tlearn: 0.6864469\ttotal: 1.44ms\tremaining: 1.44s\n300:\tlearn: 0.4007863\ttotal: 361ms\tremaining: 839ms\n600:\tlearn: 0.3443539\ttotal: 806ms\tremaining: 535ms\n900:\tlearn: 0.2890444\ttotal: 1.19s\tremaining: 131ms\n999:\tlearn: 0.2739411\ttotal: 1.31s\tremaining: 0us\nLearning rate set to 0.015419\n0:\tlearn: 0.6860255\ttotal: 1.63ms\tremaining: 1.63s\n300:\tlearn: 0.3783232\ttotal: 406ms\tremaining: 944ms\n600:\tlearn: 0.3266471\ttotal: 801ms\tremaining: 532ms\n900:\tlearn: 0.2762792\ttotal: 1.21s\tremaining: 133ms\n999:\tlearn: 0.2626947\ttotal: 1.35s\tremaining: 0us\nLearning rate set to 0.015419\n0:\tlearn: 0.6866159\ttotal: 1.51ms\tremaining: 1.51s\n300:\tlearn: 0.3969998\ttotal: 392ms\tremaining: 911ms\n600:\tlearn: 0.3449627\ttotal: 796ms\tremaining: 529ms\n900:\tlearn: 0.2936045\ttotal: 1.23s\tremaining: 136ms\n999:\tlearn: 0.2800752\ttotal: 1.37s\tremaining: 0us\nLearning rate set to 0.015419\n0:\tlearn: 0.6863660\ttotal: 1.48ms\tremaining: 1.48s\n300:\tlearn: 0.3884044\ttotal: 382ms\tremaining: 887ms\n600:\tlearn: 0.3341926\ttotal: 770ms\tremaining: 511ms\n900:\tlearn: 0.2798479\ttotal: 1.15s\tremaining: 126ms\n999:\tlearn: 0.2664417\ttotal: 1.28s\tremaining: 0us\nLearning rate set to 0.015419\n0:\tlearn: 0.6855075\ttotal: 3.06ms\tremaining: 3.06s\n300:\tlearn: 0.3858203\ttotal: 378ms\tremaining: 878ms\n600:\tlearn: 0.3344926\ttotal: 768ms\tremaining: 510ms\n900:\tlearn: 0.2838688\ttotal: 1.14s\tremaining: 125ms\n999:\tlearn: 0.2696291\ttotal: 1.27s\tremaining: 0us\nLearning rate set to 0.015419\n0:\tlearn: 0.6859171\ttotal: 1.55ms\tremaining: 1.55s\n300:\tlearn: 0.3834332\ttotal: 397ms\tremaining: 921ms\n600:\tlearn: 0.3270567\ttotal: 813ms\tremaining: 540ms\n900:\tlearn: 0.2754049\ttotal: 1.21s\tremaining: 133ms\n999:\tlearn: 0.2617789\ttotal: 1.34s\tremaining: 0us\nLearning rate set to 0.015419\n0:\tlearn: 0.6858368\ttotal: 1.44ms\tremaining: 1.44s\n300:\tlearn: 0.3859100\ttotal: 377ms\tremaining: 876ms\n600:\tlearn: 0.3315118\ttotal: 751ms\tremaining: 498ms\n900:\tlearn: 0.2823242\ttotal: 1.13s\tremaining: 124ms\n999:\tlearn: 0.2684178\ttotal: 1.25s\tremaining: 0us\nLearning rate set to 0.015419\n0:\tlearn: 0.6863167\ttotal: 1.42ms\tremaining: 1.42s\n300:\tlearn: 0.3868352\ttotal: 371ms\tremaining: 861ms\n600:\tlearn: 0.3359548\ttotal: 763ms\tremaining: 506ms\n900:\tlearn: 0.2869247\ttotal: 1.13s\tremaining: 124ms\n999:\tlearn: 0.2730623\ttotal: 1.25s\tremaining: 0us\nLearning rate set to 0.015419\n0:\tlearn: 0.6857892\ttotal: 1.71ms\tremaining: 1.71s\n300:\tlearn: 0.3926435\ttotal: 373ms\tremaining: 867ms\n600:\tlearn: 0.3360499\ttotal: 741ms\tremaining: 492ms\n900:\tlearn: 0.2851774\ttotal: 1.11s\tremaining: 122ms\n999:\tlearn: 0.2707129\ttotal: 1.23s\tremaining: 0us\nLearning rate set to 0.015419\n0:\tlearn: 0.6853113\ttotal: 1.5ms\tremaining: 1.5s\n300:\tlearn: 0.3907269\ttotal: 408ms\tremaining: 949ms\n600:\tlearn: 0.3391810\ttotal: 782ms\tremaining: 519ms\n900:\tlearn: 0.2891344\ttotal: 1.17s\tremaining: 129ms\n999:\tlearn: 0.2751687\ttotal: 1.3s\tremaining: 0us\nLearning rate set to 0.015419\n0:\tlearn: 0.6863396\ttotal: 1.75ms\tremaining: 1.75s\n300:\tlearn: 0.3994930\ttotal: 375ms\tremaining: 870ms\n600:\tlearn: 0.3453511\ttotal: 738ms\tremaining: 490ms\n900:\tlearn: 0.2932146\ttotal: 1.12s\tremaining: 123ms\n999:\tlearn: 0.2794998\ttotal: 1.24s\tremaining: 0us\nLearning rate set to 0.015419\n0:\tlearn: 0.6852959\ttotal: 1.31ms\tremaining: 1.31s\n300:\tlearn: 0.3767957\ttotal: 375ms\tremaining: 870ms\n600:\tlearn: 0.3223047\ttotal: 745ms\tremaining: 495ms\n900:\tlearn: 0.2757047\ttotal: 1.11s\tremaining: 123ms\n999:\tlearn: 0.2630169\ttotal: 1.24s\tremaining: 0us\nLearning rate set to 0.015419\n0:\tlearn: 0.6855278\ttotal: 1.69ms\tremaining: 1.68s\n300:\tlearn: 0.3768150\ttotal: 383ms\tremaining: 888ms\n600:\tlearn: 0.3256033\ttotal: 746ms\tremaining: 495ms\n900:\tlearn: 0.2801407\ttotal: 1.12s\tremaining: 123ms\n999:\tlearn: 0.2673615\ttotal: 1.25s\tremaining: 0us\nLearning rate set to 0.015419\n0:\tlearn: 0.6859623\ttotal: 1.41ms\tremaining: 1.41s\n300:\tlearn: 0.3830865\ttotal: 370ms\tremaining: 859ms\n600:\tlearn: 0.3272998\ttotal: 736ms\tremaining: 489ms\n900:\tlearn: 0.2788975\ttotal: 1.11s\tremaining: 122ms\n999:\tlearn: 0.2645152\ttotal: 1.23s\tremaining: 0us\nLearning rate set to 0.015419\n0:\tlearn: 0.6856888\ttotal: 1.45ms\tremaining: 1.45s\n300:\tlearn: 0.3990001\ttotal: 387ms\tremaining: 899ms\n600:\tlearn: 0.3485098\ttotal: 790ms\tremaining: 524ms\n900:\tlearn: 0.3018212\ttotal: 1.23s\tremaining: 135ms\n999:\tlearn: 0.2872805\ttotal: 1.35s\tremaining: 0us\nLearning rate set to 0.015419\n0:\tlearn: 0.6855950\ttotal: 1.39ms\tremaining: 1.39s\n300:\tlearn: 0.3867697\ttotal: 374ms\tremaining: 868ms\n600:\tlearn: 0.3313566\ttotal: 740ms\tremaining: 491ms\n900:\tlearn: 0.2782552\ttotal: 1.11s\tremaining: 122ms\n999:\tlearn: 0.2632544\ttotal: 1.25s\tremaining: 0us\nLearning rate set to 0.015419\n0:\tlearn: 0.6859515\ttotal: 1.56ms\tremaining: 1.56s\n300:\tlearn: 0.3970283\ttotal: 435ms\tremaining: 1.01s\n600:\tlearn: 0.3430907\ttotal: 854ms\tremaining: 567ms\n900:\tlearn: 0.2921299\ttotal: 1.28s\tremaining: 141ms\n999:\tlearn: 0.2768724\ttotal: 1.42s\tremaining: 0us\nLearning rate set to 0.015419\n0:\tlearn: 0.6870369\ttotal: 1.63ms\tremaining: 1.63s\n300:\tlearn: 0.4104598\ttotal: 413ms\tremaining: 958ms\n600:\tlearn: 0.3540904\ttotal: 829ms\tremaining: 550ms\n900:\tlearn: 0.2991016\ttotal: 1.25s\tremaining: 137ms\n999:\tlearn: 0.2835700\ttotal: 1.4s\tremaining: 0us\nLearning rate set to 0.015419\n0:\tlearn: 0.6861024\ttotal: 1.59ms\tremaining: 1.59s\n300:\tlearn: 0.3991657\ttotal: 423ms\tremaining: 982ms\n600:\tlearn: 0.3443957\ttotal: 898ms\tremaining: 596ms\n900:\tlearn: 0.2913360\ttotal: 1.35s\tremaining: 149ms\n999:\tlearn: 0.2762620\ttotal: 1.5s\tremaining: 0us\nLearning rate set to 0.015419\n0:\tlearn: 0.6860174\ttotal: 1.5ms\tremaining: 1.5s\n300:\tlearn: 0.3910260\ttotal: 420ms\tremaining: 976ms\n600:\tlearn: 0.3379569\ttotal: 835ms\tremaining: 555ms\n900:\tlearn: 0.2840391\ttotal: 1.23s\tremaining: 135ms\n999:\tlearn: 0.2707701\ttotal: 1.35s\tremaining: 0us\nLearning rate set to 0.015419\n0:\tlearn: 0.6855641\ttotal: 1.38ms\tremaining: 1.38s\n300:\tlearn: 0.3863459\ttotal: 373ms\tremaining: 867ms\n"
    },
    {
     "name": "stdout",
     "output_type": "stream",
     "text": "600:\tlearn: 0.3326348\ttotal: 737ms\tremaining: 489ms\n900:\tlearn: 0.2830430\ttotal: 1.11s\tremaining: 122ms\n999:\tlearn: 0.2703315\ttotal: 1.24s\tremaining: 0us\nLearning rate set to 0.015419\n0:\tlearn: 0.6856170\ttotal: 2.12ms\tremaining: 2.12s\n300:\tlearn: 0.3894178\ttotal: 366ms\tremaining: 849ms\n600:\tlearn: 0.3378568\ttotal: 748ms\tremaining: 496ms\n900:\tlearn: 0.2841511\ttotal: 1.12s\tremaining: 123ms\n999:\tlearn: 0.2707045\ttotal: 1.24s\tremaining: 0us\nLearning rate set to 0.015419\n0:\tlearn: 0.6862693\ttotal: 1.39ms\tremaining: 1.39s\n300:\tlearn: 0.3797109\ttotal: 368ms\tremaining: 855ms\n600:\tlearn: 0.3238624\ttotal: 731ms\tremaining: 486ms\n900:\tlearn: 0.2724151\ttotal: 1.11s\tremaining: 122ms\n999:\tlearn: 0.2589644\ttotal: 1.26s\tremaining: 0us\nLearning rate set to 0.015419\n0:\tlearn: 0.6862153\ttotal: 1.79ms\tremaining: 1.78s\n300:\tlearn: 0.4055730\ttotal: 378ms\tremaining: 877ms\n600:\tlearn: 0.3481600\ttotal: 763ms\tremaining: 507ms\n900:\tlearn: 0.2950749\ttotal: 1.15s\tremaining: 127ms\n999:\tlearn: 0.2807141\ttotal: 1.28s\tremaining: 0us\nLearning rate set to 0.015419\n0:\tlearn: 0.6862193\ttotal: 1.42ms\tremaining: 1.42s\n300:\tlearn: 0.4147419\ttotal: 373ms\tremaining: 865ms\n600:\tlearn: 0.3590805\ttotal: 740ms\tremaining: 491ms\n900:\tlearn: 0.3037954\ttotal: 1.11s\tremaining: 122ms\n999:\tlearn: 0.2903114\ttotal: 1.23s\tremaining: 0us\nLearning rate set to 0.015419\n0:\tlearn: 0.6859608\ttotal: 1.61ms\tremaining: 1.61s\n300:\tlearn: 0.3997699\ttotal: 383ms\tremaining: 889ms\n600:\tlearn: 0.3467235\ttotal: 747ms\tremaining: 496ms\n900:\tlearn: 0.2957352\ttotal: 1.12s\tremaining: 123ms\n999:\tlearn: 0.2817674\ttotal: 1.25s\tremaining: 0us\nLearning rate set to 0.015419\n0:\tlearn: 0.6865764\ttotal: 1.82ms\tremaining: 1.82s\n300:\tlearn: 0.4037871\ttotal: 371ms\tremaining: 862ms\n600:\tlearn: 0.3480583\ttotal: 732ms\tremaining: 486ms\n900:\tlearn: 0.2960004\ttotal: 1.1s\tremaining: 121ms\n999:\tlearn: 0.2815325\ttotal: 1.22s\tremaining: 0us\nLearning rate set to 0.015419\n0:\tlearn: 0.6853857\ttotal: 1.62ms\tremaining: 1.62s\n300:\tlearn: 0.3811420\ttotal: 378ms\tremaining: 877ms\n600:\tlearn: 0.3271653\ttotal: 784ms\tremaining: 521ms\n900:\tlearn: 0.2734681\ttotal: 1.15s\tremaining: 127ms\n999:\tlearn: 0.2596043\ttotal: 1.27s\tremaining: 0us\nLearning rate set to 0.015419\n0:\tlearn: 0.6861057\ttotal: 2.02ms\tremaining: 2.02s\n300:\tlearn: 0.3865141\ttotal: 394ms\tremaining: 916ms\n600:\tlearn: 0.3323928\ttotal: 799ms\tremaining: 530ms\n900:\tlearn: 0.2838701\ttotal: 1.21s\tremaining: 132ms\n999:\tlearn: 0.2693260\ttotal: 1.33s\tremaining: 0us\nLearning rate set to 0.015419\n0:\tlearn: 0.6863637\ttotal: 1.76ms\tremaining: 1.76s\n300:\tlearn: 0.3882904\ttotal: 374ms\tremaining: 868ms\n600:\tlearn: 0.3336060\ttotal: 760ms\tremaining: 505ms\n900:\tlearn: 0.2847074\ttotal: 1.16s\tremaining: 127ms\n999:\tlearn: 0.2712576\ttotal: 1.29s\tremaining: 0us\nLearning rate set to 0.015419\n0:\tlearn: 0.6856933\ttotal: 1.54ms\tremaining: 1.54s\n300:\tlearn: 0.3900179\ttotal: 422ms\tremaining: 981ms\n600:\tlearn: 0.3378434\ttotal: 841ms\tremaining: 558ms\n900:\tlearn: 0.2924476\ttotal: 1.26s\tremaining: 139ms\n999:\tlearn: 0.2797716\ttotal: 1.41s\tremaining: 0us\nLearning rate set to 0.015419\n0:\tlearn: 0.6859777\ttotal: 1.61ms\tremaining: 1.61s\n300:\tlearn: 0.3957032\ttotal: 407ms\tremaining: 946ms\n600:\tlearn: 0.3393848\ttotal: 820ms\tremaining: 545ms\n900:\tlearn: 0.2866065\ttotal: 1.23s\tremaining: 135ms\n999:\tlearn: 0.2726475\ttotal: 1.36s\tremaining: 0us\nLearning rate set to 0.015419\n0:\tlearn: 0.6863611\ttotal: 1.56ms\tremaining: 1.56s\n300:\tlearn: 0.3956126\ttotal: 436ms\tremaining: 1.01s\n600:\tlearn: 0.3437204\ttotal: 853ms\tremaining: 566ms\n900:\tlearn: 0.2926610\ttotal: 1.26s\tremaining: 139ms\n999:\tlearn: 0.2786063\ttotal: 1.39s\tremaining: 0us\nLearning rate set to 0.015419\n0:\tlearn: 0.6863234\ttotal: 1.72ms\tremaining: 1.72s\n300:\tlearn: 0.3889394\ttotal: 374ms\tremaining: 870ms\n600:\tlearn: 0.3335606\ttotal: 740ms\tremaining: 491ms\n900:\tlearn: 0.2815237\ttotal: 1.11s\tremaining: 122ms\n999:\tlearn: 0.2682346\ttotal: 1.23s\tremaining: 0us\nLearning rate set to 0.015419\n0:\tlearn: 0.6859644\ttotal: 1.46ms\tremaining: 1.45s\n300:\tlearn: 0.3981399\ttotal: 369ms\tremaining: 857ms\n600:\tlearn: 0.3428962\ttotal: 740ms\tremaining: 492ms\n900:\tlearn: 0.2904399\ttotal: 1.11s\tremaining: 122ms\n999:\tlearn: 0.2756108\ttotal: 1.23s\tremaining: 0us\nLearning rate set to 0.015419\n0:\tlearn: 0.6865889\ttotal: 1.43ms\tremaining: 1.43s\n300:\tlearn: 0.4029543\ttotal: 377ms\tremaining: 876ms\n600:\tlearn: 0.3486354\ttotal: 738ms\tremaining: 490ms\n900:\tlearn: 0.2950196\ttotal: 1.12s\tremaining: 123ms\n999:\tlearn: 0.2803170\ttotal: 1.24s\tremaining: 0us\nLearning rate set to 0.015419\n0:\tlearn: 0.6855102\ttotal: 1.45ms\tremaining: 1.45s\n300:\tlearn: 0.3800464\ttotal: 370ms\tremaining: 860ms\n600:\tlearn: 0.3249600\ttotal: 803ms\tremaining: 533ms\n900:\tlearn: 0.2743259\ttotal: 1.18s\tremaining: 130ms\n999:\tlearn: 0.2609279\ttotal: 1.3s\tremaining: 0us\nLearning rate set to 0.015419\n0:\tlearn: 0.6861492\ttotal: 1.41ms\tremaining: 1.41s\n300:\tlearn: 0.3951508\ttotal: 389ms\tremaining: 903ms\n600:\tlearn: 0.3420084\ttotal: 753ms\tremaining: 500ms\n900:\tlearn: 0.2878042\ttotal: 1.14s\tremaining: 125ms\n999:\tlearn: 0.2740114\ttotal: 1.26s\tremaining: 0us\nLearning rate set to 0.015419\n0:\tlearn: 0.6855481\ttotal: 1.34ms\tremaining: 1.34s\n300:\tlearn: 0.3926545\ttotal: 363ms\tremaining: 842ms\n600:\tlearn: 0.3390693\ttotal: 728ms\tremaining: 483ms\n900:\tlearn: 0.2865652\ttotal: 1.09s\tremaining: 120ms\n999:\tlearn: 0.2733442\ttotal: 1.21s\tremaining: 0us\nLearning rate set to 0.015419\n0:\tlearn: 0.6849332\ttotal: 1.34ms\tremaining: 1.34s\n300:\tlearn: 0.3830203\ttotal: 361ms\tremaining: 838ms\n600:\tlearn: 0.3297175\ttotal: 733ms\tremaining: 487ms\n900:\tlearn: 0.2773830\ttotal: 1.1s\tremaining: 121ms\n999:\tlearn: 0.2633116\ttotal: 1.21s\tremaining: 0us\nLearning rate set to 0.015419\n0:\tlearn: 0.6867325\ttotal: 1.53ms\tremaining: 1.53s\n300:\tlearn: 0.3945382\ttotal: 366ms\tremaining: 849ms\n600:\tlearn: 0.3383258\ttotal: 737ms\tremaining: 489ms\n900:\tlearn: 0.2878650\ttotal: 1.12s\tremaining: 123ms\n999:\tlearn: 0.2742590\ttotal: 1.24s\tremaining: 0us\nLearning rate set to 0.015419\n0:\tlearn: 0.6860335\ttotal: 1.8ms\tremaining: 1.8s\n300:\tlearn: 0.3874350\ttotal: 433ms\tremaining: 1s\n600:\tlearn: 0.3340152\ttotal: 800ms\tremaining: 531ms\n900:\tlearn: 0.2823490\ttotal: 1.17s\tremaining: 129ms\n999:\tlearn: 0.2676036\ttotal: 1.3s\tremaining: 0us\nLearning rate set to 0.015419\n0:\tlearn: 0.6853349\ttotal: 1.47ms\tremaining: 1.47s\n300:\tlearn: 0.3746896\ttotal: 392ms\tremaining: 911ms\n600:\tlearn: 0.3203791\ttotal: 769ms\tremaining: 511ms\n900:\tlearn: 0.2680322\ttotal: 1.16s\tremaining: 127ms\n999:\tlearn: 0.2536891\ttotal: 1.28s\tremaining: 0us\nLearning rate set to 0.015419\n0:\tlearn: 0.6854219\ttotal: 1.58ms\tremaining: 1.58s\n300:\tlearn: 0.3939600\ttotal: 417ms\tremaining: 969ms\n600:\tlearn: 0.3441110\ttotal: 863ms\tremaining: 573ms\n900:\tlearn: 0.2927065\ttotal: 1.28s\tremaining: 141ms\n999:\tlearn: 0.2783224\ttotal: 1.42s\tremaining: 0us\n"
    },
    {
     "name": "stderr",
     "output_type": "stream",
     "text": "\u001B[32m[I 2023-03-09 13:02:05,583]\u001B[0m A new study created in memory with name: no-name-9c23979b-1eb3-451d-91fb-1293398a6feb\u001B[0m\n"
    },
    {
     "name": "stdout",
     "output_type": "stream",
     "text": "BaggingClassifier, model = catboosting\n              precision    recall  f1-score   support\n\n           0       0.83      0.93      0.87       455\n           1       0.74      0.53      0.62       188\n\n    accuracy                           0.81       643\n   macro avg       0.78      0.73      0.74       643\nweighted avg       0.80      0.81      0.80       643\n\nРешающие деревья\n              precision    recall  f1-score   support\n\n           0       0.81      0.95      0.87       455\n           1       0.78      0.46      0.58       188\n\n    accuracy                           0.81       643\n   macro avg       0.80      0.71      0.73       643\nweighted avg       0.80      0.81      0.79       643\n\n"
    },
    {
     "name": "stderr",
     "output_type": "stream",
     "text": "\u001B[32m[I 2023-03-09 13:02:05,775]\u001B[0m Trial 0 finished with value: 0.7417369952022969 and parameters: {'max_depth': 1, 'min_samples_split': 81, 'min_samples_leaf': 69, 'n_estimators': 18}. Best is trial 0 with value: 0.7417369952022969.\u001B[0m\n\u001B[32m[I 2023-03-09 13:02:06,011]\u001B[0m Trial 1 finished with value: 0.7989112613803785 and parameters: {'max_depth': 15, 'min_samples_split': 45, 'min_samples_leaf': 11, 'n_estimators': 14}. Best is trial 1 with value: 0.7989112613803785.\u001B[0m\n\u001B[32m[I 2023-03-09 13:02:06,248]\u001B[0m Trial 2 finished with value: 0.7806278569000037 and parameters: {'max_depth': 17, 'min_samples_split': 59, 'min_samples_leaf': 97, 'n_estimators': 17}. Best is trial 1 with value: 0.7989112613803785.\u001B[0m\n\u001B[32m[I 2023-03-09 13:02:06,475]\u001B[0m Trial 3 finished with value: 0.7817959276189036 and parameters: {'max_depth': 5, 'min_samples_split': 9, 'min_samples_leaf': 94, 'n_estimators': 20}. Best is trial 1 with value: 0.7989112613803785.\u001B[0m\n\u001B[32m[I 2023-03-09 13:02:06,652]\u001B[0m Trial 4 finished with value: 0.7744059536851648 and parameters: {'max_depth': 21, 'min_samples_split': 21, 'min_samples_leaf': 82, 'n_estimators': 14}. Best is trial 1 with value: 0.7989112613803785.\u001B[0m\n\u001B[32m[I 2023-03-09 13:02:06,901]\u001B[0m Trial 5 finished with value: 0.7841282913376902 and parameters: {'max_depth': 13, 'min_samples_split': 31, 'min_samples_leaf': 52, 'n_estimators': 17}. Best is trial 1 with value: 0.7989112613803785.\u001B[0m\n\u001B[32m[I 2023-03-09 13:02:07,177]\u001B[0m Trial 6 finished with value: 0.7845196630274639 and parameters: {'max_depth': 11, 'min_samples_split': 60, 'min_samples_leaf': 66, 'n_estimators': 19}. Best is trial 1 with value: 0.7989112613803785.\u001B[0m\n\u001B[32m[I 2023-03-09 13:02:07,403]\u001B[0m Trial 7 finished with value: 0.7872403762608137 and parameters: {'max_depth': 5, 'min_samples_split': 23, 'min_samples_leaf': 44, 'n_estimators': 17}. Best is trial 1 with value: 0.7989112613803785.\u001B[0m\n\u001B[32m[I 2023-03-09 13:02:07,523]\u001B[0m Trial 8 finished with value: 0.7868550489214613 and parameters: {'max_depth': 22, 'min_samples_split': 67, 'min_samples_leaf': 55, 'n_estimators': 7}. Best is trial 1 with value: 0.7989112613803785.\u001B[0m\n\u001B[32m[I 2023-03-09 13:02:07,573]\u001B[0m Trial 9 finished with value: 0.7790729477541462 and parameters: {'max_depth': 5, 'min_samples_split': 98, 'min_samples_leaf': 11, 'n_estimators': 1}. Best is trial 1 with value: 0.7989112613803785.\u001B[0m\n"
    },
    {
     "name": "stdout",
     "output_type": "stream",
     "text": "optuna Решающие деревья\n              precision    recall  f1-score   support\n\n           0       0.83      0.92      0.87       455\n           1       0.74      0.54      0.63       188\n\n    accuracy                           0.81       643\n   macro avg       0.79      0.73      0.75       643\nweighted avg       0.81      0.81      0.80       643\n\n"
    }
   ],
   "source": [
    "models = [\n",
    "    ('Catboost', catboosting),\n",
    "    ('BaggingClassifier, model = catboosting', BaggingClassifier(base_estimator=catboosting, n_estimators=50, random_state=42, n_jobs=-1)),\n",
    "    ('Решающие деревья', dfc),\n",
    "    ('optuna Решающие деревья', optuna_search)\n",
    "]\n",
    "for model in models:\n",
    "    title, _model = model\n",
    "    get_report_of_model(title, _model, X_train_valid, y_train_valid, X_test, y_test)"
   ]
  },
  {
   "cell_type": "markdown",
   "metadata": {},
   "source": [
    "accuracy = 0.81 остался неизменным"
   ]
  },
  {
   "cell_type": "markdown",
   "metadata": {},
   "source": [
    "## (бонус) Проверьте модели на адекватность"
   ]
  },
  {
   "cell_type": "markdown",
   "metadata": {},
   "source": [
    "Посмотрим на строки в которых модель catboosting ошибалась"
   ]
  },
  {
   "cell_type": "code",
   "execution_count": 81,
   "metadata": {
    "trusted": true
   },
   "outputs": [
    {
     "name": "stdout",
     "output_type": "stream",
     "text": "Learning rate set to 0.014015\n0:\tlearn: 0.6866991\ttotal: 1.37ms\tremaining: 1.37s\n300:\tlearn: 0.4136882\ttotal: 388ms\tremaining: 900ms\n600:\tlearn: 0.3765618\ttotal: 764ms\tremaining: 507ms\n900:\tlearn: 0.3378480\ttotal: 1.22s\tremaining: 134ms\n999:\tlearn: 0.3262513\ttotal: 1.34s\tremaining: 0us\n"
    }
   ],
   "source": [
    "catboosting.fit(X_train, y_train)\n",
    "y_pred = catboosting.predict(X_test)"
   ]
  },
  {
   "cell_type": "code",
   "execution_count": 82,
   "metadata": {
    "trusted": true
   },
   "outputs": [
    {
     "data": {
      "text/html": "<div>\n<style scoped>\n    .dataframe tbody tr th:only-of-type {\n        vertical-align: middle;\n    }\n\n    .dataframe tbody tr th {\n        vertical-align: top;\n    }\n\n    .dataframe thead th {\n        text-align: right;\n    }\n</style>\n<table border=\"1\" class=\"dataframe\">\n  <thead>\n    <tr style=\"text-align: right;\">\n      <th></th>\n      <th>minutes</th>\n      <th>messages</th>\n      <th>mb_used</th>\n      <th>y_test</th>\n      <th>y_pred</th>\n    </tr>\n  </thead>\n  <tbody>\n    <tr>\n      <th>3</th>\n      <td>230.99</td>\n      <td>19.0</td>\n      <td>23525.07</td>\n      <td>1.0</td>\n      <td>0.0</td>\n    </tr>\n    <tr>\n      <th>10</th>\n      <td>102.89</td>\n      <td>50.0</td>\n      <td>6618.91</td>\n      <td>1.0</td>\n      <td>0.0</td>\n    </tr>\n    <tr>\n      <th>16</th>\n      <td>1043.89</td>\n      <td>22.0</td>\n      <td>32651.11</td>\n      <td>0.0</td>\n      <td>1.0</td>\n    </tr>\n    <tr>\n      <th>37</th>\n      <td>200.26</td>\n      <td>90.0</td>\n      <td>15345.74</td>\n      <td>1.0</td>\n      <td>0.0</td>\n    </tr>\n    <tr>\n      <th>45</th>\n      <td>60.46</td>\n      <td>18.0</td>\n      <td>10928.01</td>\n      <td>1.0</td>\n      <td>0.0</td>\n    </tr>\n    <tr>\n      <th>...</th>\n      <td>...</td>\n      <td>...</td>\n      <td>...</td>\n      <td>...</td>\n      <td>...</td>\n    </tr>\n    <tr>\n      <th>625</th>\n      <td>365.90</td>\n      <td>15.0</td>\n      <td>22108.24</td>\n      <td>1.0</td>\n      <td>0.0</td>\n    </tr>\n    <tr>\n      <th>633</th>\n      <td>486.09</td>\n      <td>40.0</td>\n      <td>7357.66</td>\n      <td>1.0</td>\n      <td>0.0</td>\n    </tr>\n    <tr>\n      <th>639</th>\n      <td>662.09</td>\n      <td>31.0</td>\n      <td>17726.01</td>\n      <td>1.0</td>\n      <td>0.0</td>\n    </tr>\n    <tr>\n      <th>640</th>\n      <td>358.01</td>\n      <td>44.0</td>\n      <td>9998.83</td>\n      <td>1.0</td>\n      <td>0.0</td>\n    </tr>\n    <tr>\n      <th>642</th>\n      <td>351.60</td>\n      <td>66.0</td>\n      <td>16469.90</td>\n      <td>1.0</td>\n      <td>0.0</td>\n    </tr>\n  </tbody>\n</table>\n<p>117 rows × 5 columns</p>\n</div>",
      "text/plain": "     minutes  messages   mb_used  y_test  y_pred\n3     230.99      19.0  23525.07     1.0     0.0\n10    102.89      50.0   6618.91     1.0     0.0\n16   1043.89      22.0  32651.11     0.0     1.0\n37    200.26      90.0  15345.74     1.0     0.0\n45     60.46      18.0  10928.01     1.0     0.0\n..       ...       ...       ...     ...     ...\n625   365.90      15.0  22108.24     1.0     0.0\n633   486.09      40.0   7357.66     1.0     0.0\n639   662.09      31.0  17726.01     1.0     0.0\n640   358.01      44.0   9998.83     1.0     0.0\n642   351.60      66.0  16469.90     1.0     0.0\n\n[117 rows x 5 columns]"
     },
     "execution_count": 82,
     "metadata": {},
     "output_type": "execute_result"
    }
   ],
   "source": [
    "adequacy = np.c_[X_test, y_test, y_pred]\n",
    "adequacy_df = pd.DataFrame(adequacy)\n",
    "adequacy_df = adequacy_df.rename(columns={\n",
    "    0: 'minutes',\n",
    "    1: 'messages',\n",
    "    2: 'mb_used',\n",
    "    3: 'y_test',\n",
    "    4: 'y_pred'\n",
    "})\n",
    "adequacy_df.loc[adequacy_df['y_test'] != adequacy_df['y_pred']]"
   ]
  },
  {
   "cell_type": "markdown",
   "metadata": {},
   "source": [
    "Я затрудняюсь оценить адекватность модели"
   ]
  },
  {
   "cell_type": "markdown",
   "metadata": {},
   "source": [
    "## Чек-лист готовности проекта"
   ]
  },
  {
   "cell_type": "markdown",
   "metadata": {},
   "source": [
    "Поставьте 'x' в выполненных пунктах. Далее нажмите Shift+Enter."
   ]
  },
  {
   "cell_type": "markdown",
   "metadata": {},
   "source": [
    "## Вывод"
   ]
  },
  {
   "cell_type": "markdown",
   "metadata": {},
   "source": [
    "В ходе исследования были проверены все распространенные алгоритмы машинного обучения,\n",
    "так же была проверка нейросетевого классификатора. Ожидаемо наилучшие результаты показали\n",
    "алгоритмы связанные с деревьями:\n",
    "1) CatBoost (респект Яндексу)\n",
    "2) BaggingClassifier, model = catboosting\n",
    "3) Решающие деревья\n",
    "4) Optuna Решающие деревья\n",
    "\n",
    "У всех перечисленных выше моделей accuracy на тестовой выборке было 0.81, что по моему мнению является хорошим\n",
    "результатом с учетов маленького объема данных 3тысячи строк и несбалансированных классов (70 на 30).\n",
    "Нейросетевой классификатор показал плохой результат, я считаю что это связано с недостатком данных."
   ]
  }
 ],
 "metadata": {
  "ExecuteTimeLog": [
   {
    "duration": 406,
    "start_time": "2023-03-08T20:29:14.405Z"
   },
   {
    "duration": 112,
    "start_time": "2023-03-08T20:29:14.813Z"
   },
   {
    "duration": 0,
    "start_time": "2023-03-08T20:29:14.929Z"
   },
   {
    "duration": 0,
    "start_time": "2023-03-08T20:29:14.931Z"
   },
   {
    "duration": 0,
    "start_time": "2023-03-08T20:29:14.932Z"
   },
   {
    "duration": 0,
    "start_time": "2023-03-08T20:29:14.933Z"
   },
   {
    "duration": 0,
    "start_time": "2023-03-08T20:29:14.934Z"
   },
   {
    "duration": 0,
    "start_time": "2023-03-08T20:29:14.935Z"
   },
   {
    "duration": 0,
    "start_time": "2023-03-08T20:29:14.937Z"
   },
   {
    "duration": 0,
    "start_time": "2023-03-08T20:29:14.938Z"
   },
   {
    "duration": 0,
    "start_time": "2023-03-08T20:29:14.939Z"
   },
   {
    "duration": 0,
    "start_time": "2023-03-08T20:29:14.941Z"
   },
   {
    "duration": 0,
    "start_time": "2023-03-08T20:29:14.941Z"
   },
   {
    "duration": 0,
    "start_time": "2023-03-08T20:29:14.955Z"
   },
   {
    "duration": 0,
    "start_time": "2023-03-08T20:29:14.957Z"
   },
   {
    "duration": 0,
    "start_time": "2023-03-08T20:29:14.958Z"
   },
   {
    "duration": 0,
    "start_time": "2023-03-08T20:29:14.959Z"
   },
   {
    "duration": 0,
    "start_time": "2023-03-08T20:29:14.960Z"
   },
   {
    "duration": 0,
    "start_time": "2023-03-08T20:29:14.962Z"
   },
   {
    "duration": 0,
    "start_time": "2023-03-08T20:29:14.963Z"
   },
   {
    "duration": 0,
    "start_time": "2023-03-08T20:29:14.964Z"
   },
   {
    "duration": 0,
    "start_time": "2023-03-08T20:29:14.965Z"
   },
   {
    "duration": 0,
    "start_time": "2023-03-08T20:29:14.966Z"
   },
   {
    "duration": 0,
    "start_time": "2023-03-08T20:29:14.967Z"
   },
   {
    "duration": 0,
    "start_time": "2023-03-08T20:29:14.969Z"
   },
   {
    "duration": 0,
    "start_time": "2023-03-08T20:29:14.970Z"
   },
   {
    "duration": 0,
    "start_time": "2023-03-08T20:29:14.971Z"
   },
   {
    "duration": 0,
    "start_time": "2023-03-08T20:29:14.972Z"
   },
   {
    "duration": 0,
    "start_time": "2023-03-08T20:29:14.974Z"
   },
   {
    "duration": 0,
    "start_time": "2023-03-08T20:29:14.975Z"
   },
   {
    "duration": 0,
    "start_time": "2023-03-08T20:29:14.976Z"
   },
   {
    "duration": 0,
    "start_time": "2023-03-08T20:29:14.977Z"
   },
   {
    "duration": 0,
    "start_time": "2023-03-08T20:29:14.978Z"
   },
   {
    "duration": 0,
    "start_time": "2023-03-08T20:29:14.978Z"
   },
   {
    "duration": 0,
    "start_time": "2023-03-08T20:29:14.980Z"
   },
   {
    "duration": 0,
    "start_time": "2023-03-08T20:29:14.981Z"
   },
   {
    "duration": 0,
    "start_time": "2023-03-08T20:29:14.983Z"
   },
   {
    "duration": 0,
    "start_time": "2023-03-08T20:29:14.985Z"
   },
   {
    "duration": 0,
    "start_time": "2023-03-08T20:29:14.986Z"
   },
   {
    "duration": 0,
    "start_time": "2023-03-08T20:29:14.988Z"
   },
   {
    "duration": 0,
    "start_time": "2023-03-08T20:29:14.989Z"
   },
   {
    "duration": 1,
    "start_time": "2023-03-08T20:29:15.056Z"
   },
   {
    "duration": 0,
    "start_time": "2023-03-08T20:29:15.058Z"
   },
   {
    "duration": 0,
    "start_time": "2023-03-08T20:29:15.060Z"
   },
   {
    "duration": 0,
    "start_time": "2023-03-08T20:29:15.061Z"
   },
   {
    "duration": 0,
    "start_time": "2023-03-08T20:29:15.063Z"
   },
   {
    "duration": 0,
    "start_time": "2023-03-08T20:29:15.064Z"
   },
   {
    "duration": 0,
    "start_time": "2023-03-08T20:29:15.065Z"
   },
   {
    "duration": 0,
    "start_time": "2023-03-08T20:29:15.066Z"
   },
   {
    "duration": 0,
    "start_time": "2023-03-08T20:29:15.066Z"
   },
   {
    "duration": 0,
    "start_time": "2023-03-08T20:29:15.067Z"
   },
   {
    "duration": 0,
    "start_time": "2023-03-08T20:29:15.068Z"
   },
   {
    "duration": 0,
    "start_time": "2023-03-08T20:29:15.071Z"
   },
   {
    "duration": 0,
    "start_time": "2023-03-08T20:29:15.072Z"
   },
   {
    "duration": 0,
    "start_time": "2023-03-08T20:29:15.073Z"
   },
   {
    "duration": 0,
    "start_time": "2023-03-08T20:29:15.074Z"
   },
   {
    "duration": 0,
    "start_time": "2023-03-08T20:29:15.076Z"
   },
   {
    "duration": 0,
    "start_time": "2023-03-08T20:29:15.077Z"
   },
   {
    "duration": 0,
    "start_time": "2023-03-08T20:29:15.078Z"
   },
   {
    "duration": 0,
    "start_time": "2023-03-08T20:29:15.080Z"
   },
   {
    "duration": 0,
    "start_time": "2023-03-08T20:29:15.081Z"
   },
   {
    "duration": 0,
    "start_time": "2023-03-08T20:29:15.082Z"
   },
   {
    "duration": 0,
    "start_time": "2023-03-08T20:29:15.083Z"
   },
   {
    "duration": 0,
    "start_time": "2023-03-08T20:29:15.084Z"
   },
   {
    "duration": 0,
    "start_time": "2023-03-08T20:29:15.086Z"
   },
   {
    "duration": 0,
    "start_time": "2023-03-08T20:29:15.088Z"
   },
   {
    "duration": 0,
    "start_time": "2023-03-08T20:29:15.089Z"
   },
   {
    "duration": 0,
    "start_time": "2023-03-08T20:29:15.091Z"
   },
   {
    "duration": 0,
    "start_time": "2023-03-08T20:29:15.092Z"
   },
   {
    "duration": 1,
    "start_time": "2023-03-08T20:29:15.155Z"
   },
   {
    "duration": 0,
    "start_time": "2023-03-08T20:29:15.157Z"
   },
   {
    "duration": 0,
    "start_time": "2023-03-08T20:29:15.158Z"
   },
   {
    "duration": 0,
    "start_time": "2023-03-08T20:29:15.159Z"
   },
   {
    "duration": 0,
    "start_time": "2023-03-08T20:29:15.161Z"
   },
   {
    "duration": 0,
    "start_time": "2023-03-08T20:29:15.162Z"
   },
   {
    "duration": 0,
    "start_time": "2023-03-08T20:29:15.163Z"
   },
   {
    "duration": 0,
    "start_time": "2023-03-08T20:29:15.165Z"
   },
   {
    "duration": 0,
    "start_time": "2023-03-08T20:29:15.166Z"
   },
   {
    "duration": 0,
    "start_time": "2023-03-08T20:29:15.167Z"
   },
   {
    "duration": 0,
    "start_time": "2023-03-08T20:29:15.169Z"
   },
   {
    "duration": 0,
    "start_time": "2023-03-08T20:29:15.170Z"
   },
   {
    "duration": 390,
    "start_time": "2023-03-08T20:30:34.014Z"
   },
   {
    "duration": 34,
    "start_time": "2023-03-08T20:30:34.406Z"
   },
   {
    "duration": 15,
    "start_time": "2023-03-08T20:30:34.442Z"
   },
   {
    "duration": 14,
    "start_time": "2023-03-08T20:30:34.459Z"
   },
   {
    "duration": 10,
    "start_time": "2023-03-08T20:30:34.475Z"
   },
   {
    "duration": 13,
    "start_time": "2023-03-08T20:30:34.486Z"
   },
   {
    "duration": 1550,
    "start_time": "2023-03-08T20:30:34.500Z"
   },
   {
    "duration": 16,
    "start_time": "2023-03-08T20:30:36.052Z"
   },
   {
    "duration": 7,
    "start_time": "2023-03-08T20:30:36.070Z"
   },
   {
    "duration": 8,
    "start_time": "2023-03-08T20:30:36.080Z"
   },
   {
    "duration": 11,
    "start_time": "2023-03-08T20:30:36.089Z"
   },
   {
    "duration": 22,
    "start_time": "2023-03-08T20:30:36.101Z"
   },
   {
    "duration": 37,
    "start_time": "2023-03-08T20:30:36.124Z"
   },
   {
    "duration": 3,
    "start_time": "2023-03-08T20:30:36.163Z"
   },
   {
    "duration": 13,
    "start_time": "2023-03-08T20:30:36.168Z"
   },
   {
    "duration": 19,
    "start_time": "2023-03-08T20:30:36.183Z"
   },
   {
    "duration": 3,
    "start_time": "2023-03-08T20:30:36.204Z"
   },
   {
    "duration": 152,
    "start_time": "2023-03-08T20:30:36.209Z"
   },
   {
    "duration": 49,
    "start_time": "2023-03-08T20:30:36.363Z"
   },
   {
    "duration": 3,
    "start_time": "2023-03-08T20:30:36.414Z"
   },
   {
    "duration": 357,
    "start_time": "2023-03-08T20:30:36.419Z"
   },
   {
    "duration": 8,
    "start_time": "2023-03-08T20:30:36.778Z"
   },
   {
    "duration": 9,
    "start_time": "2023-03-08T20:30:36.788Z"
   },
   {
    "duration": 381,
    "start_time": "2023-03-08T20:30:36.799Z"
   },
   {
    "duration": 2640,
    "start_time": "2023-03-08T20:30:37.182Z"
   },
   {
    "duration": 1591,
    "start_time": "2023-03-08T20:30:39.824Z"
   },
   {
    "duration": 14,
    "start_time": "2023-03-08T20:30:41.417Z"
   },
   {
    "duration": 19,
    "start_time": "2023-03-08T20:30:41.437Z"
   },
   {
    "duration": 17,
    "start_time": "2023-03-08T20:30:41.457Z"
   },
   {
    "duration": 7439,
    "start_time": "2023-03-08T20:30:41.480Z"
   },
   {
    "duration": 44915,
    "start_time": "2023-03-08T20:30:48.921Z"
   },
   {
    "duration": 35533,
    "start_time": "2023-03-08T20:31:33.837Z"
   },
   {
    "duration": 1514,
    "start_time": "2023-03-08T20:32:09.372Z"
   },
   {
    "duration": 29,
    "start_time": "2023-03-08T20:32:10.888Z"
   },
   {
    "duration": 4,
    "start_time": "2023-03-08T20:32:10.919Z"
   },
   {
    "duration": 163,
    "start_time": "2023-03-08T20:32:10.925Z"
   },
   {
    "duration": 0,
    "start_time": "2023-03-08T20:32:11.090Z"
   },
   {
    "duration": 0,
    "start_time": "2023-03-08T20:32:11.092Z"
   },
   {
    "duration": 0,
    "start_time": "2023-03-08T20:32:11.094Z"
   },
   {
    "duration": 0,
    "start_time": "2023-03-08T20:32:11.095Z"
   },
   {
    "duration": 0,
    "start_time": "2023-03-08T20:32:11.097Z"
   },
   {
    "duration": 0,
    "start_time": "2023-03-08T20:32:11.098Z"
   },
   {
    "duration": 0,
    "start_time": "2023-03-08T20:32:11.099Z"
   },
   {
    "duration": 0,
    "start_time": "2023-03-08T20:32:11.101Z"
   },
   {
    "duration": 0,
    "start_time": "2023-03-08T20:32:11.102Z"
   },
   {
    "duration": 0,
    "start_time": "2023-03-08T20:32:11.104Z"
   },
   {
    "duration": 0,
    "start_time": "2023-03-08T20:32:11.105Z"
   },
   {
    "duration": 0,
    "start_time": "2023-03-08T20:32:11.107Z"
   },
   {
    "duration": 0,
    "start_time": "2023-03-08T20:32:11.108Z"
   },
   {
    "duration": 0,
    "start_time": "2023-03-08T20:32:11.109Z"
   },
   {
    "duration": 0,
    "start_time": "2023-03-08T20:32:11.110Z"
   },
   {
    "duration": 0,
    "start_time": "2023-03-08T20:32:11.112Z"
   },
   {
    "duration": 0,
    "start_time": "2023-03-08T20:32:11.113Z"
   },
   {
    "duration": 0,
    "start_time": "2023-03-08T20:32:11.114Z"
   },
   {
    "duration": 0,
    "start_time": "2023-03-08T20:32:11.116Z"
   },
   {
    "duration": 0,
    "start_time": "2023-03-08T20:32:11.155Z"
   },
   {
    "duration": 0,
    "start_time": "2023-03-08T20:32:11.156Z"
   },
   {
    "duration": 0,
    "start_time": "2023-03-08T20:32:11.158Z"
   },
   {
    "duration": 0,
    "start_time": "2023-03-08T20:32:11.158Z"
   },
   {
    "duration": 0,
    "start_time": "2023-03-08T20:32:11.160Z"
   },
   {
    "duration": 0,
    "start_time": "2023-03-08T20:32:11.160Z"
   },
   {
    "duration": 0,
    "start_time": "2023-03-08T20:32:11.162Z"
   },
   {
    "duration": 0,
    "start_time": "2023-03-08T20:32:11.163Z"
   },
   {
    "duration": 0,
    "start_time": "2023-03-08T20:32:11.163Z"
   },
   {
    "duration": 0,
    "start_time": "2023-03-08T20:32:11.164Z"
   },
   {
    "duration": 0,
    "start_time": "2023-03-08T20:32:11.165Z"
   },
   {
    "duration": 0,
    "start_time": "2023-03-08T20:32:11.166Z"
   },
   {
    "duration": 0,
    "start_time": "2023-03-08T20:32:11.168Z"
   },
   {
    "duration": 0,
    "start_time": "2023-03-08T20:32:11.169Z"
   },
   {
    "duration": 0,
    "start_time": "2023-03-08T20:32:11.171Z"
   },
   {
    "duration": 0,
    "start_time": "2023-03-08T20:32:11.172Z"
   },
   {
    "duration": 0,
    "start_time": "2023-03-08T20:32:11.173Z"
   },
   {
    "duration": 0,
    "start_time": "2023-03-08T20:32:11.174Z"
   },
   {
    "duration": 0,
    "start_time": "2023-03-08T20:32:11.176Z"
   },
   {
    "duration": 0,
    "start_time": "2023-03-08T20:32:11.178Z"
   },
   {
    "duration": 0,
    "start_time": "2023-03-08T20:32:11.179Z"
   },
   {
    "duration": 0,
    "start_time": "2023-03-08T20:32:11.181Z"
   },
   {
    "duration": 0,
    "start_time": "2023-03-08T20:32:11.182Z"
   },
   {
    "duration": 0,
    "start_time": "2023-03-08T20:32:11.183Z"
   },
   {
    "duration": 0,
    "start_time": "2023-03-08T20:32:11.185Z"
   },
   {
    "duration": 0,
    "start_time": "2023-03-08T20:32:11.186Z"
   },
   {
    "duration": 49,
    "start_time": "2023-03-09T08:15:47.779Z"
   },
   {
    "duration": 371,
    "start_time": "2023-03-09T08:16:08.785Z"
   },
   {
    "duration": 80,
    "start_time": "2023-03-09T08:16:12.478Z"
   },
   {
    "duration": 18,
    "start_time": "2023-03-09T08:16:15.513Z"
   },
   {
    "duration": 4,
    "start_time": "2023-03-09T08:16:17.936Z"
   },
   {
    "duration": 5,
    "start_time": "2023-03-09T08:16:18.679Z"
   },
   {
    "duration": 6,
    "start_time": "2023-03-09T08:16:19.129Z"
   },
   {
    "duration": 782,
    "start_time": "2023-03-09T08:16:21.253Z"
   },
   {
    "duration": 457,
    "start_time": "2023-03-09T08:16:26.617Z"
   },
   {
    "duration": 285,
    "start_time": "2023-03-09T08:17:35.898Z"
   },
   {
    "duration": 67,
    "start_time": "2023-03-09T08:19:34.709Z"
   },
   {
    "duration": 530,
    "start_time": "2023-03-09T08:28:59.016Z"
   },
   {
    "duration": 315,
    "start_time": "2023-03-09T08:29:02.245Z"
   },
   {
    "duration": 261,
    "start_time": "2023-03-09T08:29:13.094Z"
   },
   {
    "duration": 4,
    "start_time": "2023-03-09T08:31:16.599Z"
   },
   {
    "duration": 238,
    "start_time": "2023-03-09T08:32:19.893Z"
   },
   {
    "duration": 72,
    "start_time": "2023-03-09T08:33:27.312Z"
   },
   {
    "duration": 6,
    "start_time": "2023-03-09T08:34:07.953Z"
   },
   {
    "duration": 3,
    "start_time": "2023-03-09T08:34:29.706Z"
   },
   {
    "duration": 4,
    "start_time": "2023-03-09T08:34:30.508Z"
   },
   {
    "duration": 3,
    "start_time": "2023-03-09T08:34:31.712Z"
   },
   {
    "duration": 20,
    "start_time": "2023-03-09T08:34:37.624Z"
   },
   {
    "duration": 27,
    "start_time": "2023-03-09T08:34:39.186Z"
   },
   {
    "duration": 2,
    "start_time": "2023-03-09T08:34:48.728Z"
   },
   {
    "duration": 8,
    "start_time": "2023-03-09T08:34:50.234Z"
   },
   {
    "duration": 3,
    "start_time": "2023-03-09T08:47:53.054Z"
   },
   {
    "duration": 33,
    "start_time": "2023-03-09T08:47:58.630Z"
   },
   {
    "duration": 38,
    "start_time": "2023-03-09T08:47:59.837Z"
   },
   {
    "duration": 3,
    "start_time": "2023-03-09T08:48:34.648Z"
   },
   {
    "duration": 7,
    "start_time": "2023-03-09T08:49:10.863Z"
   },
   {
    "duration": 5,
    "start_time": "2023-03-09T08:49:11.851Z"
   },
   {
    "duration": 3,
    "start_time": "2023-03-09T08:49:13.487Z"
   },
   {
    "duration": 331,
    "start_time": "2023-03-09T08:49:15.327Z"
   },
   {
    "duration": 2171,
    "start_time": "2023-03-09T08:49:26.311Z"
   },
   {
    "duration": 3930,
    "start_time": "2023-03-09T08:49:43.228Z"
   },
   {
    "duration": 3628,
    "start_time": "2023-03-09T08:50:14.809Z"
   },
   {
    "duration": 3710,
    "start_time": "2023-03-09T08:50:23.826Z"
   },
   {
    "duration": 5031,
    "start_time": "2023-03-09T08:50:44.203Z"
   },
   {
    "duration": 1283,
    "start_time": "2023-03-09T08:50:51.689Z"
   },
   {
    "duration": 1005,
    "start_time": "2023-03-09T08:51:01.762Z"
   },
   {
    "duration": 13,
    "start_time": "2023-03-09T08:51:23.644Z"
   },
   {
    "duration": 13,
    "start_time": "2023-03-09T08:51:49.337Z"
   },
   {
    "duration": 15,
    "start_time": "2023-03-09T08:52:16.863Z"
   },
   {
    "duration": 3,
    "start_time": "2023-03-09T08:52:32.465Z"
   },
   {
    "duration": 10,
    "start_time": "2023-03-09T08:52:34.810Z"
   },
   {
    "duration": 5560,
    "start_time": "2023-03-09T08:52:35.762Z"
   },
   {
    "duration": 31041,
    "start_time": "2023-03-09T08:52:48.474Z"
   },
   {
    "duration": 26425,
    "start_time": "2023-03-09T08:53:38.995Z"
   },
   {
    "duration": 3144,
    "start_time": "2023-03-09T08:54:30.974Z"
   },
   {
    "duration": 6185,
    "start_time": "2023-03-09T08:54:37.726Z"
   },
   {
    "duration": 1031,
    "start_time": "2023-03-09T08:55:06.053Z"
   },
   {
    "duration": 71368,
    "start_time": "2023-03-09T08:55:10.119Z"
   },
   {
    "duration": 412,
    "start_time": "2023-03-09T09:00:54.260Z"
   },
   {
    "duration": 1009,
    "start_time": "2023-03-09T09:01:09.516Z"
   },
   {
    "duration": 24,
    "start_time": "2023-03-09T09:01:25.533Z"
   },
   {
    "duration": 28,
    "start_time": "2023-03-09T09:02:03.077Z"
   },
   {
    "duration": 28,
    "start_time": "2023-03-09T09:02:05.957Z"
   },
   {
    "duration": 3,
    "start_time": "2023-03-09T09:02:33.951Z"
   },
   {
    "duration": 113,
    "start_time": "2023-03-09T09:02:36.602Z"
   },
   {
    "duration": 3868,
    "start_time": "2023-03-09T09:02:39.625Z"
   },
   {
    "duration": 1327,
    "start_time": "2023-03-09T09:02:48.661Z"
   },
   {
    "duration": 4,
    "start_time": "2023-03-09T09:03:16.606Z"
   },
   {
    "duration": 3,
    "start_time": "2023-03-09T09:03:18.712Z"
   },
   {
    "duration": 113,
    "start_time": "2023-03-09T09:03:19.508Z"
   },
   {
    "duration": 3,
    "start_time": "2023-03-09T09:03:29.310Z"
   },
   {
    "duration": 19,
    "start_time": "2023-03-09T09:03:30.844Z"
   },
   {
    "duration": 2327,
    "start_time": "2023-03-09T09:03:32.310Z"
   },
   {
    "duration": 3,
    "start_time": "2023-03-09T09:04:32.214Z"
   },
   {
    "duration": 4,
    "start_time": "2023-03-09T09:04:35.245Z"
   },
   {
    "duration": 16348,
    "start_time": "2023-03-09T09:04:36.110Z"
   },
   {
    "duration": 4,
    "start_time": "2023-03-09T09:05:11.637Z"
   },
   {
    "duration": 3,
    "start_time": "2023-03-09T09:05:12.966Z"
   },
   {
    "duration": 138902,
    "start_time": "2023-03-09T09:05:14.670Z"
   },
   {
    "duration": 3,
    "start_time": "2023-03-09T09:07:33.574Z"
   },
   {
    "duration": 2,
    "start_time": "2023-03-09T09:08:52.355Z"
   },
   {
    "duration": 2,
    "start_time": "2023-03-09T09:09:13.785Z"
   },
   {
    "duration": 3,
    "start_time": "2023-03-09T09:09:52.845Z"
   },
   {
    "duration": 3,
    "start_time": "2023-03-09T09:09:55.276Z"
   },
   {
    "duration": 162274,
    "start_time": "2023-03-09T09:09:55.930Z"
   },
   {
    "duration": 3,
    "start_time": "2023-03-09T09:17:14.522Z"
   },
   {
    "duration": 3,
    "start_time": "2023-03-09T09:17:14.946Z"
   },
   {
    "duration": 3,
    "start_time": "2023-03-09T09:17:15.386Z"
   },
   {
    "duration": 2,
    "start_time": "2023-03-09T09:17:17.298Z"
   },
   {
    "duration": 13,
    "start_time": "2023-03-09T09:17:17.623Z"
   },
   {
    "duration": 3,
    "start_time": "2023-03-09T09:17:18.890Z"
   },
   {
    "duration": 7,
    "start_time": "2023-03-09T09:18:05.539Z"
   },
   {
    "duration": 13,
    "start_time": "2023-03-09T09:18:06.426Z"
   },
   {
    "duration": 3,
    "start_time": "2023-03-09T09:18:18.700Z"
   },
   {
    "duration": 6,
    "start_time": "2023-03-09T09:18:21.030Z"
   },
   {
    "duration": 2193,
    "start_time": "2023-03-09T09:18:21.663Z"
   },
   {
    "duration": 4,
    "start_time": "2023-03-09T09:18:46.659Z"
   },
   {
    "duration": 14,
    "start_time": "2023-03-09T09:18:49.067Z"
   },
   {
    "duration": 11,
    "start_time": "2023-03-09T09:18:59.259Z"
   },
   {
    "duration": 14,
    "start_time": "2023-03-09T09:19:05.235Z"
   },
   {
    "duration": 13,
    "start_time": "2023-03-09T09:19:11.757Z"
   },
   {
    "duration": 139455,
    "start_time": "2023-03-09T09:19:15.271Z"
   },
   {
    "duration": 3,
    "start_time": "2023-03-09T09:21:34.728Z"
   },
   {
    "duration": 5,
    "start_time": "2023-03-09T09:21:34.733Z"
   },
   {
    "duration": 16,
    "start_time": "2023-03-09T09:21:34.740Z"
   },
   {
    "duration": 3,
    "start_time": "2023-03-09T09:22:02.237Z"
   },
   {
    "duration": 3,
    "start_time": "2023-03-09T09:24:14.145Z"
   },
   {
    "duration": 3,
    "start_time": "2023-03-09T09:24:38.025Z"
   },
   {
    "duration": 9,
    "start_time": "2023-03-09T09:24:39.752Z"
   },
   {
    "duration": 12,
    "start_time": "2023-03-09T09:24:42.079Z"
   },
   {
    "duration": 87299,
    "start_time": "2023-03-09T09:24:45.727Z"
   },
   {
    "duration": 1548,
    "start_time": "2023-03-09T09:26:37.568Z"
   },
   {
    "duration": 1230,
    "start_time": "2023-03-09T09:26:40.066Z"
   },
   {
    "duration": 15,
    "start_time": "2023-03-09T09:29:22.213Z"
   },
   {
    "duration": 74,
    "start_time": "2023-03-09T12:43:57.118Z"
   },
   {
    "duration": 416,
    "start_time": "2023-03-09T12:44:01.851Z"
   },
   {
    "duration": 41,
    "start_time": "2023-03-09T12:44:02.269Z"
   },
   {
    "duration": 31,
    "start_time": "2023-03-09T12:44:02.312Z"
   },
   {
    "duration": 14,
    "start_time": "2023-03-09T12:44:02.345Z"
   },
   {
    "duration": 16,
    "start_time": "2023-03-09T12:44:02.362Z"
   },
   {
    "duration": 25,
    "start_time": "2023-03-09T12:44:02.380Z"
   },
   {
    "duration": 877,
    "start_time": "2023-03-09T12:44:02.407Z"
   },
   {
    "duration": 609,
    "start_time": "2023-03-09T12:44:03.286Z"
   },
   {
    "duration": 430,
    "start_time": "2023-03-09T12:44:03.897Z"
   },
   {
    "duration": 16,
    "start_time": "2023-03-09T12:44:04.336Z"
   },
   {
    "duration": 3690,
    "start_time": "2023-03-09T12:44:04.358Z"
   },
   {
    "duration": 9,
    "start_time": "2023-03-09T12:44:08.050Z"
   },
   {
    "duration": 8,
    "start_time": "2023-03-09T12:44:08.061Z"
   },
   {
    "duration": 7,
    "start_time": "2023-03-09T12:44:08.073Z"
   },
   {
    "duration": 8,
    "start_time": "2023-03-09T12:44:08.082Z"
   },
   {
    "duration": 44,
    "start_time": "2023-03-09T12:44:08.092Z"
   },
   {
    "duration": 40,
    "start_time": "2023-03-09T12:44:08.146Z"
   },
   {
    "duration": 4,
    "start_time": "2023-03-09T12:44:08.188Z"
   },
   {
    "duration": 134,
    "start_time": "2023-03-09T12:44:08.193Z"
   },
   {
    "duration": 61,
    "start_time": "2023-03-09T12:44:08.328Z"
   },
   {
    "duration": 155,
    "start_time": "2023-03-09T12:44:11.225Z"
   },
   {
    "duration": 59,
    "start_time": "2023-03-09T12:44:33.073Z"
   },
   {
    "duration": 49,
    "start_time": "2023-03-09T12:44:40.873Z"
   },
   {
    "duration": 4,
    "start_time": "2023-03-09T12:44:46.763Z"
   },
   {
    "duration": 9,
    "start_time": "2023-03-09T12:45:03.448Z"
   },
   {
    "duration": 6,
    "start_time": "2023-03-09T12:45:07.280Z"
   },
   {
    "duration": 430,
    "start_time": "2023-03-09T12:49:27.952Z"
   },
   {
    "duration": 37,
    "start_time": "2023-03-09T12:49:28.385Z"
   },
   {
    "duration": 23,
    "start_time": "2023-03-09T12:49:28.426Z"
   },
   {
    "duration": 4,
    "start_time": "2023-03-09T12:49:28.451Z"
   },
   {
    "duration": 8,
    "start_time": "2023-03-09T12:49:28.457Z"
   },
   {
    "duration": 18,
    "start_time": "2023-03-09T12:49:28.467Z"
   },
   {
    "duration": 673,
    "start_time": "2023-03-09T12:49:28.487Z"
   },
   {
    "duration": 542,
    "start_time": "2023-03-09T12:49:29.162Z"
   },
   {
    "duration": 309,
    "start_time": "2023-03-09T12:49:29.706Z"
   },
   {
    "duration": 13,
    "start_time": "2023-03-09T12:49:30.017Z"
   },
   {
    "duration": 1381,
    "start_time": "2023-03-09T12:49:30.036Z"
   },
   {
    "duration": 7,
    "start_time": "2023-03-09T12:49:31.419Z"
   },
   {
    "duration": 15,
    "start_time": "2023-03-09T12:49:31.428Z"
   },
   {
    "duration": 32,
    "start_time": "2023-03-09T12:49:31.446Z"
   },
   {
    "duration": 23,
    "start_time": "2023-03-09T12:49:31.480Z"
   },
   {
    "duration": 48,
    "start_time": "2023-03-09T12:49:31.506Z"
   },
   {
    "duration": 52,
    "start_time": "2023-03-09T12:49:31.556Z"
   },
   {
    "duration": 4,
    "start_time": "2023-03-09T12:49:31.609Z"
   },
   {
    "duration": 56,
    "start_time": "2023-03-09T12:49:31.615Z"
   },
   {
    "duration": 60,
    "start_time": "2023-03-09T12:49:31.673Z"
   },
   {
    "duration": 8,
    "start_time": "2023-03-09T12:49:31.734Z"
   },
   {
    "duration": 16,
    "start_time": "2023-03-09T12:49:31.744Z"
   },
   {
    "duration": 6,
    "start_time": "2023-03-09T12:49:31.763Z"
   },
   {
    "duration": 13,
    "start_time": "2023-03-09T12:49:31.770Z"
   },
   {
    "duration": 459,
    "start_time": "2023-03-09T12:49:31.784Z"
   },
   {
    "duration": 5528,
    "start_time": "2023-03-09T12:49:32.245Z"
   },
   {
    "duration": 1094,
    "start_time": "2023-03-09T12:49:37.774Z"
   },
   {
    "duration": 13,
    "start_time": "2023-03-09T12:49:38.873Z"
   },
   {
    "duration": 3,
    "start_time": "2023-03-09T12:49:38.889Z"
   },
   {
    "duration": 32,
    "start_time": "2023-03-09T12:49:38.894Z"
   },
   {
    "duration": 6128,
    "start_time": "2023-03-09T12:49:38.928Z"
   },
   {
    "duration": 33046,
    "start_time": "2023-03-09T12:49:45.060Z"
   },
   {
    "duration": 6542,
    "start_time": "2023-03-09T12:50:18.108Z"
   },
   {
    "duration": 1119,
    "start_time": "2023-03-09T12:50:24.652Z"
   },
   {
    "duration": 29,
    "start_time": "2023-03-09T12:50:25.773Z"
   },
   {
    "duration": 3,
    "start_time": "2023-03-09T12:50:25.803Z"
   },
   {
    "duration": 4541,
    "start_time": "2023-03-09T12:50:25.826Z"
   },
   {
    "duration": 1869,
    "start_time": "2023-03-09T12:50:30.369Z"
   },
   {
    "duration": 4,
    "start_time": "2023-03-09T12:50:32.240Z"
   },
   {
    "duration": 33,
    "start_time": "2023-03-09T12:50:32.246Z"
   },
   {
    "duration": 148,
    "start_time": "2023-03-09T12:50:32.281Z"
   },
   {
    "duration": 6,
    "start_time": "2023-03-09T12:50:32.435Z"
   },
   {
    "duration": 28,
    "start_time": "2023-03-09T12:50:32.442Z"
   },
   {
    "duration": 2074,
    "start_time": "2023-03-09T12:50:32.471Z"
   },
   {
    "duration": 4,
    "start_time": "2023-03-09T12:50:34.546Z"
   },
   {
    "duration": 7,
    "start_time": "2023-03-09T12:50:34.552Z"
   },
   {
    "duration": 18930,
    "start_time": "2023-03-09T12:50:34.561Z"
   },
   {
    "duration": 3,
    "start_time": "2023-03-09T12:50:53.493Z"
   },
   {
    "duration": 5,
    "start_time": "2023-03-09T12:50:53.498Z"
   },
   {
    "duration": 164953,
    "start_time": "2023-03-09T12:50:53.505Z"
   },
   {
    "duration": 3,
    "start_time": "2023-03-09T12:53:38.460Z"
   },
   {
    "duration": 6,
    "start_time": "2023-03-09T12:53:38.465Z"
   },
   {
    "duration": 5,
    "start_time": "2023-03-09T12:53:38.472Z"
   },
   {
    "duration": 5,
    "start_time": "2023-03-09T12:53:38.478Z"
   },
   {
    "duration": 5,
    "start_time": "2023-03-09T12:53:38.484Z"
   },
   {
    "duration": 204181,
    "start_time": "2023-03-09T12:53:38.491Z"
   },
   {
    "duration": 4,
    "start_time": "2023-03-09T12:57:02.675Z"
   },
   {
    "duration": 15,
    "start_time": "2023-03-09T12:57:02.680Z"
   },
   {
    "duration": 7,
    "start_time": "2023-03-09T12:57:02.697Z"
   },
   {
    "duration": 34,
    "start_time": "2023-03-09T12:57:02.706Z"
   },
   {
    "duration": 26,
    "start_time": "2023-03-09T12:57:02.743Z"
   },
   {
    "duration": 4,
    "start_time": "2023-03-09T12:57:02.771Z"
   },
   {
    "duration": 10,
    "start_time": "2023-03-09T12:57:02.777Z"
   },
   {
    "duration": 27,
    "start_time": "2023-03-09T12:57:02.789Z"
   },
   {
    "duration": 3,
    "start_time": "2023-03-09T12:57:02.817Z"
   },
   {
    "duration": 10,
    "start_time": "2023-03-09T12:57:02.822Z"
   },
   {
    "duration": 11889,
    "start_time": "2023-03-09T12:57:02.834Z"
   },
   {
    "duration": 4,
    "start_time": "2023-03-09T12:57:14.726Z"
   },
   {
    "duration": 21,
    "start_time": "2023-03-09T12:57:14.734Z"
   },
   {
    "duration": 15,
    "start_time": "2023-03-09T12:57:14.757Z"
   },
   {
    "duration": 177042,
    "start_time": "2023-03-09T12:57:14.774Z"
   },
   {
    "duration": 4,
    "start_time": "2023-03-09T13:00:11.823Z"
   },
   {
    "duration": 19,
    "start_time": "2023-03-09T13:00:11.829Z"
   },
   {
    "duration": 8,
    "start_time": "2023-03-09T13:00:11.849Z"
   },
   {
    "duration": 5,
    "start_time": "2023-03-09T13:00:11.859Z"
   },
   {
    "duration": 9,
    "start_time": "2023-03-09T13:00:11.866Z"
   },
   {
    "duration": 5,
    "start_time": "2023-03-09T13:00:11.876Z"
   },
   {
    "duration": 21,
    "start_time": "2023-03-09T13:00:11.882Z"
   },
   {
    "duration": 15,
    "start_time": "2023-03-09T13:00:11.905Z"
   },
   {
    "duration": 115717,
    "start_time": "2023-03-09T13:00:11.922Z"
   },
   {
    "duration": 2447,
    "start_time": "2023-03-09T13:02:07.647Z"
   },
   {
    "duration": 18,
    "start_time": "2023-03-09T13:02:10.099Z"
   }
  ],
  "kernelspec": {
   "display_name": "Python 3 (ipykernel)",
   "language": "python",
   "name": "python3"
  },
  "language_info": {
   "codemirror_mode": {
    "name": "ipython",
    "version": 3
   },
   "file_extension": ".py",
   "mimetype": "text/x-python",
   "name": "python",
   "nbconvert_exporter": "python",
   "pygments_lexer": "ipython3",
   "version": "3.9.5"
  },
  "toc": {
   "base_numbering": 1,
   "nav_menu": {},
   "number_sections": true,
   "sideBar": true,
   "skip_h1_title": true,
   "title_cell": "Table of Contents",
   "title_sidebar": "Contents",
   "toc_cell": false,
   "toc_position": {},
   "toc_section_display": true,
   "toc_window_display": true
  }
 },
 "nbformat": 4,
 "nbformat_minor": 2
}
