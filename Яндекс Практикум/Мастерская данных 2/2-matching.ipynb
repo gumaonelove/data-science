{
 "cells": [
  {
   "cell_type": "code",
   "execution_count": 5,
   "outputs": [
    {
     "name": "stdout",
     "output_type": "stream",
     "text": [
      "Collecting package metadata (current_repodata.json): done\r\n",
      "Solving environment: done\r\n",
      "\r\n",
      "## Package Plan ##\r\n",
      "\r\n",
      "  environment location: /Users/bulatgumerov/anaconda3/envs/data-science\r\n",
      "\r\n",
      "  added / updated specs:\r\n",
      "    - pandas\r\n",
      "\r\n",
      "\r\n",
      "The following NEW packages will be INSTALLED:\r\n",
      "\r\n",
      "  pandas             anaconda/osx-64::pandas-1.4.2-py39he9d5cce_0 \r\n",
      "\r\n",
      "\r\n",
      "\r\n",
      "Downloading and Extracting Packages\r\n",
      "\r\n",
      "Preparing transaction: done\r\n",
      "Verifying transaction: done\r\n",
      "Executing transaction: done\r\n"
     ]
    }
   ],
   "source": [
    "! conda install pandas -y"
   ],
   "metadata": {
    "collapsed": false,
    "ExecuteTime": {
     "end_time": "2023-09-12T18:03:59.076242Z",
     "start_time": "2023-09-12T18:03:06.365546Z"
    }
   },
   "id": "7130aea8fb9d41ba"
  },
  {
   "cell_type": "code",
   "execution_count": 22,
   "outputs": [],
   "source": [
    "import pandas as pd\n",
    "import numpy as np\n",
    "import faiss\n",
    "from tqdm.notebook import tqdm"
   ],
   "metadata": {
    "collapsed": false,
    "ExecuteTime": {
     "end_time": "2023-09-12T18:46:34.534141Z",
     "start_time": "2023-09-12T18:46:34.519471Z"
    }
   },
   "id": "424e17cb-ae43-475d-bd00-a3bb36a51cb5"
  },
  {
   "cell_type": "code",
   "execution_count": 23,
   "outputs": [],
   "source": [
    "DATA_PATH = './data/'"
   ],
   "metadata": {
    "collapsed": false,
    "ExecuteTime": {
     "end_time": "2023-09-12T18:46:35.272643Z",
     "start_time": "2023-09-12T18:46:35.269446Z"
    }
   },
   "id": "750c598df1c1a3ba"
  },
  {
   "cell_type": "markdown",
   "id": "ea67f7f3-16eb-45e8-a14d-bd4814accf32",
   "metadata": {},
   "source": [
    "# Load data"
   ]
  },
  {
   "cell_type": "markdown",
   "id": "ad86b92e-6d1f-42ab-aaec-4b34f21021e2",
   "metadata": {},
   "source": [
    "## Base"
   ]
  },
  {
   "cell_type": "markdown",
   "id": "3eb9d043-5d0b-47b7-bff1-82395794b958",
   "metadata": {},
   "source": [
    "### Base dataset"
   ]
  },
  {
   "cell_type": "code",
   "execution_count": 24,
   "id": "9137b16a-b95a-4346-8e9c-252159558b82",
   "metadata": {
    "ExecuteTime": {
     "end_time": "2023-09-12T18:47:03.272777Z",
     "start_time": "2023-09-12T18:46:36.000270Z"
    }
   },
   "outputs": [
    {
     "data": {
      "text/plain": "                 0          1          2          3           4           5  \\\nId                                                                            \n0-base -115.083890  11.152912 -64.426760 -118.88089  216.482440 -104.698060   \n1-base  -34.562202  13.332763 -69.787610 -166.53348   57.680607  -86.098370   \n2-base  -54.233746   6.379371 -29.210136 -133.41383  150.895830  -99.435326   \n3-base  -87.520130   4.037884 -87.803030 -185.06763   76.369540  -58.985165   \n4-base  -72.743850   6.522049  43.671265 -140.60803    5.820023 -112.074080   \n\n                 6          7           8           9  ...          62  \\\nId                                                     ...               \n0-base -469.070588  44.348083  120.915344  181.449700  ...  -42.808693   \n1-base  -85.076666 -35.637436  119.718636  195.234190  ... -117.767525   \n2-base   52.554795  62.381706  128.951450  164.381470  ...  -76.397800   \n3-base -383.182845 -33.611237  122.031910  136.233580  ...  -70.647940   \n4-base -397.711282  45.182500  122.167180  112.119064  ...  -57.199104   \n\n               63         64          65        66         67          68  \\\nId                                                                          \n0-base  38.800827 -151.76218  -74.389090  63.66634  -4.703861   92.933610   \n1-base  41.100000 -157.82940  -94.446806  68.20211  24.346846  179.937930   \n2-base  46.011803 -207.14442  127.325570  65.56618  66.325680   81.073490   \n3-base  -6.358921 -147.20105  -37.692750  66.20289 -20.566910  137.206940   \n4-base  56.642403 -159.35184   85.944724  66.76632  -2.505783   65.315285   \n\n                69           70         71  \nId                                          \n0-base  115.269190  -112.756640 -60.830353  \n1-base  116.834000   -84.888941 -59.524610  \n2-base  116.594154 -1074.464888 -32.527206  \n3-base  117.474100 -1074.464888 -72.915490  \n4-base  135.051590 -1074.464888   0.319401  \n\n[5 rows x 72 columns]",
      "text/html": "<div>\n<style scoped>\n    .dataframe tbody tr th:only-of-type {\n        vertical-align: middle;\n    }\n\n    .dataframe tbody tr th {\n        vertical-align: top;\n    }\n\n    .dataframe thead th {\n        text-align: right;\n    }\n</style>\n<table border=\"1\" class=\"dataframe\">\n  <thead>\n    <tr style=\"text-align: right;\">\n      <th></th>\n      <th>0</th>\n      <th>1</th>\n      <th>2</th>\n      <th>3</th>\n      <th>4</th>\n      <th>5</th>\n      <th>6</th>\n      <th>7</th>\n      <th>8</th>\n      <th>9</th>\n      <th>...</th>\n      <th>62</th>\n      <th>63</th>\n      <th>64</th>\n      <th>65</th>\n      <th>66</th>\n      <th>67</th>\n      <th>68</th>\n      <th>69</th>\n      <th>70</th>\n      <th>71</th>\n    </tr>\n    <tr>\n      <th>Id</th>\n      <th></th>\n      <th></th>\n      <th></th>\n      <th></th>\n      <th></th>\n      <th></th>\n      <th></th>\n      <th></th>\n      <th></th>\n      <th></th>\n      <th></th>\n      <th></th>\n      <th></th>\n      <th></th>\n      <th></th>\n      <th></th>\n      <th></th>\n      <th></th>\n      <th></th>\n      <th></th>\n      <th></th>\n    </tr>\n  </thead>\n  <tbody>\n    <tr>\n      <th>0-base</th>\n      <td>-115.083890</td>\n      <td>11.152912</td>\n      <td>-64.426760</td>\n      <td>-118.88089</td>\n      <td>216.482440</td>\n      <td>-104.698060</td>\n      <td>-469.070588</td>\n      <td>44.348083</td>\n      <td>120.915344</td>\n      <td>181.449700</td>\n      <td>...</td>\n      <td>-42.808693</td>\n      <td>38.800827</td>\n      <td>-151.76218</td>\n      <td>-74.389090</td>\n      <td>63.66634</td>\n      <td>-4.703861</td>\n      <td>92.933610</td>\n      <td>115.269190</td>\n      <td>-112.756640</td>\n      <td>-60.830353</td>\n    </tr>\n    <tr>\n      <th>1-base</th>\n      <td>-34.562202</td>\n      <td>13.332763</td>\n      <td>-69.787610</td>\n      <td>-166.53348</td>\n      <td>57.680607</td>\n      <td>-86.098370</td>\n      <td>-85.076666</td>\n      <td>-35.637436</td>\n      <td>119.718636</td>\n      <td>195.234190</td>\n      <td>...</td>\n      <td>-117.767525</td>\n      <td>41.100000</td>\n      <td>-157.82940</td>\n      <td>-94.446806</td>\n      <td>68.20211</td>\n      <td>24.346846</td>\n      <td>179.937930</td>\n      <td>116.834000</td>\n      <td>-84.888941</td>\n      <td>-59.524610</td>\n    </tr>\n    <tr>\n      <th>2-base</th>\n      <td>-54.233746</td>\n      <td>6.379371</td>\n      <td>-29.210136</td>\n      <td>-133.41383</td>\n      <td>150.895830</td>\n      <td>-99.435326</td>\n      <td>52.554795</td>\n      <td>62.381706</td>\n      <td>128.951450</td>\n      <td>164.381470</td>\n      <td>...</td>\n      <td>-76.397800</td>\n      <td>46.011803</td>\n      <td>-207.14442</td>\n      <td>127.325570</td>\n      <td>65.56618</td>\n      <td>66.325680</td>\n      <td>81.073490</td>\n      <td>116.594154</td>\n      <td>-1074.464888</td>\n      <td>-32.527206</td>\n    </tr>\n    <tr>\n      <th>3-base</th>\n      <td>-87.520130</td>\n      <td>4.037884</td>\n      <td>-87.803030</td>\n      <td>-185.06763</td>\n      <td>76.369540</td>\n      <td>-58.985165</td>\n      <td>-383.182845</td>\n      <td>-33.611237</td>\n      <td>122.031910</td>\n      <td>136.233580</td>\n      <td>...</td>\n      <td>-70.647940</td>\n      <td>-6.358921</td>\n      <td>-147.20105</td>\n      <td>-37.692750</td>\n      <td>66.20289</td>\n      <td>-20.566910</td>\n      <td>137.206940</td>\n      <td>117.474100</td>\n      <td>-1074.464888</td>\n      <td>-72.915490</td>\n    </tr>\n    <tr>\n      <th>4-base</th>\n      <td>-72.743850</td>\n      <td>6.522049</td>\n      <td>43.671265</td>\n      <td>-140.60803</td>\n      <td>5.820023</td>\n      <td>-112.074080</td>\n      <td>-397.711282</td>\n      <td>45.182500</td>\n      <td>122.167180</td>\n      <td>112.119064</td>\n      <td>...</td>\n      <td>-57.199104</td>\n      <td>56.642403</td>\n      <td>-159.35184</td>\n      <td>85.944724</td>\n      <td>66.76632</td>\n      <td>-2.505783</td>\n      <td>65.315285</td>\n      <td>135.051590</td>\n      <td>-1074.464888</td>\n      <td>0.319401</td>\n    </tr>\n  </tbody>\n</table>\n<p>5 rows × 72 columns</p>\n</div>"
     },
     "execution_count": 24,
     "metadata": {},
     "output_type": "execute_result"
    }
   ],
   "source": [
    "df_base = pd.read_csv(DATA_PATH + \"base.csv\", index_col=0)\n",
    "df_base.head()"
   ]
  },
  {
   "cell_type": "code",
   "execution_count": 25,
   "id": "02ecff53-0da4-4a79-8bf4-458972bd730c",
   "metadata": {
    "ExecuteTime": {
     "end_time": "2023-09-12T18:47:03.273142Z",
     "start_time": "2023-09-12T18:47:03.268976Z"
    }
   },
   "outputs": [
    {
     "data": {
      "text/plain": "(2918139, 72)"
     },
     "execution_count": 25,
     "metadata": {},
     "output_type": "execute_result"
    }
   ],
   "source": [
    "df_base.shape"
   ]
  },
  {
   "cell_type": "markdown",
   "id": "08cb5ce5-8eb3-42cc-a2f7-ca1bba8d0a1d",
   "metadata": {},
   "source": [
    "### Create index"
   ]
  },
  {
   "cell_type": "code",
   "execution_count": 26,
   "id": "5fe65afd-28cf-41e4-93d4-0ffb27732a24",
   "metadata": {
    "ExecuteTime": {
     "end_time": "2023-09-12T18:47:03.463842Z",
     "start_time": "2023-09-12T18:47:03.419111Z"
    }
   },
   "outputs": [],
   "source": [
    "dims = df_base.shape[1]\n",
    "n_cells = 1\n",
    "# how many cells\n",
    "quantizer = faiss.IndexFlatL2(dims)\n",
    "idx_l2 = faiss.IndexIVFFlat(quantizer, dims, n_cells)"
   ]
  },
  {
   "cell_type": "code",
   "execution_count": 27,
   "id": "69462702-b358-4d8f-b250-457d81ab86e0",
   "metadata": {
    "ExecuteTime": {
     "end_time": "2023-09-12T18:47:07.284601Z",
     "start_time": "2023-09-12T18:47:03.422841Z"
    }
   },
   "outputs": [],
   "source": [
    "idx_l2.train(np.ascontiguousarray(df_base.values[:50000, :]).astype('float32'))\n",
    "\n",
    "idx_l2.add(np.ascontiguousarray(df_base.values).astype('float32'))"
   ]
  },
  {
   "cell_type": "code",
   "execution_count": 28,
   "id": "d42af9e0-3f09-4b4c-a1a6-688387db17de",
   "metadata": {
    "ExecuteTime": {
     "end_time": "2023-09-12T18:47:07.696519Z",
     "start_time": "2023-09-12T18:47:07.315251Z"
    }
   },
   "outputs": [],
   "source": [
    "base_index = {k: v for k, v in enumerate(df_base.index.to_list())}\n",
    "\n",
    "#del df_base"
   ]
  },
  {
   "cell_type": "markdown",
   "id": "fce1efd2-e243-4445-9dae-abd65e0b9cab",
   "metadata": {},
   "source": [
    "# Train"
   ]
  },
  {
   "cell_type": "code",
   "execution_count": 29,
   "id": "24a058e8-3140-40ff-93f3-9e0bf1a44c27",
   "metadata": {
    "ExecuteTime": {
     "end_time": "2023-09-12T18:47:08.638673Z",
     "start_time": "2023-09-12T18:47:07.697850Z"
    }
   },
   "outputs": [
    {
     "data": {
      "text/plain": "                 0          1           2          3           4           5  \\\nId                                                                             \n0-query -53.882748  17.971436  -42.117104 -183.93668  187.517490  -87.144930   \n1-query -87.776370   6.806268  -32.054546 -177.26039  120.803330  -83.810590   \n2-query -49.979565   3.841486 -116.118590 -180.40198  190.128430  -50.837620   \n3-query -47.810562   9.086598 -115.401695 -121.01136   94.652840 -109.255410   \n4-query -79.632126  14.442886  -58.903397 -147.05254   57.127068  -16.239529   \n\n                  6          7           8           9  ...         63  \\\nId                                                      ...              \n0-query -347.360606  38.307602  109.085560   30.413513  ...  70.107360   \n1-query  -94.572749 -78.433090  124.915900  140.331070  ...   4.669178   \n2-query   26.943937 -30.447489  125.771164  211.607820  ...  78.039764   \n3-query -775.150134  79.186520  124.003100  242.650650  ...  44.515266   \n4-query -321.317964  45.984676  125.941284  103.392670  ...  45.028910   \n\n                64          65         66          67          68          69  \\\nId                                                                              \n0-query -155.80257 -101.965943  65.903790   34.457500   62.642094  134.763600   \n1-query -151.69771   -1.638704  68.170876   25.096191   89.974976  130.589630   \n2-query -169.14620   82.144186  66.008220   18.400496  212.409730  121.931470   \n3-query -145.41675   93.990981  64.131350  106.061920   83.178760  118.277725   \n4-query -196.09207 -117.626337  66.926220   42.456170   77.621765   92.479930   \n\n                  70         71        Target  \nId                                             \n0-query  -415.750254 -25.958572   675816-base  \n1-query -1035.092211 -51.276833   366656-base  \n2-query -1074.464888 -22.547178  1447819-base  \n3-query -1074.464888 -19.902788  1472602-base  \n4-query -1074.464888 -21.149351   717819-base  \n\n[5 rows x 73 columns]",
      "text/html": "<div>\n<style scoped>\n    .dataframe tbody tr th:only-of-type {\n        vertical-align: middle;\n    }\n\n    .dataframe tbody tr th {\n        vertical-align: top;\n    }\n\n    .dataframe thead th {\n        text-align: right;\n    }\n</style>\n<table border=\"1\" class=\"dataframe\">\n  <thead>\n    <tr style=\"text-align: right;\">\n      <th></th>\n      <th>0</th>\n      <th>1</th>\n      <th>2</th>\n      <th>3</th>\n      <th>4</th>\n      <th>5</th>\n      <th>6</th>\n      <th>7</th>\n      <th>8</th>\n      <th>9</th>\n      <th>...</th>\n      <th>63</th>\n      <th>64</th>\n      <th>65</th>\n      <th>66</th>\n      <th>67</th>\n      <th>68</th>\n      <th>69</th>\n      <th>70</th>\n      <th>71</th>\n      <th>Target</th>\n    </tr>\n    <tr>\n      <th>Id</th>\n      <th></th>\n      <th></th>\n      <th></th>\n      <th></th>\n      <th></th>\n      <th></th>\n      <th></th>\n      <th></th>\n      <th></th>\n      <th></th>\n      <th></th>\n      <th></th>\n      <th></th>\n      <th></th>\n      <th></th>\n      <th></th>\n      <th></th>\n      <th></th>\n      <th></th>\n      <th></th>\n      <th></th>\n    </tr>\n  </thead>\n  <tbody>\n    <tr>\n      <th>0-query</th>\n      <td>-53.882748</td>\n      <td>17.971436</td>\n      <td>-42.117104</td>\n      <td>-183.93668</td>\n      <td>187.517490</td>\n      <td>-87.144930</td>\n      <td>-347.360606</td>\n      <td>38.307602</td>\n      <td>109.085560</td>\n      <td>30.413513</td>\n      <td>...</td>\n      <td>70.107360</td>\n      <td>-155.80257</td>\n      <td>-101.965943</td>\n      <td>65.903790</td>\n      <td>34.457500</td>\n      <td>62.642094</td>\n      <td>134.763600</td>\n      <td>-415.750254</td>\n      <td>-25.958572</td>\n      <td>675816-base</td>\n    </tr>\n    <tr>\n      <th>1-query</th>\n      <td>-87.776370</td>\n      <td>6.806268</td>\n      <td>-32.054546</td>\n      <td>-177.26039</td>\n      <td>120.803330</td>\n      <td>-83.810590</td>\n      <td>-94.572749</td>\n      <td>-78.433090</td>\n      <td>124.915900</td>\n      <td>140.331070</td>\n      <td>...</td>\n      <td>4.669178</td>\n      <td>-151.69771</td>\n      <td>-1.638704</td>\n      <td>68.170876</td>\n      <td>25.096191</td>\n      <td>89.974976</td>\n      <td>130.589630</td>\n      <td>-1035.092211</td>\n      <td>-51.276833</td>\n      <td>366656-base</td>\n    </tr>\n    <tr>\n      <th>2-query</th>\n      <td>-49.979565</td>\n      <td>3.841486</td>\n      <td>-116.118590</td>\n      <td>-180.40198</td>\n      <td>190.128430</td>\n      <td>-50.837620</td>\n      <td>26.943937</td>\n      <td>-30.447489</td>\n      <td>125.771164</td>\n      <td>211.607820</td>\n      <td>...</td>\n      <td>78.039764</td>\n      <td>-169.14620</td>\n      <td>82.144186</td>\n      <td>66.008220</td>\n      <td>18.400496</td>\n      <td>212.409730</td>\n      <td>121.931470</td>\n      <td>-1074.464888</td>\n      <td>-22.547178</td>\n      <td>1447819-base</td>\n    </tr>\n    <tr>\n      <th>3-query</th>\n      <td>-47.810562</td>\n      <td>9.086598</td>\n      <td>-115.401695</td>\n      <td>-121.01136</td>\n      <td>94.652840</td>\n      <td>-109.255410</td>\n      <td>-775.150134</td>\n      <td>79.186520</td>\n      <td>124.003100</td>\n      <td>242.650650</td>\n      <td>...</td>\n      <td>44.515266</td>\n      <td>-145.41675</td>\n      <td>93.990981</td>\n      <td>64.131350</td>\n      <td>106.061920</td>\n      <td>83.178760</td>\n      <td>118.277725</td>\n      <td>-1074.464888</td>\n      <td>-19.902788</td>\n      <td>1472602-base</td>\n    </tr>\n    <tr>\n      <th>4-query</th>\n      <td>-79.632126</td>\n      <td>14.442886</td>\n      <td>-58.903397</td>\n      <td>-147.05254</td>\n      <td>57.127068</td>\n      <td>-16.239529</td>\n      <td>-321.317964</td>\n      <td>45.984676</td>\n      <td>125.941284</td>\n      <td>103.392670</td>\n      <td>...</td>\n      <td>45.028910</td>\n      <td>-196.09207</td>\n      <td>-117.626337</td>\n      <td>66.926220</td>\n      <td>42.456170</td>\n      <td>77.621765</td>\n      <td>92.479930</td>\n      <td>-1074.464888</td>\n      <td>-21.149351</td>\n      <td>717819-base</td>\n    </tr>\n  </tbody>\n</table>\n<p>5 rows × 73 columns</p>\n</div>"
     },
     "execution_count": 29,
     "metadata": {},
     "output_type": "execute_result"
    }
   ],
   "source": [
    "df_train = pd.read_csv(DATA_PATH + \"/train.csv\", index_col=0)\n",
    "df_train.head()"
   ]
  },
  {
   "cell_type": "code",
   "execution_count": 30,
   "id": "14a3a6b6-ebd6-4f53-b985-d554f31732ef",
   "metadata": {
    "ExecuteTime": {
     "end_time": "2023-09-12T18:47:08.704123Z",
     "start_time": "2023-09-12T18:47:08.635070Z"
    }
   },
   "outputs": [],
   "source": [
    "targets = df_train[\"Target\"]\n",
    "df_train.drop(\"Target\", axis=1, inplace=True)"
   ]
  },
  {
   "cell_type": "code",
   "execution_count": null,
   "id": "5d0b4004-9939-47b7-a17f-8888a72aac50",
   "metadata": {
    "is_executing": true,
    "ExecuteTime": {
     "start_time": "2023-09-12T18:47:08.671439Z"
    }
   },
   "outputs": [],
   "source": [
    "vecs, idx = idx_l2.search(np.ascontiguousarray(df_train.values).astype('float32'), 5)"
   ]
  },
  {
   "cell_type": "code",
   "execution_count": null,
   "id": "7a78123e-247c-4aa9-a09a-e770534f10ba",
   "metadata": {
    "is_executing": true
   },
   "outputs": [],
   "source": [
    "acc = 0\n",
    "for target, el in zip(targets.values.tolist(), idx.tolist()):\n",
    "    acc += int(target in [base_index[r] for r in el])\n",
    "\n",
    "print(100 * acc / len(idx))"
   ]
  }
 ],
 "metadata": {
  "kernelspec": {
   "name": "data-science",
   "language": "python",
   "display_name": "data-science"
  },
  "language_info": {
   "codemirror_mode": {
    "name": "ipython",
    "version": 3
   },
   "file_extension": ".py",
   "mimetype": "text/x-python",
   "name": "python",
   "nbconvert_exporter": "python",
   "pygments_lexer": "ipython3",
   "version": "3.8.12"
  }
 },
 "nbformat": 4,
 "nbformat_minor": 5
}
