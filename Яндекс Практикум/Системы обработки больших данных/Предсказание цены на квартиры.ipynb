{
 "cells": [
  {
   "cell_type": "markdown",
   "id": "b9d2975d",
   "metadata": {
    "toc": true
   },
   "source": [
    "<h1>Содержание<span class=\"tocSkip\"></span></h1>\n",
    "<div class=\"toc\"><ul class=\"toc-item\"><li><span><a href=\"#Описание-проекта\" data-toc-modified-id=\"Описание-проекта-1\"><span class=\"toc-item-num\">1&nbsp;&nbsp;</span>Описание проекта</a></span><ul class=\"toc-item\"><li><span><a href=\"#Инструкция-по-выполнению-проекта\" data-toc-modified-id=\"Инструкция-по-выполнению-проекта-1.1\"><span class=\"toc-item-num\">1.1&nbsp;&nbsp;</span>Инструкция по выполнению проекта</a></span></li><li><span><a href=\"#Как-будут-проверять-мой-проект?\" data-toc-modified-id=\"Как-будут-проверять-мой-проект?-1.2\"><span class=\"toc-item-num\">1.2&nbsp;&nbsp;</span>Как будут проверять мой проект?</a></span></li></ul></li><li><span><a href=\"#Подготовка-Spark-к-работе\" data-toc-modified-id=\"Подготовка-Spark-к-работе-2\"><span class=\"toc-item-num\">2&nbsp;&nbsp;</span>Подготовка Spark к работе</a></span></li><li><span><a href=\"#Подготовка-данных\" data-toc-modified-id=\"Подготовка-данных-3\"><span class=\"toc-item-num\">3&nbsp;&nbsp;</span>Подготовка данных</a></span><ul class=\"toc-item\"><li><span><a href=\"#Загрузка-датасета\" data-toc-modified-id=\"Загрузка-датасета-3.1\"><span class=\"toc-item-num\">3.1&nbsp;&nbsp;</span>Загрузка датасета</a></span></li><li><span><a href=\"#Просмотр-датасета\" data-toc-modified-id=\"Просмотр-датасета-3.2\"><span class=\"toc-item-num\">3.2&nbsp;&nbsp;</span>Просмотр датасета</a></span></li><li><span><a href=\"#Статистики-колонок\" data-toc-modified-id=\"Статистики-колонок-3.3\"><span class=\"toc-item-num\">3.3&nbsp;&nbsp;</span>Статистики колонок</a></span></li><li><span><a href=\"#Пропуски\" data-toc-modified-id=\"Пропуски-3.4\"><span class=\"toc-item-num\">3.4&nbsp;&nbsp;</span>Пропуски</a></span></li><li><span><a href=\"#Обработка-категориальных-признаков\" data-toc-modified-id=\"Обработка-категориальных-признаков-3.5\"><span class=\"toc-item-num\">3.5&nbsp;&nbsp;</span>Обработка категориальных признаков</a></span><ul class=\"toc-item\"><li><span><a href=\"#Преобразовать-категориальный-столбец-в-числовой,-используя-StringIndexer\" data-toc-modified-id=\"Преобразовать-категориальный-столбец-в-числовой,-используя-StringIndexer-3.5.1\"><span class=\"toc-item-num\">3.5.1&nbsp;&nbsp;</span>Преобразовать категориальный столбец в числовой, используя <code>StringIndexer</code></a></span></li><li><span><a href=\"#Преобразовать-числовой-столбец-в-однократно-закодированные-столбцы-с-помощью-OneHotEncoder\" data-toc-modified-id=\"Преобразовать-числовой-столбец-в-однократно-закодированные-столбцы-с-помощью-OneHotEncoder-3.5.2\"><span class=\"toc-item-num\">3.5.2&nbsp;&nbsp;</span>Преобразовать числовой столбец в однократно закодированные столбцы с помощью <code>OneHotEncoder</code></a></span></li><li><span><a href=\"#Распакуем-этот-столбец-массивов-в-набор-столбцов\" data-toc-modified-id=\"Распакуем-этот-столбец-массивов-в-набор-столбцов-3.5.3\"><span class=\"toc-item-num\">3.5.3&nbsp;&nbsp;</span>Распакуем этот столбец массивов в набор столбцов</a></span></li></ul></li></ul></li><li><span><a href=\"#Обучение-моделей\" data-toc-modified-id=\"Обучение-моделей-4\"><span class=\"toc-item-num\">4&nbsp;&nbsp;</span>Обучение моделей</a></span><ul class=\"toc-item\"><li><span><a href=\"#Датасет\" data-toc-modified-id=\"Датасет-4.1\"><span class=\"toc-item-num\">4.1&nbsp;&nbsp;</span>Датасет</a></span></li><li><span><a href=\"#Создаем-модель\" data-toc-modified-id=\"Создаем-модель-4.2\"><span class=\"toc-item-num\">4.2&nbsp;&nbsp;</span>Создаем модель</a></span></li><li><span><a href=\"#Подбор-гиперпараметров\" data-toc-modified-id=\"Подбор-гиперпараметров-4.3\"><span class=\"toc-item-num\">4.3&nbsp;&nbsp;</span>Подбор гиперпараметров</a></span></li><li><span><a href=\"#Метрики-качества\" data-toc-modified-id=\"Метрики-качества-4.4\"><span class=\"toc-item-num\">4.4&nbsp;&nbsp;</span>Метрики качества</a></span></li><li><span><a href=\"#Кросс-валидация\" data-toc-modified-id=\"Кросс-валидация-4.5\"><span class=\"toc-item-num\">4.5&nbsp;&nbsp;</span>Кросс-валидация</a></span></li><li><span><a href=\"#Обучение\" data-toc-modified-id=\"Обучение-4.6\"><span class=\"toc-item-num\">4.6&nbsp;&nbsp;</span>Обучение</a></span></li><li><span><a href=\"#Результаты-кросс-валидации\" data-toc-modified-id=\"Результаты-кросс-валидации-4.7\"><span class=\"toc-item-num\">4.7&nbsp;&nbsp;</span>Результаты кросс-валидации</a></span></li></ul></li><li><span><a href=\"#Анализ-результатов\" data-toc-modified-id=\"Анализ-результатов-5\"><span class=\"toc-item-num\">5&nbsp;&nbsp;</span>Анализ результатов</a></span></li></ul></div>"
   ]
  },
  {
   "cell_type": "markdown",
   "id": "GEqQaHzsZ_bA",
   "metadata": {
    "id": "GEqQaHzsZ_bA"
   },
   "source": [
    "# Предсказание стоимости жилья"
   ]
  },
  {
   "cell_type": "markdown",
   "id": "3fb891e6",
   "metadata": {},
   "source": [
    "## Описание проекта\n",
    "В проекте вам нужно обучить модель линейной регрессии на [данных о жилье в Калифорнии в 1990 году](https://www.kaggle.com/code/bhavinmoriya/introduction-to-pyspark/input). \n",
    "\n",
    "Данные, которые вы будете анализировать, были собраны в рамках переписи населения в США. Каждая строка содержит агрегированную статистику о жилом массиве. Жилой массив — минимальная географическая единица с населением от 600 до 3000 человек в зависимости от штата. Одна строка в данных содержит статистику в среднем о 1425.5 обитателях жилого массива. \n",
    "\n",
    "На основе данных нужно предсказать медианную стоимость дома в жилом массиве. Обучите модель и сделайте предсказания на тестовой выборке. Для оценки качества модели используйте метрики `RMSE`, `MAE` и `R2`.\n",
    "\n",
    "В колонках датасета содержатся следующие данные\n",
    "* `longitude` — широта\n",
    "* `latitude` — долгота\n",
    "* `housing_median_age` — медианный возраст жителей жилого массива\n",
    "* `total_rooms` — общее количество комнат в домах жилого массива\n",
    "* `total_bedrooms` — общее количество спален в домах жилого массива\n",
    "* `population` — количество человек, которые проживают в жилом массиве\n",
    "* `households` — количество домовладений в жилом массиве\n",
    "* `median_income` — медианный доход жителей жилого массива\n",
    "* `median_house_value` — медианная стоимость дома в жилом массиве\n",
    "* `ocean_proximity` — близость к океану\n",
    "\n",
    "На основе данных нужно предсказать медианную стоимость дома в жилом массиве — `median_house_value`. Обучите модель и сделайте предсказания на тестовой выборке. Для оценки качества модели используйте метрики `RMSE`, `MAE` и `R2`."
   ]
  },
  {
   "cell_type": "markdown",
   "id": "c88a6434",
   "metadata": {},
   "source": [
    "### Инструкция по выполнению проекта\n",
    "1. Инициализируйте локальную Spark-сессию.\n",
    "2. Прочитайте содержимое файла `/datasets/housing.csv`.\n",
    "3. Выведите типы данных колонок датасета. Используйте методы `pySpark`.\n",
    "4. Выполните предобработку данных:\n",
    "    * Исследуйте данные на наличие пропусков и заполните их, выбрав значения по своему усмотрению.\n",
    "    * Преобразуйте колонку с категориальными значениями техникой One hot encoding.\n",
    "5. Постройте две модели линейной регрессии на разных наборах данных:\n",
    "    * используя все данные из файла;\n",
    "    * используя только числовые переменные, исключив категориальные.\n",
    "    Для построения модели используйте оценщик `LinearRegression` из библиотеки `MLlib`.\n",
    "6. Сравните результаты работы линейной регрессии на двух наборах данных по метрикам `RMSE`, `MAE` и `R2`. Сделайте выводы."
   ]
  },
  {
   "cell_type": "markdown",
   "id": "63024086",
   "metadata": {},
   "source": [
    "### Как будут проверять мой проект?\n",
    "Мы подготовили критерии оценки проекта. Прежде чем приступить к решению кейса, внимательно их изучите.\n",
    "\n",
    "На что обращают внимание ревьюеры, проверяя проект:\n",
    "* Все ли шаги из инструкции выполняете?\n",
    "* Используете ли вы `Spark` для чтения и манипуляциями с данными?\n",
    "* Применяете ли вы трансформеры из библиотеки `MLlib` для предобработки данных?\n",
    "* Строите ли вы две модели линейной регрессии на разных наборах данных?\n",
    "* Следите ли за структурой проекта?\n",
    "* Поддерживаете аккуратность кода?"
   ]
  },
  {
   "cell_type": "markdown",
   "id": "f8d6c54d",
   "metadata": {},
   "source": [
    "## Подготовка Spark к работе"
   ]
  },
  {
   "cell_type": "code",
   "execution_count": 1,
   "id": "8f94caa3",
   "metadata": {},
   "outputs": [
    {
     "name": "stdout",
     "output_type": "stream",
     "text": [
      "              total        used        free      shared  buff/cache   available\r\n",
      "Mem:           39Gi        27Gi       3.5Gi        10Mi       8.2Gi        11Gi\r\n",
      "Swap:            0B          0B          0B\r\n"
     ]
    }
   ],
   "source": [
    "!free -h"
   ]
  },
  {
   "cell_type": "code",
   "execution_count": 2,
   "id": "b0c81da0",
   "metadata": {},
   "outputs": [],
   "source": [
    "import pyspark.sql.functions as F\n",
    "\n",
    "from pyspark import SparkContext\n",
    "from pyspark.sql import SparkSession\n",
    "from pyspark.sql.utils import AnalysisException\n",
    "from pyspark.ml.evaluation import RegressionEvaluator\n",
    "from pyspark.ml.feature import OneHotEncoder, StringIndexer, VectorAssembler\n",
    "from pyspark.ml.functions import vector_to_array\n",
    "from pyspark.ml.regression import LinearRegression\n",
    "from pyspark.ml.tuning import CrossValidator, ParamGridBuilder\n",
    "\n",
    "\n",
    "import numpy as np"
   ]
  },
  {
   "cell_type": "code",
   "execution_count": 3,
   "id": "82ab758b",
   "metadata": {},
   "outputs": [],
   "source": [
    "spark = SparkSession \\\n",
    "    .builder \\\n",
    "    .master(\"local\") \\\n",
    "    .appName(\"Python Spark SQL basic example\") \\\n",
    "    .config(\"spark.executor.memory\", \"39g\") \\\n",
    "    .config(\"spark.driver.memory\", \"39g\") \\\n",
    "    .getOrCreate()"
   ]
  },
  {
   "cell_type": "markdown",
   "id": "53871372",
   "metadata": {
    "id": "53871372"
   },
   "source": [
    "## Подготовка данных"
   ]
  },
  {
   "cell_type": "markdown",
   "id": "c0c5e77c",
   "metadata": {},
   "source": [
    "### Загрузка датасета"
   ]
  },
  {
   "cell_type": "code",
   "execution_count": 4,
   "id": "df92e3ec",
   "metadata": {
    "id": "df92e3ec"
   },
   "outputs": [
    {
     "name": "stderr",
     "output_type": "stream",
     "text": [
      "[Stage 1:>                                                          (0 + 1) / 1]\r"
     ]
    },
    {
     "name": "stdout",
     "output_type": "stream",
     "text": [
      "root\n",
      " |-- longitude: double (nullable = true)\n",
      " |-- latitude: double (nullable = true)\n",
      " |-- housing_median_age: double (nullable = true)\n",
      " |-- total_rooms: double (nullable = true)\n",
      " |-- total_bedrooms: double (nullable = true)\n",
      " |-- population: double (nullable = true)\n",
      " |-- households: double (nullable = true)\n",
      " |-- median_income: double (nullable = true)\n",
      " |-- median_house_value: double (nullable = true)\n",
      " |-- ocean_proximity: string (nullable = true)\n",
      "\n"
     ]
    },
    {
     "name": "stderr",
     "output_type": "stream",
     "text": [
      "                                                                                \r"
     ]
    }
   ],
   "source": [
    "df_housing = spark.read.load('/datasets/housing.csv', \n",
    "                             format=\"csv\", sep=\",\", inferSchema=True, header=\"true\")\n",
    "df_housing.printSchema() "
   ]
  },
  {
   "cell_type": "markdown",
   "id": "377e489b",
   "metadata": {},
   "source": [
    "### Просмотр датасета"
   ]
  },
  {
   "cell_type": "markdown",
   "id": "fd8d2d43",
   "metadata": {},
   "source": [
    "Параметр `nullable` в типе данных колонки показывает, содержит ли этот столбец пропущенные значения, или `null`,\n",
    "обработаем пропуски далее в проекте, а сейчас выведем 5 строк таблицы"
   ]
  },
  {
   "cell_type": "code",
   "execution_count": 5,
   "id": "0af91c36",
   "metadata": {},
   "outputs": [
    {
     "name": "stdout",
     "output_type": "stream",
     "text": [
      "+---------+--------+------------------+-----------+--------------+----------+----------+-------------+------------------+---------------+\n",
      "|longitude|latitude|housing_median_age|total_rooms|total_bedrooms|population|households|median_income|median_house_value|ocean_proximity|\n",
      "+---------+--------+------------------+-----------+--------------+----------+----------+-------------+------------------+---------------+\n",
      "|  -122.23|   37.88|              41.0|      880.0|         129.0|     322.0|     126.0|       8.3252|          452600.0|       NEAR BAY|\n",
      "|  -122.22|   37.86|              21.0|     7099.0|        1106.0|    2401.0|    1138.0|       8.3014|          358500.0|       NEAR BAY|\n",
      "|  -122.24|   37.85|              52.0|     1467.0|         190.0|     496.0|     177.0|       7.2574|          352100.0|       NEAR BAY|\n",
      "|  -122.25|   37.85|              52.0|     1274.0|         235.0|     558.0|     219.0|       5.6431|          341300.0|       NEAR BAY|\n",
      "|  -122.25|   37.85|              52.0|     1627.0|         280.0|     565.0|     259.0|       3.8462|          342200.0|       NEAR BAY|\n",
      "+---------+--------+------------------+-----------+--------------+----------+----------+-------------+------------------+---------------+\n",
      "only showing top 5 rows\n",
      "\n"
     ]
    }
   ],
   "source": [
    "df_housing.show(5)"
   ]
  },
  {
   "cell_type": "markdown",
   "id": "83c8b159",
   "metadata": {},
   "source": [
    "### Статистики колонок"
   ]
  },
  {
   "cell_type": "markdown",
   "id": "efdc2cd9",
   "metadata": {},
   "source": [
    "Посчитаем статистики для колонок\n",
    "\n",
    "Метод `describe()` — это трансформация, поэтому, чтобы посчитать статистики, применим действие `toPandas()`"
   ]
  },
  {
   "cell_type": "code",
   "execution_count": 6,
   "id": "66d28a8f",
   "metadata": {},
   "outputs": [
    {
     "data": {
      "text/html": [
       "<div>\n",
       "<style scoped>\n",
       "    .dataframe tbody tr th:only-of-type {\n",
       "        vertical-align: middle;\n",
       "    }\n",
       "\n",
       "    .dataframe tbody tr th {\n",
       "        vertical-align: top;\n",
       "    }\n",
       "\n",
       "    .dataframe thead th {\n",
       "        text-align: right;\n",
       "    }\n",
       "</style>\n",
       "<table border=\"1\" class=\"dataframe\">\n",
       "  <thead>\n",
       "    <tr style=\"text-align: right;\">\n",
       "      <th></th>\n",
       "      <th>longitude</th>\n",
       "      <th>latitude</th>\n",
       "      <th>housing_median_age</th>\n",
       "      <th>total_rooms</th>\n",
       "      <th>total_bedrooms</th>\n",
       "      <th>population</th>\n",
       "      <th>households</th>\n",
       "      <th>median_income</th>\n",
       "      <th>median_house_value</th>\n",
       "    </tr>\n",
       "  </thead>\n",
       "  <tbody>\n",
       "    <tr>\n",
       "      <th>count</th>\n",
       "      <td>20640.000000</td>\n",
       "      <td>20640.000000</td>\n",
       "      <td>20640.000000</td>\n",
       "      <td>20640.000000</td>\n",
       "      <td>20433.000000</td>\n",
       "      <td>20640.000000</td>\n",
       "      <td>20640.000000</td>\n",
       "      <td>20640.000000</td>\n",
       "      <td>20640.000000</td>\n",
       "    </tr>\n",
       "    <tr>\n",
       "      <th>mean</th>\n",
       "      <td>-119.569704</td>\n",
       "      <td>35.631861</td>\n",
       "      <td>28.639486</td>\n",
       "      <td>2635.763081</td>\n",
       "      <td>537.870553</td>\n",
       "      <td>1425.476744</td>\n",
       "      <td>499.539680</td>\n",
       "      <td>3.870671</td>\n",
       "      <td>206855.816909</td>\n",
       "    </tr>\n",
       "    <tr>\n",
       "      <th>std</th>\n",
       "      <td>2.003532</td>\n",
       "      <td>2.135952</td>\n",
       "      <td>12.585558</td>\n",
       "      <td>2181.615252</td>\n",
       "      <td>421.385070</td>\n",
       "      <td>1132.462122</td>\n",
       "      <td>382.329753</td>\n",
       "      <td>1.899822</td>\n",
       "      <td>115395.615874</td>\n",
       "    </tr>\n",
       "    <tr>\n",
       "      <th>min</th>\n",
       "      <td>-124.350000</td>\n",
       "      <td>32.540000</td>\n",
       "      <td>1.000000</td>\n",
       "      <td>2.000000</td>\n",
       "      <td>1.000000</td>\n",
       "      <td>3.000000</td>\n",
       "      <td>1.000000</td>\n",
       "      <td>0.499900</td>\n",
       "      <td>14999.000000</td>\n",
       "    </tr>\n",
       "    <tr>\n",
       "      <th>25%</th>\n",
       "      <td>-121.800000</td>\n",
       "      <td>33.930000</td>\n",
       "      <td>18.000000</td>\n",
       "      <td>1447.750000</td>\n",
       "      <td>296.000000</td>\n",
       "      <td>787.000000</td>\n",
       "      <td>280.000000</td>\n",
       "      <td>2.563400</td>\n",
       "      <td>119600.000000</td>\n",
       "    </tr>\n",
       "    <tr>\n",
       "      <th>50%</th>\n",
       "      <td>-118.490000</td>\n",
       "      <td>34.260000</td>\n",
       "      <td>29.000000</td>\n",
       "      <td>2127.000000</td>\n",
       "      <td>435.000000</td>\n",
       "      <td>1166.000000</td>\n",
       "      <td>409.000000</td>\n",
       "      <td>3.534800</td>\n",
       "      <td>179700.000000</td>\n",
       "    </tr>\n",
       "    <tr>\n",
       "      <th>75%</th>\n",
       "      <td>-118.010000</td>\n",
       "      <td>37.710000</td>\n",
       "      <td>37.000000</td>\n",
       "      <td>3148.000000</td>\n",
       "      <td>647.000000</td>\n",
       "      <td>1725.000000</td>\n",
       "      <td>605.000000</td>\n",
       "      <td>4.743250</td>\n",
       "      <td>264725.000000</td>\n",
       "    </tr>\n",
       "    <tr>\n",
       "      <th>max</th>\n",
       "      <td>-114.310000</td>\n",
       "      <td>41.950000</td>\n",
       "      <td>52.000000</td>\n",
       "      <td>39320.000000</td>\n",
       "      <td>6445.000000</td>\n",
       "      <td>35682.000000</td>\n",
       "      <td>6082.000000</td>\n",
       "      <td>15.000100</td>\n",
       "      <td>500001.000000</td>\n",
       "    </tr>\n",
       "  </tbody>\n",
       "</table>\n",
       "</div>"
      ],
      "text/plain": [
       "          longitude      latitude  housing_median_age   total_rooms  \\\n",
       "count  20640.000000  20640.000000        20640.000000  20640.000000   \n",
       "mean    -119.569704     35.631861           28.639486   2635.763081   \n",
       "std        2.003532      2.135952           12.585558   2181.615252   \n",
       "min     -124.350000     32.540000            1.000000      2.000000   \n",
       "25%     -121.800000     33.930000           18.000000   1447.750000   \n",
       "50%     -118.490000     34.260000           29.000000   2127.000000   \n",
       "75%     -118.010000     37.710000           37.000000   3148.000000   \n",
       "max     -114.310000     41.950000           52.000000  39320.000000   \n",
       "\n",
       "       total_bedrooms    population    households  median_income  \\\n",
       "count    20433.000000  20640.000000  20640.000000   20640.000000   \n",
       "mean       537.870553   1425.476744    499.539680       3.870671   \n",
       "std        421.385070   1132.462122    382.329753       1.899822   \n",
       "min          1.000000      3.000000      1.000000       0.499900   \n",
       "25%        296.000000    787.000000    280.000000       2.563400   \n",
       "50%        435.000000   1166.000000    409.000000       3.534800   \n",
       "75%        647.000000   1725.000000    605.000000       4.743250   \n",
       "max       6445.000000  35682.000000   6082.000000      15.000100   \n",
       "\n",
       "       median_house_value  \n",
       "count        20640.000000  \n",
       "mean        206855.816909  \n",
       "std         115395.615874  \n",
       "min          14999.000000  \n",
       "25%         119600.000000  \n",
       "50%         179700.000000  \n",
       "75%         264725.000000  \n",
       "max         500001.000000  "
      ]
     },
     "execution_count": 6,
     "metadata": {},
     "output_type": "execute_result"
    }
   ],
   "source": [
    "df_housing.toPandas().describe()"
   ]
  },
  {
   "cell_type": "markdown",
   "id": "31285038",
   "metadata": {},
   "source": [
    "### Пропуски"
   ]
  },
  {
   "cell_type": "markdown",
   "id": "f8b2ecf9",
   "metadata": {},
   "source": [
    "Проверим наличие пропусков"
   ]
  },
  {
   "cell_type": "code",
   "execution_count": 7,
   "id": "f4c51113",
   "metadata": {},
   "outputs": [
    {
     "name": "stdout",
     "output_type": "stream",
     "text": [
      "В колонке total_bedrooms найдено 207 пропусков\n",
      "Что составляет 1.0 % от общего числа запсией\n"
     ]
    }
   ],
   "source": [
    "columns = df_housing.columns\n",
    "\n",
    "for column in columns:\n",
    "    \n",
    "    null_count = df_housing.filter(df_housing[column].isNull()).count()\n",
    "    if null_count > 0:\n",
    "        print(f'В колонке {column} найдено {null_count} пропусков')\n",
    "        print(f'Что составляет {round(null_count / df_housing.count() * 100, 2)} % от общего числа запсией')"
   ]
  },
  {
   "cell_type": "markdown",
   "id": "22f65b35",
   "metadata": {},
   "source": [
    "Удалим строки с пропусками из DataFrame"
   ]
  },
  {
   "cell_type": "code",
   "execution_count": 8,
   "id": "29e4e876",
   "metadata": {},
   "outputs": [],
   "source": [
    "df_housing = df_housing.dropna(how=\"any\")"
   ]
  },
  {
   "cell_type": "code",
   "execution_count": 9,
   "id": "b819f836",
   "metadata": {},
   "outputs": [],
   "source": [
    "assert df_housing.filter(df_housing['total_bedrooms'].isNull()).count() == 0, 'Не удалось удалить пропуски'"
   ]
  },
  {
   "cell_type": "markdown",
   "id": "95fd153b",
   "metadata": {},
   "source": [
    "### Обработка категориальных признаков"
   ]
  },
  {
   "cell_type": "markdown",
   "id": "489faa6f",
   "metadata": {},
   "source": [
    "Чтобы выполнить одноразовое кодирование в PySpark, мы должны:"
   ]
  },
  {
   "cell_type": "markdown",
   "id": "b751233e",
   "metadata": {},
   "source": [
    "#### Преобразовать категориальный столбец в числовой, используя `StringIndexer`"
   ]
  },
  {
   "cell_type": "code",
   "execution_count": 10,
   "id": "f868784a",
   "metadata": {},
   "outputs": [
    {
     "name": "stderr",
     "output_type": "stream",
     "text": [
      "                                                                                \r"
     ]
    },
    {
     "name": "stdout",
     "output_type": "stream",
     "text": [
      "+---------+--------+------------------+-----------+--------------+----------+----------+-------------+------------------+---------------+-------------+\n",
      "|longitude|latitude|housing_median_age|total_rooms|total_bedrooms|population|households|median_income|median_house_value|ocean_proximity|class_numeric|\n",
      "+---------+--------+------------------+-----------+--------------+----------+----------+-------------+------------------+---------------+-------------+\n",
      "|  -122.23|   37.88|              41.0|      880.0|         129.0|     322.0|     126.0|       8.3252|          452600.0|       NEAR BAY|          3.0|\n",
      "+---------+--------+------------------+-----------+--------------+----------+----------+-------------+------------------+---------------+-------------+\n",
      "only showing top 1 row\n",
      "\n"
     ]
    }
   ],
   "source": [
    "indexer = StringIndexer(inputCol='ocean_proximity', outputCol='class_numeric')\n",
    "indexer_fitted = indexer.fit(df_housing)\n",
    "df_indexed = indexer_fitted.transform(df_housing)\n",
    "df_indexed.show(1)"
   ]
  },
  {
   "cell_type": "markdown",
   "id": "3723c63a",
   "metadata": {},
   "source": [
    "#### Преобразовать числовой столбец в однократно закодированные столбцы с помощью `OneHotEncoder`"
   ]
  },
  {
   "cell_type": "code",
   "execution_count": 11,
   "id": "b8da3327",
   "metadata": {},
   "outputs": [
    {
     "name": "stdout",
     "output_type": "stream",
     "text": [
      "+---------+--------+------------------+-----------+--------------+----------+----------+-------------+------------------+---------------+-------------+-------------+\n",
      "|longitude|latitude|housing_median_age|total_rooms|total_bedrooms|population|households|median_income|median_house_value|ocean_proximity|class_numeric| class_onehot|\n",
      "+---------+--------+------------------+-----------+--------------+----------+----------+-------------+------------------+---------------+-------------+-------------+\n",
      "|  -122.23|   37.88|              41.0|      880.0|         129.0|     322.0|     126.0|       8.3252|          452600.0|       NEAR BAY|          3.0|(5,[3],[1.0])|\n",
      "+---------+--------+------------------+-----------+--------------+----------+----------+-------------+------------------+---------------+-------------+-------------+\n",
      "only showing top 1 row\n",
      "\n"
     ]
    }
   ],
   "source": [
    "encoder = OneHotEncoder(inputCols=['class_numeric'], outputCols=['class_onehot'], dropLast=False)\n",
    "df_onehot = encoder.fit(df_indexed).transform(df_indexed)\n",
    "df_onehot.show(1)"
   ]
  },
  {
   "cell_type": "markdown",
   "id": "187a185e",
   "metadata": {},
   "source": [
    "#### Распакуем этот столбец массивов в набор столбцов"
   ]
  },
  {
   "cell_type": "code",
   "execution_count": 12,
   "id": "ec56ec51",
   "metadata": {},
   "outputs": [
    {
     "name": "stdout",
     "output_type": "stream",
     "text": [
      "+---------+--------+------------------+-----------+--------------+----------+----------+-------------+------------------+---------------+-------------+-------------+--------------------+\n",
      "|longitude|latitude|housing_median_age|total_rooms|total_bedrooms|population|households|median_income|median_house_value|ocean_proximity|class_numeric| class_onehot|          col_onehot|\n",
      "+---------+--------+------------------+-----------+--------------+----------+----------+-------------+------------------+---------------+-------------+-------------+--------------------+\n",
      "|  -122.23|   37.88|              41.0|      880.0|         129.0|     322.0|     126.0|       8.3252|          452600.0|       NEAR BAY|          3.0|(5,[3],[1.0])|[0.0, 0.0, 0.0, 1...|\n",
      "+---------+--------+------------------+-----------+--------------+----------+----------+-------------+------------------+---------------+-------------+-------------+--------------------+\n",
      "only showing top 1 row\n",
      "\n"
     ]
    }
   ],
   "source": [
    "df_col_onehot = df_onehot.select('*', vector_to_array('class_onehot').alias('col_onehot'))\n",
    "df_col_onehot.show(1)"
   ]
  },
  {
   "cell_type": "code",
   "execution_count": 13,
   "id": "fb4e3fa2",
   "metadata": {},
   "outputs": [
    {
     "name": "stdout",
     "output_type": "stream",
     "text": [
      "+-------------+-------------+-------------+-------------+-------------+\n",
      "|col_onehot[0]|col_onehot[1]|col_onehot[2]|col_onehot[3]|col_onehot[4]|\n",
      "+-------------+-------------+-------------+-------------+-------------+\n",
      "|          0.0|          0.0|          0.0|          1.0|          0.0|\n",
      "+-------------+-------------+-------------+-------------+-------------+\n",
      "only showing top 1 row\n",
      "\n"
     ]
    }
   ],
   "source": [
    "num_categories = len(df_col_onehot.first()['col_onehot'])\n",
    "cols_expanded = [(F.col('col_onehot')[i]) for i in range(num_categories)]\n",
    "df_cols_onehot = df_col_onehot.select(*cols_expanded)\n",
    "df_cols_onehot.show(1)"
   ]
  },
  {
   "cell_type": "code",
   "execution_count": 14,
   "id": "161a9614",
   "metadata": {},
   "outputs": [
    {
     "name": "stdout",
     "output_type": "stream",
     "text": [
      "+---------+------+----------+--------+------+\n",
      "|<1H OCEAN|INLAND|NEAR OCEAN|NEAR BAY|ISLAND|\n",
      "+---------+------+----------+--------+------+\n",
      "|      0.0|   0.0|       0.0|     1.0|   0.0|\n",
      "+---------+------+----------+--------+------+\n",
      "only showing top 1 row\n",
      "\n"
     ]
    }
   ],
   "source": [
    "num_categories = len(df_col_onehot.first()['col_onehot'])\n",
    "cols_expanded = [(F.col('col_onehot')[i].alias(f'{indexer_fitted.labels[i]}')) for i in range(num_categories)]\n",
    "df_cols_onehot = df_col_onehot.select(*cols_expanded)\n",
    "df_cols_onehot.show(1)"
   ]
  },
  {
   "cell_type": "code",
   "execution_count": 15,
   "id": "0e966b36",
   "metadata": {},
   "outputs": [],
   "source": [
    "df_housing = df_housing.join(df_cols_onehot)\n",
    "df_housing = df_housing.drop('ocean_proximity')"
   ]
  },
  {
   "cell_type": "code",
   "execution_count": 16,
   "id": "f4b5cbca",
   "metadata": {},
   "outputs": [
    {
     "name": "stdout",
     "output_type": "stream",
     "text": [
      "+---------+--------+------------------+-----------+--------------+----------+----------+-------------+------------------+---------+------+----------+--------+------+\n",
      "|longitude|latitude|housing_median_age|total_rooms|total_bedrooms|population|households|median_income|median_house_value|<1H OCEAN|INLAND|NEAR OCEAN|NEAR BAY|ISLAND|\n",
      "+---------+--------+------------------+-----------+--------------+----------+----------+-------------+------------------+---------+------+----------+--------+------+\n",
      "|  -122.23|   37.88|              41.0|      880.0|         129.0|     322.0|     126.0|       8.3252|          452600.0|      0.0|   0.0|       0.0|     1.0|   0.0|\n",
      "+---------+--------+------------------+-----------+--------------+----------+----------+-------------+------------------+---------+------+----------+--------+------+\n",
      "only showing top 1 row\n",
      "\n"
     ]
    }
   ],
   "source": [
    "df_housing.show(1)"
   ]
  },
  {
   "cell_type": "code",
   "execution_count": 17,
   "id": "68afdd0b",
   "metadata": {},
   "outputs": [],
   "source": [
    "del columns\n",
    "del indexer\n",
    "del indexer_fitted\n",
    "del df_indexed\n",
    "del encoder\n",
    "del df_onehot\n",
    "del df_col_onehot\n",
    "del num_categories\n",
    "del cols_expanded"
   ]
  },
  {
   "cell_type": "markdown",
   "id": "65570569",
   "metadata": {},
   "source": [
    "Сохраним в файлик DataFrame"
   ]
  },
  {
   "cell_type": "code",
   "execution_count": 18,
   "id": "527eb156",
   "metadata": {},
   "outputs": [
    {
     "name": "stdout",
     "output_type": "stream",
     "text": [
      "Файл уже существует\n"
     ]
    }
   ],
   "source": [
    "try:\n",
    "    df_housing.write.options(header='True').csv('df_housing.csv')\n",
    "except AnalysisException:\n",
    "    print('Файл уже существует')"
   ]
  },
  {
   "cell_type": "markdown",
   "id": "9f0a82f3",
   "metadata": {
    "id": "9f0a82f3"
   },
   "source": [
    "## Обучение моделей"
   ]
  },
  {
   "cell_type": "markdown",
   "id": "1014d9e8",
   "metadata": {},
   "source": [
    "### Датасет"
   ]
  },
  {
   "cell_type": "code",
   "execution_count": 19,
   "id": "f3b560bc",
   "metadata": {},
   "outputs": [],
   "source": [
    "features = df_housing.columns # [:1]\n",
    "features.remove('median_house_value')\n",
    "target = 'median_house_value'"
   ]
  },
  {
   "cell_type": "code",
   "execution_count": 20,
   "id": "207193d9",
   "metadata": {},
   "outputs": [],
   "source": [
    "attributes = features + [target]\n",
    "sample = df_housing.select(attributes)\n",
    "\n",
    "assembler = VectorAssembler(inputCols=features,\n",
    "                            outputCol='features')\n",
    "output = assembler.transform(sample)\n",
    "train, test = output.randomSplit([0.8, 0.2])"
   ]
  },
  {
   "cell_type": "markdown",
   "id": "9eb33442",
   "metadata": {},
   "source": [
    "### Создаем модель"
   ]
  },
  {
   "cell_type": "code",
   "execution_count": 21,
   "id": "ed0c0acb",
   "metadata": {},
   "outputs": [
    {
     "name": "stderr",
     "output_type": "stream",
     "text": [
      "[Stage 39:>                                                         (0 + 1) / 1]\r"
     ]
    }
   ],
   "source": [
    "lr = LinearRegression(\n",
    "    featuresCol='features', labelCol='median_house_value')"
   ]
  },
  {
   "cell_type": "markdown",
   "id": "4b14b9b7",
   "metadata": {},
   "source": [
    "### Подбор гиперпараметров"
   ]
  },
  {
   "cell_type": "code",
   "execution_count": 22,
   "id": "10e4b98e",
   "metadata": {},
   "outputs": [],
   "source": [
    "grid_search = ParamGridBuilder() \\\n",
    "    .addGrid(lr.regParam, [0.0, 0.01, 0.1]) \\\n",
    "    .addGrid(lr.elasticNetParam, [0.5, 1.0]) \\\n",
    "    .build()"
   ]
  },
  {
   "cell_type": "markdown",
   "id": "92389e0e",
   "metadata": {},
   "source": [
    "### Метрики качества"
   ]
  },
  {
   "cell_type": "code",
   "execution_count": 23,
   "id": "1b57ee2d",
   "metadata": {},
   "outputs": [],
   "source": [
    "evaluator = RegressionEvaluator(\n",
    "    predictionCol='prediction', labelCol='median_house_value'\n",
    ")"
   ]
  },
  {
   "cell_type": "markdown",
   "id": "36db5162",
   "metadata": {},
   "source": [
    "### Кросс-валидация"
   ]
  },
  {
   "cell_type": "code",
   "execution_count": 24,
   "id": "bddb08c4",
   "metadata": {
    "id": "bddb08c4"
   },
   "outputs": [
    {
     "name": "stderr",
     "output_type": "stream",
     "text": [
      "                                                                                \r"
     ]
    }
   ],
   "source": [
    "cv = CrossValidator(\n",
    "    estimator=lr,\n",
    "    estimatorParamMaps=grid_search,\n",
    "    evaluator=evaluator\n",
    ")"
   ]
  },
  {
   "cell_type": "markdown",
   "id": "c80a07c8",
   "metadata": {},
   "source": [
    "### Обучение"
   ]
  },
  {
   "cell_type": "code",
   "execution_count": 25,
   "id": "b69ca7f3",
   "metadata": {},
   "outputs": [
    {
     "name": "stderr",
     "output_type": "stream",
     "text": [
      "23/09/27 11:22:53 WARN package: Truncated the string representation of a plan since it was too large. This behavior can be adjusted by setting 'spark.sql.debug.maxToStringFields'.\n",
      "23/09/27 11:22:54 WARN Instrumentation: [3a817809] regParam is zero, which might cause numerical instability and overfitting.\n",
      "ERROR:root:Exception while sending command.                         (0 + 1) / 1]\n",
      "Traceback (most recent call last):\n",
      "  File \"/opt/conda/lib/python3.9/site-packages/py4j/java_gateway.py\", line 1207, in send_command\n",
      "    raise Py4JNetworkError(\"Answer from Java side is empty\")\n",
      "py4j.protocol.Py4JNetworkError: Answer from Java side is empty\n",
      "\n",
      "During handling of the above exception, another exception occurred:\n",
      "\n",
      "Traceback (most recent call last):\n",
      "  File \"/opt/conda/lib/python3.9/site-packages/py4j/java_gateway.py\", line 1033, in send_command\n",
      "    response = connection.send_command(command)\n",
      "  File \"/opt/conda/lib/python3.9/site-packages/py4j/java_gateway.py\", line 1211, in send_command\n",
      "    raise Py4JNetworkError(\n",
      "py4j.protocol.Py4JNetworkError: Error while receiving\n",
      "ERROR:py4j.java_gateway:An error occurred while trying to connect to the Java server (127.0.0.1:35979)\n",
      "Traceback (most recent call last):\n",
      "  File \"/opt/conda/lib/python3.9/site-packages/py4j/java_gateway.py\", line 977, in _get_connection\n",
      "    connection = self.deque.pop()\n",
      "IndexError: pop from an empty deque\n",
      "\n",
      "During handling of the above exception, another exception occurred:\n",
      "\n",
      "Traceback (most recent call last):\n",
      "  File \"/opt/conda/lib/python3.9/site-packages/py4j/java_gateway.py\", line 1115, in start\n",
      "    self.socket.connect((self.address, self.port))\n",
      "ConnectionRefusedError: [Errno 111] Connection refused\n",
      "ERROR:py4j.java_gateway:An error occurred while trying to connect to the Java server (127.0.0.1:35979)\n",
      "Traceback (most recent call last):\n",
      "  File \"/opt/conda/lib/python3.9/site-packages/py4j/java_gateway.py\", line 977, in _get_connection\n",
      "    connection = self.deque.pop()\n",
      "IndexError: pop from an empty deque\n",
      "\n",
      "During handling of the above exception, another exception occurred:\n",
      "\n",
      "Traceback (most recent call last):\n",
      "  File \"/opt/conda/lib/python3.9/site-packages/py4j/java_gateway.py\", line 977, in _get_connection\n",
      "    connection = self.deque.pop()\n",
      "IndexError: pop from an empty deque\n",
      "\n",
      "During handling of the above exception, another exception occurred:\n",
      "\n",
      "Traceback (most recent call last):\n",
      "  File \"/opt/conda/lib/python3.9/site-packages/py4j/java_gateway.py\", line 1115, in start\n",
      "    self.socket.connect((self.address, self.port))\n",
      "ConnectionRefusedError: [Errno 111] Connection refused\n",
      "ERROR:py4j.java_gateway:An error occurred while trying to connect to the Java server (127.0.0.1:35979)\n",
      "Traceback (most recent call last):\n",
      "  File \"/opt/conda/lib/python3.9/site-packages/py4j/java_gateway.py\", line 977, in _get_connection\n",
      "    connection = self.deque.pop()\n",
      "IndexError: pop from an empty deque\n",
      "\n",
      "During handling of the above exception, another exception occurred:\n",
      "\n",
      "Traceback (most recent call last):\n",
      "  File \"/opt/conda/lib/python3.9/site-packages/py4j/java_gateway.py\", line 977, in _get_connection\n",
      "    connection = self.deque.pop()\n",
      "IndexError: pop from an empty deque\n",
      "\n",
      "During handling of the above exception, another exception occurred:\n",
      "\n",
      "Traceback (most recent call last):\n",
      "  File \"/opt/conda/lib/python3.9/site-packages/py4j/java_gateway.py\", line 1115, in start\n",
      "    self.socket.connect((self.address, self.port))\n",
      "ConnectionRefusedError: [Errno 111] Connection refused\n",
      "ERROR:py4j.java_gateway:An error occurred while trying to connect to the Java server (127.0.0.1:35979)\n",
      "Traceback (most recent call last):\n",
      "  File \"/opt/conda/lib/python3.9/site-packages/py4j/java_gateway.py\", line 977, in _get_connection\n",
      "    connection = self.deque.pop()\n",
      "IndexError: pop from an empty deque\n",
      "\n",
      "During handling of the above exception, another exception occurred:\n",
      "\n",
      "Traceback (most recent call last):\n",
      "  File \"/opt/conda/lib/python3.9/site-packages/py4j/java_gateway.py\", line 977, in _get_connection\n",
      "    connection = self.deque.pop()\n",
      "IndexError: pop from an empty deque\n",
      "\n",
      "During handling of the above exception, another exception occurred:\n",
      "\n",
      "Traceback (most recent call last):\n",
      "  File \"/opt/conda/lib/python3.9/site-packages/py4j/java_gateway.py\", line 1115, in start\n",
      "    self.socket.connect((self.address, self.port))\n",
      "ConnectionRefusedError: [Errno 111] Connection refused\n",
      "ERROR:py4j.java_gateway:An error occurred while trying to connect to the Java server (127.0.0.1:35979)\n",
      "Traceback (most recent call last):\n",
      "  File \"/opt/conda/lib/python3.9/site-packages/py4j/java_gateway.py\", line 977, in _get_connection\n",
      "    connection = self.deque.pop()\n",
      "IndexError: pop from an empty deque\n",
      "\n",
      "During handling of the above exception, another exception occurred:\n",
      "\n",
      "Traceback (most recent call last):\n",
      "  File \"/opt/conda/lib/python3.9/site-packages/py4j/java_gateway.py\", line 977, in _get_connection\n",
      "    connection = self.deque.pop()\n",
      "IndexError: pop from an empty deque\n",
      "\n",
      "During handling of the above exception, another exception occurred:\n",
      "\n",
      "Traceback (most recent call last):\n",
      "  File \"/opt/conda/lib/python3.9/site-packages/py4j/java_gateway.py\", line 1115, in start\n",
      "    self.socket.connect((self.address, self.port))\n",
      "ConnectionRefusedError: [Errno 111] Connection refused\n",
      "ERROR:py4j.java_gateway:An error occurred while trying to connect to the Java server (127.0.0.1:35979)\n",
      "Traceback (most recent call last):\n",
      "  File \"/opt/conda/lib/python3.9/site-packages/py4j/java_gateway.py\", line 977, in _get_connection\n",
      "    connection = self.deque.pop()\n",
      "IndexError: pop from an empty deque\n",
      "\n",
      "During handling of the above exception, another exception occurred:\n",
      "\n",
      "Traceback (most recent call last):\n",
      "  File \"/opt/conda/lib/python3.9/site-packages/py4j/java_gateway.py\", line 977, in _get_connection\n",
      "    connection = self.deque.pop()\n",
      "IndexError: pop from an empty deque\n",
      "\n",
      "During handling of the above exception, another exception occurred:\n",
      "\n",
      "Traceback (most recent call last):\n",
      "  File \"/opt/conda/lib/python3.9/site-packages/py4j/java_gateway.py\", line 1115, in start\n",
      "    self.socket.connect((self.address, self.port))\n",
      "ConnectionRefusedError: [Errno 111] Connection refused\n",
      "ERROR:py4j.java_gateway:An error occurred while trying to connect to the Java server (127.0.0.1:35979)\n",
      "Traceback (most recent call last):\n",
      "  File \"/opt/conda/lib/python3.9/site-packages/py4j/java_gateway.py\", line 977, in _get_connection\n",
      "    connection = self.deque.pop()\n",
      "IndexError: pop from an empty deque\n",
      "\n",
      "During handling of the above exception, another exception occurred:\n",
      "\n",
      "Traceback (most recent call last):\n",
      "  File \"/opt/conda/lib/python3.9/site-packages/py4j/java_gateway.py\", line 977, in _get_connection\n",
      "    connection = self.deque.pop()\n",
      "IndexError: pop from an empty deque\n",
      "\n",
      "During handling of the above exception, another exception occurred:\n",
      "\n",
      "Traceback (most recent call last):\n",
      "  File \"/opt/conda/lib/python3.9/site-packages/py4j/java_gateway.py\", line 1115, in start\n",
      "    self.socket.connect((self.address, self.port))\n",
      "ConnectionRefusedError: [Errno 111] Connection refused\n",
      "ERROR:py4j.java_gateway:An error occurred while trying to connect to the Java server (127.0.0.1:35979)\n",
      "Traceback (most recent call last):\n",
      "  File \"/opt/conda/lib/python3.9/site-packages/py4j/java_gateway.py\", line 977, in _get_connection\n",
      "    connection = self.deque.pop()\n",
      "IndexError: pop from an empty deque\n",
      "\n",
      "During handling of the above exception, another exception occurred:\n",
      "\n",
      "Traceback (most recent call last):\n",
      "  File \"/opt/conda/lib/python3.9/site-packages/py4j/java_gateway.py\", line 977, in _get_connection\n",
      "    connection = self.deque.pop()\n",
      "IndexError: pop from an empty deque\n",
      "\n",
      "During handling of the above exception, another exception occurred:\n",
      "\n",
      "Traceback (most recent call last):\n",
      "  File \"/opt/conda/lib/python3.9/site-packages/py4j/java_gateway.py\", line 1115, in start\n",
      "    self.socket.connect((self.address, self.port))\n",
      "ConnectionRefusedError: [Errno 111] Connection refused\n",
      "ERROR:py4j.java_gateway:An error occurred while trying to connect to the Java server (127.0.0.1:35979)\n",
      "Traceback (most recent call last):\n",
      "  File \"/opt/conda/lib/python3.9/site-packages/py4j/java_gateway.py\", line 977, in _get_connection\n",
      "    connection = self.deque.pop()\n",
      "IndexError: pop from an empty deque\n",
      "\n",
      "During handling of the above exception, another exception occurred:\n",
      "\n",
      "Traceback (most recent call last):\n",
      "  File \"/opt/conda/lib/python3.9/site-packages/py4j/java_gateway.py\", line 977, in _get_connection\n",
      "    connection = self.deque.pop()\n",
      "IndexError: pop from an empty deque\n",
      "\n",
      "During handling of the above exception, another exception occurred:\n",
      "\n",
      "Traceback (most recent call last):\n",
      "  File \"/opt/conda/lib/python3.9/site-packages/py4j/java_gateway.py\", line 1115, in start\n",
      "    self.socket.connect((self.address, self.port))\n",
      "ConnectionRefusedError: [Errno 111] Connection refused\n",
      "ERROR:py4j.java_gateway:An error occurred while trying to connect to the Java server (127.0.0.1:35979)\n",
      "Traceback (most recent call last):\n",
      "  File \"/opt/conda/lib/python3.9/site-packages/py4j/java_gateway.py\", line 977, in _get_connection\n",
      "    connection = self.deque.pop()\n",
      "IndexError: pop from an empty deque\n",
      "\n",
      "During handling of the above exception, another exception occurred:\n",
      "\n",
      "Traceback (most recent call last):\n",
      "  File \"/opt/conda/lib/python3.9/site-packages/py4j/java_gateway.py\", line 977, in _get_connection\n",
      "    connection = self.deque.pop()\n",
      "IndexError: pop from an empty deque\n",
      "\n",
      "During handling of the above exception, another exception occurred:\n",
      "\n",
      "Traceback (most recent call last):\n",
      "  File \"/opt/conda/lib/python3.9/site-packages/py4j/java_gateway.py\", line 1115, in start\n",
      "    self.socket.connect((self.address, self.port))\n",
      "ConnectionRefusedError: [Errno 111] Connection refused\n",
      "ERROR:py4j.java_gateway:An error occurred while trying to connect to the Java server (127.0.0.1:35979)\n",
      "Traceback (most recent call last):\n",
      "  File \"/opt/conda/lib/python3.9/site-packages/py4j/java_gateway.py\", line 977, in _get_connection\n",
      "    connection = self.deque.pop()\n",
      "IndexError: pop from an empty deque\n",
      "\n",
      "During handling of the above exception, another exception occurred:\n",
      "\n",
      "Traceback (most recent call last):\n",
      "  File \"/opt/conda/lib/python3.9/site-packages/py4j/java_gateway.py\", line 977, in _get_connection\n",
      "    connection = self.deque.pop()\n",
      "IndexError: pop from an empty deque\n",
      "\n",
      "During handling of the above exception, another exception occurred:\n",
      "\n",
      "Traceback (most recent call last):\n",
      "  File \"/opt/conda/lib/python3.9/site-packages/py4j/java_gateway.py\", line 1115, in start\n",
      "    self.socket.connect((self.address, self.port))\n",
      "ConnectionRefusedError: [Errno 111] Connection refused\n",
      "ERROR:py4j.java_gateway:An error occurred while trying to connect to the Java server (127.0.0.1:35979)\n",
      "Traceback (most recent call last):\n",
      "  File \"/opt/conda/lib/python3.9/site-packages/py4j/java_gateway.py\", line 977, in _get_connection\n",
      "    connection = self.deque.pop()\n",
      "IndexError: pop from an empty deque\n",
      "\n",
      "During handling of the above exception, another exception occurred:\n",
      "\n",
      "Traceback (most recent call last):\n",
      "  File \"/opt/conda/lib/python3.9/site-packages/py4j/java_gateway.py\", line 977, in _get_connection\n",
      "    connection = self.deque.pop()\n",
      "IndexError: pop from an empty deque\n",
      "\n",
      "During handling of the above exception, another exception occurred:\n",
      "\n",
      "Traceback (most recent call last):\n",
      "  File \"/opt/conda/lib/python3.9/site-packages/py4j/java_gateway.py\", line 1115, in start\n",
      "    self.socket.connect((self.address, self.port))\n",
      "ConnectionRefusedError: [Errno 111] Connection refused\n",
      "ERROR:py4j.java_gateway:An error occurred while trying to connect to the Java server (127.0.0.1:35979)\n",
      "Traceback (most recent call last):\n",
      "  File \"/opt/conda/lib/python3.9/site-packages/py4j/java_gateway.py\", line 977, in _get_connection\n",
      "    connection = self.deque.pop()\n",
      "IndexError: pop from an empty deque\n",
      "\n",
      "During handling of the above exception, another exception occurred:\n",
      "\n",
      "Traceback (most recent call last):\n",
      "  File \"/opt/conda/lib/python3.9/site-packages/py4j/java_gateway.py\", line 977, in _get_connection\n",
      "    connection = self.deque.pop()\n",
      "IndexError: pop from an empty deque\n",
      "\n",
      "During handling of the above exception, another exception occurred:\n",
      "\n",
      "Traceback (most recent call last):\n",
      "  File \"/opt/conda/lib/python3.9/site-packages/py4j/java_gateway.py\", line 1115, in start\n",
      "    self.socket.connect((self.address, self.port))\n",
      "ConnectionRefusedError: [Errno 111] Connection refused\n",
      "ERROR:py4j.java_gateway:An error occurred while trying to connect to the Java server (127.0.0.1:35979)\n",
      "Traceback (most recent call last):\n",
      "  File \"/opt/conda/lib/python3.9/site-packages/py4j/java_gateway.py\", line 977, in _get_connection\n",
      "    connection = self.deque.pop()\n",
      "IndexError: pop from an empty deque\n",
      "\n",
      "During handling of the above exception, another exception occurred:\n",
      "\n",
      "Traceback (most recent call last):\n",
      "  File \"/opt/conda/lib/python3.9/site-packages/py4j/java_gateway.py\", line 977, in _get_connection\n",
      "    connection = self.deque.pop()\n",
      "IndexError: pop from an empty deque\n",
      "\n",
      "During handling of the above exception, another exception occurred:\n",
      "\n",
      "Traceback (most recent call last):\n",
      "  File \"/opt/conda/lib/python3.9/site-packages/py4j/java_gateway.py\", line 1115, in start\n",
      "    self.socket.connect((self.address, self.port))\n",
      "ConnectionRefusedError: [Errno 111] Connection refused\n",
      "ERROR:py4j.java_gateway:An error occurred while trying to connect to the Java server (127.0.0.1:35979)\n",
      "Traceback (most recent call last):\n",
      "  File \"/opt/conda/lib/python3.9/site-packages/py4j/java_gateway.py\", line 977, in _get_connection\n",
      "    connection = self.deque.pop()\n",
      "IndexError: pop from an empty deque\n",
      "\n",
      "During handling of the above exception, another exception occurred:\n",
      "\n",
      "Traceback (most recent call last):\n",
      "  File \"/opt/conda/lib/python3.9/site-packages/py4j/java_gateway.py\", line 977, in _get_connection\n",
      "    connection = self.deque.pop()\n",
      "IndexError: pop from an empty deque\n",
      "\n",
      "During handling of the above exception, another exception occurred:\n",
      "\n",
      "Traceback (most recent call last):\n",
      "  File \"/opt/conda/lib/python3.9/site-packages/py4j/java_gateway.py\", line 1115, in start\n",
      "    self.socket.connect((self.address, self.port))\n",
      "ConnectionRefusedError: [Errno 111] Connection refused\n",
      "ERROR:py4j.java_gateway:An error occurred while trying to connect to the Java server (127.0.0.1:35979)\n",
      "Traceback (most recent call last):\n",
      "  File \"/opt/conda/lib/python3.9/site-packages/py4j/java_gateway.py\", line 977, in _get_connection\n",
      "    connection = self.deque.pop()\n",
      "IndexError: pop from an empty deque\n",
      "\n",
      "During handling of the above exception, another exception occurred:\n",
      "\n",
      "Traceback (most recent call last):\n",
      "  File \"/opt/conda/lib/python3.9/site-packages/py4j/java_gateway.py\", line 977, in _get_connection\n",
      "    connection = self.deque.pop()\n",
      "IndexError: pop from an empty deque\n",
      "\n",
      "During handling of the above exception, another exception occurred:\n",
      "\n",
      "Traceback (most recent call last):\n",
      "  File \"/opt/conda/lib/python3.9/site-packages/py4j/java_gateway.py\", line 1115, in start\n",
      "    self.socket.connect((self.address, self.port))\n",
      "ConnectionRefusedError: [Errno 111] Connection refused\n",
      "ERROR:py4j.java_gateway:An error occurred while trying to connect to the Java server (127.0.0.1:35979)\n",
      "Traceback (most recent call last):\n",
      "  File \"/opt/conda/lib/python3.9/site-packages/py4j/java_gateway.py\", line 977, in _get_connection\n",
      "    connection = self.deque.pop()\n",
      "IndexError: pop from an empty deque\n",
      "\n",
      "During handling of the above exception, another exception occurred:\n",
      "\n",
      "Traceback (most recent call last):\n",
      "  File \"/opt/conda/lib/python3.9/site-packages/py4j/java_gateway.py\", line 977, in _get_connection\n",
      "    connection = self.deque.pop()\n",
      "IndexError: pop from an empty deque\n",
      "\n",
      "During handling of the above exception, another exception occurred:\n",
      "\n",
      "Traceback (most recent call last):\n",
      "  File \"/opt/conda/lib/python3.9/site-packages/py4j/java_gateway.py\", line 1115, in start\n",
      "    self.socket.connect((self.address, self.port))\n",
      "ConnectionRefusedError: [Errno 111] Connection refused\n",
      "ERROR:py4j.java_gateway:An error occurred while trying to connect to the Java server (127.0.0.1:35979)\n",
      "Traceback (most recent call last):\n",
      "  File \"/opt/conda/lib/python3.9/site-packages/py4j/java_gateway.py\", line 977, in _get_connection\n",
      "    connection = self.deque.pop()\n",
      "IndexError: pop from an empty deque\n",
      "\n",
      "During handling of the above exception, another exception occurred:\n",
      "\n",
      "Traceback (most recent call last):\n",
      "  File \"/opt/conda/lib/python3.9/site-packages/py4j/java_gateway.py\", line 977, in _get_connection\n",
      "    connection = self.deque.pop()\n",
      "IndexError: pop from an empty deque\n",
      "\n",
      "During handling of the above exception, another exception occurred:\n",
      "\n",
      "Traceback (most recent call last):\n",
      "  File \"/opt/conda/lib/python3.9/site-packages/py4j/java_gateway.py\", line 1115, in start\n",
      "    self.socket.connect((self.address, self.port))\n",
      "ConnectionRefusedError: [Errno 111] Connection refused\n",
      "ERROR:py4j.java_gateway:An error occurred while trying to connect to the Java server (127.0.0.1:35979)\n",
      "Traceback (most recent call last):\n",
      "  File \"/opt/conda/lib/python3.9/site-packages/py4j/java_gateway.py\", line 977, in _get_connection\n",
      "    connection = self.deque.pop()\n",
      "IndexError: pop from an empty deque\n",
      "\n",
      "During handling of the above exception, another exception occurred:\n",
      "\n",
      "Traceback (most recent call last):\n",
      "  File \"/opt/conda/lib/python3.9/site-packages/py4j/java_gateway.py\", line 977, in _get_connection\n",
      "    connection = self.deque.pop()\n",
      "IndexError: pop from an empty deque\n",
      "\n",
      "During handling of the above exception, another exception occurred:\n",
      "\n",
      "Traceback (most recent call last):\n",
      "  File \"/opt/conda/lib/python3.9/site-packages/py4j/java_gateway.py\", line 1115, in start\n",
      "    self.socket.connect((self.address, self.port))\n",
      "ConnectionRefusedError: [Errno 111] Connection refused\n",
      "ERROR:py4j.java_gateway:An error occurred while trying to connect to the Java server (127.0.0.1:35979)\n",
      "Traceback (most recent call last):\n",
      "  File \"/opt/conda/lib/python3.9/site-packages/py4j/java_gateway.py\", line 977, in _get_connection\n",
      "    connection = self.deque.pop()\n",
      "IndexError: pop from an empty deque\n",
      "\n",
      "During handling of the above exception, another exception occurred:\n",
      "\n",
      "Traceback (most recent call last):\n",
      "  File \"/opt/conda/lib/python3.9/site-packages/py4j/java_gateway.py\", line 977, in _get_connection\n",
      "    connection = self.deque.pop()\n",
      "IndexError: pop from an empty deque\n",
      "\n",
      "During handling of the above exception, another exception occurred:\n",
      "\n",
      "Traceback (most recent call last):\n",
      "  File \"/opt/conda/lib/python3.9/site-packages/py4j/java_gateway.py\", line 1115, in start\n",
      "    self.socket.connect((self.address, self.port))\n",
      "ConnectionRefusedError: [Errno 111] Connection refused\n",
      "ERROR:py4j.java_gateway:An error occurred while trying to connect to the Java server (127.0.0.1:35979)\n",
      "Traceback (most recent call last):\n",
      "  File \"/opt/conda/lib/python3.9/site-packages/py4j/java_gateway.py\", line 977, in _get_connection\n",
      "    connection = self.deque.pop()\n",
      "IndexError: pop from an empty deque\n",
      "\n",
      "During handling of the above exception, another exception occurred:\n",
      "\n",
      "Traceback (most recent call last):\n",
      "  File \"/opt/conda/lib/python3.9/site-packages/py4j/java_gateway.py\", line 977, in _get_connection\n",
      "    connection = self.deque.pop()\n",
      "IndexError: pop from an empty deque\n",
      "\n",
      "During handling of the above exception, another exception occurred:\n",
      "\n",
      "Traceback (most recent call last):\n",
      "  File \"/opt/conda/lib/python3.9/site-packages/py4j/java_gateway.py\", line 1115, in start\n",
      "    self.socket.connect((self.address, self.port))\n",
      "ConnectionRefusedError: [Errno 111] Connection refused\n",
      "ERROR:py4j.java_gateway:An error occurred while trying to connect to the Java server (127.0.0.1:35979)\n",
      "Traceback (most recent call last):\n",
      "  File \"/opt/conda/lib/python3.9/site-packages/py4j/java_gateway.py\", line 977, in _get_connection\n",
      "    connection = self.deque.pop()\n",
      "IndexError: pop from an empty deque\n",
      "\n",
      "During handling of the above exception, another exception occurred:\n",
      "\n",
      "Traceback (most recent call last):\n",
      "  File \"/opt/conda/lib/python3.9/site-packages/py4j/java_gateway.py\", line 977, in _get_connection\n",
      "    connection = self.deque.pop()\n",
      "IndexError: pop from an empty deque\n",
      "\n",
      "During handling of the above exception, another exception occurred:\n",
      "\n",
      "Traceback (most recent call last):\n",
      "  File \"/opt/conda/lib/python3.9/site-packages/py4j/java_gateway.py\", line 1115, in start\n",
      "    self.socket.connect((self.address, self.port))\n",
      "ConnectionRefusedError: [Errno 111] Connection refused\n",
      "ERROR:py4j.java_gateway:An error occurred while trying to connect to the Java server (127.0.0.1:35979)\n",
      "Traceback (most recent call last):\n",
      "  File \"/opt/conda/lib/python3.9/site-packages/py4j/java_gateway.py\", line 977, in _get_connection\n",
      "    connection = self.deque.pop()\n",
      "IndexError: pop from an empty deque\n",
      "\n",
      "During handling of the above exception, another exception occurred:\n",
      "\n",
      "Traceback (most recent call last):\n",
      "  File \"/opt/conda/lib/python3.9/site-packages/py4j/java_gateway.py\", line 977, in _get_connection\n",
      "    connection = self.deque.pop()\n",
      "IndexError: pop from an empty deque\n",
      "\n",
      "During handling of the above exception, another exception occurred:\n",
      "\n",
      "Traceback (most recent call last):\n",
      "  File \"/opt/conda/lib/python3.9/site-packages/py4j/java_gateway.py\", line 1115, in start\n",
      "    self.socket.connect((self.address, self.port))\n",
      "ConnectionRefusedError: [Errno 111] Connection refused\n",
      "ERROR:py4j.java_gateway:An error occurred while trying to connect to the Java server (127.0.0.1:35979)\n",
      "Traceback (most recent call last):\n",
      "  File \"/opt/conda/lib/python3.9/site-packages/py4j/java_gateway.py\", line 977, in _get_connection\n",
      "    connection = self.deque.pop()\n",
      "IndexError: pop from an empty deque\n",
      "\n",
      "During handling of the above exception, another exception occurred:\n",
      "\n",
      "Traceback (most recent call last):\n",
      "  File \"/opt/conda/lib/python3.9/site-packages/py4j/java_gateway.py\", line 977, in _get_connection\n",
      "    connection = self.deque.pop()\n",
      "IndexError: pop from an empty deque\n",
      "\n",
      "During handling of the above exception, another exception occurred:\n",
      "\n",
      "Traceback (most recent call last):\n",
      "  File \"/opt/conda/lib/python3.9/site-packages/py4j/java_gateway.py\", line 1115, in start\n",
      "    self.socket.connect((self.address, self.port))\n",
      "ConnectionRefusedError: [Errno 111] Connection refused\n",
      "ERROR:py4j.java_gateway:An error occurred while trying to connect to the Java server (127.0.0.1:35979)\n",
      "Traceback (most recent call last):\n",
      "  File \"/opt/conda/lib/python3.9/site-packages/py4j/java_gateway.py\", line 977, in _get_connection\n",
      "    connection = self.deque.pop()\n",
      "IndexError: pop from an empty deque\n",
      "\n",
      "During handling of the above exception, another exception occurred:\n",
      "\n",
      "Traceback (most recent call last):\n",
      "  File \"/opt/conda/lib/python3.9/site-packages/py4j/java_gateway.py\", line 977, in _get_connection\n",
      "    connection = self.deque.pop()\n",
      "IndexError: pop from an empty deque\n",
      "\n",
      "During handling of the above exception, another exception occurred:\n",
      "\n",
      "Traceback (most recent call last):\n",
      "  File \"/opt/conda/lib/python3.9/site-packages/py4j/java_gateway.py\", line 1115, in start\n",
      "    self.socket.connect((self.address, self.port))\n",
      "ConnectionRefusedError: [Errno 111] Connection refused\n",
      "ERROR:py4j.java_gateway:An error occurred while trying to connect to the Java server (127.0.0.1:35979)\n",
      "Traceback (most recent call last):\n",
      "  File \"/opt/conda/lib/python3.9/site-packages/py4j/java_gateway.py\", line 977, in _get_connection\n",
      "    connection = self.deque.pop()\n",
      "IndexError: pop from an empty deque\n",
      "\n",
      "During handling of the above exception, another exception occurred:\n",
      "\n",
      "Traceback (most recent call last):\n",
      "  File \"/opt/conda/lib/python3.9/site-packages/py4j/java_gateway.py\", line 977, in _get_connection\n",
      "    connection = self.deque.pop()\n",
      "IndexError: pop from an empty deque\n",
      "\n",
      "During handling of the above exception, another exception occurred:\n",
      "\n",
      "Traceback (most recent call last):\n",
      "  File \"/opt/conda/lib/python3.9/site-packages/py4j/java_gateway.py\", line 1115, in start\n",
      "    self.socket.connect((self.address, self.port))\n",
      "ConnectionRefusedError: [Errno 111] Connection refused\n",
      "ERROR:py4j.java_gateway:An error occurred while trying to connect to the Java server (127.0.0.1:35979)\n",
      "Traceback (most recent call last):\n",
      "  File \"/opt/conda/lib/python3.9/site-packages/py4j/java_gateway.py\", line 977, in _get_connection\n",
      "    connection = self.deque.pop()\n",
      "IndexError: pop from an empty deque\n",
      "\n",
      "During handling of the above exception, another exception occurred:\n",
      "\n",
      "Traceback (most recent call last):\n",
      "  File \"/opt/conda/lib/python3.9/site-packages/py4j/java_gateway.py\", line 977, in _get_connection\n",
      "    connection = self.deque.pop()\n",
      "IndexError: pop from an empty deque\n",
      "\n",
      "During handling of the above exception, another exception occurred:\n",
      "\n",
      "Traceback (most recent call last):\n",
      "  File \"/opt/conda/lib/python3.9/site-packages/py4j/java_gateway.py\", line 1115, in start\n",
      "    self.socket.connect((self.address, self.port))\n",
      "ConnectionRefusedError: [Errno 111] Connection refused\n",
      "ERROR:py4j.java_gateway:An error occurred while trying to connect to the Java server (127.0.0.1:35979)\n",
      "Traceback (most recent call last):\n",
      "  File \"/opt/conda/lib/python3.9/site-packages/py4j/java_gateway.py\", line 977, in _get_connection\n",
      "    connection = self.deque.pop()\n",
      "IndexError: pop from an empty deque\n",
      "\n",
      "During handling of the above exception, another exception occurred:\n",
      "\n",
      "Traceback (most recent call last):\n",
      "  File \"/opt/conda/lib/python3.9/site-packages/py4j/java_gateway.py\", line 977, in _get_connection\n",
      "    connection = self.deque.pop()\n",
      "IndexError: pop from an empty deque\n",
      "\n",
      "During handling of the above exception, another exception occurred:\n",
      "\n",
      "Traceback (most recent call last):\n",
      "  File \"/opt/conda/lib/python3.9/site-packages/py4j/java_gateway.py\", line 1115, in start\n",
      "    self.socket.connect((self.address, self.port))\n",
      "ConnectionRefusedError: [Errno 111] Connection refused\n",
      "ERROR:py4j.java_gateway:An error occurred while trying to connect to the Java server (127.0.0.1:35979)\n",
      "Traceback (most recent call last):\n",
      "  File \"/opt/conda/lib/python3.9/site-packages/py4j/java_gateway.py\", line 977, in _get_connection\n",
      "    connection = self.deque.pop()\n",
      "IndexError: pop from an empty deque\n",
      "\n",
      "During handling of the above exception, another exception occurred:\n",
      "\n",
      "Traceback (most recent call last):\n",
      "  File \"/opt/conda/lib/python3.9/site-packages/py4j/java_gateway.py\", line 977, in _get_connection\n",
      "    connection = self.deque.pop()\n",
      "IndexError: pop from an empty deque\n",
      "\n",
      "During handling of the above exception, another exception occurred:\n",
      "\n",
      "Traceback (most recent call last):\n",
      "  File \"/opt/conda/lib/python3.9/site-packages/py4j/java_gateway.py\", line 1115, in start\n",
      "    self.socket.connect((self.address, self.port))\n",
      "ConnectionRefusedError: [Errno 111] Connection refused\n",
      "ERROR:py4j.java_gateway:An error occurred while trying to connect to the Java server (127.0.0.1:35979)\n",
      "Traceback (most recent call last):\n",
      "  File \"/opt/conda/lib/python3.9/site-packages/py4j/java_gateway.py\", line 977, in _get_connection\n",
      "    connection = self.deque.pop()\n",
      "IndexError: pop from an empty deque\n",
      "\n",
      "During handling of the above exception, another exception occurred:\n",
      "\n",
      "Traceback (most recent call last):\n",
      "  File \"/opt/conda/lib/python3.9/site-packages/py4j/java_gateway.py\", line 977, in _get_connection\n",
      "    connection = self.deque.pop()\n",
      "IndexError: pop from an empty deque\n",
      "\n",
      "During handling of the above exception, another exception occurred:\n",
      "\n",
      "Traceback (most recent call last):\n",
      "  File \"/opt/conda/lib/python3.9/site-packages/py4j/java_gateway.py\", line 1115, in start\n",
      "    self.socket.connect((self.address, self.port))\n",
      "ConnectionRefusedError: [Errno 111] Connection refused\n",
      "ERROR:py4j.java_gateway:An error occurred while trying to connect to the Java server (127.0.0.1:35979)\n",
      "Traceback (most recent call last):\n",
      "  File \"/opt/conda/lib/python3.9/site-packages/py4j/java_gateway.py\", line 977, in _get_connection\n",
      "    connection = self.deque.pop()\n",
      "IndexError: pop from an empty deque\n",
      "\n",
      "During handling of the above exception, another exception occurred:\n",
      "\n",
      "Traceback (most recent call last):\n",
      "  File \"/opt/conda/lib/python3.9/site-packages/py4j/java_gateway.py\", line 977, in _get_connection\n",
      "    connection = self.deque.pop()\n",
      "IndexError: pop from an empty deque\n",
      "\n",
      "During handling of the above exception, another exception occurred:\n",
      "\n",
      "Traceback (most recent call last):\n",
      "  File \"/opt/conda/lib/python3.9/site-packages/py4j/java_gateway.py\", line 1115, in start\n",
      "    self.socket.connect((self.address, self.port))\n",
      "ConnectionRefusedError: [Errno 111] Connection refused\n",
      "ERROR:py4j.java_gateway:An error occurred while trying to connect to the Java server (127.0.0.1:35979)\n",
      "Traceback (most recent call last):\n",
      "  File \"/opt/conda/lib/python3.9/site-packages/py4j/java_gateway.py\", line 977, in _get_connection\n",
      "    connection = self.deque.pop()\n",
      "IndexError: pop from an empty deque\n",
      "\n",
      "During handling of the above exception, another exception occurred:\n",
      "\n",
      "Traceback (most recent call last):\n",
      "  File \"/opt/conda/lib/python3.9/site-packages/py4j/java_gateway.py\", line 977, in _get_connection\n",
      "    connection = self.deque.pop()\n",
      "IndexError: pop from an empty deque\n",
      "\n",
      "During handling of the above exception, another exception occurred:\n",
      "\n",
      "Traceback (most recent call last):\n",
      "  File \"/opt/conda/lib/python3.9/site-packages/py4j/java_gateway.py\", line 1115, in start\n",
      "    self.socket.connect((self.address, self.port))\n",
      "ConnectionRefusedError: [Errno 111] Connection refused\n",
      "ERROR:py4j.java_gateway:An error occurred while trying to connect to the Java server (127.0.0.1:35979)\n",
      "Traceback (most recent call last):\n",
      "  File \"/opt/conda/lib/python3.9/site-packages/py4j/java_gateway.py\", line 977, in _get_connection\n",
      "    connection = self.deque.pop()\n",
      "IndexError: pop from an empty deque\n",
      "\n",
      "During handling of the above exception, another exception occurred:\n",
      "\n",
      "Traceback (most recent call last):\n",
      "  File \"/opt/conda/lib/python3.9/site-packages/py4j/java_gateway.py\", line 977, in _get_connection\n",
      "    connection = self.deque.pop()\n",
      "IndexError: pop from an empty deque\n",
      "\n",
      "During handling of the above exception, another exception occurred:\n",
      "\n",
      "Traceback (most recent call last):\n",
      "  File \"/opt/conda/lib/python3.9/site-packages/py4j/java_gateway.py\", line 1115, in start\n",
      "    self.socket.connect((self.address, self.port))\n",
      "ConnectionRefusedError: [Errno 111] Connection refused\n",
      "ERROR:py4j.java_gateway:An error occurred while trying to connect to the Java server (127.0.0.1:35979)\n",
      "Traceback (most recent call last):\n",
      "  File \"/opt/conda/lib/python3.9/site-packages/py4j/java_gateway.py\", line 977, in _get_connection\n",
      "    connection = self.deque.pop()\n",
      "IndexError: pop from an empty deque\n",
      "\n",
      "During handling of the above exception, another exception occurred:\n",
      "\n",
      "Traceback (most recent call last):\n",
      "  File \"/opt/conda/lib/python3.9/site-packages/py4j/java_gateway.py\", line 977, in _get_connection\n",
      "    connection = self.deque.pop()\n",
      "IndexError: pop from an empty deque\n",
      "\n",
      "During handling of the above exception, another exception occurred:\n",
      "\n",
      "Traceback (most recent call last):\n",
      "  File \"/opt/conda/lib/python3.9/site-packages/py4j/java_gateway.py\", line 1115, in start\n",
      "    self.socket.connect((self.address, self.port))\n",
      "ConnectionRefusedError: [Errno 111] Connection refused\n",
      "ERROR:py4j.java_gateway:An error occurred while trying to connect to the Java server (127.0.0.1:35979)\n",
      "Traceback (most recent call last):\n",
      "  File \"/opt/conda/lib/python3.9/site-packages/py4j/java_gateway.py\", line 977, in _get_connection\n",
      "    connection = self.deque.pop()\n",
      "IndexError: pop from an empty deque\n",
      "\n",
      "During handling of the above exception, another exception occurred:\n",
      "\n",
      "Traceback (most recent call last):\n",
      "  File \"/opt/conda/lib/python3.9/site-packages/py4j/java_gateway.py\", line 977, in _get_connection\n",
      "    connection = self.deque.pop()\n",
      "IndexError: pop from an empty deque\n",
      "\n",
      "During handling of the above exception, another exception occurred:\n",
      "\n",
      "Traceback (most recent call last):\n",
      "  File \"/opt/conda/lib/python3.9/site-packages/py4j/java_gateway.py\", line 1115, in start\n",
      "    self.socket.connect((self.address, self.port))\n",
      "ConnectionRefusedError: [Errno 111] Connection refused\n",
      "ERROR:py4j.java_gateway:An error occurred while trying to connect to the Java server (127.0.0.1:35979)\n",
      "Traceback (most recent call last):\n",
      "  File \"/opt/conda/lib/python3.9/site-packages/py4j/java_gateway.py\", line 977, in _get_connection\n",
      "    connection = self.deque.pop()\n",
      "IndexError: pop from an empty deque\n",
      "\n",
      "During handling of the above exception, another exception occurred:\n",
      "\n",
      "Traceback (most recent call last):\n",
      "  File \"/opt/conda/lib/python3.9/site-packages/py4j/java_gateway.py\", line 977, in _get_connection\n",
      "    connection = self.deque.pop()\n",
      "IndexError: pop from an empty deque\n",
      "\n",
      "During handling of the above exception, another exception occurred:\n",
      "\n",
      "Traceback (most recent call last):\n",
      "  File \"/opt/conda/lib/python3.9/site-packages/py4j/java_gateway.py\", line 1115, in start\n",
      "    self.socket.connect((self.address, self.port))\n",
      "ConnectionRefusedError: [Errno 111] Connection refused\n",
      "ERROR:py4j.java_gateway:An error occurred while trying to connect to the Java server (127.0.0.1:35979)\n",
      "Traceback (most recent call last):\n",
      "  File \"/opt/conda/lib/python3.9/site-packages/py4j/java_gateway.py\", line 977, in _get_connection\n",
      "    connection = self.deque.pop()\n",
      "IndexError: pop from an empty deque\n",
      "\n",
      "During handling of the above exception, another exception occurred:\n",
      "\n",
      "Traceback (most recent call last):\n",
      "  File \"/opt/conda/lib/python3.9/site-packages/py4j/java_gateway.py\", line 977, in _get_connection\n",
      "    connection = self.deque.pop()\n",
      "IndexError: pop from an empty deque\n",
      "\n",
      "During handling of the above exception, another exception occurred:\n",
      "\n",
      "Traceback (most recent call last):\n",
      "  File \"/opt/conda/lib/python3.9/site-packages/py4j/java_gateway.py\", line 1115, in start\n",
      "    self.socket.connect((self.address, self.port))\n",
      "ConnectionRefusedError: [Errno 111] Connection refused\n",
      "ERROR:py4j.java_gateway:An error occurred while trying to connect to the Java server (127.0.0.1:35979)\n",
      "Traceback (most recent call last):\n",
      "  File \"/opt/conda/lib/python3.9/site-packages/py4j/java_gateway.py\", line 977, in _get_connection\n",
      "    connection = self.deque.pop()\n",
      "IndexError: pop from an empty deque\n",
      "\n",
      "During handling of the above exception, another exception occurred:\n",
      "\n",
      "Traceback (most recent call last):\n",
      "  File \"/opt/conda/lib/python3.9/site-packages/py4j/java_gateway.py\", line 977, in _get_connection\n",
      "    connection = self.deque.pop()\n",
      "IndexError: pop from an empty deque\n",
      "\n",
      "During handling of the above exception, another exception occurred:\n",
      "\n",
      "Traceback (most recent call last):\n",
      "  File \"/opt/conda/lib/python3.9/site-packages/py4j/java_gateway.py\", line 1115, in start\n",
      "    self.socket.connect((self.address, self.port))\n",
      "ConnectionRefusedError: [Errno 111] Connection refused\n",
      "ERROR:py4j.java_gateway:An error occurred while trying to connect to the Java server (127.0.0.1:35979)\n",
      "Traceback (most recent call last):\n",
      "  File \"/opt/conda/lib/python3.9/site-packages/py4j/java_gateway.py\", line 977, in _get_connection\n",
      "    connection = self.deque.pop()\n",
      "IndexError: pop from an empty deque\n",
      "\n",
      "During handling of the above exception, another exception occurred:\n",
      "\n",
      "Traceback (most recent call last):\n",
      "  File \"/opt/conda/lib/python3.9/site-packages/py4j/java_gateway.py\", line 977, in _get_connection\n",
      "    connection = self.deque.pop()\n",
      "IndexError: pop from an empty deque\n",
      "\n",
      "During handling of the above exception, another exception occurred:\n",
      "\n",
      "Traceback (most recent call last):\n",
      "  File \"/opt/conda/lib/python3.9/site-packages/py4j/java_gateway.py\", line 1115, in start\n",
      "    self.socket.connect((self.address, self.port))\n",
      "ConnectionRefusedError: [Errno 111] Connection refused\n",
      "ERROR:py4j.java_gateway:An error occurred while trying to connect to the Java server (127.0.0.1:35979)\n",
      "Traceback (most recent call last):\n",
      "  File \"/opt/conda/lib/python3.9/site-packages/py4j/java_gateway.py\", line 977, in _get_connection\n",
      "    connection = self.deque.pop()\n",
      "IndexError: pop from an empty deque\n",
      "\n",
      "During handling of the above exception, another exception occurred:\n",
      "\n",
      "Traceback (most recent call last):\n",
      "  File \"/opt/conda/lib/python3.9/site-packages/py4j/java_gateway.py\", line 977, in _get_connection\n",
      "    connection = self.deque.pop()\n",
      "IndexError: pop from an empty deque\n",
      "\n",
      "During handling of the above exception, another exception occurred:\n",
      "\n",
      "Traceback (most recent call last):\n",
      "  File \"/opt/conda/lib/python3.9/site-packages/py4j/java_gateway.py\", line 1115, in start\n",
      "    self.socket.connect((self.address, self.port))\n",
      "ConnectionRefusedError: [Errno 111] Connection refused\n",
      "ERROR:py4j.java_gateway:An error occurred while trying to connect to the Java server (127.0.0.1:35979)\n",
      "Traceback (most recent call last):\n",
      "  File \"/opt/conda/lib/python3.9/site-packages/py4j/java_gateway.py\", line 977, in _get_connection\n",
      "    connection = self.deque.pop()\n",
      "IndexError: pop from an empty deque\n",
      "\n",
      "During handling of the above exception, another exception occurred:\n",
      "\n",
      "Traceback (most recent call last):\n",
      "  File \"/opt/conda/lib/python3.9/site-packages/py4j/java_gateway.py\", line 977, in _get_connection\n",
      "    connection = self.deque.pop()\n",
      "IndexError: pop from an empty deque\n",
      "\n",
      "During handling of the above exception, another exception occurred:\n",
      "\n",
      "Traceback (most recent call last):\n",
      "  File \"/opt/conda/lib/python3.9/site-packages/py4j/java_gateway.py\", line 1115, in start\n",
      "    self.socket.connect((self.address, self.port))\n",
      "ConnectionRefusedError: [Errno 111] Connection refused\n",
      "ERROR:py4j.java_gateway:An error occurred while trying to connect to the Java server (127.0.0.1:35979)\n",
      "Traceback (most recent call last):\n",
      "  File \"/opt/conda/lib/python3.9/site-packages/py4j/java_gateway.py\", line 977, in _get_connection\n",
      "    connection = self.deque.pop()\n",
      "IndexError: pop from an empty deque\n",
      "\n",
      "During handling of the above exception, another exception occurred:\n",
      "\n",
      "Traceback (most recent call last):\n",
      "  File \"/opt/conda/lib/python3.9/site-packages/py4j/java_gateway.py\", line 977, in _get_connection\n",
      "    connection = self.deque.pop()\n",
      "IndexError: pop from an empty deque\n",
      "\n",
      "During handling of the above exception, another exception occurred:\n",
      "\n",
      "Traceback (most recent call last):\n",
      "  File \"/opt/conda/lib/python3.9/site-packages/py4j/java_gateway.py\", line 1115, in start\n",
      "    self.socket.connect((self.address, self.port))\n",
      "ConnectionRefusedError: [Errno 111] Connection refused\n",
      "ERROR:py4j.java_gateway:An error occurred while trying to connect to the Java server (127.0.0.1:35979)\n",
      "Traceback (most recent call last):\n",
      "  File \"/opt/conda/lib/python3.9/site-packages/py4j/java_gateway.py\", line 977, in _get_connection\n",
      "    connection = self.deque.pop()\n",
      "IndexError: pop from an empty deque\n",
      "\n",
      "During handling of the above exception, another exception occurred:\n",
      "\n",
      "Traceback (most recent call last):\n",
      "  File \"/opt/conda/lib/python3.9/site-packages/py4j/java_gateway.py\", line 977, in _get_connection\n",
      "    connection = self.deque.pop()\n",
      "IndexError: pop from an empty deque\n",
      "\n",
      "During handling of the above exception, another exception occurred:\n",
      "\n",
      "Traceback (most recent call last):\n",
      "  File \"/opt/conda/lib/python3.9/site-packages/py4j/java_gateway.py\", line 1115, in start\n",
      "    self.socket.connect((self.address, self.port))\n",
      "ConnectionRefusedError: [Errno 111] Connection refused\n",
      "ERROR:py4j.java_gateway:An error occurred while trying to connect to the Java server (127.0.0.1:35979)\n",
      "Traceback (most recent call last):\n",
      "  File \"/opt/conda/lib/python3.9/site-packages/py4j/java_gateway.py\", line 977, in _get_connection\n",
      "    connection = self.deque.pop()\n",
      "IndexError: pop from an empty deque\n",
      "\n",
      "During handling of the above exception, another exception occurred:\n",
      "\n",
      "Traceback (most recent call last):\n",
      "  File \"/opt/conda/lib/python3.9/site-packages/py4j/java_gateway.py\", line 977, in _get_connection\n",
      "    connection = self.deque.pop()\n",
      "IndexError: pop from an empty deque\n",
      "\n",
      "During handling of the above exception, another exception occurred:\n",
      "\n",
      "Traceback (most recent call last):\n",
      "  File \"/opt/conda/lib/python3.9/site-packages/py4j/java_gateway.py\", line 1115, in start\n",
      "    self.socket.connect((self.address, self.port))\n",
      "ConnectionRefusedError: [Errno 111] Connection refused\n",
      "ERROR:py4j.java_gateway:An error occurred while trying to connect to the Java server (127.0.0.1:35979)\n",
      "Traceback (most recent call last):\n",
      "  File \"/opt/conda/lib/python3.9/site-packages/py4j/java_gateway.py\", line 977, in _get_connection\n",
      "    connection = self.deque.pop()\n",
      "IndexError: pop from an empty deque\n",
      "\n",
      "During handling of the above exception, another exception occurred:\n",
      "\n",
      "Traceback (most recent call last):\n",
      "  File \"/opt/conda/lib/python3.9/site-packages/py4j/java_gateway.py\", line 977, in _get_connection\n",
      "    connection = self.deque.pop()\n",
      "IndexError: pop from an empty deque\n",
      "\n",
      "During handling of the above exception, another exception occurred:\n",
      "\n",
      "Traceback (most recent call last):\n",
      "  File \"/opt/conda/lib/python3.9/site-packages/py4j/java_gateway.py\", line 1115, in start\n",
      "    self.socket.connect((self.address, self.port))\n",
      "ConnectionRefusedError: [Errno 111] Connection refused\n",
      "ERROR:py4j.java_gateway:An error occurred while trying to connect to the Java server (127.0.0.1:35979)\n",
      "Traceback (most recent call last):\n",
      "  File \"/opt/conda/lib/python3.9/site-packages/py4j/java_gateway.py\", line 977, in _get_connection\n",
      "    connection = self.deque.pop()\n",
      "IndexError: pop from an empty deque\n",
      "\n",
      "During handling of the above exception, another exception occurred:\n",
      "\n",
      "Traceback (most recent call last):\n",
      "  File \"/opt/conda/lib/python3.9/site-packages/py4j/java_gateway.py\", line 977, in _get_connection\n",
      "    connection = self.deque.pop()\n",
      "IndexError: pop from an empty deque\n",
      "\n",
      "During handling of the above exception, another exception occurred:\n",
      "\n",
      "Traceback (most recent call last):\n",
      "  File \"/opt/conda/lib/python3.9/site-packages/py4j/java_gateway.py\", line 1115, in start\n",
      "    self.socket.connect((self.address, self.port))\n",
      "ConnectionRefusedError: [Errno 111] Connection refused\n",
      "ERROR:py4j.java_gateway:An error occurred while trying to connect to the Java server (127.0.0.1:35979)\n",
      "Traceback (most recent call last):\n",
      "  File \"/opt/conda/lib/python3.9/site-packages/py4j/java_gateway.py\", line 977, in _get_connection\n",
      "    connection = self.deque.pop()\n",
      "IndexError: pop from an empty deque\n",
      "\n",
      "During handling of the above exception, another exception occurred:\n",
      "\n",
      "Traceback (most recent call last):\n",
      "  File \"/opt/conda/lib/python3.9/site-packages/py4j/java_gateway.py\", line 977, in _get_connection\n",
      "    connection = self.deque.pop()\n",
      "IndexError: pop from an empty deque\n",
      "\n",
      "During handling of the above exception, another exception occurred:\n",
      "\n",
      "Traceback (most recent call last):\n",
      "  File \"/opt/conda/lib/python3.9/site-packages/py4j/java_gateway.py\", line 1115, in start\n",
      "    self.socket.connect((self.address, self.port))\n",
      "ConnectionRefusedError: [Errno 111] Connection refused\n",
      "ERROR:py4j.java_gateway:An error occurred while trying to connect to the Java server (127.0.0.1:35979)\n",
      "Traceback (most recent call last):\n",
      "  File \"/opt/conda/lib/python3.9/site-packages/py4j/java_gateway.py\", line 977, in _get_connection\n",
      "    connection = self.deque.pop()\n",
      "IndexError: pop from an empty deque\n",
      "\n",
      "During handling of the above exception, another exception occurred:\n",
      "\n",
      "Traceback (most recent call last):\n",
      "  File \"/opt/conda/lib/python3.9/site-packages/py4j/java_gateway.py\", line 977, in _get_connection\n",
      "    connection = self.deque.pop()\n",
      "IndexError: pop from an empty deque\n",
      "\n",
      "During handling of the above exception, another exception occurred:\n",
      "\n",
      "Traceback (most recent call last):\n",
      "  File \"/opt/conda/lib/python3.9/site-packages/py4j/java_gateway.py\", line 1115, in start\n",
      "    self.socket.connect((self.address, self.port))\n",
      "ConnectionRefusedError: [Errno 111] Connection refused\n",
      "ERROR:py4j.java_gateway:An error occurred while trying to connect to the Java server (127.0.0.1:35979)\n",
      "Traceback (most recent call last):\n",
      "  File \"/opt/conda/lib/python3.9/site-packages/py4j/java_gateway.py\", line 977, in _get_connection\n",
      "    connection = self.deque.pop()\n",
      "IndexError: pop from an empty deque\n",
      "\n",
      "During handling of the above exception, another exception occurred:\n",
      "\n",
      "Traceback (most recent call last):\n",
      "  File \"/opt/conda/lib/python3.9/site-packages/py4j/java_gateway.py\", line 977, in _get_connection\n",
      "    connection = self.deque.pop()\n",
      "IndexError: pop from an empty deque\n",
      "\n",
      "During handling of the above exception, another exception occurred:\n",
      "\n",
      "Traceback (most recent call last):\n",
      "  File \"/opt/conda/lib/python3.9/site-packages/py4j/java_gateway.py\", line 1115, in start\n",
      "    self.socket.connect((self.address, self.port))\n",
      "ConnectionRefusedError: [Errno 111] Connection refused\n",
      "ERROR:py4j.java_gateway:An error occurred while trying to connect to the Java server (127.0.0.1:35979)\n",
      "Traceback (most recent call last):\n",
      "  File \"/opt/conda/lib/python3.9/site-packages/py4j/java_gateway.py\", line 977, in _get_connection\n",
      "    connection = self.deque.pop()\n",
      "IndexError: pop from an empty deque\n",
      "\n",
      "During handling of the above exception, another exception occurred:\n",
      "\n",
      "Traceback (most recent call last):\n",
      "  File \"/opt/conda/lib/python3.9/site-packages/py4j/java_gateway.py\", line 977, in _get_connection\n",
      "    connection = self.deque.pop()\n",
      "IndexError: pop from an empty deque\n",
      "\n",
      "During handling of the above exception, another exception occurred:\n",
      "\n",
      "Traceback (most recent call last):\n",
      "  File \"/opt/conda/lib/python3.9/site-packages/py4j/java_gateway.py\", line 1115, in start\n",
      "    self.socket.connect((self.address, self.port))\n",
      "ConnectionRefusedError: [Errno 111] Connection refused\n",
      "ERROR:py4j.java_gateway:An error occurred while trying to connect to the Java server (127.0.0.1:35979)\n",
      "Traceback (most recent call last):\n",
      "  File \"/opt/conda/lib/python3.9/site-packages/py4j/java_gateway.py\", line 977, in _get_connection\n",
      "    connection = self.deque.pop()\n",
      "IndexError: pop from an empty deque\n",
      "\n",
      "During handling of the above exception, another exception occurred:\n",
      "\n",
      "Traceback (most recent call last):\n",
      "  File \"/opt/conda/lib/python3.9/site-packages/py4j/java_gateway.py\", line 977, in _get_connection\n",
      "    connection = self.deque.pop()\n",
      "IndexError: pop from an empty deque\n",
      "\n",
      "During handling of the above exception, another exception occurred:\n",
      "\n",
      "Traceback (most recent call last):\n",
      "  File \"/opt/conda/lib/python3.9/site-packages/py4j/java_gateway.py\", line 1115, in start\n",
      "    self.socket.connect((self.address, self.port))\n",
      "ConnectionRefusedError: [Errno 111] Connection refused\n",
      "ERROR:py4j.java_gateway:An error occurred while trying to connect to the Java server (127.0.0.1:35979)\n",
      "Traceback (most recent call last):\n",
      "  File \"/opt/conda/lib/python3.9/site-packages/py4j/java_gateway.py\", line 977, in _get_connection\n",
      "    connection = self.deque.pop()\n",
      "IndexError: pop from an empty deque\n",
      "\n",
      "During handling of the above exception, another exception occurred:\n",
      "\n",
      "Traceback (most recent call last):\n",
      "  File \"/opt/conda/lib/python3.9/site-packages/py4j/java_gateway.py\", line 977, in _get_connection\n",
      "    connection = self.deque.pop()\n",
      "IndexError: pop from an empty deque\n",
      "\n",
      "During handling of the above exception, another exception occurred:\n",
      "\n",
      "Traceback (most recent call last):\n",
      "  File \"/opt/conda/lib/python3.9/site-packages/py4j/java_gateway.py\", line 1115, in start\n",
      "    self.socket.connect((self.address, self.port))\n",
      "ConnectionRefusedError: [Errno 111] Connection refused\n",
      "ERROR:py4j.java_gateway:An error occurred while trying to connect to the Java server (127.0.0.1:35979)\n",
      "Traceback (most recent call last):\n",
      "  File \"/opt/conda/lib/python3.9/site-packages/py4j/java_gateway.py\", line 977, in _get_connection\n",
      "    connection = self.deque.pop()\n",
      "IndexError: pop from an empty deque\n",
      "\n",
      "During handling of the above exception, another exception occurred:\n",
      "\n",
      "Traceback (most recent call last):\n",
      "  File \"/opt/conda/lib/python3.9/site-packages/py4j/java_gateway.py\", line 977, in _get_connection\n",
      "    connection = self.deque.pop()\n",
      "IndexError: pop from an empty deque\n",
      "\n",
      "During handling of the above exception, another exception occurred:\n",
      "\n",
      "Traceback (most recent call last):\n",
      "  File \"/opt/conda/lib/python3.9/site-packages/py4j/java_gateway.py\", line 1115, in start\n",
      "    self.socket.connect((self.address, self.port))\n",
      "ConnectionRefusedError: [Errno 111] Connection refused\n",
      "ERROR:py4j.java_gateway:An error occurred while trying to connect to the Java server (127.0.0.1:35979)\n",
      "Traceback (most recent call last):\n",
      "  File \"/opt/conda/lib/python3.9/site-packages/py4j/java_gateway.py\", line 977, in _get_connection\n",
      "    connection = self.deque.pop()\n",
      "IndexError: pop from an empty deque\n",
      "\n",
      "During handling of the above exception, another exception occurred:\n",
      "\n",
      "Traceback (most recent call last):\n",
      "  File \"/opt/conda/lib/python3.9/site-packages/py4j/java_gateway.py\", line 977, in _get_connection\n",
      "    connection = self.deque.pop()\n",
      "IndexError: pop from an empty deque\n",
      "\n",
      "During handling of the above exception, another exception occurred:\n",
      "\n",
      "Traceback (most recent call last):\n",
      "  File \"/opt/conda/lib/python3.9/site-packages/py4j/java_gateway.py\", line 1115, in start\n",
      "    self.socket.connect((self.address, self.port))\n",
      "ConnectionRefusedError: [Errno 111] Connection refused\n",
      "ERROR:py4j.java_gateway:An error occurred while trying to connect to the Java server (127.0.0.1:35979)\n",
      "Traceback (most recent call last):\n",
      "  File \"/opt/conda/lib/python3.9/site-packages/py4j/java_gateway.py\", line 977, in _get_connection\n",
      "    connection = self.deque.pop()\n",
      "IndexError: pop from an empty deque\n",
      "\n",
      "During handling of the above exception, another exception occurred:\n",
      "\n",
      "Traceback (most recent call last):\n",
      "  File \"/opt/conda/lib/python3.9/site-packages/py4j/java_gateway.py\", line 977, in _get_connection\n",
      "    connection = self.deque.pop()\n",
      "IndexError: pop from an empty deque\n",
      "\n",
      "During handling of the above exception, another exception occurred:\n",
      "\n",
      "Traceback (most recent call last):\n",
      "  File \"/opt/conda/lib/python3.9/site-packages/py4j/java_gateway.py\", line 1115, in start\n",
      "    self.socket.connect((self.address, self.port))\n",
      "ConnectionRefusedError: [Errno 111] Connection refused\n",
      "ERROR:py4j.java_gateway:An error occurred while trying to connect to the Java server (127.0.0.1:35979)\n",
      "Traceback (most recent call last):\n",
      "  File \"/opt/conda/lib/python3.9/site-packages/py4j/java_gateway.py\", line 977, in _get_connection\n",
      "    connection = self.deque.pop()\n",
      "IndexError: pop from an empty deque\n",
      "\n",
      "During handling of the above exception, another exception occurred:\n",
      "\n",
      "Traceback (most recent call last):\n",
      "  File \"/opt/conda/lib/python3.9/site-packages/py4j/java_gateway.py\", line 977, in _get_connection\n",
      "    connection = self.deque.pop()\n",
      "IndexError: pop from an empty deque\n",
      "\n",
      "During handling of the above exception, another exception occurred:\n",
      "\n",
      "Traceback (most recent call last):\n",
      "  File \"/opt/conda/lib/python3.9/site-packages/py4j/java_gateway.py\", line 1115, in start\n",
      "    self.socket.connect((self.address, self.port))\n",
      "ConnectionRefusedError: [Errno 111] Connection refused\n",
      "ERROR:py4j.java_gateway:An error occurred while trying to connect to the Java server (127.0.0.1:35979)\n",
      "Traceback (most recent call last):\n",
      "  File \"/opt/conda/lib/python3.9/site-packages/py4j/java_gateway.py\", line 977, in _get_connection\n",
      "    connection = self.deque.pop()\n",
      "IndexError: pop from an empty deque\n",
      "\n",
      "During handling of the above exception, another exception occurred:\n",
      "\n",
      "Traceback (most recent call last):\n",
      "  File \"/opt/conda/lib/python3.9/site-packages/py4j/java_gateway.py\", line 977, in _get_connection\n",
      "    connection = self.deque.pop()\n",
      "IndexError: pop from an empty deque\n",
      "\n",
      "During handling of the above exception, another exception occurred:\n",
      "\n",
      "Traceback (most recent call last):\n",
      "  File \"/opt/conda/lib/python3.9/site-packages/py4j/java_gateway.py\", line 1115, in start\n",
      "    self.socket.connect((self.address, self.port))\n",
      "ConnectionRefusedError: [Errno 111] Connection refused\n",
      "ERROR:py4j.java_gateway:An error occurred while trying to connect to the Java server (127.0.0.1:35979)\n",
      "Traceback (most recent call last):\n",
      "  File \"/opt/conda/lib/python3.9/site-packages/py4j/java_gateway.py\", line 977, in _get_connection\n",
      "    connection = self.deque.pop()\n",
      "IndexError: pop from an empty deque\n",
      "\n",
      "During handling of the above exception, another exception occurred:\n",
      "\n",
      "Traceback (most recent call last):\n",
      "  File \"/opt/conda/lib/python3.9/site-packages/py4j/java_gateway.py\", line 977, in _get_connection\n",
      "    connection = self.deque.pop()\n",
      "IndexError: pop from an empty deque\n",
      "\n",
      "During handling of the above exception, another exception occurred:\n",
      "\n",
      "Traceback (most recent call last):\n",
      "  File \"/opt/conda/lib/python3.9/site-packages/py4j/java_gateway.py\", line 1115, in start\n",
      "    self.socket.connect((self.address, self.port))\n",
      "ConnectionRefusedError: [Errno 111] Connection refused\n",
      "ERROR:py4j.java_gateway:An error occurred while trying to connect to the Java server (127.0.0.1:35979)\n",
      "Traceback (most recent call last):\n",
      "  File \"/opt/conda/lib/python3.9/site-packages/py4j/java_gateway.py\", line 977, in _get_connection\n",
      "    connection = self.deque.pop()\n",
      "IndexError: pop from an empty deque\n",
      "\n",
      "During handling of the above exception, another exception occurred:\n",
      "\n",
      "Traceback (most recent call last):\n",
      "  File \"/opt/conda/lib/python3.9/site-packages/py4j/java_gateway.py\", line 1115, in start\n",
      "    self.socket.connect((self.address, self.port))\n",
      "ConnectionRefusedError: [Errno 111] Connection refused\n",
      "ERROR:py4j.java_gateway:An error occurred while trying to connect to the Java server (127.0.0.1:35979)\n",
      "Traceback (most recent call last):\n",
      "  File \"/opt/conda/lib/python3.9/site-packages/py4j/java_gateway.py\", line 977, in _get_connection\n",
      "    connection = self.deque.pop()\n",
      "IndexError: pop from an empty deque\n",
      "\n",
      "During handling of the above exception, another exception occurred:\n",
      "\n",
      "Traceback (most recent call last):\n",
      "  File \"/opt/conda/lib/python3.9/site-packages/py4j/java_gateway.py\", line 1115, in start\n",
      "    self.socket.connect((self.address, self.port))\n",
      "ConnectionRefusedError: [Errno 111] Connection refused\n",
      "ERROR:py4j.java_gateway:An error occurred while trying to connect to the Java server (127.0.0.1:35979)\n",
      "Traceback (most recent call last):\n",
      "  File \"/opt/conda/lib/python3.9/site-packages/py4j/java_gateway.py\", line 977, in _get_connection\n",
      "    connection = self.deque.pop()\n",
      "IndexError: pop from an empty deque\n",
      "\n",
      "During handling of the above exception, another exception occurred:\n",
      "\n",
      "Traceback (most recent call last):\n",
      "  File \"/opt/conda/lib/python3.9/site-packages/py4j/java_gateway.py\", line 1115, in start\n",
      "    self.socket.connect((self.address, self.port))\n",
      "ConnectionRefusedError: [Errno 111] Connection refused\n",
      "ERROR:py4j.java_gateway:An error occurred while trying to connect to the Java server (127.0.0.1:35979)\n",
      "Traceback (most recent call last):\n",
      "  File \"/opt/conda/lib/python3.9/site-packages/py4j/java_gateway.py\", line 977, in _get_connection\n",
      "    connection = self.deque.pop()\n",
      "IndexError: pop from an empty deque\n",
      "\n",
      "During handling of the above exception, another exception occurred:\n",
      "\n",
      "Traceback (most recent call last):\n",
      "  File \"/opt/conda/lib/python3.9/site-packages/py4j/java_gateway.py\", line 1115, in start\n",
      "    self.socket.connect((self.address, self.port))\n",
      "ConnectionRefusedError: [Errno 111] Connection refused\n"
     ]
    },
    {
     "ename": "Py4JError",
     "evalue": "An error occurred while calling o329.fit",
     "output_type": "error",
     "traceback": [
      "\u001b[0;31m---------------------------------------------------------------------------\u001b[0m",
      "\u001b[0;31mPy4JError\u001b[0m                                 Traceback (most recent call last)",
      "\u001b[0;32m/tmp/ipykernel_838/1699187485.py\u001b[0m in \u001b[0;36m<module>\u001b[0;34m\u001b[0m\n\u001b[0;32m----> 1\u001b[0;31m \u001b[0mcv_model\u001b[0m \u001b[0;34m=\u001b[0m \u001b[0mcv\u001b[0m\u001b[0;34m.\u001b[0m\u001b[0mfit\u001b[0m\u001b[0;34m(\u001b[0m\u001b[0mtrain\u001b[0m\u001b[0;34m)\u001b[0m\u001b[0;34m\u001b[0m\u001b[0;34m\u001b[0m\u001b[0m\n\u001b[0m",
      "\u001b[0;32m/opt/conda/lib/python3.9/site-packages/pyspark/ml/base.py\u001b[0m in \u001b[0;36mfit\u001b[0;34m(self, dataset, params)\u001b[0m\n\u001b[1;32m    127\u001b[0m                 \u001b[0;32mreturn\u001b[0m \u001b[0mself\u001b[0m\u001b[0;34m.\u001b[0m\u001b[0mcopy\u001b[0m\u001b[0;34m(\u001b[0m\u001b[0mparams\u001b[0m\u001b[0;34m)\u001b[0m\u001b[0;34m.\u001b[0m\u001b[0m_fit\u001b[0m\u001b[0;34m(\u001b[0m\u001b[0mdataset\u001b[0m\u001b[0;34m)\u001b[0m\u001b[0;34m\u001b[0m\u001b[0;34m\u001b[0m\u001b[0m\n\u001b[1;32m    128\u001b[0m             \u001b[0;32melse\u001b[0m\u001b[0;34m:\u001b[0m\u001b[0;34m\u001b[0m\u001b[0;34m\u001b[0m\u001b[0m\n\u001b[0;32m--> 129\u001b[0;31m                 \u001b[0;32mreturn\u001b[0m \u001b[0mself\u001b[0m\u001b[0;34m.\u001b[0m\u001b[0m_fit\u001b[0m\u001b[0;34m(\u001b[0m\u001b[0mdataset\u001b[0m\u001b[0;34m)\u001b[0m\u001b[0;34m\u001b[0m\u001b[0;34m\u001b[0m\u001b[0m\n\u001b[0m\u001b[1;32m    130\u001b[0m         \u001b[0;32melse\u001b[0m\u001b[0;34m:\u001b[0m\u001b[0;34m\u001b[0m\u001b[0;34m\u001b[0m\u001b[0m\n\u001b[1;32m    131\u001b[0m             raise ValueError(\"Params must be either a param map or a list/tuple of param maps, \"\n",
      "\u001b[0;32m/opt/conda/lib/python3.9/site-packages/pyspark/ml/tuning.py\u001b[0m in \u001b[0;36m_fit\u001b[0;34m(self, dataset)\u001b[0m\n\u001b[1;32m    434\u001b[0m \u001b[0;34m\u001b[0m\u001b[0m\n\u001b[1;32m    435\u001b[0m             \u001b[0mtasks\u001b[0m \u001b[0;34m=\u001b[0m \u001b[0m_parallelFitTasks\u001b[0m\u001b[0;34m(\u001b[0m\u001b[0mest\u001b[0m\u001b[0;34m,\u001b[0m \u001b[0mtrain\u001b[0m\u001b[0;34m,\u001b[0m \u001b[0meva\u001b[0m\u001b[0;34m,\u001b[0m \u001b[0mvalidation\u001b[0m\u001b[0;34m,\u001b[0m \u001b[0mepm\u001b[0m\u001b[0;34m,\u001b[0m \u001b[0mcollectSubModelsParam\u001b[0m\u001b[0;34m)\u001b[0m\u001b[0;34m\u001b[0m\u001b[0;34m\u001b[0m\u001b[0m\n\u001b[0;32m--> 436\u001b[0;31m             \u001b[0;32mfor\u001b[0m \u001b[0mj\u001b[0m\u001b[0;34m,\u001b[0m \u001b[0mmetric\u001b[0m\u001b[0;34m,\u001b[0m \u001b[0msubModel\u001b[0m \u001b[0;32min\u001b[0m \u001b[0mpool\u001b[0m\u001b[0;34m.\u001b[0m\u001b[0mimap_unordered\u001b[0m\u001b[0;34m(\u001b[0m\u001b[0;32mlambda\u001b[0m \u001b[0mf\u001b[0m\u001b[0;34m:\u001b[0m \u001b[0mf\u001b[0m\u001b[0;34m(\u001b[0m\u001b[0;34m)\u001b[0m\u001b[0;34m,\u001b[0m \u001b[0mtasks\u001b[0m\u001b[0;34m)\u001b[0m\u001b[0;34m:\u001b[0m\u001b[0;34m\u001b[0m\u001b[0;34m\u001b[0m\u001b[0m\n\u001b[0m\u001b[1;32m    437\u001b[0m                 \u001b[0mmetrics\u001b[0m\u001b[0;34m[\u001b[0m\u001b[0mj\u001b[0m\u001b[0;34m]\u001b[0m \u001b[0;34m+=\u001b[0m \u001b[0;34m(\u001b[0m\u001b[0mmetric\u001b[0m \u001b[0;34m/\u001b[0m \u001b[0mnFolds\u001b[0m\u001b[0;34m)\u001b[0m\u001b[0;34m\u001b[0m\u001b[0;34m\u001b[0m\u001b[0m\n\u001b[1;32m    438\u001b[0m                 \u001b[0;32mif\u001b[0m \u001b[0mcollectSubModelsParam\u001b[0m\u001b[0;34m:\u001b[0m\u001b[0;34m\u001b[0m\u001b[0;34m\u001b[0m\u001b[0m\n",
      "\u001b[0;32m/opt/conda/lib/python3.9/multiprocessing/pool.py\u001b[0m in \u001b[0;36mnext\u001b[0;34m(self, timeout)\u001b[0m\n\u001b[1;32m    868\u001b[0m         \u001b[0;32mif\u001b[0m \u001b[0msuccess\u001b[0m\u001b[0;34m:\u001b[0m\u001b[0;34m\u001b[0m\u001b[0;34m\u001b[0m\u001b[0m\n\u001b[1;32m    869\u001b[0m             \u001b[0;32mreturn\u001b[0m \u001b[0mvalue\u001b[0m\u001b[0;34m\u001b[0m\u001b[0;34m\u001b[0m\u001b[0m\n\u001b[0;32m--> 870\u001b[0;31m         \u001b[0;32mraise\u001b[0m \u001b[0mvalue\u001b[0m\u001b[0;34m\u001b[0m\u001b[0;34m\u001b[0m\u001b[0m\n\u001b[0m\u001b[1;32m    871\u001b[0m \u001b[0;34m\u001b[0m\u001b[0m\n\u001b[1;32m    872\u001b[0m     \u001b[0m__next__\u001b[0m \u001b[0;34m=\u001b[0m \u001b[0mnext\u001b[0m                    \u001b[0;31m# XXX\u001b[0m\u001b[0;34m\u001b[0m\u001b[0;34m\u001b[0m\u001b[0m\n",
      "\u001b[0;32m/opt/conda/lib/python3.9/multiprocessing/pool.py\u001b[0m in \u001b[0;36mworker\u001b[0;34m(inqueue, outqueue, initializer, initargs, maxtasks, wrap_exception)\u001b[0m\n\u001b[1;32m    123\u001b[0m         \u001b[0mjob\u001b[0m\u001b[0;34m,\u001b[0m \u001b[0mi\u001b[0m\u001b[0;34m,\u001b[0m \u001b[0mfunc\u001b[0m\u001b[0;34m,\u001b[0m \u001b[0margs\u001b[0m\u001b[0;34m,\u001b[0m \u001b[0mkwds\u001b[0m \u001b[0;34m=\u001b[0m \u001b[0mtask\u001b[0m\u001b[0;34m\u001b[0m\u001b[0;34m\u001b[0m\u001b[0m\n\u001b[1;32m    124\u001b[0m         \u001b[0;32mtry\u001b[0m\u001b[0;34m:\u001b[0m\u001b[0;34m\u001b[0m\u001b[0;34m\u001b[0m\u001b[0m\n\u001b[0;32m--> 125\u001b[0;31m             \u001b[0mresult\u001b[0m \u001b[0;34m=\u001b[0m \u001b[0;34m(\u001b[0m\u001b[0;32mTrue\u001b[0m\u001b[0;34m,\u001b[0m \u001b[0mfunc\u001b[0m\u001b[0;34m(\u001b[0m\u001b[0;34m*\u001b[0m\u001b[0margs\u001b[0m\u001b[0;34m,\u001b[0m \u001b[0;34m**\u001b[0m\u001b[0mkwds\u001b[0m\u001b[0;34m)\u001b[0m\u001b[0;34m)\u001b[0m\u001b[0;34m\u001b[0m\u001b[0;34m\u001b[0m\u001b[0m\n\u001b[0m\u001b[1;32m    126\u001b[0m         \u001b[0;32mexcept\u001b[0m \u001b[0mException\u001b[0m \u001b[0;32mas\u001b[0m \u001b[0me\u001b[0m\u001b[0;34m:\u001b[0m\u001b[0;34m\u001b[0m\u001b[0;34m\u001b[0m\u001b[0m\n\u001b[1;32m    127\u001b[0m             \u001b[0;32mif\u001b[0m \u001b[0mwrap_exception\u001b[0m \u001b[0;32mand\u001b[0m \u001b[0mfunc\u001b[0m \u001b[0;32mis\u001b[0m \u001b[0;32mnot\u001b[0m \u001b[0m_helper_reraises_exception\u001b[0m\u001b[0;34m:\u001b[0m\u001b[0;34m\u001b[0m\u001b[0;34m\u001b[0m\u001b[0m\n",
      "\u001b[0;32m/opt/conda/lib/python3.9/site-packages/pyspark/ml/tuning.py\u001b[0m in \u001b[0;36m<lambda>\u001b[0;34m(f)\u001b[0m\n\u001b[1;32m    434\u001b[0m \u001b[0;34m\u001b[0m\u001b[0m\n\u001b[1;32m    435\u001b[0m             \u001b[0mtasks\u001b[0m \u001b[0;34m=\u001b[0m \u001b[0m_parallelFitTasks\u001b[0m\u001b[0;34m(\u001b[0m\u001b[0mest\u001b[0m\u001b[0;34m,\u001b[0m \u001b[0mtrain\u001b[0m\u001b[0;34m,\u001b[0m \u001b[0meva\u001b[0m\u001b[0;34m,\u001b[0m \u001b[0mvalidation\u001b[0m\u001b[0;34m,\u001b[0m \u001b[0mepm\u001b[0m\u001b[0;34m,\u001b[0m \u001b[0mcollectSubModelsParam\u001b[0m\u001b[0;34m)\u001b[0m\u001b[0;34m\u001b[0m\u001b[0;34m\u001b[0m\u001b[0m\n\u001b[0;32m--> 436\u001b[0;31m             \u001b[0;32mfor\u001b[0m \u001b[0mj\u001b[0m\u001b[0;34m,\u001b[0m \u001b[0mmetric\u001b[0m\u001b[0;34m,\u001b[0m \u001b[0msubModel\u001b[0m \u001b[0;32min\u001b[0m \u001b[0mpool\u001b[0m\u001b[0;34m.\u001b[0m\u001b[0mimap_unordered\u001b[0m\u001b[0;34m(\u001b[0m\u001b[0;32mlambda\u001b[0m \u001b[0mf\u001b[0m\u001b[0;34m:\u001b[0m \u001b[0mf\u001b[0m\u001b[0;34m(\u001b[0m\u001b[0;34m)\u001b[0m\u001b[0;34m,\u001b[0m \u001b[0mtasks\u001b[0m\u001b[0;34m)\u001b[0m\u001b[0;34m:\u001b[0m\u001b[0;34m\u001b[0m\u001b[0;34m\u001b[0m\u001b[0m\n\u001b[0m\u001b[1;32m    437\u001b[0m                 \u001b[0mmetrics\u001b[0m\u001b[0;34m[\u001b[0m\u001b[0mj\u001b[0m\u001b[0;34m]\u001b[0m \u001b[0;34m+=\u001b[0m \u001b[0;34m(\u001b[0m\u001b[0mmetric\u001b[0m \u001b[0;34m/\u001b[0m \u001b[0mnFolds\u001b[0m\u001b[0;34m)\u001b[0m\u001b[0;34m\u001b[0m\u001b[0;34m\u001b[0m\u001b[0m\n\u001b[1;32m    438\u001b[0m                 \u001b[0;32mif\u001b[0m \u001b[0mcollectSubModelsParam\u001b[0m\u001b[0;34m:\u001b[0m\u001b[0;34m\u001b[0m\u001b[0;34m\u001b[0m\u001b[0m\n",
      "\u001b[0;32m/opt/conda/lib/python3.9/site-packages/pyspark/ml/tuning.py\u001b[0m in \u001b[0;36msingleTask\u001b[0;34m()\u001b[0m\n\u001b[1;32m     51\u001b[0m \u001b[0;34m\u001b[0m\u001b[0m\n\u001b[1;32m     52\u001b[0m     \u001b[0;32mdef\u001b[0m \u001b[0msingleTask\u001b[0m\u001b[0;34m(\u001b[0m\u001b[0;34m)\u001b[0m\u001b[0;34m:\u001b[0m\u001b[0;34m\u001b[0m\u001b[0;34m\u001b[0m\u001b[0m\n\u001b[0;32m---> 53\u001b[0;31m         \u001b[0mindex\u001b[0m\u001b[0;34m,\u001b[0m \u001b[0mmodel\u001b[0m \u001b[0;34m=\u001b[0m \u001b[0mnext\u001b[0m\u001b[0;34m(\u001b[0m\u001b[0mmodelIter\u001b[0m\u001b[0;34m)\u001b[0m\u001b[0;34m\u001b[0m\u001b[0;34m\u001b[0m\u001b[0m\n\u001b[0m\u001b[1;32m     54\u001b[0m         \u001b[0;31m# TODO: duplicate evaluator to take extra params from input\u001b[0m\u001b[0;34m\u001b[0m\u001b[0;34m\u001b[0m\u001b[0;34m\u001b[0m\u001b[0m\n\u001b[1;32m     55\u001b[0m         \u001b[0;31m#  Note: Supporting tuning params in evaluator need update method\u001b[0m\u001b[0;34m\u001b[0m\u001b[0;34m\u001b[0m\u001b[0;34m\u001b[0m\u001b[0m\n",
      "\u001b[0;32m/opt/conda/lib/python3.9/site-packages/pyspark/ml/base.py\u001b[0m in \u001b[0;36m__next__\u001b[0;34m(self)\u001b[0m\n\u001b[1;32m     60\u001b[0m                 \u001b[0;32mraise\u001b[0m \u001b[0mStopIteration\u001b[0m\u001b[0;34m(\u001b[0m\u001b[0;34m\"No models remaining.\"\u001b[0m\u001b[0;34m)\u001b[0m\u001b[0;34m\u001b[0m\u001b[0;34m\u001b[0m\u001b[0m\n\u001b[1;32m     61\u001b[0m             \u001b[0mself\u001b[0m\u001b[0;34m.\u001b[0m\u001b[0mcounter\u001b[0m \u001b[0;34m+=\u001b[0m \u001b[0;36m1\u001b[0m\u001b[0;34m\u001b[0m\u001b[0;34m\u001b[0m\u001b[0m\n\u001b[0;32m---> 62\u001b[0;31m         \u001b[0;32mreturn\u001b[0m \u001b[0mindex\u001b[0m\u001b[0;34m,\u001b[0m \u001b[0mself\u001b[0m\u001b[0;34m.\u001b[0m\u001b[0mfitSingleModel\u001b[0m\u001b[0;34m(\u001b[0m\u001b[0mindex\u001b[0m\u001b[0;34m)\u001b[0m\u001b[0;34m\u001b[0m\u001b[0;34m\u001b[0m\u001b[0m\n\u001b[0m\u001b[1;32m     63\u001b[0m \u001b[0;34m\u001b[0m\u001b[0m\n\u001b[1;32m     64\u001b[0m     \u001b[0;32mdef\u001b[0m \u001b[0mnext\u001b[0m\u001b[0;34m(\u001b[0m\u001b[0mself\u001b[0m\u001b[0;34m)\u001b[0m\u001b[0;34m:\u001b[0m\u001b[0;34m\u001b[0m\u001b[0;34m\u001b[0m\u001b[0m\n",
      "\u001b[0;32m/opt/conda/lib/python3.9/site-packages/pyspark/ml/base.py\u001b[0m in \u001b[0;36mfitSingleModel\u001b[0;34m(index)\u001b[0m\n\u001b[1;32m    101\u001b[0m \u001b[0;34m\u001b[0m\u001b[0m\n\u001b[1;32m    102\u001b[0m         \u001b[0;32mdef\u001b[0m \u001b[0mfitSingleModel\u001b[0m\u001b[0;34m(\u001b[0m\u001b[0mindex\u001b[0m\u001b[0;34m)\u001b[0m\u001b[0;34m:\u001b[0m\u001b[0;34m\u001b[0m\u001b[0;34m\u001b[0m\u001b[0m\n\u001b[0;32m--> 103\u001b[0;31m             \u001b[0;32mreturn\u001b[0m \u001b[0mestimator\u001b[0m\u001b[0;34m.\u001b[0m\u001b[0mfit\u001b[0m\u001b[0;34m(\u001b[0m\u001b[0mdataset\u001b[0m\u001b[0;34m,\u001b[0m \u001b[0mparamMaps\u001b[0m\u001b[0;34m[\u001b[0m\u001b[0mindex\u001b[0m\u001b[0;34m]\u001b[0m\u001b[0;34m)\u001b[0m\u001b[0;34m\u001b[0m\u001b[0;34m\u001b[0m\u001b[0m\n\u001b[0m\u001b[1;32m    104\u001b[0m \u001b[0;34m\u001b[0m\u001b[0m\n\u001b[1;32m    105\u001b[0m         \u001b[0;32mreturn\u001b[0m \u001b[0m_FitMultipleIterator\u001b[0m\u001b[0;34m(\u001b[0m\u001b[0mfitSingleModel\u001b[0m\u001b[0;34m,\u001b[0m \u001b[0mlen\u001b[0m\u001b[0;34m(\u001b[0m\u001b[0mparamMaps\u001b[0m\u001b[0;34m)\u001b[0m\u001b[0;34m)\u001b[0m\u001b[0;34m\u001b[0m\u001b[0;34m\u001b[0m\u001b[0m\n",
      "\u001b[0;32m/opt/conda/lib/python3.9/site-packages/pyspark/ml/base.py\u001b[0m in \u001b[0;36mfit\u001b[0;34m(self, dataset, params)\u001b[0m\n\u001b[1;32m    125\u001b[0m         \u001b[0;32melif\u001b[0m \u001b[0misinstance\u001b[0m\u001b[0;34m(\u001b[0m\u001b[0mparams\u001b[0m\u001b[0;34m,\u001b[0m \u001b[0mdict\u001b[0m\u001b[0;34m)\u001b[0m\u001b[0;34m:\u001b[0m\u001b[0;34m\u001b[0m\u001b[0;34m\u001b[0m\u001b[0m\n\u001b[1;32m    126\u001b[0m             \u001b[0;32mif\u001b[0m \u001b[0mparams\u001b[0m\u001b[0;34m:\u001b[0m\u001b[0;34m\u001b[0m\u001b[0;34m\u001b[0m\u001b[0m\n\u001b[0;32m--> 127\u001b[0;31m                 \u001b[0;32mreturn\u001b[0m \u001b[0mself\u001b[0m\u001b[0;34m.\u001b[0m\u001b[0mcopy\u001b[0m\u001b[0;34m(\u001b[0m\u001b[0mparams\u001b[0m\u001b[0;34m)\u001b[0m\u001b[0;34m.\u001b[0m\u001b[0m_fit\u001b[0m\u001b[0;34m(\u001b[0m\u001b[0mdataset\u001b[0m\u001b[0;34m)\u001b[0m\u001b[0;34m\u001b[0m\u001b[0;34m\u001b[0m\u001b[0m\n\u001b[0m\u001b[1;32m    128\u001b[0m             \u001b[0;32melse\u001b[0m\u001b[0;34m:\u001b[0m\u001b[0;34m\u001b[0m\u001b[0;34m\u001b[0m\u001b[0m\n\u001b[1;32m    129\u001b[0m                 \u001b[0;32mreturn\u001b[0m \u001b[0mself\u001b[0m\u001b[0;34m.\u001b[0m\u001b[0m_fit\u001b[0m\u001b[0;34m(\u001b[0m\u001b[0mdataset\u001b[0m\u001b[0;34m)\u001b[0m\u001b[0;34m\u001b[0m\u001b[0;34m\u001b[0m\u001b[0m\n",
      "\u001b[0;32m/opt/conda/lib/python3.9/site-packages/pyspark/ml/wrapper.py\u001b[0m in \u001b[0;36m_fit\u001b[0;34m(self, dataset)\u001b[0m\n\u001b[1;32m    319\u001b[0m \u001b[0;34m\u001b[0m\u001b[0m\n\u001b[1;32m    320\u001b[0m     \u001b[0;32mdef\u001b[0m \u001b[0m_fit\u001b[0m\u001b[0;34m(\u001b[0m\u001b[0mself\u001b[0m\u001b[0;34m,\u001b[0m \u001b[0mdataset\u001b[0m\u001b[0;34m)\u001b[0m\u001b[0;34m:\u001b[0m\u001b[0;34m\u001b[0m\u001b[0;34m\u001b[0m\u001b[0m\n\u001b[0;32m--> 321\u001b[0;31m         \u001b[0mjava_model\u001b[0m \u001b[0;34m=\u001b[0m \u001b[0mself\u001b[0m\u001b[0;34m.\u001b[0m\u001b[0m_fit_java\u001b[0m\u001b[0;34m(\u001b[0m\u001b[0mdataset\u001b[0m\u001b[0;34m)\u001b[0m\u001b[0;34m\u001b[0m\u001b[0;34m\u001b[0m\u001b[0m\n\u001b[0m\u001b[1;32m    322\u001b[0m         \u001b[0mmodel\u001b[0m \u001b[0;34m=\u001b[0m \u001b[0mself\u001b[0m\u001b[0;34m.\u001b[0m\u001b[0m_create_model\u001b[0m\u001b[0;34m(\u001b[0m\u001b[0mjava_model\u001b[0m\u001b[0;34m)\u001b[0m\u001b[0;34m\u001b[0m\u001b[0;34m\u001b[0m\u001b[0m\n\u001b[1;32m    323\u001b[0m         \u001b[0;32mreturn\u001b[0m \u001b[0mself\u001b[0m\u001b[0;34m.\u001b[0m\u001b[0m_copyValues\u001b[0m\u001b[0;34m(\u001b[0m\u001b[0mmodel\u001b[0m\u001b[0;34m)\u001b[0m\u001b[0;34m\u001b[0m\u001b[0;34m\u001b[0m\u001b[0m\n",
      "\u001b[0;32m/opt/conda/lib/python3.9/site-packages/pyspark/ml/wrapper.py\u001b[0m in \u001b[0;36m_fit_java\u001b[0;34m(self, dataset)\u001b[0m\n\u001b[1;32m    316\u001b[0m         \"\"\"\n\u001b[1;32m    317\u001b[0m         \u001b[0mself\u001b[0m\u001b[0;34m.\u001b[0m\u001b[0m_transfer_params_to_java\u001b[0m\u001b[0;34m(\u001b[0m\u001b[0;34m)\u001b[0m\u001b[0;34m\u001b[0m\u001b[0;34m\u001b[0m\u001b[0m\n\u001b[0;32m--> 318\u001b[0;31m         \u001b[0;32mreturn\u001b[0m \u001b[0mself\u001b[0m\u001b[0;34m.\u001b[0m\u001b[0m_java_obj\u001b[0m\u001b[0;34m.\u001b[0m\u001b[0mfit\u001b[0m\u001b[0;34m(\u001b[0m\u001b[0mdataset\u001b[0m\u001b[0;34m.\u001b[0m\u001b[0m_jdf\u001b[0m\u001b[0;34m)\u001b[0m\u001b[0;34m\u001b[0m\u001b[0;34m\u001b[0m\u001b[0m\n\u001b[0m\u001b[1;32m    319\u001b[0m \u001b[0;34m\u001b[0m\u001b[0m\n\u001b[1;32m    320\u001b[0m     \u001b[0;32mdef\u001b[0m \u001b[0m_fit\u001b[0m\u001b[0;34m(\u001b[0m\u001b[0mself\u001b[0m\u001b[0;34m,\u001b[0m \u001b[0mdataset\u001b[0m\u001b[0;34m)\u001b[0m\u001b[0;34m:\u001b[0m\u001b[0;34m\u001b[0m\u001b[0;34m\u001b[0m\u001b[0m\n",
      "\u001b[0;32m/opt/conda/lib/python3.9/site-packages/py4j/java_gateway.py\u001b[0m in \u001b[0;36m__call__\u001b[0;34m(self, *args)\u001b[0m\n\u001b[1;32m   1302\u001b[0m \u001b[0;34m\u001b[0m\u001b[0m\n\u001b[1;32m   1303\u001b[0m         \u001b[0manswer\u001b[0m \u001b[0;34m=\u001b[0m \u001b[0mself\u001b[0m\u001b[0;34m.\u001b[0m\u001b[0mgateway_client\u001b[0m\u001b[0;34m.\u001b[0m\u001b[0msend_command\u001b[0m\u001b[0;34m(\u001b[0m\u001b[0mcommand\u001b[0m\u001b[0;34m)\u001b[0m\u001b[0;34m\u001b[0m\u001b[0;34m\u001b[0m\u001b[0m\n\u001b[0;32m-> 1304\u001b[0;31m         return_value = get_return_value(\n\u001b[0m\u001b[1;32m   1305\u001b[0m             answer, self.gateway_client, self.target_id, self.name)\n\u001b[1;32m   1306\u001b[0m \u001b[0;34m\u001b[0m\u001b[0m\n",
      "\u001b[0;32m/opt/conda/lib/python3.9/site-packages/pyspark/sql/utils.py\u001b[0m in \u001b[0;36mdeco\u001b[0;34m(*a, **kw)\u001b[0m\n\u001b[1;32m    126\u001b[0m     \u001b[0;32mdef\u001b[0m \u001b[0mdeco\u001b[0m\u001b[0;34m(\u001b[0m\u001b[0;34m*\u001b[0m\u001b[0ma\u001b[0m\u001b[0;34m,\u001b[0m \u001b[0;34m**\u001b[0m\u001b[0mkw\u001b[0m\u001b[0;34m)\u001b[0m\u001b[0;34m:\u001b[0m\u001b[0;34m\u001b[0m\u001b[0;34m\u001b[0m\u001b[0m\n\u001b[1;32m    127\u001b[0m         \u001b[0;32mtry\u001b[0m\u001b[0;34m:\u001b[0m\u001b[0;34m\u001b[0m\u001b[0;34m\u001b[0m\u001b[0m\n\u001b[0;32m--> 128\u001b[0;31m             \u001b[0;32mreturn\u001b[0m \u001b[0mf\u001b[0m\u001b[0;34m(\u001b[0m\u001b[0;34m*\u001b[0m\u001b[0ma\u001b[0m\u001b[0;34m,\u001b[0m \u001b[0;34m**\u001b[0m\u001b[0mkw\u001b[0m\u001b[0;34m)\u001b[0m\u001b[0;34m\u001b[0m\u001b[0;34m\u001b[0m\u001b[0m\n\u001b[0m\u001b[1;32m    129\u001b[0m         \u001b[0;32mexcept\u001b[0m \u001b[0mpy4j\u001b[0m\u001b[0;34m.\u001b[0m\u001b[0mprotocol\u001b[0m\u001b[0;34m.\u001b[0m\u001b[0mPy4JJavaError\u001b[0m \u001b[0;32mas\u001b[0m \u001b[0me\u001b[0m\u001b[0;34m:\u001b[0m\u001b[0;34m\u001b[0m\u001b[0;34m\u001b[0m\u001b[0m\n\u001b[1;32m    130\u001b[0m             \u001b[0mconverted\u001b[0m \u001b[0;34m=\u001b[0m \u001b[0mconvert_exception\u001b[0m\u001b[0;34m(\u001b[0m\u001b[0me\u001b[0m\u001b[0;34m.\u001b[0m\u001b[0mjava_exception\u001b[0m\u001b[0;34m)\u001b[0m\u001b[0;34m\u001b[0m\u001b[0;34m\u001b[0m\u001b[0m\n",
      "\u001b[0;32m/opt/conda/lib/python3.9/site-packages/py4j/protocol.py\u001b[0m in \u001b[0;36mget_return_value\u001b[0;34m(answer, gateway_client, target_id, name)\u001b[0m\n\u001b[1;32m    332\u001b[0m                     format(target_id, \".\", name, value))\n\u001b[1;32m    333\u001b[0m         \u001b[0;32melse\u001b[0m\u001b[0;34m:\u001b[0m\u001b[0;34m\u001b[0m\u001b[0;34m\u001b[0m\u001b[0m\n\u001b[0;32m--> 334\u001b[0;31m             raise Py4JError(\n\u001b[0m\u001b[1;32m    335\u001b[0m                 \u001b[0;34m\"An error occurred while calling {0}{1}{2}\"\u001b[0m\u001b[0;34m.\u001b[0m\u001b[0;34m\u001b[0m\u001b[0;34m\u001b[0m\u001b[0m\n\u001b[1;32m    336\u001b[0m                 format(target_id, \".\", name))\n",
      "\u001b[0;31mPy4JError\u001b[0m: An error occurred while calling o329.fit"
     ]
    }
   ],
   "source": [
    "cv_model = cv.fit(train)"
   ]
  },
  {
   "cell_type": "code",
   "execution_count": null,
   "id": "b92ecf68",
   "metadata": {},
   "outputs": [],
   "source": [
    "lr_model = lr.fit(train)"
   ]
  },
  {
   "cell_type": "markdown",
   "id": "bf96bec9",
   "metadata": {},
   "source": [
    "### Результаты кросс-валидации"
   ]
  },
  {
   "cell_type": "code",
   "execution_count": null,
   "id": "2b848565",
   "metadata": {},
   "outputs": [],
   "source": [
    "cv_model.bestModel.summary.meanAbsoluteError"
   ]
  },
  {
   "cell_type": "markdown",
   "id": "757fd103",
   "metadata": {
    "id": "757fd103"
   },
   "source": [
    "## Анализ результатов"
   ]
  },
  {
   "cell_type": "code",
   "execution_count": null,
   "id": "5891445c",
   "metadata": {},
   "outputs": [],
   "source": []
  }
 ],
 "metadata": {
  "ExecuteTimeLog": [
   {
    "duration": 92,
    "start_time": "2023-09-25T08:53:21.322Z"
   },
   {
    "duration": 97,
    "start_time": "2023-09-25T08:56:26.944Z"
   },
   {
    "duration": 84,
    "start_time": "2023-09-25T08:56:58.106Z"
   },
   {
    "duration": 22555,
    "start_time": "2023-09-25T08:57:28.706Z"
   },
   {
    "duration": 10941,
    "start_time": "2023-09-25T09:03:01.830Z"
   },
   {
    "duration": 729,
    "start_time": "2023-09-25T09:03:50.620Z"
   },
   {
    "duration": 1656,
    "start_time": "2023-09-25T09:18:00.538Z"
   },
   {
    "duration": 86,
    "start_time": "2023-09-25T09:18:50.553Z"
   },
   {
    "duration": 3,
    "start_time": "2023-09-25T09:30:13.555Z"
   },
   {
    "duration": 65,
    "start_time": "2023-09-25T09:32:39.093Z"
   },
   {
    "duration": 2,
    "start_time": "2023-09-25T09:32:54.761Z"
   },
   {
    "duration": 10,
    "start_time": "2023-09-25T09:32:58.536Z"
   },
   {
    "duration": 8,
    "start_time": "2023-09-25T09:33:05.856Z"
   },
   {
    "duration": 23,
    "start_time": "2023-09-25T09:33:40.584Z"
   },
   {
    "duration": 192,
    "start_time": "2023-09-25T09:33:44.483Z"
   },
   {
    "duration": 31,
    "start_time": "2023-09-25T09:34:09.620Z"
   },
   {
    "duration": 15,
    "start_time": "2023-09-25T09:36:42.694Z"
   },
   {
    "duration": 5826,
    "start_time": "2023-09-25T09:36:49.666Z"
   },
   {
    "duration": 3399,
    "start_time": "2023-09-25T09:38:03.960Z"
   },
   {
    "duration": 2886,
    "start_time": "2023-09-25T09:38:23.271Z"
   },
   {
    "duration": 2679,
    "start_time": "2023-09-25T09:41:01.029Z"
   },
   {
    "duration": 2368,
    "start_time": "2023-09-25T09:41:11.836Z"
   },
   {
    "duration": 1885,
    "start_time": "2023-09-25T09:41:21.387Z"
   },
   {
    "duration": 8,
    "start_time": "2023-09-25T09:44:47.482Z"
   },
   {
    "duration": 8,
    "start_time": "2023-09-25T09:44:55.469Z"
   },
   {
    "duration": 82,
    "start_time": "2023-09-25T09:45:07.427Z"
   },
   {
    "duration": 3009,
    "start_time": "2023-09-25T09:45:12.739Z"
   },
   {
    "duration": 14,
    "start_time": "2023-09-25T09:45:56.259Z"
   },
   {
    "duration": 1564,
    "start_time": "2023-09-25T09:47:21.686Z"
   },
   {
    "duration": 9,
    "start_time": "2023-09-25T09:48:32.193Z"
   },
   {
    "duration": 1437,
    "start_time": "2023-09-25T09:48:42.453Z"
   },
   {
    "duration": 1628,
    "start_time": "2023-09-25T09:48:57.550Z"
   },
   {
    "duration": 1786,
    "start_time": "2023-09-25T09:50:14.497Z"
   },
   {
    "duration": 669,
    "start_time": "2023-09-25T09:55:53.376Z"
   },
   {
    "duration": 1594,
    "start_time": "2023-09-25T09:56:26.830Z"
   },
   {
    "duration": 1380,
    "start_time": "2023-09-25T09:57:08.231Z"
   },
   {
    "duration": 1457,
    "start_time": "2023-09-25T09:57:22.978Z"
   },
   {
    "duration": 17,
    "start_time": "2023-09-25T09:58:03.682Z"
   },
   {
    "duration": 245,
    "start_time": "2023-09-25T09:58:46.822Z"
   },
   {
    "duration": 8,
    "start_time": "2023-09-25T10:05:59.876Z"
   },
   {
    "duration": 372,
    "start_time": "2023-09-25T10:06:04.302Z"
   },
   {
    "duration": 122,
    "start_time": "2023-09-25T10:06:07.220Z"
   },
   {
    "duration": 4,
    "start_time": "2023-09-25T10:06:24.336Z"
   },
   {
    "duration": 4,
    "start_time": "2023-09-25T10:06:36.432Z"
   },
   {
    "duration": 147,
    "start_time": "2023-09-25T10:06:52.496Z"
   },
   {
    "duration": 4,
    "start_time": "2023-09-25T10:07:23.591Z"
   },
   {
    "duration": 5,
    "start_time": "2023-09-25T10:07:24.271Z"
   },
   {
    "duration": 162,
    "start_time": "2023-09-25T10:07:25.098Z"
   },
   {
    "duration": 6,
    "start_time": "2023-09-25T10:08:09.216Z"
   },
   {
    "duration": 8,
    "start_time": "2023-09-25T10:08:09.643Z"
   },
   {
    "duration": 5,
    "start_time": "2023-09-25T10:08:10.072Z"
   },
   {
    "duration": 151,
    "start_time": "2023-09-25T10:08:10.545Z"
   },
   {
    "duration": 3,
    "start_time": "2023-09-25T10:10:34.139Z"
   },
   {
    "duration": 2116,
    "start_time": "2023-09-25T10:12:01.211Z"
   },
   {
    "duration": 585,
    "start_time": "2023-09-25T10:14:15.306Z"
   },
   {
    "duration": 466,
    "start_time": "2023-09-25T10:16:24.453Z"
   },
   {
    "duration": 200,
    "start_time": "2023-09-25T10:16:40.230Z"
   },
   {
    "duration": 8,
    "start_time": "2023-09-25T10:19:28.728Z"
   },
   {
    "duration": 8,
    "start_time": "2023-09-25T10:20:33.042Z"
   },
   {
    "duration": 165,
    "start_time": "2023-09-25T10:20:44.428Z"
   },
   {
    "duration": 376,
    "start_time": "2023-09-25T10:21:03.042Z"
   },
   {
    "duration": 190,
    "start_time": "2023-09-25T10:21:11.461Z"
   },
   {
    "duration": 410,
    "start_time": "2023-09-25T10:21:14.569Z"
   },
   {
    "duration": 232,
    "start_time": "2023-09-25T10:21:35.787Z"
   },
   {
    "duration": 567,
    "start_time": "2023-09-25T10:22:35.924Z"
   },
   {
    "duration": 181,
    "start_time": "2023-09-25T10:22:46.638Z"
   },
   {
    "duration": 11,
    "start_time": "2023-09-25T10:23:30.304Z"
   },
   {
    "duration": 526,
    "start_time": "2023-09-25T10:23:44.762Z"
   },
   {
    "duration": 503,
    "start_time": "2023-09-25T10:23:47.990Z"
   },
   {
    "duration": 227,
    "start_time": "2023-09-25T10:23:57.329Z"
   },
   {
    "duration": 294,
    "start_time": "2023-09-25T10:24:07.286Z"
   },
   {
    "duration": 180,
    "start_time": "2023-09-25T10:24:17.169Z"
   },
   {
    "duration": 481,
    "start_time": "2023-09-25T10:25:07.372Z"
   },
   {
    "duration": 148,
    "start_time": "2023-09-25T10:42:21.785Z"
   },
   {
    "duration": 136,
    "start_time": "2023-09-25T10:42:23.077Z"
   },
   {
    "duration": 137,
    "start_time": "2023-09-25T10:43:46.897Z"
   },
   {
    "duration": 153,
    "start_time": "2023-09-25T10:44:38.957Z"
   },
   {
    "duration": 251,
    "start_time": "2023-09-25T10:44:48.258Z"
   },
   {
    "duration": 328,
    "start_time": "2023-09-25T10:45:20.032Z"
   },
   {
    "duration": 650,
    "start_time": "2023-09-26T10:44:22.750Z"
   },
   {
    "duration": 15415,
    "start_time": "2023-09-26T10:44:23.402Z"
   },
   {
    "duration": 8287,
    "start_time": "2023-09-26T10:44:38.820Z"
   },
   {
    "duration": 687,
    "start_time": "2023-09-26T10:44:47.109Z"
   },
   {
    "duration": 1499,
    "start_time": "2023-09-26T10:44:47.797Z"
   },
   {
    "duration": 4813,
    "start_time": "2023-09-26T10:44:49.298Z"
   },
   {
    "duration": 79,
    "start_time": "2023-09-26T10:44:54.113Z"
   },
   {
    "duration": 427,
    "start_time": "2023-09-26T10:44:54.194Z"
   },
   {
    "duration": 1986,
    "start_time": "2023-09-26T10:44:54.622Z"
   },
   {
    "duration": 996,
    "start_time": "2023-09-26T10:44:56.610Z"
   },
   {
    "duration": 477,
    "start_time": "2023-09-26T10:44:57.608Z"
   },
   {
    "duration": 712,
    "start_time": "2023-09-26T10:44:58.086Z"
   },
   {
    "duration": 702,
    "start_time": "2023-09-26T10:44:58.800Z"
   },
   {
    "duration": 462,
    "start_time": "2023-09-26T10:45:03.819Z"
   },
   {
    "duration": 477,
    "start_time": "2023-09-26T10:45:07.481Z"
   },
   {
    "duration": 707,
    "start_time": "2023-09-26T10:45:15.412Z"
   },
   {
    "duration": 380,
    "start_time": "2023-09-26T10:45:43.459Z"
   },
   {
    "duration": 441,
    "start_time": "2023-09-26T10:45:54.281Z"
   },
   {
    "duration": 421,
    "start_time": "2023-09-26T10:45:55.508Z"
   },
   {
    "duration": 463,
    "start_time": "2023-09-26T10:46:01.819Z"
   },
   {
    "duration": 768,
    "start_time": "2023-09-26T11:11:56.662Z"
   },
   {
    "duration": 241,
    "start_time": "2023-09-26T11:12:13.149Z"
   },
   {
    "duration": 162,
    "start_time": "2023-09-26T11:12:27.223Z"
   },
   {
    "duration": 285,
    "start_time": "2023-09-26T11:14:24.733Z"
   },
   {
    "duration": 33,
    "start_time": "2023-09-26T11:14:53.191Z"
   },
   {
    "duration": 168,
    "start_time": "2023-09-26T11:14:53.717Z"
   },
   {
    "duration": 215,
    "start_time": "2023-09-26T11:14:54.370Z"
   },
   {
    "duration": 25,
    "start_time": "2023-09-26T11:15:03.733Z"
   },
   {
    "duration": 4,
    "start_time": "2023-09-26T11:15:10.553Z"
   },
   {
    "duration": 18,
    "start_time": "2023-09-26T11:15:10.561Z"
   },
   {
    "duration": 528,
    "start_time": "2023-09-26T11:15:11.072Z"
   },
   {
    "duration": 186,
    "start_time": "2023-09-26T11:15:11.602Z"
   },
   {
    "duration": 508,
    "start_time": "2023-09-26T11:15:12.122Z"
   },
   {
    "duration": 1954,
    "start_time": "2023-09-26T11:15:12.660Z"
   },
   {
    "duration": 8,
    "start_time": "2023-09-26T11:15:14.616Z"
   },
   {
    "duration": 265,
    "start_time": "2023-09-26T11:15:14.625Z"
   },
   {
    "duration": 629,
    "start_time": "2023-09-26T11:15:14.892Z"
   },
   {
    "duration": 214,
    "start_time": "2023-09-26T11:15:15.522Z"
   },
   {
    "duration": 147,
    "start_time": "2023-09-26T11:15:15.738Z"
   },
   {
    "duration": 342,
    "start_time": "2023-09-26T11:15:15.887Z"
   },
   {
    "duration": 337,
    "start_time": "2023-09-26T11:15:16.231Z"
   },
   {
    "duration": 135,
    "start_time": "2023-09-26T11:17:57.508Z"
   },
   {
    "duration": 8,
    "start_time": "2023-09-26T11:18:06.904Z"
   },
   {
    "duration": 11,
    "start_time": "2023-09-26T11:19:49.393Z"
   },
   {
    "duration": 8,
    "start_time": "2023-09-26T11:19:54.219Z"
   },
   {
    "duration": 1437,
    "start_time": "2023-09-26T11:20:02.544Z"
   },
   {
    "duration": 813,
    "start_time": "2023-09-26T11:20:56.611Z"
   },
   {
    "duration": 11,
    "start_time": "2023-09-26T11:22:03.357Z"
   },
   {
    "duration": 467,
    "start_time": "2023-09-26T11:22:09.248Z"
   },
   {
    "duration": 615,
    "start_time": "2023-09-26T11:22:11.621Z"
   },
   {
    "duration": 201,
    "start_time": "2023-09-26T11:22:21.094Z"
   },
   {
    "duration": 4,
    "start_time": "2023-09-26T11:29:51.682Z"
   },
   {
    "duration": 53,
    "start_time": "2023-09-26T12:16:13.903Z"
   },
   {
    "duration": 210,
    "start_time": "2023-09-26T12:17:13.193Z"
   },
   {
    "duration": 546,
    "start_time": "2023-09-27T08:31:47.142Z"
   },
   {
    "duration": 18355,
    "start_time": "2023-09-27T08:31:49.333Z"
   },
   {
    "duration": 10631,
    "start_time": "2023-09-27T08:32:07.746Z"
   },
   {
    "duration": 886,
    "start_time": "2023-09-27T08:32:18.379Z"
   },
   {
    "duration": 1799,
    "start_time": "2023-09-27T08:32:19.269Z"
   },
   {
    "duration": 6074,
    "start_time": "2023-09-27T08:32:21.070Z"
   },
   {
    "duration": 22,
    "start_time": "2023-09-27T08:32:27.146Z"
   },
   {
    "duration": 572,
    "start_time": "2023-09-27T08:32:27.171Z"
   },
   {
    "duration": 2472,
    "start_time": "2023-09-27T08:32:27.745Z"
   },
   {
    "duration": 925,
    "start_time": "2023-09-27T08:32:30.245Z"
   },
   {
    "duration": 699,
    "start_time": "2023-09-27T08:32:31.172Z"
   },
   {
    "duration": 1096,
    "start_time": "2023-09-27T08:32:31.874Z"
   },
   {
    "duration": 636,
    "start_time": "2023-09-27T08:32:32.972Z"
   },
   {
    "duration": 68,
    "start_time": "2023-09-27T08:32:33.610Z"
   },
   {
    "duration": 2119,
    "start_time": "2023-09-27T08:32:33.679Z"
   },
   {
    "duration": 302,
    "start_time": "2023-09-27T08:32:35.845Z"
   },
   {
    "duration": 52965,
    "start_time": "2023-09-27T08:33:38.903Z"
   },
   {
    "duration": 607,
    "start_time": "2023-09-27T08:35:36.835Z"
   },
   {
    "duration": 1088,
    "start_time": "2023-09-27T08:35:44.498Z"
   },
   {
    "duration": 16460,
    "start_time": "2023-09-27T08:35:45.590Z"
   },
   {
    "duration": 10338,
    "start_time": "2023-09-27T08:36:26.308Z"
   },
   {
    "duration": 811,
    "start_time": "2023-09-27T08:36:36.649Z"
   },
   {
    "duration": 2002,
    "start_time": "2023-09-27T08:36:37.462Z"
   },
   {
    "duration": 5582,
    "start_time": "2023-09-27T08:36:39.467Z"
   },
   {
    "duration": 24,
    "start_time": "2023-09-27T08:36:45.051Z"
   },
   {
    "duration": 490,
    "start_time": "2023-09-27T08:36:45.077Z"
   },
   {
    "duration": 2586,
    "start_time": "2023-09-27T08:36:45.570Z"
   },
   {
    "duration": 910,
    "start_time": "2023-09-27T08:36:48.158Z"
   },
   {
    "duration": 690,
    "start_time": "2023-09-27T08:36:49.070Z"
   },
   {
    "duration": 886,
    "start_time": "2023-09-27T08:36:49.763Z"
   },
   {
    "duration": 800,
    "start_time": "2023-09-27T08:36:50.652Z"
   },
   {
    "duration": 92,
    "start_time": "2023-09-27T08:36:51.454Z"
   },
   {
    "duration": 1818,
    "start_time": "2023-09-27T08:36:51.548Z"
   },
   {
    "duration": 299,
    "start_time": "2023-09-27T08:36:53.368Z"
   },
   {
    "duration": 1102,
    "start_time": "2023-09-27T08:40:15.692Z"
   },
   {
    "duration": 17091,
    "start_time": "2023-09-27T08:40:16.796Z"
   },
   {
    "duration": 11176,
    "start_time": "2023-09-27T08:40:33.890Z"
   },
   {
    "duration": 916,
    "start_time": "2023-09-27T08:40:45.068Z"
   },
   {
    "duration": 2344,
    "start_time": "2023-09-27T08:40:46.044Z"
   },
   {
    "duration": 5887,
    "start_time": "2023-09-27T08:40:48.390Z"
   },
   {
    "duration": 88,
    "start_time": "2023-09-27T08:40:54.280Z"
   },
   {
    "duration": 618,
    "start_time": "2023-09-27T08:40:54.371Z"
   },
   {
    "duration": 2609,
    "start_time": "2023-09-27T08:40:55.046Z"
   },
   {
    "duration": 813,
    "start_time": "2023-09-27T08:40:57.657Z"
   },
   {
    "duration": 771,
    "start_time": "2023-09-27T08:40:58.473Z"
   },
   {
    "duration": 831,
    "start_time": "2023-09-27T08:40:59.246Z"
   },
   {
    "duration": 814,
    "start_time": "2023-09-27T08:41:00.079Z"
   },
   {
    "duration": 80,
    "start_time": "2023-09-27T08:41:00.895Z"
   },
   {
    "duration": 1917,
    "start_time": "2023-09-27T08:41:00.978Z"
   },
   {
    "duration": 359,
    "start_time": "2023-09-27T08:41:02.897Z"
   },
   {
    "duration": 4,
    "start_time": "2023-09-27T08:41:06.703Z"
   },
   {
    "duration": 60098,
    "start_time": "2023-09-27T08:41:08.884Z"
   },
   {
    "duration": 0,
    "start_time": "2023-09-27T08:42:08.984Z"
   },
   {
    "duration": 0,
    "start_time": "2023-09-27T08:42:08.985Z"
   },
   {
    "duration": 0,
    "start_time": "2023-09-27T08:42:08.986Z"
   },
   {
    "duration": 1222,
    "start_time": "2023-09-27T08:43:39.543Z"
   },
   {
    "duration": 16509,
    "start_time": "2023-09-27T08:43:40.767Z"
   },
   {
    "duration": 10704,
    "start_time": "2023-09-27T08:43:57.278Z"
   },
   {
    "duration": 888,
    "start_time": "2023-09-27T08:44:07.984Z"
   },
   {
    "duration": 1934,
    "start_time": "2023-09-27T08:44:08.943Z"
   },
   {
    "duration": 5788,
    "start_time": "2023-09-27T08:44:10.878Z"
   },
   {
    "duration": 84,
    "start_time": "2023-09-27T08:44:16.668Z"
   },
   {
    "duration": 527,
    "start_time": "2023-09-27T08:44:16.757Z"
   },
   {
    "duration": 2408,
    "start_time": "2023-09-27T08:44:17.348Z"
   },
   {
    "duration": 1005,
    "start_time": "2023-09-27T08:44:19.757Z"
   },
   {
    "duration": 604,
    "start_time": "2023-09-27T08:44:20.764Z"
   },
   {
    "duration": 808,
    "start_time": "2023-09-27T08:44:21.369Z"
   },
   {
    "duration": 779,
    "start_time": "2023-09-27T08:44:22.179Z"
   },
   {
    "duration": 24,
    "start_time": "2023-09-27T08:44:22.961Z"
   },
   {
    "duration": 1604,
    "start_time": "2023-09-27T08:44:23.045Z"
   },
   {
    "duration": 320,
    "start_time": "2023-09-27T08:44:24.651Z"
   },
   {
    "duration": 4,
    "start_time": "2023-09-27T08:44:24.973Z"
   },
   {
    "duration": 230,
    "start_time": "2023-09-27T08:44:24.979Z"
   },
   {
    "duration": 0,
    "start_time": "2023-09-27T08:44:25.211Z"
   },
   {
    "duration": 0,
    "start_time": "2023-09-27T08:44:25.250Z"
   },
   {
    "duration": 0,
    "start_time": "2023-09-27T08:44:25.251Z"
   },
   {
    "duration": 0,
    "start_time": "2023-09-27T08:44:25.252Z"
   },
   {
    "duration": 59996,
    "start_time": "2023-09-27T08:45:11.963Z"
   },
   {
    "duration": 10,
    "start_time": "2023-09-27T08:50:46.275Z"
   },
   {
    "duration": 4,
    "start_time": "2023-09-27T08:51:20.995Z"
   },
   {
    "duration": 20,
    "start_time": "2023-09-27T08:51:23.343Z"
   },
   {
    "duration": 24,
    "start_time": "2023-09-27T08:51:54.584Z"
   },
   {
    "duration": 1358,
    "start_time": "2023-09-27T08:52:03.561Z"
   },
   {
    "duration": 19246,
    "start_time": "2023-09-27T08:52:04.921Z"
   },
   {
    "duration": 13,
    "start_time": "2023-09-27T08:52:24.169Z"
   },
   {
    "duration": 1136,
    "start_time": "2023-09-27T08:52:50.593Z"
   },
   {
    "duration": 17775,
    "start_time": "2023-09-27T08:52:51.732Z"
   },
   {
    "duration": 17,
    "start_time": "2023-09-27T08:53:09.546Z"
   },
   {
    "duration": 10417,
    "start_time": "2023-09-27T08:53:09.567Z"
   },
   {
    "duration": 894,
    "start_time": "2023-09-27T08:53:19.986Z"
   },
   {
    "duration": 2149,
    "start_time": "2023-09-27T08:53:20.944Z"
   },
   {
    "duration": 6064,
    "start_time": "2023-09-27T08:53:23.095Z"
   },
   {
    "duration": 83,
    "start_time": "2023-09-27T08:53:29.161Z"
   },
   {
    "duration": 711,
    "start_time": "2023-09-27T08:53:29.252Z"
   },
   {
    "duration": 2487,
    "start_time": "2023-09-27T08:53:29.964Z"
   },
   {
    "duration": 929,
    "start_time": "2023-09-27T08:53:32.453Z"
   },
   {
    "duration": 683,
    "start_time": "2023-09-27T08:53:33.384Z"
   },
   {
    "duration": 994,
    "start_time": "2023-09-27T08:53:34.069Z"
   },
   {
    "duration": 796,
    "start_time": "2023-09-27T08:53:35.065Z"
   },
   {
    "duration": 97,
    "start_time": "2023-09-27T08:53:35.870Z"
   },
   {
    "duration": 1978,
    "start_time": "2023-09-27T08:53:35.969Z"
   },
   {
    "duration": 324,
    "start_time": "2023-09-27T08:53:37.948Z"
   },
   {
    "duration": 4,
    "start_time": "2023-09-27T08:53:38.274Z"
   },
   {
    "duration": 65084,
    "start_time": "2023-09-27T08:53:38.280Z"
   },
   {
    "duration": 0,
    "start_time": "2023-09-27T08:54:43.367Z"
   },
   {
    "duration": 0,
    "start_time": "2023-09-27T08:54:43.368Z"
   },
   {
    "duration": 0,
    "start_time": "2023-09-27T08:54:43.369Z"
   },
   {
    "duration": 0,
    "start_time": "2023-09-27T08:54:43.370Z"
   },
   {
    "duration": 0,
    "start_time": "2023-09-27T08:54:43.371Z"
   },
   {
    "duration": 607,
    "start_time": "2023-09-27T08:55:44.857Z"
   },
   {
    "duration": 621,
    "start_time": "2023-09-27T08:55:47.760Z"
   },
   {
    "duration": 661,
    "start_time": "2023-09-27T08:55:54.451Z"
   },
   {
    "duration": 619,
    "start_time": "2023-09-27T08:55:58.808Z"
   },
   {
    "duration": 1123,
    "start_time": "2023-09-27T08:57:39.795Z"
   },
   {
    "duration": 16802,
    "start_time": "2023-09-27T08:57:43.468Z"
   },
   {
    "duration": 10259,
    "start_time": "2023-09-27T08:58:04.490Z"
   },
   {
    "duration": 809,
    "start_time": "2023-09-27T08:58:14.752Z"
   },
   {
    "duration": 1706,
    "start_time": "2023-09-27T08:58:15.563Z"
   },
   {
    "duration": 5995,
    "start_time": "2023-09-27T08:58:17.271Z"
   },
   {
    "duration": 19,
    "start_time": "2023-09-27T08:58:23.268Z"
   },
   {
    "duration": 604,
    "start_time": "2023-09-27T08:58:23.348Z"
   },
   {
    "duration": 2532,
    "start_time": "2023-09-27T08:58:23.953Z"
   },
   {
    "duration": 1069,
    "start_time": "2023-09-27T08:58:26.487Z"
   },
   {
    "duration": 795,
    "start_time": "2023-09-27T08:58:27.559Z"
   },
   {
    "duration": 936,
    "start_time": "2023-09-27T08:58:28.356Z"
   },
   {
    "duration": 758,
    "start_time": "2023-09-27T08:58:29.294Z"
   },
   {
    "duration": 94,
    "start_time": "2023-09-27T08:58:30.053Z"
   },
   {
    "duration": 1810,
    "start_time": "2023-09-27T08:58:30.149Z"
   },
   {
    "duration": 324,
    "start_time": "2023-09-27T08:58:31.965Z"
   },
   {
    "duration": 56,
    "start_time": "2023-09-27T08:58:32.292Z"
   },
   {
    "duration": 887,
    "start_time": "2023-09-27T08:58:32.350Z"
   },
   {
    "duration": 134792,
    "start_time": "2023-09-27T08:58:33.240Z"
   },
   {
    "duration": 0,
    "start_time": "2023-09-27T09:00:48.034Z"
   },
   {
    "duration": 0,
    "start_time": "2023-09-27T09:00:48.043Z"
   },
   {
    "duration": 0,
    "start_time": "2023-09-27T09:00:48.044Z"
   },
   {
    "duration": 0,
    "start_time": "2023-09-27T09:00:48.045Z"
   },
   {
    "duration": 0,
    "start_time": "2023-09-27T09:00:48.047Z"
   },
   {
    "duration": 651,
    "start_time": "2023-09-27T09:02:51.791Z"
   },
   {
    "duration": 1052,
    "start_time": "2023-09-27T09:02:52.448Z"
   },
   {
    "duration": 19753,
    "start_time": "2023-09-27T09:02:53.502Z"
   },
   {
    "duration": 9993,
    "start_time": "2023-09-27T09:03:13.261Z"
   },
   {
    "duration": 912,
    "start_time": "2023-09-27T09:03:23.257Z"
   },
   {
    "duration": 1920,
    "start_time": "2023-09-27T09:03:24.171Z"
   },
   {
    "duration": 5767,
    "start_time": "2023-09-27T09:03:26.093Z"
   },
   {
    "duration": 20,
    "start_time": "2023-09-27T09:03:31.862Z"
   },
   {
    "duration": 876,
    "start_time": "2023-09-27T09:03:31.886Z"
   },
   {
    "duration": 2312,
    "start_time": "2023-09-27T09:03:32.764Z"
   },
   {
    "duration": 801,
    "start_time": "2023-09-27T09:03:35.078Z"
   },
   {
    "duration": 580,
    "start_time": "2023-09-27T09:03:35.881Z"
   },
   {
    "duration": 1017,
    "start_time": "2023-09-27T09:03:36.466Z"
   },
   {
    "duration": 760,
    "start_time": "2023-09-27T09:03:37.485Z"
   },
   {
    "duration": 39,
    "start_time": "2023-09-27T09:03:38.246Z"
   },
   {
    "duration": 1812,
    "start_time": "2023-09-27T09:03:38.344Z"
   },
   {
    "duration": 335,
    "start_time": "2023-09-27T09:03:40.157Z"
   },
   {
    "duration": 6,
    "start_time": "2023-09-27T09:03:40.550Z"
   },
   {
    "duration": 233,
    "start_time": "2023-09-27T09:03:40.558Z"
   },
   {
    "duration": 0,
    "start_time": "2023-09-27T09:03:40.793Z"
   },
   {
    "duration": 0,
    "start_time": "2023-09-27T09:03:40.794Z"
   },
   {
    "duration": 0,
    "start_time": "2023-09-27T09:03:40.796Z"
   },
   {
    "duration": 0,
    "start_time": "2023-09-27T09:03:40.797Z"
   },
   {
    "duration": 0,
    "start_time": "2023-09-27T09:03:40.798Z"
   },
   {
    "duration": 635,
    "start_time": "2023-09-27T09:13:28.146Z"
   },
   {
    "duration": 522,
    "start_time": "2023-09-27T09:13:32.070Z"
   },
   {
    "duration": 15428,
    "start_time": "2023-09-27T09:13:33.227Z"
   },
   {
    "duration": 8700,
    "start_time": "2023-09-27T09:13:48.657Z"
   },
   {
    "duration": 702,
    "start_time": "2023-09-27T09:13:57.359Z"
   },
   {
    "duration": 1781,
    "start_time": "2023-09-27T09:13:58.064Z"
   },
   {
    "duration": 5317,
    "start_time": "2023-09-27T09:13:59.846Z"
   },
   {
    "duration": 83,
    "start_time": "2023-09-27T09:14:05.165Z"
   },
   {
    "duration": 424,
    "start_time": "2023-09-27T09:14:05.250Z"
   },
   {
    "duration": 2388,
    "start_time": "2023-09-27T09:14:05.677Z"
   },
   {
    "duration": 703,
    "start_time": "2023-09-27T09:14:08.067Z"
   },
   {
    "duration": 681,
    "start_time": "2023-09-27T09:14:08.774Z"
   },
   {
    "duration": 804,
    "start_time": "2023-09-27T09:14:09.456Z"
   },
   {
    "duration": 718,
    "start_time": "2023-09-27T09:14:10.262Z"
   },
   {
    "duration": 90,
    "start_time": "2023-09-27T09:14:10.981Z"
   },
   {
    "duration": 1470,
    "start_time": "2023-09-27T09:14:11.074Z"
   },
   {
    "duration": 299,
    "start_time": "2023-09-27T09:14:12.546Z"
   },
   {
    "duration": 4,
    "start_time": "2023-09-27T09:14:12.847Z"
   },
   {
    "duration": 118,
    "start_time": "2023-09-27T09:14:12.853Z"
   },
   {
    "duration": 662,
    "start_time": "2023-09-27T09:14:34.886Z"
   },
   {
    "duration": 9,
    "start_time": "2023-09-27T09:22:48.808Z"
   },
   {
    "duration": 8,
    "start_time": "2023-09-27T09:22:55.314Z"
   },
   {
    "duration": 118104,
    "start_time": "2023-09-27T09:23:02.769Z"
   },
   {
    "duration": 5,
    "start_time": "2023-09-27T09:31:29.314Z"
   },
   {
    "duration": 4,
    "start_time": "2023-09-27T09:33:46.267Z"
   },
   {
    "duration": 4,
    "start_time": "2023-09-27T09:38:07.062Z"
   },
   {
    "duration": 8,
    "start_time": "2023-09-27T09:42:30.368Z"
   },
   {
    "duration": 3,
    "start_time": "2023-09-27T09:43:00.948Z"
   },
   {
    "duration": 5,
    "start_time": "2023-09-27T09:43:05.044Z"
   },
   {
    "duration": 3,
    "start_time": "2023-09-27T09:43:15.312Z"
   },
   {
    "duration": 2,
    "start_time": "2023-09-27T09:43:15.736Z"
   },
   {
    "duration": 3,
    "start_time": "2023-09-27T09:43:21.274Z"
   },
   {
    "duration": 4,
    "start_time": "2023-09-27T09:43:21.800Z"
   },
   {
    "duration": 3,
    "start_time": "2023-09-27T09:43:38.328Z"
   },
   {
    "duration": 141,
    "start_time": "2023-09-27T09:43:39.808Z"
   },
   {
    "duration": 8,
    "start_time": "2023-09-27T09:43:42.000Z"
   },
   {
    "duration": 11,
    "start_time": "2023-09-27T09:43:43.780Z"
   },
   {
    "duration": 3,
    "start_time": "2023-09-27T09:43:49.740Z"
   },
   {
    "duration": 9,
    "start_time": "2023-09-27T09:43:52.880Z"
   },
   {
    "duration": 4,
    "start_time": "2023-09-27T09:43:55.160Z"
   },
   {
    "duration": 99,
    "start_time": "2023-09-27T09:44:15.468Z"
   },
   {
    "duration": 121,
    "start_time": "2023-09-27T09:44:21.028Z"
   },
   {
    "duration": 15984,
    "start_time": "2023-09-27T09:44:27.520Z"
   },
   {
    "duration": 16,
    "start_time": "2023-09-27T09:46:02.639Z"
   },
   {
    "duration": 79,
    "start_time": "2023-09-27T09:48:31.836Z"
   },
   {
    "duration": 115,
    "start_time": "2023-09-27T09:48:42.107Z"
   },
   {
    "duration": 94,
    "start_time": "2023-09-27T09:49:14.387Z"
   },
   {
    "duration": 90,
    "start_time": "2023-09-27T09:49:34.068Z"
   },
   {
    "duration": 17,
    "start_time": "2023-09-27T09:49:40.960Z"
   },
   {
    "duration": 897,
    "start_time": "2023-09-27T09:50:00.503Z"
   },
   {
    "duration": 955,
    "start_time": "2023-09-27T09:50:02.445Z"
   },
   {
    "duration": 18177,
    "start_time": "2023-09-27T09:50:03.402Z"
   },
   {
    "duration": 8693,
    "start_time": "2023-09-27T09:50:21.581Z"
   },
   {
    "duration": 674,
    "start_time": "2023-09-27T09:50:30.280Z"
   },
   {
    "duration": 1588,
    "start_time": "2023-09-27T09:50:30.956Z"
   },
   {
    "duration": 4622,
    "start_time": "2023-09-27T09:50:32.546Z"
   },
   {
    "duration": 81,
    "start_time": "2023-09-27T09:50:37.169Z"
   },
   {
    "duration": 497,
    "start_time": "2023-09-27T09:50:37.252Z"
   },
   {
    "duration": 2110,
    "start_time": "2023-09-27T09:50:37.754Z"
   },
   {
    "duration": 891,
    "start_time": "2023-09-27T09:50:39.866Z"
   },
   {
    "duration": 528,
    "start_time": "2023-09-27T09:50:40.760Z"
   },
   {
    "duration": 862,
    "start_time": "2023-09-27T09:50:41.290Z"
   },
   {
    "duration": 692,
    "start_time": "2023-09-27T09:50:42.154Z"
   },
   {
    "duration": 24,
    "start_time": "2023-09-27T09:50:42.848Z"
   },
   {
    "duration": 1678,
    "start_time": "2023-09-27T09:50:42.874Z"
   },
   {
    "duration": 309,
    "start_time": "2023-09-27T09:50:44.555Z"
   },
   {
    "duration": 3,
    "start_time": "2023-09-27T09:50:44.867Z"
   },
   {
    "duration": 143,
    "start_time": "2023-09-27T09:50:44.872Z"
   },
   {
    "duration": 10,
    "start_time": "2023-09-27T09:51:35.432Z"
   },
   {
    "duration": 9850,
    "start_time": "2023-09-27T09:51:55.888Z"
   },
   {
    "duration": 3,
    "start_time": "2023-09-27T09:52:07.900Z"
   },
   {
    "duration": 183135,
    "start_time": "2023-09-27T09:52:19.015Z"
   },
   {
    "duration": 0,
    "start_time": "2023-09-27T09:55:22.152Z"
   },
   {
    "duration": 453,
    "start_time": "2023-09-27T09:55:31.397Z"
   },
   {
    "duration": 0,
    "start_time": "2023-09-27T09:55:31.853Z"
   },
   {
    "duration": 3,
    "start_time": "2023-09-27T09:55:44.739Z"
   },
   {
    "duration": 615,
    "start_time": "2023-09-27T11:01:43.265Z"
   },
   {
    "duration": 623,
    "start_time": "2023-09-27T11:01:43.883Z"
   },
   {
    "duration": 16242,
    "start_time": "2023-09-27T11:01:44.508Z"
   },
   {
    "duration": 9804,
    "start_time": "2023-09-27T11:02:00.753Z"
   },
   {
    "duration": 792,
    "start_time": "2023-09-27T11:02:10.559Z"
   },
   {
    "duration": 1358,
    "start_time": "2023-09-27T11:02:11.355Z"
   },
   {
    "duration": 5112,
    "start_time": "2023-09-27T11:02:12.744Z"
   },
   {
    "duration": 86,
    "start_time": "2023-09-27T11:02:17.858Z"
   },
   {
    "duration": 434,
    "start_time": "2023-09-27T11:02:17.945Z"
   },
   {
    "duration": 1989,
    "start_time": "2023-09-27T11:02:18.380Z"
   },
   {
    "duration": 1183,
    "start_time": "2023-09-27T11:02:20.371Z"
   },
   {
    "duration": 599,
    "start_time": "2023-09-27T11:02:21.557Z"
   },
   {
    "duration": 796,
    "start_time": "2023-09-27T11:02:22.158Z"
   },
   {
    "duration": 622,
    "start_time": "2023-09-27T11:02:22.955Z"
   },
   {
    "duration": 64,
    "start_time": "2023-09-27T11:02:23.579Z"
   },
   {
    "duration": 1502,
    "start_time": "2023-09-27T11:02:23.646Z"
   },
   {
    "duration": 300,
    "start_time": "2023-09-27T11:02:25.151Z"
   },
   {
    "duration": 622,
    "start_time": "2023-09-27T11:03:20.578Z"
   },
   {
    "duration": 484,
    "start_time": "2023-09-27T11:03:21.203Z"
   },
   {
    "duration": 16069,
    "start_time": "2023-09-27T11:03:21.688Z"
   },
   {
    "duration": 8989,
    "start_time": "2023-09-27T11:03:37.759Z"
   },
   {
    "duration": 797,
    "start_time": "2023-09-27T11:03:46.753Z"
   },
   {
    "duration": 1700,
    "start_time": "2023-09-27T11:03:47.551Z"
   },
   {
    "duration": 5293,
    "start_time": "2023-09-27T11:03:49.253Z"
   },
   {
    "duration": 26,
    "start_time": "2023-09-27T11:03:54.550Z"
   },
   {
    "duration": 670,
    "start_time": "2023-09-27T11:03:54.578Z"
   },
   {
    "duration": 2209,
    "start_time": "2023-09-27T11:03:55.250Z"
   },
   {
    "duration": 883,
    "start_time": "2023-09-27T11:03:57.461Z"
   },
   {
    "duration": 603,
    "start_time": "2023-09-27T11:03:58.345Z"
   },
   {
    "duration": 814,
    "start_time": "2023-09-27T11:03:58.950Z"
   },
   {
    "duration": 631,
    "start_time": "2023-09-27T11:03:59.765Z"
   },
   {
    "duration": 21,
    "start_time": "2023-09-27T11:04:00.444Z"
   },
   {
    "duration": 1700,
    "start_time": "2023-09-27T11:04:00.467Z"
   },
   {
    "duration": 4,
    "start_time": "2023-09-27T11:04:02.170Z"
   },
   {
    "duration": 971,
    "start_time": "2023-09-27T11:04:02.176Z"
   },
   {
    "duration": 0,
    "start_time": "2023-09-27T11:04:03.150Z"
   },
   {
    "duration": 0,
    "start_time": "2023-09-27T11:04:03.151Z"
   },
   {
    "duration": 0,
    "start_time": "2023-09-27T11:04:03.153Z"
   },
   {
    "duration": 0,
    "start_time": "2023-09-27T11:04:03.154Z"
   },
   {
    "duration": 0,
    "start_time": "2023-09-27T11:04:03.156Z"
   },
   {
    "duration": 0,
    "start_time": "2023-09-27T11:04:03.157Z"
   },
   {
    "duration": 0,
    "start_time": "2023-09-27T11:04:03.159Z"
   },
   {
    "duration": 0,
    "start_time": "2023-09-27T11:04:03.245Z"
   },
   {
    "duration": 316,
    "start_time": "2023-09-27T11:05:17.994Z"
   },
   {
    "duration": 5,
    "start_time": "2023-09-27T11:06:18.330Z"
   },
   {
    "duration": 4,
    "start_time": "2023-09-27T11:06:33.872Z"
   },
   {
    "duration": 104,
    "start_time": "2023-09-27T11:06:37.848Z"
   },
   {
    "duration": 4,
    "start_time": "2023-09-27T11:06:40.503Z"
   },
   {
    "duration": 8,
    "start_time": "2023-09-27T11:06:41.168Z"
   },
   {
    "duration": 175,
    "start_time": "2023-09-27T11:06:49.577Z"
   },
   {
    "duration": 36,
    "start_time": "2023-09-27T11:06:51.759Z"
   },
   {
    "duration": 5,
    "start_time": "2023-09-27T11:06:53.387Z"
   },
   {
    "duration": 11,
    "start_time": "2023-09-27T11:06:55.187Z"
   },
   {
    "duration": 4,
    "start_time": "2023-09-27T11:06:56.410Z"
   },
   {
    "duration": 16114,
    "start_time": "2023-09-27T11:06:57.848Z"
   },
   {
    "duration": 622,
    "start_time": "2023-09-27T11:22:09.794Z"
   },
   {
    "duration": 579,
    "start_time": "2023-09-27T11:22:10.418Z"
   },
   {
    "duration": 16180,
    "start_time": "2023-09-27T11:22:10.999Z"
   },
   {
    "duration": 9569,
    "start_time": "2023-09-27T11:22:27.182Z"
   },
   {
    "duration": 693,
    "start_time": "2023-09-27T11:22:36.753Z"
   },
   {
    "duration": 1898,
    "start_time": "2023-09-27T11:22:37.449Z"
   },
   {
    "duration": 5034,
    "start_time": "2023-09-27T11:22:39.349Z"
   },
   {
    "duration": 22,
    "start_time": "2023-09-27T11:22:44.445Z"
   },
   {
    "duration": 582,
    "start_time": "2023-09-27T11:22:44.470Z"
   },
   {
    "duration": 2121,
    "start_time": "2023-09-27T11:22:45.054Z"
   },
   {
    "duration": 768,
    "start_time": "2023-09-27T11:22:47.177Z"
   },
   {
    "duration": 548,
    "start_time": "2023-09-27T11:22:47.949Z"
   },
   {
    "duration": 757,
    "start_time": "2023-09-27T11:22:48.499Z"
   },
   {
    "duration": 615,
    "start_time": "2023-09-27T11:22:49.259Z"
   },
   {
    "duration": 77,
    "start_time": "2023-09-27T11:22:49.876Z"
   },
   {
    "duration": 1707,
    "start_time": "2023-09-27T11:22:49.955Z"
   },
   {
    "duration": 4,
    "start_time": "2023-09-27T11:22:51.664Z"
   },
   {
    "duration": 290,
    "start_time": "2023-09-27T11:22:51.669Z"
   },
   {
    "duration": 5,
    "start_time": "2023-09-27T11:22:51.961Z"
   },
   {
    "duration": 584,
    "start_time": "2023-09-27T11:22:51.968Z"
   },
   {
    "duration": 117,
    "start_time": "2023-09-27T11:22:52.554Z"
   },
   {
    "duration": 3,
    "start_time": "2023-09-27T11:22:52.673Z"
   },
   {
    "duration": 77,
    "start_time": "2023-09-27T11:22:52.678Z"
   },
   {
    "duration": 88,
    "start_time": "2023-09-27T11:22:52.757Z"
   },
   {
    "duration": 16306,
    "start_time": "2023-09-27T11:22:52.848Z"
   }
  ],
  "colab": {
   "name": "PySparkSprint.ipynb",
   "provenance": []
  },
  "kernelspec": {
   "display_name": "Python 3 (ipykernel)",
   "language": "python",
   "name": "python3"
  },
  "language_info": {
   "codemirror_mode": {
    "name": "ipython",
    "version": 3
   },
   "file_extension": ".py",
   "mimetype": "text/x-python",
   "name": "python",
   "nbconvert_exporter": "python",
   "pygments_lexer": "ipython3",
   "version": "3.9.5"
  },
  "toc": {
   "base_numbering": 1,
   "nav_menu": {
    "height": "296px",
    "width": "436px"
   },
   "number_sections": true,
   "sideBar": true,
   "skip_h1_title": true,
   "title_cell": "Содержание",
   "title_sidebar": "Contents",
   "toc_cell": true,
   "toc_position": {},
   "toc_section_display": true,
   "toc_window_display": true
  }
 },
 "nbformat": 4,
 "nbformat_minor": 5
}
