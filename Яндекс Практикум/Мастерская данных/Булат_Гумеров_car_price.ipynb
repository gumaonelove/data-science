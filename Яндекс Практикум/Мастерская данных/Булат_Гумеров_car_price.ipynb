{
 "cells": [
  {
   "cell_type": "markdown",
   "metadata": {
    "cellId": "hm6w6g188h0b78xsk6w4om",
    "execution_id": "2a105204-ecad-416e-aef1-6a9713175d26"
   },
   "source": [
    "<div style=\"border:solid green 2px; padding: 20px\">\n",
    "    \n",
    "<font color='green' style='font-size:18px; font-weight:bold'>Привет Булат!</font>\n",
    "\n",
    "Меня зовут Владислав Струнин и я буду проводить ревью твоего проекта. Предлагаю обращаться друг к другу на «ты», если для тебя это будет комфортно. Иначе дай знать, и мы сразу перейдём на «вы».\n",
    "\n",
    "Моя основная цель — поделиться своим опытом и помочь тебе стать отличным специалистом по Data Science. Тобой проделана огромная работа над проектом и я предлагаю сделать его еще лучше. Ниже ты найдешь мои комментарии - **пожалуйста, не перемещай, не изменяй и не удаляй их**. Увидев у тебя ошибку, я лишь укажу на ее наличие и дам тебе возможность самостоятельно найти и исправить ее. <br>\n",
    "    \n",
    "Мои комментарии будут в <font color='green'>зеленой</font>, <font color='orange'>жёлтой</font> или <font color='red'>красной</font> рамках:<br>\n",
    "<div class=\"alert alert-block alert-success\">\n",
    "<b>Комментарий ревьювера ✅:</b> Так я выделяю верные действия, когда все сделано правильно.\n",
    "</div>\n",
    "\n",
    "<div class=\"alert alert-warning\" role=\"alert\">\n",
    "<b>Комментарий ревьювера ⚠️: </b> Так выделены небольшие замечания или предложения по улучшению. Я надеюсь, что их ты тоже учтешь - твой проект от этого станет только лучше.\n",
    "</div>\n",
    "\n",
    "<div class=\"alert alert-block alert-danger\">\n",
    "<b>Комментарий ревьювера ⛔️:</b> Если требуются исправления. Работа не может быть принята с красными комментариями.\n",
    "</div>\n",
    "\n",
    "После получения ревью работы постарайся внести изменения в исследование в соответствии с моими комментариями. Это позволит сделать твою работу еще лучше и помни, что у нас общая цель - подготовить тебя к успешной работе Data Science специалистом!\n",
    "    \n",
    "<font color='green' style='font-size:18px; font-weight:bold'>Общее впечатление:</font>\n",
    "    <ol>\n",
    "        <li>Спасибо за выполненную работу, видно что тебе интересно и ты стараешься!</li>\n",
    "        <li>Тетрадь сдана в \"рабочем\" виде, выполнение ячеек не по порядку, не всегда удается отследить верную последовательность - лучше сдавать финальный вариант;</li>\n",
    "        <li>Я оставил некоторые советы, обрати на них внимание, они могут сделать работу лучше и быть полезными или интересными;</li>\n",
    "        <li>Продолжай в том же духе, в тебе большой потенциал!</li>\n",
    "    </ol>\n",
    "</div>"
   ]
  },
  {
   "cell_type": "markdown",
   "metadata": {
    "cellId": "685od8mryea6l3vah5yq46",
    "execution_id": "dd79f3fb-0611-47e8-b192-20de46211f62"
   },
   "source": [
    "# Стоимость поддержанного автомобиля\n",
    "## Описание задачи\n",
    "Многие знают про маркетплейсы где продаются б/у вещи, на которых есть возможность недорого купить качественную и полезную вещь. Но всегда волнует вопрос - кто и как устанавливает цену, и какие его характеристики больше всего влияют на итоговую стоимость продажи?! Вопрос становиться особо актуальным, если речь идет про дорогие товары, например про автомобили!\n",
    "Предлагаем вам принять участие в Мастерской, в рамках которой вы сможете поработать с данными о продажах автомобилей на вторичном рынке. Целью вашего проекта будет разработанная модель предсказания стоимости автомобиля на вторичном рынке.\n",
    "\n",
    "## В ходе работы в пройдете все основные этапы полноценного исследования:\n",
    "* загрузка и ознакомление с данными,\n",
    "* предварительная обработка,\n",
    "* полноценный разведочный анализ,\n",
    "* разработка новых синтетических признаков,\n",
    "* проверка на мультиколлинеарность,\n",
    "* отбор финального набора обучающих признаков,\n",
    "* выбор и обучение моделей,\n",
    "* итоговая оценка качества предсказания лучшей модели,\n",
    "* анализ важности ее признаков.\n",
    "\n",
    "## Дополнительное задание\n",
    "1. Cоздать web-приложения прототип вашей модели, используя библиотеку Streamlit.\n",
    "2. Подготовка отчета по исследованию. Примеры хороших отчетов можно посмотреть на сайте Stanford University - отчеты по финальным проектам направления Machine Learning - https://cs229.stanford.edu/projects2014.html. "
   ]
  },
  {
   "cell_type": "markdown",
   "metadata": {
    "cellId": "wgahg05in3kav1pxs2d7ye",
    "execution_id": "e7bda802-7ac3-42e4-92a3-4c9bab017c32"
   },
   "source": [
    "<div class=\"alert alert-success\">\n",
    "<b>Комментарий ревьювера ✅:</b><br>\n",
    "    Здорово, что есть описание в начале! Это позволяет быстро погрузиться в проект человеку, который его изучает 👍\n",
    "</div>\n"
   ]
  },
  {
   "cell_type": "markdown",
   "metadata": {
    "cellId": "nbkey6v0fkjx6fix6hq8o",
    "execution_id": "c8a229cc-b8b5-4c49-879c-aac7bb4d1479",
    "tags": []
   },
   "source": [
    "## Описание данных\n",
    "* **year**: Год выпуска автомобиля.\n",
    "* **Make**: Марка автомобиля.\n",
    "* **Model**: издание автомобиля определенной марки.\n",
    "* **Trim**: Уровни отделки салона автомобиля — это просто разные версии модели.\n",
    "* **Body**: Тип кузова транспортного средства относится к форме и модели конкретной марки автомобиля.\n",
    "* **Transmission**: механизм, который передает мощность от двигателя к колесам.\n",
    "* **VIN**: идентификационный номер транспортного средства.\n",
    "* ~~**State**: состояние, в котором автомобиль выставлен на аукцион.~~\n",
    "* **State**: Штат в котором продаеься автомобиль\n",
    "* **Condition**: Состояние автомобилей на момент аукциона.\n",
    "* **Odometer**: расстояние, пройденное автомобилем с момента выпуска.\n",
    "* **Color**: Цвет кузова автомобиля.\n",
    "* **Interior**: Цвет салона автомобиля.\n",
    "* **Seller**: Продавец автомобиля, автосалоны.\n",
    "* ~~**mmr**: Рекорд рынка Manhiem, рыночная оценочная цена автомобилей.~~\n",
    "* **sellingprice**: цена, по которой автомобиль был продан на аукционе.\n",
    "* **saledate**: Дата продажи автомобиля."
   ]
  },
  {
   "cell_type": "markdown",
   "metadata": {
    "cellId": "en438zzoq2peu8fd51n79h",
    "execution_id": "ea8ff3c7-87b8-4c3a-b861-a0c7951916fd"
   },
   "source": [
    "<div class=\"alert alert-success\">\n",
    "<b>Комментарий ревьювера ✅:</b><br>\n",
    "    За описание полей данных - отдельный лайк 👍\n",
    "</div>\n"
   ]
  },
  {
   "cell_type": "markdown",
   "metadata": {
    "cellId": "8q36j25quyqezcm5ixbkwe",
    "execution_id": "7b2a09df-1b1a-4f44-a4e4-8d0a3f052a5e"
   },
   "source": [
    "## Загрузка и подготовка данных"
   ]
  },
  {
   "cell_type": "code",
   "execution_count": 874,
   "metadata": {
    "cellId": "72httr83bdhh6u9bj2gctd"
   },
   "outputs": [],
   "source": [
    "#!c1.8\n",
    "%pip install --upgrade optuna --quiet\n",
    "%pip install --upgrade seaborn --quiet\n",
    "%pip install --upgrade scikit-learn --quiet\n",
    "%pip install --upgrade pandas --quiet\n",
    "%pip install --upgrade numpy --quiet\n",
    "%pip install --upgrade vininfo --quiet"
   ]
  },
  {
   "cell_type": "markdown",
   "metadata": {
    "cellId": "fdncx5lt97nko6u5r7fnb",
    "execution_id": "7ef6a1ba-0a1f-4fd0-aee6-af42127b75bd"
   },
   "source": [
    "### Импорты"
   ]
  },
  {
   "cell_type": "code",
   "execution_count": 875,
   "metadata": {
    "cellId": "hygeomzt13qh133hoeykt6"
   },
   "outputs": [],
   "source": [
    "#!c1.8\n",
    "import datetime\n",
    "import json\n",
    "import os\n",
    "import re\n",
    "\n",
    "from requests import get\n",
    "from time import sleep\n",
    "from typing import Union\n",
    "\n",
    "\n",
    "import optuna\n",
    "\n",
    "import matplotlib.pyplot as plt\n",
    "import numpy as np\n",
    "import pandas as pd\n",
    "import seaborn as sns\n",
    "\n",
    "from catboost import CatBoostRegressor\n",
    "from vininfo import Vin\n",
    "from sklearn.ensemble import BaggingRegressor, RandomForestRegressor\n",
    "from sklearn.linear_model import LinearRegression, Lasso, Ridge, ElasticNet\n",
    "from sklearn.metrics import mean_absolute_percentage_error as mape\n",
    "from sklearn.model_selection import train_test_split\n",
    "from sklearn.preprocessing import StandardScaler, LabelEncoder\n",
    "from sklearn.tree import DecisionTreeRegressor\n",
    "from tqdm.notebook import tqdm, tnrange"
   ]
  },
  {
   "cell_type": "code",
   "execution_count": 876,
   "metadata": {
    "cellId": "c8gipastjqajvfs030cnr"
   },
   "outputs": [],
   "source": [
    "#!c1.8\n",
    "tqdm.pandas()"
   ]
  },
  {
   "cell_type": "markdown",
   "metadata": {
    "cellId": "33nw1g87qbm6y8f1a18ado",
    "execution_id": "8fb1aaa7-54dd-448f-a27c-8fd4b19002c1"
   },
   "source": [
    "<div class=\"alert alert-success\">\n",
    "<b>Комментарий ревьювера ✅:</b><br>\n",
    "    Хорошо, что все импорты собраны в начале тетрадки!\n",
    "\n",
    "Следующий шаг к совершенству 😉 – разделять пустой строкой группы библиотек. Группировать желательно по порядку:\n",
    "- импорты из стандартной библиотеки,\n",
    "- импорты из сторонних библиотек, \n",
    "- импорты пользовательских модулей текущего проекта\n",
    "    \n",
    "В питоне есть руководство по стилю – можно почитать здесь [PEP 8 – Style Guide for Python Code](https://peps.python.org/pep-0008/)\n",
    "\n",
    "\n",
    "</div>\n"
   ]
  },
  {
   "cell_type": "markdown",
   "metadata": {
    "cellId": "8ohtdi7mbkina458rn0pm",
    "execution_id": "8678db1a-02f7-40c3-87a8-d6056fc27bd8"
   },
   "source": [
    "<div class=\"alert alert-info\"> <b>Комментарий студента:</b>Спасибо, добавил группировку</div>"
   ]
  },
  {
   "cell_type": "markdown",
   "metadata": {
    "cellId": "iergcgzj9y753l6i8choq",
    "execution_id": "6d2a8425-d551-4357-b979-6f13761e4a10"
   },
   "source": [
    "### Скачаем ДатаСет"
   ]
  },
  {
   "cell_type": "code",
   "execution_count": 877,
   "metadata": {
    "cellId": "ndv4h9n7osk8y6k32meuo9"
   },
   "outputs": [],
   "source": [
    "#!c1.8\n",
    "!chmod 600 /home/jupyter/work/resources/kaggle.json"
   ]
  },
  {
   "cell_type": "markdown",
   "metadata": {
    "cellId": "9gkbd98gk4498qiwli1pb4",
    "execution_id": "74047f57-78b6-43d2-b225-d3e285b727dd"
   },
   "source": [
    "#### Датасет [соревнования мастерской](https://www.kaggle.com/competitions/used-cars-price-prediction-19ds)"
   ]
  },
  {
   "cell_type": "code",
   "execution_count": 878,
   "metadata": {
    "cellId": "0kiu51p2nmn9w1cbfsv4n"
   },
   "outputs": [
    {
     "name": "stdout",
     "output_type": "stream",
     "text": [
      "Датасет уже скачен\n"
     ]
    }
   ],
   "source": [
    "#!c1.8\n",
    "if os.path.isfile('train.csv'):\n",
    "    print(\"Датасет уже скачен\")\n",
    "else:\n",
    "    os.system(\"kaggle competitions download -c used-cars-price-prediction-19ds\")"
   ]
  },
  {
   "cell_type": "markdown",
   "metadata": {
    "cellId": "bmdr746i99iwn78injroab",
    "execution_id": "57cf436c-8aa6-434c-8034-5ed1b648a2ff"
   },
   "source": [
    "#### Датасет [Used-cars-catalog](https://www.kaggle.com/datasets/lepchenkov/usedcarscatalog)\n",
    "Будем использовать его для обогощения нашего датасета, информацией об объеме двигателя"
   ]
  },
  {
   "cell_type": "code",
   "execution_count": 879,
   "metadata": {
    "cellId": "lgxastue7apltqlwip7y2"
   },
   "outputs": [
    {
     "name": "stdout",
     "output_type": "stream",
     "text": [
      "Датасет уже скачен\n"
     ]
    }
   ],
   "source": [
    "#!c1.8\n",
    "if os.path.isfile('cars.csv'):\n",
    "    print(\"Датасет уже скачен\")\n",
    "else:\n",
    "    os.system(\"kaggle datasets download -d lepchenkov/usedcarscatalog\")"
   ]
  },
  {
   "cell_type": "markdown",
   "metadata": {
    "cellId": "fbx3n231a74iwnkeercy",
    "execution_id": "258b7675-3781-405e-a734-0d964f7560d7"
   },
   "source": [
    "### Чтение файлов"
   ]
  },
  {
   "cell_type": "markdown",
   "metadata": {
    "cellId": "61m1jflm4vmz5gaftngw6b",
    "execution_id": "fd55dc86-236d-4d27-8e6f-c4af45ef5a19"
   },
   "source": [
    "#### Необработанный датасет"
   ]
  },
  {
   "cell_type": "code",
   "execution_count": 880,
   "metadata": {
    "cellId": "ze4iyv0myyrbyynv18u2pb"
   },
   "outputs": [],
   "source": [
    "#!c1.8\n",
    "try:\n",
    "    df = pd.read_csv('/kaggle/input/used-cars-price-prediction-19ds/train.csv')\n",
    "except FileNotFoundError:\n",
    "    df = pd.read_csv('train.csv')"
   ]
  },
  {
   "cell_type": "markdown",
   "metadata": {
    "cellId": "eaqhvh3h85gljutzsdj0pi",
    "execution_id": "023e98c8-eabb-4229-897a-945543972b8b"
   },
   "source": [
    "#### Датасет для обогащения"
   ]
  },
  {
   "cell_type": "code",
   "execution_count": 881,
   "metadata": {
    "cellId": "4fexw7hq8jabb2zttlaka"
   },
   "outputs": [],
   "source": [
    "#!c1.8\n",
    "cars = pd.read_csv('./cars.csv')"
   ]
  },
  {
   "cell_type": "markdown",
   "metadata": {
    "cellId": "2ecai5i1nldxh9hiq9g66o",
    "execution_id": "703dec1d-4129-4fc8-8e90-968b4bb4b862"
   },
   "source": [
    "#### Обработанный датасет с one-hot кодированием категориальных переменных"
   ]
  },
  {
   "cell_type": "code",
   "execution_count": 882,
   "metadata": {
    "cellId": "s06ml06z6af5w5krtwv04h"
   },
   "outputs": [
    {
     "name": "stdout",
     "output_type": "stream",
     "text": [
      "Обработанный датасет с one-hot кодированием категориальных переменных не найден\n"
     ]
    }
   ],
   "source": [
    "#!c1.8\n",
    "if os.path.isfile('df_ml_linear_regression.csv'):\n",
    "    try:\n",
    "        df_ml_linear_regression = pd.read_csv('/kaggle/input/used-cars-price-prediction-19ds/df_ml_linear_regression.csv', sep=';')\n",
    "    except FileNotFoundError:\n",
    "        df_ml_linear_regression = pd.read_csv('./df_ml_linear_regression.csv', sep=';')\n",
    "else:\n",
    "    print('Обработанный датасет с one-hot кодированием категориальных переменных не найден')"
   ]
  },
  {
   "cell_type": "markdown",
   "metadata": {
    "cellId": "jox2s3rfb7a22p64osyf63",
    "execution_id": "b8d924ff-a18e-4289-a17c-0c7b0c6a126b"
   },
   "source": [
    "<div class=\"alert alert-warning\">\n",
    "<b>Комментарий ревьюера ⚠️:</b><br>\n",
    "    Здесь код вспотыкается и пересчитать всю тетрадку не получилось, поэтому работа была проверена \"как есть\" 😞<br>\n",
    "    Конструкция загрузки предобработанных данных через try-except правильная, но нужно предусмотреть вариант, когда файла не существует ни в одном месте и предобработку нужно выполнять с нуля. Возможно, здесь лучше подойдет проверка существования файла через os.path.isfile(file_name), т.к. она позволит проверить несколько условий и если файла нет нигде - создаем новый датафрейм.<br>\n",
    "    <b>P.S.</b> Дальше в тетрадке есть блок, в котором <b>df_ml_linear_regression</b> создается и записывается в файл, но там опять же не предусмотрено, что файл уже существует.\n",
    "</div>"
   ]
  },
  {
   "cell_type": "markdown",
   "metadata": {
    "cellId": "w2gkuooyc5og4zh6ozeyqn",
    "execution_id": "78a66561-9551-43a9-a12d-3af730d36b6e"
   },
   "source": [
    "<div class=\"alert alert-info\"> <b>Комментарий студента:</b>Спасибо за подсказку, добавил os.path.isfile(file_name)</div>"
   ]
  },
  {
   "cell_type": "markdown",
   "metadata": {
    "cellId": "yst4m3bbx9l0udgsk2i3",
    "execution_id": "ee2f995c-0129-4f94-88d3-25462463508a"
   },
   "source": [
    "### Посмотрим на данные"
   ]
  },
  {
   "cell_type": "code",
   "execution_count": 883,
   "metadata": {
    "cellId": "67i809lv1b1rciadzoc35"
   },
   "outputs": [
    {
     "data": {
      "text/html": [
       "<div>\n",
       "<style scoped>\n",
       "    .dataframe tbody tr th:only-of-type {\n",
       "        vertical-align: middle;\n",
       "    }\n",
       "\n",
       "    .dataframe tbody tr th {\n",
       "        vertical-align: top;\n",
       "    }\n",
       "\n",
       "    .dataframe thead th {\n",
       "        text-align: right;\n",
       "    }\n",
       "</style>\n",
       "<table border=\"1\" class=\"dataframe\">\n",
       "  <thead>\n",
       "    <tr style=\"text-align: right;\">\n",
       "      <th></th>\n",
       "      <th>year</th>\n",
       "      <th>make</th>\n",
       "      <th>model</th>\n",
       "      <th>trim</th>\n",
       "      <th>body</th>\n",
       "      <th>transmission</th>\n",
       "      <th>vin</th>\n",
       "      <th>state</th>\n",
       "      <th>condition</th>\n",
       "      <th>odometer</th>\n",
       "      <th>color</th>\n",
       "      <th>interior</th>\n",
       "      <th>seller</th>\n",
       "      <th>sellingprice</th>\n",
       "      <th>saledate</th>\n",
       "    </tr>\n",
       "  </thead>\n",
       "  <tbody>\n",
       "    <tr>\n",
       "      <th>0</th>\n",
       "      <td>2011</td>\n",
       "      <td>Ford</td>\n",
       "      <td>Edge</td>\n",
       "      <td>SEL</td>\n",
       "      <td>suv</td>\n",
       "      <td>automatic</td>\n",
       "      <td>2fmdk3jc4bba41556</td>\n",
       "      <td>md</td>\n",
       "      <td>4.2</td>\n",
       "      <td>111041.0</td>\n",
       "      <td>black</td>\n",
       "      <td>black</td>\n",
       "      <td>santander consumer</td>\n",
       "      <td>12500</td>\n",
       "      <td>Tue Jun 02 2015 02:30:00 GMT-0700 (PDT)</td>\n",
       "    </tr>\n",
       "    <tr>\n",
       "      <th>1</th>\n",
       "      <td>2014</td>\n",
       "      <td>Ford</td>\n",
       "      <td>Fusion</td>\n",
       "      <td>SE</td>\n",
       "      <td>Sedan</td>\n",
       "      <td>automatic</td>\n",
       "      <td>3fa6p0h75er208976</td>\n",
       "      <td>mo</td>\n",
       "      <td>3.5</td>\n",
       "      <td>31034.0</td>\n",
       "      <td>black</td>\n",
       "      <td>black</td>\n",
       "      <td>ars/avis budget group</td>\n",
       "      <td>14500</td>\n",
       "      <td>Wed Feb 25 2015 02:00:00 GMT-0800 (PST)</td>\n",
       "    </tr>\n",
       "    <tr>\n",
       "      <th>2</th>\n",
       "      <td>2012</td>\n",
       "      <td>Nissan</td>\n",
       "      <td>Sentra</td>\n",
       "      <td>2.0 SL</td>\n",
       "      <td>sedan</td>\n",
       "      <td>automatic</td>\n",
       "      <td>3n1ab6ap4cl698412</td>\n",
       "      <td>nj</td>\n",
       "      <td>2.2</td>\n",
       "      <td>35619.0</td>\n",
       "      <td>black</td>\n",
       "      <td>black</td>\n",
       "      <td>nissan-infiniti lt</td>\n",
       "      <td>9100</td>\n",
       "      <td>Wed Jun 10 2015 02:30:00 GMT-0700 (PDT)</td>\n",
       "    </tr>\n",
       "    <tr>\n",
       "      <th>3</th>\n",
       "      <td>2003</td>\n",
       "      <td>HUMMER</td>\n",
       "      <td>H2</td>\n",
       "      <td>Base</td>\n",
       "      <td>suv</td>\n",
       "      <td>automatic</td>\n",
       "      <td>5grgn23u93h101360</td>\n",
       "      <td>tx</td>\n",
       "      <td>2.8</td>\n",
       "      <td>131301.0</td>\n",
       "      <td>gold</td>\n",
       "      <td>beige</td>\n",
       "      <td>wichita falls ford lin inc</td>\n",
       "      <td>13300</td>\n",
       "      <td>Wed Jun 17 2015 03:00:00 GMT-0700 (PDT)</td>\n",
       "    </tr>\n",
       "    <tr>\n",
       "      <th>4</th>\n",
       "      <td>2007</td>\n",
       "      <td>Ford</td>\n",
       "      <td>Fusion</td>\n",
       "      <td>SEL</td>\n",
       "      <td>Sedan</td>\n",
       "      <td>automatic</td>\n",
       "      <td>3fahp08z17r268380</td>\n",
       "      <td>md</td>\n",
       "      <td>2.0</td>\n",
       "      <td>127709.0</td>\n",
       "      <td>black</td>\n",
       "      <td>black</td>\n",
       "      <td>purple heart</td>\n",
       "      <td>1300</td>\n",
       "      <td>Tue Feb 03 2015 04:00:00 GMT-0800 (PST)</td>\n",
       "    </tr>\n",
       "  </tbody>\n",
       "</table>\n",
       "</div>"
      ],
      "text/plain": [
       "   year    make  ... sellingprice                                 saledate\n",
       "0  2011    Ford  ...        12500  Tue Jun 02 2015 02:30:00 GMT-0700 (PDT)\n",
       "1  2014    Ford  ...        14500  Wed Feb 25 2015 02:00:00 GMT-0800 (PST)\n",
       "2  2012  Nissan  ...         9100  Wed Jun 10 2015 02:30:00 GMT-0700 (PDT)\n",
       "3  2003  HUMMER  ...        13300  Wed Jun 17 2015 03:00:00 GMT-0700 (PDT)\n",
       "4  2007    Ford  ...         1300  Tue Feb 03 2015 04:00:00 GMT-0800 (PST)\n",
       "\n",
       "[5 rows x 15 columns]"
      ]
     },
     "execution_count": 883,
     "metadata": {},
     "output_type": "execute_result"
    }
   ],
   "source": [
    "#!c1.8\n",
    "df.head()"
   ]
  },
  {
   "cell_type": "code",
   "execution_count": 884,
   "metadata": {
    "cellId": "nlio2kaotrcti66kfklx5"
   },
   "outputs": [
    {
     "name": "stdout",
     "output_type": "stream",
     "text": [
      "<class 'pandas.core.frame.DataFrame'>\n",
      "RangeIndex: 440236 entries, 0 to 440235\n",
      "Data columns (total 15 columns):\n",
      " #   Column        Non-Null Count   Dtype  \n",
      "---  ------        --------------   -----  \n",
      " 0   year          440236 non-null  int64  \n",
      " 1   make          432193 non-null  object \n",
      " 2   model         432113 non-null  object \n",
      " 3   trim          431899 non-null  object \n",
      " 4   body          429843 non-null  object \n",
      " 5   transmission  388775 non-null  object \n",
      " 6   vin           440236 non-null  object \n",
      " 7   state         440236 non-null  object \n",
      " 8   condition     430831 non-null  float64\n",
      " 9   odometer      440167 non-null  float64\n",
      " 10  color         439650 non-null  object \n",
      " 11  interior      439650 non-null  object \n",
      " 12  seller        440236 non-null  object \n",
      " 13  sellingprice  440236 non-null  int64  \n",
      " 14  saledate      440236 non-null  object \n",
      "dtypes: float64(2), int64(2), object(11)\n",
      "memory usage: 50.4+ MB\n"
     ]
    }
   ],
   "source": [
    "#!c1.8\n",
    "df.info()"
   ]
  },
  {
   "cell_type": "markdown",
   "metadata": {
    "cellId": "tmtjv5c648ag4e3srujji",
    "execution_id": "3081953c-e594-433d-9591-556bac1c3b55"
   },
   "source": [
    "<div class=\"alert alert-success\">\n",
    "<b>Комментарий ревьювера ✅:</b><br>\n",
    "    Первичный обзор данных выполнен👍<br>\n",
    "    Советую также использовать методы <a href = \"https://pandas.pydata.org/pandas-docs/stable/reference/api/pandas.DataFrame.describe.html\">pandas.DataFrame.describe</a> и .isna(), чтобы он получился полнее. А в конце обязательно промежуточные итоги - что увидели, какие проблемы обнаружены 😊\n",
    "</div>\n"
   ]
  },
  {
   "cell_type": "markdown",
   "metadata": {
    "cellId": "p5hle89v609j4drzph137",
    "execution_id": "21b0e57d-c46a-43de-aaf1-0517555389bf"
   },
   "source": [
    "<div class=\"alert alert-info\"> <b>Комментарий студента:</b>Спасибо за подсказку, добавил describe() и isna()</div>"
   ]
  },
  {
   "cell_type": "code",
   "execution_count": 885,
   "metadata": {
    "cellId": "c8ke9bubtieey02n4qksq9"
   },
   "outputs": [
    {
     "data": {
      "text/html": [
       "<div>\n",
       "<style scoped>\n",
       "    .dataframe tbody tr th:only-of-type {\n",
       "        vertical-align: middle;\n",
       "    }\n",
       "\n",
       "    .dataframe tbody tr th {\n",
       "        vertical-align: top;\n",
       "    }\n",
       "\n",
       "    .dataframe thead th {\n",
       "        text-align: right;\n",
       "    }\n",
       "</style>\n",
       "<table border=\"1\" class=\"dataframe\">\n",
       "  <thead>\n",
       "    <tr style=\"text-align: right;\">\n",
       "      <th></th>\n",
       "      <th>year</th>\n",
       "      <th>condition</th>\n",
       "      <th>odometer</th>\n",
       "      <th>sellingprice</th>\n",
       "    </tr>\n",
       "  </thead>\n",
       "  <tbody>\n",
       "    <tr>\n",
       "      <th>count</th>\n",
       "      <td>440236.000000</td>\n",
       "      <td>430831.000000</td>\n",
       "      <td>440167.000000</td>\n",
       "      <td>440236.000000</td>\n",
       "    </tr>\n",
       "    <tr>\n",
       "      <th>mean</th>\n",
       "      <td>2010.040101</td>\n",
       "      <td>3.425077</td>\n",
       "      <td>68344.421604</td>\n",
       "      <td>13592.209588</td>\n",
       "    </tr>\n",
       "    <tr>\n",
       "      <th>std</th>\n",
       "      <td>3.977945</td>\n",
       "      <td>0.949973</td>\n",
       "      <td>53542.203908</td>\n",
       "      <td>9751.479098</td>\n",
       "    </tr>\n",
       "    <tr>\n",
       "      <th>min</th>\n",
       "      <td>1982.000000</td>\n",
       "      <td>1.000000</td>\n",
       "      <td>1.000000</td>\n",
       "      <td>1.000000</td>\n",
       "    </tr>\n",
       "    <tr>\n",
       "      <th>25%</th>\n",
       "      <td>2007.000000</td>\n",
       "      <td>2.700000</td>\n",
       "      <td>28258.000000</td>\n",
       "      <td>6900.000000</td>\n",
       "    </tr>\n",
       "    <tr>\n",
       "      <th>50%</th>\n",
       "      <td>2012.000000</td>\n",
       "      <td>3.600000</td>\n",
       "      <td>52098.000000</td>\n",
       "      <td>12100.000000</td>\n",
       "    </tr>\n",
       "    <tr>\n",
       "      <th>75%</th>\n",
       "      <td>2013.000000</td>\n",
       "      <td>4.200000</td>\n",
       "      <td>99272.000000</td>\n",
       "      <td>18200.000000</td>\n",
       "    </tr>\n",
       "    <tr>\n",
       "      <th>max</th>\n",
       "      <td>2015.000000</td>\n",
       "      <td>5.000000</td>\n",
       "      <td>999999.000000</td>\n",
       "      <td>230000.000000</td>\n",
       "    </tr>\n",
       "  </tbody>\n",
       "</table>\n",
       "</div>"
      ],
      "text/plain": [
       "                year      condition       odometer   sellingprice\n",
       "count  440236.000000  430831.000000  440167.000000  440236.000000\n",
       "mean     2010.040101       3.425077   68344.421604   13592.209588\n",
       "std         3.977945       0.949973   53542.203908    9751.479098\n",
       "min      1982.000000       1.000000       1.000000       1.000000\n",
       "25%      2007.000000       2.700000   28258.000000    6900.000000\n",
       "50%      2012.000000       3.600000   52098.000000   12100.000000\n",
       "75%      2013.000000       4.200000   99272.000000   18200.000000\n",
       "max      2015.000000       5.000000  999999.000000  230000.000000"
      ]
     },
     "execution_count": 885,
     "metadata": {},
     "output_type": "execute_result"
    }
   ],
   "source": [
    "#!c1.8\n",
    "df.describe()"
   ]
  },
  {
   "cell_type": "markdown",
   "metadata": {
    "cellId": "8i3cxg2k2dkdsfsazgif65",
    "execution_id": "aba09aad-730a-4cb6-9b27-fad69d2cd5de"
   },
   "source": [
    "Можем заметить, что\n",
    "1. Средредний пробег **odometer\t** автомобилей выставленных на продажу 68тыс км, и медиана 52тыс\n",
    "2. средняя цена продажи **sellingprice** 13.5тыс долларов и медиана 12.1тыс долларов"
   ]
  },
  {
   "cell_type": "code",
   "execution_count": 886,
   "metadata": {
    "cellId": "2v0n1tigy7tapunh4p72y5"
   },
   "outputs": [
    {
     "data": {
      "text/plain": [
       "year                0\n",
       "make             8043\n",
       "model            8123\n",
       "trim             8337\n",
       "body            10393\n",
       "transmission    51461\n",
       "vin                 0\n",
       "state               0\n",
       "condition        9405\n",
       "odometer           69\n",
       "color             586\n",
       "interior          586\n",
       "seller              0\n",
       "sellingprice        0\n",
       "saledate            0\n",
       "dtype: int64"
      ]
     },
     "execution_count": 886,
     "metadata": {},
     "output_type": "execute_result"
    }
   ],
   "source": [
    "#!c1.8\n",
    "df.isna().sum()"
   ]
  },
  {
   "cell_type": "markdown",
   "metadata": {
    "cellId": "hf1brdc9mtl76lrr67rk3k",
    "execution_id": "d02201ce-5efb-44ef-b86e-3faf7d65aa84"
   },
   "source": [
    "В данных присутсвуют пропуски, вернемся к ним позже"
   ]
  },
  {
   "cell_type": "markdown",
   "metadata": {
    "cellId": "y11zpcoy2u8zkx9fbtmm8p",
    "execution_id": "c8976e5d-0e7b-4812-8f92-6b7c32a1a7e5"
   },
   "source": [
    "### Удалим столбцы"
   ]
  },
  {
   "cell_type": "markdown",
   "metadata": {
    "cellId": "yy77t4mgcil6vgp8mfio9o",
    "execution_id": "32dd9f27-5954-4b5b-8fcd-fe1033113e06"
   },
   "source": [
    "#### **vin** - идентификационный номер транспортного средства"
   ]
  },
  {
   "cell_type": "markdown",
   "metadata": {
    "cellId": "f2c0dtigc4brje01on94uf",
    "execution_id": "c10fdf57-e737-474e-b5f6-c1a13ede65f2"
   },
   "source": [
    "~~Удалим столбец **vin** так как он не несет практической пользы в нашей задаче, все его значения уникальны~~"
   ]
  },
  {
   "cell_type": "markdown",
   "metadata": {
    "cellId": "59razirdx2phgs5gx16yut",
    "execution_id": "f35edb02-cdb7-45ee-8f59-20e811206cc8"
   },
   "source": [
    "Я буду использовать столбец **vin**,в будущем это пригодится для заполнения пропусков"
   ]
  },
  {
   "cell_type": "markdown",
   "metadata": {
    "cellId": "z9df0zb1peup37lccwwz",
    "execution_id": "e5bef69b-3765-4dfc-9745-de2c0db0467a"
   },
   "source": [
    "<div class=\"alert alert-warning\">\n",
    "<b>Комментарий ревьюера ⚠️:</b><br>\n",
    "    Можно и так, но из данных можно выжать максимум и воспользоваться модулем: <code>from vininfo import Vin</code>, в котором содержится вся информация об авто по его VIN коду в расшифрованном виде (в т.ч. модель, тип кузова и т.д.)😊\n",
    "</div>\n"
   ]
  },
  {
   "cell_type": "markdown",
   "metadata": {
    "cellId": "pnbq2twoz6bb5s1c1528jb",
    "execution_id": "10d7f693-e8b1-44fa-8340-1378cc359df9"
   },
   "source": [
    "<div class=\"alert alert-info\"> <b>Комментарий студента:</b>\n",
    "    Спасибо за подсказку, добавил логику работы с библиотекой vininfo, на самом деле для меня это в какой то степени, открытие, не подумал о таких возможностях\n",
    "</div>"
   ]
  },
  {
   "cell_type": "code",
   "execution_count": 887,
   "metadata": {
    "cellId": "pzqrsyh0i3iatpvk930u09"
   },
   "outputs": [],
   "source": [
    "#!c1.8\n",
    "def get_info_from_vin(row) -> list:\n",
    "    vin = Vin(row['vin'])\n",
    "    basic = vin.annotate()\n",
    "    details = vin.details\n",
    "\n",
    "    info = {\n",
    "        'wmi': vin.wmi,\n",
    "        'manufacturer': vin.manufacturer,\n",
    "        'vds': vin.vds,\n",
    "        'vis': vin.vis,\n",
    "        'years': vin.years,\n",
    "        'region': vin.region,\n",
    "        'country': vin.country,\n",
    "        'model': details.model.name if details else np.nan,\n",
    "        'body': details.body.name if details else np.nan,\n",
    "        'engine': details.engine.name if details else np.nan,\n",
    "        'plant': details.plant.name if details else np.nan,\n",
    "        'transmission': details.transmission.name if details else np.nan,\n",
    "        'serial': details.serial.code if details else np.nan,\n",
    "    }\n",
    "    return info.values()"
   ]
  },
  {
   "cell_type": "code",
   "execution_count": null,
   "metadata": {
    "cellId": "eh2u83tlpgl9rxoagxmiew",
    "execution_id": "61444cae-7d4d-45fe-a7ab-9ca4307d3fb5"
   },
   "outputs": [
    {
     "data": {
      "application/vnd.jupyter.widget-view+json": {
       "model_id": "dc14c9324bb6412aabe9881a1e2e701f",
       "version_major": 2,
       "version_minor": 0
      },
      "text/plain": [
       "  0%|          | 0/440236 [00:00<?, ?it/s]"
      ]
     },
     "metadata": {},
     "output_type": "display_data"
    }
   ],
   "source": [
    "#!c1.8\n",
    "details = df.progress_apply(get_info_from_vin, axis=1, result_type='expand')"
   ]
  },
  {
   "cell_type": "code",
   "execution_count": null,
   "metadata": {
    "cellId": "4xwndrcm2w8o0fkndw267r",
    "execution_id": "4ee2319c-0de4-44e2-9b58-8a9fd8da859c"
   },
   "outputs": [],
   "source": [
    "#!c1.8\n",
    "details.columns = ['wmi', 'manufacturer', 'vds', 'vis', 'years', 'region', 'country', 'model', 'body', 'engine', 'plant', 'transmission', 'serial']"
   ]
  },
  {
   "cell_type": "code",
   "execution_count": null,
   "metadata": {
    "cellId": "a7ma3zxgh3ys3vfn06xe9",
    "execution_id": "7470babf-64a8-45c2-9204-d001bad13cd6"
   },
   "outputs": [],
   "source": [
    "#!c1.8\n",
    "details['vin'] = df['vin']\n",
    "details = details.set_index('vin')"
   ]
  },
  {
   "cell_type": "code",
   "execution_count": null,
   "metadata": {
    "cellId": "qk90vsasuwnnmjnjtka8n",
    "execution_id": "5030b5ae-f49e-44d0-b70a-cc2ab89a9a3a"
   },
   "outputs": [],
   "source": [
    "#!c1.8\n",
    "details.head()"
   ]
  },
  {
   "cell_type": "markdown",
   "metadata": {
    "cellId": "j5e56myhleete4k81yjbfj",
    "execution_id": "90f85b80-3941-469d-a999-81e9e61a8a5a"
   },
   "source": [
    "В процессе изучения работы с **vin** номером автомобиля, пришла в голову идея получить более подробную информацию о машине используя **vin** номер. В ходе изучения продуктов представленных на рынке, безлимитная бесплатная версия *API* оказалость только у [Министерства транспорта США](https://vpic.nhtsa.dot.gov). Далее будет использование их API для получения информации."
   ]
  },
  {
   "cell_type": "code",
   "execution_count": null,
   "metadata": {
    "cellId": "40e02w7tgx2066mou3467sx",
    "execution_id": "3d61952f-5a93-470e-8f32-a7755eb1cdd4"
   },
   "outputs": [],
   "source": [
    "#!c1.8\n",
    "def parse_json_from_nhtsa(response) -> dict:\n",
    "    '''Получение информации из json, игнорируя пустые фичи'''\n",
    "    info = {}\n",
    "    results = response['Results']\n",
    "    for result in results:\n",
    "        if result['Value']:\n",
    "            info[result['Variable']] = result['Value']\n",
    "    return info"
   ]
  },
  {
   "cell_type": "code",
   "execution_count": null,
   "metadata": {
    "cellId": "xs8qcsqd92g3eol89tsy9",
    "execution_id": "69553f35-c252-4d9d-9865-91fa1a63c3c3"
   },
   "outputs": [],
   "source": [
    "#!c1.8\n",
    "def get_url(url, vin):\n",
    "    response = get(url=url + vin, params={'format': 'json'})\n",
    "    return response"
   ]
  },
  {
   "cell_type": "code",
   "execution_count": null,
   "metadata": {
    "cellId": "bdrd5g6bwbtva4cdrdf3q",
    "execution_id": "7d7d3641-d16a-4347-b860-6df6a4227fe9"
   },
   "outputs": [],
   "source": [
    "#!c1.8\n",
    "vin_info_from_nhtsa = []\n",
    "url = 'https://vpic.nhtsa.dot.gov/api/vehicles/decodevinextended/'"
   ]
  },
  {
   "cell_type": "code",
   "execution_count": null,
   "metadata": {
    "cellId": "u949osg4b4hjzxiclate0l",
    "execution_id": "d0d6e6da-45fd-4a9f-a862-d7ea212023a2"
   },
   "outputs": [],
   "source": [
    "#!c1.8\n",
    "for vin in tqdm(details.head().index.values):\n",
    "    response = get_url(url, vin)\n",
    "    info = parse_json_from_nhtsa(response.json())\n",
    "    info['vin'] = vin\n",
    "    vin_info_from_nhtsa.append(info)"
   ]
  },
  {
   "cell_type": "markdown",
   "metadata": {
    "cellId": "lc9gky8s5vevz1g8o4pz1k",
    "execution_id": "10d896ec-ff2a-46c9-ace4-5912f2655537"
   },
   "source": [
    "Прогноз времени выполнения верхней ячейки 40 часов (при использовании обычного цикла for), мне удалось скачать базу данных с сайта министрества в формате bak, сейчас я бы мог пробовать получить информацию из него, автономно на локальном компьютере, и загрузить ее потом в ноутбук, но для работы с [ms sql server 2019](https://www.microsoft.com/ru-RU/download/details.aspx?id=101064) необходима операйионная система Windows, тк я счастливый обладатель макбука буду пользоваться docker. Еще есть идея распараллелить вычисления на несколько [колабов](http://colab.research.google.com) или через паралельные процессы на своей машине, сейчас буду изучать вопрос."
   ]
  },
  {
   "cell_type": "markdown",
   "metadata": {
    "cellId": "i1mt9eigrsl8pejdaov",
    "execution_id": "6e9b4c31-5b80-498b-a5ed-99e3affccbe2"
   },
   "source": [
    "На момент написания этого проекта, у меня была Beta версия Mac OS и не получалось установить драйвера для работы с базой локально. Поэтому далее в проекте обогощение данных с помощью vin номера не реализовано, планируююу вернуться к этому в будущем, когда будет возможность работать с базой локально."
   ]
  },
  {
   "cell_type": "markdown",
   "metadata": {
    "cellId": "fbmmlxrk4yhj0kw9gefyf",
    "execution_id": "6906704b-a56b-4497-94bb-41f4925805a8"
   },
   "source": [
    "Ниже предствален пример данных, полученных из **vin** номера"
   ]
  },
  {
   "cell_type": "code",
   "execution_count": null,
   "metadata": {
    "cellId": "32u1ow63dd5i2xeters1w",
    "execution_id": "c556dd2e-e0e5-489c-ba19-2144f40f6df4"
   },
   "outputs": [],
   "source": [
    "#!c1.8\n",
    "df_vin_info_from_nhtsa = pd.DataFrame(vin_info_from_nhtsa)\n",
    "df_vin_info_from_nhtsa = df_vin_info_from_nhtsa.set_index('vin')\n",
    "df_vin_info_from_nhtsa.to_csv('df_vin_info_from_nhtsa.csv')"
   ]
  },
  {
   "cell_type": "code",
   "execution_count": null,
   "metadata": {
    "cellId": "6ybzoa6v5ndk0hecksl0b",
    "execution_id": "a76a0f37-1cea-434a-a456-ab89b42d0770"
   },
   "outputs": [],
   "source": [
    "#!c1.8\n",
    "df_vin_info_from_nhtsa.head()"
   ]
  },
  {
   "cell_type": "code",
   "execution_count": null,
   "metadata": {
    "cellId": "x81k5jxjjes4qjoxb07l5l",
    "execution_id": "e1823599-26b5-417e-bab1-be0fc8dab152"
   },
   "outputs": [],
   "source": [
    "#!c1.8\n",
    "df.head()"
   ]
  },
  {
   "cell_type": "markdown",
   "metadata": {
    "cellId": "tg5a01u6f4pzvmqfkys0af",
    "execution_id": "5dd60062-b9fc-49cd-bca3-35291da37791"
   },
   "source": [
    "Добавим полученную информацию из vin номера, на этапе заполнения пропусков"
   ]
  },
  {
   "cell_type": "markdown",
   "metadata": {
    "cellId": "vygkwkf0c54fez696tqhi",
    "execution_id": "296a0309-e5bd-4bf3-b612-5c0349ed40ff"
   },
   "source": [
    "#### **Seller** - Продавец автомобиля, автосалоны."
   ]
  },
  {
   "cell_type": "markdown",
   "metadata": {
    "cellId": "aynjns9hyjxiz22i5o75i",
    "execution_id": "6ae4539f-9f29-404c-b626-84a2180f6751"
   },
   "source": [
    "Уалим столбец **seller** так как он не несет практической пользы в нашей задаче, потому на рыночную стоимость в момент публикации обьявления не влияет создатель обьявления, стоимость машины должна зависеть болько от ее характеристик и состояния"
   ]
  },
  {
   "cell_type": "code",
   "execution_count": null,
   "metadata": {
    "cellId": "09q1rer7h61o15eddarvhdh",
    "execution_id": "f9422644-c8e1-42ad-9698-73642424cd91"
   },
   "outputs": [],
   "source": [
    "#!c1.8\n",
    "df['seller'].duplicated().sum()"
   ]
  },
  {
   "cell_type": "code",
   "execution_count": null,
   "metadata": {
    "cellId": "d9xe75mxoaddqbchasw9k",
    "execution_id": "049daf0a-3a4b-49d7-975b-eb7a4cae4918"
   },
   "outputs": [],
   "source": [
    "#!c1.8\n",
    "df = df.drop(columns=['seller'])"
   ]
  },
  {
   "cell_type": "markdown",
   "metadata": {
    "cellId": "ce48zx9fxghf8l2va9vm5o",
    "execution_id": "5d0b78ac-9027-4c60-96d2-16bf919b5e54"
   },
   "source": [
    "<div class=\"alert alert-success\">\n",
    "<b>Комментарий ревьювера ✅:</b><br>\n",
    "    Полностью поддерживаю 👍\n",
    "</div>\n"
   ]
  },
  {
   "cell_type": "markdown",
   "metadata": {
    "cellId": "gifdz5cq81onvta7ldu9lg",
    "execution_id": "2f3c9248-0f10-4126-9ee8-9f3ad8ec56c1"
   },
   "source": [
    "#### **State** - Штат в котором продаеься автомобиль"
   ]
  },
  {
   "cell_type": "markdown",
   "metadata": {
    "cellId": "egtgep9cfp7ljbp7d5pg3",
    "execution_id": "35482335-51da-455c-a9b9-d28c77c8aa22"
   },
   "source": [
    "Удалим столбец **state** в котором содержится информация о штатае, в котором продается машина"
   ]
  },
  {
   "cell_type": "code",
   "execution_count": null,
   "metadata": {
    "cellId": "65a6ofd22truuvjww2nrbb",
    "execution_id": "8719230a-d534-49c9-b90a-dbae85063784"
   },
   "outputs": [],
   "source": [
    "#!c1.8\n",
    "df['state'].value_counts().head()"
   ]
  },
  {
   "cell_type": "code",
   "execution_count": null,
   "metadata": {
    "cellId": "xe3sgyrsov69o9o7pcfms",
    "execution_id": "3b4c530a-4ff6-47c7-bd94-adbedf1178b6"
   },
   "outputs": [],
   "source": [
    "#!c1.8\n",
    "df = df.drop(columns=['state'])"
   ]
  },
  {
   "cell_type": "markdown",
   "metadata": {
    "cellId": "nnad2nogoi9zr6rkbrxfqd",
    "execution_id": "f60870ba-ea44-454d-a368-a2841f7615a1"
   },
   "source": [
    "<div class=\"alert alert-success\">\n",
    "<b>Комментарий ревьювера ✅:</b><br>\n",
    "    Полностью поддерживаю 👍\n",
    "</div>\n"
   ]
  },
  {
   "cell_type": "markdown",
   "metadata": {
    "cellId": "y9lj6b0r2ghovdxwno1ca",
    "execution_id": "1e4db5b7-4485-4587-ac2a-119195973332"
   },
   "source": [
    "### Пропуски в данных"
   ]
  },
  {
   "cell_type": "code",
   "execution_count": null,
   "metadata": {
    "cellId": "xhc4lqnqubobdfd81bksvs",
    "execution_id": "00cc2069-fcb2-42ea-986d-74e756fb0f13"
   },
   "outputs": [],
   "source": [
    "#!c1.8\n",
    "df.isna().sum()"
   ]
  },
  {
   "cell_type": "code",
   "execution_count": null,
   "metadata": {
    "cellId": "u30fjwtix5si4ftw6xcw5m",
    "execution_id": "9aee0227-817e-4b65-84f2-2b19b21c006b"
   },
   "outputs": [],
   "source": [
    "#!c1.8\n",
    "df.isna().mean() * 100"
   ]
  },
  {
   "cell_type": "markdown",
   "metadata": {
    "cellId": "ckvfl7qclfkc4uec44m53e",
    "execution_id": "060fa5fb-1b0f-4471-8684-40702c00ed33"
   },
   "source": [
    "<div class=\"alert alert-success\">\n",
    "<b>Комментарий ревьювера ✅:</b><br>\n",
    "    Узнать долю пропущенных значений можно с помощью команды <code>pd.DataFrame.isna().mean()</code>, а если результат умножить на 100, то получатся проценты 😊 \n",
    "</div>\n"
   ]
  },
  {
   "cell_type": "markdown",
   "metadata": {
    "cellId": "0gbtg53lokh84krtpef3jxn",
    "execution_id": "72133d3b-2396-40a2-b3df-9b7e0b365b9e"
   },
   "source": [
    "<div class=\"alert alert-info\"> <b>Комментарий студента:</b>\n",
    "    Спасибо за подсказку, исправил\n",
    "</div>"
   ]
  },
  {
   "cell_type": "markdown",
   "metadata": {
    "cellId": "fcp4jdf7u6ovoi7pwrc52",
    "execution_id": "edcbfc0e-2df2-4581-9072-689d9180ce31"
   },
   "source": [
    "Обнаружены пропуски в данных, в столбцах: (% от общего числа данных) \n",
    "* **make** 1.82 %\n",
    "* **model** 1.84 %\n",
    "* **trim** 1.89 % \n",
    "* **body** 2.36 %\n",
    "* **transmission** 11.68 %\n",
    "* **condition** 2.13 %\n",
    "* **odometer**  0.01 % \n",
    "* **color** 0.13 %\n",
    "* **interior** 0.13 %"
   ]
  },
  {
   "cell_type": "markdown",
   "metadata": {
    "cellId": "g59416zgy7fb2n4aaeo3f",
    "execution_id": "0bd58aec-3dce-4d01-80e5-5bebc0fed4d4"
   },
   "source": [
    "~~Процент пропусков не значительный, менее 5% не считая столбца **transmission**, в нем процент пропусков равен 11.68%, вернемся к нему после удаления строк с пропусками в остальных колонках~~"
   ]
  },
  {
   "cell_type": "markdown",
   "metadata": {
    "cellId": "7ugogloftb7a96qkvtxxpu",
    "execution_id": "bddadc52-cc57-46e2-8834-7b64498b73ab"
   },
   "source": [
    "~~nan_columns = df.columns.to_list()\n",
    "nan_columns.remove('transmission')~~"
   ]
  },
  {
   "cell_type": "markdown",
   "metadata": {
    "cellId": "yq3ckyow7wqkhn879wwjp",
    "execution_id": "f468f7b5-378a-493b-afc7-fadc1820a074"
   },
   "source": [
    "~~df = df.dropna(subset=nan_columns) # ingore transmission~~"
   ]
  },
  {
   "cell_type": "markdown",
   "metadata": {
    "cellId": "10ovmzorwwtpaeic7djmic",
    "execution_id": "1890e90a-9ee6-4c61-b935-039e1ca6e77f"
   },
   "source": [
    "<div class=\"alert alert-warning\">\n",
    "<b>Комментарий ревьюера ⚠️:</b><br>\n",
    "    Было бы полезно оценить какую точно часть данных мы теряем и, возможно, провести анализ и попытаться восстановить их 😊<br>\n",
    "    Вариантов заполнения пропущенных значений много и решить какой из них лучше можно очень простым путем - например, через заполнение <a href = \"https://scikit-learn.org/stable/modules/generated/sklearn.impute.SimpleImputer.html#sklearn.impute.SimpleImputer\">SimpleImputer</a> с разными стратегиями. А чтобы делать это автоматически - добавить его в <a href = \"https://scikit-learn.org/stable/modules/generated/sklearn.pipeline.Pipeline.html#sklearn.pipeline.Pipeline\">Pipeline</a>. Также можно написать свой класс-трансформер (<a href = \"https://towardsdatascience.com/custom-transformers-in-python-part-ii-6fe111fc82e4\">Custom Transformers and Pipelines in Python</a>)😉 В случае транформера тогда на этапе фита сохраняешь с трейна значения для заполнения пропусков и при траснформации применяешь к тесту.<br>\n",
    "</div>"
   ]
  },
  {
   "cell_type": "markdown",
   "metadata": {
    "cellId": "cwbuhaiyc5mregxxghra3",
    "execution_id": "913937b4-5ea1-4eff-b9d9-c800ad63fcb7"
   },
   "source": [
    "<div class=\"alert alert-info\"> <b>Комментарий студента:</b>\n",
    "    Заполним пропуски, используя информацию полученную из vin номера автомобиля\n",
    "</div>"
   ]
  },
  {
   "cell_type": "code",
   "execution_count": null,
   "metadata": {
    "cellId": "egz8dw5wiys3gpc8tefmu2",
    "execution_id": "0b279fe8-83aa-46a5-8c13-6b24d8e03f4b"
   },
   "outputs": [],
   "source": [
    "#!c1.8\n",
    "details.head(1)"
   ]
  },
  {
   "cell_type": "code",
   "execution_count": null,
   "metadata": {
    "cellId": "scgzlnrddnonygb39t6dwa",
    "execution_id": "02b8b007-9609-435f-827c-40b5a0456141"
   },
   "outputs": [],
   "source": [
    "#!c1.8\n",
    "def fillna_by_vin_inform(row):\n",
    "    vin_row = details.loc[row['vin']]\n",
    "    if type(row['make']) != str:\n",
    "        row['make'] = vin_row['manufacturer'] if type(vin_row['manufacturer']) != list else ' '.join(vin_row['manufacturer'])\n",
    "    if type(row['model']) != str:\n",
    "        row['model'] = vin_row['model'] if type(vin_row['model']) != list else ' '.join(vin_row['model'])\n",
    "    if type(row['body']) != str:\n",
    "        row['body'] = vin_row['body'] if type(vin_row['body']) != list else ' '.join(vin_row['body'])\n",
    "    if type(row['transmission']) != str:\n",
    "        row['transmission'] = vin_row['transmission'] if type(vin_row['transmission']) != list else ' '.join(vin_row['transmission'])\n",
    "        \n",
    "    return row"
   ]
  },
  {
   "cell_type": "code",
   "execution_count": null,
   "metadata": {
    "cellId": "hv5fhuelzd6sdfiqn50l8",
    "execution_id": "7864f35e-6044-495c-b1cd-d2049d7d3050"
   },
   "outputs": [],
   "source": [
    "#!c1.8\n",
    "df = df.progress_apply(fillna_by_vin_inform, axis=1)"
   ]
  },
  {
   "cell_type": "code",
   "execution_count": null,
   "metadata": {
    "cellId": "olfm07wgp4hbwrot0yuqp8",
    "execution_id": "58c949eb-c56c-4620-9c0b-382b295c7e0b"
   },
   "outputs": [],
   "source": [
    "#!c1.8\n",
    "df = df.set_index('vin')"
   ]
  },
  {
   "cell_type": "code",
   "execution_count": null,
   "metadata": {
    "cellId": "kh3792a7cde88pnqzb80cm",
    "execution_id": "1ff8543a-6232-4b35-85d1-a653ae4db35a"
   },
   "outputs": [],
   "source": [
    "#!c1.8\n",
    "df.isna().mean() * 100"
   ]
  },
  {
   "cell_type": "markdown",
   "metadata": {
    "cellId": "nwcmsumiif2sb8uw7vzl",
    "execution_id": "22c67b8d-390a-4000-9fb9-2996376e7c4b"
   },
   "source": [
    "Заполнили все пропуски в столбце **make**, незначительно уменьшили число пропусков в столбцах **model**, **body**, **transmission**.\n",
    "\n",
    "Изучем строки с пропусками"
   ]
  },
  {
   "cell_type": "code",
   "execution_count": null,
   "metadata": {
    "cellId": "l48ceuofa5l39gxrru7x",
    "execution_id": "71a87d2e-3c39-4746-a1fe-0248ccb9fcde"
   },
   "outputs": [],
   "source": [
    "#!c1.8\n",
    "df.loc[df['model'].isna() == True].head()"
   ]
  },
  {
   "cell_type": "code",
   "execution_count": null,
   "metadata": {
    "cellId": "et27vl3omnu3ikn8ubjetd",
    "execution_id": "c4f845a5-a862-417c-b0f9-fb641c46de5d"
   },
   "outputs": [],
   "source": [
    "#!c1.8\n",
    "nan_columns = df.columns.to_list()\n",
    "nan_columns.remove('transmission')\n",
    "df = df.dropna(subset=nan_columns)"
   ]
  },
  {
   "cell_type": "code",
   "execution_count": null,
   "metadata": {
    "cellId": "eg0o8aa67hntvyztxb123l",
    "execution_id": "f7626394-3216-4fa5-9e16-86c105b0f371"
   },
   "outputs": [],
   "source": [
    "#!c1.8\n",
    "df.isna().mean() * 100"
   ]
  },
  {
   "cell_type": "code",
   "execution_count": null,
   "metadata": {
    "cellId": "ry21rannvgkrlcidwxg53f",
    "execution_id": "f3290bf0-0591-4572-836c-b666eacbc2f9"
   },
   "outputs": [],
   "source": [
    "#!c1.8\n",
    "del nan_columns"
   ]
  },
  {
   "cell_type": "markdown",
   "metadata": {
    "cellId": "67c1knuh9muibwvfq7e3w",
    "execution_id": "1b8320d6-6dc9-4005-86d0-66f0b714da57"
   },
   "source": [
    "<div class=\"alert alert-success\">\n",
    "<b>Комментарий ревьювера ✅:</b><br>\n",
    "    Экономное обращение с памятью – полезное дело, особенно на больших проектах!\n",
    "</div>\n"
   ]
  },
  {
   "cell_type": "markdown",
   "metadata": {
    "cellId": "lma0j51w5e3wy1iejet2r",
    "execution_id": "76e8c63b-b71d-4251-b718-4c4751902b02"
   },
   "source": [
    "В столбце **transmission** осталось 11.47% пропусков, оставим их без изменений, вернемся к этому в будущем в разделе **Предобработка данных**"
   ]
  },
  {
   "cell_type": "code",
   "execution_count": null,
   "metadata": {
    "cellId": "b1c6k62jsvblw4w01v3ll",
    "execution_id": "a55a49e8-9733-4c6c-b0ef-48ecb2d12dbd"
   },
   "outputs": [],
   "source": [
    "#!c1.8\n",
    "df.loc[df['transmission'].isna() == True].head()"
   ]
  },
  {
   "cell_type": "markdown",
   "metadata": {
    "cellId": "k1t95y98lloodqg5j94sxl",
    "execution_id": "fb4cc94f-6ef0-44d7-a545-5aa61b68e311"
   },
   "source": [
    "## Предобработка данных"
   ]
  },
  {
   "cell_type": "markdown",
   "metadata": {
    "cellId": "n8vplipx4sbr0rew1o0w5",
    "execution_id": "871570ea-401a-4bbc-bbb5-7ad6e8dbb132"
   },
   "source": [
    "### Работа со временем\n",
    "Приведем дату из строки в datatime"
   ]
  },
  {
   "cell_type": "code",
   "execution_count": null,
   "metadata": {
    "cellId": "2cku0eg594jzix9l7r1ooa",
    "execution_id": "d94e1cd4-03da-4ede-9439-0148c31f21fa"
   },
   "outputs": [],
   "source": [
    "#!c1.8\n",
    "df['saledate'].head(2)"
   ]
  },
  {
   "cell_type": "markdown",
   "metadata": {
    "cellId": "vjtxxioiwv3gko6gqgrdn",
    "execution_id": "f94e1ab2-b584-4db9-b108-3313e2f49b9e"
   },
   "source": [
    "~~def to_datatime(df: pd.DataFrame, culumn='saledate') -> pd.DataFrame:\n",
    "    tmp = df['saledate'].str.split('-', expand=True)\n",
    "    df['saledate'] = tmp.iloc[:, 0]\n",
    "    df['saledate'] = pd.to_datetime(df['saledate'], format='%a %b %d %Y %H:%M:%S %Z')\n",
    "    return df\n",
    "~~"
   ]
  },
  {
   "cell_type": "markdown",
   "metadata": {
    "cellId": "l9jjnsbfn5x6ezieb61zc",
    "execution_id": "0052cdbc-611e-425f-907e-50d0ef0cca16"
   },
   "source": [
    "<div class=\"alert alert-warning\">\n",
    "<b>⚠️«Можно лучше»: </b><br>\n",
    "    Классно, что создаешь функции 😊 Но немного переусердствуешь там, где это не нужно 😊 Ровно такой же результат можно получить следующим образом:<br> \n",
    "    <code>df['saledate'] = pd.to_datetime(df['saledate'], utc=True).dt.normalize()</code>\n",
    "</div>"
   ]
  },
  {
   "cell_type": "markdown",
   "metadata": {
    "cellId": "kz1g6llqmvmbp6haq9ru",
    "execution_id": "b60a507e-8b91-4b86-877c-7b9aa8eb633e"
   },
   "source": [
    "~~df = to_datatime(df)~~"
   ]
  },
  {
   "cell_type": "code",
   "execution_count": null,
   "metadata": {
    "cellId": "j12ach157mjve0kxdacsj",
    "execution_id": "0686afe6-6948-4236-b0ef-e93e839a6894"
   },
   "outputs": [],
   "source": [
    "#!c1.8\n",
    "df['saledate'] = pd.to_datetime(df['saledate'], utc=True).dt.normalize()"
   ]
  },
  {
   "cell_type": "markdown",
   "metadata": {
    "cellId": "s22qj442m8tje4ivpgx9",
    "execution_id": "290cf976-8372-4380-9de7-4452fd6c1217"
   },
   "source": [
    "<div class=\"alert alert-info\"> <b>Комментарий студента:</b>\n",
    "    Спасибо, иправил\n",
    "</div>"
   ]
  },
  {
   "cell_type": "markdown",
   "metadata": {
    "cellId": "m4qvhxwxa99zr65wp4p7ln",
    "execution_id": "7d60744d-f602-4091-9319-5d3daf2a866f"
   },
   "source": [
    "Добавим следующие синтетические признаки:\n",
    "1. Год продажи - **sale_year**\n",
    "2. Месяц продажи - **sale_month**\n",
    "3. Возраст автомобиля на момент продажи - **car_age**"
   ]
  },
  {
   "cell_type": "code",
   "execution_count": null,
   "metadata": {
    "cellId": "xpsuy9x921biqfes1ukedd",
    "execution_id": "f255059b-7946-4cf3-913c-cc667ee0b800"
   },
   "outputs": [],
   "source": [
    "#!c1.8\n",
    "def create_dt_features(df: pd.DataFrame) -> pd.DataFrame:\n",
    "    df['sale_year'] = df['saledate'].dt.year\n",
    "    df['sale_month'] = df['saledate'].dt.month\n",
    "    df['car_age'] = df['sale_year'] - df['year']\n",
    "    \n",
    "    return df"
   ]
  },
  {
   "cell_type": "code",
   "execution_count": null,
   "metadata": {
    "cellId": "z06krqxbz72p5ymq21i1l",
    "execution_id": "2909a3bb-1952-45dc-ad43-a4004d255243"
   },
   "outputs": [],
   "source": [
    "#!c1.8\n",
    "df = create_dt_features(df)"
   ]
  },
  {
   "cell_type": "markdown",
   "metadata": {
    "cellId": "itjnawhlm7ordy61id9moj",
    "execution_id": "227ea1b4-5924-4481-9f64-ecd17d995840"
   },
   "source": [
    "Удалим столбец **saledate**"
   ]
  },
  {
   "cell_type": "code",
   "execution_count": null,
   "metadata": {
    "cellId": "mkxbvsh1sk94zxvn5g2h8",
    "execution_id": "1c7d2808-1df4-46b1-950c-d4a992816030"
   },
   "outputs": [],
   "source": [
    "#!c1.8\n",
    "df = df.drop(columns=['saledate'])"
   ]
  },
  {
   "cell_type": "markdown",
   "metadata": {
    "cellId": "xikmsojsxyuea2wvo0caa",
    "execution_id": "c6239877-0a2f-454d-9e32-a81bed272f44"
   },
   "source": [
    "<div class=\"alert alert-success\">\n",
    "<b>Комментарий ревьювера ✅:</b><br>\n",
    "    Супер👍 Поддерживаю!<br>\n",
    "</div>\n"
   ]
  },
  {
   "cell_type": "markdown",
   "metadata": {
    "cellId": "kgukubm325juzn588wxlg",
    "execution_id": "a47db251-df16-47f6-854d-aa1ecc5fdf82"
   },
   "source": [
    "### Обработка дубликатов"
   ]
  },
  {
   "cell_type": "markdown",
   "metadata": {
    "cellId": "s6e7yc5hreo8ahkoz6hr1e",
    "execution_id": "3e76968b-dea5-4a51-ba7d-7387b31c6350"
   },
   "source": [
    "#### Алгорим Левинштейна"
   ]
  },
  {
   "cell_type": "markdown",
   "metadata": {
    "cellId": "vms7t5q684kxebw69txx8",
    "execution_id": "b3e775bf-95f9-4010-8ca1-aff46d40ff47"
   },
   "source": [
    "~~def damerau_levenshtein_distance(s1: str, s2: str) -> int:\n",
    "    assert type(s1) == str, f'Неверный тип данных у {s1}, ожидалось str'\n",
    "    assert type(s2) == str, f'Неверный тип данных у {s2}, ожидалось str'\n",
    "    d, lenstr1, lenstr2 = {}, len(s1), len(s2)\n",
    "    for i in range(-1, lenstr1 + 1):\n",
    "        d[(i, -1)] = i + 1\n",
    "    for j in range(-1,lenstr2+1):\n",
    "        d[(-1, j)] = j + 1\n",
    "    for i in range(lenstr1):\n",
    "        for j in range(lenstr2):\n",
    "            if s1[i] == s2[j]:\n",
    "                cost = 0\n",
    "            else:\n",
    "                cost = 1\n",
    "            d[(i,j)] = min(\n",
    "                           d[(i - 1, j)] + 1, # deletion\n",
    "                           d[(i, j - 1)] + 1, # insertion\n",
    "                           d[(i - 1, j - 1)] + cost, # substitution\n",
    "                          )\n",
    "            if i and j and s1[i] == s2[j - 1] and s1[i - 1] == s2[j]:\n",
    "                d[(i, j)] = min (d[(i, j)], d[i - 2, j - 2] + cost) # transposition\n",
    "    return d[lenstr1 - 1,lenstr2 - 1]~~"
   ]
  },
  {
   "cell_type": "markdown",
   "metadata": {
    "cellId": "gv3gnsmzogjpz473rufqfr",
    "execution_id": "67057c50-99fb-4543-84d9-44d3782ead4a"
   },
   "source": [
    "<div class=\"alert alert-success\">\n",
    "<b>Комментарий ревьювера ✅:</b><br>\n",
    "    Супер, что понимаешь как работать с неявными дубликатами! Чтобы немного облегчить себе жизнь можно посмотреть в сторону существующей реализации <a href=\"https://www.nltk.org/api/nltk.metrics.distance.html\">редактирования расстояния</a> 😉\n",
    "</div>\n"
   ]
  },
  {
   "cell_type": "markdown",
   "metadata": {
    "cellId": "pm7v4jghs9gvgq91d6xv5",
    "execution_id": "8f186f0f-6497-4ae7-b330-013d7823a2a0"
   },
   "source": [
    "#### Явные дубликаты"
   ]
  },
  {
   "cell_type": "code",
   "execution_count": null,
   "metadata": {
    "cellId": "y25ehg6m5yzfdqyrnt3ke",
    "execution_id": "bb91395c-9057-466d-8fbc-da758fe520e3"
   },
   "outputs": [],
   "source": [
    "#!c1.8\n",
    "df.duplicated().sum()"
   ]
  },
  {
   "cell_type": "markdown",
   "metadata": {
    "cellId": "56jeaybgznb8muzyysqebl",
    "execution": {
     "iopub.execute_input": "2023-06-15T09:05:38.081811Z",
     "iopub.status.busy": "2023-06-15T09:05:38.081321Z",
     "iopub.status.idle": "2023-06-15T09:05:38.088788Z",
     "shell.execute_reply": "2023-06-15T09:05:38.087493Z",
     "shell.execute_reply.started": "2023-06-15T09:05:38.081775Z"
    },
    "execution_id": "f783653a-9070-470f-afe2-fe1512d90729"
   },
   "source": [
    "Явных дубликатов не обнаружено"
   ]
  },
  {
   "cell_type": "markdown",
   "metadata": {
    "cellId": "k15mwlkjvtg0sk0q4ci3m8b",
    "execution_id": "a898e6e7-fcdc-4f90-8faa-841dcf83beab"
   },
   "source": [
    "#### Неявные дубликаты"
   ]
  },
  {
   "cell_type": "markdown",
   "metadata": {
    "cellId": "nfzqu5mrk4z7b34wkb4lb",
    "execution": {
     "iopub.execute_input": "2023-06-15T09:08:12.312257Z",
     "iopub.status.busy": "2023-06-15T09:08:12.311689Z",
     "iopub.status.idle": "2023-06-15T09:08:12.320344Z",
     "shell.execute_reply": "2023-06-15T09:08:12.318499Z",
     "shell.execute_reply.started": "2023-06-15T09:08:12.312217Z"
    },
    "execution_id": "e341ff01-c520-492e-a417-3e89c5ae9013"
   },
   "source": [
    "Посмотрим неявные дубликаты в строковых столбцах"
   ]
  },
  {
   "cell_type": "code",
   "execution_count": null,
   "metadata": {
    "cellId": "i0yg65zawk9jr5owubaqij",
    "execution_id": "ded161a2-cc86-4b1b-b214-3ee156ccb617"
   },
   "outputs": [],
   "source": [
    "#!c1.8\n",
    "str_columns = df.select_dtypes('object').columns.to_list()\n",
    "str_columns"
   ]
  },
  {
   "cell_type": "markdown",
   "metadata": {
    "cellId": "obyfcjhknhis069c6083bn",
    "execution_id": "6371d87d-8c06-41b9-8955-a341e1cbad9a"
   },
   "source": [
    "##### **Make**: Марка автомобиля"
   ]
  },
  {
   "cell_type": "code",
   "execution_count": null,
   "metadata": {
    "cellId": "u54z5bgemnpy8cui49ttf",
    "execution_id": "b4220691-9fc0-45d2-84ab-a1608807ddac"
   },
   "outputs": [],
   "source": [
    "#!c1.8\n",
    "df['make'].value_counts().head()"
   ]
  },
  {
   "cell_type": "code",
   "execution_count": null,
   "metadata": {
    "cellId": "t9ixcylw8fft6kmu5qhr1",
    "execution_id": "17801ec8-40d8-48df-8abd-f27630610923"
   },
   "outputs": [],
   "source": [
    "#!c1.8\n",
    "df['make'].str.lower().value_counts().head()"
   ]
  },
  {
   "cell_type": "code",
   "execution_count": null,
   "metadata": {
    "cellId": "tfqclnz8p8qe28f2o5n7vo",
    "execution_id": "694193fe-ac91-4e20-b3a0-b67d7deb3f97"
   },
   "outputs": [],
   "source": [
    "#!c1.8\n",
    "print(*sorted(list(df['make'].str.lower().unique())), sep=', ')"
   ]
  },
  {
   "cell_type": "markdown",
   "metadata": {
    "cellId": "yy815z6d56yi9lrp4qj08",
    "execution_id": "d4b51708-a5d3-4a40-8e66-1406bc60a8ca"
   },
   "source": [
    "Неявных дубликатов в столбце **make** необнаружено"
   ]
  },
  {
   "cell_type": "markdown",
   "metadata": {
    "cellId": "5rcko3fk25j9o46f0mmvv",
    "execution_id": "49c9391a-9147-42e9-ba6f-b20b84eebad7"
   },
   "source": [
    "<div class=\"alert alert-success\">\n",
    "<b>Комментарий ревьювера ✅:</b><br>\n",
    "    Проверили, дубликатов нет - отлично👍\n",
    "</div>\n"
   ]
  },
  {
   "cell_type": "markdown",
   "metadata": {
    "cellId": "ux09ojtkparla8ssb9pi5d",
    "execution_id": "cee96406-0f73-470a-a4a7-86894c1c9f78"
   },
   "source": [
    "Приведя колонку **make** к нижнему регистру у нас получилось \"схлопнуть\" неявные дубликаты в которых различался только регистр, приведем к нижнему регистру значения во всех строковых колонках"
   ]
  },
  {
   "cell_type": "code",
   "execution_count": null,
   "metadata": {
    "cellId": "8md3k1bjmd849lsvc6kfy2",
    "execution_id": "6e3fddd8-47fb-475e-9a2a-4970e8fb6e60"
   },
   "outputs": [],
   "source": [
    "#!c1.8\n",
    "for col in str_columns:\n",
    "    df[col] = df[col].str.lower()"
   ]
  },
  {
   "cell_type": "markdown",
   "metadata": {
    "cellId": "sh6ymxw54e0clb25c2o7o",
    "execution_id": "70405bca-e32a-44a1-bc99-443dabd1a05f"
   },
   "source": [
    "##### **Model**: издание автомобиля определенной марки"
   ]
  },
  {
   "cell_type": "code",
   "execution_count": null,
   "metadata": {
    "cellId": "uxtwf1vcpenh7n5j2x7jb",
    "execution_id": "a4ad4da3-424f-4606-b3a5-ae97925081ce"
   },
   "outputs": [],
   "source": [
    "#!c1.8\n",
    "df['model'].value_counts(ascending=True).head()"
   ]
  },
  {
   "cell_type": "code",
   "execution_count": null,
   "metadata": {
    "cellId": "9m6l0z912gbc0je6akhnwu",
    "execution_id": "ed5c163c-6f70-4ba3-832d-1595251698d1"
   },
   "outputs": [],
   "source": [
    "#!c1.8\n",
    "gr_df = df.groupby(['make'])['model'].agg(lambda x: list(x.unique()))"
   ]
  },
  {
   "cell_type": "code",
   "execution_count": null,
   "metadata": {
    "cellId": "hmm68x4rdkpjghtwb6mbz",
    "execution_id": "a3d13f45-af2f-422e-956c-a8e2a3e6efec"
   },
   "outputs": [],
   "source": [
    "#!c1.8\n",
    "def similar(gr_df: pd.DataFrame, max_dist=4, limit=10) -> dict:\n",
    "    similar = {}\n",
    "    for category in tqdm(gr_df.index.values):\n",
    "        items = gr_df[category]\n",
    "        for i in range(len(items) - 1):\n",
    "            item_1 = items[i]\n",
    "            if type(item_1) != str: continue\n",
    "            for j in range(i + 1, len(items)):\n",
    "                item_2 =  items[j]\n",
    "                if type(item_2) != str: continue\n",
    "                distance = damerau_levenshtein_distance(item_1, item_2)\n",
    "                if 0 < distance <= max(len(item_1), len(item_2)) // max_dist:\n",
    "                    similar[(item_1, item_2)] = (distance, category)\n",
    "    return list(similar.items())[:limit]"
   ]
  },
  {
   "cell_type": "code",
   "execution_count": null,
   "metadata": {
    "cellId": "usys8m9a7on2moaypsoyh",
    "execution_id": "90f4b90c-ca2b-4d18-9e42-1bbcf4bfe1c5"
   },
   "outputs": [],
   "source": [
    "#!c1.8\n",
    "similar(gr_df)"
   ]
  },
  {
   "cell_type": "markdown",
   "metadata": {
    "cellId": "avqfh1e0t8c2xvz4qjjvt5",
    "execution_id": "e1adc3b9-7cf2-475c-bb3f-2ba820d21950"
   },
   "source": [
    "Во время просмотра similar models, не обнаружил неявных дубликатов"
   ]
  },
  {
   "cell_type": "markdown",
   "metadata": {
    "cellId": "f6l5yw1n063j164nlh5fi",
    "execution_id": "ba798192-fec3-4cbc-b89d-3b754c9cad3d"
   },
   "source": [
    "<div class=\"alert alert-success\">\n",
    "<b>Комментарий ревьювера ✅:</b><br>\n",
    "    Проверили, дубликатов нет - отлично👍 Возможно, имеет смысл еще посмотреть на unique() глазами, потому что дубликаты должны были быть и довольно много 🤔\n",
    "</div>\n"
   ]
  },
  {
   "cell_type": "markdown",
   "metadata": {
    "cellId": "guufuebb9ydrvjbiylfik",
    "execution_id": "e85dd535-5ecf-43f7-b632-17a30fa739ba"
   },
   "source": [
    "<div class=\"alert alert-info\"> <b>Комментарий студента:</b>\n",
    "    Сейчас проверю, спасибо за наводку\n",
    "</div>"
   ]
  },
  {
   "cell_type": "code",
   "execution_count": null,
   "metadata": {
    "cellId": "upj7u56xazbdh40uj8rst",
    "execution_id": "f4c4a512-8f8a-479b-9251-2f11e7fc1c5f"
   },
   "outputs": [],
   "source": [
    "#!c1.8\n",
    "print(*sorted(list(df['model'].str.lower().unique())), sep=', ')"
   ]
  },
  {
   "cell_type": "code",
   "execution_count": null,
   "metadata": {
    "cellId": "6bcs0hm267uw3trk4hvxmf",
    "execution_id": "5377b5c8-fbfc-4493-969b-8692e769dc44"
   },
   "outputs": [],
   "source": [
    "#!c1.8\n",
    "df['model'].str.split(' ', regex=True, expand=True)"
   ]
  },
  {
   "cell_type": "code",
   "execution_count": null,
   "metadata": {
    "cellId": "sceckv6mmhakdkm2sy6c6",
    "execution_id": "ee31d8ef-846f-4fd6-85c2-747bee66d169"
   },
   "outputs": [],
   "source": [
    "#!c1.8\n",
    "df['model'].value_counts()[:20]"
   ]
  },
  {
   "cell_type": "markdown",
   "metadata": {
    "cellId": "pr7rtjltlfuj06nfsnzu",
    "execution_id": "1a31a26f-4f7c-49a0-8081-c5dc6b3613b4"
   },
   "source": [
    "##### **Trim**: Уровни отделки салона автомобиля — это просто разные версии модели."
   ]
  },
  {
   "cell_type": "code",
   "execution_count": null,
   "metadata": {
    "cellId": "tb91c9dr1mi7uj6tnzgy1",
    "execution_id": "f2792a9e-cb4c-47ce-9047-9f014dc5b5b5"
   },
   "outputs": [],
   "source": [
    "#!c1.8\n",
    "gr_df = df.groupby(['model'])['trim'].agg(lambda x: list(x.unique()))"
   ]
  },
  {
   "cell_type": "code",
   "execution_count": null,
   "metadata": {
    "cellId": "knumvahh64vkbjfjlnp69",
    "execution_id": "ed931f5c-1b4e-44d3-b703-8539dfa4716e"
   },
   "outputs": [],
   "source": [
    "#!c1.8\n",
    "# similar(gr_df)"
   ]
  },
  {
   "cell_type": "markdown",
   "metadata": {
    "cellId": "psutzuwlzvi6l80wxisos2",
    "execution_id": "e07ee6ab-a525-416d-b7bb-a13d05ca67fb"
   },
   "source": [
    "Во время просмотра similar trims, не обнаружил неявных дубликатов"
   ]
  },
  {
   "cell_type": "markdown",
   "metadata": {
    "cellId": "3iqdqeb5lfb4f7qjxdwau9",
    "execution_id": "0d2b1174-cb0a-4e1c-bd2a-b4c94dcb3236"
   },
   "source": [
    "<div class=\"alert alert-success\">\n",
    "<b>Комментарий ревьювера ✅:</b><br>\n",
    "    Ок👍 Но советую все же посмотреть unique() 🤔\n",
    "</div>\n"
   ]
  },
  {
   "cell_type": "markdown",
   "metadata": {
    "cellId": "atzmvo34lwq5l4addabax",
    "execution_id": "16316fea-58e2-4152-9749-0bc5a1781b27"
   },
   "source": [
    "##### **Body**: Тип кузова транспортного средства относится к форме и модели конкретной марки автомобиля."
   ]
  },
  {
   "cell_type": "code",
   "execution_count": null,
   "metadata": {
    "cellId": "v5w77ydwluloprcizqbbb",
    "execution_id": "f38df677-c5e7-4d03-840b-cfa4f4dc51d0"
   },
   "outputs": [],
   "source": [
    "#!c1.8\n",
    "gr_df = df.groupby(['model'])['body'].agg(lambda x: list(x.unique()))"
   ]
  },
  {
   "cell_type": "code",
   "execution_count": null,
   "metadata": {
    "cellId": "9mvmabmqn3vtvg7tohlmcg",
    "execution_id": "de94de7d-6a9d-40f7-91a3-3b3189c1ebc1"
   },
   "outputs": [],
   "source": [
    "#!c1.8\n",
    "similar(gr_df, 3)"
   ]
  },
  {
   "cell_type": "markdown",
   "metadata": {
    "cellId": "9uknnmqpyth4h6tv2ld2vr",
    "execution_id": "42bf966d-bfaa-453e-b780-d64b96fd9e53"
   },
   "source": [
    "Обнаружен неявный дубликат 'regular cab', 'regular-cab', заменим '-' на ' '"
   ]
  },
  {
   "cell_type": "code",
   "execution_count": null,
   "metadata": {
    "cellId": "lni3mmuzevmpoleno9jl3",
    "execution_id": "5382b265-06a4-4812-a35e-85093e906407"
   },
   "outputs": [],
   "source": [
    "#!c1.8\n",
    "df['body'] = df['body'].str.replace(\"-\", ' ', regex=True)"
   ]
  },
  {
   "cell_type": "markdown",
   "metadata": {
    "cellId": "jhlg1w0qnn8nsaoesa3pu",
    "execution_id": "5d9b0cf3-928d-4584-94cd-357e817efe4c"
   },
   "source": [
    "<div class=\"alert alert-success\">\n",
    "<b>Комментарий ревьювера ✅:</b><br>\n",
    "    Ок👍 Но советую все же посмотреть unique() 🤔\n",
    "</div>\n"
   ]
  },
  {
   "cell_type": "markdown",
   "metadata": {
    "cellId": "2n1gju0v4nyj81xiohcqs",
    "execution_id": "2f9c7fde-b8fb-4c8f-b240-d33f158908cc"
   },
   "source": [
    "##### **Transmission**: механизм, который передает мощность от двигателя к колесам."
   ]
  },
  {
   "cell_type": "code",
   "execution_count": null,
   "metadata": {
    "cellId": "qqvmn4w7ueam62bfgl53a",
    "execution_id": "38053cea-53bd-4eda-838d-efbe3e243a3a"
   },
   "outputs": [],
   "source": [
    "#!c1.8\n",
    "gr_df = df.groupby(['make'])['transmission'].agg(lambda x: list(x.unique()))"
   ]
  },
  {
   "cell_type": "code",
   "execution_count": null,
   "metadata": {
    "cellId": "tzqeub6nrciso7btlcsdb",
    "execution_id": "f4b018fc-c37c-4ab6-b4a6-7f34c909bc40"
   },
   "outputs": [],
   "source": [
    "#!c1.8\n",
    "similar(gr_df, 3)"
   ]
  },
  {
   "cell_type": "markdown",
   "metadata": {
    "cellId": "jm5ad8tmntima8816plq1",
    "execution_id": "f3b9ab4f-82f8-425b-be59-3a7a46d24174"
   },
   "source": [
    "Во время просмотра similar transmission, не обнаружил неявных дубликатов"
   ]
  },
  {
   "cell_type": "markdown",
   "metadata": {
    "cellId": "bqrgzitnceff94gs17ncur",
    "execution_id": "46d9f099-0f1f-4cfe-82d1-6aff4a32d328"
   },
   "source": [
    "##### **Color**: Цвет кузова автомобиля."
   ]
  },
  {
   "cell_type": "code",
   "execution_count": null,
   "metadata": {
    "cellId": "0eweygre1q930vr046gfjz",
    "execution_id": "a9bc7f68-90a7-40c1-9490-f2377368fd39"
   },
   "outputs": [],
   "source": [
    "#!c1.8\n",
    "gr_df = df.groupby(['make'])['color'].agg(lambda x: list(x.unique()))"
   ]
  },
  {
   "cell_type": "code",
   "execution_count": null,
   "metadata": {
    "cellId": "xjm3shbonxaqcvm4y3wmur",
    "execution_id": "0f6e71cb-7549-4a6e-81df-05f9e0650089"
   },
   "outputs": [],
   "source": [
    "#!c1.8\n",
    "similar(gr_df, 3)"
   ]
  },
  {
   "cell_type": "markdown",
   "metadata": {
    "cellId": "bolpp645ptj0b5a6x5uwg",
    "execution_id": "38c50393-b737-4b01-b7fd-f7923835926f"
   },
   "source": [
    "Во время просмотра similar color, не обнаружил неявных дубликатов"
   ]
  },
  {
   "cell_type": "markdown",
   "metadata": {
    "cellId": "jkafdmbb6dg2ndv2gvvrao",
    "execution_id": "1799e6d4-2350-4c92-b1dc-157eef1314bb"
   },
   "source": [
    "##### **Interior**: Цвет салона автомобиля."
   ]
  },
  {
   "cell_type": "code",
   "execution_count": null,
   "metadata": {
    "cellId": "3o810fjiin74ldcx3if87s",
    "execution_id": "5714672b-70ac-47c0-b7f5-c241eb5c6cd8"
   },
   "outputs": [],
   "source": [
    "#!c1.8\n",
    "gr_df = df.groupby(['make'])['interior'].agg(lambda x: list(x.unique()))"
   ]
  },
  {
   "cell_type": "code",
   "execution_count": null,
   "metadata": {
    "cellId": "tms1u1jm1m8xja8rmjat9",
    "execution_id": "4f635b43-fd57-4d63-a344-874adb6707aa"
   },
   "outputs": [],
   "source": [
    "#!c1.8\n",
    "similar(gr_df, 3)"
   ]
  },
  {
   "cell_type": "markdown",
   "metadata": {
    "cellId": "vgqwfgc0mgpebac5cxwim6",
    "execution_id": "9d2747c0-65e6-449f-8368-b439ea6ca7fa"
   },
   "source": [
    "Во время просмотра similar interior, не обнаружил неявных дубликатов"
   ]
  },
  {
   "cell_type": "code",
   "execution_count": null,
   "metadata": {
    "cellId": "u8al6tvelzkeefqqejo7iq",
    "execution_id": "12618aac-ffd2-4f59-8c96-e1f6dfc8d7c2"
   },
   "outputs": [],
   "source": [
    "#!c1.8\n",
    "del gr_df"
   ]
  },
  {
   "cell_type": "code",
   "execution_count": null,
   "metadata": {
    "cellId": "egp2k9e8giwo43u6a6fm3n",
    "execution_id": "3a261552-dec7-4310-b249-64731d05bd90"
   },
   "outputs": [],
   "source": [
    "#!c1.8\n",
    "df.head()"
   ]
  },
  {
   "cell_type": "markdown",
   "metadata": {
    "cellId": "z8rl192xo1jxiitcw88iim",
    "execution_id": "48157b75-b6c3-4161-9575-747313ae5d0f"
   },
   "source": [
    "### Обработка пропусков"
   ]
  },
  {
   "cell_type": "code",
   "execution_count": null,
   "metadata": {
    "cellId": "j473w89voecd8gh8rgakwo",
    "execution_id": "72b65f6e-688b-42f0-825f-210eb1382f95"
   },
   "outputs": [],
   "source": [
    "#!c1.8\n",
    "def get_transmission(transmissions: list) -> str:\n",
    "    '''В связи с тем что у меня не получается находить nan в массиве,\n",
    "    я пробывал множество различных способов с использованием numpy и pandas, \n",
    "    было принято решение написать такой костыль'''\n",
    "    if type(transmissions[0]) == float:\n",
    "        return transmissions[1]\n",
    "    else:  \n",
    "        return transmissions[0]"
   ]
  },
  {
   "cell_type": "code",
   "execution_count": null,
   "metadata": {
    "cellId": "ek210m03tuh1b5n4ognpt",
    "execution_id": "0646b7e7-7140-470c-b061-9e606fcf9dd1"
   },
   "outputs": [],
   "source": [
    "#!c1.8\n",
    "def boolean_filter(group: list, keys: Union[str, tuple]) -> bool:\n",
    "    '''Происходит вычисление булеана, пример ниже\n",
    "    df['make'] == make\n",
    "    (df['make'] == make) & (df['model'] == model)\n",
    "    '''\n",
    "    answer = True\n",
    "    if type(keys) == str: \n",
    "        keys = (keys,)\n",
    "    \n",
    "    for column, key in zip(group, keys):\n",
    "        answer = answer & (df[column] == key)\n",
    "    return answer"
   ]
  },
  {
   "cell_type": "code",
   "execution_count": null,
   "metadata": {
    "cellId": "dz0y3nslzjhclr7qphvg8h",
    "execution_id": "f76a9631-b242-4d59-86e9-d55869c49c84"
   },
   "outputs": [],
   "source": [
    "#!c1.8\n",
    "def fill_transmission(group: list, column: str, df: pd.DataFrame) -> None:\n",
    "    gr_df = df.groupby(group)[column].agg(lambda x: list(x.unique()))\n",
    "    print(gr_df.head())\n",
    "    gr_df_dict = gr_df.to_dict()\n",
    "    del gr_df\n",
    "    \n",
    "    for category in tqdm(gr_df_dict):\n",
    "        transmissions = gr_df_dict[category]\n",
    "\n",
    "        if len(transmissions) == 2 and (type(transmissions[0]) == float or type(transmissions[1]) == float):\n",
    "            transmission = get_transmission(transmissions)\n",
    "            df.loc[(df[column].isna() == True) & boolean_filter(group, category), column] = transmission\n",
    "    \n",
    "    return df"
   ]
  },
  {
   "cell_type": "markdown",
   "metadata": {
    "cellId": "p9l4as1kkewlyzruou3qi",
    "execution_id": "f8bc7d7f-7bdc-411e-813c-af2749a77c39"
   },
   "source": [
    "Заполним пропуски в столбце **transmission**, в случае если у make/model/trim встречается только один вид трансмиссии, заполним им пропуски"
   ]
  },
  {
   "cell_type": "markdown",
   "metadata": {
    "cellId": "nrot2tzx9wourqck2b7tjl",
    "execution_id": "9751e5cf-5d61-4372-baf3-b5e256260f5a"
   },
   "source": [
    "Рассмотрим только **make** и заполним в нем пропуски"
   ]
  },
  {
   "cell_type": "code",
   "execution_count": null,
   "metadata": {
    "cellId": "xyldfnu4dshtn59vzepze",
    "execution_id": "3485b156-920a-4ecd-86e4-b91b48762d8f"
   },
   "outputs": [],
   "source": [
    "#!c1.8\n",
    "df = fill_transmission(['make'], 'transmission', df)"
   ]
  },
  {
   "cell_type": "code",
   "execution_count": null,
   "metadata": {
    "cellId": "x87amnb9gtctnroiee9hl8",
    "execution_id": "3e6c0cec-1dc0-4db4-9e96-96d2d1d2290c"
   },
   "outputs": [],
   "source": [
    "#!c1.8\n",
    "df.loc[df['transmission'].isna() == True].shape[0] / df.shape[0] * 100"
   ]
  },
  {
   "cell_type": "markdown",
   "metadata": {
    "cellId": "xi6zah7jdliwaid1kf0v9i",
    "execution_id": "e08c1fe8-4cb1-4bde-b39d-e0eecba378bb"
   },
   "source": [
    "Заполнили 0.1% пропусков, рассмотрим **make** / **model**"
   ]
  },
  {
   "cell_type": "code",
   "execution_count": null,
   "metadata": {
    "cellId": "957ev9472vtie9whv8xyv",
    "execution_id": "c2c514ff-4dcd-406a-b350-ee1d126399a3"
   },
   "outputs": [],
   "source": [
    "#!c1.8\n",
    "df = fill_transmission(['make', 'model'], 'transmission', df)"
   ]
  },
  {
   "cell_type": "code",
   "execution_count": null,
   "metadata": {
    "cellId": "inufq8hqwgcnvzvv2f44ii",
    "execution_id": "c00f19a7-ecf8-4104-b312-253b87c13adf"
   },
   "outputs": [],
   "source": [
    "#!c1.8\n",
    "df.loc[df['transmission'].isna() == True].shape[0] / df.shape[0] * 100"
   ]
  },
  {
   "cell_type": "markdown",
   "metadata": {
    "cellId": "gug2xismb8mgfa98bycost",
    "execution_id": "065c94b7-27d9-4444-9d41-a70c0ecf7769"
   },
   "source": [
    "Заполнили 3.5% пропусков, теперь рассмотрим **make** / **model** / **trim**"
   ]
  },
  {
   "cell_type": "code",
   "execution_count": null,
   "metadata": {
    "cellId": "a9yimxsp6e93mb0i0fcraa",
    "execution_id": "2e1f2c86-4462-4aaa-b9bc-b3754e08c4ef"
   },
   "outputs": [],
   "source": [
    "#!c1.8\n",
    "df = fill_transmission(['make', 'model', 'trim'], 'transmission', df)"
   ]
  },
  {
   "cell_type": "code",
   "execution_count": null,
   "metadata": {
    "cellId": "ve085di71goiv9czu4pais",
    "execution_id": "65f7efa3-6be0-4ef0-8b09-7c1e4d688489"
   },
   "outputs": [],
   "source": [
    "#!c1.8\n",
    "df.loc[df['transmission'].isna() == True].shape[0] / df.shape[0] * 100"
   ]
  },
  {
   "cell_type": "markdown",
   "metadata": {
    "cellId": "8rldsk7tcj9pzolijusbpa",
    "execution_id": "65d1c328-fafd-4d77-81ce-fab919d20e32"
   },
   "source": [
    "Заполнили еще 2.4% пропусков, осталось 5.45% пропусков, попробуем заполнить пропуски используя датасет для обогащения"
   ]
  },
  {
   "cell_type": "code",
   "execution_count": null,
   "metadata": {
    "cellId": "sjhvm9ey7ri4x1dzgbk9",
    "execution_id": "fc81e131-4bc1-4937-a9ae-8984fd1d3f92"
   },
   "outputs": [],
   "source": [
    "#!c1.8\n",
    "cars.info()"
   ]
  },
  {
   "cell_type": "code",
   "execution_count": null,
   "metadata": {
    "cellId": "bxk55iqwe6v92z7vrjpbo",
    "execution_id": "17bc13e9-03f8-4db3-900f-455f4bc77f40"
   },
   "outputs": [],
   "source": [
    "#!c1.8\n",
    "cars.head()"
   ]
  },
  {
   "cell_type": "code",
   "execution_count": null,
   "metadata": {
    "cellId": "yutjhi1p6o2ll924xk638",
    "execution_id": "cb8f6c84-485f-4782-879c-6e2b2fd7650b"
   },
   "outputs": [],
   "source": [
    "#!c1.8\n",
    "cars = cars[['manufacturer_name', 'model_name', 'transmission',  'color', 'odometer_value', 'year_produced',\n",
    "             'engine_capacity', 'body_type', 'price_usd', \n",
    "            ]]"
   ]
  },
  {
   "cell_type": "code",
   "execution_count": null,
   "metadata": {
    "cellId": "qg0grayy8brltioayzfdwq",
    "execution_id": "7a1d83ef-b2ab-4c5b-aec9-ae9d8f2f6fb1"
   },
   "outputs": [],
   "source": [
    "#!c1.8\n",
    "cars = cars.rename(columns={\n",
    "    'manufacturer_name': 'make',\n",
    "    'model_name': 'model',\n",
    "    'odometer_value': 'odometer',\n",
    "    'year_produced': 'year',\n",
    "    'body_type': 'body',\n",
    "    'price_usd': 'sellingprice'\n",
    "})"
   ]
  },
  {
   "cell_type": "code",
   "execution_count": null,
   "metadata": {
    "cellId": "pyvya1z0szj5ipzo82uq4v",
    "execution_id": "ed555fe4-fdf0-411b-b601-9224fc6e253d"
   },
   "outputs": [],
   "source": [
    "#!c1.8\n",
    "cars['saledate'] = pd.to_datetime(datetime.datetime(2019, 12, 2))"
   ]
  },
  {
   "cell_type": "code",
   "execution_count": null,
   "metadata": {
    "cellId": "umlvo0t48shdmzapv86t3k",
    "execution_id": "542e112e-c691-45dd-8608-78f0579a33a5"
   },
   "outputs": [],
   "source": [
    "#!c1.8\n",
    "for col in cars.select_dtypes('object').columns:\n",
    "    cars[col] = cars[col].str.lower()"
   ]
  },
  {
   "cell_type": "code",
   "execution_count": null,
   "metadata": {
    "cellId": "8eyu6hk94pjd3pfgs9rd",
    "execution_id": "ca3f54a3-bb45-4412-b5ae-6910f8dc6e0c"
   },
   "outputs": [],
   "source": [
    "#!c1.8\n",
    "cars['transmission'].isna().sum()"
   ]
  },
  {
   "cell_type": "code",
   "execution_count": null,
   "metadata": {
    "cellId": "npv4vjz0gsgc2xbvhbx1j",
    "execution_id": "40d93d69-2373-4317-a598-b5e55ecb6f73"
   },
   "outputs": [],
   "source": [
    "#!c1.8\n",
    "df_makes = df['make'].unique()\n",
    "for make in tqdm(cars['make'].unique()):\n",
    "    if make not in df_makes:\n",
    "        cars = cars.loc[cars['make'] != make]"
   ]
  },
  {
   "cell_type": "code",
   "execution_count": null,
   "metadata": {
    "cellId": "7gmy224hwj0w1etoyy768",
    "execution_id": "daf897cc-87c9-41a3-a07f-a2b80b7aeda0"
   },
   "outputs": [],
   "source": [
    "#!c1.8\n",
    "gr_df = cars.groupby(['model'])['transmission'].agg(lambda x: list(x.unique()))"
   ]
  },
  {
   "cell_type": "code",
   "execution_count": null,
   "metadata": {
    "cellId": "x7vydshy4vljcrsdvxza5l",
    "execution_id": "bfdd3ed5-0676-46fa-9022-76b26f6e0ce9"
   },
   "outputs": [],
   "source": [
    "#!c1.8\n",
    "for model in tqdm(df['model'].unique()):\n",
    "    if model in gr_df.index.values:\n",
    "        df.loc[(df['transmission'].isna() == True) & (df['model'] == model), 'transmission'] = gr_df[model][0]"
   ]
  },
  {
   "cell_type": "code",
   "execution_count": null,
   "metadata": {
    "cellId": "vrb0r111zvmrelp8mb4xlb",
    "execution_id": "50a0a597-07ff-47bd-97a7-ab2045160f18"
   },
   "outputs": [],
   "source": [
    "#!c1.8\n",
    "df.loc[df['transmission'].isna() == True].shape[0] / df.shape[0] * 100"
   ]
  },
  {
   "cell_type": "markdown",
   "metadata": {
    "cellId": "ahlqwfbsquus0qqgs7ssl",
    "execution_id": "3215bd0f-7b3a-495c-bf77-f6a4106ef481"
   },
   "source": [
    "Заполнили еще 4% пропусков, осталось 1.41% пропусков, удалим их"
   ]
  },
  {
   "cell_type": "code",
   "execution_count": null,
   "metadata": {
    "cellId": "880og32y6b4qztxsv6q1cq",
    "execution_id": "9a2fb7d1-2e49-4159-a9cd-c89167e09354"
   },
   "outputs": [],
   "source": [
    "#!c1.8\n",
    "df = df.dropna()"
   ]
  },
  {
   "cell_type": "code",
   "execution_count": null,
   "metadata": {
    "cellId": "idiwz51ellm0whqg0sel",
    "execution_id": "4a56ef6f-2f6b-42e5-97c7-9b12a7d937d6"
   },
   "outputs": [],
   "source": [
    "#!c1.8\n",
    "df.isna().sum().sum()"
   ]
  },
  {
   "cell_type": "markdown",
   "metadata": {
    "cellId": "hws694ms5p6hgnkkkvb4c",
    "execution_id": "299c65c9-b159-4e59-a33a-dce0632bc890"
   },
   "source": [
    "<div class=\"alert alert-success\">\n",
    "<b>Комментарий ревьювера ✅:</b><br>\n",
    "    Круто, что так скрупулезно подходишь к заполнению пропусков 😊\n",
    "</div>\n"
   ]
  },
  {
   "cell_type": "markdown",
   "metadata": {
    "cellId": "nmvfacglx5kjwooabru",
    "execution_id": "301b88db-9d13-4ae1-925c-a259b60873a0"
   },
   "source": [
    "### Работа со строковыми столбцами"
   ]
  },
  {
   "cell_type": "code",
   "execution_count": null,
   "metadata": {
    "cellId": "6mi9ndxjnqmbor87txzyjl",
    "execution_id": "45c156c1-74c7-4bff-b6ba-25c942d84600"
   },
   "outputs": [],
   "source": [
    "#!c1.8\n",
    "df.select_dtypes('object').head()"
   ]
  },
  {
   "cell_type": "markdown",
   "metadata": {
    "cellId": "e7skitmp0c7dagandr74bd",
    "execution_id": "2bd91bb4-70bd-4465-bb97-966d4cc7d706"
   },
   "source": [
    "#### Столбец **trim**"
   ]
  },
  {
   "cell_type": "markdown",
   "metadata": {
    "cellId": "t17twa6zbwpfcxtt9dnam",
    "execution_id": "17d83699-b361-4d8a-a5d7-7892223adda5"
   },
   "source": [
    "Можем заметить *2.0 sl* и *2.5 x l.l.bean edition*, я считаю что 2.0 и 2.5 это объем двигателя *engine_capacity*, что может влиять на стоимость автомобиля, выделим обьем двигателя из этого столбца"
   ]
  },
  {
   "cell_type": "code",
   "execution_count": null,
   "metadata": {
    "cellId": "0hxex4do5yfmeo7mp0houqb",
    "execution_id": "106a0213-bc66-40c1-8f0a-81244d94c071"
   },
   "outputs": [],
   "source": [
    "#!c1.8\n",
    "def create_engine_capacity(df: pd.DataFrame) -> pd.DataFrame:\n",
    "    '''\n",
    "    Разделим по пробелу столбец trim, в нулевом столце будем ожидать engine_capacity\n",
    "    Добавим столбец engine_capacity к датасету\n",
    "    Удалим значения объема двигателя из столбца trim\n",
    "    '''\n",
    "    tmp = df['trim'].str.split(expand=True).copy()\n",
    "    engine_capacity = tmp[0].str.extract(r\"(?P<engine_capacity>\\d+[.]\\d+)\")\n",
    "    engine_capacity.loc[engine_capacity['engine_capacity'] == '1999.5', 'engine_capacity'] = np.nan\n",
    "    df['engine_capacity'] = engine_capacity['engine_capacity'].astype('float')\n",
    "    df['trim'] = df['trim'].progress_apply(lambda row: re.sub(r'\\d+\\.\\d+', '', row))\n",
    "    \n",
    "    return df"
   ]
  },
  {
   "cell_type": "code",
   "execution_count": null,
   "metadata": {
    "cellId": "i74ymgdyvkm5cwlvgxtqwq",
    "execution_id": "997ae429-4249-4d13-9afe-9d75cb75a409"
   },
   "outputs": [],
   "source": [
    "#!c1.8\n",
    "df = create_engine_capacity(df)"
   ]
  },
  {
   "cell_type": "markdown",
   "metadata": {
    "cellId": "xjrjlnytipef30xyvwpkuv",
    "execution_id": "c3bf10b4-5809-4b05-baee-91e2ec0e942b"
   },
   "source": [
    "Посмотрим на процент пропусков в столбце **engine_capacity**"
   ]
  },
  {
   "cell_type": "code",
   "execution_count": null,
   "metadata": {
    "cellId": "yiyvkjg6c3nbxhe92ngs",
    "execution_id": "bf91051b-846b-4bff-a4c7-2e38c5db36ef"
   },
   "outputs": [],
   "source": [
    "#!c1.8\n",
    "df['engine_capacity'].isna().sum() / df.shape[0] * 100"
   ]
  },
  {
   "cell_type": "code",
   "execution_count": null,
   "metadata": {
    "cellId": "92d0nrr29t5hb8wpsgrqus",
    "execution_id": "8ff3276a-dcbc-4b37-aaed-9cfd82521802"
   },
   "outputs": [],
   "source": [
    "#!c1.8\n",
    "del tmp"
   ]
  },
  {
   "cell_type": "markdown",
   "metadata": {
    "cellId": "oizf7uhktaa11blbk62kqdd",
    "execution_id": "60e6ff0d-ae03-4180-ac5a-a535b60320df"
   },
   "source": [
    "<div class=\"alert alert-warning\">\n",
    "<b>Комментарий ревьюера ⚠️:</b><br>\n",
    "    Здесь и далее - ошибок при выполнении не должно быть в финальном варианте проекта ☝️\n",
    "</div>"
   ]
  },
  {
   "cell_type": "markdown",
   "metadata": {
    "cellId": "2k6y0gmqpmlxng22o9rkhe",
    "execution_id": "164897cf-bb5c-4489-8275-b32bd8391965"
   },
   "source": [
    "Слишком много пропусков в данном столбце 91%, попробуем заполнить их так же как и в столбце **transmission**"
   ]
  },
  {
   "cell_type": "markdown",
   "metadata": {
    "cellId": "an8rs11pntv3ar0qqs3b8k",
    "execution_id": "88deba1f-10d2-4f6f-ab31-2eaeea706ac8"
   },
   "source": [
    "Заполним пропуски по паре **make** **model**, в случае с nan и адекватными занчениями, пример [3.6, 3.0, 4.2, nan], заполним медианой"
   ]
  },
  {
   "cell_type": "code",
   "execution_count": null,
   "metadata": {
    "cellId": "gp27o0x06ofzd03dvzx6t",
    "execution_id": "c3a152eb-2319-4057-88cd-69ae2e8b5b99"
   },
   "outputs": [],
   "source": [
    "#!c1.8\n",
    "df.groupby(['make', 'model'])['engine_capacity'].agg(lambda x: list(x.unique())).head()"
   ]
  },
  {
   "cell_type": "code",
   "execution_count": null,
   "metadata": {
    "cellId": "ao2fivwkcy6uzkppggfm3",
    "execution_id": "c669361c-1d84-4f30-bd61-d69d21c28124"
   },
   "outputs": [],
   "source": [
    "#!c1.8\n",
    "def completion_make_model(dataset: pd.DataFrame, df: pd.DataFrame) -> pd.DataFrame:\n",
    "    gr_df = dataset.groupby(['make', 'model'])['engine_capacity'].agg(lambda x: list(x.unique()))\n",
    "    \n",
    "    for make_model in tqdm(gr_df.index.values):\n",
    "        engine_capacities = np.array(gr_df[make_model])\n",
    "        make, model = make_model\n",
    "\n",
    "        if len(engine_capacities) >= 2 and pd.isna(engine_capacities).sum() == 1:\n",
    "            engine_capacities = engine_capacities[~np.isnan(engine_capacities)]\n",
    "            df.loc[\n",
    "                (df['make'] == make) & \n",
    "                (df['model'] == model) &\n",
    "                (df['engine_capacity'].isna() == True),\n",
    "                'engine_capacity'\n",
    "            ] = np.median(engine_capacities)\n",
    "    \n",
    "    return df"
   ]
  },
  {
   "cell_type": "code",
   "execution_count": null,
   "metadata": {
    "cellId": "5ecs3k7qye9c0jwqt3g36",
    "execution_id": "2f485457-3313-48a3-8161-619fa9d31a58"
   },
   "outputs": [],
   "source": [
    "#!c1.8\n",
    "df = completion_make_model(df, df)"
   ]
  },
  {
   "cell_type": "code",
   "execution_count": null,
   "metadata": {
    "cellId": "ntg05mxfslso12kc2ndmj",
    "execution_id": "b00578a5-e7cf-4fcc-b1c2-e382afc6a3a0"
   },
   "outputs": [],
   "source": [
    "#!c1.8\n",
    "df['engine_capacity'].isna().sum() / df.shape[0] * 100"
   ]
  },
  {
   "cell_type": "markdown",
   "metadata": {
    "cellId": "qb8e323ri19gifhyfy404f",
    "execution_id": "d3dc4850-0bfc-4939-9d71-d89496d95774"
   },
   "source": [
    "Заполнили 5% пропусков, осталось 86.36%. Заполним аналогично пропуски успользяю датасет cars"
   ]
  },
  {
   "cell_type": "code",
   "execution_count": 417,
   "metadata": {
    "cellId": "6by5taybhj79s2tuxegxdw"
   },
   "outputs": [
    {
     "data": {
      "application/vnd.jupyter.widget-view+json": {
       "model_id": "e07a1ffae9f64fe0bd28457c8c5add21",
       "version_major": 2,
       "version_minor": 0
      },
      "text/plain": [
       "  0%|          | 0/817 [00:00<?, ?it/s]"
      ]
     },
     "metadata": {},
     "output_type": "display_data"
    }
   ],
   "source": [
    "#!c1.8\n",
    "df = completion_make_model(cars, df)"
   ]
  },
  {
   "cell_type": "code",
   "execution_count": 418,
   "metadata": {
    "cellId": "9nb5cl3a2zf631lt386pm"
   },
   "outputs": [
    {
     "data": {
      "text/plain": [
       "100.0"
      ]
     },
     "metadata": {},
     "output_type": "display_data"
    }
   ],
   "source": [
    "#!c1.8\n",
    "df['engine_capacity'].isna().sum() / df.shape[0] * 100"
   ]
  },
  {
   "cell_type": "markdown",
   "metadata": {
    "cellId": "uht5s5gxyngu9835lq17",
    "execution_id": "8248574b-0f65-4b23-8536-4ec3a589e101"
   },
   "source": [
    "Заполнили еще 0.2% пропусков, далее перейдем к заполнению пропусков по **make** из датасета df"
   ]
  },
  {
   "cell_type": "code",
   "execution_count": 419,
   "metadata": {
    "cellId": "0zrcx4pd75dfykc4xx22uv"
   },
   "outputs": [],
   "source": [
    "#!c1.8\n",
    "def completion_make(dataset: pd.DataFrame, df: pd.DataFrame) -> pd.DataFrame:\n",
    "    gr_df = dataset.groupby(['make'])['engine_capacity'].agg(lambda x: list(x.unique()))\n",
    "    for make in tqdm(gr_df.index.values):\n",
    "        engine_capacities = np.array(gr_df[make])\n",
    "\n",
    "        engine_capacities = engine_capacities[~np.isnan(engine_capacities)]\n",
    "        df.loc[\n",
    "            (df['make'] == make) & \n",
    "            (df['engine_capacity'].isna() == True),\n",
    "            'engine_capacity'\n",
    "        ] = np.median(engine_capacities)\n",
    "    \n",
    "    return df"
   ]
  },
  {
   "cell_type": "code",
   "execution_count": 420,
   "metadata": {
    "cellId": "ofh06woelgpxrgalhbxy2d"
   },
   "outputs": [
    {
     "data": {
      "application/vnd.jupyter.widget-view+json": {
       "model_id": "68683f2df5474ba2b2fa1e6b9616a6d9",
       "version_major": 2,
       "version_minor": 0
      },
      "text/plain": [
       "  0%|          | 0/14 [00:00<?, ?it/s]"
      ]
     },
     "metadata": {},
     "output_type": "display_data"
    }
   ],
   "source": [
    "#!c1.8\n",
    "df = completion_make(df, df)"
   ]
  },
  {
   "cell_type": "code",
   "execution_count": 421,
   "metadata": {
    "cellId": "09doh7ph1snp4oiuakpbeju"
   },
   "outputs": [
    {
     "data": {
      "text/plain": [
       "100.0"
      ]
     },
     "metadata": {},
     "output_type": "display_data"
    }
   ],
   "source": [
    "#!c1.8\n",
    "df['engine_capacity'].isna().sum() / df.shape[0] * 100"
   ]
  },
  {
   "cell_type": "markdown",
   "metadata": {
    "cellId": "x45cn29uxecz43lxhy36yq",
    "execution_id": "789e40a3-c745-4ae7-80e6-c92184e5f5a5"
   },
   "source": [
    "Заполнили еще 28.3% пропусков, далее перейдем к заполнению пропусков по **make** из датасета cars"
   ]
  },
  {
   "cell_type": "code",
   "execution_count": 422,
   "metadata": {
    "cellId": "uepm9cf25l526q5tkxyw5"
   },
   "outputs": [
    {
     "data": {
      "application/vnd.jupyter.widget-view+json": {
       "model_id": "8e5c7d95f5784b0d95cb8fb7ff13ae79",
       "version_major": 2,
       "version_minor": 0
      },
      "text/plain": [
       "  0%|          | 0/33 [00:00<?, ?it/s]"
      ]
     },
     "metadata": {},
     "output_type": "display_data"
    }
   ],
   "source": [
    "#!c1.8\n",
    "df = completion_make(cars, df)"
   ]
  },
  {
   "cell_type": "code",
   "execution_count": 423,
   "metadata": {
    "cellId": "eevx8zjyd6lsxk2fzcixr"
   },
   "outputs": [
    {
     "data": {
      "text/plain": [
       "0.06053268765133172"
      ]
     },
     "metadata": {},
     "output_type": "display_data"
    }
   ],
   "source": [
    "#!c1.8\n",
    "df['engine_capacity'].isna().sum() / df.shape[0] * 100"
   ]
  },
  {
   "cell_type": "markdown",
   "metadata": {
    "cellId": "7rrstkv6f7al8t7yjq063q",
    "execution_id": "b3370ada-364b-4bf9-89a2-3082d5b1cec8"
   },
   "source": [
    "Заполнили еще 51% пропусков, осталось 3.95%, заполним их с помощью гуглинга"
   ]
  },
  {
   "cell_type": "code",
   "execution_count": 94,
   "metadata": {
    "cellId": "p3a0wo1iqfciess1n3b96c"
   },
   "outputs": [
    {
     "data": {
      "text/plain": [
       "array(['hummer', 'gmc', 'scion', 'isuzu', 'smart', 'saturn', 'ram',\n",
       "       'mercury', 'bentley', 'fisker', 'maserati', 'tesla', 'rolls-royce',\n",
       "       'ferrari', 'plymouth', 'lamborghini', 'geo', 'aston martin'],\n",
       "      dtype=object)"
      ]
     },
     "metadata": {},
     "output_type": "display_data"
    }
   ],
   "source": [
    "#!c1.8\n",
    "df.loc[df['engine_capacity'].isna() == True, 'make'].unique()"
   ]
  },
  {
   "cell_type": "code",
   "execution_count": 367,
   "metadata": {
    "cellId": "i7mopne6n4m03svy2wkl"
   },
   "outputs": [
    {
     "data": {
      "text/plain": [
       "array(['ford', 'nissan', 'hummer', 'lincoln', 'hyundai', 'buick',\n",
       "       'chevrolet', 'honda', 'acura', 'cadillac', 'gmc', 'saab', 'dodge',\n",
       "       'mercedes-benz', 'toyota', 'volkswagen', 'bmw', 'infiniti',\n",
       "       'chrysler', 'kia', 'jaguar', 'subaru', 'jeep', 'lexus', 'scion',\n",
       "       'fiat', 'mazda', 'volvo', 'audi', 'mini', 'isuzu', 'mitsubishi',\n",
       "       'smart', 'pontiac', 'porsche', 'land rover', 'suzuki', 'saturn',\n",
       "       'ram', 'oldsmobile', 'mercury', 'bentley', 'fisker', 'maserati',\n",
       "       'tesla', 'rolls-royce', 'ferrari', 'plymouth', 'lamborghini',\n",
       "       'geo', 'aston martin', 'daewoo'], dtype=object)"
      ]
     },
     "metadata": {},
     "output_type": "display_data"
    }
   ],
   "source": [
    "#!c1.8\n",
    "df['make'].unique()"
   ]
  },
  {
   "cell_type": "code",
   "execution_count": 385,
   "metadata": {
    "cellId": "qj9q6zpynmbh71mzdne25"
   },
   "outputs": [],
   "source": [
    "#!c1.8\n",
    "def completion_google(df: pd.DataFrame) -> pd.DataFrame:\n",
    "    make_mean_engine_capacity = {\n",
    "        'hummer': 6, \n",
    "        'gmc': 6, \n",
    "        'scion': 2, \n",
    "        'isuzu': 3, \n",
    "        'smart': 0.5, \n",
    "        'saturn': 1.5, \n",
    "        'ram': 6,\n",
    "        'mercury': 2.5, \n",
    "        'bentley': 6, \n",
    "        'fisker': 2, \n",
    "        'maserati': 4, \n",
    "        'tesla': 4, \n",
    "        'rolls-royce': 7,\n",
    "        'ferrari': 6, \n",
    "        'plymouth': 3.5, \n",
    "        'lamborghini': 6, \n",
    "        'geo': 1.5, \n",
    "        'aston martin': 6,\n",
    "        'mercedes': 5,\n",
    "        \n",
    "        'ford': 2.5,\n",
    "        'oldsmobile': 4,\n",
    "        'landrover': 4,\n",
    "        'chev truck': 2,\n",
    "        'lotus': 2.5\n",
    "        \n",
    "    }\n",
    "    tmp = df.loc[df['engine_capacity'].isna() == True, 'make'].unique()\n",
    "    for make in tqdm(tmp):\n",
    "        if type(make) == float:\n",
    "            make = 'ford'\n",
    "        if make in make_mean_engine_capacity:\n",
    "            df.loc[\n",
    "                    (df['make'] == make) & \n",
    "                    (df['engine_capacity'].isna() == True),\n",
    "                    'engine_capacity'\n",
    "                ] = make_mean_engine_capacity[make]\n",
    "        else:\n",
    "            print(make, 'not in make_mean_engine_capacity')\n",
    "    return df"
   ]
  },
  {
   "cell_type": "code",
   "execution_count": 97,
   "metadata": {
    "cellId": "tatnx3rjb86iigiad4f8d"
   },
   "outputs": [
    {
     "data": {
      "text/plain": [
       "0.0"
      ]
     },
     "metadata": {},
     "output_type": "display_data"
    }
   ],
   "source": [
    "#!c1.8\n",
    "df = completion_google(df)\n",
    "df['engine_capacity'].isna().sum() / df.shape[0] * 100"
   ]
  },
  {
   "cell_type": "markdown",
   "metadata": {
    "cellId": "e5uqdzhtb7rpkqaggabeak",
    "execution_id": "a0fe6e0b-8d39-4e12-ac6e-b43eff9cec11"
   },
   "source": [
    "Заполнили все пропуски в данных"
   ]
  },
  {
   "cell_type": "markdown",
   "metadata": {
    "cellId": "1uzd1dcdfmkolaplctplag"
   },
   "source": [
    "<div class=\"alert alert-success\">\n",
    "<b>Комментарий ревьювера ✅:</b><br>\n",
    "    Большая работа проделана - интересное решение👍\n",
    "</div>\n"
   ]
  },
  {
   "cell_type": "markdown",
   "metadata": {
    "cellId": "oxf0lentjlmc7mx349nplf"
   },
   "source": [
    "<div class=\"alert alert-success\">\n",
    "<b>Комментарий ревьювера ✅:</b><br>\n",
    "    Подсказка – для полной уверенности что тест будет обработан так же как трейн, лучше все преобразования упаковать в функцию!<br>\n",
    "    Или можно написать свой класс-трансформер - <a href = \"https://towardsdatascience.com/custom-transformers-in-python-part-ii-6fe111fc82e4\">Custom Transformers and Pipelines in Python</a> 😉 В случае транформера тогда на этапе фита сохраняешь с трейна значения для заполнения пропусков и при траснформации применяешь к тесту.<br>\n",
    "    Высший пилотаж - объединить весь этап предобработки и обернуть в <a href = \"https://scikit-learn.org/stable/modules/generated/sklearn.compose.ColumnTransformer.html#sklearn.compose.ColumnTransformer\">ColumnTransformer</a>, а его в свою очередь сделать частью <a href = \"https://scikit-learn.org/stable/modules/generated/sklearn.pipeline.Pipeline.html#sklearn.pipeline.Pipeline\">Pipeline</a> 👍\n",
    "</div>"
   ]
  },
  {
   "cell_type": "code",
   "execution_count": 99,
   "metadata": {
    "cellId": "gfqavyo2k8i9xm2tmb3o"
   },
   "outputs": [
    {
     "ename": "NameError",
     "evalue": "name 'gr_df' is not defined",
     "output_type": "error",
     "traceback": [
      "\u001B[0;31m---------------------------------------------------------------------------\u001B[0m",
      "\u001B[0;31mNameError\u001B[0m                                 Traceback (most recent call last)",
      "\u001B[0;32m<ipython-input-99-4546b63eb47e>\u001B[0m in \u001B[0;36m<module>\u001B[0;34m\u001B[0m\n\u001B[0;32m----> 1\u001B[0;31m \u001B[0;32mdel\u001B[0m \u001B[0mgr_df\u001B[0m\u001B[0;34m\u001B[0m\u001B[0;34m\u001B[0m\u001B[0m\n\u001B[0m\u001B[1;32m      2\u001B[0m \u001B[0;32mdel\u001B[0m \u001B[0mcars\u001B[0m\u001B[0;34m\u001B[0m\u001B[0;34m\u001B[0m\u001B[0m\n\u001B[1;32m      3\u001B[0m \u001B[0;32mdel\u001B[0m \u001B[0mmake_mean_engine_capacity\u001B[0m\u001B[0;34m\u001B[0m\u001B[0;34m\u001B[0m\u001B[0m\n\u001B[1;32m      4\u001B[0m \u001B[0;31m#\u001B[0m\u001B[0;34m\u001B[0m\u001B[0;34m\u001B[0m\u001B[0;34m\u001B[0m\u001B[0m\n",
      "\u001B[0;31mNameError\u001B[0m: name 'gr_df' is not defined"
     ]
    }
   ],
   "source": [
    "#!c1.8\n",
    "del gr_df\n",
    "del cars\n",
    "del make_mean_engine_capacity"
   ]
  },
  {
   "cell_type": "markdown",
   "metadata": {
    "cellId": "g1lmf84m7kmjhigvqz48xl",
    "execution_id": "1db35fb6-b391-424b-b447-88bfa7ef5550"
   },
   "source": [
    "## Исследовательский анализ данных"
   ]
  },
  {
   "cell_type": "markdown",
   "metadata": {
    "cellId": "klhcj17uxoojn6b7ohzn9a",
    "execution_id": "20af096c-f5c2-427a-844e-564e5c067e93"
   },
   "source": [
    "### Гистограммы"
   ]
  },
  {
   "cell_type": "markdown",
   "metadata": {
    "cellId": "d2c04thvxcwysa9v2ljkgr",
    "execution_id": "8fefa3b1-16f8-4ce1-a50b-98c88f9268be"
   },
   "source": [
    "#### По всем столбцам"
   ]
  },
  {
   "cell_type": "code",
   "execution_count": 100,
   "metadata": {
    "cellId": "3o4wclozep6ihx8ta6jq9d"
   },
   "outputs": [
    {
     "data": {
      "image/png": "[encoded data removed]",
      "text/plain": [
       "<Figure size 1080x1080 with 9 Axes>"
      ]
     },
     "metadata": {
      "needs_background": "light"
     },
     "output_type": "display_data"
    }
   ],
   "source": [
    "#!c1.8\n",
    "df.hist(figsize=(15, 15))\n",
    "None"
   ]
  },
  {
   "cell_type": "markdown",
   "metadata": {
    "cellId": "6p2adj5hfjs6chsucpo49m",
    "execution_id": "422e6e89-112a-40eb-a187-81463e7ea8c4"
   },
   "source": [
    "#### **Condition**: Состояние автомобилей на момент аукциона."
   ]
  },
  {
   "cell_type": "code",
   "execution_count": 101,
   "metadata": {
    "cellId": "5zdopga1k86qy2mo47f03"
   },
   "outputs": [
    {
     "data": {
      "image/png": "[encoded data removed]",
      "text/plain": [
       "<Figure size 432x288 with 1 Axes>"
      ]
     },
     "metadata": {
      "needs_background": "light"
     },
     "output_type": "display_data"
    }
   ],
   "source": [
    "#!c1.8\n",
    "df['condition'].hist(bins=5)\n",
    "None"
   ]
  },
  {
   "cell_type": "markdown",
   "metadata": {
    "cellId": "o29yvylreasjmepa75ryps",
    "execution_id": "d0b36edf-91b8-44fb-b648-4d6e74ce64d1"
   },
   "source": [
    "Плохих оценок очень мало, в основном средние и хорошие"
   ]
  },
  {
   "cell_type": "markdown",
   "metadata": {
    "cellId": "xryazhcdv2cc6julx4myt",
    "execution_id": "c82097b1-64dc-4767-8a50-291e1d21bbf0"
   },
   "source": [
    "#### **engine_capacity**: объем двигателя"
   ]
  },
  {
   "cell_type": "code",
   "execution_count": 102,
   "metadata": {
    "cellId": "hwm0pw7myokdfqzxbzkss6"
   },
   "outputs": [
    {
     "data": {
      "image/png": "[encoded data removed]",
      "text/plain": [
       "<Figure size 432x288 with 1 Axes>"
      ]
     },
     "metadata": {
      "needs_background": "light"
     },
     "output_type": "display_data"
    }
   ],
   "source": [
    "#!c1.8\n",
    "df['engine_capacity'].hist(bins=6)\n",
    "None"
   ]
  },
  {
   "cell_type": "markdown",
   "metadata": {
    "cellId": "kf4jfz77ljfqphu4lt1p9",
    "execution_id": "5db78aa0-c99d-4e94-a0bf-2931e1e17cdd"
   },
   "source": [
    "Похоже на нормальное распределение с медианой 2"
   ]
  },
  {
   "cell_type": "markdown",
   "metadata": {
    "cellId": "lb08hc7tfad4r548960bc",
    "execution_id": "c1d73d86-808e-4ec3-8515-3ac6f9908d6a"
   },
   "source": [
    "#### **Odometer**: расстояние, пройденное автомобилем с момента выпуска."
   ]
  },
  {
   "cell_type": "code",
   "execution_count": 103,
   "metadata": {
    "cellId": "lawu3ajplcj3ughyhwizyr"
   },
   "outputs": [
    {
     "data": {
      "image/png": "[encoded data removed]",
      "text/plain": [
       "<Figure size 432x288 with 1 Axes>"
      ]
     },
     "metadata": {
      "needs_background": "light"
     },
     "output_type": "display_data"
    }
   ],
   "source": [
    "#!c1.8\n",
    "df['odometer'].hist()\n",
    "None"
   ]
  },
  {
   "cell_type": "markdown",
   "metadata": {
    "cellId": "gqs7hrw5xq948ns3f0a3g",
    "execution_id": "82daa85f-0c12-4865-9e7f-75f068bc6e2e"
   },
   "source": [
    "Мы видим выбросы в данных, распределение похоже на Пуассона, посмотрим на выбросы с помощью boxplot (ящик с усами)"
   ]
  },
  {
   "cell_type": "code",
   "execution_count": 104,
   "metadata": {
    "cellId": "hiztja97fnh0610m0kd7f04"
   },
   "outputs": [
    {
     "data": {
      "image/png": "[encoded data removed]",
      "text/plain": [
       "<Figure size 432x288 with 1 Axes>"
      ]
     },
     "metadata": {
      "needs_background": "light"
     },
     "output_type": "display_data"
    }
   ],
   "source": [
    "#!c1.8\n",
    "df.boxplot(column='odometer')\n",
    "None"
   ]
  },
  {
   "cell_type": "code",
   "execution_count": 105,
   "metadata": {
    "cellId": "7qp5jgw3i6gl2futbyjsck"
   },
   "outputs": [
    {
     "data": {
      "text/plain": [
       "count    414360.000000\n",
       "mean      66151.562810\n",
       "std       52148.456118\n",
       "min           1.000000\n",
       "25%       27593.750000\n",
       "50%       49884.000000\n",
       "75%       95771.250000\n",
       "max      999999.000000\n",
       "Name: odometer, dtype: float64"
      ]
     },
     "metadata": {},
     "output_type": "display_data"
    }
   ],
   "source": [
    "#!c1.8\n",
    "df['odometer'].describe()"
   ]
  },
  {
   "cell_type": "code",
   "execution_count": 106,
   "metadata": {
    "cellId": "k2xpml291i1qnd5fnfhft"
   },
   "outputs": [
    {
     "data": {
      "text/plain": [
       "1.9352736750651607"
      ]
     },
     "metadata": {},
     "output_type": "display_data"
    }
   ],
   "source": [
    "#!c1.8\n",
    "df.loc[df['odometer'] > 200_000].shape[0] / df.shape[0] * 100"
   ]
  },
  {
   "cell_type": "markdown",
   "metadata": {
    "cellId": "3bsyrz1trg32x6xarj4m3x",
    "execution_id": "9d677581-ebf7-41b1-8b0d-6eaba4ac3378"
   },
   "source": [
    "Аномальных значений всего 2%, удалим их"
   ]
  },
  {
   "cell_type": "code",
   "execution_count": 107,
   "metadata": {
    "cellId": "squd4th7d8rb57593bzy"
   },
   "outputs": [],
   "source": [
    "#!c1.8\n",
    "df = df.loc[df['odometer'] <= 200_000]"
   ]
  },
  {
   "cell_type": "markdown",
   "metadata": {
    "cellId": "tced0euaoj6bqb0hqmlxn"
   },
   "source": [
    "<div class=\"alert alert-success\">\n",
    "<b>Комментарий ревьювера ✅:</b><br>\n",
    "    Отлично, быстро и элегантно избавились от выбросов - рабочее решение, согласен 😎 Но будет хорошо, если удастся сравнить статистики трейна и теста - вдруг на тесте такой же диапазон значений, а мы его уменьшили на трейне? Выбросы не всегда критичны, а для некоторых моделей не критичны вообще, а вот экстраполировать предсказания за область обучающего диапазона умеют далеко не все 😉<br><br>\n",
    "    И чтобы раскрыть тему до конца - выбросы определены с помощью межквартильного размаха (IQR), но он работает хорошо только с нормальным распределением данных, а у нас, как отмечалось выше - оно больше похоже на Пуассоновское. Значит IQR здесь строго говоря не применим, но ему есть альтернатива - определение диапазона допустимых значений с помощью medcouple библиотеки scipy. \n",
    "</div>\n"
   ]
  },
  {
   "cell_type": "markdown",
   "metadata": {
    "cellId": "9q5w260ltpfn1xd2359xb",
    "execution_id": "4b0a42d2-f055-4bf9-94e1-3bc1597130a1"
   },
   "source": [
    "#### **sellingprice**: цена, по которой автомобиль был продан на аукционе."
   ]
  },
  {
   "cell_type": "code",
   "execution_count": 108,
   "metadata": {
    "cellId": "k6gafv4emgf2x81j9rc3u"
   },
   "outputs": [
    {
     "data": {
      "image/png": "[encoded data removed]",
      "text/plain": [
       "<Figure size 432x288 with 1 Axes>"
      ]
     },
     "metadata": {
      "needs_background": "light"
     },
     "output_type": "display_data"
    }
   ],
   "source": [
    "#!c1.8\n",
    "df['sellingprice'].hist()\n",
    "None"
   ]
  },
  {
   "cell_type": "markdown",
   "metadata": {
    "cellId": "qgcwg81db3btoyoki4nlh",
    "execution_id": "5bdf6b30-ad6b-460c-9b33-d6834a440d91"
   },
   "source": [
    "Мы видим выбросы в данных, распределение похоже на Пуассона, посмотрим на выбросы с помощью boxplot (ящик с усами)"
   ]
  },
  {
   "cell_type": "code",
   "execution_count": 109,
   "metadata": {
    "cellId": "69r14sflwcwik29de1lpji"
   },
   "outputs": [
    {
     "data": {
      "image/png": "[encoded data removed]",
      "text/plain": [
       "<Figure size 432x288 with 1 Axes>"
      ]
     },
     "metadata": {
      "needs_background": "light"
     },
     "output_type": "display_data"
    }
   ],
   "source": [
    "#!c1.8\n",
    "df.boxplot(column='sellingprice')\n",
    "None"
   ]
  },
  {
   "cell_type": "code",
   "execution_count": 110,
   "metadata": {
    "cellId": "wutw958n39dhgfuln7d2"
   },
   "outputs": [
    {
     "data": {
      "text/plain": [
       "count    406341.000000\n",
       "mean      14054.228232\n",
       "std        9623.320566\n",
       "min           1.000000\n",
       "25%        7700.000000\n",
       "50%       12500.000000\n",
       "75%       18500.000000\n",
       "max      230000.000000\n",
       "Name: sellingprice, dtype: float64"
      ]
     },
     "metadata": {},
     "output_type": "display_data"
    }
   ],
   "source": [
    "#!c1.8\n",
    "df['sellingprice'].describe()"
   ]
  },
  {
   "cell_type": "code",
   "execution_count": 111,
   "metadata": {
    "cellId": "6vpp5svlyn85esec0vab7i"
   },
   "outputs": [
    {
     "data": {
      "text/plain": [
       "0.032238932325312976"
      ]
     },
     "metadata": {},
     "output_type": "display_data"
    }
   ],
   "source": [
    "#!c1.8\n",
    "df.loc[df['sellingprice'] > 100_000].shape[0] / df.shape[0] * 100"
   ]
  },
  {
   "cell_type": "markdown",
   "metadata": {
    "cellId": "dkw33w9257e4b14fp3fyv",
    "execution_id": "f6d51c6e-4a60-4f3e-9da7-26748dc5b49c"
   },
   "source": [
    "Удалим аномальные значения больщие 100_000, их менее 0.1%"
   ]
  },
  {
   "cell_type": "markdown",
   "metadata": {
    "cellId": "h6qlj6xu63dhsrzvh9dwd5"
   },
   "source": [
    "<div class=\"alert alert-success\">\n",
    "<b>Комментарий ревьювера ✅:</b><br>\n",
    "    Согласен, но с оговоркой выше 😎\n",
    "</div>\n"
   ]
  },
  {
   "cell_type": "markdown",
   "metadata": {
    "cellId": "wb3tzhdd2ix8v6xs7p3fr",
    "execution_id": "f693a2c6-1a6e-4146-8378-b647835382e5"
   },
   "source": [
    "#### **year**: Год выпуска автомобиля."
   ]
  },
  {
   "cell_type": "code",
   "execution_count": 112,
   "metadata": {
    "cellId": "zyg0okyhucsyy5ml1syddg"
   },
   "outputs": [
    {
     "data": {
      "image/png": "[encoded data removed]",
      "text/plain": [
       "<Figure size 432x288 with 1 Axes>"
      ]
     },
     "metadata": {
      "needs_background": "light"
     },
     "output_type": "display_data"
    }
   ],
   "source": [
    "#!c1.8\n",
    "df['year'].hist()\n",
    "None"
   ]
  },
  {
   "cell_type": "markdown",
   "metadata": {
    "cellId": "i9iuhnwlzygxp82ktd5ct",
    "execution_id": "c41f759c-d076-4246-97db-77ebf22f9d41"
   },
   "source": [
    "Большинсво автомобилей собранных в 21 веке"
   ]
  },
  {
   "cell_type": "markdown",
   "metadata": {
    "cellId": "erimm9yggntn6xhdp32gc"
   },
   "source": [
    "<div class=\"alert alert-success\">\n",
    "<b>Комментарий ревьювера ✅:</b><br>\n",
    "    Супер, у тебя получились красивые и информативные графики в разделе EDA 👍 Было бы здорово добавить развернутые промежуточные и финальные выводы к ним😉\n",
    "</div>"
   ]
  },
  {
   "cell_type": "markdown",
   "metadata": {
    "cellId": "frkuffss17rw3zjcvq1jw",
    "execution_id": "63036acd-8758-45f6-b87d-ffd83f924c03"
   },
   "source": [
    "### Матрица корреляции"
   ]
  },
  {
   "cell_type": "code",
   "execution_count": 113,
   "metadata": {
    "cellId": "g0nvay69x1uez17u52g7i"
   },
   "outputs": [
    {
     "data": {
      "text/html": [
       "<div>\n",
       "<style scoped>\n",
       "    .dataframe tbody tr th:only-of-type {\n",
       "        vertical-align: middle;\n",
       "    }\n",
       "\n",
       "    .dataframe tbody tr th {\n",
       "        vertical-align: top;\n",
       "    }\n",
       "\n",
       "    .dataframe thead th {\n",
       "        text-align: right;\n",
       "    }\n",
       "</style>\n",
       "<table border=\"1\" class=\"dataframe\">\n",
       "  <thead>\n",
       "    <tr style=\"text-align: right;\">\n",
       "      <th></th>\n",
       "      <th>year</th>\n",
       "      <th>condition</th>\n",
       "      <th>odometer</th>\n",
       "      <th>sellingprice</th>\n",
       "      <th>sale_year</th>\n",
       "      <th>sale_month</th>\n",
       "      <th>car_age</th>\n",
       "      <th>engine_capacity</th>\n",
       "    </tr>\n",
       "  </thead>\n",
       "  <tbody>\n",
       "    <tr>\n",
       "      <th>year</th>\n",
       "      <td>1.000000</td>\n",
       "      <td>0.534202</td>\n",
       "      <td>-0.792126</td>\n",
       "      <td>0.566888</td>\n",
       "      <td>0.047202</td>\n",
       "      <td>0.013967</td>\n",
       "      <td>-0.997378</td>\n",
       "      <td>0.001265</td>\n",
       "    </tr>\n",
       "    <tr>\n",
       "      <th>condition</th>\n",
       "      <td>0.534202</td>\n",
       "      <td>1.000000</td>\n",
       "      <td>-0.538362</td>\n",
       "      <td>0.523730</td>\n",
       "      <td>0.034981</td>\n",
       "      <td>-0.017474</td>\n",
       "      <td>-0.532094</td>\n",
       "      <td>0.061858</td>\n",
       "    </tr>\n",
       "    <tr>\n",
       "      <th>odometer</th>\n",
       "      <td>-0.792126</td>\n",
       "      <td>-0.538362</td>\n",
       "      <td>1.000000</td>\n",
       "      <td>-0.587757</td>\n",
       "      <td>-0.029082</td>\n",
       "      <td>-0.008012</td>\n",
       "      <td>0.790651</td>\n",
       "      <td>-0.020190</td>\n",
       "    </tr>\n",
       "    <tr>\n",
       "      <th>sellingprice</th>\n",
       "      <td>0.566888</td>\n",
       "      <td>0.523730</td>\n",
       "      <td>-0.587757</td>\n",
       "      <td>1.000000</td>\n",
       "      <td>0.031691</td>\n",
       "      <td>0.008228</td>\n",
       "      <td>-0.565045</td>\n",
       "      <td>0.188360</td>\n",
       "    </tr>\n",
       "    <tr>\n",
       "      <th>sale_year</th>\n",
       "      <td>0.047202</td>\n",
       "      <td>0.034981</td>\n",
       "      <td>-0.029082</td>\n",
       "      <td>0.031691</td>\n",
       "      <td>1.000000</td>\n",
       "      <td>-0.790716</td>\n",
       "      <td>0.025209</td>\n",
       "      <td>0.007509</td>\n",
       "    </tr>\n",
       "    <tr>\n",
       "      <th>sale_month</th>\n",
       "      <td>0.013967</td>\n",
       "      <td>-0.017474</td>\n",
       "      <td>-0.008012</td>\n",
       "      <td>0.008228</td>\n",
       "      <td>-0.790716</td>\n",
       "      <td>1.000000</td>\n",
       "      <td>-0.071264</td>\n",
       "      <td>0.000965</td>\n",
       "    </tr>\n",
       "    <tr>\n",
       "      <th>car_age</th>\n",
       "      <td>-0.997378</td>\n",
       "      <td>-0.532094</td>\n",
       "      <td>0.790651</td>\n",
       "      <td>-0.565045</td>\n",
       "      <td>0.025209</td>\n",
       "      <td>-0.071264</td>\n",
       "      <td>1.000000</td>\n",
       "      <td>-0.000722</td>\n",
       "    </tr>\n",
       "    <tr>\n",
       "      <th>engine_capacity</th>\n",
       "      <td>0.001265</td>\n",
       "      <td>0.061858</td>\n",
       "      <td>-0.020190</td>\n",
       "      <td>0.188360</td>\n",
       "      <td>0.007509</td>\n",
       "      <td>0.000965</td>\n",
       "      <td>-0.000722</td>\n",
       "      <td>1.000000</td>\n",
       "    </tr>\n",
       "  </tbody>\n",
       "</table>\n",
       "</div>"
      ],
      "text/plain": [
       "                     year  condition  ...   car_age  engine_capacity\n",
       "year             1.000000   0.534202  ... -0.997378         0.001265\n",
       "condition        0.534202   1.000000  ... -0.532094         0.061858\n",
       "odometer        -0.792126  -0.538362  ...  0.790651        -0.020190\n",
       "sellingprice     0.566888   0.523730  ... -0.565045         0.188360\n",
       "sale_year        0.047202   0.034981  ...  0.025209         0.007509\n",
       "sale_month       0.013967  -0.017474  ... -0.071264         0.000965\n",
       "car_age         -0.997378  -0.532094  ...  1.000000        -0.000722\n",
       "engine_capacity  0.001265   0.061858  ... -0.000722         1.000000\n",
       "\n",
       "[8 rows x 8 columns]"
      ]
     },
     "metadata": {},
     "output_type": "display_data"
    }
   ],
   "source": [
    "#!c1.8\n",
    "corr_matrix = df.corr()\n",
    "corr_matrix"
   ]
  },
  {
   "cell_type": "markdown",
   "metadata": {
    "cellId": "l48fxd7nyr80pzd0tesmc5",
    "tags": []
   },
   "source": [
    "<div class=\"alert alert-success\">\n",
    "<b>Комментарий ревьювера ✅:</b><br>\n",
    "    Хочу обратить внимание, что в новой версии pandas изменено поведение функции corr. Раньше она по умолчанию выбирала числовые колонки, но в будущем будет брать все подряд, если не указано иное. Вот <a href = \"https://pandas.pydata.org/docs/reference/api/pandas.DataFrame.corr.html\">здесь</a> можно прочитать подробнее.<br>\n",
    "    Когда обновишься, код <code>df.corr()</code> перестанет работать, потому что споткнется на строковых ячейках. Надо будет добавить <code>numeric_only = True</code><br>\n",
    "    Можно уже заранее начинать добавлять этот параметр 😉\n",
    "</div>"
   ]
  },
  {
   "cell_type": "code",
   "execution_count": 114,
   "metadata": {
    "cellId": "wsdy0f6rgdpjhj9ntffttm"
   },
   "outputs": [
    {
     "data": {
      "image/png": "[encoded data removed]",
      "text/plain": [
       "<Figure size 720x720 with 2 Axes>"
      ]
     },
     "metadata": {},
     "output_type": "display_data"
    }
   ],
   "source": [
    "#!c1.8\n",
    "sns.set(rc={'figure.figsize':(10, 10)})\n",
    "sns.heatmap(corr_matrix, annot=True)\n",
    "None"
   ]
  },
  {
   "cell_type": "markdown",
   "metadata": {
    "cellId": "wp69cl0e9n5g0f7niokvs",
    "execution_id": "53952d74-b312-4117-8410-a76a326d6d9e"
   },
   "source": [
    "Заметим что, пробег машины линейно зависит от года ее выпуска"
   ]
  },
  {
   "cell_type": "markdown",
   "metadata": {
    "cellId": "rcb825u3bcgw1cyq7aovyq",
    "tags": []
   },
   "source": [
    "<div class=\"alert alert-success\">\n",
    "<b>Комментарий ревьювера ✅:</b><br>\n",
    "    Здорово, что проверяешь корреляцию!<br>\n",
    "    В нашем наборе данных много категориальных признаков, которые не анализирует метод .corr() в силу ограничений заложенного в его основу принципа корреляции Пирсона. Советую обратить внимание на библиотеку <a href = \"https://towardsdatascience.com/phik-k-get-familiar-with-the-latest-correlation-coefficient-9ba0032b37e7\">Phik</a>\n",
    "</div>"
   ]
  },
  {
   "cell_type": "code",
   "execution_count": 115,
   "metadata": {
    "cellId": "6luv6yk3a134bljpaj26c3"
   },
   "outputs": [],
   "source": [
    "#!c1.8\n",
    "del corr_matrix"
   ]
  },
  {
   "cell_type": "markdown",
   "metadata": {
    "cellId": "ypoilzsi7o444tt2pekdm",
    "execution_id": "590abd3a-dfe9-4d6e-b02f-bdaa8e859d2d"
   },
   "source": [
    "### Матрица рассеяния"
   ]
  },
  {
   "cell_type": "code",
   "execution_count": 116,
   "metadata": {
    "cellId": "dvvuswrvnclt0yz044nxmp"
   },
   "outputs": [
    {
     "data": {
      "image/png": "[encoded data removed]",
      "text/plain": [
       "<Figure size 1080x1080 with 64 Axes>"
      ]
     },
     "metadata": {},
     "output_type": "display_data"
    }
   ],
   "source": [
    "#!c1.8\n",
    "pd.plotting.scatter_matrix(df, figsize=(15, 15), alpha=0.25)\n",
    "None"
   ]
  },
  {
   "cell_type": "markdown",
   "metadata": {
    "cellId": "7g95fstxqvjj2t2f1v426q",
    "execution_id": "ba65ad46-f31b-4ef0-8cfa-d48b842c0aa0"
   },
   "source": [
    "### Аналитика"
   ]
  },
  {
   "cell_type": "code",
   "execution_count": 117,
   "metadata": {
    "cellId": "v2plm8foqki6obxv61o7sl"
   },
   "outputs": [],
   "source": [
    "#!c1.8\n",
    "df_pt = pd.pivot_table(df, values='sellingprice', index=['sale_year', 'sale_month'], aggfunc='median')"
   ]
  },
  {
   "cell_type": "code",
   "execution_count": 118,
   "metadata": {
    "cellId": "ht0airff0dfxm4d7b8sd6"
   },
   "outputs": [
    {
     "data": {
      "text/html": [
       "<div>\n",
       "<style scoped>\n",
       "    .dataframe tbody tr th:only-of-type {\n",
       "        vertical-align: middle;\n",
       "    }\n",
       "\n",
       "    .dataframe tbody tr th {\n",
       "        vertical-align: top;\n",
       "    }\n",
       "\n",
       "    .dataframe thead th {\n",
       "        text-align: right;\n",
       "    }\n",
       "</style>\n",
       "<table border=\"1\" class=\"dataframe\">\n",
       "  <thead>\n",
       "    <tr style=\"text-align: right;\">\n",
       "      <th></th>\n",
       "      <th></th>\n",
       "      <th>sellingprice</th>\n",
       "    </tr>\n",
       "    <tr>\n",
       "      <th>sale_year</th>\n",
       "      <th>sale_month</th>\n",
       "      <th></th>\n",
       "    </tr>\n",
       "  </thead>\n",
       "  <tbody>\n",
       "    <tr>\n",
       "      <th rowspan=\"2\" valign=\"top\">2014</th>\n",
       "      <th>1</th>\n",
       "      <td>16050</td>\n",
       "    </tr>\n",
       "    <tr>\n",
       "      <th>12</th>\n",
       "      <td>11500</td>\n",
       "    </tr>\n",
       "    <tr>\n",
       "      <th rowspan=\"7\" valign=\"top\">2015</th>\n",
       "      <th>1</th>\n",
       "      <td>12300</td>\n",
       "    </tr>\n",
       "    <tr>\n",
       "      <th>2</th>\n",
       "      <td>12500</td>\n",
       "    </tr>\n",
       "    <tr>\n",
       "      <th>3</th>\n",
       "      <td>12600</td>\n",
       "    </tr>\n",
       "    <tr>\n",
       "      <th>4</th>\n",
       "      <td>9400</td>\n",
       "    </tr>\n",
       "    <tr>\n",
       "      <th>5</th>\n",
       "      <td>12800</td>\n",
       "    </tr>\n",
       "    <tr>\n",
       "      <th>6</th>\n",
       "      <td>13100</td>\n",
       "    </tr>\n",
       "    <tr>\n",
       "      <th>7</th>\n",
       "      <td>15000</td>\n",
       "    </tr>\n",
       "  </tbody>\n",
       "</table>\n",
       "</div>"
      ],
      "text/plain": [
       "                      sellingprice\n",
       "sale_year sale_month              \n",
       "2014      1                  16050\n",
       "          12                 11500\n",
       "2015      1                  12300\n",
       "          2                  12500\n",
       "          3                  12600\n",
       "          4                   9400\n",
       "          5                  12800\n",
       "          6                  13100\n",
       "          7                  15000"
      ]
     },
     "metadata": {},
     "output_type": "display_data"
    }
   ],
   "source": [
    "#!c1.8\n",
    "df_pt"
   ]
  },
  {
   "cell_type": "markdown",
   "metadata": {
    "cellId": "x800l6jfev4bcnam75mm"
   },
   "source": [
    "<div class=\"alert alert-warning\">\n",
    "<b>Комментарий ревьюера ⚠️:</b><br>\n",
    "    EDA очень важный этап исследования, который может влиять на его дальнейшие этапы и в целом формирует понимание исходных данных, поэтому в конце EDA очень важно собрать все сделанные выводы и оформить их краткое содержание.\n",
    "</div>"
   ]
  },
  {
   "cell_type": "markdown",
   "metadata": {
    "cellId": "n579x6ezhswsacrgs9jqt",
    "execution_id": "52b5d595-19ba-46b6-99ef-2bd719bb0521"
   },
   "source": [
    "## Постановка ML задачи"
   ]
  },
  {
   "cell_type": "markdown",
   "metadata": {
    "cellId": "83umaosuybja2k0ocue9c",
    "execution_id": "8e52ae4e-4fdf-4b7f-a9f5-ce83ed07520e"
   },
   "source": [
    "Будем решать задачу Регрессии, оптимизировать метрику MAPE [Mean Absolute Percentage Error](https://en.wikipedia.org/wiki/Mean_absolute_percentage_error)"
   ]
  },
  {
   "cell_type": "markdown",
   "metadata": {
    "cellId": "ms75h9qlbtgiyqpv02x08q",
    "execution": {
     "iopub.execute_input": "2023-06-17T07:20:19.708014Z",
     "iopub.status.busy": "2023-06-17T07:20:19.707542Z",
     "iopub.status.idle": "2023-06-17T07:20:19.716525Z",
     "shell.execute_reply": "2023-06-17T07:20:19.714759Z",
     "shell.execute_reply.started": "2023-06-17T07:20:19.707978Z"
    },
    "execution_id": "91f5e273-0242-4471-9983-131ee0e76c62"
   },
   "source": [
    "Используя классические алгоритмы машинного обучения, такие как:\n",
    "1. Линейная регрессия\n",
    "2. CatBoostRegressor\n",
    "3. Lasso регрессия\n",
    "4. Ridge регрессия\n",
    "5. ElasticNet\n",
    "6. Регрессия дерева решений\n",
    "7. RandomForestRegressor\n",
    "\n",
    "Нам будет необходимо выделить синтетические фичи из стоблца saledate, тк выше упомянутые модели не могу работать с временными рядами, так же для Линейной регресси нужно будет провести нормализацию данных и one_hot кодирование категориальных фич"
   ]
  },
  {
   "cell_type": "markdown",
   "metadata": {
    "cellId": "797orv7vli9nv73tehtpb9"
   },
   "source": [
    "<div class=\"alert alert-warning\">\n",
    "<b>Комментарий ревьюера ⚠️:</b><br>\n",
    "    Временного ряда здесь нет 🤔 Наверное имелось ввиду формат даты?\n",
    "</div>"
   ]
  },
  {
   "cell_type": "code",
   "execution_count": 119,
   "metadata": {
    "cellId": "byx45zzmlort5pxocj0zw"
   },
   "outputs": [],
   "source": [
    "#!c1.8\n",
    "df.to_csv('df.csv', sep=';')"
   ]
  },
  {
   "cell_type": "markdown",
   "metadata": {
    "cellId": "tvn9gje7lkrrlt48cyn7u",
    "execution_id": "904db8cf-8b9f-42c4-a491-5149d450a214"
   },
   "source": [
    "### Подготовка данных к обучению моделей"
   ]
  },
  {
   "cell_type": "markdown",
   "metadata": {
    "cellId": "7x0futl42gt8d7t9tsip6n",
    "execution_id": "1e6b0039-06f1-4bc9-bc2d-1e2eb80a7050"
   },
   "source": [
    "#### Создадим **df_ml_linear_regression**"
   ]
  },
  {
   "cell_type": "code",
   "execution_count": 120,
   "metadata": {
    "cellId": "l3nm1wiq6wkxwbgrd6dk5c"
   },
   "outputs": [],
   "source": [
    "#!c1.8\n",
    "df_ml_linear_regression = df.copy()"
   ]
  },
  {
   "cell_type": "markdown",
   "metadata": {
    "cellId": "xolmz3bt8hc4tyr23sc8b",
    "execution_id": "693bd5cb-5220-4e02-a4a4-1b11c23f5e31"
   },
   "source": [
    "В **df_ml_linear_regression** добавим one-hot кодирование категориальных фичей"
   ]
  },
  {
   "cell_type": "code",
   "execution_count": 121,
   "metadata": {
    "cellId": "ozygnskfhicuip448i76fo"
   },
   "outputs": [],
   "source": [
    "#!c1.8\n",
    "df_ml_linear_regression = pd.get_dummies(df)"
   ]
  },
  {
   "cell_type": "markdown",
   "metadata": {
    "cellId": "tqh6ejtjd5dprlv9rciu3d"
   },
   "source": [
    "<div class=\"alert alert-warning\">\n",
    "<b>Комментарий ревьюера ⚠️:</b><br>\n",
    "    В sklearn есть своя <a href = \"https://scikit-learn.org/stable/modules/generated/sklearn.preprocessing.OneHotEncoder.html#sklearn.preprocessing.OneHotEncoder\">реализация OHE</a>, которую можно включать в <a href = \"https://scikit-learn.org/stable/modules/generated/sklearn.pipeline.Pipeline.html#sklearn.pipeline.Pipeline\">Pipeline</a>, лучше использовать её. Дополнительно про кодирование категориальных признаков можно почитать здесь: <a href = \"https://habr.com/ru/articles/666234/\">категориальные признаки</a>.\n",
    "</div>\n"
   ]
  },
  {
   "cell_type": "code",
   "execution_count": 122,
   "metadata": {
    "cellId": "4namzxr0d5ith1nld8kk2"
   },
   "outputs": [
    {
     "data": {
      "text/html": [
       "<div>\n",
       "<style scoped>\n",
       "    .dataframe tbody tr th:only-of-type {\n",
       "        vertical-align: middle;\n",
       "    }\n",
       "\n",
       "    .dataframe tbody tr th {\n",
       "        vertical-align: top;\n",
       "    }\n",
       "\n",
       "    .dataframe thead th {\n",
       "        text-align: right;\n",
       "    }\n",
       "</style>\n",
       "<table border=\"1\" class=\"dataframe\">\n",
       "  <thead>\n",
       "    <tr style=\"text-align: right;\">\n",
       "      <th></th>\n",
       "      <th>year</th>\n",
       "      <th>condition</th>\n",
       "      <th>odometer</th>\n",
       "      <th>sellingprice</th>\n",
       "      <th>saledate</th>\n",
       "      <th>sale_year</th>\n",
       "      <th>sale_month</th>\n",
       "      <th>car_age</th>\n",
       "      <th>engine_capacity</th>\n",
       "      <th>make_acura</th>\n",
       "      <th>make_aston martin</th>\n",
       "      <th>make_audi</th>\n",
       "      <th>make_bentley</th>\n",
       "      <th>make_bmw</th>\n",
       "      <th>make_buick</th>\n",
       "      <th>make_cadillac</th>\n",
       "      <th>make_chevrolet</th>\n",
       "      <th>make_chrysler</th>\n",
       "      <th>make_daewoo</th>\n",
       "      <th>make_dodge</th>\n",
       "      <th>make_ferrari</th>\n",
       "      <th>make_fiat</th>\n",
       "      <th>make_fisker</th>\n",
       "      <th>make_ford</th>\n",
       "      <th>make_geo</th>\n",
       "      <th>make_gmc</th>\n",
       "      <th>make_honda</th>\n",
       "      <th>make_hummer</th>\n",
       "      <th>make_hyundai</th>\n",
       "      <th>make_infiniti</th>\n",
       "      <th>make_isuzu</th>\n",
       "      <th>make_jaguar</th>\n",
       "      <th>make_jeep</th>\n",
       "      <th>make_kia</th>\n",
       "      <th>make_lamborghini</th>\n",
       "      <th>make_land rover</th>\n",
       "      <th>make_lexus</th>\n",
       "      <th>make_lincoln</th>\n",
       "      <th>make_maserati</th>\n",
       "      <th>make_mazda</th>\n",
       "      <th>...</th>\n",
       "      <th>transmission_automatic</th>\n",
       "      <th>transmission_manual</th>\n",
       "      <th>transmission_mechanical</th>\n",
       "      <th>color_beige</th>\n",
       "      <th>color_black</th>\n",
       "      <th>color_blue</th>\n",
       "      <th>color_brown</th>\n",
       "      <th>color_burgundy</th>\n",
       "      <th>color_charcoal</th>\n",
       "      <th>color_gold</th>\n",
       "      <th>color_gray</th>\n",
       "      <th>color_green</th>\n",
       "      <th>color_lime</th>\n",
       "      <th>color_off-white</th>\n",
       "      <th>color_orange</th>\n",
       "      <th>color_pink</th>\n",
       "      <th>color_purple</th>\n",
       "      <th>color_red</th>\n",
       "      <th>color_silver</th>\n",
       "      <th>color_turquoise</th>\n",
       "      <th>color_white</th>\n",
       "      <th>color_yellow</th>\n",
       "      <th>color_—</th>\n",
       "      <th>interior_beige</th>\n",
       "      <th>interior_black</th>\n",
       "      <th>interior_blue</th>\n",
       "      <th>interior_brown</th>\n",
       "      <th>interior_burgundy</th>\n",
       "      <th>interior_gold</th>\n",
       "      <th>interior_gray</th>\n",
       "      <th>interior_green</th>\n",
       "      <th>interior_off-white</th>\n",
       "      <th>interior_orange</th>\n",
       "      <th>interior_purple</th>\n",
       "      <th>interior_red</th>\n",
       "      <th>interior_silver</th>\n",
       "      <th>interior_tan</th>\n",
       "      <th>interior_white</th>\n",
       "      <th>interior_yellow</th>\n",
       "      <th>interior_—</th>\n",
       "    </tr>\n",
       "  </thead>\n",
       "  <tbody>\n",
       "    <tr>\n",
       "      <th>0</th>\n",
       "      <td>2011</td>\n",
       "      <td>4.2</td>\n",
       "      <td>111041.0</td>\n",
       "      <td>12500</td>\n",
       "      <td>2015-06-02 02:30:00+00:00</td>\n",
       "      <td>2015</td>\n",
       "      <td>6</td>\n",
       "      <td>4</td>\n",
       "      <td>2.75</td>\n",
       "      <td>0</td>\n",
       "      <td>0</td>\n",
       "      <td>0</td>\n",
       "      <td>0</td>\n",
       "      <td>0</td>\n",
       "      <td>0</td>\n",
       "      <td>0</td>\n",
       "      <td>0</td>\n",
       "      <td>0</td>\n",
       "      <td>0</td>\n",
       "      <td>0</td>\n",
       "      <td>0</td>\n",
       "      <td>0</td>\n",
       "      <td>0</td>\n",
       "      <td>1</td>\n",
       "      <td>0</td>\n",
       "      <td>0</td>\n",
       "      <td>0</td>\n",
       "      <td>0</td>\n",
       "      <td>0</td>\n",
       "      <td>0</td>\n",
       "      <td>0</td>\n",
       "      <td>0</td>\n",
       "      <td>0</td>\n",
       "      <td>0</td>\n",
       "      <td>0</td>\n",
       "      <td>0</td>\n",
       "      <td>0</td>\n",
       "      <td>0</td>\n",
       "      <td>0</td>\n",
       "      <td>0</td>\n",
       "      <td>...</td>\n",
       "      <td>1</td>\n",
       "      <td>0</td>\n",
       "      <td>0</td>\n",
       "      <td>0</td>\n",
       "      <td>1</td>\n",
       "      <td>0</td>\n",
       "      <td>0</td>\n",
       "      <td>0</td>\n",
       "      <td>0</td>\n",
       "      <td>0</td>\n",
       "      <td>0</td>\n",
       "      <td>0</td>\n",
       "      <td>0</td>\n",
       "      <td>0</td>\n",
       "      <td>0</td>\n",
       "      <td>0</td>\n",
       "      <td>0</td>\n",
       "      <td>0</td>\n",
       "      <td>0</td>\n",
       "      <td>0</td>\n",
       "      <td>0</td>\n",
       "      <td>0</td>\n",
       "      <td>0</td>\n",
       "      <td>0</td>\n",
       "      <td>1</td>\n",
       "      <td>0</td>\n",
       "      <td>0</td>\n",
       "      <td>0</td>\n",
       "      <td>0</td>\n",
       "      <td>0</td>\n",
       "      <td>0</td>\n",
       "      <td>0</td>\n",
       "      <td>0</td>\n",
       "      <td>0</td>\n",
       "      <td>0</td>\n",
       "      <td>0</td>\n",
       "      <td>0</td>\n",
       "      <td>0</td>\n",
       "      <td>0</td>\n",
       "      <td>0</td>\n",
       "    </tr>\n",
       "    <tr>\n",
       "      <th>1</th>\n",
       "      <td>2014</td>\n",
       "      <td>3.5</td>\n",
       "      <td>31034.0</td>\n",
       "      <td>14500</td>\n",
       "      <td>2015-02-25 02:00:00+00:00</td>\n",
       "      <td>2015</td>\n",
       "      <td>2</td>\n",
       "      <td>1</td>\n",
       "      <td>2.75</td>\n",
       "      <td>0</td>\n",
       "      <td>0</td>\n",
       "      <td>0</td>\n",
       "      <td>0</td>\n",
       "      <td>0</td>\n",
       "      <td>0</td>\n",
       "      <td>0</td>\n",
       "      <td>0</td>\n",
       "      <td>0</td>\n",
       "      <td>0</td>\n",
       "      <td>0</td>\n",
       "      <td>0</td>\n",
       "      <td>0</td>\n",
       "      <td>0</td>\n",
       "      <td>1</td>\n",
       "      <td>0</td>\n",
       "      <td>0</td>\n",
       "      <td>0</td>\n",
       "      <td>0</td>\n",
       "      <td>0</td>\n",
       "      <td>0</td>\n",
       "      <td>0</td>\n",
       "      <td>0</td>\n",
       "      <td>0</td>\n",
       "      <td>0</td>\n",
       "      <td>0</td>\n",
       "      <td>0</td>\n",
       "      <td>0</td>\n",
       "      <td>0</td>\n",
       "      <td>0</td>\n",
       "      <td>0</td>\n",
       "      <td>...</td>\n",
       "      <td>1</td>\n",
       "      <td>0</td>\n",
       "      <td>0</td>\n",
       "      <td>0</td>\n",
       "      <td>1</td>\n",
       "      <td>0</td>\n",
       "      <td>0</td>\n",
       "      <td>0</td>\n",
       "      <td>0</td>\n",
       "      <td>0</td>\n",
       "      <td>0</td>\n",
       "      <td>0</td>\n",
       "      <td>0</td>\n",
       "      <td>0</td>\n",
       "      <td>0</td>\n",
       "      <td>0</td>\n",
       "      <td>0</td>\n",
       "      <td>0</td>\n",
       "      <td>0</td>\n",
       "      <td>0</td>\n",
       "      <td>0</td>\n",
       "      <td>0</td>\n",
       "      <td>0</td>\n",
       "      <td>0</td>\n",
       "      <td>1</td>\n",
       "      <td>0</td>\n",
       "      <td>0</td>\n",
       "      <td>0</td>\n",
       "      <td>0</td>\n",
       "      <td>0</td>\n",
       "      <td>0</td>\n",
       "      <td>0</td>\n",
       "      <td>0</td>\n",
       "      <td>0</td>\n",
       "      <td>0</td>\n",
       "      <td>0</td>\n",
       "      <td>0</td>\n",
       "      <td>0</td>\n",
       "      <td>0</td>\n",
       "      <td>0</td>\n",
       "    </tr>\n",
       "    <tr>\n",
       "      <th>2</th>\n",
       "      <td>2012</td>\n",
       "      <td>2.2</td>\n",
       "      <td>35619.0</td>\n",
       "      <td>9100</td>\n",
       "      <td>2015-06-10 02:30:00+00:00</td>\n",
       "      <td>2015</td>\n",
       "      <td>6</td>\n",
       "      <td>3</td>\n",
       "      <td>2.00</td>\n",
       "      <td>0</td>\n",
       "      <td>0</td>\n",
       "      <td>0</td>\n",
       "      <td>0</td>\n",
       "      <td>0</td>\n",
       "      <td>0</td>\n",
       "      <td>0</td>\n",
       "      <td>0</td>\n",
       "      <td>0</td>\n",
       "      <td>0</td>\n",
       "      <td>0</td>\n",
       "      <td>0</td>\n",
       "      <td>0</td>\n",
       "      <td>0</td>\n",
       "      <td>0</td>\n",
       "      <td>0</td>\n",
       "      <td>0</td>\n",
       "      <td>0</td>\n",
       "      <td>0</td>\n",
       "      <td>0</td>\n",
       "      <td>0</td>\n",
       "      <td>0</td>\n",
       "      <td>0</td>\n",
       "      <td>0</td>\n",
       "      <td>0</td>\n",
       "      <td>0</td>\n",
       "      <td>0</td>\n",
       "      <td>0</td>\n",
       "      <td>0</td>\n",
       "      <td>0</td>\n",
       "      <td>0</td>\n",
       "      <td>...</td>\n",
       "      <td>1</td>\n",
       "      <td>0</td>\n",
       "      <td>0</td>\n",
       "      <td>0</td>\n",
       "      <td>1</td>\n",
       "      <td>0</td>\n",
       "      <td>0</td>\n",
       "      <td>0</td>\n",
       "      <td>0</td>\n",
       "      <td>0</td>\n",
       "      <td>0</td>\n",
       "      <td>0</td>\n",
       "      <td>0</td>\n",
       "      <td>0</td>\n",
       "      <td>0</td>\n",
       "      <td>0</td>\n",
       "      <td>0</td>\n",
       "      <td>0</td>\n",
       "      <td>0</td>\n",
       "      <td>0</td>\n",
       "      <td>0</td>\n",
       "      <td>0</td>\n",
       "      <td>0</td>\n",
       "      <td>0</td>\n",
       "      <td>1</td>\n",
       "      <td>0</td>\n",
       "      <td>0</td>\n",
       "      <td>0</td>\n",
       "      <td>0</td>\n",
       "      <td>0</td>\n",
       "      <td>0</td>\n",
       "      <td>0</td>\n",
       "      <td>0</td>\n",
       "      <td>0</td>\n",
       "      <td>0</td>\n",
       "      <td>0</td>\n",
       "      <td>0</td>\n",
       "      <td>0</td>\n",
       "      <td>0</td>\n",
       "      <td>0</td>\n",
       "    </tr>\n",
       "    <tr>\n",
       "      <th>3</th>\n",
       "      <td>2003</td>\n",
       "      <td>2.8</td>\n",
       "      <td>131301.0</td>\n",
       "      <td>13300</td>\n",
       "      <td>2015-06-17 03:00:00+00:00</td>\n",
       "      <td>2015</td>\n",
       "      <td>6</td>\n",
       "      <td>12</td>\n",
       "      <td>6.00</td>\n",
       "      <td>0</td>\n",
       "      <td>0</td>\n",
       "      <td>0</td>\n",
       "      <td>0</td>\n",
       "      <td>0</td>\n",
       "      <td>0</td>\n",
       "      <td>0</td>\n",
       "      <td>0</td>\n",
       "      <td>0</td>\n",
       "      <td>0</td>\n",
       "      <td>0</td>\n",
       "      <td>0</td>\n",
       "      <td>0</td>\n",
       "      <td>0</td>\n",
       "      <td>0</td>\n",
       "      <td>0</td>\n",
       "      <td>0</td>\n",
       "      <td>0</td>\n",
       "      <td>1</td>\n",
       "      <td>0</td>\n",
       "      <td>0</td>\n",
       "      <td>0</td>\n",
       "      <td>0</td>\n",
       "      <td>0</td>\n",
       "      <td>0</td>\n",
       "      <td>0</td>\n",
       "      <td>0</td>\n",
       "      <td>0</td>\n",
       "      <td>0</td>\n",
       "      <td>0</td>\n",
       "      <td>0</td>\n",
       "      <td>...</td>\n",
       "      <td>1</td>\n",
       "      <td>0</td>\n",
       "      <td>0</td>\n",
       "      <td>0</td>\n",
       "      <td>0</td>\n",
       "      <td>0</td>\n",
       "      <td>0</td>\n",
       "      <td>0</td>\n",
       "      <td>0</td>\n",
       "      <td>1</td>\n",
       "      <td>0</td>\n",
       "      <td>0</td>\n",
       "      <td>0</td>\n",
       "      <td>0</td>\n",
       "      <td>0</td>\n",
       "      <td>0</td>\n",
       "      <td>0</td>\n",
       "      <td>0</td>\n",
       "      <td>0</td>\n",
       "      <td>0</td>\n",
       "      <td>0</td>\n",
       "      <td>0</td>\n",
       "      <td>0</td>\n",
       "      <td>1</td>\n",
       "      <td>0</td>\n",
       "      <td>0</td>\n",
       "      <td>0</td>\n",
       "      <td>0</td>\n",
       "      <td>0</td>\n",
       "      <td>0</td>\n",
       "      <td>0</td>\n",
       "      <td>0</td>\n",
       "      <td>0</td>\n",
       "      <td>0</td>\n",
       "      <td>0</td>\n",
       "      <td>0</td>\n",
       "      <td>0</td>\n",
       "      <td>0</td>\n",
       "      <td>0</td>\n",
       "      <td>0</td>\n",
       "    </tr>\n",
       "    <tr>\n",
       "      <th>4</th>\n",
       "      <td>2007</td>\n",
       "      <td>2.0</td>\n",
       "      <td>127709.0</td>\n",
       "      <td>1300</td>\n",
       "      <td>2015-02-03 04:00:00+00:00</td>\n",
       "      <td>2015</td>\n",
       "      <td>2</td>\n",
       "      <td>8</td>\n",
       "      <td>2.75</td>\n",
       "      <td>0</td>\n",
       "      <td>0</td>\n",
       "      <td>0</td>\n",
       "      <td>0</td>\n",
       "      <td>0</td>\n",
       "      <td>0</td>\n",
       "      <td>0</td>\n",
       "      <td>0</td>\n",
       "      <td>0</td>\n",
       "      <td>0</td>\n",
       "      <td>0</td>\n",
       "      <td>0</td>\n",
       "      <td>0</td>\n",
       "      <td>0</td>\n",
       "      <td>1</td>\n",
       "      <td>0</td>\n",
       "      <td>0</td>\n",
       "      <td>0</td>\n",
       "      <td>0</td>\n",
       "      <td>0</td>\n",
       "      <td>0</td>\n",
       "      <td>0</td>\n",
       "      <td>0</td>\n",
       "      <td>0</td>\n",
       "      <td>0</td>\n",
       "      <td>0</td>\n",
       "      <td>0</td>\n",
       "      <td>0</td>\n",
       "      <td>0</td>\n",
       "      <td>0</td>\n",
       "      <td>0</td>\n",
       "      <td>...</td>\n",
       "      <td>1</td>\n",
       "      <td>0</td>\n",
       "      <td>0</td>\n",
       "      <td>0</td>\n",
       "      <td>1</td>\n",
       "      <td>0</td>\n",
       "      <td>0</td>\n",
       "      <td>0</td>\n",
       "      <td>0</td>\n",
       "      <td>0</td>\n",
       "      <td>0</td>\n",
       "      <td>0</td>\n",
       "      <td>0</td>\n",
       "      <td>0</td>\n",
       "      <td>0</td>\n",
       "      <td>0</td>\n",
       "      <td>0</td>\n",
       "      <td>0</td>\n",
       "      <td>0</td>\n",
       "      <td>0</td>\n",
       "      <td>0</td>\n",
       "      <td>0</td>\n",
       "      <td>0</td>\n",
       "      <td>0</td>\n",
       "      <td>1</td>\n",
       "      <td>0</td>\n",
       "      <td>0</td>\n",
       "      <td>0</td>\n",
       "      <td>0</td>\n",
       "      <td>0</td>\n",
       "      <td>0</td>\n",
       "      <td>0</td>\n",
       "      <td>0</td>\n",
       "      <td>0</td>\n",
       "      <td>0</td>\n",
       "      <td>0</td>\n",
       "      <td>0</td>\n",
       "      <td>0</td>\n",
       "      <td>0</td>\n",
       "      <td>0</td>\n",
       "    </tr>\n",
       "  </tbody>\n",
       "</table>\n",
       "<p>5 rows × 2282 columns</p>\n",
       "</div>"
      ],
      "text/plain": [
       "   year  condition  odometer  ...  interior_white interior_yellow  interior_—\n",
       "0  2011        4.2  111041.0  ...               0               0           0\n",
       "1  2014        3.5   31034.0  ...               0               0           0\n",
       "2  2012        2.2   35619.0  ...               0               0           0\n",
       "3  2003        2.8  131301.0  ...               0               0           0\n",
       "4  2007        2.0  127709.0  ...               0               0           0\n",
       "\n",
       "[5 rows x 2282 columns]"
      ]
     },
     "metadata": {},
     "output_type": "display_data"
    }
   ],
   "source": [
    "#!c1.8\n",
    "df_ml_linear_regression.head()"
   ]
  },
  {
   "cell_type": "markdown",
   "metadata": {
    "cellId": "ocjpf72hhhewdh9xgxr2vg",
    "execution_id": "9f30226b-5a4d-44c4-be3c-978865b7afc2"
   },
   "source": [
    "Сохраним **df_ml_linear_regression** в файлик"
   ]
  },
  {
   "cell_type": "code",
   "execution_count": 123,
   "metadata": {
    "cellId": "wrp7qxolim7nc3dbxlpws"
   },
   "outputs": [],
   "source": [
    "#!c1.8\n",
    "df_ml_linear_regression.to_csv('df_ml_linear_regression.csv', sep=';')"
   ]
  },
  {
   "cell_type": "markdown",
   "metadata": {
    "cellId": "mlo3wb8lx2rmz7cp9r7wd",
    "execution_id": "882e525b-b5fe-474a-88c8-e0ac657cf23e",
    "tags": []
   },
   "source": [
    "#### Разделим на обучающую, валидационную и тестовую выборки\n",
    "Для линейных моделей одно, для деревьев другое (тк категориальные фичи)"
   ]
  },
  {
   "cell_type": "markdown",
   "metadata": {
    "cellId": "cifx2kq4r5bwxk8rw2np7"
   },
   "source": [
    "<div class=\"alert alert-warning\">\n",
    "<b>Комментарий ревьюера ⚠️:</b><br>\n",
    "    Раз уже речь идет про разные способы предобработки для разных моделей, то здесь просто напрашивается применение <a href = \"https://scikit-learn.org/stable/modules/generated/sklearn.pipeline.Pipeline.html#sklearn.pipeline.Pipeline\">Pipeline</a>😍\n",
    "</div>\n"
   ]
  },
  {
   "cell_type": "code",
   "execution_count": 124,
   "metadata": {
    "cellId": "u2gqwdfumaj89800u4hsp"
   },
   "outputs": [],
   "source": [
    "#!c1.8\n",
    "X_train_valid_normal, X_test_normal, y_train_valid_normal, y_test_normal = train_test_split(\n",
    "    df_ml_linear_regression.drop(columns=['sellingprice', 'saledate']), df_ml_linear_regression['sellingprice'], \n",
    "    test_size=0.2, random_state=42)"
   ]
  },
  {
   "cell_type": "code",
   "execution_count": 125,
   "metadata": {
    "cellId": "2vq2eqr6ebcdbgzq5zsiwd"
   },
   "outputs": [],
   "source": [
    "#!c1.8\n",
    "X_train_normal, X_valid_normal, y_train_normal, y_valid_normal = train_test_split(\n",
    "    X_train_valid_normal, y_train_valid_normal, test_size=0.2, random_state=42)"
   ]
  },
  {
   "cell_type": "markdown",
   "metadata": {
    "cellId": "lssx02eqdchet9jia3vwuj"
   },
   "source": [
    "<div class=\"alert alert-success\">\n",
    "<b>Комментарий ревьювера ✅:</b><br>\n",
    "    Подсказка – чтобы полнее использовать датасет, можно не выделять валидационную выборку, а вместо этого использовать кросс-валидацию.<br>\n",
    "    При кросс-валидации на каждом шаге происходит переразбиение выборки на трейн и валид и подсчитывается метрика.\n",
    "    \n",
    "---\n",
    "    \n",
    "Про кроссвалидацию можно почитать здесь https://academy.yandex.ru/handbook/ml/article/kross-validaciya\n",
    "\n",
    "Про организацию пайплайнов с разными типами данных хорошая статья здесь https://towardsdatascience.com/featureunion-columntransformer-pipeline-for-preprocessing-text-data-9dcb233dbcb6\n",
    "\n",
    "Про пайплайны с тестированием набора различных моделей [Scikit-learn Pipeline Tutorial with Parameter Tuning and Cross-Validation](https://towardsdatascience.com/scikit-learn-pipeline-tutorial-with-parameter-tuning-and-cross-validation-e5b8280c01fb)\n",
    "</div>\n"
   ]
  },
  {
   "cell_type": "code",
   "execution_count": 126,
   "metadata": {
    "cellId": "faeddetekeqtaipux0j90c"
   },
   "outputs": [],
   "source": [
    "#!c1.8\n",
    "del df_ml_linear_regression\n",
    "del X_train_valid_normal\n",
    "del y_train_valid_normal"
   ]
  },
  {
   "cell_type": "markdown",
   "metadata": {
    "cellId": "5zlh3w0uutyd23fqt4opq6",
    "execution_id": "72a2efa8-2314-44f5-8af0-cb6eeb3cbdd0"
   },
   "source": [
    "Выполним label кодирование для категориальных фичей"
   ]
  },
  {
   "cell_type": "code",
   "execution_count": 223,
   "metadata": {
    "cellId": "hjrv3pmdb7elb5h2647og9"
   },
   "outputs": [],
   "source": [
    "#!c1.8\n",
    "df = pd.read_csv('df.csv', sep=';')"
   ]
  },
  {
   "cell_type": "code",
   "execution_count": 224,
   "metadata": {
    "cellId": "m83uku31fd6jl4k0vbive"
   },
   "outputs": [
    {
     "ename": "KeyError",
     "evalue": "'saledate'",
     "output_type": "error",
     "traceback": [
      "\u001B[0;31m---------------------------------------------------------------------------\u001B[0m",
      "\u001B[0;31mKeyError\u001B[0m                                  Traceback (most recent call last)",
      "\u001B[0;32m/usr/local/lib/python3.8/dist-packages/pandas/core/indexes/base.py\u001B[0m in \u001B[0;36mget_loc\u001B[0;34m(self, key, method, tolerance)\u001B[0m\n\u001B[1;32m   2896\u001B[0m             \u001B[0;32mtry\u001B[0m\u001B[0;34m:\u001B[0m\u001B[0;34m\u001B[0m\u001B[0;34m\u001B[0m\u001B[0m\n\u001B[0;32m-> 2897\u001B[0;31m                 \u001B[0;32mreturn\u001B[0m \u001B[0mself\u001B[0m\u001B[0;34m.\u001B[0m\u001B[0m_engine\u001B[0m\u001B[0;34m.\u001B[0m\u001B[0mget_loc\u001B[0m\u001B[0;34m(\u001B[0m\u001B[0mkey\u001B[0m\u001B[0;34m)\u001B[0m\u001B[0;34m\u001B[0m\u001B[0;34m\u001B[0m\u001B[0m\n\u001B[0m\u001B[1;32m   2898\u001B[0m             \u001B[0;32mexcept\u001B[0m \u001B[0mKeyError\u001B[0m\u001B[0;34m:\u001B[0m\u001B[0;34m\u001B[0m\u001B[0;34m\u001B[0m\u001B[0m\n",
      "\u001B[0;32m/kernel/fallback/lib/python3.8/site-packages/pandas/_libs/index.pyx\u001B[0m in \u001B[0;36mpandas._libs.index.IndexEngine.get_loc\u001B[0;34m()\u001B[0m\n",
      "\u001B[0;32m/kernel/fallback/lib/python3.8/site-packages/pandas/_libs/index.pyx\u001B[0m in \u001B[0;36mpandas._libs.index.IndexEngine.get_loc\u001B[0;34m()\u001B[0m\n",
      "\u001B[0;32mpandas/_libs/hashtable_class_helper.pxi\u001B[0m in \u001B[0;36mpandas._libs.hashtable.PyObjectHashTable.get_item\u001B[0;34m()\u001B[0m\n",
      "\u001B[0;32mpandas/_libs/hashtable_class_helper.pxi\u001B[0m in \u001B[0;36mpandas._libs.hashtable.PyObjectHashTable.get_item\u001B[0;34m()\u001B[0m\n",
      "\u001B[0;31mKeyError\u001B[0m: 'saledate'",
      "\nDuring handling of the above exception, another exception occurred:\n",
      "\u001B[0;31mKeyError\u001B[0m                                  Traceback (most recent call last)",
      "\u001B[0;32m<ipython-input-3-c23202d9e566>\u001B[0m in \u001B[0;36m<module>\u001B[0;34m\u001B[0m\n\u001B[1;32m      2\u001B[0m \u001B[0mX\u001B[0m \u001B[0;34m=\u001B[0m \u001B[0mdf\u001B[0m\u001B[0;34m.\u001B[0m\u001B[0mdrop\u001B[0m\u001B[0;34m(\u001B[0m\u001B[0mcolumns\u001B[0m\u001B[0;34m=\u001B[0m\u001B[0;34m[\u001B[0m\u001B[0;34m'sellingprice'\u001B[0m\u001B[0;34m,\u001B[0m \u001B[0;34m'saledate'\u001B[0m\u001B[0;34m]\u001B[0m\u001B[0;34m)\u001B[0m\u001B[0;34m.\u001B[0m\u001B[0mcopy\u001B[0m\u001B[0;34m(\u001B[0m\u001B[0;34m)\u001B[0m\u001B[0;34m\u001B[0m\u001B[0;34m\u001B[0m\u001B[0m\n\u001B[1;32m      3\u001B[0m \u001B[0;32mfor\u001B[0m \u001B[0mcolumn\u001B[0m \u001B[0;32min\u001B[0m \u001B[0mdf\u001B[0m\u001B[0;34m.\u001B[0m\u001B[0mselect_dtypes\u001B[0m\u001B[0;34m(\u001B[0m\u001B[0;34m'object'\u001B[0m\u001B[0;34m)\u001B[0m\u001B[0;34m.\u001B[0m\u001B[0mcolumns\u001B[0m\u001B[0;34m.\u001B[0m\u001B[0mto_list\u001B[0m\u001B[0;34m(\u001B[0m\u001B[0;34m)\u001B[0m\u001B[0;34m:\u001B[0m\u001B[0;34m\u001B[0m\u001B[0;34m\u001B[0m\u001B[0m\n\u001B[0;32m----> 4\u001B[0;31m     \u001B[0mX\u001B[0m\u001B[0;34m[\u001B[0m\u001B[0mcolumn\u001B[0m\u001B[0;34m]\u001B[0m \u001B[0;34m=\u001B[0m \u001B[0mle\u001B[0m\u001B[0;34m.\u001B[0m\u001B[0mfit_transform\u001B[0m\u001B[0;34m(\u001B[0m\u001B[0mX\u001B[0m\u001B[0;34m[\u001B[0m\u001B[0mcolumn\u001B[0m\u001B[0;34m]\u001B[0m\u001B[0;34m)\u001B[0m\u001B[0;34m\u001B[0m\u001B[0;34m\u001B[0m\u001B[0m\n\u001B[0m\u001B[1;32m      5\u001B[0m \u001B[0;31m#\u001B[0m\u001B[0;34m\u001B[0m\u001B[0;34m\u001B[0m\u001B[0;34m\u001B[0m\u001B[0m\n",
      "\u001B[0;32m/usr/local/lib/python3.8/dist-packages/pandas/core/frame.py\u001B[0m in \u001B[0;36m__getitem__\u001B[0;34m(self, key)\u001B[0m\n\u001B[1;32m   2993\u001B[0m             \u001B[0;32mif\u001B[0m \u001B[0mself\u001B[0m\u001B[0;34m.\u001B[0m\u001B[0mcolumns\u001B[0m\u001B[0;34m.\u001B[0m\u001B[0mnlevels\u001B[0m \u001B[0;34m>\u001B[0m \u001B[0;36m1\u001B[0m\u001B[0;34m:\u001B[0m\u001B[0;34m\u001B[0m\u001B[0;34m\u001B[0m\u001B[0m\n\u001B[1;32m   2994\u001B[0m                 \u001B[0;32mreturn\u001B[0m \u001B[0mself\u001B[0m\u001B[0;34m.\u001B[0m\u001B[0m_getitem_multilevel\u001B[0m\u001B[0;34m(\u001B[0m\u001B[0mkey\u001B[0m\u001B[0;34m)\u001B[0m\u001B[0;34m\u001B[0m\u001B[0;34m\u001B[0m\u001B[0m\n\u001B[0;32m-> 2995\u001B[0;31m             \u001B[0mindexer\u001B[0m \u001B[0;34m=\u001B[0m \u001B[0mself\u001B[0m\u001B[0;34m.\u001B[0m\u001B[0mcolumns\u001B[0m\u001B[0;34m.\u001B[0m\u001B[0mget_loc\u001B[0m\u001B[0;34m(\u001B[0m\u001B[0mkey\u001B[0m\u001B[0;34m)\u001B[0m\u001B[0;34m\u001B[0m\u001B[0;34m\u001B[0m\u001B[0m\n\u001B[0m\u001B[1;32m   2996\u001B[0m             \u001B[0;32mif\u001B[0m \u001B[0mis_integer\u001B[0m\u001B[0;34m(\u001B[0m\u001B[0mindexer\u001B[0m\u001B[0;34m)\u001B[0m\u001B[0;34m:\u001B[0m\u001B[0;34m\u001B[0m\u001B[0;34m\u001B[0m\u001B[0m\n\u001B[1;32m   2997\u001B[0m                 \u001B[0mindexer\u001B[0m \u001B[0;34m=\u001B[0m \u001B[0;34m[\u001B[0m\u001B[0mindexer\u001B[0m\u001B[0;34m]\u001B[0m\u001B[0;34m\u001B[0m\u001B[0;34m\u001B[0m\u001B[0m\n",
      "\u001B[0;32m/usr/local/lib/python3.8/dist-packages/pandas/core/indexes/base.py\u001B[0m in \u001B[0;36mget_loc\u001B[0;34m(self, key, method, tolerance)\u001B[0m\n\u001B[1;32m   2897\u001B[0m                 \u001B[0;32mreturn\u001B[0m \u001B[0mself\u001B[0m\u001B[0;34m.\u001B[0m\u001B[0m_engine\u001B[0m\u001B[0;34m.\u001B[0m\u001B[0mget_loc\u001B[0m\u001B[0;34m(\u001B[0m\u001B[0mkey\u001B[0m\u001B[0;34m)\u001B[0m\u001B[0;34m\u001B[0m\u001B[0;34m\u001B[0m\u001B[0m\n\u001B[1;32m   2898\u001B[0m             \u001B[0;32mexcept\u001B[0m \u001B[0mKeyError\u001B[0m\u001B[0;34m:\u001B[0m\u001B[0;34m\u001B[0m\u001B[0;34m\u001B[0m\u001B[0m\n\u001B[0;32m-> 2899\u001B[0;31m                 \u001B[0;32mreturn\u001B[0m \u001B[0mself\u001B[0m\u001B[0;34m.\u001B[0m\u001B[0m_engine\u001B[0m\u001B[0;34m.\u001B[0m\u001B[0mget_loc\u001B[0m\u001B[0;34m(\u001B[0m\u001B[0mself\u001B[0m\u001B[0;34m.\u001B[0m\u001B[0m_maybe_cast_indexer\u001B[0m\u001B[0;34m(\u001B[0m\u001B[0mkey\u001B[0m\u001B[0;34m)\u001B[0m\u001B[0;34m)\u001B[0m\u001B[0;34m\u001B[0m\u001B[0;34m\u001B[0m\u001B[0m\n\u001B[0m\u001B[1;32m   2900\u001B[0m         \u001B[0mindexer\u001B[0m \u001B[0;34m=\u001B[0m \u001B[0mself\u001B[0m\u001B[0;34m.\u001B[0m\u001B[0mget_indexer\u001B[0m\u001B[0;34m(\u001B[0m\u001B[0;34m[\u001B[0m\u001B[0mkey\u001B[0m\u001B[0;34m]\u001B[0m\u001B[0;34m,\u001B[0m \u001B[0mmethod\u001B[0m\u001B[0;34m=\u001B[0m\u001B[0mmethod\u001B[0m\u001B[0;34m,\u001B[0m \u001B[0mtolerance\u001B[0m\u001B[0;34m=\u001B[0m\u001B[0mtolerance\u001B[0m\u001B[0;34m)\u001B[0m\u001B[0;34m\u001B[0m\u001B[0;34m\u001B[0m\u001B[0m\n\u001B[1;32m   2901\u001B[0m         \u001B[0;32mif\u001B[0m \u001B[0mindexer\u001B[0m\u001B[0;34m.\u001B[0m\u001B[0mndim\u001B[0m \u001B[0;34m>\u001B[0m \u001B[0;36m1\u001B[0m \u001B[0;32mor\u001B[0m \u001B[0mindexer\u001B[0m\u001B[0;34m.\u001B[0m\u001B[0msize\u001B[0m \u001B[0;34m>\u001B[0m \u001B[0;36m1\u001B[0m\u001B[0;34m:\u001B[0m\u001B[0;34m\u001B[0m\u001B[0;34m\u001B[0m\u001B[0m\n",
      "\u001B[0;32m/kernel/fallback/lib/python3.8/site-packages/pandas/_libs/index.pyx\u001B[0m in \u001B[0;36mpandas._libs.index.IndexEngine.get_loc\u001B[0;34m()\u001B[0m\n",
      "\u001B[0;32m/kernel/fallback/lib/python3.8/site-packages/pandas/_libs/index.pyx\u001B[0m in \u001B[0;36mpandas._libs.index.IndexEngine.get_loc\u001B[0;34m()\u001B[0m\n",
      "\u001B[0;32mpandas/_libs/hashtable_class_helper.pxi\u001B[0m in \u001B[0;36mpandas._libs.hashtable.PyObjectHashTable.get_item\u001B[0;34m()\u001B[0m\n",
      "\u001B[0;32mpandas/_libs/hashtable_class_helper.pxi\u001B[0m in \u001B[0;36mpandas._libs.hashtable.PyObjectHashTable.get_item\u001B[0;34m()\u001B[0m\n",
      "\u001B[0;31mKeyError\u001B[0m: 'saledate'"
     ]
    }
   ],
   "source": [
    "#!c1.8\n",
    "le = LabelEncoder()\n",
    "X = df.drop(columns=['sellingprice']).copy()\n",
    "for column in df.select_dtypes('object').columns.to_list():\n",
    "    X[column] = le.fit_transform(X[column])"
   ]
  },
  {
   "cell_type": "markdown",
   "metadata": {
    "cellId": "347ksshmqo9y27wb5ueeqq"
   },
   "source": [
    "<div class=\"alert alert-block alert-danger\">\n",
    "<b>Комментарий ревьювера ⛔️:</b><br>\n",
    "    К сожалению здесь есть ошибки.<br>\n",
    "    Во-первых, для порядкового кодирования кат. фичей нужно использовать <a href = \"https://scikit-learn.org/stable/modules/generated/sklearn.preprocessing.OrdinalEncoder.html#sklearn.preprocessing.OrdinalEncoder\">OrdinalEncoder</a>;<br>\n",
    "    Во-вторых, обучаем кодировщики и скалеры только на трейне, а после этого трансформируем тест. Обучаем на всем трейн сете, а не в цикле на отдельных столбцах!<br>\n",
    "    В-третьих, блок кода выполняется с ошибкой и дальше много пустых блоков, проверю что смогу😞\n",
    "</div>\n"
   ]
  },
  {
   "cell_type": "code",
   "execution_count": null,
   "metadata": {
    "cellId": "ptk0zm4rxaii5q5pue49o"
   },
   "outputs": [],
   "source": [
    "#!c1.8\n",
    "X_train_valid, X_test, y_train_valid, y_test = train_test_split(\n",
    "    X, df['sellingprice'], test_size=0.2, random_state=42)"
   ]
  },
  {
   "cell_type": "code",
   "execution_count": null,
   "metadata": {
    "cellId": "3w7jl2wntzohmsjtb09t"
   },
   "outputs": [],
   "source": [
    "#!c1.8\n",
    "X_train, X_valid, y_train, y_valid = train_test_split(\n",
    "    X_train_valid, y_train_valid, test_size=0.2, random_state=42)"
   ]
  },
  {
   "cell_type": "code",
   "execution_count": null,
   "metadata": {
    "cellId": "zo5jp8mnbcmhil6mt4puke"
   },
   "outputs": [],
   "source": [
    "#!c1.8\n",
    "del X_train_valid\n",
    "del y_train_valid"
   ]
  },
  {
   "cell_type": "code",
   "execution_count": null,
   "metadata": {
    "cellId": "x9ls1jdxihi9b4ykprym"
   },
   "outputs": [],
   "source": [
    "#!c1.8\n",
    "def get_report_of_model(_title, _model, _X_train, _y_train, _X_test, _y_test, params={}) -> dict:\n",
    "    '''\n",
    "    1) Обучаем полученную модель\n",
    "    2) Делаем предсказание\n",
    "    3) Считаем метрики\n",
    "    '''\n",
    "    _model.fit(_X_train, _y_train, **params)\n",
    "    _y_pred = _model.predict(_X_test)\n",
    "    mape_score = mape(_y_test, _y_pred)\n",
    "    print(f\"{_title} mape = {mape_score}\")\n",
    "    return {'model': _title, 'mape': mape_score}"
   ]
  },
  {
   "cell_type": "code",
   "execution_count": null,
   "metadata": {
    "cellId": "f4v1dq2aoxinjff4et5po"
   },
   "outputs": [],
   "source": [
    "#!c1.8\n",
    "results = []"
   ]
  },
  {
   "cell_type": "markdown",
   "metadata": {
    "cellId": "hzacz1msmjvpoj1wb9z8",
    "execution_id": "69357611-19ba-4ac7-9603-46135b233d98"
   },
   "source": [
    "### CatBoostRegressor"
   ]
  },
  {
   "cell_type": "markdown",
   "metadata": {
    "cellId": "1dclbku6y6djdlp70sj3ye"
   },
   "source": [
    "<div class=\"alert alert-warning\">\n",
    "<b>Комментарий ревьюера ⚠️:</b><br>\n",
    "    Полезно вначале также определить Baseline - простую модель, предсказывающую например ср. арифметическое, чтобы оценивать предсказательные способности нашей лучшей модели.\n",
    "</div>\n"
   ]
  },
  {
   "cell_type": "code",
   "execution_count": 225,
   "metadata": {
    "cellId": "b9aksvp9xoll2ufnm3h9bk"
   },
   "outputs": [
    {
     "name": "stdout",
     "output_type": "stream",
     "text": [
      "CatBoostRegressor mape = 0.1731455301418712\n"
     ]
    }
   ],
   "source": [
    "#!c1.8\n",
    "model = CatBoostRegressor(verbose=False)\n",
    "results.append(get_report_of_model('CatBoostRegressor', model, X_train, y_train, X_valid, y_valid))"
   ]
  },
  {
   "cell_type": "markdown",
   "metadata": {
    "cellId": "5nkj7qr052nbgir2q5j8h",
    "execution_id": "f5fb5706-1c8f-4bef-98e5-4b7b034aa867"
   },
   "source": [
    "### LinearRegression"
   ]
  },
  {
   "cell_type": "code",
   "execution_count": 134,
   "metadata": {
    "cellId": "qf6rqayqexmmrjeswam4me"
   },
   "outputs": [
    {
     "name": "stdout",
     "output_type": "stream",
     "text": [
      "LinearRegression mape = 52.60103178031598\n"
     ]
    }
   ],
   "source": [
    "#!c1.8\n",
    "model = LinearRegression(n_jobs=-1)\n",
    "results.append(get_report_of_model('LinearRegression', model, X_train_normal, y_train_normal, \n",
    "                                   X_test_normal, y_test_normal))"
   ]
  },
  {
   "cell_type": "markdown",
   "metadata": {
    "cellId": "j7tdymxp2cd723hn495tq5",
    "execution_id": "372408ab-5018-47c0-b785-75e0ad3692c9"
   },
   "source": [
    "~~Как мы видим классическая линейная регрессия показала результат лучше чем CatBoost, попробуем улучшить результат~~ Данная модель работает очень не стабильно"
   ]
  },
  {
   "cell_type": "markdown",
   "metadata": {
    "cellId": "4d3xz5070bazairfw2b2d"
   },
   "source": [
    "<div class=\"alert alert-block alert-danger\">\n",
    "<b>Комментарий ревьювера ⛔️:</b><br>\n",
    "    Численные признаки не были стандартизированы StandardScaler😞 Здесь и далее линейные модели показывают плохие результаты\n",
    "</div>\n"
   ]
  },
  {
   "cell_type": "markdown",
   "metadata": {
    "cellId": "gt0j4l7bbeoqk020c92ffh",
    "execution_id": "cba59992-7078-4bfb-95aa-fd2765258b52"
   },
   "source": [
    "### BaggingRegressor"
   ]
  },
  {
   "cell_type": "code",
   "execution_count": 135,
   "metadata": {
    "cellId": "zuqw5vwbb1hqy3qfcd5z7"
   },
   "outputs": [
    {
     "name": "stdout",
     "output_type": "stream",
     "text": [
      "BaggingRegressor LinearRegression mape = 145.47472026969834\n"
     ]
    }
   ],
   "source": [
    "#!c1.8\n",
    "regr = BaggingRegressor(estimator=model, n_estimators=10, random_state=0)\n",
    "results.append(get_report_of_model('BaggingRegressor LinearRegression', regr, X_train_normal, \n",
    "                                   y_train_normal, X_test_normal, y_test_normal))"
   ]
  },
  {
   "cell_type": "markdown",
   "metadata": {
    "cellId": "vvbe85zd4zlg67nuoo13p",
    "execution_id": "2a741ad1-61e6-43a0-87e4-bcf3d13b95ca"
   },
   "source": [
    "### Lasso"
   ]
  },
  {
   "cell_type": "code",
   "execution_count": 136,
   "metadata": {
    "cellId": "ntvov8w22fl29sslx3c4z3"
   },
   "outputs": [
    {
     "name": "stdout",
     "output_type": "stream",
     "text": [
      "Lasso mape = 0.4619254477866535\n"
     ]
    },
    {
     "name": "stderr",
     "output_type": "stream",
     "text": [
      "/home/jupyter/.local/lib/python3.8/site-packages/sklearn/linear_model/_coordinate_descent.py:631: ConvergenceWarning: Objective did not converge. You might want to increase the number of iterations, check the scale of the features or consider increasing regularisation. Duality gap: 2.252e+12, tolerance: 2.418e+09\n",
      "  model = cd_fast.enet_coordinate_descent(\n"
     ]
    }
   ],
   "source": [
    "#!c1.8\n",
    "model = Lasso(random_state=0)\n",
    "results.append(get_report_of_model('Lasso', model, X_train_normal, y_train_normal, X_test_normal, y_test_normal))"
   ]
  },
  {
   "cell_type": "markdown",
   "metadata": {
    "cellId": "1rovwmplu35us71cx29ep",
    "execution_id": "187aabf8-174e-4235-990c-26a5fa59da9d"
   },
   "source": [
    "### Ridge"
   ]
  },
  {
   "cell_type": "code",
   "execution_count": 137,
   "metadata": {
    "cellId": "ml0qgfflewomf8eqbicqy"
   },
   "outputs": [
    {
     "name": "stdout",
     "output_type": "stream",
     "text": [
      "Ridge mape = 0.397215403263231\n"
     ]
    }
   ],
   "source": [
    "#!c1.8\n",
    "model = Ridge(random_state=0)\n",
    "results.append(get_report_of_model('Ridge', model, X_train_normal, y_train_normal, X_test_normal, y_test_normal))"
   ]
  },
  {
   "cell_type": "markdown",
   "metadata": {
    "cellId": "d3pow5l32kv43szommsh8g",
    "execution_id": "7fad3663-786a-4ef5-bde0-ef556583bbd8"
   },
   "source": [
    "### ElasticNet"
   ]
  },
  {
   "cell_type": "code",
   "execution_count": 138,
   "metadata": {
    "cellId": "yim1dvgv87cpv942bti14j"
   },
   "outputs": [
    {
     "name": "stdout",
     "output_type": "stream",
     "text": [
      "ElasticNet mape = 0.5435941901054673\n"
     ]
    }
   ],
   "source": [
    "#!c1.8\n",
    "model = ElasticNet(random_state=0)\n",
    "results.append(get_report_of_model('ElasticNet', model, X_train_normal, y_train_normal, \n",
    "                                   X_test_normal, y_test_normal))"
   ]
  },
  {
   "cell_type": "markdown",
   "metadata": {
    "cellId": "6ljd3o6k75unjyn24q784",
    "execution_id": "f2af31fe-1079-471e-93c6-c745561fd595"
   },
   "source": [
    "### Регрессия дерева решений"
   ]
  },
  {
   "cell_type": "code",
   "execution_count": 226,
   "metadata": {
    "cellId": "yktnltsmrugfgwic13e6o"
   },
   "outputs": [
    {
     "name": "stdout",
     "output_type": "stream",
     "text": [
      "DecisionTreeRegressor mape = 0.20067842888108772\n"
     ]
    }
   ],
   "source": [
    "#!c1.8\n",
    "model = DecisionTreeRegressor(random_state=0)\n",
    "results.append(get_report_of_model('DecisionTreeRegressor', model, X_train, y_train, X_valid, y_valid))"
   ]
  },
  {
   "cell_type": "markdown",
   "metadata": {
    "cellId": "rlbr2vpnuli35pxh3z4fen",
    "execution_id": "56edc82c-1f54-4f62-9d56-9b98e2cae1b5"
   },
   "source": [
    "### RandomForestRegressor"
   ]
  },
  {
   "cell_type": "code",
   "execution_count": 227,
   "metadata": {
    "cellId": "25c9gqlcwvevkw7atr16i"
   },
   "outputs": [
    {
     "name": "stdout",
     "output_type": "stream",
     "text": [
      "RandomForestRegressor mape = 0.15825254459477306\n"
     ]
    }
   ],
   "source": [
    "#!c1.8\n",
    "model = RandomForestRegressor(random_state=0, n_jobs=-1)\n",
    "results.append(get_report_of_model('RandomForestRegressor', model, X_train, y_train, X_valid, y_valid))"
   ]
  },
  {
   "cell_type": "markdown",
   "metadata": {
    "cellId": "u35gb6ssyhrjybubuimbcg"
   },
   "source": [
    "<div class=\"alert alert-success\">\n",
    "<b>Комментарий ревьювера ✅:</b><br>\n",
    "    Хороший результат, метрика улучшилась! \n",
    "</div>\n"
   ]
  },
  {
   "cell_type": "markdown",
   "metadata": {
    "cellId": "ptgilq2p9jgw1yfqofqirc"
   },
   "source": [
    "<div class=\"alert alert-warning\">\n",
    "<b>Комментарий ревьюера ⚠️:</b><br>\n",
    "    Метрику можно улучшить, если подобрать гиперпараметры:) Можно рассмотреть <a href = \"https://scikit-learn.org/stable/modules/generated/sklearn.model_selection.GridSearchCV.html#sklearn.model_selection.GridSearchCV\">GridSearchCV</a>, а еще лучше - <a href = \"https://habr.com/ru/articles/704432/\">Optuna</a>.\n",
    "</div>"
   ]
  },
  {
   "cell_type": "markdown",
   "metadata": {
    "cellId": "jnsyikz6y1s2kw6pq9izrm",
    "execution_id": "684fc123-4f2f-4265-8aab-a3be208b4aa8"
   },
   "source": [
    "Наилучший результат"
   ]
  },
  {
   "cell_type": "code",
   "execution_count": 228,
   "metadata": {
    "cellId": "frlzqkcqyu5bysptbv8oaw"
   },
   "outputs": [
    {
     "data": {
      "text/plain": [
       "{'bootstrap': True,\n",
       " 'ccp_alpha': 0.0,\n",
       " 'criterion': 'squared_error',\n",
       " 'max_depth': None,\n",
       " 'max_features': 1.0,\n",
       " 'max_leaf_nodes': None,\n",
       " 'max_samples': None,\n",
       " 'min_impurity_decrease': 0.0,\n",
       " 'min_samples_leaf': 1,\n",
       " 'min_samples_split': 2,\n",
       " 'min_weight_fraction_leaf': 0.0,\n",
       " 'n_estimators': 100,\n",
       " 'n_jobs': -1,\n",
       " 'oob_score': False,\n",
       " 'random_state': 0,\n",
       " 'verbose': 0,\n",
       " 'warm_start': False}"
      ]
     },
     "metadata": {},
     "output_type": "display_data"
    }
   ],
   "source": [
    "#!c1.8\n",
    "model.get_params()"
   ]
  },
  {
   "cell_type": "markdown",
   "metadata": {
    "cellId": "yuvm7ey7dgwcxcgjs295l",
    "execution_id": "de210b0c-4e20-4066-ac79-44872d000cb0"
   },
   "source": [
    "Проверим качество RandomForestRegressor на тестовой выборке, затем обучим его на всем train.csv, сделаем предсказания для test.csv и отправим на kaggle"
   ]
  },
  {
   "cell_type": "code",
   "execution_count": 425,
   "metadata": {
    "cellId": "uew3w0g2l9jmb3wkd2ku99"
   },
   "outputs": [
    {
     "name": "stdout",
     "output_type": "stream",
     "text": [
      "RandomForestRegressor mape = 0.1513510303728112\n"
     ]
    },
    {
     "name": "stderr",
     "output_type": "stream",
     "text": [
      "/home/jupyter/.local/lib/python3.8/site-packages/sklearn/base.py:432: UserWarning: X has feature names, but RandomForestRegressor was fitted without feature names\n",
      "  warnings.warn(\n"
     ]
    }
   ],
   "source": [
    "#!c1.8\n",
    "model = RandomForestRegressor(random_state=0, n_jobs=-1)\n",
    "results.append(get_report_of_model(\n",
    "    'RandomForestRegressor', \n",
    "    model, \n",
    "    np.concatenate((X_train, X_valid), axis=0),\n",
    "    np.concatenate((y_train, y_valid), axis=0),\n",
    "    X_test,\n",
    "    y_test\n",
    "))"
   ]
  },
  {
   "cell_type": "code",
   "execution_count": 441,
   "metadata": {
    "cellId": "cpel2iqajmtxifoa3xayi"
   },
   "outputs": [],
   "source": [
    "#!c1.8\n",
    "test = pd.read_csv('test.csv', index_col='vin')"
   ]
  },
  {
   "cell_type": "code",
   "execution_count": 442,
   "metadata": {
    "cellId": "g7b3oa1vgtnisi24mqu4zr"
   },
   "outputs": [
    {
     "data": {
      "text/html": [
       "<div>\n",
       "<style scoped>\n",
       "    .dataframe tbody tr th:only-of-type {\n",
       "        vertical-align: middle;\n",
       "    }\n",
       "\n",
       "    .dataframe tbody tr th {\n",
       "        vertical-align: top;\n",
       "    }\n",
       "\n",
       "    .dataframe thead th {\n",
       "        text-align: right;\n",
       "    }\n",
       "</style>\n",
       "<table border=\"1\" class=\"dataframe\">\n",
       "  <thead>\n",
       "    <tr style=\"text-align: right;\">\n",
       "      <th></th>\n",
       "      <th>year</th>\n",
       "      <th>make</th>\n",
       "      <th>model</th>\n",
       "      <th>trim</th>\n",
       "      <th>body</th>\n",
       "      <th>transmission</th>\n",
       "      <th>state</th>\n",
       "      <th>condition</th>\n",
       "      <th>odometer</th>\n",
       "      <th>color</th>\n",
       "      <th>interior</th>\n",
       "      <th>seller</th>\n",
       "      <th>saledate</th>\n",
       "    </tr>\n",
       "    <tr>\n",
       "      <th>vin</th>\n",
       "      <th></th>\n",
       "      <th></th>\n",
       "      <th></th>\n",
       "      <th></th>\n",
       "      <th></th>\n",
       "      <th></th>\n",
       "      <th></th>\n",
       "      <th></th>\n",
       "      <th></th>\n",
       "      <th></th>\n",
       "      <th></th>\n",
       "      <th></th>\n",
       "      <th></th>\n",
       "    </tr>\n",
       "  </thead>\n",
       "  <tbody>\n",
       "    <tr>\n",
       "      <th>1g6dp567450124779</th>\n",
       "      <td>2005</td>\n",
       "      <td>Cadillac</td>\n",
       "      <td>CTS</td>\n",
       "      <td>Base</td>\n",
       "      <td>Sedan</td>\n",
       "      <td>automatic</td>\n",
       "      <td>ca</td>\n",
       "      <td>2.7</td>\n",
       "      <td>116970.0</td>\n",
       "      <td>silver</td>\n",
       "      <td>black</td>\n",
       "      <td>lexus of stevens creek</td>\n",
       "      <td>Wed Jan 14 2015 04:30:00 GMT-0800 (PST)</td>\n",
       "    </tr>\n",
       "    <tr>\n",
       "      <th>1gtw7fca7e1902207</th>\n",
       "      <td>2014</td>\n",
       "      <td>GMC</td>\n",
       "      <td>Savana Cargo</td>\n",
       "      <td>2500</td>\n",
       "      <td>Van</td>\n",
       "      <td>NaN</td>\n",
       "      <td>pa</td>\n",
       "      <td>4.4</td>\n",
       "      <td>6286.0</td>\n",
       "      <td>white</td>\n",
       "      <td>gray</td>\n",
       "      <td>u-haul</td>\n",
       "      <td>Fri Feb 27 2015 01:00:00 GMT-0800 (PST)</td>\n",
       "    </tr>\n",
       "    <tr>\n",
       "      <th>jn8az1mw6dw303497</th>\n",
       "      <td>2013</td>\n",
       "      <td>Nissan</td>\n",
       "      <td>Murano</td>\n",
       "      <td>S</td>\n",
       "      <td>SUV</td>\n",
       "      <td>automatic</td>\n",
       "      <td>oh</td>\n",
       "      <td>4.6</td>\n",
       "      <td>11831.0</td>\n",
       "      <td>gray</td>\n",
       "      <td>black</td>\n",
       "      <td>nissan-infiniti lt</td>\n",
       "      <td>Tue Feb 24 2015 01:30:00 GMT-0800 (PST)</td>\n",
       "    </tr>\n",
       "    <tr>\n",
       "      <th>2g1wf5e34d1160703</th>\n",
       "      <td>2013</td>\n",
       "      <td>Chevrolet</td>\n",
       "      <td>Impala</td>\n",
       "      <td>LS Fleet</td>\n",
       "      <td>Sedan</td>\n",
       "      <td>automatic</td>\n",
       "      <td>fl</td>\n",
       "      <td>2.3</td>\n",
       "      <td>57105.0</td>\n",
       "      <td>silver</td>\n",
       "      <td>black</td>\n",
       "      <td>onemain rem/auto club of miami inc dba north dad</td>\n",
       "      <td>Fri Mar 06 2015 02:00:00 GMT-0800 (PST)</td>\n",
       "    </tr>\n",
       "    <tr>\n",
       "      <th>1n6aa0ec3dn301209</th>\n",
       "      <td>2013</td>\n",
       "      <td>Nissan</td>\n",
       "      <td>Titan</td>\n",
       "      <td>SV</td>\n",
       "      <td>Crew Cab</td>\n",
       "      <td>automatic</td>\n",
       "      <td>tn</td>\n",
       "      <td>2.9</td>\n",
       "      <td>31083.0</td>\n",
       "      <td>black</td>\n",
       "      <td>black</td>\n",
       "      <td>nissan north america inc.</td>\n",
       "      <td>Wed Jun 03 2015 03:30:00 GMT-0700 (PDT)</td>\n",
       "    </tr>\n",
       "  </tbody>\n",
       "</table>\n",
       "</div>"
      ],
      "text/plain": [
       "                   year  ...                                 saledate\n",
       "vin                      ...                                         \n",
       "1g6dp567450124779  2005  ...  Wed Jan 14 2015 04:30:00 GMT-0800 (PST)\n",
       "1gtw7fca7e1902207  2014  ...  Fri Feb 27 2015 01:00:00 GMT-0800 (PST)\n",
       "jn8az1mw6dw303497  2013  ...  Tue Feb 24 2015 01:30:00 GMT-0800 (PST)\n",
       "2g1wf5e34d1160703  2013  ...  Fri Mar 06 2015 02:00:00 GMT-0800 (PST)\n",
       "1n6aa0ec3dn301209  2013  ...  Wed Jun 03 2015 03:30:00 GMT-0700 (PDT)\n",
       "\n",
       "[5 rows x 13 columns]"
      ]
     },
     "metadata": {},
     "output_type": "display_data"
    }
   ],
   "source": [
    "#!c1.8\n",
    "test.head()"
   ]
  },
  {
   "cell_type": "markdown",
   "metadata": {
    "cellId": "wkyitf3cbfipmgjshu1l",
    "execution_id": "2c7e128f-a42c-4160-94e8-1022f1fca1c9"
   },
   "source": [
    "Временные фичи"
   ]
  },
  {
   "cell_type": "code",
   "execution_count": 443,
   "metadata": {
    "cellId": "sp0vcwnnjkj0x6g85rlb24"
   },
   "outputs": [],
   "source": [
    "#!c1.8\n",
    "test = to_datatime(test)\n",
    "test = create_dt_features(test)"
   ]
  },
  {
   "cell_type": "markdown",
   "metadata": {
    "cellId": "hbldg6450kfcg6955zs1b9",
    "execution_id": "5e65d970-2f37-4ee1-bec3-f273ae7a7eb4"
   },
   "source": [
    "Удаляем не нужные столбцы"
   ]
  },
  {
   "cell_type": "code",
   "execution_count": 444,
   "metadata": {
    "cellId": "azimpmnu34q19p6nfohdsf"
   },
   "outputs": [],
   "source": [
    "#!c1.8\n",
    "test = test.drop(columns=['saledate', 'seller', 'state'])"
   ]
  },
  {
   "cell_type": "markdown",
   "metadata": {
    "cellId": "r8v9sgegxu7cs4x99dwhy",
    "execution_id": "d919942e-184c-4255-84b9-0387aa2c6a3e"
   },
   "source": [
    "Строковые фичи"
   ]
  },
  {
   "cell_type": "code",
   "execution_count": 445,
   "metadata": {
    "cellId": "n4vpzqy5o9n8evui7ptvr"
   },
   "outputs": [],
   "source": [
    "#!c1.8\n",
    "str_columns = test.select_dtypes('object').columns.to_list()\n",
    "for col in str_columns:\n",
    "    test[col] = test[col].str.lower()"
   ]
  },
  {
   "cell_type": "code",
   "execution_count": 446,
   "metadata": {
    "cellId": "gkn7vcqt4gqbp5f4d8qf2l"
   },
   "outputs": [],
   "source": [
    "#!c1.8\n",
    "test['make'] = test['make'].replace('hyundai tk', 'hyundai', regex=True)\n",
    "test['make'] = test['make'].replace('ford tk', 'ford', regex=True)\n",
    "test['make'] = test['make'].replace('vw', 'volkswagen', regex=True)"
   ]
  },
  {
   "cell_type": "markdown",
   "metadata": {
    "cellId": "jceoyyglk6ja6d2m449pv8",
    "execution_id": "6436ddcd-51aa-497c-a4d4-876502d1d84f"
   },
   "source": [
    "Рассмотрим **transmission**"
   ]
  },
  {
   "cell_type": "code",
   "execution_count": 447,
   "metadata": {
    "cellId": "8we8u6lynk8xhocdy8vcrg"
   },
   "outputs": [
    {
     "name": "stdout",
     "output_type": "stream",
     "text": [
      "make\n",
      "acura           [automatic, nan, manual]\n",
      "aston martin                 [automatic]\n",
      "audi            [automatic, nan, manual]\n",
      "bentley                 [automatic, nan]\n",
      "bmw             [automatic, manual, nan]\n",
      "Name: transmission, dtype: object\n",
      "make   model  \n",
      "acura  cl         [automatic, nan, manual]\n",
      "       el                            [nan]\n",
      "       ilx        [manual, automatic, nan]\n",
      "       integra         [automatic, manual]\n",
      "       mdx                [automatic, nan]\n",
      "Name: transmission, dtype: object\n",
      "make   model  trim       \n",
      "acura  cl     2.2 premium            [manual]\n",
      "              2.3                 [automatic]\n",
      "              3.0                 [automatic]\n",
      "              3.0 premium         [automatic]\n",
      "              3.2            [nan, automatic]\n",
      "Name: transmission, dtype: object\n"
     ]
    },
    {
     "data": {
      "application/vnd.jupyter.widget-view+json": {
       "model_id": "f281d087e8724792b28a7799fe097551",
       "version_major": 2,
       "version_minor": 0
      },
      "text/plain": [
       "  0%|          | 0/55 [00:00<?, ?it/s]"
      ]
     },
     "metadata": {},
     "output_type": "display_data"
    },
    {
     "data": {
      "application/vnd.jupyter.widget-view+json": {
       "model_id": "8edbf73165584d02a46af2a0f83483b7",
       "version_major": 2,
       "version_minor": 0
      },
      "text/plain": [
       "  0%|          | 0/764 [00:00<?, ?it/s]"
      ]
     },
     "metadata": {},
     "output_type": "display_data"
    },
    {
     "data": {
      "application/vnd.jupyter.widget-view+json": {
       "model_id": "9ff7859d4a2a434492a043917b36e4df",
       "version_major": 2,
       "version_minor": 0
      },
      "text/plain": [
       "  0%|          | 0/3231 [00:00<?, ?it/s]"
      ]
     },
     "metadata": {},
     "output_type": "display_data"
    }
   ],
   "source": [
    "#!c1.8\n",
    "test = fill_transmission(['make'], 'transmission', test)\n",
    "test = fill_transmission(['make', 'model'], 'transmission', test)\n",
    "test = fill_transmission(['make', 'model', 'trim'], 'transmission', test)"
   ]
  },
  {
   "cell_type": "markdown",
   "metadata": {
    "cellId": "fltfnzhn15g1sqsf02alel",
    "execution_id": "e4043b7d-c0ee-4814-9928-6bb427efb3c4"
   },
   "source": [
    "Добавим фичу - объем двигателя"
   ]
  },
  {
   "cell_type": "code",
   "execution_count": 448,
   "metadata": {
    "cellId": "0fz2orgb4edujbr3aiudnzc"
   },
   "outputs": [
    {
     "data": {
      "text/plain": [
       "base       11009\n",
       "se          8725\n",
       "lx          4098\n",
       "limited     3536\n",
       "lt          3280\n",
       "Name: trim, dtype: int64"
      ]
     },
     "metadata": {},
     "output_type": "display_data"
    }
   ],
   "source": [
    "#!c1.8\n",
    "test['trim'].value_counts().head()"
   ]
  },
  {
   "cell_type": "code",
   "execution_count": 449,
   "metadata": {
    "cellId": "zxwa1xxkaz0s199kv6i78"
   },
   "outputs": [
    {
     "name": "stderr",
     "output_type": "stream",
     "text": [
      "/usr/local/lib/python3.8/dist-packages/numpy/core/fromnumeric.py:3372: RuntimeWarning: Mean of empty slice.\n",
      "  return _methods._mean(a, axis=axis, dtype=dtype,\n",
      "/usr/local/lib/python3.8/dist-packages/numpy/core/_methods.py:170: RuntimeWarning: invalid value encountered in double_scalars\n",
      "  ret = ret.dtype.type(ret / rcount)\n"
     ]
    },
    {
     "data": {
      "application/vnd.jupyter.widget-view+json": {
       "model_id": "a62b6734b97f453aa0dfa1d22b2beaae",
       "version_major": 2,
       "version_minor": 0
      },
      "text/plain": [
       "  0%|          | 0/764 [00:00<?, ?it/s]"
      ]
     },
     "metadata": {},
     "output_type": "display_data"
    },
    {
     "data": {
      "application/vnd.jupyter.widget-view+json": {
       "model_id": "c495422c583c45688fda148020d668c2",
       "version_major": 2,
       "version_minor": 0
      },
      "text/plain": [
       "  0%|          | 0/817 [00:00<?, ?it/s]"
      ]
     },
     "metadata": {},
     "output_type": "display_data"
    },
    {
     "data": {
      "application/vnd.jupyter.widget-view+json": {
       "model_id": "882d09fc2f77444896d4669f9d038cf3",
       "version_major": 2,
       "version_minor": 0
      },
      "text/plain": [
       "  0%|          | 0/55 [00:00<?, ?it/s]"
      ]
     },
     "metadata": {},
     "output_type": "display_data"
    },
    {
     "data": {
      "application/vnd.jupyter.widget-view+json": {
       "model_id": "d19b7bb5849b4398ae3aa733b8fcfd67",
       "version_major": 2,
       "version_minor": 0
      },
      "text/plain": [
       "  0%|          | 0/33 [00:00<?, ?it/s]"
      ]
     },
     "metadata": {},
     "output_type": "display_data"
    },
    {
     "data": {
      "application/vnd.jupyter.widget-view+json": {
       "model_id": "9724a1d6bfea4f72a2fff006a53deb52",
       "version_major": 2,
       "version_minor": 0
      },
      "text/plain": [
       "  0%|          | 0/22 [00:00<?, ?it/s]"
      ]
     },
     "metadata": {},
     "output_type": "display_data"
    }
   ],
   "source": [
    "#!c1.8\n",
    "test['trim'] = test['trim'].fillna('base')\n",
    "test = create_engine_capacity(test)\n",
    "\n",
    "test = completion_make_model(test, test)\n",
    "test = completion_make_model(cars, test)\n",
    "\n",
    "test = completion_make(test, test)\n",
    "test = completion_make(cars, test)\n",
    "\n",
    "test = completion_google(test)"
   ]
  },
  {
   "cell_type": "code",
   "execution_count": 450,
   "metadata": {
    "cellId": "gnqg5jtysp77lsw1qbp5e"
   },
   "outputs": [
    {
     "data": {
      "text/plain": [
       "year               0.000000\n",
       "make               0.018726\n",
       "model              0.018890\n",
       "trim               0.000000\n",
       "body               0.023569\n",
       "transmission       0.118219\n",
       "state              0.000000\n",
       "condition          0.021616\n",
       "odometer           0.000173\n",
       "color              0.001436\n",
       "interior           0.001436\n",
       "sale_year          0.000000\n",
       "sale_month         0.000000\n",
       "car_age            0.000000\n",
       "engine_capacity    0.018726\n",
       "dtype: float64"
      ]
     },
     "metadata": {},
     "output_type": "display_data"
    }
   ],
   "source": [
    "#!c1.8\n",
    "test.isna().sum() / test.shape[0]"
   ]
  },
  {
   "cell_type": "markdown",
   "metadata": {
    "cellId": "7ob0muazlpmxseh1ffce8a",
    "execution_id": "aa325db5-b782-4ad7-bf67-15a6c044e82e"
   },
   "source": [
    "Заполним пропуски, самыми популярными значениями"
   ]
  },
  {
   "cell_type": "code",
   "execution_count": 451,
   "metadata": {
    "cellId": "8jc9jhp01cvq9nh6znpeq"
   },
   "outputs": [],
   "source": [
    "#!c1.8\n",
    "for col in test.columns[test.isnull().any()].values:\n",
    "    test[col] = test[col].fillna(test[col].value_counts().index[0])"
   ]
  },
  {
   "cell_type": "code",
   "execution_count": 452,
   "metadata": {
    "cellId": "0eh9npygy54hl4rpbpglq9a"
   },
   "outputs": [
    {
     "data": {
      "text/plain": [
       "0"
      ]
     },
     "metadata": {},
     "output_type": "display_data"
    }
   ],
   "source": [
    "#!c1.8\n",
    "test.isna().sum().sum()"
   ]
  },
  {
   "cell_type": "code",
   "execution_count": 453,
   "metadata": {
    "cellId": "nn2hbb3hv45te1tq5ozya"
   },
   "outputs": [],
   "source": [
    "#!c1.8\n",
    "for column in test.select_dtypes('object').columns.to_list():\n",
    "    test[column] = le.fit_transform(test[column])"
   ]
  },
  {
   "cell_type": "markdown",
   "metadata": {
    "cellId": "4mo5njzdb7s5m8zwipou5a"
   },
   "source": [
    "<div class=\"alert alert-block alert-danger\">\n",
    "<b>Комментарий ревьювера ⛔️:</b><br>\n",
    "    Здесь ошибка. Во-первых, напомню, что для кат. фичей нужно использовать OrdinalEncoder и, во-вторых, из-за того, что трейн и тест обрабатывались отдельно и по-разному (трансформер не был предварительно обучен на трейне, он каждый раз переобучается под каждый столбец нового сета) модель не сможет соотнести объекты с трейна с объектами с теста, они закодированы разными цифрами. <br>\n",
    "    Весь этап предобработки нужно обернуть в  <a href = \"https://scikit-learn.org/stable/modules/generated/sklearn.pipeline.Pipeline.html#sklearn.pipeline.Pipeline\">Pipeline</a> 👍\n",
    "</div>\n"
   ]
  },
  {
   "cell_type": "code",
   "execution_count": 458,
   "metadata": {
    "cellId": "t5r7tr6bh7zq1a7mfv9z"
   },
   "outputs": [
    {
     "name": "stderr",
     "output_type": "stream",
     "text": [
      "/home/jupyter/.local/lib/python3.8/site-packages/sklearn/base.py:432: UserWarning: X has feature names, but RandomForestRegressor was fitted without feature names\n",
      "  warnings.warn(\n"
     ]
    }
   ],
   "source": [
    "#!c1.8\n",
    "model = RandomForestRegressor(random_state=0, n_jobs=-1)\n",
    "model.fit(\n",
    "    np.concatenate((X_train, X_valid, X_test), axis=0),\n",
    "    np.concatenate((y_train, y_valid, y_test), axis=0)\n",
    ")\n",
    "preds = model.predict(test)"
   ]
  },
  {
   "cell_type": "code",
   "execution_count": 462,
   "metadata": {
    "cellId": "uajcnfzmg39p69b10amu4"
   },
   "outputs": [
    {
     "data": {
      "text/plain": [
       "array([ 4932. , 22345. , 23532.5, ...,  4938.5, 18816.5, 12143.5])"
      ]
     },
     "metadata": {},
     "output_type": "display_data"
    }
   ],
   "source": [
    "#!c1.8\n",
    "preds"
   ]
  },
  {
   "cell_type": "code",
   "execution_count": 470,
   "metadata": {
    "cellId": "7xb994dh4qagqjzdpftu"
   },
   "outputs": [],
   "source": [
    "#!c1.8\n",
    "test['sellingprice'] = preds"
   ]
  },
  {
   "cell_type": "code",
   "execution_count": 471,
   "metadata": {
    "cellId": "e8df1jrw5kueguagcckxa"
   },
   "outputs": [
    {
     "data": {
      "text/html": [
       "<div>\n",
       "<style scoped>\n",
       "    .dataframe tbody tr th:only-of-type {\n",
       "        vertical-align: middle;\n",
       "    }\n",
       "\n",
       "    .dataframe tbody tr th {\n",
       "        vertical-align: top;\n",
       "    }\n",
       "\n",
       "    .dataframe thead th {\n",
       "        text-align: right;\n",
       "    }\n",
       "</style>\n",
       "<table border=\"1\" class=\"dataframe\">\n",
       "  <thead>\n",
       "    <tr style=\"text-align: right;\">\n",
       "      <th></th>\n",
       "      <th>year</th>\n",
       "      <th>make</th>\n",
       "      <th>model</th>\n",
       "      <th>trim</th>\n",
       "      <th>body</th>\n",
       "      <th>transmission</th>\n",
       "      <th>condition</th>\n",
       "      <th>odometer</th>\n",
       "      <th>color</th>\n",
       "      <th>interior</th>\n",
       "      <th>sale_year</th>\n",
       "      <th>sale_month</th>\n",
       "      <th>car_age</th>\n",
       "      <th>engine_capacity</th>\n",
       "      <th>saleprice</th>\n",
       "      <th>sallingprice</th>\n",
       "      <th>sellingprice</th>\n",
       "    </tr>\n",
       "    <tr>\n",
       "      <th>vin</th>\n",
       "      <th></th>\n",
       "      <th></th>\n",
       "      <th></th>\n",
       "      <th></th>\n",
       "      <th></th>\n",
       "      <th></th>\n",
       "      <th></th>\n",
       "      <th></th>\n",
       "      <th></th>\n",
       "      <th></th>\n",
       "      <th></th>\n",
       "      <th></th>\n",
       "      <th></th>\n",
       "      <th></th>\n",
       "      <th></th>\n",
       "      <th></th>\n",
       "      <th></th>\n",
       "    </tr>\n",
       "  </thead>\n",
       "  <tbody>\n",
       "    <tr>\n",
       "      <th>1g6dp567450124779</th>\n",
       "      <td>2005</td>\n",
       "      <td>6</td>\n",
       "      <td>171</td>\n",
       "      <td>299</td>\n",
       "      <td>33</td>\n",
       "      <td>0</td>\n",
       "      <td>2.7</td>\n",
       "      <td>116970.0</td>\n",
       "      <td>15</td>\n",
       "      <td>1</td>\n",
       "      <td>2015</td>\n",
       "      <td>1</td>\n",
       "      <td>10</td>\n",
       "      <td>3.60</td>\n",
       "      <td>4932.00</td>\n",
       "      <td>4932.00</td>\n",
       "      <td>4932.00</td>\n",
       "    </tr>\n",
       "    <tr>\n",
       "      <th>1gtw7fca7e1902207</th>\n",
       "      <td>2014</td>\n",
       "      <td>17</td>\n",
       "      <td>586</td>\n",
       "      <td>79</td>\n",
       "      <td>39</td>\n",
       "      <td>0</td>\n",
       "      <td>4.4</td>\n",
       "      <td>6286.0</td>\n",
       "      <td>17</td>\n",
       "      <td>6</td>\n",
       "      <td>2015</td>\n",
       "      <td>2</td>\n",
       "      <td>1</td>\n",
       "      <td>6.00</td>\n",
       "      <td>22345.00</td>\n",
       "      <td>22345.00</td>\n",
       "      <td>22345.00</td>\n",
       "    </tr>\n",
       "    <tr>\n",
       "      <th>jn8az1mw6dw303497</th>\n",
       "      <td>2013</td>\n",
       "      <td>38</td>\n",
       "      <td>454</td>\n",
       "      <td>929</td>\n",
       "      <td>36</td>\n",
       "      <td>0</td>\n",
       "      <td>4.6</td>\n",
       "      <td>11831.0</td>\n",
       "      <td>7</td>\n",
       "      <td>1</td>\n",
       "      <td>2015</td>\n",
       "      <td>2</td>\n",
       "      <td>2</td>\n",
       "      <td>2.00</td>\n",
       "      <td>23532.50</td>\n",
       "      <td>23532.50</td>\n",
       "      <td>23532.50</td>\n",
       "    </tr>\n",
       "    <tr>\n",
       "      <th>2g1wf5e34d1160703</th>\n",
       "      <td>2013</td>\n",
       "      <td>8</td>\n",
       "      <td>348</td>\n",
       "      <td>759</td>\n",
       "      <td>33</td>\n",
       "      <td>0</td>\n",
       "      <td>2.3</td>\n",
       "      <td>57105.0</td>\n",
       "      <td>15</td>\n",
       "      <td>1</td>\n",
       "      <td>2015</td>\n",
       "      <td>3</td>\n",
       "      <td>2</td>\n",
       "      <td>1.45</td>\n",
       "      <td>10525.58</td>\n",
       "      <td>10525.58</td>\n",
       "      <td>10525.58</td>\n",
       "    </tr>\n",
       "    <tr>\n",
       "      <th>1n6aa0ec3dn301209</th>\n",
       "      <td>2013</td>\n",
       "      <td>38</td>\n",
       "      <td>656</td>\n",
       "      <td>1124</td>\n",
       "      <td>6</td>\n",
       "      <td>0</td>\n",
       "      <td>2.9</td>\n",
       "      <td>31083.0</td>\n",
       "      <td>1</td>\n",
       "      <td>1</td>\n",
       "      <td>2015</td>\n",
       "      <td>6</td>\n",
       "      <td>2</td>\n",
       "      <td>2.00</td>\n",
       "      <td>18927.25</td>\n",
       "      <td>18927.25</td>\n",
       "      <td>18927.25</td>\n",
       "    </tr>\n",
       "  </tbody>\n",
       "</table>\n",
       "</div>"
      ],
      "text/plain": [
       "                   year  make  model  ...  saleprice  sallingprice  sellingprice\n",
       "vin                                   ...                                       \n",
       "1g6dp567450124779  2005     6    171  ...    4932.00       4932.00       4932.00\n",
       "1gtw7fca7e1902207  2014    17    586  ...   22345.00      22345.00      22345.00\n",
       "jn8az1mw6dw303497  2013    38    454  ...   23532.50      23532.50      23532.50\n",
       "2g1wf5e34d1160703  2013     8    348  ...   10525.58      10525.58      10525.58\n",
       "1n6aa0ec3dn301209  2013    38    656  ...   18927.25      18927.25      18927.25\n",
       "\n",
       "[5 rows x 17 columns]"
      ]
     },
     "metadata": {},
     "output_type": "display_data"
    }
   ],
   "source": [
    "#!c1.8\n",
    "test.head()"
   ]
  },
  {
   "cell_type": "code",
   "execution_count": 472,
   "metadata": {
    "cellId": "lym98dofpmx0j3ednhua"
   },
   "outputs": [],
   "source": [
    "#!c1.8\n",
    "kagle = test['sellingprice']\n",
    "kagle.to_csv('submission.csv', index=True, header=True)"
   ]
  },
  {
   "cell_type": "code",
   "execution_count": null,
   "metadata": {
    "cellId": "efvy6dfz5r6edfd59w5wzr"
   },
   "outputs": [],
   "source": [
    "#!c1.8\n"
   ]
  },
  {
   "cell_type": "markdown",
   "metadata": {
    "cellId": "9miek35dfrknggf4b16q1f"
   },
   "source": [
    "<div class=\"alert alert-block alert-danger\">\n",
    "<b>Комментарий ревьювера ⛔️:</b><br>\n",
    "    Вывод в конце исследования - самая большая его ценность и он отсутствует😞 Выводы - это подведение итогов исследования и в идеале, они должны быть такими, чтобы по ним можно было воспроизвести проект, не смотря в код. Что должен содержать вывод:\n",
    "    <ol>\n",
    "        <li>Краткое описание проекта: название, цели задачи, исходные данные;</li>\n",
    "        <li>Ключевые шаги решения (наиболее важные моменты в ходе исследования);</li>\n",
    "        <li>Описание процесса предобработки данных (что сделано с данными и почему);</li>\n",
    "        <li>Сравнение моделей (на валидации/трейне, тесте);</li>\n",
    "        <li>Итоговая модель (с объяснением причины выбора);</li>\n",
    "        <li>Описание признаков, которые используются для обучения (объяснено почему именно они);</li>\n",
    "        <li>Рекомендации по внедрению модели и дальнейшей поддержке (дообучению или улучшению метрики качества).</li>\n",
    "    </ol>\n",
    "</div>\n"
   ]
  },
  {
   "cell_type": "markdown",
   "metadata": {
    "cellId": "keyzf3jirjpvomkxnowx"
   },
   "source": [
    "<div style=\"border:solid green 2px; padding: 40px\">\n",
    "<font color='green' style='font-size:24px; font-weight:bold'>Итоговый комментарий</font><br><br>\n",
    "Спасибо за твой проект и старания! Проект немного сырой: ячейки кода выполнены непоследовательно, повторить вычисления не получается из-за блоков с ошибками. Практически отсутствует EDA и есть критические недочеты в предобработке данных, нет итоговых выводов. В тетрадке оставлены советы как все быстро и легко поправить, чтобы чуть-чуть доработать проект и добавить классный артефакт в портфолио 😉 У тебя все получится!<br><br>\n",
    "\n",
    "<b>Положительные моменты проекта</b>:\n",
    "    <ol>\n",
    "        <li>Все основные этапы исследования выполнены, шаги последовательные;</li>\n",
    "        <li>Активно используются собственные функции;</li>\n",
    "        <li>На этапе EDA сгенерированы новые признаки.</li>\n",
    "    </ol>\n",
    "\n",
    "<b>Что необходимо исправить</b>:\n",
    "    <ol>\n",
    "        <li>Все метрики в этом проекте необходимо рассчитывать на кросс-валидации;</li>\n",
    "        <li>На этапе EDA мало пояснений - там есть, что рассказать;</li>\n",
    "        <li>В проекте рассмотрено несколько линейных моделей, но не выполнено масштабирование численных признаков;</li>\n",
    "        <li>Критичные ошибки в организации предобработки данных: и трейн, и тест – предобработка должна быть одинаковая!</li>\n",
    "        <li>Подобрать хотя бы по 2-3 гиперпараметра для каждой модели.</li>\n",
    "    </ol>   \n",
    "    \n",
    "<b>На что еще стоит обратить внимание</b>:\n",
    "    <ol>\n",
    "        <li>Встречается повторяющйся код - напрашивается Pipeline для предобработки;</li>\n",
    "        <li>Усовершенствовать подготовку данных: не удалять пропуски, а попробовать их заполнить;</li>\n",
    "        <li>Определить baseline для оценки моделей;</li>\n",
    "    </ol>\n",
    "\n",
    "    Остальные комментарии можно найти в проекте. Желаю удачи и побед в соревнованиях!😉\n",
    "</div>"
   ]
  }
 ],
 "metadata": {
  "language_info": {
   "codemirror_mode": {
    "name": "ipython",
    "version": 3
   },
   "file_extension": ".py",
   "mimetype": "text/x-python",
   "name": "python",
   "nbconvert_exporter": "python",
   "pygments_lexer": "ipython3",
   "version": "3.7.7"
  },
  "notebookId": "590d9605-fe31-418f-a4cc-714983e080cf",
  "notebookPath": "Яндекс/Булат_Гумеров_car_price.ipynb"
 },
 "nbformat": 4,
 "nbformat_minor": 4
}
