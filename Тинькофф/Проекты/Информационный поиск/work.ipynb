{
 "cells": [
  {
   "cell_type": "markdown",
   "source": [
    "# Обработка данных"
   ],
   "metadata": {
    "collapsed": false
   }
  },
  {
   "cell_type": "code",
   "execution_count": 2,
   "outputs": [],
   "source": [
    "import pandas as pd"
   ],
   "metadata": {
    "collapsed": false
   }
  },
  {
   "cell_type": "code",
   "execution_count": 4,
   "outputs": [
    {
     "name": "stderr",
     "output_type": "stream",
     "text": [
      "/opt/anaconda3/lib/python3.9/site-packages/IPython/core/interactiveshell.py:3444: DtypeWarning: Columns (1,4,5,6,13,14,15,16) have mixed types.Specify dtype option on import or set low_memory=False.\n",
      "  exec(code_obj, self.user_global_ns, self.user_ns)\n"
     ]
    },
    {
     "data": {
      "text/plain": "                                               sha source_x  \\\ncord_uid                                                      \nug7v899j  d1aafb70c066a2068b02786f8929fd9c900897fb      PMC   \n02tnwd4m  6b0567729c2143a66d737eb0a2f63f2dce2e5a7d      PMC   \nejv2xln0  06ced00a5fc04215949aa72528f2eeaae1d58927      PMC   \n2b73a28n  348055649b6b8cf2b9a376498df9bf41f7123605      PMC   \n9785vg6d  5f48792a5fa08bed9f56016f4981ae2ca6031b32      PMC   \n\n                                                      title  \\\ncord_uid                                                      \nug7v899j  Clinical features of culture-proven Mycoplasma...   \n02tnwd4m  Nitric oxide: a pro-inflammatory mediator in l...   \nejv2xln0    Surfactant protein-D and pulmonary host defense   \n2b73a28n               Role of endothelin-1 in lung disease   \n9785vg6d  Gene expression in epithelial cells in respons...   \n\n                            doi     pmcid pubmed_id license  \\\ncord_uid                                                      \nug7v899j  10.1186/1471-2334-1-6  PMC35282  11472636   no-cc   \n02tnwd4m           10.1186/rr14  PMC59543  11667967   no-cc   \nejv2xln0           10.1186/rr19  PMC59549  11667972   no-cc   \n2b73a28n           10.1186/rr44  PMC59574  11686871   no-cc   \n9785vg6d           10.1186/rr61  PMC59580  11686888   no-cc   \n\n                                                   abstract publish_time  \\\ncord_uid                                                                   \nug7v899j  OBJECTIVE: This retrospective chart review des...   2001-07-04   \n02tnwd4m  Inflammatory diseases of the respiratory tract...   2000-08-15   \nejv2xln0  Surfactant protein-D (SP-D) participates in th...   2000-08-25   \n2b73a28n  Endothelin-1 (ET-1) is a 21 amino acid peptide...   2001-02-22   \n9785vg6d  Respiratory syncytial virus (RSV) and pneumoni...   2001-05-11   \n\n                                                    authors         journal  \\\ncord_uid                                                                      \nug7v899j                Madani, Tariq A; Al-Ghamdi, Aisha A  BMC Infect Dis   \n02tnwd4m  Vliet, Albert van der; Eiserich, Jason P; Cros...      Respir Res   \nejv2xln0                                    Crouch, Erika C      Respir Res   \n2b73a28n  Fagan, Karen A; McMurtry, Ivan F; Rodman, David M      Respir Res   \n9785vg6d  Domachowske, Joseph B; Bonville, Cynthia A; Ro...      Respir Res   \n\n          mag_id who_covidence_id arxiv_id  \\\ncord_uid                                     \nug7v899j     NaN              NaN      NaN   \n02tnwd4m     NaN              NaN      NaN   \nejv2xln0     NaN              NaN      NaN   \n2b73a28n     NaN              NaN      NaN   \n9785vg6d     NaN              NaN      NaN   \n\n                                             pdf_json_files  \\\ncord_uid                                                      \nug7v899j  document_parses/pdf_json/d1aafb70c066a2068b027...   \n02tnwd4m  document_parses/pdf_json/6b0567729c2143a66d737...   \nejv2xln0  document_parses/pdf_json/06ced00a5fc04215949aa...   \n2b73a28n  document_parses/pdf_json/348055649b6b8cf2b9a37...   \n9785vg6d  document_parses/pdf_json/5f48792a5fa08bed9f560...   \n\n                                      pmc_json_files  \\\ncord_uid                                               \nug7v899j  document_parses/pmc_json/PMC35282.xml.json   \n02tnwd4m  document_parses/pmc_json/PMC59543.xml.json   \nejv2xln0  document_parses/pmc_json/PMC59549.xml.json   \n2b73a28n  document_parses/pmc_json/PMC59574.xml.json   \n9785vg6d  document_parses/pmc_json/PMC59580.xml.json   \n\n                                                        url  s2_id  \ncord_uid                                                            \nug7v899j  https://www.ncbi.nlm.nih.gov/pmc/articles/PMC3...    NaN  \n02tnwd4m  https://www.ncbi.nlm.nih.gov/pmc/articles/PMC5...    NaN  \nejv2xln0  https://www.ncbi.nlm.nih.gov/pmc/articles/PMC5...    NaN  \n2b73a28n  https://www.ncbi.nlm.nih.gov/pmc/articles/PMC5...    NaN  \n9785vg6d  https://www.ncbi.nlm.nih.gov/pmc/articles/PMC5...    NaN  ",
      "text/html": "<div>\n<style scoped>\n    .dataframe tbody tr th:only-of-type {\n        vertical-align: middle;\n    }\n\n    .dataframe tbody tr th {\n        vertical-align: top;\n    }\n\n    .dataframe thead th {\n        text-align: right;\n    }\n</style>\n<table border=\"1\" class=\"dataframe\">\n  <thead>\n    <tr style=\"text-align: right;\">\n      <th></th>\n      <th>sha</th>\n      <th>source_x</th>\n      <th>title</th>\n      <th>doi</th>\n      <th>pmcid</th>\n      <th>pubmed_id</th>\n      <th>license</th>\n      <th>abstract</th>\n      <th>publish_time</th>\n      <th>authors</th>\n      <th>journal</th>\n      <th>mag_id</th>\n      <th>who_covidence_id</th>\n      <th>arxiv_id</th>\n      <th>pdf_json_files</th>\n      <th>pmc_json_files</th>\n      <th>url</th>\n      <th>s2_id</th>\n    </tr>\n    <tr>\n      <th>cord_uid</th>\n      <th></th>\n      <th></th>\n      <th></th>\n      <th></th>\n      <th></th>\n      <th></th>\n      <th></th>\n      <th></th>\n      <th></th>\n      <th></th>\n      <th></th>\n      <th></th>\n      <th></th>\n      <th></th>\n      <th></th>\n      <th></th>\n      <th></th>\n      <th></th>\n    </tr>\n  </thead>\n  <tbody>\n    <tr>\n      <th>ug7v899j</th>\n      <td>d1aafb70c066a2068b02786f8929fd9c900897fb</td>\n      <td>PMC</td>\n      <td>Clinical features of culture-proven Mycoplasma...</td>\n      <td>10.1186/1471-2334-1-6</td>\n      <td>PMC35282</td>\n      <td>11472636</td>\n      <td>no-cc</td>\n      <td>OBJECTIVE: This retrospective chart review des...</td>\n      <td>2001-07-04</td>\n      <td>Madani, Tariq A; Al-Ghamdi, Aisha A</td>\n      <td>BMC Infect Dis</td>\n      <td>NaN</td>\n      <td>NaN</td>\n      <td>NaN</td>\n      <td>document_parses/pdf_json/d1aafb70c066a2068b027...</td>\n      <td>document_parses/pmc_json/PMC35282.xml.json</td>\n      <td>https://www.ncbi.nlm.nih.gov/pmc/articles/PMC3...</td>\n      <td>NaN</td>\n    </tr>\n    <tr>\n      <th>02tnwd4m</th>\n      <td>6b0567729c2143a66d737eb0a2f63f2dce2e5a7d</td>\n      <td>PMC</td>\n      <td>Nitric oxide: a pro-inflammatory mediator in l...</td>\n      <td>10.1186/rr14</td>\n      <td>PMC59543</td>\n      <td>11667967</td>\n      <td>no-cc</td>\n      <td>Inflammatory diseases of the respiratory tract...</td>\n      <td>2000-08-15</td>\n      <td>Vliet, Albert van der; Eiserich, Jason P; Cros...</td>\n      <td>Respir Res</td>\n      <td>NaN</td>\n      <td>NaN</td>\n      <td>NaN</td>\n      <td>document_parses/pdf_json/6b0567729c2143a66d737...</td>\n      <td>document_parses/pmc_json/PMC59543.xml.json</td>\n      <td>https://www.ncbi.nlm.nih.gov/pmc/articles/PMC5...</td>\n      <td>NaN</td>\n    </tr>\n    <tr>\n      <th>ejv2xln0</th>\n      <td>06ced00a5fc04215949aa72528f2eeaae1d58927</td>\n      <td>PMC</td>\n      <td>Surfactant protein-D and pulmonary host defense</td>\n      <td>10.1186/rr19</td>\n      <td>PMC59549</td>\n      <td>11667972</td>\n      <td>no-cc</td>\n      <td>Surfactant protein-D (SP-D) participates in th...</td>\n      <td>2000-08-25</td>\n      <td>Crouch, Erika C</td>\n      <td>Respir Res</td>\n      <td>NaN</td>\n      <td>NaN</td>\n      <td>NaN</td>\n      <td>document_parses/pdf_json/06ced00a5fc04215949aa...</td>\n      <td>document_parses/pmc_json/PMC59549.xml.json</td>\n      <td>https://www.ncbi.nlm.nih.gov/pmc/articles/PMC5...</td>\n      <td>NaN</td>\n    </tr>\n    <tr>\n      <th>2b73a28n</th>\n      <td>348055649b6b8cf2b9a376498df9bf41f7123605</td>\n      <td>PMC</td>\n      <td>Role of endothelin-1 in lung disease</td>\n      <td>10.1186/rr44</td>\n      <td>PMC59574</td>\n      <td>11686871</td>\n      <td>no-cc</td>\n      <td>Endothelin-1 (ET-1) is a 21 amino acid peptide...</td>\n      <td>2001-02-22</td>\n      <td>Fagan, Karen A; McMurtry, Ivan F; Rodman, David M</td>\n      <td>Respir Res</td>\n      <td>NaN</td>\n      <td>NaN</td>\n      <td>NaN</td>\n      <td>document_parses/pdf_json/348055649b6b8cf2b9a37...</td>\n      <td>document_parses/pmc_json/PMC59574.xml.json</td>\n      <td>https://www.ncbi.nlm.nih.gov/pmc/articles/PMC5...</td>\n      <td>NaN</td>\n    </tr>\n    <tr>\n      <th>9785vg6d</th>\n      <td>5f48792a5fa08bed9f56016f4981ae2ca6031b32</td>\n      <td>PMC</td>\n      <td>Gene expression in epithelial cells in respons...</td>\n      <td>10.1186/rr61</td>\n      <td>PMC59580</td>\n      <td>11686888</td>\n      <td>no-cc</td>\n      <td>Respiratory syncytial virus (RSV) and pneumoni...</td>\n      <td>2001-05-11</td>\n      <td>Domachowske, Joseph B; Bonville, Cynthia A; Ro...</td>\n      <td>Respir Res</td>\n      <td>NaN</td>\n      <td>NaN</td>\n      <td>NaN</td>\n      <td>document_parses/pdf_json/5f48792a5fa08bed9f560...</td>\n      <td>document_parses/pmc_json/PMC59580.xml.json</td>\n      <td>https://www.ncbi.nlm.nih.gov/pmc/articles/PMC5...</td>\n      <td>NaN</td>\n    </tr>\n  </tbody>\n</table>\n</div>"
     },
     "execution_count": 4,
     "metadata": {},
     "output_type": "execute_result"
    }
   ],
   "source": [
    "# https://www.kaggle.com/datasets/08dd9ead3afd4f61ef246bfd6aee098765a19d9f6dbf514f0142965748be859b?resource=download\n",
    "df = pd.read_csv('metadata.csv', index_col='cord_uid')\n",
    "df.head()"
   ],
   "metadata": {
    "collapsed": false
   }
  },
  {
   "cell_type": "code",
   "execution_count": 11,
   "outputs": [
    {
     "data": {
      "text/plain": "                                                      title  \\\ncord_uid                                                      \nug7v899j  Clinical features of culture-proven Mycoplasma...   \n02tnwd4m  Nitric oxide: a pro-inflammatory mediator in l...   \nejv2xln0    Surfactant protein-D and pulmonary host defense   \n2b73a28n               Role of endothelin-1 in lung disease   \n9785vg6d  Gene expression in epithelial cells in respons...   \n\n                                                    authors  \ncord_uid                                                     \nug7v899j                Madani, Tariq A; Al-Ghamdi, Aisha A  \n02tnwd4m  Vliet, Albert van der; Eiserich, Jason P; Cros...  \nejv2xln0                                    Crouch, Erika C  \n2b73a28n  Fagan, Karen A; McMurtry, Ivan F; Rodman, David M  \n9785vg6d  Domachowske, Joseph B; Bonville, Cynthia A; Ro...  ",
      "text/html": "<div>\n<style scoped>\n    .dataframe tbody tr th:only-of-type {\n        vertical-align: middle;\n    }\n\n    .dataframe tbody tr th {\n        vertical-align: top;\n    }\n\n    .dataframe thead th {\n        text-align: right;\n    }\n</style>\n<table border=\"1\" class=\"dataframe\">\n  <thead>\n    <tr style=\"text-align: right;\">\n      <th></th>\n      <th>title</th>\n      <th>authors</th>\n    </tr>\n    <tr>\n      <th>cord_uid</th>\n      <th></th>\n      <th></th>\n    </tr>\n  </thead>\n  <tbody>\n    <tr>\n      <th>ug7v899j</th>\n      <td>Clinical features of culture-proven Mycoplasma...</td>\n      <td>Madani, Tariq A; Al-Ghamdi, Aisha A</td>\n    </tr>\n    <tr>\n      <th>02tnwd4m</th>\n      <td>Nitric oxide: a pro-inflammatory mediator in l...</td>\n      <td>Vliet, Albert van der; Eiserich, Jason P; Cros...</td>\n    </tr>\n    <tr>\n      <th>ejv2xln0</th>\n      <td>Surfactant protein-D and pulmonary host defense</td>\n      <td>Crouch, Erika C</td>\n    </tr>\n    <tr>\n      <th>2b73a28n</th>\n      <td>Role of endothelin-1 in lung disease</td>\n      <td>Fagan, Karen A; McMurtry, Ivan F; Rodman, David M</td>\n    </tr>\n    <tr>\n      <th>9785vg6d</th>\n      <td>Gene expression in epithelial cells in respons...</td>\n      <td>Domachowske, Joseph B; Bonville, Cynthia A; Ro...</td>\n    </tr>\n  </tbody>\n</table>\n</div>"
     },
     "execution_count": 11,
     "metadata": {},
     "output_type": "execute_result"
    }
   ],
   "source": [
    "df = df[['title', 'authors']]\n",
    "df.head()"
   ],
   "metadata": {
    "collapsed": false
   }
  },
  {
   "cell_type": "code",
   "execution_count": 13,
   "outputs": [
    {
     "data": {
      "text/plain": "title      0\nauthors    0\ndtype: int64"
     },
     "execution_count": 13,
     "metadata": {},
     "output_type": "execute_result"
    }
   ],
   "source": [
    "df.isna().sum()"
   ],
   "metadata": {
    "collapsed": false
   }
  },
  {
   "cell_type": "code",
   "execution_count": 12,
   "outputs": [],
   "source": [
    "df = df.loc[df['title'].isna() == False]\n",
    "df['authors'] = df['authors'].fillna('Is unknown')"
   ],
   "metadata": {
    "collapsed": false
   }
  },
  {
   "cell_type": "code",
   "execution_count": 14,
   "outputs": [],
   "source": [
    "df.to_csv('clear_data.csv')"
   ],
   "metadata": {
    "collapsed": false
   }
  },
  {
   "cell_type": "code",
   "execution_count": 21,
   "outputs": [
    {
     "data": {
      "text/plain": "array(['Clinical features of culture-proven Mycoplasma pneumoniae infections at King Abdulaziz University Hospital, Jeddah, Saudi Arabia',\n       'Madani, Tariq A; Al-Ghamdi, Aisha A'], dtype=object)"
     },
     "execution_count": 21,
     "metadata": {},
     "output_type": "execute_result"
    }
   ],
   "source": [
    "df.to_numpy()[0]"
   ],
   "metadata": {
    "collapsed": false
   }
  },
  {
   "cell_type": "markdown",
   "source": [
    "# Ранжирование"
   ],
   "metadata": {
    "collapsed": false
   }
  },
  {
   "cell_type": "code",
   "execution_count": 6,
   "outputs": [],
   "source": [
    "df: pd.DataFrame = pd.read_csv('clear_data.csv', index_col='cord_uid')"
   ],
   "metadata": {
    "collapsed": false
   }
  },
  {
   "cell_type": "markdown",
   "source": [
    "## Подготовка данных для обучения модели"
   ],
   "metadata": {
    "collapsed": false
   }
  },
  {
   "cell_type": "code",
   "execution_count": 7,
   "outputs": [
    {
     "data": {
      "text/plain": "cord_uid\nug7v899j    [clinical, features, of, culture-proven, mycop...\n02tnwd4m    [nitric, oxide:, a, pro-inflammatory, mediator...\nejv2xln0    [surfactant, protein-d, and, pulmonary, host, ...\n2b73a28n          [role, of, endothelin-1, in, lung, disease]\n9785vg6d    [gene, expression, in, epithelial, cells, in, ...\nName: title, dtype: object"
     },
     "execution_count": 7,
     "metadata": {},
     "output_type": "execute_result"
    }
   ],
   "source": [
    "df = df['title'].str.lower().str.split()\n",
    "df.head()"
   ],
   "metadata": {
    "collapsed": false
   }
  },
  {
   "cell_type": "markdown",
   "source": [
    "## Инициализация модели Word2Vec"
   ],
   "metadata": {
    "collapsed": false
   }
  },
  {
   "cell_type": "code",
   "execution_count": 9,
   "outputs": [],
   "source": [
    "from gensim.models import Word2Vec\n",
    "\n",
    "w2v_model = Word2Vec(\n",
    "    min_count=10,\n",
    "    window=2,\n",
    "    negative=10,\n",
    "    alpha=0.03,\n",
    "    min_alpha=0.0007,\n",
    "    sample=6e-5,\n",
    "    sg=1)"
   ],
   "metadata": {
    "collapsed": false
   }
  },
  {
   "cell_type": "markdown",
   "source": [
    "## Получим словарь"
   ],
   "metadata": {
    "collapsed": false
   }
  },
  {
   "cell_type": "code",
   "execution_count": 13,
   "outputs": [],
   "source": [
    "w2v_model.build_vocab(df)"
   ],
   "metadata": {
    "collapsed": false
   }
  },
  {
   "cell_type": "markdown",
   "source": [
    "## Обучение модели"
   ],
   "metadata": {
    "collapsed": false
   }
  },
  {
   "cell_type": "code",
   "execution_count": 14,
   "outputs": [
    {
     "data": {
      "text/plain": "(206061690, 425069730)"
     },
     "execution_count": 14,
     "metadata": {},
     "output_type": "execute_result"
    }
   ],
   "source": [
    "w2v_model.train(df, total_examples=w2v_model.corpus_count, epochs=30, report_delay=1)"
   ],
   "metadata": {
    "collapsed": false
   }
  },
  {
   "cell_type": "markdown",
   "source": [
    "## Освобождение оперативной памяти"
   ],
   "metadata": {
    "collapsed": false
   }
  },
  {
   "cell_type": "code",
   "execution_count": 15,
   "outputs": [
    {
     "name": "stderr",
     "output_type": "stream",
     "text": [
      "/var/folders/jl/6gw5l36x7tv9jxp646h_lhn40000gn/T/ipykernel_11886/2897808894.py:1: DeprecationWarning: Call to deprecated `init_sims` (Gensim 4.0.0 implemented internal optimizations that make calls to init_sims() unnecessary. init_sims() is now obsoleted and will be completely removed in future versions. See https://github.com/RaRe-Technologies/gensim/wiki/Migrating-from-Gensim-3.x-to-4).\n",
      "  w2v_model.init_sims(replace=True)\n"
     ]
    }
   ],
   "source": [
    "w2v_model.init_sims(replace=True)"
   ],
   "metadata": {
    "collapsed": false
   }
  },
  {
   "cell_type": "markdown",
   "source": [
    "## Синонимы"
   ],
   "metadata": {
    "collapsed": false
   }
  },
  {
   "cell_type": "code",
   "execution_count": 16,
   "outputs": [
    {
     "data": {
      "text/plain": "[('characteristics', 0.8152620196342468),\n ('[ct', 0.688654899597168),\n ('features.', 0.6475639939308167),\n ('manifestations', 0.6432675123214722),\n ('findings', 0.634637713432312),\n ('profiles', 0.6218209862709045),\n ('features,', 0.6215455532073975),\n ('correlation.', 0.6183075904846191),\n ('pattern', 0.6092544794082642),\n ('characterization', 0.6038926839828491)]"
     },
     "execution_count": 16,
     "metadata": {},
     "output_type": "execute_result"
    }
   ],
   "source": [
    "w2v_model.wv.most_similar(positive=[\"features\"])"
   ],
   "metadata": {
    "collapsed": false
   }
  },
  {
   "cell_type": "markdown",
   "source": [
    "## Близость слов"
   ],
   "metadata": {
    "collapsed": false
   }
  },
  {
   "cell_type": "code",
   "execution_count": 19,
   "outputs": [
    {
     "data": {
      "text/plain": "0.26593745"
     },
     "execution_count": 19,
     "metadata": {},
     "output_type": "execute_result"
    }
   ],
   "source": [
    "w2v_model.wv.similarity(\"features\", \"annotation\")"
   ],
   "metadata": {
    "collapsed": false
   }
  },
  {
   "cell_type": "code",
   "execution_count": null,
   "outputs": [],
   "source": [
    "## Функция score для предложений"
   ],
   "metadata": {
    "collapsed": false
   }
  },
  {
   "cell_type": "code",
   "execution_count": 22,
   "outputs": [],
   "source": [
    "import numpy as np\n",
    "\n",
    "\n",
    "def distanse_matrix(title_1: list, title_2: list, metod):\n",
    "    m, n = len(title_1), len(title_2)\n",
    "    matrix = [[0]*n for _ in range(m)]\n",
    "\n",
    "    for i in range(m):\n",
    "        for j in range(n):\n",
    "            try:\n",
    "                matrix[i][j] = metod(title_1[i], title_2[i])\n",
    "            except KeyError:\n",
    "                pass\n",
    "\n",
    "    return np.array(matrix).mean()"
   ],
   "metadata": {
    "collapsed": false
   }
  },
  {
   "cell_type": "markdown",
   "source": [
    "## Тест"
   ],
   "metadata": {
    "collapsed": false
   }
  },
  {
   "cell_type": "code",
   "execution_count": 23,
   "outputs": [
    {
     "data": {
      "text/plain": "0.3108416464767958"
     },
     "execution_count": 23,
     "metadata": {},
     "output_type": "execute_result"
    }
   ],
   "source": [
    "title_1 = 'Increased expression levels of the pvcrt-o and pvmdr1 genes in a patient with severe Plasmodium'\n",
    "title_2 = 'Transcript-level annotation of Affymetrix probesets improves the interpretation of gene expression'\n",
    "method = w2v_model.wv.similarity\n",
    "score = distanse_matrix(title_1, title_2, method)\n",
    "\n",
    "score"
   ],
   "metadata": {
    "collapsed": false
   }
  },
  {
   "cell_type": "markdown",
   "source": [
    "# Индекс"
   ],
   "metadata": {
    "collapsed": false
   }
  },
  {
   "cell_type": "markdown",
   "source": [
    "# Анализ"
   ],
   "metadata": {
    "collapsed": false
   }
  },
  {
   "cell_type": "code",
   "execution_count": 24,
   "outputs": [
    {
     "data": {
      "text/plain": "(1056157,)"
     },
     "execution_count": 24,
     "metadata": {},
     "output_type": "execute_result"
    }
   ],
   "source": [
    "df.shape"
   ],
   "metadata": {
    "collapsed": false
   }
  },
  {
   "cell_type": "code",
   "execution_count": null,
   "outputs": [],
   "source": [],
   "metadata": {
    "collapsed": false
   }
  }
 ],
 "metadata": {
  "kernelspec": {
   "display_name": "Python 3",
   "language": "python",
   "name": "python3"
  },
  "language_info": {
   "codemirror_mode": {
    "name": "ipython",
    "version": 2
   },
   "file_extension": ".py",
   "mimetype": "text/x-python",
   "name": "python",
   "nbconvert_exporter": "python",
   "pygments_lexer": "ipython2",
   "version": "2.7.6"
  }
 },
 "nbformat": 4,
 "nbformat_minor": 0
}
