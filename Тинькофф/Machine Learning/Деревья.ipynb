{
 "cells": [
  {
   "cell_type": "code",
   "execution_count": 107,
   "metadata": {
    "id": "y3DiadTG-ru-"
   },
   "outputs": [],
   "source": [
    "import pandas as pd\n",
    "import numpy as np\n",
    "from matplotlib import pyplot as plt"
   ]
  },
  {
   "cell_type": "markdown",
   "metadata": {
    "id": "-QpBS-Nd-fAO"
   },
   "source": [
    "# Домашняя работа: деревья решений"
   ]
  },
  {
   "cell_type": "markdown",
   "metadata": {
    "id": "1ZVCYFgU-5Tw"
   },
   "source": [
    "В этой домашней работе вам предстоит научиться предсказывать цены товаров из маркетплейса Azamon.\n",
    "\n",
    "Требования к домашней работе:\n",
    "- Во всех графиках должны быть подписи через title, legend, etc.\n",
    "- Во время обучения моделей проверяйте, что у вас не текут данные. Обычно это позитивно влияет на качество модели на тесте, но негативно влияет на оценку 🌚\n",
    "- Если вы сдаете работу в Google Colaboratory, убедитесь, что ваша тетрадка доступна по ссылке. Если в итоге по каким-то причинам тетрадка не будет открываться у преподавателя, задание не будет засчитано\n",
    "- Использование мемов допускается, но необходимо соблюдать меру. Несодержательная работа, состоящая только из мемов, получает 0 баллов."
   ]
  },
  {
   "cell_type": "markdown",
   "metadata": {
    "id": "JyTAlXb8CbXk"
   },
   "source": [
    "# Загрузка и подготовка данных"
   ]
  },
  {
   "cell_type": "code",
   "execution_count": 108,
   "metadata": {
    "id": "_Bfhk7qNskSS"
   },
   "outputs": [
    {
     "name": "stdout",
     "output_type": "stream",
     "text": [
      "Downloading...\r\n",
      "From: https://drive.google.com/uc?id=18PVwZWFbpRbEHW-Hc8R0DUTl9CF1aQa0\r\n",
      "To: /Users/bulatgumerov/Documents/GitHub/ml-fall22/09. Decision Trees/data.csv\r\n",
      "100%|██████████████████████████████████████| 30.0M/30.0M [00:03<00:00, 8.99MB/s]\r\n"
     ]
    }
   ],
   "source": [
    "# !pip install gdown\n",
    "#!gdown 18PVwZWFbpRbEHW-Hc8R0DUTl9CF1aQa0 -O data.csv"
   ]
  },
  {
   "cell_type": "code",
   "execution_count": 109,
   "metadata": {
    "id": "XFUHeIu3vcWD"
   },
   "outputs": [],
   "source": [
    "df = pd.read_csv('data.csv').drop(columns=[\n",
    "    'product_name',\n",
    "    'index',\n",
    "    'uniq_id',\n",
    "    'customers_who_bought_this_item_also_bought',\n",
    "    'items_customers_buy_after_viewing_this_item',\n",
    "    'sellers',\n",
    "    'description', # text\n",
    "    'product_information', # text\n",
    "    'product_description', # text\n",
    "    'customer_questions_and_answers', # text\n",
    "    'customer_reviews', # text\n",
    "])"
   ]
  },
  {
   "cell_type": "code",
   "execution_count": 110,
   "metadata": {
    "id": "Q5_j0kenwogy"
   },
   "outputs": [
    {
     "data": {
      "text/plain": "Index(['manufacturer', 'price', 'number_available_in_stock',\n       'number_of_reviews', 'number_of_answered_questions',\n       'average_review_rating', 'amazon_category_and_sub_category'],\n      dtype='object')"
     },
     "execution_count": 110,
     "metadata": {},
     "output_type": "execute_result"
    }
   ],
   "source": [
    "df.columns"
   ]
  },
  {
   "cell_type": "markdown",
   "metadata": {
    "id": "O59k78A8C_yP"
   },
   "source": [
    "## Очистка данных (1 балл)\n",
    "\n",
    "Посмотрите на признаки. Есть ли в них пропуски? Какое соотношение между NaN'ами и общим количеством данных? Есть ли смысл выкидывать какие-либо данные из этого датасета?"
   ]
  },
  {
   "cell_type": "markdown",
   "source": [
    "### Посмотрим на данные"
   ],
   "metadata": {
    "collapsed": false
   }
  },
  {
   "cell_type": "code",
   "execution_count": 111,
   "metadata": {
    "id": "hz7l2Z6mDcBi"
   },
   "outputs": [
    {
     "data": {
      "text/plain": "  manufacturer   price number_available_in_stock number_of_reviews  \\\n0       Hornby   £3.42                     5 new                15   \n1    FunkyBuys  £16.99                       NaN                 2   \n2          ccf   £9.99                     2 new                17   \n3       Hornby  £39.99                       NaN                 1   \n4       Hornby  £32.19                       NaN                 3   \n\n   number_of_answered_questions average_review_rating  \\\n0                           1.0    4.9 out of 5 stars   \n1                           1.0    4.5 out of 5 stars   \n2                           2.0    3.9 out of 5 stars   \n3                           2.0    5.0 out of 5 stars   \n4                           2.0    4.7 out of 5 stars   \n\n                    amazon_category_and_sub_category  \n0  Hobbies > Model Trains & Railway Sets > Rail V...  \n1  Hobbies > Model Trains & Railway Sets > Rail V...  \n2  Hobbies > Model Trains & Railway Sets > Rail V...  \n3  Hobbies > Model Trains & Railway Sets > Rail V...  \n4  Hobbies > Model Trains & Railway Sets > Rail V...  ",
      "text/html": "<div>\n<style scoped>\n    .dataframe tbody tr th:only-of-type {\n        vertical-align: middle;\n    }\n\n    .dataframe tbody tr th {\n        vertical-align: top;\n    }\n\n    .dataframe thead th {\n        text-align: right;\n    }\n</style>\n<table border=\"1\" class=\"dataframe\">\n  <thead>\n    <tr style=\"text-align: right;\">\n      <th></th>\n      <th>manufacturer</th>\n      <th>price</th>\n      <th>number_available_in_stock</th>\n      <th>number_of_reviews</th>\n      <th>number_of_answered_questions</th>\n      <th>average_review_rating</th>\n      <th>amazon_category_and_sub_category</th>\n    </tr>\n  </thead>\n  <tbody>\n    <tr>\n      <th>0</th>\n      <td>Hornby</td>\n      <td>£3.42</td>\n      <td>5 new</td>\n      <td>15</td>\n      <td>1.0</td>\n      <td>4.9 out of 5 stars</td>\n      <td>Hobbies &gt; Model Trains &amp; Railway Sets &gt; Rail V...</td>\n    </tr>\n    <tr>\n      <th>1</th>\n      <td>FunkyBuys</td>\n      <td>£16.99</td>\n      <td>NaN</td>\n      <td>2</td>\n      <td>1.0</td>\n      <td>4.5 out of 5 stars</td>\n      <td>Hobbies &gt; Model Trains &amp; Railway Sets &gt; Rail V...</td>\n    </tr>\n    <tr>\n      <th>2</th>\n      <td>ccf</td>\n      <td>£9.99</td>\n      <td>2 new</td>\n      <td>17</td>\n      <td>2.0</td>\n      <td>3.9 out of 5 stars</td>\n      <td>Hobbies &gt; Model Trains &amp; Railway Sets &gt; Rail V...</td>\n    </tr>\n    <tr>\n      <th>3</th>\n      <td>Hornby</td>\n      <td>£39.99</td>\n      <td>NaN</td>\n      <td>1</td>\n      <td>2.0</td>\n      <td>5.0 out of 5 stars</td>\n      <td>Hobbies &gt; Model Trains &amp; Railway Sets &gt; Rail V...</td>\n    </tr>\n    <tr>\n      <th>4</th>\n      <td>Hornby</td>\n      <td>£32.19</td>\n      <td>NaN</td>\n      <td>3</td>\n      <td>2.0</td>\n      <td>4.7 out of 5 stars</td>\n      <td>Hobbies &gt; Model Trains &amp; Railway Sets &gt; Rail V...</td>\n    </tr>\n  </tbody>\n</table>\n</div>"
     },
     "execution_count": 111,
     "metadata": {},
     "output_type": "execute_result"
    }
   ],
   "source": [
    "df.head()"
   ]
  },
  {
   "cell_type": "markdown",
   "source": [
    "### Количество пропусков"
   ],
   "metadata": {
    "collapsed": false
   }
  },
  {
   "cell_type": "code",
   "execution_count": 112,
   "outputs": [
    {
     "data": {
      "text/plain": "manufacturer                           5\nprice                                  0\nnumber_available_in_stock           2211\nnumber_of_reviews                     15\nnumber_of_answered_questions         673\naverage_review_rating                 15\namazon_category_and_sub_category     550\ndtype: int64"
     },
     "execution_count": 112,
     "metadata": {},
     "output_type": "execute_result"
    }
   ],
   "source": [
    "df.isna().sum()"
   ],
   "metadata": {
    "collapsed": false
   }
  },
  {
   "cell_type": "markdown",
   "source": [
    "### Процент пропусков"
   ],
   "metadata": {
    "collapsed": false
   }
  },
  {
   "cell_type": "code",
   "execution_count": 113,
   "outputs": [
    {
     "data": {
      "text/plain": "manufacturer                         0.058500\nprice                                0.000000\nnumber_available_in_stock           25.868726\nnumber_of_reviews                    0.175500\nnumber_of_answered_questions         7.874108\naverage_review_rating                0.175500\namazon_category_and_sub_category     6.435006\ndtype: float64"
     },
     "execution_count": 113,
     "metadata": {},
     "output_type": "execute_result"
    }
   ],
   "source": [
    "df.isna().sum() / df.shape[0] * 100"
   ],
   "metadata": {
    "collapsed": false
   }
  },
  {
   "cell_type": "markdown",
   "source": [
    "1. manufacturer - заполним \"unknown\" на следующем шаге и переведем в категориальный признак\n",
    "2. number_available_in_stock - количество_отвеченных_вопросов, заполним пропуски 0 на следующем шаге\n",
    "3. number_of_reviews - количество просмотров, заполним 0 на следующем шаге\n",
    "4. number_of_answered_questions - количество_отвеченных_вопросов, заполним 0 на следующем шаге\n",
    "5. average_review_rating - усреднение_просмотров_рейтинг, удалим строки с пропусков в данной колонке\n",
    "6. amazon_category_and_sub_category - амазон_категория_и_суб_категория, заполним \"unknown\" и переведем в категориальный\n",
    "\n",
    "Заполнение 0 или \"unknown\" происходит, потому что:\n",
    "* в количественных столбцах пропуски означают отсутствие данного признака, следовательно, можем использовать 0\n",
    "* в категориальных заполним константой \"unknown\""
   ],
   "metadata": {
    "collapsed": false
   }
  },
  {
   "cell_type": "code",
   "execution_count": 114,
   "outputs": [],
   "source": [
    "df['manufacturer'] = df['manufacturer'].fillna(\"unknown\")\n",
    "df['number_available_in_stock'] = df['number_available_in_stock'].fillna(0)\n",
    "df['number_of_reviews'] = df['number_of_reviews'].fillna(0)\n",
    "df['number_of_answered_questions'] = df['number_of_answered_questions'].fillna(0)\n",
    "df['amazon_category_and_sub_category'] = df['amazon_category_and_sub_category'].fillna(\"unknown\")\n",
    "\n",
    "df = df.dropna()"
   ],
   "metadata": {
    "collapsed": false
   }
  },
  {
   "cell_type": "markdown",
   "source": [
    "Проверим"
   ],
   "metadata": {
    "collapsed": false
   }
  },
  {
   "cell_type": "code",
   "execution_count": 115,
   "outputs": [
    {
     "data": {
      "text/plain": "manufacturer                        0\nprice                               0\nnumber_available_in_stock           0\nnumber_of_reviews                   0\nnumber_of_answered_questions        0\naverage_review_rating               0\namazon_category_and_sub_category    0\ndtype: int64"
     },
     "execution_count": 115,
     "metadata": {},
     "output_type": "execute_result"
    }
   ],
   "source": [
    "df.isna().sum()"
   ],
   "metadata": {
    "collapsed": false
   }
  },
  {
   "cell_type": "markdown",
   "metadata": {
    "id": "eH688KdZDdKY"
   },
   "source": [
    "## Подготовка данных (3 балла)\n",
    "\n",
    "Обработайте признаки. Выполните кодирование категориальных признаков, заполните пропуски в числовых признаках. Обратите внимание, что в датасете есть признак, который разбивается на несколько подпризнаков. Что это за признак? Закодируйте и его.\n",
    "\n",
    "Дополнительные вопросы (+ 1 балл):\n",
    "- Какие из признаков в этом датасете лучше кодировать через ordinal encoding?\n",
    "- Какие из признаков допустимо кодировать через one-hot?\n",
    "\n",
    "Прим.: суммарно за эту секцию можно получить до 4 баллов."
   ]
  },
  {
   "cell_type": "markdown",
   "source": [
    "Пропуски в данных, были заполнены выше"
   ],
   "metadata": {
    "collapsed": false
   }
  },
  {
   "cell_type": "code",
   "execution_count": 116,
   "metadata": {
    "id": "IVNne3QKERCk"
   },
   "outputs": [
    {
     "data": {
      "text/plain": "  manufacturer   price number_available_in_stock number_of_reviews  \\\n0       Hornby   £3.42                     5 new                15   \n1    FunkyBuys  £16.99                         0                 2   \n2          ccf   £9.99                     2 new                17   \n3       Hornby  £39.99                         0                 1   \n4       Hornby  £32.19                         0                 3   \n\n   number_of_answered_questions average_review_rating  \\\n0                           1.0    4.9 out of 5 stars   \n1                           1.0    4.5 out of 5 stars   \n2                           2.0    3.9 out of 5 stars   \n3                           2.0    5.0 out of 5 stars   \n4                           2.0    4.7 out of 5 stars   \n\n                    amazon_category_and_sub_category  \n0  Hobbies > Model Trains & Railway Sets > Rail V...  \n1  Hobbies > Model Trains & Railway Sets > Rail V...  \n2  Hobbies > Model Trains & Railway Sets > Rail V...  \n3  Hobbies > Model Trains & Railway Sets > Rail V...  \n4  Hobbies > Model Trains & Railway Sets > Rail V...  ",
      "text/html": "<div>\n<style scoped>\n    .dataframe tbody tr th:only-of-type {\n        vertical-align: middle;\n    }\n\n    .dataframe tbody tr th {\n        vertical-align: top;\n    }\n\n    .dataframe thead th {\n        text-align: right;\n    }\n</style>\n<table border=\"1\" class=\"dataframe\">\n  <thead>\n    <tr style=\"text-align: right;\">\n      <th></th>\n      <th>manufacturer</th>\n      <th>price</th>\n      <th>number_available_in_stock</th>\n      <th>number_of_reviews</th>\n      <th>number_of_answered_questions</th>\n      <th>average_review_rating</th>\n      <th>amazon_category_and_sub_category</th>\n    </tr>\n  </thead>\n  <tbody>\n    <tr>\n      <th>0</th>\n      <td>Hornby</td>\n      <td>£3.42</td>\n      <td>5 new</td>\n      <td>15</td>\n      <td>1.0</td>\n      <td>4.9 out of 5 stars</td>\n      <td>Hobbies &gt; Model Trains &amp; Railway Sets &gt; Rail V...</td>\n    </tr>\n    <tr>\n      <th>1</th>\n      <td>FunkyBuys</td>\n      <td>£16.99</td>\n      <td>0</td>\n      <td>2</td>\n      <td>1.0</td>\n      <td>4.5 out of 5 stars</td>\n      <td>Hobbies &gt; Model Trains &amp; Railway Sets &gt; Rail V...</td>\n    </tr>\n    <tr>\n      <th>2</th>\n      <td>ccf</td>\n      <td>£9.99</td>\n      <td>2 new</td>\n      <td>17</td>\n      <td>2.0</td>\n      <td>3.9 out of 5 stars</td>\n      <td>Hobbies &gt; Model Trains &amp; Railway Sets &gt; Rail V...</td>\n    </tr>\n    <tr>\n      <th>3</th>\n      <td>Hornby</td>\n      <td>£39.99</td>\n      <td>0</td>\n      <td>1</td>\n      <td>2.0</td>\n      <td>5.0 out of 5 stars</td>\n      <td>Hobbies &gt; Model Trains &amp; Railway Sets &gt; Rail V...</td>\n    </tr>\n    <tr>\n      <th>4</th>\n      <td>Hornby</td>\n      <td>£32.19</td>\n      <td>0</td>\n      <td>3</td>\n      <td>2.0</td>\n      <td>4.7 out of 5 stars</td>\n      <td>Hobbies &gt; Model Trains &amp; Railway Sets &gt; Rail V...</td>\n    </tr>\n  </tbody>\n</table>\n</div>"
     },
     "execution_count": 116,
     "metadata": {},
     "output_type": "execute_result"
    }
   ],
   "source": [
    "df.head()"
   ]
  },
  {
   "cell_type": "code",
   "execution_count": 117,
   "outputs": [
    {
     "name": "stdout",
     "output_type": "stream",
     "text": [
      "<class 'pandas.core.frame.DataFrame'>\n",
      "Int64Index: 8532 entries, 0 to 8546\n",
      "Data columns (total 7 columns):\n",
      " #   Column                            Non-Null Count  Dtype  \n",
      "---  ------                            --------------  -----  \n",
      " 0   manufacturer                      8532 non-null   object \n",
      " 1   price                             8532 non-null   object \n",
      " 2   number_available_in_stock         8532 non-null   object \n",
      " 3   number_of_reviews                 8532 non-null   object \n",
      " 4   number_of_answered_questions      8532 non-null   float64\n",
      " 5   average_review_rating             8532 non-null   object \n",
      " 6   amazon_category_and_sub_category  8532 non-null   object \n",
      "dtypes: float64(1), object(6)\n",
      "memory usage: 533.2+ KB\n"
     ]
    }
   ],
   "source": [
    "df.info()"
   ],
   "metadata": {
    "collapsed": false
   }
  },
  {
   "cell_type": "markdown",
   "source": [
    "### 3.1 Работа с числовыми данными"
   ],
   "metadata": {
    "collapsed": false
   }
  },
  {
   "cell_type": "markdown",
   "source": [
    "Переведем price в числовой тип данных"
   ],
   "metadata": {
    "collapsed": false
   }
  },
  {
   "cell_type": "code",
   "execution_count": 118,
   "outputs": [
    {
     "data": {
      "text/plain": "2439.92"
     },
     "execution_count": 118,
     "metadata": {},
     "output_type": "execute_result"
    }
   ],
   "source": [
    "df['price'] = df['price'].str.replace('£', '')\n",
    "df['price'] = df['price'].str.replace(',', '')\n",
    "df['price'] = df['price'].astype('float')\n",
    "df['price'].max()"
   ],
   "metadata": {
    "collapsed": false
   }
  },
  {
   "cell_type": "markdown",
   "source": [
    "Переведем number_available_in_stock в числовой тип данных"
   ],
   "metadata": {
    "collapsed": false
   }
  },
  {
   "cell_type": "code",
   "execution_count": 119,
   "outputs": [
    {
     "data": {
      "text/plain": "92"
     },
     "execution_count": 119,
     "metadata": {},
     "output_type": "execute_result"
    }
   ],
   "source": [
    "df['number_available_in_stock'] = df['number_available_in_stock'].replace('new', '', regex=True)\n",
    "df['number_available_in_stock'] = df['number_available_in_stock'].replace('used', '', regex=True)\n",
    "df['number_available_in_stock'] = df['number_available_in_stock'].replace('refurbished', '', regex=True)\n",
    "df['number_available_in_stock'] = df['number_available_in_stock'].replace('collectible', '', regex=True)\n",
    "\n",
    "df['number_available_in_stock'] = df['number_available_in_stock'].astype('uint8')\n",
    "df['number_available_in_stock'].max()"
   ],
   "metadata": {
    "collapsed": false
   }
  },
  {
   "cell_type": "markdown",
   "source": [
    "change data type of number_of_reviews to int"
   ],
   "metadata": {
    "collapsed": false
   }
  },
  {
   "cell_type": "code",
   "execution_count": 120,
   "outputs": [
    {
     "data": {
      "text/plain": "1399"
     },
     "execution_count": 120,
     "metadata": {},
     "output_type": "execute_result"
    }
   ],
   "source": [
    "df['number_of_reviews'] = df['number_of_reviews'].str.replace(',', '')\n",
    "df['number_of_reviews'] = df['number_of_reviews'].astype('uint16')\n",
    "df['number_of_reviews'].max()"
   ],
   "metadata": {
    "collapsed": false
   }
  },
  {
   "cell_type": "markdown",
   "source": [
    "change data type of number_of_answered_questions to int"
   ],
   "metadata": {
    "collapsed": false
   }
  },
  {
   "cell_type": "code",
   "execution_count": 121,
   "outputs": [
    {
     "data": {
      "text/plain": "39"
     },
     "execution_count": 121,
     "metadata": {},
     "output_type": "execute_result"
    }
   ],
   "source": [
    "df['number_of_answered_questions'] = df['number_of_answered_questions'].astype('uint8')\n",
    "df['number_of_answered_questions'].max()"
   ],
   "metadata": {
    "collapsed": false
   }
  },
  {
   "cell_type": "markdown",
   "source": [
    "change data type of average_review_rating to float"
   ],
   "metadata": {
    "collapsed": false
   }
  },
  {
   "cell_type": "code",
   "execution_count": 122,
   "outputs": [
    {
     "data": {
      "text/plain": "5.0"
     },
     "execution_count": 122,
     "metadata": {},
     "output_type": "execute_result"
    }
   ],
   "source": [
    "df['average_review_rating'] = df['average_review_rating'].replace('out of 5 stars', '', regex=True)\n",
    "df['average_review_rating'] = df['average_review_rating'].astype('float')\n",
    "df['average_review_rating'].max()"
   ],
   "metadata": {
    "collapsed": false
   }
  },
  {
   "cell_type": "markdown",
   "source": [
    "### 3.2. Работа с категориальными данными\n",
    "cтолбец manufacturer"
   ],
   "metadata": {
    "collapsed": false
   }
  },
  {
   "cell_type": "code",
   "execution_count": 123,
   "outputs": [
    {
     "data": {
      "text/plain": "Oxford Diecast        152\nLEGO                  138\nDisney                136\nPlaymobil             117\nThe Puppet Company    102\n                     ... \nNoris                   1\nMammut                  1\nM Gordon & Sons         1\nStephens                1\nGreen Hornet            1\nName: manufacturer, Length: 2358, dtype: int64"
     },
     "execution_count": 123,
     "metadata": {},
     "output_type": "execute_result"
    }
   ],
   "source": [
    "df['manufacturer'].value_counts()"
   ],
   "metadata": {
    "collapsed": false
   }
  },
  {
   "cell_type": "markdown",
   "source": [
    "2358 - количество уникальных значений, прямое кодирование (One-Hot Encoding, OHE) для данного столбца не подойдет,\n",
    "тк добавлять 2358 столбцов не целесообразно. Используем порядковое кодирование (Ordinal Encoding)"
   ],
   "metadata": {
    "collapsed": false
   }
  },
  {
   "cell_type": "code",
   "execution_count": 124,
   "outputs": [],
   "source": [
    "from sklearn.preprocessing import OrdinalEncoder\n",
    "encoder = OrdinalEncoder()\n",
    "df_new_ordinal = pd.DataFrame(encoder.fit_transform(df), columns=df.columns)\n",
    "\n",
    "df['manufacturer'] = df_new_ordinal['manufacturer']\n",
    "df['manufacturer'] = df['manufacturer'].astype('float')"
   ],
   "metadata": {
    "collapsed": false
   }
  },
  {
   "cell_type": "markdown",
   "source": [
    "column amazon_category_and_sub_category"
   ],
   "metadata": {
    "collapsed": false
   }
  },
  {
   "cell_type": "code",
   "execution_count": 125,
   "outputs": [
    {
     "data": {
      "text/plain": "Die-Cast & Toy Vehicles > Toy Vehicles & Accessories > Scaled Models > Vehicles    784\nunknown                                                                            545\nFigures & Playsets > Science Fiction & Fantasy                                     359\nArts & Crafts > Children's Craft Kits > Bead Art & Jewellery-Making                340\nCharacters & Brands > Disney > Toys                                                292\n                                                                                  ... \nElectronic Toys > Kids Remote & App Controlled Toys                                  1\nCharacters & Brands > Harry Potter > Books > Stationery                              1\nGames > Casino Equipment > Game Sets > Roulette Sets                                 1\nGames > Casino Equipment > Game Layouts > Poker Layouts                              1\nGames > Drinking Games                                                               1\nName: amazon_category_and_sub_category, Length: 236, dtype: int64"
     },
     "execution_count": 125,
     "metadata": {},
     "output_type": "execute_result"
    }
   ],
   "source": [
    "df['amazon_category_and_sub_category'].value_counts()"
   ],
   "metadata": {
    "collapsed": false
   }
  },
  {
   "cell_type": "markdown",
   "source": [
    "Разобьем данный столбец на 3 столбца (иерархия категорий)"
   ],
   "metadata": {
    "collapsed": false
   }
  },
  {
   "cell_type": "code",
   "execution_count": 126,
   "outputs": [
    {
     "data": {
      "text/plain": "                           0                                    1  \\\n0                   Hobbies          Model Trains & Railway Sets    \n1                   Hobbies          Model Trains & Railway Sets    \n2                   Hobbies          Model Trains & Railway Sets    \n3                   Hobbies          Model Trains & Railway Sets    \n4                   Hobbies          Model Trains & Railway Sets    \n...                      ...                                  ...   \n8542                Hobbies    Collectible Figures & Memorabilia    \n8543    Characters & Brands                            Star Wars    \n8544  Novelty & Special Use                              Novelty    \n8545                Hobbies    Collectible Figures & Memorabilia    \n8546    Characters & Brands                            Star Wars    \n\n                                     2                3     4  \n0                       Rail Vehicles            Trains  None  \n1                       Rail Vehicles            Trains  None  \n2                       Rail Vehicles            Trains  None  \n3                       Rail Vehicles            Trains  None  \n4                       Rail Vehicles            Trains  None  \n...                                ...              ...   ...  \n8542   Collectible Props & Memorabilia             None  None  \n8543                              Toys             None  None  \n8544                      Accessories    Buttons & Pins  None  \n8545   Collectible Props & Memorabilia             None  None  \n8546                              Toys             None  None  \n\n[8532 rows x 5 columns]",
      "text/html": "<div>\n<style scoped>\n    .dataframe tbody tr th:only-of-type {\n        vertical-align: middle;\n    }\n\n    .dataframe tbody tr th {\n        vertical-align: top;\n    }\n\n    .dataframe thead th {\n        text-align: right;\n    }\n</style>\n<table border=\"1\" class=\"dataframe\">\n  <thead>\n    <tr style=\"text-align: right;\">\n      <th></th>\n      <th>0</th>\n      <th>1</th>\n      <th>2</th>\n      <th>3</th>\n      <th>4</th>\n    </tr>\n  </thead>\n  <tbody>\n    <tr>\n      <th>0</th>\n      <td>Hobbies</td>\n      <td>Model Trains &amp; Railway Sets</td>\n      <td>Rail Vehicles</td>\n      <td>Trains</td>\n      <td>None</td>\n    </tr>\n    <tr>\n      <th>1</th>\n      <td>Hobbies</td>\n      <td>Model Trains &amp; Railway Sets</td>\n      <td>Rail Vehicles</td>\n      <td>Trains</td>\n      <td>None</td>\n    </tr>\n    <tr>\n      <th>2</th>\n      <td>Hobbies</td>\n      <td>Model Trains &amp; Railway Sets</td>\n      <td>Rail Vehicles</td>\n      <td>Trains</td>\n      <td>None</td>\n    </tr>\n    <tr>\n      <th>3</th>\n      <td>Hobbies</td>\n      <td>Model Trains &amp; Railway Sets</td>\n      <td>Rail Vehicles</td>\n      <td>Trains</td>\n      <td>None</td>\n    </tr>\n    <tr>\n      <th>4</th>\n      <td>Hobbies</td>\n      <td>Model Trains &amp; Railway Sets</td>\n      <td>Rail Vehicles</td>\n      <td>Trains</td>\n      <td>None</td>\n    </tr>\n    <tr>\n      <th>...</th>\n      <td>...</td>\n      <td>...</td>\n      <td>...</td>\n      <td>...</td>\n      <td>...</td>\n    </tr>\n    <tr>\n      <th>8542</th>\n      <td>Hobbies</td>\n      <td>Collectible Figures &amp; Memorabilia</td>\n      <td>Collectible Props &amp; Memorabilia</td>\n      <td>None</td>\n      <td>None</td>\n    </tr>\n    <tr>\n      <th>8543</th>\n      <td>Characters &amp; Brands</td>\n      <td>Star Wars</td>\n      <td>Toys</td>\n      <td>None</td>\n      <td>None</td>\n    </tr>\n    <tr>\n      <th>8544</th>\n      <td>Novelty &amp; Special Use</td>\n      <td>Novelty</td>\n      <td>Accessories</td>\n      <td>Buttons &amp; Pins</td>\n      <td>None</td>\n    </tr>\n    <tr>\n      <th>8545</th>\n      <td>Hobbies</td>\n      <td>Collectible Figures &amp; Memorabilia</td>\n      <td>Collectible Props &amp; Memorabilia</td>\n      <td>None</td>\n      <td>None</td>\n    </tr>\n    <tr>\n      <th>8546</th>\n      <td>Characters &amp; Brands</td>\n      <td>Star Wars</td>\n      <td>Toys</td>\n      <td>None</td>\n      <td>None</td>\n    </tr>\n  </tbody>\n</table>\n<p>8532 rows × 5 columns</p>\n</div>"
     },
     "execution_count": 126,
     "metadata": {},
     "output_type": "execute_result"
    }
   ],
   "source": [
    "new_df = df['amazon_category_and_sub_category'].str.split('>', expand=True)\n",
    "new_df"
   ],
   "metadata": {
    "collapsed": false
   }
  },
  {
   "cell_type": "markdown",
   "source": [
    "Закодируем каждый из полученных столбцов используя порядковое кодирование (Ordinal Encoding)"
   ],
   "metadata": {
    "collapsed": false
   }
  },
  {
   "cell_type": "code",
   "execution_count": 127,
   "outputs": [
    {
     "data": {
      "text/plain": "         0      1      2     3    4\n0     17.0   93.0   78.0  38.0  4.0\n1     17.0   93.0   78.0  38.0  4.0\n2     17.0   93.0   78.0  38.0  4.0\n3     17.0   93.0   78.0  38.0  4.0\n4     17.0   93.0   78.0  38.0  4.0\n...    ...    ...    ...   ...  ...\n8527  17.0   33.0   31.0  44.0  4.0\n8528   5.0  128.0  101.0  44.0  4.0\n8529  26.0   94.0    1.0   4.0  4.0\n8530  17.0   33.0   31.0  44.0  4.0\n8531   5.0  128.0  101.0  44.0  4.0\n\n[8532 rows x 5 columns]",
      "text/html": "<div>\n<style scoped>\n    .dataframe tbody tr th:only-of-type {\n        vertical-align: middle;\n    }\n\n    .dataframe tbody tr th {\n        vertical-align: top;\n    }\n\n    .dataframe thead th {\n        text-align: right;\n    }\n</style>\n<table border=\"1\" class=\"dataframe\">\n  <thead>\n    <tr style=\"text-align: right;\">\n      <th></th>\n      <th>0</th>\n      <th>1</th>\n      <th>2</th>\n      <th>3</th>\n      <th>4</th>\n    </tr>\n  </thead>\n  <tbody>\n    <tr>\n      <th>0</th>\n      <td>17.0</td>\n      <td>93.0</td>\n      <td>78.0</td>\n      <td>38.0</td>\n      <td>4.0</td>\n    </tr>\n    <tr>\n      <th>1</th>\n      <td>17.0</td>\n      <td>93.0</td>\n      <td>78.0</td>\n      <td>38.0</td>\n      <td>4.0</td>\n    </tr>\n    <tr>\n      <th>2</th>\n      <td>17.0</td>\n      <td>93.0</td>\n      <td>78.0</td>\n      <td>38.0</td>\n      <td>4.0</td>\n    </tr>\n    <tr>\n      <th>3</th>\n      <td>17.0</td>\n      <td>93.0</td>\n      <td>78.0</td>\n      <td>38.0</td>\n      <td>4.0</td>\n    </tr>\n    <tr>\n      <th>4</th>\n      <td>17.0</td>\n      <td>93.0</td>\n      <td>78.0</td>\n      <td>38.0</td>\n      <td>4.0</td>\n    </tr>\n    <tr>\n      <th>...</th>\n      <td>...</td>\n      <td>...</td>\n      <td>...</td>\n      <td>...</td>\n      <td>...</td>\n    </tr>\n    <tr>\n      <th>8527</th>\n      <td>17.0</td>\n      <td>33.0</td>\n      <td>31.0</td>\n      <td>44.0</td>\n      <td>4.0</td>\n    </tr>\n    <tr>\n      <th>8528</th>\n      <td>5.0</td>\n      <td>128.0</td>\n      <td>101.0</td>\n      <td>44.0</td>\n      <td>4.0</td>\n    </tr>\n    <tr>\n      <th>8529</th>\n      <td>26.0</td>\n      <td>94.0</td>\n      <td>1.0</td>\n      <td>4.0</td>\n      <td>4.0</td>\n    </tr>\n    <tr>\n      <th>8530</th>\n      <td>17.0</td>\n      <td>33.0</td>\n      <td>31.0</td>\n      <td>44.0</td>\n      <td>4.0</td>\n    </tr>\n    <tr>\n      <th>8531</th>\n      <td>5.0</td>\n      <td>128.0</td>\n      <td>101.0</td>\n      <td>44.0</td>\n      <td>4.0</td>\n    </tr>\n  </tbody>\n</table>\n<p>8532 rows × 5 columns</p>\n</div>"
     },
     "execution_count": 127,
     "metadata": {},
     "output_type": "execute_result"
    }
   ],
   "source": [
    "encoder = OrdinalEncoder()\n",
    "\n",
    "df_new_ordinal = pd.DataFrame(encoder.fit_transform(new_df), columns=new_df.columns)\n",
    "df_new_ordinal"
   ],
   "metadata": {
    "collapsed": false
   }
  },
  {
   "cell_type": "markdown",
   "source": [
    "Добавим столбцы к исходному df"
   ],
   "metadata": {
    "collapsed": false
   }
  },
  {
   "cell_type": "code",
   "execution_count": 128,
   "outputs": [
    {
     "data": {
      "text/plain": "   manufacturer  price  number_available_in_stock  number_of_reviews  \\\n0         932.0   3.42                        5.0               15.0   \n1         721.0  16.99                        0.0                2.0   \n2        2267.0   9.99                        2.0               17.0   \n3         932.0  39.99                        0.0                1.0   \n4         932.0  32.19                        0.0                3.0   \n\n   number_of_answered_questions  average_review_rating     0     1     2  \\\n0                           1.0                    4.9  17.0  93.0  78.0   \n1                           1.0                    4.5  17.0  93.0  78.0   \n2                           2.0                    3.9  17.0  93.0  78.0   \n3                           2.0                    5.0  17.0  93.0  78.0   \n4                           2.0                    4.7  17.0  93.0  78.0   \n\n      3    4  \n0  38.0  4.0  \n1  38.0  4.0  \n2  38.0  4.0  \n3  38.0  4.0  \n4  38.0  4.0  ",
      "text/html": "<div>\n<style scoped>\n    .dataframe tbody tr th:only-of-type {\n        vertical-align: middle;\n    }\n\n    .dataframe tbody tr th {\n        vertical-align: top;\n    }\n\n    .dataframe thead th {\n        text-align: right;\n    }\n</style>\n<table border=\"1\" class=\"dataframe\">\n  <thead>\n    <tr style=\"text-align: right;\">\n      <th></th>\n      <th>manufacturer</th>\n      <th>price</th>\n      <th>number_available_in_stock</th>\n      <th>number_of_reviews</th>\n      <th>number_of_answered_questions</th>\n      <th>average_review_rating</th>\n      <th>0</th>\n      <th>1</th>\n      <th>2</th>\n      <th>3</th>\n      <th>4</th>\n    </tr>\n  </thead>\n  <tbody>\n    <tr>\n      <th>0</th>\n      <td>932.0</td>\n      <td>3.42</td>\n      <td>5.0</td>\n      <td>15.0</td>\n      <td>1.0</td>\n      <td>4.9</td>\n      <td>17.0</td>\n      <td>93.0</td>\n      <td>78.0</td>\n      <td>38.0</td>\n      <td>4.0</td>\n    </tr>\n    <tr>\n      <th>1</th>\n      <td>721.0</td>\n      <td>16.99</td>\n      <td>0.0</td>\n      <td>2.0</td>\n      <td>1.0</td>\n      <td>4.5</td>\n      <td>17.0</td>\n      <td>93.0</td>\n      <td>78.0</td>\n      <td>38.0</td>\n      <td>4.0</td>\n    </tr>\n    <tr>\n      <th>2</th>\n      <td>2267.0</td>\n      <td>9.99</td>\n      <td>2.0</td>\n      <td>17.0</td>\n      <td>2.0</td>\n      <td>3.9</td>\n      <td>17.0</td>\n      <td>93.0</td>\n      <td>78.0</td>\n      <td>38.0</td>\n      <td>4.0</td>\n    </tr>\n    <tr>\n      <th>3</th>\n      <td>932.0</td>\n      <td>39.99</td>\n      <td>0.0</td>\n      <td>1.0</td>\n      <td>2.0</td>\n      <td>5.0</td>\n      <td>17.0</td>\n      <td>93.0</td>\n      <td>78.0</td>\n      <td>38.0</td>\n      <td>4.0</td>\n    </tr>\n    <tr>\n      <th>4</th>\n      <td>932.0</td>\n      <td>32.19</td>\n      <td>0.0</td>\n      <td>3.0</td>\n      <td>2.0</td>\n      <td>4.7</td>\n      <td>17.0</td>\n      <td>93.0</td>\n      <td>78.0</td>\n      <td>38.0</td>\n      <td>4.0</td>\n    </tr>\n  </tbody>\n</table>\n</div>"
     },
     "execution_count": 128,
     "metadata": {},
     "output_type": "execute_result"
    }
   ],
   "source": [
    "df = df.drop(columns=['amazon_category_and_sub_category'])\n",
    "df = pd.concat([df, df_new_ordinal], axis=1)\n",
    "df.head()"
   ],
   "metadata": {
    "collapsed": false
   }
  },
  {
   "cell_type": "markdown",
   "source": [
    "### 3.3. Ответ на дополнительные вопросы\n",
    "1. *Какие из признаков в этом датасете лучше кодировать через ordinal encoding?* признаки в которых много уникальных значений\n",
    "2. *Какие из признаков допустимо кодировать через one-hot?* признаки в которых немного уникальных значений"
   ],
   "metadata": {
    "collapsed": false
   }
  },
  {
   "cell_type": "code",
   "execution_count": 129,
   "outputs": [],
   "source": [
    "df = df.dropna()"
   ],
   "metadata": {
    "collapsed": false
   }
  },
  {
   "cell_type": "markdown",
   "metadata": {
    "id": "JTRoUwANEcn9"
   },
   "source": [
    "# Обучение модели (3 балла)"
   ]
  },
  {
   "cell_type": "markdown",
   "metadata": {
    "id": "AyVaKKT7FFo5"
   },
   "source": [
    "## Бейзлайн\n",
    "\n",
    "Обучите базовую модель. Для этого используйте `sklearn.dummy.DummyRegressor`. Какое качество она показывает на тесте? Посчитайте MSE, RMSE."
   ]
  },
  {
   "cell_type": "code",
   "execution_count": 130,
   "outputs": [],
   "source": [
    "import warnings\n",
    "warnings.filterwarnings('ignore')"
   ],
   "metadata": {
    "collapsed": false
   }
  },
  {
   "cell_type": "code",
   "execution_count": 131,
   "outputs": [],
   "source": [
    "from sklearn.model_selection import train_test_split\n",
    "from sklearn.preprocessing import Normalizer\n",
    "\n",
    "X, y = df.drop(columns=['price']), df.price\n",
    "X_train, X_test, y_train, y_test = train_test_split(X, y, train_size=0.65, random_state=42)\n",
    "#X_train = Normalizer().fit_transform(X_train)\n",
    "#X_test = Normalizer().fit_transform(X_test)"
   ],
   "metadata": {
    "collapsed": false
   }
  },
  {
   "cell_type": "code",
   "execution_count": 152,
   "metadata": {
    "id": "-JplspUcve0J"
   },
   "outputs": [],
   "source": [
    "from sklearn.dummy import DummyRegressor\n",
    "\n",
    "\n",
    "dummy = DummyRegressor()\n",
    "dummy.fit(X_train, y_train)\n",
    "dummy.predict(X_test)\n",
    "None"
   ]
  },
  {
   "cell_type": "code",
   "execution_count": 153,
   "metadata": {
    "id": "zuFLTDnKF1qQ"
   },
   "outputs": [
    {
     "data": {
      "text/plain": "-0.0011482402730911279"
     },
     "execution_count": 153,
     "metadata": {},
     "output_type": "execute_result"
    }
   ],
   "source": [
    "# Проверьте качество бейзлайна\n",
    "dummy.score(X_test, y_test)"
   ]
  },
  {
   "cell_type": "markdown",
   "source": [
    "Качество получилось очень плохое ("
   ],
   "metadata": {
    "collapsed": false
   }
  },
  {
   "cell_type": "markdown",
   "metadata": {
    "id": "rVW-MtPgF_vE"
   },
   "source": [
    "## Дерево решений\n",
    "\n",
    "Обучите регрессионное дерево решений, проверьте качество этой модели на тестовой выборке. Улучшилось ли качество по сравнению с базовой моделью? Оцените r2_score обученной модели."
   ]
  },
  {
   "cell_type": "code",
   "execution_count": 154,
   "metadata": {
    "id": "Xrqo604AQvBj"
   },
   "outputs": [],
   "source": [
    "from sklearn.tree import DecisionTreeRegressor\n",
    "from sklearn.metrics import r2_score, mean_squared_error as mse"
   ]
  },
  {
   "cell_type": "markdown",
   "source": [
    "Обучим модель"
   ],
   "metadata": {
    "collapsed": false
   }
  },
  {
   "cell_type": "code",
   "execution_count": 155,
   "metadata": {
    "id": "CUISp3CtGrRB"
   },
   "outputs": [],
   "source": [
    "regressor = DecisionTreeRegressor(random_state=0)\n",
    "regressor.fit(X_train, y_train)\n",
    "None"
   ]
  },
  {
   "cell_type": "markdown",
   "source": [
    "Измерим качество"
   ],
   "metadata": {
    "collapsed": false
   }
  },
  {
   "cell_type": "code",
   "execution_count": 156,
   "outputs": [
    {
     "name": "stdout",
     "output_type": "stream",
     "text": [
      "model_r2_score = -3.5102073393145217\n",
      "model_mean_squared_error = 6395.950529681227\n"
     ]
    }
   ],
   "source": [
    "y_pred = regressor.predict(X_test)\n",
    "model_r2_score = r2_score(y_test, y_pred)\n",
    "model_mean_squared_error = mse(y_test, y_pred)\n",
    "\n",
    "print('model_r2_score =', model_r2_score)\n",
    "print('model_mean_squared_error =', model_mean_squared_error)"
   ],
   "metadata": {
    "collapsed": false
   }
  },
  {
   "cell_type": "markdown",
   "source": [
    "Модель очень ошибается"
   ],
   "metadata": {
    "collapsed": false
   }
  },
  {
   "cell_type": "markdown",
   "metadata": {
    "id": "viVY_kUMG7Jv"
   },
   "source": [
    "## Линейная регрессия\n",
    "\n",
    "Попробуйте обучить линейную регрессию с параметрами по умолчанию. Оцените r2_score на тестовой выборке. Сравните качество с деревом решений. "
   ]
  },
  {
   "cell_type": "code",
   "execution_count": 137,
   "metadata": {
    "id": "oFRYt0erQ05U"
   },
   "outputs": [],
   "source": [
    "from sklearn.linear_model import LinearRegression\n",
    "\n",
    "reg = LinearRegression()\n",
    "reg.fit(X_train, y_train)\n",
    "y_pred = reg.predict(X_test)"
   ]
  },
  {
   "cell_type": "code",
   "execution_count": 138,
   "metadata": {
    "id": "ZpPICj2tQsDS"
   },
   "outputs": [
    {
     "name": "stdout",
     "output_type": "stream",
     "text": [
      "model_r2_score = 0.02571087925103621\n"
     ]
    }
   ],
   "source": [
    "model_r2_score = r2_score(y_test, y_pred)\n",
    "print('model_r2_score =', model_r2_score)"
   ]
  },
  {
   "cell_type": "markdown",
   "source": [
    "Дела обстоят уже лучше, намного лучше чем лес"
   ],
   "metadata": {
    "collapsed": false
   }
  },
  {
   "cell_type": "markdown",
   "metadata": {
    "id": "3J71riX2Guj3"
   },
   "source": [
    "# Гиперпараметры (2 балла)\n",
    "\n",
    "Переберите несколько гиперпараметров (не более двух-трёх). Обратите внимание, как эти параметры влияют на ошибку модели на тестовой выборке. Постройте для глубины дерева график переобучения (fitting curve) аналогичный тому, что мы строили на занятии. Найдите глубину дерева, начиная с которой модель начинает переобучаться."
   ]
  },
  {
   "cell_type": "code",
   "execution_count": 139,
   "metadata": {
    "id": "mLTTpG19Wr2l"
   },
   "outputs": [],
   "source": [
    "import seaborn as sns\n",
    "\n",
    "\n",
    "def plot_fitting_curve(parameter: str, values: list, X_train, X_test, y_train, y_test):\n",
    "    train_curve = []\n",
    "    test_curve = []\n",
    "    for value in values:\n",
    "        model = DecisionTreeRegressor(**{parameter: value})\n",
    "        model.fit(X_train, y_train)\n",
    "        y_pred_train, y_pred_test = model.predict(X_train), model.predict(X_test)\n",
    "        train_curve.append(mse(y_train, y_pred_train))\n",
    "        test_curve.append(mse(y_test, y_pred_test))\n",
    "    val, idx = min((val, idx) for (idx, val) in enumerate(test_curve))\n",
    "    print(f'Лучший {parameter} на тестовых данных:', idx+1)\n",
    "    sns.lineplot(x=values, y=train_curve, label=\"Train\").set_title(parameter)\n",
    "    sns.lineplot(x=values, y=test_curve, label=\"Test\")"
   ]
  },
  {
   "cell_type": "markdown",
   "source": [
    "Глубина дерева"
   ],
   "metadata": {
    "collapsed": false
   }
  },
  {
   "cell_type": "code",
   "execution_count": 157,
   "metadata": {
    "id": "5CQySD968W0J"
   },
   "outputs": [
    {
     "name": "stdout",
     "output_type": "stream",
     "text": [
      "Лучший max_depth на тестовых данных: 2\n"
     ]
    },
    {
     "data": {
      "text/plain": "<Figure size 432x288 with 1 Axes>",
      "image/png": "[encoded data removed]"
     },
     "metadata": {},
     "output_type": "display_data"
    }
   ],
   "source": [
    "plot_fitting_curve('max_depth', np.arange(1, 10), X_train, X_test, y_train, y_test)"
   ]
  },
  {
   "cell_type": "markdown",
   "source": [
    "Минимальное количество образцов, необходимое для разделения"
   ],
   "metadata": {
    "collapsed": false
   }
  },
  {
   "cell_type": "code",
   "execution_count": 162,
   "outputs": [
    {
     "name": "stdout",
     "output_type": "stream",
     "text": [
      "Лучший min_samples_split на тестовых данных: 99\n"
     ]
    },
    {
     "data": {
      "text/plain": "<Figure size 432x288 with 1 Axes>",
      "image/png": "[encoded data removed]"
     },
     "metadata": {},
     "output_type": "display_data"
    }
   ],
   "source": [
    "plot_fitting_curve('min_samples_split', np.arange(2, 200, 2), X_train, X_test, y_train, y_test)"
   ],
   "metadata": {
    "collapsed": false
   }
  },
  {
   "cell_type": "markdown",
   "source": [
    "Минимальное количество образцов, необходимое для нахождения в листовом узле"
   ],
   "metadata": {
    "collapsed": false
   }
  },
  {
   "cell_type": "code",
   "execution_count": 158,
   "outputs": [
    {
     "name": "stdout",
     "output_type": "stream",
     "text": [
      "Лучший min_samples_leaf на тестовых данных: 9\n"
     ]
    },
    {
     "data": {
      "text/plain": "<Figure size 432x288 with 1 Axes>",
      "image/png": "[encoded data removed]"
     },
     "metadata": {},
     "output_type": "display_data"
    }
   ],
   "source": [
    "plot_fitting_curve('min_samples_leaf', np.arange(1, 10), X_train, X_test, y_train, y_test)"
   ],
   "metadata": {
    "collapsed": false
   }
  },
  {
   "cell_type": "markdown",
   "metadata": {
    "id": "rJlf6gJ9RBhf"
   },
   "source": [
    "# Простое ансамблирование (1 балл)\n",
    "\n",
    "В этой секции мы реализуем простой ансамбль деревьев."
   ]
  },
  {
   "cell_type": "code",
   "execution_count": 143,
   "metadata": {
    "id": "Ht7wq9TqUfvZ"
   },
   "outputs": [],
   "source": [
    "class EnsembleTreeRegressor:\n",
    "    def __init__(self, num_trees=5, samples_frac=0.8, **model_kwargs):\n",
    "        self._samples_frac = 0.8\n",
    "        self._trees = [DecisionTreeRegressor(**model_kwargs) for _ in range(num_trees)]\n",
    "\n",
    "    def fit(self, x: pd.DataFrame, y: pd.Series):\n",
    "        for tree in self._trees:\n",
    "            tree_x = x.sample(frac=self._samples_frac, random_state=42)\n",
    "            tree_y = y[tree_x.index]\n",
    "            tree.fit(tree_x, tree_y)\n",
    "\n",
    "    def predict(self, x: pd.DataFrame):\n",
    "        # В качестве предсказания ансамбля будем выдавать усреднение предсказаний деревьев\n",
    "        tree_y_pred = np.zeros((x.shape[0]))\n",
    "        num_trees = 0\n",
    "        for tree in self._trees:\n",
    "            num_trees += 1\n",
    "            tree_y_pred += tree.predict(x)\n",
    "            print(tree_y_pred)\n",
    "\n",
    "        print(tree_y_pred / num_trees)\n",
    "        return tree_y_pred / num_trees"
   ]
  },
  {
   "cell_type": "markdown",
   "metadata": {
    "id": "FCxogZPuVZCF"
   },
   "source": [
    "Проверьте, работает ли этот ансамбль лучше обычного дерева с параметрами по умолчанию?\n",
    "\n",
    "Дополнительно переберите максимальную глубину дерева. Проверьте, насколько отличается момент начала переобучения у одиночного дерева и у ансамбля. Зависит ли этот момент от числа деревьев (`num_trees`)? От числа примеров для каждого дерева (`samples_frac`)? Постройте график fitting curve."
   ]
  },
  {
   "cell_type": "markdown",
   "source": [
    "## Проверьте, работает ли этот ансамбль лучше обычного дерева с параметрами по умолчанию?"
   ],
   "metadata": {
    "collapsed": false
   }
  },
  {
   "cell_type": "code",
   "execution_count": 144,
   "metadata": {
    "id": "WJrBtD3rXOTH"
   },
   "outputs": [
    {
     "name": "stdout",
     "output_type": "stream",
     "text": [
      "[  2.99   4.09   5.99 ...  24.95 166.04   3.59]\n",
      "[  5.98   8.18  11.98 ...  49.9  261.84   7.18]\n",
      "[  8.97  12.27  17.97 ...  74.85 427.88  10.77]\n",
      "[ 11.96  16.36  23.96 ...  99.8  593.92  14.36]\n",
      "[ 14.95  20.45  29.95 ... 124.75 759.96  17.95]\n",
      "[  2.99    4.09    5.99  ...  24.95  151.992   3.59 ]\n",
      "MSE Ensemble: 4330.516068193055\n"
     ]
    }
   ],
   "source": [
    "ensemble =  EnsembleTreeRegressor()\n",
    "ensemble.fit(X_train, y_train)\n",
    "print('MSE Ensemble:', mse(y_test, ensemble.predict(X_test)))"
   ]
  },
  {
   "cell_type": "markdown",
   "source": [
    "Качество получилось примерно одинаковое"
   ],
   "metadata": {
    "collapsed": false
   }
  }
 ],
 "metadata": {
  "colab": {
   "provenance": []
  },
  "gpuClass": "standard",
  "kernelspec": {
   "display_name": "Python 3",
   "name": "python3"
  },
  "language_info": {
   "name": "python"
  }
 },
 "nbformat": 4,
 "nbformat_minor": 0
}
