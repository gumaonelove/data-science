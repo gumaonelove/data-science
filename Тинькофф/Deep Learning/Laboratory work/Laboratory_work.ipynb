{
  "metadata": {
    "kernelspec": {
      "display_name": "Python 3",
      "language": "python",
      "name": "python3"
    },
    "language_info": {
      "name": "python",
      "version": "3.7.12",
      "mimetype": "text/x-python",
      "codemirror_mode": {
        "name": "ipython",
        "version": 3
      },
      "pygments_lexer": "ipython3",
      "nbconvert_exporter": "python",
      "file_extension": ".py"
    },
    "colab": {
      "provenance": [],
      "toc_visible": true
    }
  },
  "nbformat_minor": 0,
  "nbformat": 4,
  "cells": [
    {
      "cell_type": "markdown",
      "source": [
        "# Лабораторная курса Deep Learning\n",
        "## Выполнил студент: Гумеров Булат (gumaonelove)"
      ],
      "metadata": {
        "id": "DKQDedYh8CYC"
      }
    },
    {
      "cell_type": "markdown",
      "source": [
        "## Подготовка"
      ],
      "metadata": {
        "id": "7Xu9uOWr-H2S"
      }
    },
    {
      "cell_type": "markdown",
      "source": [
        "### Импорты"
      ],
      "metadata": {
        "id": "kyjWbfMc9k9J"
      }
    },
    {
      "cell_type": "code",
      "source": [
        "import cv2\n",
        "import os\n",
        "import torch\n",
        "import torchvision\n",
        "import random\n",
        "\n",
        "\n",
        "import pandas as pd\n",
        "import numpy as np\n",
        "import pickle as pkl\n",
        "\n",
        "\n",
        "from evaluate import load\n",
        "from PIL import Image\n",
        "from sklearn.model_selection import train_test_split\n",
        "from torch import nn"
      ],
      "metadata": {
        "_cell_guid": "b1076dfc-b9ad-4769-8c92-a6c4dae69d19",
        "_uuid": "8f2839f25d086af736a60e9eeb907d3b93b6e0e5",
        "execution": {
          "iopub.status.busy": "2022-12-25T08:15:01.994148Z",
          "iopub.execute_input": "2022-12-25T08:15:01.994637Z",
          "iopub.status.idle": "2022-12-25T08:15:04.346308Z",
          "shell.execute_reply.started": "2022-12-25T08:15:01.994571Z",
          "shell.execute_reply": "2022-12-25T08:15:04.345350Z"
        },
        "trusted": true,
        "id": "OrMYUiPA76Mn"
      },
      "execution_count": null,
      "outputs": []
    },
    {
      "cell_type": "code",
      "source": [
        "!pip install evaluate jiwer\n"
      ],
      "metadata": {
        "execution": {
          "iopub.status.busy": "2022-12-25T08:15:04.351732Z",
          "iopub.execute_input": "2022-12-25T08:15:04.353668Z",
          "iopub.status.idle": "2022-12-25T08:15:17.539755Z",
          "shell.execute_reply.started": "2022-12-25T08:15:04.353627Z",
          "shell.execute_reply": "2022-12-25T08:15:17.538630Z"
        },
        "trusted": true,
        "id": "HmcxdifG76Mp"
      },
      "execution_count": null,
      "outputs": []
    },
    {
      "cell_type": "markdown",
      "source": [
        "### Подключение GPU"
      ],
      "metadata": {
        "id": "h_xfG_sh927l"
      }
    },
    {
      "cell_type": "code",
      "source": [
        "device = torch.device(\"cuda\" if torch.cuda.is_available() else \"cpu\")"
      ],
      "metadata": {
        "id": "QJZXO6-r9Tqn"
      },
      "execution_count": null,
      "outputs": []
    },
    {
      "cell_type": "markdown",
      "source": [
        "### Фиксирование рандома"
      ],
      "metadata": {
        "id": "ilsdEEel98wy"
      }
    },
    {
      "cell_type": "code",
      "source": [
        "random.seed(42)\n",
        "os.environ['PYTHONHASHSEED'] = str(42)\n",
        "np.random.seed(42)\n",
        "torch.manual_seed(42)\n",
        "torch.cuda.manual_seed(42)\n",
        "torch.backends.cudnn.deterministic = True\n",
        "torch.backends.cudnn.benchmark = True\n",
        "device"
      ],
      "metadata": {
        "execution": {
          "iopub.status.busy": "2022-12-25T08:15:17.542800Z",
          "iopub.execute_input": "2022-12-25T08:15:17.543262Z",
          "iopub.status.idle": "2022-12-25T08:15:17.553265Z",
          "shell.execute_reply.started": "2022-12-25T08:15:17.543219Z",
          "shell.execute_reply": "2022-12-25T08:15:17.552262Z"
        },
        "trusted": true,
        "id": "mS-Ii3bj76Mq"
      },
      "execution_count": null,
      "outputs": []
    },
    {
      "cell_type": "markdown",
      "source": [
        "## Загрузка Датасета"
      ],
      "metadata": {
        "id": "yd-aBWcC76Mq"
      }
    },
    {
      "cell_type": "markdown",
      "source": [
        "### Токенизация"
      ],
      "metadata": {
        "id": "gpD7aOzY76Mr"
      }
    },
    {
      "cell_type": "markdown",
      "source": [
        "#### Получите список автомобильных номеров"
      ],
      "metadata": {
        "id": "KRIY1eah-8Ev"
      }
    },
    {
      "cell_type": "code",
      "source": [
        "def exec_text(path):\n",
        "    return path[path.find('-') + 1:path.find('.')]\n",
        "\n",
        "input_dir_train = './CCPD2019-dl1/train'\n",
        "\n",
        "car_numbers = [exec_text(path) for  path in os.listdir(input_dir_train)]"
      ],
      "metadata": {
        "execution": {
          "iopub.status.busy": "2022-12-25T08:15:17.557638Z",
          "iopub.execute_input": "2022-12-25T08:15:17.557958Z",
          "iopub.status.idle": "2022-12-25T08:15:27.977956Z",
          "shell.execute_reply.started": "2022-12-25T08:15:17.557931Z",
          "shell.execute_reply": "2022-12-25T08:15:27.976705Z"
        },
        "trusted": true,
        "id": "YUVNhv_y76Mr"
      },
      "execution_count": null,
      "outputs": []
    },
    {
      "cell_type": "markdown",
      "source": [
        "#### Получите алфавит символов из всех автомобильных номеров"
      ],
      "metadata": {
        "id": "YH5xt2Sh_Ceh"
      }
    },
    {
      "cell_type": "code",
      "source": [
        "seq = ''\n",
        "for car_number in car_numbers:\n",
        "    seq += car_number\n",
        "alphabet = ''\n",
        "for symbol in sorted(set(seq)):\n",
        "    alphabet += symbol\n",
        "alphabet    "
      ],
      "metadata": {
        "execution": {
          "iopub.status.busy": "2022-12-25T08:15:27.979570Z",
          "iopub.execute_input": "2022-12-25T08:15:27.979961Z",
          "iopub.status.idle": "2022-12-25T08:15:28.060160Z",
          "shell.execute_reply.started": "2022-12-25T08:15:27.979923Z",
          "shell.execute_reply": "2022-12-25T08:15:28.059187Z"
        },
        "trusted": true,
        "id": "yRgps_9E76Mr",
        "outputId": "abcf4aa9-5329-4dd3-b278-1abb65d58a36"
      },
      "execution_count": null,
      "outputs": [
        {
          "execution_count": 5,
          "output_type": "execute_result",
          "data": {
            "text/plain": "'0123456789ABCDEFGHJKLMNOPQRSTUVWXYZ云京冀吉宁川新晋桂沪津浙渝湘琼甘皖粤苏蒙藏豫贵赣辽鄂闽陕青鲁黑'"
          },
          "metadata": {}
        }
      ]
    },
    {
      "cell_type": "markdown",
      "source": [
        "#### Константы"
      ],
      "metadata": {
        "id": "G4dCNelE_tuj"
      }
    },
    {
      "cell_type": "code",
      "source": [
        "OOV_TOKEN = '<OOV>' # отсутствует лексема из словаря\n",
        "CTC_BLANK = '<BLANK>' # токен для матрицы ctc\n",
        "PAD_TOKEN = '<PAD>' # заполняющий токен\n",
        "batch_size = 128"
      ],
      "metadata": {
        "id": "H0wO44sf_HCA"
      },
      "execution_count": null,
      "outputs": []
    },
    {
      "cell_type": "markdown",
      "source": [
        "#### Создание из строкового алфавита символ dict(int)"
      ],
      "metadata": {
        "id": "_Ugl7ug2_x8q"
      }
    },
    {
      "cell_type": "code",
      "source": [
        "def get_char_map(alphabet):\n",
        "    \"\"\"\n",
        "    Добавьте пустую диаграмму для потери CTC и символ OOV для \n",
        "    символов, не входящих в словарный запас.\n",
        "    \"\"\"\n",
        "    char_map = {value: idx + 3 for (idx, value) in enumerate(alphabet)}\n",
        "    char_map[CTC_BLANK] = 0\n",
        "    char_map[OOV_TOKEN] = 1\n",
        "    char_map[PAD_TOKEN] = 2\n",
        "    return char_map"
      ],
      "metadata": {
        "id": "OnH1rpIz_RYP"
      },
      "execution_count": null,
      "outputs": []
    },
    {
      "cell_type": "markdown",
      "source": [
        "#### Класс для кодирования и декодирования"
      ],
      "metadata": {
        "id": "5jsl3p4W_2Cv"
      }
    },
    {
      "cell_type": "code",
      "source": [
        "class Tokenizer:\n",
        "    \"\"\"\"\"Класс для кодирования и декодирования строкового слова в \n",
        "    интересующую последовательность (и наоборот) с использованием алфавита.\"\"\"\n",
        "\n",
        "    def __init__(self, alphabet):\n",
        "        self.char_map = get_char_map(alphabet)\n",
        "        self.rev_char_map = {val: key for key, val in self.char_map.items()}\n",
        "\n",
        "    def encode(self, word_list):\n",
        "        enc_words = []\n",
        "        for word in word_list:\n",
        "            enc_words.append(\n",
        "                [self.char_map[char] if char in self.char_map\n",
        "                 else self.char_map[OOV_TOKEN]\n",
        "                 for char in word]\n",
        "            )\n",
        "        return enc_words\n",
        "\n",
        "    def get_num_chars(self):\n",
        "        return len(self.char_map)\n",
        "\n",
        "    def decode(self, enc_word_list):\n",
        "        dec_words = []\n",
        "        for word in enc_word_list:\n",
        "            word_chars = ''\n",
        "            for idx, char_enc in enumerate(word):\n",
        "                if (\n",
        "                    char_enc != self.char_map[OOV_TOKEN]\n",
        "                    and char_enc != self.char_map[CTC_BLANK]\n",
        "                    and not (idx > 0 and char_enc == word[idx - 1])\n",
        "                ):\n",
        "                    word_chars += self.rev_char_map[char_enc]\n",
        "            dec_words.append(word_chars)\n",
        "        return dec_words"
      ],
      "metadata": {
        "execution": {
          "iopub.status.busy": "2022-12-25T08:15:28.061493Z",
          "iopub.execute_input": "2022-12-25T08:15:28.061838Z",
          "iopub.status.idle": "2022-12-25T08:15:28.073735Z",
          "shell.execute_reply.started": "2022-12-25T08:15:28.061802Z",
          "shell.execute_reply": "2022-12-25T08:15:28.072654Z"
        },
        "trusted": true,
        "id": "6CMMSgkw76Ms"
      },
      "execution_count": null,
      "outputs": []
    },
    {
      "cell_type": "code",
      "source": [
        "tokenizer = Tokenizer(alphabet)"
      ],
      "metadata": {
        "execution": {
          "iopub.status.busy": "2022-12-25T08:15:28.075210Z",
          "iopub.execute_input": "2022-12-25T08:15:28.075650Z",
          "iopub.status.idle": "2022-12-25T08:15:28.085875Z",
          "shell.execute_reply.started": "2022-12-25T08:15:28.075613Z",
          "shell.execute_reply": "2022-12-25T08:15:28.084742Z"
        },
        "trusted": true,
        "id": "lMCPGMrX76Ms"
      },
      "execution_count": null,
      "outputs": []
    },
    {
      "cell_type": "code",
      "source": [
        "class Laba_dataset(torch.utils.data.Dataset):\n",
        "    def __init__(self, root, tokenizer, transform=None):\n",
        "        self.root = root\n",
        "        self.transform = transform\n",
        "        self.tokenizer = tokenizer\n",
        "        self.img_paths = [os.path.join(self.root, img_path) for img_path in os.listdir(self.root)]\n",
        "        self.text = [exec_text(path) for path in os.listdir(self.root)]\n",
        "        self.enc_text = self.tokenizer.encode(self.text)\n",
        "    \n",
        "    def __getitem__(self, ind):\n",
        "        img = Image.open(self.img_paths[ind]) # resize\n",
        "        if self.transform is not None:\n",
        "            img = self.transform(img) # make some augmentations\n",
        "        # return image, encoded_text, source_text\n",
        "        return (img, torch.LongTensor(self.enc_text[ind]), self.text[ind])\n",
        "\n",
        "    def __len__(self):\n",
        "        return len(self.img_paths)"
      ],
      "metadata": {
        "execution": {
          "iopub.status.busy": "2022-12-25T08:15:28.087106Z",
          "iopub.execute_input": "2022-12-25T08:15:28.087534Z",
          "iopub.status.idle": "2022-12-25T08:15:28.096271Z",
          "shell.execute_reply.started": "2022-12-25T08:15:28.087498Z",
          "shell.execute_reply": "2022-12-25T08:15:28.095178Z"
        },
        "trusted": true,
        "id": "ILAiY3JR76Mt"
      },
      "execution_count": null,
      "outputs": []
    },
    {
      "cell_type": "code",
      "source": [
        "def collate_fn(batch):\n",
        "    images, enc_texts, texts = zip(*batch)\n",
        "    images = torch.stack(images, 0)\n",
        "    enc_pad_texts = torch.nn.utils.rnn.pad_sequence(enc_texts, batch_first=True, padding_value=tokenizer.char_map[PAD_TOKEN])\n",
        "    return images, enc_pad_texts, texts"
      ],
      "metadata": {
        "execution": {
          "iopub.status.busy": "2022-12-25T08:15:28.097776Z",
          "iopub.execute_input": "2022-12-25T08:15:28.098120Z",
          "iopub.status.idle": "2022-12-25T08:15:28.109095Z",
          "shell.execute_reply.started": "2022-12-25T08:15:28.098085Z",
          "shell.execute_reply": "2022-12-25T08:15:28.108126Z"
        },
        "trusted": true,
        "id": "x1KaBzgI76Mt"
      },
      "execution_count": null,
      "outputs": []
    },
    {
      "cell_type": "markdown",
      "source": [
        "#### Некоторые дополнения для регуляризации модели"
      ],
      "metadata": {
        "id": "2TnnUxS5AYGg"
      }
    },
    {
      "cell_type": "code",
      "source": [
        "transform = torchvision.transforms.Compose([\n",
        "    torchvision.transforms.Resize((32, 128)),\n",
        "    torchvision.transforms.RandomRotation(5),\n",
        "    torchvision.transforms.ColorJitter(),\n",
        "    torchvision.transforms.GaussianBlur(3),\n",
        "    torchvision.transforms.ToTensor()\n",
        "])"
      ],
      "metadata": {
        "execution": {
          "iopub.status.busy": "2022-12-25T08:15:28.113651Z",
          "iopub.execute_input": "2022-12-25T08:15:28.113903Z",
          "iopub.status.idle": "2022-12-25T08:15:29.830122Z",
          "shell.execute_reply.started": "2022-12-25T08:15:28.113879Z",
          "shell.execute_reply": "2022-12-25T08:15:29.829088Z"
        },
        "trusted": true,
        "id": "tUAxz0q_76Mt"
      },
      "execution_count": null,
      "outputs": []
    },
    {
      "cell_type": "markdown",
      "source": [
        "### Создание Датасета"
      ],
      "metadata": {
        "id": "GikFZ95rAsd1"
      }
    },
    {
      "cell_type": "code",
      "source": [
        "dataset_full = Laba_dataset(input_dir_train, tokenizer, transform=transform)"
      ],
      "metadata": {
        "id": "ZIMBqWtIAduS"
      },
      "execution_count": null,
      "outputs": []
    },
    {
      "cell_type": "markdown",
      "source": [
        "#### Разделение на обучающую и валидационную выборку"
      ],
      "metadata": {
        "id": "QjpXF7yVAzjd"
      }
    },
    {
      "cell_type": "code",
      "source": [
        "train_idx, valid_idx = train_test_split(list(range(len(dataset_full))), train_size=0.9)"
      ],
      "metadata": {
        "id": "IID8HJcLAirl"
      },
      "execution_count": null,
      "outputs": []
    },
    {
      "cell_type": "markdown",
      "source": [
        "#### Инициализация Датасата"
      ],
      "metadata": {
        "id": "eEsdIABJA6lY"
      }
    },
    {
      "cell_type": "code",
      "source": [
        "dataset = {\n",
        "    'train': torch.utils.data.Subset(dataset_full, train_idx),\n",
        "    'valid': torch.utils.data.Subset(dataset_full, valid_idx)\n",
        "}"
      ],
      "metadata": {
        "id": "BE4ECmRKAmB_"
      },
      "execution_count": null,
      "outputs": []
    },
    {
      "cell_type": "code",
      "source": [
        "dataset_size = {ds: len(dataset[ds]) for ds in ['train', 'valid']}"
      ],
      "metadata": {
        "id": "L54r7uRHAovx"
      },
      "execution_count": null,
      "outputs": []
    },
    {
      "cell_type": "markdown",
      "source": [
        "#### Создание DataLoader"
      ],
      "metadata": {
        "id": "KdEK6smlBB0k"
      }
    },
    {
      "cell_type": "code",
      "source": [
        "dataloader = {\n",
        "    'train': torch.utils.data.DataLoader(\n",
        "        dataset=dataset['train'], \n",
        "        batch_size=batch_size, \n",
        "        shuffle=True, \n",
        "        collate_fn=collate_fn,\n",
        "        num_workers=8\n",
        "    ),\n",
        "    'valid': torch.utils.data.DataLoader(\n",
        "        dataset=dataset['valid'], \n",
        "        batch_size=batch_size, \n",
        "        shuffle=False, \n",
        "        collate_fn=collate_fn,\n",
        "        num_workers=8\n",
        "    ),\n",
        "}"
      ],
      "metadata": {
        "id": "bOQfByPvAp2Y"
      },
      "execution_count": null,
      "outputs": []
    },
    {
      "cell_type": "code",
      "source": [
        "input_dir_test = './CCPD2019-dl1/test'\n",
        "batch_size = 64\n",
        "transform_test = torchvision.transforms.Compose([\n",
        "    torchvision.transforms.Resize((32, 128)),\n",
        "    torchvision.transforms.ToTensor()\n",
        "        ])\n",
        "dataset_test = Laba_dataset(input_dir_test, tokenizer, transform=transform_test)\n",
        "dataloader_test = torch.utils.data.DataLoader(\n",
        "        dataset=dataset_test, batch_size=batch_size, shuffle=False, collate_fn=collate_fn\n",
        "    )"
      ],
      "metadata": {
        "execution": {
          "iopub.status.busy": "2022-12-25T08:15:29.831761Z",
          "iopub.execute_input": "2022-12-25T08:15:29.832275Z",
          "iopub.status.idle": "2022-12-25T08:15:30.539257Z",
          "shell.execute_reply.started": "2022-12-25T08:15:29.832237Z",
          "shell.execute_reply": "2022-12-25T08:15:30.538302Z"
        },
        "trusted": true,
        "id": "mAPGTgcm76Mu"
      },
      "execution_count": null,
      "outputs": []
    },
    {
      "cell_type": "code",
      "source": [
        "next(iter(dataloader['train']))[0].shape"
      ],
      "metadata": {
        "execution": {
          "iopub.status.busy": "2022-12-25T08:15:30.540674Z",
          "iopub.execute_input": "2022-12-25T08:15:30.541047Z",
          "iopub.status.idle": "2022-12-25T08:15:32.254318Z",
          "shell.execute_reply.started": "2022-12-25T08:15:30.541007Z",
          "shell.execute_reply": "2022-12-25T08:15:32.253324Z"
        },
        "trusted": true,
        "id": "whuclEMC76Mu",
        "outputId": "0a54dbdd-2924-487c-f304-5faf3aaa43ad"
      },
      "execution_count": null,
      "outputs": [
        {
          "execution_count": 12,
          "output_type": "execute_result",
          "data": {
            "text/plain": "torch.Size([128, 3, 32, 128])"
          },
          "metadata": {}
        }
      ]
    },
    {
      "cell_type": "markdown",
      "source": [
        "### Откроем на случайное изображение"
      ],
      "metadata": {
        "id": "OcvCFiKIBbQy"
      }
    },
    {
      "cell_type": "code",
      "source": [
        "img = torchvision.transforms.ToPILImage()(dataset_full[173][0].squeeze(0)) # take a look to random image"
      ],
      "metadata": {
        "execution": {
          "iopub.status.busy": "2022-12-25T08:15:32.255820Z",
          "iopub.execute_input": "2022-12-25T08:15:32.256215Z",
          "iopub.status.idle": "2022-12-25T08:15:32.268371Z",
          "shell.execute_reply.started": "2022-12-25T08:15:32.256178Z",
          "shell.execute_reply": "2022-12-25T08:15:32.267323Z"
        },
        "trusted": true,
        "id": "YjNMoNHR76Mu"
      },
      "execution_count": null,
      "outputs": []
    },
    {
      "cell_type": "code",
      "source": [
        "img"
      ],
      "metadata": {
        "execution": {
          "iopub.status.busy": "2022-12-25T08:15:32.269749Z",
          "iopub.execute_input": "2022-12-25T08:15:32.270104Z",
          "iopub.status.idle": "2022-12-25T08:15:32.278267Z",
          "shell.execute_reply.started": "2022-12-25T08:15:32.270069Z",
          "shell.execute_reply": "2022-12-25T08:15:32.277302Z"
        },
        "trusted": true,
        "id": "YZM6H_oQ76Mu",
        "outputId": "a9e32fdf-cebd-4169-8d8b-75f3e22c2d44"
      },
      "execution_count": null,
      "outputs": [
        {
          "execution_count": 14,
          "output_type": "execute_result",
          "data": {
            "text/plain": "<PIL.Image.Image image mode=RGB size=128x32>",
            "image/png": "[encoded data removed]"
          },
          "metadata": {}
        }
      ]
    },
    {
      "cell_type": "code",
      "source": [
        "dataset_test[122] # take a look to element from dataset"
      ],
      "metadata": {
        "execution": {
          "iopub.status.busy": "2022-12-25T08:15:32.279822Z",
          "iopub.execute_input": "2022-12-25T08:15:32.281059Z",
          "iopub.status.idle": "2022-12-25T08:15:32.296270Z",
          "shell.execute_reply.started": "2022-12-25T08:15:32.281025Z",
          "shell.execute_reply": "2022-12-25T08:15:32.295313Z"
        },
        "trusted": true,
        "id": "n6YiXQCp76Mu"
      },
      "execution_count": null,
      "outputs": []
    },
    {
      "cell_type": "markdown",
      "source": [
        "## Создание модели"
      ],
      "metadata": {
        "id": "LfbiySeY76Mv"
      }
    },
    {
      "cell_type": "markdown",
      "source": [
        "Чтобы решить проблему, я использую структуру CRNN"
      ],
      "metadata": {
        "id": "Xgh5TRC176Mv"
      }
    },
    {
      "cell_type": "code",
      "source": [
        "class ResNetBlock(nn.Module):\n",
        "    def __init__(self, in_channels, out_channels, kernel_size=3, stride=1, padding=0, dropout=0.15):\n",
        "        super().__init__()\n",
        "        self.conv = nn.Conv2d(in_channels, out_channels, kernel_size, stride, padding, bias=False)\n",
        "        self.bn = nn.BatchNorm2d(out_channels)\n",
        "        self.relu = nn.LeakyReLU()\n",
        "        self.dropout = nn.Dropout(dropout)\n",
        "        self.downsample = None\n",
        "        if in_channels != out_channels:\n",
        "            self.downsample = nn.Conv2d(in_channels, out_channels, 1, stride=2)\n",
        "        \n",
        "    def forward(self, x, identity=True):\n",
        "        out = self.dropout(self.bn(self.conv(x)))\n",
        "        if identity:\n",
        "            if self.downsample is not None:\n",
        "                x = self.downsample(x)\n",
        "            return self.relu(out + x)\n",
        "        else: \n",
        "            return self.relu(out)"
      ],
      "metadata": {
        "id": "UE9Gz4AfCQ0c"
      },
      "execution_count": null,
      "outputs": []
    },
    {
      "cell_type": "code",
      "source": [
        "class CNN(nn.Module):\n",
        "    def __init__(self, in_channels=1, num_layers=2, dropout=0.1):\n",
        "        super().__init__()\n",
        "        \"\"\"\n",
        "        В качестве средства извлечения объектов я использую resnet, при прохождении через cut изображения\n",
        "        преобразуются из dimension tensor (C: 1, W: 128, H: 32) to the \n",
        "        dimension tensor (C: 1, W: 4, H: 1)\n",
        "        \"\"\"\n",
        "        self.start = ResNetBlock(3, 64, 7, 1, 0, 0.0)\n",
        "        self.maxpool = nn.MaxPool2d(3, 2, 1)\n",
        "        self.blocks1 = nn.ModuleList([ResNetBlock(64, 64, padding=1) for _ in range(num_layers)])\n",
        "        self.blocks2 = nn.ModuleList([ResNetBlock(64, 128, padding=1, stride=2)] + [ResNetBlock(128, 128, padding=1) for _ in range(num_layers)])\n",
        "        self.blocks3 = nn.ModuleList([ResNetBlock(128, 256, padding=1, stride=2)] + [ResNetBlock(256, 256, padding=1) for _ in range(num_layers)])\n",
        "        self.blocks4 = nn.ModuleList([ResNetBlock(256, 512, padding=1, stride=2)] + [ResNetBlock(512, 512, padding=1) for _ in range(num_layers)])\n",
        "        self.blocks5 = nn.ModuleList([ResNetBlock(512, 1024, padding=1, stride=2)] + [ResNetBlock(1024, 1024, padding=1) for _ in range(num_layers)])\n",
        "        self.blocks = [self.blocks1, self.blocks2, self.blocks3, self.blocks4, self.blocks5]\n",
        "        \n",
        "    def forward(self, x):\n",
        "        out = self.maxpool(self.start(x, identity=False))\n",
        "        for blocks in self.blocks:\n",
        "            for block in blocks:\n",
        "                out = block(out)\n",
        "\n",
        "        return out"
      ],
      "metadata": {
        "id": "xEb8klGbCajn"
      },
      "execution_count": null,
      "outputs": []
    },
    {
      "cell_type": "code",
      "source": [
        "class BiLSTM(nn.Module):\n",
        "    def __init__(self, input_size, hidden_size, num_layers, dropout=0.1):\n",
        "        super().__init__()\n",
        "        self.lstm = nn.LSTM(\n",
        "            input_size, hidden_size, num_layers,\n",
        "            dropout=dropout, batch_first=True, bidirectional=True)\n",
        "\n",
        "    def forward(self, x):\n",
        "        out, _ = self.lstm(x)\n",
        "        return out"
      ],
      "metadata": {
        "id": "CZgwFMieCdcD"
      },
      "execution_count": null,
      "outputs": []
    },
    {
      "cell_type": "markdown",
      "source": [
        "5 блоков ResNet, 3 BiLSTM, линейный классификатор\n",
        "для того, чтобы модель могла идентифицировать более сложные\n",
        "зависимости в данных, поскольку набор данных позволяет ввести\n",
        "глубокую нейронную сеть"
      ],
      "metadata": {
        "id": "-8WJGcFzCgdW"
      }
    },
    {
      "cell_type": "code",
      "source": [
        "class CRNN(nn.Module):\n",
        "    def __init__(\n",
        "        self, number_class_symbols, time_feature_count=256, lstm_hidden=256,\n",
        "        lstm_len=3,\n",
        "    ):\n",
        "        super().__init__()\n",
        "        self.feature_extractor = CNN(dropout=0.15)\n",
        "        self.avg_pool = nn.AdaptiveAvgPool2d(\n",
        "            (time_feature_count, time_feature_count))\n",
        "        self.bilstm = BiLSTM(time_feature_count, lstm_hidden, lstm_len, dropout=0.15)\n",
        "        self.classifier = nn.Sequential(\n",
        "            nn.Linear(lstm_hidden * 2, time_feature_count),\n",
        "            nn.GELU(),\n",
        "            nn.Dropout(0.15),\n",
        "            nn.Linear(time_feature_count, number_class_symbols) # the model predicts the probability of characters from the alphabet\n",
        "        )\n",
        "\n",
        "    def forward(self, x):\n",
        "        x = self.feature_extractor(x)\n",
        "        b, c, h, w = x.size()\n",
        "        x = x.view(b, c * h, w)\n",
        "        x = self.avg_pool(x)\n",
        "        x = x.transpose(1, 2)\n",
        "        x = self.bilstm(x)\n",
        "        x = self.classifier(x)\n",
        "\n",
        "        x = nn.functional.log_softmax(x, dim=2).permute(1, 0, 2)\n",
        "        return x"
      ],
      "metadata": {
        "execution": {
          "iopub.status.busy": "2022-12-25T08:15:32.306138Z",
          "iopub.execute_input": "2022-12-25T08:15:32.306788Z",
          "iopub.status.idle": "2022-12-25T08:15:32.328253Z",
          "shell.execute_reply.started": "2022-12-25T08:15:32.306755Z",
          "shell.execute_reply": "2022-12-25T08:15:32.327395Z"
        },
        "trusted": true,
        "id": "LKDSdvgZ76Mw"
      },
      "execution_count": null,
      "outputs": []
    },
    {
      "cell_type": "markdown",
      "source": [
        "### Определим показатель точности для оценки валидационной выборки"
      ],
      "metadata": {
        "id": "voT9HWl976Mw"
      }
    },
    {
      "cell_type": "code",
      "source": [
        "class AverageMeter:\n",
        "    def __init__(self):\n",
        "        self.reset()\n",
        "\n",
        "    def reset(self):\n",
        "        self.avg = 0\n",
        "        self.sum = 0\n",
        "        self.count = 0\n",
        "\n",
        "    def update(self, val, n=1):\n",
        "        self.sum += val * n\n",
        "        self.count += n\n",
        "        self.avg = self.sum / self.count"
      ],
      "metadata": {
        "id": "MRJwGCc_Cwto"
      },
      "execution_count": null,
      "outputs": []
    },
    {
      "cell_type": "code",
      "source": [
        "def get_accuracy(y_true, y_pred):\n",
        "    scores = []\n",
        "    for true, pred in zip(y_true, y_pred):\n",
        "        scores.append(true == pred)\n",
        "    avg_score = np.mean(scores)\n",
        "    return avg_score"
      ],
      "metadata": {
        "execution": {
          "iopub.status.busy": "2022-12-25T08:15:32.331536Z",
          "iopub.execute_input": "2022-12-25T08:15:32.331803Z",
          "iopub.status.idle": "2022-12-25T08:15:32.340863Z",
          "shell.execute_reply.started": "2022-12-25T08:15:32.331780Z",
          "shell.execute_reply": "2022-12-25T08:15:32.339977Z"
        },
        "trusted": true,
        "id": "PYEZF4Ol76Mw"
      },
      "execution_count": null,
      "outputs": []
    },
    {
      "cell_type": "markdown",
      "source": [
        "## Обучение модели"
      ],
      "metadata": {
        "id": "4ujanL5W76Mw"
      }
    },
    {
      "cell_type": "markdown",
      "source": [
        "### Функции для сохранения модели"
      ],
      "metadata": {
        "id": "Bt2qj1yoC5k9"
      }
    },
    {
      "cell_type": "code",
      "source": [
        "def safe(obj, filename):\n",
        "    with open(filename, 'wb') as outp:\n",
        "        pkl.dump(obj, outp)"
      ],
      "metadata": {
        "id": "3h-y1DF4C2G0"
      },
      "execution_count": null,
      "outputs": []
    },
    {
      "cell_type": "code",
      "source": [
        "def read(filename):\n",
        "    with open(filename, 'rb') as inp:\n",
        "        return pkl.load(inp)"
      ],
      "metadata": {
        "execution": {
          "iopub.status.busy": "2022-12-25T08:15:32.344070Z",
          "iopub.execute_input": "2022-12-25T08:15:32.344805Z",
          "iopub.status.idle": "2022-12-25T08:15:32.353762Z",
          "shell.execute_reply.started": "2022-12-25T08:15:32.344778Z",
          "shell.execute_reply": "2022-12-25T08:15:32.352849Z"
        },
        "trusted": true,
        "id": "2rcFyZE076Mx"
      },
      "execution_count": null,
      "outputs": []
    },
    {
      "cell_type": "code",
      "source": [
        "def weights_init(m):\n",
        "    classname = m.__class__.__name__\n",
        "    if type(m) in [nn.Linear, nn.Conv2d, nn.Conv1d]:\n",
        "        torch.nn.init.xavier_uniform_(m.weight)\n",
        "        if m.bias is not None:\n",
        "            m.bias.data.fill_(0.01)\n",
        "    elif classname.find('BatchNorm') != -1:\n",
        "        m.weight.data.normal_(1.0, 0.02)\n",
        "        m.bias.data.fill_(0)"
      ],
      "metadata": {
        "execution": {
          "iopub.status.busy": "2022-12-25T08:15:32.356822Z",
          "iopub.execute_input": "2022-12-25T08:15:32.357164Z",
          "iopub.status.idle": "2022-12-25T08:15:32.364107Z",
          "shell.execute_reply.started": "2022-12-25T08:15:32.357138Z",
          "shell.execute_reply": "2022-12-25T08:15:32.362966Z"
        },
        "trusted": true,
        "id": "cAYCINUH76Mx"
      },
      "execution_count": null,
      "outputs": []
    },
    {
      "cell_type": "code",
      "source": [
        "def val_loop(data_loader, model, tokenizer, device):\n",
        "    acc_avg = AverageMeter()\n",
        "    for images, enc_texts, texts in data_loader:\n",
        "        batch_size = len(texts)\n",
        "        text_preds = predict(images, model, tokenizer, device)\n",
        "        acc_avg.update(get_accuracy(texts, text_preds), batch_size)\n",
        "    print(f'Validation, acc: {acc_avg.avg:.4f}')\n",
        "    return acc_avg.avg"
      ],
      "metadata": {
        "id": "t36xKVmMC_c9"
      },
      "execution_count": null,
      "outputs": []
    },
    {
      "cell_type": "code",
      "source": [
        "def predict(images, model, tokenizer, device):\n",
        "    model.eval()\n",
        "    images = images.to(device)\n",
        "    with torch.no_grad():\n",
        "        output = model(images)\n",
        "    pred = torch.argmax(output.detach().cpu(), -1).permute(1, 0).numpy()\n",
        "    text_preds = tokenizer.decode(pred)\n",
        "    return text_preds"
      ],
      "metadata": {
        "id": "6f4PZR1bDBvW"
      },
      "execution_count": null,
      "outputs": []
    },
    {
      "cell_type": "code",
      "source": [
        "def train_loop(data_loader, model, criterion, optimizer, epoch):\n",
        "    loss_avg = AverageMeter()\n",
        "    model.train()\n",
        "    for images, enc_texts, texts in data_loader:\n",
        "        model.zero_grad()\n",
        "        images = images.to(device)\n",
        "        batch_size = len(texts)\n",
        "        output = model(images)\n",
        "        output_lenghts = torch.full(\n",
        "            size=(output.size(1),),\n",
        "            fill_value=output.size(0),\n",
        "            dtype=torch.long\n",
        "        )\n",
        "        text_lens = torch.LongTensor([len(text) for text in texts]) # for CTC-loss\n",
        "        loss = criterion(output, enc_texts, output_lenghts, text_lens)\n",
        "        loss_avg.update(loss.item(), batch_size)\n",
        "        loss.backward()\n",
        "        torch.nn.utils.clip_grad_norm_(model.parameters(), 2)\n",
        "        optimizer.step()\n",
        "    for param_group in optimizer.param_groups:\n",
        "        lr = param_group['lr']\n",
        "    print(f'\\nEpoch {epoch}, Loss: {loss_avg.avg:.5f}, LR: {lr:.7f}')\n",
        "    return loss_avg.avg"
      ],
      "metadata": {
        "id": "2RD0w2P3DEOz"
      },
      "execution_count": null,
      "outputs": []
    },
    {
      "cell_type": "code",
      "source": [
        "accs = {}"
      ],
      "metadata": {
        "id": "J_zUzJVoDGPg"
      },
      "execution_count": null,
      "outputs": []
    },
    {
      "cell_type": "code",
      "source": [
        "def train(dataloader, epochs, trained_model=None, trained_model_epochs=0):\n",
        "    train_loader, val_loader = dataloader['train'], dataloader['valid']\n",
        "    if trained_model == None:\n",
        "        model = CRNN(number_class_symbols=tokenizer.get_num_chars())\n",
        "        model.apply(weights_init)\n",
        "        model.to(device)\n",
        "    else:\n",
        "        model = trained_model\n",
        "\n",
        "    criterion = torch.nn.CTCLoss(blank=0, reduction='mean', zero_infinity=True)\n",
        "    optimizer = torch.optim.AdamW(model.parameters(), lr=0.001,\n",
        "                                  weight_decay=0.01)\n",
        "    scheduler = torch.optim.lr_scheduler.ReduceLROnPlateau(\n",
        "        optimizer=optimizer, mode='max', factor=0.5, patience=5)\n",
        "    best_acc = -np.inf\n",
        "    acc_avg = val_loop(val_loader, model, tokenizer, device)\n",
        "    for epoch in range(epochs):\n",
        "        loss_avg = train_loop(train_loader, model, criterion, optimizer, epoch)\n",
        "        acc_avg = val_loop(val_loader, model, tokenizer, device)\n",
        "        accs[acc_avg] = epoch\n",
        "        scheduler.step(acc_avg)\n",
        "        if acc_avg > best_acc:\n",
        "            best_acc = acc_avg\n",
        "        if trained_model_epochs == 0:\n",
        "            safe(model, f'model_{epoch}')\n",
        "        else:\n",
        "            safe(model, f'model_{epoch + trained_model_epochs}')"
      ],
      "metadata": {
        "execution": {
          "iopub.status.busy": "2022-12-25T11:30:33.583543Z",
          "iopub.execute_input": "2022-12-25T11:30:33.583911Z",
          "iopub.status.idle": "2022-12-25T11:30:33.599802Z",
          "shell.execute_reply.started": "2022-12-25T11:30:33.583880Z",
          "shell.execute_reply": "2022-12-25T11:30:33.598830Z"
        },
        "trusted": true,
        "id": "oK2Zr-Ja76Mx"
      },
      "execution_count": null,
      "outputs": []
    },
    {
      "cell_type": "code",
      "source": [
        "train(dataloader, 8)"
      ],
      "metadata": {
        "execution": {
          "iopub.status.busy": "2022-12-25T08:15:32.386529Z",
          "iopub.execute_input": "2022-12-25T08:15:32.386785Z",
          "iopub.status.idle": "2022-12-25T11:01:52.941112Z",
          "shell.execute_reply.started": "2022-12-25T08:15:32.386749Z",
          "shell.execute_reply": "2022-12-25T11:01:52.939932Z"
        },
        "trusted": true,
        "id": "R1_F34X576Mx",
        "outputId": "e3f5a573-cb2b-423c-9ec7-d0d6b19614a0"
      },
      "execution_count": null,
      "outputs": [
        {
          "name": "stdout",
          "text": "Validation, acc: 0.0000\n\nEpoch 0, Loss: 1.68883, LR: 0.0010000\nValidation, acc: 0.3340\n\nEpoch 1, Loss: 0.23575, LR: 0.0010000\nValidation, acc: 0.6538\n\nEpoch 2, Loss: 0.10533, LR: 0.0010000\nValidation, acc: 0.9317\n\nEpoch 3, Loss: 0.05218, LR: 0.0010000\nValidation, acc: 0.9395\n\nEpoch 4, Loss: 0.04142, LR: 0.0010000\nValidation, acc: 0.9573\n\nEpoch 5, Loss: 0.03328, LR: 0.0010000\nValidation, acc: 0.9699\n\nEpoch 6, Loss: 0.02488, LR: 0.0010000\nValidation, acc: 0.9650\n\nEpoch 7, Loss: 0.02500, LR: 0.0010000\nValidation, acc: 0.9668\n",
          "output_type": "stream"
        }
      ]
    },
    {
      "cell_type": "markdown",
      "source": [
        "### Загрузим модель с наилучшими результатами проверки"
      ],
      "metadata": {
        "id": "sMpkFp6qDM2U"
      }
    },
    {
      "cell_type": "code",
      "source": [
        "model = read(f'./model_{accs[max(accs.keys())]}')"
      ],
      "metadata": {
        "execution": {
          "iopub.status.busy": "2022-12-25T11:01:52.942816Z",
          "iopub.execute_input": "2022-12-25T11:01:52.943172Z",
          "iopub.status.idle": "2022-12-25T11:01:53.977937Z",
          "shell.execute_reply.started": "2022-12-25T11:01:52.943136Z",
          "shell.execute_reply": "2022-12-25T11:01:53.976860Z"
        },
        "trusted": true,
        "id": "sYp7J5DV76My"
      },
      "execution_count": null,
      "outputs": []
    },
    {
      "cell_type": "markdown",
      "source": [
        "### Дообучим модель"
      ],
      "metadata": {
        "id": "DhGrXNU3DXCq"
      }
    },
    {
      "cell_type": "code",
      "source": [
        "train(dataloader, 10, model, 8) # more epochs"
      ],
      "metadata": {
        "execution": {
          "iopub.status.busy": "2022-12-25T11:30:57.723861Z",
          "iopub.execute_input": "2022-12-25T11:30:57.724265Z",
          "iopub.status.idle": "2022-12-25T14:40:24.237515Z",
          "shell.execute_reply.started": "2022-12-25T11:30:57.724231Z",
          "shell.execute_reply": "2022-12-25T14:40:24.236513Z"
        },
        "trusted": true,
        "id": "tHlQ7m6g76My",
        "outputId": "84f1b4a8-fc18-44d2-c45d-7c8b076ed365"
      },
      "execution_count": null,
      "outputs": [
        {
          "name": "stdout",
          "text": "Validation, acc: 0.9684\n\nEpoch 0, Loss: 0.02766, LR: 0.0010000\nValidation, acc: 0.9715\n\nEpoch 1, Loss: 0.02236, LR: 0.0010000\nValidation, acc: 0.9669\n\nEpoch 2, Loss: 0.01953, LR: 0.0010000\nValidation, acc: 0.9771\n\nEpoch 3, Loss: 0.01721, LR: 0.0010000\nValidation, acc: 0.9784\n\nEpoch 4, Loss: 0.01611, LR: 0.0010000\nValidation, acc: 0.9821\n\nEpoch 5, Loss: 0.01570, LR: 0.0010000\nValidation, acc: 0.9808\n\nEpoch 6, Loss: 0.01318, LR: 0.0010000\nValidation, acc: 0.9733\n\nEpoch 7, Loss: 0.01456, LR: 0.0010000\nValidation, acc: 0.9831\n\nEpoch 8, Loss: 0.01173, LR: 0.0010000\nValidation, acc: 0.9848\n\nEpoch 9, Loss: 0.01146, LR: 0.0010000\nValidation, acc: 0.9827\n",
          "output_type": "stream"
        }
      ]
    },
    {
      "cell_type": "code",
      "source": [
        "img, enc_label, label = dataset_full[2001]"
      ],
      "metadata": {
        "execution": {
          "iopub.status.busy": "2022-12-25T11:01:53.979626Z",
          "iopub.execute_input": "2022-12-25T11:01:53.980026Z",
          "iopub.status.idle": "2022-12-25T11:01:53.990325Z",
          "shell.execute_reply.started": "2022-12-25T11:01:53.979988Z",
          "shell.execute_reply": "2022-12-25T11:01:53.989334Z"
        },
        "trusted": true,
        "id": "GkiivY2676My"
      },
      "execution_count": null,
      "outputs": []
    },
    {
      "cell_type": "code",
      "source": [
        "model = read(f'./model_{16}') # take model with the best acc on validation"
      ],
      "metadata": {
        "execution": {
          "iopub.status.busy": "2022-12-25T14:45:26.643059Z",
          "iopub.execute_input": "2022-12-25T14:45:26.643449Z",
          "iopub.status.idle": "2022-12-25T14:45:27.608092Z",
          "shell.execute_reply.started": "2022-12-25T14:45:26.643415Z",
          "shell.execute_reply": "2022-12-25T14:45:27.607040Z"
        },
        "trusted": true,
        "id": "JXakFD6w76My"
      },
      "execution_count": null,
      "outputs": []
    },
    {
      "cell_type": "code",
      "source": [
        "pred = predict(img.unsqueeze(0).to(device), model, tokenizer, device) # sample pred\n",
        "pred"
      ],
      "metadata": {
        "execution": {
          "iopub.status.busy": "2022-12-25T14:45:28.493461Z",
          "iopub.execute_input": "2022-12-25T14:45:28.494152Z",
          "iopub.status.idle": "2022-12-25T14:45:28.526362Z",
          "shell.execute_reply.started": "2022-12-25T14:45:28.494116Z",
          "shell.execute_reply": "2022-12-25T14:45:28.525333Z"
        },
        "trusted": true,
        "id": "3dv5Cwdy76My",
        "outputId": "719a0e69-94e4-4673-bc42-6040f5c8a106"
      },
      "execution_count": null,
      "outputs": [
        {
          "execution_count": 44,
          "output_type": "execute_result",
          "data": {
            "text/plain": "['皖KLJ029']"
          },
          "metadata": {}
        }
      ]
    },
    {
      "cell_type": "code",
      "source": [
        "real_img = torchvision.transforms.ToPILImage()(img)\n",
        "real_img"
      ],
      "metadata": {
        "execution": {
          "iopub.status.busy": "2022-12-25T14:45:30.301964Z",
          "iopub.execute_input": "2022-12-25T14:45:30.302337Z",
          "iopub.status.idle": "2022-12-25T14:45:30.314105Z",
          "shell.execute_reply.started": "2022-12-25T14:45:30.302304Z",
          "shell.execute_reply": "2022-12-25T14:45:30.312843Z"
        },
        "trusted": true,
        "id": "8PSJDBxO76Mz",
        "outputId": "7541b1fe-d951-48a1-9226-18545ac60d77"
      },
      "execution_count": null,
      "outputs": [
        {
          "execution_count": 45,
          "output_type": "execute_result",
          "data": {
            "text/plain": "<PIL.Image.Image image mode=RGB size=128x32>",
            "image/png": "[encoded data removed]"
          },
          "metadata": {}
        }
      ]
    },
    {
      "cell_type": "markdown",
      "source": [
        "## Оценим результаты"
      ],
      "metadata": {
        "id": "lqvsbJUw76Mz"
      }
    },
    {
      "cell_type": "markdown",
      "source": [
        "CER = (S + D + I) / N = (S + D + I) / (S + D + C), где\n",
        "\n",
        "* S - количество замен, \n",
        "* D - количество удалений, \n",
        "* I - количество вставок, \n",
        "* C - количество правильных символов, \n",
        "* N - количество символов в ссылке (N=S+D+C)."
      ],
      "metadata": {
        "id": "J5U82Vky76Mz"
      }
    },
    {
      "cell_type": "code",
      "source": [
        "cer = load(\"cer\")"
      ],
      "metadata": {
        "execution": {
          "iopub.status.busy": "2022-12-25T14:45:34.269118Z",
          "iopub.execute_input": "2022-12-25T14:45:34.269890Z",
          "iopub.status.idle": "2022-12-25T14:45:35.237462Z",
          "shell.execute_reply.started": "2022-12-25T14:45:34.269846Z",
          "shell.execute_reply": "2022-12-25T14:45:35.236309Z"
        },
        "trusted": true,
        "id": "XtD-coPF76Mz"
      },
      "execution_count": null,
      "outputs": []
    },
    {
      "cell_type": "code",
      "source": [
        "references = dataset_test.text"
      ],
      "metadata": {
        "execution": {
          "iopub.status.busy": "2022-12-25T14:45:35.239799Z",
          "iopub.execute_input": "2022-12-25T14:45:35.240514Z",
          "iopub.status.idle": "2022-12-25T14:45:35.246167Z",
          "shell.execute_reply.started": "2022-12-25T14:45:35.240469Z",
          "shell.execute_reply": "2022-12-25T14:45:35.244856Z"
        },
        "trusted": true,
        "id": "CoeyAiVD76M4"
      },
      "execution_count": null,
      "outputs": []
    },
    {
      "cell_type": "code",
      "source": [
        "predictions = []\n",
        "for imgs, enc_text, text in dataloader_test:\n",
        "    predictions += predict(imgs, model, tokenizer, device)"
      ],
      "metadata": {
        "execution": {
          "iopub.status.busy": "2022-12-25T14:45:35.380476Z",
          "iopub.execute_input": "2022-12-25T14:45:35.380761Z",
          "iopub.status.idle": "2022-12-25T14:46:16.053991Z",
          "shell.execute_reply.started": "2022-12-25T14:45:35.380735Z",
          "shell.execute_reply": "2022-12-25T14:46:16.052980Z"
        },
        "trusted": true,
        "id": "Q0KcjDK476M4"
      },
      "execution_count": null,
      "outputs": []
    },
    {
      "cell_type": "code",
      "source": [
        "cer.compute(predictions=predictions, references=references)"
      ],
      "metadata": {
        "execution": {
          "iopub.status.busy": "2022-12-25T14:46:16.056624Z",
          "iopub.execute_input": "2022-12-25T14:46:16.056907Z",
          "iopub.status.idle": "2022-12-25T14:46:16.424818Z",
          "shell.execute_reply.started": "2022-12-25T14:46:16.056881Z",
          "shell.execute_reply": "2022-12-25T14:46:16.423951Z"
        },
        "trusted": true,
        "id": "hjENPfgR76M4",
        "outputId": "409ade72-e872-433f-cd62-5e9b9df785f3"
      },
      "execution_count": null,
      "outputs": [
        {
          "execution_count": 49,
          "output_type": "execute_result",
          "data": {
            "text/plain": "0.0058005800580058"
          },
          "metadata": {}
        }
      ]
    },
    {
      "cell_type": "markdown",
      "source": [
        "Выходные данные CER не всегда представляют собой число от 0 до 1, особенно при большом количестве вставок. \n",
        "\n",
        "Это значение часто связано с процентом символов, которые были неправильно предсказаны. Чем ниже значение, тем выше производительность системы ASR, при этом CER, равный 0, является идеальной оценкой."
      ],
      "metadata": {
        "id": "RzLh87WO76M5"
      }
    },
    {
      "cell_type": "code",
      "source": [
        "len(references) == len(predictions)"
      ],
      "metadata": {
        "execution": {
          "iopub.status.busy": "2022-12-25T14:46:19.995421Z",
          "iopub.execute_input": "2022-12-25T14:46:19.995796Z",
          "iopub.status.idle": "2022-12-25T14:46:20.003229Z",
          "shell.execute_reply.started": "2022-12-25T14:46:19.995767Z",
          "shell.execute_reply": "2022-12-25T14:46:20.002067Z"
        },
        "trusted": true,
        "id": "PV-wDhQf76M5",
        "outputId": "9da8f169-5e7a-4cb6-e123-2900756af98f"
      },
      "execution_count": null,
      "outputs": [
        {
          "execution_count": 50,
          "output_type": "execute_result",
          "data": {
            "text/plain": "True"
          },
          "metadata": {}
        }
      ]
    },
    {
      "cell_type": "code",
      "source": [
        "errors = {} # dict of errors {predictions: references}\n",
        "for pred, refer in zip(predictions, references):\n",
        "    if cer.compute(predictions=[pred], references=[refer]) != 0.0:\n",
        "        errors[pred] = refer"
      ],
      "metadata": {
        "execution": {
          "iopub.status.busy": "2022-12-25T14:46:22.144782Z",
          "iopub.execute_input": "2022-12-25T14:46:22.145151Z",
          "iopub.status.idle": "2022-12-25T14:46:51.453952Z",
          "shell.execute_reply.started": "2022-12-25T14:46:22.145120Z",
          "shell.execute_reply": "2022-12-25T14:46:51.453008Z"
        },
        "trusted": true,
        "id": "D0T4D1tO76M5"
      },
      "execution_count": null,
      "outputs": []
    },
    {
      "cell_type": "code",
      "source": [
        "errors"
      ],
      "metadata": {
        "execution": {
          "iopub.status.busy": "2022-12-25T14:46:51.455563Z",
          "iopub.execute_input": "2022-12-25T14:46:51.456189Z",
          "iopub.status.idle": "2022-12-25T14:46:51.469813Z",
          "shell.execute_reply.started": "2022-12-25T14:46:51.456149Z",
          "shell.execute_reply": "2022-12-25T14:46:51.468770Z"
        },
        "trusted": true,
        "id": "pijm6rFK76M5"
      },
      "execution_count": null,
      "outputs": []
    },
    {
      "cell_type": "markdown",
      "source": [
        "Как мы видим, модель больше всего ошибается в китайских иероглифах, я попытался исправить это с помощью дополнений, но все равно есть цифры, в которых модель неверна. Эти ошибки, скорее всего, возникают из-за плохого качества изображения, это также можно исправить, расширив выборку или обучив модель специально распознаванию китайских иероглифов, а затем объединив ее с основной моделью. Кроме того, модель иногда допускает ошибки в длине номера и в средних символах. Это можно исправить с помощью дополнений: например, закрасив какую-то часть определенного символа."
      ],
      "metadata": {
        "id": "JNdcpDtv76M6"
      }
    },
    {
      "cell_type": "code",
      "source": [
        "key_err_0 = list(errors.values())[0]"
      ],
      "metadata": {
        "execution": {
          "iopub.status.busy": "2022-12-25T14:48:03.582524Z",
          "iopub.execute_input": "2022-12-25T14:48:03.582893Z",
          "iopub.status.idle": "2022-12-25T14:48:03.587406Z",
          "shell.execute_reply.started": "2022-12-25T14:48:03.582863Z",
          "shell.execute_reply": "2022-12-25T14:48:03.586454Z"
        },
        "trusted": true,
        "id": "UZMNPtI876M6"
      },
      "execution_count": null,
      "outputs": []
    },
    {
      "cell_type": "code",
      "source": [
        "ind_err_0 = dataset_test.text.index(key_err_0)"
      ],
      "metadata": {
        "execution": {
          "iopub.status.busy": "2022-12-25T14:48:04.050629Z",
          "iopub.execute_input": "2022-12-25T14:48:04.051014Z",
          "iopub.status.idle": "2022-12-25T14:48:04.056397Z",
          "shell.execute_reply.started": "2022-12-25T14:48:04.050979Z",
          "shell.execute_reply": "2022-12-25T14:48:04.055317Z"
        },
        "trusted": true,
        "id": "z_21AbwF76M6"
      },
      "execution_count": null,
      "outputs": []
    },
    {
      "cell_type": "markdown",
      "source": [
        "Ошибки также могут быть вызваны повреждением чисел, что мы видим в этом примере"
      ],
      "metadata": {
        "id": "bij2ol4v76M6"
      }
    },
    {
      "cell_type": "code",
      "source": [
        "torchvision.transforms.ToPILImage()(dataset_test[ind_err_0][0])"
      ],
      "metadata": {
        "execution": {
          "iopub.status.busy": "2022-12-25T14:48:04.917812Z",
          "iopub.execute_input": "2022-12-25T14:48:04.918158Z",
          "iopub.status.idle": "2022-12-25T14:48:04.931467Z",
          "shell.execute_reply.started": "2022-12-25T14:48:04.918128Z",
          "shell.execute_reply": "2022-12-25T14:48:04.930451Z"
        },
        "trusted": true,
        "id": "0SnGhPnt76M6",
        "outputId": "01a392fe-e438-4208-daca-d7f18db0e1d1"
      },
      "execution_count": null,
      "outputs": [
        {
          "execution_count": 55,
          "output_type": "execute_result",
          "data": {
            "text/plain": "<PIL.Image.Image image mode=RGB size=128x32>",
            "image/png": "[encoded data removed]"
          },
          "metadata": {}
        }
      ]
    },
    {
      "cell_type": "code",
      "source": [
        "list(errors.keys())[0]"
      ],
      "metadata": {
        "execution": {
          "iopub.status.busy": "2022-12-25T14:48:06.764733Z",
          "iopub.execute_input": "2022-12-25T14:48:06.765108Z",
          "iopub.status.idle": "2022-12-25T14:48:06.772213Z",
          "shell.execute_reply.started": "2022-12-25T14:48:06.765076Z",
          "shell.execute_reply": "2022-12-25T14:48:06.771070Z"
        },
        "trusted": true,
        "id": "bo0X9PNv76M7",
        "outputId": "cb035e9a-88e2-4e36-cd25-3b6d6dc9593f"
      },
      "execution_count": null,
      "outputs": [
        {
          "execution_count": 56,
          "output_type": "execute_result",
          "data": {
            "text/plain": "'皖HL108D'"
          },
          "metadata": {}
        }
      ]
    },
    {
      "cell_type": "code",
      "source": [
        "key_err_0 "
      ],
      "metadata": {
        "execution": {
          "iopub.status.busy": "2022-12-25T14:48:09.595996Z",
          "iopub.execute_input": "2022-12-25T14:48:09.596379Z",
          "iopub.status.idle": "2022-12-25T14:48:09.603628Z",
          "shell.execute_reply.started": "2022-12-25T14:48:09.596344Z",
          "shell.execute_reply": "2022-12-25T14:48:09.602225Z"
        },
        "trusted": true,
        "id": "lz-a6BsT76M7",
        "outputId": "5acc54da-f4c6-4f6b-f1b6-316c4f6025df"
      },
      "execution_count": null,
      "outputs": [
        {
          "execution_count": 57,
          "output_type": "execute_result",
          "data": {
            "text/plain": "'皖NL108D'"
          },
          "metadata": {}
        }
      ]
    },
    {
      "cell_type": "code",
      "source": [
        "acc_avg = val_loop(dataloader_test, model, tokenizer, device)"
      ],
      "metadata": {
        "execution": {
          "iopub.status.busy": "2022-12-25T14:48:23.987080Z",
          "iopub.execute_input": "2022-12-25T14:48:23.987789Z",
          "iopub.status.idle": "2022-12-25T14:48:55.462725Z",
          "shell.execute_reply.started": "2022-12-25T14:48:23.987750Z",
          "shell.execute_reply": "2022-12-25T14:48:55.461704Z"
        },
        "trusted": true,
        "id": "HdwMlh0U76M7",
        "outputId": "b4180ea4-104b-4349-cce5-a11d27571568"
      },
      "execution_count": null,
      "outputs": [
        {
          "name": "stdout",
          "text": "Validation, acc: 0.9667\n",
          "output_type": "stream"
        }
      ]
    },
    {
      "cell_type": "code",
      "source": [
        "acc_avg"
      ],
      "metadata": {
        "execution": {
          "iopub.status.busy": "2022-12-25T14:48:55.465677Z",
          "iopub.execute_input": "2022-12-25T14:48:55.466013Z",
          "iopub.status.idle": "2022-12-25T14:48:55.472764Z",
          "shell.execute_reply.started": "2022-12-25T14:48:55.465984Z",
          "shell.execute_reply": "2022-12-25T14:48:55.471573Z"
        },
        "trusted": true,
        "id": "v9D-geHi76M7",
        "outputId": "bd3edd31-c084-481d-a45b-63e2b0e447a5"
      },
      "execution_count": null,
      "outputs": [
        {
          "execution_count": 59,
          "output_type": "execute_result",
          "data": {
            "text/plain": "0.9666966696669667"
          },
          "metadata": {}
        }
      ]
    },
    {
      "cell_type": "markdown",
      "source": [
        "## Итоговые результаты\n",
        "\n",
        "Accuracy on test: 0.9666966696669667\n",
        "\n",
        "CER on test: 0.0058005800580058"
      ],
      "metadata": {
        "id": "lJr_yzuz76M7"
      }
    }
  ]
}