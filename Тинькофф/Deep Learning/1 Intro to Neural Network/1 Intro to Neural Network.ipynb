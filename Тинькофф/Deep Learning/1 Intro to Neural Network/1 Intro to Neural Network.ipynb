{
  "nbformat": 4,
  "nbformat_minor": 0,
  "metadata": {
    "colab": {
      "private_outputs": true,
      "provenance": []
    },
    "kernelspec": {
      "name": "python3",
      "display_name": "Python 3"
    },
    "language_info": {
      "name": "python"
    },
    "accelerator": "GPU",
    "gpuClass": "standard"
  },
  "cells": [
    {
      "cell_type": "markdown",
      "source": [
        "# DL 1, Pytorch\n",
        "\n",
        "Привет! На этом занятии мы познакомимся с PyTorch, с работой gpu и получением градиентов. В конце попробуем написать нейросеть для распознавания чисел.\n",
        "\n",
        "**Для этого ноутбука надо включить GPU runtime**."
      ],
      "metadata": {
        "id": "dvJF3LdX14D8"
      }
    },
    {
      "cell_type": "code",
      "execution_count": null,
      "metadata": {
        "id": "XqljkY_O1zpw"
      },
      "outputs": [],
      "source": [
        "import torch"
      ]
    },
    {
      "cell_type": "code",
      "source": [
        "torch.sqrt()"
      ],
      "metadata": {
        "id": "Olvn23cbfr2K"
      },
      "execution_count": null,
      "outputs": []
    },
    {
      "cell_type": "code",
      "source": [
        "torch.*Tensor?"
      ],
      "metadata": {
        "id": "-Jvt70gEfuWP"
      },
      "execution_count": null,
      "outputs": []
    },
    {
      "cell_type": "markdown",
      "source": [
        "## Simple Pytorch\n",
        "\n",
        "Изучим простые методы pytorch. Они сильно напоминают numpy, и часто можно использовать имя метода из numpy в pytorch."
      ],
      "metadata": {
        "id": "1fYFEF-YdsDk"
      }
    },
    {
      "cell_type": "code",
      "source": [
        "t = torch.Tensor(2, 3, 4)"
      ],
      "metadata": {
        "id": "3pdULuNOdvf3"
      },
      "execution_count": null,
      "outputs": []
    },
    {
      "cell_type": "code",
      "source": [
        "t"
      ],
      "metadata": {
        "id": "hFro0BDJfy02"
      },
      "execution_count": null,
      "outputs": []
    },
    {
      "cell_type": "code",
      "source": [
        "t.shape"
      ],
      "metadata": {
        "id": "XBMn76hUfzVW"
      },
      "execution_count": null,
      "outputs": []
    },
    {
      "cell_type": "code",
      "source": [
        "t.random_(10)\n",
        "t"
      ],
      "metadata": {
        "id": "-dY_xn5rf0JG"
      },
      "execution_count": null,
      "outputs": []
    },
    {
      "cell_type": "code",
      "source": [
        "t = torch.zeros_like(t)\n",
        "t"
      ],
      "metadata": {
        "id": "9Ma00mgQf3Co"
      },
      "execution_count": null,
      "outputs": []
    },
    {
      "cell_type": "code",
      "source": [
        "r = torch.Tensor(t)\n",
        "r.resize_(3, 8)\n",
        "r"
      ],
      "metadata": {
        "id": "H5HvhP7ef5d9"
      },
      "execution_count": null,
      "outputs": []
    },
    {
      "cell_type": "code",
      "source": [
        "a, b = torch.rand(1, 4), torch.rand(1, 4)\n",
        "a + b"
      ],
      "metadata": {
        "id": "_hepEf6yf_E-"
      },
      "execution_count": null,
      "outputs": []
    },
    {
      "cell_type": "code",
      "source": [
        "a * b"
      ],
      "metadata": {
        "id": "rHjZsU0Jf-_I"
      },
      "execution_count": null,
      "outputs": []
    },
    {
      "cell_type": "code",
      "source": [
        "a @ b.T"
      ],
      "metadata": {
        "id": "0D4AvhhxgIxM"
      },
      "execution_count": null,
      "outputs": []
    },
    {
      "cell_type": "code",
      "source": [
        "a, b = torch.rand(3, 4), torch.rand(4, 5)\n",
        "a @ b"
      ],
      "metadata": {
        "id": "Q6dUncd_gFJZ"
      },
      "execution_count": null,
      "outputs": []
    },
    {
      "cell_type": "code",
      "source": [
        "a.norm(), b.sum()"
      ],
      "metadata": {
        "id": "lrT82PNbgNOR"
      },
      "execution_count": null,
      "outputs": []
    },
    {
      "cell_type": "code",
      "source": [
        "\n",
        "a / 10"
      ],
      "metadata": {
        "id": "OksfVxSEgNLJ"
      },
      "execution_count": null,
      "outputs": []
    },
    {
      "cell_type": "code",
      "source": [
        "a.transpose(0, 1)"
      ],
      "metadata": {
        "id": "WfKZDjg7gQK0"
      },
      "execution_count": null,
      "outputs": []
    },
    {
      "cell_type": "code",
      "source": [
        "t = torch.arange(10)\n",
        "t.dtype"
      ],
      "metadata": {
        "id": "A84GkrjhgTon"
      },
      "execution_count": null,
      "outputs": []
    },
    {
      "cell_type": "code",
      "source": [
        "t = t.to(torch.float32)\n",
        "t, t.dtype"
      ],
      "metadata": {
        "id": "n7X8sbPngFGy"
      },
      "execution_count": null,
      "outputs": []
    },
    {
      "cell_type": "markdown",
      "source": [
        "## Autograd & GPU\n",
        "\n",
        "Теперь поработаем с GPU и получением градиентов."
      ],
      "metadata": {
        "id": "ukSy1lzRdv0n"
      }
    },
    {
      "cell_type": "code",
      "source": [
        "a, b = torch.rand(3, 4), torch.rand(4, 5)\n",
        "a"
      ],
      "metadata": {
        "id": "kk68iAR4goGI"
      },
      "execution_count": null,
      "outputs": []
    },
    {
      "cell_type": "code",
      "source": [
        "a = a.to(\"cuda\")\n",
        "b = b.to('cuda')"
      ],
      "metadata": {
        "id": "-F8BODC7goCt"
      },
      "execution_count": null,
      "outputs": []
    },
    {
      "cell_type": "code",
      "source": [
        "!nvidia-smi"
      ],
      "metadata": {
        "id": "YI83FbVmskbn"
      },
      "execution_count": null,
      "outputs": []
    },
    {
      "cell_type": "code",
      "source": [
        "a @ b"
      ],
      "metadata": {
        "id": "uFmzJK65gxT3"
      },
      "execution_count": null,
      "outputs": []
    },
    {
      "cell_type": "code",
      "source": [
        "b = b.to(\"cuda\")"
      ],
      "metadata": {
        "id": "YHC6MhPFgxDI"
      },
      "execution_count": null,
      "outputs": []
    },
    {
      "cell_type": "code",
      "source": [
        "a @ b"
      ],
      "metadata": {
        "id": "H-aQgbxJgw3c"
      },
      "execution_count": null,
      "outputs": []
    },
    {
      "cell_type": "code",
      "source": [
        "a.requires_grad_(True)\n",
        "\n",
        "s = (a @ b).sum()\n",
        "s"
      ],
      "metadata": {
        "id": "GgnHYuYAgn_f"
      },
      "execution_count": null,
      "outputs": []
    },
    {
      "cell_type": "code",
      "source": [
        "s.backward()\n",
        "s"
      ],
      "metadata": {
        "id": "nEvvY76Dg7oB"
      },
      "execution_count": null,
      "outputs": []
    },
    {
      "cell_type": "code",
      "source": [
        "a, b"
      ],
      "metadata": {
        "id": "gIxgBLfog7lh"
      },
      "execution_count": null,
      "outputs": []
    },
    {
      "cell_type": "code",
      "source": [
        "a.grad, b.grad"
      ],
      "metadata": {
        "id": "FxAUa8ELlNy7"
      },
      "execution_count": null,
      "outputs": []
    },
    {
      "cell_type": "code",
      "source": [
        "a, b = torch.rand(3, 4, requires_grad=True), torch.rand(4, 5, requires_grad=True)\n",
        "s = (a @ b).sum()\n",
        "s.backward()"
      ],
      "metadata": {
        "id": "vKDYIaO6g7ew"
      },
      "execution_count": null,
      "outputs": []
    },
    {
      "cell_type": "code",
      "source": [
        "a, b"
      ],
      "metadata": {
        "id": "8Dc0UA6JdyoI"
      },
      "execution_count": null,
      "outputs": []
    },
    {
      "cell_type": "markdown",
      "source": [
        "## Neural Network\n",
        "\n",
        "\n",
        "Давайте определим простую ML-задачу и попробуем решить её с помощью нейросети."
      ],
      "metadata": {
        "id": "uEbK0V4gdzIQ"
      }
    },
    {
      "cell_type": "code",
      "source": [
        "X = torch.rand(1000, 10)\n",
        "w_true = torch.rand(10, 1) * 10\n",
        "b_true = torch.tensor(3.1415926)\n",
        "eps = torch.rand(1000) * 1e-3\n",
        "y = X @ w_true + b_true + eps"
      ],
      "metadata": {
        "id": "6KVruc6ld1RQ"
      },
      "execution_count": null,
      "outputs": []
    },
    {
      "cell_type": "code",
      "source": [
        "w = torch.rand(10, 1, requires_grad=True)\n",
        "b = torch.rand(1, requires_grad=True)"
      ],
      "metadata": {
        "id": "ERwv9hN2hM72"
      },
      "execution_count": null,
      "outputs": []
    },
    {
      "cell_type": "code",
      "source": [
        "y_hat = X @ w + b\n",
        "L = ((y_hat - y) ** 2).mean()\n",
        "L"
      ],
      "metadata": {
        "id": "P2Mbu5nFhM5w"
      },
      "execution_count": null,
      "outputs": []
    },
    {
      "cell_type": "code",
      "source": [
        "L.backward()"
      ],
      "metadata": {
        "id": "7apnG5F6hM3I"
      },
      "execution_count": null,
      "outputs": []
    },
    {
      "cell_type": "code",
      "source": [
        "lr = 1e-2\n",
        "\n",
        "with torch.no_grad():\n",
        "    w -= w.grad * lr\n",
        "    b -= b.grad * lr"
      ],
      "metadata": {
        "id": "wWC4Kzk5iPdn"
      },
      "execution_count": null,
      "outputs": []
    },
    {
      "cell_type": "code",
      "source": [
        "for idx in range(5000):\n",
        "    w.grad = None\n",
        "    b.grad = None\n",
        "    y_hat = X @ w + b\n",
        "    L = ((y_hat - y) ** 2).mean()\n",
        "    L.backward()\n",
        "    with torch.no_grad():\n",
        "        w -= w.grad * lr\n",
        "        b -= b.grad * lr\n",
        "    if idx % 100 == 0:\n",
        "        print(f\"Current Loss: {L}\")"
      ],
      "metadata": {
        "id": "DxQG7BRriPbi"
      },
      "execution_count": null,
      "outputs": []
    },
    {
      "cell_type": "code",
      "source": [
        "torch.norm(w_true - w), torch.norm(b_true - b)"
      ],
      "metadata": {
        "id": "SVrywqFiiPZK"
      },
      "execution_count": null,
      "outputs": []
    },
    {
      "cell_type": "code",
      "source": [
        "w_true.tolist(), w.tolist()"
      ],
      "metadata": {
        "id": "sk2QyPYnl-pr"
      },
      "execution_count": null,
      "outputs": []
    },
    {
      "cell_type": "code",
      "source": [
        "b_true, b"
      ],
      "metadata": {
        "id": "GnpHhM0Dl_xn"
      },
      "execution_count": null,
      "outputs": []
    },
    {
      "cell_type": "markdown",
      "source": [
        "Воспользуемся высокоуровневым способ описывать нейросети в PyTorch:"
      ],
      "metadata": {
        "id": "TEbSsU14HRV0"
      }
    },
    {
      "cell_type": "code",
      "source": [
        "class Linear(torch.nn.Module):\n",
        "    def __init__(self, in_shape, out_shape):\n",
        "        super().__init__()\n",
        "\n",
        "        self.layer = torch.nn.Linear(in_shape, out_shape)\n",
        "    \n",
        "    def forward(self, x):\n",
        "        return self.layer(x)"
      ],
      "metadata": {
        "id": "JrkdDNsUiPWx"
      },
      "execution_count": null,
      "outputs": []
    },
    {
      "cell_type": "code",
      "source": [
        "model = Linear(10, 1)\n",
        "optimizer = torch.optim.SGD(model.parameters(), lr)\n",
        "criterion = torch.nn.MSELoss()"
      ],
      "metadata": {
        "id": "Lc1qIzrUjC9l"
      },
      "execution_count": null,
      "outputs": []
    },
    {
      "cell_type": "code",
      "source": [
        "model = model.to(\"cuda\")"
      ],
      "metadata": {
        "id": "9G1VRqJXkAf-"
      },
      "execution_count": null,
      "outputs": []
    },
    {
      "cell_type": "code",
      "source": [
        "for idx in range(5000):\n",
        "    optimizer.zero_grad()\n",
        "    y_hat = model(X.to(\"cuda\")) # optimize!\n",
        "    L = criterion(y_hat, y.to(\"cuda\"))\n",
        "    L.backward()\n",
        "    optimizer.step()\n",
        "    if idx % 100 == 0:\n",
        "        print(f\"Current Loss: {L}\")"
      ],
      "metadata": {
        "id": "_XKAI45cjC7B"
      },
      "execution_count": null,
      "outputs": []
    },
    {
      "cell_type": "code",
      "source": [
        "list(model.parameters())"
      ],
      "metadata": {
        "id": "Pf8ntqH4jC4d"
      },
      "execution_count": null,
      "outputs": []
    },
    {
      "cell_type": "code",
      "source": [
        "# compare matrices"
      ],
      "metadata": {
        "id": "39ttYnjjhM00"
      },
      "execution_count": null,
      "outputs": []
    },
    {
      "cell_type": "markdown",
      "source": [
        "## MNIST\n",
        "\n",
        "Перейдем к другой задаче -- распознавании чисел. Загрузим датасет MNIST и напишем нейросеть, которая отличает числа меньше 5 и больше или равно 5."
      ],
      "metadata": {
        "id": "C0-CzveSjk2G"
      }
    },
    {
      "cell_type": "code",
      "source": [
        "from keras.datasets import mnist\n",
        "\n",
        "\n",
        "(train_X, train_y), (test_X, test_y) = mnist.load_data()"
      ],
      "metadata": {
        "id": "sOCVUO2hkY94"
      },
      "execution_count": null,
      "outputs": []
    },
    {
      "cell_type": "code",
      "source": [
        "print(\"\\n\".join(\" \".join(\"X\" if ch > 128 else \".\" for ch in row) for row in train_X[1].tolist()))"
      ],
      "metadata": {
        "id": "myaPnuH2kY68"
      },
      "execution_count": null,
      "outputs": []
    },
    {
      "cell_type": "markdown",
      "source": [
        "Создадим датасет для нашей задачи:"
      ],
      "metadata": {
        "id": "yneP_GcTHqqu"
      }
    },
    {
      "cell_type": "code",
      "source": [
        "X_train_tensor = torch.as_tensor(train_X).to('cuda') / 255\n",
        "X_test_tensor = torch.as_tensor(test_X).to('cuda') / 255\n",
        "\n",
        "y_train_tensor = torch.as_tensor(train_y).to('cuda') / 255\n",
        "y_test_tensor = torch.as_tensor(test_y).to('cuda') / 255"
      ],
      "metadata": {
        "id": "NHUU84lpkY4e"
      },
      "execution_count": null,
      "outputs": []
    },
    {
      "cell_type": "markdown",
      "source": [
        "Опишем простую двухслойную сеть:"
      ],
      "metadata": {
        "id": "K8vA1CxvHtMH"
      }
    },
    {
      "cell_type": "code",
      "source": [
        "class NNClassifier(torch.nn.Module):\n",
        "    def __init__(self):\n",
        "      super().__init__()\n",
        "\n",
        "      self.layer_0 = torch.nn.Linear(28*28, 100)\n",
        "      self.act_0 = torch.nn.Sigmoid()\n",
        "      self.layer_1 = torch.nn.Linear(100, 1)\n",
        "      self.act_1 = torch.nn.Sigmoid()\n",
        "    \n",
        "    def forward(self, x):\n",
        "      return self.act_1(self.layer_1(self.act_0(self.layer_0(x))))"
      ],
      "metadata": {
        "id": "2DLUdh6YoCyj"
      },
      "execution_count": null,
      "outputs": []
    },
    {
      "cell_type": "markdown",
      "source": [
        "Напишем для неё Loss-функцию\n",
        "\n",
        "(подсказка: вспомните logistic regression)"
      ],
      "metadata": {
        "id": "b3-9gDu-HwdK"
      }
    },
    {
      "cell_type": "code",
      "source": [
        "class NLLLoss(torch.nn.Module):\n",
        "    def __init__(self):\n",
        "      super().__init__()\n",
        "\n",
        "    def forward(self, y_pred, y_true):\n",
        "      return - (y_true * torch.log(y_pred) + (1 - y_true) * torch.log(1 - y_pred)).mean()"
      ],
      "metadata": {
        "id": "b2OFPYZdoCvd"
      },
      "execution_count": null,
      "outputs": []
    },
    {
      "cell_type": "markdown",
      "source": [
        "Повторим цикл обучения для новой сети!"
      ],
      "metadata": {
        "id": "I8EKfTIEH8Yh"
      }
    },
    {
      "cell_type": "code",
      "source": [
        "model = NNClassifier()\n",
        "criterion = NLLLoss()\n",
        "optimizer = torch.optim.SGD(model.parameters(), lr=1e-3)\n",
        "\n",
        "model.to('cuda')"
      ],
      "metadata": {
        "id": "VCBQv2CyH_8G"
      },
      "execution_count": null,
      "outputs": []
    },
    {
      "cell_type": "code",
      "source": [
        "X_train_tensor.shape"
      ],
      "metadata": {
        "id": "KvtyTFGL7DWh"
      },
      "execution_count": null,
      "outputs": []
    },
    {
      "cell_type": "code",
      "source": [
        "LIMIT = 30000\n",
        "\n",
        "for idx in range(500):\n",
        "    optimizer.zero_grad()\n",
        "    y_hat = model.forward(X_train_tensor[:LIMIT].reshape(LIMIT, -1))\n",
        "    L = criterion(y_hat, y_train_tensor[:LIMIT])\n",
        "    L.backward()\n",
        "    optimizer.step()\n",
        "    if idx % 100 == 0:\n",
        "        print(f\"Current Loss: {L}\")"
      ],
      "metadata": {
        "id": "dHB3PW6okYwr"
      },
      "execution_count": null,
      "outputs": []
    },
    {
      "cell_type": "code",
      "source": [],
      "metadata": {
        "id": "5_xbLisM6Be8"
      },
      "execution_count": null,
      "outputs": []
    }
  ]
}