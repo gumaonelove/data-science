{
 "cells": [
  {
   "cell_type": "markdown",
   "metadata": {
    "cellId": "pbfs6edc3zhrjomwi7n63",
    "id": "AyJUKAuUAh_K"
   },
   "source": [
    "# Attention\n",
    "\n",
    "Привет! Это семинарский ноутбук для курса DL Basic для Тинькофф. В этом ноутбуке мы реализуем внимание, которое мы обсуждали на лекции. Внимание - это один из самых популярных подходов в NLP. В этом ноутбуке мы реализуем его для задачи классификации текстов.\n",
    "\n",
    "Для начала установим все нужные библиотеки. Если вы используете Google Colab, то просто запустите следующую ячейку. Если вы используете свой компьютер, то установите все библиотеки, перечисленные в следующей ячейке."
   ]
  },
  {
   "cell_type": "code",
   "execution_count": 85,
   "metadata": {
    "cellId": "qpsw1vacq8ixo9tepuld",
    "id": "IHy5zyV0q0Nq"
   },
   "outputs": [],
   "source": [
    "#!g1.1\n",
    "import subprocess\n",
    "import sys"
   ]
  },
  {
   "cell_type": "code",
   "execution_count": 86,
   "metadata": {
    "cellId": "ok2le1ytur9tyfkdfa469q",
    "id": "p0zUcV9FAh_M"
   },
   "outputs": [],
   "source": [
    "#!g1.1\n",
    "IN_COLAB = 'google.colab' in sys.modules\n",
    "\n",
    "if IN_COLAB:\n",
    "    subprocess.run(\"pip install datasets nltk gensim transformers einops evaluate\", shell=True)\n",
    "    subprocess.run(\"python -m nltk.downloader punkt wordnet\", shell=True)"
   ]
  },
  {
   "cell_type": "code",
   "execution_count": 87,
   "metadata": {
    "cellId": "32v6qqdospk192une6cnhk",
    "id": "s-WtsXOCvKwA"
   },
   "outputs": [],
   "source": [
    "#!g1.1\n",
    "import torch\n",
    "import nltk\n",
    "import einops\n",
    "import evaluate\n",
    "import math\n",
    "import copy\n",
    "import time\n",
    "\n",
    "from datasets import load_dataset\n",
    "from tqdm.notebook import tqdm, tnrange"
   ]
  },
  {
   "cell_type": "code",
   "execution_count": 88,
   "metadata": {
    "cellId": "d7pz0y55nqpmumqgh1oc",
    "id": "Q-ykGQvm7xww"
   },
   "outputs": [],
   "source": [
    "#!g1.1\n",
    "device = torch.device(\"cuda\" if torch.cuda.is_available() else \"cpu\")"
   ]
  },
  {
   "cell_type": "markdown",
   "metadata": {
    "cellId": "cmjr5zg12m44c57mo7lp7",
    "execution_id": "7bff08cb-68b5-4bc6-b258-e4ea559e10a0",
    "id": "PD1iKbyJAh_P"
   },
   "source": [
    "## SST-2\n",
    "\n",
    "Вспомним задачу с предыдущего занятия - SST-2. Это задача классификации текстов на два класса: положительный и отрицательный. Для этого мы будем использовать датасет SST-2. Для начала загрузим его, сделаем токенизацию и превращение в эмбеддинги."
   ]
  },
  {
   "cell_type": "code",
   "execution_count": 89,
   "metadata": {
    "cellId": "5g34av0u7daux8zg2dlhp",
    "colab": {
     "base_uri": "https://localhost:8080/",
     "height": 344,
     "referenced_widgets": [
      "1fc01035d6ba46bba5336f1b864439af",
      "d1f46224562a409bbfdfd8b1204d9d66",
      "5b0a6b3ecc44472ea98d081d1e664d63",
      "16144e651571456192ee4459ab90dc65",
      "071e79cdeba04621ba9b70ed854fafb8",
      "7ee565c0f49d415384e244630af9bdb2",
      "0e63d6cc34b04c8bbfec67687d52951a",
      "480d4587216d4af4a969fb5935e75f47",
      "d53b54e38bb04c1e954a3f85e870dc8d",
      "def5c8051d34443ba51ba03f61053c3c",
      "c2502641e182446b9d10ad9b7fdd273c"
     ]
    },
    "collapsed": true,
    "id": "yqv7KJROAh_P",
    "jupyter": {
     "outputs_hidden": true
    },
    "outputId": "0bf55650-2e26-410c-940a-4997ae1e67ac"
   },
   "outputs": [
    {
     "data": {
      "application/vnd.jupyter.widget-view+json": {
       "model_id": "f88fd009bd9f43dd9f9d3e0f7bdc9833",
       "version_major": 2,
       "version_minor": 0
      },
      "text/plain": [
       "Downloading builder script:   0%|          | 0.00/3.77k [00:00<?, ?B/s]"
      ]
     },
     "metadata": {},
     "output_type": "display_data"
    },
    {
     "data": {
      "application/vnd.jupyter.widget-view+json": {
       "model_id": "f6670bce8ba64547a027f597e9f586b7",
       "version_major": 2,
       "version_minor": 0
      },
      "text/plain": [
       "Downloading metadata:   0%|          | 0.00/1.85k [00:00<?, ?B/s]"
      ]
     },
     "metadata": {},
     "output_type": "display_data"
    },
    {
     "data": {
      "application/vnd.jupyter.widget-view+json": {
       "model_id": "eeab8b6fe5d84d248c129851619aacc2",
       "version_major": 2,
       "version_minor": 0
      },
      "text/plain": [
       "Downloading readme:   0%|          | 0.00/5.10k [00:00<?, ?B/s]"
      ]
     },
     "metadata": {},
     "output_type": "display_data"
    },
    {
     "name": "stdout",
     "output_type": "stream",
     "text": [
      "Downloading and preparing dataset sst2/default to /tmp/xdg_cache/huggingface/datasets/sst2/default/2.0.0/9896208a8d85db057ac50c72282bcb8fe755accc671a57dd8059d4e130961ed5...\n"
     ]
    },
    {
     "data": {
      "application/vnd.jupyter.widget-view+json": {
       "model_id": "a2d10d4ad7814957851683a93cae2c44",
       "version_major": 2,
       "version_minor": 0
      },
      "text/plain": [
       "Downloading data:   0%|          | 0.00/7.44M [00:00<?, ?B/s]"
      ]
     },
     "metadata": {},
     "output_type": "display_data"
    },
    {
     "data": {
      "application/vnd.jupyter.widget-view+json": {
       "model_id": "0ae09f4ac12441b690fa2e7883bb14c8",
       "version_major": 2,
       "version_minor": 0
      },
      "text/plain": [
       "Generating train split:   0%|          | 0/67349 [00:00<?, ? examples/s]"
      ]
     },
     "metadata": {},
     "output_type": "display_data"
    },
    {
     "name": "stderr",
     "output_type": "stream",
     "text": [
      "/home/jupyter/.local/lib/python3.8/site-packages/datasets/arrow_writer.py:551: UserWarning: pyarrow requires pandas 1.0.0 or above, pandas 0.25.3 is installed. Therefore, pandas-specific integration is not used.\n",
      "  arrays.append(pa.array(typed_sequence))\n"
     ]
    },
    {
     "data": {
      "application/vnd.jupyter.widget-view+json": {
       "model_id": "b56b69565640457d90ef957db88b86c8",
       "version_major": 2,
       "version_minor": 0
      },
      "text/plain": [
       "Generating validation split:   0%|          | 0/872 [00:00<?, ? examples/s]"
      ]
     },
     "metadata": {},
     "output_type": "display_data"
    },
    {
     "data": {
      "application/vnd.jupyter.widget-view+json": {
       "model_id": "e6d88dbf58fc4186bac40185e45b88c8",
       "version_major": 2,
       "version_minor": 0
      },
      "text/plain": [
       "Generating test split:   0%|          | 0/1821 [00:00<?, ? examples/s]"
      ]
     },
     "metadata": {},
     "output_type": "display_data"
    },
    {
     "name": "stdout",
     "output_type": "stream",
     "text": [
      "Dataset sst2 downloaded and prepared to /tmp/xdg_cache/huggingface/datasets/sst2/default/2.0.0/9896208a8d85db057ac50c72282bcb8fe755accc671a57dd8059d4e130961ed5. Subsequent calls will reuse this data.\n"
     ]
    },
    {
     "data": {
      "application/vnd.jupyter.widget-view+json": {
       "model_id": "75ee1c42f14f4e339e3bcb82c4b81364",
       "version_major": 2,
       "version_minor": 0
      },
      "text/plain": [
       "  0%|          | 0/3 [00:00<?, ?it/s]"
      ]
     },
     "metadata": {},
     "output_type": "display_data"
    },
    {
     "data": {
      "text/plain": [
       "DatasetDict({\n",
       "    train: Dataset({\n",
       "        features: ['idx', 'sentence', 'label'],\n",
       "        num_rows: 67349\n",
       "    })\n",
       "    validation: Dataset({\n",
       "        features: ['idx', 'sentence', 'label'],\n",
       "        num_rows: 872\n",
       "    })\n",
       "    test: Dataset({\n",
       "        features: ['idx', 'sentence', 'label'],\n",
       "        num_rows: 1821\n",
       "    })\n",
       "})"
      ]
     },
     "execution_count": 89,
     "metadata": {},
     "output_type": "execute_result"
    }
   ],
   "source": [
    "#!g1.1\n",
    "sst2_dataset = load_dataset(\"sst2\")\n",
    "sst2_dataset"
   ]
  },
  {
   "cell_type": "code",
   "execution_count": 90,
   "metadata": {
    "cellId": "5dyiaah3qg6ka7wv9pq2bo",
    "id": "wuGXKhEEZQtJ"
   },
   "outputs": [],
   "source": [
    "#!g1.1\n",
    "tokenizer = nltk.WordPunctTokenizer()\n",
    "lemmatizer = nltk.WordNetLemmatizer()"
   ]
  },
  {
   "cell_type": "code",
   "execution_count": 91,
   "metadata": {
    "cellId": "p7y5s19vpxdd5abbc1dgol",
    "colab": {
     "base_uri": "https://localhost:8080/"
    },
    "collapsed": true,
    "id": "6C_po1doZ1SA",
    "jupyter": {
     "outputs_hidden": true
    },
    "outputId": "d6f3ea15-6598-47e5-9352-ba5df30c734e"
   },
   "outputs": [
    {
     "name": "stderr",
     "output_type": "stream",
     "text": [
      "[nltk_data] Downloading package wordnet to /home/jupyter/nltk_data...\n",
      "[nltk_data]   Package wordnet is already up-to-date!\n"
     ]
    },
    {
     "data": {
      "text/plain": [
       "True"
      ]
     },
     "execution_count": 91,
     "metadata": {},
     "output_type": "execute_result"
    }
   ],
   "source": [
    "#!g1.1\n",
    "nltk.download('wordnet')"
   ]
  },
  {
   "cell_type": "code",
   "execution_count": 92,
   "metadata": {
    "cellId": "8g80966gdkp4c38v05z55e",
    "id": "aNMjQi80Ah_P"
   },
   "outputs": [],
   "source": [
    "#!g1.1\n",
    "def tokenize_pipeline(sentence):\n",
    "    tokens = tokenizer.tokenize(sentence)\n",
    "    return [lemmatizer.lemmatize(token) for token in tokens if token.isalpha()]"
   ]
  },
  {
   "cell_type": "markdown",
   "metadata": {
    "cellId": "azq5bv1jo4n00x4eosul5jwi",
    "execution_id": "6cc9c091-f1b1-4948-9dd3-0ff349456ae0",
    "id": "MjUl1CU_Ah_P"
   },
   "source": [
    "Для работы с эмбеддингами, надо сделать словарь. В нем буду все слова, которые мы знаем и для которых есть эмбеддинг."
   ]
  },
  {
   "cell_type": "code",
   "execution_count": 93,
   "metadata": {
    "cellId": "sm0kphdi0dwxyv6tuu1p",
    "id": "j7ezVn5jAh_Q"
   },
   "outputs": [],
   "source": [
    "#!g1.1\n",
    "tokenized = (\n",
    "    [tokenize_pipeline(sentence[\"sentence\"]) for sentence in sst2_dataset[\"train\"]] +\n",
    "    [tokenize_pipeline(sentence[\"sentence\"]) for sentence in sst2_dataset[\"validation\"]] +\n",
    "    [tokenize_pipeline(sentence[\"sentence\"]) for sentence in sst2_dataset[\"test\"]]\n",
    ")"
   ]
  },
  {
   "cell_type": "code",
   "execution_count": 94,
   "metadata": {
    "cellId": "zwew4qjqaxhalmwq0bky8c",
    "colab": {
     "base_uri": "https://localhost:8080/"
    },
    "id": "tQm0RSaxaDIa",
    "outputId": "b0624543-7918-46b4-8860-d228f1eea111"
   },
   "outputs": [
    {
     "data": {
      "text/plain": [
       "['hide', 'new', 'secretion', 'from', 'the', 'parental', 'unit']"
      ]
     },
     "execution_count": 94,
     "metadata": {},
     "output_type": "execute_result"
    }
   ],
   "source": [
    "#!g1.1\n",
    "tokenized[0]"
   ]
  },
  {
   "cell_type": "code",
   "execution_count": 95,
   "metadata": {
    "cellId": "y6mfw51yj48p175ps3w96d",
    "id": "NOTP9u_UAh_Q"
   },
   "outputs": [],
   "source": [
    "#!g1.1\n",
    "all_tokenized_words = set(word for words in tokenized for word in words)"
   ]
  },
  {
   "cell_type": "code",
   "execution_count": 96,
   "metadata": {
    "cellId": "tepvo725jfl348teviwh",
    "id": "UOPa9vcLAh_R"
   },
   "outputs": [],
   "source": [
    "#!g1.1\n",
    "words_to_ids = {word: idx + 16 for idx, word in enumerate(all_tokenized_words)}"
   ]
  },
  {
   "cell_type": "code",
   "execution_count": 97,
   "metadata": {
    "cellId": "vuxx8xkth67e6ucmgbi2b",
    "colab": {
     "base_uri": "https://localhost:8080/"
    },
    "id": "FGzV0Cj5aIlw",
    "outputId": "92c8c1db-e37b-49ae-d7fd-a0b853535283"
   },
   "outputs": [
    {
     "data": {
      "text/plain": [
       "14512"
      ]
     },
     "execution_count": 97,
     "metadata": {},
     "output_type": "execute_result"
    }
   ],
   "source": [
    "#!g1.1\n",
    "len(all_tokenized_words)"
   ]
  },
  {
   "cell_type": "markdown",
   "metadata": {
    "cellId": "6pquk8857p7l8dpw471",
    "execution_id": "b42816f5-f98d-4d57-8014-8fe17f7b9537",
    "id": "ETcSsc4TAh_R"
   },
   "source": [
    "Добавим в наш датасет преврашение в ids:"
   ]
  },
  {
   "cell_type": "code",
   "execution_count": 98,
   "metadata": {
    "cellId": "q7ppa7xphxkw9aco6eb4xa",
    "id": "MSoWMsGyAh_S"
   },
   "outputs": [],
   "source": [
    "#!g1.1\n",
    "class SST2Dataset(torch.utils.data.Dataset):\n",
    "    def __init__(self, tokenizer, words_to_ids, dataset, max_len=64):\n",
    "        self.tokenizer = tokenizer\n",
    "        self.words_to_ids = words_to_ids\n",
    "        \n",
    "        def tokenizer_sentece(example):\n",
    "            return {\"tokens\": self.tokenizer(example[\"sentence\"])}\n",
    "        \n",
    "        def convert_words_to_ids(example):\n",
    "            return {\"ids\": [self.words_to_ids[token] for token in example[\"tokens\"]]}\n",
    "\n",
    "        dataset = dataset.map(tokenizer_sentece)\n",
    "        \n",
    "        self.dataset = dataset.map(convert_words_to_ids)\n",
    "        self.max_len = 64\n",
    "\n",
    "    def __len__(self):\n",
    "        return len(self.dataset)\n",
    "\n",
    "    def __getitem__(self, index):\n",
    "        example = self.dataset[index]\n",
    "        tokens_ids = example[\"ids\"][:self.max_len]\n",
    "        if len(tokens_ids) < self.max_len:\n",
    "            tokens_ids += [0 for _ in range(self.max_len - len(tokens_ids))]\n",
    "        return tokens_ids, example[\"label\"]"
   ]
  },
  {
   "cell_type": "code",
   "execution_count": 99,
   "metadata": {
    "cellId": "xh1h6ik2f18rmvksw8bgaa",
    "colab": {
     "base_uri": "https://localhost:8080/",
     "height": 17,
     "referenced_widgets": [
      "bbf7176fe2ea43c9986f8ec444b0d222",
      "7667a0d822e04d17a6125949e3a23726",
      "47c393af3d694f8cb83f4773758f037c",
      "04d93b206eb1493eb4384201ae6a9e38",
      "07ae1784a7264b539f4e35e67c830b9d",
      "265b10ad335d4613a652a0d7d2485fa7",
      "654e40d107c849a8b5e0d0a402b9a090",
      "71c5961d07eb48e48ffb5a893de2952f",
      "4da26e02d8df4e27b80353fadc401021",
      "3b13d711fd534e07a789868e97e7be00",
      "01f3bf4b74f347f88c2904b0c6b10686",
      "94a2f4ef0c204e93a717239d731661f4",
      "624e184e16c44828b94d3a4acd80fe81",
      "ce0c1bfccb804505bf9556be8693e381",
      "42e762f200694aabbed8b2e774bfa79e",
      "efff74a42e974549a19feedd72f1d55a",
      "526efbad214b4b5abfd1e4968b0584c7",
      "32ada54ffe3f45828d28a6d445d2721a",
      "179eb96d1342471dac9d5a621cff3124",
      "b5d2f63c33ec4528a6eafe3889dd89d8",
      "e0ab26530b124d03aae5515c09b5e5ed",
      "2a6a96213c924d1aaf94c3086c222bdf",
      "83c285183ef34e5b8e018d1e367bcff5",
      "1744abe125a44dafb2ce7790584ace14",
      "8f3441f048dd4032b70709e486813300",
      "decc206ea9af4629ac7a493a759f88a6",
      "67d74407af9d409a92d23f658a671dce",
      "a053165007a74dffaab0b261ba8298c8",
      "19f4812be07e42608d0a3a6afc29214a",
      "fd432d5b35034b13b55d9d2bceb10ca7",
      "d7b2eedf07d24ba4a95bbfb97b271fde",
      "e5f7725ca2b14e5697674d71707a39d0",
      "d4d98373e21648eaae074c0cdc8ff4d1",
      "ba497408e315452f9b38060a2f83eb67",
      "eafd60e9bf344ef6b5cc5e6bc8278dea",
      "e1b037b976ca4538ace3b372fd85948e",
      "eca296c045334f749385e2f9623ca5b9",
      "74856a02da2b42d69d1af933ee5a9b90",
      "c42c5f24be90486991f5b3bb69bfb7fc",
      "4ea001e4bb49444da8774b01abe832af",
      "86d00b13eb4546cea28d4c3db3ea21f7",
      "b77362dbceee49e594da0ced71641710",
      "61215c7cf1d84681a34ed07d82a3c278",
      "b5388a501d584cf5a3ff361ae64ba658"
     ]
    },
    "id": "oBPdp0ScAh_S",
    "outputId": "91160479-3f34-4b29-a4c7-73602aaaa649"
   },
   "outputs": [
    {
     "name": "stderr",
     "output_type": "stream",
     "text": [
      "Parameter 'function'=<function SST2Dataset.__init__.<locals>.tokenizer_sentece at 0x7f92a6425c10> of the transform datasets.arrow_dataset.Dataset._map_single couldn't be hashed properly, a random hash was used instead. Make sure your transforms and parameters are serializable with pickle or dill for the dataset fingerprinting and caching to work. If you reuse this transform, the caching mechanism will consider it to be different from the previous calls and recompute everything. This warning is only showed once. Subsequent hashing failures won't be showed.\n"
     ]
    },
    {
     "data": {
      "application/vnd.jupyter.widget-view+json": {
       "model_id": "289e144ce40f429abd2f597342ef2ca0",
       "version_major": 2,
       "version_minor": 0
      },
      "text/plain": [
       "Map:   0%|          | 0/67349 [00:00<?, ? examples/s]"
      ]
     },
     "metadata": {},
     "output_type": "display_data"
    },
    {
     "data": {
      "application/vnd.jupyter.widget-view+json": {
       "model_id": "21fda0236b6b4840a345ff40d05d0359",
       "version_major": 2,
       "version_minor": 0
      },
      "text/plain": [
       "Map:   0%|          | 0/67349 [00:00<?, ? examples/s]"
      ]
     },
     "metadata": {},
     "output_type": "display_data"
    },
    {
     "data": {
      "application/vnd.jupyter.widget-view+json": {
       "model_id": "c9209e3a3e814218b28c491d1b0c0aa8",
       "version_major": 2,
       "version_minor": 0
      },
      "text/plain": [
       "Map:   0%|          | 0/872 [00:00<?, ? examples/s]"
      ]
     },
     "metadata": {},
     "output_type": "display_data"
    },
    {
     "data": {
      "application/vnd.jupyter.widget-view+json": {
       "model_id": "8f348f32124c4bbc8403755606129d92",
       "version_major": 2,
       "version_minor": 0
      },
      "text/plain": [
       "Map:   0%|          | 0/872 [00:00<?, ? examples/s]"
      ]
     },
     "metadata": {},
     "output_type": "display_data"
    }
   ],
   "source": [
    "#!g1.1\n",
    "train_dataset = SST2Dataset(tokenize_pipeline, words_to_ids, sst2_dataset[\"train\"])\n",
    "valid_dataset = SST2Dataset(tokenize_pipeline, words_to_ids, sst2_dataset[\"validation\"])"
   ]
  },
  {
   "cell_type": "code",
   "execution_count": 127,
   "metadata": {
    "cellId": "tshyaod5ff9zrl55tdqdd",
    "id": "q7hvjkHEsP_S"
   },
   "outputs": [],
   "source": [
    "#!g1.1\n",
    "def collate_fn(items):\n",
    "    x = torch.tensor([i[0] for i in items])\n",
    "    y = torch.tensor([i[1] for i in items])\n",
    "    return x, y"
   ]
  },
  {
   "cell_type": "code",
   "execution_count": 175,
   "metadata": {
    "cellId": "pd0mp43vs1hab3xn3v7hx6"
   },
   "outputs": [],
   "source": [
    "#!g1.1\n",
    "BATCH_SIZE = 256"
   ]
  },
  {
   "cell_type": "code",
   "execution_count": 130,
   "metadata": {
    "cellId": "aic3zyj9a9rpsk9upj6wxp",
    "id": "UpbLx-4IAh_U"
   },
   "outputs": [],
   "source": [
    "#!g1.1\n",
    "train_dataloader = torch.utils.data.DataLoader(\n",
    "    train_dataset, \n",
    "    batch_size=BATCH_SIZE, \n",
    "    collate_fn=collate_fn,\n",
    "    num_workers=8\n",
    ")\n",
    "valid_dataloader = torch.utils.data.DataLoader(\n",
    "    valid_dataset, \n",
    "    batch_size=BATCH_SIZE, \n",
    "    collate_fn=collate_fn,\n",
    "    num_workers=8\n",
    ")"
   ]
  },
  {
   "cell_type": "code",
   "execution_count": 131,
   "metadata": {
    "cellId": "o3cihsht5t0labqfq4ocj",
    "colab": {
     "base_uri": "https://localhost:8080/"
    },
    "collapsed": true,
    "id": "foKayd0WbXv-",
    "jupyter": {
     "outputs_hidden": true
    },
    "outputId": "b3876609-8e07-4a6c-86a8-91fa683bcff8"
   },
   "outputs": [
    {
     "data": {
      "text/plain": [
       "(tensor([[ 8066,  8746, 10335,  ...,     0,     0,     0],\n",
       "         [ 1675,  7278,    73,  ...,     0,     0,     0],\n",
       "         [ 8490, 13824,  2499,  ...,     0,     0,     0],\n",
       "         ...,\n",
       "         [ 9512,  1748, 11172,  ...,     0,     0,     0],\n",
       "         [  928,  7748,  7044,  ...,     0,     0,     0],\n",
       "         [12694,  9864,  9028,  ...,     0,     0,     0]]),\n",
       " tensor([0, 0, 1, 0, 0, 0, 1, 1, 0, 1, 0, 0, 0, 0, 0, 1, 0, 1, 0, 1, 1, 1, 1, 1,\n",
       "         0, 1, 0, 1, 1, 0, 0, 1, 0, 0, 0, 1, 1, 1, 0, 1, 0, 0, 0, 1, 0, 1, 1, 0,\n",
       "         1, 0, 0, 1, 0, 1, 0, 0, 0, 1, 1, 0, 1, 0, 0, 0, 0, 1, 0, 0, 0, 1, 0, 0,\n",
       "         1, 0, 0, 1, 0, 0, 0, 1, 1, 1, 1, 1, 1, 0, 1, 1, 1, 1, 0, 1, 0, 1, 1, 1,\n",
       "         0, 1, 1, 1, 1, 1, 0, 1, 0, 1, 0, 0, 1, 1, 0, 1, 1, 1, 0, 0, 0, 0, 1, 0,\n",
       "         1, 0, 0, 0, 1, 0, 1, 1, 1, 0, 1, 0, 1, 0, 0, 1, 1, 1, 0, 0, 1, 1, 1, 0,\n",
       "         0, 1, 0, 1, 0, 1, 1, 0, 1, 1, 0, 0, 1, 1, 1, 0, 1, 0, 0, 1, 1, 0, 1, 1,\n",
       "         1, 0, 1, 1, 1, 0, 1, 0, 1, 1, 0, 1, 0, 0, 1, 0, 1, 1, 0, 0, 1, 0, 0, 1,\n",
       "         1, 0, 0, 0, 1, 1, 0, 0, 0, 1, 0, 0, 0, 1, 1, 0, 1, 0, 0, 0, 1, 0, 0, 1,\n",
       "         1, 1, 0, 1, 1, 0, 0, 1, 1, 1, 0, 0, 0, 1, 1, 1, 1, 0, 1, 0, 0, 0, 0, 1,\n",
       "         1, 0, 0, 1, 0, 1, 1, 0, 0, 0, 0, 0, 0, 0, 0, 1]))"
      ]
     },
     "execution_count": 131,
     "metadata": {},
     "output_type": "execute_result"
    }
   ],
   "source": [
    "#!g1.1\n",
    "next(iter(train_dataloader))"
   ]
  },
  {
   "cell_type": "markdown",
   "metadata": {
    "cellId": "lqi996kd35mfs60uxra7a",
    "execution_id": "a82fdf5d-8fe0-4b6e-a8a5-d750689a6047",
    "id": "FmOb8AofAh_U"
   },
   "source": [
    "## Attention\n",
    "\n",
    "В этой части мы разберем, как работает механизм внимания и попробуем его написать своими руками. Для этого нам пригодится специальный модуль -- [einops](https://github.com/arogozhnikov/einops)!\n",
    "\n",
    "Шпаргалка, как работает Attention:\n",
    "\n",
    "$$\n",
    "\\text{Attention}(\\mathbf{Q}, \\mathbf{K}, \\mathbf{V}) = \\text{softmax}(\\frac{\\mathbf{Q}\\mathbf{K}^\\top}{\\sqrt{n}})\\mathbf{V}\n",
    "$$\n",
    "\n",
    "<div>\n",
    "<img src=\"https://lilianweng.github.io/posts/2018-06-24-attention/multi-head-attention.png\" width=\"40%\">  \n",
    "</div>\n",
    "\n",
    "Попробуем вычислить attention на случайном примере. У нас будут 4 головы"
   ]
  },
  {
   "cell_type": "code",
   "execution_count": 132,
   "metadata": {
    "cellId": "c24er1dexy9ej2hiq4t5ig",
    "id": "qIg8390_Ah_V"
   },
   "outputs": [],
   "source": [
    "#!g1.1\n",
    "hidden_example = torch.rand((1, 10, 16)) # batch_size, seq_len, hidden_size\n",
    "hidden_example_headed = hidden_example.reshape(1, 10, 4, 4) # b, t, c, l\n",
    "q, k, v = hidden_example_headed, hidden_example_headed, hidden_example_headed"
   ]
  },
  {
   "cell_type": "markdown",
   "metadata": {
    "cellId": "aw5zc929s5knd40dw075f8",
    "execution_id": "c95e11e8-2da9-4e76-a186-b4e5553d583a",
    "id": "v74xxJxZAh_V"
   },
   "source": [
    "Посмотрим, как с помощью `einops` сделать матричное произведение:"
   ]
  },
  {
   "cell_type": "code",
   "execution_count": 133,
   "metadata": {
    "cellId": "nuasgbhr3p7v02bd6c91k",
    "colab": {
     "base_uri": "https://localhost:8080/"
    },
    "id": "hivoqDaJcPM0",
    "outputId": "aed6e2d7-c831-4868-c64e-70037da3f792"
   },
   "outputs": [
    {
     "data": {
      "text/plain": [
       "torch.Size([1, 10, 4, 4])"
      ]
     },
     "execution_count": 133,
     "metadata": {},
     "output_type": "execute_result"
    }
   ],
   "source": [
    "#!g1.1\n",
    "q.shape # b, s, c, l"
   ]
  },
  {
   "cell_type": "code",
   "execution_count": 134,
   "metadata": {
    "cellId": "753ec4tn75992e5coccdns",
    "colab": {
     "base_uri": "https://localhost:8080/"
    },
    "id": "LCbqWLVrcTSR",
    "outputId": "9ff0ffda-dc54-402c-c2fa-33fe83863d4e"
   },
   "outputs": [
    {
     "data": {
      "text/plain": [
       "torch.Size([1, 10, 4, 4])"
      ]
     },
     "execution_count": 134,
     "metadata": {},
     "output_type": "execute_result"
    }
   ],
   "source": [
    "#!g1.1\n",
    "k.shape # b, t, c, l"
   ]
  },
  {
   "cell_type": "code",
   "execution_count": 135,
   "metadata": {
    "cellId": "ni41r4hxxl34olp8d85po",
    "colab": {
     "base_uri": "https://localhost:8080/"
    },
    "id": "qe9c4CbrAh_V",
    "outputId": "1fc42908-03d4-4978-eedf-8e8fee3dfc3a"
   },
   "outputs": [
    {
     "data": {
      "text/plain": [
       "torch.Size([1, 10, 10, 4])"
      ]
     },
     "execution_count": 135,
     "metadata": {},
     "output_type": "execute_result"
    }
   ],
   "source": [
    "#!g1.1\n",
    "torch.einsum('bscl,btcl->bstl', [k, q]).shape # 1, 10, 10, 4 (b, s, t, l)"
   ]
  },
  {
   "cell_type": "code",
   "execution_count": 136,
   "metadata": {
    "cellId": "zwtim22rkufy6im641t2",
    "colab": {
     "base_uri": "https://localhost:8080/"
    },
    "id": "vFIu8e7wdbVp",
    "outputId": "3608787a-bd00-4bb5-91cf-135d0eefa6c1"
   },
   "outputs": [
    {
     "data": {
      "text/plain": [
       "torch.Size([1, 10, 10, 4])"
      ]
     },
     "execution_count": 136,
     "metadata": {},
     "output_type": "execute_result"
    }
   ],
   "source": [
    "#!g1.1\n",
    "torch.softmax(torch.einsum('bscl,btcl->bstl', [k, q]), dim=1).shape"
   ]
  },
  {
   "cell_type": "markdown",
   "metadata": {
    "cellId": "uwdugygetpl9wl8meuxn7n",
    "execution_id": "7b265343-4685-41ff-92af-0de892e0dfff",
    "id": "k9f9S5siAh_W"
   },
   "source": [
    "Посчитаем внимание и вычислим выход:"
   ]
  },
  {
   "cell_type": "code",
   "execution_count": 137,
   "metadata": {
    "cellId": "49gyu3q1buxc9hmckx40z5",
    "id": "GfaUIyB2Ah_W"
   },
   "outputs": [],
   "source": [
    "#!g1.1\n",
    "attention = torch.softmax(torch.einsum('bscl,btcl->bstl', [k, q]), dim=1)\n",
    "result_headed = torch.einsum('bstl,bscl->btcl', [attention, v])\n",
    "result = result_headed.reshape(1, 10, 16)"
   ]
  },
  {
   "cell_type": "code",
   "execution_count": 138,
   "metadata": {
    "cellId": "cyl31dhi88lvb3g2oz5af",
    "colab": {
     "base_uri": "https://localhost:8080/"
    },
    "collapsed": true,
    "id": "Dgx9IjcIulH7",
    "jupyter": {
     "outputs_hidden": true
    },
    "outputId": "7224fe24-7707-4e4c-f1e2-8d8bc239d8c7"
   },
   "outputs": [
    {
     "data": {
      "text/plain": [
       "tensor([[[0.5128, 0.3561, 0.5493, 0.4876, 0.5267, 0.5736, 0.5587, 0.6351,\n",
       "          0.7110, 0.5628, 0.6069, 0.4776, 0.5839, 0.5166, 0.6039, 0.5183],\n",
       "         [0.5502, 0.3253, 0.6234, 0.6324, 0.5322, 0.5694, 0.6101, 0.6259,\n",
       "          0.7006, 0.5339, 0.5762, 0.5507, 0.5401, 0.4517, 0.5953, 0.6558],\n",
       "         [0.5696, 0.3107, 0.5928, 0.4874, 0.5834, 0.6037, 0.5990, 0.6125,\n",
       "          0.7238, 0.5625, 0.5775, 0.4849, 0.5673, 0.4342, 0.5946, 0.5134],\n",
       "         [0.5044, 0.3339, 0.5901, 0.5852, 0.5628, 0.6086, 0.6307, 0.6587,\n",
       "          0.7281, 0.5133, 0.6273, 0.4916, 0.6161, 0.4905, 0.5896, 0.6211],\n",
       "         [0.5478, 0.3389, 0.5761, 0.5700, 0.5145, 0.5832, 0.5947, 0.6117,\n",
       "          0.7157, 0.5849, 0.5553, 0.5119, 0.5330, 0.4922, 0.6110, 0.5942],\n",
       "         [0.5001, 0.3420, 0.5876, 0.5376, 0.5130, 0.5963, 0.6045, 0.6703,\n",
       "          0.6981, 0.5082, 0.6202, 0.4556, 0.5859, 0.4556, 0.6011, 0.5684],\n",
       "         [0.5129, 0.3206, 0.5531, 0.6008, 0.4935, 0.5991, 0.6103, 0.6180,\n",
       "          0.6866, 0.5593, 0.5802, 0.5318, 0.5491, 0.4636, 0.6180, 0.6286],\n",
       "         [0.5115, 0.3396, 0.6220, 0.5826, 0.5093, 0.5772, 0.5832, 0.5831,\n",
       "          0.6989, 0.5694, 0.5945, 0.5471, 0.5692, 0.5058, 0.6072, 0.6091],\n",
       "         [0.5367, 0.3235, 0.6326, 0.5656, 0.5425, 0.6042, 0.5559, 0.6423,\n",
       "          0.7170, 0.5772, 0.5970, 0.4991, 0.5701, 0.4543, 0.5958, 0.6061],\n",
       "         [0.5268, 0.4093, 0.6026, 0.4968, 0.5463, 0.6005, 0.5946, 0.6645,\n",
       "          0.7233, 0.4667, 0.5659, 0.4591, 0.5824, 0.4409, 0.6048, 0.5315]]])"
      ]
     },
     "execution_count": 138,
     "metadata": {},
     "output_type": "execute_result"
    }
   ],
   "source": [
    "#!g1.1\n",
    "result"
   ]
  },
  {
   "cell_type": "markdown",
   "metadata": {
    "cellId": "oabo26feyoepip8frxrf9",
    "execution_id": "46fa6c71-1d79-48ff-8c3a-9f5b4de707de",
    "id": "rUYY7K88Ah_W"
   },
   "source": [
    "Соединим наши операции в одну функцию:"
   ]
  },
  {
   "cell_type": "code",
   "execution_count": 139,
   "metadata": {
    "cellId": "hmsx1yxtp2abdstgyf6tig",
    "id": "vbF0b-QRAh_W"
   },
   "outputs": [],
   "source": [
    "#!g1.1\n",
    "def attention(K, V, Q, num_head):\n",
    "    batch_size, seq_len, hidden_dim = Q.size()\n",
    "    K = K.reshape(batch_size, seq_len, -1, num_head)\n",
    "    Q = Q.reshape(batch_size, seq_len, -1, num_head)\n",
    "    V = V.reshape(batch_size, seq_len, -1, num_head)\n",
    "    attention = torch.softmax(torch.einsum('bscl,btcl->bstl', [K, Q]) / math.sqrt(hidden_dim // num_head), dim=1)\n",
    "    result_headed = torch.einsum('bstl,btcl->btcl', [attention, V])\n",
    "    return result_headed.reshape(batch_size, seq_len, hidden_dim)"
   ]
  },
  {
   "cell_type": "code",
   "execution_count": 140,
   "metadata": {
    "cellId": "cqup7ltepji4dia90ju1fz",
    "colab": {
     "base_uri": "https://localhost:8080/"
    },
    "collapsed": true,
    "id": "Uows3S97fh49",
    "jupyter": {
     "outputs_hidden": true
    },
    "outputId": "95a798d1-08c1-4435-c319-518f3b879952"
   },
   "outputs": [
    {
     "data": {
      "text/plain": [
       "tensor([[[0.3532, 0.3087, 0.8533, 0.3811, 0.3869, 0.9242, 0.4588, 0.0943,\n",
       "          0.1812, 0.2577, 0.7815, 0.4578, 0.7215, 0.7940, 0.0060, 0.2070],\n",
       "         [0.1072, 0.0355, 0.0968, 0.8201, 0.3911, 0.2392, 0.4216, 0.7789,\n",
       "          0.6255, 0.6707, 0.9069, 0.0929, 0.4780, 0.5028, 0.9313, 0.3110],\n",
       "         [0.1175, 0.8704, 0.8328, 0.7375, 0.2083, 0.7545, 0.3205, 0.6627,\n",
       "          0.5592, 0.2013, 0.5803, 0.4320, 0.9566, 0.9780, 0.3005, 0.6894],\n",
       "         [0.0234, 0.6272, 0.7860, 0.0703, 0.7788, 0.5237, 0.7940, 0.9806,\n",
       "          0.8161, 0.8385, 0.6523, 0.1674, 0.9757, 0.2881, 0.4313, 0.9480],\n",
       "         [0.2551, 0.9772, 0.2181, 0.4976, 0.5112, 0.2398, 0.0742, 0.4700,\n",
       "          0.6835, 0.7303, 0.2098, 0.1885, 0.1930, 0.2555, 0.6862, 0.9558],\n",
       "         [0.5956, 0.7076, 0.3705, 0.7396, 0.2858, 0.9369, 0.6454, 0.6604,\n",
       "          0.5156, 0.6973, 0.7708, 0.9178, 0.2674, 0.6862, 0.7491, 0.0775],\n",
       "         [0.6750, 0.7217, 0.9530, 0.4819, 0.9958, 0.2670, 0.0181, 0.7064,\n",
       "          0.4767, 0.4841, 0.5969, 0.6472, 0.8970, 0.2719, 0.5707, 0.0038],\n",
       "         [0.3906, 0.3351, 0.9683, 0.7197, 0.7727, 0.5901, 0.7468, 0.3129,\n",
       "          0.7577, 0.6268, 0.2663, 0.1493, 0.8362, 0.1779, 0.6409, 0.3646],\n",
       "         [0.5754, 0.5210, 0.9568, 0.8954, 0.0403, 0.7867, 0.8675, 0.1878,\n",
       "          0.4727, 0.5462, 0.1738, 0.2706, 0.5364, 0.4291, 0.8868, 0.1263],\n",
       "         [0.5300, 0.3884, 0.8929, 0.8205, 0.4801, 0.9032, 0.6132, 0.6715,\n",
       "          0.6686, 0.3296, 0.3276, 0.5671, 0.6809, 0.6276, 0.5796, 0.5467]]])"
      ]
     },
     "execution_count": 140,
     "metadata": {},
     "output_type": "execute_result"
    }
   ],
   "source": [
    "#!g1.1\n",
    "hidden_example = torch.rand((1, 10, 16))\n",
    "\n",
    "attention(hidden_example, hidden_example, hidden_example, 4)"
   ]
  },
  {
   "cell_type": "markdown",
   "metadata": {
    "cellId": "247pnv3ikgssitpidn0f1",
    "execution_id": "f148501a-f19d-4d51-9b7c-d7ddf1480b2b",
    "id": "eDTjr8YnAh_W"
   },
   "source": [
    "Воспользуемся нашей функцией для создания модуля Attention. Также сделаем Feed-Forward(или MLP) слой и построим всю нашу модель."
   ]
  },
  {
   "cell_type": "code",
   "execution_count": 141,
   "metadata": {
    "cellId": "fyht3gsx808trt96hnxhwi",
    "id": "zA9DmSlNAh_X"
   },
   "outputs": [],
   "source": [
    "#!g1.1\n",
    "class AttentionModule(torch.nn.Module):\n",
    "    def __init__(self, hidden_dim: int, num_heads: int):\n",
    "        super().__init__()\n",
    "\n",
    "        self.q_linear = torch.nn.Linear(hidden_dim, hidden_dim)\n",
    "        self.k_linear = torch.nn.Linear(hidden_dim, hidden_dim)\n",
    "        self.v_linear = torch.nn.Linear(hidden_dim, hidden_dim)\n",
    "\n",
    "        self.out_linear = torch.nn.Linear(hidden_dim, hidden_dim)\n",
    "        self.num_heads = num_heads\n",
    "    \n",
    "    def forward(self, hidden_state):\n",
    "        Q = self.q_linear(hidden_state)\n",
    "        K = self.k_linear(hidden_state)\n",
    "        V = self.v_linear(hidden_state)\n",
    "        attention_output = attention(K, V, Q, self.num_heads)\n",
    "        return self.out_linear(attention_output) + hidden_state"
   ]
  },
  {
   "cell_type": "code",
   "execution_count": 142,
   "metadata": {
    "cellId": "4blv7b2p2ity45sac0vck",
    "id": "Zer_9C4wAh_X"
   },
   "outputs": [],
   "source": [
    "#!g1.1\n",
    "class MLP(torch.nn.Module):\n",
    "    def __init__(self, hidden_dim: int):\n",
    "        super().__init__()\n",
    "        \n",
    "        self.linear_0 = torch.nn.Linear(hidden_dim, 4 * hidden_dim)\n",
    "        self.linear_1 = torch.nn.Linear(4 * hidden_dim, hidden_dim)\n",
    "    \n",
    "    def forward(self, hidden_state):\n",
    "        return self.linear_1(torch.relu(self.linear_0(hidden_state))) + hidden_state"
   ]
  },
  {
   "cell_type": "code",
   "execution_count": 143,
   "metadata": {
    "cellId": "0ntb6wa1988ywi6a2odt2n",
    "id": "sgXDLARSAh_X"
   },
   "outputs": [],
   "source": [
    "#!g1.1\n",
    "class TransformerLayer(torch.nn.Module):\n",
    "    def __init__(self, hidden_dim: int, num_heads: int):\n",
    "        super().__init__()\n",
    "        \n",
    "        self.attention_layer = AttentionModule(hidden_dim, num_heads)\n",
    "        self.mlp_layer = MLP(hidden_dim)\n",
    "    \n",
    "    def forward(self, hidden_state):\n",
    "        attn_output = self.attention_layer(hidden_state)\n",
    "        mlp_output = self.mlp_layer(attn_output)\n",
    "        return mlp_output"
   ]
  },
  {
   "cell_type": "code",
   "execution_count": 156,
   "metadata": {
    "cellId": "03kiexwrtaz3k0ceua8slx",
    "id": "_DwpEXp_Ah_X"
   },
   "outputs": [],
   "source": [
    "#!g1.1\n",
    "class TransformerModel(torch.nn.Module):\n",
    "    def __init__(self, embedding_size, hidden_dim, num_heads, output_dim, max_seq_len=64):\n",
    "        super().__init__()\n",
    "        \n",
    "        self.word_embedding = torch.nn.Embedding(\n",
    "            embedding_size, hidden_dim)\n",
    "        self.pos_embedding = torch.nn.Embedding(\n",
    "            max_seq_len, hidden_dim)\n",
    "        \n",
    "        self.attention_layer_0 = TransformerLayer(hidden_dim, num_heads)\n",
    "        self.attention_layer_1 = TransformerLayer(hidden_dim, num_heads)\n",
    "        self.attention_layer_2 = TransformerLayer(hidden_dim, num_heads)\n",
    "        \n",
    "        self.cls_head = torch.nn.Linear(hidden_dim, output_dim)\n",
    "    \n",
    "    def forward(self, input_ids): # (bs, seq_len)\n",
    "        input_ids = input_ids\n",
    "        arange_tensor = torch.arange(input_ids.size(-1)).to(input_ids.device)\n",
    "      \n",
    "        word_embs = self.word_embedding(input_ids)\n",
    "        \n",
    "        pos_embs = self.pos_embedding(arange_tensor)\n",
    "        embs = word_embs + pos_embs\n",
    "        hidden_state = self.attention_layer_0(embs)\n",
    "        hidden_state = self.attention_layer_1(hidden_state)\n",
    "        hidden_state = self.attention_layer_2(hidden_state)\n",
    "\n",
    "        return self.cls_head(hidden_state[:, 0]) # (bs, num_class)"
   ]
  },
  {
   "cell_type": "code",
   "execution_count": 157,
   "metadata": {
    "cellId": "4ph7gueme0um8maixz0wph",
    "id": "OYVRZq3ciccG"
   },
   "outputs": [],
   "source": [
    "#!g1.1\n",
    "example = next(iter(train_dataloader))"
   ]
  },
  {
   "cell_type": "code",
   "execution_count": 158,
   "metadata": {
    "cellId": "r1rbgxdr8klss9o23006pj",
    "colab": {
     "base_uri": "https://localhost:8080/"
    },
    "collapsed": true,
    "id": "BXahwfcxi4KU",
    "jupyter": {
     "outputs_hidden": true
    },
    "outputId": "6dc54bee-6b63-4289-d638-50eeb551c1dc"
   },
   "outputs": [
    {
     "data": {
      "text/plain": [
       "(tensor([[ 8066,  8746, 10335,  ...,     0,     0,     0],\n",
       "         [ 1675,  7278,    73,  ...,     0,     0,     0],\n",
       "         [ 8490, 13824,  2499,  ...,     0,     0,     0],\n",
       "         ...,\n",
       "         [ 9512,  1748, 11172,  ...,     0,     0,     0],\n",
       "         [  928,  7748,  7044,  ...,     0,     0,     0],\n",
       "         [12694,  9864,  9028,  ...,     0,     0,     0]]),\n",
       " tensor([0, 0, 1, 0, 0, 0, 1, 1, 0, 1, 0, 0, 0, 0, 0, 1, 0, 1, 0, 1, 1, 1, 1, 1,\n",
       "         0, 1, 0, 1, 1, 0, 0, 1, 0, 0, 0, 1, 1, 1, 0, 1, 0, 0, 0, 1, 0, 1, 1, 0,\n",
       "         1, 0, 0, 1, 0, 1, 0, 0, 0, 1, 1, 0, 1, 0, 0, 0, 0, 1, 0, 0, 0, 1, 0, 0,\n",
       "         1, 0, 0, 1, 0, 0, 0, 1, 1, 1, 1, 1, 1, 0, 1, 1, 1, 1, 0, 1, 0, 1, 1, 1,\n",
       "         0, 1, 1, 1, 1, 1, 0, 1, 0, 1, 0, 0, 1, 1, 0, 1, 1, 1, 0, 0, 0, 0, 1, 0,\n",
       "         1, 0, 0, 0, 1, 0, 1, 1, 1, 0, 1, 0, 1, 0, 0, 1, 1, 1, 0, 0, 1, 1, 1, 0,\n",
       "         0, 1, 0, 1, 0, 1, 1, 0, 1, 1, 0, 0, 1, 1, 1, 0, 1, 0, 0, 1, 1, 0, 1, 1,\n",
       "         1, 0, 1, 1, 1, 0, 1, 0, 1, 1, 0, 1, 0, 0, 1, 0, 1, 1, 0, 0, 1, 0, 0, 1,\n",
       "         1, 0, 0, 0, 1, 1, 0, 0, 0, 1, 0, 0, 0, 1, 1, 0, 1, 0, 0, 0, 1, 0, 0, 1,\n",
       "         1, 1, 0, 1, 1, 0, 0, 1, 1, 1, 0, 0, 0, 1, 1, 1, 1, 0, 1, 0, 0, 0, 0, 1,\n",
       "         1, 0, 0, 1, 0, 1, 1, 0, 0, 0, 0, 0, 0, 0, 0, 1]))"
      ]
     },
     "execution_count": 158,
     "metadata": {},
     "output_type": "execute_result"
    }
   ],
   "source": [
    "#!g1.1\n",
    "example"
   ]
  },
  {
   "cell_type": "code",
   "execution_count": 159,
   "metadata": {
    "cellId": "wocq35yq2qi8nxsmbw6mi",
    "id": "cg35kKVMigcd"
   },
   "outputs": [],
   "source": [
    "#!g1.1\n",
    "model = TransformerModel(len(all_tokenized_words) + 16, 16, 4, 2)"
   ]
  },
  {
   "cell_type": "code",
   "execution_count": 160,
   "metadata": {
    "cellId": "w9v8uf6tsijx1rihc7pso",
    "colab": {
     "base_uri": "https://localhost:8080/"
    },
    "collapsed": true,
    "id": "QO9VRAVOiz-C",
    "jupyter": {
     "outputs_hidden": true
    },
    "outputId": "e850df1c-d9d7-4ed6-9e29-dd8e27b78709"
   },
   "outputs": [
    {
     "data": {
      "text/plain": [
       "tensor([[-6.3395e-02, -9.7158e-01],\n",
       "        [-1.6544e-01, -4.7155e-02],\n",
       "        [-6.5275e-01, -2.2590e-01],\n",
       "        [ 1.1693e-01, -7.8511e-01],\n",
       "        [-3.4221e-01, -1.5774e+00],\n",
       "        [-6.5275e-01, -2.2590e-01],\n",
       "        [-9.4975e-01, -1.0469e+00],\n",
       "        [-5.5574e-01,  2.4828e-01],\n",
       "        [-9.2121e-01,  1.0274e+00],\n",
       "        [-3.2676e-01, -4.2459e-01],\n",
       "        [-3.6674e-01,  5.3935e-01],\n",
       "        [-7.9264e-01, -6.4037e-01],\n",
       "        [ 2.2017e-02, -9.2330e-01],\n",
       "        [ 2.7613e-01, -1.7920e+00],\n",
       "        [-5.6299e-01,  6.9523e-01],\n",
       "        [ 2.2017e-02, -9.2330e-01],\n",
       "        [-3.3031e-01, -3.0952e-01],\n",
       "        [-1.3188e+00, -2.6220e+00],\n",
       "        [-2.8396e-01, -1.0294e+00],\n",
       "        [-9.9966e-01, -1.7287e+00],\n",
       "        [-8.4951e-01,  1.4271e+00],\n",
       "        [-8.2480e-01, -1.2963e+00],\n",
       "        [-9.2121e-01,  1.0274e+00],\n",
       "        [-1.0125e+00, -2.0060e+00],\n",
       "        [-6.1525e-01,  8.2447e-02],\n",
       "        [-6.5554e-01, -7.0612e-01],\n",
       "        [ 4.2182e-01, -1.2997e+00],\n",
       "        [-6.5053e-01,  5.8363e-02],\n",
       "        [-1.1168e+00, -6.7426e-01],\n",
       "        [ 2.2017e-02, -9.2330e-01],\n",
       "        [ 2.2017e-02, -9.2330e-01],\n",
       "        [-3.4221e-01, -1.5774e+00],\n",
       "        [-6.7563e-01, -2.3419e+00],\n",
       "        [-6.3494e-01, -1.4412e-01],\n",
       "        [-6.1455e-01, -2.6897e-01],\n",
       "        [ 3.1860e-01, -1.7313e+00],\n",
       "        [-8.8012e-01, -1.6124e+00],\n",
       "        [-1.2105e+00, -1.0665e+00],\n",
       "        [-8.0946e-02, -2.6915e+00],\n",
       "        [-1.3797e+00, -6.4213e-01],\n",
       "        [ 2.2017e-02, -9.2330e-01],\n",
       "        [-7.3133e-01, -1.4180e+00],\n",
       "        [-9.2121e-01,  1.0274e+00],\n",
       "        [-7.7030e-01, -1.7061e+00],\n",
       "        [-9.2121e-01,  1.0274e+00],\n",
       "        [-5.4852e-01,  3.2930e-01],\n",
       "        [-1.2566e+00,  3.6048e-01],\n",
       "        [-9.2121e-01,  1.0274e+00],\n",
       "        [-6.2117e-01, -1.9271e+00],\n",
       "        [-1.8643e-01, -1.4438e+00],\n",
       "        [ 2.2017e-02, -9.2330e-01],\n",
       "        [-9.2121e-01,  1.0274e+00],\n",
       "        [-6.2780e-01, -8.0765e-01],\n",
       "        [-9.2121e-01,  1.0274e+00],\n",
       "        [-6.2049e-02, -1.7354e+00],\n",
       "        [-9.2121e-01,  1.0274e+00],\n",
       "        [-1.0065e+00, -1.5596e+00],\n",
       "        [-1.3263e+00, -5.0100e-01],\n",
       "        [ 1.6508e-01, -6.3261e-01],\n",
       "        [ 5.3659e-01, -1.0075e+00],\n",
       "        [-8.7386e-01, -1.2365e+00],\n",
       "        [-1.6641e+00, -1.2111e+00],\n",
       "        [ 2.7063e-01, -6.8964e-01],\n",
       "        [-9.2121e-01,  1.0274e+00],\n",
       "        [-8.8418e-01, -5.9935e-01],\n",
       "        [-4.7333e-02, -6.3714e-01],\n",
       "        [-7.1347e-01, -1.8884e+00],\n",
       "        [-1.1453e+00, -1.1786e+00],\n",
       "        [ 2.2017e-02, -9.2330e-01],\n",
       "        [ 2.2017e-02, -9.2330e-01],\n",
       "        [-5.5574e-01,  2.4828e-01],\n",
       "        [-1.2751e-01, -1.1068e+00],\n",
       "        [-7.6227e-01, -3.9953e-01],\n",
       "        [-1.3263e+00, -5.0100e-01],\n",
       "        [-9.2121e-01,  1.0274e+00],\n",
       "        [-6.1856e-01, -1.1265e+00],\n",
       "        [-2.5536e-01, -8.2042e-01],\n",
       "        [-1.1611e+00, -1.2287e+00],\n",
       "        [-1.6544e-01, -4.7155e-02],\n",
       "        [-4.0529e-01, -1.6987e+00],\n",
       "        [-3.2676e-01, -4.2459e-01],\n",
       "        [-1.0365e+00, -2.5990e-01],\n",
       "        [-1.0594e+00, -1.5864e+00],\n",
       "        [ 1.0809e-01, -9.3525e-02],\n",
       "        [-7.3374e-01, -8.3708e-01],\n",
       "        [-8.8418e-01, -5.9935e-01],\n",
       "        [-3.0052e-01, -1.4634e+00],\n",
       "        [-2.5738e-01, -1.2829e+00],\n",
       "        [-5.4437e-01,  5.7436e-01],\n",
       "        [-2.5299e-01, -8.0441e-01],\n",
       "        [-6.5275e-01, -2.2590e-01],\n",
       "        [-1.1532e+00, -1.2696e+00],\n",
       "        [-3.4229e-01, -2.0687e+00],\n",
       "        [-1.4232e-01, -2.2702e+00],\n",
       "        [-8.8012e-01, -1.6124e+00],\n",
       "        [-1.9731e+00,  1.3005e+00],\n",
       "        [-4.0360e-01, -7.7286e-01],\n",
       "        [-8.8012e-01, -1.6124e+00],\n",
       "        [-8.7386e-01, -1.2365e+00],\n",
       "        [-7.5137e-01, -1.0795e+00],\n",
       "        [-6.5053e-01,  5.8363e-02],\n",
       "        [-7.1763e-01, -1.5639e+00],\n",
       "        [-8.2199e-01, -7.3485e-01],\n",
       "        [-9.8167e-01, -1.7660e+00],\n",
       "        [-7.3578e-01, -3.9545e-01],\n",
       "        [-1.0695e+00,  2.6029e-01],\n",
       "        [-1.4640e+00, -1.7789e+00],\n",
       "        [-6.1749e-01, -5.7622e-01],\n",
       "        [ 2.2017e-02, -9.2330e-01],\n",
       "        [-1.8812e-01, -5.4862e-01],\n",
       "        [-8.8012e-01, -1.6124e+00],\n",
       "        [-6.0339e-01, -7.6519e-01],\n",
       "        [-6.2432e-01, -1.3727e+00],\n",
       "        [-5.8050e-02, -1.4736e+00],\n",
       "        [-1.0383e+00, -2.2277e-01],\n",
       "        [-6.0835e-01, -8.1758e-01],\n",
       "        [-4.2598e-01, -1.4049e+00],\n",
       "        [-7.5821e-01, -1.4938e+00],\n",
       "        [-3.0049e-01, -1.5064e+00],\n",
       "        [-6.7479e-01, -1.6152e-01],\n",
       "        [-1.1168e+00, -6.7426e-01],\n",
       "        [-3.2676e-01, -4.2459e-01],\n",
       "        [-6.8043e-01, -1.7044e-01],\n",
       "        [-6.2117e-01, -1.9271e+00],\n",
       "        [-1.3331e+00, -1.0937e+00],\n",
       "        [ 2.2017e-02, -9.2330e-01],\n",
       "        [-1.8575e+00, -1.2594e+00],\n",
       "        [-9.2121e-01,  1.0274e+00],\n",
       "        [-1.1313e+00, -1.0565e+00],\n",
       "        [-4.9518e-01, -9.3062e-01],\n",
       "        [-5.2990e-01, -1.0604e-01],\n",
       "        [-8.8012e-01, -1.6124e+00],\n",
       "        [-9.2121e-01,  1.0274e+00],\n",
       "        [-5.9250e-01, -7.9028e-01],\n",
       "        [ 9.5163e-02, -1.3079e-01],\n",
       "        [-3.0052e-01, -1.4634e+00],\n",
       "        [-8.8012e-01, -1.6124e+00],\n",
       "        [-1.3174e+00, -2.6497e-01],\n",
       "        [-5.2406e-01, -1.2859e+00],\n",
       "        [-4.7334e-02, -6.3714e-01],\n",
       "        [-4.7333e-02, -6.3714e-01],\n",
       "        [-6.5275e-01, -2.2590e-01],\n",
       "        [-5.4363e-01, -5.7606e-01],\n",
       "        [ 9.0737e-02,  3.3673e-01],\n",
       "        [-3.5960e-01, -3.9499e-01],\n",
       "        [-1.1453e+00, -1.1786e+00],\n",
       "        [ 2.2017e-02, -9.2330e-01],\n",
       "        [-8.4439e-01, -1.1229e+00],\n",
       "        [-9.2121e-01,  1.0274e+00],\n",
       "        [-7.3374e-01, -8.3708e-01],\n",
       "        [-3.1877e-02, -1.1805e+00],\n",
       "        [-1.6641e+00, -1.2111e+00],\n",
       "        [-9.2121e-01,  1.0274e+00],\n",
       "        [ 2.2017e-02, -9.2330e-01],\n",
       "        [-4.9518e-01, -9.3062e-01],\n",
       "        [-1.1115e+00, -2.5714e-01],\n",
       "        [-1.6412e-01, -1.1072e+00],\n",
       "        [-4.9797e-01, -1.5469e+00],\n",
       "        [-7.3133e-01, -1.4180e+00],\n",
       "        [-1.8069e+00, -1.1334e+00],\n",
       "        [-8.5110e-01, -1.8572e+00],\n",
       "        [-4.5907e-02, -3.9985e-01],\n",
       "        [-5.3465e-01, -2.9145e-01],\n",
       "        [-3.5441e-01, -1.1569e+00],\n",
       "        [-1.5503e-01, -9.7756e-01],\n",
       "        [-1.4730e+00, -1.5194e-01],\n",
       "        [-6.5275e-01, -2.2590e-01],\n",
       "        [-4.3305e-01,  7.6233e-01],\n",
       "        [-1.0936e+00, -9.6420e-01],\n",
       "        [ 2.2017e-02, -9.2330e-01],\n",
       "        [-2.1701e-01, -1.7630e+00],\n",
       "        [-7.1881e-01, -6.9690e-01],\n",
       "        [ 2.2017e-02, -9.2330e-01],\n",
       "        [-4.3150e-01,  7.9064e-01],\n",
       "        [-1.1453e+00, -1.1786e+00],\n",
       "        [-1.1001e+00, -5.4596e-01],\n",
       "        [-9.2121e-01,  1.0274e+00],\n",
       "        [ 3.3088e-01, -1.8568e+00],\n",
       "        [-6.1616e-01,  3.9908e-01],\n",
       "        [-1.1453e+00, -1.1786e+00],\n",
       "        [-1.6641e+00, -1.2111e+00],\n",
       "        [-6.5053e-01,  5.8363e-02],\n",
       "        [ 5.5050e-01,  1.9796e-01],\n",
       "        [-1.0594e+00, -1.5864e+00],\n",
       "        [-1.3188e+00, -2.6220e+00],\n",
       "        [-6.8666e-01, -6.8228e-03],\n",
       "        [-5.1978e-04, -1.0331e+00],\n",
       "        [ 2.2017e-02, -9.2330e-01],\n",
       "        [ 2.2017e-02, -9.2330e-01],\n",
       "        [ 1.6508e-01, -6.3261e-01],\n",
       "        [-3.7932e-01, -5.1474e-01],\n",
       "        [-2.9853e-01, -8.9552e-01],\n",
       "        [-9.2121e-01,  1.0274e+00],\n",
       "        [-8.8506e-01, -1.6603e-01],\n",
       "        [ 2.2017e-02, -9.2330e-01],\n",
       "        [-5.0150e-01, -9.9852e-01],\n",
       "        [-7.5819e-01,  3.2013e-01],\n",
       "        [-1.8679e+00, -1.2152e+00],\n",
       "        [-9.2121e-01,  1.0274e+00],\n",
       "        [-5.6504e-01, -1.7411e+00],\n",
       "        [ 5.3574e-01, -4.8231e-01],\n",
       "        [-6.2432e-01, -1.3727e+00],\n",
       "        [-1.6143e-01, -1.9590e-01],\n",
       "        [-5.0368e-01, -8.4429e-01],\n",
       "        [-1.9193e-01, -3.6753e-01],\n",
       "        [-4.2765e-01,  5.1778e-01],\n",
       "        [-3.6954e-01, -1.7559e+00],\n",
       "        [-9.2121e-01,  1.0274e+00],\n",
       "        [-6.5158e-01, -4.8751e-01],\n",
       "        [-1.1168e+00, -6.7426e-01],\n",
       "        [ 2.2017e-02, -9.2330e-01],\n",
       "        [-2.9874e-01, -2.5098e-01],\n",
       "        [-8.2480e-01, -1.2963e+00],\n",
       "        [ 2.2017e-02, -9.2330e-01],\n",
       "        [-3.2676e-01, -4.2459e-01],\n",
       "        [-1.7473e+00, -1.1551e+00],\n",
       "        [-8.1193e-01, -2.6068e-01],\n",
       "        [-2.7267e-01, -1.7680e+00],\n",
       "        [-9.2121e-01,  1.0274e+00],\n",
       "        [-3.8770e-01, -2.4321e+00],\n",
       "        [-8.8012e-01, -1.6124e+00],\n",
       "        [-5.7176e-01, -7.6781e-01],\n",
       "        [ 2.2017e-02, -9.2330e-01],\n",
       "        [-9.2121e-01,  1.0274e+00],\n",
       "        [ 2.2017e-02, -9.2330e-01],\n",
       "        [-6.1856e-01, -1.1265e+00],\n",
       "        [-9.2121e-01,  1.0274e+00],\n",
       "        [-9.6068e-01, -7.4722e-01],\n",
       "        [-3.8722e-01, -1.4817e+00],\n",
       "        [-1.3263e+00, -5.0100e-01],\n",
       "        [-1.1453e+00, -1.1786e+00],\n",
       "        [-1.1663e+00,  6.0711e-01],\n",
       "        [ 2.2017e-02, -9.2330e-01],\n",
       "        [-9.2121e-01,  1.0274e+00],\n",
       "        [-6.3887e-01, -6.0675e-01],\n",
       "        [-8.1652e-01, -7.9279e-01],\n",
       "        [-3.8065e-01,  1.9515e-01],\n",
       "        [-3.9110e-01, -2.8955e-01],\n",
       "        [ 2.2017e-02, -9.2330e-01],\n",
       "        [-1.0695e+00,  2.6029e-01],\n",
       "        [-1.3263e+00, -5.0100e-01],\n",
       "        [-4.5704e-01,  8.3444e-01],\n",
       "        [-1.6385e-01, -5.5264e-01],\n",
       "        [-5.1842e-02, -9.6232e-01],\n",
       "        [-2.9800e-02, -3.2044e-01],\n",
       "        [-8.1494e-01,  9.6533e-02],\n",
       "        [-3.2676e-01, -4.2459e-01],\n",
       "        [-5.1543e-01, -9.1823e-01],\n",
       "        [-1.8721e-01, -1.0197e+00],\n",
       "        [-1.8885e-01, -1.3254e+00],\n",
       "        [-5.9474e-01, -3.3005e-01],\n",
       "        [-1.8069e+00, -1.1334e+00],\n",
       "        [-3.8734e-01,  4.7219e-01],\n",
       "        [-6.9096e-01, -1.6831e+00],\n",
       "        [-9.5126e-01,  8.6445e-01],\n",
       "        [-9.2121e-01,  1.0274e+00]], grad_fn=<AddmmBackward>)"
      ]
     },
     "execution_count": 160,
     "metadata": {},
     "output_type": "execute_result"
    }
   ],
   "source": [
    "#!g1.1\n",
    "model(example[0])"
   ]
  },
  {
   "cell_type": "markdown",
   "metadata": {
    "cellId": "s2o4nune6c9pdxdpn3694",
    "execution_id": "c78b3ee9-846e-4418-9335-b3b8058ed5e0",
    "id": "JwhE7IhRAh_Y"
   },
   "source": [
    "## Training Model!"
   ]
  },
  {
   "cell_type": "code",
   "execution_count": 161,
   "metadata": {
    "cellId": "vf57grkbgwkhbb1cw9ec1p"
   },
   "outputs": [
    {
     "data": {
      "text/plain": [
       "device(type='cuda')"
      ]
     },
     "execution_count": 161,
     "metadata": {},
     "output_type": "execute_result"
    }
   ],
   "source": [
    "#!g1.1\n",
    "device"
   ]
  },
  {
   "cell_type": "code",
   "execution_count": 178,
   "metadata": {
    "cellId": "pq1cdazkbna4yixg8lcdl",
    "id": "Hi-wNpaBAh_Y"
   },
   "outputs": [],
   "source": [
    "#!g1.1\n",
    "model = TransformerModel(len(all_tokenized_words) + 16, 16, 4, 2).to(device)\n",
    "optimizer = torch.optim.Adam(model.parameters(), lr=1e-3)\n",
    "criterion = torch.nn.CrossEntropyLoss()"
   ]
  },
  {
   "cell_type": "code",
   "execution_count": 179,
   "metadata": {
    "cellId": "hjazhy1su4sam69j8ptlq6",
    "id": "aSgxsd24Ah_Y"
   },
   "outputs": [],
   "source": [
    "#!g1.1\n",
    "def train_model(model, criterion, optimizer, num_epochs=10):\n",
    "    len_train_dataset = len(train_dataset)\n",
    "    for epoch in tnrange(num_epochs): \n",
    "        model.train()\n",
    "\n",
    "        for batch in tqdm(\n",
    "            train_dataloader, \n",
    "            leave=False, \n",
    "            total=len_train_dataset / BATCH_SIZE\n",
    "        ):\n",
    "            inputs, labels = batch\n",
    "            inputs = inputs.to(device)\n",
    "            labels = labels.to(device)\n",
    "\n",
    "            optimizer.zero_grad()\n",
    "            outputs = model(inputs)\n",
    "\n",
    "            num_classes = outputs.size(-1)\n",
    "            loss = criterion(outputs.view(-1, num_classes), labels.view(-1))\n",
    "            optimizer.step()\n",
    "\n",
    "    return model"
   ]
  },
  {
   "cell_type": "code",
   "execution_count": 180,
   "metadata": {
    "cellId": "1x2r7sz7dtigrsnf9w4aa8",
    "colab": {
     "base_uri": "https://localhost:8080/",
     "height": 49,
     "referenced_widgets": [
      "be081cc47ece482c87c6efbc6a0b921f",
      "028e3422550449aaa312c15229c1c588",
      "11f31d6b191e43c2b20ab464ec55c6bc",
      "7607b1ef4bad447ea34bdff5dd4ac28f",
      "df8586bbb4e749ba87ed5e1d965b5acd",
      "269770799d4d4f4ab756061804be450d",
      "2f455d576d55436c869d4a92cf97c238",
      "39673628938e4b80a752b2b81a1daf42",
      "aa33531fb7f94ad1a2dd2e1f468161b4",
      "9c2d1bd761354cb2a7f44854c5a2fb31",
      "231cecfd58d245cb8ac24130f8e623c7",
      "e5800dc2086649bf8fef09389f330d2e",
      "0e31dec5bd9d499a8757882ef1faf9b7",
      "432e999b383e4f099dbba7fcc32fa899",
      "25a6f5c70a1d4395ba34792fd1d25f40",
      "1fb0480ba12f43aca3d115f8386e0cac",
      "9b0cd8b9f13d4b17ad9c5e15207564e9",
      "eb270f70f66241cd91164c2bb59cb8f7",
      "2dd3c9b098204e2c94fa91244bd1b575",
      "2b8f5d1ac72f41e898c7b39feb5c6544",
      "c3f0f82039b64ebd93fd914849700dac",
      "012979e816774460b323775e57346cdb"
     ]
    },
    "id": "gkPIkr-883xt",
    "outputId": "b35ee608-8228-4edf-adab-166aa801c39b"
   },
   "outputs": [
    {
     "data": {
      "application/vnd.jupyter.widget-view+json": {
       "model_id": "7fa31cdc2e8a44379955579a93576713",
       "version_major": 2,
       "version_minor": 0
      },
      "text/plain": [
       "  0%|          | 0/20 [00:00<?, ?it/s]"
      ]
     },
     "metadata": {},
     "output_type": "display_data"
    },
    {
     "data": {
      "application/vnd.jupyter.widget-view+json": {
       "model_id": "09d4ad715ddd46d98b8abe26af86d71e",
       "version_major": 2,
       "version_minor": 0
      },
      "text/plain": [
       "  0%|          | 0/263.08203125 [00:00<?, ?it/s]"
      ]
     },
     "metadata": {},
     "output_type": "display_data"
    },
    {
     "data": {
      "application/vnd.jupyter.widget-view+json": {
       "model_id": "8b0044928ee147c691de57ccb876e2f0",
       "version_major": 2,
       "version_minor": 0
      },
      "text/plain": [
       "  0%|          | 0/263.08203125 [00:00<?, ?it/s]"
      ]
     },
     "metadata": {},
     "output_type": "display_data"
    },
    {
     "data": {
      "application/vnd.jupyter.widget-view+json": {
       "model_id": "e47cfb97b70f40d8bbb0e91bcad75491",
       "version_major": 2,
       "version_minor": 0
      },
      "text/plain": [
       "  0%|          | 0/263.08203125 [00:00<?, ?it/s]"
      ]
     },
     "metadata": {},
     "output_type": "display_data"
    },
    {
     "data": {
      "application/vnd.jupyter.widget-view+json": {
       "model_id": "5276a2b9587d490a821e669ee23f325d",
       "version_major": 2,
       "version_minor": 0
      },
      "text/plain": [
       "  0%|          | 0/263.08203125 [00:00<?, ?it/s]"
      ]
     },
     "metadata": {},
     "output_type": "display_data"
    },
    {
     "data": {
      "application/vnd.jupyter.widget-view+json": {
       "model_id": "b75ee9db64b84e77a1d929900f492066",
       "version_major": 2,
       "version_minor": 0
      },
      "text/plain": [
       "  0%|          | 0/263.08203125 [00:00<?, ?it/s]"
      ]
     },
     "metadata": {},
     "output_type": "display_data"
    },
    {
     "data": {
      "application/vnd.jupyter.widget-view+json": {
       "model_id": "0ab466cef18848ad94a39981e81a756c",
       "version_major": 2,
       "version_minor": 0
      },
      "text/plain": [
       "  0%|          | 0/263.08203125 [00:00<?, ?it/s]"
      ]
     },
     "metadata": {},
     "output_type": "display_data"
    },
    {
     "data": {
      "application/vnd.jupyter.widget-view+json": {
       "model_id": "c12814d017254d2facc445466daff204",
       "version_major": 2,
       "version_minor": 0
      },
      "text/plain": [
       "  0%|          | 0/263.08203125 [00:00<?, ?it/s]"
      ]
     },
     "metadata": {},
     "output_type": "display_data"
    },
    {
     "data": {
      "application/vnd.jupyter.widget-view+json": {
       "model_id": "cc5e91a8975644a7929e9bb70b79e8bd",
       "version_major": 2,
       "version_minor": 0
      },
      "text/plain": [
       "  0%|          | 0/263.08203125 [00:00<?, ?it/s]"
      ]
     },
     "metadata": {},
     "output_type": "display_data"
    },
    {
     "data": {
      "application/vnd.jupyter.widget-view+json": {
       "model_id": "f0f5aa881d0e4ed79157abcdb9b7907f",
       "version_major": 2,
       "version_minor": 0
      },
      "text/plain": [
       "  0%|          | 0/263.08203125 [00:00<?, ?it/s]"
      ]
     },
     "metadata": {},
     "output_type": "display_data"
    },
    {
     "data": {
      "application/vnd.jupyter.widget-view+json": {
       "model_id": "f51767a45b1c485f955ce6cd6e199ae2",
       "version_major": 2,
       "version_minor": 0
      },
      "text/plain": [
       "  0%|          | 0/263.08203125 [00:00<?, ?it/s]"
      ]
     },
     "metadata": {},
     "output_type": "display_data"
    },
    {
     "data": {
      "application/vnd.jupyter.widget-view+json": {
       "model_id": "7c636eab3cad47dfa030854f8c8c523e",
       "version_major": 2,
       "version_minor": 0
      },
      "text/plain": [
       "  0%|          | 0/263.08203125 [00:00<?, ?it/s]"
      ]
     },
     "metadata": {},
     "output_type": "display_data"
    },
    {
     "data": {
      "application/vnd.jupyter.widget-view+json": {
       "model_id": "36b21168c0414d968b13e6b1695d59c5",
       "version_major": 2,
       "version_minor": 0
      },
      "text/plain": [
       "  0%|          | 0/263.08203125 [00:00<?, ?it/s]"
      ]
     },
     "metadata": {},
     "output_type": "display_data"
    },
    {
     "data": {
      "application/vnd.jupyter.widget-view+json": {
       "model_id": "2caead940a6a4eb985300d1c6519f7ec",
       "version_major": 2,
       "version_minor": 0
      },
      "text/plain": [
       "  0%|          | 0/263.08203125 [00:00<?, ?it/s]"
      ]
     },
     "metadata": {},
     "output_type": "display_data"
    },
    {
     "data": {
      "application/vnd.jupyter.widget-view+json": {
       "model_id": "4a13b05e564c4bd5a7e0decd3ee0e201",
       "version_major": 2,
       "version_minor": 0
      },
      "text/plain": [
       "  0%|          | 0/263.08203125 [00:00<?, ?it/s]"
      ]
     },
     "metadata": {},
     "output_type": "display_data"
    },
    {
     "data": {
      "application/vnd.jupyter.widget-view+json": {
       "model_id": "28d7090ea8fb4765ba331b3429f2bc4e",
       "version_major": 2,
       "version_minor": 0
      },
      "text/plain": [
       "  0%|          | 0/263.08203125 [00:00<?, ?it/s]"
      ]
     },
     "metadata": {},
     "output_type": "display_data"
    },
    {
     "data": {
      "application/vnd.jupyter.widget-view+json": {
       "model_id": "53011f945fd245a9b10723032b3c98d9",
       "version_major": 2,
       "version_minor": 0
      },
      "text/plain": [
       "  0%|          | 0/263.08203125 [00:00<?, ?it/s]"
      ]
     },
     "metadata": {},
     "output_type": "display_data"
    },
    {
     "data": {
      "application/vnd.jupyter.widget-view+json": {
       "model_id": "0e708907f1f547c1b5d203f475ee65a0",
       "version_major": 2,
       "version_minor": 0
      },
      "text/plain": [
       "  0%|          | 0/263.08203125 [00:00<?, ?it/s]"
      ]
     },
     "metadata": {},
     "output_type": "display_data"
    },
    {
     "data": {
      "application/vnd.jupyter.widget-view+json": {
       "model_id": "07ca127000c743d5a496cd91019a6fd7",
       "version_major": 2,
       "version_minor": 0
      },
      "text/plain": [
       "  0%|          | 0/263.08203125 [00:00<?, ?it/s]"
      ]
     },
     "metadata": {},
     "output_type": "display_data"
    },
    {
     "data": {
      "application/vnd.jupyter.widget-view+json": {
       "model_id": "7729ab539351418884ebfc8e6ccaa68f",
       "version_major": 2,
       "version_minor": 0
      },
      "text/plain": [
       "  0%|          | 0/263.08203125 [00:00<?, ?it/s]"
      ]
     },
     "metadata": {},
     "output_type": "display_data"
    },
    {
     "data": {
      "application/vnd.jupyter.widget-view+json": {
       "model_id": "7b450dd354984c61a2fec929cccf24cf",
       "version_major": 2,
       "version_minor": 0
      },
      "text/plain": [
       "  0%|          | 0/263.08203125 [00:00<?, ?it/s]"
      ]
     },
     "metadata": {},
     "output_type": "display_data"
    }
   ],
   "source": [
    "#!g1.1\n",
    "trained_model = train_model(\n",
    "    model=model, \n",
    "    criterion=criterion,\n",
    "    optimizer=optimizer, \n",
    "    num_epochs=20\n",
    ")"
   ]
  },
  {
   "cell_type": "code",
   "execution_count": 181,
   "metadata": {
    "cellId": "dmabhid3f0tui1nlusq2ik",
    "id": "zAZQ45BD5L46"
   },
   "outputs": [],
   "source": [
    "#!g1.1\n",
    "def validate_model(model, criterion):\n",
    "    current_loss = 0.0 \n",
    "    current_corrects = 0.0\n",
    "    best_acc = 0.0\n",
    "    len_valid_dataloader = len(valid_dataloader)\n",
    "    since = time.time() \n",
    "\n",
    "    with torch.inference_mode():\n",
    "        model.eval() # Set model to evaluate mode \n",
    "        for batch in valid_dataloader:\n",
    "            inputs, labels = batch\n",
    "            \n",
    "            inputs = inputs.to(device)\n",
    "            labels = labels.to(device)\n",
    "\n",
    "            outputs = model(inputs)\n",
    "            _, preds = torch.max(outputs, 1) \n",
    "          \n",
    "            num_classes = outputs.size(-1)\n",
    "            current_loss += criterion(outputs.view(-1, num_classes), labels.view(-1))\n",
    "            current_corrects += torch.sum(preds == labels.data) \n",
    "\n",
    "    print('Loss: {:.4f}'.format(current_loss / len_valid_dataloader))\n",
    "    print('Acc: {:.4f}'.format(current_corrects / len_valid_dataloader / BATCH_SIZE))\n",
    "    return current_loss"
   ]
  },
  {
   "cell_type": "code",
   "execution_count": 182,
   "metadata": {
    "cellId": "j8lpmw3h5uijnyplvq2h",
    "colab": {
     "base_uri": "https://localhost:8080/"
    },
    "id": "Xa8u0a3DRYc9",
    "outputId": "c6a26259-a999-4074-a84a-86d211ddda6f"
   },
   "outputs": [
    {
     "name": "stdout",
     "output_type": "stream",
     "text": [
      "Loss: 0.7881\n",
      "Acc: 0.4375\n"
     ]
    }
   ],
   "source": [
    "#!g1.1\n",
    "validate_los = validate_model(model, criterion)"
   ]
  },
  {
   "cell_type": "markdown",
   "metadata": {
    "cellId": "t0j0rrb8w7bmfcboh5na",
    "id": "JZgrcvfzAh_Y"
   },
   "source": [
    "## Autoregressive Attention\n",
    "\n",
    "Попробуем другой способ решения задачи -- заставим модель генерировать токен, который будет означать тот или иной класс. Добавим эти токены и несколько других -- BOS, EOS."
   ]
  },
  {
   "cell_type": "code",
   "execution_count": 183,
   "metadata": {
    "cellId": "d7fmyrtrg8wnr5i31cuxbr",
    "id": "2bbTmn9XAh_Z"
   },
   "outputs": [],
   "source": [
    "#!g1.1\n",
    "words_to_ids[\"[BOS]\"] = 1\n",
    "words_to_ids[\"[EOS]\"] = 2"
   ]
  },
  {
   "cell_type": "code",
   "execution_count": 184,
   "metadata": {
    "cellId": "tq11pzlbxs8jb6gk6mifs",
    "id": "l2HeJ8gEAh_Z"
   },
   "outputs": [],
   "source": [
    "#!g1.1\n",
    "class SST2DatasetForSeqCls(torch.utils.data.Dataset):\n",
    "    def __init__(self, tokenizer, words_to_ids, dataset, max_len=64):\n",
    "        self.tokenizer = tokenizer\n",
    "        self.words_to_ids = words_to_ids\n",
    "        \n",
    "        def tokenizer_sentece(example):\n",
    "            return {\"tokens\": self.tokenizer(example[\"sentence\"])}\n",
    "        \n",
    "        def convert_words_to_ids(example):\n",
    "            # don't forget to add new tokes for classes\n",
    "            return {\"ids\": [self.words_to_ids[token] for token in example[\"tokens\"]]}\n",
    "\n",
    "        dataset = dataset.map(tokenizer_sentece)\n",
    "        \n",
    "        self.dataset = dataset.map(convert_words_to_ids)\n",
    "        self.max_len = max_len\n",
    "\n",
    "    def __len__(self):\n",
    "        return len(self.dataset)\n",
    "\n",
    "    def __getitem__(self, index):\n",
    "        tokens = [1] + self.dataset[index][\"ids\"][:self.max_len - 2] + [2]\n",
    "        if len(tokens) < self.max_len:\n",
    "            tokens += [2 for _ in range(self.max_len - len(tokens))]\n",
    "        return tokens"
   ]
  },
  {
   "cell_type": "code",
   "execution_count": 185,
   "metadata": {
    "cellId": "gir3orhsadfcvjbs21j5a",
    "id": "0g9La3JMc_vT"
   },
   "outputs": [],
   "source": [
    "#!g1.1\n",
    "def collate_fn(items):\n",
    "    return torch.tensor(items)"
   ]
  },
  {
   "cell_type": "code",
   "execution_count": 211,
   "metadata": {
    "cellId": "h2xfofky8dt4rdd8591rr"
   },
   "outputs": [
    {
     "data": {
      "text/plain": [
       "Dataset({\n",
       "    features: ['idx', 'sentence', 'label'],\n",
       "    num_rows: 67349\n",
       "})"
      ]
     },
     "execution_count": 211,
     "metadata": {},
     "output_type": "execute_result"
    }
   ],
   "source": [
    "#!g1.1\n",
    "sst2_dataset[\"train\"]"
   ]
  },
  {
   "cell_type": "code",
   "execution_count": 186,
   "metadata": {
    "cellId": "lhdz0xcnw2y9cgdz4cqn",
    "colab": {
     "base_uri": "https://localhost:8080/",
     "height": 17,
     "referenced_widgets": [
      "7b545048d0fe44e08b7a56f5e091f3fd",
      "5c670262a10748ac943802a515c9eb04",
      "9a20df89262d4b2c8c36d1a83db93b9b",
      "008c34b1a7e74322a0149c70768d60de",
      "397358ef921b46b4abdffe712ccea906",
      "2a72f18c35924f458637c916ab7cc74d",
      "bc34f5960a3546d0a98b0078bb76c37f",
      "1880276479944de3ba285208da3bb99c",
      "9d756ce1e2f84070b7ae4292ac77cd36",
      "19d6bc19105c4e71826f35b99aebed51",
      "50194bed8e9342a1a1d7bb950861d945",
      "3376eda7812741dcaf660b55503b43e8",
      "627ccc485dcb447fa80a26e1a68d4bd2",
      "05a86e3109ca4fbea776b45941aecc00",
      "8ad65c4c24694f60b0bb218f167b8adb",
      "c8c7b047461a437ba1fcecb18b234fa2",
      "bcd40d36564e43d9b6a6fd28b4042a68",
      "56541edd6fc243a4b293703ea8ba76e3",
      "6d2045180f4c4c7f95e056a099f11454",
      "ebf5a0b20fbc43a38bc862d1446f68ed",
      "6daa26cab2144489ad733c31b8089111",
      "f9ccf65f206b4b59af1e6f8aa7d2575e",
      "2afb71a3ae6740caa73b21c14e297065",
      "b3a3d2ea7d2940d49b25629bf99adbf3",
      "5d62cfc5349c45e6b861d3ecfbd9b77f",
      "b29ddc4afea74d2d80d73ad887d2f251",
      "0b04cb7dfce24b0288519c692827d4a5",
      "71a9c0c3a8f544da912bca258c0689e3",
      "c1facc09aa2045449083031c50793391",
      "b71865ff78194d7581805298d25e6234",
      "9b14de4639814feea7d6d6a33259b74f",
      "20c90d6e54924f0183794e49e956372d",
      "cb281a69751d45aab09932bfb08359d1",
      "c58288c64b0f4f369646c96c5f1f8162",
      "7b37003d3c2641be85cc0eacf39454a7",
      "b9659a38154f416cbd65100113a06389",
      "4a1b7174ed7a437dbb80c40c8ad1e933",
      "9fee147bc9d94a6db0308b94aa0660e6",
      "9a0d77a80f4c45a2ac3d087225af4f75",
      "1b0ab6b687694f59b511bd2aea431bc5",
      "69af257902f144fa8825bc360eb146e6",
      "98d8fb777b1b4c418c6f01d329873ea7",
      "9b10bf2e69ec42bfb7d7aacddd6c4f52",
      "8b0cd5addbd840479cd9d380f69a8c94"
     ]
    },
    "id": "_HPBN-n7Ah_Z",
    "outputId": "4d398ce9-e742-40a4-ee5a-7ce97d3b0ec2"
   },
   "outputs": [
    {
     "data": {
      "application/vnd.jupyter.widget-view+json": {
       "model_id": "dbe83f68641b489e9c4eafa0a4f51c73",
       "version_major": 2,
       "version_minor": 0
      },
      "text/plain": [
       "Map:   0%|          | 0/67349 [00:00<?, ? examples/s]"
      ]
     },
     "metadata": {},
     "output_type": "display_data"
    },
    {
     "data": {
      "application/vnd.jupyter.widget-view+json": {
       "model_id": "9007d439f3d540cb813281fe4e1d7584",
       "version_major": 2,
       "version_minor": 0
      },
      "text/plain": [
       "Map:   0%|          | 0/67349 [00:00<?, ? examples/s]"
      ]
     },
     "metadata": {},
     "output_type": "display_data"
    },
    {
     "data": {
      "application/vnd.jupyter.widget-view+json": {
       "model_id": "feb1bbd044374660a0d6fa3e209e74ef",
       "version_major": 2,
       "version_minor": 0
      },
      "text/plain": [
       "Map:   0%|          | 0/872 [00:00<?, ? examples/s]"
      ]
     },
     "metadata": {},
     "output_type": "display_data"
    },
    {
     "data": {
      "application/vnd.jupyter.widget-view+json": {
       "model_id": "40671183b3a74a279a379277803b43d0",
       "version_major": 2,
       "version_minor": 0
      },
      "text/plain": [
       "Map:   0%|          | 0/872 [00:00<?, ? examples/s]"
      ]
     },
     "metadata": {},
     "output_type": "display_data"
    }
   ],
   "source": [
    "#!g1.1\n",
    "train_dataset = SST2DatasetForSeqCls(tokenize_pipeline, words_to_ids, sst2_dataset[\"train\"])\n",
    "valid_dataset = SST2DatasetForSeqCls(tokenize_pipeline, words_to_ids, sst2_dataset[\"validation\"])\n",
    "\n",
    "train_dataloader = torch.utils.data.DataLoader(train_dataset, batch_size=BATCH_SIZE, collate_fn=collate_fn)\n",
    "valid_dataloader = torch.utils.data.DataLoader(valid_dataset, batch_size=BATCH_SIZE, collate_fn=collate_fn)"
   ]
  },
  {
   "cell_type": "code",
   "execution_count": 189,
   "metadata": {
    "cellId": "35i3leujjpgojgb86rrkt",
    "collapsed": true,
    "id": "7_n0Ex6Oxtji",
    "jupyter": {
     "outputs_hidden": true
    }
   },
   "outputs": [
    {
     "data": {
      "text/plain": [
       "[1,\n",
       " 8066,\n",
       " 8746,\n",
       " 10335,\n",
       " 12718,\n",
       " 12905,\n",
       " 10140,\n",
       " 4109,\n",
       " 2,\n",
       " 2,\n",
       " 2,\n",
       " 2,\n",
       " 2,\n",
       " 2,\n",
       " 2,\n",
       " 2,\n",
       " 2,\n",
       " 2,\n",
       " 2,\n",
       " 2,\n",
       " 2,\n",
       " 2,\n",
       " 2,\n",
       " 2,\n",
       " 2,\n",
       " 2,\n",
       " 2,\n",
       " 2,\n",
       " 2,\n",
       " 2,\n",
       " 2,\n",
       " 2,\n",
       " 2,\n",
       " 2,\n",
       " 2,\n",
       " 2,\n",
       " 2,\n",
       " 2,\n",
       " 2,\n",
       " 2,\n",
       " 2,\n",
       " 2,\n",
       " 2,\n",
       " 2,\n",
       " 2,\n",
       " 2,\n",
       " 2,\n",
       " 2,\n",
       " 2,\n",
       " 2,\n",
       " 2,\n",
       " 2,\n",
       " 2,\n",
       " 2,\n",
       " 2,\n",
       " 2,\n",
       " 2,\n",
       " 2,\n",
       " 2,\n",
       " 2,\n",
       " 2,\n",
       " 2,\n",
       " 2,\n",
       " 2]"
      ]
     },
     "execution_count": 189,
     "metadata": {},
     "output_type": "execute_result"
    }
   ],
   "source": [
    "#!g1.1\n",
    "train_dataset[0]"
   ]
  },
  {
   "cell_type": "code",
   "execution_count": 190,
   "metadata": {
    "cellId": "egxqn4b8c1v14ahuvafp708",
    "id": "f0BtEOCrxtgL"
   },
   "outputs": [
    {
     "data": {
      "text/plain": [
       "tensor([[    1,  8066,  8746,  ...,     2,     2,     2],\n",
       "        [    1,  1675,  7278,  ...,     2,     2,     2],\n",
       "        [    1,  8490, 13824,  ...,     2,     2,     2],\n",
       "        ...,\n",
       "        [    1,  3245,  3805,  ...,     2,     2,     2],\n",
       "        [    1, 10263,  2029,  ...,     2,     2,     2],\n",
       "        [    1, 12905,  1965,  ...,     2,     2,     2]])"
      ]
     },
     "execution_count": 190,
     "metadata": {},
     "output_type": "execute_result"
    }
   ],
   "source": [
    "#!g1.1\n",
    "next(iter(train_dataloader))"
   ]
  },
  {
   "cell_type": "markdown",
   "metadata": {
    "cellId": "ksv1tn6ubpbh5tqvosd9jt",
    "id": "HYTpkP44Ah_a"
   },
   "source": [
    "Также нам надо поменять способ для вычисления внимания -- для генерации текста мы не можем смотреть в будущее, то чего ещё нет. Добавим в вычисление маски!"
   ]
  },
  {
   "cell_type": "code",
   "execution_count": 191,
   "metadata": {
    "cellId": "pp096lxmjz5f48lbe41xc",
    "id": "m0pyLfKUj0XO"
   },
   "outputs": [],
   "source": [
    "#!g1.1\n",
    "# mask t < s\n",
    "# K bscl\n",
    "# Q btcl "
   ]
  },
  {
   "cell_type": "code",
   "execution_count": 192,
   "metadata": {
    "cellId": "v28otpht6ze4fubov427",
    "colab": {
     "base_uri": "https://localhost:8080/"
    },
    "id": "vdCEX8T6yNqZ",
    "outputId": "3aa80be9-a80f-41f4-d01e-593d6842779b"
   },
   "outputs": [
    {
     "data": {
      "text/plain": [
       "tensor([[1., 1., 1., 1.],\n",
       "        [0., 1., 1., 1.],\n",
       "        [0., 0., 1., 1.],\n",
       "        [0., 0., 0., 1.]])"
      ]
     },
     "execution_count": 192,
     "metadata": {},
     "output_type": "execute_result"
    }
   ],
   "source": [
    "#!g1.1\n",
    "torch.triu(torch.ones((4, 4)))"
   ]
  },
  {
   "cell_type": "code",
   "execution_count": 193,
   "metadata": {
    "cellId": "pu81qux10qf90wsnau1f64",
    "colab": {
     "base_uri": "https://localhost:8080/"
    },
    "id": "7jY-4ZXqkuA8",
    "outputId": "eb5a4ece-9871-45f5-ff48-d1bd11c63017"
   },
   "outputs": [
    {
     "data": {
      "text/plain": [
       "torch.Size([1, 4, 4, 1])"
      ]
     },
     "execution_count": 193,
     "metadata": {},
     "output_type": "execute_result"
    }
   ],
   "source": [
    "#!g1.1\n",
    "torch.triu(torch.ones((4, 4))).unsqueeze(0).unsqueeze(-1).shape # (bstl)"
   ]
  },
  {
   "cell_type": "code",
   "execution_count": 194,
   "metadata": {
    "cellId": "n79jzvanh52e7g7bcdqa4",
    "id": "s9Qt7M7hAh_a"
   },
   "outputs": [],
   "source": [
    "#!g1.1\n",
    "def masked_attention(K, V, Q, num_head):\n",
    "    batch_size, seq_len, hidden_dim = Q.size()\n",
    "    K = K.reshape(batch_size, seq_len, -1, num_head)\n",
    "    Q = Q.reshape(batch_size, seq_len, -1, num_head)\n",
    "    V = V.reshape(batch_size, seq_len, -1, num_head)\n",
    "    attention = torch.softmax(torch.einsum('bscl,btcl->bstl', [K, Q]) / math.sqrt(hidden_dim // num_head), dim=1)\n",
    "    mask = torch.triu(torch.ones((seq_len, seq_len))).unsqueeze(0).unsqueeze(-1)\n",
    "    masked_attetion = mask * attention\n",
    "    result_headed = torch.einsum('bstl,bscl->btcl', [masked_attetion, V])\n",
    "    return result_headed.reshape(batch_size, seq_len, hidden_dim)\n",
    "\n",
    "# add all other classes"
   ]
  },
  {
   "cell_type": "code",
   "execution_count": 195,
   "metadata": {
    "cellId": "19xy3qgho1noy7ansbrlw",
    "colab": {
     "base_uri": "https://localhost:8080/"
    },
    "id": "W-avKt4qlAQC",
    "outputId": "c21cef52-9bf9-4406-9668-3a7fd81bcf5f"
   },
   "outputs": [
    {
     "data": {
      "text/plain": [
       "torch.Size([1, 10, 16])"
      ]
     },
     "execution_count": 195,
     "metadata": {},
     "output_type": "execute_result"
    }
   ],
   "source": [
    "#!g1.1\n",
    "hidden_example = torch.rand((1, 10, 16))\n",
    "\n",
    "masked_attention(hidden_example, hidden_example, hidden_example, 4).shape"
   ]
  },
  {
   "cell_type": "code",
   "execution_count": 196,
   "metadata": {
    "cellId": "nrv0nfhwuu8pb3efdv8sf",
    "colab": {
     "base_uri": "https://localhost:8080/"
    },
    "id": "eZ-BpeLNyzHx",
    "outputId": "f18fd263-44ac-4c30-b4ad-b88171e72aea"
   },
   "outputs": [
    {
     "data": {
      "text/plain": [
       "tensor([0.0100, 1.0100, 0.0100, 0.0100])"
      ]
     },
     "execution_count": 196,
     "metadata": {},
     "output_type": "execute_result"
    }
   ],
   "source": [
    "#!g1.1\n",
    "hidden_example = torch.eye(4).unsqueeze(0) + 0.01\n",
    "hidden_example[0, 1]"
   ]
  },
  {
   "cell_type": "code",
   "execution_count": 197,
   "metadata": {
    "cellId": "gk1qmxag3d92dsmvn1wbxu",
    "colab": {
     "base_uri": "https://localhost:8080/"
    },
    "id": "ZnYUN9PZyzC2",
    "outputId": "97f90102-122c-4f7c-d4c3-1d5bd10882cb"
   },
   "outputs": [
    {
     "data": {
      "text/plain": [
       "tensor([0.0100, 0.0100, 1.0100, 0.0100])"
      ]
     },
     "execution_count": 197,
     "metadata": {},
     "output_type": "execute_result"
    }
   ],
   "source": [
    "#!g1.1\n",
    "hidden_example[0, 2]"
   ]
  },
  {
   "cell_type": "code",
   "execution_count": 198,
   "metadata": {
    "cellId": "3gwra6g7y1doxsuopmnr7",
    "colab": {
     "base_uri": "https://localhost:8080/"
    },
    "id": "ThghiwIcyy_X",
    "outputId": "51960251-953e-4152-f327-4203ad5912b0"
   },
   "outputs": [
    {
     "data": {
      "text/plain": [
       "tensor([[[0.4826, 0.0025, 0.0025, 0.0025],\n",
       "         [0.2569, 0.4844, 0.0050, 0.0050],\n",
       "         [0.2594, 0.2594, 0.4861, 0.0075],\n",
       "         [0.2619, 0.2619, 0.2619, 0.4879]]])"
      ]
     },
     "execution_count": 198,
     "metadata": {},
     "output_type": "execute_result"
    }
   ],
   "source": [
    "#!g1.1\n",
    "output = masked_attention(hidden_example, hidden_example, hidden_example, 4)\n",
    "output"
   ]
  },
  {
   "cell_type": "code",
   "execution_count": 199,
   "metadata": {
    "cellId": "vvq3x65l7sdcv5u0ux2b0k",
    "colab": {
     "base_uri": "https://localhost:8080/"
    },
    "id": "XvgizhVTyy9I",
    "outputId": "1b267db5-6dff-42d0-ff1a-760a64d8a55a"
   },
   "outputs": [
    {
     "data": {
      "text/plain": [
       "(tensor([[0.4826, 0.0025, 0.0025, 0.0025]]),\n",
       " tensor([[0.2569, 0.4844, 0.0050, 0.0050]]))"
      ]
     },
     "execution_count": 199,
     "metadata": {},
     "output_type": "execute_result"
    }
   ],
   "source": [
    "#!g1.1\n",
    "output[:, 0], output[:, 1]"
   ]
  },
  {
   "cell_type": "code",
   "execution_count": 200,
   "metadata": {
    "cellId": "riaofum35fiovjq2ugqv9",
    "id": "Q9VywPFNgefV"
   },
   "outputs": [],
   "source": [
    "#!g1.1\n",
    "class AutoregressiveAttentionModule(torch.nn.Module):\n",
    "    def __init__(self, hidden_dim: int, num_heads: int):\n",
    "        super().__init__()\n",
    "\n",
    "        self.q_linear = torch.nn.Linear(hidden_dim, hidden_dim)\n",
    "        self.k_linear = torch.nn.Linear(hidden_dim, hidden_dim)\n",
    "        self.v_linear = torch.nn.Linear(hidden_dim, hidden_dim)\n",
    "\n",
    "        self.out_linear = torch.nn.Linear(hidden_dim, hidden_dim)\n",
    "        self.num_heads = num_heads\n",
    "    \n",
    "    def forward(self, hidden_state):\n",
    "        Q = self.q_linear(hidden_state)\n",
    "        K = self.k_linear(hidden_state)\n",
    "        V = self.v_linear(hidden_state)\n",
    "        attention_output = masked_attention(K, V, Q, self.num_heads)\n",
    "        return self.out_linear(attention_output) + hidden_state"
   ]
  },
  {
   "cell_type": "code",
   "execution_count": 201,
   "metadata": {
    "cellId": "x1ejwm2apsho02gtkrq1al",
    "id": "2stQTQa-Ah_a"
   },
   "outputs": [],
   "source": [
    "#!g1.1\n",
    "class AutoregressiveTransformerLayer(torch.nn.Module):\n",
    "    def __init__(self, hidden_dim: int, num_heads: int):\n",
    "        super().__init__()\n",
    "        \n",
    "        self.attention_layer = AutoregressiveAttentionModule(hidden_dim, num_heads)\n",
    "        self.mlp_layer = MLP(hidden_dim)\n",
    "    \n",
    "    def forward(self, hidden_state):\n",
    "        attn_output = self.attention_layer(hidden_state)\n",
    "        mlp_output = self.mlp_layer(attn_output)\n",
    "        return mlp_output"
   ]
  },
  {
   "cell_type": "markdown",
   "metadata": {
    "cellId": "1psll3y86shpjvmfdw7mwj",
    "execution_id": "56aac02b-7fa1-453f-bc21-d76920cb4704",
    "id": "MgIw_Hn5Ah_a"
   },
   "source": [
    "Заставим нашу модель решать задачу авторегрессивной генерации -- предсказывать токен, которые будет следующим!"
   ]
  },
  {
   "cell_type": "code",
   "execution_count": 202,
   "metadata": {
    "cellId": "x7qt4cpolrgywteuvw6so",
    "id": "W5xwwfxhAh_b"
   },
   "outputs": [],
   "source": [
    "#!g1.1\n",
    "class AutoregressiveTransformerModel(torch.nn.Module):\n",
    "    def __init__(self, embedding_size, hidden_dim, num_heads, output_dim, max_seq_len=64):\n",
    "        super().__init__()\n",
    "        \n",
    "        self.word_embedding = torch.nn.Embedding(embedding_size, hidden_dim)\n",
    "        self.pos_embedding = torch.nn.Embedding(max_seq_len, hidden_dim)\n",
    "        \n",
    "        self.attention_layer_0 = TransformerLayer(hidden_dim, num_heads)\n",
    "        self.attention_layer_1 = TransformerLayer(hidden_dim, num_heads)\n",
    "        self.attention_layer_2 = TransformerLayer(hidden_dim,num_heads)\n",
    "        \n",
    "        self.cls_head = torch.nn.Linear(hidden_dim, embedding_size)\n",
    "        \n",
    "    def forward(self, input_ids):\n",
    "        arange_tensor = torch.arange(input_ids.size(-1))\n",
    "\n",
    "        word_embs = self.word_embedding(input_ids)\n",
    "        pos_embs = self.pos_embedding(arange_tensor)\n",
    "        embs = word_embs + pos_embs\n",
    "        hidden_state = self.attention_layer_0(embs)\n",
    "        hidden_state = self.attention_layer_1(hidden_state)\n",
    "        hidden_state = self.attention_layer_2(hidden_state)\n",
    "\n",
    "        return self.cls_head(hidden_state)"
   ]
  },
  {
   "cell_type": "code",
   "execution_count": 203,
   "metadata": {
    "cellId": "viir93et5s99hpj9a8koe",
    "id": "5ms06KKV0MzS"
   },
   "outputs": [],
   "source": [
    "#!g1.1\n",
    "model = AutoregressiveTransformerModel(len(all_tokenized_words) + 16, 16, 4, 2)"
   ]
  },
  {
   "cell_type": "code",
   "execution_count": 204,
   "metadata": {
    "cellId": "i7d1l6i7knaadz6rgfxkwb",
    "id": "nO0HTyri0Rmj"
   },
   "outputs": [],
   "source": [
    "#!g1.1\n",
    "example = next(iter(train_dataloader))"
   ]
  },
  {
   "cell_type": "code",
   "execution_count": 205,
   "metadata": {
    "cellId": "edvqc6vmjkpq7a3c4bood",
    "colab": {
     "base_uri": "https://localhost:8080/"
    },
    "id": "iHx7yn5_0RkU",
    "outputId": "47e767b6-44e0-4067-ba05-63fbdbb00fa9"
   },
   "outputs": [
    {
     "data": {
      "text/plain": [
       "torch.Size([16, 64, 14528])"
      ]
     },
     "execution_count": 205,
     "metadata": {},
     "output_type": "execute_result"
    }
   ],
   "source": [
    "#!g1.1\n",
    "model(example).shape"
   ]
  },
  {
   "cell_type": "code",
   "execution_count": 206,
   "metadata": {
    "cellId": "8l0ggv66frl26yxqnc4ho4",
    "id": "-WtNIE3RAh_b"
   },
   "outputs": [],
   "source": [
    "#!g1.1\n",
    "model = TransformerModel(len(all_tokenized_words) + 16, 16, 4, 2)\n",
    "optimizer = torch.optim.Adam(model.parameters(), lr=1e-3)\n",
    "criterion = torch.nn.CrossEntropyLoss()"
   ]
  },
  {
   "cell_type": "code",
   "execution_count": 208,
   "metadata": {
    "cellId": "tual3tt7z7q3g3gy49fcl1",
    "colab": {
     "base_uri": "https://localhost:8080/"
    },
    "id": "kb3UEZS8Ah_b",
    "outputId": "0b9ef6f1-154a-4f92-e901-6b442136bc54"
   },
   "outputs": [
    {
     "name": "stdout",
     "output_type": "stream",
     "text": [
      "tensor([[    1,  8066,  8746,  ...,     2,     2,     2],\n",
      "        [    1,  1675,  7278,  ...,     2,     2,     2],\n",
      "        [    1,  8490, 13824,  ...,     2,     2,     2],\n",
      "        ...,\n",
      "        [    1,  3245,  3805,  ...,     2,     2,     2],\n",
      "        [    1, 10263,  2029,  ...,     2,     2,     2],\n",
      "        [    1, 12905,  1965,  ...,     2,     2,     2]])\n"
     ]
    }
   ],
   "source": [
    "#!g1.1\n",
    "model.train()\n",
    "\n",
    "for batch in train_dataloader:\n",
    "    print(batch)\n",
    "    break\n",
    "\n",
    "    inputs, labels = batch\n",
    "\n",
    "    optimizer.zero_grad()\n",
    "    outputs = model(inputs)\n",
    "\n",
    "    num_classes = outputs.size(-1)\n",
    "    loss = criterion(outputs.view(-1, num_classes), labels.view(-1))\n",
    "    optimizer.step()"
   ]
  },
  {
   "cell_type": "code",
   "execution_count": 209,
   "metadata": {
    "cellId": "tg3p0707w3wu1ruz5knae",
    "id": "Li-AxusCSO7a"
   },
   "outputs": [
    {
     "ename": "ValueError",
     "evalue": "too many values to unpack (expected 2)",
     "output_type": "error",
     "traceback": [
      "\u001b[0;31m---------------------------------------------------------------------------\u001b[0m",
      "\u001b[0;31mValueError\u001b[0m                                Traceback (most recent call last)",
      "\u001b[0;32m<ipython-input-128-779bc2ed6e3e>\u001b[0m in \u001b[0;36m<module>\u001b[0;34m\u001b[0m\n\u001b[0;32m----> 1\u001b[0;31m \u001b[0mvalidate_los\u001b[0m \u001b[0;34m=\u001b[0m \u001b[0mvalidate_model\u001b[0m\u001b[0;34m(\u001b[0m\u001b[0mmodel\u001b[0m\u001b[0;34m,\u001b[0m \u001b[0mcriterion\u001b[0m\u001b[0;34m)\u001b[0m\u001b[0;34m\u001b[0m\u001b[0;34m\u001b[0m\u001b[0m\n\u001b[0m\u001b[1;32m      2\u001b[0m \u001b[0;31m#\u001b[0m\u001b[0;34m\u001b[0m\u001b[0;34m\u001b[0m\u001b[0;34m\u001b[0m\u001b[0m\n",
      "\u001b[0;32m<ipython-input-100-79e803090c8e>\u001b[0m in \u001b[0;36mvalidate_model\u001b[0;34m(model, criterion)\u001b[0m\n\u001b[1;32m      9\u001b[0m         \u001b[0mmodel\u001b[0m\u001b[0;34m.\u001b[0m\u001b[0meval\u001b[0m\u001b[0;34m(\u001b[0m\u001b[0;34m)\u001b[0m \u001b[0;31m# Set model to evaluate mode\u001b[0m\u001b[0;34m\u001b[0m\u001b[0;34m\u001b[0m\u001b[0m\n\u001b[1;32m     10\u001b[0m         \u001b[0;32mfor\u001b[0m \u001b[0mbatch\u001b[0m \u001b[0;32min\u001b[0m \u001b[0mvalid_dataloader\u001b[0m\u001b[0;34m:\u001b[0m\u001b[0;34m\u001b[0m\u001b[0;34m\u001b[0m\u001b[0m\n\u001b[0;32m---> 11\u001b[0;31m             \u001b[0minputs\u001b[0m\u001b[0;34m,\u001b[0m \u001b[0mlabels\u001b[0m \u001b[0;34m=\u001b[0m \u001b[0mbatch\u001b[0m\u001b[0;34m\u001b[0m\u001b[0;34m\u001b[0m\u001b[0m\n\u001b[0m\u001b[1;32m     12\u001b[0m \u001b[0;34m\u001b[0m\u001b[0m\n\u001b[1;32m     13\u001b[0m             \u001b[0minputs\u001b[0m \u001b[0;34m=\u001b[0m \u001b[0minputs\u001b[0m\u001b[0;34m.\u001b[0m\u001b[0mto\u001b[0m\u001b[0;34m(\u001b[0m\u001b[0mdevice\u001b[0m\u001b[0;34m)\u001b[0m\u001b[0;34m\u001b[0m\u001b[0;34m\u001b[0m\u001b[0m\n",
      "\u001b[0;31mValueError\u001b[0m: too many values to unpack (expected 2)"
     ]
    }
   ],
   "source": [
    "#!g1.1\n",
    "validate_los = validate_model(model, criterion)"
   ]
  },
  {
   "cell_type": "markdown",
   "metadata": {
    "cellId": "5lvgb53vlwcjtuwbidm6os",
    "id": "6ebdRiHTAh_d"
   },
   "source": [
    "## `transformers` lib\n",
    "\n",
    "Попробуем решить нашу задачу с помощью предобученной модели [DistilBERT](https://huggingface.co/transformers/model_doc/distilbert.html). Для этого мы будем использовать библиотеку `transformers`."
   ]
  },
  {
   "cell_type": "code",
   "execution_count": 66,
   "metadata": {
    "cellId": "wbgb43zoxf2ys9sf2mnao",
    "id": "nyL2wrAElLFi"
   },
   "outputs": [],
   "source": [
    "import transformers"
   ]
  },
  {
   "cell_type": "code",
   "execution_count": 67,
   "metadata": {
    "cellId": "wkvo1sjmx1eujuhn41lnd",
    "colab": {
     "base_uri": "https://localhost:8080/"
    },
    "id": "-hCsYMxmAh_d",
    "outputId": "5436658a-115d-4d5d-b20a-737f48653b19"
   },
   "outputs": [],
   "source": [
    "tokenizer = transformers.AutoTokenizer.from_pretrained(\"distilbert-base-uncased\")\n",
    "model = transformers.AutoModelForSequenceClassification.from_pretrained(\"distilbert-base-uncased\")"
   ]
  },
  {
   "cell_type": "code",
   "execution_count": 68,
   "metadata": {
    "cellId": "6ekmd22smkfa3zafynzey4",
    "colab": {
     "base_uri": "https://localhost:8080/"
    },
    "id": "4NbdloZylm-x",
    "outputId": "f5867636-efdd-4730-e7b8-d4354f4dc441"
   },
   "outputs": [],
   "source": [
    "tokenizer(\"Hi!\", return_tensors=\"pt\", padding='max_length', max_length=128)"
   ]
  },
  {
   "cell_type": "markdown",
   "metadata": {
    "cellId": "i0dij5e9v6sjx9z4em238f",
    "id": "uPKat4SyAh_d"
   },
   "source": [
    "Подготовим датасет и процесс обучения. Для обучения будем использовать [Trainer](https://huggingface.co/docs/transformers/main_classes/trainer)."
   ]
  },
  {
   "cell_type": "code",
   "execution_count": 69,
   "metadata": {
    "cellId": "u329igk31ym6bbnryz92lt",
    "id": "_1PxQFgTAh_d"
   },
   "outputs": [],
   "source": [
    "class SST2Dataset4DistillBert(torch.utils.data.Dataset):\n",
    "    def __init__(self, tokenizer, dataset):        \n",
    "        self.dataset = dataset\n",
    "        self.tokenizer = tokenizer\n",
    "        \n",
    "        # what must be saved?\n",
    "\n",
    "    def __len__(self):\n",
    "        return len(self.dataset)\n",
    "\n",
    "    def __getitem__(self, index):\n",
    "        example = self.dataset[index]\n",
    "        return ... # what must be done?"
   ]
  },
  {
   "cell_type": "code",
   "execution_count": 70,
   "metadata": {
    "cellId": "hgcwld0dk1wbwdgkictrmb",
    "id": "-Csf9RTZAh_e"
   },
   "outputs": [],
   "source": [
    "train_dataset = SST2Dataset4DistillBert(tokenize_pipeline, sst2_dataset[\"train\"])\n",
    "valid_dataset = SST2Dataset4DistillBert(tokenize_pipeline, sst2_dataset[\"validation\"])"
   ]
  },
  {
   "cell_type": "markdown",
   "metadata": {
    "cellId": "e0u5zt7b1mjwji4vclqi",
    "id": "tsZXR2yzAh_e"
   },
   "source": [
    "Подготовим метрики для проверки того, что модель обучается."
   ]
  },
  {
   "cell_type": "code",
   "execution_count": 71,
   "metadata": {
    "cellId": "9co7nps79cuxk55lq7koc",
    "id": "R905dP0bAh_e"
   },
   "outputs": [],
   "source": [
    "metric = evaluate.load(\"accuracy\")"
   ]
  },
  {
   "cell_type": "code",
   "execution_count": 72,
   "metadata": {
    "cellId": "4uo9u5qp7tql1wsxrb0f7",
    "id": "24-_zydyAh_e"
   },
   "outputs": [],
   "source": [
    "import numpy as np\n",
    "\n",
    "def compute_metrics(eval_pred):\n",
    "    logits, labels = eval_pred\n",
    "    predictions = np.argmax(logits, axis=-1)\n",
    "    return metric.compute(predictions=predictions, references=labels)"
   ]
  },
  {
   "cell_type": "markdown",
   "metadata": {
    "cellId": "7lg2ppdd5yi2nqt3aair35",
    "id": "5cgJIl_KAh_f"
   },
   "source": [
    "И поставим обучение!"
   ]
  },
  {
   "cell_type": "code",
   "execution_count": 73,
   "metadata": {
    "cellId": "rxe5zlxzt9r13njj15759al",
    "colab": {
     "base_uri": "https://localhost:8080/"
    },
    "id": "tk2DpJsJaocO",
    "outputId": "3a8de356-f560-4933-8e8d-8759bc618645"
   },
   "outputs": [],
   "source": [
    "!pip install transformers==4.28.0"
   ]
  },
  {
   "cell_type": "code",
   "execution_count": 74,
   "metadata": {
    "cellId": "ol70lntl5ytf7ohihq10o9",
    "id": "nBq47DzMAh_f"
   },
   "outputs": [],
   "source": [
    "training_args = transformers.TrainingArguments(output_dir=\"trainer\", evaluation_strategy=\"epoch\")"
   ]
  },
  {
   "cell_type": "code",
   "execution_count": 75,
   "metadata": {
    "cellId": "zz495psha182ton15cyl",
    "id": "GctgzkfPAh_f"
   },
   "outputs": [],
   "source": [
    "trainer = transformers.Trainer(\n",
    "    model=model,\n",
    "    args=training_args,\n",
    "    train_dataset=train_dataset,\n",
    "    eval_dataset=valid_dataset,\n",
    "    compute_metrics=compute_metrics,\n",
    ")"
   ]
  },
  {
   "cell_type": "code",
   "execution_count": 76,
   "metadata": {
    "cellId": "es4d5jnh8f5lb63y73hiri",
    "colab": {
     "base_uri": "https://localhost:8080/",
     "height": 1000
    },
    "id": "ghs4uzEDAh_f",
    "outputId": "7a074de0-4a10-4763-f595-fb11a8d44ccd"
   },
   "outputs": [],
   "source": [
    "trainer.train()"
   ]
  },
  {
   "cell_type": "markdown",
   "metadata": {
    "cellId": "6x69scbdcqk0yo2012yx7z",
    "id": "WwLxx37QAh_g"
   },
   "source": [
    "## BLEU\n",
    "\n",
    "В этом юните мы рассмотрим подсчет BLEU метрики. Это потребуется для вашего домашнего задания."
   ]
  },
  {
   "cell_type": "code",
   "execution_count": 77,
   "metadata": {
    "cellId": "y3bgk6a6fkz0hdaj9do7",
    "id": "_GeB4EwpAh_g"
   },
   "outputs": [],
   "source": [
    "bleu = evaluate.load(\"bleu\")"
   ]
  },
  {
   "cell_type": "code",
   "execution_count": 78,
   "metadata": {
    "cellId": "u7w5z68vcmp1tmyrsntgh5",
    "id": "Mzoxur4MAh_g"
   },
   "outputs": [],
   "source": [
    "references = [\n",
    "    [\"I'm a cat.\", \"I'm the cat.\"],\n",
    "    [\"I'm a dog.\", \"I'm the dog.\"],\n",
    "]"
   ]
  },
  {
   "cell_type": "code",
   "execution_count": 79,
   "metadata": {
    "cellId": "cazju64f2hhl850q3gu209",
    "id": "D-t4ZcscAh_g"
   },
   "outputs": [],
   "source": [
    "predictions = [\"I'm a cat.\", \"I'm the puppy.\"]"
   ]
  },
  {
   "cell_type": "code",
   "execution_count": 80,
   "metadata": {
    "cellId": "vmoc27e5oi2u7ja1ja8ts",
    "colab": {
     "base_uri": "https://localhost:8080/"
    },
    "id": "sI0gYNmsAh_g",
    "outputId": "5ae135ad-50f8-493c-dc8f-933b3a9adc3f"
   },
   "outputs": [],
   "source": [
    "bleu.compute(predictions=predictions, references=references)"
   ]
  },
  {
   "cell_type": "code",
   "execution_count": 81,
   "metadata": {
    "cellId": "2gqea6vopl2mct3qdjtar",
    "id": "_iJv8-RYmJXH"
   },
   "outputs": [],
   "source": [
    "# Byte Pair Encoding"
   ]
  },
  {
   "cell_type": "code",
   "execution_count": 82,
   "metadata": {
    "cellId": "vemxjop51wj9jcpy94ygr",
    "id": "WQ_4AzKh3PTm"
   },
   "outputs": [],
   "source": [
    "# For better NMT transformers:\n",
    "# - Better Implement Transformers (dropout, Layer Norm, Encoder+Decoder Connection)\n",
    "# - Teacher Forcing\n",
    "# - Sequence Sorting (Curriculum Learning)\n",
    "# - Float16\n",
    "# - Find papers based on Attention is all Need"
   ]
  },
  {
   "cell_type": "code",
   "execution_count": null,
   "metadata": {
    "cellId": "tpm8ztdvoimfvm92eg37",
    "id": "M3-diOef3ZpF"
   },
   "outputs": [],
   "source": []
  }
 ],
 "metadata": {
  "accelerator": "GPU",
  "colab": {
   "gpuType": "T4",
   "provenance": [],
   "toc_visible": true
  },
  "gpuClass": "standard",
  "language_info": {
   "codemirror_mode": {
    "name": "ipython",
    "version": 3
   },
   "file_extension": ".py",
   "mimetype": "text/x-python",
   "name": "python",
   "nbconvert_exporter": "python",
   "pygments_lexer": "ipython3",
   "version": "3.7.7"
  },
  "notebookId": "27e567ea-05e9-432e-aa6d-b10078111494",
  "notebookPath": "Attention(2).ipynb",
  "vscode": {
   "interpreter": {
    "hash": "31f2aee4e71d21fbe5cf8b01ff0e069b9275f58929596ceb00d14d90e3e16cd6"
   }
  },
  "widgets": {
   "application/vnd.jupyter.widget-state+json": {
    "008c34b1a7e74322a0149c70768d60de": {
     "model_module": "@jupyter-widgets/controls",
     "model_module_version": "1.5.0",
     "model_name": "HTMLModel",
     "state": {
      "_dom_classes": [],
      "_model_module": "@jupyter-widgets/controls",
      "_model_module_version": "1.5.0",
      "_model_name": "HTMLModel",
      "_view_count": null,
      "_view_module": "@jupyter-widgets/controls",
      "_view_module_version": "1.5.0",
      "_view_name": "HTMLView",
      "description": "",
      "description_tooltip": null,
      "layout": "IPY_MODEL_19d6bc19105c4e71826f35b99aebed51",
      "placeholder": "​",
      "style": "IPY_MODEL_50194bed8e9342a1a1d7bb950861d945",
      "value": " 66619/67349 [00:06&lt;00:00, 10501.59 examples/s]"
     }
    },
    "012979e816774460b323775e57346cdb": {
     "model_module": "@jupyter-widgets/controls",
     "model_module_version": "1.5.0",
     "model_name": "DescriptionStyleModel",
     "state": {
      "_model_module": "@jupyter-widgets/controls",
      "_model_module_version": "1.5.0",
      "_model_name": "DescriptionStyleModel",
      "_view_count": null,
      "_view_module": "@jupyter-widgets/base",
      "_view_module_version": "1.2.0",
      "_view_name": "StyleView",
      "description_width": ""
     }
    },
    "01f3bf4b74f347f88c2904b0c6b10686": {
     "model_module": "@jupyter-widgets/controls",
     "model_module_version": "1.5.0",
     "model_name": "DescriptionStyleModel",
     "state": {
      "_model_module": "@jupyter-widgets/controls",
      "_model_module_version": "1.5.0",
      "_model_name": "DescriptionStyleModel",
      "_view_count": null,
      "_view_module": "@jupyter-widgets/base",
      "_view_module_version": "1.2.0",
      "_view_name": "StyleView",
      "description_width": ""
     }
    },
    "028e3422550449aaa312c15229c1c588": {
     "model_module": "@jupyter-widgets/controls",
     "model_module_version": "1.5.0",
     "model_name": "HTMLModel",
     "state": {
      "_dom_classes": [],
      "_model_module": "@jupyter-widgets/controls",
      "_model_module_version": "1.5.0",
      "_model_name": "HTMLModel",
      "_view_count": null,
      "_view_module": "@jupyter-widgets/controls",
      "_view_module_version": "1.5.0",
      "_view_name": "HTMLView",
      "description": "",
      "description_tooltip": null,
      "layout": "IPY_MODEL_269770799d4d4f4ab756061804be450d",
      "placeholder": "​",
      "style": "IPY_MODEL_2f455d576d55436c869d4a92cf97c238",
      "value": "100%"
     }
    },
    "04d93b206eb1493eb4384201ae6a9e38": {
     "model_module": "@jupyter-widgets/controls",
     "model_module_version": "1.5.0",
     "model_name": "HTMLModel",
     "state": {
      "_dom_classes": [],
      "_model_module": "@jupyter-widgets/controls",
      "_model_module_version": "1.5.0",
      "_model_name": "HTMLModel",
      "_view_count": null,
      "_view_module": "@jupyter-widgets/controls",
      "_view_module_version": "1.5.0",
      "_view_name": "HTMLView",
      "description": "",
      "description_tooltip": null,
      "layout": "IPY_MODEL_3b13d711fd534e07a789868e97e7be00",
      "placeholder": "​",
      "style": "IPY_MODEL_01f3bf4b74f347f88c2904b0c6b10686",
      "value": " 66418/67349 [00:13&lt;00:00, 10873.96 examples/s]"
     }
    },
    "05a86e3109ca4fbea776b45941aecc00": {
     "model_module": "@jupyter-widgets/controls",
     "model_module_version": "1.5.0",
     "model_name": "FloatProgressModel",
     "state": {
      "_dom_classes": [],
      "_model_module": "@jupyter-widgets/controls",
      "_model_module_version": "1.5.0",
      "_model_name": "FloatProgressModel",
      "_view_count": null,
      "_view_module": "@jupyter-widgets/controls",
      "_view_module_version": "1.5.0",
      "_view_name": "ProgressView",
      "bar_style": "",
      "description": "",
      "description_tooltip": null,
      "layout": "IPY_MODEL_6d2045180f4c4c7f95e056a099f11454",
      "max": 67349,
      "min": 0,
      "orientation": "horizontal",
      "style": "IPY_MODEL_ebf5a0b20fbc43a38bc862d1446f68ed",
      "value": 67349
     }
    },
    "071e79cdeba04621ba9b70ed854fafb8": {
     "model_module": "@jupyter-widgets/base",
     "model_module_version": "1.2.0",
     "model_name": "LayoutModel",
     "state": {
      "_model_module": "@jupyter-widgets/base",
      "_model_module_version": "1.2.0",
      "_model_name": "LayoutModel",
      "_view_count": null,
      "_view_module": "@jupyter-widgets/base",
      "_view_module_version": "1.2.0",
      "_view_name": "LayoutView",
      "align_content": null,
      "align_items": null,
      "align_self": null,
      "border": null,
      "bottom": null,
      "display": null,
      "flex": null,
      "flex_flow": null,
      "grid_area": null,
      "grid_auto_columns": null,
      "grid_auto_flow": null,
      "grid_auto_rows": null,
      "grid_column": null,
      "grid_gap": null,
      "grid_row": null,
      "grid_template_areas": null,
      "grid_template_columns": null,
      "grid_template_rows": null,
      "height": null,
      "justify_content": null,
      "justify_items": null,
      "left": null,
      "margin": null,
      "max_height": null,
      "max_width": null,
      "min_height": null,
      "min_width": null,
      "object_fit": null,
      "object_position": null,
      "order": null,
      "overflow": null,
      "overflow_x": null,
      "overflow_y": null,
      "padding": null,
      "right": null,
      "top": null,
      "visibility": null,
      "width": null
     }
    },
    "07ae1784a7264b539f4e35e67c830b9d": {
     "model_module": "@jupyter-widgets/base",
     "model_module_version": "1.2.0",
     "model_name": "LayoutModel",
     "state": {
      "_model_module": "@jupyter-widgets/base",
      "_model_module_version": "1.2.0",
      "_model_name": "LayoutModel",
      "_view_count": null,
      "_view_module": "@jupyter-widgets/base",
      "_view_module_version": "1.2.0",
      "_view_name": "LayoutView",
      "align_content": null,
      "align_items": null,
      "align_self": null,
      "border": null,
      "bottom": null,
      "display": null,
      "flex": null,
      "flex_flow": null,
      "grid_area": null,
      "grid_auto_columns": null,
      "grid_auto_flow": null,
      "grid_auto_rows": null,
      "grid_column": null,
      "grid_gap": null,
      "grid_row": null,
      "grid_template_areas": null,
      "grid_template_columns": null,
      "grid_template_rows": null,
      "height": null,
      "justify_content": null,
      "justify_items": null,
      "left": null,
      "margin": null,
      "max_height": null,
      "max_width": null,
      "min_height": null,
      "min_width": null,
      "object_fit": null,
      "object_position": null,
      "order": null,
      "overflow": null,
      "overflow_x": null,
      "overflow_y": null,
      "padding": null,
      "right": null,
      "top": null,
      "visibility": "hidden",
      "width": null
     }
    },
    "0b04cb7dfce24b0288519c692827d4a5": {
     "model_module": "@jupyter-widgets/base",
     "model_module_version": "1.2.0",
     "model_name": "LayoutModel",
     "state": {
      "_model_module": "@jupyter-widgets/base",
      "_model_module_version": "1.2.0",
      "_model_name": "LayoutModel",
      "_view_count": null,
      "_view_module": "@jupyter-widgets/base",
      "_view_module_version": "1.2.0",
      "_view_name": "LayoutView",
      "align_content": null,
      "align_items": null,
      "align_self": null,
      "border": null,
      "bottom": null,
      "display": null,
      "flex": null,
      "flex_flow": null,
      "grid_area": null,
      "grid_auto_columns": null,
      "grid_auto_flow": null,
      "grid_auto_rows": null,
      "grid_column": null,
      "grid_gap": null,
      "grid_row": null,
      "grid_template_areas": null,
      "grid_template_columns": null,
      "grid_template_rows": null,
      "height": null,
      "justify_content": null,
      "justify_items": null,
      "left": null,
      "margin": null,
      "max_height": null,
      "max_width": null,
      "min_height": null,
      "min_width": null,
      "object_fit": null,
      "object_position": null,
      "order": null,
      "overflow": null,
      "overflow_x": null,
      "overflow_y": null,
      "padding": null,
      "right": null,
      "top": null,
      "visibility": "hidden",
      "width": null
     }
    },
    "0e31dec5bd9d499a8757882ef1faf9b7": {
     "model_module": "@jupyter-widgets/controls",
     "model_module_version": "1.5.0",
     "model_name": "HTMLModel",
     "state": {
      "_dom_classes": [],
      "_model_module": "@jupyter-widgets/controls",
      "_model_module_version": "1.5.0",
      "_model_name": "HTMLModel",
      "_view_count": null,
      "_view_module": "@jupyter-widgets/controls",
      "_view_module_version": "1.5.0",
      "_view_name": "HTMLView",
      "description": "",
      "description_tooltip": null,
      "layout": "IPY_MODEL_9b0cd8b9f13d4b17ad9c5e15207564e9",
      "placeholder": "​",
      "style": "IPY_MODEL_eb270f70f66241cd91164c2bb59cb8f7",
      "value": ""
     }
    },
    "0e63d6cc34b04c8bbfec67687d52951a": {
     "model_module": "@jupyter-widgets/controls",
     "model_module_version": "1.5.0",
     "model_name": "DescriptionStyleModel",
     "state": {
      "_model_module": "@jupyter-widgets/controls",
      "_model_module_version": "1.5.0",
      "_model_name": "DescriptionStyleModel",
      "_view_count": null,
      "_view_module": "@jupyter-widgets/base",
      "_view_module_version": "1.2.0",
      "_view_name": "StyleView",
      "description_width": ""
     }
    },
    "11f31d6b191e43c2b20ab464ec55c6bc": {
     "model_module": "@jupyter-widgets/controls",
     "model_module_version": "1.5.0",
     "model_name": "FloatProgressModel",
     "state": {
      "_dom_classes": [],
      "_model_module": "@jupyter-widgets/controls",
      "_model_module_version": "1.5.0",
      "_model_name": "FloatProgressModel",
      "_view_count": null,
      "_view_module": "@jupyter-widgets/controls",
      "_view_module_version": "1.5.0",
      "_view_name": "ProgressView",
      "bar_style": "success",
      "description": "",
      "description_tooltip": null,
      "layout": "IPY_MODEL_39673628938e4b80a752b2b81a1daf42",
      "max": 1,
      "min": 0,
      "orientation": "horizontal",
      "style": "IPY_MODEL_aa33531fb7f94ad1a2dd2e1f468161b4",
      "value": 1
     }
    },
    "16144e651571456192ee4459ab90dc65": {
     "model_module": "@jupyter-widgets/controls",
     "model_module_version": "1.5.0",
     "model_name": "HTMLModel",
     "state": {
      "_dom_classes": [],
      "_model_module": "@jupyter-widgets/controls",
      "_model_module_version": "1.5.0",
      "_model_name": "HTMLModel",
      "_view_count": null,
      "_view_module": "@jupyter-widgets/controls",
      "_view_module_version": "1.5.0",
      "_view_name": "HTMLView",
      "description": "",
      "description_tooltip": null,
      "layout": "IPY_MODEL_def5c8051d34443ba51ba03f61053c3c",
      "placeholder": "​",
      "style": "IPY_MODEL_c2502641e182446b9d10ad9b7fdd273c",
      "value": " 3/3 [00:00&lt;00:00, 101.21it/s]"
     }
    },
    "1744abe125a44dafb2ce7790584ace14": {
     "model_module": "@jupyter-widgets/controls",
     "model_module_version": "1.5.0",
     "model_name": "HTMLModel",
     "state": {
      "_dom_classes": [],
      "_model_module": "@jupyter-widgets/controls",
      "_model_module_version": "1.5.0",
      "_model_name": "HTMLModel",
      "_view_count": null,
      "_view_module": "@jupyter-widgets/controls",
      "_view_module_version": "1.5.0",
      "_view_name": "HTMLView",
      "description": "",
      "description_tooltip": null,
      "layout": "IPY_MODEL_a053165007a74dffaab0b261ba8298c8",
      "placeholder": "​",
      "style": "IPY_MODEL_19f4812be07e42608d0a3a6afc29214a",
      "value": "Map: 100%"
     }
    },
    "179eb96d1342471dac9d5a621cff3124": {
     "model_module": "@jupyter-widgets/base",
     "model_module_version": "1.2.0",
     "model_name": "LayoutModel",
     "state": {
      "_model_module": "@jupyter-widgets/base",
      "_model_module_version": "1.2.0",
      "_model_name": "LayoutModel",
      "_view_count": null,
      "_view_module": "@jupyter-widgets/base",
      "_view_module_version": "1.2.0",
      "_view_name": "LayoutView",
      "align_content": null,
      "align_items": null,
      "align_self": null,
      "border": null,
      "bottom": null,
      "display": null,
      "flex": null,
      "flex_flow": null,
      "grid_area": null,
      "grid_auto_columns": null,
      "grid_auto_flow": null,
      "grid_auto_rows": null,
      "grid_column": null,
      "grid_gap": null,
      "grid_row": null,
      "grid_template_areas": null,
      "grid_template_columns": null,
      "grid_template_rows": null,
      "height": null,
      "justify_content": null,
      "justify_items": null,
      "left": null,
      "margin": null,
      "max_height": null,
      "max_width": null,
      "min_height": null,
      "min_width": null,
      "object_fit": null,
      "object_position": null,
      "order": null,
      "overflow": null,
      "overflow_x": null,
      "overflow_y": null,
      "padding": null,
      "right": null,
      "top": null,
      "visibility": null,
      "width": null
     }
    },
    "1880276479944de3ba285208da3bb99c": {
     "model_module": "@jupyter-widgets/base",
     "model_module_version": "1.2.0",
     "model_name": "LayoutModel",
     "state": {
      "_model_module": "@jupyter-widgets/base",
      "_model_module_version": "1.2.0",
      "_model_name": "LayoutModel",
      "_view_count": null,
      "_view_module": "@jupyter-widgets/base",
      "_view_module_version": "1.2.0",
      "_view_name": "LayoutView",
      "align_content": null,
      "align_items": null,
      "align_self": null,
      "border": null,
      "bottom": null,
      "display": null,
      "flex": null,
      "flex_flow": null,
      "grid_area": null,
      "grid_auto_columns": null,
      "grid_auto_flow": null,
      "grid_auto_rows": null,
      "grid_column": null,
      "grid_gap": null,
      "grid_row": null,
      "grid_template_areas": null,
      "grid_template_columns": null,
      "grid_template_rows": null,
      "height": null,
      "justify_content": null,
      "justify_items": null,
      "left": null,
      "margin": null,
      "max_height": null,
      "max_width": null,
      "min_height": null,
      "min_width": null,
      "object_fit": null,
      "object_position": null,
      "order": null,
      "overflow": null,
      "overflow_x": null,
      "overflow_y": null,
      "padding": null,
      "right": null,
      "top": null,
      "visibility": null,
      "width": null
     }
    },
    "19d6bc19105c4e71826f35b99aebed51": {
     "model_module": "@jupyter-widgets/base",
     "model_module_version": "1.2.0",
     "model_name": "LayoutModel",
     "state": {
      "_model_module": "@jupyter-widgets/base",
      "_model_module_version": "1.2.0",
      "_model_name": "LayoutModel",
      "_view_count": null,
      "_view_module": "@jupyter-widgets/base",
      "_view_module_version": "1.2.0",
      "_view_name": "LayoutView",
      "align_content": null,
      "align_items": null,
      "align_self": null,
      "border": null,
      "bottom": null,
      "display": null,
      "flex": null,
      "flex_flow": null,
      "grid_area": null,
      "grid_auto_columns": null,
      "grid_auto_flow": null,
      "grid_auto_rows": null,
      "grid_column": null,
      "grid_gap": null,
      "grid_row": null,
      "grid_template_areas": null,
      "grid_template_columns": null,
      "grid_template_rows": null,
      "height": null,
      "justify_content": null,
      "justify_items": null,
      "left": null,
      "margin": null,
      "max_height": null,
      "max_width": null,
      "min_height": null,
      "min_width": null,
      "object_fit": null,
      "object_position": null,
      "order": null,
      "overflow": null,
      "overflow_x": null,
      "overflow_y": null,
      "padding": null,
      "right": null,
      "top": null,
      "visibility": null,
      "width": null
     }
    },
    "19f4812be07e42608d0a3a6afc29214a": {
     "model_module": "@jupyter-widgets/controls",
     "model_module_version": "1.5.0",
     "model_name": "DescriptionStyleModel",
     "state": {
      "_model_module": "@jupyter-widgets/controls",
      "_model_module_version": "1.5.0",
      "_model_name": "DescriptionStyleModel",
      "_view_count": null,
      "_view_module": "@jupyter-widgets/base",
      "_view_module_version": "1.2.0",
      "_view_name": "StyleView",
      "description_width": ""
     }
    },
    "1b0ab6b687694f59b511bd2aea431bc5": {
     "model_module": "@jupyter-widgets/controls",
     "model_module_version": "1.5.0",
     "model_name": "DescriptionStyleModel",
     "state": {
      "_model_module": "@jupyter-widgets/controls",
      "_model_module_version": "1.5.0",
      "_model_name": "DescriptionStyleModel",
      "_view_count": null,
      "_view_module": "@jupyter-widgets/base",
      "_view_module_version": "1.2.0",
      "_view_name": "StyleView",
      "description_width": ""
     }
    },
    "1fb0480ba12f43aca3d115f8386e0cac": {
     "model_module": "@jupyter-widgets/base",
     "model_module_version": "1.2.0",
     "model_name": "LayoutModel",
     "state": {
      "_model_module": "@jupyter-widgets/base",
      "_model_module_version": "1.2.0",
      "_model_name": "LayoutModel",
      "_view_count": null,
      "_view_module": "@jupyter-widgets/base",
      "_view_module_version": "1.2.0",
      "_view_name": "LayoutView",
      "align_content": null,
      "align_items": null,
      "align_self": null,
      "border": null,
      "bottom": null,
      "display": null,
      "flex": null,
      "flex_flow": null,
      "grid_area": null,
      "grid_auto_columns": null,
      "grid_auto_flow": null,
      "grid_auto_rows": null,
      "grid_column": null,
      "grid_gap": null,
      "grid_row": null,
      "grid_template_areas": null,
      "grid_template_columns": null,
      "grid_template_rows": null,
      "height": null,
      "justify_content": null,
      "justify_items": null,
      "left": null,
      "margin": null,
      "max_height": null,
      "max_width": null,
      "min_height": null,
      "min_width": null,
      "object_fit": null,
      "object_position": null,
      "order": null,
      "overflow": null,
      "overflow_x": null,
      "overflow_y": null,
      "padding": null,
      "right": null,
      "top": null,
      "visibility": "hidden",
      "width": null
     }
    },
    "1fc01035d6ba46bba5336f1b864439af": {
     "model_module": "@jupyter-widgets/controls",
     "model_module_version": "1.5.0",
     "model_name": "HBoxModel",
     "state": {
      "_dom_classes": [],
      "_model_module": "@jupyter-widgets/controls",
      "_model_module_version": "1.5.0",
      "_model_name": "HBoxModel",
      "_view_count": null,
      "_view_module": "@jupyter-widgets/controls",
      "_view_module_version": "1.5.0",
      "_view_name": "HBoxView",
      "box_style": "",
      "children": [
       "IPY_MODEL_d1f46224562a409bbfdfd8b1204d9d66",
       "IPY_MODEL_5b0a6b3ecc44472ea98d081d1e664d63",
       "IPY_MODEL_16144e651571456192ee4459ab90dc65"
      ],
      "layout": "IPY_MODEL_071e79cdeba04621ba9b70ed854fafb8"
     }
    },
    "20c90d6e54924f0183794e49e956372d": {
     "model_module": "@jupyter-widgets/base",
     "model_module_version": "1.2.0",
     "model_name": "LayoutModel",
     "state": {
      "_model_module": "@jupyter-widgets/base",
      "_model_module_version": "1.2.0",
      "_model_name": "LayoutModel",
      "_view_count": null,
      "_view_module": "@jupyter-widgets/base",
      "_view_module_version": "1.2.0",
      "_view_name": "LayoutView",
      "align_content": null,
      "align_items": null,
      "align_self": null,
      "border": null,
      "bottom": null,
      "display": null,
      "flex": null,
      "flex_flow": null,
      "grid_area": null,
      "grid_auto_columns": null,
      "grid_auto_flow": null,
      "grid_auto_rows": null,
      "grid_column": null,
      "grid_gap": null,
      "grid_row": null,
      "grid_template_areas": null,
      "grid_template_columns": null,
      "grid_template_rows": null,
      "height": null,
      "justify_content": null,
      "justify_items": null,
      "left": null,
      "margin": null,
      "max_height": null,
      "max_width": null,
      "min_height": null,
      "min_width": null,
      "object_fit": null,
      "object_position": null,
      "order": null,
      "overflow": null,
      "overflow_x": null,
      "overflow_y": null,
      "padding": null,
      "right": null,
      "top": null,
      "visibility": null,
      "width": null
     }
    },
    "231cecfd58d245cb8ac24130f8e623c7": {
     "model_module": "@jupyter-widgets/controls",
     "model_module_version": "1.5.0",
     "model_name": "DescriptionStyleModel",
     "state": {
      "_model_module": "@jupyter-widgets/controls",
      "_model_module_version": "1.5.0",
      "_model_name": "DescriptionStyleModel",
      "_view_count": null,
      "_view_module": "@jupyter-widgets/base",
      "_view_module_version": "1.2.0",
      "_view_name": "StyleView",
      "description_width": ""
     }
    },
    "25a6f5c70a1d4395ba34792fd1d25f40": {
     "model_module": "@jupyter-widgets/controls",
     "model_module_version": "1.5.0",
     "model_name": "HTMLModel",
     "state": {
      "_dom_classes": [],
      "_model_module": "@jupyter-widgets/controls",
      "_model_module_version": "1.5.0",
      "_model_name": "HTMLModel",
      "_view_count": null,
      "_view_module": "@jupyter-widgets/controls",
      "_view_module_version": "1.5.0",
      "_view_name": "HTMLView",
      "description": "",
      "description_tooltip": null,
      "layout": "IPY_MODEL_c3f0f82039b64ebd93fd914849700dac",
      "placeholder": "​",
      "style": "IPY_MODEL_012979e816774460b323775e57346cdb",
      "value": " 1053/? [00:35&lt;00:00, 34.73it/s]"
     }
    },
    "265b10ad335d4613a652a0d7d2485fa7": {
     "model_module": "@jupyter-widgets/base",
     "model_module_version": "1.2.0",
     "model_name": "LayoutModel",
     "state": {
      "_model_module": "@jupyter-widgets/base",
      "_model_module_version": "1.2.0",
      "_model_name": "LayoutModel",
      "_view_count": null,
      "_view_module": "@jupyter-widgets/base",
      "_view_module_version": "1.2.0",
      "_view_name": "LayoutView",
      "align_content": null,
      "align_items": null,
      "align_self": null,
      "border": null,
      "bottom": null,
      "display": null,
      "flex": null,
      "flex_flow": null,
      "grid_area": null,
      "grid_auto_columns": null,
      "grid_auto_flow": null,
      "grid_auto_rows": null,
      "grid_column": null,
      "grid_gap": null,
      "grid_row": null,
      "grid_template_areas": null,
      "grid_template_columns": null,
      "grid_template_rows": null,
      "height": null,
      "justify_content": null,
      "justify_items": null,
      "left": null,
      "margin": null,
      "max_height": null,
      "max_width": null,
      "min_height": null,
      "min_width": null,
      "object_fit": null,
      "object_position": null,
      "order": null,
      "overflow": null,
      "overflow_x": null,
      "overflow_y": null,
      "padding": null,
      "right": null,
      "top": null,
      "visibility": null,
      "width": null
     }
    },
    "269770799d4d4f4ab756061804be450d": {
     "model_module": "@jupyter-widgets/base",
     "model_module_version": "1.2.0",
     "model_name": "LayoutModel",
     "state": {
      "_model_module": "@jupyter-widgets/base",
      "_model_module_version": "1.2.0",
      "_model_name": "LayoutModel",
      "_view_count": null,
      "_view_module": "@jupyter-widgets/base",
      "_view_module_version": "1.2.0",
      "_view_name": "LayoutView",
      "align_content": null,
      "align_items": null,
      "align_self": null,
      "border": null,
      "bottom": null,
      "display": null,
      "flex": null,
      "flex_flow": null,
      "grid_area": null,
      "grid_auto_columns": null,
      "grid_auto_flow": null,
      "grid_auto_rows": null,
      "grid_column": null,
      "grid_gap": null,
      "grid_row": null,
      "grid_template_areas": null,
      "grid_template_columns": null,
      "grid_template_rows": null,
      "height": null,
      "justify_content": null,
      "justify_items": null,
      "left": null,
      "margin": null,
      "max_height": null,
      "max_width": null,
      "min_height": null,
      "min_width": null,
      "object_fit": null,
      "object_position": null,
      "order": null,
      "overflow": null,
      "overflow_x": null,
      "overflow_y": null,
      "padding": null,
      "right": null,
      "top": null,
      "visibility": null,
      "width": null
     }
    },
    "2a6a96213c924d1aaf94c3086c222bdf": {
     "model_module": "@jupyter-widgets/controls",
     "model_module_version": "1.5.0",
     "model_name": "DescriptionStyleModel",
     "state": {
      "_model_module": "@jupyter-widgets/controls",
      "_model_module_version": "1.5.0",
      "_model_name": "DescriptionStyleModel",
      "_view_count": null,
      "_view_module": "@jupyter-widgets/base",
      "_view_module_version": "1.2.0",
      "_view_name": "StyleView",
      "description_width": ""
     }
    },
    "2a72f18c35924f458637c916ab7cc74d": {
     "model_module": "@jupyter-widgets/base",
     "model_module_version": "1.2.0",
     "model_name": "LayoutModel",
     "state": {
      "_model_module": "@jupyter-widgets/base",
      "_model_module_version": "1.2.0",
      "_model_name": "LayoutModel",
      "_view_count": null,
      "_view_module": "@jupyter-widgets/base",
      "_view_module_version": "1.2.0",
      "_view_name": "LayoutView",
      "align_content": null,
      "align_items": null,
      "align_self": null,
      "border": null,
      "bottom": null,
      "display": null,
      "flex": null,
      "flex_flow": null,
      "grid_area": null,
      "grid_auto_columns": null,
      "grid_auto_flow": null,
      "grid_auto_rows": null,
      "grid_column": null,
      "grid_gap": null,
      "grid_row": null,
      "grid_template_areas": null,
      "grid_template_columns": null,
      "grid_template_rows": null,
      "height": null,
      "justify_content": null,
      "justify_items": null,
      "left": null,
      "margin": null,
      "max_height": null,
      "max_width": null,
      "min_height": null,
      "min_width": null,
      "object_fit": null,
      "object_position": null,
      "order": null,
      "overflow": null,
      "overflow_x": null,
      "overflow_y": null,
      "padding": null,
      "right": null,
      "top": null,
      "visibility": null,
      "width": null
     }
    },
    "2afb71a3ae6740caa73b21c14e297065": {
     "model_module": "@jupyter-widgets/controls",
     "model_module_version": "1.5.0",
     "model_name": "HBoxModel",
     "state": {
      "_dom_classes": [],
      "_model_module": "@jupyter-widgets/controls",
      "_model_module_version": "1.5.0",
      "_model_name": "HBoxModel",
      "_view_count": null,
      "_view_module": "@jupyter-widgets/controls",
      "_view_module_version": "1.5.0",
      "_view_name": "HBoxView",
      "box_style": "",
      "children": [
       "IPY_MODEL_b3a3d2ea7d2940d49b25629bf99adbf3",
       "IPY_MODEL_5d62cfc5349c45e6b861d3ecfbd9b77f",
       "IPY_MODEL_b29ddc4afea74d2d80d73ad887d2f251"
      ],
      "layout": "IPY_MODEL_0b04cb7dfce24b0288519c692827d4a5"
     }
    },
    "2b8f5d1ac72f41e898c7b39feb5c6544": {
     "model_module": "@jupyter-widgets/controls",
     "model_module_version": "1.5.0",
     "model_name": "ProgressStyleModel",
     "state": {
      "_model_module": "@jupyter-widgets/controls",
      "_model_module_version": "1.5.0",
      "_model_name": "ProgressStyleModel",
      "_view_count": null,
      "_view_module": "@jupyter-widgets/base",
      "_view_module_version": "1.2.0",
      "_view_name": "StyleView",
      "bar_color": null,
      "description_width": ""
     }
    },
    "2dd3c9b098204e2c94fa91244bd1b575": {
     "model_module": "@jupyter-widgets/base",
     "model_module_version": "1.2.0",
     "model_name": "LayoutModel",
     "state": {
      "_model_module": "@jupyter-widgets/base",
      "_model_module_version": "1.2.0",
      "_model_name": "LayoutModel",
      "_view_count": null,
      "_view_module": "@jupyter-widgets/base",
      "_view_module_version": "1.2.0",
      "_view_name": "LayoutView",
      "align_content": null,
      "align_items": null,
      "align_self": null,
      "border": null,
      "bottom": null,
      "display": null,
      "flex": null,
      "flex_flow": null,
      "grid_area": null,
      "grid_auto_columns": null,
      "grid_auto_flow": null,
      "grid_auto_rows": null,
      "grid_column": null,
      "grid_gap": null,
      "grid_row": null,
      "grid_template_areas": null,
      "grid_template_columns": null,
      "grid_template_rows": null,
      "height": null,
      "justify_content": null,
      "justify_items": null,
      "left": null,
      "margin": null,
      "max_height": null,
      "max_width": null,
      "min_height": null,
      "min_width": null,
      "object_fit": null,
      "object_position": null,
      "order": null,
      "overflow": null,
      "overflow_x": null,
      "overflow_y": null,
      "padding": null,
      "right": null,
      "top": null,
      "visibility": null,
      "width": null
     }
    },
    "2f455d576d55436c869d4a92cf97c238": {
     "model_module": "@jupyter-widgets/controls",
     "model_module_version": "1.5.0",
     "model_name": "DescriptionStyleModel",
     "state": {
      "_model_module": "@jupyter-widgets/controls",
      "_model_module_version": "1.5.0",
      "_model_name": "DescriptionStyleModel",
      "_view_count": null,
      "_view_module": "@jupyter-widgets/base",
      "_view_module_version": "1.2.0",
      "_view_name": "StyleView",
      "description_width": ""
     }
    },
    "32ada54ffe3f45828d28a6d445d2721a": {
     "model_module": "@jupyter-widgets/controls",
     "model_module_version": "1.5.0",
     "model_name": "DescriptionStyleModel",
     "state": {
      "_model_module": "@jupyter-widgets/controls",
      "_model_module_version": "1.5.0",
      "_model_name": "DescriptionStyleModel",
      "_view_count": null,
      "_view_module": "@jupyter-widgets/base",
      "_view_module_version": "1.2.0",
      "_view_name": "StyleView",
      "description_width": ""
     }
    },
    "3376eda7812741dcaf660b55503b43e8": {
     "model_module": "@jupyter-widgets/controls",
     "model_module_version": "1.5.0",
     "model_name": "HBoxModel",
     "state": {
      "_dom_classes": [],
      "_model_module": "@jupyter-widgets/controls",
      "_model_module_version": "1.5.0",
      "_model_name": "HBoxModel",
      "_view_count": null,
      "_view_module": "@jupyter-widgets/controls",
      "_view_module_version": "1.5.0",
      "_view_name": "HBoxView",
      "box_style": "",
      "children": [
       "IPY_MODEL_627ccc485dcb447fa80a26e1a68d4bd2",
       "IPY_MODEL_05a86e3109ca4fbea776b45941aecc00",
       "IPY_MODEL_8ad65c4c24694f60b0bb218f167b8adb"
      ],
      "layout": "IPY_MODEL_c8c7b047461a437ba1fcecb18b234fa2"
     }
    },
    "39673628938e4b80a752b2b81a1daf42": {
     "model_module": "@jupyter-widgets/base",
     "model_module_version": "1.2.0",
     "model_name": "LayoutModel",
     "state": {
      "_model_module": "@jupyter-widgets/base",
      "_model_module_version": "1.2.0",
      "_model_name": "LayoutModel",
      "_view_count": null,
      "_view_module": "@jupyter-widgets/base",
      "_view_module_version": "1.2.0",
      "_view_name": "LayoutView",
      "align_content": null,
      "align_items": null,
      "align_self": null,
      "border": null,
      "bottom": null,
      "display": null,
      "flex": null,
      "flex_flow": null,
      "grid_area": null,
      "grid_auto_columns": null,
      "grid_auto_flow": null,
      "grid_auto_rows": null,
      "grid_column": null,
      "grid_gap": null,
      "grid_row": null,
      "grid_template_areas": null,
      "grid_template_columns": null,
      "grid_template_rows": null,
      "height": null,
      "justify_content": null,
      "justify_items": null,
      "left": null,
      "margin": null,
      "max_height": null,
      "max_width": null,
      "min_height": null,
      "min_width": null,
      "object_fit": null,
      "object_position": null,
      "order": null,
      "overflow": null,
      "overflow_x": null,
      "overflow_y": null,
      "padding": null,
      "right": null,
      "top": null,
      "visibility": null,
      "width": null
     }
    },
    "397358ef921b46b4abdffe712ccea906": {
     "model_module": "@jupyter-widgets/base",
     "model_module_version": "1.2.0",
     "model_name": "LayoutModel",
     "state": {
      "_model_module": "@jupyter-widgets/base",
      "_model_module_version": "1.2.0",
      "_model_name": "LayoutModel",
      "_view_count": null,
      "_view_module": "@jupyter-widgets/base",
      "_view_module_version": "1.2.0",
      "_view_name": "LayoutView",
      "align_content": null,
      "align_items": null,
      "align_self": null,
      "border": null,
      "bottom": null,
      "display": null,
      "flex": null,
      "flex_flow": null,
      "grid_area": null,
      "grid_auto_columns": null,
      "grid_auto_flow": null,
      "grid_auto_rows": null,
      "grid_column": null,
      "grid_gap": null,
      "grid_row": null,
      "grid_template_areas": null,
      "grid_template_columns": null,
      "grid_template_rows": null,
      "height": null,
      "justify_content": null,
      "justify_items": null,
      "left": null,
      "margin": null,
      "max_height": null,
      "max_width": null,
      "min_height": null,
      "min_width": null,
      "object_fit": null,
      "object_position": null,
      "order": null,
      "overflow": null,
      "overflow_x": null,
      "overflow_y": null,
      "padding": null,
      "right": null,
      "top": null,
      "visibility": "hidden",
      "width": null
     }
    },
    "3b13d711fd534e07a789868e97e7be00": {
     "model_module": "@jupyter-widgets/base",
     "model_module_version": "1.2.0",
     "model_name": "LayoutModel",
     "state": {
      "_model_module": "@jupyter-widgets/base",
      "_model_module_version": "1.2.0",
      "_model_name": "LayoutModel",
      "_view_count": null,
      "_view_module": "@jupyter-widgets/base",
      "_view_module_version": "1.2.0",
      "_view_name": "LayoutView",
      "align_content": null,
      "align_items": null,
      "align_self": null,
      "border": null,
      "bottom": null,
      "display": null,
      "flex": null,
      "flex_flow": null,
      "grid_area": null,
      "grid_auto_columns": null,
      "grid_auto_flow": null,
      "grid_auto_rows": null,
      "grid_column": null,
      "grid_gap": null,
      "grid_row": null,
      "grid_template_areas": null,
      "grid_template_columns": null,
      "grid_template_rows": null,
      "height": null,
      "justify_content": null,
      "justify_items": null,
      "left": null,
      "margin": null,
      "max_height": null,
      "max_width": null,
      "min_height": null,
      "min_width": null,
      "object_fit": null,
      "object_position": null,
      "order": null,
      "overflow": null,
      "overflow_x": null,
      "overflow_y": null,
      "padding": null,
      "right": null,
      "top": null,
      "visibility": null,
      "width": null
     }
    },
    "42e762f200694aabbed8b2e774bfa79e": {
     "model_module": "@jupyter-widgets/controls",
     "model_module_version": "1.5.0",
     "model_name": "HTMLModel",
     "state": {
      "_dom_classes": [],
      "_model_module": "@jupyter-widgets/controls",
      "_model_module_version": "1.5.0",
      "_model_name": "HTMLModel",
      "_view_count": null,
      "_view_module": "@jupyter-widgets/controls",
      "_view_module_version": "1.5.0",
      "_view_name": "HTMLView",
      "description": "",
      "description_tooltip": null,
      "layout": "IPY_MODEL_e0ab26530b124d03aae5515c09b5e5ed",
      "placeholder": "​",
      "style": "IPY_MODEL_2a6a96213c924d1aaf94c3086c222bdf",
      "value": " 67000/67349 [00:05&lt;00:00, 8799.63 examples/s]"
     }
    },
    "432e999b383e4f099dbba7fcc32fa899": {
     "model_module": "@jupyter-widgets/controls",
     "model_module_version": "1.5.0",
     "model_name": "FloatProgressModel",
     "state": {
      "_dom_classes": [],
      "_model_module": "@jupyter-widgets/controls",
      "_model_module_version": "1.5.0",
      "_model_name": "FloatProgressModel",
      "_view_count": null,
      "_view_module": "@jupyter-widgets/controls",
      "_view_module_version": "1.5.0",
      "_view_name": "ProgressView",
      "bar_style": "",
      "description": "",
      "description_tooltip": null,
      "layout": "IPY_MODEL_2dd3c9b098204e2c94fa91244bd1b575",
      "max": 1052.328125,
      "min": 0,
      "orientation": "horizontal",
      "style": "IPY_MODEL_2b8f5d1ac72f41e898c7b39feb5c6544",
      "value": 1052.328125
     }
    },
    "47c393af3d694f8cb83f4773758f037c": {
     "model_module": "@jupyter-widgets/controls",
     "model_module_version": "1.5.0",
     "model_name": "FloatProgressModel",
     "state": {
      "_dom_classes": [],
      "_model_module": "@jupyter-widgets/controls",
      "_model_module_version": "1.5.0",
      "_model_name": "FloatProgressModel",
      "_view_count": null,
      "_view_module": "@jupyter-widgets/controls",
      "_view_module_version": "1.5.0",
      "_view_name": "ProgressView",
      "bar_style": "",
      "description": "",
      "description_tooltip": null,
      "layout": "IPY_MODEL_71c5961d07eb48e48ffb5a893de2952f",
      "max": 67349,
      "min": 0,
      "orientation": "horizontal",
      "style": "IPY_MODEL_4da26e02d8df4e27b80353fadc401021",
      "value": 67349
     }
    },
    "480d4587216d4af4a969fb5935e75f47": {
     "model_module": "@jupyter-widgets/base",
     "model_module_version": "1.2.0",
     "model_name": "LayoutModel",
     "state": {
      "_model_module": "@jupyter-widgets/base",
      "_model_module_version": "1.2.0",
      "_model_name": "LayoutModel",
      "_view_count": null,
      "_view_module": "@jupyter-widgets/base",
      "_view_module_version": "1.2.0",
      "_view_name": "LayoutView",
      "align_content": null,
      "align_items": null,
      "align_self": null,
      "border": null,
      "bottom": null,
      "display": null,
      "flex": null,
      "flex_flow": null,
      "grid_area": null,
      "grid_auto_columns": null,
      "grid_auto_flow": null,
      "grid_auto_rows": null,
      "grid_column": null,
      "grid_gap": null,
      "grid_row": null,
      "grid_template_areas": null,
      "grid_template_columns": null,
      "grid_template_rows": null,
      "height": null,
      "justify_content": null,
      "justify_items": null,
      "left": null,
      "margin": null,
      "max_height": null,
      "max_width": null,
      "min_height": null,
      "min_width": null,
      "object_fit": null,
      "object_position": null,
      "order": null,
      "overflow": null,
      "overflow_x": null,
      "overflow_y": null,
      "padding": null,
      "right": null,
      "top": null,
      "visibility": null,
      "width": null
     }
    },
    "4a1b7174ed7a437dbb80c40c8ad1e933": {
     "model_module": "@jupyter-widgets/controls",
     "model_module_version": "1.5.0",
     "model_name": "HTMLModel",
     "state": {
      "_dom_classes": [],
      "_model_module": "@jupyter-widgets/controls",
      "_model_module_version": "1.5.0",
      "_model_name": "HTMLModel",
      "_view_count": null,
      "_view_module": "@jupyter-widgets/controls",
      "_view_module_version": "1.5.0",
      "_view_name": "HTMLView",
      "description": "",
      "description_tooltip": null,
      "layout": "IPY_MODEL_9b10bf2e69ec42bfb7d7aacddd6c4f52",
      "placeholder": "​",
      "style": "IPY_MODEL_8b0cd5addbd840479cd9d380f69a8c94",
      "value": " 872/872 [00:00&lt;00:00, 8631.54 examples/s]"
     }
    },
    "4da26e02d8df4e27b80353fadc401021": {
     "model_module": "@jupyter-widgets/controls",
     "model_module_version": "1.5.0",
     "model_name": "ProgressStyleModel",
     "state": {
      "_model_module": "@jupyter-widgets/controls",
      "_model_module_version": "1.5.0",
      "_model_name": "ProgressStyleModel",
      "_view_count": null,
      "_view_module": "@jupyter-widgets/base",
      "_view_module_version": "1.2.0",
      "_view_name": "StyleView",
      "bar_color": null,
      "description_width": ""
     }
    },
    "4ea001e4bb49444da8774b01abe832af": {
     "model_module": "@jupyter-widgets/controls",
     "model_module_version": "1.5.0",
     "model_name": "DescriptionStyleModel",
     "state": {
      "_model_module": "@jupyter-widgets/controls",
      "_model_module_version": "1.5.0",
      "_model_name": "DescriptionStyleModel",
      "_view_count": null,
      "_view_module": "@jupyter-widgets/base",
      "_view_module_version": "1.2.0",
      "_view_name": "StyleView",
      "description_width": ""
     }
    },
    "50194bed8e9342a1a1d7bb950861d945": {
     "model_module": "@jupyter-widgets/controls",
     "model_module_version": "1.5.0",
     "model_name": "DescriptionStyleModel",
     "state": {
      "_model_module": "@jupyter-widgets/controls",
      "_model_module_version": "1.5.0",
      "_model_name": "DescriptionStyleModel",
      "_view_count": null,
      "_view_module": "@jupyter-widgets/base",
      "_view_module_version": "1.2.0",
      "_view_name": "StyleView",
      "description_width": ""
     }
    },
    "526efbad214b4b5abfd1e4968b0584c7": {
     "model_module": "@jupyter-widgets/base",
     "model_module_version": "1.2.0",
     "model_name": "LayoutModel",
     "state": {
      "_model_module": "@jupyter-widgets/base",
      "_model_module_version": "1.2.0",
      "_model_name": "LayoutModel",
      "_view_count": null,
      "_view_module": "@jupyter-widgets/base",
      "_view_module_version": "1.2.0",
      "_view_name": "LayoutView",
      "align_content": null,
      "align_items": null,
      "align_self": null,
      "border": null,
      "bottom": null,
      "display": null,
      "flex": null,
      "flex_flow": null,
      "grid_area": null,
      "grid_auto_columns": null,
      "grid_auto_flow": null,
      "grid_auto_rows": null,
      "grid_column": null,
      "grid_gap": null,
      "grid_row": null,
      "grid_template_areas": null,
      "grid_template_columns": null,
      "grid_template_rows": null,
      "height": null,
      "justify_content": null,
      "justify_items": null,
      "left": null,
      "margin": null,
      "max_height": null,
      "max_width": null,
      "min_height": null,
      "min_width": null,
      "object_fit": null,
      "object_position": null,
      "order": null,
      "overflow": null,
      "overflow_x": null,
      "overflow_y": null,
      "padding": null,
      "right": null,
      "top": null,
      "visibility": null,
      "width": null
     }
    },
    "56541edd6fc243a4b293703ea8ba76e3": {
     "model_module": "@jupyter-widgets/controls",
     "model_module_version": "1.5.0",
     "model_name": "DescriptionStyleModel",
     "state": {
      "_model_module": "@jupyter-widgets/controls",
      "_model_module_version": "1.5.0",
      "_model_name": "DescriptionStyleModel",
      "_view_count": null,
      "_view_module": "@jupyter-widgets/base",
      "_view_module_version": "1.2.0",
      "_view_name": "StyleView",
      "description_width": ""
     }
    },
    "5b0a6b3ecc44472ea98d081d1e664d63": {
     "model_module": "@jupyter-widgets/controls",
     "model_module_version": "1.5.0",
     "model_name": "FloatProgressModel",
     "state": {
      "_dom_classes": [],
      "_model_module": "@jupyter-widgets/controls",
      "_model_module_version": "1.5.0",
      "_model_name": "FloatProgressModel",
      "_view_count": null,
      "_view_module": "@jupyter-widgets/controls",
      "_view_module_version": "1.5.0",
      "_view_name": "ProgressView",
      "bar_style": "success",
      "description": "",
      "description_tooltip": null,
      "layout": "IPY_MODEL_480d4587216d4af4a969fb5935e75f47",
      "max": 3,
      "min": 0,
      "orientation": "horizontal",
      "style": "IPY_MODEL_d53b54e38bb04c1e954a3f85e870dc8d",
      "value": 3
     }
    },
    "5c670262a10748ac943802a515c9eb04": {
     "model_module": "@jupyter-widgets/controls",
     "model_module_version": "1.5.0",
     "model_name": "HTMLModel",
     "state": {
      "_dom_classes": [],
      "_model_module": "@jupyter-widgets/controls",
      "_model_module_version": "1.5.0",
      "_model_name": "HTMLModel",
      "_view_count": null,
      "_view_module": "@jupyter-widgets/controls",
      "_view_module_version": "1.5.0",
      "_view_name": "HTMLView",
      "description": "",
      "description_tooltip": null,
      "layout": "IPY_MODEL_2a72f18c35924f458637c916ab7cc74d",
      "placeholder": "​",
      "style": "IPY_MODEL_bc34f5960a3546d0a98b0078bb76c37f",
      "value": "Map:  99%"
     }
    },
    "5d62cfc5349c45e6b861d3ecfbd9b77f": {
     "model_module": "@jupyter-widgets/controls",
     "model_module_version": "1.5.0",
     "model_name": "FloatProgressModel",
     "state": {
      "_dom_classes": [],
      "_model_module": "@jupyter-widgets/controls",
      "_model_module_version": "1.5.0",
      "_model_name": "FloatProgressModel",
      "_view_count": null,
      "_view_module": "@jupyter-widgets/controls",
      "_view_module_version": "1.5.0",
      "_view_name": "ProgressView",
      "bar_style": "",
      "description": "",
      "description_tooltip": null,
      "layout": "IPY_MODEL_b71865ff78194d7581805298d25e6234",
      "max": 872,
      "min": 0,
      "orientation": "horizontal",
      "style": "IPY_MODEL_9b14de4639814feea7d6d6a33259b74f",
      "value": 872
     }
    },
    "61215c7cf1d84681a34ed07d82a3c278": {
     "model_module": "@jupyter-widgets/base",
     "model_module_version": "1.2.0",
     "model_name": "LayoutModel",
     "state": {
      "_model_module": "@jupyter-widgets/base",
      "_model_module_version": "1.2.0",
      "_model_name": "LayoutModel",
      "_view_count": null,
      "_view_module": "@jupyter-widgets/base",
      "_view_module_version": "1.2.0",
      "_view_name": "LayoutView",
      "align_content": null,
      "align_items": null,
      "align_self": null,
      "border": null,
      "bottom": null,
      "display": null,
      "flex": null,
      "flex_flow": null,
      "grid_area": null,
      "grid_auto_columns": null,
      "grid_auto_flow": null,
      "grid_auto_rows": null,
      "grid_column": null,
      "grid_gap": null,
      "grid_row": null,
      "grid_template_areas": null,
      "grid_template_columns": null,
      "grid_template_rows": null,
      "height": null,
      "justify_content": null,
      "justify_items": null,
      "left": null,
      "margin": null,
      "max_height": null,
      "max_width": null,
      "min_height": null,
      "min_width": null,
      "object_fit": null,
      "object_position": null,
      "order": null,
      "overflow": null,
      "overflow_x": null,
      "overflow_y": null,
      "padding": null,
      "right": null,
      "top": null,
      "visibility": null,
      "width": null
     }
    },
    "624e184e16c44828b94d3a4acd80fe81": {
     "model_module": "@jupyter-widgets/controls",
     "model_module_version": "1.5.0",
     "model_name": "HTMLModel",
     "state": {
      "_dom_classes": [],
      "_model_module": "@jupyter-widgets/controls",
      "_model_module_version": "1.5.0",
      "_model_name": "HTMLModel",
      "_view_count": null,
      "_view_module": "@jupyter-widgets/controls",
      "_view_module_version": "1.5.0",
      "_view_name": "HTMLView",
      "description": "",
      "description_tooltip": null,
      "layout": "IPY_MODEL_526efbad214b4b5abfd1e4968b0584c7",
      "placeholder": "​",
      "style": "IPY_MODEL_32ada54ffe3f45828d28a6d445d2721a",
      "value": "Map:  99%"
     }
    },
    "627ccc485dcb447fa80a26e1a68d4bd2": {
     "model_module": "@jupyter-widgets/controls",
     "model_module_version": "1.5.0",
     "model_name": "HTMLModel",
     "state": {
      "_dom_classes": [],
      "_model_module": "@jupyter-widgets/controls",
      "_model_module_version": "1.5.0",
      "_model_name": "HTMLModel",
      "_view_count": null,
      "_view_module": "@jupyter-widgets/controls",
      "_view_module_version": "1.5.0",
      "_view_name": "HTMLView",
      "description": "",
      "description_tooltip": null,
      "layout": "IPY_MODEL_bcd40d36564e43d9b6a6fd28b4042a68",
      "placeholder": "​",
      "style": "IPY_MODEL_56541edd6fc243a4b293703ea8ba76e3",
      "value": "Map:  99%"
     }
    },
    "654e40d107c849a8b5e0d0a402b9a090": {
     "model_module": "@jupyter-widgets/controls",
     "model_module_version": "1.5.0",
     "model_name": "DescriptionStyleModel",
     "state": {
      "_model_module": "@jupyter-widgets/controls",
      "_model_module_version": "1.5.0",
      "_model_name": "DescriptionStyleModel",
      "_view_count": null,
      "_view_module": "@jupyter-widgets/base",
      "_view_module_version": "1.2.0",
      "_view_name": "StyleView",
      "description_width": ""
     }
    },
    "67d74407af9d409a92d23f658a671dce": {
     "model_module": "@jupyter-widgets/base",
     "model_module_version": "1.2.0",
     "model_name": "LayoutModel",
     "state": {
      "_model_module": "@jupyter-widgets/base",
      "_model_module_version": "1.2.0",
      "_model_name": "LayoutModel",
      "_view_count": null,
      "_view_module": "@jupyter-widgets/base",
      "_view_module_version": "1.2.0",
      "_view_name": "LayoutView",
      "align_content": null,
      "align_items": null,
      "align_self": null,
      "border": null,
      "bottom": null,
      "display": null,
      "flex": null,
      "flex_flow": null,
      "grid_area": null,
      "grid_auto_columns": null,
      "grid_auto_flow": null,
      "grid_auto_rows": null,
      "grid_column": null,
      "grid_gap": null,
      "grid_row": null,
      "grid_template_areas": null,
      "grid_template_columns": null,
      "grid_template_rows": null,
      "height": null,
      "justify_content": null,
      "justify_items": null,
      "left": null,
      "margin": null,
      "max_height": null,
      "max_width": null,
      "min_height": null,
      "min_width": null,
      "object_fit": null,
      "object_position": null,
      "order": null,
      "overflow": null,
      "overflow_x": null,
      "overflow_y": null,
      "padding": null,
      "right": null,
      "top": null,
      "visibility": "hidden",
      "width": null
     }
    },
    "69af257902f144fa8825bc360eb146e6": {
     "model_module": "@jupyter-widgets/base",
     "model_module_version": "1.2.0",
     "model_name": "LayoutModel",
     "state": {
      "_model_module": "@jupyter-widgets/base",
      "_model_module_version": "1.2.0",
      "_model_name": "LayoutModel",
      "_view_count": null,
      "_view_module": "@jupyter-widgets/base",
      "_view_module_version": "1.2.0",
      "_view_name": "LayoutView",
      "align_content": null,
      "align_items": null,
      "align_self": null,
      "border": null,
      "bottom": null,
      "display": null,
      "flex": null,
      "flex_flow": null,
      "grid_area": null,
      "grid_auto_columns": null,
      "grid_auto_flow": null,
      "grid_auto_rows": null,
      "grid_column": null,
      "grid_gap": null,
      "grid_row": null,
      "grid_template_areas": null,
      "grid_template_columns": null,
      "grid_template_rows": null,
      "height": null,
      "justify_content": null,
      "justify_items": null,
      "left": null,
      "margin": null,
      "max_height": null,
      "max_width": null,
      "min_height": null,
      "min_width": null,
      "object_fit": null,
      "object_position": null,
      "order": null,
      "overflow": null,
      "overflow_x": null,
      "overflow_y": null,
      "padding": null,
      "right": null,
      "top": null,
      "visibility": null,
      "width": null
     }
    },
    "6d2045180f4c4c7f95e056a099f11454": {
     "model_module": "@jupyter-widgets/base",
     "model_module_version": "1.2.0",
     "model_name": "LayoutModel",
     "state": {
      "_model_module": "@jupyter-widgets/base",
      "_model_module_version": "1.2.0",
      "_model_name": "LayoutModel",
      "_view_count": null,
      "_view_module": "@jupyter-widgets/base",
      "_view_module_version": "1.2.0",
      "_view_name": "LayoutView",
      "align_content": null,
      "align_items": null,
      "align_self": null,
      "border": null,
      "bottom": null,
      "display": null,
      "flex": null,
      "flex_flow": null,
      "grid_area": null,
      "grid_auto_columns": null,
      "grid_auto_flow": null,
      "grid_auto_rows": null,
      "grid_column": null,
      "grid_gap": null,
      "grid_row": null,
      "grid_template_areas": null,
      "grid_template_columns": null,
      "grid_template_rows": null,
      "height": null,
      "justify_content": null,
      "justify_items": null,
      "left": null,
      "margin": null,
      "max_height": null,
      "max_width": null,
      "min_height": null,
      "min_width": null,
      "object_fit": null,
      "object_position": null,
      "order": null,
      "overflow": null,
      "overflow_x": null,
      "overflow_y": null,
      "padding": null,
      "right": null,
      "top": null,
      "visibility": null,
      "width": null
     }
    },
    "6daa26cab2144489ad733c31b8089111": {
     "model_module": "@jupyter-widgets/base",
     "model_module_version": "1.2.0",
     "model_name": "LayoutModel",
     "state": {
      "_model_module": "@jupyter-widgets/base",
      "_model_module_version": "1.2.0",
      "_model_name": "LayoutModel",
      "_view_count": null,
      "_view_module": "@jupyter-widgets/base",
      "_view_module_version": "1.2.0",
      "_view_name": "LayoutView",
      "align_content": null,
      "align_items": null,
      "align_self": null,
      "border": null,
      "bottom": null,
      "display": null,
      "flex": null,
      "flex_flow": null,
      "grid_area": null,
      "grid_auto_columns": null,
      "grid_auto_flow": null,
      "grid_auto_rows": null,
      "grid_column": null,
      "grid_gap": null,
      "grid_row": null,
      "grid_template_areas": null,
      "grid_template_columns": null,
      "grid_template_rows": null,
      "height": null,
      "justify_content": null,
      "justify_items": null,
      "left": null,
      "margin": null,
      "max_height": null,
      "max_width": null,
      "min_height": null,
      "min_width": null,
      "object_fit": null,
      "object_position": null,
      "order": null,
      "overflow": null,
      "overflow_x": null,
      "overflow_y": null,
      "padding": null,
      "right": null,
      "top": null,
      "visibility": null,
      "width": null
     }
    },
    "71a9c0c3a8f544da912bca258c0689e3": {
     "model_module": "@jupyter-widgets/base",
     "model_module_version": "1.2.0",
     "model_name": "LayoutModel",
     "state": {
      "_model_module": "@jupyter-widgets/base",
      "_model_module_version": "1.2.0",
      "_model_name": "LayoutModel",
      "_view_count": null,
      "_view_module": "@jupyter-widgets/base",
      "_view_module_version": "1.2.0",
      "_view_name": "LayoutView",
      "align_content": null,
      "align_items": null,
      "align_self": null,
      "border": null,
      "bottom": null,
      "display": null,
      "flex": null,
      "flex_flow": null,
      "grid_area": null,
      "grid_auto_columns": null,
      "grid_auto_flow": null,
      "grid_auto_rows": null,
      "grid_column": null,
      "grid_gap": null,
      "grid_row": null,
      "grid_template_areas": null,
      "grid_template_columns": null,
      "grid_template_rows": null,
      "height": null,
      "justify_content": null,
      "justify_items": null,
      "left": null,
      "margin": null,
      "max_height": null,
      "max_width": null,
      "min_height": null,
      "min_width": null,
      "object_fit": null,
      "object_position": null,
      "order": null,
      "overflow": null,
      "overflow_x": null,
      "overflow_y": null,
      "padding": null,
      "right": null,
      "top": null,
      "visibility": null,
      "width": null
     }
    },
    "71c5961d07eb48e48ffb5a893de2952f": {
     "model_module": "@jupyter-widgets/base",
     "model_module_version": "1.2.0",
     "model_name": "LayoutModel",
     "state": {
      "_model_module": "@jupyter-widgets/base",
      "_model_module_version": "1.2.0",
      "_model_name": "LayoutModel",
      "_view_count": null,
      "_view_module": "@jupyter-widgets/base",
      "_view_module_version": "1.2.0",
      "_view_name": "LayoutView",
      "align_content": null,
      "align_items": null,
      "align_self": null,
      "border": null,
      "bottom": null,
      "display": null,
      "flex": null,
      "flex_flow": null,
      "grid_area": null,
      "grid_auto_columns": null,
      "grid_auto_flow": null,
      "grid_auto_rows": null,
      "grid_column": null,
      "grid_gap": null,
      "grid_row": null,
      "grid_template_areas": null,
      "grid_template_columns": null,
      "grid_template_rows": null,
      "height": null,
      "justify_content": null,
      "justify_items": null,
      "left": null,
      "margin": null,
      "max_height": null,
      "max_width": null,
      "min_height": null,
      "min_width": null,
      "object_fit": null,
      "object_position": null,
      "order": null,
      "overflow": null,
      "overflow_x": null,
      "overflow_y": null,
      "padding": null,
      "right": null,
      "top": null,
      "visibility": null,
      "width": null
     }
    },
    "74856a02da2b42d69d1af933ee5a9b90": {
     "model_module": "@jupyter-widgets/base",
     "model_module_version": "1.2.0",
     "model_name": "LayoutModel",
     "state": {
      "_model_module": "@jupyter-widgets/base",
      "_model_module_version": "1.2.0",
      "_model_name": "LayoutModel",
      "_view_count": null,
      "_view_module": "@jupyter-widgets/base",
      "_view_module_version": "1.2.0",
      "_view_name": "LayoutView",
      "align_content": null,
      "align_items": null,
      "align_self": null,
      "border": null,
      "bottom": null,
      "display": null,
      "flex": null,
      "flex_flow": null,
      "grid_area": null,
      "grid_auto_columns": null,
      "grid_auto_flow": null,
      "grid_auto_rows": null,
      "grid_column": null,
      "grid_gap": null,
      "grid_row": null,
      "grid_template_areas": null,
      "grid_template_columns": null,
      "grid_template_rows": null,
      "height": null,
      "justify_content": null,
      "justify_items": null,
      "left": null,
      "margin": null,
      "max_height": null,
      "max_width": null,
      "min_height": null,
      "min_width": null,
      "object_fit": null,
      "object_position": null,
      "order": null,
      "overflow": null,
      "overflow_x": null,
      "overflow_y": null,
      "padding": null,
      "right": null,
      "top": null,
      "visibility": "hidden",
      "width": null
     }
    },
    "7607b1ef4bad447ea34bdff5dd4ac28f": {
     "model_module": "@jupyter-widgets/controls",
     "model_module_version": "1.5.0",
     "model_name": "HTMLModel",
     "state": {
      "_dom_classes": [],
      "_model_module": "@jupyter-widgets/controls",
      "_model_module_version": "1.5.0",
      "_model_name": "HTMLModel",
      "_view_count": null,
      "_view_module": "@jupyter-widgets/controls",
      "_view_module_version": "1.5.0",
      "_view_name": "HTMLView",
      "description": "",
      "description_tooltip": null,
      "layout": "IPY_MODEL_9c2d1bd761354cb2a7f44854c5a2fb31",
      "placeholder": "​",
      "style": "IPY_MODEL_231cecfd58d245cb8ac24130f8e623c7",
      "value": " 1/1 [00:35&lt;00:00, 35.89s/it]"
     }
    },
    "7667a0d822e04d17a6125949e3a23726": {
     "model_module": "@jupyter-widgets/controls",
     "model_module_version": "1.5.0",
     "model_name": "HTMLModel",
     "state": {
      "_dom_classes": [],
      "_model_module": "@jupyter-widgets/controls",
      "_model_module_version": "1.5.0",
      "_model_name": "HTMLModel",
      "_view_count": null,
      "_view_module": "@jupyter-widgets/controls",
      "_view_module_version": "1.5.0",
      "_view_name": "HTMLView",
      "description": "",
      "description_tooltip": null,
      "layout": "IPY_MODEL_265b10ad335d4613a652a0d7d2485fa7",
      "placeholder": "​",
      "style": "IPY_MODEL_654e40d107c849a8b5e0d0a402b9a090",
      "value": "Map:  99%"
     }
    },
    "7b37003d3c2641be85cc0eacf39454a7": {
     "model_module": "@jupyter-widgets/controls",
     "model_module_version": "1.5.0",
     "model_name": "HTMLModel",
     "state": {
      "_dom_classes": [],
      "_model_module": "@jupyter-widgets/controls",
      "_model_module_version": "1.5.0",
      "_model_name": "HTMLModel",
      "_view_count": null,
      "_view_module": "@jupyter-widgets/controls",
      "_view_module_version": "1.5.0",
      "_view_name": "HTMLView",
      "description": "",
      "description_tooltip": null,
      "layout": "IPY_MODEL_9a0d77a80f4c45a2ac3d087225af4f75",
      "placeholder": "​",
      "style": "IPY_MODEL_1b0ab6b687694f59b511bd2aea431bc5",
      "value": "Map: 100%"
     }
    },
    "7b545048d0fe44e08b7a56f5e091f3fd": {
     "model_module": "@jupyter-widgets/controls",
     "model_module_version": "1.5.0",
     "model_name": "HBoxModel",
     "state": {
      "_dom_classes": [],
      "_model_module": "@jupyter-widgets/controls",
      "_model_module_version": "1.5.0",
      "_model_name": "HBoxModel",
      "_view_count": null,
      "_view_module": "@jupyter-widgets/controls",
      "_view_module_version": "1.5.0",
      "_view_name": "HBoxView",
      "box_style": "",
      "children": [
       "IPY_MODEL_5c670262a10748ac943802a515c9eb04",
       "IPY_MODEL_9a20df89262d4b2c8c36d1a83db93b9b",
       "IPY_MODEL_008c34b1a7e74322a0149c70768d60de"
      ],
      "layout": "IPY_MODEL_397358ef921b46b4abdffe712ccea906"
     }
    },
    "7ee565c0f49d415384e244630af9bdb2": {
     "model_module": "@jupyter-widgets/base",
     "model_module_version": "1.2.0",
     "model_name": "LayoutModel",
     "state": {
      "_model_module": "@jupyter-widgets/base",
      "_model_module_version": "1.2.0",
      "_model_name": "LayoutModel",
      "_view_count": null,
      "_view_module": "@jupyter-widgets/base",
      "_view_module_version": "1.2.0",
      "_view_name": "LayoutView",
      "align_content": null,
      "align_items": null,
      "align_self": null,
      "border": null,
      "bottom": null,
      "display": null,
      "flex": null,
      "flex_flow": null,
      "grid_area": null,
      "grid_auto_columns": null,
      "grid_auto_flow": null,
      "grid_auto_rows": null,
      "grid_column": null,
      "grid_gap": null,
      "grid_row": null,
      "grid_template_areas": null,
      "grid_template_columns": null,
      "grid_template_rows": null,
      "height": null,
      "justify_content": null,
      "justify_items": null,
      "left": null,
      "margin": null,
      "max_height": null,
      "max_width": null,
      "min_height": null,
      "min_width": null,
      "object_fit": null,
      "object_position": null,
      "order": null,
      "overflow": null,
      "overflow_x": null,
      "overflow_y": null,
      "padding": null,
      "right": null,
      "top": null,
      "visibility": null,
      "width": null
     }
    },
    "83c285183ef34e5b8e018d1e367bcff5": {
     "model_module": "@jupyter-widgets/controls",
     "model_module_version": "1.5.0",
     "model_name": "HBoxModel",
     "state": {
      "_dom_classes": [],
      "_model_module": "@jupyter-widgets/controls",
      "_model_module_version": "1.5.0",
      "_model_name": "HBoxModel",
      "_view_count": null,
      "_view_module": "@jupyter-widgets/controls",
      "_view_module_version": "1.5.0",
      "_view_name": "HBoxView",
      "box_style": "",
      "children": [
       "IPY_MODEL_1744abe125a44dafb2ce7790584ace14",
       "IPY_MODEL_8f3441f048dd4032b70709e486813300",
       "IPY_MODEL_decc206ea9af4629ac7a493a759f88a6"
      ],
      "layout": "IPY_MODEL_67d74407af9d409a92d23f658a671dce"
     }
    },
    "86d00b13eb4546cea28d4c3db3ea21f7": {
     "model_module": "@jupyter-widgets/base",
     "model_module_version": "1.2.0",
     "model_name": "LayoutModel",
     "state": {
      "_model_module": "@jupyter-widgets/base",
      "_model_module_version": "1.2.0",
      "_model_name": "LayoutModel",
      "_view_count": null,
      "_view_module": "@jupyter-widgets/base",
      "_view_module_version": "1.2.0",
      "_view_name": "LayoutView",
      "align_content": null,
      "align_items": null,
      "align_self": null,
      "border": null,
      "bottom": null,
      "display": null,
      "flex": null,
      "flex_flow": null,
      "grid_area": null,
      "grid_auto_columns": null,
      "grid_auto_flow": null,
      "grid_auto_rows": null,
      "grid_column": null,
      "grid_gap": null,
      "grid_row": null,
      "grid_template_areas": null,
      "grid_template_columns": null,
      "grid_template_rows": null,
      "height": null,
      "justify_content": null,
      "justify_items": null,
      "left": null,
      "margin": null,
      "max_height": null,
      "max_width": null,
      "min_height": null,
      "min_width": null,
      "object_fit": null,
      "object_position": null,
      "order": null,
      "overflow": null,
      "overflow_x": null,
      "overflow_y": null,
      "padding": null,
      "right": null,
      "top": null,
      "visibility": null,
      "width": null
     }
    },
    "8ad65c4c24694f60b0bb218f167b8adb": {
     "model_module": "@jupyter-widgets/controls",
     "model_module_version": "1.5.0",
     "model_name": "HTMLModel",
     "state": {
      "_dom_classes": [],
      "_model_module": "@jupyter-widgets/controls",
      "_model_module_version": "1.5.0",
      "_model_name": "HTMLModel",
      "_view_count": null,
      "_view_module": "@jupyter-widgets/controls",
      "_view_module_version": "1.5.0",
      "_view_name": "HTMLView",
      "description": "",
      "description_tooltip": null,
      "layout": "IPY_MODEL_6daa26cab2144489ad733c31b8089111",
      "placeholder": "​",
      "style": "IPY_MODEL_f9ccf65f206b4b59af1e6f8aa7d2575e",
      "value": " 66388/67349 [00:08&lt;00:00, 8619.62 examples/s]"
     }
    },
    "8b0cd5addbd840479cd9d380f69a8c94": {
     "model_module": "@jupyter-widgets/controls",
     "model_module_version": "1.5.0",
     "model_name": "DescriptionStyleModel",
     "state": {
      "_model_module": "@jupyter-widgets/controls",
      "_model_module_version": "1.5.0",
      "_model_name": "DescriptionStyleModel",
      "_view_count": null,
      "_view_module": "@jupyter-widgets/base",
      "_view_module_version": "1.2.0",
      "_view_name": "StyleView",
      "description_width": ""
     }
    },
    "8f3441f048dd4032b70709e486813300": {
     "model_module": "@jupyter-widgets/controls",
     "model_module_version": "1.5.0",
     "model_name": "FloatProgressModel",
     "state": {
      "_dom_classes": [],
      "_model_module": "@jupyter-widgets/controls",
      "_model_module_version": "1.5.0",
      "_model_name": "FloatProgressModel",
      "_view_count": null,
      "_view_module": "@jupyter-widgets/controls",
      "_view_module_version": "1.5.0",
      "_view_name": "ProgressView",
      "bar_style": "",
      "description": "",
      "description_tooltip": null,
      "layout": "IPY_MODEL_fd432d5b35034b13b55d9d2bceb10ca7",
      "max": 872,
      "min": 0,
      "orientation": "horizontal",
      "style": "IPY_MODEL_d7b2eedf07d24ba4a95bbfb97b271fde",
      "value": 872
     }
    },
    "94a2f4ef0c204e93a717239d731661f4": {
     "model_module": "@jupyter-widgets/controls",
     "model_module_version": "1.5.0",
     "model_name": "HBoxModel",
     "state": {
      "_dom_classes": [],
      "_model_module": "@jupyter-widgets/controls",
      "_model_module_version": "1.5.0",
      "_model_name": "HBoxModel",
      "_view_count": null,
      "_view_module": "@jupyter-widgets/controls",
      "_view_module_version": "1.5.0",
      "_view_name": "HBoxView",
      "box_style": "",
      "children": [
       "IPY_MODEL_624e184e16c44828b94d3a4acd80fe81",
       "IPY_MODEL_ce0c1bfccb804505bf9556be8693e381",
       "IPY_MODEL_42e762f200694aabbed8b2e774bfa79e"
      ],
      "layout": "IPY_MODEL_efff74a42e974549a19feedd72f1d55a"
     }
    },
    "98d8fb777b1b4c418c6f01d329873ea7": {
     "model_module": "@jupyter-widgets/controls",
     "model_module_version": "1.5.0",
     "model_name": "ProgressStyleModel",
     "state": {
      "_model_module": "@jupyter-widgets/controls",
      "_model_module_version": "1.5.0",
      "_model_name": "ProgressStyleModel",
      "_view_count": null,
      "_view_module": "@jupyter-widgets/base",
      "_view_module_version": "1.2.0",
      "_view_name": "StyleView",
      "bar_color": null,
      "description_width": ""
     }
    },
    "9a0d77a80f4c45a2ac3d087225af4f75": {
     "model_module": "@jupyter-widgets/base",
     "model_module_version": "1.2.0",
     "model_name": "LayoutModel",
     "state": {
      "_model_module": "@jupyter-widgets/base",
      "_model_module_version": "1.2.0",
      "_model_name": "LayoutModel",
      "_view_count": null,
      "_view_module": "@jupyter-widgets/base",
      "_view_module_version": "1.2.0",
      "_view_name": "LayoutView",
      "align_content": null,
      "align_items": null,
      "align_self": null,
      "border": null,
      "bottom": null,
      "display": null,
      "flex": null,
      "flex_flow": null,
      "grid_area": null,
      "grid_auto_columns": null,
      "grid_auto_flow": null,
      "grid_auto_rows": null,
      "grid_column": null,
      "grid_gap": null,
      "grid_row": null,
      "grid_template_areas": null,
      "grid_template_columns": null,
      "grid_template_rows": null,
      "height": null,
      "justify_content": null,
      "justify_items": null,
      "left": null,
      "margin": null,
      "max_height": null,
      "max_width": null,
      "min_height": null,
      "min_width": null,
      "object_fit": null,
      "object_position": null,
      "order": null,
      "overflow": null,
      "overflow_x": null,
      "overflow_y": null,
      "padding": null,
      "right": null,
      "top": null,
      "visibility": null,
      "width": null
     }
    },
    "9a20df89262d4b2c8c36d1a83db93b9b": {
     "model_module": "@jupyter-widgets/controls",
     "model_module_version": "1.5.0",
     "model_name": "FloatProgressModel",
     "state": {
      "_dom_classes": [],
      "_model_module": "@jupyter-widgets/controls",
      "_model_module_version": "1.5.0",
      "_model_name": "FloatProgressModel",
      "_view_count": null,
      "_view_module": "@jupyter-widgets/controls",
      "_view_module_version": "1.5.0",
      "_view_name": "ProgressView",
      "bar_style": "",
      "description": "",
      "description_tooltip": null,
      "layout": "IPY_MODEL_1880276479944de3ba285208da3bb99c",
      "max": 67349,
      "min": 0,
      "orientation": "horizontal",
      "style": "IPY_MODEL_9d756ce1e2f84070b7ae4292ac77cd36",
      "value": 67349
     }
    },
    "9b0cd8b9f13d4b17ad9c5e15207564e9": {
     "model_module": "@jupyter-widgets/base",
     "model_module_version": "1.2.0",
     "model_name": "LayoutModel",
     "state": {
      "_model_module": "@jupyter-widgets/base",
      "_model_module_version": "1.2.0",
      "_model_name": "LayoutModel",
      "_view_count": null,
      "_view_module": "@jupyter-widgets/base",
      "_view_module_version": "1.2.0",
      "_view_name": "LayoutView",
      "align_content": null,
      "align_items": null,
      "align_self": null,
      "border": null,
      "bottom": null,
      "display": null,
      "flex": null,
      "flex_flow": null,
      "grid_area": null,
      "grid_auto_columns": null,
      "grid_auto_flow": null,
      "grid_auto_rows": null,
      "grid_column": null,
      "grid_gap": null,
      "grid_row": null,
      "grid_template_areas": null,
      "grid_template_columns": null,
      "grid_template_rows": null,
      "height": null,
      "justify_content": null,
      "justify_items": null,
      "left": null,
      "margin": null,
      "max_height": null,
      "max_width": null,
      "min_height": null,
      "min_width": null,
      "object_fit": null,
      "object_position": null,
      "order": null,
      "overflow": null,
      "overflow_x": null,
      "overflow_y": null,
      "padding": null,
      "right": null,
      "top": null,
      "visibility": null,
      "width": null
     }
    },
    "9b10bf2e69ec42bfb7d7aacddd6c4f52": {
     "model_module": "@jupyter-widgets/base",
     "model_module_version": "1.2.0",
     "model_name": "LayoutModel",
     "state": {
      "_model_module": "@jupyter-widgets/base",
      "_model_module_version": "1.2.0",
      "_model_name": "LayoutModel",
      "_view_count": null,
      "_view_module": "@jupyter-widgets/base",
      "_view_module_version": "1.2.0",
      "_view_name": "LayoutView",
      "align_content": null,
      "align_items": null,
      "align_self": null,
      "border": null,
      "bottom": null,
      "display": null,
      "flex": null,
      "flex_flow": null,
      "grid_area": null,
      "grid_auto_columns": null,
      "grid_auto_flow": null,
      "grid_auto_rows": null,
      "grid_column": null,
      "grid_gap": null,
      "grid_row": null,
      "grid_template_areas": null,
      "grid_template_columns": null,
      "grid_template_rows": null,
      "height": null,
      "justify_content": null,
      "justify_items": null,
      "left": null,
      "margin": null,
      "max_height": null,
      "max_width": null,
      "min_height": null,
      "min_width": null,
      "object_fit": null,
      "object_position": null,
      "order": null,
      "overflow": null,
      "overflow_x": null,
      "overflow_y": null,
      "padding": null,
      "right": null,
      "top": null,
      "visibility": null,
      "width": null
     }
    },
    "9b14de4639814feea7d6d6a33259b74f": {
     "model_module": "@jupyter-widgets/controls",
     "model_module_version": "1.5.0",
     "model_name": "ProgressStyleModel",
     "state": {
      "_model_module": "@jupyter-widgets/controls",
      "_model_module_version": "1.5.0",
      "_model_name": "ProgressStyleModel",
      "_view_count": null,
      "_view_module": "@jupyter-widgets/base",
      "_view_module_version": "1.2.0",
      "_view_name": "StyleView",
      "bar_color": null,
      "description_width": ""
     }
    },
    "9c2d1bd761354cb2a7f44854c5a2fb31": {
     "model_module": "@jupyter-widgets/base",
     "model_module_version": "1.2.0",
     "model_name": "LayoutModel",
     "state": {
      "_model_module": "@jupyter-widgets/base",
      "_model_module_version": "1.2.0",
      "_model_name": "LayoutModel",
      "_view_count": null,
      "_view_module": "@jupyter-widgets/base",
      "_view_module_version": "1.2.0",
      "_view_name": "LayoutView",
      "align_content": null,
      "align_items": null,
      "align_self": null,
      "border": null,
      "bottom": null,
      "display": null,
      "flex": null,
      "flex_flow": null,
      "grid_area": null,
      "grid_auto_columns": null,
      "grid_auto_flow": null,
      "grid_auto_rows": null,
      "grid_column": null,
      "grid_gap": null,
      "grid_row": null,
      "grid_template_areas": null,
      "grid_template_columns": null,
      "grid_template_rows": null,
      "height": null,
      "justify_content": null,
      "justify_items": null,
      "left": null,
      "margin": null,
      "max_height": null,
      "max_width": null,
      "min_height": null,
      "min_width": null,
      "object_fit": null,
      "object_position": null,
      "order": null,
      "overflow": null,
      "overflow_x": null,
      "overflow_y": null,
      "padding": null,
      "right": null,
      "top": null,
      "visibility": null,
      "width": null
     }
    },
    "9d756ce1e2f84070b7ae4292ac77cd36": {
     "model_module": "@jupyter-widgets/controls",
     "model_module_version": "1.5.0",
     "model_name": "ProgressStyleModel",
     "state": {
      "_model_module": "@jupyter-widgets/controls",
      "_model_module_version": "1.5.0",
      "_model_name": "ProgressStyleModel",
      "_view_count": null,
      "_view_module": "@jupyter-widgets/base",
      "_view_module_version": "1.2.0",
      "_view_name": "StyleView",
      "bar_color": null,
      "description_width": ""
     }
    },
    "9fee147bc9d94a6db0308b94aa0660e6": {
     "model_module": "@jupyter-widgets/base",
     "model_module_version": "1.2.0",
     "model_name": "LayoutModel",
     "state": {
      "_model_module": "@jupyter-widgets/base",
      "_model_module_version": "1.2.0",
      "_model_name": "LayoutModel",
      "_view_count": null,
      "_view_module": "@jupyter-widgets/base",
      "_view_module_version": "1.2.0",
      "_view_name": "LayoutView",
      "align_content": null,
      "align_items": null,
      "align_self": null,
      "border": null,
      "bottom": null,
      "display": null,
      "flex": null,
      "flex_flow": null,
      "grid_area": null,
      "grid_auto_columns": null,
      "grid_auto_flow": null,
      "grid_auto_rows": null,
      "grid_column": null,
      "grid_gap": null,
      "grid_row": null,
      "grid_template_areas": null,
      "grid_template_columns": null,
      "grid_template_rows": null,
      "height": null,
      "justify_content": null,
      "justify_items": null,
      "left": null,
      "margin": null,
      "max_height": null,
      "max_width": null,
      "min_height": null,
      "min_width": null,
      "object_fit": null,
      "object_position": null,
      "order": null,
      "overflow": null,
      "overflow_x": null,
      "overflow_y": null,
      "padding": null,
      "right": null,
      "top": null,
      "visibility": "hidden",
      "width": null
     }
    },
    "a053165007a74dffaab0b261ba8298c8": {
     "model_module": "@jupyter-widgets/base",
     "model_module_version": "1.2.0",
     "model_name": "LayoutModel",
     "state": {
      "_model_module": "@jupyter-widgets/base",
      "_model_module_version": "1.2.0",
      "_model_name": "LayoutModel",
      "_view_count": null,
      "_view_module": "@jupyter-widgets/base",
      "_view_module_version": "1.2.0",
      "_view_name": "LayoutView",
      "align_content": null,
      "align_items": null,
      "align_self": null,
      "border": null,
      "bottom": null,
      "display": null,
      "flex": null,
      "flex_flow": null,
      "grid_area": null,
      "grid_auto_columns": null,
      "grid_auto_flow": null,
      "grid_auto_rows": null,
      "grid_column": null,
      "grid_gap": null,
      "grid_row": null,
      "grid_template_areas": null,
      "grid_template_columns": null,
      "grid_template_rows": null,
      "height": null,
      "justify_content": null,
      "justify_items": null,
      "left": null,
      "margin": null,
      "max_height": null,
      "max_width": null,
      "min_height": null,
      "min_width": null,
      "object_fit": null,
      "object_position": null,
      "order": null,
      "overflow": null,
      "overflow_x": null,
      "overflow_y": null,
      "padding": null,
      "right": null,
      "top": null,
      "visibility": null,
      "width": null
     }
    },
    "aa33531fb7f94ad1a2dd2e1f468161b4": {
     "model_module": "@jupyter-widgets/controls",
     "model_module_version": "1.5.0",
     "model_name": "ProgressStyleModel",
     "state": {
      "_model_module": "@jupyter-widgets/controls",
      "_model_module_version": "1.5.0",
      "_model_name": "ProgressStyleModel",
      "_view_count": null,
      "_view_module": "@jupyter-widgets/base",
      "_view_module_version": "1.2.0",
      "_view_name": "StyleView",
      "bar_color": null,
      "description_width": ""
     }
    },
    "b29ddc4afea74d2d80d73ad887d2f251": {
     "model_module": "@jupyter-widgets/controls",
     "model_module_version": "1.5.0",
     "model_name": "HTMLModel",
     "state": {
      "_dom_classes": [],
      "_model_module": "@jupyter-widgets/controls",
      "_model_module_version": "1.5.0",
      "_model_name": "HTMLModel",
      "_view_count": null,
      "_view_module": "@jupyter-widgets/controls",
      "_view_module_version": "1.5.0",
      "_view_name": "HTMLView",
      "description": "",
      "description_tooltip": null,
      "layout": "IPY_MODEL_20c90d6e54924f0183794e49e956372d",
      "placeholder": "​",
      "style": "IPY_MODEL_cb281a69751d45aab09932bfb08359d1",
      "value": " 770/872 [00:00&lt;00:00, 6558.94 examples/s]"
     }
    },
    "b3a3d2ea7d2940d49b25629bf99adbf3": {
     "model_module": "@jupyter-widgets/controls",
     "model_module_version": "1.5.0",
     "model_name": "HTMLModel",
     "state": {
      "_dom_classes": [],
      "_model_module": "@jupyter-widgets/controls",
      "_model_module_version": "1.5.0",
      "_model_name": "HTMLModel",
      "_view_count": null,
      "_view_module": "@jupyter-widgets/controls",
      "_view_module_version": "1.5.0",
      "_view_name": "HTMLView",
      "description": "",
      "description_tooltip": null,
      "layout": "IPY_MODEL_71a9c0c3a8f544da912bca258c0689e3",
      "placeholder": "​",
      "style": "IPY_MODEL_c1facc09aa2045449083031c50793391",
      "value": "Map:  88%"
     }
    },
    "b5388a501d584cf5a3ff361ae64ba658": {
     "model_module": "@jupyter-widgets/controls",
     "model_module_version": "1.5.0",
     "model_name": "DescriptionStyleModel",
     "state": {
      "_model_module": "@jupyter-widgets/controls",
      "_model_module_version": "1.5.0",
      "_model_name": "DescriptionStyleModel",
      "_view_count": null,
      "_view_module": "@jupyter-widgets/base",
      "_view_module_version": "1.2.0",
      "_view_name": "StyleView",
      "description_width": ""
     }
    },
    "b5d2f63c33ec4528a6eafe3889dd89d8": {
     "model_module": "@jupyter-widgets/controls",
     "model_module_version": "1.5.0",
     "model_name": "ProgressStyleModel",
     "state": {
      "_model_module": "@jupyter-widgets/controls",
      "_model_module_version": "1.5.0",
      "_model_name": "ProgressStyleModel",
      "_view_count": null,
      "_view_module": "@jupyter-widgets/base",
      "_view_module_version": "1.2.0",
      "_view_name": "StyleView",
      "bar_color": null,
      "description_width": ""
     }
    },
    "b71865ff78194d7581805298d25e6234": {
     "model_module": "@jupyter-widgets/base",
     "model_module_version": "1.2.0",
     "model_name": "LayoutModel",
     "state": {
      "_model_module": "@jupyter-widgets/base",
      "_model_module_version": "1.2.0",
      "_model_name": "LayoutModel",
      "_view_count": null,
      "_view_module": "@jupyter-widgets/base",
      "_view_module_version": "1.2.0",
      "_view_name": "LayoutView",
      "align_content": null,
      "align_items": null,
      "align_self": null,
      "border": null,
      "bottom": null,
      "display": null,
      "flex": null,
      "flex_flow": null,
      "grid_area": null,
      "grid_auto_columns": null,
      "grid_auto_flow": null,
      "grid_auto_rows": null,
      "grid_column": null,
      "grid_gap": null,
      "grid_row": null,
      "grid_template_areas": null,
      "grid_template_columns": null,
      "grid_template_rows": null,
      "height": null,
      "justify_content": null,
      "justify_items": null,
      "left": null,
      "margin": null,
      "max_height": null,
      "max_width": null,
      "min_height": null,
      "min_width": null,
      "object_fit": null,
      "object_position": null,
      "order": null,
      "overflow": null,
      "overflow_x": null,
      "overflow_y": null,
      "padding": null,
      "right": null,
      "top": null,
      "visibility": null,
      "width": null
     }
    },
    "b77362dbceee49e594da0ced71641710": {
     "model_module": "@jupyter-widgets/controls",
     "model_module_version": "1.5.0",
     "model_name": "ProgressStyleModel",
     "state": {
      "_model_module": "@jupyter-widgets/controls",
      "_model_module_version": "1.5.0",
      "_model_name": "ProgressStyleModel",
      "_view_count": null,
      "_view_module": "@jupyter-widgets/base",
      "_view_module_version": "1.2.0",
      "_view_name": "StyleView",
      "bar_color": null,
      "description_width": ""
     }
    },
    "b9659a38154f416cbd65100113a06389": {
     "model_module": "@jupyter-widgets/controls",
     "model_module_version": "1.5.0",
     "model_name": "FloatProgressModel",
     "state": {
      "_dom_classes": [],
      "_model_module": "@jupyter-widgets/controls",
      "_model_module_version": "1.5.0",
      "_model_name": "FloatProgressModel",
      "_view_count": null,
      "_view_module": "@jupyter-widgets/controls",
      "_view_module_version": "1.5.0",
      "_view_name": "ProgressView",
      "bar_style": "",
      "description": "",
      "description_tooltip": null,
      "layout": "IPY_MODEL_69af257902f144fa8825bc360eb146e6",
      "max": 872,
      "min": 0,
      "orientation": "horizontal",
      "style": "IPY_MODEL_98d8fb777b1b4c418c6f01d329873ea7",
      "value": 872
     }
    },
    "ba497408e315452f9b38060a2f83eb67": {
     "model_module": "@jupyter-widgets/controls",
     "model_module_version": "1.5.0",
     "model_name": "HBoxModel",
     "state": {
      "_dom_classes": [],
      "_model_module": "@jupyter-widgets/controls",
      "_model_module_version": "1.5.0",
      "_model_name": "HBoxModel",
      "_view_count": null,
      "_view_module": "@jupyter-widgets/controls",
      "_view_module_version": "1.5.0",
      "_view_name": "HBoxView",
      "box_style": "",
      "children": [
       "IPY_MODEL_eafd60e9bf344ef6b5cc5e6bc8278dea",
       "IPY_MODEL_e1b037b976ca4538ace3b372fd85948e",
       "IPY_MODEL_eca296c045334f749385e2f9623ca5b9"
      ],
      "layout": "IPY_MODEL_74856a02da2b42d69d1af933ee5a9b90"
     }
    },
    "bbf7176fe2ea43c9986f8ec444b0d222": {
     "model_module": "@jupyter-widgets/controls",
     "model_module_version": "1.5.0",
     "model_name": "HBoxModel",
     "state": {
      "_dom_classes": [],
      "_model_module": "@jupyter-widgets/controls",
      "_model_module_version": "1.5.0",
      "_model_name": "HBoxModel",
      "_view_count": null,
      "_view_module": "@jupyter-widgets/controls",
      "_view_module_version": "1.5.0",
      "_view_name": "HBoxView",
      "box_style": "",
      "children": [
       "IPY_MODEL_7667a0d822e04d17a6125949e3a23726",
       "IPY_MODEL_47c393af3d694f8cb83f4773758f037c",
       "IPY_MODEL_04d93b206eb1493eb4384201ae6a9e38"
      ],
      "layout": "IPY_MODEL_07ae1784a7264b539f4e35e67c830b9d"
     }
    },
    "bc34f5960a3546d0a98b0078bb76c37f": {
     "model_module": "@jupyter-widgets/controls",
     "model_module_version": "1.5.0",
     "model_name": "DescriptionStyleModel",
     "state": {
      "_model_module": "@jupyter-widgets/controls",
      "_model_module_version": "1.5.0",
      "_model_name": "DescriptionStyleModel",
      "_view_count": null,
      "_view_module": "@jupyter-widgets/base",
      "_view_module_version": "1.2.0",
      "_view_name": "StyleView",
      "description_width": ""
     }
    },
    "bcd40d36564e43d9b6a6fd28b4042a68": {
     "model_module": "@jupyter-widgets/base",
     "model_module_version": "1.2.0",
     "model_name": "LayoutModel",
     "state": {
      "_model_module": "@jupyter-widgets/base",
      "_model_module_version": "1.2.0",
      "_model_name": "LayoutModel",
      "_view_count": null,
      "_view_module": "@jupyter-widgets/base",
      "_view_module_version": "1.2.0",
      "_view_name": "LayoutView",
      "align_content": null,
      "align_items": null,
      "align_self": null,
      "border": null,
      "bottom": null,
      "display": null,
      "flex": null,
      "flex_flow": null,
      "grid_area": null,
      "grid_auto_columns": null,
      "grid_auto_flow": null,
      "grid_auto_rows": null,
      "grid_column": null,
      "grid_gap": null,
      "grid_row": null,
      "grid_template_areas": null,
      "grid_template_columns": null,
      "grid_template_rows": null,
      "height": null,
      "justify_content": null,
      "justify_items": null,
      "left": null,
      "margin": null,
      "max_height": null,
      "max_width": null,
      "min_height": null,
      "min_width": null,
      "object_fit": null,
      "object_position": null,
      "order": null,
      "overflow": null,
      "overflow_x": null,
      "overflow_y": null,
      "padding": null,
      "right": null,
      "top": null,
      "visibility": null,
      "width": null
     }
    },
    "be081cc47ece482c87c6efbc6a0b921f": {
     "model_module": "@jupyter-widgets/controls",
     "model_module_version": "1.5.0",
     "model_name": "HBoxModel",
     "state": {
      "_dom_classes": [],
      "_model_module": "@jupyter-widgets/controls",
      "_model_module_version": "1.5.0",
      "_model_name": "HBoxModel",
      "_view_count": null,
      "_view_module": "@jupyter-widgets/controls",
      "_view_module_version": "1.5.0",
      "_view_name": "HBoxView",
      "box_style": "",
      "children": [
       "IPY_MODEL_028e3422550449aaa312c15229c1c588",
       "IPY_MODEL_11f31d6b191e43c2b20ab464ec55c6bc",
       "IPY_MODEL_7607b1ef4bad447ea34bdff5dd4ac28f"
      ],
      "layout": "IPY_MODEL_df8586bbb4e749ba87ed5e1d965b5acd"
     }
    },
    "c1facc09aa2045449083031c50793391": {
     "model_module": "@jupyter-widgets/controls",
     "model_module_version": "1.5.0",
     "model_name": "DescriptionStyleModel",
     "state": {
      "_model_module": "@jupyter-widgets/controls",
      "_model_module_version": "1.5.0",
      "_model_name": "DescriptionStyleModel",
      "_view_count": null,
      "_view_module": "@jupyter-widgets/base",
      "_view_module_version": "1.2.0",
      "_view_name": "StyleView",
      "description_width": ""
     }
    },
    "c2502641e182446b9d10ad9b7fdd273c": {
     "model_module": "@jupyter-widgets/controls",
     "model_module_version": "1.5.0",
     "model_name": "DescriptionStyleModel",
     "state": {
      "_model_module": "@jupyter-widgets/controls",
      "_model_module_version": "1.5.0",
      "_model_name": "DescriptionStyleModel",
      "_view_count": null,
      "_view_module": "@jupyter-widgets/base",
      "_view_module_version": "1.2.0",
      "_view_name": "StyleView",
      "description_width": ""
     }
    },
    "c3f0f82039b64ebd93fd914849700dac": {
     "model_module": "@jupyter-widgets/base",
     "model_module_version": "1.2.0",
     "model_name": "LayoutModel",
     "state": {
      "_model_module": "@jupyter-widgets/base",
      "_model_module_version": "1.2.0",
      "_model_name": "LayoutModel",
      "_view_count": null,
      "_view_module": "@jupyter-widgets/base",
      "_view_module_version": "1.2.0",
      "_view_name": "LayoutView",
      "align_content": null,
      "align_items": null,
      "align_self": null,
      "border": null,
      "bottom": null,
      "display": null,
      "flex": null,
      "flex_flow": null,
      "grid_area": null,
      "grid_auto_columns": null,
      "grid_auto_flow": null,
      "grid_auto_rows": null,
      "grid_column": null,
      "grid_gap": null,
      "grid_row": null,
      "grid_template_areas": null,
      "grid_template_columns": null,
      "grid_template_rows": null,
      "height": null,
      "justify_content": null,
      "justify_items": null,
      "left": null,
      "margin": null,
      "max_height": null,
      "max_width": null,
      "min_height": null,
      "min_width": null,
      "object_fit": null,
      "object_position": null,
      "order": null,
      "overflow": null,
      "overflow_x": null,
      "overflow_y": null,
      "padding": null,
      "right": null,
      "top": null,
      "visibility": null,
      "width": null
     }
    },
    "c42c5f24be90486991f5b3bb69bfb7fc": {
     "model_module": "@jupyter-widgets/base",
     "model_module_version": "1.2.0",
     "model_name": "LayoutModel",
     "state": {
      "_model_module": "@jupyter-widgets/base",
      "_model_module_version": "1.2.0",
      "_model_name": "LayoutModel",
      "_view_count": null,
      "_view_module": "@jupyter-widgets/base",
      "_view_module_version": "1.2.0",
      "_view_name": "LayoutView",
      "align_content": null,
      "align_items": null,
      "align_self": null,
      "border": null,
      "bottom": null,
      "display": null,
      "flex": null,
      "flex_flow": null,
      "grid_area": null,
      "grid_auto_columns": null,
      "grid_auto_flow": null,
      "grid_auto_rows": null,
      "grid_column": null,
      "grid_gap": null,
      "grid_row": null,
      "grid_template_areas": null,
      "grid_template_columns": null,
      "grid_template_rows": null,
      "height": null,
      "justify_content": null,
      "justify_items": null,
      "left": null,
      "margin": null,
      "max_height": null,
      "max_width": null,
      "min_height": null,
      "min_width": null,
      "object_fit": null,
      "object_position": null,
      "order": null,
      "overflow": null,
      "overflow_x": null,
      "overflow_y": null,
      "padding": null,
      "right": null,
      "top": null,
      "visibility": null,
      "width": null
     }
    },
    "c58288c64b0f4f369646c96c5f1f8162": {
     "model_module": "@jupyter-widgets/controls",
     "model_module_version": "1.5.0",
     "model_name": "HBoxModel",
     "state": {
      "_dom_classes": [],
      "_model_module": "@jupyter-widgets/controls",
      "_model_module_version": "1.5.0",
      "_model_name": "HBoxModel",
      "_view_count": null,
      "_view_module": "@jupyter-widgets/controls",
      "_view_module_version": "1.5.0",
      "_view_name": "HBoxView",
      "box_style": "",
      "children": [
       "IPY_MODEL_7b37003d3c2641be85cc0eacf39454a7",
       "IPY_MODEL_b9659a38154f416cbd65100113a06389",
       "IPY_MODEL_4a1b7174ed7a437dbb80c40c8ad1e933"
      ],
      "layout": "IPY_MODEL_9fee147bc9d94a6db0308b94aa0660e6"
     }
    },
    "c8c7b047461a437ba1fcecb18b234fa2": {
     "model_module": "@jupyter-widgets/base",
     "model_module_version": "1.2.0",
     "model_name": "LayoutModel",
     "state": {
      "_model_module": "@jupyter-widgets/base",
      "_model_module_version": "1.2.0",
      "_model_name": "LayoutModel",
      "_view_count": null,
      "_view_module": "@jupyter-widgets/base",
      "_view_module_version": "1.2.0",
      "_view_name": "LayoutView",
      "align_content": null,
      "align_items": null,
      "align_self": null,
      "border": null,
      "bottom": null,
      "display": null,
      "flex": null,
      "flex_flow": null,
      "grid_area": null,
      "grid_auto_columns": null,
      "grid_auto_flow": null,
      "grid_auto_rows": null,
      "grid_column": null,
      "grid_gap": null,
      "grid_row": null,
      "grid_template_areas": null,
      "grid_template_columns": null,
      "grid_template_rows": null,
      "height": null,
      "justify_content": null,
      "justify_items": null,
      "left": null,
      "margin": null,
      "max_height": null,
      "max_width": null,
      "min_height": null,
      "min_width": null,
      "object_fit": null,
      "object_position": null,
      "order": null,
      "overflow": null,
      "overflow_x": null,
      "overflow_y": null,
      "padding": null,
      "right": null,
      "top": null,
      "visibility": "hidden",
      "width": null
     }
    },
    "cb281a69751d45aab09932bfb08359d1": {
     "model_module": "@jupyter-widgets/controls",
     "model_module_version": "1.5.0",
     "model_name": "DescriptionStyleModel",
     "state": {
      "_model_module": "@jupyter-widgets/controls",
      "_model_module_version": "1.5.0",
      "_model_name": "DescriptionStyleModel",
      "_view_count": null,
      "_view_module": "@jupyter-widgets/base",
      "_view_module_version": "1.2.0",
      "_view_name": "StyleView",
      "description_width": ""
     }
    },
    "ce0c1bfccb804505bf9556be8693e381": {
     "model_module": "@jupyter-widgets/controls",
     "model_module_version": "1.5.0",
     "model_name": "FloatProgressModel",
     "state": {
      "_dom_classes": [],
      "_model_module": "@jupyter-widgets/controls",
      "_model_module_version": "1.5.0",
      "_model_name": "FloatProgressModel",
      "_view_count": null,
      "_view_module": "@jupyter-widgets/controls",
      "_view_module_version": "1.5.0",
      "_view_name": "ProgressView",
      "bar_style": "",
      "description": "",
      "description_tooltip": null,
      "layout": "IPY_MODEL_179eb96d1342471dac9d5a621cff3124",
      "max": 67349,
      "min": 0,
      "orientation": "horizontal",
      "style": "IPY_MODEL_b5d2f63c33ec4528a6eafe3889dd89d8",
      "value": 67349
     }
    },
    "d1f46224562a409bbfdfd8b1204d9d66": {
     "model_module": "@jupyter-widgets/controls",
     "model_module_version": "1.5.0",
     "model_name": "HTMLModel",
     "state": {
      "_dom_classes": [],
      "_model_module": "@jupyter-widgets/controls",
      "_model_module_version": "1.5.0",
      "_model_name": "HTMLModel",
      "_view_count": null,
      "_view_module": "@jupyter-widgets/controls",
      "_view_module_version": "1.5.0",
      "_view_name": "HTMLView",
      "description": "",
      "description_tooltip": null,
      "layout": "IPY_MODEL_7ee565c0f49d415384e244630af9bdb2",
      "placeholder": "​",
      "style": "IPY_MODEL_0e63d6cc34b04c8bbfec67687d52951a",
      "value": "100%"
     }
    },
    "d4d98373e21648eaae074c0cdc8ff4d1": {
     "model_module": "@jupyter-widgets/controls",
     "model_module_version": "1.5.0",
     "model_name": "DescriptionStyleModel",
     "state": {
      "_model_module": "@jupyter-widgets/controls",
      "_model_module_version": "1.5.0",
      "_model_name": "DescriptionStyleModel",
      "_view_count": null,
      "_view_module": "@jupyter-widgets/base",
      "_view_module_version": "1.2.0",
      "_view_name": "StyleView",
      "description_width": ""
     }
    },
    "d53b54e38bb04c1e954a3f85e870dc8d": {
     "model_module": "@jupyter-widgets/controls",
     "model_module_version": "1.5.0",
     "model_name": "ProgressStyleModel",
     "state": {
      "_model_module": "@jupyter-widgets/controls",
      "_model_module_version": "1.5.0",
      "_model_name": "ProgressStyleModel",
      "_view_count": null,
      "_view_module": "@jupyter-widgets/base",
      "_view_module_version": "1.2.0",
      "_view_name": "StyleView",
      "bar_color": null,
      "description_width": ""
     }
    },
    "d7b2eedf07d24ba4a95bbfb97b271fde": {
     "model_module": "@jupyter-widgets/controls",
     "model_module_version": "1.5.0",
     "model_name": "ProgressStyleModel",
     "state": {
      "_model_module": "@jupyter-widgets/controls",
      "_model_module_version": "1.5.0",
      "_model_name": "ProgressStyleModel",
      "_view_count": null,
      "_view_module": "@jupyter-widgets/base",
      "_view_module_version": "1.2.0",
      "_view_name": "StyleView",
      "bar_color": null,
      "description_width": ""
     }
    },
    "decc206ea9af4629ac7a493a759f88a6": {
     "model_module": "@jupyter-widgets/controls",
     "model_module_version": "1.5.0",
     "model_name": "HTMLModel",
     "state": {
      "_dom_classes": [],
      "_model_module": "@jupyter-widgets/controls",
      "_model_module_version": "1.5.0",
      "_model_name": "HTMLModel",
      "_view_count": null,
      "_view_module": "@jupyter-widgets/controls",
      "_view_module_version": "1.5.0",
      "_view_name": "HTMLView",
      "description": "",
      "description_tooltip": null,
      "layout": "IPY_MODEL_e5f7725ca2b14e5697674d71707a39d0",
      "placeholder": "​",
      "style": "IPY_MODEL_d4d98373e21648eaae074c0cdc8ff4d1",
      "value": " 872/872 [00:00&lt;00:00, 3766.64 examples/s]"
     }
    },
    "def5c8051d34443ba51ba03f61053c3c": {
     "model_module": "@jupyter-widgets/base",
     "model_module_version": "1.2.0",
     "model_name": "LayoutModel",
     "state": {
      "_model_module": "@jupyter-widgets/base",
      "_model_module_version": "1.2.0",
      "_model_name": "LayoutModel",
      "_view_count": null,
      "_view_module": "@jupyter-widgets/base",
      "_view_module_version": "1.2.0",
      "_view_name": "LayoutView",
      "align_content": null,
      "align_items": null,
      "align_self": null,
      "border": null,
      "bottom": null,
      "display": null,
      "flex": null,
      "flex_flow": null,
      "grid_area": null,
      "grid_auto_columns": null,
      "grid_auto_flow": null,
      "grid_auto_rows": null,
      "grid_column": null,
      "grid_gap": null,
      "grid_row": null,
      "grid_template_areas": null,
      "grid_template_columns": null,
      "grid_template_rows": null,
      "height": null,
      "justify_content": null,
      "justify_items": null,
      "left": null,
      "margin": null,
      "max_height": null,
      "max_width": null,
      "min_height": null,
      "min_width": null,
      "object_fit": null,
      "object_position": null,
      "order": null,
      "overflow": null,
      "overflow_x": null,
      "overflow_y": null,
      "padding": null,
      "right": null,
      "top": null,
      "visibility": null,
      "width": null
     }
    },
    "df8586bbb4e749ba87ed5e1d965b5acd": {
     "model_module": "@jupyter-widgets/base",
     "model_module_version": "1.2.0",
     "model_name": "LayoutModel",
     "state": {
      "_model_module": "@jupyter-widgets/base",
      "_model_module_version": "1.2.0",
      "_model_name": "LayoutModel",
      "_view_count": null,
      "_view_module": "@jupyter-widgets/base",
      "_view_module_version": "1.2.0",
      "_view_name": "LayoutView",
      "align_content": null,
      "align_items": null,
      "align_self": null,
      "border": null,
      "bottom": null,
      "display": null,
      "flex": null,
      "flex_flow": null,
      "grid_area": null,
      "grid_auto_columns": null,
      "grid_auto_flow": null,
      "grid_auto_rows": null,
      "grid_column": null,
      "grid_gap": null,
      "grid_row": null,
      "grid_template_areas": null,
      "grid_template_columns": null,
      "grid_template_rows": null,
      "height": null,
      "justify_content": null,
      "justify_items": null,
      "left": null,
      "margin": null,
      "max_height": null,
      "max_width": null,
      "min_height": null,
      "min_width": null,
      "object_fit": null,
      "object_position": null,
      "order": null,
      "overflow": null,
      "overflow_x": null,
      "overflow_y": null,
      "padding": null,
      "right": null,
      "top": null,
      "visibility": null,
      "width": null
     }
    },
    "e0ab26530b124d03aae5515c09b5e5ed": {
     "model_module": "@jupyter-widgets/base",
     "model_module_version": "1.2.0",
     "model_name": "LayoutModel",
     "state": {
      "_model_module": "@jupyter-widgets/base",
      "_model_module_version": "1.2.0",
      "_model_name": "LayoutModel",
      "_view_count": null,
      "_view_module": "@jupyter-widgets/base",
      "_view_module_version": "1.2.0",
      "_view_name": "LayoutView",
      "align_content": null,
      "align_items": null,
      "align_self": null,
      "border": null,
      "bottom": null,
      "display": null,
      "flex": null,
      "flex_flow": null,
      "grid_area": null,
      "grid_auto_columns": null,
      "grid_auto_flow": null,
      "grid_auto_rows": null,
      "grid_column": null,
      "grid_gap": null,
      "grid_row": null,
      "grid_template_areas": null,
      "grid_template_columns": null,
      "grid_template_rows": null,
      "height": null,
      "justify_content": null,
      "justify_items": null,
      "left": null,
      "margin": null,
      "max_height": null,
      "max_width": null,
      "min_height": null,
      "min_width": null,
      "object_fit": null,
      "object_position": null,
      "order": null,
      "overflow": null,
      "overflow_x": null,
      "overflow_y": null,
      "padding": null,
      "right": null,
      "top": null,
      "visibility": null,
      "width": null
     }
    },
    "e1b037b976ca4538ace3b372fd85948e": {
     "model_module": "@jupyter-widgets/controls",
     "model_module_version": "1.5.0",
     "model_name": "FloatProgressModel",
     "state": {
      "_dom_classes": [],
      "_model_module": "@jupyter-widgets/controls",
      "_model_module_version": "1.5.0",
      "_model_name": "FloatProgressModel",
      "_view_count": null,
      "_view_module": "@jupyter-widgets/controls",
      "_view_module_version": "1.5.0",
      "_view_name": "ProgressView",
      "bar_style": "",
      "description": "",
      "description_tooltip": null,
      "layout": "IPY_MODEL_86d00b13eb4546cea28d4c3db3ea21f7",
      "max": 872,
      "min": 0,
      "orientation": "horizontal",
      "style": "IPY_MODEL_b77362dbceee49e594da0ced71641710",
      "value": 872
     }
    },
    "e5800dc2086649bf8fef09389f330d2e": {
     "model_module": "@jupyter-widgets/controls",
     "model_module_version": "1.5.0",
     "model_name": "HBoxModel",
     "state": {
      "_dom_classes": [],
      "_model_module": "@jupyter-widgets/controls",
      "_model_module_version": "1.5.0",
      "_model_name": "HBoxModel",
      "_view_count": null,
      "_view_module": "@jupyter-widgets/controls",
      "_view_module_version": "1.5.0",
      "_view_name": "HBoxView",
      "box_style": "",
      "children": [
       "IPY_MODEL_0e31dec5bd9d499a8757882ef1faf9b7",
       "IPY_MODEL_432e999b383e4f099dbba7fcc32fa899",
       "IPY_MODEL_25a6f5c70a1d4395ba34792fd1d25f40"
      ],
      "layout": "IPY_MODEL_1fb0480ba12f43aca3d115f8386e0cac"
     }
    },
    "e5f7725ca2b14e5697674d71707a39d0": {
     "model_module": "@jupyter-widgets/base",
     "model_module_version": "1.2.0",
     "model_name": "LayoutModel",
     "state": {
      "_model_module": "@jupyter-widgets/base",
      "_model_module_version": "1.2.0",
      "_model_name": "LayoutModel",
      "_view_count": null,
      "_view_module": "@jupyter-widgets/base",
      "_view_module_version": "1.2.0",
      "_view_name": "LayoutView",
      "align_content": null,
      "align_items": null,
      "align_self": null,
      "border": null,
      "bottom": null,
      "display": null,
      "flex": null,
      "flex_flow": null,
      "grid_area": null,
      "grid_auto_columns": null,
      "grid_auto_flow": null,
      "grid_auto_rows": null,
      "grid_column": null,
      "grid_gap": null,
      "grid_row": null,
      "grid_template_areas": null,
      "grid_template_columns": null,
      "grid_template_rows": null,
      "height": null,
      "justify_content": null,
      "justify_items": null,
      "left": null,
      "margin": null,
      "max_height": null,
      "max_width": null,
      "min_height": null,
      "min_width": null,
      "object_fit": null,
      "object_position": null,
      "order": null,
      "overflow": null,
      "overflow_x": null,
      "overflow_y": null,
      "padding": null,
      "right": null,
      "top": null,
      "visibility": null,
      "width": null
     }
    },
    "eafd60e9bf344ef6b5cc5e6bc8278dea": {
     "model_module": "@jupyter-widgets/controls",
     "model_module_version": "1.5.0",
     "model_name": "HTMLModel",
     "state": {
      "_dom_classes": [],
      "_model_module": "@jupyter-widgets/controls",
      "_model_module_version": "1.5.0",
      "_model_name": "HTMLModel",
      "_view_count": null,
      "_view_module": "@jupyter-widgets/controls",
      "_view_module_version": "1.5.0",
      "_view_name": "HTMLView",
      "description": "",
      "description_tooltip": null,
      "layout": "IPY_MODEL_c42c5f24be90486991f5b3bb69bfb7fc",
      "placeholder": "​",
      "style": "IPY_MODEL_4ea001e4bb49444da8774b01abe832af",
      "value": "Map: 100%"
     }
    },
    "eb270f70f66241cd91164c2bb59cb8f7": {
     "model_module": "@jupyter-widgets/controls",
     "model_module_version": "1.5.0",
     "model_name": "DescriptionStyleModel",
     "state": {
      "_model_module": "@jupyter-widgets/controls",
      "_model_module_version": "1.5.0",
      "_model_name": "DescriptionStyleModel",
      "_view_count": null,
      "_view_module": "@jupyter-widgets/base",
      "_view_module_version": "1.2.0",
      "_view_name": "StyleView",
      "description_width": ""
     }
    },
    "ebf5a0b20fbc43a38bc862d1446f68ed": {
     "model_module": "@jupyter-widgets/controls",
     "model_module_version": "1.5.0",
     "model_name": "ProgressStyleModel",
     "state": {
      "_model_module": "@jupyter-widgets/controls",
      "_model_module_version": "1.5.0",
      "_model_name": "ProgressStyleModel",
      "_view_count": null,
      "_view_module": "@jupyter-widgets/base",
      "_view_module_version": "1.2.0",
      "_view_name": "StyleView",
      "bar_color": null,
      "description_width": ""
     }
    },
    "eca296c045334f749385e2f9623ca5b9": {
     "model_module": "@jupyter-widgets/controls",
     "model_module_version": "1.5.0",
     "model_name": "HTMLModel",
     "state": {
      "_dom_classes": [],
      "_model_module": "@jupyter-widgets/controls",
      "_model_module_version": "1.5.0",
      "_model_name": "HTMLModel",
      "_view_count": null,
      "_view_module": "@jupyter-widgets/controls",
      "_view_module_version": "1.5.0",
      "_view_name": "HTMLView",
      "description": "",
      "description_tooltip": null,
      "layout": "IPY_MODEL_61215c7cf1d84681a34ed07d82a3c278",
      "placeholder": "​",
      "style": "IPY_MODEL_b5388a501d584cf5a3ff361ae64ba658",
      "value": " 872/872 [00:00&lt;00:00, 5920.65 examples/s]"
     }
    },
    "efff74a42e974549a19feedd72f1d55a": {
     "model_module": "@jupyter-widgets/base",
     "model_module_version": "1.2.0",
     "model_name": "LayoutModel",
     "state": {
      "_model_module": "@jupyter-widgets/base",
      "_model_module_version": "1.2.0",
      "_model_name": "LayoutModel",
      "_view_count": null,
      "_view_module": "@jupyter-widgets/base",
      "_view_module_version": "1.2.0",
      "_view_name": "LayoutView",
      "align_content": null,
      "align_items": null,
      "align_self": null,
      "border": null,
      "bottom": null,
      "display": null,
      "flex": null,
      "flex_flow": null,
      "grid_area": null,
      "grid_auto_columns": null,
      "grid_auto_flow": null,
      "grid_auto_rows": null,
      "grid_column": null,
      "grid_gap": null,
      "grid_row": null,
      "grid_template_areas": null,
      "grid_template_columns": null,
      "grid_template_rows": null,
      "height": null,
      "justify_content": null,
      "justify_items": null,
      "left": null,
      "margin": null,
      "max_height": null,
      "max_width": null,
      "min_height": null,
      "min_width": null,
      "object_fit": null,
      "object_position": null,
      "order": null,
      "overflow": null,
      "overflow_x": null,
      "overflow_y": null,
      "padding": null,
      "right": null,
      "top": null,
      "visibility": "hidden",
      "width": null
     }
    },
    "f9ccf65f206b4b59af1e6f8aa7d2575e": {
     "model_module": "@jupyter-widgets/controls",
     "model_module_version": "1.5.0",
     "model_name": "DescriptionStyleModel",
     "state": {
      "_model_module": "@jupyter-widgets/controls",
      "_model_module_version": "1.5.0",
      "_model_name": "DescriptionStyleModel",
      "_view_count": null,
      "_view_module": "@jupyter-widgets/base",
      "_view_module_version": "1.2.0",
      "_view_name": "StyleView",
      "description_width": ""
     }
    },
    "fd432d5b35034b13b55d9d2bceb10ca7": {
     "model_module": "@jupyter-widgets/base",
     "model_module_version": "1.2.0",
     "model_name": "LayoutModel",
     "state": {
      "_model_module": "@jupyter-widgets/base",
      "_model_module_version": "1.2.0",
      "_model_name": "LayoutModel",
      "_view_count": null,
      "_view_module": "@jupyter-widgets/base",
      "_view_module_version": "1.2.0",
      "_view_name": "LayoutView",
      "align_content": null,
      "align_items": null,
      "align_self": null,
      "border": null,
      "bottom": null,
      "display": null,
      "flex": null,
      "flex_flow": null,
      "grid_area": null,
      "grid_auto_columns": null,
      "grid_auto_flow": null,
      "grid_auto_rows": null,
      "grid_column": null,
      "grid_gap": null,
      "grid_row": null,
      "grid_template_areas": null,
      "grid_template_columns": null,
      "grid_template_rows": null,
      "height": null,
      "justify_content": null,
      "justify_items": null,
      "left": null,
      "margin": null,
      "max_height": null,
      "max_width": null,
      "min_height": null,
      "min_width": null,
      "object_fit": null,
      "object_position": null,
      "order": null,
      "overflow": null,
      "overflow_x": null,
      "overflow_y": null,
      "padding": null,
      "right": null,
      "top": null,
      "visibility": null,
      "width": null
     }
    }
   }
  }
 },
 "nbformat": 4,
 "nbformat_minor": 4
}
